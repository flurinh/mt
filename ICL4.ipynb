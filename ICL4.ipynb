{
 "cells": [
  {
   "cell_type": "code",
   "execution_count": 1,
   "id": "twelve-keeping",
   "metadata": {},
   "outputs": [],
   "source": [
    "from utils import *"
   ]
  },
  {
   "cell_type": "markdown",
   "id": "preliminary-restoration",
   "metadata": {},
   "source": [
    "# Method 1: MANUAL EXTRACTION FROM GPCRdb"
   ]
  },
  {
   "cell_type": "code",
   "execution_count": 2,
   "id": "military-gospel",
   "metadata": {},
   "outputs": [],
   "source": [
    "pdbs, prots = getpdbsfiles()"
   ]
  },
  {
   "cell_type": "code",
   "execution_count": 3,
   "id": "incomplete-picking",
   "metadata": {},
   "outputs": [
    {
     "name": "stdout",
     "output_type": "stream",
     "text": [
      "['data/active/aa2ar_human_5G53.pdb', 'data/active/aa2ar_human_6GDG.pdb', 'data/active/adrb1_melga_7JJO.pdb', 'data/active/adrb2_human_3SN6.pdb', 'data/active/adrb2_human_6E67.pdb', 'data/active/adrb2_human_6NI3.pdb', 'data/active/adrb2_human_7BZ2.pdb', 'data/active/adrb2_human_7DHI.pdb', 'data/active/adrb2_human_7DHR.pdb', 'data/active/gpbar_human_7BW0.pdb', 'data/active/gpbar_human_7CFM.pdb', 'data/active/gpbar_human_7CFN.pdb', 'data/active/gpr52_human_6LI3.pdb', 'data/active/pe2r4_human_7D7M.pdb']\n"
     ]
    }
   ],
   "source": [
    "print(pdbs)"
   ]
  },
  {
   "cell_type": "code",
   "execution_count": 4,
   "id": "prostate-proof",
   "metadata": {},
   "outputs": [
    {
     "name": "stdout",
     "output_type": "stream",
     "text": [
      "['pe2r4_human', 'gpr52_human', 'gpbar_human', 'adrb2_human', 'adrb1_melga', 'aa2ar_human']\n"
     ]
    }
   ],
   "source": [
    "prots = list(set([x[-20:-9] for x in pdbs]))\n",
    "print(prots)\n"
   ]
  },
  {
   "cell_type": "code",
   "execution_count": 5,
   "id": "announced-borough",
   "metadata": {},
   "outputs": [
    {
     "name": "stdout",
     "output_type": "stream",
     "text": [
      "{'entry_name': 'pe2r4_human', 'name': 'EP<sub>4</sub> receptor', 'accession': 'P35408', 'family': '001_004_008_006', 'species': 'Homo sapiens', 'source': 'SWISSPROT', 'residue_numbering_scheme': 'GPCRdb(A)', 'sequence': 'MSTPGVNSSASLSPDRLNSPVTIPAVMFIFGVVGNLVAIVVLCKSRKEQKETTFYTLVCGLAVTDLLGTLLVSPVTIATYMKGQWPGGQPLCEYSTFILLFFSLSGLSIICAMSVERYLAINHAYFYSHYVDKRLAGLTLFAVYASNVLFCALPNMGLGSSRLQYPDTWCFIDWTTNVTAHAAYSYMYAGFSSFLILATVLCNVLVCGALLRMHRQFMRRTSLGTEQHHAAAAASVASRGHPAASPALPRLSDFRRRRSFRRIAGAEIQMVILLIATSLVVLICSIPLVVRVFVNQLYQPSLEREVSKNPDLQAIRIASVNPILDPWIYILLRKTVLSKAIEKIKCLFCRIGGSRRERSGQHCSDSQRTSSAMSGHSRSFISRELKEISSTSQTLLPDLSLPDLSENGLGGRNLLPGVPGMGLAQEDTTSLRTLRISETSDSSQGQDSESVLLVDEAGGSGRAGPAPKGSSLQVTFPSETLNLSEKCI', 'genes': ['PTGER4', 'PTGER2']}\n",
      "\n",
      "{'entry_name': 'gpr52_human', 'name': '<i>GPR52</i>', 'accession': 'Q9Y2T5', 'family': '001_011_001_028', 'species': 'Homo sapiens', 'source': 'SWISSPROT', 'residue_numbering_scheme': 'GPCRdb(A)', 'sequence': 'MNESRWTEWRILNMSSGIVNVSERHSCPLGFGHYSVVDVCIFETVVIVLLTFLIIAGNLTVIFVFHCAPLLHHYTTSYFIQTMAYADLFVGVSCLVPTLSLLHYSTGVHESLTCQVFGYIISVLKSVSMACLACISVDRYLAITKPLSYNQLVTPCRLRICIILIWIYSCLIFLPSFFGWGKPGYHGDIFEWCATSWLTSAYFTGFIVCLLYAPAAFVVCFTYFHIFKICRQHTKEINDRRARFPSHEVDSSRETGHSPDRRYAMVLFRITSVFYMLWLPYIIYFLLESSRVLDNPTLSFLTTWLAISNSFCNCVIYSLSNSVFRLGLRRLSETMCTSCMCVKDQEAQEPKPRKRANSCSI', 'genes': ['GPR52', 'ECO:0000312|HGNC:HGNC:4508}']}\n",
      "\n",
      "{'entry_name': 'gpbar_human', 'name': 'GPBA receptor', 'accession': 'Q8TDU6', 'family': '001_007_001_001', 'species': 'Homo sapiens', 'source': 'SWISSPROT', 'residue_numbering_scheme': 'GPCRdb(A)', 'sequence': 'MTPNSTGEVPSPIPKGALGLSLALASLIITANLLLALGIAWDRRLRSPPAGCFFLSLLLAGLLTGLALPTLPGLWNQSRRGYWSCLLVYLAPNFSFLSLLANLLLVHGERYMAVLRPLQPPGSIRLALLLTWAGPLLFASLPALGWNHWTPGANCSSQAIFPAPYLYLEVYGLLLPAVGAAAFLSVRVLATAHRQLQDICRLERAVCRDEPSALARALTWRQARAQAGAMLLFGLCWGPYVATLLLSVLAYEQRPPLGPGTLLSLLSLGSASAAAVPVAMGLGDQRYTAPWRAAAQRCLQGLWGRASRDSPGPSIAYHPSSQSSVDLDLN', 'genes': ['GPBAR1', 'TGR5']}\n",
      "\n",
      "{'entry_name': 'adrb2_human', 'name': '&beta;<sub>2</sub>-adrenoceptor', 'accession': 'P07550', 'family': '001_001_003_008', 'species': 'Homo sapiens', 'source': 'SWISSPROT', 'residue_numbering_scheme': 'GPCRdb(A)', 'sequence': 'MGQPGNGSAFLLAPNGSHAPDHDVTQERDEVWVVGMGIVMSLIVLAIVFGNVLVITAIAKFERLQTVTNYFITSLACADLVMGLAVVPFGAAHILMKMWTFGNFWCEFWTSIDVLCVTASIETLCVIAVDRYFAITSPFKYQSLLTKNKARVIILMVWIVSGLTSFLPIQMHWYRATHQEAINCYANETCCDFFTNQAYAIASSIVSFYVPLVIMVFVYSRVFQEAKRQLQKIDKSEGRFHVQNLSQVEQDGRTGHGLRRSSKFCLKEHKALKTLGIIMGTFTLCWLPFFIVNIVHVIQDNLIRKEVYILLNWIGYVNSGFNPLIYCRSPDFRIAFQELLCLRRSSLKAYGNGYSSNGNTGEQSGYHVEQEKENKLLCEDLPGTEDFVGHQGTVPSDNIDSQGRNCSTNDSLL', 'genes': ['ADRB2', 'ADRB2R', 'B2AR']}\n",
      "\n",
      "{'entry_name': 'adrb1_melga', 'name': '&beta;<sub>1</sub>-adrenoceptor', 'accession': 'P07700', 'family': '001_001_003_007', 'species': 'Meleagris gallopavo', 'source': 'SWISSPROT', 'residue_numbering_scheme': 'GPCRdb(A)', 'sequence': 'MGDGWLPPDCGPHNRSGGGGATAAPTGSRQVSAELLSQQWEAGMSLLMALVVLLIVAGNVLVIAAIGRTQRLQTLTNLFITSLACADLVMGLLVVPFGATLVVRGTWLWGSFLCECWTSLDVLCVTASIETLCVIAIDRYLAITSPFRYQSLMTRARAKVIICTVWAISALVSFLPIMMHWWRDEDPQALKCYQDPGCCDFVTNRAYAIASSIISFYIPLLIMIFVYLRVYREAKEQIRKIDRCEGRFYGSQEQPQPPPLPQHQPILGNGRASKRKTSRVMAMREHKALKTLGIIMGVFTLCWLPFFLVNIVNVFNRDLVPDWLFVFFNWLGYANSAFNPIIYCRSPDFRKAFKRLLCFPRKADRRLHAGGQPAPLPGGFISTLGSPEHSPGGTWSDCNGGTRGGSESSLEERHSKTSRSESKMEREKNILATTRFYCTFLGNGDKAVFCTVLRIVKLFEDATCTCPHTHKLKMKWRFKQHQA', 'genes': ['ADRB1']}\n",
      "\n",
      "{'entry_name': 'aa2ar_human', 'name': 'A<sub>2A</sub> receptor', 'accession': 'P29274', 'family': '001_006_001_002', 'species': 'Homo sapiens', 'source': 'SWISSPROT', 'residue_numbering_scheme': 'GPCRdb(A)', 'sequence': 'MPIMGSSVYITVELAIAVLAILGNVLVCWAVWLNSNLQNVTNYFVVSLAAADIAVGVLAIPFAITISTGFCAACHGCLFIACFVLVLTQSSIFSLLAIAIDRYIAIRIPLRYNGLVTGTRAKGIIAICWVLSFAIGLTPMLGWNNCGQPKEGKNHSQGCGEGQVACLFEDVVPMNYMVYFNFFACVLVPLLLMLGVYLRIFLAARRQLKQMESQPLPGERARSTLQKEVHAAKSLAIIVGLFALCWLPLHIINCFTFFCPDCSHAPLWLMYLAIVLSHTNSVVNPFIYAYRIREFRQTFRKIIRSHVLRQQEPFKAAGTSARVLAAHGSDGEQVSLRLNGHPPGVWANGSAPHPERRPNGYALGLVSGGSAQESQGNTGLPDVELLSHELKGVCPEPPGLDDPLAQDGAGVS', 'genes': ['ADORA2A', 'ADORA2']}\n",
      "\n"
     ]
    }
   ],
   "source": [
    "for p in prots:\n",
    "    seq = get_seq(p)\n",
    "    print()"
   ]
  },
  {
   "cell_type": "code",
   "execution_count": 6,
   "id": "sonic-trademark",
   "metadata": {},
   "outputs": [],
   "source": [
    "# Get secondary structure"
   ]
  },
  {
   "cell_type": "code",
   "execution_count": 6,
   "id": "complete-uncle",
   "metadata": {},
   "outputs": [],
   "source": []
  },
  {
   "cell_type": "code",
   "execution_count": 6,
   "id": "stretch-nation",
   "metadata": {},
   "outputs": [],
   "source": []
  },
  {
   "cell_type": "code",
   "execution_count": 6,
   "id": "level-influence",
   "metadata": {},
   "outputs": [],
   "source": []
  },
  {
   "cell_type": "code",
   "execution_count": 6,
   "id": "freelance-whale",
   "metadata": {},
   "outputs": [],
   "source": []
  },
  {
   "cell_type": "code",
   "execution_count": 7,
   "id": "drawn-keeping",
   "metadata": {},
   "outputs": [],
   "source": [
    "# Get angles"
   ]
  },
  {
   "cell_type": "code",
   "execution_count": 7,
   "id": "important-description",
   "metadata": {},
   "outputs": [],
   "source": []
  },
  {
   "cell_type": "code",
   "execution_count": 7,
   "id": "stock-syndication",
   "metadata": {},
   "outputs": [],
   "source": []
  },
  {
   "cell_type": "markdown",
   "id": "valuable-reset",
   "metadata": {
    "heading_collapsed": true
   },
   "source": [
    "# Method 2: Uniprot list"
   ]
  },
  {
   "cell_type": "code",
   "execution_count": 8,
   "id": "governing-masters",
   "metadata": {
    "hidden": true
   },
   "outputs": [
    {
     "ename": "FileNotFoundError",
     "evalue": "[Errno 2] No such file or directory: 'data/uniprot/uniprot_7tmrlist.txt'",
     "output_type": "error",
     "traceback": [
      "\u001B[1;31m---------------------------------------------------------------------------\u001B[0m",
      "\u001B[1;31mFileNotFoundError\u001B[0m                         Traceback (most recent call last)",
      "\u001B[1;32m<ipython-input-8-849b91277ccb>\u001B[0m in \u001B[0;36m<module>\u001B[1;34m\u001B[0m\n\u001B[1;32m----> 1\u001B[1;33m \u001B[0mdata\u001B[0m \u001B[1;33m=\u001B[0m \u001B[0mgetuniprot\u001B[0m\u001B[1;33m(\u001B[0m\u001B[1;33m)\u001B[0m\u001B[1;33m\u001B[0m\u001B[1;33m\u001B[0m\u001B[0m\n\u001B[0m\u001B[0;32m      2\u001B[0m \u001B[1;33m\u001B[0m\u001B[0m\n",
      "\u001B[1;32m~\\PycharmProjects\\mt\\utils.py\u001B[0m in \u001B[0;36mgetuniprot\u001B[1;34m(path)\u001B[0m\n\u001B[0;32m     15\u001B[0m \u001B[1;32mdef\u001B[0m \u001B[0mgetuniprot\u001B[0m\u001B[1;33m(\u001B[0m\u001B[0mpath\u001B[0m\u001B[1;33m=\u001B[0m\u001B[1;34m'data/uniprot/'\u001B[0m\u001B[1;33m)\u001B[0m\u001B[1;33m:\u001B[0m\u001B[1;33m\u001B[0m\u001B[1;33m\u001B[0m\u001B[0m\n\u001B[0;32m     16\u001B[0m     \u001B[0mpath\u001B[0m \u001B[1;33m+=\u001B[0m \u001B[1;34m'uniprot_7tmrlist.txt'\u001B[0m\u001B[1;33m\u001B[0m\u001B[1;33m\u001B[0m\u001B[0m\n\u001B[1;32m---> 17\u001B[1;33m     \u001B[1;32mwith\u001B[0m \u001B[0mopen\u001B[0m\u001B[1;33m(\u001B[0m\u001B[0mpath\u001B[0m\u001B[1;33m)\u001B[0m \u001B[1;32mas\u001B[0m \u001B[0mf\u001B[0m\u001B[1;33m:\u001B[0m\u001B[1;33m\u001B[0m\u001B[1;33m\u001B[0m\u001B[0m\n\u001B[0m\u001B[0;32m     18\u001B[0m          \u001B[0mul\u001B[0m \u001B[1;33m=\u001B[0m \u001B[0mf\u001B[0m\u001B[1;33m.\u001B[0m\u001B[0mreadlines\u001B[0m\u001B[1;33m(\u001B[0m\u001B[1;33m)\u001B[0m\u001B[1;33m\u001B[0m\u001B[1;33m\u001B[0m\u001B[0m\n\u001B[0;32m     19\u001B[0m     \u001B[0mhuman_gpcr\u001B[0m \u001B[1;33m=\u001B[0m \u001B[1;33m[\u001B[0m\u001B[1;33m]\u001B[0m\u001B[1;33m\u001B[0m\u001B[1;33m\u001B[0m\u001B[0m\n",
      "\u001B[1;31mFileNotFoundError\u001B[0m: [Errno 2] No such file or directory: 'data/uniprot/uniprot_7tmrlist.txt'"
     ]
    }
   ],
   "source": [
    "data = getuniprot()"
   ]
  },
  {
   "cell_type": "code",
   "execution_count": null,
   "id": "popular-motor",
   "metadata": {
    "hidden": true
   },
   "outputs": [],
   "source": [
    "data"
   ]
  },
  {
   "cell_type": "code",
   "execution_count": null,
   "id": "played-affair",
   "metadata": {
    "hidden": true
   },
   "outputs": [],
   "source": [
    "id_list = data['id'].tolist()\n",
    "q = ''\n",
    "for _ in id_list:\n",
    "    q+=_+' '"
   ]
  },
  {
   "cell_type": "code",
   "execution_count": null,
   "id": "interstate-campaign",
   "metadata": {
    "hidden": true
   },
   "outputs": [],
   "source": [
    "import urllib\n",
    "code = \"Q7Z7W5\"\n",
    "data = urllib.urlopen(\"http://www.uniprot.org/uniprot/\" + code + \".txt\").read()"
   ]
  },
  {
   "cell_type": "code",
   "execution_count": null,
   "id": "stock-whole",
   "metadata": {
    "hidden": true
   },
   "outputs": [],
   "source": [
    "import urllib.parse\n",
    "import urllib.request\n",
    "\n",
    "url = 'https://www.uniprot.org/uploadlists/'\n",
    "\n",
    "params = {\n",
    "'from': 'ACC+ID',\n",
    "'to': 'ENSEMBL_ID',\n",
    "'format': 'tab',\n",
    "'query': q\n",
    "}\n",
    "\n",
    "data = urllib.parse.urlencode(params)\n",
    "data = data.encode('utf-8')\n",
    "req = urllib.request.Request(url, data)\n",
    "with urllib.request.urlopen(req) as f:\n",
    "    response = f.read()\n",
    "print(response.decode('utf-8'))"
   ]
  },
  {
   "cell_type": "code",
   "execution_count": null,
   "id": "banned-citizenship",
   "metadata": {
    "hidden": true
   },
   "outputs": [],
   "source": []
  },
  {
   "cell_type": "code",
   "execution_count": null,
   "id": "conceptual-shoulder",
   "metadata": {
    "hidden": true
   },
   "outputs": [],
   "source": [
    "from Bio import SeqIO\n",
    "\n",
    "\n",
    "uniprot = SeqIO.index(\"uniprot_sprot.dat\", \"swiss\")\n",
    "with open(\"selected.dat\", \"wb\") as out_handle:\n",
    "    for acc in [\"P33487\", \"P19801\", \"P13689\", \"Q8JZQ5\", \"Q9TRC7\"]:\n",
    "        out_handle.write(uniprot.get_raw(acc))"
   ]
  },
  {
   "cell_type": "code",
   "execution_count": null,
   "id": "controlling-consultation",
   "metadata": {
    "hidden": true
   },
   "outputs": [],
   "source": []
  },
  {
   "cell_type": "code",
   "execution_count": null,
   "id": "boolean-interview",
   "metadata": {
    "hidden": true
   },
   "outputs": [],
   "source": []
  },
  {
   "cell_type": "code",
   "execution_count": null,
   "id": "framed-attitude",
   "metadata": {
    "hidden": true
   },
   "outputs": [],
   "source": []
  },
  {
   "cell_type": "markdown",
   "id": "chief-master",
   "metadata": {
    "hidden": true
   },
   "source": [
    "## PDB structure query"
   ]
  },
  {
   "cell_type": "code",
   "execution_count": null,
   "id": "surprised-assets",
   "metadata": {
    "hidden": true
   },
   "outputs": [],
   "source": [
    "# 1 map uniprot id to pdb id"
   ]
  },
  {
   "cell_type": "code",
   "execution_count": null,
   "id": "studied-danish",
   "metadata": {
    "hidden": true
   },
   "outputs": [],
   "source": [
    "# check if structure exists"
   ]
  },
  {
   "cell_type": "code",
   "execution_count": null,
   "id": "european-questionnaire",
   "metadata": {
    "hidden": true
   },
   "outputs": [],
   "source": [
    "# check if docking / complex structure exists"
   ]
  },
  {
   "cell_type": "code",
   "execution_count": null,
   "id": "historic-platinum",
   "metadata": {
    "hidden": true
   },
   "outputs": [],
   "source": []
  },
  {
   "cell_type": "markdown",
   "id": "variable-graphics",
   "metadata": {
    "hidden": true
   },
   "source": [
    "## Secondary structure ID / Alignment"
   ]
  },
  {
   "cell_type": "code",
   "execution_count": null,
   "id": "american-ozone",
   "metadata": {
    "hidden": true
   },
   "outputs": [],
   "source": []
  },
  {
   "cell_type": "code",
   "execution_count": null,
   "id": "moved-organization",
   "metadata": {
    "hidden": true
   },
   "outputs": [],
   "source": []
  },
  {
   "cell_type": "code",
   "execution_count": null,
   "id": "embedded-contamination",
   "metadata": {
    "hidden": true
   },
   "outputs": [],
   "source": []
  },
  {
   "cell_type": "markdown",
   "id": "excited-phase",
   "metadata": {},
   "source": [
    "# Remark: PRECOG"
   ]
  },
  {
   "cell_type": "code",
   "execution_count": null,
   "id": "optical-capitol",
   "metadata": {},
   "outputs": [],
   "source": []
  }
 ],
 "metadata": {
  "kernelspec": {
   "display_name": "Python 3",
   "language": "python",
   "name": "python3"
  },
  "language_info": {
   "codemirror_mode": {
    "name": "ipython",
    "version": 3
   },
   "file_extension": ".py",
   "mimetype": "text/x-python",
   "name": "python",
   "nbconvert_exporter": "python",
   "pygments_lexer": "ipython3",
   "version": "3.9.1"
  }
 },
 "nbformat": 4,
 "nbformat_minor": 5
}