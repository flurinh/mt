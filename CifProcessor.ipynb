{
 "cells": [
  {
   "cell_type": "markdown",
   "id": "adopted-sport",
   "metadata": {
    "heading_collapsed": true
   },
   "source": [
    "# IMPORTS "
   ]
  },
  {
   "cell_type": "code",
   "execution_count": 56,
   "id": "defensive-trail",
   "metadata": {
    "hidden": true
   },
   "outputs": [],
   "source": [
    "from utils import *\n",
    "from utils2 import * \n",
    "from utils3 import *\n",
    "from plotting import *\n",
    "from gpcrdb_soup import *"
   ]
  },
  {
   "cell_type": "code",
   "execution_count": 57,
   "id": "atlantic-animal",
   "metadata": {
    "hidden": true
   },
   "outputs": [],
   "source": [
    "from tqdm import tqdm, trange"
   ]
  },
  {
   "cell_type": "code",
   "execution_count": 58,
   "id": "following-supply",
   "metadata": {
    "hidden": true
   },
   "outputs": [],
   "source": [
    "import sys\n",
    "import pandas\n",
    "import gemmi\n",
    "from gemmi import cif\n",
    "import random\n",
    "from math import degrees\n",
    "import mplcursors"
   ]
  },
  {
   "cell_type": "markdown",
   "id": "restricted-japanese",
   "metadata": {
    "heading_collapsed": true
   },
   "source": [
    "# PROCESSOR"
   ]
  },
  {
   "cell_type": "code",
   "execution_count": 59,
   "id": "adequate-mistress",
   "metadata": {
    "hidden": true
   },
   "outputs": [],
   "source": [
    "class CifProcessor():\n",
    "    def __init__(self, \n",
    "                 path = 'data/',\n",
    "                 structure = 'mmcif/',\n",
    "                 starting_idx=0,\n",
    "                 limit=None,\n",
    "                 shuffle = False,\n",
    "                 reload=True,\n",
    "                 remove_hetatm=True,\n",
    "                 allow_exception=False):\n",
    "        self.path = path\n",
    "        self.structure_path = self.path + structure\n",
    "        self.path_table = path + 'gpcrdb/' + 'structures.pkl'\n",
    "        \n",
    "        self.shuffle = shuffle\n",
    "        self.limit = limit\n",
    "        self.reload = reload\n",
    "        self.remove_hetatm = remove_hetatm\n",
    "        self.allow_exception = allow_exception\n",
    "        \n",
    "        self.filenames, self.pdb_ids = self.get_pdb_files()\n",
    "        self.filenames = self.filenames[starting_idx:]\n",
    "        self.pdb_ids = self.pdb_ids[starting_idx:]\n",
    "        if self.limit == None:\n",
    "            self.limit = len(self.pdb_ids)\n",
    "        if len(self.filenames) > self.limit:\n",
    "            self.filenames = self.filenames[:self.limit]\n",
    "            self.pdb_ids = self.pdb_ids[:self.limit]\n",
    "        # Columns for structure dataframe\n",
    "        self.cols = ['group_PDB', 'auth_asym_id', 'label_asym_id', 'label_seq_id', 'auth_seq_id', \n",
    "                     'label_comp_id', 'id', 'label_atom_id', \n",
    "                     'type_symbol', 'Cartn_x', 'Cartn_y', 'Cartn_z']\n",
    "        self.numbering = pd.DataFrame()\n",
    "                \n",
    "    # ==============================================================================================================\n",
    "    \n",
    "    def get_pdb_files(self):\n",
    "        # just a helper function that returns all pdb files in specified path\n",
    "        (_, _, filenames) = next(os.walk(self.structure_path))\n",
    "        if self.shuffle:\n",
    "            random.shuffle(filenames)\n",
    "        files = [self.structure_path + x for x in filenames]\n",
    "        pdb_ids = list(set([x[-8:-4] for x in files]))\n",
    "        return files, pdb_ids\n",
    "    \n",
    "    def make_metainfo(self):\n",
    "        self.table = pd.read_pickle(self.path_table)\n",
    "        for i, pdb_id in tqdm(enumerate(self.pdb_ids)):\n",
    "            if i < self.limit:\n",
    "                protein, family = self.get_prot_info(pdb_id)\n",
    "                if protein == None:\n",
    "                    pass\n",
    "                else:\n",
    "                    numbering = self.get_res_nums(protein)\n",
    "                    if i == 0:\n",
    "                        self.mappings = self.get_mapping(pdb_id)\n",
    "                        numb = pd.DataFrame([pdb_id, protein, family, numbering]).T\n",
    "                        # numb = [pdb_id, protein, self.entry_to_ac(protein), family, numbering]\n",
    "                        numb.columns = ['PDB', 'identifier', 'family', 'numbering']\n",
    "                        self.numbering = self.numbering.append(numb)\n",
    "                    else:\n",
    "                        self.mappings = self.mappings.append(self.get_mapping(pdb_id), ignore_index=True)\n",
    "                        numb = pd.DataFrame(data=[pdb_id, protein, family, numbering]).T\n",
    "                        numb.columns = ['PDB', 'identifier', 'family', 'numbering']\n",
    "                        self.numbering = self.numbering.append(numb, ignore_index=True)\n",
    "\n",
    "    def make_raws(self):\n",
    "        for i, pdb_id in tqdm(enumerate(self.pdb_ids)):\n",
    "            if i < self.limit:\n",
    "                # only process if the file has not already been generated\n",
    "                # if not self.reload & \n",
    "                protein, family = self.get_prot_info(pdb_id)\n",
    "                if protein != None:\n",
    "                    if i == 0:\n",
    "                        self.structure = self.load_cifs(pdb_id)\n",
    "                        self.structure['identifier'] = protein.upper()\n",
    "                        if self.remove_hetatm:\n",
    "                            self.structure = self.structure[self.structure['group_PDB']!='HETATM']\n",
    "                            self.structure['label_seq_id'] = self.structure['label_seq_id'].astype(np.int64)\n",
    "                        self.structure['label_comp_sid'] = self.structure.apply(lambda x:\n",
    "                                                            gemmi.find_tabulated_residue(x.label_comp_id).one_letter_code, \n",
    "                                                            axis=1)\n",
    "                    else:\n",
    "                        structure = self.load_cifs(pdb_id)\n",
    "                        structure['identifier'] = protein.upper()\n",
    "                        if self.remove_hetatm:\n",
    "                            structure = structure[structure['group_PDB']!='HETATM']\n",
    "                            structure['label_seq_id'] = structure['label_seq_id'].astype(np.int64)\n",
    "                        structure['label_comp_sid'] = structure.apply(lambda x:\n",
    "                                                            gemmi.find_tabulated_residue(x.label_comp_id).one_letter_code, \n",
    "                                                            axis=1)\n",
    "                        self.structure = self.structure.append(structure, ignore_index=True)\n",
    "         \n",
    "    # ==============================================================================================================\n",
    "        \n",
    "    def entry_to_ac(self, entry: str):\n",
    "        query = 'https://www.uniprot.org/uniprot/'+entry+'.txt'\n",
    "        response = requests.get(query)\n",
    "        return response.text.split('\\n')[1].split('AC   ')[1][:6]\n",
    "    \n",
    "    def get_prot_info(self, pdb_id):\n",
    "        # query structure\n",
    "        query = 'https://gpcrdb.org/services/structure/'+pdb_id.upper()+'/'\n",
    "        response = requests.get(query)\n",
    "        if len(response.json()) > 0:\n",
    "            protein = response.json()['protein']\n",
    "            family = response.json()['family']\n",
    "            return protein, family\n",
    "        else:\n",
    "            return None, None\n",
    "    \n",
    "    def get_res_nums(self, protein):\n",
    "        # query uniprot -> res num\n",
    "        query = 'https://gpcrdb.org/services/residues/extended/'+protein+'/'\n",
    "        response = requests.get(query)\n",
    "        # select res num\n",
    "        # assign res_num to structure data\n",
    "        return response.json()\n",
    "    \n",
    "    def get_mapping(self, pdb_id):\n",
    "        maps = get_mappings_data(pdb_id)[pdb_id.lower()]['UniProt']\n",
    "        uniprots = maps.keys()\n",
    "        full_table=pd.DataFrame()\n",
    "        for i, uniprot in enumerate(uniprots):\n",
    "            table = pd.DataFrame.from_dict(maps[uniprot])\n",
    "            table['PDB'] = pdb_id\n",
    "            table['uniprot'] = uniprot\n",
    "            if i == 0:\n",
    "                full_table = table\n",
    "            else:\n",
    "                full_table = full_table.append(table, ignore_index=True)\n",
    "        return full_table\n",
    "    \n",
    "    # ==============================================================================================================\n",
    "    \n",
    "    def load_cifs(self, pdb_id):\n",
    "        path = 'data/mmcif/' + pdb_id + '.cif'\n",
    "        try:\n",
    "            doc = cif.read_file(path)  # copy all the data from mmCIF file\n",
    "            lol = []  # list of lists\n",
    "            for b, block in enumerate(doc):\n",
    "                table = block.find('_atom_site.', self.cols)\n",
    "                for row in table:\n",
    "                    lol.append([pdb_id]+list(row))\n",
    "        \n",
    "        except Exception as e:\n",
    "            print(\"Hoppla. %s\" % e)\n",
    "            sys.exit(1)\n",
    "        cols = ['PDB']+self.cols\n",
    "        st = gemmi.read_structure(path)\n",
    "        model = st[0]\n",
    "        if len(st) > 1:\n",
    "            print(\"There are multiple models!\")\n",
    "        rol = []\n",
    "        for chain in model:\n",
    "            for r, res in enumerate(chain.get_polymer()):\n",
    "                # previous_residue() and next_residue() return previous/next\n",
    "                # residue only if the residues are bonded. Otherwise -- None.\n",
    "                prev_res = chain.previous_residue(res)\n",
    "                next_res = chain.next_residue(res)\n",
    "                try:\n",
    "                    phi, psi = gemmi.calculate_phi_psi(prev_res, res, next_res)\n",
    "                except:\n",
    "                    phi, psi = np.nan, np.nan\n",
    "                try:\n",
    "                    omega = gemmi.calculate_omega(res, next_res)\n",
    "                except:\n",
    "                    omega = np.nan\n",
    "                rol.append([res.label_seq, res.subchain, \n",
    "                            degrees(phi), degrees(omega), degrees(psi)])\n",
    "        cols2 = ['label_seq_id', 'label_asym_id', 'phi', 'omega', 'psi']\n",
    "        rol_df = pd.DataFrame(data=rol, columns=cols2)\n",
    "        rol_df['label_seq_id'] = rol_df['label_seq_id'].astype(int)\n",
    "        lol_df = pd.DataFrame(data=lol, columns=cols)\n",
    "        lol_df['label_seq_id'] = lol_df.apply(lambda x: int(x.label_seq_id) if x.label_seq_id != '.' else np.nan, axis=1)\n",
    "        return pd.merge(lol_df, rol_df, how='inner', on=['label_asym_id', 'label_seq_id'])\n",
    "    \n",
    "    # ==============================================================================================================   \n",
    "            \n",
    "    def to_pkl_metainfo(self):\n",
    "        self.numbering.to_pickle(self.path + 'data_numbering.pkl')\n",
    "        self.table.to_pickle(self.path + 'data_table.pkl')\n",
    "        self.mappings.to_pickle(self.path + 'data_mappings.pkl')\n",
    "    \n",
    "    def to_pkl_raw(self, folder='data/raw/', overwrite=False):\n",
    "        for pdb_id in self.pdb_ids:\n",
    "            structure = self.structure[self.structure['PDB']==pdb_id]\n",
    "            if len(structure) >= 1:\n",
    "                if (not os.path.isfile(folder + pdb_id + '.pkl')) or overwrite:\n",
    "                    structure.to_pickle(folder + pdb_id + '.pkl')\n",
    "                    print(\"writing to file:\", folder + pdb_id + '.pkl')\n",
    "    \n",
    "    def to_pkl_processed(self, folder='data/processed/', overwrite=False):\n",
    "        for df in self.dfl:\n",
    "            pdb_id = df['PDB'].unique()[0]\n",
    "            if (not os.path.isfile(folder + pdb_id + '.pkl')) or overwrite:\n",
    "                df.to_pickle(folder + pdb_id + '.pkl')\n",
    "                print(\"writing to file:\", folder + pdb_id + '.pkl')\n",
    "    \n",
    "    # ==============================================================================================================   \n",
    "    \n",
    "    def del_pkl(self, folder='data/raw/'):\n",
    "        files = [f for f in os.listdir(folder) if '.pkl' in f]\n",
    "        for file in files:\n",
    "            os.remove(folder + file)\n",
    "    \n",
    "    def del_pkl_metainfo(self):\n",
    "        os.remove(self.path + 'data_numbering.pkl')\n",
    "        os.remove(self.path + 'data_table.pkl')\n",
    "        os.remove(self.path + 'data_mappings.pkl')\n",
    "            \n",
    "    # ==============================================================================================================\n",
    "    \n",
    "    def read_pkl_raw(self):\n",
    "        # not needed atm\n",
    "        pass\n",
    "    \n",
    "    def read_pkl_processed(self, folder='data/processed/'):\n",
    "        files = [f for f in os.listdir(folder) if '.pkl' in f]\n",
    "        self.dfl = []\n",
    "        for f in files:\n",
    "            self.dfl.append(pd.read_pickle(folder+f).reset_index().drop('index', axis=1))\n",
    "    \n",
    "    def read_pkl_metainfo(self):\n",
    "        self.numbering = pd.read_pickle(self.path + 'data_numbering.pkl')\n",
    "        self.table = pd.read_pickle(self.path + 'data_table.pkl')\n",
    "        self.mappings = pd.read_pickle(self.path + 'data_mappings.pkl')\n",
    "    \n",
    "    # ==============================================================================================================    \n",
    "    \n",
    "    def get_stacked_maps(self, pdb):\n",
    "        # add gene to mapping\n",
    "        mappings_ = self.mappings[self.mappings['PDB']==pdb]\n",
    "        pref_chain = self.table[self.table['PDB']==pdb.upper()]['Preferred Chain'].iloc[0]\n",
    "        map_df_list = []\n",
    "        for j in range(len(mappings_)):\n",
    "            chain = pd.DataFrame.from_dict(mappings_.iloc[j]['mappings'])['chain_id'].iloc[0]\n",
    "            identifier = mappings_.iloc[j]['name']\n",
    "            dict_ = pd.DataFrame.from_dict(mappings_.iloc[j]['mappings'])\n",
    "            dict_['identifier'] = identifier\n",
    "            map_df_list.append(pd.DataFrame.from_dict(dict_))\n",
    "        _ = pd.concat(map_df_list)\n",
    "        _ = _[_['chain_id']==pref_chain]\n",
    "        _['PDB'] = pdb\n",
    "        return _\n",
    "\n",
    "\n",
    "    def get_generic_nums(self, pdb_id):\n",
    "        sequence_numbers = []\n",
    "        amino_acids = []\n",
    "        generic_numbers = []\n",
    "        for i in self.numbering[self.numbering['PDB']==pdb_id].iloc[0]['numbering']:\n",
    "            if i['alternative_generic_numbers'] != []:\n",
    "                sequence_numbers.append(i['sequence_number'])\n",
    "                amino_acids.append(i['amino_acid'])\n",
    "                generic_numbers.append(i['display_generic_number'])\n",
    "        return list(zip(sequence_numbers, amino_acids, generic_numbers))\n",
    "\n",
    "\n",
    "    def get_generic_number(self, zipped_pos_dict, l2u, comp_sid):\n",
    "        if l2u >= 0:\n",
    "            if l2u in list(zip(*zipped_pos_dict))[0]:\n",
    "                idx = list(zip(*zipped_pos_dict))[0].index(l2u)\n",
    "                row = zipped_pos_dict[idx]\n",
    "                if row[1] == comp_sid:\n",
    "                    return row[2], row[1], float(row[2].split('x')[0]), int(row[2].split('x')[1])\n",
    "                else:\n",
    "                    return row[2]+'?', row[1], float(row[2].split('x')[0]), int(row[2].split('x')[1])\n",
    "            else:\n",
    "                return ['', '', 0, 0]\n",
    "        else:\n",
    "            return ['', '', 0, 0]\n",
    "\n",
    "\n",
    "    def assign_generic_numbers_(self, pdb_id, overwrite, folder):\n",
    "        data = pd.read_pickle(folder + pdb_id + '.pkl').reset_index().drop('index', axis=1)\n",
    "        print(\"loaded data to assign gen. numbers from\", folder + pdb_id + '.pkl')\n",
    "        cols = data.columns\n",
    "        columns = ['gen_pos', 'gen_pos1', 'gen_pos2', 'uniprot_comp_sid']\n",
    "        _ = [i for i in columns if i in cols]\n",
    "        if len(_) > 0:\n",
    "            if overwrite:\n",
    "                data.drop(_, axis=1, inplace=True)\n",
    "                data['label_2_uni'] = 0\n",
    "                data[columns[0]] = ''\n",
    "                data[columns[1]] = 0\n",
    "                data[columns[2]] = 0\n",
    "                data[columns[3]] = ''\n",
    "            else:\n",
    "                return data\n",
    "        else:\n",
    "            data['label_2_uni'] = 0\n",
    "            data[columns[0]] = ''\n",
    "            data[columns[1]] = 0\n",
    "            data[columns[2]] = 0\n",
    "            data[columns[3]] = ''\n",
    "        maps_stacked = self.get_stacked_maps(pdb_id)\n",
    "        if 'residue_number' in maps_stacked.index:\n",
    "            pass\n",
    "        else:\n",
    "            return data\n",
    "        if type(maps_stacked[maps_stacked['PDB']==pdb_id].\\\n",
    "                loc['residue_number'][['chain_id', 'start','end','unp_start','unp_end', 'identifier', 'PDB']])\\\n",
    "                    == pandas.core.series.Series:\n",
    "            pref_mapping = maps_stacked[maps_stacked['PDB']==pdb_id].loc['residue_number']\\\n",
    "                [['chain_id', 'start','end','unp_start','unp_end', 'identifier', 'PDB']].to_frame().T\n",
    "        else:\n",
    "            pref_mapping = maps_stacked[maps_stacked['PDB']==pdb_id].\\\n",
    "                loc['residue_number'][['chain_id', 'start','end','unp_start','unp_end', 'identifier', 'PDB']]\n",
    "        pref_chain = pref_mapping['chain_id'].iloc[0]\n",
    "        pref_mapping = pref_mapping.sort_values('start')\n",
    "        uniprot_identifier_ = data[data['PDB']==pdb_id]['identifier'].unique()\n",
    "        uniprot_identifier = uniprot_identifier_[0]\n",
    "        natoms = len(data[data['PDB']==pdb_id])\n",
    "        \n",
    "        for j in range(len(pref_mapping)):\n",
    "            row = pref_mapping.iloc[j].to_dict()\n",
    "            map_identifier = row['identifier']\n",
    "            map_pdb = row['PDB']\n",
    "            start_label_seq_id = row['start']\n",
    "            start_uniprot = row['unp_start']\n",
    "            end_label_seq_id = row['end']\n",
    "            end_uniprot = row['unp_end']\n",
    "            if map_identifier == uniprot_identifier:\n",
    "                idxs = [x for x in range(natoms+1) \\\n",
    "                        if ((x <= end_label_seq_id) & (x >= start_label_seq_id))]\n",
    "                vals = [x + start_uniprot - start_label_seq_id for x in range(natoms+1) \\\n",
    "                        if ((x <= end_label_seq_id) & (x >= start_label_seq_id))]\n",
    "                for k, idx in enumerate(idxs):\n",
    "                    line = data[(data['PDB'] == pdb_id) &\n",
    "                                (data['label_seq_id'] == idx) &\n",
    "                                (data['label_atom_id'] == 'CA')]\n",
    "                    lines = len(line)\n",
    "                    if len(line) > 1:\n",
    "                        line = line[line['auth_asym_id'] == pref_chain]\n",
    "                    if len(line) > 0:\n",
    "                        data.at[line.index[0], 'label_2_uni'] = int(vals[k])\n",
    "            else:\n",
    "                # Didnt find correct uniprotmap (not a gpcr) ==> map_identifier\n",
    "                pass\n",
    "        # Generate generic numbers\n",
    "        zipped_pos_dict = self.get_generic_nums(pdb_id)\n",
    "        if type(data) == pandas.core.series.Series:\n",
    "            data = data.to_frame().T\n",
    "        \n",
    "        data[['gen_pos', 'uniprot_comp_sid', 'gen_pos1', 'gen_pos2']] = data.\\\n",
    "            apply(lambda x: self.get_generic_number(zipped_pos_dict, x.label_2_uni, x.label_comp_sid) if x.PDB==pdb_id\\\n",
    "                  else [x.gen_pos, x.uniprot_comp_sid, x.gen_pos1, x.gen_pos2], axis=1, result_type='expand')\n",
    "        return data\n",
    "    \n",
    "    def assign_generic_numbers(self, pdb_ids=None, overwrite=True, folder='data/raw/'):\n",
    "        dfl_ = []\n",
    "        if pdb_ids != None:\n",
    "            self.pdb_ids = pdb_ids\n",
    "        if not isinstance(self.pdb_ids, list):\n",
    "            self.pdb_ids = [self.pdb_ids]\n",
    "        for pdb_id in self.pdb_ids:\n",
    "            if self.allow_exception:\n",
    "                print(\"trying to assign generic nubmers to\", pdb_id)\n",
    "                try:\n",
    "                    dfl_.append(self.assign_generic_numbers_(pdb_id, overwrite=overwrite, folder=folder))\n",
    "                    print(\"assigned generic numbers to\", pdb_id, \"\\n\\n\\n\")\n",
    "                except:\n",
    "                    print(\"assigning failed for\", pdb_id)\n",
    "            else:\n",
    "                print(\"trying to assign generic nubmers to\", pdb_id)\n",
    "                dfl_.append(self.assign_generic_numbers_(pdb_id, overwrite=overwrite, folder=folder))\n",
    "                print(\"assigned generic numbers to\", pdb_id, \"\\n\\n\\n\")\n",
    "        self.dfl = dfl_\n",
    "        del dfl_\n",
    "        \n",
    "    # ==============================================================================================================\n",
    "    \n",
    "    def plot_angles_for_gen_pos(self, region=[7.40, 7.60], legend=True):\n",
    "        categories = []\n",
    "        for df in self.dfl:\n",
    "            category = np.unique(df['PDB'])[0]\n",
    "            categories.append(category)\n",
    "\n",
    "        cmap = plt.cm.get_cmap('RdYlGn', len(categories))\n",
    "        colors = np.linspace(0, len(categories)-1, len(categories))\n",
    "        colordict = dict(zip(categories,colors))\n",
    "\n",
    "        fig, axes = plt.subplots(nrows=1,ncols=2,figsize=(24,12))\n",
    "\n",
    "        xlabel = 'generic position numbers'\n",
    "        ylabel = 'degrees'\n",
    "\n",
    "        xtick_min = region[0]\n",
    "        xtick_max = region[1]\n",
    "\n",
    "        nsteps = int(round(xtick_max - xtick_min, 2) / 0.01)\n",
    "        xticks = np.linspace(xtick_min, xtick_max, nsteps+1)\n",
    "\n",
    "        for i, cat in enumerate(categories):\n",
    "            c = int(colordict[cat])\n",
    "            df = self.dfl[i]\n",
    "            roi = df[(df['gen_pos1']>=region[0]) & \n",
    "                     (df['gen_pos1']<region[1]) & \n",
    "                     (df['label_atom_id']=='CA')].copy()\n",
    "            roi['phi'] = roi.apply(lambda x: float(x.phi), axis=1)\n",
    "            roi['omega'] = roi.apply(lambda x: float(x.omega), axis=1)\n",
    "            roi['psi'] = roi.apply(lambda x: float(x.psi), axis=1)\n",
    "            tot_len = len(roi['phi'].to_list())+len(roi['omega'].to_list())+len(roi['psi'].to_list())\n",
    "            if tot_len > 0:\n",
    "                roi.plot(kind='line', x='gen_pos1', y='phi', \n",
    "                        ax = axes[0], subplots = True, color = cmap(c), \n",
    "                        xticks = xticks, label=cat)\n",
    "                if legend:\n",
    "                    axes[0].legend(bbox_to_anchor=(1.0, 1.0))\n",
    "                axes[0].set_xlabel(xlabel)\n",
    "                axes[0].set_ylabel(ylabel)\n",
    "                axes[0].set_title('Psi Angles')\n",
    "\n",
    "                roi.plot(kind='line', x='gen_pos1', y='psi', \n",
    "                        ax = axes[1], subplots = True, color = cmap(c), \n",
    "                        xticks = xticks, label=cat)\n",
    "                if legend:\n",
    "                    axes[1].legend(bbox_to_anchor=(1.0, 1.0))\n",
    "                axes[1].set_xlabel(xlabel)\n",
    "                axes[1].set_ylabel(ylabel)\n",
    "                axes[1].set_title('Phi Angles')\n",
    "        plt.show()\n",
    "        \n",
    "    def get_family():\n",
    "        # TBD: PROBLEM: HOW TO GROUP THEM\n",
    "        pass"
   ]
  },
  {
   "cell_type": "code",
   "execution_count": 60,
   "id": "daily-teach",
   "metadata": {
    "hidden": true
   },
   "outputs": [],
   "source": [
    "data = CifProcessor()"
   ]
  },
  {
   "cell_type": "code",
   "execution_count": 82,
   "id": "optimum-calendar",
   "metadata": {
    "hidden": true
   },
   "outputs": [
    {
     "data": {
      "text/html": [
       "<div>\n",
       "<style scoped>\n",
       "    .dataframe tbody tr th:only-of-type {\n",
       "        vertical-align: middle;\n",
       "    }\n",
       "\n",
       "    .dataframe tbody tr th {\n",
       "        vertical-align: top;\n",
       "    }\n",
       "\n",
       "    .dataframe thead th {\n",
       "        text-align: right;\n",
       "    }\n",
       "</style>\n",
       "<table border=\"1\" class=\"dataframe\">\n",
       "  <thead>\n",
       "    <tr style=\"text-align: right;\">\n",
       "      <th></th>\n",
       "      <th>uniprot(gene)</th>\n",
       "      <th>Cl.</th>\n",
       "      <th>PDB</th>\n",
       "      <th>Resolution</th>\n",
       "      <th>Preferred Chain</th>\n",
       "      <th>State</th>\n",
       "      <th>Function</th>\n",
       "    </tr>\n",
       "  </thead>\n",
       "  <tbody>\n",
       "    <tr>\n",
       "      <th>0</th>\n",
       "      <td>STE2</td>\n",
       "      <td>D1(Ste2-likefungalpheromone)</td>\n",
       "      <td>7AD3</td>\n",
       "      <td>3.5</td>\n",
       "      <td>A</td>\n",
       "      <td>Active</td>\n",
       "      <td>Agonist</td>\n",
       "    </tr>\n",
       "    <tr>\n",
       "      <th>1</th>\n",
       "      <td>CCR2</td>\n",
       "      <td>A(Rhodopsin)</td>\n",
       "      <td>5T1A</td>\n",
       "      <td>2.8</td>\n",
       "      <td>A</td>\n",
       "      <td>Inactive</td>\n",
       "      <td>AntagonistNAM</td>\n",
       "    </tr>\n",
       "    <tr>\n",
       "      <th>2</th>\n",
       "      <td>OPRM</td>\n",
       "      <td>A(Rhodopsin)</td>\n",
       "      <td>4DKL</td>\n",
       "      <td>2.8</td>\n",
       "      <td>A</td>\n",
       "      <td>Inactive</td>\n",
       "      <td>Antagonist</td>\n",
       "    </tr>\n",
       "    <tr>\n",
       "      <th>3</th>\n",
       "      <td>CNR2</td>\n",
       "      <td>A(Rhodopsin)</td>\n",
       "      <td>5ZTY</td>\n",
       "      <td>2.8</td>\n",
       "      <td>A</td>\n",
       "      <td>Inactive</td>\n",
       "      <td>Antagonist</td>\n",
       "    </tr>\n",
       "    <tr>\n",
       "      <th>4</th>\n",
       "      <td>5HT1B</td>\n",
       "      <td>A(Rhodopsin)</td>\n",
       "      <td>6G79</td>\n",
       "      <td>3.8</td>\n",
       "      <td>S</td>\n",
       "      <td>Active</td>\n",
       "      <td>Agonist</td>\n",
       "    </tr>\n",
       "    <tr>\n",
       "      <th>...</th>\n",
       "      <td>...</td>\n",
       "      <td>...</td>\n",
       "      <td>...</td>\n",
       "      <td>...</td>\n",
       "      <td>...</td>\n",
       "      <td>...</td>\n",
       "      <td>...</td>\n",
       "    </tr>\n",
       "    <tr>\n",
       "      <th>523</th>\n",
       "      <td>OPSD</td>\n",
       "      <td>A(Rhodopsin)</td>\n",
       "      <td>6PH7</td>\n",
       "      <td>2.9</td>\n",
       "      <td>A</td>\n",
       "      <td>Active</td>\n",
       "      <td>unknown</td>\n",
       "    </tr>\n",
       "    <tr>\n",
       "      <th>524</th>\n",
       "      <td>NTR1</td>\n",
       "      <td>A(Rhodopsin)</td>\n",
       "      <td>7L0S</td>\n",
       "      <td>4.5</td>\n",
       "      <td>C</td>\n",
       "      <td>Active</td>\n",
       "      <td>Agonist</td>\n",
       "    </tr>\n",
       "    <tr>\n",
       "      <th>525</th>\n",
       "      <td>AA2AR</td>\n",
       "      <td>A(Rhodopsin)</td>\n",
       "      <td>6S0Q</td>\n",
       "      <td>2.7</td>\n",
       "      <td>A</td>\n",
       "      <td>Inactive</td>\n",
       "      <td>Antagonist</td>\n",
       "    </tr>\n",
       "    <tr>\n",
       "      <th>526</th>\n",
       "      <td>GLP1R</td>\n",
       "      <td>B1(Secretin)</td>\n",
       "      <td>7LCJ</td>\n",
       "      <td>2.8</td>\n",
       "      <td>R</td>\n",
       "      <td>Active</td>\n",
       "      <td>Agonist</td>\n",
       "    </tr>\n",
       "    <tr>\n",
       "      <th>527</th>\n",
       "      <td>NTR1</td>\n",
       "      <td>A(Rhodopsin)</td>\n",
       "      <td>7L0Q</td>\n",
       "      <td>4.3</td>\n",
       "      <td>C</td>\n",
       "      <td>Active</td>\n",
       "      <td>Agonist</td>\n",
       "    </tr>\n",
       "  </tbody>\n",
       "</table>\n",
       "<p>528 rows × 7 columns</p>\n",
       "</div>"
      ],
      "text/plain": [
       "    uniprot(gene)                           Cl.   PDB  Resolution  \\\n",
       "0            STE2  D1(Ste2-likefungalpheromone)  7AD3         3.5   \n",
       "1            CCR2                  A(Rhodopsin)  5T1A         2.8   \n",
       "2            OPRM                  A(Rhodopsin)  4DKL         2.8   \n",
       "3            CNR2                  A(Rhodopsin)  5ZTY         2.8   \n",
       "4           5HT1B                  A(Rhodopsin)  6G79         3.8   \n",
       "..            ...                           ...   ...         ...   \n",
       "523          OPSD                  A(Rhodopsin)  6PH7         2.9   \n",
       "524          NTR1                  A(Rhodopsin)  7L0S         4.5   \n",
       "525         AA2AR                  A(Rhodopsin)  6S0Q         2.7   \n",
       "526         GLP1R                  B1(Secretin)  7LCJ         2.8   \n",
       "527          NTR1                  A(Rhodopsin)  7L0Q         4.3   \n",
       "\n",
       "    Preferred Chain     State       Function  \n",
       "0                 A    Active        Agonist  \n",
       "1                 A  Inactive  AntagonistNAM  \n",
       "2                 A  Inactive     Antagonist  \n",
       "3                 A  Inactive     Antagonist  \n",
       "4                 S    Active        Agonist  \n",
       "..              ...       ...            ...  \n",
       "523               A    Active        unknown  \n",
       "524               C    Active        Agonist  \n",
       "525               A  Inactive     Antagonist  \n",
       "526               R    Active        Agonist  \n",
       "527               C    Active        Agonist  \n",
       "\n",
       "[528 rows x 7 columns]"
      ]
     },
     "execution_count": 82,
     "metadata": {},
     "output_type": "execute_result"
    }
   ],
   "source": [
    "data.table"
   ]
  },
  {
   "cell_type": "code",
   "execution_count": 83,
   "id": "japanese-agent",
   "metadata": {
    "hidden": true
   },
   "outputs": [],
   "source": [
    "genes = list(data.table['uniprot(gene)'].unique())"
   ]
  },
  {
   "cell_type": "code",
   "execution_count": 84,
   "id": "excess-glance",
   "metadata": {
    "hidden": true
   },
   "outputs": [
    {
     "data": {
      "text/plain": [
       "98"
      ]
     },
     "execution_count": 84,
     "metadata": {},
     "output_type": "execute_result"
    }
   ],
   "source": [
    "len(genes)"
   ]
  },
  {
   "cell_type": "code",
   "execution_count": 6,
   "id": "federal-biology",
   "metadata": {
    "hidden": true
   },
   "outputs": [],
   "source": [
    "# tbd include "
   ]
  },
  {
   "cell_type": "code",
   "execution_count": 63,
   "id": "loose-jamaica",
   "metadata": {
    "hidden": true
   },
   "outputs": [],
   "source": [
    "data.read_pkl_metainfo()"
   ]
  },
  {
   "cell_type": "code",
   "execution_count": 64,
   "id": "partial-instruction",
   "metadata": {
    "hidden": true
   },
   "outputs": [],
   "source": [
    "data.read_pkl_processed()"
   ]
  },
  {
   "cell_type": "code",
   "execution_count": 9,
   "id": "breathing-reflection",
   "metadata": {
    "hidden": true
   },
   "outputs": [],
   "source": [
    "# data.to_pkl_metainfo()"
   ]
  },
  {
   "cell_type": "code",
   "execution_count": 10,
   "id": "medium-bradley",
   "metadata": {
    "hidden": true
   },
   "outputs": [],
   "source": [
    "# data.make_metainfo()"
   ]
  },
  {
   "cell_type": "code",
   "execution_count": 11,
   "id": "simple-reasoning",
   "metadata": {
    "hidden": true
   },
   "outputs": [],
   "source": [
    "def split_family(fam_id):\n",
    "    return fam_id.split('_')"
   ]
  },
  {
   "cell_type": "code",
   "execution_count": 12,
   "id": "major-loading",
   "metadata": {
    "hidden": true
   },
   "outputs": [],
   "source": [
    "def fam_id_to_df(fam_id, path='data/families.pkl'):\n",
    "    split = split_family(fam_id)\n",
    "    print(split)\n",
    "    family_df = get_families(path=path)\n",
    "    zipped = list(zip(['v1', 'v2', 'v3', 'v4'], split))\n",
    "    zipped = [(x[0], int(x[1])) for x in zipped if x[1] != '']\n",
    "    for z in zipped:\n",
    "        family = family[family[z[0]]==z[1]]\n",
    "    return family"
   ]
  },
  {
   "cell_type": "code",
   "execution_count": 13,
   "id": "touched-cardiff",
   "metadata": {
    "hidden": true
   },
   "outputs": [],
   "source": [
    "def group_by_family(numbering, family):\n",
    "    \"\"\"\n",
    "    family: a length = 4 list with 4 identifiers\n",
    "    \"\"\"\n",
    "    numbering[['f1', 'f2', 'f3', 'f4']] = numbering.apply(lambda x: x.family.split('_'), axis = 1, result_type='expand')\n",
    "    for i, f in enumerate(family):\n",
    "        if f != '':\n",
    "            col = 'f'+ str(i+1)\n",
    "            numbering = numbering[numbering[col] == family[i]]\n",
    "    return list(numbering['PDB'].unique())"
   ]
  },
  {
   "cell_type": "code",
   "execution_count": 14,
   "id": "delayed-platinum",
   "metadata": {
    "hidden": true
   },
   "outputs": [],
   "source": [
    "def get_group_from_dfl(dfl, pdb_ids):\n",
    "    selection = []\n",
    "    sel_pdbs = []\n",
    "    for df in dfl:\n",
    "        if df['PDB'].unique()[0] in pdb_ids:\n",
    "            selection.append(df)\n",
    "            sel_pdbs.append(df['PDB'].unique()[0])\n",
    "    return selection, sel_pdbs"
   ]
  },
  {
   "cell_type": "code",
   "execution_count": 15,
   "id": "central-quantity",
   "metadata": {
    "hidden": true
   },
   "outputs": [],
   "source": [
    "def get_activity(table, sel_pdbs):\n",
    "    activity_dict = {}\n",
    "    actives = []\n",
    "    inactives = []\n",
    "    for pdb in sel_pdbs:\n",
    "        act = table[table['PDB']==pdb.upper()]['State'].iloc[0]\n",
    "        activity_dict.update({pdb: act})\n",
    "        if act == 'Active':\n",
    "            actives.append(pdb)\n",
    "        elif act == 'Inactive':\n",
    "            inactives.append(pdb)\n",
    "    return activity_dict, actives, inactives"
   ]
  },
  {
   "cell_type": "code",
   "execution_count": 16,
   "id": "running-divorce",
   "metadata": {
    "hidden": true
   },
   "outputs": [],
   "source": [
    "def compare_act_inact(data, family_id):\n",
    "    split = split_family(family_id)\n",
    "    group = group_by_family(data.numbering, split)\n",
    "    _, sel_pdbs = get_group_from_dfl(data.dfl, group)\n",
    "    _, actives, inactives = get_activity(data.table, sel_pdbs)\n",
    "    active_dfl = get_group_from_dfl(data.dfl, actives)[0]\n",
    "    inactive_dfl = get_group_from_dfl(data.dfl, inactives)[0]\n",
    "    family_name = family_id\n",
    "    return active_dfl, inactive_dfl, family_name"
   ]
  },
  {
   "cell_type": "code",
   "execution_count": 17,
   "id": "nutritional-punishment",
   "metadata": {
    "hidden": true
   },
   "outputs": [],
   "source": [
    "def get_families(path = 'data/families.txt'):\n",
    "    with open(path) as f:\n",
    "        cols = ['f1', 'v1', 'f2', 'v2', 'f3', 'v3', 'f4', 'v4']\n",
    "        family_df = pd.DataFrame(columns=cols)\n",
    "        v0_ = 0\n",
    "        v1_ = 0\n",
    "        v2_ = 0\n",
    "        v3_ = 0\n",
    "        for row in f.readlines():\n",
    "            print(row)\n",
    "            if not '    ' in row:\n",
    "                v0 = row.split('|')[0][:-1]\n",
    "                v0_ += 1\n",
    "                v1_ = 0\n",
    "                v2_ = 0\n",
    "                v3_ = 0\n",
    "            elif not '        ' in row:\n",
    "                v1 = row.replace(\"\\n\", \"\")[4:]\n",
    "                v1_ += 1\n",
    "                v2_ = 0\n",
    "                v3_ = 0\n",
    "            elif not '            ' in row:\n",
    "                v2 = row.replace(\"        \", \"\").replace(\"\\n\", \"\")\n",
    "                v2_ += 1\n",
    "                v3_ = 0\n",
    "            else:\n",
    "                try:\n",
    "                    v3 = row.split(',')[8]\n",
    "                    v3_ += 1\n",
    "                except:\n",
    "                    v3 = row.split(',')\n",
    "                    v3_ += 1\n",
    "                dict_ = dict(zip(cols, [v0, v0_, v1, v1_, v2, v2_, v3, v3_]))\n",
    "                family_df=family_df.append(dict_, ignore_index=True)\n",
    "    return family_df\n",
    "            "
   ]
  },
  {
   "cell_type": "code",
   "execution_count": 18,
   "id": "difficult-claim",
   "metadata": {
    "hidden": true
   },
   "outputs": [],
   "source": [
    "family_id = '001_009_001_'"
   ]
  },
  {
   "cell_type": "code",
   "execution_count": 19,
   "id": "olympic-magnitude",
   "metadata": {
    "hidden": true
   },
   "outputs": [],
   "source": [
    "# family = fam_id_to_df(family_id)"
   ]
  },
  {
   "cell_type": "code",
   "execution_count": 20,
   "id": "unable-belly",
   "metadata": {
    "hidden": true
   },
   "outputs": [],
   "source": [
    "# family"
   ]
  },
  {
   "cell_type": "code",
   "execution_count": 21,
   "id": "objective-balloon",
   "metadata": {
    "hidden": true
   },
   "outputs": [],
   "source": [
    "active_dfl, inactive_dfl, family_name = compare_act_inact(data, family_id)"
   ]
  },
  {
   "cell_type": "code",
   "execution_count": 22,
   "id": "fuzzy-radio",
   "metadata": {
    "hidden": true
   },
   "outputs": [
    {
     "data": {
      "text/plain": [
       "35"
      ]
     },
     "execution_count": 22,
     "metadata": {},
     "output_type": "execute_result"
    }
   ],
   "source": [
    "len(active_dfl)"
   ]
  },
  {
   "cell_type": "code",
   "execution_count": 23,
   "id": "charitable-enclosure",
   "metadata": {
    "hidden": true
   },
   "outputs": [
    {
     "data": {
      "text/plain": [
       "23"
      ]
     },
     "execution_count": 23,
     "metadata": {},
     "output_type": "execute_result"
    }
   ],
   "source": [
    "len(inactive_dfl)"
   ]
  },
  {
   "cell_type": "markdown",
   "id": "marked-rubber",
   "metadata": {
    "heading_collapsed": true
   },
   "source": [
    "# PLOTTING"
   ]
  },
  {
   "cell_type": "code",
   "execution_count": 24,
   "id": "extreme-improvement",
   "metadata": {
    "hidden": true
   },
   "outputs": [],
   "source": [
    "def plot_angles_for_gen_pos(dfl, region=[7.40, 7.60], legend=True, title='', save=False):\n",
    "    categories = []\n",
    "    for df in dfl:\n",
    "        category = np.unique(df['PDB'])[0]\n",
    "        categories.append(category.upper())\n",
    "\n",
    "    cmap = plt.cm.get_cmap('RdYlGn', len(categories))\n",
    "    colors = np.linspace(0, len(categories)-1, len(categories))\n",
    "    colordict = dict(zip(categories,colors))\n",
    "\n",
    "    fig, axes = plt.subplots(nrows=1, ncols=2, figsize=(24,12))\n",
    "\n",
    "    xlabel = 'generic position numbers'\n",
    "    ylabel = 'degrees'\n",
    "    \n",
    "    start_regions = [x for _, x in enumerate(region) if _ % 2 == 0]\n",
    "    end_regions = [x for _, x in enumerate(region) if _ % 2 == 1]\n",
    "    \n",
    "    for i in range(len(start_regions)):\n",
    "        xtick_min = start_regions[i]\n",
    "        xtick_max = end_regions[i]\n",
    "        nsteps = int(round(xtick_max - xtick_min, 2) / 0.01)\n",
    "        if i == 0:\n",
    "            xticks = np.linspace(start_regions[i], end_regions[i], nsteps+1)\n",
    "        else:\n",
    "            xticks = np.hstack([xticks, np.linspace(start_regions[i], end_regions[i], nsteps+1)])\n",
    "    xticks = [round(x, 2) for x in xticks]\n",
    "    xticks_ = [i for i in range(len(xticks))]\n",
    "    xtick_dict = dict(zip(xticks, xticks_))\n",
    "    \n",
    "    for i, cat in enumerate(categories):\n",
    "        c = int(colordict[cat])\n",
    "        df = dfl[i]\n",
    "        roi = pd.concat([df.loc[(df['gen_pos1'] > start_regions[i]) &\n",
    "                                (df['gen_pos1'] < end_regions[i]) &\n",
    "                                (df['label_atom_id']=='CA')] for i in range(len(start_regions))], join='outer').copy()\n",
    "        try:\n",
    "            # better: check if this is not an empty series!\n",
    "            roi['xticks'] = roi.apply(lambda x: xtick_dict[x.gen_pos1], axis=1)\n",
    "        except:\n",
    "            roi['xticks'] = np.nan\n",
    "        roi['phi'] = roi.apply(lambda x: float(x.phi), axis=1)\n",
    "        roi['omega'] = roi.apply(lambda x: float(x.omega), axis=1)\n",
    "        roi['psi'] = roi.apply(lambda x: float(x.psi), axis=1)\n",
    "        tot_len = len(roi['phi'].to_list())+len(roi['omega'].to_list())+len(roi['psi'].to_list())\n",
    "        if tot_len > 0:\n",
    "            roi.plot(kind='line', x='xticks', y='phi', \n",
    "                    ax = axes[0], subplots = True, color = cmap(c), label=cat)\n",
    "            if legend:\n",
    "                axes[0].legend(bbox_to_anchor=(1.0, 1.0))\n",
    "            else:\n",
    "                axes[0].get_legend().remove()\n",
    "            axes[0].set_xticks(xticks_)\n",
    "            axes[0].set_xticklabels([str(\"%.2f\" % round(x,2)) for x in xticks], minor=False)\n",
    "            axes[0].set_ylim(-150, 50)\n",
    "            axes[0].set_xlabel(xlabel)\n",
    "            axes[0].set_ylabel(ylabel)\n",
    "            axes[0].set_title('Phi Angles')\n",
    "\n",
    "            roi.plot(kind='line', x='xticks', y='psi', \n",
    "                    ax = axes[1], subplots = True, color = cmap(c), label=cat)\n",
    "            if legend:\n",
    "                axes[1].legend(bbox_to_anchor=(1.0, 1.0))\n",
    "            else:\n",
    "                axes[1].get_legend().remove()\n",
    "            axes[1].set_xticks(xticks_)\n",
    "            axes[1].set_xticklabels([str(\"%.2f\" % round(x,2)) for x in xticks], minor=False)\n",
    "            axes[1].set_ylim(-150, 50)\n",
    "            axes[1].set_xlabel(xlabel)\n",
    "            axes[1].set_ylabel(ylabel)\n",
    "            axes[1].set_title('Psi Angles')\n",
    "    fig.suptitle(title, fontsize=12)\n",
    "    mplcursors.cursor(hover=True)\n",
    "    plt.show()\n",
    "    if save:\n",
    "        print(\"saving\")\n",
    "        plt.savefig('data/plots/'+title.replace(' ', '_')+'.png')"
   ]
  },
  {
   "cell_type": "code",
   "execution_count": null,
   "id": "unnecessary-crawford",
   "metadata": {
    "hidden": true
   },
   "outputs": [],
   "source": []
  },
  {
   "cell_type": "code",
   "execution_count": 25,
   "id": "accessible-boards",
   "metadata": {
    "hidden": true
   },
   "outputs": [
    {
     "name": "stdout",
     "output_type": "stream",
     "text": [
      "Using matplotlib backend: Qt5Agg\n",
      "Populating the interactive namespace from numpy and matplotlib\n"
     ]
    },
    {
     "name": "stderr",
     "output_type": "stream",
     "text": [
      "C:\\Users\\Sideadmin\\.conda\\envs\\mt\\lib\\site-packages\\IPython\\core\\magics\\pylab.py:159: UserWarning: pylab import has clobbered these variables: ['random', 'extract', 'degrees']\n",
      "`%matplotlib` prevents importing * from pylab and numpy\n",
      "  warn(\"pylab import has clobbered these variables: %s\"  % clobbered +\n"
     ]
    }
   ],
   "source": [
    "%pylab"
   ]
  },
  {
   "cell_type": "code",
   "execution_count": 26,
   "id": "vietnamese-relation",
   "metadata": {
    "hidden": true
   },
   "outputs": [],
   "source": [
    "plot_angles_for_gen_pos(active_dfl, region=[7.45, 7.56, 8.51, 8.54], legend=False, title='Active GPCRs (Complexes) '+family_name)"
   ]
  },
  {
   "cell_type": "code",
   "execution_count": 27,
   "id": "increasing-converter",
   "metadata": {
    "hidden": true
   },
   "outputs": [],
   "source": [
    "plot_angles_for_gen_pos(inactive_dfl, region=[7.45, 7.58, 8.51, 8.54], legend=False, title='Inactive GPCRs '+family_name)"
   ]
  },
  {
   "cell_type": "markdown",
   "id": "incident-prospect",
   "metadata": {
    "heading_collapsed": true
   },
   "source": [
    "# STRUCTURE DATALOADER"
   ]
  },
  {
   "cell_type": "code",
   "execution_count": 319,
   "id": "improved-turning",
   "metadata": {
    "hidden": true
   },
   "outputs": [],
   "source": [
    "# 8  load structs (structs dataloader) and table\n",
    "# btw how do i get the affinities?"
   ]
  },
  {
   "cell_type": "code",
   "execution_count": 320,
   "id": "medical-invention",
   "metadata": {
    "hidden": true
   },
   "outputs": [],
   "source": [
    "# 9  plot structs"
   ]
  },
  {
   "cell_type": "code",
   "execution_count": 321,
   "id": "electronic-portland",
   "metadata": {
    "hidden": true
   },
   "outputs": [],
   "source": [
    "# 10 plot deltas (make interaction map based on genes)"
   ]
  },
  {
   "cell_type": "code",
   "execution_count": 322,
   "id": "interior-fireplace",
   "metadata": {
    "hidden": true
   },
   "outputs": [],
   "source": [
    "# 11 input features"
   ]
  },
  {
   "cell_type": "code",
   "execution_count": null,
   "id": "three-reviewer",
   "metadata": {
    "hidden": true
   },
   "outputs": [],
   "source": []
  },
  {
   "cell_type": "code",
   "execution_count": null,
   "id": "artificial-lender",
   "metadata": {
    "hidden": true
   },
   "outputs": [],
   "source": []
  },
  {
   "cell_type": "code",
   "execution_count": null,
   "id": "large-devon",
   "metadata": {
    "hidden": true
   },
   "outputs": [],
   "source": []
  },
  {
   "cell_type": "markdown",
   "id": "latter-container",
   "metadata": {
    "heading_collapsed": true
   },
   "source": [
    "# GPROTEINS"
   ]
  },
  {
   "cell_type": "code",
   "execution_count": 28,
   "id": "tropical-structure",
   "metadata": {
    "hidden": true
   },
   "outputs": [],
   "source": [
    "# download gproteins structures  ==> where do i get regions"
   ]
  },
  {
   "cell_type": "code",
   "execution_count": 161,
   "id": "third-proposal",
   "metadata": {
    "hidden": true
   },
   "outputs": [],
   "source": [
    "path = 'data/gproteins'"
   ]
  },
  {
   "cell_type": "code",
   "execution_count": null,
   "id": "magnetic-humanity",
   "metadata": {
    "hidden": true
   },
   "outputs": [],
   "source": [
    "gproteins_table = 'data/gproteins'"
   ]
  },
  {
   "cell_type": "code",
   "execution_count": null,
   "id": "cutting-basketball",
   "metadata": {
    "hidden": true
   },
   "outputs": [],
   "source": [
    "request = ''"
   ]
  },
  {
   "cell_type": "markdown",
   "id": "adaptive-branch",
   "metadata": {},
   "source": [
    "# AFFINITIES"
   ]
  },
  {
   "cell_type": "code",
   "execution_count": 1,
   "id": "collective-intention",
   "metadata": {},
   "outputs": [],
   "source": [
    "affinities_table = 'data/couplings/'\n",
    "aff_sub = affinities_table + 'subtypes_coupling.xlsx'\n",
    "aff_fam = affinities_table + 'families_coupling.xlsx'"
   ]
  },
  {
   "cell_type": "code",
   "execution_count": 2,
   "id": "alive-colonial",
   "metadata": {},
   "outputs": [],
   "source": [
    "\n",
    "import pandas as pd"
   ]
  },
  {
   "cell_type": "code",
   "execution_count": 5,
   "id": "herbal-channels",
   "metadata": {},
   "outputs": [],
   "source": [
    "df_sub = pd.read_excel(aff_sub, header=[0,1,2], index_col=None)"
   ]
  },
  {
   "cell_type": "code",
   "execution_count": 6,
   "id": "handmade-fundamentals",
   "metadata": {},
   "outputs": [
    {
     "data": {
      "text/html": [
       "<div>\n",
       "<style scoped>\n",
       "    .dataframe tbody tr th:only-of-type {\n",
       "        vertical-align: middle;\n",
       "    }\n",
       "\n",
       "    .dataframe tbody tr th {\n",
       "        vertical-align: top;\n",
       "    }\n",
       "\n",
       "    .dataframe thead tr th {\n",
       "        text-align: left;\n",
       "    }\n",
       "</style>\n",
       "<table border=\"1\" class=\"dataframe\">\n",
       "  <thead>\n",
       "    <tr>\n",
       "      <th></th>\n",
       "      <th colspan=\"2\" halign=\"left\">Source</th>\n",
       "      <th colspan=\"4\" halign=\"left\">Receptor</th>\n",
       "      <th colspan=\"4\" halign=\"left\">Guide to Pharmacology</th>\n",
       "      <th>...</th>\n",
       "      <th colspan=\"10\" halign=\"left\">Emax</th>\n",
       "    </tr>\n",
       "    <tr>\n",
       "      <th></th>\n",
       "      <th>Group</th>\n",
       "      <th>Biosensor</th>\n",
       "      <th>Cl</th>\n",
       "      <th>Receptor fam.</th>\n",
       "      <th>Uniprot</th>\n",
       "      <th>IUPHAR</th>\n",
       "      <th>Gs</th>\n",
       "      <th>Gi/o</th>\n",
       "      <th>Gq/11</th>\n",
       "      <th>G12/13</th>\n",
       "      <th>...</th>\n",
       "      <th colspan=\"4\" halign=\"left\">Gi/o</th>\n",
       "      <th colspan=\"4\" halign=\"left\">Gq/11</th>\n",
       "      <th colspan=\"2\" halign=\"left\">G12/13</th>\n",
       "    </tr>\n",
       "    <tr>\n",
       "      <th></th>\n",
       "      <th>Unnamed: 0_level_2</th>\n",
       "      <th>Unnamed: 1_level_2</th>\n",
       "      <th>Unnamed: 2_level_2</th>\n",
       "      <th>Unnamed: 3_level_2</th>\n",
       "      <th>Unnamed: 4_level_2</th>\n",
       "      <th>Unnamed: 5_level_2</th>\n",
       "      <th>Unnamed: 6_level_2</th>\n",
       "      <th>Unnamed: 7_level_2</th>\n",
       "      <th>Unnamed: 8_level_2</th>\n",
       "      <th>Unnamed: 9_level_2</th>\n",
       "      <th>...</th>\n",
       "      <th>GNAI2</th>\n",
       "      <th>GNAI3</th>\n",
       "      <th>GNAZ</th>\n",
       "      <th>GNAO</th>\n",
       "      <th>GNAQ</th>\n",
       "      <th>GNA11</th>\n",
       "      <th>GNA14</th>\n",
       "      <th>GNA15</th>\n",
       "      <th>GNA12</th>\n",
       "      <th>GNA13</th>\n",
       "    </tr>\n",
       "  </thead>\n",
       "  <tbody>\n",
       "    <tr>\n",
       "      <th>0</th>\n",
       "      <td>GPCRdb</td>\n",
       "      <td>Mean</td>\n",
       "      <td>A</td>\n",
       "      <td>5-Hydroxytryptamine</td>\n",
       "      <td>5HT1A</td>\n",
       "      <td>5-HT1A</td>\n",
       "      <td>-</td>\n",
       "      <td>1'</td>\n",
       "      <td>-</td>\n",
       "      <td>-</td>\n",
       "      <td>...</td>\n",
       "      <td>50</td>\n",
       "      <td>39</td>\n",
       "      <td>44</td>\n",
       "      <td>52</td>\n",
       "      <td>-</td>\n",
       "      <td>-</td>\n",
       "      <td>27</td>\n",
       "      <td>52</td>\n",
       "      <td>-</td>\n",
       "      <td>-</td>\n",
       "    </tr>\n",
       "    <tr>\n",
       "      <th>1</th>\n",
       "      <td>Bouvier</td>\n",
       "      <td>GEMTA</td>\n",
       "      <td>A</td>\n",
       "      <td>5-Hydroxytryptamine</td>\n",
       "      <td>5HT1A</td>\n",
       "      <td>5-HT1A</td>\n",
       "      <td>-</td>\n",
       "      <td>1'</td>\n",
       "      <td>-</td>\n",
       "      <td>-</td>\n",
       "      <td>...</td>\n",
       "      <td>54</td>\n",
       "      <td>0</td>\n",
       "      <td>52</td>\n",
       "      <td>57</td>\n",
       "      <td>0</td>\n",
       "      <td>0</td>\n",
       "      <td>14</td>\n",
       "      <td>75</td>\n",
       "      <td>0</td>\n",
       "      <td>0</td>\n",
       "    </tr>\n",
       "    <tr>\n",
       "      <th>2</th>\n",
       "      <td>Inoue</td>\n",
       "      <td>TGF</td>\n",
       "      <td>A</td>\n",
       "      <td>5-Hydroxytryptamine</td>\n",
       "      <td>5HT1A</td>\n",
       "      <td>5-HT1A</td>\n",
       "      <td>-</td>\n",
       "      <td>1'</td>\n",
       "      <td>-</td>\n",
       "      <td>-</td>\n",
       "      <td>...</td>\n",
       "      <td>45</td>\n",
       "      <td>39</td>\n",
       "      <td>35</td>\n",
       "      <td>48</td>\n",
       "      <td>41</td>\n",
       "      <td>41</td>\n",
       "      <td>40</td>\n",
       "      <td>28</td>\n",
       "      <td>26</td>\n",
       "      <td>21</td>\n",
       "    </tr>\n",
       "    <tr>\n",
       "      <th>3</th>\n",
       "      <td>GPCRdb</td>\n",
       "      <td>Mean</td>\n",
       "      <td>A</td>\n",
       "      <td>5-Hydroxytryptamine</td>\n",
       "      <td>5HT1B</td>\n",
       "      <td>5-HT1B</td>\n",
       "      <td>-</td>\n",
       "      <td>1'</td>\n",
       "      <td>-</td>\n",
       "      <td>-</td>\n",
       "      <td>...</td>\n",
       "      <td>23</td>\n",
       "      <td>26</td>\n",
       "      <td>30</td>\n",
       "      <td>20</td>\n",
       "      <td>-</td>\n",
       "      <td>-</td>\n",
       "      <td>-</td>\n",
       "      <td>-</td>\n",
       "      <td>-</td>\n",
       "      <td>-</td>\n",
       "    </tr>\n",
       "    <tr>\n",
       "      <th>4</th>\n",
       "      <td>Bouvier</td>\n",
       "      <td>GEMTA</td>\n",
       "      <td>A</td>\n",
       "      <td>5-Hydroxytryptamine</td>\n",
       "      <td>5HT1B</td>\n",
       "      <td>5-HT1B</td>\n",
       "      <td>-</td>\n",
       "      <td>1'</td>\n",
       "      <td>-</td>\n",
       "      <td>-</td>\n",
       "      <td>...</td>\n",
       "      <td>21</td>\n",
       "      <td>0</td>\n",
       "      <td>33</td>\n",
       "      <td>19</td>\n",
       "      <td>0</td>\n",
       "      <td>0</td>\n",
       "      <td>0</td>\n",
       "      <td>11</td>\n",
       "      <td>0</td>\n",
       "      <td>0</td>\n",
       "    </tr>\n",
       "    <tr>\n",
       "      <th>...</th>\n",
       "      <td>...</td>\n",
       "      <td>...</td>\n",
       "      <td>...</td>\n",
       "      <td>...</td>\n",
       "      <td>...</td>\n",
       "      <td>...</td>\n",
       "      <td>...</td>\n",
       "      <td>...</td>\n",
       "      <td>...</td>\n",
       "      <td>...</td>\n",
       "      <td>...</td>\n",
       "      <td>...</td>\n",
       "      <td>...</td>\n",
       "      <td>...</td>\n",
       "      <td>...</td>\n",
       "      <td>...</td>\n",
       "      <td>...</td>\n",
       "      <td>...</td>\n",
       "      <td>...</td>\n",
       "      <td>...</td>\n",
       "      <td>...</td>\n",
       "    </tr>\n",
       "    <tr>\n",
       "      <th>412</th>\n",
       "      <td>Bouvier</td>\n",
       "      <td>GEMTA</td>\n",
       "      <td>C</td>\n",
       "      <td>Metabotropic glutamate</td>\n",
       "      <td>GRM5</td>\n",
       "      <td>mGlu5</td>\n",
       "      <td>2'</td>\n",
       "      <td>2'</td>\n",
       "      <td>1'</td>\n",
       "      <td>-</td>\n",
       "      <td>...</td>\n",
       "      <td>33</td>\n",
       "      <td>0</td>\n",
       "      <td>28</td>\n",
       "      <td>40</td>\n",
       "      <td>19</td>\n",
       "      <td>29</td>\n",
       "      <td>25</td>\n",
       "      <td>45</td>\n",
       "      <td>0</td>\n",
       "      <td>0</td>\n",
       "    </tr>\n",
       "    <tr>\n",
       "      <th>413</th>\n",
       "      <td>GPCRdb</td>\n",
       "      <td>Mean</td>\n",
       "      <td>C</td>\n",
       "      <td>Metabotropic glutamate</td>\n",
       "      <td>GRM6</td>\n",
       "      <td>mGlu6</td>\n",
       "      <td>-</td>\n",
       "      <td>1'</td>\n",
       "      <td>-</td>\n",
       "      <td>-</td>\n",
       "      <td>...</td>\n",
       "      <td>31</td>\n",
       "      <td>1'</td>\n",
       "      <td>25</td>\n",
       "      <td>24</td>\n",
       "      <td>-</td>\n",
       "      <td>-</td>\n",
       "      <td>-</td>\n",
       "      <td>-</td>\n",
       "      <td>-</td>\n",
       "      <td>-</td>\n",
       "    </tr>\n",
       "    <tr>\n",
       "      <th>414</th>\n",
       "      <td>Bouvier</td>\n",
       "      <td>GEMTA</td>\n",
       "      <td>C</td>\n",
       "      <td>Metabotropic glutamate</td>\n",
       "      <td>GRM6</td>\n",
       "      <td>mGlu6</td>\n",
       "      <td>-</td>\n",
       "      <td>1'</td>\n",
       "      <td>-</td>\n",
       "      <td>-</td>\n",
       "      <td>...</td>\n",
       "      <td>31</td>\n",
       "      <td>0</td>\n",
       "      <td>25</td>\n",
       "      <td>24</td>\n",
       "      <td>0</td>\n",
       "      <td>0</td>\n",
       "      <td>0</td>\n",
       "      <td>0</td>\n",
       "      <td>0</td>\n",
       "      <td>0</td>\n",
       "    </tr>\n",
       "    <tr>\n",
       "      <th>415</th>\n",
       "      <td>GPCRdb</td>\n",
       "      <td>Mean</td>\n",
       "      <td>C</td>\n",
       "      <td>Metabotropic glutamate</td>\n",
       "      <td>GRM8</td>\n",
       "      <td>mGlu8</td>\n",
       "      <td>-</td>\n",
       "      <td>1'</td>\n",
       "      <td>-</td>\n",
       "      <td>-</td>\n",
       "      <td>...</td>\n",
       "      <td>27</td>\n",
       "      <td>1'</td>\n",
       "      <td>32</td>\n",
       "      <td>15</td>\n",
       "      <td>-</td>\n",
       "      <td>-</td>\n",
       "      <td>-</td>\n",
       "      <td>-</td>\n",
       "      <td>-</td>\n",
       "      <td>-</td>\n",
       "    </tr>\n",
       "    <tr>\n",
       "      <th>416</th>\n",
       "      <td>Bouvier</td>\n",
       "      <td>GEMTA</td>\n",
       "      <td>C</td>\n",
       "      <td>Metabotropic glutamate</td>\n",
       "      <td>GRM8</td>\n",
       "      <td>mGlu8</td>\n",
       "      <td>-</td>\n",
       "      <td>1'</td>\n",
       "      <td>-</td>\n",
       "      <td>-</td>\n",
       "      <td>...</td>\n",
       "      <td>27</td>\n",
       "      <td>0</td>\n",
       "      <td>32</td>\n",
       "      <td>15</td>\n",
       "      <td>0</td>\n",
       "      <td>0</td>\n",
       "      <td>0</td>\n",
       "      <td>0</td>\n",
       "      <td>0</td>\n",
       "      <td>0</td>\n",
       "    </tr>\n",
       "  </tbody>\n",
       "</table>\n",
       "<p>417 rows × 49 columns</p>\n",
       "</div>"
      ],
      "text/plain": [
       "                Source                              Receptor  \\\n",
       "                 Group          Biosensor                 Cl   \n",
       "    Unnamed: 0_level_2 Unnamed: 1_level_2 Unnamed: 2_level_2   \n",
       "0               GPCRdb               Mean                  A   \n",
       "1              Bouvier              GEMTA                  A   \n",
       "2                Inoue                TGF                  A   \n",
       "3               GPCRdb               Mean                  A   \n",
       "4              Bouvier              GEMTA                  A   \n",
       "..                 ...                ...                ...   \n",
       "412            Bouvier              GEMTA                  C   \n",
       "413             GPCRdb               Mean                  C   \n",
       "414            Bouvier              GEMTA                  C   \n",
       "415             GPCRdb               Mean                  C   \n",
       "416            Bouvier              GEMTA                  C   \n",
       "\n",
       "                                                                   \\\n",
       "              Receptor fam.            Uniprot             IUPHAR   \n",
       "         Unnamed: 3_level_2 Unnamed: 4_level_2 Unnamed: 5_level_2   \n",
       "0       5-Hydroxytryptamine              5HT1A             5-HT1A   \n",
       "1       5-Hydroxytryptamine              5HT1A             5-HT1A   \n",
       "2       5-Hydroxytryptamine              5HT1A             5-HT1A   \n",
       "3       5-Hydroxytryptamine              5HT1B             5-HT1B   \n",
       "4       5-Hydroxytryptamine              5HT1B             5-HT1B   \n",
       "..                      ...                ...                ...   \n",
       "412  Metabotropic glutamate               GRM5              mGlu5   \n",
       "413  Metabotropic glutamate               GRM6              mGlu6   \n",
       "414  Metabotropic glutamate               GRM6              mGlu6   \n",
       "415  Metabotropic glutamate               GRM8              mGlu8   \n",
       "416  Metabotropic glutamate               GRM8              mGlu8   \n",
       "\n",
       "    Guide to Pharmacology                                        \\\n",
       "                       Gs               Gi/o              Gq/11   \n",
       "       Unnamed: 6_level_2 Unnamed: 7_level_2 Unnamed: 8_level_2   \n",
       "0                       -                 1'                  -   \n",
       "1                       -                 1'                  -   \n",
       "2                       -                 1'                  -   \n",
       "3                       -                 1'                  -   \n",
       "4                       -                 1'                  -   \n",
       "..                    ...                ...                ...   \n",
       "412                    2'                 2'                 1'   \n",
       "413                     -                 1'                  -   \n",
       "414                     -                 1'                  -   \n",
       "415                     -                 1'                  -   \n",
       "416                     -                 1'                  -   \n",
       "\n",
       "                        ...  Emax                                          \\\n",
       "                G12/13  ...  Gi/o                 Gq/11                     \n",
       "    Unnamed: 9_level_2  ... GNAI2 GNAI3 GNAZ GNAO  GNAQ GNA11 GNA14 GNA15   \n",
       "0                    -  ...    50    39   44   52     -     -    27    52   \n",
       "1                    -  ...    54     0   52   57     0     0    14    75   \n",
       "2                    -  ...    45    39   35   48    41    41    40    28   \n",
       "3                    -  ...    23    26   30   20     -     -     -     -   \n",
       "4                    -  ...    21     0   33   19     0     0     0    11   \n",
       "..                 ...  ...   ...   ...  ...  ...   ...   ...   ...   ...   \n",
       "412                  -  ...    33     0   28   40    19    29    25    45   \n",
       "413                  -  ...    31    1'   25   24     -     -     -     -   \n",
       "414                  -  ...    31     0   25   24     0     0     0     0   \n",
       "415                  -  ...    27    1'   32   15     -     -     -     -   \n",
       "416                  -  ...    27     0   32   15     0     0     0     0   \n",
       "\n",
       "                  \n",
       "    G12/13        \n",
       "     GNA12 GNA13  \n",
       "0        -     -  \n",
       "1        0     0  \n",
       "2       26    21  \n",
       "3        -     -  \n",
       "4        0     0  \n",
       "..     ...   ...  \n",
       "412      0     0  \n",
       "413      -     -  \n",
       "414      0     0  \n",
       "415      -     -  \n",
       "416      0     0  \n",
       "\n",
       "[417 rows x 49 columns]"
      ]
     },
     "execution_count": 6,
     "metadata": {},
     "output_type": "execute_result"
    }
   ],
   "source": [
    "df_sub"
   ]
  },
  {
   "cell_type": "code",
   "execution_count": 7,
   "id": "future-sussex",
   "metadata": {},
   "outputs": [],
   "source": [
    "df_fam = pd.read_excel(aff_fam, header=[0, 1], index_col=None)"
   ]
  },
  {
   "cell_type": "code",
   "execution_count": 20,
   "id": "individual-investigator",
   "metadata": {},
   "outputs": [],
   "source": [
    "df_fam_gpcrdb = df_fam[df_fam['Source', 'Group']=='GPCRdb']"
   ]
  },
  {
   "cell_type": "code",
   "execution_count": 26,
   "id": "ecological-worse",
   "metadata": {},
   "outputs": [
    {
     "data": {
      "text/plain": [
       "MultiIndex([(               'Source',         'Group'),\n",
       "            (               'Source',     'Biosensor'),\n",
       "            (             'Receptor',            'Cl'),\n",
       "            (             'Receptor', 'Receptor fam.'),\n",
       "            (             'Receptor',       'Uniprot'),\n",
       "            (             'Receptor',        'IUPHAR'),\n",
       "            ('Guide to Pharmacology',            'Gs'),\n",
       "            ('Guide to Pharmacology',          'Gi/o'),\n",
       "            ('Guide to Pharmacology',         'Gq/11'),\n",
       "            ('Guide to Pharmacology',        'G12/13'),\n",
       "            (      'Log(Emax/EC50) ',            'Gs'),\n",
       "            (      'Log(Emax/EC50) ',          'Gi/o'),\n",
       "            (      'Log(Emax/EC50) ',         'Gq/11'),\n",
       "            (      'Log(Emax/EC50) ',        'G12/13'),\n",
       "            (               'pEC50 ',            'Gs'),\n",
       "            (               'pEC50 ',          'Gi/o'),\n",
       "            (               'pEC50 ',         'Gq/11'),\n",
       "            (               'pEC50 ',        'G12/13'),\n",
       "            (                'Emax ',            'Gs'),\n",
       "            (                'Emax ',          'Gi/o'),\n",
       "            (                'Emax ',         'Gq/11'),\n",
       "            (                'Emax ',        'G12/13')],\n",
       "           )"
      ]
     },
     "execution_count": 26,
     "metadata": {},
     "output_type": "execute_result"
    }
   ],
   "source": [
    "df_fam_gpcrdb.columns"
   ]
  },
  {
   "cell_type": "code",
   "execution_count": 22,
   "id": "timely-royalty",
   "metadata": {},
   "outputs": [],
   "source": [
    "measurements = df_fam_gpcrdb['Receptor', 'Uniprot'].unique()"
   ]
  },
  {
   "cell_type": "code",
   "execution_count": 24,
   "id": "racial-polish",
   "metadata": {},
   "outputs": [
    {
     "data": {
      "text/plain": [
       "['5HT1A',\n",
       " '5HT1B',\n",
       " '5HT1D',\n",
       " '5HT1E',\n",
       " '5HT1F',\n",
       " '5HT2A',\n",
       " '5HT2B',\n",
       " '5HT2C',\n",
       " '5HT4R',\n",
       " '5HT6R',\n",
       " '5HT7R',\n",
       " 'AA1R',\n",
       " 'AA2AR',\n",
       " 'AA2BR',\n",
       " 'AA3R',\n",
       " 'ACM1',\n",
       " 'ACM2',\n",
       " 'ACM3',\n",
       " 'ACM4',\n",
       " 'ACM5',\n",
       " 'ADA1B',\n",
       " 'ADA1D',\n",
       " 'ADA2A',\n",
       " 'ADA2B',\n",
       " 'ADA2C',\n",
       " 'ADRB1',\n",
       " 'ADRB2',\n",
       " 'ADRB3',\n",
       " 'AGTR1',\n",
       " 'APJ',\n",
       " 'BKRB1',\n",
       " 'BKRB2',\n",
       " 'C5AR1',\n",
       " 'CCKAR',\n",
       " 'CCR5',\n",
       " 'CCR6',\n",
       " 'CLTR1',\n",
       " 'CLTR2',\n",
       " 'CML1',\n",
       " 'CNR1',\n",
       " 'CNR2',\n",
       " 'CXCR2',\n",
       " 'CXCR4',\n",
       " 'CXCR5',\n",
       " 'DRD1',\n",
       " 'DRD2',\n",
       " 'DRD3',\n",
       " 'DRD4',\n",
       " 'DRD5',\n",
       " 'EDNRA',\n",
       " 'EDNRB',\n",
       " 'FFAR1',\n",
       " 'FFAR2',\n",
       " 'FFAR3',\n",
       " 'FFAR4',\n",
       " 'FPR1',\n",
       " 'FPR2',\n",
       " 'GALR1',\n",
       " 'GALR2',\n",
       " 'GALR3',\n",
       " 'GASR',\n",
       " 'GHSR',\n",
       " 'GNRHR',\n",
       " 'GP119',\n",
       " 'GP132',\n",
       " 'GP174',\n",
       " 'GP183',\n",
       " 'GPBAR',\n",
       " 'GPR17',\n",
       " 'GPR34',\n",
       " 'GPR35',\n",
       " 'GPR39',\n",
       " 'GPR4',\n",
       " 'GPR55',\n",
       " 'GPR84',\n",
       " 'GRPR',\n",
       " 'HCAR2',\n",
       " 'HCAR3',\n",
       " 'HRH1',\n",
       " 'HRH2',\n",
       " 'HRH3',\n",
       " 'HRH4',\n",
       " 'KISSR',\n",
       " 'LPAR1',\n",
       " 'LPAR2',\n",
       " 'LPAR3',\n",
       " 'LPAR4',\n",
       " 'LPAR5',\n",
       " 'LPAR6',\n",
       " 'LT4R1',\n",
       " 'LT4R2',\n",
       " 'MC3R',\n",
       " 'MC4R',\n",
       " 'MC5R',\n",
       " 'MCHR1',\n",
       " 'MCHR2',\n",
       " 'MRGX1',\n",
       " 'MRGX2',\n",
       " 'MSHR',\n",
       " 'MTLR',\n",
       " 'MTR1A',\n",
       " 'MTR1B',\n",
       " 'NK1R',\n",
       " 'NK2R',\n",
       " 'NK3R',\n",
       " 'NMBR',\n",
       " 'NMUR1',\n",
       " 'NMUR2',\n",
       " 'NPBW1',\n",
       " 'NPFF1',\n",
       " 'NPFF2',\n",
       " 'NPY1R',\n",
       " 'NPY5R',\n",
       " 'OGR1',\n",
       " 'OPRD',\n",
       " 'OPRK',\n",
       " 'OPRM',\n",
       " 'OPRX',\n",
       " 'OX1R',\n",
       " 'OX2R',\n",
       " 'OXGR1',\n",
       " 'OXYR',\n",
       " 'P2RY1',\n",
       " 'P2RY2',\n",
       " 'P2RY4',\n",
       " 'P2RY6',\n",
       " 'P2Y10',\n",
       " 'P2Y11',\n",
       " 'P2Y12',\n",
       " 'P2Y13',\n",
       " 'P2Y14',\n",
       " 'PAR1',\n",
       " 'PAR2',\n",
       " 'PD2R',\n",
       " 'PE2R1',\n",
       " 'PE2R2',\n",
       " 'PE2R3',\n",
       " 'PE2R4',\n",
       " 'PF2R',\n",
       " 'PI2R',\n",
       " 'PRLHR',\n",
       " 'PSYR',\n",
       " 'PTAFR',\n",
       " 'S1PR1',\n",
       " 'S1PR2',\n",
       " 'S1PR3',\n",
       " 'S1PR5',\n",
       " 'SSR1',\n",
       " 'SSR2',\n",
       " 'SSR3',\n",
       " 'SSR4',\n",
       " 'SSR5',\n",
       " 'TA2R',\n",
       " 'UR2R',\n",
       " 'V1AR',\n",
       " 'V1BR',\n",
       " 'V2R',\n",
       " 'CALCR',\n",
       " 'CRFR1',\n",
       " 'CRFR2',\n",
       " 'GIPR',\n",
       " 'GLP1R',\n",
       " 'GLP2R',\n",
       " 'GLR',\n",
       " 'PACR',\n",
       " 'PTH1R',\n",
       " 'PTH2R',\n",
       " 'VIPR1',\n",
       " 'GRM2',\n",
       " 'GRM4',\n",
       " 'GRM5',\n",
       " 'GRM6',\n",
       " 'GRM8']"
      ]
     },
     "execution_count": 24,
     "metadata": {},
     "output_type": "execute_result"
    }
   ],
   "source": [
    "list(measurements)"
   ]
  },
  {
   "cell_type": "code",
   "execution_count": 23,
   "id": "hollywood-milwaukee",
   "metadata": {},
   "outputs": [
    {
     "data": {
      "text/plain": [
       "173"
      ]
     },
     "execution_count": 23,
     "metadata": {},
     "output_type": "execute_result"
    }
   ],
   "source": [
    "len(measurements)"
   ]
  },
  {
   "cell_type": "code",
   "execution_count": 91,
   "id": "incredible-longitude",
   "metadata": {},
   "outputs": [],
   "source": [
    "class AffinityProcessor:\n",
    "    def __init__(self,\n",
    "                 path='data/couplings/',\n",
    "                 file='families_coupling.xlsx'):\n",
    "        self.y_types = ['Guide to Pharmacology', 'Log(Emax/EC50) ', 'pEC50 ', 'Emax ']\n",
    "        if 'sub' in file:\n",
    "            self.mode='sub'\n",
    "            self.data = pd.read_excel(path+file, header=[0, 1, 2], index_col=None)\n",
    "        else:\n",
    "            self.mode='fam'\n",
    "            self.data = pd.read_excel(path+file, header=[0, 1], index_col=None)\n",
    "        \n",
    "    \n",
    "    def __len__(self):\n",
    "        return len(self.data)\n",
    "    \n",
    "    def filter_group(self, group='GPCRdb'):\n",
    "        if self.mode=='fam':\n",
    "            self.data = self.data[self.data['Source', 'Group']==group]\n",
    "        else:\n",
    "            self.data = self.data[self.data['Source', 'Group', 'Unnamed: 0_level_2']==group]\n",
    "        \n",
    "    def filter_aff_type(self, y_type='pEC50 '):\n",
    "        cols_to_drop = [x for x in self.y_types if x != y_type]\n",
    "        self.data = self.data.drop(cols_to_drop, axis = 1)\n",
    "    \n",
    "    def get_genes(self):\n",
    "        if self.mode=='fam':\n",
    "            return list(self.data['Receptor', 'Uniprot'].unique())\n",
    "        else:\n",
    "            return list(self.data['Receptor', 'Uniprot', 'Unnamed: 4_level_2'].unique())"
   ]
  },
  {
   "cell_type": "code",
   "execution_count": null,
   "id": "minimal-layer",
   "metadata": {},
   "outputs": [],
   "source": [
    "class SequenceProcessor:\n",
    "    def __init__(self):\n",
    "        pass\n",
    "    # I need a class / function to handle the calls to get the uniprot sequence with generic sequence numbers"
   ]
  },
  {
   "cell_type": "code",
   "execution_count": null,
   "id": "indoor-advisory",
   "metadata": {},
   "outputs": [],
   "source": []
  },
  {
   "cell_type": "code",
   "execution_count": 92,
   "id": "actual-radius",
   "metadata": {},
   "outputs": [],
   "source": [
    "AP = AffinityProcessor()"
   ]
  },
  {
   "cell_type": "code",
   "execution_count": 93,
   "id": "foreign-friendship",
   "metadata": {},
   "outputs": [
    {
     "data": {
      "text/plain": [
       "417"
      ]
     },
     "execution_count": 93,
     "metadata": {},
     "output_type": "execute_result"
    }
   ],
   "source": [
    "AP.__len__()"
   ]
  },
  {
   "cell_type": "code",
   "execution_count": 94,
   "id": "capital-support",
   "metadata": {},
   "outputs": [],
   "source": [
    "AP.filter_group()"
   ]
  },
  {
   "cell_type": "code",
   "execution_count": 95,
   "id": "interested-morgan",
   "metadata": {},
   "outputs": [
    {
     "name": "stderr",
     "output_type": "stream",
     "text": [
      "C:\\Users\\Sideadmin\\.conda\\envs\\mt\\lib\\site-packages\\pandas\\core\\generic.py:4152: PerformanceWarning: dropping on a non-lexsorted multi-index without a level parameter may impact performance.\n",
      "  obj = obj._drop_axis(labels, axis, level=level, errors=errors)\n"
     ]
    }
   ],
   "source": [
    "AP.filter_aff_type()"
   ]
  },
  {
   "cell_type": "code",
   "execution_count": 96,
   "id": "naughty-astrology",
   "metadata": {},
   "outputs": [],
   "source": [
    "genes_ = AP.get_genes()"
   ]
  },
  {
   "cell_type": "code",
   "execution_count": 97,
   "id": "living-acrobat",
   "metadata": {},
   "outputs": [],
   "source": [
    "# genes"
   ]
  },
  {
   "cell_type": "code",
   "execution_count": 98,
   "id": "enormous-project",
   "metadata": {},
   "outputs": [],
   "source": [
    "# genes_"
   ]
  },
  {
   "cell_type": "code",
   "execution_count": 99,
   "id": "public-permit",
   "metadata": {},
   "outputs": [],
   "source": [
    "compat = [x for x in genes_ if x in genes]\n",
    "incompat = [x for x in genes_ if x not in genes]"
   ]
  },
  {
   "cell_type": "code",
   "execution_count": 100,
   "id": "cheap-combining",
   "metadata": {},
   "outputs": [
    {
     "data": {
      "text/plain": [
       "70"
      ]
     },
     "execution_count": 100,
     "metadata": {},
     "output_type": "execute_result"
    }
   ],
   "source": [
    "len(compat)"
   ]
  },
  {
   "cell_type": "code",
   "execution_count": 101,
   "id": "corresponding-shannon",
   "metadata": {},
   "outputs": [
    {
     "data": {
      "text/plain": [
       "103"
      ]
     },
     "execution_count": 101,
     "metadata": {},
     "output_type": "execute_result"
    }
   ],
   "source": [
    "len(incompat)"
   ]
  },
  {
   "cell_type": "markdown",
   "id": "potential-circle",
   "metadata": {},
   "source": [
    "# DATALOADER"
   ]
  },
  {
   "cell_type": "code",
   "execution_count": 16,
   "id": "ongoing-australian",
   "metadata": {},
   "outputs": [],
   "source": [
    "class DataLoader:\n",
    "    def __init__(self,\n",
    "                 setting=0):\n",
    "        self.setting_dict = {\n",
    "            0: 'seq_to_contact_maps',\n",
    "            1: 'struct_to_contact_maps',\n",
    "            2: 'selectivity_from_maps',\n",
    "            3: 'seq_to_weights',\n",
    "            4: 'inact_struct_to_weights',\n",
    "            5: 'act_struct_to_weights',\n",
    "            6: 'phi_psi'\n",
    "        }\n",
    "        \n",
    "        self.setting = setting\n",
    "        \n",
    "        if self.setting not in self.setting_dict.keys():\n",
    "            print(\"Unavailable setting number! Please chose a valid setting number ==> \", self.setting_dict.keys())\n",
    "            return None\n",
    "        \n",
    "        print(\"Using setting {} ({}).\".format(self.setting, self.setting_dict[self.setting]))\n",
    "        # DEPENDING ON SETTINGS WE LOAD DIFFERENT DATASETS AND COMBINE THEM TO FORM *SAMPLES*\n",
    "        \n",
    "        if self.setting == 0:\n",
    "            # have to load active complexes \n",
    "            # have to calc dists / contacts\n",
    "            # x=sequences of lock and key, y = contacts\n",
    "            pass\n",
    "        elif self.setting == 1:\n",
    "            # have to load active complexes\n",
    "            # have to calc dists / contacts\n",
    "            # x=structs of lock and key, y = contacts\n",
    "            pass\n",
    "        elif self.setting == 2:\n",
    "            # load active complexes\n",
    "            # calc dists / contacts\n",
    "            # predict selectivity\n",
    "            pass\n",
    "        elif self.setting == 3:\n",
    "            # load seqs (uniprot) for each gene with associated affinities\n",
    "            # predict selectivity\n",
    "            # evaluate weights after\n",
    "            pass\n",
    "        elif self.setting == 4:\n",
    "            # load inactive structures\n",
    "            # cross reference affinities (based on uniprot)\n",
    "            # select region based on generic residue number\n",
    "            # predict selectivity\n",
    "            # evaluate weights after\n",
    "            pass\n",
    "        elif self.setting == 5:\n",
    "            # load active states\n",
    "            # we could use *false* inputs by swapping the c-tail of different gproteins in a manner where they \"fit into the pocket\"\n",
    "            # predict selectivity\n",
    "            # evaluate weights after\n",
    "            pass\n",
    "        elif self.setting == 6:\n",
    "            # select region with generic residue numbers\n",
    "            # calculate psi / phi of active inactive complexes\n",
    "            # calculate deltas\n",
    "            # predict deltas / final state (input can either be psi and phi or just the residue type)\n",
    "            pass\n",
    "        \n",
    "    def __getitem__(self, idx):\n",
    "        return self.data.iloc[idx]\n",
    "    \n",
    "    def init_data(self):\n",
    "        pass\n",
    "    \n",
    "    def get_seq(self):\n",
    "        pass\n",
    "    \n",
    "    def get_struct(self, CifProcessor):\n",
    "        # based on setting\n",
    "        pass"
   ]
  },
  {
   "cell_type": "code",
   "execution_count": 17,
   "id": "fixed-sigma",
   "metadata": {},
   "outputs": [
    {
     "name": "stdout",
     "output_type": "stream",
     "text": [
      "Using setting 0 (seq_to_contact_maps).\n"
     ]
    }
   ],
   "source": [
    "dl = DataLoader(0)"
   ]
  },
  {
   "cell_type": "code",
   "execution_count": null,
   "id": "starting-breathing",
   "metadata": {},
   "outputs": [],
   "source": [
    "# TBD: \n",
    "# structure to distances (active complexes) ==> the other chain...\n",
    "# "
   ]
  },
  {
   "cell_type": "code",
   "execution_count": null,
   "id": "pretty-virus",
   "metadata": {},
   "outputs": [],
   "source": []
  },
  {
   "cell_type": "code",
   "execution_count": null,
   "id": "august-avatar",
   "metadata": {},
   "outputs": [],
   "source": []
  },
  {
   "cell_type": "code",
   "execution_count": null,
   "id": "adult-granny",
   "metadata": {},
   "outputs": [],
   "source": []
  },
  {
   "cell_type": "markdown",
   "id": "broke-variety",
   "metadata": {},
   "source": [
    "# NNS"
   ]
  },
  {
   "cell_type": "code",
   "execution_count": 1,
   "id": "sunset-stuff",
   "metadata": {},
   "outputs": [],
   "source": [
    "from networks import *"
   ]
  },
  {
   "cell_type": "code",
   "execution_count": null,
   "id": "religious-hypothetical",
   "metadata": {},
   "outputs": [],
   "source": []
  },
  {
   "cell_type": "markdown",
   "id": "acceptable-distributor",
   "metadata": {},
   "source": [
    "## predict contact maps based on sequence"
   ]
  },
  {
   "cell_type": "markdown",
   "id": "mighty-postcard",
   "metadata": {},
   "source": [
    "## predict contact maps based on structures (inactive)"
   ]
  },
  {
   "cell_type": "markdown",
   "id": "damaged-watershed",
   "metadata": {},
   "source": [
    "## predict selectivity based on contact maps"
   ]
  },
  {
   "cell_type": "markdown",
   "id": "technological-canberra",
   "metadata": {},
   "source": [
    "## predict selectivity based on sequence -> evaluate weights to create interaction weights"
   ]
  },
  {
   "cell_type": "markdown",
   "id": "laughing-reality",
   "metadata": {},
   "source": [
    "## predict selectivity based on structure (only inactive pocket) -> evaluate weights to create interaction weights"
   ]
  },
  {
   "cell_type": "markdown",
   "id": "raised-madison",
   "metadata": {},
   "source": [
    "## predict selectivity based on structure (active pocket + c-tail) -> evaluate weights to create interaction weights"
   ]
  },
  {
   "cell_type": "code",
   "execution_count": null,
   "id": "nominated-bristol",
   "metadata": {},
   "outputs": [],
   "source": []
  },
  {
   "cell_type": "code",
   "execution_count": null,
   "id": "weird-munich",
   "metadata": {},
   "outputs": [],
   "source": []
  },
  {
   "cell_type": "markdown",
   "id": "specified-whale",
   "metadata": {},
   "source": [
    "# Thoughts?"
   ]
  },
  {
   "cell_type": "markdown",
   "id": "covered-cliff",
   "metadata": {},
   "source": [
    "Maybe have a look in the plots at how variant the icl4 is within its own groups in the inactive state,\n",
    "this will have a big influence on setting 6 and structure based approaches if flexibility is present in the inactive state.\n",
    "For sequence based approaches this may be irrelevant.."
   ]
  },
  {
   "cell_type": "code",
   "execution_count": null,
   "id": "adjusted-purple",
   "metadata": {},
   "outputs": [],
   "source": []
  }
 ],
 "metadata": {
  "kernelspec": {
   "display_name": "Python 3",
   "language": "python",
   "name": "python3"
  },
  "language_info": {
   "codemirror_mode": {
    "name": "ipython",
    "version": 3
   },
   "file_extension": ".py",
   "mimetype": "text/x-python",
   "name": "python",
   "nbconvert_exporter": "python",
   "pygments_lexer": "ipython3",
   "version": "3.8.5"
  }
 },
 "nbformat": 4,
 "nbformat_minor": 5
}
