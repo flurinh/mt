{
 "cells": [
  {
   "cell_type": "code",
   "execution_count": 1,
   "id": "f8ea0f86",
   "metadata": {},
   "outputs": [],
   "source": [
    "from download import *\n",
    "from processor import *"
   ]
  },
  {
   "cell_type": "code",
   "execution_count": 2,
   "id": "c01faf21",
   "metadata": {},
   "outputs": [
    {
     "name": "stderr",
     "output_type": "stream",
     "text": [
      "\r",
      "  0%|                                                                                                                                        | 0/1 [00:00<?, ?it/s]"
     ]
    },
    {
     "name": "stdout",
     "output_type": "stream",
     "text": [
      "Reloading pdb files...\n",
      "Missing pdbs: ['1F88']\n"
     ]
    },
    {
     "name": "stderr",
     "output_type": "stream",
     "text": [
      "100%|████████████████████████████████████████████████████████████████████████████████████████████████████████████████████████████████| 1/1 [00:01<00:00,  1.87s/it]\n"
     ]
    }
   ],
   "source": [
    "D = Download(fileformat='cif')\n",
    "#D.download_alignment()\n",
    "D.download_table(reload=True)\n",
    "D.download_pdbs(reload=True)"
   ]
  },
  {
   "cell_type": "code",
   "execution_count": 3,
   "id": "cf00edc6",
   "metadata": {},
   "outputs": [
    {
     "data": {
      "text/plain": [
       "\"D.add_row_table(uniprot='',\\n                receptor_family='',\\n                cl='',\\n                species='',\\n                method='',\\n                pdb='',\\n                resolution='',\\n                pref_chain='A',\\n                state='Inactive',\\n                deg_act='-',\\n                family='-',\\n                subtype='-',\\n                function='')\\n                \\nD.save_table(filename='table.pkl')\""
      ]
     },
     "execution_count": 3,
     "metadata": {},
     "output_type": "execute_result"
    }
   ],
   "source": [
    "\"\"\"D.add_row_table(uniprot='',\n",
    "                receptor_family='',\n",
    "                cl='',\n",
    "                species='',\n",
    "                method='',\n",
    "                pdb='',\n",
    "                resolution='',\n",
    "                pref_chain='A',\n",
    "                state='Inactive',\n",
    "                deg_act='-',\n",
    "                family='-',\n",
    "                subtype='-',\n",
    "                function='')\n",
    "                \n",
    "D.save_table(filename='table.pkl')\"\"\""
   ]
  },
  {
   "cell_type": "code",
   "execution_count": 27,
   "id": "d2e2076e",
   "metadata": {},
   "outputs": [],
   "source": [
    "p = CifProcessor()"
   ]
  },
  {
   "cell_type": "code",
   "execution_count": 28,
   "id": "4a5baf30",
   "metadata": {},
   "outputs": [],
   "source": [
    "p.get_metatable()"
   ]
  },
  {
   "cell_type": "code",
   "execution_count": 29,
   "id": "e595e0ab",
   "metadata": {},
   "outputs": [],
   "source": [
    "p.read_pkl_metainfo()"
   ]
  },
  {
   "cell_type": "code",
   "execution_count": 30,
   "id": "d61be44d",
   "metadata": {},
   "outputs": [
    {
     "data": {
      "text/html": [
       "<div>\n",
       "<style scoped>\n",
       "    .dataframe tbody tr th:only-of-type {\n",
       "        vertical-align: middle;\n",
       "    }\n",
       "\n",
       "    .dataframe tbody tr th {\n",
       "        vertical-align: top;\n",
       "    }\n",
       "\n",
       "    .dataframe thead th {\n",
       "        text-align: right;\n",
       "    }\n",
       "</style>\n",
       "<table border=\"1\" class=\"dataframe\">\n",
       "  <thead>\n",
       "    <tr style=\"text-align: right;\">\n",
       "      <th></th>\n",
       "      <th>uniprot(gene)</th>\n",
       "      <th>receptor family</th>\n",
       "      <th>Cl.</th>\n",
       "      <th>Species</th>\n",
       "      <th>Method</th>\n",
       "      <th>PDB</th>\n",
       "      <th>Resolution</th>\n",
       "      <th>Preferred Chain</th>\n",
       "      <th>State</th>\n",
       "      <th>Degree active %</th>\n",
       "      <th>Family</th>\n",
       "      <th>Subtype</th>\n",
       "      <th>Function</th>\n",
       "    </tr>\n",
       "  </thead>\n",
       "  <tbody>\n",
       "    <tr>\n",
       "      <th>529</th>\n",
       "      <td>DRD1</td>\n",
       "      <td>Dopamine</td>\n",
       "      <td>A(Rhodopsin)</td>\n",
       "      <td>Human</td>\n",
       "      <td>X-ray</td>\n",
       "      <td>7JOZ</td>\n",
       "      <td>3.8</td>\n",
       "      <td>R</td>\n",
       "      <td>Active</td>\n",
       "      <td>100</td>\n",
       "      <td>Gs</td>\n",
       "      <td>αs</td>\n",
       "      <td>Agonist</td>\n",
       "    </tr>\n",
       "  </tbody>\n",
       "</table>\n",
       "</div>"
      ],
      "text/plain": [
       "    uniprot(gene) receptor family           Cl. Species Method   PDB  \\\n",
       "529          DRD1        Dopamine  A(Rhodopsin)   Human  X-ray  7JOZ   \n",
       "\n",
       "     Resolution Preferred Chain   State Degree active % Family Subtype  \\\n",
       "529         3.8               R  Active             100     Gs      αs   \n",
       "\n",
       "    Function  \n",
       "529  Agonist  "
      ]
     },
     "execution_count": 30,
     "metadata": {},
     "output_type": "execute_result"
    }
   ],
   "source": [
    "p.table[p.table['PDB']=='7JOZ']"
   ]
  },
  {
   "cell_type": "code",
   "execution_count": 31,
   "id": "0f006092",
   "metadata": {},
   "outputs": [
    {
     "data": {
      "text/plain": [
       "545"
      ]
     },
     "execution_count": 31,
     "metadata": {},
     "output_type": "execute_result"
    }
   ],
   "source": [
    "len(p.pdb_ids)"
   ]
  },
  {
   "cell_type": "code",
   "execution_count": 32,
   "id": "b19a7d24",
   "metadata": {},
   "outputs": [
    {
     "data": {
      "text/plain": [
       "['4UHR',\n",
       " '2ZIY',\n",
       " '5XSZ',\n",
       " '6PS7',\n",
       " '6ME5',\n",
       " '6WH4',\n",
       " '7D7M',\n",
       " '6HLP',\n",
       " '6AKX',\n",
       " '3KJ6',\n",
       " '4Z9G',\n",
       " '6ME4',\n",
       " '7CMV',\n",
       " '2YCZ',\n",
       " '6VMS',\n",
       " '6PS0',\n",
       " '3AYM',\n",
       " '6WW2',\n",
       " '5NM4',\n",
       " '6PS5',\n",
       " '6IQL',\n",
       " '6TPN',\n",
       " '5UZ7',\n",
       " '4K5Y',\n",
       " '6K41',\n",
       " '3NYA',\n",
       " '7CKX',\n",
       " '6PT2',\n",
       " '6ME8',\n",
       " '6MH8',\n",
       " '5CGC',\n",
       " '6TPG',\n",
       " '6NIY',\n",
       " '5V56',\n",
       " '5WB2',\n",
       " '7BW0',\n",
       " '7LCI',\n",
       " '6HLL',\n",
       " '6O3C',\n",
       " '4ZJC',\n",
       " '7KNT',\n",
       " '6LPJ',\n",
       " '6LPB',\n",
       " '6RZ4',\n",
       " '6B73',\n",
       " '4WW3',\n",
       " '6H7M',\n",
       " '4BUO',\n",
       " '4IAR',\n",
       " '7L1V',\n",
       " '4Z34',\n",
       " '6UO8',\n",
       " '4RWD',\n",
       " '5TZR',\n",
       " '6N4B',\n",
       " '2YDV',\n",
       " '6C1Q',\n",
       " '6W2X',\n",
       " '5K2B',\n",
       " '6M1H',\n",
       " '5TE5',\n",
       " '6KJV',\n",
       " '3P0G',\n",
       " '4N4W',\n",
       " '5WS3',\n",
       " '5W0P',\n",
       " '2I37',\n",
       " '6RZ8',\n",
       " '6LW5',\n",
       " '7DTV',\n",
       " '4PHU',\n",
       " '6VN7',\n",
       " '7C7Q',\n",
       " '6XBM',\n",
       " '6PS6',\n",
       " '6XBJ',\n",
       " '5X93',\n",
       " '4ZJ8',\n",
       " '6IIU',\n",
       " '5V54',\n",
       " '4PXZ',\n",
       " '7JVQ',\n",
       " '6WGT',\n",
       " '4QIN',\n",
       " '4O9R',\n",
       " '5EN0',\n",
       " '5DGY',\n",
       " '6IIV',\n",
       " '6RZ6',\n",
       " '5XEZ',\n",
       " '6A94',\n",
       " '6CM4',\n",
       " '6WQA',\n",
       " '6XOX',\n",
       " '6KK1',\n",
       " '6AKY',\n",
       " '7DTU',\n",
       " '5XR8',\n",
       " '4EA3',\n",
       " '1U19',\n",
       " '5NM2',\n",
       " '5EE7',\n",
       " '6I9K',\n",
       " '3VGA',\n",
       " '6M9T',\n",
       " '6B3J',\n",
       " '6UVA',\n",
       " '6TQ9',\n",
       " '6ME2',\n",
       " '2YCW',\n",
       " '6PS4',\n",
       " '5GLI',\n",
       " '4BEY',\n",
       " '7E32',\n",
       " '2J4Y',\n",
       " '4X1H',\n",
       " '5MZP',\n",
       " '5O9H',\n",
       " '4A4M',\n",
       " '6G79',\n",
       " '4UG2',\n",
       " '7LCJ',\n",
       " '4XT1',\n",
       " '7DHR',\n",
       " '4BV0',\n",
       " '1HZX',\n",
       " '6OIK',\n",
       " '4L6R',\n",
       " '6N48',\n",
       " '5JQH',\n",
       " '3NY9',\n",
       " '6J20',\n",
       " '4LDL',\n",
       " '4GPO',\n",
       " '6BQG',\n",
       " '6GPX',\n",
       " '6LML',\n",
       " '5NDZ',\n",
       " '3OE8',\n",
       " '6X1A',\n",
       " '6DRY',\n",
       " '4GRV',\n",
       " '6N51',\n",
       " '6DDE',\n",
       " '4MQS',\n",
       " '6LFO',\n",
       " '6X18',\n",
       " '6S0L',\n",
       " '3AYN',\n",
       " '3V2Y',\n",
       " '4PXF',\n",
       " '5OM1',\n",
       " '6LRY',\n",
       " '3C9L',\n",
       " '6GPS',\n",
       " '2YCX',\n",
       " '6LI3',\n",
       " '6TQ7',\n",
       " '3C9M',\n",
       " '6QZH',\n",
       " '6PT0',\n",
       " '6RZ5',\n",
       " '5IU4',\n",
       " '5VRA',\n",
       " '5ZHP',\n",
       " '6P9Y',\n",
       " '4XT3',\n",
       " '6FFI',\n",
       " '6PEL',\n",
       " '6E3Y',\n",
       " '4NTJ',\n",
       " '6KQI',\n",
       " '7C7S',\n",
       " '6D35',\n",
       " '6D9H',\n",
       " '6GT3',\n",
       " '6OS2',\n",
       " '6PB0',\n",
       " '6DDF',\n",
       " '6XBL',\n",
       " '3EML',\n",
       " '6UUN',\n",
       " '7CA3',\n",
       " '6PGS',\n",
       " '6LI2',\n",
       " '7L1U',\n",
       " '7LJD',\n",
       " '7DFL',\n",
       " '6WHC',\n",
       " '5X33',\n",
       " '6H7O',\n",
       " '5VBL',\n",
       " '6TKO',\n",
       " '6V9S',\n",
       " '5ZKB',\n",
       " '6DRX',\n",
       " '6MET',\n",
       " '7CA5',\n",
       " '3REY',\n",
       " '6FUF',\n",
       " '4RWA',\n",
       " '6KPC',\n",
       " '5T1A',\n",
       " '6LFL',\n",
       " '6TOT',\n",
       " '6FJ3',\n",
       " '6JOD',\n",
       " '5TVN',\n",
       " '6OT0',\n",
       " '5DYS',\n",
       " '5ZK3',\n",
       " '6A93',\n",
       " '5X7D',\n",
       " '6OS9',\n",
       " '5CXV',\n",
       " '6OMM',\n",
       " '4AMI',\n",
       " '5MZJ',\n",
       " '6OS0',\n",
       " '5ZBQ',\n",
       " '3PWH',\n",
       " '5KW2',\n",
       " '4NC3',\n",
       " '3UZC',\n",
       " '6PT3',\n",
       " '6MXT',\n",
       " '5WKT',\n",
       " '5YWY',\n",
       " '5XJM',\n",
       " '5OLV',\n",
       " '3OE0',\n",
       " '5K2C',\n",
       " '7L0Q',\n",
       " '5NDD',\n",
       " '5L7D',\n",
       " '6C1R',\n",
       " '6DO1',\n",
       " '5DHG',\n",
       " '6KNM',\n",
       " '5YQZ',\n",
       " '7C61',\n",
       " '2Y01',\n",
       " '4LDO',\n",
       " '7JOZ',\n",
       " '7BR3',\n",
       " '5CGD',\n",
       " '4OR2',\n",
       " '4QIM',\n",
       " '3VG9',\n",
       " '2RH1',\n",
       " '4ZWJ',\n",
       " '5UIG',\n",
       " '4EJ4',\n",
       " '4MQT',\n",
       " '4RWS',\n",
       " '3ZEV',\n",
       " '6WHA',\n",
       " '6OYA',\n",
       " '6TQ4',\n",
       " '3PBL',\n",
       " '5XPR',\n",
       " '3VW7',\n",
       " '6OL9',\n",
       " '6IGL',\n",
       " '6M1I',\n",
       " '5WIU',\n",
       " '4BWB',\n",
       " '6FKC',\n",
       " '7D3S',\n",
       " '4S0V',\n",
       " '5ZBH',\n",
       " '6HLO',\n",
       " '6U1N',\n",
       " '5T04',\n",
       " '5VEX',\n",
       " '5K2A',\n",
       " '5IU7',\n",
       " '6GDG',\n",
       " '5D6L',\n",
       " '1L9H',\n",
       " '4ZUD',\n",
       " '3PXO',\n",
       " '7E33',\n",
       " '6TP4',\n",
       " '6FK8',\n",
       " '5DHH',\n",
       " '5NLX',\n",
       " '5YHL',\n",
       " '2Y03',\n",
       " '4AMJ',\n",
       " '6TP6',\n",
       " '6FKA',\n",
       " '7CZ5',\n",
       " '5YC8',\n",
       " '4DJH',\n",
       " '2Y02',\n",
       " '6OFJ',\n",
       " '6FFH',\n",
       " '6TO7',\n",
       " '6PS8',\n",
       " '3V2W',\n",
       " '6TP3',\n",
       " '5TE3',\n",
       " '6H7L',\n",
       " '3OE9',\n",
       " '4U14',\n",
       " '6DS0',\n",
       " '5K2D',\n",
       " '6PS2',\n",
       " '3DQB',\n",
       " '3D4S',\n",
       " '4XEE',\n",
       " '7CFN',\n",
       " '6TQ6',\n",
       " '5LWE',\n",
       " '6NI3',\n",
       " '2VT4',\n",
       " '6RZ7',\n",
       " '6RZ9',\n",
       " '6H7J',\n",
       " '6WPW',\n",
       " '3RZE',\n",
       " '6K1Q',\n",
       " '6BQH',\n",
       " '6VJM',\n",
       " '6J21',\n",
       " '6TOS',\n",
       " '6NBF',\n",
       " '6NWE',\n",
       " '5OLH',\n",
       " '6Z10',\n",
       " '6D32',\n",
       " '6XBK',\n",
       " '7LJC',\n",
       " '6PH7',\n",
       " '7CUM',\n",
       " '6KK7',\n",
       " '5WF6',\n",
       " '6ME3',\n",
       " '7CFM',\n",
       " '6QNO',\n",
       " '4Z35',\n",
       " '6OIJ',\n",
       " '6UOA',\n",
       " '7CKW',\n",
       " '3CAP',\n",
       " '6TPJ',\n",
       " '3PQR',\n",
       " '4U15',\n",
       " '6KPF',\n",
       " '7E2Y',\n",
       " '5WF5',\n",
       " '6ME7',\n",
       " '3SN6',\n",
       " '4IAQ',\n",
       " '5ZTY',\n",
       " '6LN2',\n",
       " '6LFM',\n",
       " '5UIW',\n",
       " '4YAY',\n",
       " '7CKZ',\n",
       " '6ZDR',\n",
       " '7C6A',\n",
       " '4XNW',\n",
       " '7CRH',\n",
       " '5U09',\n",
       " '7CMU',\n",
       " '2R4S',\n",
       " '5F8U',\n",
       " '2PED',\n",
       " '7DTT',\n",
       " '3ODU',\n",
       " '6KUY',\n",
       " '5L7I',\n",
       " '4Z36',\n",
       " '6K42',\n",
       " '4QKX',\n",
       " '6LPL',\n",
       " '3OAX',\n",
       " '5UVI',\n",
       " '6ME6',\n",
       " '5VAI',\n",
       " '5ZKP',\n",
       " '3PDS',\n",
       " '7K15',\n",
       " '3OE6',\n",
       " '6KPG',\n",
       " '5WB1',\n",
       " '6KUW',\n",
       " '3NY8',\n",
       " '7LCK',\n",
       " '6LUQ',\n",
       " '3RFM',\n",
       " '6N52',\n",
       " '5OLG',\n",
       " '6FK7',\n",
       " '6ZDV',\n",
       " '5IU8',\n",
       " '5GLH',\n",
       " '5NJ6',\n",
       " '3UZA',\n",
       " '5N2S',\n",
       " '5WQC',\n",
       " '5UNG',\n",
       " '1GZM',\n",
       " '2HPY',\n",
       " '6TOD',\n",
       " '7E2X',\n",
       " '6AQF',\n",
       " '4PY0',\n",
       " '5UNH',\n",
       " '6PB1',\n",
       " '4XES',\n",
       " '6LPK',\n",
       " '2I36',\n",
       " '6CMO',\n",
       " '6NBI',\n",
       " '5TZY',\n",
       " '5UEN',\n",
       " '6RNK',\n",
       " '5IUA',\n",
       " '7E2Z',\n",
       " '6LI1',\n",
       " '6LMK',\n",
       " '7C2E',\n",
       " '4EIY',\n",
       " '5WIV',\n",
       " '3ZPR',\n",
       " '7L0R',\n",
       " '6JZH',\n",
       " '6FK9',\n",
       " '4XNV',\n",
       " '7D76',\n",
       " '6E67',\n",
       " '6IBL',\n",
       " '4IB4',\n",
       " '7CKY',\n",
       " '6WI9',\n",
       " '4DAJ',\n",
       " '3ZPQ',\n",
       " '6IGK',\n",
       " '6BD4',\n",
       " '5N2R',\n",
       " '5XRA',\n",
       " '5VEW',\n",
       " '5D5B',\n",
       " '6MEO',\n",
       " '5A8E',\n",
       " '4LDE',\n",
       " '6OSA',\n",
       " '6WWZ',\n",
       " '7DHI',\n",
       " '5NX2',\n",
       " '7JVP',\n",
       " '4DKL',\n",
       " '4J4Q',\n",
       " '4JKV',\n",
       " '6KP6',\n",
       " '6PS1',\n",
       " '5ZKQ',\n",
       " '7JVR',\n",
       " '4U16',\n",
       " '7L0S',\n",
       " '2Y04',\n",
       " '6KO5',\n",
       " '6PWC',\n",
       " '6WJC',\n",
       " '6WZG',\n",
       " '6P9X',\n",
       " '7D77',\n",
       " '2R4R',\n",
       " '5IUB',\n",
       " '6W25',\n",
       " '6FK6',\n",
       " '6ME9',\n",
       " '5DSG',\n",
       " '3QAK',\n",
       " '5OM4',\n",
       " '6D27',\n",
       " '6OBA',\n",
       " '7DFP',\n",
       " '6ORV',\n",
       " '6WIV',\n",
       " '6VCB',\n",
       " '6OS1',\n",
       " '5TGZ',\n",
       " '6NBH',\n",
       " '4GBR',\n",
       " '6DRZ',\n",
       " '6OY9',\n",
       " '6H7N',\n",
       " '6TPK',\n",
       " '6UUS',\n",
       " '6W2Y',\n",
       " '2X72',\n",
       " '7KNU',\n",
       " '7AD3',\n",
       " '4MBS',\n",
       " '7DDZ',\n",
       " '4N6H',\n",
       " '4OO9',\n",
       " '7JJO',\n",
       " '6PS3',\n",
       " '3UON',\n",
       " '7L0P',\n",
       " '6D26',\n",
       " '6VI4',\n",
       " '7ARO',\n",
       " '2I35',\n",
       " '7AUE',\n",
       " '4BEZ',\n",
       " '7BZ2',\n",
       " '5JTB',\n",
       " '6UO9',\n",
       " '7DTW',\n",
       " '5OLZ',\n",
       " '7JV5',\n",
       " '5OLO',\n",
       " '5V57',\n",
       " '6X19',\n",
       " '5UNF',\n",
       " '6S0Q',\n",
       " '5ZKC',\n",
       " '6E59',\n",
       " '6FKB',\n",
       " '6IBB',\n",
       " '6PRZ',\n",
       " '4BVN',\n",
       " '6FKD',\n",
       " '5C1M',\n",
       " '5TUD',\n",
       " '5D5A',\n",
       " '6AK3',\n",
       " '6KUX',\n",
       " '2YCY',\n",
       " '6UP7',\n",
       " '5ZK8',\n",
       " '2YDO',\n",
       " '2Y00',\n",
       " '5G53',\n",
       " '6LI0',\n",
       " '2G87',\n",
       " '1f88',\n",
       " '5XF1',\n",
       " '2Z73']"
      ]
     },
     "execution_count": 32,
     "metadata": {},
     "output_type": "execute_result"
    }
   ],
   "source": [
    "p.pdb_ids"
   ]
  },
  {
   "cell_type": "code",
   "execution_count": null,
   "id": "b17ff180",
   "metadata": {},
   "outputs": [],
   "source": []
  },
  {
   "cell_type": "code",
   "execution_count": 33,
   "id": "56c538e1",
   "metadata": {},
   "outputs": [],
   "source": [
    "# p.del_pkl()"
   ]
  },
  {
   "cell_type": "code",
   "execution_count": 34,
   "id": "b2f9983c",
   "metadata": {},
   "outputs": [
    {
     "name": "stderr",
     "output_type": "stream",
     "text": [
      "545it [04:03,  2.24it/s]\n"
     ]
    }
   ],
   "source": [
    "p.make_raws(overwrite=True)"
   ]
  },
  {
   "cell_type": "code",
   "execution_count": 35,
   "id": "9f7daaae",
   "metadata": {},
   "outputs": [
    {
     "name": "stdout",
     "output_type": "stream",
     "text": [
      "Keeping set limit 545!\n"
     ]
    }
   ],
   "source": [
    "p.read_pkl(folder='data/raw/')"
   ]
  },
  {
   "cell_type": "code",
   "execution_count": 36,
   "id": "198ef104",
   "metadata": {},
   "outputs": [],
   "source": [
    "x =  p.dfl[0]"
   ]
  },
  {
   "cell_type": "code",
   "execution_count": 38,
   "id": "588b04fe",
   "metadata": {},
   "outputs": [],
   "source": [
    "p.allow_exception=True"
   ]
  },
  {
   "cell_type": "code",
   "execution_count": 39,
   "id": "1c57406d",
   "metadata": {},
   "outputs": [
    {
     "name": "stderr",
     "output_type": "stream",
     "text": [
      "  2%|██▊                                                                                                                          | 12/545 [00:59<49:01,  5.52s/it]"
     ]
    },
    {
     "name": "stdout",
     "output_type": "stream",
     "text": [
      "Error parsing 7CMV\n"
     ]
    },
    {
     "name": "stderr",
     "output_type": "stream",
     "text": [
      "  9%|███████████▏                                                                                                                 | 49/545 [04:05<38:03,  4.60s/it]"
     ]
    },
    {
     "name": "stdout",
     "output_type": "stream",
     "text": [
      "Error parsing 7L1V\n"
     ]
    },
    {
     "name": "stderr",
     "output_type": "stream",
     "text": [
      " 13%|███████████████▊                                                                                                             | 69/545 [05:42<38:33,  4.86s/it]"
     ]
    },
    {
     "name": "stdout",
     "output_type": "stream",
     "text": [
      "Error parsing 7DTV\n"
     ]
    },
    {
     "name": "stderr",
     "output_type": "stream",
     "text": [
      " 18%|██████████████████████                                                                                                       | 96/545 [07:49<33:42,  4.50s/it]"
     ]
    },
    {
     "name": "stdout",
     "output_type": "stream",
     "text": [
      "Error parsing 7DTU\n"
     ]
    },
    {
     "name": "stderr",
     "output_type": "stream",
     "text": [
      " 21%|█████████████████████████▋                                                                                                  | 113/545 [09:06<32:50,  4.56s/it]"
     ]
    },
    {
     "name": "stdout",
     "output_type": "stream",
     "text": [
      "Error parsing 7E32\n"
     ]
    },
    {
     "name": "stderr",
     "output_type": "stream",
     "text": [
      " 34%|██████████████████████████████████████████                                                                                  | 185/545 [14:48<30:59,  5.17s/it]"
     ]
    },
    {
     "name": "stdout",
     "output_type": "stream",
     "text": [
      "Error parsing 7L1U\n"
     ]
    },
    {
     "name": "stderr",
     "output_type": "stream",
     "text": [
      " 34%|██████████████████████████████████████████▌                                                                                 | 187/545 [14:57<29:11,  4.89s/it]"
     ]
    },
    {
     "name": "stdout",
     "output_type": "stream",
     "text": [
      "Error parsing 7DFL\n"
     ]
    },
    {
     "name": "stderr",
     "output_type": "stream",
     "text": [
      " 45%|███████████████████████████████████████████████████████▎                                                                    | 243/545 [19:20<23:52,  4.74s/it]"
     ]
    },
    {
     "name": "stdout",
     "output_type": "stream",
     "text": [
      "Error parsing 7JOZ\n"
     ]
    },
    {
     "name": "stderr",
     "output_type": "stream",
     "text": [
      " 52%|████████████████████████████████████████████████████████████████▏                                                           | 282/545 [22:25<20:28,  4.67s/it]"
     ]
    },
    {
     "name": "stdout",
     "output_type": "stream",
     "text": [
      "Error parsing 7E33\n"
     ]
    },
    {
     "name": "stderr",
     "output_type": "stream",
     "text": [
      " 64%|███████████████████████████████████████████████████████████████████████████████▋                                            | 350/545 [28:02<16:21,  5.03s/it]"
     ]
    },
    {
     "name": "stdout",
     "output_type": "stream",
     "text": [
      "Error parsing 7E2Y\n"
     ]
    },
    {
     "name": "stderr",
     "output_type": "stream",
     "text": [
      " 67%|███████████████████████████████████████████████████████████████████████████████████▎                                        | 366/545 [29:20<14:34,  4.89s/it]"
     ]
    },
    {
     "name": "stdout",
     "output_type": "stream",
     "text": [
      "Error parsing 7CMU\n"
     ]
    },
    {
     "name": "stderr",
     "output_type": "stream",
     "text": [
      " 68%|████████████████████████████████████████████████████████████████████████████████████▏                                       | 370/545 [29:39<14:18,  4.91s/it]"
     ]
    },
    {
     "name": "stdout",
     "output_type": "stream",
     "text": [
      "Error parsing 7DTT\n"
     ]
    },
    {
     "name": "stderr",
     "output_type": "stream",
     "text": [
      " 75%|████████████████████████████████████████████████████████████████████████████████████████████▌                               | 407/545 [32:38<11:08,  4.85s/it]"
     ]
    },
    {
     "name": "stdout",
     "output_type": "stream",
     "text": [
      "Error parsing 7E2X\n"
     ]
    },
    {
     "name": "stderr",
     "output_type": "stream",
     "text": [
      " 77%|███████████████████████████████████████████████████████████████████████████████████████████████▊                            | 421/545 [33:48<10:13,  4.95s/it]"
     ]
    },
    {
     "name": "stdout",
     "output_type": "stream",
     "text": [
      "Error parsing 7E2Z\n"
     ]
    },
    {
     "name": "stderr",
     "output_type": "stream",
     "text": [
      " 93%|███████████████████████████████████████████████████████████████████████████████████████████████████████████████████▎        | 507/545 [40:58<03:09,  4.99s/it]"
     ]
    },
    {
     "name": "stdout",
     "output_type": "stream",
     "text": [
      "Error parsing 7ARO\n"
     ]
    },
    {
     "name": "stderr",
     "output_type": "stream",
     "text": [
      " 93%|███████████████████████████████████████████████████████████████████████████████████████████████████████████████████▊        | 509/545 [41:07<02:50,  4.73s/it]"
     ]
    },
    {
     "name": "stdout",
     "output_type": "stream",
     "text": [
      "Error parsing 7AUE\n"
     ]
    },
    {
     "name": "stderr",
     "output_type": "stream",
     "text": [
      " 94%|████████████████████████████████████████████████████████████████████████████████████████████████████████████████████▉       | 514/545 [41:31<02:34,  4.98s/it]"
     ]
    },
    {
     "name": "stdout",
     "output_type": "stream",
     "text": [
      "Error parsing 7DTW\n"
     ]
    },
    {
     "name": "stderr",
     "output_type": "stream",
     "text": [
      "100%|████████████████████████████████████████████████████████████████████████████████████████████████████████████████████████████| 545/545 [43:58<00:00,  4.84s/it]\n"
     ]
    }
   ],
   "source": [
    "p.assign_generic_numbers_r(f=None, pdb_ids=None, overwrite=True, folder='data/processed/')"
   ]
  },
  {
   "cell_type": "code",
   "execution_count": 40,
   "id": "4350721d",
   "metadata": {},
   "outputs": [],
   "source": [
    "x =  p.dfl[0]"
   ]
  },
  {
   "cell_type": "code",
   "execution_count": 41,
   "id": "0a0b1531",
   "metadata": {},
   "outputs": [
    {
     "data": {
      "text/html": [
       "<div>\n",
       "<style scoped>\n",
       "    .dataframe tbody tr th:only-of-type {\n",
       "        vertical-align: middle;\n",
       "    }\n",
       "\n",
       "    .dataframe tbody tr th {\n",
       "        vertical-align: top;\n",
       "    }\n",
       "\n",
       "    .dataframe thead th {\n",
       "        text-align: right;\n",
       "    }\n",
       "</style>\n",
       "<table border=\"1\" class=\"dataframe\">\n",
       "  <thead>\n",
       "    <tr style=\"text-align: right;\">\n",
       "      <th></th>\n",
       "      <th>PDB</th>\n",
       "      <th>group_PDB</th>\n",
       "      <th>auth_asym_id</th>\n",
       "      <th>label_asym_id</th>\n",
       "      <th>label_seq_id</th>\n",
       "      <th>auth_seq_id</th>\n",
       "      <th>label_comp_id</th>\n",
       "      <th>id</th>\n",
       "      <th>label_atom_id</th>\n",
       "      <th>type_symbol</th>\n",
       "      <th>...</th>\n",
       "      <th>phi</th>\n",
       "      <th>omega</th>\n",
       "      <th>psi</th>\n",
       "      <th>identifier</th>\n",
       "      <th>label_comp_sid</th>\n",
       "      <th>label_2_uni</th>\n",
       "      <th>gen_pos</th>\n",
       "      <th>gen_pos1</th>\n",
       "      <th>gen_pos2</th>\n",
       "      <th>uniprot_comp_sid</th>\n",
       "    </tr>\n",
       "  </thead>\n",
       "  <tbody>\n",
       "    <tr>\n",
       "      <th>254</th>\n",
       "      <td>1f88</td>\n",
       "      <td>ATOM</td>\n",
       "      <td>A</td>\n",
       "      <td>A</td>\n",
       "      <td>33</td>\n",
       "      <td>33</td>\n",
       "      <td>GLU</td>\n",
       "      <td>255</td>\n",
       "      <td>CA</td>\n",
       "      <td>C</td>\n",
       "      <td>...</td>\n",
       "      <td>-46.649759</td>\n",
       "      <td>179.606144</td>\n",
       "      <td>152.441804</td>\n",
       "      <td>OPSD_BOVIN</td>\n",
       "      <td>E</td>\n",
       "      <td>33</td>\n",
       "      <td>1.28x28</td>\n",
       "      <td>1.28</td>\n",
       "      <td>28</td>\n",
       "      <td>E</td>\n",
       "    </tr>\n",
       "    <tr>\n",
       "      <th>263</th>\n",
       "      <td>1f88</td>\n",
       "      <td>ATOM</td>\n",
       "      <td>A</td>\n",
       "      <td>A</td>\n",
       "      <td>34</td>\n",
       "      <td>34</td>\n",
       "      <td>PRO</td>\n",
       "      <td>264</td>\n",
       "      <td>CA</td>\n",
       "      <td>C</td>\n",
       "      <td>...</td>\n",
       "      <td>-62.251000</td>\n",
       "      <td>-179.743676</td>\n",
       "      <td>-36.921668</td>\n",
       "      <td>OPSD_BOVIN</td>\n",
       "      <td>P</td>\n",
       "      <td>34</td>\n",
       "      <td>1.29x29</td>\n",
       "      <td>1.29</td>\n",
       "      <td>29</td>\n",
       "      <td>P</td>\n",
       "    </tr>\n",
       "    <tr>\n",
       "      <th>270</th>\n",
       "      <td>1f88</td>\n",
       "      <td>ATOM</td>\n",
       "      <td>A</td>\n",
       "      <td>A</td>\n",
       "      <td>35</td>\n",
       "      <td>35</td>\n",
       "      <td>TRP</td>\n",
       "      <td>271</td>\n",
       "      <td>CA</td>\n",
       "      <td>C</td>\n",
       "      <td>...</td>\n",
       "      <td>-64.209496</td>\n",
       "      <td>178.650872</td>\n",
       "      <td>-26.755951</td>\n",
       "      <td>OPSD_BOVIN</td>\n",
       "      <td>W</td>\n",
       "      <td>35</td>\n",
       "      <td>1.30x30</td>\n",
       "      <td>1.30</td>\n",
       "      <td>30</td>\n",
       "      <td>W</td>\n",
       "    </tr>\n",
       "    <tr>\n",
       "      <th>284</th>\n",
       "      <td>1f88</td>\n",
       "      <td>ATOM</td>\n",
       "      <td>A</td>\n",
       "      <td>A</td>\n",
       "      <td>36</td>\n",
       "      <td>36</td>\n",
       "      <td>GLN</td>\n",
       "      <td>285</td>\n",
       "      <td>CA</td>\n",
       "      <td>C</td>\n",
       "      <td>...</td>\n",
       "      <td>-69.524113</td>\n",
       "      <td>177.468321</td>\n",
       "      <td>-38.895044</td>\n",
       "      <td>OPSD_BOVIN</td>\n",
       "      <td>Q</td>\n",
       "      <td>36</td>\n",
       "      <td>1.31x31</td>\n",
       "      <td>1.31</td>\n",
       "      <td>31</td>\n",
       "      <td>Q</td>\n",
       "    </tr>\n",
       "    <tr>\n",
       "      <th>293</th>\n",
       "      <td>1f88</td>\n",
       "      <td>ATOM</td>\n",
       "      <td>A</td>\n",
       "      <td>A</td>\n",
       "      <td>37</td>\n",
       "      <td>37</td>\n",
       "      <td>PHE</td>\n",
       "      <td>294</td>\n",
       "      <td>CA</td>\n",
       "      <td>C</td>\n",
       "      <td>...</td>\n",
       "      <td>-67.102146</td>\n",
       "      <td>179.056361</td>\n",
       "      <td>-31.020739</td>\n",
       "      <td>OPSD_BOVIN</td>\n",
       "      <td>F</td>\n",
       "      <td>37</td>\n",
       "      <td>1.32x32</td>\n",
       "      <td>1.32</td>\n",
       "      <td>32</td>\n",
       "      <td>F</td>\n",
       "    </tr>\n",
       "    <tr>\n",
       "      <th>...</th>\n",
       "      <td>...</td>\n",
       "      <td>...</td>\n",
       "      <td>...</td>\n",
       "      <td>...</td>\n",
       "      <td>...</td>\n",
       "      <td>...</td>\n",
       "      <td>...</td>\n",
       "      <td>...</td>\n",
       "      <td>...</td>\n",
       "      <td>...</td>\n",
       "      <td>...</td>\n",
       "      <td>...</td>\n",
       "      <td>...</td>\n",
       "      <td>...</td>\n",
       "      <td>...</td>\n",
       "      <td>...</td>\n",
       "      <td>...</td>\n",
       "      <td>...</td>\n",
       "      <td>...</td>\n",
       "      <td>...</td>\n",
       "      <td>...</td>\n",
       "    </tr>\n",
       "    <tr>\n",
       "      <th>2495</th>\n",
       "      <td>1f88</td>\n",
       "      <td>ATOM</td>\n",
       "      <td>A</td>\n",
       "      <td>A</td>\n",
       "      <td>318</td>\n",
       "      <td>318</td>\n",
       "      <td>VAL</td>\n",
       "      <td>2496</td>\n",
       "      <td>CA</td>\n",
       "      <td>C</td>\n",
       "      <td>...</td>\n",
       "      <td>-75.026338</td>\n",
       "      <td>178.277134</td>\n",
       "      <td>-23.396037</td>\n",
       "      <td>OPSD_BOVIN</td>\n",
       "      <td>V</td>\n",
       "      <td>318</td>\n",
       "      <td>8.55x55</td>\n",
       "      <td>8.55</td>\n",
       "      <td>55</td>\n",
       "      <td>V</td>\n",
       "    </tr>\n",
       "    <tr>\n",
       "      <th>2502</th>\n",
       "      <td>1f88</td>\n",
       "      <td>ATOM</td>\n",
       "      <td>A</td>\n",
       "      <td>A</td>\n",
       "      <td>319</td>\n",
       "      <td>319</td>\n",
       "      <td>THR</td>\n",
       "      <td>2503</td>\n",
       "      <td>CA</td>\n",
       "      <td>C</td>\n",
       "      <td>...</td>\n",
       "      <td>-81.996720</td>\n",
       "      <td>-179.508765</td>\n",
       "      <td>-41.062159</td>\n",
       "      <td>OPSD_BOVIN</td>\n",
       "      <td>T</td>\n",
       "      <td>319</td>\n",
       "      <td>8.56x56</td>\n",
       "      <td>8.56</td>\n",
       "      <td>56</td>\n",
       "      <td>T</td>\n",
       "    </tr>\n",
       "    <tr>\n",
       "      <th>2509</th>\n",
       "      <td>1f88</td>\n",
       "      <td>ATOM</td>\n",
       "      <td>A</td>\n",
       "      <td>A</td>\n",
       "      <td>320</td>\n",
       "      <td>320</td>\n",
       "      <td>THR</td>\n",
       "      <td>2510</td>\n",
       "      <td>CA</td>\n",
       "      <td>C</td>\n",
       "      <td>...</td>\n",
       "      <td>-65.717310</td>\n",
       "      <td>-179.530048</td>\n",
       "      <td>-49.890777</td>\n",
       "      <td>OPSD_BOVIN</td>\n",
       "      <td>T</td>\n",
       "      <td>320</td>\n",
       "      <td>8.57x57</td>\n",
       "      <td>8.57</td>\n",
       "      <td>57</td>\n",
       "      <td>T</td>\n",
       "    </tr>\n",
       "    <tr>\n",
       "      <th>2516</th>\n",
       "      <td>1f88</td>\n",
       "      <td>ATOM</td>\n",
       "      <td>A</td>\n",
       "      <td>A</td>\n",
       "      <td>321</td>\n",
       "      <td>321</td>\n",
       "      <td>LEU</td>\n",
       "      <td>2517</td>\n",
       "      <td>CA</td>\n",
       "      <td>C</td>\n",
       "      <td>...</td>\n",
       "      <td>-64.002081</td>\n",
       "      <td>179.711050</td>\n",
       "      <td>-24.753617</td>\n",
       "      <td>OPSD_BOVIN</td>\n",
       "      <td>L</td>\n",
       "      <td>321</td>\n",
       "      <td>8.58x58</td>\n",
       "      <td>8.58</td>\n",
       "      <td>58</td>\n",
       "      <td>L</td>\n",
       "    </tr>\n",
       "    <tr>\n",
       "      <th>2524</th>\n",
       "      <td>1f88</td>\n",
       "      <td>ATOM</td>\n",
       "      <td>A</td>\n",
       "      <td>A</td>\n",
       "      <td>322</td>\n",
       "      <td>322</td>\n",
       "      <td>CYS</td>\n",
       "      <td>2525</td>\n",
       "      <td>CA</td>\n",
       "      <td>C</td>\n",
       "      <td>...</td>\n",
       "      <td>-98.750018</td>\n",
       "      <td>178.057922</td>\n",
       "      <td>27.067138</td>\n",
       "      <td>OPSD_BOVIN</td>\n",
       "      <td>C</td>\n",
       "      <td>322</td>\n",
       "      <td>8.59x59</td>\n",
       "      <td>8.59</td>\n",
       "      <td>59</td>\n",
       "      <td>C</td>\n",
       "    </tr>\n",
       "  </tbody>\n",
       "</table>\n",
       "<p>259 rows × 23 columns</p>\n",
       "</div>"
      ],
      "text/plain": [
       "       PDB group_PDB auth_asym_id label_asym_id  label_seq_id auth_seq_id  \\\n",
       "254   1f88      ATOM            A             A            33          33   \n",
       "263   1f88      ATOM            A             A            34          34   \n",
       "270   1f88      ATOM            A             A            35          35   \n",
       "284   1f88      ATOM            A             A            36          36   \n",
       "293   1f88      ATOM            A             A            37          37   \n",
       "...    ...       ...          ...           ...           ...         ...   \n",
       "2495  1f88      ATOM            A             A           318         318   \n",
       "2502  1f88      ATOM            A             A           319         319   \n",
       "2509  1f88      ATOM            A             A           320         320   \n",
       "2516  1f88      ATOM            A             A           321         321   \n",
       "2524  1f88      ATOM            A             A           322         322   \n",
       "\n",
       "     label_comp_id    id label_atom_id type_symbol  ...        phi  \\\n",
       "254            GLU   255            CA           C  ... -46.649759   \n",
       "263            PRO   264            CA           C  ... -62.251000   \n",
       "270            TRP   271            CA           C  ... -64.209496   \n",
       "284            GLN   285            CA           C  ... -69.524113   \n",
       "293            PHE   294            CA           C  ... -67.102146   \n",
       "...            ...   ...           ...         ...  ...        ...   \n",
       "2495           VAL  2496            CA           C  ... -75.026338   \n",
       "2502           THR  2503            CA           C  ... -81.996720   \n",
       "2509           THR  2510            CA           C  ... -65.717310   \n",
       "2516           LEU  2517            CA           C  ... -64.002081   \n",
       "2524           CYS  2525            CA           C  ... -98.750018   \n",
       "\n",
       "           omega         psi  identifier  label_comp_sid  label_2_uni  \\\n",
       "254   179.606144  152.441804  OPSD_BOVIN               E           33   \n",
       "263  -179.743676  -36.921668  OPSD_BOVIN               P           34   \n",
       "270   178.650872  -26.755951  OPSD_BOVIN               W           35   \n",
       "284   177.468321  -38.895044  OPSD_BOVIN               Q           36   \n",
       "293   179.056361  -31.020739  OPSD_BOVIN               F           37   \n",
       "...          ...         ...         ...             ...          ...   \n",
       "2495  178.277134  -23.396037  OPSD_BOVIN               V          318   \n",
       "2502 -179.508765  -41.062159  OPSD_BOVIN               T          319   \n",
       "2509 -179.530048  -49.890777  OPSD_BOVIN               T          320   \n",
       "2516  179.711050  -24.753617  OPSD_BOVIN               L          321   \n",
       "2524  178.057922   27.067138  OPSD_BOVIN               C          322   \n",
       "\n",
       "      gen_pos gen_pos1  gen_pos2 uniprot_comp_sid  \n",
       "254   1.28x28     1.28        28                E  \n",
       "263   1.29x29     1.29        29                P  \n",
       "270   1.30x30     1.30        30                W  \n",
       "284   1.31x31     1.31        31                Q  \n",
       "293   1.32x32     1.32        32                F  \n",
       "...       ...      ...       ...              ...  \n",
       "2495  8.55x55     8.55        55                V  \n",
       "2502  8.56x56     8.56        56                T  \n",
       "2509  8.57x57     8.57        57                T  \n",
       "2516  8.58x58     8.58        58                L  \n",
       "2524  8.59x59     8.59        59                C  \n",
       "\n",
       "[259 rows x 23 columns]"
      ]
     },
     "execution_count": 41,
     "metadata": {},
     "output_type": "execute_result"
    }
   ],
   "source": [
    "x[x['gen_pos']!='']"
   ]
  },
  {
   "cell_type": "code",
   "execution_count": 44,
   "id": "4437e013",
   "metadata": {},
   "outputs": [
    {
     "name": "stderr",
     "output_type": "stream",
     "text": [
      "\r",
      "  0%|                                                                                                                                       | 0/13 [00:00<?, ?it/s]"
     ]
    },
    {
     "name": "stdout",
     "output_type": "stream",
     "text": [
      "Downloading uniprot gprotein sequences...\n"
     ]
    },
    {
     "name": "stderr",
     "output_type": "stream",
     "text": [
      "100%|██████████████████████████████████████████████████████████████████████████████████████████████████████████████████████████████| 13/13 [00:15<00:00,  1.18s/it]\n",
      " 28%|██████████████████████████████████▉                                                                                         | 153/544 [00:22<00:52,  7.43it/s]"
     ]
    },
    {
     "name": "stdout",
     "output_type": "stream",
     "text": [
      "Did not find label_seq_ids\n"
     ]
    },
    {
     "name": "stderr",
     "output_type": "stream",
     "text": [
      " 40%|█████████████████████████████████████████████████▉                                                                          | 219/544 [00:38<03:43,  1.45it/s]"
     ]
    },
    {
     "name": "stdout",
     "output_type": "stream",
     "text": [
      "Did not find label_seq_ids\n"
     ]
    },
    {
     "name": "stderr",
     "output_type": "stream",
     "text": [
      "\r",
      " 41%|███████████████████████████████████████████████████▎                                                                        | 225/544 [00:38<01:38,  3.24it/s]"
     ]
    },
    {
     "name": "stdout",
     "output_type": "stream",
     "text": [
      "Did not find label_seq_ids\n"
     ]
    },
    {
     "name": "stderr",
     "output_type": "stream",
     "text": [
      " 47%|██████████████████████████████████████████████████████████▌                                                                 | 257/544 [00:41<00:41,  6.95it/s]"
     ]
    },
    {
     "name": "stdout",
     "output_type": "stream",
     "text": [
      "Did not find label_seq_ids\n"
     ]
    },
    {
     "name": "stderr",
     "output_type": "stream",
     "text": [
      "\r",
      " 55%|███████████████████████████████████████████████████████████████████▋                                                        | 297/544 [00:42<00:13, 18.02it/s]"
     ]
    },
    {
     "name": "stdout",
     "output_type": "stream",
     "text": [
      "Did not find label_seq_ids\n"
     ]
    },
    {
     "name": "stderr",
     "output_type": "stream",
     "text": [
      " 71%|███████████████████████████████████████████████████████████████████████████████████████▌                                    | 384/544 [00:51<00:16,  9.65it/s]"
     ]
    },
    {
     "name": "stdout",
     "output_type": "stream",
     "text": [
      "Did not find label_seq_ids\n",
      "Did not find label_seq_ids\n",
      "Did not find label_seq_ids\n",
      "Did not find label_seq_ids\n",
      "Did not find label_seq_ids\n"
     ]
    },
    {
     "name": "stderr",
     "output_type": "stream",
     "text": [
      " 79%|██████████████████████████████████████████████████████████████████████████████████████████████████▍                         | 432/544 [00:53<00:07, 14.67it/s]"
     ]
    },
    {
     "name": "stdout",
     "output_type": "stream",
     "text": [
      "Did not find label_seq_ids\n"
     ]
    },
    {
     "name": "stderr",
     "output_type": "stream",
     "text": [
      "\r",
      " 81%|███████████████████████████████████████████████████████████████████████████████████████████████████▊                        | 438/544 [00:54<00:08, 12.44it/s]"
     ]
    },
    {
     "name": "stdout",
     "output_type": "stream",
     "text": [
      "Did not find label_seq_ids\n",
      "Did not find label_seq_ids\n"
     ]
    },
    {
     "name": "stderr",
     "output_type": "stream",
     "text": [
      " 85%|█████████████████████████████████████████████████████████████████████████████████████████████████████████▉                  | 465/544 [00:56<00:06, 12.77it/s]"
     ]
    },
    {
     "name": "stdout",
     "output_type": "stream",
     "text": [
      "Did not find label_seq_ids\n",
      "Did not find label_seq_ids\n",
      "Did not find label_seq_ids\n",
      "Did not find label_seq_ids\n",
      "Did not find label_seq_ids\n",
      "Did not find label_seq_ids\n",
      "Did not find label_seq_ids\n",
      "Did not find label_seq_ids\n"
     ]
    },
    {
     "name": "stderr",
     "output_type": "stream",
     "text": [
      " 92%|█████████████████████████████████████████████████████████████████████████████████████████████████████████████████▋          | 499/544 [00:58<00:03, 14.56it/s]"
     ]
    },
    {
     "name": "stdout",
     "output_type": "stream",
     "text": [
      "Did not find label_seq_ids\n",
      "Did not find label_seq_ids\n",
      "Did not find label_seq_ids\n",
      "Did not find label_seq_ids\n",
      "Did not find label_seq_ids\n"
     ]
    },
    {
     "name": "stderr",
     "output_type": "stream",
     "text": [
      "100%|████████████████████████████████████████████████████████████████████████████████████████████████████████████████████████████| 544/544 [00:59<00:00,  9.21it/s]"
     ]
    },
    {
     "name": "stdout",
     "output_type": "stream",
     "text": [
      "Did not find label_seq_ids\n",
      "Did not find label_seq_ids\n",
      "Did not find label_seq_ids\n",
      "Did not find label_seq_ids\n",
      "Did not find label_seq_ids\n"
     ]
    },
    {
     "name": "stderr",
     "output_type": "stream",
     "text": [
      "\n"
     ]
    }
   ],
   "source": [
    "p.assign_generic_numbers_g(f=p.table)"
   ]
  },
  {
   "cell_type": "code",
   "execution_count": 45,
   "id": "e9b5f3a4",
   "metadata": {},
   "outputs": [],
   "source": [
    "p.to_pkl(mode='g', folder='data/processed/')"
   ]
  },
  {
   "cell_type": "code",
   "execution_count": null,
   "id": "4727f5f4",
   "metadata": {},
   "outputs": [],
   "source": []
  },
  {
   "cell_type": "code",
   "execution_count": null,
   "id": "5ab0ea72",
   "metadata": {},
   "outputs": [],
   "source": []
  },
  {
   "cell_type": "code",
   "execution_count": null,
   "id": "196baccd",
   "metadata": {},
   "outputs": [],
   "source": []
  },
  {
   "cell_type": "code",
   "execution_count": null,
   "id": "bd25d612",
   "metadata": {},
   "outputs": [],
   "source": []
  },
  {
   "cell_type": "code",
   "execution_count": null,
   "id": "86ff773b",
   "metadata": {},
   "outputs": [],
   "source": []
  },
  {
   "cell_type": "code",
   "execution_count": null,
   "id": "f259c9e2",
   "metadata": {},
   "outputs": [],
   "source": []
  }
 ],
 "metadata": {
  "kernelspec": {
   "display_name": "Python 3",
   "language": "python",
   "name": "python3"
  },
  "language_info": {
   "codemirror_mode": {
    "name": "ipython",
    "version": 3
   },
   "file_extension": ".py",
   "mimetype": "text/x-python",
   "name": "python",
   "nbconvert_exporter": "python",
   "pygments_lexer": "ipython3",
   "version": "3.8.5"
  }
 },
 "nbformat": 4,
 "nbformat_minor": 5
}
