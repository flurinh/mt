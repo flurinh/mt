{
 "cells": [
  {
   "cell_type": "code",
   "execution_count": 1,
   "metadata": {},
   "outputs": [
    {
     "data": {
      "text/plain": [
       "'\\npath = r\\'data\\x07ctive\\'\\nfiles_xls = glob.glob(path+\\'\\\\*.xls\\')[0]\\ndfList = []\\nos.rename(files_xls, \\'sample_file.csv\\')\\ncsv = pd.read_csv(\"sample_file.csv\", error_bad_lines=False)\\nprint(csv)\\n\\npd.read_html()\\n'"
      ]
     },
     "execution_count": 1,
     "metadata": {},
     "output_type": "execute_result"
    }
   ],
   "source": [
    "import glob\n",
    "import os\n",
    "import pandas as pd\n",
    "\n",
    "\"\"\"\n",
    "path = r'data\\active'\n",
    "files_xls = glob.glob(path+'\\*.xls')[0]\n",
    "dfList = []\n",
    "os.rename(files_xls, 'sample_file.csv')\n",
    "csv = pd.read_csv(\"sample_file.csv\", error_bad_lines=False)\n",
    "print(csv)\n",
    "\n",
    "pd.read_html()\n",
    "\"\"\""
   ]
  },
  {
   "cell_type": "code",
   "execution_count": 2,
   "metadata": {},
   "outputs": [
    {
     "name": "stdout",
     "output_type": "stream",
     "text": [
      "{'entry_name': 'adrb2_human', 'name': '&beta;<sub>2</sub>-adrenoceptor', 'accession': 'P07550', 'family': '001_001_003_008', 'species': 'Homo sapiens', 'source': 'SWISSPROT', 'residue_numbering_scheme': 'GPCRdb(A)', 'sequence': 'MGQPGNGSAFLLAPNGSHAPDHDVTQERDEVWVVGMGIVMSLIVLAIVFGNVLVITAIAKFERLQTVTNYFITSLACADLVMGLAVVPFGAAHILMKMWTFGNFWCEFWTSIDVLCVTASIETLCVIAVDRYFAITSPFKYQSLLTKNKARVIILMVWIVSGLTSFLPIQMHWYRATHQEAINCYANETCCDFFTNQAYAIASSIVSFYVPLVIMVFVYSRVFQEAKRQLQKIDKSEGRFHVQNLSQVEQDGRTGHGLRRSSKFCLKEHKALKTLGIIMGTFTLCWLPFFIVNIVHVIQDNLIRKEVYILLNWIGYVNSGFNPLIYCRSPDFRIAFQELLCLRRSSLKAYGNGYSSNGNTGEQSGYHVEQEKENKLLCEDLPGTEDFVGHQGTVPSDNIDSQGRNCSTNDSLL', 'genes': ['ADRB2', 'ADRB2R', 'B2AR']}\n",
      "MGQPGNGSAFLLAPNGSHAPDHDVTQERDEVWVVGMGIVMSLIVLAIVFGNVLVITAIAKFERLQTVTNYFITSLACADLVMGLAVVPFGAAHILMKMWTFGNFWCEFWTSIDVLCVTASIETLCVIAVDRYFAITSPFKYQSLLTKNKARVIILMVWIVSGLTSFLPIQMHWYRATHQEAINCYANETCCDFFTNQAYAIASSIVSFYVPLVIMVFVYSRVFQEAKRQLQKIDKSEGRFHVQNLSQVEQDGRTGHGLRRSSKFCLKEHKALKTLGIIMGTFTLCWLPFFIVNIVHVIQDNLIRKEVYILLNWIGYVNSGFNPLIYCRSPDFRIAFQELLCLRRSSLKAYGNGYSSNGNTGEQSGYHVEQEKENKLLCEDLPGTEDFVGHQGTVPSDNIDSQGRNCSTNDSLL\n",
      "\n",
      "adrb1_human\n",
      "PDRLFVFFNWLGYANSAFNPIIYCRSPDFRKAFQRLLC\n",
      "\n",
      "adrb2_human\n",
      "RKEVYILLNWIGYVNSGFNPLIYCRSPDFRIAFQELLC\n",
      "\n",
      "adrb3_human\n",
      "PGPAFLALNWLGYANSAFNPLIYCRSPDFRSAFRRLLC\n"
     ]
    }
   ],
   "source": [
    "from urllib.request import urlopen\n",
    "import json\n",
    "\n",
    "# fetch a protein\n",
    "url = 'https://gpcrdb.org/services/protein/adrb2_human/'\n",
    "response = urlopen(url)\n",
    "protein_data = json.loads(response.read().decode('utf-8'))\n",
    "print(protein_data)\n",
    "print(protein_data['sequence'])\n",
    "\n",
    "# fetch an alignment\n",
    "url = 'https://gpcrdb.org/services/alignment/protein/adrb1_human,adrb2_human,adrb3_human/TM7,H8/'\n",
    "response = urlopen(url)\n",
    "alignment_data = json.loads(response.read().decode('utf-8'))\n",
    "for protein, sequence in alignment_data.items():\n",
    "    print()\n",
    "    print(protein)\n",
    "    print(sequence)"
   ]
  },
  {
   "cell_type": "code",
   "execution_count": 16,
   "metadata": {},
   "outputs": [],
   "source": [
    "# Find receptors /w structures /w complexes"
   ]
  },
  {
   "cell_type": "code",
   "execution_count": 17,
   "metadata": {},
   "outputs": [],
   "source": [
    "# Find receptors /w structures /wo complexes"
   ]
  },
  {
   "cell_type": "code",
   "execution_count": 18,
   "metadata": {},
   "outputs": [],
   "source": [
    "# Find receptors /wo structures /w complexes"
   ]
  },
  {
   "cell_type": "code",
   "execution_count": 19,
   "metadata": {},
   "outputs": [],
   "source": [
    "# Find receptors /wo structures /wo complexes"
   ]
  },
  {
   "cell_type": "code",
   "execution_count": 19,
   "metadata": {},
   "outputs": [],
   "source": []
  },
  {
   "cell_type": "code",
   "execution_count": 20,
   "metadata": {},
   "outputs": [],
   "source": [
    "# Find receptors /w structures /w complexes of class A"
   ]
  },
  {
   "cell_type": "code",
   "execution_count": 21,
   "metadata": {},
   "outputs": [],
   "source": [
    "# Find receptors /w structures /w complexes of class A for Gs"
   ]
  },
  {
   "cell_type": "code",
   "execution_count": 21,
   "metadata": {},
   "outputs": [],
   "source": []
  },
  {
   "cell_type": "code",
   "execution_count": 21,
   "metadata": {},
   "outputs": [],
   "source": []
  }
 ],
 "metadata": {
  "kernelspec": {
   "display_name": "Python 3",
   "language": "python",
   "name": "python3"
  },
  "language_info": {
   "codemirror_mode": {
    "name": "ipython",
    "version": 3
   },
   "file_extension": ".py",
   "mimetype": "text/x-python",
   "name": "python",
   "nbconvert_exporter": "python",
   "pygments_lexer": "ipython3",
   "version": "3.7.7"
  }
 },
 "nbformat": 4,
 "nbformat_minor": 4
}
