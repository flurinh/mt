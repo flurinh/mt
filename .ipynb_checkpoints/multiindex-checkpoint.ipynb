{
 "cells": [
  {
   "cell_type": "code",
   "execution_count": 1,
   "id": "vital-profit",
   "metadata": {},
   "outputs": [],
   "source": [
    "import pandas as pd"
   ]
  },
  {
   "cell_type": "code",
   "execution_count": 2,
   "id": "inside-metropolitan",
   "metadata": {},
   "outputs": [],
   "source": [
    "import numpy as np"
   ]
  },
  {
   "cell_type": "code",
   "execution_count": 4,
   "id": "green-wesley",
   "metadata": {},
   "outputs": [],
   "source": [
    "import random"
   ]
  },
  {
   "cell_type": "code",
   "execution_count": 3,
   "id": "destroyed-sunglasses",
   "metadata": {},
   "outputs": [],
   "source": [
    "res_list = []\n",
    "atom_list = []"
   ]
  },
  {
   "cell_type": "code",
   "execution_count": 6,
   "id": "sporting-damages",
   "metadata": {},
   "outputs": [
    {
     "name": "stdout",
     "output_type": "stream",
     "text": [
      "4\n",
      "3\n",
      "2\n"
     ]
    }
   ],
   "source": [
    "for i in range(3):\n",
    "    n_res = random.randint(2, 4)\n",
    "    np_res = np.random.rand((n_res, 2))\n",
    "    for j in range(n_res):\n",
    "        n_atoms = random.randint(2, 4):\n",
    "        np_atoms = np.random.rand((n_atoms, 3))\n",
    "        atom_list_.append(np_atoms)"
   ]
  },
  {
   "cell_type": "code",
   "execution_count": null,
   "id": "introductory-chemistry",
   "metadata": {},
   "outputs": [],
   "source": []
  }
 ],
 "metadata": {
  "kernelspec": {
   "display_name": "Python 3",
   "language": "python",
   "name": "python3"
  },
  "language_info": {
   "codemirror_mode": {
    "name": "ipython",
    "version": 3
   },
   "file_extension": ".py",
   "mimetype": "text/x-python",
   "name": "python",
   "nbconvert_exporter": "python",
   "pygments_lexer": "ipython3",
   "version": "3.7.7"
  }
 },
 "nbformat": 4,
 "nbformat_minor": 5
}
