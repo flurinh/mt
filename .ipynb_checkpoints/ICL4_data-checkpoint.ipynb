{
 "cells": [
  {
   "cell_type": "markdown",
   "id": "juvenile-hunger",
   "metadata": {},
   "source": [
    "# Imports"
   ]
  },
  {
   "cell_type": "code",
   "execution_count": 1,
   "id": "english-sharp",
   "metadata": {
    "pycharm": {
     "name": "#%%\n"
    }
   },
   "outputs": [],
   "source": [
    "from utils import *\n",
    "from utils2 import *\n",
    "from utils3 import *\n",
    "from gpcrdb_soup import *"
   ]
  },
  {
   "cell_type": "code",
   "execution_count": 2,
   "id": "effective-chain",
   "metadata": {
    "pycharm": {
     "name": "#%%\n"
    }
   },
   "outputs": [],
   "source": [
    "import Bio\n",
    "import yaml\n",
    "import os\n",
    "from functools import partial\n",
    "from operator import is_not\n",
    "from tqdm import tqdm"
   ]
  },
  {
   "cell_type": "code",
   "execution_count": 3,
   "id": "adult-envelope",
   "metadata": {},
   "outputs": [],
   "source": [
    "def disp3(df: pd.DataFrame):\n",
    "    with pd.option_context('display.max_rows', None, 'display.max_columns', None):  # more options can be specified also\n",
    "        display(df.head(3))"
   ]
  },
  {
   "cell_type": "markdown",
   "id": "false-latest",
   "metadata": {},
   "source": [
    "# GPCRDB"
   ]
  },
  {
   "cell_type": "code",
   "execution_count": 4,
   "id": "understood-patio",
   "metadata": {
    "pycharm": {
     "name": "#%%\n"
    }
   },
   "outputs": [],
   "source": [
    "table = get_table(reload=True)"
   ]
  },
  {
   "cell_type": "code",
   "execution_count": 5,
   "id": "numeric-murder",
   "metadata": {},
   "outputs": [
    {
     "data": {
      "text/html": [
       "<div>\n",
       "<style scoped>\n",
       "    .dataframe tbody tr th:only-of-type {\n",
       "        vertical-align: middle;\n",
       "    }\n",
       "\n",
       "    .dataframe tbody tr th {\n",
       "        vertical-align: top;\n",
       "    }\n",
       "\n",
       "    .dataframe thead th {\n",
       "        text-align: right;\n",
       "    }\n",
       "</style>\n",
       "<table border=\"1\" class=\"dataframe\">\n",
       "  <thead>\n",
       "    <tr style=\"text-align: right;\">\n",
       "      <th></th>\n",
       "      <th>filler</th>\n",
       "      <th>uniprot(gene)</th>\n",
       "      <th>filler2</th>\n",
       "      <th>receptor family</th>\n",
       "      <th>Cl.</th>\n",
       "      <th>Species</th>\n",
       "      <th>Method</th>\n",
       "      <th>PDB</th>\n",
       "      <th>Refined Structure</th>\n",
       "      <th>Resolution</th>\n",
       "      <th>Preferred Chain</th>\n",
       "      <th>State</th>\n",
       "      <th>Degree active %</th>\n",
       "      <th>% of Seq1</th>\n",
       "      <th>Family</th>\n",
       "      <th>Subtype</th>\n",
       "      <th>Note</th>\n",
       "      <th>% of Seq2</th>\n",
       "      <th>Fusion</th>\n",
       "      <th>Antibodies</th>\n",
       "      <th>Name1</th>\n",
       "      <th>Type1</th>\n",
       "      <th>Function</th>\n",
       "      <th>Name2</th>\n",
       "      <th>Type2</th>\n",
       "      <th>D2x50 - S3x39</th>\n",
       "      <th>Sodium in structure</th>\n",
       "      <th>Authors</th>\n",
       "      <th>Reference</th>\n",
       "      <th>PDB date</th>\n",
       "      <th>Annotated</th>\n",
       "      <th>pdb_link</th>\n",
       "    </tr>\n",
       "  </thead>\n",
       "  <tbody>\n",
       "    <tr>\n",
       "      <th>0</th>\n",
       "      <td></td>\n",
       "      <td>STE2</td>\n",
       "      <td>STE2</td>\n",
       "      <td>STE2</td>\n",
       "      <td>D1(Ste2-likefungalpheromone)</td>\n",
       "      <td>strainATCC204508/S288c</td>\n",
       "      <td>cryo-EM</td>\n",
       "      <td>7AD3</td>\n",
       "      <td>-</td>\n",
       "      <td>3.5</td>\n",
       "      <td>A</td>\n",
       "      <td>Active</td>\n",
       "      <td>-</td>\n",
       "      <td>69.0</td>\n",
       "      <td>GPa1</td>\n",
       "      <td>αPa1</td>\n",
       "      <td>TwoalphasubunitsboundtoSTE2dimer</td>\n",
       "      <td>29</td>\n",
       "      <td>-</td>\n",
       "      <td>-</td>\n",
       "      <td>Alpha-factormatingpheromonepubchem</td>\n",
       "      <td>peptide</td>\n",
       "      <td>Agonist</td>\n",
       "      <td>-</td>\n",
       "      <td>-</td>\n",
       "      <td>No</td>\n",
       "      <td>No</td>\n",
       "      <td>VelazhahanV,MaN,Pándy-SzekeresG,KooistraAJ,Lee...</td>\n",
       "      <td>10.1038/S41586-020-2994-1</td>\n",
       "      <td>2020-12-09</td>\n",
       "      <td>Yes</td>\n",
       "      <td>https://files.rcsb.org/download/7AD3.pdb</td>\n",
       "    </tr>\n",
       "    <tr>\n",
       "      <th>1</th>\n",
       "      <td></td>\n",
       "      <td>OPRD</td>\n",
       "      <td>δ</td>\n",
       "      <td>Opioid</td>\n",
       "      <td>A(Rhodopsin)</td>\n",
       "      <td>Human</td>\n",
       "      <td>X-ray</td>\n",
       "      <td>4N6H</td>\n",
       "      <td>4N6H_refined</td>\n",
       "      <td>1.8</td>\n",
       "      <td>A</td>\n",
       "      <td>Inactive</td>\n",
       "      <td>7</td>\n",
       "      <td>81.0</td>\n",
       "      <td>-</td>\n",
       "      <td>-</td>\n",
       "      <td>-</td>\n",
       "      <td>-</td>\n",
       "      <td>BRIL</td>\n",
       "      <td>-</td>\n",
       "      <td>Naltrindolepubchem</td>\n",
       "      <td>smallmolecule</td>\n",
       "      <td>Antagonist</td>\n",
       "      <td>α-neoendorphin,[Leu]enkephalin,[Met]enkephalin...</td>\n",
       "      <td>peptide</td>\n",
       "      <td>Yes</td>\n",
       "      <td>Yes</td>\n",
       "      <td>FenaltiG,GiguerePM,KatritchV,HuangX,ThompsonAA...</td>\n",
       "      <td>10.1038/NATURE12944</td>\n",
       "      <td>2013-12-25</td>\n",
       "      <td>Yes</td>\n",
       "      <td>https://files.rcsb.org/download/4N6H.pdb</td>\n",
       "    </tr>\n",
       "    <tr>\n",
       "      <th>2</th>\n",
       "      <td></td>\n",
       "      <td>PAR2</td>\n",
       "      <td>PAR2</td>\n",
       "      <td>Proteinase-activated</td>\n",
       "      <td>A(Rhodopsin)</td>\n",
       "      <td>Human</td>\n",
       "      <td>X-ray</td>\n",
       "      <td>5NDZ</td>\n",
       "      <td>5NDZ_refined</td>\n",
       "      <td>3.6</td>\n",
       "      <td>A</td>\n",
       "      <td>Intermediate</td>\n",
       "      <td>51</td>\n",
       "      <td>74.0</td>\n",
       "      <td>-</td>\n",
       "      <td>-</td>\n",
       "      <td>-</td>\n",
       "      <td>-</td>\n",
       "      <td>T4-Lysozyme</td>\n",
       "      <td>-</td>\n",
       "      <td>AZ3451pubchem</td>\n",
       "      <td>smallmolecule</td>\n",
       "      <td>Antagonist</td>\n",
       "      <td>thrombin</td>\n",
       "      <td>protein</td>\n",
       "      <td>Yes</td>\n",
       "      <td>Yes</td>\n",
       "      <td>ChengRKY,Fiez-VandalC,SchlenkerO,EdmanK,Aggele...</td>\n",
       "      <td>10.1038/NATURE22309</td>\n",
       "      <td>2017-05-03</td>\n",
       "      <td>Yes</td>\n",
       "      <td>https://files.rcsb.org/download/5NDZ.pdb</td>\n",
       "    </tr>\n",
       "  </tbody>\n",
       "</table>\n",
       "</div>"
      ],
      "text/plain": [
       "  filler uniprot(gene) filler2       receptor family  \\\n",
       "0                 STE2    STE2                  STE2   \n",
       "1                 OPRD       δ                Opioid   \n",
       "2                 PAR2    PAR2  Proteinase-activated   \n",
       "\n",
       "                            Cl.                 Species   Method   PDB  \\\n",
       "0  D1(Ste2-likefungalpheromone)  strainATCC204508/S288c  cryo-EM  7AD3   \n",
       "1                  A(Rhodopsin)                   Human    X-ray  4N6H   \n",
       "2                  A(Rhodopsin)                   Human    X-ray  5NDZ   \n",
       "\n",
       "  Refined Structure  Resolution Preferred Chain         State Degree active %  \\\n",
       "0                 -         3.5               A        Active               -   \n",
       "1      4N6H_refined         1.8               A      Inactive               7   \n",
       "2      5NDZ_refined         3.6               A  Intermediate              51   \n",
       "\n",
       "   % of Seq1 Family Subtype                              Note % of Seq2  \\\n",
       "0       69.0   GPa1    αPa1  TwoalphasubunitsboundtoSTE2dimer        29   \n",
       "1       81.0      -       -                                 -         -   \n",
       "2       74.0      -       -                                 -         -   \n",
       "\n",
       "        Fusion Antibodies                               Name1          Type1  \\\n",
       "0            -          -  Alpha-factormatingpheromonepubchem        peptide   \n",
       "1         BRIL          -                  Naltrindolepubchem  smallmolecule   \n",
       "2  T4-Lysozyme          -                       AZ3451pubchem  smallmolecule   \n",
       "\n",
       "     Function                                              Name2    Type2  \\\n",
       "0     Agonist                                                  -        -   \n",
       "1  Antagonist  α-neoendorphin,[Leu]enkephalin,[Met]enkephalin...  peptide   \n",
       "2  Antagonist                                           thrombin  protein   \n",
       "\n",
       "  D2x50 - S3x39 Sodium in structure  \\\n",
       "0            No                  No   \n",
       "1           Yes                 Yes   \n",
       "2           Yes                 Yes   \n",
       "\n",
       "                                             Authors  \\\n",
       "0  VelazhahanV,MaN,Pándy-SzekeresG,KooistraAJ,Lee...   \n",
       "1  FenaltiG,GiguerePM,KatritchV,HuangX,ThompsonAA...   \n",
       "2  ChengRKY,Fiez-VandalC,SchlenkerO,EdmanK,Aggele...   \n",
       "\n",
       "                   Reference    PDB date Annotated  \\\n",
       "0  10.1038/S41586-020-2994-1  2020-12-09       Yes   \n",
       "1        10.1038/NATURE12944  2013-12-25       Yes   \n",
       "2        10.1038/NATURE22309  2017-05-03       Yes   \n",
       "\n",
       "                                   pdb_link  \n",
       "0  https://files.rcsb.org/download/7AD3.pdb  \n",
       "1  https://files.rcsb.org/download/4N6H.pdb  \n",
       "2  https://files.rcsb.org/download/5NDZ.pdb  "
      ]
     },
     "metadata": {},
     "output_type": "display_data"
    }
   ],
   "source": [
    "disp3(table)"
   ]
  },
  {
   "cell_type": "code",
   "execution_count": 6,
   "id": "digital-therapist",
   "metadata": {
    "pycharm": {
     "name": "#%%\n"
    }
   },
   "outputs": [],
   "source": [
    "# t\n",
    "# Todo: https://www.ebi.ac.uk/training/online/sites/ebi.ac.uk.training.online/files/UniProt_programmatically_py3.pdf"
   ]
  },
  {
   "cell_type": "code",
   "execution_count": 7,
   "id": "solved-identification",
   "metadata": {
    "pycharm": {
     "name": "#%%\n"
    }
   },
   "outputs": [],
   "source": [
    "df = table\n",
    "\n",
    "# This is the thing we might want to specify with argparse\n",
    "filtered = df[df['Cl.'].str.contains('A')]\n",
    "filtered = filtered[filtered['Species'].str.contains('Human')]"
   ]
  },
  {
   "cell_type": "code",
   "execution_count": 8,
   "id": "processed-change",
   "metadata": {
    "pycharm": {
     "name": "#%%\n"
    }
   },
   "outputs": [],
   "source": [
    "# filtered"
   ]
  },
  {
   "cell_type": "code",
   "execution_count": 9,
   "id": "planned-classroom",
   "metadata": {
    "pycharm": {
     "name": "#%%\n"
    }
   },
   "outputs": [],
   "source": [
    "# 2.1) find active state (complex i.p.)\n",
    "filtered_complex = filtered[filtered['Family'].str.contains('Gs')]\n",
    "active = filtered_complex[filtered_complex['State'].str.contains('Active')]"
   ]
  },
  {
   "cell_type": "code",
   "execution_count": 10,
   "id": "liquid-above",
   "metadata": {
    "pycharm": {
     "name": "#%%\n"
    }
   },
   "outputs": [],
   "source": [
    "# disp3(active)"
   ]
  },
  {
   "cell_type": "code",
   "execution_count": 11,
   "id": "amateur-harrison",
   "metadata": {
    "pycharm": {
     "name": "#%%\n"
    }
   },
   "outputs": [
    {
     "data": {
      "text/plain": [
       "\"\\nfor url in tqdm(active['pdb_link']):\\n    download_pdb(url, 'active')\\n\""
      ]
     },
     "execution_count": 11,
     "metadata": {},
     "output_type": "execute_result"
    }
   ],
   "source": [
    "# todo: check if file already exists and use overwrite=True/False\n",
    "\"\"\"\n",
    "for url in tqdm(active['pdb_link']):\n",
    "    download_pdb(url, 'active')\n",
    "\"\"\""
   ]
  },
  {
   "cell_type": "code",
   "execution_count": null,
   "id": "martial-investigation",
   "metadata": {
    "pycharm": {
     "name": "#%%\n"
    }
   },
   "outputs": [],
   "source": []
  },
  {
   "cell_type": "code",
   "execution_count": 12,
   "id": "approved-kruger",
   "metadata": {
    "pycharm": {
     "name": "#%%\n"
    }
   },
   "outputs": [
    {
     "name": "stdout",
     "output_type": "stream",
     "text": [
      "['AA2AR', 'PE2R4', 'GPBAR', 'ADRB2', 'GPR52']\n"
     ]
    }
   ],
   "source": [
    "# find inactive counter parts of the active proteins ==> use gene/uniprot, Family and species to match them\n",
    "\n",
    "genes = list(set(active['uniprot(gene)'].values.tolist()))\n",
    "print(genes)\n",
    "\n",
    "inactive = filtered[(filtered['uniprot(gene)'].isin(genes))\n",
    "                    & (filtered['State'].str.contains('Inactive')) \n",
    "                    & (filtered['Species'].str.contains('Human'))]"
   ]
  },
  {
   "cell_type": "code",
   "execution_count": 13,
   "id": "resident-nevada",
   "metadata": {
    "pycharm": {
     "name": "#%%\n"
    }
   },
   "outputs": [
    {
     "data": {
      "text/plain": [
       "\"for url in tqdm(inactive['pdb_link']):\\n    download_pdb(url, 'inactive')\""
      ]
     },
     "execution_count": 13,
     "metadata": {},
     "output_type": "execute_result"
    }
   ],
   "source": [
    "\"\"\"for url in tqdm(inactive['pdb_link']):\n",
    "    download_pdb(url, 'inactive')\"\"\""
   ]
  },
  {
   "cell_type": "code",
   "execution_count": 14,
   "id": "floating-pencil",
   "metadata": {
    "pycharm": {
     "name": "#%%\n"
    }
   },
   "outputs": [],
   "source": [
    "# disp3(inactive)"
   ]
  },
  {
   "cell_type": "markdown",
   "id": "challenging-basket",
   "metadata": {},
   "source": [
    "## GPCRDB"
   ]
  },
  {
   "cell_type": "code",
   "execution_count": 15,
   "id": "fossil-surfing",
   "metadata": {},
   "outputs": [],
   "source": [
    "# Solution: manual download for the entire A class\n",
    "al = load_alignment_()"
   ]
  },
  {
   "cell_type": "code",
   "execution_count": 16,
   "id": "surgical-mouse",
   "metadata": {
    "pycharm": {
     "name": "#%%\n"
    }
   },
   "outputs": [
    {
     "name": "stdout",
     "output_type": "stream",
     "text": [
      "cleaning alignment\n"
     ]
    }
   ],
   "source": [
    "al_df, positions = clean_alignment(al)"
   ]
  },
  {
   "cell_type": "code",
   "execution_count": 17,
   "id": "abstract-literature",
   "metadata": {},
   "outputs": [
    {
     "data": {
      "text/plain": [
       "['7.24x23',\n",
       " '7.25x24',\n",
       " '7.26x25',\n",
       " '7.27x26',\n",
       " '7.28x27',\n",
       " '7.29x28',\n",
       " '7.30x29',\n",
       " '7.31x30',\n",
       " '7.32x31',\n",
       " '7.33x32',\n",
       " '7.34x33',\n",
       " '7.35x34',\n",
       " '7.36x35',\n",
       " '7.37x36',\n",
       " '7.38x37',\n",
       " '7.39x38',\n",
       " '7.40x39',\n",
       " '7.41x40',\n",
       " '7.42x41',\n",
       " '7.43x42',\n",
       " '7.44x43',\n",
       " '7.45x45',\n",
       " '7.46x46',\n",
       " '7.47x47',\n",
       " '7.48x48',\n",
       " '7.49x49',\n",
       " '7.50x50',\n",
       " '7.51x51',\n",
       " '7.52x52',\n",
       " '7.53x53',\n",
       " '7.54x54',\n",
       " '7.55x55',\n",
       " '7.56x56',\n",
       " '7.57x57',\n",
       " '7.58x58',\n",
       " '7.59x59',\n",
       " '8.44x44',\n",
       " '8.45x45',\n",
       " '8.46x46',\n",
       " '8.47x47',\n",
       " '8.48x48',\n",
       " '8.49x49',\n",
       " '8.50x50',\n",
       " '8.51x51',\n",
       " '8.52x52',\n",
       " '8.53x53',\n",
       " '8.54x54',\n",
       " '8.55x55',\n",
       " '8.56x56',\n",
       " '8.57x57',\n",
       " '8.58x58',\n",
       " '8.59x59',\n",
       " '8.60x60',\n",
       " '8.61x61',\n",
       " '8.62x62',\n",
       " '8.63x63',\n",
       " '8.64x64',\n",
       " '8.65x65',\n",
       " '8.66x66',\n",
       " '8.67x67',\n",
       " '8.68x68',\n",
       " '8.69x69',\n",
       " '8.70x70',\n",
       " '8.71x71',\n",
       " '8.72x72']"
      ]
     },
     "execution_count": 17,
     "metadata": {},
     "output_type": "execute_result"
    }
   ],
   "source": [
    "positions"
   ]
  },
  {
   "cell_type": "code",
   "execution_count": 18,
   "id": "induced-bracket",
   "metadata": {
    "pycharm": {
     "name": "#%%\n"
    }
   },
   "outputs": [
    {
     "data": {
      "text/html": [
       "<div>\n",
       "<style scoped>\n",
       "    .dataframe tbody tr th:only-of-type {\n",
       "        vertical-align: middle;\n",
       "    }\n",
       "\n",
       "    .dataframe tbody tr th {\n",
       "        vertical-align: top;\n",
       "    }\n",
       "\n",
       "    .dataframe thead th {\n",
       "        text-align: right;\n",
       "    }\n",
       "</style>\n",
       "<table border=\"1\" class=\"dataframe\">\n",
       "  <thead>\n",
       "    <tr style=\"text-align: right;\">\n",
       "      <th></th>\n",
       "      <th>ID</th>\n",
       "      <th>clean_id</th>\n",
       "      <th>TM7_combined</th>\n",
       "      <th>TM7_clean</th>\n",
       "      <th>H8_combined</th>\n",
       "      <th>H8_clean</th>\n",
       "      <th>roi_pos</th>\n",
       "      <th>roi_seq</th>\n",
       "    </tr>\n",
       "  </thead>\n",
       "  <tbody>\n",
       "    <tr>\n",
       "      <th>1</th>\n",
       "      <td>[Human] 5-HT1A receptor</td>\n",
       "      <td>5-HT1A receptor</td>\n",
       "      <td>_______PTLLGAIINWLGYSNSLLNPVIYAYF___</td>\n",
       "      <td>PTLLGAIINWLGYSNSLLNPVIYAYF</td>\n",
       "      <td>___NKDFQNAFKKII______________</td>\n",
       "      <td>NKDFQNAFKKII</td>\n",
       "      <td>[7.31x30, 7.32x31, 7.33x32, 7.34x33, 7.35x34, ...</td>\n",
       "      <td>PTLLGAIINWLGYSNSLLNPVIYAYFNKDFQNAFKKII</td>\n",
       "    </tr>\n",
       "    <tr>\n",
       "      <th>2</th>\n",
       "      <td>[Human] 4iaq</td>\n",
       "      <td>4iaq</td>\n",
       "      <td>_______HLAIFDFFTWLGYLNSLINPIIYTMS___</td>\n",
       "      <td>HLAIFDFFTWLGYLNSLINPIIYTMS</td>\n",
       "      <td>___NEDFKQAFHKLI______________</td>\n",
       "      <td>NEDFKQAFHKLI</td>\n",
       "      <td>[7.31x30, 7.32x31, 7.33x32, 7.34x33, 7.35x34, ...</td>\n",
       "      <td>HLAIFDFFTWLGYLNSLINPIIYTMSNEDFKQAFHKLI</td>\n",
       "    </tr>\n",
       "    <tr>\n",
       "      <th>3</th>\n",
       "      <td>[Human] 4iar</td>\n",
       "      <td>4iar</td>\n",
       "      <td>_______HLAIFDFFTWLGYLNSLINPIIYTM____</td>\n",
       "      <td>HLAIFDFFTWLGYLNSLINPIIYTM</td>\n",
       "      <td>___NEDFKQAFHKLI______________</td>\n",
       "      <td>NEDFKQAFHKLI</td>\n",
       "      <td>[7.31x30, 7.32x31, 7.33x32, 7.34x33, 7.35x34, ...</td>\n",
       "      <td>HLAIFDFFTWLGYLNSLINPIIYTMNEDFKQAFHKLI</td>\n",
       "    </tr>\n",
       "  </tbody>\n",
       "</table>\n",
       "</div>"
      ],
      "text/plain": [
       "                        ID         clean_id  \\\n",
       "1  [Human] 5-HT1A receptor  5-HT1A receptor   \n",
       "2             [Human] 4iaq             4iaq   \n",
       "3             [Human] 4iar             4iar   \n",
       "\n",
       "                           TM7_combined                   TM7_clean  \\\n",
       "1  _______PTLLGAIINWLGYSNSLLNPVIYAYF___  PTLLGAIINWLGYSNSLLNPVIYAYF   \n",
       "2  _______HLAIFDFFTWLGYLNSLINPIIYTMS___  HLAIFDFFTWLGYLNSLINPIIYTMS   \n",
       "3  _______HLAIFDFFTWLGYLNSLINPIIYTM____   HLAIFDFFTWLGYLNSLINPIIYTM   \n",
       "\n",
       "                     H8_combined      H8_clean  \\\n",
       "1  ___NKDFQNAFKKII______________  NKDFQNAFKKII   \n",
       "2  ___NEDFKQAFHKLI______________  NEDFKQAFHKLI   \n",
       "3  ___NEDFKQAFHKLI______________  NEDFKQAFHKLI   \n",
       "\n",
       "                                             roi_pos  \\\n",
       "1  [7.31x30, 7.32x31, 7.33x32, 7.34x33, 7.35x34, ...   \n",
       "2  [7.31x30, 7.32x31, 7.33x32, 7.34x33, 7.35x34, ...   \n",
       "3  [7.31x30, 7.32x31, 7.33x32, 7.34x33, 7.35x34, ...   \n",
       "\n",
       "                                  roi_seq  \n",
       "1  PTLLGAIINWLGYSNSLLNPVIYAYFNKDFQNAFKKII  \n",
       "2  HLAIFDFFTWLGYLNSLINPIIYTMSNEDFKQAFHKLI  \n",
       "3   HLAIFDFFTWLGYLNSLINPIIYTMNEDFKQAFHKLI  "
      ]
     },
     "metadata": {},
     "output_type": "display_data"
    }
   ],
   "source": [
    "disp3(al_df)"
   ]
  },
  {
   "cell_type": "markdown",
   "id": "rotary-sociology",
   "metadata": {},
   "source": [
    "# Data loading"
   ]
  },
  {
   "cell_type": "markdown",
   "id": "fixed-vatican",
   "metadata": {},
   "source": [
    "## PDB"
   ]
  },
  {
   "cell_type": "code",
   "execution_count": 20,
   "id": "considerable-hawaii",
   "metadata": {},
   "outputs": [
    {
     "name": "stdout",
     "output_type": "stream",
     "text": [
      "Found 13 proteins: ['6E67', '6LI3', '7CFM', '5G53', '7CFN', '7BW0', '7BZ2', '7D7M', '7DHI', '6NI3', '6GDG', '3SN6', '7DHR'].\n"
     ]
    }
   ],
   "source": [
    "files_a, prots_a = get_pdb_files(path='data/pdb/active/')  # Get all downloaded pdb files in specified path\n",
    "print(\"Found {} proteins: {}.\".format(len(prots_a), prots_a))"
   ]
  },
  {
   "cell_type": "code",
   "execution_count": 21,
   "id": "interior-durham",
   "metadata": {
    "pycharm": {
     "name": "#%%\n"
    }
   },
   "outputs": [
    {
     "name": "stdout",
     "output_type": "stream",
     "text": [
      "Found 74 proteins: ['3D4S', '4EIY', '6PS0', '2RH1', '3UZC', '6S0Q', '3NYA', '5OLV', '3RFM', '5IU8', '5OLG', '5JQH', '6JZH', '5MZP', '4GBR', '6AQF', '6PS6', '3PWH', '5OM4', '6PS2', '6WQA', '5OLH', '5N2R', '5UVI', '6LPL', '3UZA', '5D6L', '6PS1', '3NY9', '5NM4', '3PDS', '5OLO', '6PS7', '3EML', '5YWY', '5D5A', '5X7D', '5OLZ', '6LPK', '3VGA', '3NY8', '6MH8', '5K2A', '5NLX', '5UIG', '2R4S', '6PS5', '5IU7', '3KJ6', '5JTB', '6LPJ', '5K2B', '5D5B', '3VG9', '5IUA', '5OM1', '6PRZ', '3REY', '6PS3', '6PS4', '6ZDR', '6GT3', '5K2D', '5YHL', '5IUB', '5MZJ', '5IU4', '6OBA', '6S0L', '5VRA', '5NM2', '6ZDV', '5K2C', '2R4R'].\n"
     ]
    }
   ],
   "source": [
    "# Data loading\n",
    "files_i, prots_i = get_pdb_files(path='data/pdb/inactive/')  # Get all downloaded pdb files in specified path\n",
    "print(\"Found {} proteins: {}.\".format(len(prots_i), prots_i))"
   ]
  },
  {
   "cell_type": "code",
   "execution_count": null,
   "id": "iraqi-coordinate",
   "metadata": {},
   "outputs": [],
   "source": []
  },
  {
   "cell_type": "code",
   "execution_count": 22,
   "id": "gross-group",
   "metadata": {
    "pycharm": {
     "name": "#%%\n"
    }
   },
   "outputs": [
    {
     "name": "stdout",
     "output_type": "stream",
     "text": [
      "Searching for alignment: https://gpcrdb.org/services/alignment/protein/6E67,6LI3,7CFM,5G53,7CFN,7BW0,7BZ2,7D7M,7DHI,6NI3,6GDG,3SN6,7DHR/TM7/\n",
      "Doesnt work anymore...\n"
     ]
    }
   ],
   "source": [
    "try:\n",
    "    seg_aligns = get_alignment(prots_a)\n",
    "    print(yaml.dump(seg_aligns, default_flow_style=False))\n",
    "except:\n",
    "    print(\"Doesnt work anymore...\")"
   ]
  },
  {
   "cell_type": "code",
   "execution_count": 23,
   "id": "adopted-tsunami",
   "metadata": {
    "pycharm": {
     "name": "#%%\n"
    }
   },
   "outputs": [],
   "source": [
    "# since the identifiers are only human readable..."
   ]
  },
  {
   "cell_type": "code",
   "execution_count": 24,
   "id": "coupled-memory",
   "metadata": {
    "pycharm": {
     "name": "#%%\n"
    }
   },
   "outputs": [],
   "source": [
    "genes = list(al_df['clean_id'])\n",
    "\n",
    "l4=[]\n",
    "l5=[]\n",
    "l6=[]\n",
    "\n",
    "for g in genes:\n",
    "    if len(g) == 4:\n",
    "        l4.append(g)\n",
    "    elif len(g) == 5:\n",
    "        l5.append(g)\n",
    "    elif len(g) == 6:\n",
    "        l6.append(g)\n",
    "    else:\n",
    "        pass"
   ]
  },
  {
   "cell_type": "code",
   "execution_count": 25,
   "id": "loose-provision",
   "metadata": {
    "pycharm": {
     "name": "#%%\n"
    }
   },
   "outputs": [
    {
     "name": "stdout",
     "output_type": "stream",
     "text": [
      "['4iaq', '4iar', '5v54', '6g79', '7c61', '6a93', '6a94', '6wgt', '6wh4', '6wha', '4ib4', '4nc3', '5tud', '5tvn', '6drx', '6dry', '6drz', '6ds0', '6bqg', '6bqh', '5cxv', '6oij', '6wjc', '3uon', '4mqs', '4mqt', '5yc8', '5zk3', '5zk8', '5zkb', '5zkc', '6oik', '6u1n', '5dsg', '6kp6', '6ol9', '6kux', '6kuy', '6k41', '6k42', '6kuw', '2r4r', '2r4s', '2rh1', '3d4s', '3kj6', '3ny8', '3ny9', '3nya', '3p0g', '3pds', '3sn6', '4gbr', '4lde', '4ldl', '4ldo', '4qkx', '5d5a', '5d5b', '5d6l', '5jqh', '5x7d', '6e67', '6mxt', '6n48', '6ni3', '6oba', '6prz', '6ps0', '6ps1', '6ps2', '6ps3', '6ps4', '6ps5', '6ps6', '7bz2', '7dhi', '7dhr', '6cm4', '6luq', '6vms', '7dfp', '3pbl', '5wiu', '5wiv', '3rze', '4yay', '4zud', '6do1', '6os0', '6os1', '6os2', '5unf', '5ung', '5unh', '5xjm', '6jod', '7c6a', '5vbl', '6knm', '5o9h', '6c1q', '6c1r', '5glh', '5gli', '5x93', '5xpr', '6igk', '6igl', '6k1q', '6lry', 'FPR1', '6lw5', '6omm', 'FPR3', '6ko5', '7br3', '6w25', '5zbh', '5zbq', '7ddz', '6os9', '6osa', '6pwc', '6up7', '4n6h', '4rwa', '4rwd', '6pt2', '6pt3', '4djh', '6b73', '6vi4', '4ea3', '5dhg', '5dhh', '4zj8', '4zjc', '6to7', '6tod', '6tos', '6tot', '6tp3', '6tp4', '6tp6', '6tq4', '6tq6', '6tq7', '6tq9', '6v9s', '4s0v', '5wqc', '5ws3', '6tpg', '6tpj', '6tpn', '3vw7', 'PAR1', '5ndd', '5ndz', '5nj6', 'PAR2', 'PAR3', 'PAR4', '6e59', '6hll', '6hlo', '6hlp', '6j20', '6j21', '6tpk', 'CCR1', '5T1A', '6gps', '6gpx', 'CCR2', 'CCR3', 'CCR4', '4mbs', '5uiw', '6akx', '6aky', '6meo', '6met', 'CCR5', '6wwz', 'CCR6', '6qzh', 'CCR7', 'CCR8', '5lwe', 'CCR9', '6lfl', '6lfm', '6lfo', '3odu', '3oe0', '3oe6', '3oe8', '3oe9', '4rws', 'XCR1', 'PKR1', 'PKR2', '4phu', '5kw2', '5tzr', '5tzy', '6rz4', '6rz5', '6rz6', '6rz7', '6rz8', '6rz9', '4z34', '4z35', '4z36', '3v2w', '3v2y', '5tgz', '5u09', '5xr8', '5xra', '6kpg', '6kqi', '6n4b', '5zty', '6kpc', '6kpf', '6pt0', '5zkp', '5zkq', '6d26', '6d27', '6ak3', '6m9t', '5yhl', '5ywy', '7d7m', '6iiu', '6iiv', '6me2', '6me3', '6me4', '6me5', '6ps8', '6me6', '6me7', '6me8', '6me9', '5n2s', '5uen', '6d9h', '2ydo', '2ydv', '3eml', '3pwh', '3qak', '3rey', '3rfm', '3uza', '3uzc', '3vg9', '3vga', '4eiy', '4ug2', '4uhr', '5g53', '5iu4', '5iu7', '5iu8', '5iua', '5iub', '5jtb', '5k2a', '5k2b', '5k2c', '5K2D', '5mzj', '5mzp', '5n2r', '5nlx', '5nm2', '5nm4', '5olg', '5olh', '5olo', '5olv', '5olz', '5om1', '5om4', '5uig', '5uvi', '5vra', '5wf5', '5wf6', '6aqf', '6gdg', '6gt3', '6jzh', '6lpj', '6lpk', '6lpl', '6mh8', '6ps7', '6s0l', '6s0q', '6wqa', '6zdr', '6zdv', '4xnv', '4xnw', '4ntj', '4pxz', '4py0', '7bw0', '7cfm', '7cfn', 'GPER', '4zwj', '5dgy', '5w0p', '6cmo', 'GPR1', 'GPR3', 'GPR4', 'GPR6', '6li0', '6li1', '6li2', '6li3', 'LGR4', 'LGR5', 'LGR6', 'MAS1']\n"
     ]
    }
   ],
   "source": [
    "print(l4)  # these are (all?) pdbs"
   ]
  },
  {
   "cell_type": "code",
   "execution_count": 26,
   "id": "exotic-columbia",
   "metadata": {
    "pycharm": {
     "name": "#%%\n"
    }
   },
   "outputs": [],
   "source": [
    "# print(l5)  # these are?"
   ]
  },
  {
   "cell_type": "code",
   "execution_count": 27,
   "id": "collaborative-grace",
   "metadata": {
    "pycharm": {
     "name": "#%%\n"
    }
   },
   "outputs": [],
   "source": [
    "# print(l6)  # another id.."
   ]
  },
  {
   "cell_type": "code",
   "execution_count": 28,
   "id": "modular-divorce",
   "metadata": {},
   "outputs": [],
   "source": [
    "# how did i load active inactive again?"
   ]
  },
  {
   "cell_type": "code",
   "execution_count": 29,
   "id": "engaging-creator",
   "metadata": {
    "pycharm": {
     "name": "#%%\n"
    }
   },
   "outputs": [
    {
     "name": "stderr",
     "output_type": "stream",
     "text": [
      "<ipython-input-29-29d6b45c2935>:2: SettingWithCopyWarning: \n",
      "A value is trying to be set on a copy of a slice from a DataFrame.\n",
      "Try using .loc[row_indexer,col_indexer] = value instead\n",
      "\n",
      "See the caveats in the documentation: https://pandas.pydata.org/pandas-docs/stable/user_guide/indexing.html#returning-a-view-versus-a-copy\n",
      "  inactive['pdb_lower'] = inactive.PDB.apply(lambda x: x.lower())\n"
     ]
    }
   ],
   "source": [
    "# This should be put into a function somewhere or just left out!\n",
    "inactive['pdb_lower'] = inactive.PDB.apply(lambda x: x.lower())\n",
    "active['pdb_lower'] = active.PDB.apply(lambda x: x.lower())"
   ]
  },
  {
   "cell_type": "code",
   "execution_count": 30,
   "id": "amber-bench",
   "metadata": {
    "pycharm": {
     "name": "#%%\n"
    }
   },
   "outputs": [],
   "source": [
    "found = []\n",
    "for g in l4:\n",
    "    select = inactive[inactive['pdb_lower'].str.contains(g.lower())]\n",
    "    if len(select) > 0:\n",
    "        found.append(g)"
   ]
  },
  {
   "cell_type": "code",
   "execution_count": 31,
   "id": "horizontal-miller",
   "metadata": {
    "pycharm": {
     "name": "#%%\n"
    }
   },
   "outputs": [
    {
     "name": "stdout",
     "output_type": "stream",
     "text": [
      "Found 74 / 74 inactive proteins.\n"
     ]
    }
   ],
   "source": [
    "print(\"Found {} / {} inactive proteins.\".format(len(found), len(inactive)))"
   ]
  },
  {
   "cell_type": "code",
   "execution_count": 32,
   "id": "viral-hormone",
   "metadata": {
    "pycharm": {
     "name": "#%%\n"
    }
   },
   "outputs": [],
   "source": [
    "# check\n",
    "# print(sorted(list(inactive['PDB'].str.lower()))[:10])\n",
    "# print(sorted(l4)[:10])"
   ]
  },
  {
   "cell_type": "markdown",
   "id": "historic-input",
   "metadata": {},
   "source": [
    "# Structures (PDB)"
   ]
  },
  {
   "cell_type": "markdown",
   "id": "historical-childhood",
   "metadata": {},
   "source": [
    "## Combine gpcrdb-table, pdb-structures and alignments"
   ]
  },
  {
   "cell_type": "code",
   "execution_count": null,
   "id": "appreciated-ghost",
   "metadata": {},
   "outputs": [],
   "source": [
    "# FIX: DO NOT USE ONLY CHAIN ID 0 ---> USE ALL CHAINS AND USE SEQ ALIGNMENT TO GET THE CORRECT CHAIN"
   ]
  },
  {
   "cell_type": "code",
   "execution_count": 33,
   "id": "adult-plaza",
   "metadata": {
    "pycharm": {
     "name": "#%%\n"
    }
   },
   "outputs": [
    {
     "name": "stderr",
     "output_type": "stream",
     "text": [
      "100%|██████████████████████████████████████████████████████████████████████████████████████████████████████████████████████████████████████████████████████████████████████████████████████████████████████████████████████████████████████████████████████████████████████████████████| 13/13 [00:03<00:00,  3.93it/s]\n"
     ]
    }
   ],
   "source": [
    "structures_a = pdb_data(files_a)"
   ]
  },
  {
   "cell_type": "code",
   "execution_count": 34,
   "id": "abandoned-advancement",
   "metadata": {},
   "outputs": [
    {
     "data": {
      "text/html": [
       "<div>\n",
       "<style scoped>\n",
       "    .dataframe tbody tr th:only-of-type {\n",
       "        vertical-align: middle;\n",
       "    }\n",
       "\n",
       "    .dataframe tbody tr th {\n",
       "        vertical-align: top;\n",
       "    }\n",
       "\n",
       "    .dataframe thead th {\n",
       "        text-align: right;\n",
       "    }\n",
       "</style>\n",
       "<table border=\"1\" class=\"dataframe\">\n",
       "  <thead>\n",
       "    <tr style=\"text-align: right;\">\n",
       "      <th></th>\n",
       "      <th>prot_id</th>\n",
       "      <th>prot_len</th>\n",
       "      <th>prot_seq</th>\n",
       "      <th>pp_ids</th>\n",
       "      <th>pp_lens</th>\n",
       "      <th>pp_seqs</th>\n",
       "      <th>psi_phi</th>\n",
       "    </tr>\n",
       "  </thead>\n",
       "  <tbody>\n",
       "    <tr>\n",
       "      <th>0</th>\n",
       "      <td>3SN6</td>\n",
       "      <td>349</td>\n",
       "      <td>[T, E, D, Q, R, N, E, E, K, A, Q, R, E, A, N, ...</td>\n",
       "      <td>[0, 1, 2, 3]</td>\n",
       "      <td>[51, 115, 51, 132]</td>\n",
       "      <td>[TEDQRNEEKAQREANKKIEKQLQKDKQVYRATHRLLLLGAGESGK...</td>\n",
       "      <td>[[[None, -2.4757948598365656], [0.838827129769...</td>\n",
       "    </tr>\n",
       "    <tr>\n",
       "      <th>1</th>\n",
       "      <td>5G53</td>\n",
       "      <td>286</td>\n",
       "      <td>[S, S, V, Y, I, T, V, E, L, A, I, A, V, L, A, ...</td>\n",
       "      <td>[0, 1, 2]</td>\n",
       "      <td>[141, 53, 89]</td>\n",
       "      <td>[SSVYITVELAIAVLAILGNVLVCWAVWLNSNLQNVTNYFVVSLAA...</td>\n",
       "      <td>[[[None, 2.349491635258823], [-1.0346566470181...</td>\n",
       "    </tr>\n",
       "    <tr>\n",
       "      <th>2</th>\n",
       "      <td>6E67</td>\n",
       "      <td>458</td>\n",
       "      <td>[D, E, V, W, V, V, G, M, G, I, V, M, S, L, I, ...</td>\n",
       "      <td>[0]</td>\n",
       "      <td>[457]</td>\n",
       "      <td>[DEVWVVGMGIVMSLIVLAIVFGNVLVITAIAKFERLQTVTNYFIT...</td>\n",
       "      <td>[[[None, 2.4471797633510577], [-1.186672557221...</td>\n",
       "    </tr>\n",
       "  </tbody>\n",
       "</table>\n",
       "</div>"
      ],
      "text/plain": [
       "  prot_id  prot_len                                           prot_seq  \\\n",
       "0    3SN6       349  [T, E, D, Q, R, N, E, E, K, A, Q, R, E, A, N, ...   \n",
       "1    5G53       286  [S, S, V, Y, I, T, V, E, L, A, I, A, V, L, A, ...   \n",
       "2    6E67       458  [D, E, V, W, V, V, G, M, G, I, V, M, S, L, I, ...   \n",
       "\n",
       "         pp_ids             pp_lens  \\\n",
       "0  [0, 1, 2, 3]  [51, 115, 51, 132]   \n",
       "1     [0, 1, 2]       [141, 53, 89]   \n",
       "2           [0]               [457]   \n",
       "\n",
       "                                             pp_seqs  \\\n",
       "0  [TEDQRNEEKAQREANKKIEKQLQKDKQVYRATHRLLLLGAGESGK...   \n",
       "1  [SSVYITVELAIAVLAILGNVLVCWAVWLNSNLQNVTNYFVVSLAA...   \n",
       "2  [DEVWVVGMGIVMSLIVLAIVFGNVLVITAIAKFERLQTVTNYFIT...   \n",
       "\n",
       "                                             psi_phi  \n",
       "0  [[[None, -2.4757948598365656], [0.838827129769...  \n",
       "1  [[[None, 2.349491635258823], [-1.0346566470181...  \n",
       "2  [[[None, 2.4471797633510577], [-1.186672557221...  "
      ]
     },
     "metadata": {},
     "output_type": "display_data"
    }
   ],
   "source": [
    "disp3(structures_a)"
   ]
  },
  {
   "cell_type": "code",
   "execution_count": 39,
   "id": "duplicate-buying",
   "metadata": {
    "pycharm": {
     "name": "#%%\n"
    }
   },
   "outputs": [],
   "source": [
    "full_a = structure_to_full(active, structures_a, al_df)"
   ]
  },
  {
   "cell_type": "code",
   "execution_count": 42,
   "id": "agreed-traffic",
   "metadata": {
    "pycharm": {
     "name": "#%%\n"
    }
   },
   "outputs": [],
   "source": [
    "full_a.to_pickle('full_a.pkl')"
   ]
  },
  {
   "cell_type": "code",
   "execution_count": 43,
   "id": "lined-memory",
   "metadata": {
    "pycharm": {
     "name": "#%%\n"
    }
   },
   "outputs": [
    {
     "name": "stderr",
     "output_type": "stream",
     "text": [
      "100%|██████████████████████████████████████████████████████████████████████████████████████████████████████████████████████████████████████████████████████████████████████████████████████████████████████████████████████████████████████████████████████████████████████████████████| 74/74 [00:16<00:00,  4.55it/s]\n"
     ]
    }
   ],
   "source": [
    "structures_i = pdb_data(files_i)"
   ]
  },
  {
   "cell_type": "code",
   "execution_count": 44,
   "id": "dying-aging",
   "metadata": {},
   "outputs": [],
   "source": [
    "full_i = structure_to_full(inactive, structures_i, al_df)"
   ]
  },
  {
   "cell_type": "code",
   "execution_count": 45,
   "id": "raising-basis",
   "metadata": {},
   "outputs": [],
   "source": [
    "full_i.to_pickle('full_i.pkl')"
   ]
  },
  {
   "cell_type": "markdown",
   "id": "quarterly-matthew",
   "metadata": {},
   "source": [
    "## Load Full"
   ]
  },
  {
   "cell_type": "code",
   "execution_count": 282,
   "id": "million-packing",
   "metadata": {},
   "outputs": [],
   "source": [
    "full_a = pd.read_pickle('full_a.pkl')"
   ]
  },
  {
   "cell_type": "code",
   "execution_count": 283,
   "id": "cognitive-turkish",
   "metadata": {},
   "outputs": [],
   "source": [
    "full_a = full_a[full_a['uniprotid']!='RESIDUES'].dropna(subset=['uniprotid'])"
   ]
  },
  {
   "cell_type": "code",
   "execution_count": 285,
   "id": "charitable-equation",
   "metadata": {},
   "outputs": [
    {
     "data": {
      "text/plain": [
       "11"
      ]
     },
     "execution_count": 285,
     "metadata": {},
     "output_type": "execute_result"
    }
   ],
   "source": [
    "len(full_a)"
   ]
  },
  {
   "cell_type": "code",
   "execution_count": 364,
   "id": "educational-motorcycle",
   "metadata": {},
   "outputs": [],
   "source": [
    "full_i = pd.read_pickle('full_i.pkl')"
   ]
  },
  {
   "cell_type": "code",
   "execution_count": 365,
   "id": "vietnamese-glory",
   "metadata": {},
   "outputs": [],
   "source": [
    "full_i = full_i[full_i['uniprotid']!='RESIDUES']"
   ]
  },
  {
   "cell_type": "code",
   "execution_count": 366,
   "id": "challenging-craft",
   "metadata": {},
   "outputs": [
    {
     "data": {
      "text/plain": [
       "66"
      ]
     },
     "execution_count": 366,
     "metadata": {},
     "output_type": "execute_result"
    }
   ],
   "source": [
    "len(full_i)"
   ]
  },
  {
   "cell_type": "code",
   "execution_count": 367,
   "id": "cloudy-windows",
   "metadata": {},
   "outputs": [],
   "source": [
    "# Include Uniprot data\n",
    "import pandas as pd\n",
    "from bs4 import BeautifulSoup\n",
    "import urllib\n",
    "\n",
    "\n",
    "def get_uniprot(query='',query_type='PDB_ID'):\n",
    "    #query_type must be: \"PDB_ID\" or \"ACC\"\n",
    "    url = 'https://www.uniprot.org/' #This is the webser to retrieve the Uniprot data\n",
    "    params = {\n",
    "    'from':query_type,\n",
    "    'to':'ACC',\n",
    "    'format':'txt',\n",
    "    'query':query\n",
    "    }\n",
    "\n",
    "    data = urllib.parse.urlencode(params)\n",
    "    data = data.encode('ascii')\n",
    "    request = urllib.request.Request(url, data)\n",
    "    with urllib.request.urlopen(request) as response:\n",
    "        res = response.read()\n",
    "        page=BeautifulSoup(res).get_text()\n",
    "        page=page.splitlines()\n",
    "    return page"
   ]
  },
  {
   "cell_type": "code",
   "execution_count": 368,
   "id": "exempt-garage",
   "metadata": {},
   "outputs": [],
   "source": [
    "eg = get_uniprot('6li3')"
   ]
  },
  {
   "cell_type": "code",
   "execution_count": 369,
   "id": "together-learning",
   "metadata": {},
   "outputs": [
    {
     "data": {
      "text/plain": [
       "'Q9Y2T5'"
      ]
     },
     "execution_count": 369,
     "metadata": {},
     "output_type": "execute_result"
    }
   ],
   "source": [
    "pdbtouniprot('6li3')"
   ]
  },
  {
   "cell_type": "code",
   "execution_count": 370,
   "id": "antique-spanking",
   "metadata": {},
   "outputs": [],
   "source": [
    "import re\n",
    "\n",
    "\n",
    "searching = False\n",
    "regex = '^[a-zA-Z].{2}[ ].{3}'\n",
    "for _ in eg:\n",
    "    if 'SQ   ' in _:\n",
    "        searching = True\n",
    "        print(_)\n",
    "    elif searching == True:\n",
    "        if re.search(regex, _) and (not 'SQ   ' in _):\n",
    "            searching = False\n",
    "        else:\n",
    "            print(_)"
   ]
  },
  {
   "cell_type": "code",
   "execution_count": 371,
   "id": "honest-welding",
   "metadata": {},
   "outputs": [],
   "source": [
    "def add_uniprot_topology(df):\n",
    "    def get_topo(x):\n",
    "        domains=[]\n",
    "        positions=[]\n",
    "        data=get_uniprot(query=x, query_type='ACC')\n",
    "        add_next_note = False\n",
    "        for line in data:\n",
    "            if 'FT   ' in line:\n",
    "                line=line.strip().replace('FT   ','')\n",
    "                if ('TOPO_DOM' in line) or ('TRANSMEM        ' in line):\n",
    "                    add_next_note=True\n",
    "                    line = line.replace('TOPO_DOM        ', '').replace('TRANSMEM        ', '')\n",
    "                    positions.append((line.split('.')[0], line.split('.')[2]))\n",
    "                if ('note' in line) and add_next_note is True:\n",
    "                    line = line.replace('                /note=', '').replace('\\\"','')\n",
    "                    domains.append(line.replace('                /note=', '').replace('\\\"',''))\n",
    "                    add_next_note=False\n",
    "        return [domains, positions]\n",
    "    lambdafunc = lambda x: pd.Series([get_topo(x.uniprotid)[0],\n",
    "                                      get_topo(x.uniprotid)[1]])\n",
    "    df[['Topology', 'topo_pos']] = df.apply(lambdafunc, axis=1).copy()\n",
    "    return df"
   ]
  },
  {
   "cell_type": "code",
   "execution_count": 295,
   "id": "bottom-garbage",
   "metadata": {},
   "outputs": [],
   "source": [
    "full_a = add_uniprot_topology(full_a)"
   ]
  },
  {
   "cell_type": "code",
   "execution_count": 678,
   "id": "negative-intention",
   "metadata": {},
   "outputs": [],
   "source": [
    "full_i = add_uniprot_topology(full_i)"
   ]
  },
  {
   "cell_type": "code",
   "execution_count": null,
   "id": "unauthorized-grammar",
   "metadata": {},
   "outputs": [],
   "source": [
    "full_i['Topology'][:5]"
   ]
  },
  {
   "cell_type": "code",
   "execution_count": null,
   "id": "sized-leader",
   "metadata": {},
   "outputs": [],
   "source": [
    "full_i['topo_pos'][:5]"
   ]
  },
  {
   "cell_type": "code",
   "execution_count": null,
   "id": "underlying-adoption",
   "metadata": {},
   "outputs": [],
   "source": [
    "# Include Sifts data (which regions are included)"
   ]
  },
  {
   "cell_type": "code",
   "execution_count": null,
   "id": "moving-projector",
   "metadata": {},
   "outputs": [],
   "source": [
    "from utils3 import *"
   ]
  },
  {
   "cell_type": "code",
   "execution_count": null,
   "id": "social-publisher",
   "metadata": {},
   "outputs": [],
   "source": [
    "def get_maps_(full):\n",
    "    l = []\n",
    "    for i in range(len(full)):\n",
    "        uniprot_mappings = list_uniprot_pdb_mappings(full['pdb_lower'].iloc[i])[full['uniprotid'].iloc[i]]['mappings'][0]\n",
    "        l.append(uniprot_mappings)\n",
    "    return l"
   ]
  },
  {
   "cell_type": "code",
   "execution_count": null,
   "id": "selected-knife",
   "metadata": {},
   "outputs": [],
   "source": [
    "def get_maps(pdbs, mappings):\n",
    "    cols = ['pdb_lower', 'start_pdb', 'end_pdb', 'start_uniprot', 'end_uniprot']\n",
    "    maps = {}\n",
    "    for _ in range(len(mappings)):\n",
    "        start = l[_]['start']['residue_number']\n",
    "        end = l[_]['end']['residue_number']\n",
    "        unp_start = l[_]['unp_start']\n",
    "        unp_end = l[_]['unp_end']\n",
    "        data = [pdbs[_], start, end, unp_start, unp_end]\n",
    "        maps.update({_: data})\n",
    "    return pd.DataFrame.from_dict(data=maps).T.rename(columns = {k:cols[k] for k in range(len(cols))})   "
   ]
  },
  {
   "cell_type": "code",
   "execution_count": null,
   "id": "maritime-convenience",
   "metadata": {},
   "outputs": [],
   "source": [
    "# l_a = get_maps_(full_a)"
   ]
  },
  {
   "cell_type": "code",
   "execution_count": 303,
   "id": "statewide-richards",
   "metadata": {},
   "outputs": [],
   "source": [
    "# l_i = get_maps_(full_i)"
   ]
  },
  {
   "cell_type": "code",
   "execution_count": 304,
   "id": "defensive-incentive",
   "metadata": {},
   "outputs": [],
   "source": [
    "# mapping_i = get_maps(full_i['pdb_lower'].tolist(), l_i)"
   ]
  },
  {
   "cell_type": "code",
   "execution_count": 305,
   "id": "first-transparency",
   "metadata": {},
   "outputs": [],
   "source": [
    "# full_i_ = pd.merge(full_i, mapping_i, on='pdb_lower')"
   ]
  },
  {
   "cell_type": "code",
   "execution_count": 306,
   "id": "tropical-disney",
   "metadata": {},
   "outputs": [],
   "source": [
    "# full_a['pdb_lower']"
   ]
  },
  {
   "cell_type": "code",
   "execution_count": 307,
   "id": "classical-netherlands",
   "metadata": {},
   "outputs": [],
   "source": [
    "# mapping_a = get_maps(full_a['pdb_lower'].tolist(), l_a)"
   ]
  },
  {
   "cell_type": "code",
   "execution_count": 308,
   "id": "adverse-genome",
   "metadata": {},
   "outputs": [],
   "source": [
    "# full_a_ = pd.merge(full_a, mapping_a, on='pdb_lower')"
   ]
  },
  {
   "cell_type": "code",
   "execution_count": 309,
   "id": "vietnamese-chance",
   "metadata": {
    "scrolled": true
   },
   "outputs": [],
   "source": [
    "# disp3(full_i_)"
   ]
  },
  {
   "cell_type": "code",
   "execution_count": null,
   "id": "collected-retreat",
   "metadata": {},
   "outputs": [],
   "source": []
  },
  {
   "cell_type": "code",
   "execution_count": 310,
   "id": "genetic-station",
   "metadata": {},
   "outputs": [],
   "source": [
    "# check if these numbers mean anything"
   ]
  },
  {
   "cell_type": "code",
   "execution_count": 311,
   "id": "dried-stack",
   "metadata": {},
   "outputs": [],
   "source": [
    "# 1 get uniprot protein sequence ==> done"
   ]
  },
  {
   "cell_type": "code",
   "execution_count": 312,
   "id": "modern-terrace",
   "metadata": {},
   "outputs": [],
   "source": [
    "# 2 compare full sequences  ==> wtf"
   ]
  },
  {
   "cell_type": "code",
   "execution_count": 313,
   "id": "supreme-thunder",
   "metadata": {},
   "outputs": [],
   "source": [
    "# 3 compare sections that supposedly are \"mapped\"  ==> idk what is going on (well at least 1 of the 4 seqs i found on uniprot \n",
    "# corresponds to my true sequence (kinda))"
   ]
  },
  {
   "cell_type": "code",
   "execution_count": 314,
   "id": "planned-accessory",
   "metadata": {},
   "outputs": [],
   "source": [
    "# This should let us evaluate where we have missing protein sections ==> bett"
   ]
  },
  {
   "cell_type": "code",
   "execution_count": 315,
   "id": "played-pocket",
   "metadata": {},
   "outputs": [],
   "source": [
    "# 4 for each residue get the position (dont need anymore since we have )"
   ]
  },
  {
   "cell_type": "code",
   "execution_count": 316,
   "id": "regional-norway",
   "metadata": {},
   "outputs": [],
   "source": [
    "# 5 for each residue get the angles"
   ]
  },
  {
   "cell_type": "code",
   "execution_count": 317,
   "id": "coupled-tyler",
   "metadata": {},
   "outputs": [],
   "source": [
    "# 6 select target region based on position"
   ]
  },
  {
   "cell_type": "code",
   "execution_count": null,
   "id": "nervous-jacob",
   "metadata": {},
   "outputs": [],
   "source": []
  },
  {
   "cell_type": "code",
   "execution_count": null,
   "id": "military-question",
   "metadata": {},
   "outputs": [],
   "source": []
  },
  {
   "cell_type": "code",
   "execution_count": null,
   "id": "aboriginal-closing",
   "metadata": {},
   "outputs": [],
   "source": []
  },
  {
   "cell_type": "code",
   "execution_count": 318,
   "id": "mediterranean-digest",
   "metadata": {},
   "outputs": [],
   "source": [
    "# 7 full position array  (tbd?)"
   ]
  },
  {
   "cell_type": "code",
   "execution_count": 319,
   "id": "parallel-check",
   "metadata": {},
   "outputs": [],
   "source": [
    "# 8 pad the selected angles"
   ]
  },
  {
   "cell_type": "code",
   "execution_count": 320,
   "id": "stuffed-determination",
   "metadata": {},
   "outputs": [],
   "source": [
    "# 9 make a sparse plot"
   ]
  },
  {
   "cell_type": "code",
   "execution_count": null,
   "id": "endless-bride",
   "metadata": {},
   "outputs": [],
   "source": []
  },
  {
   "cell_type": "code",
   "execution_count": null,
   "id": "precious-administrator",
   "metadata": {},
   "outputs": [],
   "source": []
  },
  {
   "cell_type": "code",
   "execution_count": null,
   "id": "warming-riding",
   "metadata": {},
   "outputs": [],
   "source": []
  },
  {
   "cell_type": "code",
   "execution_count": null,
   "id": "featured-shoulder",
   "metadata": {},
   "outputs": [],
   "source": []
  },
  {
   "cell_type": "code",
   "execution_count": null,
   "id": "prescription-india",
   "metadata": {},
   "outputs": [],
   "source": [
    "# todo: select only the mappings corresponding to the uniprot-id we already have!"
   ]
  },
  {
   "cell_type": "code",
   "execution_count": null,
   "id": "killing-constitutional",
   "metadata": {},
   "outputs": [],
   "source": []
  },
  {
   "cell_type": "code",
   "execution_count": null,
   "id": "integrated-meter",
   "metadata": {},
   "outputs": [],
   "source": []
  },
  {
   "cell_type": "code",
   "execution_count": 629,
   "id": "chicken-stable",
   "metadata": {},
   "outputs": [],
   "source": [
    "def align_seg_to_seq(z, padding=None, padding_l=None, padding_r=0):\n",
    "    X = z[0]\n",
    "    Y = z[1]\n",
    "    pdb = z[2]\n",
    "    if (len(X) == 0) or (len(Y) == 0):\n",
    "        return None, None, None, None, None, None, None\n",
    "    a_ = pairwise2.align.globalms(X, Y, 3, -.5, -.1, -0.1)[0]\n",
    "    score = a_.score\n",
    "    score /= len(Y)  # Is this a balanced representation?\n",
    "    matching = [0 if (a_.seqB[i] == '-') else 1 for i in range(len(a_.seqB))]\n",
    "    # get mean\n",
    "    res_id = [idx for idx, val in enumerate(matching) if val != 0]\n",
    "    res_arr = np.asarray(res_id)\n",
    "    mean = np.mean(res_arr)\n",
    "    # get std\n",
    "    std = np.std(res_arr)\n",
    "    # get start\n",
    "    start = matching.index(1)\n",
    "    # get end\n",
    "    end = len(matching) - matching[::-1].index(1)\n",
    "    if padding != None:\n",
    "        start = max(0, start-padding)\n",
    "        end = min(len(X), end+padding)\n",
    "    if padding_l != None:\n",
    "        start = max(0, start-padding_l)\n",
    "    if padding_r != None:\n",
    "        end = min(len(X), end+padding_r)\n",
    "    return start, end, mean, std, score, res_id, pdb\n",
    "\n",
    "\n",
    "def get_align_dict(full: pd.DataFrame, section_name='TM7'):\n",
    "    l_seq = list(full['full_prot_seq'])\n",
    "    l_seg = list(full[section_name+'_clean'])\n",
    "    pdb = list(full['PDB'])\n",
    "    cols = ['start', 'end', 'mean', 'std', 'score', 'res', 'PDB']\n",
    "    cols = [section_name+'_'+x  if x != 'PDB' else 'PDB' for x in cols]\n",
    "    l = []\n",
    "    for z in zip(l_seq, l_seg, pdb):\n",
    "        values = align_seg_to_seq(z)\n",
    "        zipped = zip(cols, values)\n",
    "        a_s = dict(zipped)\n",
    "        l.append(a_s)\n",
    "    a_df = pd.DataFrame(columns=cols)\n",
    "    a_df = a_df.append(l, True)\n",
    "    return full.merge(a_df, how='inner', left_on='PDB', right_on='PDB')  # ignore_index=True\n",
    "\n",
    "\n",
    "def df_align_func(df, section_name, max_std=100, min_score=0.0):\n",
    "    def align(x, max_std, min_score):\n",
    "        seg = x[1]\n",
    "        pps = x[0]\n",
    "        min_std = 100\n",
    "        start_best = 0\n",
    "        end_best = 0\n",
    "        # print(\"\\nTrying to find \\n{}\\nFOUND\".format(seg))\n",
    "        pp_id=0\n",
    "        for p, pp in enumerate(pps):\n",
    "            if len(pp) == 0 or len(seg) == 0:\n",
    "                continue\n",
    "            else:\n",
    "                if pp.find(seg) >= 0:\n",
    "                    #print(\"PERFECT MATCH!!!!!!!!!!!!\")\n",
    "                    start = pp.find(seg)\n",
    "                    return start, start+len(seg), (start+len(seg)), -1, -1, p\n",
    "                a_ = pairwise2.align.globalms(seg, pp, 3, -.5, -.1, -0.1)[0]\n",
    "                # get std\n",
    "                score = a_.score\n",
    "                score /= len(pp)\n",
    "                matching = [0 if (a_.seqB[i] == '-') else 1 for i in range(len(a_.seqB))]\n",
    "                # get mean\n",
    "                res_id = [idx for idx, val in enumerate(matching) if val != 0]\n",
    "                res_arr = np.asarray(res_id)\n",
    "                std = np.std(res_arr)\n",
    "                if std < min_std:\n",
    "                    pp_id = 0\n",
    "                    min_std = std\n",
    "                    best_score = score\n",
    "                    mean_best = np.mean(res_arr)\n",
    "                    start_best = matching.index(1)\n",
    "                    end_best = len(matching) - matching[::-1].index(1)\n",
    "        # print(pps[pp_id][start_best:end_best])\n",
    "        if (start_best >= 0) & (min_std < max_std):\n",
    "            return start_best, end_best, mean_best, min_std, best_score, int(pp_id)\n",
    "        else:\n",
    "            return None, None, None, None, None, -1\n",
    "    cols = ['start', 'end', 'mean', 'std', 'score', 'pp_id']\n",
    "    cols = [section_name+'_'+x for x in cols]\n",
    "    df[cols] = df.apply(lambda x: align([x.pp_seqs, x[section_name+'_clean']], max_std, min_score), axis=1, result_type=\"expand\")\n",
    "    df = df.astype({section_name+'_pp_id': int})\n",
    "    return df\n",
    "    \n",
    "    \n",
    "    \n",
    "    "
   ]
  },
  {
   "cell_type": "code",
   "execution_count": 661,
   "id": "informal-tokyo",
   "metadata": {},
   "outputs": [],
   "source": [
    "#del complete_i \n",
    "complete_i = df_align_func(full_i, section_name='TM7')\n",
    "complete_i = df_align_func(complete_i, section_name='H8')"
   ]
  },
  {
   "cell_type": "code",
   "execution_count": 662,
   "id": "happy-payroll",
   "metadata": {},
   "outputs": [],
   "source": [
    "# del complete_a\n",
    "complete_a = df_align_func(full_a, section_name='TM7')\n",
    "complete_a = df_align_func(complete_a, section_name='H8')"
   ]
  },
  {
   "cell_type": "code",
   "execution_count": 670,
   "id": "several-violin",
   "metadata": {},
   "outputs": [],
   "source": [
    "def test_found_seg(df, section_name, filter_bad_aligns=False, max_diff=5):\n",
    "    def get_seg_seq(x):\n",
    "        seqs = x[0]\n",
    "        if x[1] == -1:\n",
    "            return ''\n",
    "        else:\n",
    "            seq_id = int(x[1])\n",
    "            start = int(x[2])\n",
    "            end = int(x[3])\n",
    "            return seqs[seq_id][start:end]\n",
    "    df = df[df[section_name+'_pp_id']!=-1]\n",
    "    df[[section_name + '_found', section_name + '_angles'] = df.apply(\n",
    "        lambda x: get_seg_seq([x.pp_seqs, x[section_name + '_pp_id'], x[section_name+'_start'], x[section_name+'_end']]), axis=1, result_type=\"expand\")\n",
    "    if filter_bad_aligns:\n",
    "        df = df[abs(df[section_name+'_clean'].map(len) - df[section_name+'_found'].map(len)) <= max_diff]\n",
    "    return df"
   ]
  },
  {
   "cell_type": "code",
   "execution_count": 671,
   "id": "chronic-violin",
   "metadata": {},
   "outputs": [],
   "source": [
    "import pandas as pd\n",
    "pd.options.mode.chained_assignment = None  # default='warn'\n",
    "\n",
    "complete_i = test_found_seg(complete_i, 'TM7', True)\n",
    "complete_i = test_found_seg(complete_i, 'H8', True)\n",
    "complete_a = test_found_seg(complete_a, 'TM7', True)\n",
    "complete_a = test_found_seg(complete_a, 'H8', True)"
   ]
  },
  {
   "cell_type": "code",
   "execution_count": 672,
   "id": "vertical-essex",
   "metadata": {},
   "outputs": [
    {
     "data": {
      "text/html": [
       "<div>\n",
       "<style scoped>\n",
       "    .dataframe tbody tr th:only-of-type {\n",
       "        vertical-align: middle;\n",
       "    }\n",
       "\n",
       "    .dataframe tbody tr th {\n",
       "        vertical-align: top;\n",
       "    }\n",
       "\n",
       "    .dataframe thead th {\n",
       "        text-align: right;\n",
       "    }\n",
       "</style>\n",
       "<table border=\"1\" class=\"dataframe\">\n",
       "  <thead>\n",
       "    <tr style=\"text-align: right;\">\n",
       "      <th></th>\n",
       "      <th>TM7_clean</th>\n",
       "      <th>TM7_found</th>\n",
       "      <th>H8_clean</th>\n",
       "      <th>H8_found</th>\n",
       "    </tr>\n",
       "  </thead>\n",
       "  <tbody>\n",
       "    <tr>\n",
       "      <th>3</th>\n",
       "      <td>NPDLQAIRIASVNPILDPWIYILL</td>\n",
       "      <td>NPDLQAIRIASVNPILDPWIYILL</td>\n",
       "      <td>RKTVLSKAIEKI</td>\n",
       "      <td>RKTVLSKAIEKI</td>\n",
       "    </tr>\n",
       "    <tr>\n",
       "      <th>5</th>\n",
       "      <td>KEVYILLNWIGYVNSGFNPLIYCR</td>\n",
       "      <td>KEVYILLNWIGYVNSGFNPLIYCR</td>\n",
       "      <td>SPDFRIAFQELLC</td>\n",
       "      <td>SPDFRIAFQELLC</td>\n",
       "    </tr>\n",
       "    <tr>\n",
       "      <th>6</th>\n",
       "      <td>KEVYILLNWIGYVNSGFNPLIYCR</td>\n",
       "      <td>KEVYILLNWIGYVNSGFNPLIYCR</td>\n",
       "      <td>SPDFRIAFQELLC</td>\n",
       "      <td>SPDFRIAFQELLC</td>\n",
       "    </tr>\n",
       "    <tr>\n",
       "      <th>7</th>\n",
       "      <td>KEVYILLNWIGYVNSGFNPLIYCR</td>\n",
       "      <td>KEVYILLNWIGYVNSGFNPLIYCR</td>\n",
       "      <td>SPDFRIAFQELLC</td>\n",
       "      <td>SPDFRIAFQELLC</td>\n",
       "    </tr>\n",
       "    <tr>\n",
       "      <th>8</th>\n",
       "      <td>KEVYILLNWIGYVNSGFNPLIYCR</td>\n",
       "      <td>KEVYILLNWIGYVNSGFNPLIYCR</td>\n",
       "      <td>SPDFRIAFQELLC</td>\n",
       "      <td>SPDFRIAFQELLC</td>\n",
       "    </tr>\n",
       "    <tr>\n",
       "      <th>...</th>\n",
       "      <td>...</td>\n",
       "      <td>...</td>\n",
       "      <td>...</td>\n",
       "      <td>...</td>\n",
       "    </tr>\n",
       "    <tr>\n",
       "      <th>68</th>\n",
       "      <td>PLWLMYLAIVLAHTNSVVNPFIYAYR</td>\n",
       "      <td>PLWLMYLAIVLAHTNSVVNPFIYAYR</td>\n",
       "      <td>IREFRQTFRKIIRS</td>\n",
       "      <td>IREFRQTFRKIIRS</td>\n",
       "    </tr>\n",
       "    <tr>\n",
       "      <th>69</th>\n",
       "      <td>PLWLMYLAIVLAHTNSVVNPFIYAYR</td>\n",
       "      <td>PLWLMYLAIVLAHTNSVVNPFIYAYR</td>\n",
       "      <td>IREFRQTFRKIIRSHV</td>\n",
       "      <td>IREFRQTFRKIIRSHV</td>\n",
       "    </tr>\n",
       "    <tr>\n",
       "      <th>70</th>\n",
       "      <td>PLWLMYLAIVLAHTNSVVNPFIYAYR</td>\n",
       "      <td>PLWLMYLAIVLAHTNSVVNPFIYAYR</td>\n",
       "      <td>IREFRQTFRKIIRS</td>\n",
       "      <td>IREFRQTFRKIIRS</td>\n",
       "    </tr>\n",
       "    <tr>\n",
       "      <th>71</th>\n",
       "      <td>PLWLMYLAIVLAHTNSVVNPFIYAYR</td>\n",
       "      <td>PLWLMYLAIVLAHTNSVVNPFIYAYR</td>\n",
       "      <td>IREFRQTFRKIIRS</td>\n",
       "      <td>IREFRQTFRKIIRS</td>\n",
       "    </tr>\n",
       "    <tr>\n",
       "      <th>72</th>\n",
       "      <td>KEVYILLNWIGYVNSGFNPLIYCR</td>\n",
       "      <td>KEVYILLNWIGYVNSGFNPLIYCR</td>\n",
       "      <td>SPDFRIAFQELLC</td>\n",
       "      <td>SPDFRIAFQELLC</td>\n",
       "    </tr>\n",
       "  </tbody>\n",
       "</table>\n",
       "<p>66 rows × 4 columns</p>\n",
       "</div>"
      ],
      "text/plain": [
       "                     TM7_clean                   TM7_found          H8_clean  \\\n",
       "3     NPDLQAIRIASVNPILDPWIYILL    NPDLQAIRIASVNPILDPWIYILL      RKTVLSKAIEKI   \n",
       "5     KEVYILLNWIGYVNSGFNPLIYCR    KEVYILLNWIGYVNSGFNPLIYCR     SPDFRIAFQELLC   \n",
       "6     KEVYILLNWIGYVNSGFNPLIYCR    KEVYILLNWIGYVNSGFNPLIYCR     SPDFRIAFQELLC   \n",
       "7     KEVYILLNWIGYVNSGFNPLIYCR    KEVYILLNWIGYVNSGFNPLIYCR     SPDFRIAFQELLC   \n",
       "8     KEVYILLNWIGYVNSGFNPLIYCR    KEVYILLNWIGYVNSGFNPLIYCR     SPDFRIAFQELLC   \n",
       "..                         ...                         ...               ...   \n",
       "68  PLWLMYLAIVLAHTNSVVNPFIYAYR  PLWLMYLAIVLAHTNSVVNPFIYAYR    IREFRQTFRKIIRS   \n",
       "69  PLWLMYLAIVLAHTNSVVNPFIYAYR  PLWLMYLAIVLAHTNSVVNPFIYAYR  IREFRQTFRKIIRSHV   \n",
       "70  PLWLMYLAIVLAHTNSVVNPFIYAYR  PLWLMYLAIVLAHTNSVVNPFIYAYR    IREFRQTFRKIIRS   \n",
       "71  PLWLMYLAIVLAHTNSVVNPFIYAYR  PLWLMYLAIVLAHTNSVVNPFIYAYR    IREFRQTFRKIIRS   \n",
       "72    KEVYILLNWIGYVNSGFNPLIYCR    KEVYILLNWIGYVNSGFNPLIYCR     SPDFRIAFQELLC   \n",
       "\n",
       "            H8_found  \n",
       "3       RKTVLSKAIEKI  \n",
       "5      SPDFRIAFQELLC  \n",
       "6      SPDFRIAFQELLC  \n",
       "7      SPDFRIAFQELLC  \n",
       "8      SPDFRIAFQELLC  \n",
       "..               ...  \n",
       "68    IREFRQTFRKIIRS  \n",
       "69  IREFRQTFRKIIRSHV  \n",
       "70    IREFRQTFRKIIRS  \n",
       "71    IREFRQTFRKIIRS  \n",
       "72     SPDFRIAFQELLC  \n",
       "\n",
       "[66 rows x 4 columns]"
      ]
     },
     "execution_count": 672,
     "metadata": {},
     "output_type": "execute_result"
    }
   ],
   "source": [
    "complete_i[['TM7_clean', 'TM7_found', 'H8_clean', 'H8_found']]"
   ]
  },
  {
   "cell_type": "code",
   "execution_count": 673,
   "id": "wired-kansas",
   "metadata": {},
   "outputs": [
    {
     "data": {
      "text/html": [
       "<div>\n",
       "<style scoped>\n",
       "    .dataframe tbody tr th:only-of-type {\n",
       "        vertical-align: middle;\n",
       "    }\n",
       "\n",
       "    .dataframe tbody tr th {\n",
       "        vertical-align: top;\n",
       "    }\n",
       "\n",
       "    .dataframe thead th {\n",
       "        text-align: right;\n",
       "    }\n",
       "</style>\n",
       "<table border=\"1\" class=\"dataframe\">\n",
       "  <thead>\n",
       "    <tr style=\"text-align: right;\">\n",
       "      <th></th>\n",
       "      <th>TM7_clean</th>\n",
       "      <th>TM7_found</th>\n",
       "      <th>H8_clean</th>\n",
       "      <th>H8_found</th>\n",
       "    </tr>\n",
       "  </thead>\n",
       "  <tbody>\n",
       "    <tr>\n",
       "      <th>0</th>\n",
       "      <td>NPTLSFLTTWLAISNSFCNPVIYSLS</td>\n",
       "      <td>NPTLSFLTTWLAISNSFCNPVIYSLS</td>\n",
       "      <td>VFRLGLRRLSETMCT</td>\n",
       "      <td>VFRLGLRRLSETMCT</td>\n",
       "    </tr>\n",
       "    <tr>\n",
       "      <th>12</th>\n",
       "      <td>NPDLQAIRIASVNPILDPWIYILL</td>\n",
       "      <td>NPDLQAIRIASVNPILDPWIYILL</td>\n",
       "      <td>RKTVLSKAIEKIK</td>\n",
       "      <td>RKTVLSKAIEKIK</td>\n",
       "    </tr>\n",
       "  </tbody>\n",
       "</table>\n",
       "</div>"
      ],
      "text/plain": [
       "                     TM7_clean                   TM7_found         H8_clean  \\\n",
       "0   NPTLSFLTTWLAISNSFCNPVIYSLS  NPTLSFLTTWLAISNSFCNPVIYSLS  VFRLGLRRLSETMCT   \n",
       "12    NPDLQAIRIASVNPILDPWIYILL    NPDLQAIRIASVNPILDPWIYILL    RKTVLSKAIEKIK   \n",
       "\n",
       "           H8_found  \n",
       "0   VFRLGLRRLSETMCT  \n",
       "12    RKTVLSKAIEKIK  "
      ]
     },
     "execution_count": 673,
     "metadata": {},
     "output_type": "execute_result"
    }
   ],
   "source": [
    "complete_a[['TM7_clean', 'TM7_found', 'H8_clean', 'H8_found']]"
   ]
  },
  {
   "cell_type": "code",
   "execution_count": 674,
   "id": "limited-hopkins",
   "metadata": {},
   "outputs": [],
   "source": [
    "def get_targets_by_pos(df, pos_l=7.48, pos_r=8.51, clean=True):\n",
    "    def mask_seq(seq, mask):\n",
    "        out=''.join([s for s, m in zip(seq, mask) if m])\n",
    "        return [out]\n",
    "    def clean_pos(x):\n",
    "        return np.asarray([float(y[:4]) for y in x])\n",
    "    def mask_l(pos_l, x):\n",
    "        y = x[1][:len(x[0])]\n",
    "        mask = y>=pos_l\n",
    "        output=mask_seq(list(x[0]), list(mask))\n",
    "        return output, list(y[mask])\n",
    "    def mask_r(pos_r, x):\n",
    "        y = x[1][-len(x[0]):]\n",
    "        mask = y<=pos_r\n",
    "        output=mask_seq(list(x[0]), list(mask))\n",
    "        return output, list(y[mask])\n",
    "    if clean:\n",
    "        df['roi_pos'] = df.apply(lambda x: clean_pos(x.roi_pos), axis=1)\n",
    "    df[['TM7_target']] = df.apply(lambda x: mask_l(pos_l, [x.TM7_clean, x.roi_pos]), axis=1)\n",
    "    df[['H8_target']] = df.apply(lambda x: mask_r(pos_r, [x.H8_clean, x.roi_pos]), axis=1)\n",
    "    return df"
   ]
  },
  {
   "cell_type": "code",
   "execution_count": 675,
   "id": "foster-internet",
   "metadata": {},
   "outputs": [],
   "source": [
    "complete_i = get_targets_by_pos(complete_i, clean=True)"
   ]
  },
  {
   "cell_type": "code",
   "execution_count": 676,
   "id": "greek-fraud",
   "metadata": {},
   "outputs": [],
   "source": [
    "complete_a = get_targets_by_pos(complete_a, clean=True)"
   ]
  },
  {
   "cell_type": "code",
   "execution_count": 725,
   "id": "based-tract",
   "metadata": {},
   "outputs": [
    {
     "data": {
      "text/plain": [
       "(197, 2)"
      ]
     },
     "execution_count": 725,
     "metadata": {},
     "output_type": "execute_result"
    }
   ],
   "source": [
    "complete_i.psi_phi.iloc[0][0].shape"
   ]
  },
  {
   "cell_type": "code",
   "execution_count": 736,
   "id": "documented-wagner",
   "metadata": {},
   "outputs": [],
   "source": [
    "def get_target_angles(df, section_name):\n",
    "    def get_target_angles_(x):\n",
    "        pp_id = x[2]\n",
    "        angles = np.asarray(x[0][pp_id])\n",
    "        pp_seqs = x[1]\n",
    "        section_seq = pp_seqs[pp_id]\n",
    "        target_seq = x[3][0]\n",
    "        target_pos = x[3][1]\n",
    "        section_start = x[4]\n",
    "        section_end = x[5]\n",
    "        start = section_seq.find(target_seq[0])\n",
    "        end = start + len(target_seq[0])\n",
    "        return [target_seq, angles[start:end, :], target_pos]\n",
    "    df[section_name + '_target_angles'] = df.apply(lambda x: get_target_angles_([\n",
    "        x['psi_phi'],\n",
    "        x.pp_seqs,\n",
    "        x[section_name + '_pp_id'],\n",
    "        x[section_name + '_target'],\n",
    "        x[section_name+'_start'],\n",
    "        x[section_name+'_end']]),\n",
    "        axis=1)\n",
    "    return df"
   ]
  },
  {
   "cell_type": "code",
   "execution_count": 739,
   "id": "acquired-officer",
   "metadata": {},
   "outputs": [],
   "source": [
    "complete_i = get_target_angles(complete_i, 'TM7')\n",
    "complete_i = get_target_angles(complete_i, 'H8')"
   ]
  },
  {
   "cell_type": "code",
   "execution_count": 740,
   "id": "multiple-landscape",
   "metadata": {},
   "outputs": [
    {
     "data": {
      "text/plain": [
       "[['LDPWIYILL'],\n",
       " array([[-1.3880771959067728, -0.5013849000665204],\n",
       "        [-1.046958965744422, -0.8883325376646591],\n",
       "        [-1.30664651603418, -0.5113572376980487],\n",
       "        [-1.22612579253683, -0.171989340324696],\n",
       "        [-1.1656019886667546, -0.6373626682953057],\n",
       "        [-1.5246754335373278, -0.5551059893863106],\n",
       "        [-1.178506023967218, -0.832747541419319],\n",
       "        [-1.3019040003728701, -0.5800264650121992],\n",
       "        [-1.6707972050059432, 0.6149350166201752]], dtype=object),\n",
       " [7.48, 7.49, 7.5, 7.51, 7.52, 7.53, 7.54, 7.55, 7.56]]"
      ]
     },
     "execution_count": 740,
     "metadata": {},
     "output_type": "execute_result"
    }
   ],
   "source": [
    "complete_i['TM7_target_angles'].iloc[0]"
   ]
  },
  {
   "cell_type": "code",
   "execution_count": 741,
   "id": "trying-photography",
   "metadata": {},
   "outputs": [
    {
     "data": {
      "text/plain": [
       "[['RKTVL'],\n",
       " array([[-0.9524743459344447, 2.8474735396439192],\n",
       "        [-0.9559122475543391, -0.7195193127143276],\n",
       "        [-1.223993907049586, -0.9234687456014833],\n",
       "        [-1.1253329590679622, -0.8797414726677569],\n",
       "        [-1.1079845424476868, -0.6839595178493582]], dtype=object),\n",
       " [8.47, 8.48, 8.49, 8.5, 8.51]]"
      ]
     },
     "execution_count": 741,
     "metadata": {},
     "output_type": "execute_result"
    }
   ],
   "source": [
    "complete_i['H8_target_angles'].iloc[0]"
   ]
  },
  {
   "cell_type": "code",
   "execution_count": 744,
   "id": "fundamental-garden",
   "metadata": {},
   "outputs": [
    {
     "data": {
      "text/plain": [
       "3     [[RKTVL], [[-0.9524743459344447, 2.84747353964...\n",
       "5     [[SPDFR], [[-1.2792596719931222, 2.04956651110...\n",
       "6     [[SPDFR], [[-1.3220617267255783, 2.30238146122...\n",
       "7     [[SPDFR], [[-1.3141165648849489, 2.22033663605...\n",
       "8     [[SPDFR], [[-1.1933672504497996, 2.14511919469...\n",
       "                            ...                        \n",
       "68    [[IREFR], [[-2.286104370389607, 1.971109284115...\n",
       "69    [[IREFR], [[-2.1130841466467487, 1.93437318688...\n",
       "70    [[IREFR], [[-2.384400483466984, 1.971324607588...\n",
       "71    [[IREFR], [[-2.116122687233844, 1.916615445091...\n",
       "72    [[SPDFR], [[-1.1990518911799755, 2.19484783121...\n",
       "Name: H8_target_angles, Length: 66, dtype: object"
      ]
     },
     "execution_count": 744,
     "metadata": {},
     "output_type": "execute_result"
    }
   ],
   "source": [
    "complete_i['H8_target_angles']"
   ]
  },
  {
   "cell_type": "code",
   "execution_count": 745,
   "id": "purple-coating",
   "metadata": {},
   "outputs": [],
   "source": [
    "complete_a = get_target_angles(complete_a, 'TM7')\n",
    "complete_a = get_target_angles(complete_a, 'H8')"
   ]
  },
  {
   "cell_type": "code",
   "execution_count": 746,
   "id": "understood-soldier",
   "metadata": {},
   "outputs": [
    {
     "data": {
      "text/plain": [
       "0     [[VFR], [[-1.7526860032099898, -0.533315811249...\n",
       "12    [[RKTVL], [[1.2883155168696918, -0.37939638826...\n",
       "Name: H8_target_angles, dtype: object"
      ]
     },
     "execution_count": 746,
     "metadata": {},
     "output_type": "execute_result"
    }
   ],
   "source": [
    "complete_a['H8_target_angles']"
   ]
  },
  {
   "cell_type": "code",
   "execution_count": 748,
   "id": "vertical-joseph",
   "metadata": {},
   "outputs": [
    {
     "data": {
      "text/plain": [
       "3     [[LDPWIYILL], [[-1.3880771959067728, -0.501384...\n",
       "5     [[FNPLIYCR], [[-1.5192121407400672, -0.7723218...\n",
       "6     [[FNPLIYCR], [[-1.4699625030918857, -0.6861907...\n",
       "7     [[FNPLIYCR], [[-1.4882763672206794, -0.6864074...\n",
       "8     [[FNPLIYCR], [[-1.4644683129257023, -0.7221155...\n",
       "                            ...                        \n",
       "68    [[VNPFIYAYR], [[-1.4042951848819365, -0.545188...\n",
       "69    [[VNPFIYAYR], [[-1.4178968663221145, -0.550378...\n",
       "70    [[VNPFIYAYR], [[-1.2589065253456386, -0.725931...\n",
       "71    [[VNPFIYAYR], [[-1.3638430121916554, -0.545401...\n",
       "72    [[FNPLIYCR], [[-1.2994221734753457, -0.7429547...\n",
       "Name: TM7_target_angles, Length: 66, dtype: object"
      ]
     },
     "execution_count": 748,
     "metadata": {},
     "output_type": "execute_result"
    }
   ],
   "source": [
    "complete_i['TM7_target_angles']"
   ]
  },
  {
   "cell_type": "code",
   "execution_count": 747,
   "id": "identical-grave",
   "metadata": {},
   "outputs": [
    {
     "data": {
      "text/plain": [
       "0     [[CNPVIYSLS], [[-1.1584694927608943, -0.463390...\n",
       "12    [[LDPWIYILL], [[-1.709451176344388, -0.0760847...\n",
       "Name: TM7_target_angles, dtype: object"
      ]
     },
     "execution_count": 747,
     "metadata": {},
     "output_type": "execute_result"
    }
   ],
   "source": [
    "complete_a['TM7_target_angles']"
   ]
  },
  {
   "cell_type": "code",
   "execution_count": null,
   "id": "different-resistance",
   "metadata": {},
   "outputs": [],
   "source": []
  },
  {
   "cell_type": "code",
   "execution_count": 751,
   "id": "medieval-interest",
   "metadata": {},
   "outputs": [],
   "source": [
    "complete_a.to_pickle('a_angles.pkl')"
   ]
  },
  {
   "cell_type": "code",
   "execution_count": 752,
   "id": "coastal-continent",
   "metadata": {},
   "outputs": [],
   "source": [
    "complete_i.to_pickle('i_angles.pkl')"
   ]
  },
  {
   "cell_type": "markdown",
   "id": "surprising-slope",
   "metadata": {},
   "source": [
    "# Target Sequence"
   ]
  },
  {
   "cell_type": "code",
   "execution_count": null,
   "id": "interpreted-medication",
   "metadata": {},
   "outputs": [],
   "source": [
    "def complete_data(full: pd.DataFrame, max_std_alignment=None, elongate=True, padding_r=5, target='NPFIY', filter_bad_checks=False):\n",
    "    # get alignment: https://towardsdatascience.com/pairwise-sequence-alignment-using-biopython-d1a9d0ba861f\n",
    "    complete = get_align_dict(full)\n",
    "    # filter by maximum alignment standard deviation (basically if it is wrong)\n",
    "    if max_std_alignment!=None:\n",
    "        complete = complete[complete['std'] < max_std_alignment]\n",
    "    # replace the TM7 with an elongated version\n",
    "    if elongate:\n",
    "        complete['TM7_found'] = complete.apply(lambda x: x.full_prot_seq[x.start:x.end+padding_r], axis=1)\n",
    "        if filter_bad_checks:\n",
    "            max_diff = 15  # maximum difference in sequence lengths between detected and true TM7 region\n",
    "            complete = complete[complete['TM7_combined'].map(len) + max_diff - complete['TM7_found'].map(len) >= 0]\n",
    "    # extract target sequence from the TM7\n",
    "    if target_by_str!=None:\n",
    "        complete['target_by_str'] = complete.apply(lambda x: align_seg_to_seq([x.TM7_combined, target, x.PDB]), axis=1)\n",
    "    if target_by_pos!=None:\n",
    "        complete['target_by_pos'] = complete.apply(lambda x: align_seg_to_seq([x.TM7_combined, target, x.PDB]), axis=1)\n",
    "    return complete"
   ]
  },
  {
   "cell_type": "code",
   "execution_count": null,
   "id": "surprising-credit",
   "metadata": {},
   "outputs": [],
   "source": []
  },
  {
   "cell_type": "code",
   "execution_count": null,
   "id": "insured-cholesterol",
   "metadata": {},
   "outputs": [],
   "source": []
  },
  {
   "cell_type": "code",
   "execution_count": null,
   "id": "sonic-berlin",
   "metadata": {},
   "outputs": [],
   "source": []
  },
  {
   "cell_type": "code",
   "execution_count": null,
   "id": "divided-selection",
   "metadata": {},
   "outputs": [],
   "source": []
  },
  {
   "cell_type": "code",
   "execution_count": null,
   "id": "cleared-swift",
   "metadata": {
    "pycharm": {
     "name": "#%%\n"
    }
   },
   "outputs": [],
   "source": [
    "complete_a = complete_data(full_a, target='NPFIY')"
   ]
  },
  {
   "cell_type": "code",
   "execution_count": null,
   "id": "driving-spell",
   "metadata": {},
   "outputs": [],
   "source": [
    "print(len(full_a))\n",
    "print(len(complete_a))"
   ]
  },
  {
   "cell_type": "code",
   "execution_count": 47,
   "id": "higher-atlanta",
   "metadata": {},
   "outputs": [
    {
     "data": {
      "text/html": [
       "<div>\n",
       "<style scoped>\n",
       "    .dataframe tbody tr th:only-of-type {\n",
       "        vertical-align: middle;\n",
       "    }\n",
       "\n",
       "    .dataframe tbody tr th {\n",
       "        vertical-align: top;\n",
       "    }\n",
       "\n",
       "    .dataframe thead th {\n",
       "        text-align: right;\n",
       "    }\n",
       "</style>\n",
       "<table border=\"1\" class=\"dataframe\">\n",
       "  <thead>\n",
       "    <tr style=\"text-align: right;\">\n",
       "      <th></th>\n",
       "      <th>Unnamed: 0</th>\n",
       "      <th>uniprot(gene)</th>\n",
       "      <th>receptor family</th>\n",
       "      <th>Cl.</th>\n",
       "      <th>Species</th>\n",
       "      <th>Method</th>\n",
       "      <th>PDB</th>\n",
       "      <th>Refined Structure</th>\n",
       "      <th>Resolution</th>\n",
       "      <th>Preferred Chain</th>\n",
       "      <th>State</th>\n",
       "      <th>Degree active %</th>\n",
       "      <th>% of Seq1</th>\n",
       "      <th>Family</th>\n",
       "      <th>Subtype</th>\n",
       "      <th>Note</th>\n",
       "      <th>% of Seq2</th>\n",
       "      <th>Fusion</th>\n",
       "      <th>Antibodies</th>\n",
       "      <th>Name1</th>\n",
       "      <th>Type1</th>\n",
       "      <th>Function</th>\n",
       "      <th>Name2</th>\n",
       "      <th>Type2</th>\n",
       "      <th>D2x50 - S3x39</th>\n",
       "      <th>Sodium in structure</th>\n",
       "      <th>Authors</th>\n",
       "      <th>Reference</th>\n",
       "      <th>PDB date</th>\n",
       "      <th>Annotated</th>\n",
       "      <th>pdb_link</th>\n",
       "      <th>pdb_lower</th>\n",
       "      <th>ID</th>\n",
       "      <th>clean_id</th>\n",
       "      <th>TM7_combined</th>\n",
       "      <th>H8_combined</th>\n",
       "      <th>prot_id</th>\n",
       "      <th>prot_len</th>\n",
       "      <th>prot_seq</th>\n",
       "      <th>pp_ids</th>\n",
       "      <th>pp_lens</th>\n",
       "      <th>pp_seqs</th>\n",
       "      <th>psi_phi</th>\n",
       "      <th>full_prot_seq</th>\n",
       "      <th>start</th>\n",
       "      <th>end</th>\n",
       "      <th>mean</th>\n",
       "      <th>std</th>\n",
       "      <th>score</th>\n",
       "      <th>res</th>\n",
       "      <th>TM7_found</th>\n",
       "      <th>target_wrt_tm7</th>\n",
       "    </tr>\n",
       "  </thead>\n",
       "  <tbody>\n",
       "    <tr>\n",
       "      <th>0</th>\n",
       "      <td>0</td>\n",
       "      <td>GPR52</td>\n",
       "      <td>Aorphans</td>\n",
       "      <td>A(Rhodopsin)</td>\n",
       "      <td>Human</td>\n",
       "      <td>cryo-EM</td>\n",
       "      <td>6LI3</td>\n",
       "      <td>6LI3_refined</td>\n",
       "      <td>3.3</td>\n",
       "      <td>R</td>\n",
       "      <td>Active</td>\n",
       "      <td>100</td>\n",
       "      <td>79.0</td>\n",
       "      <td>Gs</td>\n",
       "      <td>αs</td>\n",
       "      <td>Mini-Gs</td>\n",
       "      <td>61</td>\n",
       "      <td>-</td>\n",
       "      <td>Nanobody-35</td>\n",
       "      <td>Apo(noligand)</td>\n",
       "      <td>none</td>\n",
       "      <td>Apo(noligand)</td>\n",
       "      <td>-</td>\n",
       "      <td>-</td>\n",
       "      <td>Yes</td>\n",
       "      <td>No</td>\n",
       "      <td>LinX,LiM,WangN,WuY,LuoZ,GuoS,HanG,LiS,YueY,Wei...</td>\n",
       "      <td>10.1038/S41586-020-2019-0</td>\n",
       "      <td>2020-02-26</td>\n",
       "      <td>Yes</td>\n",
       "      <td>https://files.rcsb.org/download/6LI3.pdb</td>\n",
       "      <td>6li3</td>\n",
       "      <td>[Human] 6li3</td>\n",
       "      <td>6li3</td>\n",
       "      <td>NPTLSFLTTWLAISNSFCNPVIYSLS</td>\n",
       "      <td>VFRLGLRRLSETMCT</td>\n",
       "      <td>6LI3</td>\n",
       "      <td>126</td>\n",
       "      <td>['Q', 'V', 'Q', 'L', 'Q', 'E', 'S', 'G', 'G', ...</td>\n",
       "      <td>[0]</td>\n",
       "      <td>[126]</td>\n",
       "      <td>[Seq('QVQLQESGGGLVQPGGSLRLSCAASGFTFSNYKMNWVRQA...</td>\n",
       "      <td>[[(None, 2.11539800963303), (-1.42884967419468...</td>\n",
       "      <td>QVQLQESGGGLVQPGGSLRLSCAASGFTFSNYKMNWVRQAPGKGLE...</td>\n",
       "      <td>13</td>\n",
       "      <td>126</td>\n",
       "      <td>63.346154</td>\n",
       "      <td>36.219356</td>\n",
       "      <td>1.507692</td>\n",
       "      <td>[13, 14, 20, 21, 26, 28, 29, 30, 38, 39, 48, 5...</td>\n",
       "      <td>PGGSLRLSCAASGFTFSNYKMNWVRQAPGKGLEWVSDISQSGASIS...</td>\n",
       "      <td>(0, 26, 12.0, 9.612491872558333, 2.58000000000...</td>\n",
       "    </tr>\n",
       "    <tr>\n",
       "      <th>1</th>\n",
       "      <td>1</td>\n",
       "      <td>GPBAR</td>\n",
       "      <td>Bileacid</td>\n",
       "      <td>A(Rhodopsin)</td>\n",
       "      <td>Human</td>\n",
       "      <td>cryo-EM</td>\n",
       "      <td>7CFN</td>\n",
       "      <td>7CFN_refined</td>\n",
       "      <td>3.0</td>\n",
       "      <td>R</td>\n",
       "      <td>Active</td>\n",
       "      <td>100</td>\n",
       "      <td>83.0</td>\n",
       "      <td>Gs</td>\n",
       "      <td>αs</td>\n",
       "      <td>-</td>\n",
       "      <td>59</td>\n",
       "      <td>-</td>\n",
       "      <td>Nanobody-35</td>\n",
       "      <td>INT-777pubchemINT-777pubchem</td>\n",
       "      <td>smallmoleculesmallmolecule</td>\n",
       "      <td>AgonistPAM</td>\n",
       "      <td>chenodeoxycholicacid,cholicacid,deoxycholicaci...</td>\n",
       "      <td>smallmolecule</td>\n",
       "      <td>No</td>\n",
       "      <td>No</td>\n",
       "      <td>YangF,MaoC,GuoL,LinJ,MingQ,XiaoP,WuX,ShenQ,Guo...</td>\n",
       "      <td>10.1038/S41586-020-2569-1</td>\n",
       "      <td>2020-09-09</td>\n",
       "      <td>Yes</td>\n",
       "      <td>https://files.rcsb.org/download/7CFN.pdb</td>\n",
       "      <td>7cfn</td>\n",
       "      <td>[Human] 7cfn</td>\n",
       "      <td>7cfn</td>\n",
       "      <td>GPGTLLSLLSLGSASAAAVPVAMGLG</td>\n",
       "      <td>DQRYTA</td>\n",
       "      <td>7CFN</td>\n",
       "      <td>279</td>\n",
       "      <td>['L', 'G', 'L', 'S', 'L', 'A', 'L', 'A', 'S', ...</td>\n",
       "      <td>[0]</td>\n",
       "      <td>[274]</td>\n",
       "      <td>[Seq('LGLSLALASLIITANLLLALGIAWDRRLRSPPAGCFFLSL...</td>\n",
       "      <td>[[(None, -0.8080940478888483), (-1.18036277002...</td>\n",
       "      <td>LGLSLALASLIITANLLLALGIAWDRRLRSPPAGCFFLSLLLAGLL...</td>\n",
       "      <td>240</td>\n",
       "      <td>271</td>\n",
       "      <td>252.500000</td>\n",
       "      <td>7.500000</td>\n",
       "      <td>2.046154</td>\n",
       "      <td>[240, 241, 242, 243, 244, 245, 246, 247, 248, ...</td>\n",
       "      <td>GPGTLLSLLSLGSASAAAVPVAMGLGDQRYTAPW</td>\n",
       "      <td>(19, 26, 24.6, 4.223742416388575, 0.0200000000...</td>\n",
       "    </tr>\n",
       "    <tr>\n",
       "      <th>2</th>\n",
       "      <td>2</td>\n",
       "      <td>GPBAR</td>\n",
       "      <td>Bileacid</td>\n",
       "      <td>A(Rhodopsin)</td>\n",
       "      <td>Human</td>\n",
       "      <td>cryo-EM</td>\n",
       "      <td>7CFM</td>\n",
       "      <td>7CFM_refined</td>\n",
       "      <td>3.0</td>\n",
       "      <td>R</td>\n",
       "      <td>Active</td>\n",
       "      <td>100</td>\n",
       "      <td>83.0</td>\n",
       "      <td>Gs</td>\n",
       "      <td>αs</td>\n",
       "      <td>-</td>\n",
       "      <td>58</td>\n",
       "      <td>-</td>\n",
       "      <td>Nanobody-35</td>\n",
       "      <td>P395pubchemchembl_ligand</td>\n",
       "      <td>none</td>\n",
       "      <td>Agonist</td>\n",
       "      <td>chenodeoxycholicacid,cholicacid,deoxycholicaci...</td>\n",
       "      <td>smallmolecule</td>\n",
       "      <td>No</td>\n",
       "      <td>No</td>\n",
       "      <td>YangF,MaoC,GuoL,LinJ,MingQ,XiaoP,WuX,ShenQ,Guo...</td>\n",
       "      <td>10.1038/S41586-020-2569-1</td>\n",
       "      <td>2020-09-09</td>\n",
       "      <td>Yes</td>\n",
       "      <td>https://files.rcsb.org/download/7CFM.pdb</td>\n",
       "      <td>7cfm</td>\n",
       "      <td>[Human] 7cfm</td>\n",
       "      <td>7cfm</td>\n",
       "      <td>LLSLLSLGSASAAAVPVAMGLG</td>\n",
       "      <td>NaN</td>\n",
       "      <td>7CFM</td>\n",
       "      <td>278</td>\n",
       "      <td>['L', 'S', 'L', 'A', 'L', 'A', 'S', 'L', 'I', ...</td>\n",
       "      <td>[0]</td>\n",
       "      <td>[273]</td>\n",
       "      <td>[Seq('LSLALASLIITANLLLALGIAWDRRLRSPPAGCFFLSLLL...</td>\n",
       "      <td>[[(None, 1.2429597097836504), (-1.713221639440...</td>\n",
       "      <td>LSLALASLIITANLLLALGIAWDRRLRSPPAGCFFLSLLLAGLLTG...</td>\n",
       "      <td>242</td>\n",
       "      <td>269</td>\n",
       "      <td>252.500000</td>\n",
       "      <td>6.344289</td>\n",
       "      <td>1.859091</td>\n",
       "      <td>[242, 243, 244, 245, 246, 247, 248, 249, 250, ...</td>\n",
       "      <td>LLSLLSLGSASAAAVPVAMGLGDQRYTAPWR</td>\n",
       "      <td>(15, 22, 20.6, 4.223742416388575, 0.0999999999...</td>\n",
       "    </tr>\n",
       "  </tbody>\n",
       "</table>\n",
       "</div>"
      ],
      "text/plain": [
       "   Unnamed: 0 uniprot(gene) receptor family           Cl. Species   Method  \\\n",
       "0           0         GPR52        Aorphans  A(Rhodopsin)   Human  cryo-EM   \n",
       "1           1         GPBAR        Bileacid  A(Rhodopsin)   Human  cryo-EM   \n",
       "2           2         GPBAR        Bileacid  A(Rhodopsin)   Human  cryo-EM   \n",
       "\n",
       "    PDB Refined Structure  Resolution Preferred Chain   State  \\\n",
       "0  6LI3      6LI3_refined         3.3               R  Active   \n",
       "1  7CFN      7CFN_refined         3.0               R  Active   \n",
       "2  7CFM      7CFM_refined         3.0               R  Active   \n",
       "\n",
       "   Degree active %  % of Seq1 Family Subtype     Note  % of Seq2 Fusion  \\\n",
       "0              100       79.0     Gs      αs  Mini-Gs         61      -   \n",
       "1              100       83.0     Gs      αs        -         59      -   \n",
       "2              100       83.0     Gs      αs        -         58      -   \n",
       "\n",
       "    Antibodies                         Name1                       Type1  \\\n",
       "0  Nanobody-35                 Apo(noligand)                        none   \n",
       "1  Nanobody-35  INT-777pubchemINT-777pubchem  smallmoleculesmallmolecule   \n",
       "2  Nanobody-35      P395pubchemchembl_ligand                        none   \n",
       "\n",
       "        Function                                              Name2  \\\n",
       "0  Apo(noligand)                                                  -   \n",
       "1     AgonistPAM  chenodeoxycholicacid,cholicacid,deoxycholicaci...   \n",
       "2        Agonist  chenodeoxycholicacid,cholicacid,deoxycholicaci...   \n",
       "\n",
       "           Type2 D2x50 - S3x39 Sodium in structure  \\\n",
       "0              -           Yes                  No   \n",
       "1  smallmolecule            No                  No   \n",
       "2  smallmolecule            No                  No   \n",
       "\n",
       "                                             Authors  \\\n",
       "0  LinX,LiM,WangN,WuY,LuoZ,GuoS,HanG,LiS,YueY,Wei...   \n",
       "1  YangF,MaoC,GuoL,LinJ,MingQ,XiaoP,WuX,ShenQ,Guo...   \n",
       "2  YangF,MaoC,GuoL,LinJ,MingQ,XiaoP,WuX,ShenQ,Guo...   \n",
       "\n",
       "                   Reference    PDB date Annotated  \\\n",
       "0  10.1038/S41586-020-2019-0  2020-02-26       Yes   \n",
       "1  10.1038/S41586-020-2569-1  2020-09-09       Yes   \n",
       "2  10.1038/S41586-020-2569-1  2020-09-09       Yes   \n",
       "\n",
       "                                   pdb_link pdb_lower            ID clean_id  \\\n",
       "0  https://files.rcsb.org/download/6LI3.pdb      6li3  [Human] 6li3     6li3   \n",
       "1  https://files.rcsb.org/download/7CFN.pdb      7cfn  [Human] 7cfn     7cfn   \n",
       "2  https://files.rcsb.org/download/7CFM.pdb      7cfm  [Human] 7cfm     7cfm   \n",
       "\n",
       "                 TM7_combined      H8_combined prot_id  prot_len  \\\n",
       "0  NPTLSFLTTWLAISNSFCNPVIYSLS  VFRLGLRRLSETMCT    6LI3       126   \n",
       "1  GPGTLLSLLSLGSASAAAVPVAMGLG           DQRYTA    7CFN       279   \n",
       "2      LLSLLSLGSASAAAVPVAMGLG              NaN    7CFM       278   \n",
       "\n",
       "                                            prot_seq pp_ids pp_lens  \\\n",
       "0  ['Q', 'V', 'Q', 'L', 'Q', 'E', 'S', 'G', 'G', ...    [0]   [126]   \n",
       "1  ['L', 'G', 'L', 'S', 'L', 'A', 'L', 'A', 'S', ...    [0]   [274]   \n",
       "2  ['L', 'S', 'L', 'A', 'L', 'A', 'S', 'L', 'I', ...    [0]   [273]   \n",
       "\n",
       "                                             pp_seqs  \\\n",
       "0  [Seq('QVQLQESGGGLVQPGGSLRLSCAASGFTFSNYKMNWVRQA...   \n",
       "1  [Seq('LGLSLALASLIITANLLLALGIAWDRRLRSPPAGCFFLSL...   \n",
       "2  [Seq('LSLALASLIITANLLLALGIAWDRRLRSPPAGCFFLSLLL...   \n",
       "\n",
       "                                             psi_phi  \\\n",
       "0  [[(None, 2.11539800963303), (-1.42884967419468...   \n",
       "1  [[(None, -0.8080940478888483), (-1.18036277002...   \n",
       "2  [[(None, 1.2429597097836504), (-1.713221639440...   \n",
       "\n",
       "                                       full_prot_seq start  end        mean  \\\n",
       "0  QVQLQESGGGLVQPGGSLRLSCAASGFTFSNYKMNWVRQAPGKGLE...    13  126   63.346154   \n",
       "1  LGLSLALASLIITANLLLALGIAWDRRLRSPPAGCFFLSLLLAGLL...   240  271  252.500000   \n",
       "2  LSLALASLIITANLLLALGIAWDRRLRSPPAGCFFLSLLLAGLLTG...   242  269  252.500000   \n",
       "\n",
       "         std     score                                                res  \\\n",
       "0  36.219356  1.507692  [13, 14, 20, 21, 26, 28, 29, 30, 38, 39, 48, 5...   \n",
       "1   7.500000  2.046154  [240, 241, 242, 243, 244, 245, 246, 247, 248, ...   \n",
       "2   6.344289  1.859091  [242, 243, 244, 245, 246, 247, 248, 249, 250, ...   \n",
       "\n",
       "                                           TM7_found  \\\n",
       "0  PGGSLRLSCAASGFTFSNYKMNWVRQAPGKGLEWVSDISQSGASIS...   \n",
       "1                 GPGTLLSLLSLGSASAAAVPVAMGLGDQRYTAPW   \n",
       "2                    LLSLLSLGSASAAAVPVAMGLGDQRYTAPWR   \n",
       "\n",
       "                                      target_wrt_tm7  \n",
       "0  (0, 26, 12.0, 9.612491872558333, 2.58000000000...  \n",
       "1  (19, 26, 24.6, 4.223742416388575, 0.0200000000...  \n",
       "2  (15, 22, 20.6, 4.223742416388575, 0.0999999999...  "
      ]
     },
     "metadata": {},
     "output_type": "display_data"
    }
   ],
   "source": [
    "disp3(complete_a)"
   ]
  },
  {
   "cell_type": "markdown",
   "id": "otherwise-green",
   "metadata": {},
   "source": [
    "# Complete"
   ]
  },
  {
   "cell_type": "code",
   "execution_count": 56,
   "id": "quick-detective",
   "metadata": {},
   "outputs": [],
   "source": [
    "complete_i = complete_data(full_i, max_std_alignment=None, elongate=True, padding_r=5, target='NPFIY', filter_bad_checks=True)\n",
    "# this is the part where we want to increase the target range (since it is inconsistent)"
   ]
  },
  {
   "cell_type": "code",
   "execution_count": 57,
   "id": "numeric-vector",
   "metadata": {},
   "outputs": [
    {
     "data": {
      "text/html": [
       "<div>\n",
       "<style scoped>\n",
       "    .dataframe tbody tr th:only-of-type {\n",
       "        vertical-align: middle;\n",
       "    }\n",
       "\n",
       "    .dataframe tbody tr th {\n",
       "        vertical-align: top;\n",
       "    }\n",
       "\n",
       "    .dataframe thead th {\n",
       "        text-align: right;\n",
       "    }\n",
       "</style>\n",
       "<table border=\"1\" class=\"dataframe\">\n",
       "  <thead>\n",
       "    <tr style=\"text-align: right;\">\n",
       "      <th></th>\n",
       "      <th>TM7_combined</th>\n",
       "      <th>TM7_found</th>\n",
       "    </tr>\n",
       "  </thead>\n",
       "  <tbody>\n",
       "    <tr>\n",
       "      <th>5</th>\n",
       "      <td>KEVYILLNWIGYVNSGFNPLIYCR</td>\n",
       "      <td>KEVYILLNWIGYVNSGFNPLIYCRSPDFRIAFQELLCL</td>\n",
       "    </tr>\n",
       "    <tr>\n",
       "      <th>6</th>\n",
       "      <td>KEVYILLNWIGYVNSGFNPLIYCR</td>\n",
       "      <td>KEVYILLNWIGYVNSGFNPLIYCRSPDFRIAFQELLCL</td>\n",
       "    </tr>\n",
       "    <tr>\n",
       "      <th>7</th>\n",
       "      <td>KEVYILLNWIGYVNSGFNPLIYCR</td>\n",
       "      <td>KEVYILLNWIGYVNSGFNPLIYCRSPDFRIAFQELLCL</td>\n",
       "    </tr>\n",
       "  </tbody>\n",
       "</table>\n",
       "</div>"
      ],
      "text/plain": [
       "               TM7_combined                               TM7_found\n",
       "5  KEVYILLNWIGYVNSGFNPLIYCR  KEVYILLNWIGYVNSGFNPLIYCRSPDFRIAFQELLCL\n",
       "6  KEVYILLNWIGYVNSGFNPLIYCR  KEVYILLNWIGYVNSGFNPLIYCRSPDFRIAFQELLCL\n",
       "7  KEVYILLNWIGYVNSGFNPLIYCR  KEVYILLNWIGYVNSGFNPLIYCRSPDFRIAFQELLCL"
      ]
     },
     "metadata": {},
     "output_type": "display_data"
    }
   ],
   "source": [
    "disp3(complete_i[['TM7_combined', 'TM7_found']])"
   ]
  },
  {
   "cell_type": "code",
   "execution_count": 58,
   "id": "humanitarian-attitude",
   "metadata": {},
   "outputs": [],
   "source": [
    "complete_a = complete_data(full_a, max_std_alignment=None, elongate=True, padding_r=5, target='NPFIY', filter_bad_checks=True)\n",
    "# this is the part where we want to increase the target range (since it is inconsistent)"
   ]
  },
  {
   "cell_type": "code",
   "execution_count": 59,
   "id": "current-muslim",
   "metadata": {},
   "outputs": [
    {
     "data": {
      "text/html": [
       "<div>\n",
       "<style scoped>\n",
       "    .dataframe tbody tr th:only-of-type {\n",
       "        vertical-align: middle;\n",
       "    }\n",
       "\n",
       "    .dataframe tbody tr th {\n",
       "        vertical-align: top;\n",
       "    }\n",
       "\n",
       "    .dataframe thead th {\n",
       "        text-align: right;\n",
       "    }\n",
       "</style>\n",
       "<table border=\"1\" class=\"dataframe\">\n",
       "  <thead>\n",
       "    <tr style=\"text-align: right;\">\n",
       "      <th></th>\n",
       "      <th>TM7_combined</th>\n",
       "      <th>TM7_found</th>\n",
       "    </tr>\n",
       "  </thead>\n",
       "  <tbody>\n",
       "    <tr>\n",
       "      <th>1</th>\n",
       "      <td>GPGTLLSLLSLGSASAAAVPVAMGLG</td>\n",
       "      <td>GPGTLLSLLSLGSASAAAVPVAMGLGDQRYTAPW</td>\n",
       "    </tr>\n",
       "    <tr>\n",
       "      <th>2</th>\n",
       "      <td>LLSLLSLGSASAAAVPVAMGLG</td>\n",
       "      <td>LLSLLSLGSASAAAVPVAMGLGDQRYTAPWR</td>\n",
       "    </tr>\n",
       "    <tr>\n",
       "      <th>8</th>\n",
       "      <td>RKEVYILLNWIGYVNSGFNPLIY</td>\n",
       "      <td>RKEVYILLNWIGYVNSGFNPLIYSRSPDFRIAF</td>\n",
       "    </tr>\n",
       "  </tbody>\n",
       "</table>\n",
       "</div>"
      ],
      "text/plain": [
       "                 TM7_combined                           TM7_found\n",
       "1  GPGTLLSLLSLGSASAAAVPVAMGLG  GPGTLLSLLSLGSASAAAVPVAMGLGDQRYTAPW\n",
       "2      LLSLLSLGSASAAAVPVAMGLG     LLSLLSLGSASAAAVPVAMGLGDQRYTAPWR\n",
       "8     RKEVYILLNWIGYVNSGFNPLIY   RKEVYILLNWIGYVNSGFNPLIYSRSPDFRIAF"
      ]
     },
     "metadata": {},
     "output_type": "display_data"
    }
   ],
   "source": [
    "disp3(complete_a[['TM7_combined', 'TM7_found']])"
   ]
  },
  {
   "cell_type": "code",
   "execution_count": 60,
   "id": "plain-convergence",
   "metadata": {},
   "outputs": [],
   "source": [
    "# disp3(complete_i['start'])"
   ]
  },
  {
   "cell_type": "code",
   "execution_count": 61,
   "id": "bored-harris",
   "metadata": {
    "pycharm": {
     "name": "#%%\n"
    }
   },
   "outputs": [],
   "source": [
    "# len(complete_i[complete_i['std'] < 10])"
   ]
  },
  {
   "cell_type": "code",
   "execution_count": 62,
   "id": "civic-brave",
   "metadata": {
    "pycharm": {
     "name": "#%%\n"
    }
   },
   "outputs": [
    {
     "data": {
      "text/plain": [
       "42"
      ]
     },
     "execution_count": 62,
     "metadata": {},
     "output_type": "execute_result"
    }
   ],
   "source": [
    "len(complete_i)"
   ]
  },
  {
   "cell_type": "code",
   "execution_count": 63,
   "id": "strange-blair",
   "metadata": {
    "pycharm": {
     "name": "#%%\n"
    }
   },
   "outputs": [],
   "source": [
    "# Fix that number ~ we have 73 proteins in the full datatable but end up with 87 \n",
    "# after the segments alignment is complete (unfiltered)\n",
    "# disp3(complete_i['TM7_combined'])"
   ]
  },
  {
   "cell_type": "code",
   "execution_count": 64,
   "id": "private-nylon",
   "metadata": {},
   "outputs": [
    {
     "data": {
      "text/html": [
       "<div>\n",
       "<style scoped>\n",
       "    .dataframe tbody tr th:only-of-type {\n",
       "        vertical-align: middle;\n",
       "    }\n",
       "\n",
       "    .dataframe tbody tr th {\n",
       "        vertical-align: top;\n",
       "    }\n",
       "\n",
       "    .dataframe thead th {\n",
       "        text-align: right;\n",
       "    }\n",
       "</style>\n",
       "<table border=\"1\" class=\"dataframe\">\n",
       "  <thead>\n",
       "    <tr style=\"text-align: right;\">\n",
       "      <th></th>\n",
       "      <th>PDB</th>\n",
       "      <th>TM7_combined</th>\n",
       "      <th>target_wrt_tm7</th>\n",
       "    </tr>\n",
       "  </thead>\n",
       "  <tbody>\n",
       "    <tr>\n",
       "      <th>5</th>\n",
       "      <td>6PS1</td>\n",
       "      <td>KEVYILLNWIGYVNSGFNPLIYCR</td>\n",
       "      <td>(17, 24, 19.6, 1.8547236990991407, 1.980000000...</td>\n",
       "    </tr>\n",
       "    <tr>\n",
       "      <th>6</th>\n",
       "      <td>6PS6</td>\n",
       "      <td>KEVYILLNWIGYVNSGFNPLIYCR</td>\n",
       "      <td>(17, 24, 19.6, 1.8547236990991407, 1.980000000...</td>\n",
       "    </tr>\n",
       "    <tr>\n",
       "      <th>7</th>\n",
       "      <td>6PS5</td>\n",
       "      <td>KEVYILLNWIGYVNSGFNPLIYCR</td>\n",
       "      <td>(17, 24, 19.6, 1.8547236990991407, 1.980000000...</td>\n",
       "    </tr>\n",
       "  </tbody>\n",
       "</table>\n",
       "</div>"
      ],
      "text/plain": [
       "    PDB              TM7_combined  \\\n",
       "5  6PS1  KEVYILLNWIGYVNSGFNPLIYCR   \n",
       "6  6PS6  KEVYILLNWIGYVNSGFNPLIYCR   \n",
       "7  6PS5  KEVYILLNWIGYVNSGFNPLIYCR   \n",
       "\n",
       "                                      target_wrt_tm7  \n",
       "5  (17, 24, 19.6, 1.8547236990991407, 1.980000000...  \n",
       "6  (17, 24, 19.6, 1.8547236990991407, 1.980000000...  \n",
       "7  (17, 24, 19.6, 1.8547236990991407, 1.980000000...  "
      ]
     },
     "metadata": {},
     "output_type": "display_data"
    }
   ],
   "source": [
    "disp3(complete_i[['PDB', 'TM7_combined', 'target_wrt_tm7']])"
   ]
  },
  {
   "cell_type": "markdown",
   "id": "brave-keeping",
   "metadata": {},
   "source": [
    "# Valid"
   ]
  },
  {
   "cell_type": "code",
   "execution_count": 65,
   "id": "narrow-nickel",
   "metadata": {},
   "outputs": [],
   "source": [
    "target = 'NPLIY'"
   ]
  },
  {
   "cell_type": "code",
   "execution_count": 66,
   "id": "agreed-organization",
   "metadata": {},
   "outputs": [],
   "source": [
    "def get_target_df(complete: pd.DataFrame, target='NPXXY', valid=True):\n",
    "    def sum_start(a, b):\n",
    "        return a + b[0]\n",
    "    def sum_end(a, b):\n",
    "        return a + b[1]\n",
    "    def extend(ls):\n",
    "        is_list = isinstance(ls[0], list)\n",
    "        for i, l in enumerate(ls):\n",
    "            if is_list & i == 0:\n",
    "                out = l\n",
    "            elif is_list:\n",
    "                out.extend(l)\n",
    "            else:\n",
    "                return ls\n",
    "        return out\n",
    "    def clean_pps(x):\n",
    "        return ast.literal_eval(x.replace('Seq', '').replace('(', '').replace(')', ''))\n",
    "    target_df = complete[['PDB', 'uniprot(gene)', 'Resolution', 'PDB date', \\\n",
    "                          'TM7_found', 'score', 'prot_len', 'full_prot_seq', 'start']].copy()\n",
    "    target_df['pp_seqs'] = complete.apply(lambda x: clean_pps(x.pp_seqs), axis=1).copy()\n",
    "    target_df['pp_seq_lens'] = target_df.apply(lambda x: [len(y) for y in x.pp_seqs], axis=1).copy()\n",
    "    # target_df.loc[:, 'target_seq'] = target\n",
    "    target_df['start_absolute'] = complete.apply(lambda x: sum_start(x.start, x.target_wrt_tm7), axis=1).copy()\n",
    "    target_df['end_absolute'] = complete.apply(lambda x: sum_end(x.start, x.target_wrt_tm7), axis=1).copy()\n",
    "    target_df['start'] = complete['target_wrt_tm7'].apply(lambda x: x[0]).copy()\n",
    "    target_df['end'] = complete['target_wrt_tm7'].apply(lambda x: x[1]).copy()\n",
    "    target_df['full_aligned_seg'] = target_df.apply(lambda x: x.full_prot_seq[x.start_absolute:x.end_absolute], axis=1)\n",
    "    target_df['TM7_aligned_seg'] = target_df.apply(lambda x: x.TM7_found[x.start:x.end], axis=1)\n",
    "    target_df['psi_phi'] = complete.apply(lambda x: extend(ast.literal_eval(x.psi_phi)), axis=1)\n",
    "    if valid:\n",
    "        target_df['target_angles'] = target_df.apply(lambda x: x.psi_phi[x.start_absolute:x.end_absolute], axis=1)\n",
    "        target_df = target_df[target_df['full_aligned_seg']==target_df['TM7_aligned_seg']]\n",
    "        return target_df  # [len(target_df['target_angles']) >= len(target)]\n",
    "    else:\n",
    "        return target_df"
   ]
  },
  {
   "cell_type": "code",
   "execution_count": 67,
   "id": "interracial-aquatic",
   "metadata": {},
   "outputs": [],
   "source": [
    "valid_a = get_target_df(complete_a, target, valid=True)"
   ]
  },
  {
   "cell_type": "code",
   "execution_count": 68,
   "id": "italian-distinction",
   "metadata": {},
   "outputs": [
    {
     "data": {
      "text/html": [
       "<div>\n",
       "<style scoped>\n",
       "    .dataframe tbody tr th:only-of-type {\n",
       "        vertical-align: middle;\n",
       "    }\n",
       "\n",
       "    .dataframe tbody tr th {\n",
       "        vertical-align: top;\n",
       "    }\n",
       "\n",
       "    .dataframe thead th {\n",
       "        text-align: right;\n",
       "    }\n",
       "</style>\n",
       "<table border=\"1\" class=\"dataframe\">\n",
       "  <thead>\n",
       "    <tr style=\"text-align: right;\">\n",
       "      <th></th>\n",
       "      <th>PDB</th>\n",
       "      <th>uniprot(gene)</th>\n",
       "      <th>Resolution</th>\n",
       "      <th>PDB date</th>\n",
       "      <th>TM7_found</th>\n",
       "      <th>score</th>\n",
       "      <th>prot_len</th>\n",
       "      <th>full_prot_seq</th>\n",
       "      <th>start</th>\n",
       "      <th>pp_seqs</th>\n",
       "      <th>pp_seq_lens</th>\n",
       "      <th>start_absolute</th>\n",
       "      <th>end_absolute</th>\n",
       "      <th>end</th>\n",
       "      <th>full_aligned_seg</th>\n",
       "      <th>TM7_aligned_seg</th>\n",
       "      <th>psi_phi</th>\n",
       "      <th>target_angles</th>\n",
       "    </tr>\n",
       "  </thead>\n",
       "  <tbody>\n",
       "    <tr>\n",
       "      <th>1</th>\n",
       "      <td>7CFN</td>\n",
       "      <td>GPBAR</td>\n",
       "      <td>3.0</td>\n",
       "      <td>2020-09-09</td>\n",
       "      <td>GPGTLLSLLSLGSASAAAVPVAMGLGDQRYTAPW</td>\n",
       "      <td>2.046154</td>\n",
       "      <td>279</td>\n",
       "      <td>LGLSLALASLIITANLLLALGIAWDRRLRSPPAGCFFLSLLLAGLL...</td>\n",
       "      <td>19</td>\n",
       "      <td>[LGLSLALASLIITANLLLALGIAWDRRLRSPPAGCFFLSLLLAGL...</td>\n",
       "      <td>[60]</td>\n",
       "      <td>259</td>\n",
       "      <td>266</td>\n",
       "      <td>26</td>\n",
       "      <td>PVAMGLG</td>\n",
       "      <td>PVAMGLG</td>\n",
       "      <td>[(None, -0.8080940478888483), (-1.180362770021...</td>\n",
       "      <td>[(-1.1727213988088117, -0.5301388085987634), (...</td>\n",
       "    </tr>\n",
       "    <tr>\n",
       "      <th>2</th>\n",
       "      <td>7CFM</td>\n",
       "      <td>GPBAR</td>\n",
       "      <td>3.0</td>\n",
       "      <td>2020-09-09</td>\n",
       "      <td>LLSLLSLGSASAAAVPVAMGLGDQRYTAPWR</td>\n",
       "      <td>1.859091</td>\n",
       "      <td>278</td>\n",
       "      <td>LSLALASLIITANLLLALGIAWDRRLRSPPAGCFFLSLLLAGLLTG...</td>\n",
       "      <td>15</td>\n",
       "      <td>[LSLALASLIITANLLLALGIAWDRRLRSPPAGCFFLSLLLAGLLT...</td>\n",
       "      <td>[60]</td>\n",
       "      <td>257</td>\n",
       "      <td>264</td>\n",
       "      <td>22</td>\n",
       "      <td>PVAMGLG</td>\n",
       "      <td>PVAMGLG</td>\n",
       "      <td>[(None, 1.2429597097836504), (-1.7132216394400...</td>\n",
       "      <td>[(-1.2096660283557674, -0.5027183977621975), (...</td>\n",
       "    </tr>\n",
       "    <tr>\n",
       "      <th>8</th>\n",
       "      <td>7BZ2</td>\n",
       "      <td>ADRB2</td>\n",
       "      <td>3.8</td>\n",
       "      <td>2020-08-05</td>\n",
       "      <td>RKEVYILLNWIGYVNSGFNPLIYSRSPDFRIAF</td>\n",
       "      <td>1.860870</td>\n",
       "      <td>286</td>\n",
       "      <td>EVWVVGMGIVMSLIVLAIVFGNVLVITAIAKFERLQTVTNYFITSL...</td>\n",
       "      <td>18</td>\n",
       "      <td>[EVWVVGMGIVMSLIVLAIVFGNVLVITAIAKFERLQTVTNYFITS...</td>\n",
       "      <td>[60, 60, 60]</td>\n",
       "      <td>266</td>\n",
       "      <td>271</td>\n",
       "      <td>23</td>\n",
       "      <td>NPLIY</td>\n",
       "      <td>NPLIY</td>\n",
       "      <td>[(None, 0.7247878775593547), (-1.3430951956042...</td>\n",
       "      <td>[]</td>\n",
       "    </tr>\n",
       "    <tr>\n",
       "      <th>9</th>\n",
       "      <td>7DHR</td>\n",
       "      <td>ADRB2</td>\n",
       "      <td>3.8</td>\n",
       "      <td>2020-12-16</td>\n",
       "      <td>ILLNWIGYVNSGFNPLIYSRSPDFRIAF</td>\n",
       "      <td>1.522222</td>\n",
       "      <td>285</td>\n",
       "      <td>EVWVVGMGIVMSLIVLAIVFGNVLVITAIAKFERLQTVTNYFITSL...</td>\n",
       "      <td>13</td>\n",
       "      <td>[EVWVVGMGIVMSLIVLAIVFGNVLVITAIAKFERLQTVTNYFITS...</td>\n",
       "      <td>[60, 60, 60]</td>\n",
       "      <td>266</td>\n",
       "      <td>271</td>\n",
       "      <td>18</td>\n",
       "      <td>NPLIY</td>\n",
       "      <td>NPLIY</td>\n",
       "      <td>[(None, 2.548423928842914), (-1.54965132845452...</td>\n",
       "      <td>[]</td>\n",
       "    </tr>\n",
       "    <tr>\n",
       "      <th>10</th>\n",
       "      <td>7DHI</td>\n",
       "      <td>ADRB2</td>\n",
       "      <td>3.3</td>\n",
       "      <td>2020-12-16</td>\n",
       "      <td>EVYILLNWIGYVNSGFNPLIYSRSPDFRIAF</td>\n",
       "      <td>1.719048</td>\n",
       "      <td>291</td>\n",
       "      <td>EVWVVGMGIVMSLIVLAIVFGNVLVITAIAKFERLQTVTNYFITSL...</td>\n",
       "      <td>16</td>\n",
       "      <td>[EVWVVGMGIVMSLIVLAIVFGNVLVITAIAKFERLQTVTNYFITS...</td>\n",
       "      <td>[60, 60]</td>\n",
       "      <td>270</td>\n",
       "      <td>275</td>\n",
       "      <td>21</td>\n",
       "      <td>NPLIY</td>\n",
       "      <td>NPLIY</td>\n",
       "      <td>[(None, 2.220761123286891), (-2.16442545459555...</td>\n",
       "      <td>[(-1.1948225616813992, -0.5293781576224712), (...</td>\n",
       "    </tr>\n",
       "  </tbody>\n",
       "</table>\n",
       "</div>"
      ],
      "text/plain": [
       "     PDB uniprot(gene)  Resolution    PDB date  \\\n",
       "1   7CFN         GPBAR         3.0  2020-09-09   \n",
       "2   7CFM         GPBAR         3.0  2020-09-09   \n",
       "8   7BZ2         ADRB2         3.8  2020-08-05   \n",
       "9   7DHR         ADRB2         3.8  2020-12-16   \n",
       "10  7DHI         ADRB2         3.3  2020-12-16   \n",
       "\n",
       "                             TM7_found     score  prot_len  \\\n",
       "1   GPGTLLSLLSLGSASAAAVPVAMGLGDQRYTAPW  2.046154       279   \n",
       "2      LLSLLSLGSASAAAVPVAMGLGDQRYTAPWR  1.859091       278   \n",
       "8    RKEVYILLNWIGYVNSGFNPLIYSRSPDFRIAF  1.860870       286   \n",
       "9         ILLNWIGYVNSGFNPLIYSRSPDFRIAF  1.522222       285   \n",
       "10     EVYILLNWIGYVNSGFNPLIYSRSPDFRIAF  1.719048       291   \n",
       "\n",
       "                                        full_prot_seq  start  \\\n",
       "1   LGLSLALASLIITANLLLALGIAWDRRLRSPPAGCFFLSLLLAGLL...     19   \n",
       "2   LSLALASLIITANLLLALGIAWDRRLRSPPAGCFFLSLLLAGLLTG...     15   \n",
       "8   EVWVVGMGIVMSLIVLAIVFGNVLVITAIAKFERLQTVTNYFITSL...     18   \n",
       "9   EVWVVGMGIVMSLIVLAIVFGNVLVITAIAKFERLQTVTNYFITSL...     13   \n",
       "10  EVWVVGMGIVMSLIVLAIVFGNVLVITAIAKFERLQTVTNYFITSL...     16   \n",
       "\n",
       "                                              pp_seqs   pp_seq_lens  \\\n",
       "1   [LGLSLALASLIITANLLLALGIAWDRRLRSPPAGCFFLSLLLAGL...          [60]   \n",
       "2   [LSLALASLIITANLLLALGIAWDRRLRSPPAGCFFLSLLLAGLLT...          [60]   \n",
       "8   [EVWVVGMGIVMSLIVLAIVFGNVLVITAIAKFERLQTVTNYFITS...  [60, 60, 60]   \n",
       "9   [EVWVVGMGIVMSLIVLAIVFGNVLVITAIAKFERLQTVTNYFITS...  [60, 60, 60]   \n",
       "10  [EVWVVGMGIVMSLIVLAIVFGNVLVITAIAKFERLQTVTNYFITS...      [60, 60]   \n",
       "\n",
       "    start_absolute  end_absolute  end full_aligned_seg TM7_aligned_seg  \\\n",
       "1              259           266   26          PVAMGLG         PVAMGLG   \n",
       "2              257           264   22          PVAMGLG         PVAMGLG   \n",
       "8              266           271   23            NPLIY           NPLIY   \n",
       "9              266           271   18            NPLIY           NPLIY   \n",
       "10             270           275   21            NPLIY           NPLIY   \n",
       "\n",
       "                                              psi_phi  \\\n",
       "1   [(None, -0.8080940478888483), (-1.180362770021...   \n",
       "2   [(None, 1.2429597097836504), (-1.7132216394400...   \n",
       "8   [(None, 0.7247878775593547), (-1.3430951956042...   \n",
       "9   [(None, 2.548423928842914), (-1.54965132845452...   \n",
       "10  [(None, 2.220761123286891), (-2.16442545459555...   \n",
       "\n",
       "                                        target_angles  \n",
       "1   [(-1.1727213988088117, -0.5301388085987634), (...  \n",
       "2   [(-1.2096660283557674, -0.5027183977621975), (...  \n",
       "8                                                  []  \n",
       "9                                                  []  \n",
       "10  [(-1.1948225616813992, -0.5293781576224712), (...  "
      ]
     },
     "execution_count": 68,
     "metadata": {},
     "output_type": "execute_result"
    }
   ],
   "source": [
    "valid_a"
   ]
  },
  {
   "cell_type": "code",
   "execution_count": 69,
   "id": "sixth-connection",
   "metadata": {},
   "outputs": [],
   "source": [
    "valid_a.to_csv('valid_a.csv', index=False)"
   ]
  },
  {
   "cell_type": "code",
   "execution_count": 70,
   "id": "abroad-leonard",
   "metadata": {},
   "outputs": [],
   "source": [
    "valid_i = get_target_df(complete_i, target, valid=True)\n",
    "# Filter for proteins where the alignments match ~ indicates that angles are valid and the region is present\n",
    "# if only valids we compare if the full aligned segment withthe TM7 aligned segment\n",
    "valid_i.to_csv('valid_i.csv', index=False)"
   ]
  },
  {
   "cell_type": "code",
   "execution_count": 71,
   "id": "institutional-tattoo",
   "metadata": {},
   "outputs": [
    {
     "data": {
      "text/html": [
       "<div>\n",
       "<style scoped>\n",
       "    .dataframe tbody tr th:only-of-type {\n",
       "        vertical-align: middle;\n",
       "    }\n",
       "\n",
       "    .dataframe tbody tr th {\n",
       "        vertical-align: top;\n",
       "    }\n",
       "\n",
       "    .dataframe thead th {\n",
       "        text-align: right;\n",
       "    }\n",
       "</style>\n",
       "<table border=\"1\" class=\"dataframe\">\n",
       "  <thead>\n",
       "    <tr style=\"text-align: right;\">\n",
       "      <th></th>\n",
       "      <th>PDB</th>\n",
       "      <th>uniprot(gene)</th>\n",
       "      <th>Resolution</th>\n",
       "      <th>PDB date</th>\n",
       "      <th>TM7_found</th>\n",
       "      <th>score</th>\n",
       "      <th>prot_len</th>\n",
       "      <th>full_prot_seq</th>\n",
       "      <th>start</th>\n",
       "      <th>pp_seqs</th>\n",
       "      <th>pp_seq_lens</th>\n",
       "      <th>start_absolute</th>\n",
       "      <th>end_absolute</th>\n",
       "      <th>end</th>\n",
       "      <th>full_aligned_seg</th>\n",
       "      <th>TM7_aligned_seg</th>\n",
       "      <th>psi_phi</th>\n",
       "      <th>target_angles</th>\n",
       "    </tr>\n",
       "  </thead>\n",
       "  <tbody>\n",
       "    <tr>\n",
       "      <th>1</th>\n",
       "      <td>7CFN</td>\n",
       "      <td>GPBAR</td>\n",
       "      <td>3.0</td>\n",
       "      <td>2020-09-09</td>\n",
       "      <td>GPGTLLSLLSLGSASAAAVPVAMGLGDQRYTAPW</td>\n",
       "      <td>2.046154</td>\n",
       "      <td>279</td>\n",
       "      <td>LGLSLALASLIITANLLLALGIAWDRRLRSPPAGCFFLSLLLAGLL...</td>\n",
       "      <td>19</td>\n",
       "      <td>[LGLSLALASLIITANLLLALGIAWDRRLRSPPAGCFFLSLLLAGL...</td>\n",
       "      <td>[60]</td>\n",
       "      <td>259</td>\n",
       "      <td>266</td>\n",
       "      <td>26</td>\n",
       "      <td>PVAMGLG</td>\n",
       "      <td>PVAMGLG</td>\n",
       "      <td>[(None, -0.8080940478888483), (-1.180362770021...</td>\n",
       "      <td>[(-1.1727213988088117, -0.5301388085987634), (...</td>\n",
       "    </tr>\n",
       "    <tr>\n",
       "      <th>2</th>\n",
       "      <td>7CFM</td>\n",
       "      <td>GPBAR</td>\n",
       "      <td>3.0</td>\n",
       "      <td>2020-09-09</td>\n",
       "      <td>LLSLLSLGSASAAAVPVAMGLGDQRYTAPWR</td>\n",
       "      <td>1.859091</td>\n",
       "      <td>278</td>\n",
       "      <td>LSLALASLIITANLLLALGIAWDRRLRSPPAGCFFLSLLLAGLLTG...</td>\n",
       "      <td>15</td>\n",
       "      <td>[LSLALASLIITANLLLALGIAWDRRLRSPPAGCFFLSLLLAGLLT...</td>\n",
       "      <td>[60]</td>\n",
       "      <td>257</td>\n",
       "      <td>264</td>\n",
       "      <td>22</td>\n",
       "      <td>PVAMGLG</td>\n",
       "      <td>PVAMGLG</td>\n",
       "      <td>[(None, 1.2429597097836504), (-1.7132216394400...</td>\n",
       "      <td>[(-1.2096660283557674, -0.5027183977621975), (...</td>\n",
       "    </tr>\n",
       "    <tr>\n",
       "      <th>8</th>\n",
       "      <td>7BZ2</td>\n",
       "      <td>ADRB2</td>\n",
       "      <td>3.8</td>\n",
       "      <td>2020-08-05</td>\n",
       "      <td>RKEVYILLNWIGYVNSGFNPLIYSRSPDFRIAF</td>\n",
       "      <td>1.860870</td>\n",
       "      <td>286</td>\n",
       "      <td>EVWVVGMGIVMSLIVLAIVFGNVLVITAIAKFERLQTVTNYFITSL...</td>\n",
       "      <td>18</td>\n",
       "      <td>[EVWVVGMGIVMSLIVLAIVFGNVLVITAIAKFERLQTVTNYFITS...</td>\n",
       "      <td>[60, 60, 60]</td>\n",
       "      <td>266</td>\n",
       "      <td>271</td>\n",
       "      <td>23</td>\n",
       "      <td>NPLIY</td>\n",
       "      <td>NPLIY</td>\n",
       "      <td>[(None, 0.7247878775593547), (-1.3430951956042...</td>\n",
       "      <td>[]</td>\n",
       "    </tr>\n",
       "  </tbody>\n",
       "</table>\n",
       "</div>"
      ],
      "text/plain": [
       "    PDB uniprot(gene)  Resolution    PDB date  \\\n",
       "1  7CFN         GPBAR         3.0  2020-09-09   \n",
       "2  7CFM         GPBAR         3.0  2020-09-09   \n",
       "8  7BZ2         ADRB2         3.8  2020-08-05   \n",
       "\n",
       "                            TM7_found     score  prot_len  \\\n",
       "1  GPGTLLSLLSLGSASAAAVPVAMGLGDQRYTAPW  2.046154       279   \n",
       "2     LLSLLSLGSASAAAVPVAMGLGDQRYTAPWR  1.859091       278   \n",
       "8   RKEVYILLNWIGYVNSGFNPLIYSRSPDFRIAF  1.860870       286   \n",
       "\n",
       "                                       full_prot_seq  start  \\\n",
       "1  LGLSLALASLIITANLLLALGIAWDRRLRSPPAGCFFLSLLLAGLL...     19   \n",
       "2  LSLALASLIITANLLLALGIAWDRRLRSPPAGCFFLSLLLAGLLTG...     15   \n",
       "8  EVWVVGMGIVMSLIVLAIVFGNVLVITAIAKFERLQTVTNYFITSL...     18   \n",
       "\n",
       "                                             pp_seqs   pp_seq_lens  \\\n",
       "1  [LGLSLALASLIITANLLLALGIAWDRRLRSPPAGCFFLSLLLAGL...          [60]   \n",
       "2  [LSLALASLIITANLLLALGIAWDRRLRSPPAGCFFLSLLLAGLLT...          [60]   \n",
       "8  [EVWVVGMGIVMSLIVLAIVFGNVLVITAIAKFERLQTVTNYFITS...  [60, 60, 60]   \n",
       "\n",
       "   start_absolute  end_absolute  end full_aligned_seg TM7_aligned_seg  \\\n",
       "1             259           266   26          PVAMGLG         PVAMGLG   \n",
       "2             257           264   22          PVAMGLG         PVAMGLG   \n",
       "8             266           271   23            NPLIY           NPLIY   \n",
       "\n",
       "                                             psi_phi  \\\n",
       "1  [(None, -0.8080940478888483), (-1.180362770021...   \n",
       "2  [(None, 1.2429597097836504), (-1.7132216394400...   \n",
       "8  [(None, 0.7247878775593547), (-1.3430951956042...   \n",
       "\n",
       "                                       target_angles  \n",
       "1  [(-1.1727213988088117, -0.5301388085987634), (...  \n",
       "2  [(-1.2096660283557674, -0.5027183977621975), (...  \n",
       "8                                                 []  "
      ]
     },
     "metadata": {},
     "output_type": "display_data"
    }
   ],
   "source": [
    "disp3(valid_a)"
   ]
  },
  {
   "cell_type": "code",
   "execution_count": 72,
   "id": "banner-importance",
   "metadata": {},
   "outputs": [
    {
     "data": {
      "text/html": [
       "<div>\n",
       "<style scoped>\n",
       "    .dataframe tbody tr th:only-of-type {\n",
       "        vertical-align: middle;\n",
       "    }\n",
       "\n",
       "    .dataframe tbody tr th {\n",
       "        vertical-align: top;\n",
       "    }\n",
       "\n",
       "    .dataframe thead th {\n",
       "        text-align: right;\n",
       "    }\n",
       "</style>\n",
       "<table border=\"1\" class=\"dataframe\">\n",
       "  <thead>\n",
       "    <tr style=\"text-align: right;\">\n",
       "      <th></th>\n",
       "      <th>PDB</th>\n",
       "      <th>uniprot(gene)</th>\n",
       "      <th>Resolution</th>\n",
       "      <th>PDB date</th>\n",
       "      <th>TM7_found</th>\n",
       "      <th>score</th>\n",
       "      <th>prot_len</th>\n",
       "      <th>full_prot_seq</th>\n",
       "      <th>start</th>\n",
       "      <th>pp_seqs</th>\n",
       "      <th>pp_seq_lens</th>\n",
       "      <th>start_absolute</th>\n",
       "      <th>end_absolute</th>\n",
       "      <th>end</th>\n",
       "      <th>full_aligned_seg</th>\n",
       "      <th>TM7_aligned_seg</th>\n",
       "      <th>psi_phi</th>\n",
       "      <th>target_angles</th>\n",
       "    </tr>\n",
       "  </thead>\n",
       "  <tbody>\n",
       "    <tr>\n",
       "      <th>5</th>\n",
       "      <td>6PS1</td>\n",
       "      <td>ADRB2</td>\n",
       "      <td>3.2</td>\n",
       "      <td>2019-11-13</td>\n",
       "      <td>KEVYILLNWIGYVNSGFNPLIYCRSPDFRIAFQELLCL</td>\n",
       "      <td>1.258333</td>\n",
       "      <td>450</td>\n",
       "      <td>DEVWVVGMGIVMSLIVLAIVFGNVLVITAIAKFERLQTVTNYFITS...</td>\n",
       "      <td>17</td>\n",
       "      <td>[DEVWVVGMGIVMSLIVLAIVFGNVLVITAIAKFERLQTVTNYFIT...</td>\n",
       "      <td>[60]</td>\n",
       "      <td>421</td>\n",
       "      <td>428</td>\n",
       "      <td>24</td>\n",
       "      <td>NPLIYCR</td>\n",
       "      <td>NPLIYCR</td>\n",
       "      <td>[(None, 2.5256872329638655), (-1.0111750694833...</td>\n",
       "      <td>[(-0.8380310981643087, -0.8003636915192417), (...</td>\n",
       "    </tr>\n",
       "    <tr>\n",
       "      <th>6</th>\n",
       "      <td>6PS6</td>\n",
       "      <td>ADRB2</td>\n",
       "      <td>2.7</td>\n",
       "      <td>2019-11-13</td>\n",
       "      <td>KEVYILLNWIGYVNSGFNPLIYCRSPDFRIAFQELLCL</td>\n",
       "      <td>1.254167</td>\n",
       "      <td>470</td>\n",
       "      <td>RDEVWVVGMGIVMSLIVLAIVFGNVLVITAIAKFERLQTVTNYFIT...</td>\n",
       "      <td>17</td>\n",
       "      <td>[RDEVWVVGMGIVMSLIVLAIVFGNVLVITAIAKFERLQTVTNYFI...</td>\n",
       "      <td>[60]</td>\n",
       "      <td>422</td>\n",
       "      <td>429</td>\n",
       "      <td>24</td>\n",
       "      <td>NPLIYCR</td>\n",
       "      <td>NPLIYCR</td>\n",
       "      <td>[(None, 0.27689763066035566), (-0.793226952381...</td>\n",
       "      <td>[(-0.8287561614163858, -0.8590474805592928), (...</td>\n",
       "    </tr>\n",
       "    <tr>\n",
       "      <th>7</th>\n",
       "      <td>6PS5</td>\n",
       "      <td>ADRB2</td>\n",
       "      <td>2.9</td>\n",
       "      <td>2019-11-13</td>\n",
       "      <td>KEVYILLNWIGYVNSGFNPLIYCRSPDFRIAFQELLCL</td>\n",
       "      <td>1.258333</td>\n",
       "      <td>454</td>\n",
       "      <td>DEVWVVGMGIVMSLIVLAIVFGNVLVITAIAKFERLQTVTNYFITS...</td>\n",
       "      <td>17</td>\n",
       "      <td>[DEVWVVGMGIVMSLIVLAIVFGNVLVITAIAKFERLQTVTNYFIT...</td>\n",
       "      <td>[60]</td>\n",
       "      <td>421</td>\n",
       "      <td>428</td>\n",
       "      <td>24</td>\n",
       "      <td>NPLIYCR</td>\n",
       "      <td>NPLIYCR</td>\n",
       "      <td>[(None, 2.9306733892826236), (-1.0267900603457...</td>\n",
       "      <td>[(-0.8621097350371153, -0.8237030852743529), (...</td>\n",
       "    </tr>\n",
       "  </tbody>\n",
       "</table>\n",
       "</div>"
      ],
      "text/plain": [
       "    PDB uniprot(gene)  Resolution    PDB date  \\\n",
       "5  6PS1         ADRB2         3.2  2019-11-13   \n",
       "6  6PS6         ADRB2         2.7  2019-11-13   \n",
       "7  6PS5         ADRB2         2.9  2019-11-13   \n",
       "\n",
       "                                TM7_found     score  prot_len  \\\n",
       "5  KEVYILLNWIGYVNSGFNPLIYCRSPDFRIAFQELLCL  1.258333       450   \n",
       "6  KEVYILLNWIGYVNSGFNPLIYCRSPDFRIAFQELLCL  1.254167       470   \n",
       "7  KEVYILLNWIGYVNSGFNPLIYCRSPDFRIAFQELLCL  1.258333       454   \n",
       "\n",
       "                                       full_prot_seq  start  \\\n",
       "5  DEVWVVGMGIVMSLIVLAIVFGNVLVITAIAKFERLQTVTNYFITS...     17   \n",
       "6  RDEVWVVGMGIVMSLIVLAIVFGNVLVITAIAKFERLQTVTNYFIT...     17   \n",
       "7  DEVWVVGMGIVMSLIVLAIVFGNVLVITAIAKFERLQTVTNYFITS...     17   \n",
       "\n",
       "                                             pp_seqs pp_seq_lens  \\\n",
       "5  [DEVWVVGMGIVMSLIVLAIVFGNVLVITAIAKFERLQTVTNYFIT...        [60]   \n",
       "6  [RDEVWVVGMGIVMSLIVLAIVFGNVLVITAIAKFERLQTVTNYFI...        [60]   \n",
       "7  [DEVWVVGMGIVMSLIVLAIVFGNVLVITAIAKFERLQTVTNYFIT...        [60]   \n",
       "\n",
       "   start_absolute  end_absolute  end full_aligned_seg TM7_aligned_seg  \\\n",
       "5             421           428   24          NPLIYCR         NPLIYCR   \n",
       "6             422           429   24          NPLIYCR         NPLIYCR   \n",
       "7             421           428   24          NPLIYCR         NPLIYCR   \n",
       "\n",
       "                                             psi_phi  \\\n",
       "5  [(None, 2.5256872329638655), (-1.0111750694833...   \n",
       "6  [(None, 0.27689763066035566), (-0.793226952381...   \n",
       "7  [(None, 2.9306733892826236), (-1.0267900603457...   \n",
       "\n",
       "                                       target_angles  \n",
       "5  [(-0.8380310981643087, -0.8003636915192417), (...  \n",
       "6  [(-0.8287561614163858, -0.8590474805592928), (...  \n",
       "7  [(-0.8621097350371153, -0.8237030852743529), (...  "
      ]
     },
     "metadata": {},
     "output_type": "display_data"
    }
   ],
   "source": [
    "disp3(valid_i)"
   ]
  },
  {
   "cell_type": "code",
   "execution_count": 73,
   "id": "naked-sunglasses",
   "metadata": {},
   "outputs": [
    {
     "data": {
      "text/plain": [
       "1     [(-1.1727213988088117, -0.5301388085987634), (...\n",
       "2     [(-1.2096660283557674, -0.5027183977621975), (...\n",
       "8                                                    []\n",
       "9                                                    []\n",
       "10    [(-1.1948225616813992, -0.5293781576224712), (...\n",
       "Name: target_angles, dtype: object"
      ]
     },
     "execution_count": 73,
     "metadata": {},
     "output_type": "execute_result"
    }
   ],
   "source": [
    "valid_a.target_angles"
   ]
  },
  {
   "cell_type": "code",
   "execution_count": 74,
   "id": "reliable-locking",
   "metadata": {},
   "outputs": [
    {
     "data": {
      "text/html": [
       "<div>\n",
       "<style scoped>\n",
       "    .dataframe tbody tr th:only-of-type {\n",
       "        vertical-align: middle;\n",
       "    }\n",
       "\n",
       "    .dataframe tbody tr th {\n",
       "        vertical-align: top;\n",
       "    }\n",
       "\n",
       "    .dataframe thead th {\n",
       "        text-align: right;\n",
       "    }\n",
       "</style>\n",
       "<table border=\"1\" class=\"dataframe\">\n",
       "  <thead>\n",
       "    <tr style=\"text-align: right;\">\n",
       "      <th></th>\n",
       "      <th>PDB</th>\n",
       "      <th>uniprot(gene)</th>\n",
       "      <th>Resolution</th>\n",
       "      <th>PDB date</th>\n",
       "      <th>TM7_found</th>\n",
       "      <th>score</th>\n",
       "      <th>prot_len</th>\n",
       "      <th>full_prot_seq</th>\n",
       "      <th>start</th>\n",
       "      <th>pp_seqs</th>\n",
       "      <th>pp_seq_lens</th>\n",
       "      <th>start_absolute</th>\n",
       "      <th>end_absolute</th>\n",
       "      <th>end</th>\n",
       "      <th>full_aligned_seg</th>\n",
       "      <th>TM7_aligned_seg</th>\n",
       "      <th>psi_phi</th>\n",
       "      <th>target_angles</th>\n",
       "    </tr>\n",
       "  </thead>\n",
       "  <tbody>\n",
       "    <tr>\n",
       "      <th>1</th>\n",
       "      <td>7CFN</td>\n",
       "      <td>GPBAR</td>\n",
       "      <td>3.0</td>\n",
       "      <td>2020-09-09</td>\n",
       "      <td>GPGTLLSLLSLGSASAAAVPVAMGLGDQRYTAPW</td>\n",
       "      <td>2.046154</td>\n",
       "      <td>279</td>\n",
       "      <td>LGLSLALASLIITANLLLALGIAWDRRLRSPPAGCFFLSLLLAGLL...</td>\n",
       "      <td>19</td>\n",
       "      <td>[LGLSLALASLIITANLLLALGIAWDRRLRSPPAGCFFLSLLLAGL...</td>\n",
       "      <td>[60]</td>\n",
       "      <td>259</td>\n",
       "      <td>266</td>\n",
       "      <td>26</td>\n",
       "      <td>PVAMGLG</td>\n",
       "      <td>PVAMGLG</td>\n",
       "      <td>[(None, -0.8080940478888483), (-1.180362770021...</td>\n",
       "      <td>[(-1.1727213988088117, -0.5301388085987634), (...</td>\n",
       "    </tr>\n",
       "    <tr>\n",
       "      <th>2</th>\n",
       "      <td>7CFM</td>\n",
       "      <td>GPBAR</td>\n",
       "      <td>3.0</td>\n",
       "      <td>2020-09-09</td>\n",
       "      <td>LLSLLSLGSASAAAVPVAMGLGDQRYTAPWR</td>\n",
       "      <td>1.859091</td>\n",
       "      <td>278</td>\n",
       "      <td>LSLALASLIITANLLLALGIAWDRRLRSPPAGCFFLSLLLAGLLTG...</td>\n",
       "      <td>15</td>\n",
       "      <td>[LSLALASLIITANLLLALGIAWDRRLRSPPAGCFFLSLLLAGLLT...</td>\n",
       "      <td>[60]</td>\n",
       "      <td>257</td>\n",
       "      <td>264</td>\n",
       "      <td>22</td>\n",
       "      <td>PVAMGLG</td>\n",
       "      <td>PVAMGLG</td>\n",
       "      <td>[(None, 1.2429597097836504), (-1.7132216394400...</td>\n",
       "      <td>[(-1.2096660283557674, -0.5027183977621975), (...</td>\n",
       "    </tr>\n",
       "    <tr>\n",
       "      <th>8</th>\n",
       "      <td>7BZ2</td>\n",
       "      <td>ADRB2</td>\n",
       "      <td>3.8</td>\n",
       "      <td>2020-08-05</td>\n",
       "      <td>RKEVYILLNWIGYVNSGFNPLIYSRSPDFRIAF</td>\n",
       "      <td>1.860870</td>\n",
       "      <td>286</td>\n",
       "      <td>EVWVVGMGIVMSLIVLAIVFGNVLVITAIAKFERLQTVTNYFITSL...</td>\n",
       "      <td>18</td>\n",
       "      <td>[EVWVVGMGIVMSLIVLAIVFGNVLVITAIAKFERLQTVTNYFITS...</td>\n",
       "      <td>[60, 60, 60]</td>\n",
       "      <td>266</td>\n",
       "      <td>271</td>\n",
       "      <td>23</td>\n",
       "      <td>NPLIY</td>\n",
       "      <td>NPLIY</td>\n",
       "      <td>[(None, 0.7247878775593547), (-1.3430951956042...</td>\n",
       "      <td>[]</td>\n",
       "    </tr>\n",
       "    <tr>\n",
       "      <th>9</th>\n",
       "      <td>7DHR</td>\n",
       "      <td>ADRB2</td>\n",
       "      <td>3.8</td>\n",
       "      <td>2020-12-16</td>\n",
       "      <td>ILLNWIGYVNSGFNPLIYSRSPDFRIAF</td>\n",
       "      <td>1.522222</td>\n",
       "      <td>285</td>\n",
       "      <td>EVWVVGMGIVMSLIVLAIVFGNVLVITAIAKFERLQTVTNYFITSL...</td>\n",
       "      <td>13</td>\n",
       "      <td>[EVWVVGMGIVMSLIVLAIVFGNVLVITAIAKFERLQTVTNYFITS...</td>\n",
       "      <td>[60, 60, 60]</td>\n",
       "      <td>266</td>\n",
       "      <td>271</td>\n",
       "      <td>18</td>\n",
       "      <td>NPLIY</td>\n",
       "      <td>NPLIY</td>\n",
       "      <td>[(None, 2.548423928842914), (-1.54965132845452...</td>\n",
       "      <td>[]</td>\n",
       "    </tr>\n",
       "    <tr>\n",
       "      <th>10</th>\n",
       "      <td>7DHI</td>\n",
       "      <td>ADRB2</td>\n",
       "      <td>3.3</td>\n",
       "      <td>2020-12-16</td>\n",
       "      <td>EVYILLNWIGYVNSGFNPLIYSRSPDFRIAF</td>\n",
       "      <td>1.719048</td>\n",
       "      <td>291</td>\n",
       "      <td>EVWVVGMGIVMSLIVLAIVFGNVLVITAIAKFERLQTVTNYFITSL...</td>\n",
       "      <td>16</td>\n",
       "      <td>[EVWVVGMGIVMSLIVLAIVFGNVLVITAIAKFERLQTVTNYFITS...</td>\n",
       "      <td>[60, 60]</td>\n",
       "      <td>270</td>\n",
       "      <td>275</td>\n",
       "      <td>21</td>\n",
       "      <td>NPLIY</td>\n",
       "      <td>NPLIY</td>\n",
       "      <td>[(None, 2.220761123286891), (-2.16442545459555...</td>\n",
       "      <td>[(-1.1948225616813992, -0.5293781576224712), (...</td>\n",
       "    </tr>\n",
       "  </tbody>\n",
       "</table>\n",
       "</div>"
      ],
      "text/plain": [
       "     PDB uniprot(gene)  Resolution    PDB date  \\\n",
       "1   7CFN         GPBAR         3.0  2020-09-09   \n",
       "2   7CFM         GPBAR         3.0  2020-09-09   \n",
       "8   7BZ2         ADRB2         3.8  2020-08-05   \n",
       "9   7DHR         ADRB2         3.8  2020-12-16   \n",
       "10  7DHI         ADRB2         3.3  2020-12-16   \n",
       "\n",
       "                             TM7_found     score  prot_len  \\\n",
       "1   GPGTLLSLLSLGSASAAAVPVAMGLGDQRYTAPW  2.046154       279   \n",
       "2      LLSLLSLGSASAAAVPVAMGLGDQRYTAPWR  1.859091       278   \n",
       "8    RKEVYILLNWIGYVNSGFNPLIYSRSPDFRIAF  1.860870       286   \n",
       "9         ILLNWIGYVNSGFNPLIYSRSPDFRIAF  1.522222       285   \n",
       "10     EVYILLNWIGYVNSGFNPLIYSRSPDFRIAF  1.719048       291   \n",
       "\n",
       "                                        full_prot_seq  start  \\\n",
       "1   LGLSLALASLIITANLLLALGIAWDRRLRSPPAGCFFLSLLLAGLL...     19   \n",
       "2   LSLALASLIITANLLLALGIAWDRRLRSPPAGCFFLSLLLAGLLTG...     15   \n",
       "8   EVWVVGMGIVMSLIVLAIVFGNVLVITAIAKFERLQTVTNYFITSL...     18   \n",
       "9   EVWVVGMGIVMSLIVLAIVFGNVLVITAIAKFERLQTVTNYFITSL...     13   \n",
       "10  EVWVVGMGIVMSLIVLAIVFGNVLVITAIAKFERLQTVTNYFITSL...     16   \n",
       "\n",
       "                                              pp_seqs   pp_seq_lens  \\\n",
       "1   [LGLSLALASLIITANLLLALGIAWDRRLRSPPAGCFFLSLLLAGL...          [60]   \n",
       "2   [LSLALASLIITANLLLALGIAWDRRLRSPPAGCFFLSLLLAGLLT...          [60]   \n",
       "8   [EVWVVGMGIVMSLIVLAIVFGNVLVITAIAKFERLQTVTNYFITS...  [60, 60, 60]   \n",
       "9   [EVWVVGMGIVMSLIVLAIVFGNVLVITAIAKFERLQTVTNYFITS...  [60, 60, 60]   \n",
       "10  [EVWVVGMGIVMSLIVLAIVFGNVLVITAIAKFERLQTVTNYFITS...      [60, 60]   \n",
       "\n",
       "    start_absolute  end_absolute  end full_aligned_seg TM7_aligned_seg  \\\n",
       "1              259           266   26          PVAMGLG         PVAMGLG   \n",
       "2              257           264   22          PVAMGLG         PVAMGLG   \n",
       "8              266           271   23            NPLIY           NPLIY   \n",
       "9              266           271   18            NPLIY           NPLIY   \n",
       "10             270           275   21            NPLIY           NPLIY   \n",
       "\n",
       "                                              psi_phi  \\\n",
       "1   [(None, -0.8080940478888483), (-1.180362770021...   \n",
       "2   [(None, 1.2429597097836504), (-1.7132216394400...   \n",
       "8   [(None, 0.7247878775593547), (-1.3430951956042...   \n",
       "9   [(None, 2.548423928842914), (-1.54965132845452...   \n",
       "10  [(None, 2.220761123286891), (-2.16442545459555...   \n",
       "\n",
       "                                        target_angles  \n",
       "1   [(-1.1727213988088117, -0.5301388085987634), (...  \n",
       "2   [(-1.2096660283557674, -0.5027183977621975), (...  \n",
       "8                                                  []  \n",
       "9                                                  []  \n",
       "10  [(-1.1948225616813992, -0.5293781576224712), (...  "
      ]
     },
     "execution_count": 74,
     "metadata": {},
     "output_type": "execute_result"
    }
   ],
   "source": [
    "valid_a"
   ]
  },
  {
   "cell_type": "code",
   "execution_count": 75,
   "id": "pregnant-capitol",
   "metadata": {},
   "outputs": [
    {
     "data": {
      "text/plain": [
       "array([[-0.8380311 , -0.80036369],\n",
       "       [-1.10427995, -0.60851755],\n",
       "       [-1.21469441, -0.48920851],\n",
       "       [-1.36171012, -0.44312874],\n",
       "       [-1.24633608, -0.13742096],\n",
       "       [-1.19782354, -0.27717333],\n",
       "       [-1.22382635, -0.68829526]])"
      ]
     },
     "execution_count": 75,
     "metadata": {},
     "output_type": "execute_result"
    }
   ],
   "source": [
    "np.asarray(valid_i['target_angles'].iloc[0])"
   ]
  },
  {
   "cell_type": "code",
   "execution_count": 76,
   "id": "emotional-sharp",
   "metadata": {},
   "outputs": [
    {
     "data": {
      "text/plain": [
       "array([[-1.1727214 , -0.53013881],\n",
       "       [-1.22515482, -0.52101624],\n",
       "       [-1.32065849, -0.51057197],\n",
       "       [-1.30211179, -0.57180035],\n",
       "       [-1.22680805, -0.83150684],\n",
       "       [-1.23505798, -0.23439765],\n",
       "       [-1.13071709, -0.99517171]])"
      ]
     },
     "execution_count": 76,
     "metadata": {},
     "output_type": "execute_result"
    }
   ],
   "source": [
    "np.asarray(valid_a['target_angles'].iloc[0])"
   ]
  },
  {
   "cell_type": "code",
   "execution_count": 77,
   "id": "institutional-despite",
   "metadata": {},
   "outputs": [],
   "source": [
    "valid_i.to_csv('valid_i.csv')"
   ]
  },
  {
   "cell_type": "code",
   "execution_count": 78,
   "id": "affecting-radiation",
   "metadata": {},
   "outputs": [],
   "source": [
    "# j, o, u and x do not code for an amino acid (sometimes used to represent ?)"
   ]
  },
  {
   "cell_type": "code",
   "execution_count": 79,
   "id": "subsequent-charger",
   "metadata": {},
   "outputs": [
    {
     "data": {
      "text/plain": [
       "42"
      ]
     },
     "execution_count": 79,
     "metadata": {},
     "output_type": "execute_result"
    }
   ],
   "source": [
    "len(valid_i[valid_i['full_aligned_seg']==valid_i['TM7_aligned_seg']])"
   ]
  },
  {
   "cell_type": "code",
   "execution_count": 80,
   "id": "hydraulic-entrance",
   "metadata": {},
   "outputs": [],
   "source": [
    "x = valid_i[['prot_len', 'psi_phi']]"
   ]
  },
  {
   "cell_type": "code",
   "execution_count": 81,
   "id": "contrary-clearance",
   "metadata": {},
   "outputs": [
    {
     "name": "stderr",
     "output_type": "stream",
     "text": [
      "<ipython-input-81-0d223a10ad61>:1: SettingWithCopyWarning: \n",
      "A value is trying to be set on a copy of a slice from a DataFrame.\n",
      "Try using .loc[row_indexer,col_indexer] = value instead\n",
      "\n",
      "See the caveats in the documentation: https://pandas.pydata.org/pandas-docs/stable/user_guide/indexing.html#returning-a-view-versus-a-copy\n",
      "  x['len_psi_phi'] = valid_i.apply(lambda x: len(x.psi_phi), axis=1)\n"
     ]
    }
   ],
   "source": [
    "x['len_psi_phi'] = valid_i.apply(lambda x: len(x.psi_phi), axis=1)"
   ]
  },
  {
   "cell_type": "code",
   "execution_count": 82,
   "id": "spoken-portrait",
   "metadata": {},
   "outputs": [
    {
     "data": {
      "text/html": [
       "<div>\n",
       "<style scoped>\n",
       "    .dataframe tbody tr th:only-of-type {\n",
       "        vertical-align: middle;\n",
       "    }\n",
       "\n",
       "    .dataframe tbody tr th {\n",
       "        vertical-align: top;\n",
       "    }\n",
       "\n",
       "    .dataframe thead th {\n",
       "        text-align: right;\n",
       "    }\n",
       "</style>\n",
       "<table border=\"1\" class=\"dataframe\">\n",
       "  <thead>\n",
       "    <tr style=\"text-align: right;\">\n",
       "      <th></th>\n",
       "      <th>prot_len</th>\n",
       "      <th>psi_phi</th>\n",
       "      <th>len_psi_phi</th>\n",
       "    </tr>\n",
       "  </thead>\n",
       "  <tbody>\n",
       "    <tr>\n",
       "      <th>5</th>\n",
       "      <td>450</td>\n",
       "      <td>[(None, 2.5256872329638655), (-1.0111750694833...</td>\n",
       "      <td>442</td>\n",
       "    </tr>\n",
       "    <tr>\n",
       "      <th>6</th>\n",
       "      <td>470</td>\n",
       "      <td>[(None, 0.27689763066035566), (-0.793226952381...</td>\n",
       "      <td>443</td>\n",
       "    </tr>\n",
       "    <tr>\n",
       "      <th>7</th>\n",
       "      <td>454</td>\n",
       "      <td>[(None, 2.9306733892826236), (-1.0267900603457...</td>\n",
       "      <td>442</td>\n",
       "    </tr>\n",
       "    <tr>\n",
       "      <th>8</th>\n",
       "      <td>452</td>\n",
       "      <td>[(None, -0.46658462888578983), (-1.13290162531...</td>\n",
       "      <td>440</td>\n",
       "    </tr>\n",
       "    <tr>\n",
       "      <th>10</th>\n",
       "      <td>471</td>\n",
       "      <td>[(None, 2.747201390727765), (-1.45410174600076...</td>\n",
       "      <td>442</td>\n",
       "    </tr>\n",
       "    <tr>\n",
       "      <th>11</th>\n",
       "      <td>499</td>\n",
       "      <td>[(None, -2.5985189892267564), (-1.490179980824...</td>\n",
       "      <td>443</td>\n",
       "    </tr>\n",
       "    <tr>\n",
       "      <th>12</th>\n",
       "      <td>449</td>\n",
       "      <td>[(None, -0.6015786016853899), (-1.196694536887...</td>\n",
       "      <td>440</td>\n",
       "    </tr>\n",
       "    <tr>\n",
       "      <th>13</th>\n",
       "      <td>447</td>\n",
       "      <td>[(None, 1.8948701581079868), (-1.1309253657103...</td>\n",
       "      <td>390</td>\n",
       "    </tr>\n",
       "    <tr>\n",
       "      <th>14</th>\n",
       "      <td>539</td>\n",
       "      <td>[(None, 1.6380759814786037), (-1.0785675902132...</td>\n",
       "      <td>387</td>\n",
       "    </tr>\n",
       "    <tr>\n",
       "      <th>15</th>\n",
       "      <td>532</td>\n",
       "      <td>[(None, 2.003678106751159), (-1.08420177868628...</td>\n",
       "      <td>388</td>\n",
       "    </tr>\n",
       "    <tr>\n",
       "      <th>16</th>\n",
       "      <td>412</td>\n",
       "      <td>[(None, 2.577797802701786), (-1.14299372245415...</td>\n",
       "      <td>385</td>\n",
       "    </tr>\n",
       "    <tr>\n",
       "      <th>17</th>\n",
       "      <td>558</td>\n",
       "      <td>[(None, 0.22423874215021558), (-1.464420218330...</td>\n",
       "      <td>388</td>\n",
       "    </tr>\n",
       "    <tr>\n",
       "      <th>18</th>\n",
       "      <td>509</td>\n",
       "      <td>[(None, 1.665087751684082), (-1.07324972002259...</td>\n",
       "      <td>390</td>\n",
       "    </tr>\n",
       "    <tr>\n",
       "      <th>22</th>\n",
       "      <td>449</td>\n",
       "      <td>[(None, -0.5868060621647117), (-1.145877759365...</td>\n",
       "      <td>439</td>\n",
       "    </tr>\n",
       "    <tr>\n",
       "      <th>23</th>\n",
       "      <td>451</td>\n",
       "      <td>[(None, -0.4880952214869271), (-1.131018041975...</td>\n",
       "      <td>439</td>\n",
       "    </tr>\n",
       "    <tr>\n",
       "      <th>24</th>\n",
       "      <td>468</td>\n",
       "      <td>[(None, -1.0818214941517788), (-0.852220575328...</td>\n",
       "      <td>439</td>\n",
       "    </tr>\n",
       "    <tr>\n",
       "      <th>25</th>\n",
       "      <td>583</td>\n",
       "      <td>[(None, 1.4787771814639106), (-1.0364292648987...</td>\n",
       "      <td>388</td>\n",
       "    </tr>\n",
       "    <tr>\n",
       "      <th>26</th>\n",
       "      <td>521</td>\n",
       "      <td>[(None, 1.6325071490223784), (-1.0051266113595...</td>\n",
       "      <td>388</td>\n",
       "    </tr>\n",
       "    <tr>\n",
       "      <th>27</th>\n",
       "      <td>550</td>\n",
       "      <td>[(None, 1.4791058769916705), (-1.0185260099339...</td>\n",
       "      <td>388</td>\n",
       "    </tr>\n",
       "    <tr>\n",
       "      <th>28</th>\n",
       "      <td>576</td>\n",
       "      <td>[(None, 1.5706143017191831), (-1.0169482566591...</td>\n",
       "      <td>387</td>\n",
       "    </tr>\n",
       "    <tr>\n",
       "      <th>30</th>\n",
       "      <td>292</td>\n",
       "      <td>[(None, 0.31883420679258045), (-1.409524728597...</td>\n",
       "      <td>291</td>\n",
       "    </tr>\n",
       "    <tr>\n",
       "      <th>31</th>\n",
       "      <td>292</td>\n",
       "      <td>[(None, -0.1210705050067653), (-1.187695080737...</td>\n",
       "      <td>291</td>\n",
       "    </tr>\n",
       "    <tr>\n",
       "      <th>32</th>\n",
       "      <td>292</td>\n",
       "      <td>[(None, 0.38039195698382255), (-1.417509320920...</td>\n",
       "      <td>291</td>\n",
       "    </tr>\n",
       "    <tr>\n",
       "      <th>51</th>\n",
       "      <td>292</td>\n",
       "      <td>[(None, 0.4486385698436691), (-1.5204693595800...</td>\n",
       "      <td>291</td>\n",
       "    </tr>\n",
       "    <tr>\n",
       "      <th>52</th>\n",
       "      <td>292</td>\n",
       "      <td>[(None, 0.46970257882432986), (-1.698217612302...</td>\n",
       "      <td>291</td>\n",
       "    </tr>\n",
       "    <tr>\n",
       "      <th>56</th>\n",
       "      <td>581</td>\n",
       "      <td>[(None, -0.7814447417897008), (-1.268792215895...</td>\n",
       "      <td>135</td>\n",
       "    </tr>\n",
       "    <tr>\n",
       "      <th>57</th>\n",
       "      <td>457</td>\n",
       "      <td>[(None, -0.7188933117362605), (-1.130897880022...</td>\n",
       "      <td>134</td>\n",
       "    </tr>\n",
       "    <tr>\n",
       "      <th>58</th>\n",
       "      <td>598</td>\n",
       "      <td>[(None, -1.2995053937071748), (-1.174311466448...</td>\n",
       "      <td>138</td>\n",
       "    </tr>\n",
       "    <tr>\n",
       "      <th>59</th>\n",
       "      <td>544</td>\n",
       "      <td>[(None, 1.4799910015690252), (-0.9046020681702...</td>\n",
       "      <td>388</td>\n",
       "    </tr>\n",
       "    <tr>\n",
       "      <th>60</th>\n",
       "      <td>451</td>\n",
       "      <td>[(None, -0.9094323304488956), (-0.798713084792...</td>\n",
       "      <td>382</td>\n",
       "    </tr>\n",
       "    <tr>\n",
       "      <th>61</th>\n",
       "      <td>423</td>\n",
       "      <td>[(None, -0.7762022654136893), (-0.808144455601...</td>\n",
       "      <td>382</td>\n",
       "    </tr>\n",
       "    <tr>\n",
       "      <th>62</th>\n",
       "      <td>507</td>\n",
       "      <td>[(None, 2.723131821282329), (-0.94264413570933...</td>\n",
       "      <td>383</td>\n",
       "    </tr>\n",
       "    <tr>\n",
       "      <th>63</th>\n",
       "      <td>492</td>\n",
       "      <td>[(None, 2.184036308554857), (-0.82800592631600...</td>\n",
       "      <td>382</td>\n",
       "    </tr>\n",
       "    <tr>\n",
       "      <th>71</th>\n",
       "      <td>465</td>\n",
       "      <td>[(None, -0.8147583266804052), (-0.976870865046...</td>\n",
       "      <td>439</td>\n",
       "    </tr>\n",
       "    <tr>\n",
       "      <th>72</th>\n",
       "      <td>450</td>\n",
       "      <td>[(None, 2.9026309974284965), (-1.1611035051825...</td>\n",
       "      <td>442</td>\n",
       "    </tr>\n",
       "    <tr>\n",
       "      <th>75</th>\n",
       "      <td>444</td>\n",
       "      <td>[(None, -2.9436339541437686), (-1.425746276726...</td>\n",
       "      <td>440</td>\n",
       "    </tr>\n",
       "    <tr>\n",
       "      <th>76</th>\n",
       "      <td>425</td>\n",
       "      <td>[(None, 1.075942647643582), (1.369889609703785...</td>\n",
       "      <td>390</td>\n",
       "    </tr>\n",
       "    <tr>\n",
       "      <th>78</th>\n",
       "      <td>453</td>\n",
       "      <td>[(None, -0.6972460906182674), (-2.281265050916...</td>\n",
       "      <td>440</td>\n",
       "    </tr>\n",
       "    <tr>\n",
       "      <th>82</th>\n",
       "      <td>403</td>\n",
       "      <td>[(None, 1.9029684965799571), (-1.0835479430442...</td>\n",
       "      <td>388</td>\n",
       "    </tr>\n",
       "    <tr>\n",
       "      <th>84</th>\n",
       "      <td>403</td>\n",
       "      <td>[(None, 1.92407071659809), (-1.086512390112896...</td>\n",
       "      <td>388</td>\n",
       "    </tr>\n",
       "    <tr>\n",
       "      <th>85</th>\n",
       "      <td>554</td>\n",
       "      <td>[(None, 1.7258592945865587), (-1.0383658683555...</td>\n",
       "      <td>388</td>\n",
       "    </tr>\n",
       "    <tr>\n",
       "      <th>86</th>\n",
       "      <td>474</td>\n",
       "      <td>[(None, 2.876909536344257), (-0.68072723175705...</td>\n",
       "      <td>442</td>\n",
       "    </tr>\n",
       "  </tbody>\n",
       "</table>\n",
       "</div>"
      ],
      "text/plain": [
       "    prot_len                                            psi_phi  len_psi_phi\n",
       "5        450  [(None, 2.5256872329638655), (-1.0111750694833...          442\n",
       "6        470  [(None, 0.27689763066035566), (-0.793226952381...          443\n",
       "7        454  [(None, 2.9306733892826236), (-1.0267900603457...          442\n",
       "8        452  [(None, -0.46658462888578983), (-1.13290162531...          440\n",
       "10       471  [(None, 2.747201390727765), (-1.45410174600076...          442\n",
       "11       499  [(None, -2.5985189892267564), (-1.490179980824...          443\n",
       "12       449  [(None, -0.6015786016853899), (-1.196694536887...          440\n",
       "13       447  [(None, 1.8948701581079868), (-1.1309253657103...          390\n",
       "14       539  [(None, 1.6380759814786037), (-1.0785675902132...          387\n",
       "15       532  [(None, 2.003678106751159), (-1.08420177868628...          388\n",
       "16       412  [(None, 2.577797802701786), (-1.14299372245415...          385\n",
       "17       558  [(None, 0.22423874215021558), (-1.464420218330...          388\n",
       "18       509  [(None, 1.665087751684082), (-1.07324972002259...          390\n",
       "22       449  [(None, -0.5868060621647117), (-1.145877759365...          439\n",
       "23       451  [(None, -0.4880952214869271), (-1.131018041975...          439\n",
       "24       468  [(None, -1.0818214941517788), (-0.852220575328...          439\n",
       "25       583  [(None, 1.4787771814639106), (-1.0364292648987...          388\n",
       "26       521  [(None, 1.6325071490223784), (-1.0051266113595...          388\n",
       "27       550  [(None, 1.4791058769916705), (-1.0185260099339...          388\n",
       "28       576  [(None, 1.5706143017191831), (-1.0169482566591...          387\n",
       "30       292  [(None, 0.31883420679258045), (-1.409524728597...          291\n",
       "31       292  [(None, -0.1210705050067653), (-1.187695080737...          291\n",
       "32       292  [(None, 0.38039195698382255), (-1.417509320920...          291\n",
       "51       292  [(None, 0.4486385698436691), (-1.5204693595800...          291\n",
       "52       292  [(None, 0.46970257882432986), (-1.698217612302...          291\n",
       "56       581  [(None, -0.7814447417897008), (-1.268792215895...          135\n",
       "57       457  [(None, -0.7188933117362605), (-1.130897880022...          134\n",
       "58       598  [(None, -1.2995053937071748), (-1.174311466448...          138\n",
       "59       544  [(None, 1.4799910015690252), (-0.9046020681702...          388\n",
       "60       451  [(None, -0.9094323304488956), (-0.798713084792...          382\n",
       "61       423  [(None, -0.7762022654136893), (-0.808144455601...          382\n",
       "62       507  [(None, 2.723131821282329), (-0.94264413570933...          383\n",
       "63       492  [(None, 2.184036308554857), (-0.82800592631600...          382\n",
       "71       465  [(None, -0.8147583266804052), (-0.976870865046...          439\n",
       "72       450  [(None, 2.9026309974284965), (-1.1611035051825...          442\n",
       "75       444  [(None, -2.9436339541437686), (-1.425746276726...          440\n",
       "76       425  [(None, 1.075942647643582), (1.369889609703785...          390\n",
       "78       453  [(None, -0.6972460906182674), (-2.281265050916...          440\n",
       "82       403  [(None, 1.9029684965799571), (-1.0835479430442...          388\n",
       "84       403  [(None, 1.92407071659809), (-1.086512390112896...          388\n",
       "85       554  [(None, 1.7258592945865587), (-1.0383658683555...          388\n",
       "86       474  [(None, 2.876909536344257), (-0.68072723175705...          442"
      ]
     },
     "execution_count": 82,
     "metadata": {},
     "output_type": "execute_result"
    }
   ],
   "source": [
    "x"
   ]
  },
  {
   "cell_type": "code",
   "execution_count": 83,
   "id": "brown-portable",
   "metadata": {
    "pycharm": {
     "name": "#%%\n"
    }
   },
   "outputs": [],
   "source": [
    "# match each of the active complexes to all the inactive ones (based on the uniprot genes)"
   ]
  },
  {
   "cell_type": "code",
   "execution_count": 84,
   "id": "double-poker",
   "metadata": {
    "pycharm": {
     "name": "#%%\n"
    }
   },
   "outputs": [],
   "source": [
    "# interaction dataframe\n",
    "\n",
    "interaction_df = pd.DataFrame(columns=['PDB_active', 'PDB_inactive', 'phi_psi_active', 'phi_psi_inactive', 'delta_phi_psi'])\n",
    "# this should be done here..."
   ]
  },
  {
   "cell_type": "code",
   "execution_count": null,
   "id": "hungarian-prince",
   "metadata": {
    "pycharm": {
     "name": "#%%\n"
    }
   },
   "outputs": [],
   "source": []
  },
  {
   "cell_type": "code",
   "execution_count": null,
   "id": "composed-clearing",
   "metadata": {
    "pycharm": {
     "name": "#%%\n"
    }
   },
   "outputs": [],
   "source": []
  },
  {
   "cell_type": "code",
   "execution_count": null,
   "id": "ultimate-billion",
   "metadata": {},
   "outputs": [],
   "source": []
  },
  {
   "cell_type": "code",
   "execution_count": null,
   "id": "higher-consistency",
   "metadata": {},
   "outputs": [],
   "source": []
  },
  {
   "cell_type": "code",
   "execution_count": null,
   "id": "altered-apple",
   "metadata": {},
   "outputs": [],
   "source": []
  },
  {
   "cell_type": "code",
   "execution_count": null,
   "id": "extreme-consensus",
   "metadata": {},
   "outputs": [],
   "source": []
  },
  {
   "cell_type": "code",
   "execution_count": null,
   "id": "tender-mandate",
   "metadata": {},
   "outputs": [],
   "source": []
  }
 ],
 "metadata": {
  "kernelspec": {
   "display_name": "Python 3",
   "language": "python",
   "name": "python3"
  },
  "language_info": {
   "codemirror_mode": {
    "name": "ipython",
    "version": 3
   },
   "file_extension": ".py",
   "mimetype": "text/x-python",
   "name": "python",
   "nbconvert_exporter": "python",
   "pygments_lexer": "ipython3",
   "version": "3.8.5"
  }
 },
 "nbformat": 4,
 "nbformat_minor": 5
}
