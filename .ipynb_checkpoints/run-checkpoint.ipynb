{
 "cells": [
  {
   "cell_type": "code",
   "execution_count": 1,
   "id": "f8ea0f86",
   "metadata": {},
   "outputs": [],
   "source": [
    "from download import *\n",
    "from processor import *"
   ]
  },
  {
   "cell_type": "code",
   "execution_count": 2,
   "id": "c01faf21",
   "metadata": {},
   "outputs": [
    {
     "data": {
      "text/plain": [
       "\"D = Download(fileformat='cif')\\nD.download_alignment()\\nD.download_table(reload=True)\\nD.download_pdbs(reload=True)\""
      ]
     },
     "execution_count": 2,
     "metadata": {},
     "output_type": "execute_result"
    }
   ],
   "source": [
    "\"\"\"D = Download(fileformat='cif')\n",
    "D.download_alignment()\n",
    "D.download_table(reload=True)\n",
    "D.download_pdbs(reload=True)\"\"\""
   ]
  },
  {
   "cell_type": "code",
   "execution_count": 3,
   "id": "d2e2076e",
   "metadata": {},
   "outputs": [],
   "source": [
    "p = CifProcessor()"
   ]
  },
  {
   "cell_type": "code",
   "execution_count": 4,
   "id": "e595e0ab",
   "metadata": {},
   "outputs": [],
   "source": [
    "p.read_pkl_metainfo()"
   ]
  },
  {
   "cell_type": "code",
   "execution_count": 5,
   "id": "56c538e1",
   "metadata": {},
   "outputs": [],
   "source": [
    "# p.del_pkl()   # ATTENTION!!! DO NOT RUN UNLESS YOU WANT TO CLEAN YOUR RAW FOLDER!"
   ]
  },
  {
   "cell_type": "code",
   "execution_count": 6,
   "id": "common-placement",
   "metadata": {},
   "outputs": [],
   "source": [
    "# p.make_metainfo(overwrite=True)  \n",
    "# this takes a very long time (30 minutes) since we query numberings and mappings\n",
    "# This should have a flag where we can select to update only mssing entries"
   ]
  },
  {
   "cell_type": "code",
   "execution_count": 7,
   "id": "verbal-advertising",
   "metadata": {},
   "outputs": [],
   "source": [
    "# p.to_pkl_metainfo()"
   ]
  },
  {
   "cell_type": "code",
   "execution_count": 8,
   "id": "b2f9983c",
   "metadata": {},
   "outputs": [],
   "source": [
    "# p.make_raws(overwrite=False)  # set overwrite to False to skip all processed samples"
   ]
  },
  {
   "cell_type": "code",
   "execution_count": 42,
   "id": "optical-hands",
   "metadata": {},
   "outputs": [],
   "source": [
    "p.read_pkl(mode='r', folder='data/processed/')"
   ]
  },
  {
   "cell_type": "code",
   "execution_count": 62,
   "id": "506a5b60",
   "metadata": {},
   "outputs": [
    {
     "name": "stderr",
     "output_type": "stream",
     "text": [
      "100%|████████████████████████████████████████████████████████████████████████████████████████████████████████████████████████████████████████████████████████████████████████████████████████████████████████████████████████████████████████████████████████████████████████████████████| 1/1 [00:00<00:00,  1.85it/s]\n",
      "  0%|                                                                                                                                                                                                                                                                                            | 0/1 [00:00<?, ?it/s]"
     ]
    },
    {
     "name": "stdout",
     "output_type": "stream",
     "text": [
      "assinging res_nums to gprot of 5WKT\n",
      "No mapping (no uniprot-seq) information found! ====> PRESUMABLY A MINI G!\n"
     ]
    },
    {
     "name": "stderr",
     "output_type": "stream",
     "text": [
      "100%|████████████████████████████████████████████████████████████████████████████████████████████████████████████████████████████████████████████████████████████████████████████████████████████████████████████████████████████████████████████████████████████████████████████████████| 1/1 [00:00<00:00,  2.72it/s]"
     ]
    },
    {
     "name": "stdout",
     "output_type": "stream",
     "text": [
      "                       entity_id chain_id  start  end  unp_end  unp_start  \\\n",
      "index                                                                       \n",
      "author_residue_number          1        B      1   10      349        340   \n",
      "author_insertion_code          1        B      1   10      349        340   \n",
      "residue_number                 1        B      1   10      349        340   \n",
      "\n",
      "                      struct_asym_id   PDB uniprot  \n",
      "index                                               \n",
      "author_residue_number              B  5WKT  P04695  \n",
      "author_insertion_code              B  5WKT  P04695  \n",
      "residue_number                     B  5WKT  P04695  \n",
      "5WKT unlabelled: 1\n",
      "label_seq_id 11\n",
      "assigning 11 of gprotein gen. number: G.H5.26\n"
     ]
    },
    {
     "name": "stderr",
     "output_type": "stream",
     "text": [
      "\n"
     ]
    }
   ],
   "source": [
    "p.assign_generic_numbers_r(f=p.table, pdb_ids='5WKT', overwrite=True, folder='data/processed/')\n",
    "p.assign_generic_numbers_g(f=p.table, pdb_ids='5WKT', overwrite=True, folder='data/processed/', fill_H5=True)"
   ]
  },
  {
   "cell_type": "code",
   "execution_count": 63,
   "id": "26bca589",
   "metadata": {},
   "outputs": [],
   "source": [
    "idx = p.dfl_list.index('5WKT')"
   ]
  },
  {
   "cell_type": "code",
   "execution_count": 64,
   "id": "94c1268a",
   "metadata": {},
   "outputs": [],
   "source": [
    "x = p.dfl[idx]"
   ]
  },
  {
   "cell_type": "code",
   "execution_count": 65,
   "id": "3373efc4",
   "metadata": {},
   "outputs": [
    {
     "data": {
      "text/html": [
       "<div>\n",
       "<style scoped>\n",
       "    .dataframe tbody tr th:only-of-type {\n",
       "        vertical-align: middle;\n",
       "    }\n",
       "\n",
       "    .dataframe tbody tr th {\n",
       "        vertical-align: top;\n",
       "    }\n",
       "\n",
       "    .dataframe thead th {\n",
       "        text-align: right;\n",
       "    }\n",
       "</style>\n",
       "<table border=\"1\" class=\"dataframe\">\n",
       "  <thead>\n",
       "    <tr style=\"text-align: right;\">\n",
       "      <th></th>\n",
       "      <th>PDB</th>\n",
       "      <th>group_PDB</th>\n",
       "      <th>auth_asym_id</th>\n",
       "      <th>label_asym_id</th>\n",
       "      <th>label_seq_id</th>\n",
       "      <th>auth_seq_id</th>\n",
       "      <th>label_comp_id</th>\n",
       "      <th>id</th>\n",
       "      <th>label_atom_id</th>\n",
       "      <th>type_symbol</th>\n",
       "      <th>...</th>\n",
       "      <th>identifier</th>\n",
       "      <th>label_comp_sid</th>\n",
       "      <th>label_2_uni</th>\n",
       "      <th>gen_pos</th>\n",
       "      <th>gen_pos1</th>\n",
       "      <th>gen_pos2</th>\n",
       "      <th>uniprot_comp_sid</th>\n",
       "      <th>gprot_pos</th>\n",
       "      <th>uniprot_comp_id</th>\n",
       "      <th>fam_comp_id</th>\n",
       "    </tr>\n",
       "  </thead>\n",
       "  <tbody>\n",
       "    <tr>\n",
       "      <th>2616</th>\n",
       "      <td>5WKT</td>\n",
       "      <td>ATOM</td>\n",
       "      <td>B</td>\n",
       "      <td>B</td>\n",
       "      <td>1</td>\n",
       "      <td>340</td>\n",
       "      <td>ILE</td>\n",
       "      <td>2617</td>\n",
       "      <td>CA</td>\n",
       "      <td>C</td>\n",
       "      <td>...</td>\n",
       "      <td>OPSD_BOVIN</td>\n",
       "      <td>I</td>\n",
       "      <td>340</td>\n",
       "      <td></td>\n",
       "      <td>0.0</td>\n",
       "      <td>0</td>\n",
       "      <td></td>\n",
       "      <td>G.H5.16</td>\n",
       "      <td>I</td>\n",
       "      <td>I</td>\n",
       "    </tr>\n",
       "    <tr>\n",
       "      <th>2624</th>\n",
       "      <td>5WKT</td>\n",
       "      <td>ATOM</td>\n",
       "      <td>B</td>\n",
       "      <td>B</td>\n",
       "      <td>2</td>\n",
       "      <td>341</td>\n",
       "      <td>LEU</td>\n",
       "      <td>2625</td>\n",
       "      <td>CA</td>\n",
       "      <td>C</td>\n",
       "      <td>...</td>\n",
       "      <td>OPSD_BOVIN</td>\n",
       "      <td>L</td>\n",
       "      <td>341</td>\n",
       "      <td></td>\n",
       "      <td>0.0</td>\n",
       "      <td>0</td>\n",
       "      <td></td>\n",
       "      <td>G.H5.17</td>\n",
       "      <td>K</td>\n",
       "      <td>K</td>\n",
       "    </tr>\n",
       "    <tr>\n",
       "      <th>2632</th>\n",
       "      <td>5WKT</td>\n",
       "      <td>ATOM</td>\n",
       "      <td>B</td>\n",
       "      <td>B</td>\n",
       "      <td>3</td>\n",
       "      <td>342</td>\n",
       "      <td>GLU</td>\n",
       "      <td>2633</td>\n",
       "      <td>CA</td>\n",
       "      <td>C</td>\n",
       "      <td>...</td>\n",
       "      <td>OPSD_BOVIN</td>\n",
       "      <td>E</td>\n",
       "      <td>342</td>\n",
       "      <td></td>\n",
       "      <td>0.0</td>\n",
       "      <td>0</td>\n",
       "      <td></td>\n",
       "      <td>G.H5.18</td>\n",
       "      <td>E</td>\n",
       "      <td>E</td>\n",
       "    </tr>\n",
       "    <tr>\n",
       "      <th>2641</th>\n",
       "      <td>5WKT</td>\n",
       "      <td>ATOM</td>\n",
       "      <td>B</td>\n",
       "      <td>B</td>\n",
       "      <td>4</td>\n",
       "      <td>343</td>\n",
       "      <td>ASN</td>\n",
       "      <td>2642</td>\n",
       "      <td>CA</td>\n",
       "      <td>C</td>\n",
       "      <td>...</td>\n",
       "      <td>OPSD_BOVIN</td>\n",
       "      <td>N</td>\n",
       "      <td>343</td>\n",
       "      <td></td>\n",
       "      <td>0.0</td>\n",
       "      <td>0</td>\n",
       "      <td></td>\n",
       "      <td>G.H5.19</td>\n",
       "      <td>N</td>\n",
       "      <td>N</td>\n",
       "    </tr>\n",
       "    <tr>\n",
       "      <th>2649</th>\n",
       "      <td>5WKT</td>\n",
       "      <td>ATOM</td>\n",
       "      <td>B</td>\n",
       "      <td>B</td>\n",
       "      <td>5</td>\n",
       "      <td>344</td>\n",
       "      <td>LEU</td>\n",
       "      <td>2650</td>\n",
       "      <td>CA</td>\n",
       "      <td>C</td>\n",
       "      <td>...</td>\n",
       "      <td>OPSD_BOVIN</td>\n",
       "      <td>L</td>\n",
       "      <td>344</td>\n",
       "      <td></td>\n",
       "      <td>0.0</td>\n",
       "      <td>0</td>\n",
       "      <td></td>\n",
       "      <td>G.H5.20</td>\n",
       "      <td>L</td>\n",
       "      <td>L</td>\n",
       "    </tr>\n",
       "    <tr>\n",
       "      <th>2657</th>\n",
       "      <td>5WKT</td>\n",
       "      <td>ATOM</td>\n",
       "      <td>B</td>\n",
       "      <td>B</td>\n",
       "      <td>6</td>\n",
       "      <td>345</td>\n",
       "      <td>LYS</td>\n",
       "      <td>2658</td>\n",
       "      <td>CA</td>\n",
       "      <td>C</td>\n",
       "      <td>...</td>\n",
       "      <td>OPSD_BOVIN</td>\n",
       "      <td>K</td>\n",
       "      <td>345</td>\n",
       "      <td></td>\n",
       "      <td>0.0</td>\n",
       "      <td>0</td>\n",
       "      <td></td>\n",
       "      <td>G.H5.21</td>\n",
       "      <td>K</td>\n",
       "      <td>K</td>\n",
       "    </tr>\n",
       "    <tr>\n",
       "      <th>2666</th>\n",
       "      <td>5WKT</td>\n",
       "      <td>ATOM</td>\n",
       "      <td>B</td>\n",
       "      <td>B</td>\n",
       "      <td>7</td>\n",
       "      <td>346</td>\n",
       "      <td>ASP</td>\n",
       "      <td>2667</td>\n",
       "      <td>CA</td>\n",
       "      <td>C</td>\n",
       "      <td>...</td>\n",
       "      <td>OPSD_BOVIN</td>\n",
       "      <td>D</td>\n",
       "      <td>346</td>\n",
       "      <td></td>\n",
       "      <td>0.0</td>\n",
       "      <td>0</td>\n",
       "      <td></td>\n",
       "      <td>G.H5.22</td>\n",
       "      <td>D</td>\n",
       "      <td>D</td>\n",
       "    </tr>\n",
       "    <tr>\n",
       "      <th>2674</th>\n",
       "      <td>5WKT</td>\n",
       "      <td>ATOM</td>\n",
       "      <td>B</td>\n",
       "      <td>B</td>\n",
       "      <td>8</td>\n",
       "      <td>347</td>\n",
       "      <td>VAL</td>\n",
       "      <td>2675</td>\n",
       "      <td>CA</td>\n",
       "      <td>C</td>\n",
       "      <td>...</td>\n",
       "      <td>OPSD_BOVIN</td>\n",
       "      <td>V</td>\n",
       "      <td>347</td>\n",
       "      <td></td>\n",
       "      <td>0.0</td>\n",
       "      <td>0</td>\n",
       "      <td></td>\n",
       "      <td>G.H5.23</td>\n",
       "      <td>C</td>\n",
       "      <td>C</td>\n",
       "    </tr>\n",
       "    <tr>\n",
       "      <th>2681</th>\n",
       "      <td>5WKT</td>\n",
       "      <td>ATOM</td>\n",
       "      <td>B</td>\n",
       "      <td>B</td>\n",
       "      <td>9</td>\n",
       "      <td>348</td>\n",
       "      <td>GLY</td>\n",
       "      <td>2682</td>\n",
       "      <td>CA</td>\n",
       "      <td>C</td>\n",
       "      <td>...</td>\n",
       "      <td>OPSD_BOVIN</td>\n",
       "      <td>G</td>\n",
       "      <td>348</td>\n",
       "      <td></td>\n",
       "      <td>0.0</td>\n",
       "      <td>0</td>\n",
       "      <td></td>\n",
       "      <td>G.H5.24</td>\n",
       "      <td>G</td>\n",
       "      <td>G</td>\n",
       "    </tr>\n",
       "    <tr>\n",
       "      <th>2685</th>\n",
       "      <td>5WKT</td>\n",
       "      <td>ATOM</td>\n",
       "      <td>B</td>\n",
       "      <td>B</td>\n",
       "      <td>10</td>\n",
       "      <td>349</td>\n",
       "      <td>LEU</td>\n",
       "      <td>2686</td>\n",
       "      <td>CA</td>\n",
       "      <td>C</td>\n",
       "      <td>...</td>\n",
       "      <td>OPSD_BOVIN</td>\n",
       "      <td>L</td>\n",
       "      <td>349</td>\n",
       "      <td></td>\n",
       "      <td>0.0</td>\n",
       "      <td>0</td>\n",
       "      <td></td>\n",
       "      <td>G.H5.25</td>\n",
       "      <td>L</td>\n",
       "      <td>L</td>\n",
       "    </tr>\n",
       "    <tr>\n",
       "      <th>2693</th>\n",
       "      <td>5WKT</td>\n",
       "      <td>ATOM</td>\n",
       "      <td>B</td>\n",
       "      <td>B</td>\n",
       "      <td>11</td>\n",
       "      <td>350</td>\n",
       "      <td>PHE</td>\n",
       "      <td>2694</td>\n",
       "      <td>CA</td>\n",
       "      <td>C</td>\n",
       "      <td>...</td>\n",
       "      <td>OPSD_BOVIN</td>\n",
       "      <td>F</td>\n",
       "      <td>0</td>\n",
       "      <td></td>\n",
       "      <td>0.0</td>\n",
       "      <td>0</td>\n",
       "      <td></td>\n",
       "      <td>G.H5.26</td>\n",
       "      <td></td>\n",
       "      <td></td>\n",
       "    </tr>\n",
       "  </tbody>\n",
       "</table>\n",
       "<p>11 rows × 26 columns</p>\n",
       "</div>"
      ],
      "text/plain": [
       "       PDB group_PDB auth_asym_id label_asym_id  label_seq_id auth_seq_id  \\\n",
       "2616  5WKT      ATOM            B             B             1         340   \n",
       "2624  5WKT      ATOM            B             B             2         341   \n",
       "2632  5WKT      ATOM            B             B             3         342   \n",
       "2641  5WKT      ATOM            B             B             4         343   \n",
       "2649  5WKT      ATOM            B             B             5         344   \n",
       "2657  5WKT      ATOM            B             B             6         345   \n",
       "2666  5WKT      ATOM            B             B             7         346   \n",
       "2674  5WKT      ATOM            B             B             8         347   \n",
       "2681  5WKT      ATOM            B             B             9         348   \n",
       "2685  5WKT      ATOM            B             B            10         349   \n",
       "2693  5WKT      ATOM            B             B            11         350   \n",
       "\n",
       "     label_comp_id    id label_atom_id type_symbol  ...  identifier  \\\n",
       "2616           ILE  2617            CA           C  ...  OPSD_BOVIN   \n",
       "2624           LEU  2625            CA           C  ...  OPSD_BOVIN   \n",
       "2632           GLU  2633            CA           C  ...  OPSD_BOVIN   \n",
       "2641           ASN  2642            CA           C  ...  OPSD_BOVIN   \n",
       "2649           LEU  2650            CA           C  ...  OPSD_BOVIN   \n",
       "2657           LYS  2658            CA           C  ...  OPSD_BOVIN   \n",
       "2666           ASP  2667            CA           C  ...  OPSD_BOVIN   \n",
       "2674           VAL  2675            CA           C  ...  OPSD_BOVIN   \n",
       "2681           GLY  2682            CA           C  ...  OPSD_BOVIN   \n",
       "2685           LEU  2686            CA           C  ...  OPSD_BOVIN   \n",
       "2693           PHE  2694            CA           C  ...  OPSD_BOVIN   \n",
       "\n",
       "     label_comp_sid label_2_uni  gen_pos  gen_pos1  gen_pos2 uniprot_comp_sid  \\\n",
       "2616              I         340                0.0         0                    \n",
       "2624              L         341                0.0         0                    \n",
       "2632              E         342                0.0         0                    \n",
       "2641              N         343                0.0         0                    \n",
       "2649              L         344                0.0         0                    \n",
       "2657              K         345                0.0         0                    \n",
       "2666              D         346                0.0         0                    \n",
       "2674              V         347                0.0         0                    \n",
       "2681              G         348                0.0         0                    \n",
       "2685              L         349                0.0         0                    \n",
       "2693              F           0                0.0         0                    \n",
       "\n",
       "     gprot_pos  uniprot_comp_id fam_comp_id  \n",
       "2616   G.H5.16                I           I  \n",
       "2624   G.H5.17                K           K  \n",
       "2632   G.H5.18                E           E  \n",
       "2641   G.H5.19                N           N  \n",
       "2649   G.H5.20                L           L  \n",
       "2657   G.H5.21                K           K  \n",
       "2666   G.H5.22                D           D  \n",
       "2674   G.H5.23                C           C  \n",
       "2681   G.H5.24                G           G  \n",
       "2685   G.H5.25                L           L  \n",
       "2693   G.H5.26                               \n",
       "\n",
       "[11 rows x 26 columns]"
      ]
     },
     "execution_count": 65,
     "metadata": {},
     "output_type": "execute_result"
    }
   ],
   "source": [
    "x[x['gprot_pos']!='']"
   ]
  },
  {
   "cell_type": "code",
   "execution_count": 66,
   "id": "fourth-cabinet",
   "metadata": {},
   "outputs": [],
   "source": [
    "idx = p.dfl_list.index('4X1H')"
   ]
  },
  {
   "cell_type": "code",
   "execution_count": 55,
   "id": "regulation-shore",
   "metadata": {},
   "outputs": [],
   "source": [
    "eg=idx"
   ]
  },
  {
   "cell_type": "code",
   "execution_count": 56,
   "id": "residential-resolution",
   "metadata": {},
   "outputs": [],
   "source": [
    "x = p.dfl[eg]"
   ]
  },
  {
   "cell_type": "code",
   "execution_count": 57,
   "id": "technical-personality",
   "metadata": {},
   "outputs": [
    {
     "data": {
      "text/plain": [
       "'4AMI'"
      ]
     },
     "execution_count": 57,
     "metadata": {},
     "output_type": "execute_result"
    }
   ],
   "source": [
    "p.dfl_list[eg]"
   ]
  },
  {
   "cell_type": "code",
   "execution_count": 61,
   "id": "universal-denial",
   "metadata": {},
   "outputs": [
    {
     "data": {
      "text/html": [
       "<div>\n",
       "<style scoped>\n",
       "    .dataframe tbody tr th:only-of-type {\n",
       "        vertical-align: middle;\n",
       "    }\n",
       "\n",
       "    .dataframe tbody tr th {\n",
       "        vertical-align: top;\n",
       "    }\n",
       "\n",
       "    .dataframe thead th {\n",
       "        text-align: right;\n",
       "    }\n",
       "</style>\n",
       "<table border=\"1\" class=\"dataframe\">\n",
       "  <thead>\n",
       "    <tr style=\"text-align: right;\">\n",
       "      <th></th>\n",
       "      <th>PDB</th>\n",
       "      <th>group_PDB</th>\n",
       "      <th>auth_asym_id</th>\n",
       "      <th>label_asym_id</th>\n",
       "      <th>label_seq_id</th>\n",
       "      <th>auth_seq_id</th>\n",
       "      <th>label_comp_id</th>\n",
       "      <th>id</th>\n",
       "      <th>label_atom_id</th>\n",
       "      <th>type_symbol</th>\n",
       "      <th>...</th>\n",
       "      <th>phi</th>\n",
       "      <th>omega</th>\n",
       "      <th>psi</th>\n",
       "      <th>identifier</th>\n",
       "      <th>label_comp_sid</th>\n",
       "      <th>label_2_uni</th>\n",
       "      <th>gen_pos</th>\n",
       "      <th>gen_pos1</th>\n",
       "      <th>gen_pos2</th>\n",
       "      <th>uniprot_comp_sid</th>\n",
       "    </tr>\n",
       "  </thead>\n",
       "  <tbody>\n",
       "    <tr>\n",
       "      <th>1</th>\n",
       "      <td>4AMI</td>\n",
       "      <td>ATOM</td>\n",
       "      <td>A</td>\n",
       "      <td>A</td>\n",
       "      <td>3</td>\n",
       "      <td>33</td>\n",
       "      <td>ALA</td>\n",
       "      <td>2</td>\n",
       "      <td>CA</td>\n",
       "      <td>C</td>\n",
       "      <td>...</td>\n",
       "      <td>NaN</td>\n",
       "      <td>177.655136</td>\n",
       "      <td>-40.559505</td>\n",
       "      <td>ADRB1_MELGA</td>\n",
       "      <td>A</td>\n",
       "      <td>35</td>\n",
       "      <td>1.26x26?</td>\n",
       "      <td>1.26</td>\n",
       "      <td>26</td>\n",
       "      <td>L</td>\n",
       "    </tr>\n",
       "    <tr>\n",
       "      <th>6</th>\n",
       "      <td>4AMI</td>\n",
       "      <td>ATOM</td>\n",
       "      <td>A</td>\n",
       "      <td>A</td>\n",
       "      <td>4</td>\n",
       "      <td>34</td>\n",
       "      <td>GLU</td>\n",
       "      <td>7</td>\n",
       "      <td>CA</td>\n",
       "      <td>C</td>\n",
       "      <td>...</td>\n",
       "      <td>-67.371165</td>\n",
       "      <td>175.238435</td>\n",
       "      <td>-31.555001</td>\n",
       "      <td>ADRB1_MELGA</td>\n",
       "      <td>E</td>\n",
       "      <td>36</td>\n",
       "      <td>1.27x27?</td>\n",
       "      <td>1.27</td>\n",
       "      <td>27</td>\n",
       "      <td>L</td>\n",
       "    </tr>\n",
       "    <tr>\n",
       "      <th>15</th>\n",
       "      <td>4AMI</td>\n",
       "      <td>ATOM</td>\n",
       "      <td>A</td>\n",
       "      <td>A</td>\n",
       "      <td>5</td>\n",
       "      <td>35</td>\n",
       "      <td>LEU</td>\n",
       "      <td>16</td>\n",
       "      <td>CA</td>\n",
       "      <td>C</td>\n",
       "      <td>...</td>\n",
       "      <td>-75.408606</td>\n",
       "      <td>174.290698</td>\n",
       "      <td>-35.825821</td>\n",
       "      <td>ADRB1_MELGA</td>\n",
       "      <td>L</td>\n",
       "      <td>37</td>\n",
       "      <td>1.28x28?</td>\n",
       "      <td>1.28</td>\n",
       "      <td>28</td>\n",
       "      <td>S</td>\n",
       "    </tr>\n",
       "    <tr>\n",
       "      <th>23</th>\n",
       "      <td>4AMI</td>\n",
       "      <td>ATOM</td>\n",
       "      <td>A</td>\n",
       "      <td>A</td>\n",
       "      <td>6</td>\n",
       "      <td>36</td>\n",
       "      <td>LEU</td>\n",
       "      <td>24</td>\n",
       "      <td>CA</td>\n",
       "      <td>C</td>\n",
       "      <td>...</td>\n",
       "      <td>-62.296011</td>\n",
       "      <td>176.699496</td>\n",
       "      <td>-35.573384</td>\n",
       "      <td>ADRB1_MELGA</td>\n",
       "      <td>L</td>\n",
       "      <td>38</td>\n",
       "      <td>1.29x29?</td>\n",
       "      <td>1.29</td>\n",
       "      <td>29</td>\n",
       "      <td>Q</td>\n",
       "    </tr>\n",
       "    <tr>\n",
       "      <th>31</th>\n",
       "      <td>4AMI</td>\n",
       "      <td>ATOM</td>\n",
       "      <td>A</td>\n",
       "      <td>A</td>\n",
       "      <td>7</td>\n",
       "      <td>37</td>\n",
       "      <td>SER</td>\n",
       "      <td>32</td>\n",
       "      <td>CA</td>\n",
       "      <td>C</td>\n",
       "      <td>...</td>\n",
       "      <td>-73.935775</td>\n",
       "      <td>-179.137981</td>\n",
       "      <td>-40.782647</td>\n",
       "      <td>ADRB1_MELGA</td>\n",
       "      <td>S</td>\n",
       "      <td>39</td>\n",
       "      <td>1.30x30?</td>\n",
       "      <td>1.30</td>\n",
       "      <td>30</td>\n",
       "      <td>Q</td>\n",
       "    </tr>\n",
       "    <tr>\n",
       "      <th>...</th>\n",
       "      <td>...</td>\n",
       "      <td>...</td>\n",
       "      <td>...</td>\n",
       "      <td>...</td>\n",
       "      <td>...</td>\n",
       "      <td>...</td>\n",
       "      <td>...</td>\n",
       "      <td>...</td>\n",
       "      <td>...</td>\n",
       "      <td>...</td>\n",
       "      <td>...</td>\n",
       "      <td>...</td>\n",
       "      <td>...</td>\n",
       "      <td>...</td>\n",
       "      <td>...</td>\n",
       "      <td>...</td>\n",
       "      <td>...</td>\n",
       "      <td>...</td>\n",
       "      <td>...</td>\n",
       "      <td>...</td>\n",
       "      <td>...</td>\n",
       "    </tr>\n",
       "    <tr>\n",
       "      <th>2181</th>\n",
       "      <td>4AMI</td>\n",
       "      <td>ATOM</td>\n",
       "      <td>A</td>\n",
       "      <td>A</td>\n",
       "      <td>294</td>\n",
       "      <td>352</td>\n",
       "      <td>ALA</td>\n",
       "      <td>2182</td>\n",
       "      <td>CA</td>\n",
       "      <td>C</td>\n",
       "      <td>...</td>\n",
       "      <td>-69.802393</td>\n",
       "      <td>174.907471</td>\n",
       "      <td>-32.444711</td>\n",
       "      <td>ADRB1_MELGA</td>\n",
       "      <td>A</td>\n",
       "      <td>354</td>\n",
       "      <td>8.55x55?</td>\n",
       "      <td>8.55</td>\n",
       "      <td>55</td>\n",
       "      <td>K</td>\n",
       "    </tr>\n",
       "    <tr>\n",
       "      <th>2186</th>\n",
       "      <td>4AMI</td>\n",
       "      <td>ATOM</td>\n",
       "      <td>A</td>\n",
       "      <td>A</td>\n",
       "      <td>295</td>\n",
       "      <td>353</td>\n",
       "      <td>PHE</td>\n",
       "      <td>2187</td>\n",
       "      <td>CA</td>\n",
       "      <td>C</td>\n",
       "      <td>...</td>\n",
       "      <td>-66.696335</td>\n",
       "      <td>-179.603900</td>\n",
       "      <td>-47.133735</td>\n",
       "      <td>ADRB1_MELGA</td>\n",
       "      <td>F</td>\n",
       "      <td>355</td>\n",
       "      <td>8.56x56?</td>\n",
       "      <td>8.56</td>\n",
       "      <td>56</td>\n",
       "      <td>R</td>\n",
       "    </tr>\n",
       "    <tr>\n",
       "      <th>2197</th>\n",
       "      <td>4AMI</td>\n",
       "      <td>ATOM</td>\n",
       "      <td>A</td>\n",
       "      <td>A</td>\n",
       "      <td>296</td>\n",
       "      <td>354</td>\n",
       "      <td>LYS</td>\n",
       "      <td>2198</td>\n",
       "      <td>CA</td>\n",
       "      <td>C</td>\n",
       "      <td>...</td>\n",
       "      <td>-62.364721</td>\n",
       "      <td>177.812671</td>\n",
       "      <td>-39.136615</td>\n",
       "      <td>ADRB1_MELGA</td>\n",
       "      <td>K</td>\n",
       "      <td>356</td>\n",
       "      <td>8.57x57?</td>\n",
       "      <td>8.57</td>\n",
       "      <td>57</td>\n",
       "      <td>L</td>\n",
       "    </tr>\n",
       "    <tr>\n",
       "      <th>2206</th>\n",
       "      <td>4AMI</td>\n",
       "      <td>ATOM</td>\n",
       "      <td>A</td>\n",
       "      <td>A</td>\n",
       "      <td>297</td>\n",
       "      <td>355</td>\n",
       "      <td>ARG</td>\n",
       "      <td>2207</td>\n",
       "      <td>CA</td>\n",
       "      <td>C</td>\n",
       "      <td>...</td>\n",
       "      <td>-66.058535</td>\n",
       "      <td>-177.237411</td>\n",
       "      <td>-44.799353</td>\n",
       "      <td>ADRB1_MELGA</td>\n",
       "      <td>R</td>\n",
       "      <td>357</td>\n",
       "      <td>8.58x58?</td>\n",
       "      <td>8.58</td>\n",
       "      <td>58</td>\n",
       "      <td>L</td>\n",
       "    </tr>\n",
       "    <tr>\n",
       "      <th>2217</th>\n",
       "      <td>4AMI</td>\n",
       "      <td>ATOM</td>\n",
       "      <td>A</td>\n",
       "      <td>A</td>\n",
       "      <td>298</td>\n",
       "      <td>356</td>\n",
       "      <td>LEU</td>\n",
       "      <td>2218</td>\n",
       "      <td>CA</td>\n",
       "      <td>C</td>\n",
       "      <td>...</td>\n",
       "      <td>-66.931728</td>\n",
       "      <td>178.990031</td>\n",
       "      <td>-39.517695</td>\n",
       "      <td>ADRB1_MELGA</td>\n",
       "      <td>L</td>\n",
       "      <td>358</td>\n",
       "      <td>8.59x59?</td>\n",
       "      <td>8.59</td>\n",
       "      <td>59</td>\n",
       "      <td>C</td>\n",
       "    </tr>\n",
       "  </tbody>\n",
       "</table>\n",
       "<p>255 rows × 23 columns</p>\n",
       "</div>"
      ],
      "text/plain": [
       "       PDB group_PDB auth_asym_id label_asym_id  label_seq_id auth_seq_id  \\\n",
       "1     4AMI      ATOM            A             A             3          33   \n",
       "6     4AMI      ATOM            A             A             4          34   \n",
       "15    4AMI      ATOM            A             A             5          35   \n",
       "23    4AMI      ATOM            A             A             6          36   \n",
       "31    4AMI      ATOM            A             A             7          37   \n",
       "...    ...       ...          ...           ...           ...         ...   \n",
       "2181  4AMI      ATOM            A             A           294         352   \n",
       "2186  4AMI      ATOM            A             A           295         353   \n",
       "2197  4AMI      ATOM            A             A           296         354   \n",
       "2206  4AMI      ATOM            A             A           297         355   \n",
       "2217  4AMI      ATOM            A             A           298         356   \n",
       "\n",
       "     label_comp_id    id label_atom_id type_symbol  ...        phi  \\\n",
       "1              ALA     2            CA           C  ...        NaN   \n",
       "6              GLU     7            CA           C  ... -67.371165   \n",
       "15             LEU    16            CA           C  ... -75.408606   \n",
       "23             LEU    24            CA           C  ... -62.296011   \n",
       "31             SER    32            CA           C  ... -73.935775   \n",
       "...            ...   ...           ...         ...  ...        ...   \n",
       "2181           ALA  2182            CA           C  ... -69.802393   \n",
       "2186           PHE  2187            CA           C  ... -66.696335   \n",
       "2197           LYS  2198            CA           C  ... -62.364721   \n",
       "2206           ARG  2207            CA           C  ... -66.058535   \n",
       "2217           LEU  2218            CA           C  ... -66.931728   \n",
       "\n",
       "           omega        psi   identifier  label_comp_sid  label_2_uni  \\\n",
       "1     177.655136 -40.559505  ADRB1_MELGA               A           35   \n",
       "6     175.238435 -31.555001  ADRB1_MELGA               E           36   \n",
       "15    174.290698 -35.825821  ADRB1_MELGA               L           37   \n",
       "23    176.699496 -35.573384  ADRB1_MELGA               L           38   \n",
       "31   -179.137981 -40.782647  ADRB1_MELGA               S           39   \n",
       "...          ...        ...          ...             ...          ...   \n",
       "2181  174.907471 -32.444711  ADRB1_MELGA               A          354   \n",
       "2186 -179.603900 -47.133735  ADRB1_MELGA               F          355   \n",
       "2197  177.812671 -39.136615  ADRB1_MELGA               K          356   \n",
       "2206 -177.237411 -44.799353  ADRB1_MELGA               R          357   \n",
       "2217  178.990031 -39.517695  ADRB1_MELGA               L          358   \n",
       "\n",
       "       gen_pos gen_pos1  gen_pos2 uniprot_comp_sid  \n",
       "1     1.26x26?     1.26        26                L  \n",
       "6     1.27x27?     1.27        27                L  \n",
       "15    1.28x28?     1.28        28                S  \n",
       "23    1.29x29?     1.29        29                Q  \n",
       "31    1.30x30?     1.30        30                Q  \n",
       "...        ...      ...       ...              ...  \n",
       "2181  8.55x55?     8.55        55                K  \n",
       "2186  8.56x56?     8.56        56                R  \n",
       "2197  8.57x57?     8.57        57                L  \n",
       "2206  8.58x58?     8.58        58                L  \n",
       "2217  8.59x59?     8.59        59                C  \n",
       "\n",
       "[255 rows x 23 columns]"
      ]
     },
     "execution_count": 61,
     "metadata": {},
     "output_type": "execute_result"
    }
   ],
   "source": [
    "x[x['gen_pos']!='']"
   ]
  },
  {
   "cell_type": "code",
   "execution_count": 59,
   "id": "588b04fe",
   "metadata": {},
   "outputs": [],
   "source": [
    "p.allow_exception=False"
   ]
  },
  {
   "cell_type": "code",
   "execution_count": 23,
   "id": "gorgeous-floor",
   "metadata": {},
   "outputs": [],
   "source": [
    "# p.dfl[52].drop(['gprot_pos', 'uniprot_comp_id', 'fam_comp_id'], axis=1)"
   ]
  },
  {
   "cell_type": "code",
   "execution_count": 24,
   "id": "83899ee8",
   "metadata": {},
   "outputs": [
    {
     "data": {
      "text/html": [
       "<div>\n",
       "<style scoped>\n",
       "    .dataframe tbody tr th:only-of-type {\n",
       "        vertical-align: middle;\n",
       "    }\n",
       "\n",
       "    .dataframe tbody tr th {\n",
       "        vertical-align: top;\n",
       "    }\n",
       "\n",
       "    .dataframe thead th {\n",
       "        text-align: right;\n",
       "    }\n",
       "</style>\n",
       "<table border=\"1\" class=\"dataframe\">\n",
       "  <thead>\n",
       "    <tr style=\"text-align: right;\">\n",
       "      <th></th>\n",
       "      <th>identifier</th>\n",
       "      <th>name</th>\n",
       "      <th>mappings</th>\n",
       "      <th>PDB</th>\n",
       "      <th>uniprot</th>\n",
       "    </tr>\n",
       "  </thead>\n",
       "  <tbody>\n",
       "    <tr>\n",
       "      <th>624</th>\n",
       "      <td>5HT2A_HUMAN</td>\n",
       "      <td>5HT2A_HUMAN</td>\n",
       "      <td>{'entity_id': 1, 'chain_id': 'A', 'start': {'a...</td>\n",
       "      <td>6WHA</td>\n",
       "      <td>P28223</td>\n",
       "    </tr>\n",
       "    <tr>\n",
       "      <th>625</th>\n",
       "      <td>GBB1_HUMAN</td>\n",
       "      <td>GBB1_HUMAN</td>\n",
       "      <td>{'entity_id': 3, 'chain_id': 'C', 'start': {'a...</td>\n",
       "      <td>6WHA</td>\n",
       "      <td>P62873</td>\n",
       "    </tr>\n",
       "    <tr>\n",
       "      <th>626</th>\n",
       "      <td>C562_ECOLX</td>\n",
       "      <td>C562_ECOLX</td>\n",
       "      <td>{'entity_id': 1, 'chain_id': 'A', 'start': {'a...</td>\n",
       "      <td>6WHA</td>\n",
       "      <td>P0ABE7</td>\n",
       "    </tr>\n",
       "    <tr>\n",
       "      <th>627</th>\n",
       "      <td>GBG2_HUMAN</td>\n",
       "      <td>GBG2_HUMAN</td>\n",
       "      <td>{'entity_id': 4, 'chain_id': 'D', 'start': {'a...</td>\n",
       "      <td>6WHA</td>\n",
       "      <td>P59768</td>\n",
       "    </tr>\n",
       "  </tbody>\n",
       "</table>\n",
       "</div>"
      ],
      "text/plain": [
       "      identifier         name  \\\n",
       "624  5HT2A_HUMAN  5HT2A_HUMAN   \n",
       "625   GBB1_HUMAN   GBB1_HUMAN   \n",
       "626   C562_ECOLX   C562_ECOLX   \n",
       "627   GBG2_HUMAN   GBG2_HUMAN   \n",
       "\n",
       "                                              mappings   PDB uniprot  \n",
       "624  {'entity_id': 1, 'chain_id': 'A', 'start': {'a...  6WHA  P28223  \n",
       "625  {'entity_id': 3, 'chain_id': 'C', 'start': {'a...  6WHA  P62873  \n",
       "626  {'entity_id': 1, 'chain_id': 'A', 'start': {'a...  6WHA  P0ABE7  \n",
       "627  {'entity_id': 4, 'chain_id': 'D', 'start': {'a...  6WHA  P59768  "
      ]
     },
     "execution_count": 24,
     "metadata": {},
     "output_type": "execute_result"
    }
   ],
   "source": [
    "p.mappings[p.mappings['PDB']=='6WHA']"
   ]
  },
  {
   "cell_type": "code",
   "execution_count": 76,
   "id": "ad419b79",
   "metadata": {},
   "outputs": [],
   "source": [
    "pdb = '7DFL'"
   ]
  },
  {
   "cell_type": "code",
   "execution_count": 77,
   "id": "4437e013",
   "metadata": {},
   "outputs": [
    {
     "name": "stderr",
     "output_type": "stream",
     "text": [
      "\r",
      "  0%|                                                                                                                                                                                                                                                                                            | 0/1 [00:00<?, ?it/s]"
     ]
    },
    {
     "name": "stdout",
     "output_type": "stream",
     "text": [
      "assinging res_nums to gprot of 7DFL\n",
      "No mapping (no uniprot-seq) information found! ====> PRESUMABLY A MINI G!\n",
      "                       entity_id chain_id  start  end  unp_end  unp_start  \\\n",
      "index                                                                       \n",
      "author_residue_number          1        A      1   54       56          3   \n",
      "author_insertion_code          1        A      1   54       56          3   \n",
      "residue_number                 1        A      1   54       56          3   \n",
      "author_residue_number          1        A     56  236      235        181   \n",
      "author_insertion_code          1        A     56  236      235        181   \n",
      "residue_number                 1        A     56  236      235        181   \n",
      "author_residue_number          1        A    238  296      299        241   \n",
      "author_insertion_code          1        A    238  296      299        241   \n",
      "residue_number                 1        A    238  296      299        241   \n",
      "author_residue_number          1        A    299  312      315        302   \n",
      "author_insertion_code          1        A    299  312      315        302   \n",
      "residue_number                 1        A    299  312      315        302   \n",
      "author_residue_number          1        A    314  350      354        318   \n",
      "author_insertion_code          1        A    314  350      354        318   \n",
      "residue_number                 1        A    314  350      354        318   \n",
      "\n",
      "                      struct_asym_id   PDB uniprot  \n",
      "index                                               \n",
      "author_residue_number              A  7DFL  P63096  \n",
      "author_insertion_code              A  7DFL  P63096  \n",
      "residue_number                     A  7DFL  P63096  \n",
      "author_residue_number              A  7DFL  P63096  \n",
      "author_insertion_code              A  7DFL  P63096  \n",
      "residue_number                     A  7DFL  P63096  \n",
      "author_residue_number              A  7DFL  P63096  \n",
      "author_insertion_code              A  7DFL  P63096  \n",
      "residue_number                     A  7DFL  P63096  \n",
      "author_residue_number              A  7DFL  P63096  \n",
      "author_insertion_code              A  7DFL  P63096  \n",
      "residue_number                     A  7DFL  P63096  \n",
      "author_residue_number              A  7DFL  P63096  \n",
      "author_insertion_code              A  7DFL  P63096  \n",
      "residue_number                     A  7DFL  P63096  \n"
     ]
    },
    {
     "name": "stderr",
     "output_type": "stream",
     "text": [
      "  0%|                                                                                                                                                                                                                                                                                            | 0/1 [00:01<?, ?it/s]\n"
     ]
    },
    {
     "ename": "IndexError",
     "evalue": "single positional indexer is out-of-bounds",
     "output_type": "error",
     "traceback": [
      "\u001b[1;31m---------------------------------------------------------------------------\u001b[0m",
      "\u001b[1;31mIndexError\u001b[0m                                Traceback (most recent call last)",
      "\u001b[1;32m<ipython-input-77-bc60414ff98c>\u001b[0m in \u001b[0;36m<module>\u001b[1;34m\u001b[0m\n\u001b[1;32m----> 1\u001b[1;33m \u001b[0mp\u001b[0m\u001b[1;33m.\u001b[0m\u001b[0massign_generic_numbers_g\u001b[0m\u001b[1;33m(\u001b[0m\u001b[0mf\u001b[0m\u001b[1;33m=\u001b[0m\u001b[0mp\u001b[0m\u001b[1;33m.\u001b[0m\u001b[0mtable\u001b[0m\u001b[1;33m,\u001b[0m \u001b[0mpdb_ids\u001b[0m\u001b[1;33m=\u001b[0m\u001b[0mpdb\u001b[0m\u001b[1;33m,\u001b[0m \u001b[0mfill_H5\u001b[0m\u001b[1;33m=\u001b[0m\u001b[1;32mTrue\u001b[0m\u001b[1;33m,\u001b[0m \u001b[0moverwrite\u001b[0m\u001b[1;33m=\u001b[0m\u001b[1;32mTrue\u001b[0m\u001b[1;33m)\u001b[0m\u001b[1;33m\u001b[0m\u001b[1;33m\u001b[0m\u001b[0m\n\u001b[0m",
      "\u001b[1;32m~\\PycharmProjects\\mt\\processor.py\u001b[0m in \u001b[0;36massign_generic_numbers_g\u001b[1;34m(self, f, pdb_ids, overwrite, folder, fill_H5)\u001b[0m\n\u001b[0;32m   1044\u001b[0m                 \u001b[0mpdb_id\u001b[0m \u001b[1;33m=\u001b[0m \u001b[0mself\u001b[0m\u001b[1;33m.\u001b[0m\u001b[0mdfl_list\u001b[0m\u001b[1;33m[\u001b[0m\u001b[0mdfl_list_f_indices\u001b[0m\u001b[1;33m[\u001b[0m\u001b[0mi\u001b[0m\u001b[1;33m]\u001b[0m\u001b[1;33m]\u001b[0m\u001b[1;33m\u001b[0m\u001b[1;33m\u001b[0m\u001b[0m\n\u001b[0;32m   1045\u001b[0m                 \u001b[0mstructure\u001b[0m \u001b[1;33m=\u001b[0m \u001b[0mself\u001b[0m\u001b[1;33m.\u001b[0m\u001b[0mdfl\u001b[0m\u001b[1;33m[\u001b[0m\u001b[0mdfl_list_f_indices\u001b[0m\u001b[1;33m[\u001b[0m\u001b[0mi\u001b[0m\u001b[1;33m]\u001b[0m\u001b[1;33m]\u001b[0m\u001b[1;33m\u001b[0m\u001b[1;33m\u001b[0m\u001b[0m\n\u001b[1;32m-> 1046\u001b[1;33m                 s = self._assign_res_nums_g(pdb_id,\n\u001b[0m\u001b[0;32m   1047\u001b[0m                                             \u001b[0mself\u001b[0m\u001b[1;33m.\u001b[0m\u001b[0mmappings\u001b[0m\u001b[1;33m[\u001b[0m\u001b[0mself\u001b[0m\u001b[1;33m.\u001b[0m\u001b[0mmappings\u001b[0m\u001b[1;33m[\u001b[0m\u001b[1;34m'PDB'\u001b[0m\u001b[1;33m]\u001b[0m\u001b[1;33m==\u001b[0m\u001b[0mpdb_id\u001b[0m\u001b[1;33m]\u001b[0m\u001b[1;33m,\u001b[0m\u001b[1;33m\u001b[0m\u001b[1;33m\u001b[0m\u001b[0m\n\u001b[0;32m   1048\u001b[0m                                             \u001b[0mstructure\u001b[0m\u001b[1;33m,\u001b[0m\u001b[1;33m\u001b[0m\u001b[1;33m\u001b[0m\u001b[0m\n",
      "\u001b[1;32m~\\PycharmProjects\\mt\\processor.py\u001b[0m in \u001b[0;36m_assign_res_nums_g\u001b[1;34m(self, pdb_id, mappings, structure, uniprot_gprot_list, gprot_df, res_table, fill_H5)\u001b[0m\n\u001b[0;32m    962\u001b[0m                         \u001b[0mstructure\u001b[0m\u001b[1;33m.\u001b[0m\u001b[0mat\u001b[0m\u001b[1;33m[\u001b[0m\u001b[0mline\u001b[0m\u001b[1;33m.\u001b[0m\u001b[0mindex\u001b[0m\u001b[1;33m[\u001b[0m\u001b[1;36m0\u001b[0m\u001b[1;33m]\u001b[0m\u001b[1;33m,\u001b[0m \u001b[1;34m'label_2_uni'\u001b[0m\u001b[1;33m]\u001b[0m \u001b[1;33m=\u001b[0m \u001b[0midx_uni\u001b[0m \u001b[1;33m+\u001b[0m \u001b[1;36m1\u001b[0m\u001b[1;33m\u001b[0m\u001b[1;33m\u001b[0m\u001b[0m\n\u001b[0;32m    963\u001b[0m                         \u001b[1;32mif\u001b[0m \u001b[0mline\u001b[0m\u001b[1;33m[\u001b[0m\u001b[1;34m'label_2_uni'\u001b[0m\u001b[1;33m]\u001b[0m\u001b[1;33m.\u001b[0m\u001b[0miloc\u001b[0m\u001b[1;33m[\u001b[0m\u001b[1;36m0\u001b[0m\u001b[1;33m]\u001b[0m \u001b[1;32min\u001b[0m \u001b[0mlist\u001b[0m\u001b[1;33m(\u001b[0m\u001b[0mcgn_df\u001b[0m\u001b[1;33m.\u001b[0m\u001b[0mindex\u001b[0m\u001b[1;33m)\u001b[0m\u001b[1;33m:\u001b[0m\u001b[1;33m\u001b[0m\u001b[1;33m\u001b[0m\u001b[0m\n\u001b[1;32m--> 964\u001b[1;33m                             \u001b[0mstructure\u001b[0m\u001b[1;33m.\u001b[0m\u001b[0mat\u001b[0m\u001b[1;33m[\u001b[0m\u001b[0mline\u001b[0m\u001b[1;33m.\u001b[0m\u001b[0mindex\u001b[0m\u001b[1;33m[\u001b[0m\u001b[1;36m0\u001b[0m\u001b[1;33m]\u001b[0m\u001b[1;33m,\u001b[0m \u001b[1;34m'gprot_pos'\u001b[0m\u001b[1;33m]\u001b[0m \u001b[1;33m=\u001b[0m \u001b[0mcgn_df\u001b[0m\u001b[1;33m.\u001b[0m\u001b[0miloc\u001b[0m\u001b[1;33m[\u001b[0m\u001b[0midx_uni\u001b[0m\u001b[1;33m]\u001b[0m\u001b[1;33m[\u001b[0m\u001b[1;34m'cgn'\u001b[0m\u001b[1;33m]\u001b[0m\u001b[1;33m\u001b[0m\u001b[1;33m\u001b[0m\u001b[0m\n\u001b[0m\u001b[0;32m    965\u001b[0m                             \u001b[0mstructure\u001b[0m\u001b[1;33m.\u001b[0m\u001b[0mat\u001b[0m\u001b[1;33m[\u001b[0m\u001b[0mline\u001b[0m\u001b[1;33m.\u001b[0m\u001b[0mindex\u001b[0m\u001b[1;33m[\u001b[0m\u001b[1;36m0\u001b[0m\u001b[1;33m]\u001b[0m\u001b[1;33m,\u001b[0m \u001b[1;34m'uniprot_comp_id'\u001b[0m\u001b[1;33m]\u001b[0m \u001b[1;33m=\u001b[0m \u001b[0mcgn_df\u001b[0m\u001b[1;33m.\u001b[0m\u001b[0miloc\u001b[0m\u001b[1;33m[\u001b[0m\u001b[0midx_uni\u001b[0m\u001b[1;33m]\u001b[0m\u001b[1;33m[\u001b[0m\u001b[1;34m'seq_res'\u001b[0m\u001b[1;33m]\u001b[0m\u001b[1;33m\u001b[0m\u001b[1;33m\u001b[0m\u001b[0m\n\u001b[0;32m    966\u001b[0m                             \u001b[0mstructure\u001b[0m\u001b[1;33m.\u001b[0m\u001b[0mat\u001b[0m\u001b[1;33m[\u001b[0m\u001b[0mline\u001b[0m\u001b[1;33m.\u001b[0m\u001b[0mindex\u001b[0m\u001b[1;33m[\u001b[0m\u001b[1;36m0\u001b[0m\u001b[1;33m]\u001b[0m\u001b[1;33m,\u001b[0m \u001b[1;34m'fam_comp_id'\u001b[0m\u001b[1;33m]\u001b[0m \u001b[1;33m=\u001b[0m \u001b[0mcgn_df\u001b[0m\u001b[1;33m.\u001b[0m\u001b[0miloc\u001b[0m\u001b[1;33m[\u001b[0m\u001b[0midx_uni\u001b[0m\u001b[1;33m]\u001b[0m\u001b[1;33m[\u001b[0m\u001b[1;34m'fam_seq_res'\u001b[0m\u001b[1;33m]\u001b[0m\u001b[1;33m\u001b[0m\u001b[1;33m\u001b[0m\u001b[0m\n",
      "\u001b[1;32m~\\.conda\\envs\\mt\\lib\\site-packages\\pandas\\core\\indexing.py\u001b[0m in \u001b[0;36m__getitem__\u001b[1;34m(self, key)\u001b[0m\n\u001b[0;32m    893\u001b[0m \u001b[1;33m\u001b[0m\u001b[0m\n\u001b[0;32m    894\u001b[0m             \u001b[0mmaybe_callable\u001b[0m \u001b[1;33m=\u001b[0m \u001b[0mcom\u001b[0m\u001b[1;33m.\u001b[0m\u001b[0mapply_if_callable\u001b[0m\u001b[1;33m(\u001b[0m\u001b[0mkey\u001b[0m\u001b[1;33m,\u001b[0m \u001b[0mself\u001b[0m\u001b[1;33m.\u001b[0m\u001b[0mobj\u001b[0m\u001b[1;33m)\u001b[0m\u001b[1;33m\u001b[0m\u001b[1;33m\u001b[0m\u001b[0m\n\u001b[1;32m--> 895\u001b[1;33m             \u001b[1;32mreturn\u001b[0m \u001b[0mself\u001b[0m\u001b[1;33m.\u001b[0m\u001b[0m_getitem_axis\u001b[0m\u001b[1;33m(\u001b[0m\u001b[0mmaybe_callable\u001b[0m\u001b[1;33m,\u001b[0m \u001b[0maxis\u001b[0m\u001b[1;33m=\u001b[0m\u001b[0maxis\u001b[0m\u001b[1;33m)\u001b[0m\u001b[1;33m\u001b[0m\u001b[1;33m\u001b[0m\u001b[0m\n\u001b[0m\u001b[0;32m    896\u001b[0m \u001b[1;33m\u001b[0m\u001b[0m\n\u001b[0;32m    897\u001b[0m     \u001b[1;32mdef\u001b[0m \u001b[0m_is_scalar_access\u001b[0m\u001b[1;33m(\u001b[0m\u001b[0mself\u001b[0m\u001b[1;33m,\u001b[0m \u001b[0mkey\u001b[0m\u001b[1;33m:\u001b[0m \u001b[0mTuple\u001b[0m\u001b[1;33m)\u001b[0m\u001b[1;33m:\u001b[0m\u001b[1;33m\u001b[0m\u001b[1;33m\u001b[0m\u001b[0m\n",
      "\u001b[1;32m~\\.conda\\envs\\mt\\lib\\site-packages\\pandas\\core\\indexing.py\u001b[0m in \u001b[0;36m_getitem_axis\u001b[1;34m(self, key, axis)\u001b[0m\n\u001b[0;32m   1499\u001b[0m \u001b[1;33m\u001b[0m\u001b[0m\n\u001b[0;32m   1500\u001b[0m             \u001b[1;31m# validate the location\u001b[0m\u001b[1;33m\u001b[0m\u001b[1;33m\u001b[0m\u001b[1;33m\u001b[0m\u001b[0m\n\u001b[1;32m-> 1501\u001b[1;33m             \u001b[0mself\u001b[0m\u001b[1;33m.\u001b[0m\u001b[0m_validate_integer\u001b[0m\u001b[1;33m(\u001b[0m\u001b[0mkey\u001b[0m\u001b[1;33m,\u001b[0m \u001b[0maxis\u001b[0m\u001b[1;33m)\u001b[0m\u001b[1;33m\u001b[0m\u001b[1;33m\u001b[0m\u001b[0m\n\u001b[0m\u001b[0;32m   1502\u001b[0m \u001b[1;33m\u001b[0m\u001b[0m\n\u001b[0;32m   1503\u001b[0m             \u001b[1;32mreturn\u001b[0m \u001b[0mself\u001b[0m\u001b[1;33m.\u001b[0m\u001b[0mobj\u001b[0m\u001b[1;33m.\u001b[0m\u001b[0m_ixs\u001b[0m\u001b[1;33m(\u001b[0m\u001b[0mkey\u001b[0m\u001b[1;33m,\u001b[0m \u001b[0maxis\u001b[0m\u001b[1;33m=\u001b[0m\u001b[0maxis\u001b[0m\u001b[1;33m)\u001b[0m\u001b[1;33m\u001b[0m\u001b[1;33m\u001b[0m\u001b[0m\n",
      "\u001b[1;32m~\\.conda\\envs\\mt\\lib\\site-packages\\pandas\\core\\indexing.py\u001b[0m in \u001b[0;36m_validate_integer\u001b[1;34m(self, key, axis)\u001b[0m\n\u001b[0;32m   1442\u001b[0m         \u001b[0mlen_axis\u001b[0m \u001b[1;33m=\u001b[0m \u001b[0mlen\u001b[0m\u001b[1;33m(\u001b[0m\u001b[0mself\u001b[0m\u001b[1;33m.\u001b[0m\u001b[0mobj\u001b[0m\u001b[1;33m.\u001b[0m\u001b[0m_get_axis\u001b[0m\u001b[1;33m(\u001b[0m\u001b[0maxis\u001b[0m\u001b[1;33m)\u001b[0m\u001b[1;33m)\u001b[0m\u001b[1;33m\u001b[0m\u001b[1;33m\u001b[0m\u001b[0m\n\u001b[0;32m   1443\u001b[0m         \u001b[1;32mif\u001b[0m \u001b[0mkey\u001b[0m \u001b[1;33m>=\u001b[0m \u001b[0mlen_axis\u001b[0m \u001b[1;32mor\u001b[0m \u001b[0mkey\u001b[0m \u001b[1;33m<\u001b[0m \u001b[1;33m-\u001b[0m\u001b[0mlen_axis\u001b[0m\u001b[1;33m:\u001b[0m\u001b[1;33m\u001b[0m\u001b[1;33m\u001b[0m\u001b[0m\n\u001b[1;32m-> 1444\u001b[1;33m             \u001b[1;32mraise\u001b[0m \u001b[0mIndexError\u001b[0m\u001b[1;33m(\u001b[0m\u001b[1;34m\"single positional indexer is out-of-bounds\"\u001b[0m\u001b[1;33m)\u001b[0m\u001b[1;33m\u001b[0m\u001b[1;33m\u001b[0m\u001b[0m\n\u001b[0m\u001b[0;32m   1445\u001b[0m \u001b[1;33m\u001b[0m\u001b[0m\n\u001b[0;32m   1446\u001b[0m     \u001b[1;31m# -------------------------------------------------------------------\u001b[0m\u001b[1;33m\u001b[0m\u001b[1;33m\u001b[0m\u001b[1;33m\u001b[0m\u001b[0m\n",
      "\u001b[1;31mIndexError\u001b[0m: single positional indexer is out-of-bounds"
     ]
    }
   ],
   "source": [
    "p.assign_generic_numbers_g(f=p.table, pdb_ids=pdb, fill_H5=True, overwrite=True)"
   ]
  },
  {
   "cell_type": "code",
   "execution_count": 69,
   "id": "d5ad046d",
   "metadata": {},
   "outputs": [],
   "source": [
    "idx = p.dfl_list.index(pdb)"
   ]
  },
  {
   "cell_type": "code",
   "execution_count": 70,
   "id": "0bfd477b",
   "metadata": {},
   "outputs": [],
   "source": [
    "x = p.dfl[idx]"
   ]
  },
  {
   "cell_type": "code",
   "execution_count": 71,
   "id": "64a50c81",
   "metadata": {},
   "outputs": [
    {
     "data": {
      "text/html": [
       "<div>\n",
       "<style scoped>\n",
       "    .dataframe tbody tr th:only-of-type {\n",
       "        vertical-align: middle;\n",
       "    }\n",
       "\n",
       "    .dataframe tbody tr th {\n",
       "        vertical-align: top;\n",
       "    }\n",
       "\n",
       "    .dataframe thead th {\n",
       "        text-align: right;\n",
       "    }\n",
       "</style>\n",
       "<table border=\"1\" class=\"dataframe\">\n",
       "  <thead>\n",
       "    <tr style=\"text-align: right;\">\n",
       "      <th></th>\n",
       "      <th>PDB</th>\n",
       "      <th>group_PDB</th>\n",
       "      <th>auth_asym_id</th>\n",
       "      <th>label_asym_id</th>\n",
       "      <th>label_seq_id</th>\n",
       "      <th>auth_seq_id</th>\n",
       "      <th>label_comp_id</th>\n",
       "      <th>id</th>\n",
       "      <th>label_atom_id</th>\n",
       "      <th>type_symbol</th>\n",
       "      <th>...</th>\n",
       "      <th>identifier</th>\n",
       "      <th>label_comp_sid</th>\n",
       "      <th>label_2_uni</th>\n",
       "      <th>gen_pos</th>\n",
       "      <th>gen_pos1</th>\n",
       "      <th>gen_pos2</th>\n",
       "      <th>uniprot_comp_sid</th>\n",
       "      <th>gprot_pos</th>\n",
       "      <th>uniprot_comp_id</th>\n",
       "      <th>fam_comp_id</th>\n",
       "    </tr>\n",
       "  </thead>\n",
       "  <tbody>\n",
       "    <tr>\n",
       "      <th>0</th>\n",
       "      <td>6WHA</td>\n",
       "      <td>ATOM</td>\n",
       "      <td>A</td>\n",
       "      <td>A</td>\n",
       "      <td>177</td>\n",
       "      <td>84</td>\n",
       "      <td>VAL</td>\n",
       "      <td>1</td>\n",
       "      <td>N</td>\n",
       "      <td>N</td>\n",
       "      <td>...</td>\n",
       "      <td>5HT2A_HUMAN</td>\n",
       "      <td>V</td>\n",
       "      <td>0</td>\n",
       "      <td></td>\n",
       "      <td>0.00</td>\n",
       "      <td>0</td>\n",
       "      <td></td>\n",
       "      <td></td>\n",
       "      <td></td>\n",
       "      <td></td>\n",
       "    </tr>\n",
       "    <tr>\n",
       "      <th>1</th>\n",
       "      <td>6WHA</td>\n",
       "      <td>ATOM</td>\n",
       "      <td>A</td>\n",
       "      <td>A</td>\n",
       "      <td>177</td>\n",
       "      <td>84</td>\n",
       "      <td>VAL</td>\n",
       "      <td>2</td>\n",
       "      <td>CA</td>\n",
       "      <td>C</td>\n",
       "      <td>...</td>\n",
       "      <td>5HT2A_HUMAN</td>\n",
       "      <td>V</td>\n",
       "      <td>84</td>\n",
       "      <td>1.42x42</td>\n",
       "      <td>1.42</td>\n",
       "      <td>42</td>\n",
       "      <td>V</td>\n",
       "      <td></td>\n",
       "      <td></td>\n",
       "      <td></td>\n",
       "    </tr>\n",
       "    <tr>\n",
       "      <th>2</th>\n",
       "      <td>6WHA</td>\n",
       "      <td>ATOM</td>\n",
       "      <td>A</td>\n",
       "      <td>A</td>\n",
       "      <td>177</td>\n",
       "      <td>84</td>\n",
       "      <td>VAL</td>\n",
       "      <td>3</td>\n",
       "      <td>C</td>\n",
       "      <td>C</td>\n",
       "      <td>...</td>\n",
       "      <td>5HT2A_HUMAN</td>\n",
       "      <td>V</td>\n",
       "      <td>0</td>\n",
       "      <td></td>\n",
       "      <td>0.00</td>\n",
       "      <td>0</td>\n",
       "      <td></td>\n",
       "      <td></td>\n",
       "      <td></td>\n",
       "      <td></td>\n",
       "    </tr>\n",
       "    <tr>\n",
       "      <th>3</th>\n",
       "      <td>6WHA</td>\n",
       "      <td>ATOM</td>\n",
       "      <td>A</td>\n",
       "      <td>A</td>\n",
       "      <td>177</td>\n",
       "      <td>84</td>\n",
       "      <td>VAL</td>\n",
       "      <td>4</td>\n",
       "      <td>O</td>\n",
       "      <td>O</td>\n",
       "      <td>...</td>\n",
       "      <td>5HT2A_HUMAN</td>\n",
       "      <td>V</td>\n",
       "      <td>0</td>\n",
       "      <td></td>\n",
       "      <td>0.00</td>\n",
       "      <td>0</td>\n",
       "      <td></td>\n",
       "      <td></td>\n",
       "      <td></td>\n",
       "      <td></td>\n",
       "    </tr>\n",
       "    <tr>\n",
       "      <th>4</th>\n",
       "      <td>6WHA</td>\n",
       "      <td>ATOM</td>\n",
       "      <td>A</td>\n",
       "      <td>A</td>\n",
       "      <td>177</td>\n",
       "      <td>84</td>\n",
       "      <td>VAL</td>\n",
       "      <td>5</td>\n",
       "      <td>CB</td>\n",
       "      <td>C</td>\n",
       "      <td>...</td>\n",
       "      <td>5HT2A_HUMAN</td>\n",
       "      <td>V</td>\n",
       "      <td>0</td>\n",
       "      <td></td>\n",
       "      <td>0.00</td>\n",
       "      <td>0</td>\n",
       "      <td></td>\n",
       "      <td></td>\n",
       "      <td></td>\n",
       "      <td></td>\n",
       "    </tr>\n",
       "    <tr>\n",
       "      <th>...</th>\n",
       "      <td>...</td>\n",
       "      <td>...</td>\n",
       "      <td>...</td>\n",
       "      <td>...</td>\n",
       "      <td>...</td>\n",
       "      <td>...</td>\n",
       "      <td>...</td>\n",
       "      <td>...</td>\n",
       "      <td>...</td>\n",
       "      <td>...</td>\n",
       "      <td>...</td>\n",
       "      <td>...</td>\n",
       "      <td>...</td>\n",
       "      <td>...</td>\n",
       "      <td>...</td>\n",
       "      <td>...</td>\n",
       "      <td>...</td>\n",
       "      <td>...</td>\n",
       "      <td>...</td>\n",
       "      <td>...</td>\n",
       "      <td>...</td>\n",
       "    </tr>\n",
       "    <tr>\n",
       "      <th>7860</th>\n",
       "      <td>6WHA</td>\n",
       "      <td>ATOM</td>\n",
       "      <td>E</td>\n",
       "      <td>E</td>\n",
       "      <td>247</td>\n",
       "      <td>235</td>\n",
       "      <td>LEU</td>\n",
       "      <td>7861</td>\n",
       "      <td>O</td>\n",
       "      <td>O</td>\n",
       "      <td>...</td>\n",
       "      <td>5HT2A_HUMAN</td>\n",
       "      <td>L</td>\n",
       "      <td>0</td>\n",
       "      <td></td>\n",
       "      <td>0.00</td>\n",
       "      <td>0</td>\n",
       "      <td></td>\n",
       "      <td></td>\n",
       "      <td></td>\n",
       "      <td></td>\n",
       "    </tr>\n",
       "    <tr>\n",
       "      <th>7861</th>\n",
       "      <td>6WHA</td>\n",
       "      <td>ATOM</td>\n",
       "      <td>E</td>\n",
       "      <td>E</td>\n",
       "      <td>247</td>\n",
       "      <td>235</td>\n",
       "      <td>LEU</td>\n",
       "      <td>7862</td>\n",
       "      <td>CB</td>\n",
       "      <td>C</td>\n",
       "      <td>...</td>\n",
       "      <td>5HT2A_HUMAN</td>\n",
       "      <td>L</td>\n",
       "      <td>0</td>\n",
       "      <td></td>\n",
       "      <td>0.00</td>\n",
       "      <td>0</td>\n",
       "      <td></td>\n",
       "      <td></td>\n",
       "      <td></td>\n",
       "      <td></td>\n",
       "    </tr>\n",
       "    <tr>\n",
       "      <th>7862</th>\n",
       "      <td>6WHA</td>\n",
       "      <td>ATOM</td>\n",
       "      <td>E</td>\n",
       "      <td>E</td>\n",
       "      <td>247</td>\n",
       "      <td>235</td>\n",
       "      <td>LEU</td>\n",
       "      <td>7863</td>\n",
       "      <td>CG</td>\n",
       "      <td>C</td>\n",
       "      <td>...</td>\n",
       "      <td>5HT2A_HUMAN</td>\n",
       "      <td>L</td>\n",
       "      <td>0</td>\n",
       "      <td></td>\n",
       "      <td>0.00</td>\n",
       "      <td>0</td>\n",
       "      <td></td>\n",
       "      <td></td>\n",
       "      <td></td>\n",
       "      <td></td>\n",
       "    </tr>\n",
       "    <tr>\n",
       "      <th>7863</th>\n",
       "      <td>6WHA</td>\n",
       "      <td>ATOM</td>\n",
       "      <td>E</td>\n",
       "      <td>E</td>\n",
       "      <td>247</td>\n",
       "      <td>235</td>\n",
       "      <td>LEU</td>\n",
       "      <td>7864</td>\n",
       "      <td>CD1</td>\n",
       "      <td>C</td>\n",
       "      <td>...</td>\n",
       "      <td>5HT2A_HUMAN</td>\n",
       "      <td>L</td>\n",
       "      <td>0</td>\n",
       "      <td></td>\n",
       "      <td>0.00</td>\n",
       "      <td>0</td>\n",
       "      <td></td>\n",
       "      <td></td>\n",
       "      <td></td>\n",
       "      <td></td>\n",
       "    </tr>\n",
       "    <tr>\n",
       "      <th>7864</th>\n",
       "      <td>6WHA</td>\n",
       "      <td>ATOM</td>\n",
       "      <td>E</td>\n",
       "      <td>E</td>\n",
       "      <td>247</td>\n",
       "      <td>235</td>\n",
       "      <td>LEU</td>\n",
       "      <td>7865</td>\n",
       "      <td>CD2</td>\n",
       "      <td>C</td>\n",
       "      <td>...</td>\n",
       "      <td>5HT2A_HUMAN</td>\n",
       "      <td>L</td>\n",
       "      <td>0</td>\n",
       "      <td></td>\n",
       "      <td>0.00</td>\n",
       "      <td>0</td>\n",
       "      <td></td>\n",
       "      <td></td>\n",
       "      <td></td>\n",
       "      <td></td>\n",
       "    </tr>\n",
       "  </tbody>\n",
       "</table>\n",
       "<p>7865 rows × 26 columns</p>\n",
       "</div>"
      ],
      "text/plain": [
       "       PDB group_PDB auth_asym_id label_asym_id  label_seq_id auth_seq_id  \\\n",
       "0     6WHA      ATOM            A             A           177          84   \n",
       "1     6WHA      ATOM            A             A           177          84   \n",
       "2     6WHA      ATOM            A             A           177          84   \n",
       "3     6WHA      ATOM            A             A           177          84   \n",
       "4     6WHA      ATOM            A             A           177          84   \n",
       "...    ...       ...          ...           ...           ...         ...   \n",
       "7860  6WHA      ATOM            E             E           247         235   \n",
       "7861  6WHA      ATOM            E             E           247         235   \n",
       "7862  6WHA      ATOM            E             E           247         235   \n",
       "7863  6WHA      ATOM            E             E           247         235   \n",
       "7864  6WHA      ATOM            E             E           247         235   \n",
       "\n",
       "     label_comp_id    id label_atom_id type_symbol  ...   identifier  \\\n",
       "0              VAL     1             N           N  ...  5HT2A_HUMAN   \n",
       "1              VAL     2            CA           C  ...  5HT2A_HUMAN   \n",
       "2              VAL     3             C           C  ...  5HT2A_HUMAN   \n",
       "3              VAL     4             O           O  ...  5HT2A_HUMAN   \n",
       "4              VAL     5            CB           C  ...  5HT2A_HUMAN   \n",
       "...            ...   ...           ...         ...  ...          ...   \n",
       "7860           LEU  7861             O           O  ...  5HT2A_HUMAN   \n",
       "7861           LEU  7862            CB           C  ...  5HT2A_HUMAN   \n",
       "7862           LEU  7863            CG           C  ...  5HT2A_HUMAN   \n",
       "7863           LEU  7864           CD1           C  ...  5HT2A_HUMAN   \n",
       "7864           LEU  7865           CD2           C  ...  5HT2A_HUMAN   \n",
       "\n",
       "     label_comp_sid label_2_uni  gen_pos  gen_pos1  gen_pos2 uniprot_comp_sid  \\\n",
       "0                 V           0               0.00         0                    \n",
       "1                 V          84  1.42x42      1.42        42                V   \n",
       "2                 V           0               0.00         0                    \n",
       "3                 V           0               0.00         0                    \n",
       "4                 V           0               0.00         0                    \n",
       "...             ...         ...      ...       ...       ...              ...   \n",
       "7860              L           0               0.00         0                    \n",
       "7861              L           0               0.00         0                    \n",
       "7862              L           0               0.00         0                    \n",
       "7863              L           0               0.00         0                    \n",
       "7864              L           0               0.00         0                    \n",
       "\n",
       "     gprot_pos  uniprot_comp_id fam_comp_id  \n",
       "0                                            \n",
       "1                                            \n",
       "2                                            \n",
       "3                                            \n",
       "4                                            \n",
       "...        ...              ...         ...  \n",
       "7860                                         \n",
       "7861                                         \n",
       "7862                                         \n",
       "7863                                         \n",
       "7864                                         \n",
       "\n",
       "[7865 rows x 26 columns]"
      ]
     },
     "execution_count": 71,
     "metadata": {},
     "output_type": "execute_result"
    }
   ],
   "source": [
    "x"
   ]
  },
  {
   "cell_type": "code",
   "execution_count": 72,
   "id": "9d5b1034",
   "metadata": {},
   "outputs": [
    {
     "data": {
      "text/html": [
       "<div>\n",
       "<style scoped>\n",
       "    .dataframe tbody tr th:only-of-type {\n",
       "        vertical-align: middle;\n",
       "    }\n",
       "\n",
       "    .dataframe tbody tr th {\n",
       "        vertical-align: top;\n",
       "    }\n",
       "\n",
       "    .dataframe thead th {\n",
       "        text-align: right;\n",
       "    }\n",
       "</style>\n",
       "<table border=\"1\" class=\"dataframe\">\n",
       "  <thead>\n",
       "    <tr style=\"text-align: right;\">\n",
       "      <th></th>\n",
       "      <th>PDB</th>\n",
       "      <th>group_PDB</th>\n",
       "      <th>auth_asym_id</th>\n",
       "      <th>label_asym_id</th>\n",
       "      <th>label_seq_id</th>\n",
       "      <th>auth_seq_id</th>\n",
       "      <th>label_comp_id</th>\n",
       "      <th>id</th>\n",
       "      <th>label_atom_id</th>\n",
       "      <th>type_symbol</th>\n",
       "      <th>...</th>\n",
       "      <th>identifier</th>\n",
       "      <th>label_comp_sid</th>\n",
       "      <th>label_2_uni</th>\n",
       "      <th>gen_pos</th>\n",
       "      <th>gen_pos1</th>\n",
       "      <th>gen_pos2</th>\n",
       "      <th>uniprot_comp_sid</th>\n",
       "      <th>gprot_pos</th>\n",
       "      <th>uniprot_comp_id</th>\n",
       "      <th>fam_comp_id</th>\n",
       "    </tr>\n",
       "  </thead>\n",
       "  <tbody>\n",
       "    <tr>\n",
       "      <th>3102</th>\n",
       "      <td>6WHA</td>\n",
       "      <td>ATOM</td>\n",
       "      <td>B</td>\n",
       "      <td>B</td>\n",
       "      <td>219</td>\n",
       "      <td>219</td>\n",
       "      <td>VAL</td>\n",
       "      <td>3103</td>\n",
       "      <td>CA</td>\n",
       "      <td>C</td>\n",
       "      <td>...</td>\n",
       "      <td>5HT2A_HUMAN</td>\n",
       "      <td>V</td>\n",
       "      <td>367</td>\n",
       "      <td></td>\n",
       "      <td>0.0</td>\n",
       "      <td>0</td>\n",
       "      <td></td>\n",
       "      <td>G.s6h5.04</td>\n",
       "      <td>V</td>\n",
       "      <td>V</td>\n",
       "    </tr>\n",
       "    <tr>\n",
       "      <th>3107</th>\n",
       "      <td>6WHA</td>\n",
       "      <td>ATOM</td>\n",
       "      <td>B</td>\n",
       "      <td>B</td>\n",
       "      <td>220</td>\n",
       "      <td>220</td>\n",
       "      <td>ASP</td>\n",
       "      <td>3108</td>\n",
       "      <td>CA</td>\n",
       "      <td>C</td>\n",
       "      <td>...</td>\n",
       "      <td>5HT2A_HUMAN</td>\n",
       "      <td>D</td>\n",
       "      <td>368</td>\n",
       "      <td></td>\n",
       "      <td>0.0</td>\n",
       "      <td>0</td>\n",
       "      <td></td>\n",
       "      <td>G.s6h5.05</td>\n",
       "      <td>D</td>\n",
       "      <td>D</td>\n",
       "    </tr>\n",
       "    <tr>\n",
       "      <th>3112</th>\n",
       "      <td>6WHA</td>\n",
       "      <td>ATOM</td>\n",
       "      <td>B</td>\n",
       "      <td>B</td>\n",
       "      <td>221</td>\n",
       "      <td>221</td>\n",
       "      <td>THR</td>\n",
       "      <td>3113</td>\n",
       "      <td>CA</td>\n",
       "      <td>C</td>\n",
       "      <td>...</td>\n",
       "      <td>5HT2A_HUMAN</td>\n",
       "      <td>T</td>\n",
       "      <td>369</td>\n",
       "      <td></td>\n",
       "      <td>0.0</td>\n",
       "      <td>0</td>\n",
       "      <td></td>\n",
       "      <td>G.H5.01</td>\n",
       "      <td>T</td>\n",
       "      <td>T</td>\n",
       "    </tr>\n",
       "    <tr>\n",
       "      <th>3119</th>\n",
       "      <td>6WHA</td>\n",
       "      <td>ATOM</td>\n",
       "      <td>B</td>\n",
       "      <td>B</td>\n",
       "      <td>222</td>\n",
       "      <td>222</td>\n",
       "      <td>GLU</td>\n",
       "      <td>3120</td>\n",
       "      <td>CA</td>\n",
       "      <td>C</td>\n",
       "      <td>...</td>\n",
       "      <td>5HT2A_HUMAN</td>\n",
       "      <td>E</td>\n",
       "      <td>370</td>\n",
       "      <td></td>\n",
       "      <td>0.0</td>\n",
       "      <td>0</td>\n",
       "      <td></td>\n",
       "      <td>G.H5.02</td>\n",
       "      <td>E</td>\n",
       "      <td>E</td>\n",
       "    </tr>\n",
       "    <tr>\n",
       "      <th>3124</th>\n",
       "      <td>6WHA</td>\n",
       "      <td>ATOM</td>\n",
       "      <td>B</td>\n",
       "      <td>B</td>\n",
       "      <td>223</td>\n",
       "      <td>223</td>\n",
       "      <td>ASN</td>\n",
       "      <td>3125</td>\n",
       "      <td>CA</td>\n",
       "      <td>C</td>\n",
       "      <td>...</td>\n",
       "      <td>5HT2A_HUMAN</td>\n",
       "      <td>N</td>\n",
       "      <td>371</td>\n",
       "      <td></td>\n",
       "      <td>0.0</td>\n",
       "      <td>0</td>\n",
       "      <td></td>\n",
       "      <td>G.H5.03</td>\n",
       "      <td>N</td>\n",
       "      <td>N</td>\n",
       "    </tr>\n",
       "    <tr>\n",
       "      <th>3132</th>\n",
       "      <td>6WHA</td>\n",
       "      <td>ATOM</td>\n",
       "      <td>B</td>\n",
       "      <td>B</td>\n",
       "      <td>224</td>\n",
       "      <td>224</td>\n",
       "      <td>ALA</td>\n",
       "      <td>3133</td>\n",
       "      <td>CA</td>\n",
       "      <td>C</td>\n",
       "      <td>...</td>\n",
       "      <td>5HT2A_HUMAN</td>\n",
       "      <td>A</td>\n",
       "      <td>372</td>\n",
       "      <td></td>\n",
       "      <td>0.0</td>\n",
       "      <td>0</td>\n",
       "      <td></td>\n",
       "      <td>G.H5.04</td>\n",
       "      <td>I</td>\n",
       "      <td>I</td>\n",
       "    </tr>\n",
       "    <tr>\n",
       "      <th>3137</th>\n",
       "      <td>6WHA</td>\n",
       "      <td>ATOM</td>\n",
       "      <td>B</td>\n",
       "      <td>B</td>\n",
       "      <td>225</td>\n",
       "      <td>225</td>\n",
       "      <td>ARG</td>\n",
       "      <td>3138</td>\n",
       "      <td>CA</td>\n",
       "      <td>C</td>\n",
       "      <td>...</td>\n",
       "      <td>5HT2A_HUMAN</td>\n",
       "      <td>R</td>\n",
       "      <td>373</td>\n",
       "      <td></td>\n",
       "      <td>0.0</td>\n",
       "      <td>0</td>\n",
       "      <td></td>\n",
       "      <td>G.H5.05</td>\n",
       "      <td>R</td>\n",
       "      <td>R</td>\n",
       "    </tr>\n",
       "    <tr>\n",
       "      <th>3148</th>\n",
       "      <td>6WHA</td>\n",
       "      <td>ATOM</td>\n",
       "      <td>B</td>\n",
       "      <td>B</td>\n",
       "      <td>226</td>\n",
       "      <td>226</td>\n",
       "      <td>ARG</td>\n",
       "      <td>3149</td>\n",
       "      <td>CA</td>\n",
       "      <td>C</td>\n",
       "      <td>...</td>\n",
       "      <td>5HT2A_HUMAN</td>\n",
       "      <td>R</td>\n",
       "      <td>374</td>\n",
       "      <td></td>\n",
       "      <td>0.0</td>\n",
       "      <td>0</td>\n",
       "      <td></td>\n",
       "      <td>G.H5.06</td>\n",
       "      <td>R</td>\n",
       "      <td>R</td>\n",
       "    </tr>\n",
       "    <tr>\n",
       "      <th>3159</th>\n",
       "      <td>6WHA</td>\n",
       "      <td>ATOM</td>\n",
       "      <td>B</td>\n",
       "      <td>B</td>\n",
       "      <td>227</td>\n",
       "      <td>227</td>\n",
       "      <td>ILE</td>\n",
       "      <td>3160</td>\n",
       "      <td>CA</td>\n",
       "      <td>C</td>\n",
       "      <td>...</td>\n",
       "      <td>5HT2A_HUMAN</td>\n",
       "      <td>I</td>\n",
       "      <td>375</td>\n",
       "      <td></td>\n",
       "      <td>0.0</td>\n",
       "      <td>0</td>\n",
       "      <td></td>\n",
       "      <td>G.H5.07</td>\n",
       "      <td>V</td>\n",
       "      <td>V</td>\n",
       "    </tr>\n",
       "    <tr>\n",
       "      <th>3167</th>\n",
       "      <td>6WHA</td>\n",
       "      <td>ATOM</td>\n",
       "      <td>B</td>\n",
       "      <td>B</td>\n",
       "      <td>228</td>\n",
       "      <td>228</td>\n",
       "      <td>PHE</td>\n",
       "      <td>3168</td>\n",
       "      <td>CA</td>\n",
       "      <td>C</td>\n",
       "      <td>...</td>\n",
       "      <td>5HT2A_HUMAN</td>\n",
       "      <td>F</td>\n",
       "      <td>376</td>\n",
       "      <td></td>\n",
       "      <td>0.0</td>\n",
       "      <td>0</td>\n",
       "      <td></td>\n",
       "      <td>G.H5.08</td>\n",
       "      <td>F</td>\n",
       "      <td>F</td>\n",
       "    </tr>\n",
       "    <tr>\n",
       "      <th>3178</th>\n",
       "      <td>6WHA</td>\n",
       "      <td>ATOM</td>\n",
       "      <td>B</td>\n",
       "      <td>B</td>\n",
       "      <td>229</td>\n",
       "      <td>229</td>\n",
       "      <td>ASN</td>\n",
       "      <td>3179</td>\n",
       "      <td>CA</td>\n",
       "      <td>C</td>\n",
       "      <td>...</td>\n",
       "      <td>5HT2A_HUMAN</td>\n",
       "      <td>N</td>\n",
       "      <td>377</td>\n",
       "      <td></td>\n",
       "      <td>0.0</td>\n",
       "      <td>0</td>\n",
       "      <td></td>\n",
       "      <td>G.H5.09</td>\n",
       "      <td>N</td>\n",
       "      <td>N</td>\n",
       "    </tr>\n",
       "    <tr>\n",
       "      <th>3186</th>\n",
       "      <td>6WHA</td>\n",
       "      <td>ATOM</td>\n",
       "      <td>B</td>\n",
       "      <td>B</td>\n",
       "      <td>230</td>\n",
       "      <td>230</td>\n",
       "      <td>ASP</td>\n",
       "      <td>3187</td>\n",
       "      <td>CA</td>\n",
       "      <td>C</td>\n",
       "      <td>...</td>\n",
       "      <td>5HT2A_HUMAN</td>\n",
       "      <td>D</td>\n",
       "      <td>378</td>\n",
       "      <td></td>\n",
       "      <td>0.0</td>\n",
       "      <td>0</td>\n",
       "      <td></td>\n",
       "      <td>G.H5.10</td>\n",
       "      <td>D</td>\n",
       "      <td>D</td>\n",
       "    </tr>\n",
       "    <tr>\n",
       "      <th>3194</th>\n",
       "      <td>6WHA</td>\n",
       "      <td>ATOM</td>\n",
       "      <td>B</td>\n",
       "      <td>B</td>\n",
       "      <td>231</td>\n",
       "      <td>231</td>\n",
       "      <td>CYS</td>\n",
       "      <td>3195</td>\n",
       "      <td>CA</td>\n",
       "      <td>C</td>\n",
       "      <td>...</td>\n",
       "      <td>5HT2A_HUMAN</td>\n",
       "      <td>C</td>\n",
       "      <td>379</td>\n",
       "      <td></td>\n",
       "      <td>0.0</td>\n",
       "      <td>0</td>\n",
       "      <td></td>\n",
       "      <td>G.H5.11</td>\n",
       "      <td>C</td>\n",
       "      <td>C</td>\n",
       "    </tr>\n",
       "    <tr>\n",
       "      <th>3200</th>\n",
       "      <td>6WHA</td>\n",
       "      <td>ATOM</td>\n",
       "      <td>B</td>\n",
       "      <td>B</td>\n",
       "      <td>232</td>\n",
       "      <td>232</td>\n",
       "      <td>LYS</td>\n",
       "      <td>3201</td>\n",
       "      <td>CA</td>\n",
       "      <td>C</td>\n",
       "      <td>...</td>\n",
       "      <td>5HT2A_HUMAN</td>\n",
       "      <td>K</td>\n",
       "      <td>380</td>\n",
       "      <td></td>\n",
       "      <td>0.0</td>\n",
       "      <td>0</td>\n",
       "      <td></td>\n",
       "      <td>G.H5.12</td>\n",
       "      <td>R</td>\n",
       "      <td>R</td>\n",
       "    </tr>\n",
       "    <tr>\n",
       "      <th>3209</th>\n",
       "      <td>6WHA</td>\n",
       "      <td>ATOM</td>\n",
       "      <td>B</td>\n",
       "      <td>B</td>\n",
       "      <td>233</td>\n",
       "      <td>233</td>\n",
       "      <td>ASP</td>\n",
       "      <td>3210</td>\n",
       "      <td>CA</td>\n",
       "      <td>C</td>\n",
       "      <td>...</td>\n",
       "      <td>5HT2A_HUMAN</td>\n",
       "      <td>D</td>\n",
       "      <td>381</td>\n",
       "      <td></td>\n",
       "      <td>0.0</td>\n",
       "      <td>0</td>\n",
       "      <td></td>\n",
       "      <td>G.H5.13</td>\n",
       "      <td>D</td>\n",
       "      <td>D</td>\n",
       "    </tr>\n",
       "    <tr>\n",
       "      <th>3217</th>\n",
       "      <td>6WHA</td>\n",
       "      <td>ATOM</td>\n",
       "      <td>B</td>\n",
       "      <td>B</td>\n",
       "      <td>234</td>\n",
       "      <td>234</td>\n",
       "      <td>ILE</td>\n",
       "      <td>3218</td>\n",
       "      <td>CA</td>\n",
       "      <td>C</td>\n",
       "      <td>...</td>\n",
       "      <td>5HT2A_HUMAN</td>\n",
       "      <td>I</td>\n",
       "      <td>382</td>\n",
       "      <td></td>\n",
       "      <td>0.0</td>\n",
       "      <td>0</td>\n",
       "      <td></td>\n",
       "      <td>G.H5.14</td>\n",
       "      <td>I</td>\n",
       "      <td>I</td>\n",
       "    </tr>\n",
       "    <tr>\n",
       "      <th>3225</th>\n",
       "      <td>6WHA</td>\n",
       "      <td>ATOM</td>\n",
       "      <td>B</td>\n",
       "      <td>B</td>\n",
       "      <td>235</td>\n",
       "      <td>235</td>\n",
       "      <td>ILE</td>\n",
       "      <td>3226</td>\n",
       "      <td>CA</td>\n",
       "      <td>C</td>\n",
       "      <td>...</td>\n",
       "      <td>5HT2A_HUMAN</td>\n",
       "      <td>I</td>\n",
       "      <td>383</td>\n",
       "      <td></td>\n",
       "      <td>0.0</td>\n",
       "      <td>0</td>\n",
       "      <td></td>\n",
       "      <td>G.H5.15</td>\n",
       "      <td>I</td>\n",
       "      <td>I</td>\n",
       "    </tr>\n",
       "    <tr>\n",
       "      <th>3233</th>\n",
       "      <td>6WHA</td>\n",
       "      <td>ATOM</td>\n",
       "      <td>B</td>\n",
       "      <td>B</td>\n",
       "      <td>236</td>\n",
       "      <td>236</td>\n",
       "      <td>LEU</td>\n",
       "      <td>3234</td>\n",
       "      <td>CA</td>\n",
       "      <td>C</td>\n",
       "      <td>...</td>\n",
       "      <td>5HT2A_HUMAN</td>\n",
       "      <td>L</td>\n",
       "      <td>384</td>\n",
       "      <td></td>\n",
       "      <td>0.0</td>\n",
       "      <td>0</td>\n",
       "      <td></td>\n",
       "      <td>G.H5.16</td>\n",
       "      <td>Q</td>\n",
       "      <td>Q</td>\n",
       "    </tr>\n",
       "    <tr>\n",
       "      <th>3241</th>\n",
       "      <td>6WHA</td>\n",
       "      <td>ATOM</td>\n",
       "      <td>B</td>\n",
       "      <td>B</td>\n",
       "      <td>237</td>\n",
       "      <td>237</td>\n",
       "      <td>GLN</td>\n",
       "      <td>3242</td>\n",
       "      <td>CA</td>\n",
       "      <td>C</td>\n",
       "      <td>...</td>\n",
       "      <td>5HT2A_HUMAN</td>\n",
       "      <td>Q</td>\n",
       "      <td>385</td>\n",
       "      <td></td>\n",
       "      <td>0.0</td>\n",
       "      <td>0</td>\n",
       "      <td></td>\n",
       "      <td>G.H5.17</td>\n",
       "      <td>R</td>\n",
       "      <td>R</td>\n",
       "    </tr>\n",
       "    <tr>\n",
       "      <th>3250</th>\n",
       "      <td>6WHA</td>\n",
       "      <td>ATOM</td>\n",
       "      <td>B</td>\n",
       "      <td>B</td>\n",
       "      <td>238</td>\n",
       "      <td>238</td>\n",
       "      <td>MET</td>\n",
       "      <td>3251</td>\n",
       "      <td>CA</td>\n",
       "      <td>C</td>\n",
       "      <td>...</td>\n",
       "      <td>5HT2A_HUMAN</td>\n",
       "      <td>M</td>\n",
       "      <td>386</td>\n",
       "      <td></td>\n",
       "      <td>0.0</td>\n",
       "      <td>0</td>\n",
       "      <td></td>\n",
       "      <td>G.H5.18</td>\n",
       "      <td>M</td>\n",
       "      <td>M</td>\n",
       "    </tr>\n",
       "    <tr>\n",
       "      <th>3258</th>\n",
       "      <td>6WHA</td>\n",
       "      <td>ATOM</td>\n",
       "      <td>B</td>\n",
       "      <td>B</td>\n",
       "      <td>239</td>\n",
       "      <td>239</td>\n",
       "      <td>ASN</td>\n",
       "      <td>3259</td>\n",
       "      <td>CA</td>\n",
       "      <td>C</td>\n",
       "      <td>...</td>\n",
       "      <td>5HT2A_HUMAN</td>\n",
       "      <td>N</td>\n",
       "      <td>387</td>\n",
       "      <td></td>\n",
       "      <td>0.0</td>\n",
       "      <td>0</td>\n",
       "      <td></td>\n",
       "      <td>G.H5.19</td>\n",
       "      <td>H</td>\n",
       "      <td>H</td>\n",
       "    </tr>\n",
       "    <tr>\n",
       "      <th>3266</th>\n",
       "      <td>6WHA</td>\n",
       "      <td>ATOM</td>\n",
       "      <td>B</td>\n",
       "      <td>B</td>\n",
       "      <td>240</td>\n",
       "      <td>240</td>\n",
       "      <td>LEU</td>\n",
       "      <td>3267</td>\n",
       "      <td>CA</td>\n",
       "      <td>C</td>\n",
       "      <td>...</td>\n",
       "      <td>5HT2A_HUMAN</td>\n",
       "      <td>L</td>\n",
       "      <td>388</td>\n",
       "      <td></td>\n",
       "      <td>0.0</td>\n",
       "      <td>0</td>\n",
       "      <td></td>\n",
       "      <td>G.H5.20</td>\n",
       "      <td>L</td>\n",
       "      <td>L</td>\n",
       "    </tr>\n",
       "    <tr>\n",
       "      <th>3274</th>\n",
       "      <td>6WHA</td>\n",
       "      <td>ATOM</td>\n",
       "      <td>B</td>\n",
       "      <td>B</td>\n",
       "      <td>241</td>\n",
       "      <td>241</td>\n",
       "      <td>ARG</td>\n",
       "      <td>3275</td>\n",
       "      <td>CA</td>\n",
       "      <td>C</td>\n",
       "      <td>...</td>\n",
       "      <td>5HT2A_HUMAN</td>\n",
       "      <td>R</td>\n",
       "      <td>389</td>\n",
       "      <td></td>\n",
       "      <td>0.0</td>\n",
       "      <td>0</td>\n",
       "      <td></td>\n",
       "      <td>G.H5.21</td>\n",
       "      <td>R</td>\n",
       "      <td>R</td>\n",
       "    </tr>\n",
       "    <tr>\n",
       "      <th>3285</th>\n",
       "      <td>6WHA</td>\n",
       "      <td>ATOM</td>\n",
       "      <td>B</td>\n",
       "      <td>B</td>\n",
       "      <td>242</td>\n",
       "      <td>242</td>\n",
       "      <td>GLU</td>\n",
       "      <td>3286</td>\n",
       "      <td>CA</td>\n",
       "      <td>C</td>\n",
       "      <td>...</td>\n",
       "      <td>5HT2A_HUMAN</td>\n",
       "      <td>E</td>\n",
       "      <td>390</td>\n",
       "      <td></td>\n",
       "      <td>0.0</td>\n",
       "      <td>0</td>\n",
       "      <td></td>\n",
       "      <td>G.H5.22</td>\n",
       "      <td>Q</td>\n",
       "      <td>Q</td>\n",
       "    </tr>\n",
       "    <tr>\n",
       "      <th>3294</th>\n",
       "      <td>6WHA</td>\n",
       "      <td>ATOM</td>\n",
       "      <td>B</td>\n",
       "      <td>B</td>\n",
       "      <td>243</td>\n",
       "      <td>243</td>\n",
       "      <td>TYR</td>\n",
       "      <td>3295</td>\n",
       "      <td>CA</td>\n",
       "      <td>C</td>\n",
       "      <td>...</td>\n",
       "      <td>5HT2A_HUMAN</td>\n",
       "      <td>Y</td>\n",
       "      <td>391</td>\n",
       "      <td></td>\n",
       "      <td>0.0</td>\n",
       "      <td>0</td>\n",
       "      <td></td>\n",
       "      <td>G.H5.23</td>\n",
       "      <td>Y</td>\n",
       "      <td>Y</td>\n",
       "    </tr>\n",
       "    <tr>\n",
       "      <th>3306</th>\n",
       "      <td>6WHA</td>\n",
       "      <td>ATOM</td>\n",
       "      <td>B</td>\n",
       "      <td>B</td>\n",
       "      <td>244</td>\n",
       "      <td>244</td>\n",
       "      <td>ASN</td>\n",
       "      <td>3307</td>\n",
       "      <td>CA</td>\n",
       "      <td>C</td>\n",
       "      <td>...</td>\n",
       "      <td>5HT2A_HUMAN</td>\n",
       "      <td>N</td>\n",
       "      <td>392</td>\n",
       "      <td></td>\n",
       "      <td>0.0</td>\n",
       "      <td>0</td>\n",
       "      <td></td>\n",
       "      <td>G.H5.24</td>\n",
       "      <td>E</td>\n",
       "      <td>E</td>\n",
       "    </tr>\n",
       "    <tr>\n",
       "      <th>3314</th>\n",
       "      <td>6WHA</td>\n",
       "      <td>ATOM</td>\n",
       "      <td>B</td>\n",
       "      <td>B</td>\n",
       "      <td>245</td>\n",
       "      <td>245</td>\n",
       "      <td>LEU</td>\n",
       "      <td>3315</td>\n",
       "      <td>CA</td>\n",
       "      <td>C</td>\n",
       "      <td>...</td>\n",
       "      <td>5HT2A_HUMAN</td>\n",
       "      <td>L</td>\n",
       "      <td>393</td>\n",
       "      <td></td>\n",
       "      <td>0.0</td>\n",
       "      <td>0</td>\n",
       "      <td></td>\n",
       "      <td>G.H5.25</td>\n",
       "      <td>L</td>\n",
       "      <td>L</td>\n",
       "    </tr>\n",
       "    <tr>\n",
       "      <th>3322</th>\n",
       "      <td>6WHA</td>\n",
       "      <td>ATOM</td>\n",
       "      <td>B</td>\n",
       "      <td>B</td>\n",
       "      <td>246</td>\n",
       "      <td>246</td>\n",
       "      <td>VAL</td>\n",
       "      <td>3323</td>\n",
       "      <td>CA</td>\n",
       "      <td>C</td>\n",
       "      <td>...</td>\n",
       "      <td>5HT2A_HUMAN</td>\n",
       "      <td>V</td>\n",
       "      <td>0</td>\n",
       "      <td></td>\n",
       "      <td>0.0</td>\n",
       "      <td>0</td>\n",
       "      <td></td>\n",
       "      <td>G.H5.26</td>\n",
       "      <td></td>\n",
       "      <td></td>\n",
       "    </tr>\n",
       "  </tbody>\n",
       "</table>\n",
       "<p>28 rows × 26 columns</p>\n",
       "</div>"
      ],
      "text/plain": [
       "       PDB group_PDB auth_asym_id label_asym_id  label_seq_id auth_seq_id  \\\n",
       "3102  6WHA      ATOM            B             B           219         219   \n",
       "3107  6WHA      ATOM            B             B           220         220   \n",
       "3112  6WHA      ATOM            B             B           221         221   \n",
       "3119  6WHA      ATOM            B             B           222         222   \n",
       "3124  6WHA      ATOM            B             B           223         223   \n",
       "3132  6WHA      ATOM            B             B           224         224   \n",
       "3137  6WHA      ATOM            B             B           225         225   \n",
       "3148  6WHA      ATOM            B             B           226         226   \n",
       "3159  6WHA      ATOM            B             B           227         227   \n",
       "3167  6WHA      ATOM            B             B           228         228   \n",
       "3178  6WHA      ATOM            B             B           229         229   \n",
       "3186  6WHA      ATOM            B             B           230         230   \n",
       "3194  6WHA      ATOM            B             B           231         231   \n",
       "3200  6WHA      ATOM            B             B           232         232   \n",
       "3209  6WHA      ATOM            B             B           233         233   \n",
       "3217  6WHA      ATOM            B             B           234         234   \n",
       "3225  6WHA      ATOM            B             B           235         235   \n",
       "3233  6WHA      ATOM            B             B           236         236   \n",
       "3241  6WHA      ATOM            B             B           237         237   \n",
       "3250  6WHA      ATOM            B             B           238         238   \n",
       "3258  6WHA      ATOM            B             B           239         239   \n",
       "3266  6WHA      ATOM            B             B           240         240   \n",
       "3274  6WHA      ATOM            B             B           241         241   \n",
       "3285  6WHA      ATOM            B             B           242         242   \n",
       "3294  6WHA      ATOM            B             B           243         243   \n",
       "3306  6WHA      ATOM            B             B           244         244   \n",
       "3314  6WHA      ATOM            B             B           245         245   \n",
       "3322  6WHA      ATOM            B             B           246         246   \n",
       "\n",
       "     label_comp_id    id label_atom_id type_symbol  ...   identifier  \\\n",
       "3102           VAL  3103            CA           C  ...  5HT2A_HUMAN   \n",
       "3107           ASP  3108            CA           C  ...  5HT2A_HUMAN   \n",
       "3112           THR  3113            CA           C  ...  5HT2A_HUMAN   \n",
       "3119           GLU  3120            CA           C  ...  5HT2A_HUMAN   \n",
       "3124           ASN  3125            CA           C  ...  5HT2A_HUMAN   \n",
       "3132           ALA  3133            CA           C  ...  5HT2A_HUMAN   \n",
       "3137           ARG  3138            CA           C  ...  5HT2A_HUMAN   \n",
       "3148           ARG  3149            CA           C  ...  5HT2A_HUMAN   \n",
       "3159           ILE  3160            CA           C  ...  5HT2A_HUMAN   \n",
       "3167           PHE  3168            CA           C  ...  5HT2A_HUMAN   \n",
       "3178           ASN  3179            CA           C  ...  5HT2A_HUMAN   \n",
       "3186           ASP  3187            CA           C  ...  5HT2A_HUMAN   \n",
       "3194           CYS  3195            CA           C  ...  5HT2A_HUMAN   \n",
       "3200           LYS  3201            CA           C  ...  5HT2A_HUMAN   \n",
       "3209           ASP  3210            CA           C  ...  5HT2A_HUMAN   \n",
       "3217           ILE  3218            CA           C  ...  5HT2A_HUMAN   \n",
       "3225           ILE  3226            CA           C  ...  5HT2A_HUMAN   \n",
       "3233           LEU  3234            CA           C  ...  5HT2A_HUMAN   \n",
       "3241           GLN  3242            CA           C  ...  5HT2A_HUMAN   \n",
       "3250           MET  3251            CA           C  ...  5HT2A_HUMAN   \n",
       "3258           ASN  3259            CA           C  ...  5HT2A_HUMAN   \n",
       "3266           LEU  3267            CA           C  ...  5HT2A_HUMAN   \n",
       "3274           ARG  3275            CA           C  ...  5HT2A_HUMAN   \n",
       "3285           GLU  3286            CA           C  ...  5HT2A_HUMAN   \n",
       "3294           TYR  3295            CA           C  ...  5HT2A_HUMAN   \n",
       "3306           ASN  3307            CA           C  ...  5HT2A_HUMAN   \n",
       "3314           LEU  3315            CA           C  ...  5HT2A_HUMAN   \n",
       "3322           VAL  3323            CA           C  ...  5HT2A_HUMAN   \n",
       "\n",
       "     label_comp_sid label_2_uni  gen_pos  gen_pos1  gen_pos2 uniprot_comp_sid  \\\n",
       "3102              V         367                0.0         0                    \n",
       "3107              D         368                0.0         0                    \n",
       "3112              T         369                0.0         0                    \n",
       "3119              E         370                0.0         0                    \n",
       "3124              N         371                0.0         0                    \n",
       "3132              A         372                0.0         0                    \n",
       "3137              R         373                0.0         0                    \n",
       "3148              R         374                0.0         0                    \n",
       "3159              I         375                0.0         0                    \n",
       "3167              F         376                0.0         0                    \n",
       "3178              N         377                0.0         0                    \n",
       "3186              D         378                0.0         0                    \n",
       "3194              C         379                0.0         0                    \n",
       "3200              K         380                0.0         0                    \n",
       "3209              D         381                0.0         0                    \n",
       "3217              I         382                0.0         0                    \n",
       "3225              I         383                0.0         0                    \n",
       "3233              L         384                0.0         0                    \n",
       "3241              Q         385                0.0         0                    \n",
       "3250              M         386                0.0         0                    \n",
       "3258              N         387                0.0         0                    \n",
       "3266              L         388                0.0         0                    \n",
       "3274              R         389                0.0         0                    \n",
       "3285              E         390                0.0         0                    \n",
       "3294              Y         391                0.0         0                    \n",
       "3306              N         392                0.0         0                    \n",
       "3314              L         393                0.0         0                    \n",
       "3322              V           0                0.0         0                    \n",
       "\n",
       "      gprot_pos  uniprot_comp_id fam_comp_id  \n",
       "3102  G.s6h5.04                V           V  \n",
       "3107  G.s6h5.05                D           D  \n",
       "3112    G.H5.01                T           T  \n",
       "3119    G.H5.02                E           E  \n",
       "3124    G.H5.03                N           N  \n",
       "3132    G.H5.04                I           I  \n",
       "3137    G.H5.05                R           R  \n",
       "3148    G.H5.06                R           R  \n",
       "3159    G.H5.07                V           V  \n",
       "3167    G.H5.08                F           F  \n",
       "3178    G.H5.09                N           N  \n",
       "3186    G.H5.10                D           D  \n",
       "3194    G.H5.11                C           C  \n",
       "3200    G.H5.12                R           R  \n",
       "3209    G.H5.13                D           D  \n",
       "3217    G.H5.14                I           I  \n",
       "3225    G.H5.15                I           I  \n",
       "3233    G.H5.16                Q           Q  \n",
       "3241    G.H5.17                R           R  \n",
       "3250    G.H5.18                M           M  \n",
       "3258    G.H5.19                H           H  \n",
       "3266    G.H5.20                L           L  \n",
       "3274    G.H5.21                R           R  \n",
       "3285    G.H5.22                Q           Q  \n",
       "3294    G.H5.23                Y           Y  \n",
       "3306    G.H5.24                E           E  \n",
       "3314    G.H5.25                L           L  \n",
       "3322    G.H5.26                               \n",
       "\n",
       "[28 rows x 26 columns]"
      ]
     },
     "execution_count": 72,
     "metadata": {},
     "output_type": "execute_result"
    }
   ],
   "source": [
    "x[x['gprot_pos']!='']"
   ]
  },
  {
   "cell_type": "code",
   "execution_count": 73,
   "id": "726b2592",
   "metadata": {},
   "outputs": [],
   "source": [
    "f_act = p.filter_dfl_via_table(State='Active', gprotein=True)"
   ]
  },
  {
   "cell_type": "code",
   "execution_count": 74,
   "id": "18c00f9a",
   "metadata": {},
   "outputs": [],
   "source": [
    "p.apply_filter(f_act)"
   ]
  },
  {
   "cell_type": "code",
   "execution_count": 75,
   "id": "valid-metadata",
   "metadata": {},
   "outputs": [
    {
     "name": "stderr",
     "output_type": "stream",
     "text": [
      "\r",
      "  0%|                                                                                                                                                                                                                                                                                           | 0/32 [00:00<?, ?it/s]"
     ]
    },
    {
     "name": "stdout",
     "output_type": "stream",
     "text": [
      "BATCH 0\n",
      "assinging res_nums to gprot of 6WHA\n",
      "No mapping (no uniprot-seq) information found! ====> PRESUMABLY A MINI G!\n",
      "                       entity_id chain_id  start  end  unp_end  unp_start  \\\n",
      "index                                                                       \n",
      "author_residue_number          1        B      5   50       57         12   \n",
      "author_insertion_code          1        B      5   50       57         12   \n",
      "residue_number                 1        B      5   50       57         12   \n",
      "author_residue_number          1        B     68   86      224        206   \n",
      "author_insertion_code          1        B     68   86      224        206   \n",
      "residue_number                 1        B     68   86      224        206   \n",
      "author_residue_number          1        B     93  114      252        231   \n",
      "author_insertion_code          1        B     93  114      252        231   \n",
      "residue_number                 1        B     93  114      252        231   \n",
      "author_residue_number          1        B    116  172      320        264   \n",
      "author_insertion_code          1        B    116  172      320        264   \n",
      "residue_number                 1        B    116  172      320        264   \n",
      "author_residue_number          1        B    183  216      364        331   \n",
      "author_insertion_code          1        B    183  216      364        331   \n",
      "residue_number                 1        B    183  216      364        331   \n",
      "author_residue_number          1        B    219  245      393        367   \n",
      "author_insertion_code          1        B    219  245      393        367   \n",
      "residue_number                 1        B    219  245      393        367   \n",
      "\n",
      "                      struct_asym_id   PDB uniprot  \n",
      "index                                               \n",
      "author_residue_number              B  6WHA  P04896  \n",
      "author_insertion_code              B  6WHA  P04896  \n",
      "residue_number                     B  6WHA  P04896  \n",
      "author_residue_number              B  6WHA  P04896  \n",
      "author_insertion_code              B  6WHA  P04896  \n",
      "residue_number                     B  6WHA  P04896  \n",
      "author_residue_number              B  6WHA  P04896  \n",
      "author_insertion_code              B  6WHA  P04896  \n",
      "residue_number                     B  6WHA  P04896  \n",
      "author_residue_number              B  6WHA  P04896  \n",
      "author_insertion_code              B  6WHA  P04896  \n",
      "residue_number                     B  6WHA  P04896  \n",
      "author_residue_number              B  6WHA  P04896  \n",
      "author_insertion_code              B  6WHA  P04896  \n",
      "residue_number                     B  6WHA  P04896  \n",
      "author_residue_number              B  6WHA  P04896  \n",
      "author_insertion_code              B  6WHA  P04896  \n",
      "residue_number                     B  6WHA  P04896  \n"
     ]
    },
    {
     "name": "stderr",
     "output_type": "stream",
     "text": [
      "  9%|█████████████████████████▊                                                                                                                                                                                                                                                         | 3/32 [00:01<00:15,  1.88it/s]"
     ]
    },
    {
     "name": "stdout",
     "output_type": "stream",
     "text": [
      "6WHA unlabelled: 1\n",
      "label_seq_id 246\n",
      "assigning 246 of gprotein gen. number: G.H5.26\n",
      "assinging res_nums to gprot of 2X72\n",
      "Mapping found!\n",
      "assinging res_nums to gprot of 2X72\n",
      "Mapping found!\n",
      "2X72 unlabelled: 1\n",
      "label_seq_id 11\n",
      "assigning 11 of gprotein gen. number: G.H5.26\n",
      "assinging res_nums to gprot of 3DQB\n",
      "Mapping found!\n"
     ]
    },
    {
     "name": "stderr",
     "output_type": "stream",
     "text": [
      "\r",
      " 16%|██████████████████████████████████████████▉                                                                                                                                                                                                                                        | 5/32 [00:02<00:08,  3.33it/s]"
     ]
    },
    {
     "name": "stdout",
     "output_type": "stream",
     "text": [
      "assinging res_nums to gprot of 3DQB\n",
      "Mapping found!\n",
      "3DQB unlabelled: 1\n",
      "label_seq_id 11\n",
      "assigning 11 of gprotein gen. number: G.H5.26\n",
      "assinging res_nums to gprot of 3PQR\n",
      "Mapping found!\n",
      "assinging res_nums to gprot of 3PQR\n",
      "Mapping found!\n"
     ]
    },
    {
     "name": "stderr",
     "output_type": "stream",
     "text": [
      "\r",
      " 22%|████████████████████████████████████████████████████████████▏                                                                                                                                                                                                                      | 7/32 [00:02<00:05,  4.80it/s]"
     ]
    },
    {
     "name": "stdout",
     "output_type": "stream",
     "text": [
      "3PQR unlabelled: 1\n",
      "label_seq_id 11\n",
      "assigning 11 of gprotein gen. number: G.H5.26\n",
      "assinging res_nums to gprot of 3SN6\n",
      "Mapping found!\n",
      "assinging res_nums to gprot of 3SN6\n",
      "Mapping found!\n"
     ]
    },
    {
     "name": "stderr",
     "output_type": "stream",
     "text": [
      " 34%|██████████████████████████████████████████████████████████████████████████████████████████████▏                                                                                                                                                                                   | 11/32 [00:03<00:06,  3.35it/s]"
     ]
    },
    {
     "name": "stdout",
     "output_type": "stream",
     "text": [
      "assinging res_nums to gprot of 4BEY\n",
      "Mapping found!\n",
      "assinging res_nums to gprot of 4BEY\n",
      "Mapping found!\n",
      "4BEY unlabelled: 1\n",
      "label_seq_id 11\n",
      "assigning 11 of gprotein gen. number: G.H5.26\n",
      "assinging res_nums to gprot of 4J4Q\n",
      "Mapping found!\n"
     ]
    },
    {
     "name": "stderr",
     "output_type": "stream",
     "text": [
      "\r",
      " 41%|███████████████████████████████████████████████████████████████████████████████████████████████████████████████▎                                                                                                                                                                  | 13/32 [00:04<00:04,  4.41it/s]"
     ]
    },
    {
     "name": "stdout",
     "output_type": "stream",
     "text": [
      "assinging res_nums to gprot of 4J4Q\n",
      "Mapping found!\n",
      "4J4Q unlabelled: 1\n",
      "label_seq_id 11\n",
      "assigning 11 of gprotein gen. number: G.H5.26\n",
      "assinging res_nums to gprot of 4X1H\n",
      "No mapping (no uniprot-seq) information found! ====> PRESUMABLY A MINI G!\n"
     ]
    },
    {
     "name": "stderr",
     "output_type": "stream",
     "text": [
      "\r",
      " 44%|███████████████████████████████████████████████████████████████████████████████████████████████████████████████████████▉                                                                                                                                                          | 14/32 [00:04<00:04,  4.31it/s]"
     ]
    },
    {
     "name": "stdout",
     "output_type": "stream",
     "text": [
      "                       entity_id chain_id  start  end  unp_end  unp_start  \\\n",
      "index                                                                       \n",
      "author_residue_number          1        C      1   10      349        229   \n",
      "author_insertion_code          1        C      1   10      349        229   \n",
      "residue_number                 1        C      1   10      349        229   \n",
      "\n",
      "                      struct_asym_id   PDB uniprot  \n",
      "index                                               \n",
      "author_residue_number              C  4X1H  P04695  \n",
      "author_insertion_code              C  4X1H  P04695  \n",
      "residue_number                     C  4X1H  P04695  \n",
      "assinging res_nums to gprot of 4X1H\n",
      "No mapping (no uniprot-seq) information found! ====> PRESUMABLY A MINI G!\n"
     ]
    },
    {
     "name": "stderr",
     "output_type": "stream",
     "text": [
      "\r",
      " 47%|████████████████████████████████████████████████████████████████████████████████████████████████████████████████████████████████▍                                                                                                                                                 | 15/32 [00:04<00:04,  4.23it/s]"
     ]
    },
    {
     "name": "stdout",
     "output_type": "stream",
     "text": [
      "                       entity_id chain_id  start  end  unp_end  unp_start  \\\n",
      "index                                                                       \n",
      "author_residue_number          1        C      1   10      349        229   \n",
      "author_insertion_code          1        C      1   10      349        229   \n",
      "residue_number                 1        C      1   10      349        229   \n",
      "\n",
      "                      struct_asym_id   PDB uniprot  \n",
      "index                                               \n",
      "author_residue_number              C  4X1H  P04695  \n",
      "author_insertion_code              C  4X1H  P04695  \n",
      "residue_number                     C  4X1H  P04695  \n",
      "assinging res_nums to gprot of 5G53\n",
      "Mapping found!\n"
     ]
    },
    {
     "name": "stderr",
     "output_type": "stream",
     "text": [
      "\r",
      " 50%|█████████████████████████████████████████████████████████████████████████████████████████████████████████████████████████████████████████                                                                                                                                         | 16/32 [00:06<00:07,  2.01it/s]"
     ]
    },
    {
     "name": "stdout",
     "output_type": "stream",
     "text": [
      "assinging res_nums to gprot of 5G53\n",
      "Mapping found!\n"
     ]
    },
    {
     "name": "stderr",
     "output_type": "stream",
     "text": [
      "\r",
      " 53%|█████████████████████████████████████████████████████████████████████████████████████████████████████████████████████████████████████████████████▌                                                                                                                                | 17/32 [00:06<00:09,  1.64it/s]"
     ]
    },
    {
     "name": "stdout",
     "output_type": "stream",
     "text": [
      "assinging res_nums to gprot of 5UZ7\n",
      "Mapping found!\n"
     ]
    },
    {
     "name": "stderr",
     "output_type": "stream",
     "text": [
      "\r",
      " 56%|██████████████████████████████████████████████████████████████████████████████████████████████████████████████████████████████████████████████████████████▏                                                                                                                       | 18/32 [00:07<00:08,  1.64it/s]"
     ]
    },
    {
     "name": "stdout",
     "output_type": "stream",
     "text": [
      "assinging res_nums to gprot of 5UZ7\n",
      "Mapping found!\n"
     ]
    },
    {
     "name": "stderr",
     "output_type": "stream",
     "text": [
      "\r",
      " 59%|██████████████████████████████████████████████████████████████████████████████████████████████████████████████████████████████████████████████████████████████████▋                                                                                                               | 19/32 [00:08<00:07,  1.64it/s]"
     ]
    },
    {
     "name": "stdout",
     "output_type": "stream",
     "text": [
      "assinging res_nums to gprot of 5VAI\n",
      "Mapping found!\n"
     ]
    },
    {
     "name": "stderr",
     "output_type": "stream",
     "text": [
      "\r",
      " 62%|███████████████████████████████████████████████████████████████████████████████████████████████████████████████████████████████████████████████████████████████████████████▎                                                                                                      | 20/32 [00:08<00:07,  1.59it/s]"
     ]
    },
    {
     "name": "stdout",
     "output_type": "stream",
     "text": [
      "assinging res_nums to gprot of 5VAI\n",
      "Mapping found!\n"
     ]
    },
    {
     "name": "stderr",
     "output_type": "stream",
     "text": [
      "\r",
      " 66%|███████████████████████████████████████████████████████████████████████████████████████████████████████████████████████████████████████████████████████████████████████████████████▊                                                                                              | 21/32 [00:09<00:07,  1.55it/s]"
     ]
    },
    {
     "name": "stdout",
     "output_type": "stream",
     "text": [
      "assinging res_nums to gprot of 5WKT\n",
      "No mapping (no uniprot-seq) information found! ====> PRESUMABLY A MINI G!\n"
     ]
    },
    {
     "name": "stderr",
     "output_type": "stream",
     "text": [
      "\r",
      " 69%|████████████████████████████████████████████████████████████████████████████████████████████████████████████████████████████████████████████████████████████████████████████████████████████▍                                                                                     | 22/32 [00:09<00:05,  1.78it/s]"
     ]
    },
    {
     "name": "stdout",
     "output_type": "stream",
     "text": [
      "                       entity_id chain_id  start  end  unp_end  unp_start  \\\n",
      "index                                                                       \n",
      "author_residue_number          1        B      1   10      349        340   \n",
      "author_insertion_code          1        B      1   10      349        340   \n",
      "residue_number                 1        B      1   10      349        340   \n",
      "\n",
      "                      struct_asym_id   PDB uniprot  \n",
      "index                                               \n",
      "author_residue_number              B  5WKT  P04695  \n",
      "author_insertion_code              B  5WKT  P04695  \n",
      "residue_number                     B  5WKT  P04695  \n",
      "5WKT unlabelled: 1\n",
      "label_seq_id 11\n",
      "assigning 11 of gprotein gen. number: G.H5.26\n",
      "assinging res_nums to gprot of 5WKT\n",
      "No mapping (no uniprot-seq) information found! ====> PRESUMABLY A MINI G!\n"
     ]
    },
    {
     "name": "stderr",
     "output_type": "stream",
     "text": [
      "\r",
      " 72%|████████████████████████████████████████████████████████████████████████████████████████████████████████████████████████████████████████████████████████████████████████████████████████████████████▉                                                                             | 23/32 [00:10<00:04,  1.99it/s]"
     ]
    },
    {
     "name": "stdout",
     "output_type": "stream",
     "text": [
      "                       entity_id chain_id  start  end  unp_end  unp_start  \\\n",
      "index                                                                       \n",
      "author_residue_number          1        B      1   10      349        340   \n",
      "author_insertion_code          1        B      1   10      349        340   \n",
      "residue_number                 1        B      1   10      349        340   \n",
      "\n",
      "                      struct_asym_id   PDB uniprot  \n",
      "index                                               \n",
      "author_residue_number              B  5WKT  P04695  \n",
      "author_insertion_code              B  5WKT  P04695  \n",
      "residue_number                     B  5WKT  P04695  \n",
      "5WKT unlabelled: 1\n",
      "label_seq_id 11\n",
      "assigning 11 of gprotein gen. number: G.H5.26\n",
      "assinging res_nums to gprot of 6B3J\n",
      "Mapping found!\n"
     ]
    },
    {
     "name": "stderr",
     "output_type": "stream",
     "text": [
      "\r",
      " 75%|█████████████████████████████████████████████████████████████████████████████████████████████████████████████████████████████████████████████████████████████████████████████████████████████████████████████▌                                                                    | 24/32 [00:10<00:04,  1.81it/s]"
     ]
    },
    {
     "name": "stdout",
     "output_type": "stream",
     "text": [
      "assinging res_nums to gprot of 6B3J\n",
      "Mapping found!\n"
     ]
    },
    {
     "name": "stderr",
     "output_type": "stream",
     "text": [
      "\r",
      " 78%|██████████████████████████████████████████████████████████████████████████████████████████████████████████████████████████████████████████████████████████████████████████████████████████████████████████████████████                                                            | 25/32 [00:11<00:04,  1.68it/s]"
     ]
    },
    {
     "name": "stdout",
     "output_type": "stream",
     "text": [
      "6B3J unlabelled: 1\n",
      "label_seq_id 394\n",
      "assigning 394 of gprotein gen. number: G.H5.26\n",
      "assinging res_nums to gprot of 6CMO\n",
      "Mapping found!\n"
     ]
    },
    {
     "name": "stderr",
     "output_type": "stream",
     "text": [
      "\r",
      " 81%|██████████████████████████████████████████████████████████████████████████████████████████████████████████████████████████████████████████████████████████████████████████████████████████████████████████████████████████████▋                                                   | 26/32 [00:12<00:03,  1.55it/s]"
     ]
    },
    {
     "name": "stdout",
     "output_type": "stream",
     "text": [
      "assinging res_nums to gprot of 6CMO\n",
      "Mapping found!\n"
     ]
    },
    {
     "name": "stderr",
     "output_type": "stream",
     "text": [
      "\r",
      " 84%|███████████████████████████████████████████████████████████████████████████████████████████████████████████████████████████████████████████████████████████████████████████████████████████████████████████████████████████████████████▏                                          | 27/32 [00:13<00:03,  1.46it/s]"
     ]
    },
    {
     "name": "stdout",
     "output_type": "stream",
     "text": [
      "6CMO unlabelled: 1\n",
      "label_seq_id 354\n",
      "assigning 354 of gprotein gen. number: G.H5.26\n",
      "assinging res_nums to gprot of 6D9H\n",
      "Mapping found!\n"
     ]
    },
    {
     "name": "stderr",
     "output_type": "stream",
     "text": [
      "\r",
      " 88%|███████████████████████████████████████████████████████████████████████████████████████████████████████████████████████████████████████████████████████████████████████████████████████████████████████████████████████████████████████████████▊                                  | 28/32 [00:13<00:02,  1.55it/s]"
     ]
    },
    {
     "name": "stdout",
     "output_type": "stream",
     "text": [
      "assinging res_nums to gprot of 6D9H\n",
      "Mapping found!\n"
     ]
    },
    {
     "name": "stderr",
     "output_type": "stream",
     "text": [
      "\r",
      " 91%|████████████████████████████████████████████████████████████████████████████████████████████████████████████████████████████████████████████████████████████████████████████████████████████████████████████████████████████████████████████████████████▎                         | 29/32 [00:14<00:01,  1.61it/s]"
     ]
    },
    {
     "name": "stdout",
     "output_type": "stream",
     "text": [
      "6D9H unlabelled: 1\n",
      "label_seq_id 355\n",
      "assigning 355 of gprotein gen. number: G.H5.26\n",
      "assinging res_nums to gprot of 6DDE\n",
      "Mapping found!\n"
     ]
    },
    {
     "name": "stderr",
     "output_type": "stream",
     "text": [
      "\r",
      " 94%|████████████████████████████████████████████████████████████████████████████████████████████████████████████████████████████████████████████████████████████████████████████████████████████████████████████████████████████████████████████████████████████████▉                 | 30/32 [00:14<00:01,  1.62it/s]"
     ]
    },
    {
     "name": "stdout",
     "output_type": "stream",
     "text": [
      "assinging res_nums to gprot of 6DDE\n",
      "Mapping found!\n"
     ]
    },
    {
     "name": "stderr",
     "output_type": "stream",
     "text": [
      "\r",
      " 97%|█████████████████████████████████████████████████████████████████████████████████████████████████████████████████████████████████████████████████████████████████████████████████████████████████████████████████████████████████████████████████████████████████████████▍        | 31/32 [00:15<00:00,  1.62it/s]"
     ]
    },
    {
     "name": "stdout",
     "output_type": "stream",
     "text": [
      "6DDE unlabelled: 1\n",
      "label_seq_id 354\n",
      "assigning 354 of gprotein gen. number: G.H5.26\n",
      "assinging res_nums to gprot of 6DDF\n",
      "Mapping found!\n"
     ]
    },
    {
     "name": "stderr",
     "output_type": "stream",
     "text": [
      "100%|██████████████████████████████████████████████████████████████████████████████████████████████████████████████████████████████████████████████████████████████████████████████████████████████████████████████████████████████████████████████████████████████████████████████████| 32/32 [00:16<00:00,  1.99it/s]\n",
      "  0%|                                                                                                                                                                                                                                                                                           | 0/32 [00:00<?, ?it/s]"
     ]
    },
    {
     "name": "stdout",
     "output_type": "stream",
     "text": [
      "BATCH 1\n",
      "assinging res_nums to gprot of 6DDF\n",
      "Mapping found!\n"
     ]
    },
    {
     "name": "stderr",
     "output_type": "stream",
     "text": [
      "\r",
      "  3%|████████▌                                                                                                                                                                                                                                                                          | 1/32 [00:00<00:17,  1.80it/s]"
     ]
    },
    {
     "name": "stdout",
     "output_type": "stream",
     "text": [
      "6DDF unlabelled: 1\n",
      "label_seq_id 354\n",
      "assigning 354 of gprotein gen. number: G.H5.26\n",
      "assinging res_nums to gprot of 6E3Y\n",
      "Mapping found!\n"
     ]
    },
    {
     "name": "stderr",
     "output_type": "stream",
     "text": [
      "\r",
      "  6%|█████████████████▏                                                                                                                                                                                                                                                                 | 2/32 [00:01<00:19,  1.56it/s]"
     ]
    },
    {
     "name": "stdout",
     "output_type": "stream",
     "text": [
      "assinging res_nums to gprot of 6E3Y\n",
      "Mapping found!\n"
     ]
    },
    {
     "name": "stderr",
     "output_type": "stream",
     "text": [
      "\r",
      "  9%|█████████████████████████▊                                                                                                                                                                                                                                                         | 3/32 [00:01<00:19,  1.49it/s]"
     ]
    },
    {
     "name": "stdout",
     "output_type": "stream",
     "text": [
      "6E3Y unlabelled: 1\n",
      "label_seq_id 394\n",
      "assigning 394 of gprotein gen. number: G.H5.26\n",
      "assinging res_nums to gprot of 6E67\n",
      "Mapping found!\n"
     ]
    },
    {
     "name": "stderr",
     "output_type": "stream",
     "text": [
      " 16%|██████████████████████████████████████████▉                                                                                                                                                                                                                                        | 5/32 [00:02<00:10,  2.63it/s]"
     ]
    },
    {
     "name": "stdout",
     "output_type": "stream",
     "text": [
      "assinging res_nums to gprot of 6E67\n",
      "Mapping found!\n",
      "assinging res_nums to gprot of 6FUF\n",
      "Mapping found!\n"
     ]
    },
    {
     "name": "stderr",
     "output_type": "stream",
     "text": [
      "\r",
      " 19%|███████████████████████████████████████████████████▌                                                                                                                                                                                                                               | 6/32 [00:02<00:09,  2.80it/s]"
     ]
    },
    {
     "name": "stdout",
     "output_type": "stream",
     "text": [
      "assinging res_nums to gprot of 6FUF\n",
      "Mapping found!\n"
     ]
    },
    {
     "name": "stderr",
     "output_type": "stream",
     "text": [
      "\r",
      " 22%|████████████████████████████████████████████████████████████▏                                                                                                                                                                                                                      | 7/32 [00:02<00:08,  2.91it/s]"
     ]
    },
    {
     "name": "stdout",
     "output_type": "stream",
     "text": [
      "assinging res_nums to gprot of 6G79\n",
      "Mapping found!\n"
     ]
    },
    {
     "name": "stderr",
     "output_type": "stream",
     "text": [
      "\r",
      " 25%|████████████████████████████████████████████████████████████████████▊                                                                                                                                                                                                              | 8/32 [00:03<00:08,  2.69it/s]"
     ]
    },
    {
     "name": "stdout",
     "output_type": "stream",
     "text": [
      "assinging res_nums to gprot of 6G79\n",
      "Mapping found!\n"
     ]
    },
    {
     "name": "stderr",
     "output_type": "stream",
     "text": [
      "\r",
      " 28%|█████████████████████████████████████████████████████████████████████████████▎                                                                                                                                                                                                     | 9/32 [00:03<00:09,  2.55it/s]"
     ]
    },
    {
     "name": "stdout",
     "output_type": "stream",
     "text": [
      "assinging res_nums to gprot of 6GDG\n",
      "Mapping found!\n"
     ]
    },
    {
     "name": "stderr",
     "output_type": "stream",
     "text": [
      "\r",
      " 31%|█████████████████████████████████████████████████████████████████████████████████████▋                                                                                                                                                                                            | 10/32 [00:04<00:09,  2.33it/s]"
     ]
    },
    {
     "name": "stdout",
     "output_type": "stream",
     "text": [
      "assinging res_nums to gprot of 6GDG\n",
      "Mapping found!\n"
     ]
    },
    {
     "name": "stderr",
     "output_type": "stream",
     "text": [
      "\r",
      " 34%|██████████████████████████████████████████████████████████████████████████████████████████████▏                                                                                                                                                                                   | 11/32 [00:04<00:09,  2.20it/s]"
     ]
    },
    {
     "name": "stdout",
     "output_type": "stream",
     "text": [
      "assinging res_nums to gprot of 6K41\n",
      "Mapping found!\n"
     ]
    },
    {
     "name": "stderr",
     "output_type": "stream",
     "text": [
      "\r",
      " 38%|██████████████████████████████████████████████████████████████████████████████████████████████████████▊                                                                                                                                                                           | 12/32 [00:05<00:09,  2.00it/s]"
     ]
    },
    {
     "name": "stdout",
     "output_type": "stream",
     "text": [
      "assinging res_nums to gprot of 6K41\n",
      "Mapping found!\n"
     ]
    },
    {
     "name": "stderr",
     "output_type": "stream",
     "text": [
      "\r",
      " 41%|███████████████████████████████████████████████████████████████████████████████████████████████████████████████▎                                                                                                                                                                  | 13/32 [00:06<00:10,  1.87it/s]"
     ]
    },
    {
     "name": "stdout",
     "output_type": "stream",
     "text": [
      "6K41 unlabelled: 1\n",
      "label_seq_id 354\n",
      "assigning 354 of gprotein gen. number: G.H5.26\n",
      "assinging res_nums to gprot of 6K42\n",
      "Mapping found!\n"
     ]
    },
    {
     "name": "stderr",
     "output_type": "stream",
     "text": [
      "\r",
      " 44%|███████████████████████████████████████████████████████████████████████████████████████████████████████████████████████▉                                                                                                                                                          | 14/32 [00:06<00:10,  1.79it/s]"
     ]
    },
    {
     "name": "stdout",
     "output_type": "stream",
     "text": [
      "assinging res_nums to gprot of 6K42\n",
      "Mapping found!\n"
     ]
    },
    {
     "name": "stderr",
     "output_type": "stream",
     "text": [
      "\r",
      " 47%|████████████████████████████████████████████████████████████████████████████████████████████████████████████████████████████████▍                                                                                                                                                 | 15/32 [00:07<00:09,  1.73it/s]"
     ]
    },
    {
     "name": "stdout",
     "output_type": "stream",
     "text": [
      "6K42 unlabelled: 1\n",
      "label_seq_id 354\n",
      "assigning 354 of gprotein gen. number: G.H5.26\n",
      "assinging res_nums to gprot of 6KPF\n",
      "Mapping found!\n"
     ]
    },
    {
     "name": "stderr",
     "output_type": "stream",
     "text": [
      "\r",
      " 50%|█████████████████████████████████████████████████████████████████████████████████████████████████████████████████████████████████████████                                                                                                                                         | 16/32 [00:07<00:09,  1.69it/s]"
     ]
    },
    {
     "name": "stdout",
     "output_type": "stream",
     "text": [
      "assinging res_nums to gprot of 6KPF\n",
      "Mapping found!\n"
     ]
    },
    {
     "name": "stderr",
     "output_type": "stream",
     "text": [
      "\r",
      " 53%|█████████████████████████████████████████████████████████████████████████████████████████████████████████████████████████████████████████████████▌                                                                                                                                | 17/32 [00:08<00:09,  1.66it/s]"
     ]
    },
    {
     "name": "stdout",
     "output_type": "stream",
     "text": [
      "6KPF unlabelled: 1\n",
      "label_seq_id 354\n",
      "assigning 354 of gprotein gen. number: G.H5.26\n",
      "assinging res_nums to gprot of 6KPG\n",
      "Mapping found!\n"
     ]
    },
    {
     "name": "stderr",
     "output_type": "stream",
     "text": [
      "\r",
      " 56%|██████████████████████████████████████████████████████████████████████████████████████████████████████████████████████████████████████████████████████████▏                                                                                                                       | 18/32 [00:09<00:08,  1.64it/s]"
     ]
    },
    {
     "name": "stdout",
     "output_type": "stream",
     "text": [
      "assinging res_nums to gprot of 6KPG\n",
      "Mapping found!\n"
     ]
    },
    {
     "name": "stderr",
     "output_type": "stream",
     "text": [
      "\r",
      " 59%|██████████████████████████████████████████████████████████████████████████████████████████████████████████████████████████████████████████████████████████████████▋                                                                                                               | 19/32 [00:09<00:08,  1.62it/s]"
     ]
    },
    {
     "name": "stdout",
     "output_type": "stream",
     "text": [
      "6KPG unlabelled: 1\n",
      "label_seq_id 353\n",
      "assigning 353 of gprotein gen. number: G.H5.26\n",
      "assinging res_nums to gprot of 6LFM\n",
      "Mapping found!\n"
     ]
    },
    {
     "name": "stderr",
     "output_type": "stream",
     "text": [
      "\r",
      " 62%|███████████████████████████████████████████████████████████████████████████████████████████████████████████████████████████████████████████████████████████████████████████▎                                                                                                      | 20/32 [00:10<00:07,  1.58it/s]"
     ]
    },
    {
     "name": "stdout",
     "output_type": "stream",
     "text": [
      "assinging res_nums to gprot of 6LFM\n",
      "Mapping found!\n"
     ]
    },
    {
     "name": "stderr",
     "output_type": "stream",
     "text": [
      "\r",
      " 66%|███████████████████████████████████████████████████████████████████████████████████████████████████████████████████████████████████████████████████████████████████████████████████▊                                                                                              | 21/32 [00:11<00:07,  1.55it/s]"
     ]
    },
    {
     "name": "stdout",
     "output_type": "stream",
     "text": [
      "6LFM unlabelled: 1\n",
      "label_seq_id 353\n",
      "assigning 353 of gprotein gen. number: G.H5.26\n",
      "assinging res_nums to gprot of 6LFO\n",
      "Mapping found!\n"
     ]
    },
    {
     "name": "stderr",
     "output_type": "stream",
     "text": [
      "\r",
      " 69%|████████████████████████████████████████████████████████████████████████████████████████████████████████████████████████████████████████████████████████████████████████████████████████████▍                                                                                     | 22/32 [00:11<00:06,  1.54it/s]"
     ]
    },
    {
     "name": "stdout",
     "output_type": "stream",
     "text": [
      "assinging res_nums to gprot of 6LFO\n",
      "Mapping found!\n"
     ]
    },
    {
     "name": "stderr",
     "output_type": "stream",
     "text": [
      "\r",
      " 72%|████████████████████████████████████████████████████████████████████████████████████████████████████████████████████████████████████████████████████████████████████████████████████████████████████▉                                                                             | 23/32 [00:12<00:05,  1.54it/s]"
     ]
    },
    {
     "name": "stdout",
     "output_type": "stream",
     "text": [
      "6LFO unlabelled: 1\n",
      "label_seq_id 353\n",
      "assigning 353 of gprotein gen. number: G.H5.26\n",
      "assinging res_nums to gprot of 6LI3\n",
      "Mapping found!\n"
     ]
    },
    {
     "name": "stderr",
     "output_type": "stream",
     "text": [
      "\r",
      " 75%|█████████████████████████████████████████████████████████████████████████████████████████████████████████████████████████████████████████████████████████████████████████████████████████████████████████████▌                                                                    | 24/32 [00:13<00:04,  1.62it/s]"
     ]
    },
    {
     "name": "stdout",
     "output_type": "stream",
     "text": [
      "assinging res_nums to gprot of 6LI3\n",
      "Mapping found!\n"
     ]
    },
    {
     "name": "stderr",
     "output_type": "stream",
     "text": [
      "\r",
      " 78%|██████████████████████████████████████████████████████████████████████████████████████████████████████████████████████████████████████████████████████████████████████████████████████████████████████████████████████                                                            | 25/32 [00:13<00:04,  1.68it/s]"
     ]
    },
    {
     "name": "stdout",
     "output_type": "stream",
     "text": [
      "assinging res_nums to gprot of 6LMK\n",
      "Mapping found!\n"
     ]
    },
    {
     "name": "stderr",
     "output_type": "stream",
     "text": [
      "\r",
      " 81%|██████████████████████████████████████████████████████████████████████████████████████████████████████████████████████████████████████████████████████████████████████████████████████████████████████████████████████████████▋                                                   | 26/32 [00:14<00:03,  1.60it/s]"
     ]
    },
    {
     "name": "stdout",
     "output_type": "stream",
     "text": [
      "assinging res_nums to gprot of 6LMK\n",
      "Mapping found!\n"
     ]
    },
    {
     "name": "stderr",
     "output_type": "stream",
     "text": [
      "\r",
      " 84%|███████████████████████████████████████████████████████████████████████████████████████████████████████████████████████████████████████████████████████████████████████████████████████████████████████████████████████████████████████▏                                          | 27/32 [00:14<00:03,  1.53it/s]"
     ]
    },
    {
     "name": "stdout",
     "output_type": "stream",
     "text": [
      "6LMK unlabelled: 1\n",
      "label_seq_id 394\n",
      "assigning 394 of gprotein gen. number: G.H5.26\n",
      "assinging res_nums to gprot of 6LML\n",
      "Mapping found!\n"
     ]
    },
    {
     "name": "stderr",
     "output_type": "stream",
     "text": [
      "\r",
      " 88%|███████████████████████████████████████████████████████████████████████████████████████████████████████████████████████████████████████████████████████████████████████████████████████████████████████████████████████████████████████████████▊                                  | 28/32 [00:15<00:02,  1.54it/s]"
     ]
    },
    {
     "name": "stdout",
     "output_type": "stream",
     "text": [
      "assinging res_nums to gprot of 6LML\n",
      "Mapping found!\n"
     ]
    },
    {
     "name": "stderr",
     "output_type": "stream",
     "text": [
      "\r",
      " 91%|████████████████████████████████████████████████████████████████████████████████████████████████████████████████████████████████████████████████████████████████████████████████████████████████████████████████████████████████████████████████████████▎                         | 29/32 [00:16<00:01,  1.54it/s]"
     ]
    },
    {
     "name": "stdout",
     "output_type": "stream",
     "text": [
      "6LML unlabelled: 1\n",
      "label_seq_id 354\n",
      "assigning 354 of gprotein gen. number: G.H5.26\n",
      "assinging res_nums to gprot of 6LPB\n",
      "Mapping found!\n"
     ]
    },
    {
     "name": "stderr",
     "output_type": "stream",
     "text": [
      "\r",
      " 94%|████████████████████████████████████████████████████████████████████████████████████████████████████████████████████████████████████████████████████████████████████████████████████████████████████████████████████████████████████████████████████████████████▉                 | 30/32 [00:16<00:01,  1.66it/s]"
     ]
    },
    {
     "name": "stdout",
     "output_type": "stream",
     "text": [
      "assinging res_nums to gprot of 6LPB\n",
      "Mapping found!\n"
     ]
    },
    {
     "name": "stderr",
     "output_type": "stream",
     "text": [
      "\r",
      " 97%|█████████████████████████████████████████████████████████████████████████████████████████████████████████████████████████████████████████████████████████████████████████████████████████████████████████████████████████████████████████████████████████████████████████▍        | 31/32 [00:17<00:00,  1.76it/s]"
     ]
    },
    {
     "name": "stdout",
     "output_type": "stream",
     "text": [
      "assinging res_nums to gprot of 6M1H\n",
      "Mapping found!\n"
     ]
    },
    {
     "name": "stderr",
     "output_type": "stream",
     "text": [
      "100%|██████████████████████████████████████████████████████████████████████████████████████████████████████████████████████████████████████████████████████████████████████████████████████████████████████████████████████████████████████████████████████████████████████████████████| 32/32 [00:17<00:00,  1.78it/s]\n",
      "  0%|                                                                                                                                                                                                                                                                                           | 0/32 [00:00<?, ?it/s]"
     ]
    },
    {
     "name": "stdout",
     "output_type": "stream",
     "text": [
      "BATCH 2\n",
      "assinging res_nums to gprot of 6M1H\n",
      "Mapping found!\n"
     ]
    },
    {
     "name": "stderr",
     "output_type": "stream",
     "text": [
      "\r",
      "  3%|████████▌                                                                                                                                                                                                                                                                          | 1/32 [00:00<00:21,  1.43it/s]"
     ]
    },
    {
     "name": "stdout",
     "output_type": "stream",
     "text": [
      "6M1H unlabelled: 1\n",
      "label_seq_id 394\n",
      "assigning 394 of gprotein gen. number: G.H5.26\n",
      "assinging res_nums to gprot of 6M1I\n",
      "Mapping found!\n"
     ]
    },
    {
     "name": "stderr",
     "output_type": "stream",
     "text": [
      "\r",
      "  6%|█████████████████▏                                                                                                                                                                                                                                                                 | 2/32 [00:01<00:20,  1.44it/s]"
     ]
    },
    {
     "name": "stdout",
     "output_type": "stream",
     "text": [
      "assinging res_nums to gprot of 6M1I\n",
      "Mapping found!\n"
     ]
    },
    {
     "name": "stderr",
     "output_type": "stream",
     "text": [
      "\r",
      "  9%|█████████████████████████▊                                                                                                                                                                                                                                                         | 3/32 [00:02<00:20,  1.43it/s]"
     ]
    },
    {
     "name": "stdout",
     "output_type": "stream",
     "text": [
      "6M1I unlabelled: 1\n",
      "label_seq_id 394\n",
      "assigning 394 of gprotein gen. number: G.H5.26\n",
      "assinging res_nums to gprot of 6N4B\n",
      "Mapping found!\n"
     ]
    },
    {
     "name": "stderr",
     "output_type": "stream",
     "text": [
      "\r",
      " 12%|██████████████████████████████████▍                                                                                                                                                                                                                                                | 4/32 [00:02<00:18,  1.51it/s]"
     ]
    },
    {
     "name": "stdout",
     "output_type": "stream",
     "text": [
      "assinging res_nums to gprot of 6N4B\n",
      "Mapping found!\n"
     ]
    },
    {
     "name": "stderr",
     "output_type": "stream",
     "text": [
      "\r",
      " 16%|██████████████████████████████████████████▉                                                                                                                                                                                                                                        | 5/32 [00:03<00:17,  1.55it/s]"
     ]
    },
    {
     "name": "stdout",
     "output_type": "stream",
     "text": [
      "6N4B unlabelled: 1\n",
      "label_seq_id 354\n",
      "assigning 354 of gprotein gen. number: G.H5.26\n",
      "assinging res_nums to gprot of 6NBF\n",
      "Mapping found!\n"
     ]
    },
    {
     "name": "stderr",
     "output_type": "stream",
     "text": [
      "\r",
      " 19%|███████████████████████████████████████████████████▌                                                                                                                                                                                                                               | 6/32 [00:04<00:18,  1.42it/s]"
     ]
    },
    {
     "name": "stdout",
     "output_type": "stream",
     "text": [
      "assinging res_nums to gprot of 6NBF\n",
      "Mapping found!\n"
     ]
    },
    {
     "name": "stderr",
     "output_type": "stream",
     "text": [
      "\r",
      " 22%|████████████████████████████████████████████████████████████▏                                                                                                                                                                                                                      | 7/32 [00:04<00:18,  1.35it/s]"
     ]
    },
    {
     "name": "stdout",
     "output_type": "stream",
     "text": [
      "6NBF unlabelled: 1\n",
      "label_seq_id 378\n",
      "assigning 378 of gprotein gen. number: G.H5.26\n",
      "assinging res_nums to gprot of 6NBH\n",
      "Mapping found!\n"
     ]
    },
    {
     "name": "stderr",
     "output_type": "stream",
     "text": [
      "\r",
      " 25%|████████████████████████████████████████████████████████████████████▊                                                                                                                                                                                                              | 8/32 [00:05<00:18,  1.30it/s]"
     ]
    },
    {
     "name": "stdout",
     "output_type": "stream",
     "text": [
      "assinging res_nums to gprot of 6NBH\n",
      "Mapping found!\n"
     ]
    },
    {
     "name": "stderr",
     "output_type": "stream",
     "text": [
      "\r",
      " 28%|█████████████████████████████████████████████████████████████████████████████▎                                                                                                                                                                                                     | 9/32 [00:06<00:18,  1.27it/s]"
     ]
    },
    {
     "name": "stdout",
     "output_type": "stream",
     "text": [
      "6NBH unlabelled: 1\n",
      "label_seq_id 378\n",
      "assigning 378 of gprotein gen. number: G.H5.26\n",
      "assinging res_nums to gprot of 6NBI\n",
      "Mapping found!\n"
     ]
    },
    {
     "name": "stderr",
     "output_type": "stream",
     "text": [
      "\r",
      " 31%|█████████████████████████████████████████████████████████████████████████████████████▋                                                                                                                                                                                            | 10/32 [00:07<00:17,  1.26it/s]"
     ]
    },
    {
     "name": "stdout",
     "output_type": "stream",
     "text": [
      "assinging res_nums to gprot of 6NBI\n",
      "Mapping found!\n"
     ]
    },
    {
     "name": "stderr",
     "output_type": "stream",
     "text": [
      "\r",
      " 34%|██████████████████████████████████████████████████████████████████████████████████████████████▏                                                                                                                                                                                   | 11/32 [00:08<00:16,  1.25it/s]"
     ]
    },
    {
     "name": "stdout",
     "output_type": "stream",
     "text": [
      "6NBI unlabelled: 1\n",
      "label_seq_id 378\n",
      "assigning 378 of gprotein gen. number: G.H5.26\n",
      "assinging res_nums to gprot of 6NI3\n",
      "Mapping found!\n"
     ]
    },
    {
     "name": "stderr",
     "output_type": "stream",
     "text": [
      "\r",
      " 38%|██████████████████████████████████████████████████████████████████████████████████████████████████████▊                                                                                                                                                                           | 12/32 [00:08<00:15,  1.33it/s]"
     ]
    },
    {
     "name": "stdout",
     "output_type": "stream",
     "text": [
      "assinging res_nums to gprot of 6NI3\n",
      "Mapping found!\n"
     ]
    },
    {
     "name": "stderr",
     "output_type": "stream",
     "text": [
      "\r",
      " 41%|███████████████████████████████████████████████████████████████████████████████████████████████████████████████▎                                                                                                                                                                  | 13/32 [00:09<00:13,  1.39it/s]"
     ]
    },
    {
     "name": "stdout",
     "output_type": "stream",
     "text": [
      "assinging res_nums to gprot of 6NIY\n",
      "Mapping found!\n"
     ]
    },
    {
     "name": "stderr",
     "output_type": "stream",
     "text": [
      "\r",
      " 44%|███████████████████████████████████████████████████████████████████████████████████████████████████████████████████████▉                                                                                                                                                          | 14/32 [00:10<00:12,  1.45it/s]"
     ]
    },
    {
     "name": "stdout",
     "output_type": "stream",
     "text": [
      "assinging res_nums to gprot of 6NIY\n",
      "Mapping found!\n"
     ]
    },
    {
     "name": "stderr",
     "output_type": "stream",
     "text": [
      "\r",
      " 47%|████████████████████████████████████████████████████████████████████████████████████████████████████████████████████████████████▍                                                                                                                                                 | 15/32 [00:10<00:11,  1.49it/s]"
     ]
    },
    {
     "name": "stdout",
     "output_type": "stream",
     "text": [
      "6NIY unlabelled: 1\n",
      "label_seq_id 394\n",
      "assigning 394 of gprotein gen. number: G.H5.26\n",
      "assinging res_nums to gprot of 6NWE\n",
      "No mapping (no uniprot-seq) information found! ====> PRESUMABLY A MINI G!\n"
     ]
    },
    {
     "name": "stderr",
     "output_type": "stream",
     "text": [
      "\r",
      " 50%|█████████████████████████████████████████████████████████████████████████████████████████████████████████████████████████████████████████                                                                                                                                         | 16/32 [00:11<00:09,  1.73it/s]"
     ]
    },
    {
     "name": "stdout",
     "output_type": "stream",
     "text": [
      "                       entity_id chain_id  start  end  unp_end  unp_start  \\\n",
      "index                                                                       \n",
      "author_residue_number          1        B      1   10      349        340   \n",
      "author_insertion_code          1        B      1   10      349        340   \n",
      "residue_number                 1        B      1   10      349        340   \n",
      "\n",
      "                      struct_asym_id   PDB uniprot  \n",
      "index                                               \n",
      "author_residue_number              B  6NWE  P04695  \n",
      "author_insertion_code              B  6NWE  P04695  \n",
      "residue_number                     B  6NWE  P04695  \n",
      "6NWE unlabelled: 1\n",
      "label_seq_id 11\n",
      "assigning 11 of gprotein gen. number: G.H5.26\n",
      "assinging res_nums to gprot of 6NWE\n",
      "No mapping (no uniprot-seq) information found! ====> PRESUMABLY A MINI G!\n"
     ]
    },
    {
     "name": "stderr",
     "output_type": "stream",
     "text": [
      "\r",
      " 53%|█████████████████████████████████████████████████████████████████████████████████████████████████████████████████████████████████████████████████▌                                                                                                                                | 17/32 [00:11<00:07,  1.96it/s]"
     ]
    },
    {
     "name": "stdout",
     "output_type": "stream",
     "text": [
      "                       entity_id chain_id  start  end  unp_end  unp_start  \\\n",
      "index                                                                       \n",
      "author_residue_number          1        B      1   10      349        340   \n",
      "author_insertion_code          1        B      1   10      349        340   \n",
      "residue_number                 1        B      1   10      349        340   \n",
      "\n",
      "                      struct_asym_id   PDB uniprot  \n",
      "index                                               \n",
      "author_residue_number              B  6NWE  P04695  \n",
      "author_insertion_code              B  6NWE  P04695  \n",
      "residue_number                     B  6NWE  P04695  \n",
      "6NWE unlabelled: 1\n",
      "label_seq_id 11\n",
      "assigning 11 of gprotein gen. number: G.H5.26\n",
      "assinging res_nums to gprot of 6OIJ\n",
      "Mapping found!\n"
     ]
    },
    {
     "name": "stderr",
     "output_type": "stream",
     "text": [
      "\r",
      " 56%|██████████████████████████████████████████████████████████████████████████████████████████████████████████████████████████████████████████████████████████▏                                                                                                                       | 18/32 [00:12<00:07,  1.83it/s]"
     ]
    },
    {
     "name": "stdout",
     "output_type": "stream",
     "text": [
      "assinging res_nums to gprot of 6OIJ\n",
      "Mapping found!\n"
     ]
    },
    {
     "name": "stderr",
     "output_type": "stream",
     "text": [
      "\r",
      " 59%|██████████████████████████████████████████████████████████████████████████████████████████████████████████████████████████████████████████████████████████████████▋                                                                                                               | 19/32 [00:12<00:07,  1.74it/s]"
     ]
    },
    {
     "name": "stdout",
     "output_type": "stream",
     "text": [
      "6OIJ unlabelled: 1\n",
      "label_seq_id 353\n",
      "assigning 353 of gprotein gen. number: G.H5.26\n",
      "assinging res_nums to gprot of 6OIK\n",
      "Mapping found!\n"
     ]
    },
    {
     "name": "stderr",
     "output_type": "stream",
     "text": [
      "\r",
      " 62%|███████████████████████████████████████████████████████████████████████████████████████████████████████████████████████████████████████████████████████████████████████████▎                                                                                                      | 20/32 [00:13<00:07,  1.71it/s]"
     ]
    },
    {
     "name": "stdout",
     "output_type": "stream",
     "text": [
      "assinging res_nums to gprot of 6OIK\n",
      "Mapping found!\n"
     ]
    },
    {
     "name": "stderr",
     "output_type": "stream",
     "text": [
      "\r",
      " 66%|███████████████████████████████████████████████████████████████████████████████████████████████████████████████████████████████████████████████████████████████████████████████████▊                                                                                              | 21/32 [00:13<00:06,  1.68it/s]"
     ]
    },
    {
     "name": "stdout",
     "output_type": "stream",
     "text": [
      "6OIK unlabelled: 1\n",
      "label_seq_id 354\n",
      "assigning 354 of gprotein gen. number: G.H5.26\n",
      "assinging res_nums to gprot of 6OMM\n",
      "Mapping found!\n"
     ]
    },
    {
     "name": "stderr",
     "output_type": "stream",
     "text": [
      "\r",
      " 69%|████████████████████████████████████████████████████████████████████████████████████████████████████████████████████████████████████████████████████████████████████████████████████████████▍                                                                                     | 22/32 [00:14<00:06,  1.66it/s]"
     ]
    },
    {
     "name": "stdout",
     "output_type": "stream",
     "text": [
      "assinging res_nums to gprot of 6OMM\n",
      "Mapping found!\n"
     ]
    },
    {
     "name": "stderr",
     "output_type": "stream",
     "text": [
      "\r",
      " 72%|████████████████████████████████████████████████████████████████████████████████████████████████████████████████████████████████████████████████████████████████████████████████████████████████████▉                                                                             | 23/32 [00:15<00:05,  1.64it/s]"
     ]
    },
    {
     "name": "stdout",
     "output_type": "stream",
     "text": [
      "6OMM unlabelled: 1\n",
      "label_seq_id 353\n",
      "assigning 353 of gprotein gen. number: G.H5.26\n",
      "assinging res_nums to gprot of 6ORV\n",
      "Mapping found!\n"
     ]
    },
    {
     "name": "stderr",
     "output_type": "stream",
     "text": [
      "\r",
      " 75%|█████████████████████████████████████████████████████████████████████████████████████████████████████████████████████████████████████████████████████████████████████████████████████████████████████████████▌                                                                    | 24/32 [00:15<00:04,  1.61it/s]"
     ]
    },
    {
     "name": "stdout",
     "output_type": "stream",
     "text": [
      "assinging res_nums to gprot of 6ORV\n",
      "Mapping found!\n"
     ]
    },
    {
     "name": "stderr",
     "output_type": "stream",
     "text": [
      "\r",
      " 78%|██████████████████████████████████████████████████████████████████████████████████████████████████████████████████████████████████████████████████████████████████████████████████████████████████████████████████████                                                            | 25/32 [00:16<00:04,  1.58it/s]"
     ]
    },
    {
     "name": "stdout",
     "output_type": "stream",
     "text": [
      "6ORV unlabelled: 1\n",
      "label_seq_id 394\n",
      "assigning 394 of gprotein gen. number: G.H5.26\n",
      "assinging res_nums to gprot of 6OS9\n",
      "Mapping found!\n"
     ]
    },
    {
     "name": "stderr",
     "output_type": "stream",
     "text": [
      "\r",
      " 81%|██████████████████████████████████████████████████████████████████████████████████████████████████████████████████████████████████████████████████████████████████████████████████████████████████████████████████████████████▋                                                   | 26/32 [00:17<00:03,  1.59it/s]"
     ]
    },
    {
     "name": "stdout",
     "output_type": "stream",
     "text": [
      "assinging res_nums to gprot of 6OS9\n",
      "Mapping found!\n"
     ]
    },
    {
     "name": "stderr",
     "output_type": "stream",
     "text": [
      "\r",
      " 84%|███████████████████████████████████████████████████████████████████████████████████████████████████████████████████████████████████████████████████████████████████████████████████████████████████████████████████████████████████████▏                                          | 27/32 [00:17<00:03,  1.59it/s]"
     ]
    },
    {
     "name": "stdout",
     "output_type": "stream",
     "text": [
      "6OS9 unlabelled: 1\n",
      "label_seq_id 354\n",
      "assigning 354 of gprotein gen. number: G.H5.26\n",
      "assinging res_nums to gprot of 6OSA\n",
      "Mapping found!\n"
     ]
    },
    {
     "name": "stderr",
     "output_type": "stream",
     "text": [
      "\r",
      " 88%|███████████████████████████████████████████████████████████████████████████████████████████████████████████████████████████████████████████████████████████████████████████████████████████████████████████████████████████████████████████████▊                                  | 28/32 [00:18<00:02,  1.64it/s]"
     ]
    },
    {
     "name": "stdout",
     "output_type": "stream",
     "text": [
      "assinging res_nums to gprot of 6OSA\n",
      "Mapping found!\n"
     ]
    },
    {
     "name": "stderr",
     "output_type": "stream",
     "text": [
      "\r",
      " 91%|████████████████████████████████████████████████████████████████████████████████████████████████████████████████████████████████████████████████████████████████████████████████████████████████████████████████████████████████████████████████████████▎                         | 29/32 [00:18<00:01,  1.67it/s]"
     ]
    },
    {
     "name": "stdout",
     "output_type": "stream",
     "text": [
      "6OSA unlabelled: 1\n",
      "label_seq_id 354\n",
      "assigning 354 of gprotein gen. number: G.H5.26\n",
      "assinging res_nums to gprot of 6OT0\n",
      "Mapping found!\n"
     ]
    },
    {
     "name": "stderr",
     "output_type": "stream",
     "text": [
      "\r",
      " 94%|████████████████████████████████████████████████████████████████████████████████████████████████████████████████████████████████████████████████████████████████████████████████████████████████████████████████████████████████████████████████████████████████▉                 | 30/32 [00:19<00:01,  1.57it/s]"
     ]
    },
    {
     "name": "stdout",
     "output_type": "stream",
     "text": [
      "assinging res_nums to gprot of 6OT0\n",
      "Mapping found!\n"
     ]
    },
    {
     "name": "stderr",
     "output_type": "stream",
     "text": [
      "\r",
      " 97%|█████████████████████████████████████████████████████████████████████████████████████████████████████████████████████████████████████████████████████████████████████████████████████████████████████████████████████████████████████████████████████████████████████████▍        | 31/32 [00:20<00:00,  1.51it/s]"
     ]
    },
    {
     "name": "stdout",
     "output_type": "stream",
     "text": [
      "6OT0 unlabelled: 1\n",
      "label_seq_id 354\n",
      "assigning 354 of gprotein gen. number: G.H5.26\n",
      "assinging res_nums to gprot of 6OY9\n",
      "Mapping found!\n"
     ]
    },
    {
     "name": "stderr",
     "output_type": "stream",
     "text": [
      "100%|██████████████████████████████████████████████████████████████████████████████████████████████████████████████████████████████████████████████████████████████████████████████████████████████████████████████████████████████████████████████████████████████████████████████████| 32/32 [00:20<00:00,  1.53it/s]\n",
      "  0%|                                                                                                                                                                                                                                                                                           | 0/32 [00:00<?, ?it/s]"
     ]
    },
    {
     "name": "stdout",
     "output_type": "stream",
     "text": [
      "BATCH 3\n",
      "assinging res_nums to gprot of 6OY9\n",
      "Mapping found!\n"
     ]
    },
    {
     "name": "stderr",
     "output_type": "stream",
     "text": [
      "\r",
      "  3%|████████▌                                                                                                                                                                                                                                                                          | 1/32 [00:00<00:17,  1.75it/s]"
     ]
    },
    {
     "name": "stdout",
     "output_type": "stream",
     "text": [
      "6OY9 unlabelled: 1\n",
      "label_seq_id 359\n",
      "assigning 359 of gprotein gen. number: G.H5.26\n",
      "assinging res_nums to gprot of 6OYA\n",
      "Mapping found!\n"
     ]
    },
    {
     "name": "stderr",
     "output_type": "stream",
     "text": [
      "\r",
      "  6%|█████████████████▏                                                                                                                                                                                                                                                                 | 2/32 [00:01<00:17,  1.72it/s]"
     ]
    },
    {
     "name": "stdout",
     "output_type": "stream",
     "text": [
      "assinging res_nums to gprot of 6OYA\n",
      "Mapping found!\n"
     ]
    },
    {
     "name": "stderr",
     "output_type": "stream",
     "text": [
      "\r",
      "  9%|█████████████████████████▊                                                                                                                                                                                                                                                         | 3/32 [00:01<00:17,  1.70it/s]"
     ]
    },
    {
     "name": "stdout",
     "output_type": "stream",
     "text": [
      "6OYA unlabelled: 1\n",
      "label_seq_id 359\n",
      "assigning 359 of gprotein gen. number: G.H5.26\n",
      "assinging res_nums to gprot of 6P9X\n",
      "Mapping found!\n"
     ]
    },
    {
     "name": "stderr",
     "output_type": "stream",
     "text": [
      "\r",
      " 12%|██████████████████████████████████▍                                                                                                                                                                                                                                                | 4/32 [00:02<00:17,  1.63it/s]"
     ]
    },
    {
     "name": "stdout",
     "output_type": "stream",
     "text": [
      "assinging res_nums to gprot of 6P9X\n",
      "Mapping found!\n"
     ]
    },
    {
     "name": "stderr",
     "output_type": "stream",
     "text": [
      "\r",
      " 16%|██████████████████████████████████████████▉                                                                                                                                                                                                                                        | 5/32 [00:03<00:17,  1.59it/s]"
     ]
    },
    {
     "name": "stdout",
     "output_type": "stream",
     "text": [
      "6P9X unlabelled: 1\n",
      "label_seq_id 394\n",
      "assigning 394 of gprotein gen. number: G.H5.26\n",
      "assinging res_nums to gprot of 6P9Y\n",
      "Mapping found!\n"
     ]
    },
    {
     "name": "stderr",
     "output_type": "stream",
     "text": [
      "\r",
      " 19%|███████████████████████████████████████████████████▌                                                                                                                                                                                                                               | 6/32 [00:03<00:16,  1.58it/s]"
     ]
    },
    {
     "name": "stdout",
     "output_type": "stream",
     "text": [
      "assinging res_nums to gprot of 6P9Y\n",
      "Mapping found!\n"
     ]
    },
    {
     "name": "stderr",
     "output_type": "stream",
     "text": [
      "\r",
      " 22%|████████████████████████████████████████████████████████████▏                                                                                                                                                                                                                      | 7/32 [00:04<00:15,  1.56it/s]"
     ]
    },
    {
     "name": "stdout",
     "output_type": "stream",
     "text": [
      "6P9Y unlabelled: 1\n",
      "label_seq_id 394\n",
      "assigning 394 of gprotein gen. number: G.H5.26\n",
      "assinging res_nums to gprot of 6PB0\n",
      "Mapping found!\n"
     ]
    },
    {
     "name": "stderr",
     "output_type": "stream",
     "text": [
      "\r",
      " 25%|████████████████████████████████████████████████████████████████████▊                                                                                                                                                                                                              | 8/32 [00:05<00:16,  1.46it/s]"
     ]
    },
    {
     "name": "stdout",
     "output_type": "stream",
     "text": [
      "assinging res_nums to gprot of 6PB0\n",
      "Mapping found!\n"
     ]
    },
    {
     "name": "stderr",
     "output_type": "stream",
     "text": [
      "\r",
      " 28%|█████████████████████████████████████████████████████████████████████████████▎                                                                                                                                                                                                     | 9/32 [00:05<00:16,  1.38it/s]"
     ]
    },
    {
     "name": "stdout",
     "output_type": "stream",
     "text": [
      "6PB0 unlabelled: 1\n",
      "label_seq_id 378\n",
      "assigning 378 of gprotein gen. number: G.H5.26\n",
      "assinging res_nums to gprot of 6PB1\n",
      "Mapping found!\n"
     ]
    },
    {
     "name": "stderr",
     "output_type": "stream",
     "text": [
      "\r",
      " 31%|█████████████████████████████████████████████████████████████████████████████████████▋                                                                                                                                                                                            | 10/32 [00:06<00:16,  1.34it/s]"
     ]
    },
    {
     "name": "stdout",
     "output_type": "stream",
     "text": [
      "assinging res_nums to gprot of 6PB1\n",
      "Mapping found!\n"
     ]
    },
    {
     "name": "stderr",
     "output_type": "stream",
     "text": [
      "\r",
      " 34%|██████████████████████████████████████████████████████████████████████████████████████████████▏                                                                                                                                                                                   | 11/32 [00:07<00:16,  1.31it/s]"
     ]
    },
    {
     "name": "stdout",
     "output_type": "stream",
     "text": [
      "6PB1 unlabelled: 1\n",
      "label_seq_id 378\n",
      "assigning 378 of gprotein gen. number: G.H5.26\n",
      "assinging res_nums to gprot of 6PEL\n",
      "No mapping (no uniprot-seq) information found! ====> PRESUMABLY A MINI G!\n",
      "                       entity_id chain_id  start  end  unp_end  unp_start  \\\n",
      "index                                                                       \n",
      "author_residue_number          1        B      1   10      349        340   \n",
      "author_insertion_code          1        B      1   10      349        340   \n",
      "residue_number                 1        B      1   10      349        340   \n",
      "\n",
      "                      struct_asym_id   PDB uniprot  \n",
      "index                                               \n",
      "author_residue_number              B  6PEL  P04695  \n",
      "author_insertion_code              B  6PEL  P04695  \n",
      "residue_number                     B  6PEL  P04695  \n"
     ]
    },
    {
     "name": "stderr",
     "output_type": "stream",
     "text": [
      "\r",
      " 38%|██████████████████████████████████████████████████████████████████████████████████████████████████████▊                                                                                                                                                                           | 12/32 [00:07<00:12,  1.65it/s]"
     ]
    },
    {
     "name": "stdout",
     "output_type": "stream",
     "text": [
      "6PEL unlabelled: 1\n",
      "label_seq_id 11\n",
      "assigning 11 of gprotein gen. number: G.H5.26\n",
      "assinging res_nums to gprot of 6PEL\n",
      "No mapping (no uniprot-seq) information found! ====> PRESUMABLY A MINI G!\n",
      "                       entity_id chain_id  start  end  unp_end  unp_start  \\\n",
      "index                                                                       \n",
      "author_residue_number          1        B      1   10      349        340   \n",
      "author_insertion_code          1        B      1   10      349        340   \n",
      "residue_number                 1        B      1   10      349        340   \n",
      "\n",
      "                      struct_asym_id   PDB uniprot  \n",
      "index                                               \n",
      "author_residue_number              B  6PEL  P04695  \n",
      "author_insertion_code              B  6PEL  P04695  \n",
      "residue_number                     B  6PEL  P04695  \n"
     ]
    },
    {
     "name": "stderr",
     "output_type": "stream",
     "text": [
      "\r",
      " 41%|███████████████████████████████████████████████████████████████████████████████████████████████████████████████▎                                                                                                                                                                  | 13/32 [00:08<00:09,  2.01it/s]"
     ]
    },
    {
     "name": "stdout",
     "output_type": "stream",
     "text": [
      "6PEL unlabelled: 1\n",
      "label_seq_id 11\n",
      "assigning 11 of gprotein gen. number: G.H5.26\n",
      "assinging res_nums to gprot of 6PGS\n",
      "No mapping (no uniprot-seq) information found! ====> PRESUMABLY A MINI G!\n"
     ]
    },
    {
     "name": "stderr",
     "output_type": "stream",
     "text": [
      "\r",
      " 44%|███████████████████████████████████████████████████████████████████████████████████████████████████████████████████████▉                                                                                                                                                          | 14/32 [00:08<00:08,  2.19it/s]"
     ]
    },
    {
     "name": "stdout",
     "output_type": "stream",
     "text": [
      "                       entity_id chain_id  start  end  unp_end  unp_start  \\\n",
      "index                                                                       \n",
      "author_residue_number          1        B      1   10      349        340   \n",
      "author_insertion_code          1        B      1   10      349        340   \n",
      "residue_number                 1        B      1   10      349        340   \n",
      "\n",
      "                      struct_asym_id   PDB uniprot  \n",
      "index                                               \n",
      "author_residue_number              B  6PGS  P04695  \n",
      "author_insertion_code              B  6PGS  P04695  \n",
      "residue_number                     B  6PGS  P04695  \n",
      "6PGS unlabelled: 1\n",
      "label_seq_id 11\n",
      "assigning 11 of gprotein gen. number: G.H5.26\n",
      "assinging res_nums to gprot of 6PGS\n",
      "No mapping (no uniprot-seq) information found! ====> PRESUMABLY A MINI G!\n"
     ]
    },
    {
     "name": "stderr",
     "output_type": "stream",
     "text": [
      "\r",
      " 47%|████████████████████████████████████████████████████████████████████████████████████████████████████████████████████████████████▍                                                                                                                                                 | 15/32 [00:08<00:07,  2.35it/s]"
     ]
    },
    {
     "name": "stdout",
     "output_type": "stream",
     "text": [
      "                       entity_id chain_id  start  end  unp_end  unp_start  \\\n",
      "index                                                                       \n",
      "author_residue_number          1        B      1   10      349        340   \n",
      "author_insertion_code          1        B      1   10      349        340   \n",
      "residue_number                 1        B      1   10      349        340   \n",
      "\n",
      "                      struct_asym_id   PDB uniprot  \n",
      "index                                               \n",
      "author_residue_number              B  6PGS  P04695  \n",
      "author_insertion_code              B  6PGS  P04695  \n",
      "residue_number                     B  6PGS  P04695  \n",
      "6PGS unlabelled: 1\n",
      "label_seq_id 11\n",
      "assigning 11 of gprotein gen. number: G.H5.26\n",
      "assinging res_nums to gprot of 6PH7\n",
      "No mapping (no uniprot-seq) information found! ====> PRESUMABLY A MINI G!\n"
     ]
    },
    {
     "name": "stderr",
     "output_type": "stream",
     "text": [
      "\r",
      " 50%|█████████████████████████████████████████████████████████████████████████████████████████████████████████████████████████████████████████                                                                                                                                         | 16/32 [00:09<00:06,  2.46it/s]"
     ]
    },
    {
     "name": "stdout",
     "output_type": "stream",
     "text": [
      "                       entity_id chain_id  start  end  unp_end  unp_start  \\\n",
      "index                                                                       \n",
      "author_residue_number          1        B      1   10      349        340   \n",
      "author_insertion_code          1        B      1   10      349        340   \n",
      "residue_number                 1        B      1   10      349        340   \n",
      "\n",
      "                      struct_asym_id   PDB uniprot  \n",
      "index                                               \n",
      "author_residue_number              B  6PH7  P04695  \n",
      "author_insertion_code              B  6PH7  P04695  \n",
      "residue_number                     B  6PH7  P04695  \n",
      "6PH7 unlabelled: 1\n",
      "label_seq_id 11\n",
      "assigning 11 of gprotein gen. number: G.H5.26\n",
      "assinging res_nums to gprot of 6PH7\n",
      "No mapping (no uniprot-seq) information found! ====> PRESUMABLY A MINI G!\n"
     ]
    },
    {
     "name": "stderr",
     "output_type": "stream",
     "text": [
      "\r",
      " 53%|█████████████████████████████████████████████████████████████████████████████████████████████████████████████████████████████████████████████████▌                                                                                                                                | 17/32 [00:09<00:05,  2.56it/s]"
     ]
    },
    {
     "name": "stdout",
     "output_type": "stream",
     "text": [
      "                       entity_id chain_id  start  end  unp_end  unp_start  \\\n",
      "index                                                                       \n",
      "author_residue_number          1        B      1   10      349        340   \n",
      "author_insertion_code          1        B      1   10      349        340   \n",
      "residue_number                 1        B      1   10      349        340   \n",
      "\n",
      "                      struct_asym_id   PDB uniprot  \n",
      "index                                               \n",
      "author_residue_number              B  6PH7  P04695  \n",
      "author_insertion_code              B  6PH7  P04695  \n",
      "residue_number                     B  6PH7  P04695  \n",
      "6PH7 unlabelled: 1\n",
      "label_seq_id 11\n",
      "assigning 11 of gprotein gen. number: G.H5.26\n",
      "assinging res_nums to gprot of 6PT0\n",
      "Mapping found!\n"
     ]
    },
    {
     "name": "stderr",
     "output_type": "stream",
     "text": [
      "\r",
      " 56%|██████████████████████████████████████████████████████████████████████████████████████████████████████████████████████████████████████████████████████████▏                                                                                                                       | 18/32 [00:10<00:06,  2.07it/s]"
     ]
    },
    {
     "name": "stdout",
     "output_type": "stream",
     "text": [
      "assinging res_nums to gprot of 6PT0\n",
      "Mapping found!\n"
     ]
    },
    {
     "name": "stderr",
     "output_type": "stream",
     "text": [
      "\r",
      " 59%|██████████████████████████████████████████████████████████████████████████████████████████████████████████████████████████████████████████████████████████████████▋                                                                                                               | 19/32 [00:10<00:07,  1.81it/s]"
     ]
    },
    {
     "name": "stdout",
     "output_type": "stream",
     "text": [
      "6PT0 unlabelled: 1\n",
      "label_seq_id 354\n",
      "assigning 354 of gprotein gen. number: G.H5.26\n",
      "assinging res_nums to gprot of 6QNO\n",
      "Mapping found!\n"
     ]
    },
    {
     "name": "stderr",
     "output_type": "stream",
     "text": [
      "\r",
      " 62%|███████████████████████████████████████████████████████████████████████████████████████████████████████████████████████████████████████████████████████████████████████████▎                                                                                                      | 20/32 [00:11<00:07,  1.70it/s]"
     ]
    },
    {
     "name": "stdout",
     "output_type": "stream",
     "text": [
      "assinging res_nums to gprot of 6QNO\n",
      "Mapping found!\n"
     ]
    },
    {
     "name": "stderr",
     "output_type": "stream",
     "text": [
      "\r",
      " 66%|███████████████████████████████████████████████████████████████████████████████████████████████████████████████████████████████████████████████████████████████████████████████████▊                                                                                              | 21/32 [00:12<00:06,  1.62it/s]"
     ]
    },
    {
     "name": "stdout",
     "output_type": "stream",
     "text": [
      "6QNO unlabelled: 1\n",
      "label_seq_id 376\n",
      "assigning 376 of gprotein gen. number: G.H5.26\n",
      "assinging res_nums to gprot of 6UUN\n",
      "Mapping found!\n"
     ]
    },
    {
     "name": "stderr",
     "output_type": "stream",
     "text": [
      "\r",
      " 69%|████████████████████████████████████████████████████████████████████████████████████████████████████████████████████████████████████████████████████████████████████████████████████████████▍                                                                                     | 22/32 [00:12<00:06,  1.57it/s]"
     ]
    },
    {
     "name": "stdout",
     "output_type": "stream",
     "text": [
      "assinging res_nums to gprot of 6UUN\n",
      "Mapping found!\n"
     ]
    },
    {
     "name": "stderr",
     "output_type": "stream",
     "text": [
      "\r",
      " 72%|████████████████████████████████████████████████████████████████████████████████████████████████████████████████████████████████████████████████████████████████████████████████████████████████████▉                                                                             | 23/32 [00:13<00:05,  1.53it/s]"
     ]
    },
    {
     "name": "stdout",
     "output_type": "stream",
     "text": [
      "6UUN unlabelled: 1\n",
      "label_seq_id 394\n",
      "assigning 394 of gprotein gen. number: G.H5.26\n",
      "assinging res_nums to gprot of 6UUS\n",
      "Mapping found!\n"
     ]
    },
    {
     "name": "stderr",
     "output_type": "stream",
     "text": [
      "\r",
      " 75%|█████████████████████████████████████████████████████████████████████████████████████████████████████████████████████████████████████████████████████████████████████████████████████████████████████████████▌                                                                    | 24/32 [00:14<00:05,  1.51it/s]"
     ]
    },
    {
     "name": "stdout",
     "output_type": "stream",
     "text": [
      "assinging res_nums to gprot of 6UUS\n",
      "Mapping found!\n"
     ]
    },
    {
     "name": "stderr",
     "output_type": "stream",
     "text": [
      "\r",
      " 78%|██████████████████████████████████████████████████████████████████████████████████████████████████████████████████████████████████████████████████████████████████████████████████████████████████████████████████████                                                            | 25/32 [00:15<00:04,  1.48it/s]"
     ]
    },
    {
     "name": "stdout",
     "output_type": "stream",
     "text": [
      "6UUS unlabelled: 1\n",
      "label_seq_id 394\n",
      "assigning 394 of gprotein gen. number: G.H5.26\n",
      "assinging res_nums to gprot of 6UVA\n",
      "Mapping found!\n"
     ]
    },
    {
     "name": "stderr",
     "output_type": "stream",
     "text": [
      "\r",
      " 81%|██████████████████████████████████████████████████████████████████████████████████████████████████████████████████████████████████████████████████████████████████████████████████████████████████████████████████████████████▋                                                   | 26/32 [00:15<00:04,  1.46it/s]"
     ]
    },
    {
     "name": "stdout",
     "output_type": "stream",
     "text": [
      "assinging res_nums to gprot of 6UVA\n",
      "Mapping found!\n"
     ]
    },
    {
     "name": "stderr",
     "output_type": "stream",
     "text": [
      "\r",
      " 84%|███████████████████████████████████████████████████████████████████████████████████████████████████████████████████████████████████████████████████████████████████████████████████████████████████████████████████████████████████████▏                                          | 27/32 [00:16<00:03,  1.44it/s]"
     ]
    },
    {
     "name": "stdout",
     "output_type": "stream",
     "text": [
      "6UVA unlabelled: 1\n",
      "label_seq_id 394\n",
      "assigning 394 of gprotein gen. number: G.H5.26\n",
      "assinging res_nums to gprot of 6VCB\n",
      "Mapping found!\n"
     ]
    },
    {
     "name": "stderr",
     "output_type": "stream",
     "text": [
      "\r",
      " 88%|███████████████████████████████████████████████████████████████████████████████████████████████████████████████████████████████████████████████████████████████████████████████████████████████████████████████████████████████████████████████▊                                  | 28/32 [00:17<00:02,  1.45it/s]"
     ]
    },
    {
     "name": "stdout",
     "output_type": "stream",
     "text": [
      "assinging res_nums to gprot of 6VCB\n",
      "Mapping found!\n"
     ]
    },
    {
     "name": "stderr",
     "output_type": "stream",
     "text": [
      "\r",
      " 91%|████████████████████████████████████████████████████████████████████████████████████████████████████████████████████████████████████████████████████████████████████████████████████████████████████████████████████████████████████████████████████████▎                         | 29/32 [00:17<00:02,  1.46it/s]"
     ]
    },
    {
     "name": "stdout",
     "output_type": "stream",
     "text": [
      "assinging res_nums to gprot of 6VMS\n",
      "Mapping found!\n"
     ]
    },
    {
     "name": "stderr",
     "output_type": "stream",
     "text": [
      "\r",
      " 94%|████████████████████████████████████████████████████████████████████████████████████████████████████████████████████████████████████████████████████████████████████████████████████████████████████████████████████████████████████████████████████████████████▉                 | 30/32 [00:18<00:01,  1.50it/s]"
     ]
    },
    {
     "name": "stdout",
     "output_type": "stream",
     "text": [
      "assinging res_nums to gprot of 6VMS\n",
      "Mapping found!\n"
     ]
    },
    {
     "name": "stderr",
     "output_type": "stream",
     "text": [
      "\r",
      " 97%|█████████████████████████████████████████████████████████████████████████████████████████████████████████████████████████████████████████████████████████████████████████████████████████████████████████████████████████████████████████████████████████████████████████▍        | 31/32 [00:19<00:00,  1.52it/s]"
     ]
    },
    {
     "name": "stdout",
     "output_type": "stream",
     "text": [
      "6VMS unlabelled: 1\n",
      "label_seq_id 354\n",
      "assigning 354 of gprotein gen. number: G.H5.26\n",
      "assinging res_nums to gprot of 6VN7\n",
      "Mapping found!\n"
     ]
    },
    {
     "name": "stderr",
     "output_type": "stream",
     "text": [
      "100%|██████████████████████████████████████████████████████████████████████████████████████████████████████████████████████████████████████████████████████████████████████████████████████████████████████████████████████████████████████████████████████████████████████████████████| 32/32 [00:19<00:00,  1.62it/s]\n",
      "  0%|                                                                                                                                                                                                                                                                                           | 0/32 [00:00<?, ?it/s]"
     ]
    },
    {
     "name": "stdout",
     "output_type": "stream",
     "text": [
      "BATCH 4\n",
      "assinging res_nums to gprot of 6VN7\n",
      "Mapping found!\n"
     ]
    },
    {
     "name": "stderr",
     "output_type": "stream",
     "text": [
      "\r",
      "  3%|████████▌                                                                                                                                                                                                                                                                          | 1/32 [00:00<00:21,  1.47it/s]"
     ]
    },
    {
     "name": "stdout",
     "output_type": "stream",
     "text": [
      "6VN7 unlabelled: 1\n",
      "label_seq_id 394\n",
      "assigning 394 of gprotein gen. number: G.H5.26\n",
      "assinging res_nums to gprot of 6WHA\n",
      "No mapping (no uniprot-seq) information found! ====> PRESUMABLY A MINI G!\n",
      "                       entity_id chain_id  start  end  unp_end  unp_start  \\\n",
      "index                                                                       \n",
      "author_residue_number          1        B      5   50       57         12   \n",
      "author_insertion_code          1        B      5   50       57         12   \n",
      "residue_number                 1        B      5   50       57         12   \n",
      "author_residue_number          1        B     68   86      224        206   \n",
      "author_insertion_code          1        B     68   86      224        206   \n",
      "residue_number                 1        B     68   86      224        206   \n",
      "author_residue_number          1        B     93  114      252        231   \n",
      "author_insertion_code          1        B     93  114      252        231   \n",
      "residue_number                 1        B     93  114      252        231   \n",
      "author_residue_number          1        B    116  172      320        264   \n",
      "author_insertion_code          1        B    116  172      320        264   \n",
      "residue_number                 1        B    116  172      320        264   \n",
      "author_residue_number          1        B    183  216      364        331   \n",
      "author_insertion_code          1        B    183  216      364        331   \n",
      "residue_number                 1        B    183  216      364        331   \n",
      "author_residue_number          1        B    219  245      393        367   \n",
      "author_insertion_code          1        B    219  245      393        367   \n",
      "residue_number                 1        B    219  245      393        367   \n",
      "\n",
      "                      struct_asym_id   PDB uniprot  \n",
      "index                                               \n",
      "author_residue_number              B  6WHA  P04896  \n",
      "author_insertion_code              B  6WHA  P04896  \n",
      "residue_number                     B  6WHA  P04896  \n",
      "author_residue_number              B  6WHA  P04896  \n",
      "author_insertion_code              B  6WHA  P04896  \n",
      "residue_number                     B  6WHA  P04896  \n",
      "author_residue_number              B  6WHA  P04896  \n",
      "author_insertion_code              B  6WHA  P04896  \n",
      "residue_number                     B  6WHA  P04896  \n",
      "author_residue_number              B  6WHA  P04896  \n",
      "author_insertion_code              B  6WHA  P04896  \n",
      "residue_number                     B  6WHA  P04896  \n",
      "author_residue_number              B  6WHA  P04896  \n",
      "author_insertion_code              B  6WHA  P04896  \n",
      "residue_number                     B  6WHA  P04896  \n",
      "author_residue_number              B  6WHA  P04896  \n",
      "author_insertion_code              B  6WHA  P04896  \n",
      "residue_number                     B  6WHA  P04896  \n"
     ]
    },
    {
     "name": "stderr",
     "output_type": "stream",
     "text": [
      "\r",
      "  6%|█████████████████▏                                                                                                                                                                                                                                                                 | 2/32 [00:02<00:40,  1.34s/it]"
     ]
    },
    {
     "name": "stdout",
     "output_type": "stream",
     "text": [
      "6WHA unlabelled: 1\n",
      "label_seq_id 246\n",
      "assigning 246 of gprotein gen. number: G.H5.26\n",
      "assinging res_nums to gprot of 6WHA\n",
      "No mapping (no uniprot-seq) information found! ====> PRESUMABLY A MINI G!\n",
      "                       entity_id chain_id  start  end  unp_end  unp_start  \\\n",
      "index                                                                       \n",
      "author_residue_number          1        B      5   50       57         12   \n",
      "author_insertion_code          1        B      5   50       57         12   \n",
      "residue_number                 1        B      5   50       57         12   \n",
      "author_residue_number          1        B     68   86      224        206   \n",
      "author_insertion_code          1        B     68   86      224        206   \n",
      "residue_number                 1        B     68   86      224        206   \n",
      "author_residue_number          1        B     93  114      252        231   \n",
      "author_insertion_code          1        B     93  114      252        231   \n",
      "residue_number                 1        B     93  114      252        231   \n",
      "author_residue_number          1        B    116  172      320        264   \n",
      "author_insertion_code          1        B    116  172      320        264   \n",
      "residue_number                 1        B    116  172      320        264   \n",
      "author_residue_number          1        B    183  216      364        331   \n",
      "author_insertion_code          1        B    183  216      364        331   \n",
      "residue_number                 1        B    183  216      364        331   \n",
      "author_residue_number          1        B    219  245      393        367   \n",
      "author_insertion_code          1        B    219  245      393        367   \n",
      "residue_number                 1        B    219  245      393        367   \n",
      "\n",
      "                      struct_asym_id   PDB uniprot  \n",
      "index                                               \n",
      "author_residue_number              B  6WHA  P04896  \n",
      "author_insertion_code              B  6WHA  P04896  \n",
      "residue_number                     B  6WHA  P04896  \n",
      "author_residue_number              B  6WHA  P04896  \n",
      "author_insertion_code              B  6WHA  P04896  \n",
      "residue_number                     B  6WHA  P04896  \n",
      "author_residue_number              B  6WHA  P04896  \n",
      "author_insertion_code              B  6WHA  P04896  \n",
      "residue_number                     B  6WHA  P04896  \n",
      "author_residue_number              B  6WHA  P04896  \n",
      "author_insertion_code              B  6WHA  P04896  \n",
      "residue_number                     B  6WHA  P04896  \n",
      "author_residue_number              B  6WHA  P04896  \n",
      "author_insertion_code              B  6WHA  P04896  \n",
      "residue_number                     B  6WHA  P04896  \n",
      "author_residue_number              B  6WHA  P04896  \n",
      "author_insertion_code              B  6WHA  P04896  \n",
      "residue_number                     B  6WHA  P04896  \n"
     ]
    },
    {
     "name": "stderr",
     "output_type": "stream",
     "text": [
      "\r",
      "  9%|█████████████████████████▊                                                                                                                                                                                                                                                         | 3/32 [00:04<00:45,  1.55s/it]"
     ]
    },
    {
     "name": "stdout",
     "output_type": "stream",
     "text": [
      "6WHA unlabelled: 1\n",
      "label_seq_id 246\n",
      "assigning 246 of gprotein gen. number: G.H5.26\n",
      "assinging res_nums to gprot of 6WHC\n",
      "Mapping found!\n"
     ]
    },
    {
     "name": "stderr",
     "output_type": "stream",
     "text": [
      "\r",
      " 12%|██████████████████████████████████▍                                                                                                                                                                                                                                                | 4/32 [00:04<00:33,  1.21s/it]"
     ]
    },
    {
     "name": "stdout",
     "output_type": "stream",
     "text": [
      "assinging res_nums to gprot of 6WHC\n",
      "Mapping found!\n"
     ]
    },
    {
     "name": "stderr",
     "output_type": "stream",
     "text": [
      "\r",
      " 16%|██████████████████████████████████████████▉                                                                                                                                                                                                                                        | 5/32 [00:05<00:27,  1.02s/it]"
     ]
    },
    {
     "name": "stdout",
     "output_type": "stream",
     "text": [
      "6WHC unlabelled: 1\n",
      "label_seq_id 394\n",
      "assigning 394 of gprotein gen. number: G.H5.26\n",
      "assinging res_nums to gprot of 6WI9\n",
      "Mapping found!\n"
     ]
    },
    {
     "name": "stderr",
     "output_type": "stream",
     "text": [
      "\r",
      " 19%|███████████████████████████████████████████████████▌                                                                                                                                                                                                                               | 6/32 [00:06<00:23,  1.12it/s]"
     ]
    },
    {
     "name": "stdout",
     "output_type": "stream",
     "text": [
      "assinging res_nums to gprot of 6WI9\n",
      "Mapping found!\n"
     ]
    },
    {
     "name": "stderr",
     "output_type": "stream",
     "text": [
      "\r",
      " 22%|████████████████████████████████████████████████████████████▏                                                                                                                                                                                                                      | 7/32 [00:06<00:20,  1.22it/s]"
     ]
    },
    {
     "name": "stdout",
     "output_type": "stream",
     "text": [
      "6WI9 unlabelled: 1\n",
      "label_seq_id 394\n",
      "assigning 394 of gprotein gen. number: G.H5.26\n",
      "assinging res_nums to gprot of 6WPW\n",
      "Mapping found!\n"
     ]
    },
    {
     "name": "stderr",
     "output_type": "stream",
     "text": [
      "\r",
      " 25%|████████████████████████████████████████████████████████████████████▊                                                                                                                                                                                                              | 8/32 [00:07<00:18,  1.29it/s]"
     ]
    },
    {
     "name": "stdout",
     "output_type": "stream",
     "text": [
      "assinging res_nums to gprot of 6WPW\n",
      "Mapping found!\n"
     ]
    },
    {
     "name": "stderr",
     "output_type": "stream",
     "text": [
      "\r",
      " 28%|█████████████████████████████████████████████████████████████████████████████▎                                                                                                                                                                                                     | 9/32 [00:08<00:17,  1.34it/s]"
     ]
    },
    {
     "name": "stdout",
     "output_type": "stream",
     "text": [
      "assinging res_nums to gprot of 6WWZ\n",
      "Mapping found!\n"
     ]
    },
    {
     "name": "stderr",
     "output_type": "stream",
     "text": [
      "\r",
      " 31%|█████████████████████████████████████████████████████████████████████████████████████▋                                                                                                                                                                                            | 10/32 [00:08<00:14,  1.47it/s]"
     ]
    },
    {
     "name": "stdout",
     "output_type": "stream",
     "text": [
      "assinging res_nums to gprot of 6WWZ\n",
      "Mapping found!\n"
     ]
    },
    {
     "name": "stderr",
     "output_type": "stream",
     "text": [
      "\r",
      " 34%|██████████████████████████████████████████████████████████████████████████████████████████████▏                                                                                                                                                                                   | 11/32 [00:09<00:13,  1.58it/s]"
     ]
    },
    {
     "name": "stdout",
     "output_type": "stream",
     "text": [
      "6WWZ unlabelled: 1\n",
      "label_seq_id 250\n",
      "assigning 250 of gprotein gen. number: G.H5.26\n",
      "assinging res_nums to gprot of 6WZG\n",
      "Mapping found!\n"
     ]
    },
    {
     "name": "stderr",
     "output_type": "stream",
     "text": [
      "\r",
      " 38%|██████████████████████████████████████████████████████████████████████████████████████████████████████▊                                                                                                                                                                           | 12/32 [00:10<00:13,  1.53it/s]"
     ]
    },
    {
     "name": "stdout",
     "output_type": "stream",
     "text": [
      "assinging res_nums to gprot of 6WZG\n",
      "Mapping found!\n"
     ]
    },
    {
     "name": "stderr",
     "output_type": "stream",
     "text": [
      "\r",
      " 41%|███████████████████████████████████████████████████████████████████████████████████████████████████████████████▎                                                                                                                                                                  | 13/32 [00:10<00:12,  1.50it/s]"
     ]
    },
    {
     "name": "stdout",
     "output_type": "stream",
     "text": [
      "6WZG unlabelled: 1\n",
      "label_seq_id 394\n",
      "assigning 394 of gprotein gen. number: G.H5.26\n",
      "assinging res_nums to gprot of 6X18\n",
      "Mapping found!\n"
     ]
    },
    {
     "name": "stderr",
     "output_type": "stream",
     "text": [
      "\r",
      " 44%|███████████████████████████████████████████████████████████████████████████████████████████████████████████████████████▉                                                                                                                                                          | 14/32 [00:11<00:12,  1.43it/s]"
     ]
    },
    {
     "name": "stdout",
     "output_type": "stream",
     "text": [
      "assinging res_nums to gprot of 6X18\n",
      "Mapping found!\n"
     ]
    },
    {
     "name": "stderr",
     "output_type": "stream",
     "text": [
      "\r",
      " 47%|████████████████████████████████████████████████████████████████████████████████████████████████████████████████████████████████▍                                                                                                                                                 | 15/32 [00:12<00:12,  1.37it/s]"
     ]
    },
    {
     "name": "stdout",
     "output_type": "stream",
     "text": [
      "6X18 unlabelled: 1\n",
      "label_seq_id 394\n",
      "assigning 394 of gprotein gen. number: G.H5.26\n",
      "assinging res_nums to gprot of 6X19\n",
      "Mapping found!\n"
     ]
    },
    {
     "name": "stderr",
     "output_type": "stream",
     "text": [
      "\r",
      " 50%|█████████████████████████████████████████████████████████████████████████████████████████████████████████████████████████████████████████                                                                                                                                         | 16/32 [00:13<00:11,  1.35it/s]"
     ]
    },
    {
     "name": "stdout",
     "output_type": "stream",
     "text": [
      "assinging res_nums to gprot of 6X19\n",
      "Mapping found!\n"
     ]
    },
    {
     "name": "stderr",
     "output_type": "stream",
     "text": [
      "\r",
      " 53%|█████████████████████████████████████████████████████████████████████████████████████████████████████████████████████████████████████████████████▌                                                                                                                                | 17/32 [00:13<00:11,  1.33it/s]"
     ]
    },
    {
     "name": "stdout",
     "output_type": "stream",
     "text": [
      "6X19 unlabelled: 1\n",
      "label_seq_id 394\n",
      "assigning 394 of gprotein gen. number: G.H5.26\n",
      "assinging res_nums to gprot of 6X1A\n",
      "Mapping found!\n"
     ]
    },
    {
     "name": "stderr",
     "output_type": "stream",
     "text": [
      "\r",
      " 56%|██████████████████████████████████████████████████████████████████████████████████████████████████████████████████████████████████████████████████████████▏                                                                                                                       | 18/32 [00:14<00:10,  1.32it/s]"
     ]
    },
    {
     "name": "stdout",
     "output_type": "stream",
     "text": [
      "assinging res_nums to gprot of 6X1A\n",
      "Mapping found!\n"
     ]
    },
    {
     "name": "stderr",
     "output_type": "stream",
     "text": [
      "\r",
      " 59%|██████████████████████████████████████████████████████████████████████████████████████████████████████████████████████████████████████████████████████████████████▋                                                                                                               | 19/32 [00:15<00:09,  1.31it/s]"
     ]
    },
    {
     "name": "stdout",
     "output_type": "stream",
     "text": [
      "6X1A unlabelled: 1\n",
      "label_seq_id 394\n",
      "assigning 394 of gprotein gen. number: G.H5.26\n",
      "assinging res_nums to gprot of 6XBJ\n",
      "Mapping found!\n"
     ]
    },
    {
     "name": "stderr",
     "output_type": "stream",
     "text": [
      "\r",
      " 62%|███████████████████████████████████████████████████████████████████████████████████████████████████████████████████████████████████████████████████████████████████████████▎                                                                                                      | 20/32 [00:16<00:08,  1.36it/s]"
     ]
    },
    {
     "name": "stdout",
     "output_type": "stream",
     "text": [
      "assinging res_nums to gprot of 6XBJ\n",
      "Mapping found!\n"
     ]
    },
    {
     "name": "stderr",
     "output_type": "stream",
     "text": [
      "\r",
      " 66%|███████████████████████████████████████████████████████████████████████████████████████████████████████████████████████████████████████████████████████████████████████████████████▊                                                                                              | 21/32 [00:16<00:07,  1.39it/s]"
     ]
    },
    {
     "name": "stdout",
     "output_type": "stream",
     "text": [
      "6XBJ unlabelled: 1\n",
      "label_seq_id 354\n",
      "assigning 354 of gprotein gen. number: G.H5.26\n",
      "assinging res_nums to gprot of 6XBK\n",
      "Mapping found!\n"
     ]
    },
    {
     "name": "stderr",
     "output_type": "stream",
     "text": [
      "\r",
      " 69%|████████████████████████████████████████████████████████████████████████████████████████████████████████████████████████████████████████████████████████████████████████████████████████████▍                                                                                     | 22/32 [00:17<00:07,  1.42it/s]"
     ]
    },
    {
     "name": "stdout",
     "output_type": "stream",
     "text": [
      "assinging res_nums to gprot of 6XBK\n",
      "Mapping found!\n"
     ]
    },
    {
     "name": "stderr",
     "output_type": "stream",
     "text": [
      "\r",
      " 72%|████████████████████████████████████████████████████████████████████████████████████████████████████████████████████████████████████████████████████████████████████████████████████████████████████▉                                                                             | 23/32 [00:18<00:06,  1.43it/s]"
     ]
    },
    {
     "name": "stdout",
     "output_type": "stream",
     "text": [
      "6XBK unlabelled: 1\n",
      "label_seq_id 354\n",
      "assigning 354 of gprotein gen. number: G.H5.26\n",
      "assinging res_nums to gprot of 6XBL\n",
      "Mapping found!\n"
     ]
    },
    {
     "name": "stderr",
     "output_type": "stream",
     "text": [
      "\r",
      " 75%|█████████████████████████████████████████████████████████████████████████████████████████████████████████████████████████████████████████████████████████████████████████████████████████████████████████████▌                                                                    | 24/32 [00:18<00:05,  1.45it/s]"
     ]
    },
    {
     "name": "stdout",
     "output_type": "stream",
     "text": [
      "assinging res_nums to gprot of 6XBL\n",
      "Mapping found!\n"
     ]
    },
    {
     "name": "stderr",
     "output_type": "stream",
     "text": [
      "\r",
      " 78%|██████████████████████████████████████████████████████████████████████████████████████████████████████████████████████████████████████████████████████████████████████████████████████████████████████████████████████                                                            | 25/32 [00:19<00:04,  1.45it/s]"
     ]
    },
    {
     "name": "stdout",
     "output_type": "stream",
     "text": [
      "6XBL unlabelled: 1\n",
      "label_seq_id 354\n",
      "assigning 354 of gprotein gen. number: G.H5.26\n",
      "assinging res_nums to gprot of 6XBM\n",
      "Mapping found!\n"
     ]
    },
    {
     "name": "stderr",
     "output_type": "stream",
     "text": [
      "\r",
      " 81%|██████████████████████████████████████████████████████████████████████████████████████████████████████████████████████████████████████████████████████████████████████████████████████████████████████████████████████████████▋                                                   | 26/32 [00:20<00:04,  1.49it/s]"
     ]
    },
    {
     "name": "stdout",
     "output_type": "stream",
     "text": [
      "assinging res_nums to gprot of 6XBM\n",
      "Mapping found!\n"
     ]
    },
    {
     "name": "stderr",
     "output_type": "stream",
     "text": [
      "\r",
      " 84%|███████████████████████████████████████████████████████████████████████████████████████████████████████████████████████████████████████████████████████████████████████████████████████████████████████████████████████████████████████▏                                          | 27/32 [00:20<00:03,  1.51it/s]"
     ]
    },
    {
     "name": "stdout",
     "output_type": "stream",
     "text": [
      "6XBM unlabelled: 1\n",
      "label_seq_id 354\n",
      "assigning 354 of gprotein gen. number: G.H5.26\n",
      "assinging res_nums to gprot of 6XOX\n",
      "Mapping found!\n"
     ]
    },
    {
     "name": "stderr",
     "output_type": "stream",
     "text": [
      "\r",
      " 88%|███████████████████████████████████████████████████████████████████████████████████████████████████████████████████████████████████████████████████████████████████████████████████████████████████████████████████████████████████████████████▊                                  | 28/32 [00:21<00:03,  1.33it/s]"
     ]
    },
    {
     "name": "stdout",
     "output_type": "stream",
     "text": [
      "assinging res_nums to gprot of 6XOX\n",
      "Mapping found!\n"
     ]
    },
    {
     "name": "stderr",
     "output_type": "stream",
     "text": [
      "\r",
      " 91%|████████████████████████████████████████████████████████████████████████████████████████████████████████████████████████████████████████████████████████████████████████████████████████████████████████████████████████████████████████████████████████▎                         | 29/32 [00:22<00:02,  1.22it/s]"
     ]
    },
    {
     "name": "stdout",
     "output_type": "stream",
     "text": [
      "6XOX unlabelled: 1\n",
      "label_seq_id 373\n",
      "assigning 373 of gprotein gen. number: G.H5.26\n",
      "assinging res_nums to gprot of 7AUE\n",
      "Mapping found!\n"
     ]
    },
    {
     "name": "stderr",
     "output_type": "stream",
     "text": [
      "\r",
      " 94%|████████████████████████████████████████████████████████████████████████████████████████████████████████████████████████████████████████████████████████████████████████████████████████████████████████████████████████████████████████████████████████████████▉                 | 30/32 [00:23<00:01,  1.28it/s]"
     ]
    },
    {
     "name": "stdout",
     "output_type": "stream",
     "text": [
      "assinging res_nums to gprot of 7AUE\n",
      "Mapping found!\n"
     ]
    },
    {
     "name": "stderr",
     "output_type": "stream",
     "text": [
      "\r",
      " 97%|█████████████████████████████████████████████████████████████████████████████████████████████████████████████████████████████████████████████████████████████████████████████████████████████████████████████████████████████████████████████████████████████████████████▍        | 31/32 [00:24<00:00,  1.33it/s]"
     ]
    },
    {
     "name": "stdout",
     "output_type": "stream",
     "text": [
      "assinging res_nums to gprot of 7BW0\n",
      "Mapping found!\n"
     ]
    },
    {
     "name": "stderr",
     "output_type": "stream",
     "text": [
      "100%|██████████████████████████████████████████████████████████████████████████████████████████████████████████████████████████████████████████████████████████████████████████████████████████████████████████████████████████████████████████████████████████████████████████████████| 32/32 [00:24<00:00,  1.30it/s]\n",
      "  0%|                                                                                                                                                                                                                                                                                           | 0/32 [00:00<?, ?it/s]"
     ]
    },
    {
     "name": "stdout",
     "output_type": "stream",
     "text": [
      "BATCH 5\n",
      "assinging res_nums to gprot of 7BW0\n",
      "Mapping found!\n"
     ]
    },
    {
     "name": "stderr",
     "output_type": "stream",
     "text": [
      "\r",
      "  3%|████████▌                                                                                                                                                                                                                                                                          | 1/32 [00:00<00:18,  1.66it/s]"
     ]
    },
    {
     "name": "stdout",
     "output_type": "stream",
     "text": [
      "assinging res_nums to gprot of 7BZ2\n",
      "Mapping found!\n"
     ]
    },
    {
     "name": "stderr",
     "output_type": "stream",
     "text": [
      "\r",
      "  6%|█████████████████▏                                                                                                                                                                                                                                                                 | 2/32 [00:01<00:18,  1.63it/s]"
     ]
    },
    {
     "name": "stdout",
     "output_type": "stream",
     "text": [
      "assinging res_nums to gprot of 7BZ2\n",
      "Mapping found!\n"
     ]
    },
    {
     "name": "stderr",
     "output_type": "stream",
     "text": [
      "\r",
      "  9%|█████████████████████████▊                                                                                                                                                                                                                                                         | 3/32 [00:01<00:17,  1.62it/s]"
     ]
    },
    {
     "name": "stdout",
     "output_type": "stream",
     "text": [
      "7BZ2 unlabelled: 1\n",
      "label_seq_id 395\n",
      "assigning 395 of gprotein gen. number: G.H5.26\n",
      "assinging res_nums to gprot of 7C2E\n",
      "Mapping found!\n"
     ]
    },
    {
     "name": "stderr",
     "output_type": "stream",
     "text": [
      "\r",
      " 12%|██████████████████████████████████▍                                                                                                                                                                                                                                                | 4/32 [00:02<00:17,  1.56it/s]"
     ]
    },
    {
     "name": "stdout",
     "output_type": "stream",
     "text": [
      "assinging res_nums to gprot of 7C2E\n",
      "Mapping found!\n"
     ]
    },
    {
     "name": "stderr",
     "output_type": "stream",
     "text": [
      "\r",
      " 16%|██████████████████████████████████████████▉                                                                                                                                                                                                                                        | 5/32 [00:03<00:17,  1.53it/s]"
     ]
    },
    {
     "name": "stdout",
     "output_type": "stream",
     "text": [
      "7C2E unlabelled: 1\n",
      "label_seq_id 394\n",
      "assigning 394 of gprotein gen. number: G.H5.26\n",
      "assinging res_nums to gprot of 7CFM\n",
      "Mapping found!\n"
     ]
    },
    {
     "name": "stderr",
     "output_type": "stream",
     "text": [
      "\r",
      " 19%|███████████████████████████████████████████████████▌                                                                                                                                                                                                                               | 6/32 [00:03<00:16,  1.53it/s]"
     ]
    },
    {
     "name": "stdout",
     "output_type": "stream",
     "text": [
      "assinging res_nums to gprot of 7CFM\n",
      "Mapping found!\n"
     ]
    },
    {
     "name": "stderr",
     "output_type": "stream",
     "text": [
      "\r",
      " 22%|████████████████████████████████████████████████████████████▏                                                                                                                                                                                                                      | 7/32 [00:04<00:16,  1.53it/s]"
     ]
    },
    {
     "name": "stdout",
     "output_type": "stream",
     "text": [
      "7CFM unlabelled: 1\n",
      "label_seq_id 394\n",
      "assigning 394 of gprotein gen. number: G.H5.26\n",
      "assinging res_nums to gprot of 7CFN\n",
      "Mapping found!\n"
     ]
    },
    {
     "name": "stderr",
     "output_type": "stream",
     "text": [
      "\r",
      " 25%|████████████████████████████████████████████████████████████████████▊                                                                                                                                                                                                              | 8/32 [00:05<00:15,  1.53it/s]"
     ]
    },
    {
     "name": "stdout",
     "output_type": "stream",
     "text": [
      "assinging res_nums to gprot of 7CFN\n",
      "Mapping found!\n"
     ]
    },
    {
     "name": "stderr",
     "output_type": "stream",
     "text": [
      "\r",
      " 28%|█████████████████████████████████████████████████████████████████████████████▎                                                                                                                                                                                                     | 9/32 [00:05<00:15,  1.52it/s]"
     ]
    },
    {
     "name": "stdout",
     "output_type": "stream",
     "text": [
      "7CFN unlabelled: 1\n",
      "label_seq_id 394\n",
      "assigning 394 of gprotein gen. number: G.H5.26\n",
      "assinging res_nums to gprot of 7CKW\n",
      "Mapping found!\n"
     ]
    },
    {
     "name": "stderr",
     "output_type": "stream",
     "text": [
      "\r",
      " 31%|█████████████████████████████████████████████████████████████████████████████████████▋                                                                                                                                                                                            | 10/32 [00:06<00:14,  1.52it/s]"
     ]
    },
    {
     "name": "stdout",
     "output_type": "stream",
     "text": [
      "assinging res_nums to gprot of 7CKW\n",
      "Mapping found!\n"
     ]
    },
    {
     "name": "stderr",
     "output_type": "stream",
     "text": [
      "\r",
      " 34%|██████████████████████████████████████████████████████████████████████████████████████████████▏                                                                                                                                                                                   | 11/32 [00:07<00:13,  1.52it/s]"
     ]
    },
    {
     "name": "stdout",
     "output_type": "stream",
     "text": [
      "7CKW unlabelled: 1\n",
      "label_seq_id 394\n",
      "assigning 394 of gprotein gen. number: G.H5.26\n",
      "assinging res_nums to gprot of 7CKX\n",
      "Mapping found!\n"
     ]
    },
    {
     "name": "stderr",
     "output_type": "stream",
     "text": [
      "\r",
      " 38%|██████████████████████████████████████████████████████████████████████████████████████████████████████▊                                                                                                                                                                           | 12/32 [00:07<00:13,  1.52it/s]"
     ]
    },
    {
     "name": "stdout",
     "output_type": "stream",
     "text": [
      "assinging res_nums to gprot of 7CKX\n",
      "Mapping found!\n"
     ]
    },
    {
     "name": "stderr",
     "output_type": "stream",
     "text": [
      "\r",
      " 41%|███████████████████████████████████████████████████████████████████████████████████████████████████████████████▎                                                                                                                                                                  | 13/32 [00:08<00:12,  1.52it/s]"
     ]
    },
    {
     "name": "stdout",
     "output_type": "stream",
     "text": [
      "7CKX unlabelled: 1\n",
      "label_seq_id 394\n",
      "assigning 394 of gprotein gen. number: G.H5.26\n",
      "assinging res_nums to gprot of 7CKY\n",
      "Mapping found!\n"
     ]
    },
    {
     "name": "stderr",
     "output_type": "stream",
     "text": [
      "\r",
      " 44%|███████████████████████████████████████████████████████████████████████████████████████████████████████████████████████▉                                                                                                                                                          | 14/32 [00:09<00:11,  1.52it/s]"
     ]
    },
    {
     "name": "stdout",
     "output_type": "stream",
     "text": [
      "assinging res_nums to gprot of 7CKY\n",
      "Mapping found!\n"
     ]
    },
    {
     "name": "stderr",
     "output_type": "stream",
     "text": [
      "\r",
      " 47%|████████████████████████████████████████████████████████████████████████████████████████████████████████████████████████████████▍                                                                                                                                                 | 15/32 [00:09<00:11,  1.51it/s]"
     ]
    },
    {
     "name": "stdout",
     "output_type": "stream",
     "text": [
      "7CKY unlabelled: 1\n",
      "label_seq_id 394\n",
      "assigning 394 of gprotein gen. number: G.H5.26\n",
      "assinging res_nums to gprot of 7CKZ\n",
      "Mapping found!\n"
     ]
    },
    {
     "name": "stderr",
     "output_type": "stream",
     "text": [
      "\r",
      " 50%|█████████████████████████████████████████████████████████████████████████████████████████████████████████████████████████████████████████                                                                                                                                         | 16/32 [00:10<00:10,  1.52it/s]"
     ]
    },
    {
     "name": "stdout",
     "output_type": "stream",
     "text": [
      "assinging res_nums to gprot of 7CKZ\n",
      "Mapping found!\n"
     ]
    },
    {
     "name": "stderr",
     "output_type": "stream",
     "text": [
      "\r",
      " 53%|█████████████████████████████████████████████████████████████████████████████████████████████████████████████████████████████████████████████████▌                                                                                                                                | 17/32 [00:11<00:09,  1.51it/s]"
     ]
    },
    {
     "name": "stdout",
     "output_type": "stream",
     "text": [
      "7CKZ unlabelled: 1\n",
      "label_seq_id 394\n",
      "assigning 394 of gprotein gen. number: G.H5.26\n",
      "assinging res_nums to gprot of 7CMU\n",
      "Mapping found!\n"
     ]
    },
    {
     "name": "stderr",
     "output_type": "stream",
     "text": [
      "\r",
      " 56%|██████████████████████████████████████████████████████████████████████████████████████████████████████████████████████████████████████████████████████████▏                                                                                                                       | 18/32 [00:11<00:09,  1.54it/s]"
     ]
    },
    {
     "name": "stdout",
     "output_type": "stream",
     "text": [
      "assinging res_nums to gprot of 7CMU\n",
      "Mapping found!\n"
     ]
    },
    {
     "name": "stderr",
     "output_type": "stream",
     "text": [
      "\r",
      " 59%|██████████████████████████████████████████████████████████████████████████████████████████████████████████████████████████████████████████████████████████████████▋                                                                                                               | 19/32 [00:12<00:08,  1.56it/s]"
     ]
    },
    {
     "name": "stdout",
     "output_type": "stream",
     "text": [
      "7CMU unlabelled: 1\n",
      "label_seq_id 354\n",
      "assigning 354 of gprotein gen. number: G.H5.26\n",
      "assinging res_nums to gprot of 7CMV\n",
      "Mapping found!\n"
     ]
    },
    {
     "name": "stderr",
     "output_type": "stream",
     "text": [
      "\r",
      " 62%|███████████████████████████████████████████████████████████████████████████████████████████████████████████████████████████████████████████████████████████████████████████▎                                                                                                      | 20/32 [00:12<00:07,  1.58it/s]"
     ]
    },
    {
     "name": "stdout",
     "output_type": "stream",
     "text": [
      "assinging res_nums to gprot of 7CMV\n",
      "Mapping found!\n"
     ]
    },
    {
     "name": "stderr",
     "output_type": "stream",
     "text": [
      "\r",
      " 66%|███████████████████████████████████████████████████████████████████████████████████████████████████████████████████████████████████████████████████████████████████████████████████▊                                                                                              | 21/32 [00:13<00:06,  1.58it/s]"
     ]
    },
    {
     "name": "stdout",
     "output_type": "stream",
     "text": [
      "7CMV unlabelled: 1\n",
      "label_seq_id 354\n",
      "assigning 354 of gprotein gen. number: G.H5.26\n",
      "assinging res_nums to gprot of 7CRH\n",
      "Mapping found!\n"
     ]
    },
    {
     "name": "stderr",
     "output_type": "stream",
     "text": [
      "\r",
      " 69%|████████████████████████████████████████████████████████████████████████████████████████████████████████████████████████████████████████████████████████████████████████████████████████████▍                                                                                     | 22/32 [00:14<00:06,  1.56it/s]"
     ]
    },
    {
     "name": "stdout",
     "output_type": "stream",
     "text": [
      "assinging res_nums to gprot of 7CRH\n",
      "Mapping found!\n"
     ]
    },
    {
     "name": "stderr",
     "output_type": "stream",
     "text": [
      "\r",
      " 72%|████████████████████████████████████████████████████████████████████████████████████████████████████████████████████████████████████████████████████████████████████████████████████████████████████▉                                                                             | 23/32 [00:14<00:05,  1.54it/s]"
     ]
    },
    {
     "name": "stdout",
     "output_type": "stream",
     "text": [
      "7CRH unlabelled: 1\n",
      "label_seq_id 394\n",
      "assigning 394 of gprotein gen. number: G.H5.26\n",
      "assinging res_nums to gprot of 7CZ5\n",
      "Mapping found!\n"
     ]
    },
    {
     "name": "stderr",
     "output_type": "stream",
     "text": [
      "\r",
      " 75%|█████████████████████████████████████████████████████████████████████████████████████████████████████████████████████████████████████████████████████████████████████████████████████████████████████████████▌                                                                    | 24/32 [00:15<00:05,  1.53it/s]"
     ]
    },
    {
     "name": "stdout",
     "output_type": "stream",
     "text": [
      "assinging res_nums to gprot of 7CZ5\n",
      "Mapping found!\n"
     ]
    },
    {
     "name": "stderr",
     "output_type": "stream",
     "text": [
      "\r",
      " 78%|██████████████████████████████████████████████████████████████████████████████████████████████████████████████████████████████████████████████████████████████████████████████████████████████████████████████████████                                                            | 25/32 [00:16<00:04,  1.52it/s]"
     ]
    },
    {
     "name": "stdout",
     "output_type": "stream",
     "text": [
      "7CZ5 unlabelled: 1\n",
      "label_seq_id 394\n",
      "assigning 394 of gprotein gen. number: G.H5.26\n",
      "assinging res_nums to gprot of 7D3S\n",
      "Mapping found!\n"
     ]
    },
    {
     "name": "stderr",
     "output_type": "stream",
     "text": [
      "\r",
      " 81%|██████████████████████████████████████████████████████████████████████████████████████████████████████████████████████████████████████████████████████████████████████████████████████████████████████████████████████████████▋                                                   | 26/32 [00:16<00:03,  1.53it/s]"
     ]
    },
    {
     "name": "stdout",
     "output_type": "stream",
     "text": [
      "assinging res_nums to gprot of 7D3S\n",
      "Mapping found!\n"
     ]
    },
    {
     "name": "stderr",
     "output_type": "stream",
     "text": [
      "\r",
      " 84%|███████████████████████████████████████████████████████████████████████████████████████████████████████████████████████████████████████████████████████████████████████████████████████████████████████████████████████████████████████▏                                          | 27/32 [00:17<00:03,  1.53it/s]"
     ]
    },
    {
     "name": "stdout",
     "output_type": "stream",
     "text": [
      "assinging res_nums to gprot of 7D76\n",
      "No mapping (no uniprot-seq) information found! ====> PRESUMABLY A MINI G!\n",
      "                       entity_id chain_id  start  end  unp_end  unp_start  \\\n",
      "index                                                                       \n",
      "author_residue_number          1        A      2   53       55          4   \n",
      "author_insertion_code          1        A      2   53       55          4   \n",
      "residue_number                 1        A      2   53       55          4   \n",
      "author_residue_number          1        A     65  112      229        182   \n",
      "author_insertion_code          1        A     65  112      229        182   \n",
      "residue_number                 1        A     65  112      229        182   \n",
      "author_residue_number          1        A    114  183      310        241   \n",
      "author_insertion_code          1        A    114  183      310        241   \n",
      "residue_number                 1        A    114  183      310        241   \n",
      "author_residue_number          1        A    185  225      353        313   \n",
      "author_insertion_code          1        A    185  225      353        313   \n",
      "residue_number                 1        A    185  225      353        313   \n",
      "\n",
      "                      struct_asym_id   PDB uniprot  \n",
      "index                                               \n",
      "author_residue_number              A  7D76  P63096  \n",
      "author_insertion_code              A  7D76  P63096  \n",
      "residue_number                     A  7D76  P63096  \n",
      "author_residue_number              A  7D76  P63096  \n",
      "author_insertion_code              A  7D76  P63096  \n",
      "residue_number                     A  7D76  P63096  \n",
      "author_residue_number              A  7D76  P63096  \n",
      "author_insertion_code              A  7D76  P63096  \n",
      "residue_number                     A  7D76  P63096  \n",
      "author_residue_number              A  7D76  P63096  \n",
      "author_insertion_code              A  7D76  P63096  \n",
      "residue_number                     A  7D76  P63096  \n"
     ]
    },
    {
     "name": "stderr",
     "output_type": "stream",
     "text": [
      "\r",
      " 88%|███████████████████████████████████████████████████████████████████████████████████████████████████████████████████████████████████████████████████████████████████████████████████████████████████████████████████████████████████████████████▊                                  | 28/32 [00:19<00:04,  1.14s/it]"
     ]
    },
    {
     "name": "stdout",
     "output_type": "stream",
     "text": [
      "7D76 unlabelled: 1\n",
      "label_seq_id 226\n",
      "assigning 226 of gprotein gen. number: G.H5.26\n",
      "assinging res_nums to gprot of 7D76\n",
      "No mapping (no uniprot-seq) information found! ====> PRESUMABLY A MINI G!\n",
      "                       entity_id chain_id  start  end  unp_end  unp_start  \\\n",
      "index                                                                       \n",
      "author_residue_number          1        A      2   53       55          4   \n",
      "author_insertion_code          1        A      2   53       55          4   \n",
      "residue_number                 1        A      2   53       55          4   \n",
      "author_residue_number          1        A     65  112      229        182   \n",
      "author_insertion_code          1        A     65  112      229        182   \n",
      "residue_number                 1        A     65  112      229        182   \n",
      "author_residue_number          1        A    114  183      310        241   \n",
      "author_insertion_code          1        A    114  183      310        241   \n",
      "residue_number                 1        A    114  183      310        241   \n",
      "author_residue_number          1        A    185  225      353        313   \n",
      "author_insertion_code          1        A    185  225      353        313   \n",
      "residue_number                 1        A    185  225      353        313   \n",
      "\n",
      "                      struct_asym_id   PDB uniprot  \n",
      "index                                               \n",
      "author_residue_number              A  7D76  P63096  \n",
      "author_insertion_code              A  7D76  P63096  \n",
      "residue_number                     A  7D76  P63096  \n",
      "author_residue_number              A  7D76  P63096  \n",
      "author_insertion_code              A  7D76  P63096  \n",
      "residue_number                     A  7D76  P63096  \n",
      "author_residue_number              A  7D76  P63096  \n",
      "author_insertion_code              A  7D76  P63096  \n",
      "residue_number                     A  7D76  P63096  \n",
      "author_residue_number              A  7D76  P63096  \n",
      "author_insertion_code              A  7D76  P63096  \n",
      "residue_number                     A  7D76  P63096  \n"
     ]
    },
    {
     "name": "stderr",
     "output_type": "stream",
     "text": [
      "\r",
      " 91%|████████████████████████████████████████████████████████████████████████████████████████████████████████████████████████████████████████████████████████████████████████████████████████████████████████████████████████████████████████████████████████▎                         | 29/32 [00:22<00:04,  1.48s/it]"
     ]
    },
    {
     "name": "stdout",
     "output_type": "stream",
     "text": [
      "7D76 unlabelled: 1\n",
      "label_seq_id 226\n",
      "assigning 226 of gprotein gen. number: G.H5.26\n",
      "assinging res_nums to gprot of 7D77\n",
      "No mapping (no uniprot-seq) information found! ====> PRESUMABLY A MINI G!\n",
      "                       entity_id chain_id  start  end  unp_end  unp_start  \\\n",
      "index                                                                       \n",
      "author_residue_number          1        A      2   53       55          4   \n",
      "author_insertion_code          1        A      2   53       55          4   \n",
      "residue_number                 1        A      2   53       55          4   \n",
      "author_residue_number          1        A     65  112      229        182   \n",
      "author_insertion_code          1        A     65  112      229        182   \n",
      "residue_number                 1        A     65  112      229        182   \n",
      "author_residue_number          1        A    114  183      310        241   \n",
      "author_insertion_code          1        A    114  183      310        241   \n",
      "residue_number                 1        A    114  183      310        241   \n",
      "author_residue_number          1        A    185  225      353        313   \n",
      "author_insertion_code          1        A    185  225      353        313   \n",
      "residue_number                 1        A    185  225      353        313   \n",
      "\n",
      "                      struct_asym_id   PDB uniprot  \n",
      "index                                               \n",
      "author_residue_number              A  7D77  P63096  \n",
      "author_insertion_code              A  7D77  P63096  \n",
      "residue_number                     A  7D77  P63096  \n",
      "author_residue_number              A  7D77  P63096  \n",
      "author_insertion_code              A  7D77  P63096  \n",
      "residue_number                     A  7D77  P63096  \n",
      "author_residue_number              A  7D77  P63096  \n",
      "author_insertion_code              A  7D77  P63096  \n",
      "residue_number                     A  7D77  P63096  \n",
      "author_residue_number              A  7D77  P63096  \n",
      "author_insertion_code              A  7D77  P63096  \n",
      "residue_number                     A  7D77  P63096  \n"
     ]
    },
    {
     "name": "stderr",
     "output_type": "stream",
     "text": [
      "\r",
      " 94%|████████████████████████████████████████████████████████████████████████████████████████████████████████████████████████████████████████████████████████████████████████████████████████████████████████████████████████████████████████████████████████████████▉                 | 30/32 [00:24<00:03,  1.79s/it]"
     ]
    },
    {
     "name": "stdout",
     "output_type": "stream",
     "text": [
      "7D77 unlabelled: 1\n",
      "label_seq_id 226\n",
      "assigning 226 of gprotein gen. number: G.H5.26\n",
      "assinging res_nums to gprot of 7D77\n",
      "No mapping (no uniprot-seq) information found! ====> PRESUMABLY A MINI G!\n",
      "                       entity_id chain_id  start  end  unp_end  unp_start  \\\n",
      "index                                                                       \n",
      "author_residue_number          1        A      2   53       55          4   \n",
      "author_insertion_code          1        A      2   53       55          4   \n",
      "residue_number                 1        A      2   53       55          4   \n",
      "author_residue_number          1        A     65  112      229        182   \n",
      "author_insertion_code          1        A     65  112      229        182   \n",
      "residue_number                 1        A     65  112      229        182   \n",
      "author_residue_number          1        A    114  183      310        241   \n",
      "author_insertion_code          1        A    114  183      310        241   \n",
      "residue_number                 1        A    114  183      310        241   \n",
      "author_residue_number          1        A    185  225      353        313   \n",
      "author_insertion_code          1        A    185  225      353        313   \n",
      "residue_number                 1        A    185  225      353        313   \n",
      "\n",
      "                      struct_asym_id   PDB uniprot  \n",
      "index                                               \n",
      "author_residue_number              A  7D77  P63096  \n",
      "author_insertion_code              A  7D77  P63096  \n",
      "residue_number                     A  7D77  P63096  \n",
      "author_residue_number              A  7D77  P63096  \n",
      "author_insertion_code              A  7D77  P63096  \n",
      "residue_number                     A  7D77  P63096  \n",
      "author_residue_number              A  7D77  P63096  \n",
      "author_insertion_code              A  7D77  P63096  \n",
      "residue_number                     A  7D77  P63096  \n",
      "author_residue_number              A  7D77  P63096  \n",
      "author_insertion_code              A  7D77  P63096  \n",
      "residue_number                     A  7D77  P63096  \n"
     ]
    },
    {
     "name": "stderr",
     "output_type": "stream",
     "text": [
      "\r",
      " 97%|█████████████████████████████████████████████████████████████████████████████████████████████████████████████████████████████████████████████████████████████████████████████████████████████████████████████████████████████████████████████████████████████████████████▍        | 31/32 [00:27<00:01,  1.99s/it]"
     ]
    },
    {
     "name": "stdout",
     "output_type": "stream",
     "text": [
      "7D77 unlabelled: 1\n",
      "label_seq_id 226\n",
      "assigning 226 of gprotein gen. number: G.H5.26\n",
      "assinging res_nums to gprot of 7D7M\n",
      "Mapping found!\n"
     ]
    },
    {
     "name": "stderr",
     "output_type": "stream",
     "text": [
      "100%|██████████████████████████████████████████████████████████████████████████████████████████████████████████████████████████████████████████████████████████████████████████████████████████████████████████████████████████████████████████████████████████████████████████████████| 32/32 [00:27<00:00,  1.16it/s]\n",
      "  0%|                                                                                                                                                                                                                                                                                           | 0/32 [00:00<?, ?it/s]"
     ]
    },
    {
     "name": "stdout",
     "output_type": "stream",
     "text": [
      "BATCH 6\n",
      "assinging res_nums to gprot of 7D7M\n",
      "Mapping found!\n"
     ]
    },
    {
     "name": "stderr",
     "output_type": "stream",
     "text": [
      "\r",
      "  3%|████████▌                                                                                                                                                                                                                                                                          | 1/32 [00:00<00:15,  1.95it/s]"
     ]
    },
    {
     "name": "stdout",
     "output_type": "stream",
     "text": [
      "assinging res_nums to gprot of 7DFL\n",
      "No mapping (no uniprot-seq) information found! ====> PRESUMABLY A MINI G!\n",
      "                       entity_id chain_id  start  end  unp_end  unp_start  \\\n",
      "index                                                                       \n",
      "author_residue_number          1        A      1   54       56          3   \n",
      "author_insertion_code          1        A      1   54       56          3   \n",
      "residue_number                 1        A      1   54       56          3   \n",
      "author_residue_number          1        A     56  236      235        181   \n",
      "author_insertion_code          1        A     56  236      235        181   \n",
      "residue_number                 1        A     56  236      235        181   \n",
      "author_residue_number          1        A    238  296      299        241   \n",
      "author_insertion_code          1        A    238  296      299        241   \n",
      "residue_number                 1        A    238  296      299        241   \n",
      "author_residue_number          1        A    299  312      315        302   \n",
      "author_insertion_code          1        A    299  312      315        302   \n",
      "residue_number                 1        A    299  312      315        302   \n",
      "author_residue_number          1        A    314  350      354        318   \n",
      "author_insertion_code          1        A    314  350      354        318   \n",
      "residue_number                 1        A    314  350      354        318   \n",
      "\n",
      "                      struct_asym_id   PDB uniprot  \n",
      "index                                               \n",
      "author_residue_number              A  7DFL  P63096  \n",
      "author_insertion_code              A  7DFL  P63096  \n",
      "residue_number                     A  7DFL  P63096  \n",
      "author_residue_number              A  7DFL  P63096  \n",
      "author_insertion_code              A  7DFL  P63096  \n",
      "residue_number                     A  7DFL  P63096  \n",
      "author_residue_number              A  7DFL  P63096  \n",
      "author_insertion_code              A  7DFL  P63096  \n",
      "residue_number                     A  7DFL  P63096  \n",
      "author_residue_number              A  7DFL  P63096  \n",
      "author_insertion_code              A  7DFL  P63096  \n",
      "residue_number                     A  7DFL  P63096  \n",
      "author_residue_number              A  7DFL  P63096  \n",
      "author_insertion_code              A  7DFL  P63096  \n",
      "residue_number                     A  7DFL  P63096  \n"
     ]
    },
    {
     "name": "stderr",
     "output_type": "stream",
     "text": [
      "  3%|████████▌                                                                                                                                                                                                                                                                          | 1/32 [00:02<01:04,  2.08s/it]\n"
     ]
    },
    {
     "ename": "IndexError",
     "evalue": "single positional indexer is out-of-bounds",
     "output_type": "error",
     "traceback": [
      "\u001b[1;31m---------------------------------------------------------------------------\u001b[0m",
      "\u001b[1;31mIndexError\u001b[0m                                Traceback (most recent call last)",
      "\u001b[1;32m<ipython-input-75-a947a89452d7>\u001b[0m in \u001b[0;36m<module>\u001b[1;34m\u001b[0m\n\u001b[0;32m      9\u001b[0m         \u001b[0mpdb_ids\u001b[0m \u001b[1;33m=\u001b[0m \u001b[0mp\u001b[0m\u001b[1;33m.\u001b[0m\u001b[0mdfl_list\u001b[0m\u001b[1;33m[\u001b[0m\u001b[0mi\u001b[0m\u001b[1;33m*\u001b[0m\u001b[0mbatch_size\u001b[0m\u001b[1;33m:\u001b[0m\u001b[1;33m]\u001b[0m\u001b[1;33m\u001b[0m\u001b[1;33m\u001b[0m\u001b[0m\n\u001b[0;32m     10\u001b[0m     \u001b[1;31m# p.assign_generic_numbers_r(f=p.table, pdb_ids=pdb_ids, overwrite=True, folder='data/processed/')\u001b[0m\u001b[1;33m\u001b[0m\u001b[1;33m\u001b[0m\u001b[1;33m\u001b[0m\u001b[0m\n\u001b[1;32m---> 11\u001b[1;33m     \u001b[0mp\u001b[0m\u001b[1;33m.\u001b[0m\u001b[0massign_generic_numbers_g\u001b[0m\u001b[1;33m(\u001b[0m\u001b[0mf\u001b[0m\u001b[1;33m=\u001b[0m\u001b[0mp\u001b[0m\u001b[1;33m.\u001b[0m\u001b[0mtable\u001b[0m\u001b[1;33m,\u001b[0m \u001b[0mpdb_ids\u001b[0m\u001b[1;33m=\u001b[0m\u001b[0mpdb_ids\u001b[0m\u001b[1;33m,\u001b[0m \u001b[0moverwrite\u001b[0m\u001b[1;33m=\u001b[0m\u001b[1;32mTrue\u001b[0m\u001b[1;33m,\u001b[0m \u001b[0mfolder\u001b[0m\u001b[1;33m=\u001b[0m\u001b[1;34m'data/processed/'\u001b[0m\u001b[1;33m,\u001b[0m \u001b[0mfill_H5\u001b[0m\u001b[1;33m=\u001b[0m\u001b[1;32mTrue\u001b[0m\u001b[1;33m)\u001b[0m\u001b[1;33m\u001b[0m\u001b[1;33m\u001b[0m\u001b[0m\n\u001b[0m",
      "\u001b[1;32m~\\PycharmProjects\\mt\\processor.py\u001b[0m in \u001b[0;36massign_generic_numbers_g\u001b[1;34m(self, f, pdb_ids, overwrite, folder, fill_H5)\u001b[0m\n\u001b[0;32m   1044\u001b[0m                 \u001b[0mpdb_id\u001b[0m \u001b[1;33m=\u001b[0m \u001b[0mself\u001b[0m\u001b[1;33m.\u001b[0m\u001b[0mdfl_list\u001b[0m\u001b[1;33m[\u001b[0m\u001b[0mdfl_list_f_indices\u001b[0m\u001b[1;33m[\u001b[0m\u001b[0mi\u001b[0m\u001b[1;33m]\u001b[0m\u001b[1;33m]\u001b[0m\u001b[1;33m\u001b[0m\u001b[1;33m\u001b[0m\u001b[0m\n\u001b[0;32m   1045\u001b[0m                 \u001b[0mstructure\u001b[0m \u001b[1;33m=\u001b[0m \u001b[0mself\u001b[0m\u001b[1;33m.\u001b[0m\u001b[0mdfl\u001b[0m\u001b[1;33m[\u001b[0m\u001b[0mdfl_list_f_indices\u001b[0m\u001b[1;33m[\u001b[0m\u001b[0mi\u001b[0m\u001b[1;33m]\u001b[0m\u001b[1;33m]\u001b[0m\u001b[1;33m\u001b[0m\u001b[1;33m\u001b[0m\u001b[0m\n\u001b[1;32m-> 1046\u001b[1;33m                 s = self._assign_res_nums_g(pdb_id,\n\u001b[0m\u001b[0;32m   1047\u001b[0m                                             \u001b[0mself\u001b[0m\u001b[1;33m.\u001b[0m\u001b[0mmappings\u001b[0m\u001b[1;33m[\u001b[0m\u001b[0mself\u001b[0m\u001b[1;33m.\u001b[0m\u001b[0mmappings\u001b[0m\u001b[1;33m[\u001b[0m\u001b[1;34m'PDB'\u001b[0m\u001b[1;33m]\u001b[0m\u001b[1;33m==\u001b[0m\u001b[0mpdb_id\u001b[0m\u001b[1;33m]\u001b[0m\u001b[1;33m,\u001b[0m\u001b[1;33m\u001b[0m\u001b[1;33m\u001b[0m\u001b[0m\n\u001b[0;32m   1048\u001b[0m                                             \u001b[0mstructure\u001b[0m\u001b[1;33m,\u001b[0m\u001b[1;33m\u001b[0m\u001b[1;33m\u001b[0m\u001b[0m\n",
      "\u001b[1;32m~\\PycharmProjects\\mt\\processor.py\u001b[0m in \u001b[0;36m_assign_res_nums_g\u001b[1;34m(self, pdb_id, mappings, structure, uniprot_gprot_list, gprot_df, res_table, fill_H5)\u001b[0m\n\u001b[0;32m    962\u001b[0m                         \u001b[0mstructure\u001b[0m\u001b[1;33m.\u001b[0m\u001b[0mat\u001b[0m\u001b[1;33m[\u001b[0m\u001b[0mline\u001b[0m\u001b[1;33m.\u001b[0m\u001b[0mindex\u001b[0m\u001b[1;33m[\u001b[0m\u001b[1;36m0\u001b[0m\u001b[1;33m]\u001b[0m\u001b[1;33m,\u001b[0m \u001b[1;34m'label_2_uni'\u001b[0m\u001b[1;33m]\u001b[0m \u001b[1;33m=\u001b[0m \u001b[0midx_uni\u001b[0m \u001b[1;33m+\u001b[0m \u001b[1;36m1\u001b[0m\u001b[1;33m\u001b[0m\u001b[1;33m\u001b[0m\u001b[0m\n\u001b[0;32m    963\u001b[0m                         \u001b[1;32mif\u001b[0m \u001b[0mline\u001b[0m\u001b[1;33m[\u001b[0m\u001b[1;34m'label_2_uni'\u001b[0m\u001b[1;33m]\u001b[0m\u001b[1;33m.\u001b[0m\u001b[0miloc\u001b[0m\u001b[1;33m[\u001b[0m\u001b[1;36m0\u001b[0m\u001b[1;33m]\u001b[0m \u001b[1;32min\u001b[0m \u001b[0mlist\u001b[0m\u001b[1;33m(\u001b[0m\u001b[0mcgn_df\u001b[0m\u001b[1;33m.\u001b[0m\u001b[0mindex\u001b[0m\u001b[1;33m)\u001b[0m\u001b[1;33m:\u001b[0m\u001b[1;33m\u001b[0m\u001b[1;33m\u001b[0m\u001b[0m\n\u001b[1;32m--> 964\u001b[1;33m                             \u001b[0mstructure\u001b[0m\u001b[1;33m.\u001b[0m\u001b[0mat\u001b[0m\u001b[1;33m[\u001b[0m\u001b[0mline\u001b[0m\u001b[1;33m.\u001b[0m\u001b[0mindex\u001b[0m\u001b[1;33m[\u001b[0m\u001b[1;36m0\u001b[0m\u001b[1;33m]\u001b[0m\u001b[1;33m,\u001b[0m \u001b[1;34m'gprot_pos'\u001b[0m\u001b[1;33m]\u001b[0m \u001b[1;33m=\u001b[0m \u001b[0mcgn_df\u001b[0m\u001b[1;33m.\u001b[0m\u001b[0miloc\u001b[0m\u001b[1;33m[\u001b[0m\u001b[0midx_uni\u001b[0m\u001b[1;33m]\u001b[0m\u001b[1;33m[\u001b[0m\u001b[1;34m'cgn'\u001b[0m\u001b[1;33m]\u001b[0m\u001b[1;33m\u001b[0m\u001b[1;33m\u001b[0m\u001b[0m\n\u001b[0m\u001b[0;32m    965\u001b[0m                             \u001b[0mstructure\u001b[0m\u001b[1;33m.\u001b[0m\u001b[0mat\u001b[0m\u001b[1;33m[\u001b[0m\u001b[0mline\u001b[0m\u001b[1;33m.\u001b[0m\u001b[0mindex\u001b[0m\u001b[1;33m[\u001b[0m\u001b[1;36m0\u001b[0m\u001b[1;33m]\u001b[0m\u001b[1;33m,\u001b[0m \u001b[1;34m'uniprot_comp_id'\u001b[0m\u001b[1;33m]\u001b[0m \u001b[1;33m=\u001b[0m \u001b[0mcgn_df\u001b[0m\u001b[1;33m.\u001b[0m\u001b[0miloc\u001b[0m\u001b[1;33m[\u001b[0m\u001b[0midx_uni\u001b[0m\u001b[1;33m]\u001b[0m\u001b[1;33m[\u001b[0m\u001b[1;34m'seq_res'\u001b[0m\u001b[1;33m]\u001b[0m\u001b[1;33m\u001b[0m\u001b[1;33m\u001b[0m\u001b[0m\n\u001b[0;32m    966\u001b[0m                             \u001b[0mstructure\u001b[0m\u001b[1;33m.\u001b[0m\u001b[0mat\u001b[0m\u001b[1;33m[\u001b[0m\u001b[0mline\u001b[0m\u001b[1;33m.\u001b[0m\u001b[0mindex\u001b[0m\u001b[1;33m[\u001b[0m\u001b[1;36m0\u001b[0m\u001b[1;33m]\u001b[0m\u001b[1;33m,\u001b[0m \u001b[1;34m'fam_comp_id'\u001b[0m\u001b[1;33m]\u001b[0m \u001b[1;33m=\u001b[0m \u001b[0mcgn_df\u001b[0m\u001b[1;33m.\u001b[0m\u001b[0miloc\u001b[0m\u001b[1;33m[\u001b[0m\u001b[0midx_uni\u001b[0m\u001b[1;33m]\u001b[0m\u001b[1;33m[\u001b[0m\u001b[1;34m'fam_seq_res'\u001b[0m\u001b[1;33m]\u001b[0m\u001b[1;33m\u001b[0m\u001b[1;33m\u001b[0m\u001b[0m\n",
      "\u001b[1;32m~\\.conda\\envs\\mt\\lib\\site-packages\\pandas\\core\\indexing.py\u001b[0m in \u001b[0;36m__getitem__\u001b[1;34m(self, key)\u001b[0m\n\u001b[0;32m    893\u001b[0m \u001b[1;33m\u001b[0m\u001b[0m\n\u001b[0;32m    894\u001b[0m             \u001b[0mmaybe_callable\u001b[0m \u001b[1;33m=\u001b[0m \u001b[0mcom\u001b[0m\u001b[1;33m.\u001b[0m\u001b[0mapply_if_callable\u001b[0m\u001b[1;33m(\u001b[0m\u001b[0mkey\u001b[0m\u001b[1;33m,\u001b[0m \u001b[0mself\u001b[0m\u001b[1;33m.\u001b[0m\u001b[0mobj\u001b[0m\u001b[1;33m)\u001b[0m\u001b[1;33m\u001b[0m\u001b[1;33m\u001b[0m\u001b[0m\n\u001b[1;32m--> 895\u001b[1;33m             \u001b[1;32mreturn\u001b[0m \u001b[0mself\u001b[0m\u001b[1;33m.\u001b[0m\u001b[0m_getitem_axis\u001b[0m\u001b[1;33m(\u001b[0m\u001b[0mmaybe_callable\u001b[0m\u001b[1;33m,\u001b[0m \u001b[0maxis\u001b[0m\u001b[1;33m=\u001b[0m\u001b[0maxis\u001b[0m\u001b[1;33m)\u001b[0m\u001b[1;33m\u001b[0m\u001b[1;33m\u001b[0m\u001b[0m\n\u001b[0m\u001b[0;32m    896\u001b[0m \u001b[1;33m\u001b[0m\u001b[0m\n\u001b[0;32m    897\u001b[0m     \u001b[1;32mdef\u001b[0m \u001b[0m_is_scalar_access\u001b[0m\u001b[1;33m(\u001b[0m\u001b[0mself\u001b[0m\u001b[1;33m,\u001b[0m \u001b[0mkey\u001b[0m\u001b[1;33m:\u001b[0m \u001b[0mTuple\u001b[0m\u001b[1;33m)\u001b[0m\u001b[1;33m:\u001b[0m\u001b[1;33m\u001b[0m\u001b[1;33m\u001b[0m\u001b[0m\n",
      "\u001b[1;32m~\\.conda\\envs\\mt\\lib\\site-packages\\pandas\\core\\indexing.py\u001b[0m in \u001b[0;36m_getitem_axis\u001b[1;34m(self, key, axis)\u001b[0m\n\u001b[0;32m   1499\u001b[0m \u001b[1;33m\u001b[0m\u001b[0m\n\u001b[0;32m   1500\u001b[0m             \u001b[1;31m# validate the location\u001b[0m\u001b[1;33m\u001b[0m\u001b[1;33m\u001b[0m\u001b[1;33m\u001b[0m\u001b[0m\n\u001b[1;32m-> 1501\u001b[1;33m             \u001b[0mself\u001b[0m\u001b[1;33m.\u001b[0m\u001b[0m_validate_integer\u001b[0m\u001b[1;33m(\u001b[0m\u001b[0mkey\u001b[0m\u001b[1;33m,\u001b[0m \u001b[0maxis\u001b[0m\u001b[1;33m)\u001b[0m\u001b[1;33m\u001b[0m\u001b[1;33m\u001b[0m\u001b[0m\n\u001b[0m\u001b[0;32m   1502\u001b[0m \u001b[1;33m\u001b[0m\u001b[0m\n\u001b[0;32m   1503\u001b[0m             \u001b[1;32mreturn\u001b[0m \u001b[0mself\u001b[0m\u001b[1;33m.\u001b[0m\u001b[0mobj\u001b[0m\u001b[1;33m.\u001b[0m\u001b[0m_ixs\u001b[0m\u001b[1;33m(\u001b[0m\u001b[0mkey\u001b[0m\u001b[1;33m,\u001b[0m \u001b[0maxis\u001b[0m\u001b[1;33m=\u001b[0m\u001b[0maxis\u001b[0m\u001b[1;33m)\u001b[0m\u001b[1;33m\u001b[0m\u001b[1;33m\u001b[0m\u001b[0m\n",
      "\u001b[1;32m~\\.conda\\envs\\mt\\lib\\site-packages\\pandas\\core\\indexing.py\u001b[0m in \u001b[0;36m_validate_integer\u001b[1;34m(self, key, axis)\u001b[0m\n\u001b[0;32m   1442\u001b[0m         \u001b[0mlen_axis\u001b[0m \u001b[1;33m=\u001b[0m \u001b[0mlen\u001b[0m\u001b[1;33m(\u001b[0m\u001b[0mself\u001b[0m\u001b[1;33m.\u001b[0m\u001b[0mobj\u001b[0m\u001b[1;33m.\u001b[0m\u001b[0m_get_axis\u001b[0m\u001b[1;33m(\u001b[0m\u001b[0maxis\u001b[0m\u001b[1;33m)\u001b[0m\u001b[1;33m)\u001b[0m\u001b[1;33m\u001b[0m\u001b[1;33m\u001b[0m\u001b[0m\n\u001b[0;32m   1443\u001b[0m         \u001b[1;32mif\u001b[0m \u001b[0mkey\u001b[0m \u001b[1;33m>=\u001b[0m \u001b[0mlen_axis\u001b[0m \u001b[1;32mor\u001b[0m \u001b[0mkey\u001b[0m \u001b[1;33m<\u001b[0m \u001b[1;33m-\u001b[0m\u001b[0mlen_axis\u001b[0m\u001b[1;33m:\u001b[0m\u001b[1;33m\u001b[0m\u001b[1;33m\u001b[0m\u001b[0m\n\u001b[1;32m-> 1444\u001b[1;33m             \u001b[1;32mraise\u001b[0m \u001b[0mIndexError\u001b[0m\u001b[1;33m(\u001b[0m\u001b[1;34m\"single positional indexer is out-of-bounds\"\u001b[0m\u001b[1;33m)\u001b[0m\u001b[1;33m\u001b[0m\u001b[1;33m\u001b[0m\u001b[0m\n\u001b[0m\u001b[0;32m   1445\u001b[0m \u001b[1;33m\u001b[0m\u001b[0m\n\u001b[0;32m   1446\u001b[0m     \u001b[1;31m# -------------------------------------------------------------------\u001b[0m\u001b[1;33m\u001b[0m\u001b[1;33m\u001b[0m\u001b[1;33m\u001b[0m\u001b[0m\n",
      "\u001b[1;31mIndexError\u001b[0m: single positional indexer is out-of-bounds"
     ]
    }
   ],
   "source": [
    "batch_size = 32\n",
    "\n",
    "\n",
    "for i in range(int(len(p.dfl_list) / batch_size) + 1):\n",
    "    print(\"BATCH\", i)\n",
    "    if (i+1)*batch_size < len(p.dfl_list):\n",
    "        pdb_ids = p.dfl_list[i*batch_size:(i+1)*batch_size]\n",
    "    else:\n",
    "        pdb_ids = p.dfl_list[i*batch_size:]\n",
    "    # p.assign_generic_numbers_r(f=p.table, pdb_ids=pdb_ids, overwrite=True, folder='data/processed/')\n",
    "    p.assign_generic_numbers_g(f=p.table, pdb_ids=pdb_ids, overwrite=True, folder='data/processed/', fill_H5=True)"
   ]
  },
  {
   "cell_type": "code",
   "execution_count": 78,
   "id": "spectacular-yukon",
   "metadata": {},
   "outputs": [],
   "source": [
    "eg_idx = p.dfl_list.index('7D77')"
   ]
  },
  {
   "cell_type": "code",
   "execution_count": 79,
   "id": "moderate-nightlife",
   "metadata": {},
   "outputs": [
    {
     "data": {
      "text/plain": [
       "'7D77'"
      ]
     },
     "execution_count": 79,
     "metadata": {},
     "output_type": "execute_result"
    }
   ],
   "source": [
    "p.dfl_list[eg_idx]"
   ]
  },
  {
   "cell_type": "code",
   "execution_count": 80,
   "id": "correct-stationery",
   "metadata": {},
   "outputs": [],
   "source": [
    "x = p.dfl[eg_idx]"
   ]
  },
  {
   "cell_type": "code",
   "execution_count": 81,
   "id": "human-poetry",
   "metadata": {},
   "outputs": [
    {
     "data": {
      "text/html": [
       "<div>\n",
       "<style scoped>\n",
       "    .dataframe tbody tr th:only-of-type {\n",
       "        vertical-align: middle;\n",
       "    }\n",
       "\n",
       "    .dataframe tbody tr th {\n",
       "        vertical-align: top;\n",
       "    }\n",
       "\n",
       "    .dataframe thead th {\n",
       "        text-align: right;\n",
       "    }\n",
       "</style>\n",
       "<table border=\"1\" class=\"dataframe\">\n",
       "  <thead>\n",
       "    <tr style=\"text-align: right;\">\n",
       "      <th></th>\n",
       "      <th>PDB</th>\n",
       "      <th>group_PDB</th>\n",
       "      <th>auth_asym_id</th>\n",
       "      <th>label_asym_id</th>\n",
       "      <th>label_seq_id</th>\n",
       "      <th>auth_seq_id</th>\n",
       "      <th>label_comp_id</th>\n",
       "      <th>id</th>\n",
       "      <th>label_atom_id</th>\n",
       "      <th>type_symbol</th>\n",
       "      <th>...</th>\n",
       "      <th>identifier</th>\n",
       "      <th>label_comp_sid</th>\n",
       "      <th>label_2_uni</th>\n",
       "      <th>gen_pos</th>\n",
       "      <th>gen_pos1</th>\n",
       "      <th>gen_pos2</th>\n",
       "      <th>uniprot_comp_sid</th>\n",
       "      <th>gprot_pos</th>\n",
       "      <th>uniprot_comp_id</th>\n",
       "      <th>fam_comp_id</th>\n",
       "    </tr>\n",
       "  </thead>\n",
       "  <tbody>\n",
       "    <tr>\n",
       "      <th>1515</th>\n",
       "      <td>7D77</td>\n",
       "      <td>ATOM</td>\n",
       "      <td>A</td>\n",
       "      <td>A</td>\n",
       "      <td>201</td>\n",
       "      <td>329</td>\n",
       "      <td>THR</td>\n",
       "      <td>1516</td>\n",
       "      <td>CA</td>\n",
       "      <td>C</td>\n",
       "      <td>...</td>\n",
       "      <td>AGRG3_HUMAN</td>\n",
       "      <td>T</td>\n",
       "      <td>329</td>\n",
       "      <td></td>\n",
       "      <td>0</td>\n",
       "      <td>0</td>\n",
       "      <td></td>\n",
       "      <td>G.H5.01</td>\n",
       "      <td>T</td>\n",
       "      <td>T</td>\n",
       "    </tr>\n",
       "    <tr>\n",
       "      <th>1522</th>\n",
       "      <td>7D77</td>\n",
       "      <td>ATOM</td>\n",
       "      <td>A</td>\n",
       "      <td>A</td>\n",
       "      <td>202</td>\n",
       "      <td>330</td>\n",
       "      <td>ASN</td>\n",
       "      <td>1523</td>\n",
       "      <td>CA</td>\n",
       "      <td>C</td>\n",
       "      <td>...</td>\n",
       "      <td>AGRG3_HUMAN</td>\n",
       "      <td>N</td>\n",
       "      <td>330</td>\n",
       "      <td></td>\n",
       "      <td>0</td>\n",
       "      <td>0</td>\n",
       "      <td></td>\n",
       "      <td>G.H5.02</td>\n",
       "      <td>K</td>\n",
       "      <td>K</td>\n",
       "    </tr>\n",
       "    <tr>\n",
       "      <th>1530</th>\n",
       "      <td>7D77</td>\n",
       "      <td>ATOM</td>\n",
       "      <td>A</td>\n",
       "      <td>A</td>\n",
       "      <td>203</td>\n",
       "      <td>331</td>\n",
       "      <td>ASN</td>\n",
       "      <td>1531</td>\n",
       "      <td>CA</td>\n",
       "      <td>C</td>\n",
       "      <td>...</td>\n",
       "      <td>AGRG3_HUMAN</td>\n",
       "      <td>N</td>\n",
       "      <td>331</td>\n",
       "      <td></td>\n",
       "      <td>0</td>\n",
       "      <td>0</td>\n",
       "      <td></td>\n",
       "      <td>G.H5.03</td>\n",
       "      <td>N</td>\n",
       "      <td>N</td>\n",
       "    </tr>\n",
       "    <tr>\n",
       "      <th>1538</th>\n",
       "      <td>7D77</td>\n",
       "      <td>ATOM</td>\n",
       "      <td>A</td>\n",
       "      <td>A</td>\n",
       "      <td>204</td>\n",
       "      <td>332</td>\n",
       "      <td>ALA</td>\n",
       "      <td>1539</td>\n",
       "      <td>CA</td>\n",
       "      <td>C</td>\n",
       "      <td>...</td>\n",
       "      <td>AGRG3_HUMAN</td>\n",
       "      <td>A</td>\n",
       "      <td>332</td>\n",
       "      <td></td>\n",
       "      <td>0</td>\n",
       "      <td>0</td>\n",
       "      <td></td>\n",
       "      <td>G.H5.04</td>\n",
       "      <td>V</td>\n",
       "      <td>V</td>\n",
       "    </tr>\n",
       "    <tr>\n",
       "      <th>1543</th>\n",
       "      <td>7D77</td>\n",
       "      <td>ATOM</td>\n",
       "      <td>A</td>\n",
       "      <td>A</td>\n",
       "      <td>205</td>\n",
       "      <td>333</td>\n",
       "      <td>GLN</td>\n",
       "      <td>1544</td>\n",
       "      <td>CA</td>\n",
       "      <td>C</td>\n",
       "      <td>...</td>\n",
       "      <td>AGRG3_HUMAN</td>\n",
       "      <td>Q</td>\n",
       "      <td>333</td>\n",
       "      <td></td>\n",
       "      <td>0</td>\n",
       "      <td>0</td>\n",
       "      <td></td>\n",
       "      <td>G.H5.05</td>\n",
       "      <td>Q</td>\n",
       "      <td>Q</td>\n",
       "    </tr>\n",
       "    <tr>\n",
       "      <th>1552</th>\n",
       "      <td>7D77</td>\n",
       "      <td>ATOM</td>\n",
       "      <td>A</td>\n",
       "      <td>A</td>\n",
       "      <td>206</td>\n",
       "      <td>334</td>\n",
       "      <td>VAL</td>\n",
       "      <td>1553</td>\n",
       "      <td>CA</td>\n",
       "      <td>C</td>\n",
       "      <td>...</td>\n",
       "      <td>AGRG3_HUMAN</td>\n",
       "      <td>V</td>\n",
       "      <td>334</td>\n",
       "      <td></td>\n",
       "      <td>0</td>\n",
       "      <td>0</td>\n",
       "      <td></td>\n",
       "      <td>G.H5.06</td>\n",
       "      <td>F</td>\n",
       "      <td>F</td>\n",
       "    </tr>\n",
       "    <tr>\n",
       "      <th>1559</th>\n",
       "      <td>7D77</td>\n",
       "      <td>ATOM</td>\n",
       "      <td>A</td>\n",
       "      <td>A</td>\n",
       "      <td>207</td>\n",
       "      <td>335</td>\n",
       "      <td>ILE</td>\n",
       "      <td>1560</td>\n",
       "      <td>CA</td>\n",
       "      <td>C</td>\n",
       "      <td>...</td>\n",
       "      <td>AGRG3_HUMAN</td>\n",
       "      <td>I</td>\n",
       "      <td>335</td>\n",
       "      <td></td>\n",
       "      <td>0</td>\n",
       "      <td>0</td>\n",
       "      <td></td>\n",
       "      <td>G.H5.07</td>\n",
       "      <td>V</td>\n",
       "      <td>V</td>\n",
       "    </tr>\n",
       "    <tr>\n",
       "      <th>1567</th>\n",
       "      <td>7D77</td>\n",
       "      <td>ATOM</td>\n",
       "      <td>A</td>\n",
       "      <td>A</td>\n",
       "      <td>208</td>\n",
       "      <td>336</td>\n",
       "      <td>PHE</td>\n",
       "      <td>1568</td>\n",
       "      <td>CA</td>\n",
       "      <td>C</td>\n",
       "      <td>...</td>\n",
       "      <td>AGRG3_HUMAN</td>\n",
       "      <td>F</td>\n",
       "      <td>336</td>\n",
       "      <td></td>\n",
       "      <td>0</td>\n",
       "      <td>0</td>\n",
       "      <td></td>\n",
       "      <td>G.H5.08</td>\n",
       "      <td>F</td>\n",
       "      <td>F</td>\n",
       "    </tr>\n",
       "    <tr>\n",
       "      <th>1578</th>\n",
       "      <td>7D77</td>\n",
       "      <td>ATOM</td>\n",
       "      <td>A</td>\n",
       "      <td>A</td>\n",
       "      <td>209</td>\n",
       "      <td>337</td>\n",
       "      <td>ASP</td>\n",
       "      <td>1579</td>\n",
       "      <td>CA</td>\n",
       "      <td>C</td>\n",
       "      <td>...</td>\n",
       "      <td>AGRG3_HUMAN</td>\n",
       "      <td>D</td>\n",
       "      <td>337</td>\n",
       "      <td></td>\n",
       "      <td>0</td>\n",
       "      <td>0</td>\n",
       "      <td></td>\n",
       "      <td>G.H5.09</td>\n",
       "      <td>D</td>\n",
       "      <td>D</td>\n",
       "    </tr>\n",
       "    <tr>\n",
       "      <th>1586</th>\n",
       "      <td>7D77</td>\n",
       "      <td>ATOM</td>\n",
       "      <td>A</td>\n",
       "      <td>A</td>\n",
       "      <td>210</td>\n",
       "      <td>338</td>\n",
       "      <td>ALA</td>\n",
       "      <td>1587</td>\n",
       "      <td>CA</td>\n",
       "      <td>C</td>\n",
       "      <td>...</td>\n",
       "      <td>AGRG3_HUMAN</td>\n",
       "      <td>A</td>\n",
       "      <td>338</td>\n",
       "      <td></td>\n",
       "      <td>0</td>\n",
       "      <td>0</td>\n",
       "      <td></td>\n",
       "      <td>G.H5.10</td>\n",
       "      <td>A</td>\n",
       "      <td>A</td>\n",
       "    </tr>\n",
       "    <tr>\n",
       "      <th>1591</th>\n",
       "      <td>7D77</td>\n",
       "      <td>ATOM</td>\n",
       "      <td>A</td>\n",
       "      <td>A</td>\n",
       "      <td>211</td>\n",
       "      <td>339</td>\n",
       "      <td>VAL</td>\n",
       "      <td>1592</td>\n",
       "      <td>CA</td>\n",
       "      <td>C</td>\n",
       "      <td>...</td>\n",
       "      <td>AGRG3_HUMAN</td>\n",
       "      <td>V</td>\n",
       "      <td>339</td>\n",
       "      <td></td>\n",
       "      <td>0</td>\n",
       "      <td>0</td>\n",
       "      <td></td>\n",
       "      <td>G.H5.11</td>\n",
       "      <td>V</td>\n",
       "      <td>V</td>\n",
       "    </tr>\n",
       "    <tr>\n",
       "      <th>1598</th>\n",
       "      <td>7D77</td>\n",
       "      <td>ATOM</td>\n",
       "      <td>A</td>\n",
       "      <td>A</td>\n",
       "      <td>212</td>\n",
       "      <td>340</td>\n",
       "      <td>THR</td>\n",
       "      <td>1599</td>\n",
       "      <td>CA</td>\n",
       "      <td>C</td>\n",
       "      <td>...</td>\n",
       "      <td>AGRG3_HUMAN</td>\n",
       "      <td>T</td>\n",
       "      <td>340</td>\n",
       "      <td></td>\n",
       "      <td>0</td>\n",
       "      <td>0</td>\n",
       "      <td></td>\n",
       "      <td>G.H5.12</td>\n",
       "      <td>T</td>\n",
       "      <td>T</td>\n",
       "    </tr>\n",
       "    <tr>\n",
       "      <th>1605</th>\n",
       "      <td>7D77</td>\n",
       "      <td>ATOM</td>\n",
       "      <td>A</td>\n",
       "      <td>A</td>\n",
       "      <td>213</td>\n",
       "      <td>341</td>\n",
       "      <td>ASP</td>\n",
       "      <td>1606</td>\n",
       "      <td>CA</td>\n",
       "      <td>C</td>\n",
       "      <td>...</td>\n",
       "      <td>AGRG3_HUMAN</td>\n",
       "      <td>D</td>\n",
       "      <td>341</td>\n",
       "      <td></td>\n",
       "      <td>0</td>\n",
       "      <td>0</td>\n",
       "      <td></td>\n",
       "      <td>G.H5.13</td>\n",
       "      <td>D</td>\n",
       "      <td>D</td>\n",
       "    </tr>\n",
       "    <tr>\n",
       "      <th>1613</th>\n",
       "      <td>7D77</td>\n",
       "      <td>ATOM</td>\n",
       "      <td>A</td>\n",
       "      <td>A</td>\n",
       "      <td>214</td>\n",
       "      <td>342</td>\n",
       "      <td>ILE</td>\n",
       "      <td>1614</td>\n",
       "      <td>CA</td>\n",
       "      <td>C</td>\n",
       "      <td>...</td>\n",
       "      <td>AGRG3_HUMAN</td>\n",
       "      <td>I</td>\n",
       "      <td>342</td>\n",
       "      <td></td>\n",
       "      <td>0</td>\n",
       "      <td>0</td>\n",
       "      <td></td>\n",
       "      <td>G.H5.14</td>\n",
       "      <td>V</td>\n",
       "      <td>V</td>\n",
       "    </tr>\n",
       "    <tr>\n",
       "      <th>1621</th>\n",
       "      <td>7D77</td>\n",
       "      <td>ATOM</td>\n",
       "      <td>A</td>\n",
       "      <td>A</td>\n",
       "      <td>215</td>\n",
       "      <td>343</td>\n",
       "      <td>ILE</td>\n",
       "      <td>1622</td>\n",
       "      <td>CA</td>\n",
       "      <td>C</td>\n",
       "      <td>...</td>\n",
       "      <td>AGRG3_HUMAN</td>\n",
       "      <td>I</td>\n",
       "      <td>343</td>\n",
       "      <td></td>\n",
       "      <td>0</td>\n",
       "      <td>0</td>\n",
       "      <td></td>\n",
       "      <td>G.H5.15</td>\n",
       "      <td>I</td>\n",
       "      <td>I</td>\n",
       "    </tr>\n",
       "    <tr>\n",
       "      <th>1629</th>\n",
       "      <td>7D77</td>\n",
       "      <td>ATOM</td>\n",
       "      <td>A</td>\n",
       "      <td>A</td>\n",
       "      <td>216</td>\n",
       "      <td>344</td>\n",
       "      <td>ILE</td>\n",
       "      <td>1630</td>\n",
       "      <td>CA</td>\n",
       "      <td>C</td>\n",
       "      <td>...</td>\n",
       "      <td>AGRG3_HUMAN</td>\n",
       "      <td>I</td>\n",
       "      <td>344</td>\n",
       "      <td></td>\n",
       "      <td>0</td>\n",
       "      <td>0</td>\n",
       "      <td></td>\n",
       "      <td>G.H5.16</td>\n",
       "      <td>I</td>\n",
       "      <td>I</td>\n",
       "    </tr>\n",
       "    <tr>\n",
       "      <th>1637</th>\n",
       "      <td>7D77</td>\n",
       "      <td>ATOM</td>\n",
       "      <td>A</td>\n",
       "      <td>A</td>\n",
       "      <td>217</td>\n",
       "      <td>345</td>\n",
       "      <td>ALA</td>\n",
       "      <td>1638</td>\n",
       "      <td>CA</td>\n",
       "      <td>C</td>\n",
       "      <td>...</td>\n",
       "      <td>AGRG3_HUMAN</td>\n",
       "      <td>A</td>\n",
       "      <td>345</td>\n",
       "      <td></td>\n",
       "      <td>0</td>\n",
       "      <td>0</td>\n",
       "      <td></td>\n",
       "      <td>G.H5.17</td>\n",
       "      <td>K</td>\n",
       "      <td>K</td>\n",
       "    </tr>\n",
       "    <tr>\n",
       "      <th>1642</th>\n",
       "      <td>7D77</td>\n",
       "      <td>ATOM</td>\n",
       "      <td>A</td>\n",
       "      <td>A</td>\n",
       "      <td>218</td>\n",
       "      <td>346</td>\n",
       "      <td>ASN</td>\n",
       "      <td>1643</td>\n",
       "      <td>CA</td>\n",
       "      <td>C</td>\n",
       "      <td>...</td>\n",
       "      <td>AGRG3_HUMAN</td>\n",
       "      <td>N</td>\n",
       "      <td>346</td>\n",
       "      <td></td>\n",
       "      <td>0</td>\n",
       "      <td>0</td>\n",
       "      <td></td>\n",
       "      <td>G.H5.18</td>\n",
       "      <td>N</td>\n",
       "      <td>N</td>\n",
       "    </tr>\n",
       "    <tr>\n",
       "      <th>1650</th>\n",
       "      <td>7D77</td>\n",
       "      <td>ATOM</td>\n",
       "      <td>A</td>\n",
       "      <td>A</td>\n",
       "      <td>219</td>\n",
       "      <td>347</td>\n",
       "      <td>ASN</td>\n",
       "      <td>1651</td>\n",
       "      <td>CA</td>\n",
       "      <td>C</td>\n",
       "      <td>...</td>\n",
       "      <td>AGRG3_HUMAN</td>\n",
       "      <td>N</td>\n",
       "      <td>347</td>\n",
       "      <td></td>\n",
       "      <td>0</td>\n",
       "      <td>0</td>\n",
       "      <td></td>\n",
       "      <td>G.H5.19</td>\n",
       "      <td>N</td>\n",
       "      <td>N</td>\n",
       "    </tr>\n",
       "    <tr>\n",
       "      <th>1658</th>\n",
       "      <td>7D77</td>\n",
       "      <td>ATOM</td>\n",
       "      <td>A</td>\n",
       "      <td>A</td>\n",
       "      <td>220</td>\n",
       "      <td>348</td>\n",
       "      <td>LEU</td>\n",
       "      <td>1659</td>\n",
       "      <td>CA</td>\n",
       "      <td>C</td>\n",
       "      <td>...</td>\n",
       "      <td>AGRG3_HUMAN</td>\n",
       "      <td>L</td>\n",
       "      <td>348</td>\n",
       "      <td></td>\n",
       "      <td>0</td>\n",
       "      <td>0</td>\n",
       "      <td></td>\n",
       "      <td>G.H5.20</td>\n",
       "      <td>L</td>\n",
       "      <td>L</td>\n",
       "    </tr>\n",
       "    <tr>\n",
       "      <th>1666</th>\n",
       "      <td>7D77</td>\n",
       "      <td>ATOM</td>\n",
       "      <td>A</td>\n",
       "      <td>A</td>\n",
       "      <td>221</td>\n",
       "      <td>349</td>\n",
       "      <td>ARG</td>\n",
       "      <td>1667</td>\n",
       "      <td>CA</td>\n",
       "      <td>C</td>\n",
       "      <td>...</td>\n",
       "      <td>AGRG3_HUMAN</td>\n",
       "      <td>R</td>\n",
       "      <td>349</td>\n",
       "      <td></td>\n",
       "      <td>0</td>\n",
       "      <td>0</td>\n",
       "      <td></td>\n",
       "      <td>G.H5.21</td>\n",
       "      <td>K</td>\n",
       "      <td>K</td>\n",
       "    </tr>\n",
       "    <tr>\n",
       "      <th>1677</th>\n",
       "      <td>7D77</td>\n",
       "      <td>ATOM</td>\n",
       "      <td>A</td>\n",
       "      <td>A</td>\n",
       "      <td>222</td>\n",
       "      <td>350</td>\n",
       "      <td>GLY</td>\n",
       "      <td>1678</td>\n",
       "      <td>CA</td>\n",
       "      <td>C</td>\n",
       "      <td>...</td>\n",
       "      <td>AGRG3_HUMAN</td>\n",
       "      <td>G</td>\n",
       "      <td>350</td>\n",
       "      <td></td>\n",
       "      <td>0</td>\n",
       "      <td>0</td>\n",
       "      <td></td>\n",
       "      <td>G.H5.22</td>\n",
       "      <td>D</td>\n",
       "      <td>D</td>\n",
       "    </tr>\n",
       "    <tr>\n",
       "      <th>1681</th>\n",
       "      <td>7D77</td>\n",
       "      <td>ATOM</td>\n",
       "      <td>A</td>\n",
       "      <td>A</td>\n",
       "      <td>223</td>\n",
       "      <td>351</td>\n",
       "      <td>CYS</td>\n",
       "      <td>1682</td>\n",
       "      <td>CA</td>\n",
       "      <td>C</td>\n",
       "      <td>...</td>\n",
       "      <td>AGRG3_HUMAN</td>\n",
       "      <td>C</td>\n",
       "      <td>351</td>\n",
       "      <td></td>\n",
       "      <td>0</td>\n",
       "      <td>0</td>\n",
       "      <td></td>\n",
       "      <td>G.H5.23</td>\n",
       "      <td>C</td>\n",
       "      <td>C</td>\n",
       "    </tr>\n",
       "    <tr>\n",
       "      <th>1687</th>\n",
       "      <td>7D77</td>\n",
       "      <td>ATOM</td>\n",
       "      <td>A</td>\n",
       "      <td>A</td>\n",
       "      <td>224</td>\n",
       "      <td>352</td>\n",
       "      <td>GLY</td>\n",
       "      <td>1688</td>\n",
       "      <td>CA</td>\n",
       "      <td>C</td>\n",
       "      <td>...</td>\n",
       "      <td>AGRG3_HUMAN</td>\n",
       "      <td>G</td>\n",
       "      <td>352</td>\n",
       "      <td></td>\n",
       "      <td>0</td>\n",
       "      <td>0</td>\n",
       "      <td></td>\n",
       "      <td>G.H5.24</td>\n",
       "      <td>G</td>\n",
       "      <td>G</td>\n",
       "    </tr>\n",
       "    <tr>\n",
       "      <th>1691</th>\n",
       "      <td>7D77</td>\n",
       "      <td>ATOM</td>\n",
       "      <td>A</td>\n",
       "      <td>A</td>\n",
       "      <td>225</td>\n",
       "      <td>353</td>\n",
       "      <td>LEU</td>\n",
       "      <td>1692</td>\n",
       "      <td>CA</td>\n",
       "      <td>C</td>\n",
       "      <td>...</td>\n",
       "      <td>AGRG3_HUMAN</td>\n",
       "      <td>L</td>\n",
       "      <td>353</td>\n",
       "      <td></td>\n",
       "      <td>0</td>\n",
       "      <td>0</td>\n",
       "      <td></td>\n",
       "      <td>G.H5.25</td>\n",
       "      <td>L</td>\n",
       "      <td>L</td>\n",
       "    </tr>\n",
       "    <tr>\n",
       "      <th>1699</th>\n",
       "      <td>7D77</td>\n",
       "      <td>ATOM</td>\n",
       "      <td>A</td>\n",
       "      <td>A</td>\n",
       "      <td>226</td>\n",
       "      <td>354</td>\n",
       "      <td>TYR</td>\n",
       "      <td>1700</td>\n",
       "      <td>CA</td>\n",
       "      <td>C</td>\n",
       "      <td>...</td>\n",
       "      <td>AGRG3_HUMAN</td>\n",
       "      <td>Y</td>\n",
       "      <td>0</td>\n",
       "      <td></td>\n",
       "      <td>0</td>\n",
       "      <td>0</td>\n",
       "      <td></td>\n",
       "      <td>G.H5.26</td>\n",
       "      <td></td>\n",
       "      <td></td>\n",
       "    </tr>\n",
       "  </tbody>\n",
       "</table>\n",
       "<p>26 rows × 26 columns</p>\n",
       "</div>"
      ],
      "text/plain": [
       "       PDB group_PDB auth_asym_id label_asym_id  label_seq_id auth_seq_id  \\\n",
       "1515  7D77      ATOM            A             A           201         329   \n",
       "1522  7D77      ATOM            A             A           202         330   \n",
       "1530  7D77      ATOM            A             A           203         331   \n",
       "1538  7D77      ATOM            A             A           204         332   \n",
       "1543  7D77      ATOM            A             A           205         333   \n",
       "1552  7D77      ATOM            A             A           206         334   \n",
       "1559  7D77      ATOM            A             A           207         335   \n",
       "1567  7D77      ATOM            A             A           208         336   \n",
       "1578  7D77      ATOM            A             A           209         337   \n",
       "1586  7D77      ATOM            A             A           210         338   \n",
       "1591  7D77      ATOM            A             A           211         339   \n",
       "1598  7D77      ATOM            A             A           212         340   \n",
       "1605  7D77      ATOM            A             A           213         341   \n",
       "1613  7D77      ATOM            A             A           214         342   \n",
       "1621  7D77      ATOM            A             A           215         343   \n",
       "1629  7D77      ATOM            A             A           216         344   \n",
       "1637  7D77      ATOM            A             A           217         345   \n",
       "1642  7D77      ATOM            A             A           218         346   \n",
       "1650  7D77      ATOM            A             A           219         347   \n",
       "1658  7D77      ATOM            A             A           220         348   \n",
       "1666  7D77      ATOM            A             A           221         349   \n",
       "1677  7D77      ATOM            A             A           222         350   \n",
       "1681  7D77      ATOM            A             A           223         351   \n",
       "1687  7D77      ATOM            A             A           224         352   \n",
       "1691  7D77      ATOM            A             A           225         353   \n",
       "1699  7D77      ATOM            A             A           226         354   \n",
       "\n",
       "     label_comp_id    id label_atom_id type_symbol  ...   identifier  \\\n",
       "1515           THR  1516            CA           C  ...  AGRG3_HUMAN   \n",
       "1522           ASN  1523            CA           C  ...  AGRG3_HUMAN   \n",
       "1530           ASN  1531            CA           C  ...  AGRG3_HUMAN   \n",
       "1538           ALA  1539            CA           C  ...  AGRG3_HUMAN   \n",
       "1543           GLN  1544            CA           C  ...  AGRG3_HUMAN   \n",
       "1552           VAL  1553            CA           C  ...  AGRG3_HUMAN   \n",
       "1559           ILE  1560            CA           C  ...  AGRG3_HUMAN   \n",
       "1567           PHE  1568            CA           C  ...  AGRG3_HUMAN   \n",
       "1578           ASP  1579            CA           C  ...  AGRG3_HUMAN   \n",
       "1586           ALA  1587            CA           C  ...  AGRG3_HUMAN   \n",
       "1591           VAL  1592            CA           C  ...  AGRG3_HUMAN   \n",
       "1598           THR  1599            CA           C  ...  AGRG3_HUMAN   \n",
       "1605           ASP  1606            CA           C  ...  AGRG3_HUMAN   \n",
       "1613           ILE  1614            CA           C  ...  AGRG3_HUMAN   \n",
       "1621           ILE  1622            CA           C  ...  AGRG3_HUMAN   \n",
       "1629           ILE  1630            CA           C  ...  AGRG3_HUMAN   \n",
       "1637           ALA  1638            CA           C  ...  AGRG3_HUMAN   \n",
       "1642           ASN  1643            CA           C  ...  AGRG3_HUMAN   \n",
       "1650           ASN  1651            CA           C  ...  AGRG3_HUMAN   \n",
       "1658           LEU  1659            CA           C  ...  AGRG3_HUMAN   \n",
       "1666           ARG  1667            CA           C  ...  AGRG3_HUMAN   \n",
       "1677           GLY  1678            CA           C  ...  AGRG3_HUMAN   \n",
       "1681           CYS  1682            CA           C  ...  AGRG3_HUMAN   \n",
       "1687           GLY  1688            CA           C  ...  AGRG3_HUMAN   \n",
       "1691           LEU  1692            CA           C  ...  AGRG3_HUMAN   \n",
       "1699           TYR  1700            CA           C  ...  AGRG3_HUMAN   \n",
       "\n",
       "     label_comp_sid label_2_uni  gen_pos  gen_pos1  gen_pos2 uniprot_comp_sid  \\\n",
       "1515              T         329                  0         0                    \n",
       "1522              N         330                  0         0                    \n",
       "1530              N         331                  0         0                    \n",
       "1538              A         332                  0         0                    \n",
       "1543              Q         333                  0         0                    \n",
       "1552              V         334                  0         0                    \n",
       "1559              I         335                  0         0                    \n",
       "1567              F         336                  0         0                    \n",
       "1578              D         337                  0         0                    \n",
       "1586              A         338                  0         0                    \n",
       "1591              V         339                  0         0                    \n",
       "1598              T         340                  0         0                    \n",
       "1605              D         341                  0         0                    \n",
       "1613              I         342                  0         0                    \n",
       "1621              I         343                  0         0                    \n",
       "1629              I         344                  0         0                    \n",
       "1637              A         345                  0         0                    \n",
       "1642              N         346                  0         0                    \n",
       "1650              N         347                  0         0                    \n",
       "1658              L         348                  0         0                    \n",
       "1666              R         349                  0         0                    \n",
       "1677              G         350                  0         0                    \n",
       "1681              C         351                  0         0                    \n",
       "1687              G         352                  0         0                    \n",
       "1691              L         353                  0         0                    \n",
       "1699              Y           0                  0         0                    \n",
       "\n",
       "     gprot_pos  uniprot_comp_id fam_comp_id  \n",
       "1515   G.H5.01                T           T  \n",
       "1522   G.H5.02                K           K  \n",
       "1530   G.H5.03                N           N  \n",
       "1538   G.H5.04                V           V  \n",
       "1543   G.H5.05                Q           Q  \n",
       "1552   G.H5.06                F           F  \n",
       "1559   G.H5.07                V           V  \n",
       "1567   G.H5.08                F           F  \n",
       "1578   G.H5.09                D           D  \n",
       "1586   G.H5.10                A           A  \n",
       "1591   G.H5.11                V           V  \n",
       "1598   G.H5.12                T           T  \n",
       "1605   G.H5.13                D           D  \n",
       "1613   G.H5.14                V           V  \n",
       "1621   G.H5.15                I           I  \n",
       "1629   G.H5.16                I           I  \n",
       "1637   G.H5.17                K           K  \n",
       "1642   G.H5.18                N           N  \n",
       "1650   G.H5.19                N           N  \n",
       "1658   G.H5.20                L           L  \n",
       "1666   G.H5.21                K           K  \n",
       "1677   G.H5.22                D           D  \n",
       "1681   G.H5.23                C           C  \n",
       "1687   G.H5.24                G           G  \n",
       "1691   G.H5.25                L           L  \n",
       "1699   G.H5.26                               \n",
       "\n",
       "[26 rows x 26 columns]"
      ]
     },
     "execution_count": 81,
     "metadata": {},
     "output_type": "execute_result"
    }
   ],
   "source": [
    "x[(x['label_atom_id']=='CA') &\n",
    "  (x['gprot_pos']!='') &\n",
    "  (x['gprot_pos'].str.contains('H5'))]"
   ]
  },
  {
   "cell_type": "code",
   "execution_count": null,
   "id": "86ff773b",
   "metadata": {},
   "outputs": [],
   "source": [
    "x[(x['label_atom_id']=='CA') &\n",
    "  (x['gen_pos1']>7.50) &\n",
    "  (x['gen_pos1']<9) ]"
   ]
  },
  {
   "cell_type": "code",
   "execution_count": null,
   "id": "f259c9e2",
   "metadata": {},
   "outputs": [],
   "source": []
  },
  {
   "cell_type": "code",
   "execution_count": null,
   "id": "controversial-luxury",
   "metadata": {},
   "outputs": [],
   "source": []
  }
 ],
 "metadata": {
  "kernelspec": {
   "display_name": "Python 3",
   "language": "python",
   "name": "python3"
  },
  "language_info": {
   "codemirror_mode": {
    "name": "ipython",
    "version": 3
   },
   "file_extension": ".py",
   "mimetype": "text/x-python",
   "name": "python",
   "nbconvert_exporter": "python",
   "pygments_lexer": "ipython3",
   "version": "3.8.5"
  }
 },
 "nbformat": 4,
 "nbformat_minor": 5
}
