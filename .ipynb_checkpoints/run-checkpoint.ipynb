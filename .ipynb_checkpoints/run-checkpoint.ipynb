{
 "cells": [
  {
   "cell_type": "code",
   "execution_count": 1,
   "id": "f8ea0f86",
   "metadata": {},
   "outputs": [],
   "source": [
    "from download import *\n",
    "from processor import *"
   ]
  },
  {
   "cell_type": "code",
   "execution_count": 2,
   "id": "c01faf21",
   "metadata": {},
   "outputs": [
    {
     "data": {
      "text/plain": [
       "\"D = Download(fileformat='cif')\\nD.download_alignment()\\nD.download_table(reload=True)\\nD.download_pdbs(reload=True)\""
      ]
     },
     "execution_count": 2,
     "metadata": {},
     "output_type": "execute_result"
    }
   ],
   "source": [
    "\"\"\"D = Download(fileformat='cif')\n",
    "D.download_alignment()\n",
    "D.download_table(reload=True)\n",
    "D.download_pdbs(reload=True)\"\"\""
   ]
  },
  {
   "cell_type": "code",
   "execution_count": 3,
   "id": "drawn-orange",
   "metadata": {},
   "outputs": [
    {
     "data": {
      "text/plain": [
       "\"import os\\n\\npath = 'data/processed/'\\n\\nfor file in os.listdir(path):\\n    if len(file) == 8:\\n        file_ = file[:4].upper()\\n        file_upper = file_ + '.pkl'\\n        os.rename(path + file, path + file_upper)\\n\\nthen = os.listdir(path)\\nprint(then)\""
      ]
     },
     "execution_count": 3,
     "metadata": {},
     "output_type": "execute_result"
    }
   ],
   "source": [
    "\"\"\"import os\n",
    "\n",
    "path = 'data/processed/'\n",
    "\n",
    "for file in os.listdir(path):\n",
    "    if len(file) == 8:\n",
    "        file_ = file[:4].upper()\n",
    "        file_upper = file_ + '.pkl'\n",
    "        os.rename(path + file, path + file_upper)\n",
    "\n",
    "then = os.listdir(path)\n",
    "print(then)\"\"\""
   ]
  },
  {
   "cell_type": "code",
   "execution_count": 4,
   "id": "d2e2076e",
   "metadata": {},
   "outputs": [],
   "source": [
    "p = CifProcessor()\n",
    "p.read_pkl_metainfo()"
   ]
  },
  {
   "cell_type": "code",
   "execution_count": 5,
   "id": "56c538e1",
   "metadata": {},
   "outputs": [],
   "source": [
    "# p.del_pkl()   # ATTENTION!!! DO NOT RUN UNLESS YOU WANT TO CLEAN YOUR RAW FOLDER!"
   ]
  },
  {
   "cell_type": "code",
   "execution_count": 6,
   "id": "common-placement",
   "metadata": {},
   "outputs": [],
   "source": [
    "# p.make_metainfo(overwrite=True)  \n",
    "# this takes a very long time (30 minutes) since we query numberings and mappings\n",
    "# This should have a flag where we can select to update only mssing entries"
   ]
  },
  {
   "cell_type": "code",
   "execution_count": 7,
   "id": "verbal-advertising",
   "metadata": {},
   "outputs": [],
   "source": [
    "# p.to_pkl_metainfo()"
   ]
  },
  {
   "cell_type": "code",
   "execution_count": 8,
   "id": "b2f9983c",
   "metadata": {},
   "outputs": [],
   "source": [
    "# p.make_raws(overwrite=False)  # set overwrite to False to skip all processed samples"
   ]
  },
  {
   "cell_type": "code",
   "execution_count": 9,
   "id": "f6edbdb4",
   "metadata": {},
   "outputs": [
    {
     "name": "stdout",
     "output_type": "stream",
     "text": [
      "Reading files without generic numbers...\n"
     ]
    }
   ],
   "source": [
    "p.read_pkl(mode='', folder='data/raw/')"
   ]
  },
  {
   "cell_type": "code",
   "execution_count": 10,
   "id": "cc835d0a",
   "metadata": {},
   "outputs": [],
   "source": [
    "p.allow_exception=False"
   ]
  },
  {
   "cell_type": "code",
   "execution_count": 11,
   "id": "726b2592",
   "metadata": {},
   "outputs": [],
   "source": [
    "f_act = p.filter_dfl_via_table(State='Active')"
   ]
  },
  {
   "cell_type": "code",
   "execution_count": 12,
   "id": "sacred-completion",
   "metadata": {},
   "outputs": [
    {
     "data": {
      "text/plain": [
       "210"
      ]
     },
     "execution_count": 12,
     "metadata": {},
     "output_type": "execute_result"
    }
   ],
   "source": [
    "len(f_act)"
   ]
  },
  {
   "cell_type": "code",
   "execution_count": 12,
   "id": "virtual-community",
   "metadata": {},
   "outputs": [],
   "source": [
    "l_inact = [x for x in p.dfl_list if x not in list(f_act['PDB'])]"
   ]
  },
  {
   "cell_type": "code",
   "execution_count": 13,
   "id": "professional-mainstream",
   "metadata": {},
   "outputs": [
    {
     "data": {
      "text/plain": [
       "334"
      ]
     },
     "execution_count": 13,
     "metadata": {},
     "output_type": "execute_result"
    }
   ],
   "source": [
    "len(l_inact)"
   ]
  },
  {
   "cell_type": "code",
   "execution_count": 14,
   "id": "auburn-cleaners",
   "metadata": {},
   "outputs": [],
   "source": [
    "f_inact = p.filter_dfl_via_table(pdb_ids = l_inact)"
   ]
  },
  {
   "cell_type": "code",
   "execution_count": 15,
   "id": "scheduled-announcement",
   "metadata": {},
   "outputs": [
    {
     "data": {
      "text/plain": [
       "334"
      ]
     },
     "execution_count": 15,
     "metadata": {},
     "output_type": "execute_result"
    }
   ],
   "source": [
    "len(f_inact)"
   ]
  },
  {
   "cell_type": "code",
   "execution_count": 16,
   "id": "18c00f9a",
   "metadata": {},
   "outputs": [],
   "source": [
    "# p.apply_filter(f_inact)"
   ]
  },
  {
   "cell_type": "code",
   "execution_count": 17,
   "id": "special-strand",
   "metadata": {},
   "outputs": [
    {
     "data": {
      "text/plain": [
       "544"
      ]
     },
     "execution_count": 17,
     "metadata": {},
     "output_type": "execute_result"
    }
   ],
   "source": [
    "len(p.dfl_list)"
   ]
  },
  {
   "cell_type": "code",
   "execution_count": 18,
   "id": "fantastic-friendly",
   "metadata": {},
   "outputs": [],
   "source": [
    "df = p.dfl[p.dfl_list.index('6KUX')]"
   ]
  },
  {
   "cell_type": "code",
   "execution_count": null,
   "id": "raised-parcel",
   "metadata": {},
   "outputs": [],
   "source": []
  },
  {
   "cell_type": "code",
   "execution_count": null,
   "id": "final-siemens",
   "metadata": {},
   "outputs": [],
   "source": []
  },
  {
   "cell_type": "code",
   "execution_count": 19,
   "id": "hearing-season",
   "metadata": {},
   "outputs": [
    {
     "name": "stdout",
     "output_type": "stream",
     "text": [
      "found 6KUX\n",
      "found 4BVN\n",
      "found 2Y04\n"
     ]
    }
   ],
   "source": [
    "for pdb in ['6KUX', '4BVN', '2Y04']:\n",
    "    if p.dfl_list.index(pdb) != None:\n",
    "        print(\"found\", pdb)"
   ]
  },
  {
   "cell_type": "code",
   "execution_count": 42,
   "id": "8e6e69b3",
   "metadata": {},
   "outputs": [
    {
     "name": "stderr",
     "output_type": "stream",
     "text": [
      "100%|███████████████████████████████████████████████████████████████████████████████████████████████████████████████████████████████████████████████████████████████████████████████████████████████████████| 1/1 [00:01<00:00,  1.13s/it]"
     ]
    },
    {
     "name": "stdout",
     "output_type": "stream",
     "text": [
      "Final Error Check...\n",
      "intervals : []\n",
      "Error Status: False\n",
      "assigned dfl[539] generic residue numbers for the receptor...\n",
      "Writing files with generic numbers on receptors.\n"
     ]
    },
    {
     "name": "stderr",
     "output_type": "stream",
     "text": [
      "\n"
     ]
    }
   ],
   "source": [
    "p.assign_generic_numbers_r(f=p.table, pdb_ids=['7L1V'], overwrite=True, folder='data/processed/')"
   ]
  },
  {
   "cell_type": "code",
   "execution_count": 43,
   "id": "domestic-cheese",
   "metadata": {},
   "outputs": [
    {
     "data": {
      "text/html": [
       "<div>\n",
       "<style scoped>\n",
       "    .dataframe tbody tr th:only-of-type {\n",
       "        vertical-align: middle;\n",
       "    }\n",
       "\n",
       "    .dataframe tbody tr th {\n",
       "        vertical-align: top;\n",
       "    }\n",
       "\n",
       "    .dataframe thead th {\n",
       "        text-align: right;\n",
       "    }\n",
       "</style>\n",
       "<table border=\"1\" class=\"dataframe\">\n",
       "  <thead>\n",
       "    <tr style=\"text-align: right;\">\n",
       "      <th></th>\n",
       "      <th>uniprot(gene)</th>\n",
       "      <th>receptor family</th>\n",
       "      <th>Cl.</th>\n",
       "      <th>Species</th>\n",
       "      <th>Method</th>\n",
       "      <th>PDB</th>\n",
       "      <th>Resolution</th>\n",
       "      <th>Preferred Chain</th>\n",
       "      <th>State</th>\n",
       "      <th>Degree active %</th>\n",
       "      <th>Family</th>\n",
       "      <th>Subtype</th>\n",
       "      <th>Function</th>\n",
       "    </tr>\n",
       "  </thead>\n",
       "  <tbody>\n",
       "    <tr>\n",
       "      <th>0</th>\n",
       "      <td>STE2</td>\n",
       "      <td>STE2</td>\n",
       "      <td>D1(Ste2-likefungalpheromone)</td>\n",
       "      <td>strainATCC204508/S288c</td>\n",
       "      <td>cryo-EM</td>\n",
       "      <td>7AD3</td>\n",
       "      <td>3.5</td>\n",
       "      <td>A</td>\n",
       "      <td>Active</td>\n",
       "      <td>-</td>\n",
       "      <td>GPa1family</td>\n",
       "      <td>αPa1</td>\n",
       "      <td>Agonist</td>\n",
       "    </tr>\n",
       "    <tr>\n",
       "      <th>1</th>\n",
       "      <td>5HT1B</td>\n",
       "      <td>5-Hydroxytryptamine</td>\n",
       "      <td>A(Rhodopsin)</td>\n",
       "      <td>Human</td>\n",
       "      <td>cryo-EM</td>\n",
       "      <td>6G79</td>\n",
       "      <td>3.8</td>\n",
       "      <td>S</td>\n",
       "      <td>Active</td>\n",
       "      <td>100</td>\n",
       "      <td>Gi/o</td>\n",
       "      <td>αo</td>\n",
       "      <td>Agonist</td>\n",
       "    </tr>\n",
       "    <tr>\n",
       "      <th>2</th>\n",
       "      <td>CCR2</td>\n",
       "      <td>Chemokine</td>\n",
       "      <td>A(Rhodopsin)</td>\n",
       "      <td>Human</td>\n",
       "      <td>X-ray</td>\n",
       "      <td>5T1A</td>\n",
       "      <td>2.8</td>\n",
       "      <td>A</td>\n",
       "      <td>Inactive</td>\n",
       "      <td>31</td>\n",
       "      <td>-</td>\n",
       "      <td>-</td>\n",
       "      <td>AllostericantagonistAntagonist</td>\n",
       "    </tr>\n",
       "    <tr>\n",
       "      <th>3</th>\n",
       "      <td>OPRM</td>\n",
       "      <td>Opioid</td>\n",
       "      <td>A(Rhodopsin)</td>\n",
       "      <td>Mouse</td>\n",
       "      <td>X-ray</td>\n",
       "      <td>4DKL</td>\n",
       "      <td>2.8</td>\n",
       "      <td>A</td>\n",
       "      <td>Inactive</td>\n",
       "      <td>7</td>\n",
       "      <td>-</td>\n",
       "      <td>-</td>\n",
       "      <td>Antagonist</td>\n",
       "    </tr>\n",
       "    <tr>\n",
       "      <th>4</th>\n",
       "      <td>CALRL</td>\n",
       "      <td>Calcitonin</td>\n",
       "      <td>B1(Secretin)</td>\n",
       "      <td>Human</td>\n",
       "      <td>cryo-EM</td>\n",
       "      <td>7KNT</td>\n",
       "      <td>3.2</td>\n",
       "      <td>R</td>\n",
       "      <td>Inactive</td>\n",
       "      <td>10</td>\n",
       "      <td>-</td>\n",
       "      <td>-</td>\n",
       "      <td>Apo(noligand)</td>\n",
       "    </tr>\n",
       "    <tr>\n",
       "      <th>...</th>\n",
       "      <td>...</td>\n",
       "      <td>...</td>\n",
       "      <td>...</td>\n",
       "      <td>...</td>\n",
       "      <td>...</td>\n",
       "      <td>...</td>\n",
       "      <td>...</td>\n",
       "      <td>...</td>\n",
       "      <td>...</td>\n",
       "      <td>...</td>\n",
       "      <td>...</td>\n",
       "      <td>...</td>\n",
       "      <td>...</td>\n",
       "    </tr>\n",
       "    <tr>\n",
       "      <th>540</th>\n",
       "      <td>PE2R4</td>\n",
       "      <td>Prostanoid</td>\n",
       "      <td>A(Rhodopsin)</td>\n",
       "      <td>Human</td>\n",
       "      <td>cryo-EM</td>\n",
       "      <td>7D7M</td>\n",
       "      <td>3.3</td>\n",
       "      <td>A</td>\n",
       "      <td>Active</td>\n",
       "      <td>100</td>\n",
       "      <td>Gs</td>\n",
       "      <td>αs</td>\n",
       "      <td>Agonist</td>\n",
       "    </tr>\n",
       "    <tr>\n",
       "      <th>541</th>\n",
       "      <td>5HT1B</td>\n",
       "      <td>5-Hydroxytryptamine</td>\n",
       "      <td>A(Rhodopsin)</td>\n",
       "      <td>Human</td>\n",
       "      <td>X-ray</td>\n",
       "      <td>5V54</td>\n",
       "      <td>3.9</td>\n",
       "      <td>A</td>\n",
       "      <td>Inactive</td>\n",
       "      <td>24</td>\n",
       "      <td>-</td>\n",
       "      <td>-</td>\n",
       "      <td>Antagonist</td>\n",
       "    </tr>\n",
       "    <tr>\n",
       "      <th>542</th>\n",
       "      <td>NTR1</td>\n",
       "      <td>Neurotensin</td>\n",
       "      <td>A(Rhodopsin)</td>\n",
       "      <td>Rat</td>\n",
       "      <td>cryo-EM</td>\n",
       "      <td>7L0S</td>\n",
       "      <td>4.5</td>\n",
       "      <td>C</td>\n",
       "      <td>Active</td>\n",
       "      <td>100</td>\n",
       "      <td>Gi/o</td>\n",
       "      <td>αi1</td>\n",
       "      <td>Agonist</td>\n",
       "    </tr>\n",
       "    <tr>\n",
       "      <th>543</th>\n",
       "      <td>AA2AR</td>\n",
       "      <td>Adenosine</td>\n",
       "      <td>A(Rhodopsin)</td>\n",
       "      <td>Human</td>\n",
       "      <td>X-ray</td>\n",
       "      <td>6S0Q</td>\n",
       "      <td>2.7</td>\n",
       "      <td>A</td>\n",
       "      <td>Inactive</td>\n",
       "      <td>0</td>\n",
       "      <td>-</td>\n",
       "      <td>-</td>\n",
       "      <td>Antagonist</td>\n",
       "    </tr>\n",
       "    <tr>\n",
       "      <th>544</th>\n",
       "      <td>NTR1</td>\n",
       "      <td>Neurotensin</td>\n",
       "      <td>A(Rhodopsin)</td>\n",
       "      <td>Rat</td>\n",
       "      <td>cryo-EM</td>\n",
       "      <td>7L0Q</td>\n",
       "      <td>4.3</td>\n",
       "      <td>C</td>\n",
       "      <td>Active</td>\n",
       "      <td>100</td>\n",
       "      <td>Gi/o</td>\n",
       "      <td>αi1</td>\n",
       "      <td>Agonist</td>\n",
       "    </tr>\n",
       "  </tbody>\n",
       "</table>\n",
       "<p>545 rows × 13 columns</p>\n",
       "</div>"
      ],
      "text/plain": [
       "    uniprot(gene)      receptor family                           Cl.  \\\n",
       "0            STE2                 STE2  D1(Ste2-likefungalpheromone)   \n",
       "1           5HT1B  5-Hydroxytryptamine                  A(Rhodopsin)   \n",
       "2            CCR2            Chemokine                  A(Rhodopsin)   \n",
       "3            OPRM               Opioid                  A(Rhodopsin)   \n",
       "4           CALRL           Calcitonin                  B1(Secretin)   \n",
       "..            ...                  ...                           ...   \n",
       "540         PE2R4           Prostanoid                  A(Rhodopsin)   \n",
       "541         5HT1B  5-Hydroxytryptamine                  A(Rhodopsin)   \n",
       "542          NTR1          Neurotensin                  A(Rhodopsin)   \n",
       "543         AA2AR            Adenosine                  A(Rhodopsin)   \n",
       "544          NTR1          Neurotensin                  A(Rhodopsin)   \n",
       "\n",
       "                    Species   Method   PDB  Resolution Preferred Chain  \\\n",
       "0    strainATCC204508/S288c  cryo-EM  7AD3         3.5               A   \n",
       "1                     Human  cryo-EM  6G79         3.8               S   \n",
       "2                     Human    X-ray  5T1A         2.8               A   \n",
       "3                     Mouse    X-ray  4DKL         2.8               A   \n",
       "4                     Human  cryo-EM  7KNT         3.2               R   \n",
       "..                      ...      ...   ...         ...             ...   \n",
       "540                   Human  cryo-EM  7D7M         3.3               A   \n",
       "541                   Human    X-ray  5V54         3.9               A   \n",
       "542                     Rat  cryo-EM  7L0S         4.5               C   \n",
       "543                   Human    X-ray  6S0Q         2.7               A   \n",
       "544                     Rat  cryo-EM  7L0Q         4.3               C   \n",
       "\n",
       "        State Degree active %      Family Subtype  \\\n",
       "0      Active               -  GPa1family    αPa1   \n",
       "1      Active             100        Gi/o      αo   \n",
       "2    Inactive              31           -       -   \n",
       "3    Inactive               7           -       -   \n",
       "4    Inactive              10           -       -   \n",
       "..        ...             ...         ...     ...   \n",
       "540    Active             100          Gs      αs   \n",
       "541  Inactive              24           -       -   \n",
       "542    Active             100        Gi/o     αi1   \n",
       "543  Inactive               0           -       -   \n",
       "544    Active             100        Gi/o     αi1   \n",
       "\n",
       "                           Function  \n",
       "0                           Agonist  \n",
       "1                           Agonist  \n",
       "2    AllostericantagonistAntagonist  \n",
       "3                        Antagonist  \n",
       "4                     Apo(noligand)  \n",
       "..                              ...  \n",
       "540                         Agonist  \n",
       "541                      Antagonist  \n",
       "542                         Agonist  \n",
       "543                      Antagonist  \n",
       "544                         Agonist  \n",
       "\n",
       "[545 rows x 13 columns]"
      ]
     },
     "execution_count": 43,
     "metadata": {},
     "output_type": "execute_result"
    }
   ],
   "source": [
    "p.table"
   ]
  },
  {
   "cell_type": "code",
   "execution_count": null,
   "id": "signed-specialist",
   "metadata": {},
   "outputs": [],
   "source": []
  },
  {
   "cell_type": "code",
   "execution_count": null,
   "id": "reverse-services",
   "metadata": {},
   "outputs": [],
   "source": []
  },
  {
   "cell_type": "code",
   "execution_count": null,
   "id": "activated-anderson",
   "metadata": {},
   "outputs": [],
   "source": []
  },
  {
   "cell_type": "code",
   "execution_count": null,
   "id": "intelligent-beginning",
   "metadata": {},
   "outputs": [],
   "source": [
    "# 533 113  512"
   ]
  },
  {
   "cell_type": "code",
   "execution_count": 38,
   "id": "rational-basic",
   "metadata": {},
   "outputs": [],
   "source": [
    "df = p.dfl[p.dfl_list.index('7L1V')]"
   ]
  },
  {
   "cell_type": "code",
   "execution_count": 39,
   "id": "former-winner",
   "metadata": {},
   "outputs": [
    {
     "data": {
      "text/html": [
       "<div>\n",
       "<style scoped>\n",
       "    .dataframe tbody tr th:only-of-type {\n",
       "        vertical-align: middle;\n",
       "    }\n",
       "\n",
       "    .dataframe tbody tr th {\n",
       "        vertical-align: top;\n",
       "    }\n",
       "\n",
       "    .dataframe thead th {\n",
       "        text-align: right;\n",
       "    }\n",
       "</style>\n",
       "<table border=\"1\" class=\"dataframe\">\n",
       "  <thead>\n",
       "    <tr style=\"text-align: right;\">\n",
       "      <th></th>\n",
       "      <th>PDB</th>\n",
       "      <th>group_PDB</th>\n",
       "      <th>auth_asym_id</th>\n",
       "      <th>label_asym_id</th>\n",
       "      <th>label_seq_id</th>\n",
       "      <th>auth_seq_id</th>\n",
       "      <th>label_comp_id</th>\n",
       "      <th>id</th>\n",
       "      <th>label_atom_id</th>\n",
       "      <th>type_symbol</th>\n",
       "      <th>...</th>\n",
       "      <th>phi</th>\n",
       "      <th>omega</th>\n",
       "      <th>psi</th>\n",
       "      <th>identifier</th>\n",
       "      <th>label_comp_sid</th>\n",
       "      <th>label_2_uni</th>\n",
       "      <th>gen_pos</th>\n",
       "      <th>gen_pos1</th>\n",
       "      <th>gen_pos2</th>\n",
       "      <th>uniprot_comp_sid</th>\n",
       "    </tr>\n",
       "  </thead>\n",
       "  <tbody>\n",
       "    <tr>\n",
       "      <th>0</th>\n",
       "      <td>7L1V</td>\n",
       "      <td>ATOM</td>\n",
       "      <td>A</td>\n",
       "      <td>A</td>\n",
       "      <td>2</td>\n",
       "      <td>11</td>\n",
       "      <td>THR</td>\n",
       "      <td>1</td>\n",
       "      <td>N</td>\n",
       "      <td>N</td>\n",
       "      <td>...</td>\n",
       "      <td>NaN</td>\n",
       "      <td>177.351793</td>\n",
       "      <td>13.794618</td>\n",
       "      <td>OX2R_HUMAN</td>\n",
       "      <td>T</td>\n",
       "      <td>0</td>\n",
       "      <td></td>\n",
       "      <td>0</td>\n",
       "      <td>0</td>\n",
       "      <td></td>\n",
       "    </tr>\n",
       "    <tr>\n",
       "      <th>1</th>\n",
       "      <td>7L1V</td>\n",
       "      <td>ATOM</td>\n",
       "      <td>A</td>\n",
       "      <td>A</td>\n",
       "      <td>2</td>\n",
       "      <td>11</td>\n",
       "      <td>THR</td>\n",
       "      <td>2</td>\n",
       "      <td>CA</td>\n",
       "      <td>C</td>\n",
       "      <td>...</td>\n",
       "      <td>NaN</td>\n",
       "      <td>177.351793</td>\n",
       "      <td>13.794618</td>\n",
       "      <td>OX2R_HUMAN</td>\n",
       "      <td>T</td>\n",
       "      <td>0</td>\n",
       "      <td></td>\n",
       "      <td>0</td>\n",
       "      <td>0</td>\n",
       "      <td></td>\n",
       "    </tr>\n",
       "    <tr>\n",
       "      <th>2</th>\n",
       "      <td>7L1V</td>\n",
       "      <td>ATOM</td>\n",
       "      <td>A</td>\n",
       "      <td>A</td>\n",
       "      <td>2</td>\n",
       "      <td>11</td>\n",
       "      <td>THR</td>\n",
       "      <td>3</td>\n",
       "      <td>C</td>\n",
       "      <td>C</td>\n",
       "      <td>...</td>\n",
       "      <td>NaN</td>\n",
       "      <td>177.351793</td>\n",
       "      <td>13.794618</td>\n",
       "      <td>OX2R_HUMAN</td>\n",
       "      <td>T</td>\n",
       "      <td>0</td>\n",
       "      <td></td>\n",
       "      <td>0</td>\n",
       "      <td>0</td>\n",
       "      <td></td>\n",
       "    </tr>\n",
       "    <tr>\n",
       "      <th>3</th>\n",
       "      <td>7L1V</td>\n",
       "      <td>ATOM</td>\n",
       "      <td>A</td>\n",
       "      <td>A</td>\n",
       "      <td>2</td>\n",
       "      <td>11</td>\n",
       "      <td>THR</td>\n",
       "      <td>4</td>\n",
       "      <td>O</td>\n",
       "      <td>O</td>\n",
       "      <td>...</td>\n",
       "      <td>NaN</td>\n",
       "      <td>177.351793</td>\n",
       "      <td>13.794618</td>\n",
       "      <td>OX2R_HUMAN</td>\n",
       "      <td>T</td>\n",
       "      <td>0</td>\n",
       "      <td></td>\n",
       "      <td>0</td>\n",
       "      <td>0</td>\n",
       "      <td></td>\n",
       "    </tr>\n",
       "    <tr>\n",
       "      <th>4</th>\n",
       "      <td>7L1V</td>\n",
       "      <td>ATOM</td>\n",
       "      <td>A</td>\n",
       "      <td>A</td>\n",
       "      <td>2</td>\n",
       "      <td>11</td>\n",
       "      <td>THR</td>\n",
       "      <td>5</td>\n",
       "      <td>CB</td>\n",
       "      <td>C</td>\n",
       "      <td>...</td>\n",
       "      <td>NaN</td>\n",
       "      <td>177.351793</td>\n",
       "      <td>13.794618</td>\n",
       "      <td>OX2R_HUMAN</td>\n",
       "      <td>T</td>\n",
       "      <td>0</td>\n",
       "      <td></td>\n",
       "      <td>0</td>\n",
       "      <td>0</td>\n",
       "      <td></td>\n",
       "    </tr>\n",
       "    <tr>\n",
       "      <th>...</th>\n",
       "      <td>...</td>\n",
       "      <td>...</td>\n",
       "      <td>...</td>\n",
       "      <td>...</td>\n",
       "      <td>...</td>\n",
       "      <td>...</td>\n",
       "      <td>...</td>\n",
       "      <td>...</td>\n",
       "      <td>...</td>\n",
       "      <td>...</td>\n",
       "      <td>...</td>\n",
       "      <td>...</td>\n",
       "      <td>...</td>\n",
       "      <td>...</td>\n",
       "      <td>...</td>\n",
       "      <td>...</td>\n",
       "      <td>...</td>\n",
       "      <td>...</td>\n",
       "      <td>...</td>\n",
       "      <td>...</td>\n",
       "      <td>...</td>\n",
       "    </tr>\n",
       "    <tr>\n",
       "      <th>9556</th>\n",
       "      <td>7L1V</td>\n",
       "      <td>ATOM</td>\n",
       "      <td>S</td>\n",
       "      <td>F</td>\n",
       "      <td>116</td>\n",
       "      <td>112</td>\n",
       "      <td>VAL</td>\n",
       "      <td>9557</td>\n",
       "      <td>N</td>\n",
       "      <td>N</td>\n",
       "      <td>...</td>\n",
       "      <td>-135.880665</td>\n",
       "      <td>NaN</td>\n",
       "      <td>NaN</td>\n",
       "      <td>OX2R_HUMAN</td>\n",
       "      <td>V</td>\n",
       "      <td>0</td>\n",
       "      <td></td>\n",
       "      <td>0</td>\n",
       "      <td>0</td>\n",
       "      <td></td>\n",
       "    </tr>\n",
       "    <tr>\n",
       "      <th>9557</th>\n",
       "      <td>7L1V</td>\n",
       "      <td>ATOM</td>\n",
       "      <td>S</td>\n",
       "      <td>F</td>\n",
       "      <td>116</td>\n",
       "      <td>112</td>\n",
       "      <td>VAL</td>\n",
       "      <td>9558</td>\n",
       "      <td>CA</td>\n",
       "      <td>C</td>\n",
       "      <td>...</td>\n",
       "      <td>-135.880665</td>\n",
       "      <td>NaN</td>\n",
       "      <td>NaN</td>\n",
       "      <td>OX2R_HUMAN</td>\n",
       "      <td>V</td>\n",
       "      <td>0</td>\n",
       "      <td></td>\n",
       "      <td>0</td>\n",
       "      <td>0</td>\n",
       "      <td></td>\n",
       "    </tr>\n",
       "    <tr>\n",
       "      <th>9558</th>\n",
       "      <td>7L1V</td>\n",
       "      <td>ATOM</td>\n",
       "      <td>S</td>\n",
       "      <td>F</td>\n",
       "      <td>116</td>\n",
       "      <td>112</td>\n",
       "      <td>VAL</td>\n",
       "      <td>9559</td>\n",
       "      <td>C</td>\n",
       "      <td>C</td>\n",
       "      <td>...</td>\n",
       "      <td>-135.880665</td>\n",
       "      <td>NaN</td>\n",
       "      <td>NaN</td>\n",
       "      <td>OX2R_HUMAN</td>\n",
       "      <td>V</td>\n",
       "      <td>0</td>\n",
       "      <td></td>\n",
       "      <td>0</td>\n",
       "      <td>0</td>\n",
       "      <td></td>\n",
       "    </tr>\n",
       "    <tr>\n",
       "      <th>9559</th>\n",
       "      <td>7L1V</td>\n",
       "      <td>ATOM</td>\n",
       "      <td>S</td>\n",
       "      <td>F</td>\n",
       "      <td>116</td>\n",
       "      <td>112</td>\n",
       "      <td>VAL</td>\n",
       "      <td>9560</td>\n",
       "      <td>O</td>\n",
       "      <td>O</td>\n",
       "      <td>...</td>\n",
       "      <td>-135.880665</td>\n",
       "      <td>NaN</td>\n",
       "      <td>NaN</td>\n",
       "      <td>OX2R_HUMAN</td>\n",
       "      <td>V</td>\n",
       "      <td>0</td>\n",
       "      <td></td>\n",
       "      <td>0</td>\n",
       "      <td>0</td>\n",
       "      <td></td>\n",
       "    </tr>\n",
       "    <tr>\n",
       "      <th>9560</th>\n",
       "      <td>7L1V</td>\n",
       "      <td>ATOM</td>\n",
       "      <td>S</td>\n",
       "      <td>F</td>\n",
       "      <td>116</td>\n",
       "      <td>112</td>\n",
       "      <td>VAL</td>\n",
       "      <td>9561</td>\n",
       "      <td>CB</td>\n",
       "      <td>C</td>\n",
       "      <td>...</td>\n",
       "      <td>-135.880665</td>\n",
       "      <td>NaN</td>\n",
       "      <td>NaN</td>\n",
       "      <td>OX2R_HUMAN</td>\n",
       "      <td>V</td>\n",
       "      <td>0</td>\n",
       "      <td></td>\n",
       "      <td>0</td>\n",
       "      <td>0</td>\n",
       "      <td></td>\n",
       "    </tr>\n",
       "  </tbody>\n",
       "</table>\n",
       "<p>9561 rows × 23 columns</p>\n",
       "</div>"
      ],
      "text/plain": [
       "       PDB group_PDB auth_asym_id label_asym_id  label_seq_id auth_seq_id  \\\n",
       "0     7L1V      ATOM            A             A             2          11   \n",
       "1     7L1V      ATOM            A             A             2          11   \n",
       "2     7L1V      ATOM            A             A             2          11   \n",
       "3     7L1V      ATOM            A             A             2          11   \n",
       "4     7L1V      ATOM            A             A             2          11   \n",
       "...    ...       ...          ...           ...           ...         ...   \n",
       "9556  7L1V      ATOM            S             F           116         112   \n",
       "9557  7L1V      ATOM            S             F           116         112   \n",
       "9558  7L1V      ATOM            S             F           116         112   \n",
       "9559  7L1V      ATOM            S             F           116         112   \n",
       "9560  7L1V      ATOM            S             F           116         112   \n",
       "\n",
       "     label_comp_id    id label_atom_id type_symbol  ...         phi  \\\n",
       "0              THR     1             N           N  ...         NaN   \n",
       "1              THR     2            CA           C  ...         NaN   \n",
       "2              THR     3             C           C  ...         NaN   \n",
       "3              THR     4             O           O  ...         NaN   \n",
       "4              THR     5            CB           C  ...         NaN   \n",
       "...            ...   ...           ...         ...  ...         ...   \n",
       "9556           VAL  9557             N           N  ... -135.880665   \n",
       "9557           VAL  9558            CA           C  ... -135.880665   \n",
       "9558           VAL  9559             C           C  ... -135.880665   \n",
       "9559           VAL  9560             O           O  ... -135.880665   \n",
       "9560           VAL  9561            CB           C  ... -135.880665   \n",
       "\n",
       "           omega        psi  identifier  label_comp_sid  label_2_uni gen_pos  \\\n",
       "0     177.351793  13.794618  OX2R_HUMAN               T            0           \n",
       "1     177.351793  13.794618  OX2R_HUMAN               T            0           \n",
       "2     177.351793  13.794618  OX2R_HUMAN               T            0           \n",
       "3     177.351793  13.794618  OX2R_HUMAN               T            0           \n",
       "4     177.351793  13.794618  OX2R_HUMAN               T            0           \n",
       "...          ...        ...         ...             ...          ...     ...   \n",
       "9556         NaN        NaN  OX2R_HUMAN               V            0           \n",
       "9557         NaN        NaN  OX2R_HUMAN               V            0           \n",
       "9558         NaN        NaN  OX2R_HUMAN               V            0           \n",
       "9559         NaN        NaN  OX2R_HUMAN               V            0           \n",
       "9560         NaN        NaN  OX2R_HUMAN               V            0           \n",
       "\n",
       "     gen_pos1  gen_pos2 uniprot_comp_sid  \n",
       "0           0         0                   \n",
       "1           0         0                   \n",
       "2           0         0                   \n",
       "3           0         0                   \n",
       "4           0         0                   \n",
       "...       ...       ...              ...  \n",
       "9556        0         0                   \n",
       "9557        0         0                   \n",
       "9558        0         0                   \n",
       "9559        0         0                   \n",
       "9560        0         0                   \n",
       "\n",
       "[9561 rows x 23 columns]"
      ]
     },
     "execution_count": 39,
     "metadata": {},
     "output_type": "execute_result"
    }
   ],
   "source": [
    "df"
   ]
  },
  {
   "cell_type": "code",
   "execution_count": 40,
   "id": "casual-sentence",
   "metadata": {},
   "outputs": [
    {
     "data": {
      "text/html": [
       "<div>\n",
       "<style scoped>\n",
       "    .dataframe tbody tr th:only-of-type {\n",
       "        vertical-align: middle;\n",
       "    }\n",
       "\n",
       "    .dataframe tbody tr th {\n",
       "        vertical-align: top;\n",
       "    }\n",
       "\n",
       "    .dataframe thead th {\n",
       "        text-align: right;\n",
       "    }\n",
       "</style>\n",
       "<table border=\"1\" class=\"dataframe\">\n",
       "  <thead>\n",
       "    <tr style=\"text-align: right;\">\n",
       "      <th></th>\n",
       "      <th>PDB</th>\n",
       "      <th>group_PDB</th>\n",
       "      <th>auth_asym_id</th>\n",
       "      <th>label_asym_id</th>\n",
       "      <th>label_seq_id</th>\n",
       "      <th>auth_seq_id</th>\n",
       "      <th>label_comp_id</th>\n",
       "      <th>id</th>\n",
       "      <th>label_atom_id</th>\n",
       "      <th>type_symbol</th>\n",
       "      <th>...</th>\n",
       "      <th>phi</th>\n",
       "      <th>omega</th>\n",
       "      <th>psi</th>\n",
       "      <th>identifier</th>\n",
       "      <th>label_comp_sid</th>\n",
       "      <th>label_2_uni</th>\n",
       "      <th>gen_pos</th>\n",
       "      <th>gen_pos1</th>\n",
       "      <th>gen_pos2</th>\n",
       "      <th>uniprot_comp_sid</th>\n",
       "    </tr>\n",
       "  </thead>\n",
       "  <tbody>\n",
       "  </tbody>\n",
       "</table>\n",
       "<p>0 rows × 23 columns</p>\n",
       "</div>"
      ],
      "text/plain": [
       "Empty DataFrame\n",
       "Columns: [PDB, group_PDB, auth_asym_id, label_asym_id, label_seq_id, auth_seq_id, label_comp_id, id, label_atom_id, type_symbol, Cartn_x, Cartn_y, Cartn_z, phi, omega, psi, identifier, label_comp_sid, label_2_uni, gen_pos, gen_pos1, gen_pos2, uniprot_comp_sid]\n",
       "Index: []\n",
       "\n",
       "[0 rows x 23 columns]"
      ]
     },
     "execution_count": 40,
     "metadata": {},
     "output_type": "execute_result"
    }
   ],
   "source": [
    "df[(df['gen_pos']!='')].head(35)"
   ]
  },
  {
   "cell_type": "code",
   "execution_count": null,
   "id": "dangerous-radio",
   "metadata": {},
   "outputs": [],
   "source": []
  },
  {
   "cell_type": "code",
   "execution_count": null,
   "id": "centered-series",
   "metadata": {},
   "outputs": [],
   "source": []
  },
  {
   "cell_type": "code",
   "execution_count": null,
   "id": "peripheral-collar",
   "metadata": {},
   "outputs": [],
   "source": []
  },
  {
   "cell_type": "code",
   "execution_count": 14,
   "id": "mexican-filename",
   "metadata": {},
   "outputs": [
    {
     "ename": "NameError",
     "evalue": "name 'f_inact' is not defined",
     "output_type": "error",
     "traceback": [
      "\u001b[1;31m---------------------------------------------------------------------------\u001b[0m",
      "\u001b[1;31mNameError\u001b[0m                                 Traceback (most recent call last)",
      "\u001b[1;32m<ipython-input-14-654836020f17>\u001b[0m in \u001b[0;36m<module>\u001b[1;34m\u001b[0m\n\u001b[1;32m----> 1\u001b[1;33m \u001b[0mp\u001b[0m\u001b[1;33m.\u001b[0m\u001b[0massign_generic_numbers_r\u001b[0m\u001b[1;33m(\u001b[0m\u001b[0mf\u001b[0m\u001b[1;33m=\u001b[0m\u001b[0mf_inact\u001b[0m\u001b[1;33m,\u001b[0m \u001b[0mpdb_ids\u001b[0m\u001b[1;33m=\u001b[0m\u001b[1;33m[\u001b[0m\u001b[1;33m]\u001b[0m\u001b[1;33m,\u001b[0m \u001b[0moverwrite\u001b[0m\u001b[1;33m=\u001b[0m\u001b[1;32mTrue\u001b[0m\u001b[1;33m,\u001b[0m \u001b[0mfolder\u001b[0m\u001b[1;33m=\u001b[0m\u001b[1;34m'data/processed/'\u001b[0m\u001b[1;33m)\u001b[0m\u001b[1;33m\u001b[0m\u001b[1;33m\u001b[0m\u001b[0m\n\u001b[0m",
      "\u001b[1;31mNameError\u001b[0m: name 'f_inact' is not defined"
     ]
    }
   ],
   "source": [
    "p.assign_generic_numbers_r(f=f_inact, pdb_ids=[], overwrite=True, folder='data/processed/')"
   ]
  },
  {
   "cell_type": "code",
   "execution_count": 18,
   "id": "00ca2fe5",
   "metadata": {},
   "outputs": [
    {
     "name": "stdout",
     "output_type": "stream",
     "text": [
      "Reading files with generic numbers on receptors.\n"
     ]
    }
   ],
   "source": [
    "del p\n",
    "p = CifProcessor()\n",
    "p.read_pkl_metainfo()\n",
    "p.read_pkl(mode='r', folder='data/processed/')"
   ]
  },
  {
   "cell_type": "code",
   "execution_count": null,
   "id": "southeast-jumping",
   "metadata": {},
   "outputs": [],
   "source": [
    "p.apply_filter(f_act)"
   ]
  },
  {
   "cell_type": "code",
   "execution_count": null,
   "id": "accessible-bryan",
   "metadata": {},
   "outputs": [],
   "source": [
    "len(f_act)"
   ]
  },
  {
   "cell_type": "code",
   "execution_count": null,
   "id": "median-cemetery",
   "metadata": {},
   "outputs": [],
   "source": [
    "len(p.dfl_list)"
   ]
  },
  {
   "cell_type": "code",
   "execution_count": null,
   "id": "806e166d",
   "metadata": {},
   "outputs": [],
   "source": [
    "p.assign_generic_numbers_g(f=f_act, pdb_ids=[], overwrite=True, folder='data/processed/', fill_H5=True)"
   ]
  },
  {
   "cell_type": "code",
   "execution_count": null,
   "id": "a129832e",
   "metadata": {},
   "outputs": [],
   "source": [
    "# Is this too good? ---> 6NWE"
   ]
  },
  {
   "cell_type": "code",
   "execution_count": null,
   "id": "989f2b0a",
   "metadata": {},
   "outputs": [],
   "source": [
    "\"\"\"\n",
    "eg = p.dfl_list.index(fix)\n",
    "x = p.dfl[eg]\"\"\""
   ]
  },
  {
   "cell_type": "code",
   "execution_count": null,
   "id": "0da963da",
   "metadata": {},
   "outputs": [],
   "source": [
    "\"\"\"x[(x['gen_pos1']>7.48) &\n",
    "  (x['gen_pos1']<8.53)]\"\"\""
   ]
  },
  {
   "cell_type": "code",
   "execution_count": null,
   "id": "6b2437ca",
   "metadata": {},
   "outputs": [],
   "source": [
    "def find_complex_missing_rec_gen_nums(dfl, filtered_list=[]):\n",
    "    missing_pdbs = []\n",
    "    for df in dfl:\n",
    "        if 'gen_pos' not in df.columns:\n",
    "            missing_pdbs.append(df['PDB'].iloc[0])\n",
    "        elif len(df[df['gen_pos']!='']) == 0:\n",
    "            missing_pdbs.append(df['PDB'].iloc[0])\n",
    "    missing_pdbs = [x for x in missing_pdbs if x in filtered_list]\n",
    "    return missing_pdbs"
   ]
  },
  {
   "cell_type": "code",
   "execution_count": null,
   "id": "e9da67b6",
   "metadata": {},
   "outputs": [],
   "source": [
    "find_complex_missing_rec_gen_nums(p.dfl, list(f_act['PDB']))  # weird peptide receptors"
   ]
  },
  {
   "cell_type": "code",
   "execution_count": null,
   "id": "e7305268",
   "metadata": {},
   "outputs": [],
   "source": []
  },
  {
   "cell_type": "code",
   "execution_count": null,
   "id": "0704561e",
   "metadata": {},
   "outputs": [],
   "source": [
    "del p\n",
    "p = CifProcessor()\n",
    "p.read_pkl_metainfo()\n",
    "p.read_pkl(mode='rg', folder='data/processed/')\n",
    "p.read_pkl_metainfo()"
   ]
  },
  {
   "cell_type": "code",
   "execution_count": null,
   "id": "36411e7c",
   "metadata": {},
   "outputs": [],
   "source": [
    "p.allow_exception=False"
   ]
  },
  {
   "cell_type": "code",
   "execution_count": null,
   "id": "1396651f",
   "metadata": {},
   "outputs": [],
   "source": [
    "error_list = []"
   ]
  },
  {
   "cell_type": "code",
   "execution_count": null,
   "id": "5f6fbc91",
   "metadata": {},
   "outputs": [],
   "source": [
    "\"\"\"error_list = ['7DFL',\n",
    " '6PEL',\n",
    " '6WHA',\n",
    " '7L1V',\n",
    " '7JVQ',\n",
    " '7CKX',\n",
    " '7L1U',\n",
    " '6PH7',\n",
    " '6PGS',\n",
    " '7LJD',\n",
    " '7D77',\n",
    " '6NWE',\n",
    " '5WKT',\n",
    " '7LJC',\n",
    " '7CKX',\n",
    " '7D76',\n",
    " '5WKT',\n",
    " '6NWE',\n",
    " '6PEL',\n",
    " '6PGS',\n",
    " '6PH7',\n",
    " '6WHA',\n",
    " '7CKX',\n",
    " '7D76',\n",
    " '7D77',\n",
    " '7DFL',\n",
    " '7JVQ',\n",
    " '7L1U',\n",
    " '7L1V',\n",
    " '7LJC',\n",
    " '7LJD']\"\"\""
   ]
  },
  {
   "cell_type": "code",
   "execution_count": null,
   "id": "a7ea5726",
   "metadata": {},
   "outputs": [],
   "source": [
    "# p.assign_generic_numbers_g(f=p.table, pdb_ids='6OMM', overwrite=True, folder='data/processed/')\n",
    "# p.assign_generic_numbers_g(f=f_act, pdb_ids=[], overwrite=True, folder='data/processed/', fill_H5=True)\n",
    "# p.assign_generic_numbers_g(f=f_act, pdb_ids=error_list, overwrite=True, folder='data/processed/', fill_H5=True)"
   ]
  },
  {
   "cell_type": "code",
   "execution_count": null,
   "id": "b8748213",
   "metadata": {},
   "outputs": [],
   "source": [
    "def find_complex_missing_gp_gen_nums(dfl, filtered_list=[]):\n",
    "    missing_pdbs = []\n",
    "    for df in dfl:\n",
    "        if 'gprot_pos' not in df.columns:\n",
    "            missing_pdbs.append(df['PDB'].iloc[0])\n",
    "        elif len(df[df['gprot_pos']!='']) == 0:\n",
    "            missing_pdbs.append(df['PDB'].iloc[0])\n",
    "    missing_pdbs = [x for x in missing_pdbs if x in filtered_list]\n",
    "    return missing_pdbs"
   ]
  },
  {
   "cell_type": "code",
   "execution_count": null,
   "id": "44be6922",
   "metadata": {},
   "outputs": [],
   "source": [
    "# find_complex_missing_gp_gen_nums(p.dfl, error_list)"
   ]
  },
  {
   "cell_type": "code",
   "execution_count": null,
   "id": "d80e2fb1",
   "metadata": {},
   "outputs": [],
   "source": [
    "del p\n",
    "p = CifProcessor()\n",
    "p.read_pkl_metainfo()\n",
    "p.read_pkl(mode='rg', folder='data/processed/')\n",
    "find_complex_missing_gp_gen_nums(p.dfl, list(p.table[p.table['State']=='Active']['PDB']))"
   ]
  },
  {
   "cell_type": "code",
   "execution_count": null,
   "id": "9d6427c2",
   "metadata": {},
   "outputs": [],
   "source": []
  },
  {
   "cell_type": "code",
   "execution_count": null,
   "id": "23370b1f",
   "metadata": {},
   "outputs": [],
   "source": []
  },
  {
   "cell_type": "code",
   "execution_count": null,
   "id": "346c1558",
   "metadata": {},
   "outputs": [],
   "source": []
  },
  {
   "cell_type": "code",
   "execution_count": null,
   "id": "7c110a5b",
   "metadata": {},
   "outputs": [],
   "source": []
  },
  {
   "cell_type": "code",
   "execution_count": null,
   "id": "18e5173a",
   "metadata": {},
   "outputs": [],
   "source": []
  },
  {
   "cell_type": "code",
   "execution_count": null,
   "id": "valid-metadata",
   "metadata": {},
   "outputs": [],
   "source": [
    "\"\"\"batch_size = 8\n",
    "\n",
    "\n",
    "for i in range(int(len(p.dfl_list) / batch_size) + 1):\n",
    "    print(\"BATCH\", i)\n",
    "    if (i+1)*batch_size < len(p.dfl_list):\n",
    "        pdb_ids = p.dfl_list[i*batch_size:(i+1)*batch_size]\n",
    "    else:\n",
    "        pdb_ids = p.dfl_list[i*batch_size:]\n",
    "    p.assign_generic_numbers_r(f=p.table, pdb_ids=pdb_ids, overwrite=True, folder='data/processed/')\n",
    "    p.assign_generic_numbers_g(f=p.table, pdb_ids=pdb_ids, overwrite=True, folder='data/processed/', fill_H5=True)\"\"\""
   ]
  }
 ],
 "metadata": {
  "kernelspec": {
   "display_name": "Python 3",
   "language": "python",
   "name": "python3"
  },
  "language_info": {
   "codemirror_mode": {
    "name": "ipython",
    "version": 3
   },
   "file_extension": ".py",
   "mimetype": "text/x-python",
   "name": "python",
   "nbconvert_exporter": "python",
   "pygments_lexer": "ipython3",
   "version": "3.7.7"
  }
 },
 "nbformat": 4,
 "nbformat_minor": 5
}
