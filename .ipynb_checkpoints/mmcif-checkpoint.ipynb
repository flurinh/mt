{
 "cells": [
  {
   "cell_type": "code",
   "execution_count": 305,
   "id": "packed-liberty",
   "metadata": {},
   "outputs": [],
   "source": [
    "from utils import *\n",
    "from gpcrdb_soup import *"
   ]
  },
  {
   "cell_type": "code",
   "execution_count": 306,
   "id": "incorporated-blank",
   "metadata": {},
   "outputs": [],
   "source": [
    "from Bio.PDB.MMCIFParser import MMCIFParser\n",
    "parser = MMCIFParser()"
   ]
  },
  {
   "cell_type": "code",
   "execution_count": 307,
   "id": "impaired-integration",
   "metadata": {},
   "outputs": [],
   "source": [
    "eg = '2rh1'"
   ]
  },
  {
   "cell_type": "code",
   "execution_count": 308,
   "id": "intensive-title",
   "metadata": {},
   "outputs": [],
   "source": [
    "path = get_rcsb_download(eg, fileformat = 'cif')"
   ]
  },
  {
   "cell_type": "code",
   "execution_count": 309,
   "id": "typical-delight",
   "metadata": {},
   "outputs": [
    {
     "data": {
      "text/plain": [
       "'https://files.rcsb.org/download/2rh1.cif'"
      ]
     },
     "execution_count": 309,
     "metadata": {},
     "output_type": "execute_result"
    }
   ],
   "source": [
    "path"
   ]
  },
  {
   "cell_type": "code",
   "execution_count": 310,
   "id": "metallic-turner",
   "metadata": {},
   "outputs": [],
   "source": [
    "\n",
    "def download(url: str, folder: str, fileformat: str):\n",
    "    if not os.path.isdir(folder):\n",
    "        os.mkdir(folder)\n",
    "    try:\n",
    "        r = requests.get(url)\n",
    "        loc = len(fileformat)+1\n",
    "        fname = folder + '/' + url[-(loc+4):-loc] + '.' + fileformat\n",
    "        with open(fname, 'wb') as f:\n",
    "            f.write(r.content)\n",
    "    except Exception:\n",
    "        print(\"Url invalid:\", url)\n",
    "\n",
    "    \n",
    "def download_pdb(url, folder, fileformat):\n",
    "    download(url, folder, fileformat)"
   ]
  },
  {
   "cell_type": "code",
   "execution_count": 311,
   "id": "injured-dress",
   "metadata": {},
   "outputs": [],
   "source": [
    "download(url=path, folder='data/mmcif', fileformat='cif')"
   ]
  },
  {
   "cell_type": "code",
   "execution_count": 312,
   "id": "dying-exemption",
   "metadata": {},
   "outputs": [
    {
     "data": {
      "text/html": [
       "<div>\n",
       "<style scoped>\n",
       "    .dataframe tbody tr th:only-of-type {\n",
       "        vertical-align: middle;\n",
       "    }\n",
       "\n",
       "    .dataframe tbody tr th {\n",
       "        vertical-align: top;\n",
       "    }\n",
       "\n",
       "    .dataframe thead th {\n",
       "        text-align: right;\n",
       "    }\n",
       "</style>\n",
       "<table border=\"1\" class=\"dataframe\">\n",
       "  <thead>\n",
       "    <tr style=\"text-align: right;\">\n",
       "      <th></th>\n",
       "      <th>_atom_site.group_PDB</th>\n",
       "      <th>_atom_site.id</th>\n",
       "      <th>_atom_site.type_symbol</th>\n",
       "      <th>_atom_site.label_atom_id</th>\n",
       "      <th>_atom_site.label_alt_id</th>\n",
       "      <th>_atom_site.label_comp_id</th>\n",
       "      <th>_atom_site.label_asym_id</th>\n",
       "      <th>_atom_site.label_entity_id</th>\n",
       "      <th>_atom_site.label_seq_id</th>\n",
       "      <th>_atom_site.pdbx_PDB_ins_code</th>\n",
       "      <th>...</th>\n",
       "      <th>_atom_site.Cartn_y</th>\n",
       "      <th>_atom_site.Cartn_z</th>\n",
       "      <th>_atom_site.occupancy</th>\n",
       "      <th>_atom_site.B_iso_or_equiv</th>\n",
       "      <th>_atom_site.pdbx_formal_charge</th>\n",
       "      <th>_atom_site.auth_seq_id</th>\n",
       "      <th>_atom_site.auth_comp_id</th>\n",
       "      <th>_atom_site.auth_asym_id</th>\n",
       "      <th>_atom_site.auth_atom_id</th>\n",
       "      <th>_atom_site.pdbx_PDB_model_num</th>\n",
       "    </tr>\n",
       "  </thead>\n",
       "  <tbody>\n",
       "    <tr>\n",
       "      <th>0</th>\n",
       "      <td>ATOM</td>\n",
       "      <td>1</td>\n",
       "      <td>N</td>\n",
       "      <td>N</td>\n",
       "      <td>.</td>\n",
       "      <td>ASP</td>\n",
       "      <td>A</td>\n",
       "      <td>1</td>\n",
       "      <td>36</td>\n",
       "      <td>?</td>\n",
       "      <td>...</td>\n",
       "      <td>-1.611</td>\n",
       "      <td>23.137</td>\n",
       "      <td>1.00</td>\n",
       "      <td>98.48</td>\n",
       "      <td>?</td>\n",
       "      <td>29</td>\n",
       "      <td>ASP</td>\n",
       "      <td>A</td>\n",
       "      <td>N</td>\n",
       "      <td>1</td>\n",
       "    </tr>\n",
       "    <tr>\n",
       "      <th>1</th>\n",
       "      <td>ATOM</td>\n",
       "      <td>2</td>\n",
       "      <td>C</td>\n",
       "      <td>CA</td>\n",
       "      <td>.</td>\n",
       "      <td>ASP</td>\n",
       "      <td>A</td>\n",
       "      <td>1</td>\n",
       "      <td>36</td>\n",
       "      <td>?</td>\n",
       "      <td>...</td>\n",
       "      <td>-2.262</td>\n",
       "      <td>22.148</td>\n",
       "      <td>1.00</td>\n",
       "      <td>98.06</td>\n",
       "      <td>?</td>\n",
       "      <td>29</td>\n",
       "      <td>ASP</td>\n",
       "      <td>A</td>\n",
       "      <td>CA</td>\n",
       "      <td>1</td>\n",
       "    </tr>\n",
       "    <tr>\n",
       "      <th>2</th>\n",
       "      <td>ATOM</td>\n",
       "      <td>3</td>\n",
       "      <td>C</td>\n",
       "      <td>C</td>\n",
       "      <td>.</td>\n",
       "      <td>ASP</td>\n",
       "      <td>A</td>\n",
       "      <td>1</td>\n",
       "      <td>36</td>\n",
       "      <td>?</td>\n",
       "      <td>...</td>\n",
       "      <td>-1.713</td>\n",
       "      <td>20.742</td>\n",
       "      <td>1.00</td>\n",
       "      <td>97.74</td>\n",
       "      <td>?</td>\n",
       "      <td>29</td>\n",
       "      <td>ASP</td>\n",
       "      <td>A</td>\n",
       "      <td>C</td>\n",
       "      <td>1</td>\n",
       "    </tr>\n",
       "    <tr>\n",
       "      <th>3</th>\n",
       "      <td>ATOM</td>\n",
       "      <td>4</td>\n",
       "      <td>O</td>\n",
       "      <td>O</td>\n",
       "      <td>.</td>\n",
       "      <td>ASP</td>\n",
       "      <td>A</td>\n",
       "      <td>1</td>\n",
       "      <td>36</td>\n",
       "      <td>?</td>\n",
       "      <td>...</td>\n",
       "      <td>-1.100</td>\n",
       "      <td>20.143</td>\n",
       "      <td>1.00</td>\n",
       "      <td>96.54</td>\n",
       "      <td>?</td>\n",
       "      <td>29</td>\n",
       "      <td>ASP</td>\n",
       "      <td>A</td>\n",
       "      <td>O</td>\n",
       "      <td>1</td>\n",
       "    </tr>\n",
       "    <tr>\n",
       "      <th>4</th>\n",
       "      <td>ATOM</td>\n",
       "      <td>5</td>\n",
       "      <td>C</td>\n",
       "      <td>CB</td>\n",
       "      <td>.</td>\n",
       "      <td>ASP</td>\n",
       "      <td>A</td>\n",
       "      <td>1</td>\n",
       "      <td>36</td>\n",
       "      <td>?</td>\n",
       "      <td>...</td>\n",
       "      <td>-3.786</td>\n",
       "      <td>22.184</td>\n",
       "      <td>1.00</td>\n",
       "      <td>97.64</td>\n",
       "      <td>?</td>\n",
       "      <td>29</td>\n",
       "      <td>ASP</td>\n",
       "      <td>A</td>\n",
       "      <td>CB</td>\n",
       "      <td>1</td>\n",
       "    </tr>\n",
       "    <tr>\n",
       "      <th>...</th>\n",
       "      <td>...</td>\n",
       "      <td>...</td>\n",
       "      <td>...</td>\n",
       "      <td>...</td>\n",
       "      <td>...</td>\n",
       "      <td>...</td>\n",
       "      <td>...</td>\n",
       "      <td>...</td>\n",
       "      <td>...</td>\n",
       "      <td>...</td>\n",
       "      <td>...</td>\n",
       "      <td>...</td>\n",
       "      <td>...</td>\n",
       "      <td>...</td>\n",
       "      <td>...</td>\n",
       "      <td>...</td>\n",
       "      <td>...</td>\n",
       "      <td>...</td>\n",
       "      <td>...</td>\n",
       "      <td>...</td>\n",
       "      <td>...</td>\n",
       "    </tr>\n",
       "    <tr>\n",
       "      <th>3799</th>\n",
       "      <td>HETATM</td>\n",
       "      <td>3800</td>\n",
       "      <td>O</td>\n",
       "      <td>O</td>\n",
       "      <td>.</td>\n",
       "      <td>HOH</td>\n",
       "      <td>R</td>\n",
       "      <td>10</td>\n",
       "      <td>.</td>\n",
       "      <td>?</td>\n",
       "      <td>...</td>\n",
       "      <td>-5.317</td>\n",
       "      <td>-4.531</td>\n",
       "      <td>1.00</td>\n",
       "      <td>75.67</td>\n",
       "      <td>?</td>\n",
       "      <td>544</td>\n",
       "      <td>HOH</td>\n",
       "      <td>A</td>\n",
       "      <td>O</td>\n",
       "      <td>1</td>\n",
       "    </tr>\n",
       "    <tr>\n",
       "      <th>3800</th>\n",
       "      <td>HETATM</td>\n",
       "      <td>3801</td>\n",
       "      <td>O</td>\n",
       "      <td>O</td>\n",
       "      <td>.</td>\n",
       "      <td>HOH</td>\n",
       "      <td>R</td>\n",
       "      <td>10</td>\n",
       "      <td>.</td>\n",
       "      <td>?</td>\n",
       "      <td>...</td>\n",
       "      <td>59.621</td>\n",
       "      <td>17.222</td>\n",
       "      <td>1.00</td>\n",
       "      <td>67.78</td>\n",
       "      <td>?</td>\n",
       "      <td>545</td>\n",
       "      <td>HOH</td>\n",
       "      <td>A</td>\n",
       "      <td>O</td>\n",
       "      <td>1</td>\n",
       "    </tr>\n",
       "    <tr>\n",
       "      <th>3801</th>\n",
       "      <td>HETATM</td>\n",
       "      <td>3802</td>\n",
       "      <td>O</td>\n",
       "      <td>O</td>\n",
       "      <td>.</td>\n",
       "      <td>HOH</td>\n",
       "      <td>R</td>\n",
       "      <td>10</td>\n",
       "      <td>.</td>\n",
       "      <td>?</td>\n",
       "      <td>...</td>\n",
       "      <td>27.672</td>\n",
       "      <td>6.120</td>\n",
       "      <td>1.00</td>\n",
       "      <td>59.62</td>\n",
       "      <td>?</td>\n",
       "      <td>546</td>\n",
       "      <td>HOH</td>\n",
       "      <td>A</td>\n",
       "      <td>O</td>\n",
       "      <td>1</td>\n",
       "    </tr>\n",
       "    <tr>\n",
       "      <th>3802</th>\n",
       "      <td>HETATM</td>\n",
       "      <td>3803</td>\n",
       "      <td>O</td>\n",
       "      <td>O</td>\n",
       "      <td>.</td>\n",
       "      <td>HOH</td>\n",
       "      <td>R</td>\n",
       "      <td>10</td>\n",
       "      <td>.</td>\n",
       "      <td>?</td>\n",
       "      <td>...</td>\n",
       "      <td>49.833</td>\n",
       "      <td>44.410</td>\n",
       "      <td>1.00</td>\n",
       "      <td>55.49</td>\n",
       "      <td>?</td>\n",
       "      <td>547</td>\n",
       "      <td>HOH</td>\n",
       "      <td>A</td>\n",
       "      <td>O</td>\n",
       "      <td>1</td>\n",
       "    </tr>\n",
       "    <tr>\n",
       "      <th>3803</th>\n",
       "      <td>HETATM</td>\n",
       "      <td>3804</td>\n",
       "      <td>O</td>\n",
       "      <td>O</td>\n",
       "      <td>.</td>\n",
       "      <td>HOH</td>\n",
       "      <td>R</td>\n",
       "      <td>10</td>\n",
       "      <td>.</td>\n",
       "      <td>?</td>\n",
       "      <td>...</td>\n",
       "      <td>21.645</td>\n",
       "      <td>8.827</td>\n",
       "      <td>1.00</td>\n",
       "      <td>61.27</td>\n",
       "      <td>?</td>\n",
       "      <td>548</td>\n",
       "      <td>HOH</td>\n",
       "      <td>A</td>\n",
       "      <td>O</td>\n",
       "      <td>1</td>\n",
       "    </tr>\n",
       "  </tbody>\n",
       "</table>\n",
       "<p>3804 rows × 21 columns</p>\n",
       "</div>"
      ],
      "text/plain": [
       "     _atom_site.group_PDB _atom_site.id _atom_site.type_symbol  \\\n",
       "0                    ATOM             1                      N   \n",
       "1                    ATOM             2                      C   \n",
       "2                    ATOM             3                      C   \n",
       "3                    ATOM             4                      O   \n",
       "4                    ATOM             5                      C   \n",
       "...                   ...           ...                    ...   \n",
       "3799               HETATM          3800                      O   \n",
       "3800               HETATM          3801                      O   \n",
       "3801               HETATM          3802                      O   \n",
       "3802               HETATM          3803                      O   \n",
       "3803               HETATM          3804                      O   \n",
       "\n",
       "     _atom_site.label_atom_id _atom_site.label_alt_id  \\\n",
       "0                           N                       .   \n",
       "1                          CA                       .   \n",
       "2                           C                       .   \n",
       "3                           O                       .   \n",
       "4                          CB                       .   \n",
       "...                       ...                     ...   \n",
       "3799                        O                       .   \n",
       "3800                        O                       .   \n",
       "3801                        O                       .   \n",
       "3802                        O                       .   \n",
       "3803                        O                       .   \n",
       "\n",
       "     _atom_site.label_comp_id _atom_site.label_asym_id  \\\n",
       "0                         ASP                        A   \n",
       "1                         ASP                        A   \n",
       "2                         ASP                        A   \n",
       "3                         ASP                        A   \n",
       "4                         ASP                        A   \n",
       "...                       ...                      ...   \n",
       "3799                      HOH                        R   \n",
       "3800                      HOH                        R   \n",
       "3801                      HOH                        R   \n",
       "3802                      HOH                        R   \n",
       "3803                      HOH                        R   \n",
       "\n",
       "     _atom_site.label_entity_id _atom_site.label_seq_id  \\\n",
       "0                             1                      36   \n",
       "1                             1                      36   \n",
       "2                             1                      36   \n",
       "3                             1                      36   \n",
       "4                             1                      36   \n",
       "...                         ...                     ...   \n",
       "3799                         10                       .   \n",
       "3800                         10                       .   \n",
       "3801                         10                       .   \n",
       "3802                         10                       .   \n",
       "3803                         10                       .   \n",
       "\n",
       "     _atom_site.pdbx_PDB_ins_code  ... _atom_site.Cartn_y _atom_site.Cartn_z  \\\n",
       "0                               ?  ...             -1.611             23.137   \n",
       "1                               ?  ...             -2.262             22.148   \n",
       "2                               ?  ...             -1.713             20.742   \n",
       "3                               ?  ...             -1.100             20.143   \n",
       "4                               ?  ...             -3.786             22.184   \n",
       "...                           ...  ...                ...                ...   \n",
       "3799                            ?  ...             -5.317             -4.531   \n",
       "3800                            ?  ...             59.621             17.222   \n",
       "3801                            ?  ...             27.672              6.120   \n",
       "3802                            ?  ...             49.833             44.410   \n",
       "3803                            ?  ...             21.645              8.827   \n",
       "\n",
       "     _atom_site.occupancy _atom_site.B_iso_or_equiv  \\\n",
       "0                    1.00                     98.48   \n",
       "1                    1.00                     98.06   \n",
       "2                    1.00                     97.74   \n",
       "3                    1.00                     96.54   \n",
       "4                    1.00                     97.64   \n",
       "...                   ...                       ...   \n",
       "3799                 1.00                     75.67   \n",
       "3800                 1.00                     67.78   \n",
       "3801                 1.00                     59.62   \n",
       "3802                 1.00                     55.49   \n",
       "3803                 1.00                     61.27   \n",
       "\n",
       "     _atom_site.pdbx_formal_charge _atom_site.auth_seq_id  \\\n",
       "0                                ?                     29   \n",
       "1                                ?                     29   \n",
       "2                                ?                     29   \n",
       "3                                ?                     29   \n",
       "4                                ?                     29   \n",
       "...                            ...                    ...   \n",
       "3799                             ?                    544   \n",
       "3800                             ?                    545   \n",
       "3801                             ?                    546   \n",
       "3802                             ?                    547   \n",
       "3803                             ?                    548   \n",
       "\n",
       "     _atom_site.auth_comp_id _atom_site.auth_asym_id _atom_site.auth_atom_id  \\\n",
       "0                        ASP                       A                       N   \n",
       "1                        ASP                       A                      CA   \n",
       "2                        ASP                       A                       C   \n",
       "3                        ASP                       A                       O   \n",
       "4                        ASP                       A                      CB   \n",
       "...                      ...                     ...                     ...   \n",
       "3799                     HOH                       A                       O   \n",
       "3800                     HOH                       A                       O   \n",
       "3801                     HOH                       A                       O   \n",
       "3802                     HOH                       A                       O   \n",
       "3803                     HOH                       A                       O   \n",
       "\n",
       "     _atom_site.pdbx_PDB_model_num  \n",
       "0                                1  \n",
       "1                                1  \n",
       "2                                1  \n",
       "3                                1  \n",
       "4                                1  \n",
       "...                            ...  \n",
       "3799                             1  \n",
       "3800                             1  \n",
       "3801                             1  \n",
       "3802                             1  \n",
       "3803                             1  \n",
       "\n",
       "[3804 rows x 21 columns]"
      ]
     },
     "execution_count": 312,
     "metadata": {},
     "output_type": "execute_result"
    }
   ],
   "source": [
    "from Bio.PDB.MMCIF2Dict import MMCIF2Dict\n",
    "import pandas as pd\n",
    "d = MMCIF2Dict(\"data/mmcif/\"+eg+\".cif\")\n",
    "pd.DataFrame({k:v for k,v in d.items() if \"_atom_site.\" in k})"
   ]
  },
  {
   "cell_type": "code",
   "execution_count": null,
   "id": "acting-imagination",
   "metadata": {},
   "outputs": [],
   "source": []
  },
  {
   "cell_type": "code",
   "execution_count": null,
   "id": "textile-fiction",
   "metadata": {},
   "outputs": [],
   "source": []
  },
  {
   "cell_type": "code",
   "execution_count": 313,
   "id": "official-brain",
   "metadata": {},
   "outputs": [],
   "source": [
    "structure = parser.get_structure(\"\", \"data/mmcif/\"+eg+\".cif\")\n"
   ]
  },
  {
   "cell_type": "code",
   "execution_count": 314,
   "id": "separated-cooperation",
   "metadata": {},
   "outputs": [],
   "source": [
    "import nglview as nv\n",
    "view = nv.show_biopython(structure)"
   ]
  },
  {
   "cell_type": "code",
   "execution_count": 315,
   "id": "material-license",
   "metadata": {},
   "outputs": [
    {
     "data": {
      "application/vnd.jupyter.widget-view+json": {
       "model_id": "b12daf629ab748839e64e0c3a001bea5",
       "version_major": 2,
       "version_minor": 0
      },
      "text/plain": [
       "NGLWidget()"
      ]
     },
     "metadata": {},
     "output_type": "display_data"
    }
   ],
   "source": [
    "view"
   ]
  },
  {
   "cell_type": "code",
   "execution_count": 316,
   "id": "norman-opera",
   "metadata": {},
   "outputs": [],
   "source": [
    "cols = ['group_PDB', 'label_asym_id', 'label_seq_id', 'auth_seq_id', 'label_comp_id', 'id', 'label_atom_id',\n",
    "        'type_symbol', 'Cartn_x', 'Cartn_y', 'Cartn_z']"
   ]
  },
  {
   "cell_type": "code",
   "execution_count": 317,
   "id": "collaborative-chain",
   "metadata": {},
   "outputs": [
    {
     "name": "stdout",
     "output_type": "stream",
     "text": [
      "Loading cif file of 2rh1\n"
     ]
    }
   ],
   "source": [
    "import sys\n",
    "from gemmi import cif\n",
    "\n",
    "\n",
    "print(\"Loading cif file of\", eg)\n",
    "path = 'data/mmcif/'+eg+'.cif'\n",
    "try:\n",
    "    doc = cif.read_file(path)  # copy all the data from mmCIF file\n",
    "    lol = []  # list of lists\n",
    "    for b, block in enumerate(doc):\n",
    "        table = block.find('_atom_site.', cols)\n",
    "        for row in table:\n",
    "            lol.append(list(row))\n",
    "except Exception as e:\n",
    "    print(\"Oops. %s\" % e)\n",
    "    sys.exit(1)"
   ]
  },
  {
   "cell_type": "code",
   "execution_count": 318,
   "id": "unlimited-hostel",
   "metadata": {},
   "outputs": [],
   "source": [
    "cols = ['group_PDB', 'label_asym_id', 'label_seq_id', 'auth_seq_id', 'label_comp_id', 'id', 'label_atom_id',\n",
    "        'atom_type', 'x', 'y', 'z']\n",
    "df = pd.DataFrame(data=lol, columns=cols)"
   ]
  },
  {
   "cell_type": "code",
   "execution_count": 319,
   "id": "statistical-arbitration",
   "metadata": {},
   "outputs": [],
   "source": [
    "def fix_label_seq_id(x):\n",
    "    try:\n",
    "        return int(x)\n",
    "    except:\n",
    "        return None"
   ]
  },
  {
   "cell_type": "code",
   "execution_count": null,
   "id": "prerequisite-preference",
   "metadata": {},
   "outputs": [],
   "source": []
  },
  {
   "cell_type": "code",
   "execution_count": null,
   "id": "detected-projector",
   "metadata": {},
   "outputs": [],
   "source": []
  },
  {
   "cell_type": "code",
   "execution_count": 320,
   "id": "distant-sucking",
   "metadata": {},
   "outputs": [],
   "source": [
    "df['label_seq_id']=df.apply(lambda x: fix_label_seq_id(x.label_seq_id), axis=1)"
   ]
  },
  {
   "cell_type": "markdown",
   "id": "tested-cement",
   "metadata": {},
   "source": [
    "Columns\n",
    "group_PDB \tid \ttype_symbol \tlabel_atom_id \tlabel_alt_id \tlabel_comp_id \tlabel_asym_id \tlabel_entity_id \tlabel_seq_id \tpdbx_PDB_ins_code \tCartn_x \tCartn_y \tCartn_z \toccupancy \tB_iso_or_equiv \tCartn_x_esd \tCartn_y_esd \tCartn_z_esd \toccupancy_esd \tB_iso_or_equiv_esd \tpdbx_formal_charge \tauth_seq_id \tauth_comp_id \tauth_asym_id \tauth_atom_id \tpdbx_PDB_model_num"
   ]
  },
  {
   "cell_type": "code",
   "execution_count": 321,
   "id": "communist-filling",
   "metadata": {},
   "outputs": [],
   "source": [
    "import sys\n",
    "from math import degrees\n",
    "import gemmi\n",
    "\n",
    "ramas = {aa: [] for aa in [\n",
    "    'LEU', 'ALA', 'GLY', 'VAL', 'GLU', 'SER', 'LYS', 'ASP', 'THR', 'ILE',\n",
    "    'ARG', 'PRO', 'ASN', 'PHE', 'GLN', 'TYR', 'HIS', 'MET', 'CYS', 'TRP']}\n",
    "\n",
    "rol = []\n",
    "for path in ['data/mmcif/'+eg+'.cif']:\n",
    "    st = gemmi.read_structure(path)\n",
    "    if 0.1 < st.resolution < 5:\n",
    "        model = st[0]\n",
    "        if len(st) > 1:\n",
    "            print(\"There are multiple models!\")\n",
    "        for chain in model:\n",
    "            for r, res in enumerate(chain.get_polymer()):\n",
    "                # previous_residue() and next_residue() return previous/next\n",
    "                # residue only if the residues are bonded. Otherwise -- None.\n",
    "                prev_res = chain.previous_residue(res)\n",
    "                next_res = chain.next_residue(res)\n",
    "                phi, psi = gemmi.calculate_phi_psi(prev_res, res, next_res)\n",
    "                omega = gemmi.calculate_omega(res, next_res)\n",
    "                rol.append([res.name, res.label_seq, res.subchain, \n",
    "                            degrees(phi), degrees(omega), degrees(psi)])\n",
    "                try:\n",
    "                    ramas[res.name].append([degrees(phi), degrees(omega), degrees(psi)])\n",
    "                except KeyError:\n",
    "                    pass"
   ]
  },
  {
   "cell_type": "code",
   "execution_count": 322,
   "id": "extreme-association",
   "metadata": {},
   "outputs": [],
   "source": [
    "\n",
    "# Write data to files\n",
    "for aa, data in ramas.items():\n",
    "    with open('data/ramach/' + aa + '.tsv', 'w') as f:\n",
    "        for phi, omega, psi in data:\n",
    "            f.write('%.4f\\t%.4f\\n' % (degrees(phi), degrees(psi)))"
   ]
  },
  {
   "cell_type": "code",
   "execution_count": 323,
   "id": "large-afternoon",
   "metadata": {},
   "outputs": [],
   "source": [
    "cols = ['name', 'label_seq_id', 'chain', 'phi', 'omega', 'psi']"
   ]
  },
  {
   "cell_type": "code",
   "execution_count": 324,
   "id": "burning-chapter",
   "metadata": {},
   "outputs": [],
   "source": [
    "res_df = pd.DataFrame(data=rol, columns=cols)"
   ]
  },
  {
   "cell_type": "code",
   "execution_count": 325,
   "id": "textile-cyprus",
   "metadata": {},
   "outputs": [
    {
     "data": {
      "text/html": [
       "<div>\n",
       "<style scoped>\n",
       "    .dataframe tbody tr th:only-of-type {\n",
       "        vertical-align: middle;\n",
       "    }\n",
       "\n",
       "    .dataframe tbody tr th {\n",
       "        vertical-align: top;\n",
       "    }\n",
       "\n",
       "    .dataframe thead th {\n",
       "        text-align: right;\n",
       "    }\n",
       "</style>\n",
       "<table border=\"1\" class=\"dataframe\">\n",
       "  <thead>\n",
       "    <tr style=\"text-align: right;\">\n",
       "      <th></th>\n",
       "      <th>name</th>\n",
       "      <th>label_seq_id</th>\n",
       "      <th>chain</th>\n",
       "      <th>phi</th>\n",
       "      <th>omega</th>\n",
       "      <th>psi</th>\n",
       "    </tr>\n",
       "  </thead>\n",
       "  <tbody>\n",
       "    <tr>\n",
       "      <th>0</th>\n",
       "      <td>ASP</td>\n",
       "      <td>36</td>\n",
       "      <td>A</td>\n",
       "      <td>NaN</td>\n",
       "      <td>-178.854617</td>\n",
       "      <td>-63.354934</td>\n",
       "    </tr>\n",
       "    <tr>\n",
       "      <th>1</th>\n",
       "      <td>GLU</td>\n",
       "      <td>37</td>\n",
       "      <td>A</td>\n",
       "      <td>-88.932088</td>\n",
       "      <td>175.628098</td>\n",
       "      <td>-37.957306</td>\n",
       "    </tr>\n",
       "    <tr>\n",
       "      <th>2</th>\n",
       "      <td>VAL</td>\n",
       "      <td>38</td>\n",
       "      <td>A</td>\n",
       "      <td>-61.144594</td>\n",
       "      <td>171.915204</td>\n",
       "      <td>-28.890129</td>\n",
       "    </tr>\n",
       "    <tr>\n",
       "      <th>3</th>\n",
       "      <td>TRP</td>\n",
       "      <td>39</td>\n",
       "      <td>A</td>\n",
       "      <td>-57.800759</td>\n",
       "      <td>-179.414726</td>\n",
       "      <td>-36.478257</td>\n",
       "    </tr>\n",
       "    <tr>\n",
       "      <th>4</th>\n",
       "      <td>VAL</td>\n",
       "      <td>40</td>\n",
       "      <td>A</td>\n",
       "      <td>-62.667860</td>\n",
       "      <td>176.504892</td>\n",
       "      <td>-50.509324</td>\n",
       "    </tr>\n",
       "    <tr>\n",
       "      <th>...</th>\n",
       "      <td>...</td>\n",
       "      <td>...</td>\n",
       "      <td>...</td>\n",
       "      <td>...</td>\n",
       "      <td>...</td>\n",
       "      <td>...</td>\n",
       "    </tr>\n",
       "    <tr>\n",
       "      <th>437</th>\n",
       "      <td>GLU</td>\n",
       "      <td>473</td>\n",
       "      <td>A</td>\n",
       "      <td>-68.371975</td>\n",
       "      <td>-178.763342</td>\n",
       "      <td>-49.869200</td>\n",
       "    </tr>\n",
       "    <tr>\n",
       "      <th>438</th>\n",
       "      <td>LEU</td>\n",
       "      <td>474</td>\n",
       "      <td>A</td>\n",
       "      <td>-63.647181</td>\n",
       "      <td>177.505669</td>\n",
       "      <td>-29.818260</td>\n",
       "    </tr>\n",
       "    <tr>\n",
       "      <th>439</th>\n",
       "      <td>LEU</td>\n",
       "      <td>475</td>\n",
       "      <td>A</td>\n",
       "      <td>-95.306659</td>\n",
       "      <td>174.452619</td>\n",
       "      <td>21.992094</td>\n",
       "    </tr>\n",
       "    <tr>\n",
       "      <th>440</th>\n",
       "      <td>CYS</td>\n",
       "      <td>476</td>\n",
       "      <td>A</td>\n",
       "      <td>54.544220</td>\n",
       "      <td>179.407366</td>\n",
       "      <td>56.480819</td>\n",
       "    </tr>\n",
       "    <tr>\n",
       "      <th>441</th>\n",
       "      <td>LEU</td>\n",
       "      <td>477</td>\n",
       "      <td>A</td>\n",
       "      <td>-121.579616</td>\n",
       "      <td>NaN</td>\n",
       "      <td>NaN</td>\n",
       "    </tr>\n",
       "  </tbody>\n",
       "</table>\n",
       "<p>442 rows × 6 columns</p>\n",
       "</div>"
      ],
      "text/plain": [
       "    name  label_seq_id chain         phi       omega        psi\n",
       "0    ASP            36     A         NaN -178.854617 -63.354934\n",
       "1    GLU            37     A  -88.932088  175.628098 -37.957306\n",
       "2    VAL            38     A  -61.144594  171.915204 -28.890129\n",
       "3    TRP            39     A  -57.800759 -179.414726 -36.478257\n",
       "4    VAL            40     A  -62.667860  176.504892 -50.509324\n",
       "..   ...           ...   ...         ...         ...        ...\n",
       "437  GLU           473     A  -68.371975 -178.763342 -49.869200\n",
       "438  LEU           474     A  -63.647181  177.505669 -29.818260\n",
       "439  LEU           475     A  -95.306659  174.452619  21.992094\n",
       "440  CYS           476     A   54.544220  179.407366  56.480819\n",
       "441  LEU           477     A -121.579616         NaN        NaN\n",
       "\n",
       "[442 rows x 6 columns]"
      ]
     },
     "execution_count": 325,
     "metadata": {},
     "output_type": "execute_result"
    }
   ],
   "source": [
    "res_df"
   ]
  },
  {
   "cell_type": "code",
   "execution_count": 326,
   "id": "arbitrary-coalition",
   "metadata": {},
   "outputs": [],
   "source": [
    "full = pd.merge(res_df, df, on=['label_seq_id', 'label_seq_id'])"
   ]
  },
  {
   "cell_type": "code",
   "execution_count": 327,
   "id": "incident-delaware",
   "metadata": {},
   "outputs": [],
   "source": [
    "import numpy as np\n",
    "full = full.astype({'label_seq_id': np.int16, 'auth_seq_id': np.int16, 'id': np.int16, \n",
    "                    'phi': np.float32, 'omega': np.float32, 'psi': np.float32,\n",
    "                    'x': np.float32, 'y': np.float32, 'z': np.float32})"
   ]
  },
  {
   "cell_type": "code",
   "execution_count": 328,
   "id": "potential-implementation",
   "metadata": {},
   "outputs": [],
   "source": [
    "def get_atom_id(x):\n",
    "    atom_dict = {'C': 0, 'O': 1, 'N': 2, 'H': 3, 'S': 4}\n",
    "    try:\n",
    "        return atom_dict[str(x)]\n",
    "    except:\n",
    "        return 5\n",
    "full['atom_id'] = full.apply(lambda x: get_atom_id(x.atom_type), axis=1)"
   ]
  },
  {
   "cell_type": "code",
   "execution_count": 329,
   "id": "early-resource",
   "metadata": {},
   "outputs": [
    {
     "data": {
      "text/html": [
       "<div>\n",
       "<style scoped>\n",
       "    .dataframe tbody tr th:only-of-type {\n",
       "        vertical-align: middle;\n",
       "    }\n",
       "\n",
       "    .dataframe tbody tr th {\n",
       "        vertical-align: top;\n",
       "    }\n",
       "\n",
       "    .dataframe thead th {\n",
       "        text-align: right;\n",
       "    }\n",
       "</style>\n",
       "<table border=\"1\" class=\"dataframe\">\n",
       "  <thead>\n",
       "    <tr style=\"text-align: right;\">\n",
       "      <th></th>\n",
       "      <th>name</th>\n",
       "      <th>label_seq_id</th>\n",
       "      <th>chain</th>\n",
       "      <th>phi</th>\n",
       "      <th>omega</th>\n",
       "      <th>psi</th>\n",
       "      <th>group_PDB</th>\n",
       "      <th>label_asym_id</th>\n",
       "      <th>auth_seq_id</th>\n",
       "      <th>label_comp_id</th>\n",
       "      <th>id</th>\n",
       "      <th>label_atom_id</th>\n",
       "      <th>atom_type</th>\n",
       "      <th>x</th>\n",
       "      <th>y</th>\n",
       "      <th>z</th>\n",
       "      <th>atom_id</th>\n",
       "    </tr>\n",
       "  </thead>\n",
       "  <tbody>\n",
       "    <tr>\n",
       "      <th>0</th>\n",
       "      <td>ASP</td>\n",
       "      <td>36</td>\n",
       "      <td>A</td>\n",
       "      <td>NaN</td>\n",
       "      <td>-178.854614</td>\n",
       "      <td>-63.354935</td>\n",
       "      <td>ATOM</td>\n",
       "      <td>A</td>\n",
       "      <td>29</td>\n",
       "      <td>ASP</td>\n",
       "      <td>1</td>\n",
       "      <td>N</td>\n",
       "      <td>N</td>\n",
       "      <td>-52.821999</td>\n",
       "      <td>-1.611000</td>\n",
       "      <td>23.136999</td>\n",
       "      <td>2</td>\n",
       "    </tr>\n",
       "    <tr>\n",
       "      <th>1</th>\n",
       "      <td>ASP</td>\n",
       "      <td>36</td>\n",
       "      <td>A</td>\n",
       "      <td>NaN</td>\n",
       "      <td>-178.854614</td>\n",
       "      <td>-63.354935</td>\n",
       "      <td>ATOM</td>\n",
       "      <td>A</td>\n",
       "      <td>29</td>\n",
       "      <td>ASP</td>\n",
       "      <td>2</td>\n",
       "      <td>CA</td>\n",
       "      <td>C</td>\n",
       "      <td>-51.922001</td>\n",
       "      <td>-2.262000</td>\n",
       "      <td>22.148001</td>\n",
       "      <td>0</td>\n",
       "    </tr>\n",
       "    <tr>\n",
       "      <th>2</th>\n",
       "      <td>ASP</td>\n",
       "      <td>36</td>\n",
       "      <td>A</td>\n",
       "      <td>NaN</td>\n",
       "      <td>-178.854614</td>\n",
       "      <td>-63.354935</td>\n",
       "      <td>ATOM</td>\n",
       "      <td>A</td>\n",
       "      <td>29</td>\n",
       "      <td>ASP</td>\n",
       "      <td>3</td>\n",
       "      <td>C</td>\n",
       "      <td>C</td>\n",
       "      <td>-52.178001</td>\n",
       "      <td>-1.713000</td>\n",
       "      <td>20.742001</td>\n",
       "      <td>0</td>\n",
       "    </tr>\n",
       "    <tr>\n",
       "      <th>3</th>\n",
       "      <td>ASP</td>\n",
       "      <td>36</td>\n",
       "      <td>A</td>\n",
       "      <td>NaN</td>\n",
       "      <td>-178.854614</td>\n",
       "      <td>-63.354935</td>\n",
       "      <td>ATOM</td>\n",
       "      <td>A</td>\n",
       "      <td>29</td>\n",
       "      <td>ASP</td>\n",
       "      <td>4</td>\n",
       "      <td>O</td>\n",
       "      <td>O</td>\n",
       "      <td>-51.291000</td>\n",
       "      <td>-1.100000</td>\n",
       "      <td>20.143000</td>\n",
       "      <td>1</td>\n",
       "    </tr>\n",
       "    <tr>\n",
       "      <th>4</th>\n",
       "      <td>ASP</td>\n",
       "      <td>36</td>\n",
       "      <td>A</td>\n",
       "      <td>NaN</td>\n",
       "      <td>-178.854614</td>\n",
       "      <td>-63.354935</td>\n",
       "      <td>ATOM</td>\n",
       "      <td>A</td>\n",
       "      <td>29</td>\n",
       "      <td>ASP</td>\n",
       "      <td>5</td>\n",
       "      <td>CB</td>\n",
       "      <td>C</td>\n",
       "      <td>-52.105999</td>\n",
       "      <td>-3.786000</td>\n",
       "      <td>22.184000</td>\n",
       "      <td>0</td>\n",
       "    </tr>\n",
       "    <tr>\n",
       "      <th>...</th>\n",
       "      <td>...</td>\n",
       "      <td>...</td>\n",
       "      <td>...</td>\n",
       "      <td>...</td>\n",
       "      <td>...</td>\n",
       "      <td>...</td>\n",
       "      <td>...</td>\n",
       "      <td>...</td>\n",
       "      <td>...</td>\n",
       "      <td>...</td>\n",
       "      <td>...</td>\n",
       "      <td>...</td>\n",
       "      <td>...</td>\n",
       "      <td>...</td>\n",
       "      <td>...</td>\n",
       "      <td>...</td>\n",
       "      <td>...</td>\n",
       "    </tr>\n",
       "    <tr>\n",
       "      <th>3538</th>\n",
       "      <td>LEU</td>\n",
       "      <td>477</td>\n",
       "      <td>A</td>\n",
       "      <td>-121.579613</td>\n",
       "      <td>NaN</td>\n",
       "      <td>NaN</td>\n",
       "      <td>ATOM</td>\n",
       "      <td>A</td>\n",
       "      <td>342</td>\n",
       "      <td>LEU</td>\n",
       "      <td>3539</td>\n",
       "      <td>O</td>\n",
       "      <td>O</td>\n",
       "      <td>-55.715000</td>\n",
       "      <td>40.650002</td>\n",
       "      <td>10.971000</td>\n",
       "      <td>1</td>\n",
       "    </tr>\n",
       "    <tr>\n",
       "      <th>3539</th>\n",
       "      <td>LEU</td>\n",
       "      <td>477</td>\n",
       "      <td>A</td>\n",
       "      <td>-121.579613</td>\n",
       "      <td>NaN</td>\n",
       "      <td>NaN</td>\n",
       "      <td>ATOM</td>\n",
       "      <td>A</td>\n",
       "      <td>342</td>\n",
       "      <td>LEU</td>\n",
       "      <td>3540</td>\n",
       "      <td>CB</td>\n",
       "      <td>C</td>\n",
       "      <td>-55.575001</td>\n",
       "      <td>37.877998</td>\n",
       "      <td>11.303000</td>\n",
       "      <td>0</td>\n",
       "    </tr>\n",
       "    <tr>\n",
       "      <th>3540</th>\n",
       "      <td>LEU</td>\n",
       "      <td>477</td>\n",
       "      <td>A</td>\n",
       "      <td>-121.579613</td>\n",
       "      <td>NaN</td>\n",
       "      <td>NaN</td>\n",
       "      <td>ATOM</td>\n",
       "      <td>A</td>\n",
       "      <td>342</td>\n",
       "      <td>LEU</td>\n",
       "      <td>3541</td>\n",
       "      <td>CG</td>\n",
       "      <td>C</td>\n",
       "      <td>-55.513000</td>\n",
       "      <td>36.347000</td>\n",
       "      <td>11.407000</td>\n",
       "      <td>0</td>\n",
       "    </tr>\n",
       "    <tr>\n",
       "      <th>3541</th>\n",
       "      <td>LEU</td>\n",
       "      <td>477</td>\n",
       "      <td>A</td>\n",
       "      <td>-121.579613</td>\n",
       "      <td>NaN</td>\n",
       "      <td>NaN</td>\n",
       "      <td>ATOM</td>\n",
       "      <td>A</td>\n",
       "      <td>342</td>\n",
       "      <td>LEU</td>\n",
       "      <td>3542</td>\n",
       "      <td>CD1</td>\n",
       "      <td>C</td>\n",
       "      <td>-54.415001</td>\n",
       "      <td>35.912998</td>\n",
       "      <td>12.368000</td>\n",
       "      <td>0</td>\n",
       "    </tr>\n",
       "    <tr>\n",
       "      <th>3542</th>\n",
       "      <td>LEU</td>\n",
       "      <td>477</td>\n",
       "      <td>A</td>\n",
       "      <td>-121.579613</td>\n",
       "      <td>NaN</td>\n",
       "      <td>NaN</td>\n",
       "      <td>ATOM</td>\n",
       "      <td>A</td>\n",
       "      <td>342</td>\n",
       "      <td>LEU</td>\n",
       "      <td>3543</td>\n",
       "      <td>CD2</td>\n",
       "      <td>C</td>\n",
       "      <td>-56.851002</td>\n",
       "      <td>35.782001</td>\n",
       "      <td>11.838000</td>\n",
       "      <td>0</td>\n",
       "    </tr>\n",
       "  </tbody>\n",
       "</table>\n",
       "<p>3543 rows × 17 columns</p>\n",
       "</div>"
      ],
      "text/plain": [
       "     name  label_seq_id chain         phi       omega        psi group_PDB  \\\n",
       "0     ASP            36     A         NaN -178.854614 -63.354935      ATOM   \n",
       "1     ASP            36     A         NaN -178.854614 -63.354935      ATOM   \n",
       "2     ASP            36     A         NaN -178.854614 -63.354935      ATOM   \n",
       "3     ASP            36     A         NaN -178.854614 -63.354935      ATOM   \n",
       "4     ASP            36     A         NaN -178.854614 -63.354935      ATOM   \n",
       "...   ...           ...   ...         ...         ...        ...       ...   \n",
       "3538  LEU           477     A -121.579613         NaN        NaN      ATOM   \n",
       "3539  LEU           477     A -121.579613         NaN        NaN      ATOM   \n",
       "3540  LEU           477     A -121.579613         NaN        NaN      ATOM   \n",
       "3541  LEU           477     A -121.579613         NaN        NaN      ATOM   \n",
       "3542  LEU           477     A -121.579613         NaN        NaN      ATOM   \n",
       "\n",
       "     label_asym_id  auth_seq_id label_comp_id    id label_atom_id atom_type  \\\n",
       "0                A           29           ASP     1             N         N   \n",
       "1                A           29           ASP     2            CA         C   \n",
       "2                A           29           ASP     3             C         C   \n",
       "3                A           29           ASP     4             O         O   \n",
       "4                A           29           ASP     5            CB         C   \n",
       "...            ...          ...           ...   ...           ...       ...   \n",
       "3538             A          342           LEU  3539             O         O   \n",
       "3539             A          342           LEU  3540            CB         C   \n",
       "3540             A          342           LEU  3541            CG         C   \n",
       "3541             A          342           LEU  3542           CD1         C   \n",
       "3542             A          342           LEU  3543           CD2         C   \n",
       "\n",
       "              x          y          z  atom_id  \n",
       "0    -52.821999  -1.611000  23.136999        2  \n",
       "1    -51.922001  -2.262000  22.148001        0  \n",
       "2    -52.178001  -1.713000  20.742001        0  \n",
       "3    -51.291000  -1.100000  20.143000        1  \n",
       "4    -52.105999  -3.786000  22.184000        0  \n",
       "...         ...        ...        ...      ...  \n",
       "3538 -55.715000  40.650002  10.971000        1  \n",
       "3539 -55.575001  37.877998  11.303000        0  \n",
       "3540 -55.513000  36.347000  11.407000        0  \n",
       "3541 -54.415001  35.912998  12.368000        0  \n",
       "3542 -56.851002  35.782001  11.838000        0  \n",
       "\n",
       "[3543 rows x 17 columns]"
      ]
     },
     "execution_count": 329,
     "metadata": {},
     "output_type": "execute_result"
    }
   ],
   "source": [
    "full"
   ]
  },
  {
   "cell_type": "code",
   "execution_count": 330,
   "id": "arbitrary-poultry",
   "metadata": {},
   "outputs": [],
   "source": [
    "xyz = full[['x', 'y', 'z']].to_numpy(dtype=float)"
   ]
  },
  {
   "cell_type": "code",
   "execution_count": 331,
   "id": "damaged-outreach",
   "metadata": {},
   "outputs": [],
   "source": [
    "ids = full[['label_seq_id', 'auth_seq_id']].to_numpy(dtype='int')"
   ]
  },
  {
   "cell_type": "code",
   "execution_count": 332,
   "id": "noted-incidence",
   "metadata": {},
   "outputs": [],
   "source": [
    "atoms = full['atom_id'].to_numpy(dtype=int)"
   ]
  },
  {
   "cell_type": "code",
   "execution_count": 333,
   "id": "important-forestry",
   "metadata": {},
   "outputs": [
    {
     "data": {
      "text/plain": [
       "array([[-52.8219986 ,  -1.61099994,  23.13699913],\n",
       "       [-51.92200089,  -2.26200008,  22.14800072],\n",
       "       [-52.1780014 ,  -1.71300006,  20.74200058],\n",
       "       ...,\n",
       "       [-55.51300049,  36.34700012,  11.40699959],\n",
       "       [-54.41500092,  35.9129982 ,  12.36800003],\n",
       "       [-56.85100174,  35.7820015 ,  11.8380003 ]])"
      ]
     },
     "execution_count": 333,
     "metadata": {},
     "output_type": "execute_result"
    }
   ],
   "source": [
    "xyz"
   ]
  },
  {
   "cell_type": "code",
   "execution_count": 334,
   "id": "jewish-baptist",
   "metadata": {},
   "outputs": [
    {
     "data": {
      "text/plain": [
       "array([[ 36,  29],\n",
       "       [ 36,  29],\n",
       "       [ 36,  29],\n",
       "       ...,\n",
       "       [477, 342],\n",
       "       [477, 342],\n",
       "       [477, 342]])"
      ]
     },
     "execution_count": 334,
     "metadata": {},
     "output_type": "execute_result"
    }
   ],
   "source": [
    "ids"
   ]
  },
  {
   "cell_type": "code",
   "execution_count": 335,
   "id": "retired-bacteria",
   "metadata": {},
   "outputs": [
    {
     "data": {
      "text/plain": [
       "array([2, 0, 0, 1, 0, 2, 0, 0, 1, 0, 0, 0, 1, 1, 2, 0, 0, 1, 0, 0, 0, 2,\n",
       "       0, 0, 1, 0, 0, 0, 0, 2, 0, 0, 0, 0, 0, 2, 0, 0, 1, 0, 0, 0, 2, 0,\n",
       "       0, 1, 0, 0, 0, 2, 0, 0, 1, 2, 0, 0, 1, 0, 0, 4, 0, 2, 0, 0, 1, 2,\n",
       "       0, 0, 1, 0, 0, 0, 0, 2, 0, 0, 1, 0, 0, 0, 2, 0, 0, 1, 0, 0, 4, 0,\n",
       "       2, 0, 0, 1, 0, 1, 2, 0, 0, 1, 0, 0])"
      ]
     },
     "execution_count": 335,
     "metadata": {},
     "output_type": "execute_result"
    }
   ],
   "source": [
    "atoms[:100]"
   ]
  },
  {
   "cell_type": "code",
   "execution_count": 336,
   "id": "controlling-marsh",
   "metadata": {},
   "outputs": [],
   "source": []
  },
  {
   "cell_type": "code",
   "execution_count": 337,
   "id": "tough-height",
   "metadata": {},
   "outputs": [
    {
     "data": {
      "application/vnd.plotly.v1+json": {
       "config": {
        "plotlyServerURL": "https://plot.ly"
       },
       "data": [
        {
         "hovertemplate": "atom_type=N<br>x=%{x}<br>y=%{y}<br>z=%{z}<extra></extra>",
         "legendgroup": "N",
         "marker": {
          "color": "#636efa",
          "opacity": 0.5,
          "size": 7,
          "symbol": "circle"
         },
         "mode": "markers",
         "name": "N",
         "scene": "scene",
         "showlegend": true,
         "type": "scatter3d",
         "x": [
          -43.56800079345703,
          -45.96699905395508,
          -47.34600067138672,
          -45.42900085449219,
          -46.86399841308594,
          -43.797000885009766,
          -42.75400161743164,
          -41.19499969482422,
          -44.79499816894531,
          -44.82899856567383,
          -43.12200164794922,
          -39.91600036621094,
          -37.444000244140625,
          -38.78200149536133,
          -39.8390007019043,
          -42.28799819946289,
          -38.95199966430664,
          -36.137001037597656,
          -36.16600036621094,
          -37.62799835205078,
          -39.84700012207031,
          -35.861000061035156,
          -33.63600158691406,
          -34.66899871826172
         ],
         "y": [
          2.5329999923706055,
          2.2829999923706055,
          0.19499999284744263,
          -1.7170000076293945,
          -1.569000005722046,
          -2.7880001068115234,
          -2.552000045776367,
          0.3310000002384186,
          -1.4509999752044678,
          -0.31200000643730164,
          -1.2070000171661377,
          -2.184000015258789,
          -3.753000020980835,
          -0.33899998664855957,
          2.255000114440918,
          6.182000160217285,
          2.302000045776367,
          2.618000030517578,
          5.025000095367432,
          6.751999855041504,
          7.9670000076293945,
          6.60699987411499,
          7.959000110626221,
          10.62600040435791
         ],
         "z": [
          10.46399974822998,
          12.02400016784668,
          10.6850004196167,
          10.918000221252441,
          15.762999534606934,
          8.940999984741211,
          5.510000228881836,
          0.6240000128746033,
          2.8919999599456787,
          0.35499998927116394,
          -1.5809999704360962,
          -3.114000082015991,
          -1.3630000352859497,
          -5.0980000495910645,
          -4.478000164031982,
          -0.949999988079071,
          -1.774999976158142,
          -1.9459999799728394,
          -3.444999933242798,
          -1.7230000495910645,
          3.5160000324249268,
          0.5180000066757202,
          -0.7089999914169312,
          -1.062999963760376
         ]
        },
        {
         "hovertemplate": "atom_type=C<br>x=%{x}<br>y=%{y}<br>z=%{z}<extra></extra>",
         "legendgroup": "C",
         "marker": {
          "color": "#EF553B",
          "opacity": 0.5,
          "size": 7,
          "symbol": "circle"
         },
         "mode": "markers",
         "name": "C",
         "scene": "scene",
         "showlegend": true,
         "type": "scatter3d",
         "x": [
          -43.534000396728516,
          -44.85499954223633,
          -43.19300079345703,
          -41.744998931884766,
          -43.40399932861328,
          -41.37900161743164,
          -47.301998138427734,
          -47.729000091552734,
          -48.34700012207031,
          -48.20199966430664,
          -49.03300094604492,
          -48.58700180053711,
          -47.6349983215332,
          -46.59199905395508,
          -47.72700119018555,
          -48.948001861572266,
          -50.698001861572266,
          -44.301998138427734,
          -43.720001220703125,
          -44.70500183105469,
          -45.08399963378906,
          -45.94599914550781,
          -46.262001037597656,
          -43.31700134277344,
          -43.507999420166016,
          -44.04499816894531,
          -45.573001861572266,
          -45.93600082397461,
          -42.823001861572266,
          -43.85599899291992,
          -41.444000244140625,
          -41.3390007019043,
          -41.292999267578125,
          -41.262001037597656,
          -41.172000885009766,
          -41.262001037597656,
          -41.08300018310547,
          -41.172000885009766,
          -41.08300018310547,
          -45.84000015258789,
          -45.76599884033203,
          -47.26599884033203,
          -47.44599914550781,
          -44.74800109863281,
          -43.77199935913086,
          -44.41400146484375,
          -45.268001556396484,
          -44.76599884033203,
          -46.571998596191406,
          -45.551998138427734,
          -47.36399841308594,
          -46.85300064086914,
          -42.23400115966797,
          -40.82099914550781,
          -38.48400115966797,
          -38.12900161743164,
          -37.625999450683594,
          -37.41999816894531,
          -38.47800064086914,
          -38.64400100708008,
          -39.367000579833984,
          -39.27899932861328,
          -38.12900161743164,
          -40.33700180053711,
          -38.03099822998047,
          -40.24800109863281,
          -39.090999603271484,
          -40.13399887084961,
          -39.29499816894531,
          -41.64500045776367,
          -41.869998931884766,
          -42.15700149536133,
          -41.810001373291016,
          -42.082000732421875,
          -41.555999755859375,
          -42.10900115966797,
          -41.58300018310547,
          -41.86000061035156,
          -38.08599853515625,
          -36.76300048828125,
          -37.82699966430664,
          -34.88199996948242,
          -35.05400085449219,
          -34.33700180053711,
          -33.000999450683594,
          -32.676998138427734,
          -36.45800018310547,
          -36.70500183105469,
          -37.67599868774414,
          -37.74399948120117,
          -37.3390007019043,
          -38.20500183105469,
          -37.395999908447266,
          -38.262001037597656,
          -37.858001708984375,
          -37.959999084472656,
          -36.70100021362305,
          -38.86600112915039,
          -39.10200119018555,
          -39.86199951171875,
          -38.569000244140625,
          -39.0620002746582,
          -37.720001220703125,
          -38.74700164794922,
          -37.40399932861328,
          -37.91899871826172,
          -34.56999969482422,
          -33.707000732421875,
          -33.75699996948242,
          -32.426998138427734,
          -32.8489990234375,
          -33.34299850463867,
          -32.82500076293945,
          -35.290000915527344,
          -35.01100158691406,
          -36.819000244140625,
          -37.17399978637695,
          -37.42599868774414,
          -38.665000915527344
         ],
         "y": [
          2.243000030517578,
          1.6679999828338623,
          3.50600004196167,
          3.9110000133514404,
          3.26200008392334,
          5.210000038146973,
          1.8550000190734863,
          0.492000013589859,
          2.9159998893737793,
          4.255000114440918,
          5.334000110626221,
          4.110000133514404,
          -1.1030000448226929,
          -2.1570000648498535,
          -0.9649999737739563,
          -0.21199999749660492,
          0.3720000088214874,
          -2.5980000495910645,
          -3.384999990463257,
          -3.5350000858306885,
          -2.799999952316284,
          -3.6630001068115234,
          -2.937000036239624,
          -3.38700008392334,
          -2.378000020980835,
          -4.705999851226807,
          -4.627999782562256,
          -5.961999893188477,
          -1.680999994277954,
          -2.2679998874664307,
          -1.5870000123977661,
          -0.5989999771118164,
          -0.8379999995231628,
          0.8209999799728394,
          1.3680000305175781,
          1.6799999475479126,
          2.736999988555908,
          3.053999900817871,
          3.563999891281128,
          -1.8960000276565552,
          -1.2359999418258667,
          -1.597000002861023,
          -2.0759999752044678,
          0.49900001287460327,
          -0.08299999684095383,
          1.9470000267028809,
          2.4570000171661377,
          2.494999885559082,
          2.88700008392334,
          2.9609999656677246,
          3.3540000915527344,
          3.3910000324249268,
          -1.9220000505447388,
          -1.3910000324249268,
          -1.8240000009536743,
          -0.5740000009536743,
          -2.997999906539917,
          -4.107999801635742,
          0.8600000143051147,
          2.0999999046325684,
          1.0199999809265137,
          2.4079999923706055,
          2.802000045776367,
          3.321000099182129,
          4.072000026702881,
          4.5980000495910645,
          4.974999904632568,
          3.4159998893737793,
          3.4560000896453857,
          3.562000036239624,
          4.798999786376953,
          4.888999938964844,
          6.146999835968018,
          6.99399995803833,
          6.716000080108643,
          8.401000022888184,
          8.114999771118164,
          8.937999725341797,
          2.2780001163482666,
          2.9820001125335693,
          0.8479999899864197,
          3.2190001010894775,
          4.697999954223633,
          2.4110000133514404,
          2.8410000801086426,
          2.072000026702881,
          6.414000034332275,
          7.236000061035156,
          6.50600004196167,
          7.7829999923706055,
          7.798999786376953,
          8.96500015258789,
          8.97700023651123,
          10.14900016784668,
          10.14799976348877,
          7.357999801635742,
          7.635000228881836,
          6.436999797821045,
          6.855000019073486,
          7.877999782562256,
          6.248000144958496,
          6.979000091552734,
          5.156000137329102,
          6.669000148773193,
          4.848999977111816,
          5.6020002365112305,
          6.747000217437744,
          7.86299991607666,
          5.4770002365112305,
          5.644999980926514,
          9.017000198364258,
          10.442999839782715,
          8.802000045776367,
          11.937999725341797,
          12.364999771118164,
          11.916000366210938,
          11.631999969482422,
          13.234000205993652,
          11.517999649047852
         ],
         "z": [
          11.901000022888184,
          12.416999816894531,
          12.720000267028809,
          12.482000350952148,
          14.201000213623047,
          13.107999801635742,
          12.477999687194824,
          11.925000190734863,
          12.119000434875488,
          12.843000411987305,
          12.163999557495117,
          14.305999755859375,
          10.065999984741211,
          10.420999526977539,
          8.552000045776367,
          8.11400032043457,
          6.059999942779541,
          11.317000389099121,
          10.128000259399414,
          12.482999801635742,
          13.75,
          14.663999557495117,
          15.970999717712402,
          7.703000068664551,
          6.5920000076293945,
          7.375,
          7.326000213623047,
          4.938000202178955,
          4.333000183105469,
          3.371999979019165,
          3.690999984741211,
          2.632999897003174,
          1.305999994277954,
          2.7880001068115234,
          1.5049999952316284,
          3.88700008392334,
          1.2769999504089355,
          3.6640000343322754,
          2.369999885559082,
          1.9240000247955322,
          0.5460000038146973,
          2.444000005722046,
          3.8420000076293945,
          -0.8700000047683716,
          -1.9199999570846558,
          -0.48100000619888306,
          0.6629999876022339,
          1.965000033378601,
          0.43799999356269836,
          3.0280001163482666,
          1.4930000305175781,
          2.7890000343322754,
          -2.502000093460083,
          -2.5460000038146973,
          -3.1649999618530273,
          -3.9560000896453857,
          -3.690000057220459,
          -2.6510000228881836,
          -5.883999824523926,
          -5.040999889373779,
          -7.116000175476074,
          -7.7270002365112305,
          -8.420999526977539,
          -7.603000164031982,
          -8.984000205993652,
          -8.163999557495117,
          -8.857000350952148,
          -3.6700000762939453,
          -2.3570001125335693,
          -3.385999917984009,
          -2.622999906539917,
          -1.3179999589920044,
          -3.119999885559082,
          -2.0329999923706055,
          -4.38100004196167,
          -2.1549999713897705,
          -4.506999969482422,
          -3.3910000324249268,
          -0.5730000138282776,
          -0.8339999914169312,
          -0.09700000286102295,
          -2.380000114440918,
          -2.7730000019073486,
          -3.5420000553131104,
          -4.117000102996826,
          -5.396999835968018,
          -3.815999984741211,
          -2.555999994277954,
          -4.729000091552734,
          -5.526000022888184,
          -6.868000030517578,
          -4.960999965667725,
          -7.620999813079834,
          -5.71999979019165,
          -7.043000221252441,
          -0.4309999942779541,
          0.3610000014305115,
          0.3709999918937683,
          1.746999979019165,
          2.1489999294281006,
          2.937999963760376,
          4.025000095367432,
          3.187000036239624,
          5.3470001220703125,
          4.5320000648498535,
          5.574999809265137,
          1.190000057220459,
          0.6209999918937683,
          1.1019999980926514,
          1.8300000429153442,
          -1.3869999647140503,
          -1.0920000076293945,
          -2.9089999198913574,
          -0.7860000133514404,
          0.6499999761581421,
          -1.00600004196167,
          -2.4760000705718994,
          -0.6449999809265137,
          -2.7039999961853027
         ]
        },
        {
         "hovertemplate": "atom_type=O<br>x=%{x}<br>y=%{y}<br>z=%{z}<extra></extra>",
         "legendgroup": "O",
         "marker": {
          "color": "#00cc96",
          "opacity": 0.5,
          "size": 7,
          "symbol": "circle"
         },
         "mode": "markers",
         "name": "O",
         "scene": "scene",
         "showlegend": true,
         "type": "scatter3d",
         "x": [
          -44.85300064086914,
          -48.4010009765625,
          -46.8489990234375,
          -43.215999603271484,
          -44.32600021362305,
          -43.801998138427734,
          -46.5620002746582,
          -47.50899887084961,
          -43.62099838256836,
          -40.551998138427734,
          -37.250999450683594,
          -37.242000579833984,
          -37.709999084472656,
          -38.97200012207031,
          -36.332000732421875,
          -34.185001373291016,
          -32.915000915527344,
          -32.18600082397461,
          -36.073001861572266,
          -36.50400161743164,
          -33.11600112915039,
          -34.49100112915039,
          -32.52399826049805,
          -32.24700164794922,
          -34.70600128173828
         ],
         "y": [
          0.6800000071525574,
          -0.2709999978542328,
          -3.3359999656677246,
          -4.49399995803833,
          -1.4579999446868896,
          -3.440999984741211,
          -1.5709999799728394,
          -0.17800000309944153,
          0.48500001430511475,
          -0.29899999499320984,
          0.17499999701976776,
          -5.270999908447266,
          2.8949999809265137,
          4.533999919891357,
          3.8310000896453857,
          5.520999908447266,
          0.8429999947547913,
          2.687999963760376,
          8.274999618530273,
          8.751999855041504,
          8.62399959564209,
          4.4039998054504395,
          11.355999946594238,
          7.565000057220459,
          13.53499984741211
         ],
         "z": [
          13.161999702453613,
          12.62600040435791,
          10.241999626159668,
          10.293999671936035,
          6.71999979019165,
          3.0789999961853027,
          -0.3330000042915344,
          2.4049999713897705,
          -3.0179998874664307,
          -2.0910000801086426,
          -3.515000104904175,
          -3.01200008392334,
          -4.906000137329102,
          -1.8990000486373901,
          -0.04500000178813934,
          -2.4690001010894775,
          -5.452000141143799,
          -6.3520002365112305,
          -2.3570001125335693,
          0.8069999814033508,
          1.3849999904632568,
          1.6990000009536743,
          -0.8989999890327454,
          -3.26200008392334,
          0.9160000085830688
         ]
        },
        {
         "hovertemplate": "atom_type=S<br>x=%{x}<br>y=%{y}<br>z=%{z}<extra></extra>",
         "legendgroup": "S",
         "marker": {
          "color": "#ab63fa",
          "opacity": 0.5,
          "size": 7,
          "symbol": "circle"
         },
         "mode": "markers",
         "name": "S",
         "scene": "scene",
         "showlegend": true,
         "type": "scatter3d",
         "x": [
          -48.946998596191406,
          -46.22600173950195,
          -36.529998779296875
         ],
         "y": [
          0.07999999821186066,
          -4.349999904632568,
          0.6940000057220459
         ],
         "z": [
          6.35699987411499,
          5.681000232696533,
          1.1670000553131104
         ]
        }
       ],
       "layout": {
        "legend": {
         "title": {
          "text": "atom_type"
         },
         "tracegroupgap": 0
        },
        "margin": {
         "t": 60
        },
        "scene": {
         "domain": {
          "x": [
           0,
           1
          ],
          "y": [
           0,
           1
          ]
         },
         "xaxis": {
          "title": {
           "text": "x"
          }
         },
         "yaxis": {
          "title": {
           "text": "y"
          }
         },
         "zaxis": {
          "title": {
           "text": "z"
          }
         }
        },
        "template": {
         "data": {
          "bar": [
           {
            "error_x": {
             "color": "#2a3f5f"
            },
            "error_y": {
             "color": "#2a3f5f"
            },
            "marker": {
             "line": {
              "color": "#E5ECF6",
              "width": 0.5
             }
            },
            "type": "bar"
           }
          ],
          "barpolar": [
           {
            "marker": {
             "line": {
              "color": "#E5ECF6",
              "width": 0.5
             }
            },
            "type": "barpolar"
           }
          ],
          "carpet": [
           {
            "aaxis": {
             "endlinecolor": "#2a3f5f",
             "gridcolor": "white",
             "linecolor": "white",
             "minorgridcolor": "white",
             "startlinecolor": "#2a3f5f"
            },
            "baxis": {
             "endlinecolor": "#2a3f5f",
             "gridcolor": "white",
             "linecolor": "white",
             "minorgridcolor": "white",
             "startlinecolor": "#2a3f5f"
            },
            "type": "carpet"
           }
          ],
          "choropleth": [
           {
            "colorbar": {
             "outlinewidth": 0,
             "ticks": ""
            },
            "type": "choropleth"
           }
          ],
          "contour": [
           {
            "colorbar": {
             "outlinewidth": 0,
             "ticks": ""
            },
            "colorscale": [
             [
              0,
              "#0d0887"
             ],
             [
              0.1111111111111111,
              "#46039f"
             ],
             [
              0.2222222222222222,
              "#7201a8"
             ],
             [
              0.3333333333333333,
              "#9c179e"
             ],
             [
              0.4444444444444444,
              "#bd3786"
             ],
             [
              0.5555555555555556,
              "#d8576b"
             ],
             [
              0.6666666666666666,
              "#ed7953"
             ],
             [
              0.7777777777777778,
              "#fb9f3a"
             ],
             [
              0.8888888888888888,
              "#fdca26"
             ],
             [
              1,
              "#f0f921"
             ]
            ],
            "type": "contour"
           }
          ],
          "contourcarpet": [
           {
            "colorbar": {
             "outlinewidth": 0,
             "ticks": ""
            },
            "type": "contourcarpet"
           }
          ],
          "heatmap": [
           {
            "colorbar": {
             "outlinewidth": 0,
             "ticks": ""
            },
            "colorscale": [
             [
              0,
              "#0d0887"
             ],
             [
              0.1111111111111111,
              "#46039f"
             ],
             [
              0.2222222222222222,
              "#7201a8"
             ],
             [
              0.3333333333333333,
              "#9c179e"
             ],
             [
              0.4444444444444444,
              "#bd3786"
             ],
             [
              0.5555555555555556,
              "#d8576b"
             ],
             [
              0.6666666666666666,
              "#ed7953"
             ],
             [
              0.7777777777777778,
              "#fb9f3a"
             ],
             [
              0.8888888888888888,
              "#fdca26"
             ],
             [
              1,
              "#f0f921"
             ]
            ],
            "type": "heatmap"
           }
          ],
          "heatmapgl": [
           {
            "colorbar": {
             "outlinewidth": 0,
             "ticks": ""
            },
            "colorscale": [
             [
              0,
              "#0d0887"
             ],
             [
              0.1111111111111111,
              "#46039f"
             ],
             [
              0.2222222222222222,
              "#7201a8"
             ],
             [
              0.3333333333333333,
              "#9c179e"
             ],
             [
              0.4444444444444444,
              "#bd3786"
             ],
             [
              0.5555555555555556,
              "#d8576b"
             ],
             [
              0.6666666666666666,
              "#ed7953"
             ],
             [
              0.7777777777777778,
              "#fb9f3a"
             ],
             [
              0.8888888888888888,
              "#fdca26"
             ],
             [
              1,
              "#f0f921"
             ]
            ],
            "type": "heatmapgl"
           }
          ],
          "histogram": [
           {
            "marker": {
             "colorbar": {
              "outlinewidth": 0,
              "ticks": ""
             }
            },
            "type": "histogram"
           }
          ],
          "histogram2d": [
           {
            "colorbar": {
             "outlinewidth": 0,
             "ticks": ""
            },
            "colorscale": [
             [
              0,
              "#0d0887"
             ],
             [
              0.1111111111111111,
              "#46039f"
             ],
             [
              0.2222222222222222,
              "#7201a8"
             ],
             [
              0.3333333333333333,
              "#9c179e"
             ],
             [
              0.4444444444444444,
              "#bd3786"
             ],
             [
              0.5555555555555556,
              "#d8576b"
             ],
             [
              0.6666666666666666,
              "#ed7953"
             ],
             [
              0.7777777777777778,
              "#fb9f3a"
             ],
             [
              0.8888888888888888,
              "#fdca26"
             ],
             [
              1,
              "#f0f921"
             ]
            ],
            "type": "histogram2d"
           }
          ],
          "histogram2dcontour": [
           {
            "colorbar": {
             "outlinewidth": 0,
             "ticks": ""
            },
            "colorscale": [
             [
              0,
              "#0d0887"
             ],
             [
              0.1111111111111111,
              "#46039f"
             ],
             [
              0.2222222222222222,
              "#7201a8"
             ],
             [
              0.3333333333333333,
              "#9c179e"
             ],
             [
              0.4444444444444444,
              "#bd3786"
             ],
             [
              0.5555555555555556,
              "#d8576b"
             ],
             [
              0.6666666666666666,
              "#ed7953"
             ],
             [
              0.7777777777777778,
              "#fb9f3a"
             ],
             [
              0.8888888888888888,
              "#fdca26"
             ],
             [
              1,
              "#f0f921"
             ]
            ],
            "type": "histogram2dcontour"
           }
          ],
          "mesh3d": [
           {
            "colorbar": {
             "outlinewidth": 0,
             "ticks": ""
            },
            "type": "mesh3d"
           }
          ],
          "parcoords": [
           {
            "line": {
             "colorbar": {
              "outlinewidth": 0,
              "ticks": ""
             }
            },
            "type": "parcoords"
           }
          ],
          "pie": [
           {
            "automargin": true,
            "type": "pie"
           }
          ],
          "scatter": [
           {
            "marker": {
             "colorbar": {
              "outlinewidth": 0,
              "ticks": ""
             }
            },
            "type": "scatter"
           }
          ],
          "scatter3d": [
           {
            "line": {
             "colorbar": {
              "outlinewidth": 0,
              "ticks": ""
             }
            },
            "marker": {
             "colorbar": {
              "outlinewidth": 0,
              "ticks": ""
             }
            },
            "type": "scatter3d"
           }
          ],
          "scattercarpet": [
           {
            "marker": {
             "colorbar": {
              "outlinewidth": 0,
              "ticks": ""
             }
            },
            "type": "scattercarpet"
           }
          ],
          "scattergeo": [
           {
            "marker": {
             "colorbar": {
              "outlinewidth": 0,
              "ticks": ""
             }
            },
            "type": "scattergeo"
           }
          ],
          "scattergl": [
           {
            "marker": {
             "colorbar": {
              "outlinewidth": 0,
              "ticks": ""
             }
            },
            "type": "scattergl"
           }
          ],
          "scattermapbox": [
           {
            "marker": {
             "colorbar": {
              "outlinewidth": 0,
              "ticks": ""
             }
            },
            "type": "scattermapbox"
           }
          ],
          "scatterpolar": [
           {
            "marker": {
             "colorbar": {
              "outlinewidth": 0,
              "ticks": ""
             }
            },
            "type": "scatterpolar"
           }
          ],
          "scatterpolargl": [
           {
            "marker": {
             "colorbar": {
              "outlinewidth": 0,
              "ticks": ""
             }
            },
            "type": "scatterpolargl"
           }
          ],
          "scatterternary": [
           {
            "marker": {
             "colorbar": {
              "outlinewidth": 0,
              "ticks": ""
             }
            },
            "type": "scatterternary"
           }
          ],
          "surface": [
           {
            "colorbar": {
             "outlinewidth": 0,
             "ticks": ""
            },
            "colorscale": [
             [
              0,
              "#0d0887"
             ],
             [
              0.1111111111111111,
              "#46039f"
             ],
             [
              0.2222222222222222,
              "#7201a8"
             ],
             [
              0.3333333333333333,
              "#9c179e"
             ],
             [
              0.4444444444444444,
              "#bd3786"
             ],
             [
              0.5555555555555556,
              "#d8576b"
             ],
             [
              0.6666666666666666,
              "#ed7953"
             ],
             [
              0.7777777777777778,
              "#fb9f3a"
             ],
             [
              0.8888888888888888,
              "#fdca26"
             ],
             [
              1,
              "#f0f921"
             ]
            ],
            "type": "surface"
           }
          ],
          "table": [
           {
            "cells": {
             "fill": {
              "color": "#EBF0F8"
             },
             "line": {
              "color": "white"
             }
            },
            "header": {
             "fill": {
              "color": "#C8D4E3"
             },
             "line": {
              "color": "white"
             }
            },
            "type": "table"
           }
          ]
         },
         "layout": {
          "annotationdefaults": {
           "arrowcolor": "#2a3f5f",
           "arrowhead": 0,
           "arrowwidth": 1
          },
          "autotypenumbers": "strict",
          "coloraxis": {
           "colorbar": {
            "outlinewidth": 0,
            "ticks": ""
           }
          },
          "colorscale": {
           "diverging": [
            [
             0,
             "#8e0152"
            ],
            [
             0.1,
             "#c51b7d"
            ],
            [
             0.2,
             "#de77ae"
            ],
            [
             0.3,
             "#f1b6da"
            ],
            [
             0.4,
             "#fde0ef"
            ],
            [
             0.5,
             "#f7f7f7"
            ],
            [
             0.6,
             "#e6f5d0"
            ],
            [
             0.7,
             "#b8e186"
            ],
            [
             0.8,
             "#7fbc41"
            ],
            [
             0.9,
             "#4d9221"
            ],
            [
             1,
             "#276419"
            ]
           ],
           "sequential": [
            [
             0,
             "#0d0887"
            ],
            [
             0.1111111111111111,
             "#46039f"
            ],
            [
             0.2222222222222222,
             "#7201a8"
            ],
            [
             0.3333333333333333,
             "#9c179e"
            ],
            [
             0.4444444444444444,
             "#bd3786"
            ],
            [
             0.5555555555555556,
             "#d8576b"
            ],
            [
             0.6666666666666666,
             "#ed7953"
            ],
            [
             0.7777777777777778,
             "#fb9f3a"
            ],
            [
             0.8888888888888888,
             "#fdca26"
            ],
            [
             1,
             "#f0f921"
            ]
           ],
           "sequentialminus": [
            [
             0,
             "#0d0887"
            ],
            [
             0.1111111111111111,
             "#46039f"
            ],
            [
             0.2222222222222222,
             "#7201a8"
            ],
            [
             0.3333333333333333,
             "#9c179e"
            ],
            [
             0.4444444444444444,
             "#bd3786"
            ],
            [
             0.5555555555555556,
             "#d8576b"
            ],
            [
             0.6666666666666666,
             "#ed7953"
            ],
            [
             0.7777777777777778,
             "#fb9f3a"
            ],
            [
             0.8888888888888888,
             "#fdca26"
            ],
            [
             1,
             "#f0f921"
            ]
           ]
          },
          "colorway": [
           "#636efa",
           "#EF553B",
           "#00cc96",
           "#ab63fa",
           "#FFA15A",
           "#19d3f3",
           "#FF6692",
           "#B6E880",
           "#FF97FF",
           "#FECB52"
          ],
          "font": {
           "color": "#2a3f5f"
          },
          "geo": {
           "bgcolor": "white",
           "lakecolor": "white",
           "landcolor": "#E5ECF6",
           "showlakes": true,
           "showland": true,
           "subunitcolor": "white"
          },
          "hoverlabel": {
           "align": "left"
          },
          "hovermode": "closest",
          "mapbox": {
           "style": "light"
          },
          "paper_bgcolor": "white",
          "plot_bgcolor": "#E5ECF6",
          "polar": {
           "angularaxis": {
            "gridcolor": "white",
            "linecolor": "white",
            "ticks": ""
           },
           "bgcolor": "#E5ECF6",
           "radialaxis": {
            "gridcolor": "white",
            "linecolor": "white",
            "ticks": ""
           }
          },
          "scene": {
           "xaxis": {
            "backgroundcolor": "#E5ECF6",
            "gridcolor": "white",
            "gridwidth": 2,
            "linecolor": "white",
            "showbackground": true,
            "ticks": "",
            "zerolinecolor": "white"
           },
           "yaxis": {
            "backgroundcolor": "#E5ECF6",
            "gridcolor": "white",
            "gridwidth": 2,
            "linecolor": "white",
            "showbackground": true,
            "ticks": "",
            "zerolinecolor": "white"
           },
           "zaxis": {
            "backgroundcolor": "#E5ECF6",
            "gridcolor": "white",
            "gridwidth": 2,
            "linecolor": "white",
            "showbackground": true,
            "ticks": "",
            "zerolinecolor": "white"
           }
          },
          "shapedefaults": {
           "line": {
            "color": "#2a3f5f"
           }
          },
          "ternary": {
           "aaxis": {
            "gridcolor": "white",
            "linecolor": "white",
            "ticks": ""
           },
           "baxis": {
            "gridcolor": "white",
            "linecolor": "white",
            "ticks": ""
           },
           "bgcolor": "#E5ECF6",
           "caxis": {
            "gridcolor": "white",
            "linecolor": "white",
            "ticks": ""
           }
          },
          "title": {
           "x": 0.05
          },
          "xaxis": {
           "automargin": true,
           "gridcolor": "white",
           "linecolor": "white",
           "ticks": "",
           "title": {
            "standoff": 15
           },
           "zerolinecolor": "white",
           "zerolinewidth": 2
          },
          "yaxis": {
           "automargin": true,
           "gridcolor": "white",
           "linecolor": "white",
           "ticks": "",
           "title": {
            "standoff": 15
           },
           "zerolinecolor": "white",
           "zerolinewidth": 2
          }
         }
        }
       }
      },
      "text/html": [
       "<div>                            <div id=\"aa05de28-917a-4ac8-8e36-83400de87b72\" class=\"plotly-graph-div\" style=\"height:525px; width:100%;\"></div>            <script type=\"text/javascript\">                require([\"plotly\"], function(Plotly) {                    window.PLOTLYENV=window.PLOTLYENV || {};                                    if (document.getElementById(\"aa05de28-917a-4ac8-8e36-83400de87b72\")) {                    Plotly.newPlot(                        \"aa05de28-917a-4ac8-8e36-83400de87b72\",                        [{\"hovertemplate\": \"atom_type=N<br>x=%{x}<br>y=%{y}<br>z=%{z}<extra></extra>\", \"legendgroup\": \"N\", \"marker\": {\"color\": \"#636efa\", \"opacity\": 0.5, \"size\": 7, \"symbol\": \"circle\"}, \"mode\": \"markers\", \"name\": \"N\", \"scene\": \"scene\", \"showlegend\": true, \"type\": \"scatter3d\", \"x\": [-43.56800079345703, -45.96699905395508, -47.34600067138672, -45.42900085449219, -46.86399841308594, -43.797000885009766, -42.75400161743164, -41.19499969482422, -44.79499816894531, -44.82899856567383, -43.12200164794922, -39.91600036621094, -37.444000244140625, -38.78200149536133, -39.8390007019043, -42.28799819946289, -38.95199966430664, -36.137001037597656, -36.16600036621094, -37.62799835205078, -39.84700012207031, -35.861000061035156, -33.63600158691406, -34.66899871826172], \"y\": [2.5329999923706055, 2.2829999923706055, 0.19499999284744263, -1.7170000076293945, -1.569000005722046, -2.7880001068115234, -2.552000045776367, 0.3310000002384186, -1.4509999752044678, -0.31200000643730164, -1.2070000171661377, -2.184000015258789, -3.753000020980835, -0.33899998664855957, 2.255000114440918, 6.182000160217285, 2.302000045776367, 2.618000030517578, 5.025000095367432, 6.751999855041504, 7.9670000076293945, 6.60699987411499, 7.959000110626221, 10.62600040435791], \"z\": [10.46399974822998, 12.02400016784668, 10.6850004196167, 10.918000221252441, 15.762999534606934, 8.940999984741211, 5.510000228881836, 0.6240000128746033, 2.8919999599456787, 0.35499998927116394, -1.5809999704360962, -3.114000082015991, -1.3630000352859497, -5.0980000495910645, -4.478000164031982, -0.949999988079071, -1.774999976158142, -1.9459999799728394, -3.444999933242798, -1.7230000495910645, 3.5160000324249268, 0.5180000066757202, -0.7089999914169312, -1.062999963760376]}, {\"hovertemplate\": \"atom_type=C<br>x=%{x}<br>y=%{y}<br>z=%{z}<extra></extra>\", \"legendgroup\": \"C\", \"marker\": {\"color\": \"#EF553B\", \"opacity\": 0.5, \"size\": 7, \"symbol\": \"circle\"}, \"mode\": \"markers\", \"name\": \"C\", \"scene\": \"scene\", \"showlegend\": true, \"type\": \"scatter3d\", \"x\": [-43.534000396728516, -44.85499954223633, -43.19300079345703, -41.744998931884766, -43.40399932861328, -41.37900161743164, -47.301998138427734, -47.729000091552734, -48.34700012207031, -48.20199966430664, -49.03300094604492, -48.58700180053711, -47.6349983215332, -46.59199905395508, -47.72700119018555, -48.948001861572266, -50.698001861572266, -44.301998138427734, -43.720001220703125, -44.70500183105469, -45.08399963378906, -45.94599914550781, -46.262001037597656, -43.31700134277344, -43.507999420166016, -44.04499816894531, -45.573001861572266, -45.93600082397461, -42.823001861572266, -43.85599899291992, -41.444000244140625, -41.3390007019043, -41.292999267578125, -41.262001037597656, -41.172000885009766, -41.262001037597656, -41.08300018310547, -41.172000885009766, -41.08300018310547, -45.84000015258789, -45.76599884033203, -47.26599884033203, -47.44599914550781, -44.74800109863281, -43.77199935913086, -44.41400146484375, -45.268001556396484, -44.76599884033203, -46.571998596191406, -45.551998138427734, -47.36399841308594, -46.85300064086914, -42.23400115966797, -40.82099914550781, -38.48400115966797, -38.12900161743164, -37.625999450683594, -37.41999816894531, -38.47800064086914, -38.64400100708008, -39.367000579833984, -39.27899932861328, -38.12900161743164, -40.33700180053711, -38.03099822998047, -40.24800109863281, -39.090999603271484, -40.13399887084961, -39.29499816894531, -41.64500045776367, -41.869998931884766, -42.15700149536133, -41.810001373291016, -42.082000732421875, -41.555999755859375, -42.10900115966797, -41.58300018310547, -41.86000061035156, -38.08599853515625, -36.76300048828125, -37.82699966430664, -34.88199996948242, -35.05400085449219, -34.33700180053711, -33.000999450683594, -32.676998138427734, -36.45800018310547, -36.70500183105469, -37.67599868774414, -37.74399948120117, -37.3390007019043, -38.20500183105469, -37.395999908447266, -38.262001037597656, -37.858001708984375, -37.959999084472656, -36.70100021362305, -38.86600112915039, -39.10200119018555, -39.86199951171875, -38.569000244140625, -39.0620002746582, -37.720001220703125, -38.74700164794922, -37.40399932861328, -37.91899871826172, -34.56999969482422, -33.707000732421875, -33.75699996948242, -32.426998138427734, -32.8489990234375, -33.34299850463867, -32.82500076293945, -35.290000915527344, -35.01100158691406, -36.819000244140625, -37.17399978637695, -37.42599868774414, -38.665000915527344], \"y\": [2.243000030517578, 1.6679999828338623, 3.50600004196167, 3.9110000133514404, 3.26200008392334, 5.210000038146973, 1.8550000190734863, 0.492000013589859, 2.9159998893737793, 4.255000114440918, 5.334000110626221, 4.110000133514404, -1.1030000448226929, -2.1570000648498535, -0.9649999737739563, -0.21199999749660492, 0.3720000088214874, -2.5980000495910645, -3.384999990463257, -3.5350000858306885, -2.799999952316284, -3.6630001068115234, -2.937000036239624, -3.38700008392334, -2.378000020980835, -4.705999851226807, -4.627999782562256, -5.961999893188477, -1.680999994277954, -2.2679998874664307, -1.5870000123977661, -0.5989999771118164, -0.8379999995231628, 0.8209999799728394, 1.3680000305175781, 1.6799999475479126, 2.736999988555908, 3.053999900817871, 3.563999891281128, -1.8960000276565552, -1.2359999418258667, -1.597000002861023, -2.0759999752044678, 0.49900001287460327, -0.08299999684095383, 1.9470000267028809, 2.4570000171661377, 2.494999885559082, 2.88700008392334, 2.9609999656677246, 3.3540000915527344, 3.3910000324249268, -1.9220000505447388, -1.3910000324249268, -1.8240000009536743, -0.5740000009536743, -2.997999906539917, -4.107999801635742, 0.8600000143051147, 2.0999999046325684, 1.0199999809265137, 2.4079999923706055, 2.802000045776367, 3.321000099182129, 4.072000026702881, 4.5980000495910645, 4.974999904632568, 3.4159998893737793, 3.4560000896453857, 3.562000036239624, 4.798999786376953, 4.888999938964844, 6.146999835968018, 6.99399995803833, 6.716000080108643, 8.401000022888184, 8.114999771118164, 8.937999725341797, 2.2780001163482666, 2.9820001125335693, 0.8479999899864197, 3.2190001010894775, 4.697999954223633, 2.4110000133514404, 2.8410000801086426, 2.072000026702881, 6.414000034332275, 7.236000061035156, 6.50600004196167, 7.7829999923706055, 7.798999786376953, 8.96500015258789, 8.97700023651123, 10.14900016784668, 10.14799976348877, 7.357999801635742, 7.635000228881836, 6.436999797821045, 6.855000019073486, 7.877999782562256, 6.248000144958496, 6.979000091552734, 5.156000137329102, 6.669000148773193, 4.848999977111816, 5.6020002365112305, 6.747000217437744, 7.86299991607666, 5.4770002365112305, 5.644999980926514, 9.017000198364258, 10.442999839782715, 8.802000045776367, 11.937999725341797, 12.364999771118164, 11.916000366210938, 11.631999969482422, 13.234000205993652, 11.517999649047852], \"z\": [11.901000022888184, 12.416999816894531, 12.720000267028809, 12.482000350952148, 14.201000213623047, 13.107999801635742, 12.477999687194824, 11.925000190734863, 12.119000434875488, 12.843000411987305, 12.163999557495117, 14.305999755859375, 10.065999984741211, 10.420999526977539, 8.552000045776367, 8.11400032043457, 6.059999942779541, 11.317000389099121, 10.128000259399414, 12.482999801635742, 13.75, 14.663999557495117, 15.970999717712402, 7.703000068664551, 6.5920000076293945, 7.375, 7.326000213623047, 4.938000202178955, 4.333000183105469, 3.371999979019165, 3.690999984741211, 2.632999897003174, 1.305999994277954, 2.7880001068115234, 1.5049999952316284, 3.88700008392334, 1.2769999504089355, 3.6640000343322754, 2.369999885559082, 1.9240000247955322, 0.5460000038146973, 2.444000005722046, 3.8420000076293945, -0.8700000047683716, -1.9199999570846558, -0.48100000619888306, 0.6629999876022339, 1.965000033378601, 0.43799999356269836, 3.0280001163482666, 1.4930000305175781, 2.7890000343322754, -2.502000093460083, -2.5460000038146973, -3.1649999618530273, -3.9560000896453857, -3.690000057220459, -2.6510000228881836, -5.883999824523926, -5.040999889373779, -7.116000175476074, -7.7270002365112305, -8.420999526977539, -7.603000164031982, -8.984000205993652, -8.163999557495117, -8.857000350952148, -3.6700000762939453, -2.3570001125335693, -3.385999917984009, -2.622999906539917, -1.3179999589920044, -3.119999885559082, -2.0329999923706055, -4.38100004196167, -2.1549999713897705, -4.506999969482422, -3.3910000324249268, -0.5730000138282776, -0.8339999914169312, -0.09700000286102295, -2.380000114440918, -2.7730000019073486, -3.5420000553131104, -4.117000102996826, -5.396999835968018, -3.815999984741211, -2.555999994277954, -4.729000091552734, -5.526000022888184, -6.868000030517578, -4.960999965667725, -7.620999813079834, -5.71999979019165, -7.043000221252441, -0.4309999942779541, 0.3610000014305115, 0.3709999918937683, 1.746999979019165, 2.1489999294281006, 2.937999963760376, 4.025000095367432, 3.187000036239624, 5.3470001220703125, 4.5320000648498535, 5.574999809265137, 1.190000057220459, 0.6209999918937683, 1.1019999980926514, 1.8300000429153442, -1.3869999647140503, -1.0920000076293945, -2.9089999198913574, -0.7860000133514404, 0.6499999761581421, -1.00600004196167, -2.4760000705718994, -0.6449999809265137, -2.7039999961853027]}, {\"hovertemplate\": \"atom_type=O<br>x=%{x}<br>y=%{y}<br>z=%{z}<extra></extra>\", \"legendgroup\": \"O\", \"marker\": {\"color\": \"#00cc96\", \"opacity\": 0.5, \"size\": 7, \"symbol\": \"circle\"}, \"mode\": \"markers\", \"name\": \"O\", \"scene\": \"scene\", \"showlegend\": true, \"type\": \"scatter3d\", \"x\": [-44.85300064086914, -48.4010009765625, -46.8489990234375, -43.215999603271484, -44.32600021362305, -43.801998138427734, -46.5620002746582, -47.50899887084961, -43.62099838256836, -40.551998138427734, -37.250999450683594, -37.242000579833984, -37.709999084472656, -38.97200012207031, -36.332000732421875, -34.185001373291016, -32.915000915527344, -32.18600082397461, -36.073001861572266, -36.50400161743164, -33.11600112915039, -34.49100112915039, -32.52399826049805, -32.24700164794922, -34.70600128173828], \"y\": [0.6800000071525574, -0.2709999978542328, -3.3359999656677246, -4.49399995803833, -1.4579999446868896, -3.440999984741211, -1.5709999799728394, -0.17800000309944153, 0.48500001430511475, -0.29899999499320984, 0.17499999701976776, -5.270999908447266, 2.8949999809265137, 4.533999919891357, 3.8310000896453857, 5.520999908447266, 0.8429999947547913, 2.687999963760376, 8.274999618530273, 8.751999855041504, 8.62399959564209, 4.4039998054504395, 11.355999946594238, 7.565000057220459, 13.53499984741211], \"z\": [13.161999702453613, 12.62600040435791, 10.241999626159668, 10.293999671936035, 6.71999979019165, 3.0789999961853027, -0.3330000042915344, 2.4049999713897705, -3.0179998874664307, -2.0910000801086426, -3.515000104904175, -3.01200008392334, -4.906000137329102, -1.8990000486373901, -0.04500000178813934, -2.4690001010894775, -5.452000141143799, -6.3520002365112305, -2.3570001125335693, 0.8069999814033508, 1.3849999904632568, 1.6990000009536743, -0.8989999890327454, -3.26200008392334, 0.9160000085830688]}, {\"hovertemplate\": \"atom_type=S<br>x=%{x}<br>y=%{y}<br>z=%{z}<extra></extra>\", \"legendgroup\": \"S\", \"marker\": {\"color\": \"#ab63fa\", \"opacity\": 0.5, \"size\": 7, \"symbol\": \"circle\"}, \"mode\": \"markers\", \"name\": \"S\", \"scene\": \"scene\", \"showlegend\": true, \"type\": \"scatter3d\", \"x\": [-48.946998596191406, -46.22600173950195, -36.529998779296875], \"y\": [0.07999999821186066, -4.349999904632568, 0.6940000057220459], \"z\": [6.35699987411499, 5.681000232696533, 1.1670000553131104]}],                        {\"legend\": {\"title\": {\"text\": \"atom_type\"}, \"tracegroupgap\": 0}, \"margin\": {\"t\": 60}, \"scene\": {\"domain\": {\"x\": [0.0, 1.0], \"y\": [0.0, 1.0]}, \"xaxis\": {\"title\": {\"text\": \"x\"}}, \"yaxis\": {\"title\": {\"text\": \"y\"}}, \"zaxis\": {\"title\": {\"text\": \"z\"}}}, \"template\": {\"data\": {\"bar\": [{\"error_x\": {\"color\": \"#2a3f5f\"}, \"error_y\": {\"color\": \"#2a3f5f\"}, \"marker\": {\"line\": {\"color\": \"#E5ECF6\", \"width\": 0.5}}, \"type\": \"bar\"}], \"barpolar\": [{\"marker\": {\"line\": {\"color\": \"#E5ECF6\", \"width\": 0.5}}, \"type\": \"barpolar\"}], \"carpet\": [{\"aaxis\": {\"endlinecolor\": \"#2a3f5f\", \"gridcolor\": \"white\", \"linecolor\": \"white\", \"minorgridcolor\": \"white\", \"startlinecolor\": \"#2a3f5f\"}, \"baxis\": {\"endlinecolor\": \"#2a3f5f\", \"gridcolor\": \"white\", \"linecolor\": \"white\", \"minorgridcolor\": \"white\", \"startlinecolor\": \"#2a3f5f\"}, \"type\": \"carpet\"}], \"choropleth\": [{\"colorbar\": {\"outlinewidth\": 0, \"ticks\": \"\"}, \"type\": \"choropleth\"}], \"contour\": [{\"colorbar\": {\"outlinewidth\": 0, \"ticks\": \"\"}, \"colorscale\": [[0.0, \"#0d0887\"], [0.1111111111111111, \"#46039f\"], [0.2222222222222222, \"#7201a8\"], [0.3333333333333333, \"#9c179e\"], [0.4444444444444444, \"#bd3786\"], [0.5555555555555556, \"#d8576b\"], [0.6666666666666666, \"#ed7953\"], [0.7777777777777778, \"#fb9f3a\"], [0.8888888888888888, \"#fdca26\"], [1.0, \"#f0f921\"]], \"type\": \"contour\"}], \"contourcarpet\": [{\"colorbar\": {\"outlinewidth\": 0, \"ticks\": \"\"}, \"type\": \"contourcarpet\"}], \"heatmap\": [{\"colorbar\": {\"outlinewidth\": 0, \"ticks\": \"\"}, \"colorscale\": [[0.0, \"#0d0887\"], [0.1111111111111111, \"#46039f\"], [0.2222222222222222, \"#7201a8\"], [0.3333333333333333, \"#9c179e\"], [0.4444444444444444, \"#bd3786\"], [0.5555555555555556, \"#d8576b\"], [0.6666666666666666, \"#ed7953\"], [0.7777777777777778, \"#fb9f3a\"], [0.8888888888888888, \"#fdca26\"], [1.0, \"#f0f921\"]], \"type\": \"heatmap\"}], \"heatmapgl\": [{\"colorbar\": {\"outlinewidth\": 0, \"ticks\": \"\"}, \"colorscale\": [[0.0, \"#0d0887\"], [0.1111111111111111, \"#46039f\"], [0.2222222222222222, \"#7201a8\"], [0.3333333333333333, \"#9c179e\"], [0.4444444444444444, \"#bd3786\"], [0.5555555555555556, \"#d8576b\"], [0.6666666666666666, \"#ed7953\"], [0.7777777777777778, \"#fb9f3a\"], [0.8888888888888888, \"#fdca26\"], [1.0, \"#f0f921\"]], \"type\": \"heatmapgl\"}], \"histogram\": [{\"marker\": {\"colorbar\": {\"outlinewidth\": 0, \"ticks\": \"\"}}, \"type\": \"histogram\"}], \"histogram2d\": [{\"colorbar\": {\"outlinewidth\": 0, \"ticks\": \"\"}, \"colorscale\": [[0.0, \"#0d0887\"], [0.1111111111111111, \"#46039f\"], [0.2222222222222222, \"#7201a8\"], [0.3333333333333333, \"#9c179e\"], [0.4444444444444444, \"#bd3786\"], [0.5555555555555556, \"#d8576b\"], [0.6666666666666666, \"#ed7953\"], [0.7777777777777778, \"#fb9f3a\"], [0.8888888888888888, \"#fdca26\"], [1.0, \"#f0f921\"]], \"type\": \"histogram2d\"}], \"histogram2dcontour\": [{\"colorbar\": {\"outlinewidth\": 0, \"ticks\": \"\"}, \"colorscale\": [[0.0, \"#0d0887\"], [0.1111111111111111, \"#46039f\"], [0.2222222222222222, \"#7201a8\"], [0.3333333333333333, \"#9c179e\"], [0.4444444444444444, \"#bd3786\"], [0.5555555555555556, \"#d8576b\"], [0.6666666666666666, \"#ed7953\"], [0.7777777777777778, \"#fb9f3a\"], [0.8888888888888888, \"#fdca26\"], [1.0, \"#f0f921\"]], \"type\": \"histogram2dcontour\"}], \"mesh3d\": [{\"colorbar\": {\"outlinewidth\": 0, \"ticks\": \"\"}, \"type\": \"mesh3d\"}], \"parcoords\": [{\"line\": {\"colorbar\": {\"outlinewidth\": 0, \"ticks\": \"\"}}, \"type\": \"parcoords\"}], \"pie\": [{\"automargin\": true, \"type\": \"pie\"}], \"scatter\": [{\"marker\": {\"colorbar\": {\"outlinewidth\": 0, \"ticks\": \"\"}}, \"type\": \"scatter\"}], \"scatter3d\": [{\"line\": {\"colorbar\": {\"outlinewidth\": 0, \"ticks\": \"\"}}, \"marker\": {\"colorbar\": {\"outlinewidth\": 0, \"ticks\": \"\"}}, \"type\": \"scatter3d\"}], \"scattercarpet\": [{\"marker\": {\"colorbar\": {\"outlinewidth\": 0, \"ticks\": \"\"}}, \"type\": \"scattercarpet\"}], \"scattergeo\": [{\"marker\": {\"colorbar\": {\"outlinewidth\": 0, \"ticks\": \"\"}}, \"type\": \"scattergeo\"}], \"scattergl\": [{\"marker\": {\"colorbar\": {\"outlinewidth\": 0, \"ticks\": \"\"}}, \"type\": \"scattergl\"}], \"scattermapbox\": [{\"marker\": {\"colorbar\": {\"outlinewidth\": 0, \"ticks\": \"\"}}, \"type\": \"scattermapbox\"}], \"scatterpolar\": [{\"marker\": {\"colorbar\": {\"outlinewidth\": 0, \"ticks\": \"\"}}, \"type\": \"scatterpolar\"}], \"scatterpolargl\": [{\"marker\": {\"colorbar\": {\"outlinewidth\": 0, \"ticks\": \"\"}}, \"type\": \"scatterpolargl\"}], \"scatterternary\": [{\"marker\": {\"colorbar\": {\"outlinewidth\": 0, \"ticks\": \"\"}}, \"type\": \"scatterternary\"}], \"surface\": [{\"colorbar\": {\"outlinewidth\": 0, \"ticks\": \"\"}, \"colorscale\": [[0.0, \"#0d0887\"], [0.1111111111111111, \"#46039f\"], [0.2222222222222222, \"#7201a8\"], [0.3333333333333333, \"#9c179e\"], [0.4444444444444444, \"#bd3786\"], [0.5555555555555556, \"#d8576b\"], [0.6666666666666666, \"#ed7953\"], [0.7777777777777778, \"#fb9f3a\"], [0.8888888888888888, \"#fdca26\"], [1.0, \"#f0f921\"]], \"type\": \"surface\"}], \"table\": [{\"cells\": {\"fill\": {\"color\": \"#EBF0F8\"}, \"line\": {\"color\": \"white\"}}, \"header\": {\"fill\": {\"color\": \"#C8D4E3\"}, \"line\": {\"color\": \"white\"}}, \"type\": \"table\"}]}, \"layout\": {\"annotationdefaults\": {\"arrowcolor\": \"#2a3f5f\", \"arrowhead\": 0, \"arrowwidth\": 1}, \"autotypenumbers\": \"strict\", \"coloraxis\": {\"colorbar\": {\"outlinewidth\": 0, \"ticks\": \"\"}}, \"colorscale\": {\"diverging\": [[0, \"#8e0152\"], [0.1, \"#c51b7d\"], [0.2, \"#de77ae\"], [0.3, \"#f1b6da\"], [0.4, \"#fde0ef\"], [0.5, \"#f7f7f7\"], [0.6, \"#e6f5d0\"], [0.7, \"#b8e186\"], [0.8, \"#7fbc41\"], [0.9, \"#4d9221\"], [1, \"#276419\"]], \"sequential\": [[0.0, \"#0d0887\"], [0.1111111111111111, \"#46039f\"], [0.2222222222222222, \"#7201a8\"], [0.3333333333333333, \"#9c179e\"], [0.4444444444444444, \"#bd3786\"], [0.5555555555555556, \"#d8576b\"], [0.6666666666666666, \"#ed7953\"], [0.7777777777777778, \"#fb9f3a\"], [0.8888888888888888, \"#fdca26\"], [1.0, \"#f0f921\"]], \"sequentialminus\": [[0.0, \"#0d0887\"], [0.1111111111111111, \"#46039f\"], [0.2222222222222222, \"#7201a8\"], [0.3333333333333333, \"#9c179e\"], [0.4444444444444444, \"#bd3786\"], [0.5555555555555556, \"#d8576b\"], [0.6666666666666666, \"#ed7953\"], [0.7777777777777778, \"#fb9f3a\"], [0.8888888888888888, \"#fdca26\"], [1.0, \"#f0f921\"]]}, \"colorway\": [\"#636efa\", \"#EF553B\", \"#00cc96\", \"#ab63fa\", \"#FFA15A\", \"#19d3f3\", \"#FF6692\", \"#B6E880\", \"#FF97FF\", \"#FECB52\"], \"font\": {\"color\": \"#2a3f5f\"}, \"geo\": {\"bgcolor\": \"white\", \"lakecolor\": \"white\", \"landcolor\": \"#E5ECF6\", \"showlakes\": true, \"showland\": true, \"subunitcolor\": \"white\"}, \"hoverlabel\": {\"align\": \"left\"}, \"hovermode\": \"closest\", \"mapbox\": {\"style\": \"light\"}, \"paper_bgcolor\": \"white\", \"plot_bgcolor\": \"#E5ECF6\", \"polar\": {\"angularaxis\": {\"gridcolor\": \"white\", \"linecolor\": \"white\", \"ticks\": \"\"}, \"bgcolor\": \"#E5ECF6\", \"radialaxis\": {\"gridcolor\": \"white\", \"linecolor\": \"white\", \"ticks\": \"\"}}, \"scene\": {\"xaxis\": {\"backgroundcolor\": \"#E5ECF6\", \"gridcolor\": \"white\", \"gridwidth\": 2, \"linecolor\": \"white\", \"showbackground\": true, \"ticks\": \"\", \"zerolinecolor\": \"white\"}, \"yaxis\": {\"backgroundcolor\": \"#E5ECF6\", \"gridcolor\": \"white\", \"gridwidth\": 2, \"linecolor\": \"white\", \"showbackground\": true, \"ticks\": \"\", \"zerolinecolor\": \"white\"}, \"zaxis\": {\"backgroundcolor\": \"#E5ECF6\", \"gridcolor\": \"white\", \"gridwidth\": 2, \"linecolor\": \"white\", \"showbackground\": true, \"ticks\": \"\", \"zerolinecolor\": \"white\"}}, \"shapedefaults\": {\"line\": {\"color\": \"#2a3f5f\"}}, \"ternary\": {\"aaxis\": {\"gridcolor\": \"white\", \"linecolor\": \"white\", \"ticks\": \"\"}, \"baxis\": {\"gridcolor\": \"white\", \"linecolor\": \"white\", \"ticks\": \"\"}, \"bgcolor\": \"#E5ECF6\", \"caxis\": {\"gridcolor\": \"white\", \"linecolor\": \"white\", \"ticks\": \"\"}}, \"title\": {\"x\": 0.05}, \"xaxis\": {\"automargin\": true, \"gridcolor\": \"white\", \"linecolor\": \"white\", \"ticks\": \"\", \"title\": {\"standoff\": 15}, \"zerolinecolor\": \"white\", \"zerolinewidth\": 2}, \"yaxis\": {\"automargin\": true, \"gridcolor\": \"white\", \"linecolor\": \"white\", \"ticks\": \"\", \"title\": {\"standoff\": 15}, \"zerolinecolor\": \"white\", \"zerolinewidth\": 2}}}},                        {\"responsive\": true}                    ).then(function(){\n",
       "                            \n",
       "var gd = document.getElementById('aa05de28-917a-4ac8-8e36-83400de87b72');\n",
       "var x = new MutationObserver(function (mutations, observer) {{\n",
       "        var display = window.getComputedStyle(gd).display;\n",
       "        if (!display || display === 'none') {{\n",
       "            console.log([gd, 'removed!']);\n",
       "            Plotly.purge(gd);\n",
       "            observer.disconnect();\n",
       "        }}\n",
       "}});\n",
       "\n",
       "// Listen for the removal of the full notebook cells\n",
       "var notebookContainer = gd.closest('#notebook-container');\n",
       "if (notebookContainer) {{\n",
       "    x.observe(notebookContainer, {childList: true});\n",
       "}}\n",
       "\n",
       "// Listen for the clearing of the current output cell\n",
       "var outputEl = gd.closest('.output');\n",
       "if (outputEl) {{\n",
       "    x.observe(outputEl, {childList: true});\n",
       "}}\n",
       "\n",
       "                        })                };                });            </script>        </div>"
      ]
     },
     "metadata": {},
     "output_type": "display_data"
    }
   ],
   "source": [
    "import plotly.express as px\n",
    "select = full[(100 < full['label_seq_id']) & (full['label_seq_id'] < 120)]\n",
    "df = px.data.iris()\n",
    "fig = px.scatter_3d(select, x='x', y='y', z='z',\n",
    "                    color='atom_type', opacity=0.5)\n",
    "fig.update_traces(marker=dict(size=7))\n",
    "fig.show()"
   ]
  },
  {
   "cell_type": "code",
   "execution_count": null,
   "id": "absolute-drain",
   "metadata": {},
   "outputs": [],
   "source": []
  },
  {
   "cell_type": "code",
   "execution_count": null,
   "id": "capable-spiritual",
   "metadata": {},
   "outputs": [],
   "source": []
  },
  {
   "cell_type": "code",
   "execution_count": null,
   "id": "pending-component",
   "metadata": {},
   "outputs": [],
   "source": []
  },
  {
   "cell_type": "code",
   "execution_count": 161,
   "id": "fancy-excellence",
   "metadata": {},
   "outputs": [
    {
     "name": "stdout",
     "output_type": "stream",
     "text": [
      "Plotting 43 points for LEU\n"
     ]
    },
    {
     "data": {
      "image/png": "[encoded data removed]",
      "text/plain": [
       "<Figure size 396x396 with 1 Axes>"
      ]
     },
     "metadata": {
      "needs_background": "light"
     },
     "output_type": "display_data"
    },
    {
     "name": "stdout",
     "output_type": "stream",
     "text": [
      "Plotting 37 points for ALA\n"
     ]
    },
    {
     "data": {
      "image/png": "[encoded data removed]",
      "text/plain": [
       "<Figure size 396x396 with 1 Axes>"
      ]
     },
     "metadata": {
      "needs_background": "light"
     },
     "output_type": "display_data"
    },
    {
     "name": "stdout",
     "output_type": "stream",
     "text": [
      "Plotting 22 points for GLY\n"
     ]
    },
    {
     "data": {
      "image/png": "[encoded data removed]",
      "text/plain": [
       "<Figure size 396x396 with 1 Axes>"
      ]
     },
     "metadata": {
      "needs_background": "light"
     },
     "output_type": "display_data"
    },
    {
     "name": "stdout",
     "output_type": "stream",
     "text": [
      "Plotting 39 points for VAL\n"
     ]
    },
    {
     "data": {
      "image/png": "[encoded data removed]",
      "text/plain": [
       "<Figure size 396x396 with 1 Axes>"
      ]
     },
     "metadata": {
      "needs_background": "light"
     },
     "output_type": "display_data"
    },
    {
     "name": "stdout",
     "output_type": "stream",
     "text": [
      "Plotting 19 points for GLU\n"
     ]
    },
    {
     "data": {
      "image/png": "[encoded data removed]",
      "text/plain": [
       "<Figure size 396x396 with 1 Axes>"
      ]
     },
     "metadata": {
      "needs_background": "light"
     },
     "output_type": "display_data"
    },
    {
     "name": "stdout",
     "output_type": "stream",
     "text": [
      "Plotting 20 points for SER\n"
     ]
    },
    {
     "data": {
      "image/png": "[encoded data removed]",
      "text/plain": [
       "<Figure size 396x396 with 1 Axes>"
      ]
     },
     "metadata": {
      "needs_background": "light"
     },
     "output_type": "display_data"
    },
    {
     "name": "stdout",
     "output_type": "stream",
     "text": [
      "Plotting 23 points for LYS\n"
     ]
    },
    {
     "data": {
      "image/png": "[encoded data removed]",
      "text/plain": [
       "<Figure size 396x396 with 1 Axes>"
      ]
     },
     "metadata": {
      "needs_background": "light"
     },
     "output_type": "display_data"
    },
    {
     "name": "stdout",
     "output_type": "stream",
     "text": [
      "Plotting 16 points for ASP\n"
     ]
    },
    {
     "data": {
      "image/png": "[encoded data removed]",
      "text/plain": [
       "<Figure size 396x396 with 1 Axes>"
      ]
     },
     "metadata": {
      "needs_background": "light"
     },
     "output_type": "display_data"
    },
    {
     "name": "stdout",
     "output_type": "stream",
     "text": [
      "Plotting 29 points for THR\n"
     ]
    },
    {
     "data": {
      "image/png": "[encoded data removed]",
      "text/plain": [
       "<Figure size 396x396 with 1 Axes>"
      ]
     },
     "metadata": {
      "needs_background": "light"
     },
     "output_type": "display_data"
    },
    {
     "name": "stdout",
     "output_type": "stream",
     "text": [
      "Plotting 39 points for ILE\n"
     ]
    },
    {
     "data": {
      "image/png": "[encoded data removed]",
      "text/plain": [
       "<Figure size 396x396 with 1 Axes>"
      ]
     },
     "metadata": {
      "needs_background": "light"
     },
     "output_type": "display_data"
    },
    {
     "name": "stdout",
     "output_type": "stream",
     "text": [
      "Plotting 22 points for ARG\n"
     ]
    },
    {
     "data": {
      "image/png": "[encoded data removed]",
      "text/plain": [
       "<Figure size 396x396 with 1 Axes>"
      ]
     },
     "metadata": {
      "needs_background": "light"
     },
     "output_type": "display_data"
    },
    {
     "name": "stdout",
     "output_type": "stream",
     "text": [
      "Plotting 10 points for PRO\n"
     ]
    },
    {
     "data": {
      "image/png": "[encoded data removed]",
      "text/plain": [
       "<Figure size 396x396 with 1 Axes>"
      ]
     },
     "metadata": {
      "needs_background": "light"
     },
     "output_type": "display_data"
    },
    {
     "name": "stdout",
     "output_type": "stream",
     "text": [
      "Plotting 22 points for ASN\n"
     ]
    },
    {
     "data": {
      "image/png": "[encoded data removed]",
      "text/plain": [
       "<Figure size 396x396 with 1 Axes>"
      ]
     },
     "metadata": {
      "needs_background": "light"
     },
     "output_type": "display_data"
    },
    {
     "name": "stdout",
     "output_type": "stream",
     "text": [
      "Plotting 27 points for PHE\n"
     ]
    },
    {
     "data": {
      "image/png": "[encoded data removed]",
      "text/plain": [
       "<Figure size 396x396 with 1 Axes>"
      ]
     },
     "metadata": {
      "needs_background": "light"
     },
     "output_type": "display_data"
    },
    {
     "name": "stdout",
     "output_type": "stream",
     "text": [
      "Plotting 14 points for GLN\n"
     ]
    },
    {
     "data": {
      "image/png": "[encoded data removed]",
      "text/plain": [
       "<Figure size 396x396 with 1 Axes>"
      ]
     },
     "metadata": {
      "needs_background": "light"
     },
     "output_type": "display_data"
    },
    {
     "name": "stdout",
     "output_type": "stream",
     "text": [
      "Plotting 17 points for TYR\n"
     ]
    },
    {
     "data": {
      "image/png": "[encoded data removed]",
      "text/plain": [
       "<Figure size 396x396 with 1 Axes>"
      ]
     },
     "metadata": {
      "needs_background": "light"
     },
     "output_type": "display_data"
    },
    {
     "name": "stdout",
     "output_type": "stream",
     "text": [
      "Plotting 6 points for HIS\n"
     ]
    },
    {
     "data": {
      "image/png": "[encoded data removed]",
      "text/plain": [
       "<Figure size 396x396 with 1 Axes>"
      ]
     },
     "metadata": {
      "needs_background": "light"
     },
     "output_type": "display_data"
    },
    {
     "name": "stdout",
     "output_type": "stream",
     "text": [
      "Plotting 13 points for MET\n"
     ]
    },
    {
     "data": {
      "image/png": "[encoded data removed]",
      "text/plain": [
       "<Figure size 396x396 with 1 Axes>"
      ]
     },
     "metadata": {
      "needs_background": "light"
     },
     "output_type": "display_data"
    },
    {
     "name": "stdout",
     "output_type": "stream",
     "text": [
      "Plotting 11 points for CYS\n"
     ]
    },
    {
     "data": {
      "image/png": "[encoded data removed]",
      "text/plain": [
       "<Figure size 396x396 with 1 Axes>"
      ]
     },
     "metadata": {
      "needs_background": "light"
     },
     "output_type": "display_data"
    },
    {
     "name": "stdout",
     "output_type": "stream",
     "text": [
      "Plotting 11 points for TRP\n"
     ]
    },
    {
     "data": {
      "image/png": "[encoded data removed]",
      "text/plain": [
       "<Figure size 396x396 with 1 Axes>"
      ]
     },
     "metadata": {
      "needs_background": "light"
     },
     "output_type": "display_data"
    }
   ],
   "source": [
    "import sys\n",
    "import matplotlib.pyplot as plt\n",
    "from matplotlib.ticker import MultipleLocator\n",
    "\n",
    "\n",
    "def plot(data_file, label, output=None):\n",
    "    x, y = [], []\n",
    "    for line in open(data_file):\n",
    "        phi, psi = line.split()\n",
    "        if phi != 'nan' and psi != 'nan':\n",
    "            x.append(float(phi))\n",
    "            y.append(float(psi))\n",
    "    print('Plotting %d points for %s' % (len(x), label))\n",
    "\n",
    "    plt.figure(figsize=(5.5, 5.5))\n",
    "    plt.title('%s, %d points.' % (label, len(x)), fontsize=12)\n",
    "    plt.xlim([-180, 180])\n",
    "    plt.ylim([-180, 180])\n",
    "    ax = plt.gca()\n",
    "    ax.xaxis.set_major_locator(MultipleLocator(60))\n",
    "    ax.yaxis.set_major_locator(MultipleLocator(60))\n",
    "    plt.xlabel(r'$\\phi$', fontsize=14)\n",
    "    plt.ylabel(r'$\\psi$', fontsize=14, labelpad=0)\n",
    "    plt.grid(color='#AAAAAA', linestyle='--')\n",
    "    plt.hexbin(x, y, gridsize=2*180, bins='log', cmap='Blues')\n",
    "    if output:\n",
    "        plt.savefig(output, dpi=300)  # dpi=70 for small images in docs\n",
    "    else:\n",
    "        plt.show()\n",
    "\n",
    "\n",
    "for aa in ramas:\n",
    "    plot('data/ramach/%s.tsv' % aa, aa)\n",
    "    #plot('ramas/%s.tsv' % aa, aa, 'ramas/%s.png' % aa)"
   ]
  },
  {
   "cell_type": "code",
   "execution_count": null,
   "id": "scientific-passion",
   "metadata": {},
   "outputs": [],
   "source": []
  },
  {
   "cell_type": "code",
   "execution_count": null,
   "id": "trying-hungary",
   "metadata": {},
   "outputs": [],
   "source": []
  },
  {
   "cell_type": "code",
   "execution_count": null,
   "id": "interim-external",
   "metadata": {},
   "outputs": [],
   "source": []
  },
  {
   "cell_type": "code",
   "execution_count": 297,
   "id": "valued-fruit",
   "metadata": {},
   "outputs": [],
   "source": [
    "uniprot = pdbtouniprot('4JKV')"
   ]
  },
  {
   "cell_type": "code",
   "execution_count": 298,
   "id": "earned-cream",
   "metadata": {},
   "outputs": [
    {
     "data": {
      "text/plain": [
       "'P0ABE7'"
      ]
     },
     "execution_count": 298,
     "metadata": {},
     "output_type": "execute_result"
    }
   ],
   "source": [
    "uniprot"
   ]
  },
  {
   "cell_type": "code",
   "execution_count": 299,
   "id": "underlying-murray",
   "metadata": {},
   "outputs": [],
   "source": [
    "pdb = uniprottopdb(uniprot)"
   ]
  },
  {
   "cell_type": "code",
   "execution_count": 300,
   "id": "generic-elements",
   "metadata": {},
   "outputs": [
    {
     "data": {
      "text/plain": [
       "['1APC',\n",
       " '1LM3',\n",
       " '1M6T',\n",
       " '1QPU',\n",
       " '1QQ3',\n",
       " '256B',\n",
       " '2BC5',\n",
       " '2QLA',\n",
       " '3C62',\n",
       " '3C63',\n",
       " '3DE8',\n",
       " '3DE9',\n",
       " '3FOO',\n",
       " '3FOP',\n",
       " '3HNI',\n",
       " '3HNJ',\n",
       " '3HNK',\n",
       " '3HNL',\n",
       " '3IQ5',\n",
       " '3IQ6',\n",
       " '3L1M',\n",
       " '3M15',\n",
       " '3M4B',\n",
       " '3M4C',\n",
       " '3M79',\n",
       " '3NMI',\n",
       " '3NMJ',\n",
       " '3NMK',\n",
       " '3TOL',\n",
       " '3TOM',\n",
       " '3U8P',\n",
       " '4EA3',\n",
       " '4EIY',\n",
       " '4IAQ',\n",
       " '4IAR',\n",
       " '4IB4',\n",
       " '4JE9',\n",
       " '4JEA',\n",
       " '4JEB',\n",
       " '4JKV',\n",
       " '4L6R',\n",
       " '4N6H',\n",
       " '4NC3',\n",
       " '4NTJ',\n",
       " '4O9R',\n",
       " '4OR2',\n",
       " '4PXZ',\n",
       " '4PY0',\n",
       " '4QIM',\n",
       " '4QIN',\n",
       " '4RWA',\n",
       " '4RWD',\n",
       " '4U9D',\n",
       " '4U9E',\n",
       " '4YAY',\n",
       " '4Z34',\n",
       " '4Z35',\n",
       " '4Z36',\n",
       " '4ZUD',\n",
       " '5AWI',\n",
       " '5BU7',\n",
       " '5DHG',\n",
       " '5DHH',\n",
       " '5IU4',\n",
       " '5IU7',\n",
       " '5IU8',\n",
       " '5IUA',\n",
       " '5IUB',\n",
       " '5JTB',\n",
       " '5K2A',\n",
       " '5K2B',\n",
       " '5K2C',\n",
       " '5K2D',\n",
       " '5L31',\n",
       " '5L32',\n",
       " '5L7D',\n",
       " '5L7I',\n",
       " '5MZJ',\n",
       " '5MZP',\n",
       " '5N2R',\n",
       " '5N2S',\n",
       " '5NDD',\n",
       " '5NDZ',\n",
       " '5NJ6',\n",
       " '5NLX',\n",
       " '5NM2',\n",
       " '5NM4',\n",
       " '5OLG',\n",
       " '5OLH',\n",
       " '5OLO',\n",
       " '5OLV',\n",
       " '5OLZ',\n",
       " '5OM1',\n",
       " '5OM4',\n",
       " '5TUD',\n",
       " '5TVN',\n",
       " '5UEN',\n",
       " '5UIG',\n",
       " '5UNF',\n",
       " '5UNG',\n",
       " '5UNH',\n",
       " '5UVI',\n",
       " '5VRA',\n",
       " '5WIU',\n",
       " '5WIV',\n",
       " '5XJM',\n",
       " '5XZI',\n",
       " '5XZJ',\n",
       " '5YM7',\n",
       " '5YO3',\n",
       " '5YO4',\n",
       " '5YO5',\n",
       " '5YO6',\n",
       " '6A93',\n",
       " '6A94',\n",
       " '6AI5',\n",
       " '6AK3',\n",
       " '6AQF',\n",
       " '6B73',\n",
       " '6BQG',\n",
       " '6BQH',\n",
       " '6C1Q',\n",
       " '6C1R',\n",
       " '6CBV',\n",
       " '6CC4',\n",
       " '6CMO',\n",
       " '6D32',\n",
       " '6D35',\n",
       " '6DHY',\n",
       " '6DHZ',\n",
       " '6DO1',\n",
       " '6DRX',\n",
       " '6DRY',\n",
       " '6DRZ',\n",
       " '6DS0',\n",
       " '6DY4',\n",
       " '6DY6',\n",
       " '6DY8',\n",
       " '6DYB',\n",
       " '6DYC',\n",
       " '6DYD',\n",
       " '6DYE',\n",
       " '6DYF',\n",
       " '6DYG',\n",
       " '6DYH',\n",
       " '6DYI',\n",
       " '6DYJ',\n",
       " '6DYK',\n",
       " '6DYL',\n",
       " '6G7O',\n",
       " '6GT3',\n",
       " '6IIU',\n",
       " '6IIV',\n",
       " '6IQL',\n",
       " '6JOD',\n",
       " '6JZH',\n",
       " '6KO5',\n",
       " '6LW5',\n",
       " '6M97',\n",
       " '6M98',\n",
       " '6ME6',\n",
       " '6ME7',\n",
       " '6ME8',\n",
       " '6ME9',\n",
       " '6MH8',\n",
       " '6OS0',\n",
       " '6OS1',\n",
       " '6OS2',\n",
       " '6OT4',\n",
       " '6OT7',\n",
       " '6OT8',\n",
       " '6OT9',\n",
       " '6OVH',\n",
       " '6PS7',\n",
       " '6RZ4',\n",
       " '6RZ5',\n",
       " '6RZ6',\n",
       " '6RZ7',\n",
       " '6RZ8',\n",
       " '6RZ9',\n",
       " '6S0Q',\n",
       " '6UR8',\n",
       " '6USF',\n",
       " '6WGT',\n",
       " '6WH4',\n",
       " '6WHA',\n",
       " '6WW2',\n",
       " '6WWZ',\n",
       " '6WYU',\n",
       " '6WZ0',\n",
       " '6WZ1',\n",
       " '6WZ2',\n",
       " '6WZ3',\n",
       " '6WZ7',\n",
       " '6WZA',\n",
       " '6WZC',\n",
       " '6X7E',\n",
       " '6X8X',\n",
       " '6ZDR',\n",
       " '6ZDV',\n",
       " '7BW0',\n",
       " '7C61',\n",
       " '7C6A']"
      ]
     },
     "execution_count": 300,
     "metadata": {},
     "output_type": "execute_result"
    }
   ],
   "source": [
    "pdb"
   ]
  },
  {
   "cell_type": "code",
   "execution_count": 304,
   "id": "demanding-belarus",
   "metadata": {},
   "outputs": [
    {
     "data": {
      "text/plain": [
       "{'2rh1': {'UniProt': {'P07550': {'identifier': 'ADRB2_HUMAN',\n",
       "    'name': 'ADRB2_HUMAN',\n",
       "    'mappings': [{'entity_id': 1,\n",
       "      'end': {'author_residue_number': 230,\n",
       "       'author_insertion_code': '',\n",
       "       'residue_number': 237},\n",
       "      'chain_id': 'A',\n",
       "      'start': {'author_residue_number': None,\n",
       "       'author_insertion_code': '',\n",
       "       'residue_number': 8},\n",
       "      'unp_end': 230,\n",
       "      'unp_start': 1,\n",
       "      'struct_asym_id': 'A'},\n",
       "     {'entity_id': 1,\n",
       "      'end': {'author_residue_number': None,\n",
       "       'author_insertion_code': '',\n",
       "       'residue_number': 500},\n",
       "      'chain_id': 'A',\n",
       "      'start': {'author_residue_number': 264,\n",
       "       'author_insertion_code': '',\n",
       "       'residue_number': 399},\n",
       "      'unp_end': 365,\n",
       "      'unp_start': 264,\n",
       "      'struct_asym_id': 'A'}]},\n",
       "   'P00720': {'identifier': 'ENLYS_BPT4',\n",
       "    'name': 'ENLYS_BPT4',\n",
       "    'mappings': [{'entity_id': 1,\n",
       "      'end': {'author_residue_number': 263,\n",
       "       'author_insertion_code': '',\n",
       "       'residue_number': 398},\n",
       "      'chain_id': 'A',\n",
       "      'start': {'author_residue_number': 1002,\n",
       "       'author_insertion_code': '',\n",
       "       'residue_number': 238},\n",
       "      'unp_end': 162,\n",
       "      'unp_start': 2,\n",
       "      'struct_asym_id': 'A'}]}}}}"
      ]
     },
     "execution_count": 304,
     "metadata": {},
     "output_type": "execute_result"
    }
   ],
   "source": [
    "from utils3 import *\n",
    "\n",
    "\n",
    "get_mappings_data('2RH1')"
   ]
  },
  {
   "cell_type": "code",
   "execution_count": null,
   "id": "regulated-residence",
   "metadata": {},
   "outputs": [],
   "source": []
  }
 ],
 "metadata": {
  "kernelspec": {
   "display_name": "Python 3",
   "language": "python",
   "name": "python3"
  },
  "language_info": {
   "codemirror_mode": {
    "name": "ipython",
    "version": 3
   },
   "file_extension": ".py",
   "mimetype": "text/x-python",
   "name": "python",
   "nbconvert_exporter": "python",
   "pygments_lexer": "ipython3",
   "version": "3.7.7"
  }
 },
 "nbformat": 4,
 "nbformat_minor": 5
}
