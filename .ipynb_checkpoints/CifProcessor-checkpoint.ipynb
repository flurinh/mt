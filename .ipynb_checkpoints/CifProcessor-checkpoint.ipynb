{
 "cells": [
  {
   "cell_type": "code",
   "execution_count": 162,
   "id": "defensive-trail",
   "metadata": {},
   "outputs": [],
   "source": [
    "from utils import *\n",
    "from utils2 import *\n",
    "from utils3 import *\n",
    "from plotting import *\n",
    "from gpcrdb_soup import *"
   ]
  },
  {
   "cell_type": "code",
   "execution_count": 163,
   "id": "atlantic-animal",
   "metadata": {},
   "outputs": [],
   "source": [
    "from tqdm import tqdm, trange"
   ]
  },
  {
   "cell_type": "code",
   "execution_count": 164,
   "id": "following-supply",
   "metadata": {},
   "outputs": [],
   "source": [
    "import sys\n",
    "import pandas\n",
    "import gemmi\n",
    "from gemmi import cif\n",
    "import random\n",
    "from math import degrees\n",
    "import mplcursors"
   ]
  },
  {
   "cell_type": "code",
   "execution_count": 213,
   "id": "adequate-mistress",
   "metadata": {},
   "outputs": [],
   "source": [
    "class CifProcessor():\n",
    "    def __init__(self, \n",
    "                 path = 'data/',\n",
    "                 structure = 'mmcif/',\n",
    "                 starting_idx=0,\n",
    "                 limit=None,\n",
    "                 shuffle = False,\n",
    "                 reload=True,\n",
    "                 remove_hetatm=True,\n",
    "                 allow_exception=False):\n",
    "        self.path = path\n",
    "        self.structure_path = self.path + structure\n",
    "        self.path_table = path + 'gpcrdb/' + 'structures.pkl'\n",
    "        \n",
    "        self.shuffle = shuffle\n",
    "        self.limit = limit\n",
    "        self.reload = reload\n",
    "        self.remove_hetatm = remove_hetatm\n",
    "        self.allow_exception = allow_exception\n",
    "        \n",
    "        self.filenames, self.pdb_ids = self.get_pdb_files()\n",
    "        self.filenames = self.filenames[starting_idx:]\n",
    "        self.pdb_ids = self.pdb_ids[starting_idx:]\n",
    "        if self.limit == None:\n",
    "            self.limit = len(self.pdb_ids)\n",
    "        if len(self.filenames) > self.limit:\n",
    "            self.filenames = self.filenames[:self.limit]\n",
    "            self.pdb_ids = self.pdb_ids[:self.limit]\n",
    "        # Columns for structure dataframe\n",
    "        self.cols = ['group_PDB', 'auth_asym_id', 'label_asym_id', 'label_seq_id', 'auth_seq_id', \n",
    "                     'label_comp_id', 'id', 'label_atom_id', \n",
    "                     'type_symbol', 'Cartn_x', 'Cartn_y', 'Cartn_z']\n",
    "        self.numbering = pd.DataFrame()\n",
    "                \n",
    "    # ==============================================================================================================\n",
    "    \n",
    "    def get_pdb_files(self):\n",
    "        # just a helper function that returns all pdb files in specified path\n",
    "        (_, _, filenames) = next(os.walk(self.structure_path))\n",
    "        if self.shuffle:\n",
    "            random.shuffle(filenames)\n",
    "        files = [self.structure_path + x for x in filenames]\n",
    "        pdb_ids = list(set([x[-8:-4] for x in files]))\n",
    "        return files, pdb_ids\n",
    "    \n",
    "    def make_metainfo(self):\n",
    "        self.table = pd.read_pickle(self.path_table)\n",
    "        for i, pdb_id in tqdm(enumerate(self.pdb_ids)):\n",
    "            if i < self.limit:\n",
    "                protein, family = self.get_prot_info(pdb_id)\n",
    "                numbering = self.get_res_nums(protein)\n",
    "                if i == 0:\n",
    "                    self.mappings = self.get_mapping(pdb_id)\n",
    "                    numb = pd.DataFrame([pdb_id, protein, family, numbering]).T\n",
    "                    # numb = [pdb_id, protein, self.entry_to_ac(protein), family, numbering]\n",
    "                    numb.columns = ['PDB', 'identifier', 'family', 'numbering']\n",
    "                    self.numbering = self.numbering.append(numb)\n",
    "                else:\n",
    "                    self.mappings = self.mappings.append(self.get_mapping(pdb_id), ignore_index=True)\n",
    "                    numb = pd.DataFrame(data=[pdb_id, protein, family, numbering]).T\n",
    "                    numb.columns = ['PDB', 'identifier', 'family', 'numbering']\n",
    "                    self.numbering = self.numbering.append(numb, ignore_index=True)\n",
    "        \n",
    "\n",
    "    def make_raws(self):\n",
    "        for i, pdb_id in tqdm(enumerate(self.pdb_ids)):\n",
    "            if i < self.limit:\n",
    "                # only process if the file has not already been generated\n",
    "                # if not self.reload & \n",
    "                protein, family = self.get_prot_info(pdb_id)\n",
    "                if i == 0:\n",
    "                    self.structure = self.load_cifs(pdb_id)\n",
    "                    self.structure['identifier'] = protein.upper()\n",
    "                    if self.remove_hetatm:\n",
    "                        self.structure = self.structure[self.structure['group_PDB']!='HETATM']\n",
    "                        self.structure['label_seq_id'] = self.structure['label_seq_id'].astype(np.int64)\n",
    "                    self.structure['label_comp_sid'] = self.structure.apply(lambda x:\n",
    "                                                        gemmi.find_tabulated_residue(x.label_comp_id).one_letter_code, \n",
    "                                                        axis=1)\n",
    "                else:\n",
    "                    structure = self.load_cifs(pdb_id)\n",
    "                    structure['identifier'] = protein.upper()\n",
    "                    if self.remove_hetatm:\n",
    "                        structure = structure[structure['group_PDB']!='HETATM']\n",
    "                        structure['label_seq_id'] = structure['label_seq_id'].astype(np.int64)\n",
    "                    structure['label_comp_sid'] = structure.apply(lambda x:\n",
    "                                                        gemmi.find_tabulated_residue(x.label_comp_id).one_letter_code, \n",
    "                                                        axis=1)\n",
    "                    self.structure = self.structure.append(structure, ignore_index=True)\n",
    "         \n",
    "    # ==============================================================================================================\n",
    "        \n",
    "    def entry_to_ac(self, entry: str):\n",
    "        query = 'https://www.uniprot.org/uniprot/'+entry+'.txt'\n",
    "        response = requests.get(query)\n",
    "        return response.text.split('\\n')[1].split('AC   ')[1][:6]\n",
    "    \n",
    "    def get_prot_info(self, pdb_id):\n",
    "        # query structure\n",
    "        query = 'https://gpcrdb.org/services/structure/'+pdb_id.upper()+'/'\n",
    "        response = requests.get(query)\n",
    "        protein = response.json()['protein']\n",
    "        family = response.json()['family']\n",
    "        return protein, family\n",
    "    \n",
    "    def get_res_nums(self, protein):\n",
    "        # query uniprot -> res num\n",
    "        query = 'https://gpcrdb.org/services/residues/extended/'+protein+'/'\n",
    "        response = requests.get(query)\n",
    "        # select res num\n",
    "        # assign res_num to structure data\n",
    "        return response.json()\n",
    "    \n",
    "    def get_mapping(self, pdb_id):\n",
    "        maps = get_mappings_data(pdb_id)[pdb_id.lower()]['UniProt']\n",
    "        uniprots = maps.keys()\n",
    "        full_table=pd.DataFrame()\n",
    "        for i, uniprot in enumerate(uniprots):\n",
    "            table = pd.DataFrame.from_dict(maps[uniprot])\n",
    "            table['PDB'] = pdb_id\n",
    "            table['uniprot'] = uniprot\n",
    "            if i == 0:\n",
    "                full_table = table\n",
    "            else:\n",
    "                full_table = full_table.append(table, ignore_index=True)\n",
    "        return full_table\n",
    "    \n",
    "    # ==============================================================================================================\n",
    "    \n",
    "    def load_cifs(self, pdb_id):\n",
    "        print(\"Loading cif file of\", pdb_id)\n",
    "        path = 'data/mmcif/' + pdb_id + '.cif'\n",
    "        print(path)\n",
    "        try:\n",
    "            doc = cif.read_file(path)  # copy all the data from mmCIF file\n",
    "            lol = []  # list of lists\n",
    "            for b, block in enumerate(doc):\n",
    "                table = block.find('_atom_site.', self.cols)\n",
    "                for row in table:\n",
    "                    lol.append([pdb_id]+list(row))\n",
    "        \n",
    "        \n",
    "        except Exception as e:\n",
    "            print(\"Oops. %s\" % e)\n",
    "            sys.exit(1)\n",
    "        cols = ['PDB']+self.cols\n",
    "        st = gemmi.read_structure(path)\n",
    "        model = st[0]\n",
    "        if len(st) > 1:\n",
    "            print(\"There are multiple models!\")\n",
    "        rol = []\n",
    "        for chain in model:\n",
    "            for r, res in enumerate(chain.get_polymer()):\n",
    "                # previous_residue() and next_residue() return previous/next\n",
    "                # residue only if the residues are bonded. Otherwise -- None.\n",
    "                prev_res = chain.previous_residue(res)\n",
    "                next_res = chain.next_residue(res)\n",
    "                try:\n",
    "                    phi, psi = gemmi.calculate_phi_psi(prev_res, res, next_res)\n",
    "                except:\n",
    "                    phi, psi = np.nan, np.nan\n",
    "                try:\n",
    "                    omega = gemmi.calculate_omega(res, next_res)\n",
    "                except:\n",
    "                    omega = np.nan\n",
    "                rol.append([res.label_seq, res.subchain, \n",
    "                            degrees(phi), degrees(omega), degrees(psi)])\n",
    "        cols2 = ['label_seq_id', 'label_asym_id', 'phi', 'omega', 'psi']\n",
    "        rol_df = pd.DataFrame(data=rol, columns=cols2)\n",
    "        rol_df['label_seq_id'] = rol_df['label_seq_id'].astype(int)\n",
    "        lol_df = pd.DataFrame(data=lol, columns=cols)\n",
    "        lol_df['label_seq_id'] = lol_df.apply(lambda x: int(x.label_seq_id) if x.label_seq_id != '.' else np.nan, axis=1)\n",
    "        return pd.merge(lol_df, rol_df, how='inner', on=['label_asym_id', 'label_seq_id'])\n",
    "    \n",
    "    # ==============================================================================================================   \n",
    "            \n",
    "    def to_pkl_metainfo(self):\n",
    "        self.numbering.to_pickle(self.path + 'data_numbering.pkl')\n",
    "        self.table.to_pickle(self.path + 'data_table.pkl')\n",
    "        self.mappings.to_pickle(self.path + 'data_mappings.pkl')\n",
    "    \n",
    "    def to_pkl_raw(self, folder='data/raw/', overwrite=False):\n",
    "        for pdb_id in self.pdb_ids:\n",
    "            structure = self.structure[self.structure['PDB']==pdb_id]\n",
    "            if len(structure) >= 1:\n",
    "                if (not os.path.isfile(folder + pdb_id + '.pkl')) or overwrite:\n",
    "                    structure.to_pickle(folder + pdb_id + '.pkl')\n",
    "                    print(\"writing to file:\", folder + pdb_id + '.pkl')\n",
    "    \n",
    "    def to_pkl_processed(self, folder='data/processed/', overwrite=False):\n",
    "        for df in self.dfl:\n",
    "            pdb_id = df['PDB'].unique()[0]\n",
    "            if (not os.path.isfile(folder + pdb_id + '.pkl')) or overwrite:\n",
    "                df.to_pickle(folder + pdb_id + '.pkl')\n",
    "                print(\"writing to file:\", folder + pdb_id + '.pkl')\n",
    "    \n",
    "    # ==============================================================================================================   \n",
    "    \n",
    "    def del_pkl(self, folder='data/raw/'):\n",
    "        files = [f for f in os.listdir(folder) if '.pkl' in f]\n",
    "        for file in files:\n",
    "            os.remove(folder + file)\n",
    "    \n",
    "    def del_pkl_metainfo(self):\n",
    "        os.remove(self.path + 'data_numbering.pkl')\n",
    "        os.remove(self.path + 'data_table.pkl')\n",
    "        os.remove(self.path + 'data_mappings.pkl')\n",
    "            \n",
    "    # ==============================================================================================================\n",
    "    \n",
    "    def read_pkl_raw(self):\n",
    "        # not needed atm\n",
    "        pass\n",
    "    \n",
    "    def read_pkl_processed(self, folder='data/processed/'):\n",
    "        files = [f for f in os.listdir(folder) if '.pkl' in f]\n",
    "        self.dfl = []\n",
    "        for f in files:\n",
    "            self.dfl.append(pd.read_pickle(folder+f).reset_index().drop('index', axis=1))\n",
    "    \n",
    "    def read_pkl_metainfo(self):\n",
    "        self.numbering = pd.read_pickle(self.path + 'data_numbering.pkl')\n",
    "        self.table = pd.read_pickle(self.path + 'data_table.pkl')\n",
    "        self.mappings = pd.read_pickle(self.path + 'data_mappings.pkl')\n",
    "    \n",
    "    # ==============================================================================================================    \n",
    "    \n",
    "    def get_stacked_maps(self, pdb):\n",
    "        # add gene to mapping\n",
    "        mappings_ = self.mappings[self.mappings['PDB']==pdb]\n",
    "        pref_chain = self.table[self.table['PDB']==pdb.upper()]['Preferred Chain'].iloc[0]\n",
    "        map_df_list = []\n",
    "        for j in range(len(mappings_)):\n",
    "            chain = pd.DataFrame.from_dict(mappings_.iloc[j]['mappings'])['chain_id'].iloc[0]\n",
    "            identifier = mappings_.iloc[j]['name']\n",
    "            dict_ = pd.DataFrame.from_dict(mappings_.iloc[j]['mappings'])\n",
    "            dict_['identifier'] = identifier\n",
    "            map_df_list.append(pd.DataFrame.from_dict(dict_))\n",
    "        _ = pd.concat(map_df_list)\n",
    "        _ = _[_['chain_id']==pref_chain]\n",
    "        _['PDB'] = pdb\n",
    "        return _\n",
    "\n",
    "\n",
    "    def get_generic_nums(self, pdb_id):\n",
    "        sequence_numbers = []\n",
    "        amino_acids = []\n",
    "        generic_numbers = []\n",
    "        for i in self.numbering[self.numbering['PDB']==pdb_id].iloc[0]['numbering']:\n",
    "            if i['alternative_generic_numbers'] != []:\n",
    "                sequence_numbers.append(i['sequence_number'])\n",
    "                amino_acids.append(i['amino_acid'])\n",
    "                generic_numbers.append(i['display_generic_number'])\n",
    "        return list(zip(sequence_numbers, amino_acids, generic_numbers))\n",
    "\n",
    "\n",
    "    def get_generic_number(self, zipped_pos_dict, l2u, comp_sid):\n",
    "        if l2u >= 0:\n",
    "            if l2u in list(zip(*zipped_pos_dict))[0]:\n",
    "                idx = list(zip(*zipped_pos_dict))[0].index(l2u)\n",
    "                row = zipped_pos_dict[idx]\n",
    "                if row[1] == comp_sid:\n",
    "                    # print(\"found row\", row[1], float(row[2].split('x')[0]), int(row[2].split('x')[1]), comp_sid)\n",
    "                    return row[2], row[1], float(row[2].split('x')[0]), int(row[2].split('x')[1])\n",
    "                else:\n",
    "                    # print(\"found row, but residue are not the same\", row, comp_sid)\n",
    "                    return row[2]+'?', row[1], float(row[2].split('x')[0]), int(row[2].split('x')[1])\n",
    "            else:\n",
    "                return ['', '', 0, 0]\n",
    "        else:\n",
    "            return ['', '', 0, 0]\n",
    "\n",
    "\n",
    "    def assign_generic_numbers_(self, pdb_id, overwrite, folder):\n",
    "        data = pd.read_pickle(folder + pdb_id + '.pkl').reset_index().drop('index', axis=1)\n",
    "        print(\"loaded data to assign gen. numbers from\", folder + pdb_id + '.pkl')\n",
    "        cols = data.columns\n",
    "        columns = ['gen_pos', 'gen_pos1', 'gen_pos2', 'uniprot_comp_sid']\n",
    "        _ = [i for i in columns if i in cols]\n",
    "        if len(_) > 0:\n",
    "            if overwrite:\n",
    "                data.drop(_, axis=1, inplace=True)\n",
    "                data['label_2_uni'] = 0\n",
    "                data[columns[0]] = ''\n",
    "                data[columns[1]] = 0\n",
    "                data[columns[2]] = 0\n",
    "                data[columns[3]] = ''\n",
    "            else:\n",
    "                return data\n",
    "        else:\n",
    "            data['label_2_uni'] = 0\n",
    "            data[columns[0]] = ''\n",
    "            data[columns[1]] = 0\n",
    "            data[columns[2]] = 0\n",
    "            data[columns[3]] = ''\n",
    "        maps_stacked = self.get_stacked_maps(pdb_id)\n",
    "        if 'residue_number' in maps_stacked.index:\n",
    "            pass\n",
    "        else:\n",
    "            return data\n",
    "        if type(maps_stacked[maps_stacked['PDB']==pdb_id].\\\n",
    "                loc['residue_number'][['chain_id', 'start','end','unp_start','unp_end', 'identifier', 'PDB']])\\\n",
    "                    == pandas.core.series.Series:\n",
    "            pref_mapping = maps_stacked[maps_stacked['PDB']==pdb_id].loc['residue_number']\\\n",
    "                [['chain_id', 'start','end','unp_start','unp_end', 'identifier', 'PDB']].to_frame().T\n",
    "        else:\n",
    "            pref_mapping = maps_stacked[maps_stacked['PDB']==pdb_id].\\\n",
    "                loc['residue_number'][['chain_id', 'start','end','unp_start','unp_end', 'identifier', 'PDB']]\n",
    "        pref_chain = pref_mapping['chain_id'].iloc[0]\n",
    "        pref_mapping = pref_mapping.sort_values('start')\n",
    "        uniprot_identifier_ = data[data['PDB']==pdb_id]['identifier'].unique()\n",
    "        uniprot_identifier = uniprot_identifier_[0]\n",
    "        natoms = len(data[data['PDB']==pdb_id])\n",
    "        \n",
    "        for j in range(len(pref_mapping)):\n",
    "            row = pref_mapping.iloc[j].to_dict()\n",
    "            map_identifier = row['identifier']\n",
    "            map_pdb = row['PDB']\n",
    "            start_label_seq_id = row['start']\n",
    "            start_uniprot = row['unp_start']\n",
    "            end_label_seq_id = row['end']\n",
    "            end_uniprot = row['unp_end']\n",
    "            if map_identifier == uniprot_identifier:\n",
    "                idxs = [x for x in range(natoms+1) \\\n",
    "                        if ((x <= end_label_seq_id) & (x >= start_label_seq_id))]\n",
    "                vals = [x + start_uniprot - start_label_seq_id for x in range(natoms+1) \\\n",
    "                        if ((x <= end_label_seq_id) & (x >= start_label_seq_id))]\n",
    "                for k, idx in enumerate(idxs):\n",
    "                    line = data[(data['PDB'] == pdb_id) &\n",
    "                                (data['label_seq_id'] == idx) &\n",
    "                                (data['label_atom_id'] == 'CA')]\n",
    "                    lines = len(line)\n",
    "                    if len(line) > 1:\n",
    "                        line = line[line['auth_asym_id'] == pref_chain]\n",
    "                    if len(line) > 0:\n",
    "                        data.at[line.index[0], 'label_2_uni'] = int(vals[k])\n",
    "            else:\n",
    "                #print('Didnt find correct uniprotmap (not a gpcr):', map_identifier)\n",
    "                pass\n",
    "        # Generate generic numbers\n",
    "        zipped_pos_dict = self.get_generic_nums(pdb_id)\n",
    "        if type(data) == pandas.core.series.Series:\n",
    "            data = data.to_frame().T\n",
    "        \n",
    "        data[['gen_pos', 'uniprot_comp_sid', 'gen_pos1', 'gen_pos2']] = data.\\\n",
    "            apply(lambda x: self.get_generic_number(zipped_pos_dict, x.label_2_uni, x.label_comp_sid) if x.PDB==pdb_id\\\n",
    "                  else [x.gen_pos, x.uniprot_comp_sid, x.gen_pos1, x.gen_pos2], axis=1, result_type='expand')\n",
    "        return data\n",
    "    \n",
    "    def assign_generic_numbers(self, pdb_ids=None, overwrite=True, folder='data/raw/'):\n",
    "        dfl_ = []\n",
    "        if pdb_ids != None:\n",
    "            self.pdb_ids = pdb_ids\n",
    "        if not isinstance(self.pdb_ids, list):\n",
    "            self.pdb_ids = [self.pdb_ids]\n",
    "        for pdb_id in self.pdb_ids:\n",
    "            if self.allow_exception:\n",
    "                print(\"trying to assign generic nubmers to\", pdb_id)\n",
    "                try:\n",
    "                    dfl_.append(self.assign_generic_numbers_(pdb_id, overwrite=overwrite, folder=folder))\n",
    "                    print(\"assigned generic numbers to\", pdb_id, \"\\n\\n\\n\")\n",
    "                except:\n",
    "                    print(\"assigning failed for\", pdb_id)\n",
    "            else:\n",
    "                print(\"trying to assign generic nubmers to\", pdb_id)\n",
    "                dfl_.append(self.assign_generic_numbers_(pdb_id, overwrite=overwrite, folder=folder))\n",
    "                print(\"assigned generic numbers to\", pdb_id, \"\\n\\n\\n\")\n",
    "        self.dfl = dfl_\n",
    "        del dfl_\n",
    "        \n",
    "    # ==============================================================================================================\n",
    "    \n",
    "    def plot_angles_for_gen_pos(self, region=[7.40, 7.60], legend=True):\n",
    "        categories = []\n",
    "        for df in self.dfl:\n",
    "            category = np.unique(df['PDB'])[0]\n",
    "            categories.append(category)\n",
    "        # categories = list(set(categories))\n",
    "\n",
    "        cmap = plt.cm.get_cmap('RdYlGn', len(categories))\n",
    "        colors = np.linspace(0, len(categories)-1, len(categories))\n",
    "        colordict = dict(zip(categories,colors))\n",
    "\n",
    "\n",
    "        fig, axes = plt.subplots(nrows=1,ncols=2,figsize=(24,12))\n",
    "\n",
    "        xlabel = 'generic position numbers'\n",
    "        ylabel = 'degrees'\n",
    "\n",
    "        xtick_min = region[0]\n",
    "        xtick_max = region[1]\n",
    "\n",
    "        nsteps = int(round(xtick_max - xtick_min, 2) / 0.01)\n",
    "        xticks = np.linspace(xtick_min, xtick_max, nsteps+1)\n",
    "\n",
    "        for i, cat in enumerate(categories):\n",
    "            c = int(colordict[cat])\n",
    "            df = self.dfl[i]\n",
    "            roi = df[(df['gen_pos1']>=region[0]) & \n",
    "                     (df['gen_pos1']<region[1]) & \n",
    "                     (df['label_atom_id']=='CA')].copy()\n",
    "            roi['phi'] = roi.apply(lambda x: float(x.phi), axis=1)\n",
    "            roi['omega'] = roi.apply(lambda x: float(x.omega), axis=1)\n",
    "            roi['psi'] = roi.apply(lambda x: float(x.psi), axis=1)\n",
    "            tot_len = len(roi['phi'].to_list())+len(roi['omega'].to_list())+len(roi['psi'].to_list())\n",
    "            if tot_len > 0:\n",
    "                roi.plot(kind='line', x='gen_pos1', y='phi', \n",
    "                        ax = axes[0], subplots = True, color = cmap(c), \n",
    "                        xticks = xticks, label=cat)\n",
    "                if legend:\n",
    "                    axes[0].legend(bbox_to_anchor=(1.0, 1.0))\n",
    "                axes[0].set_xlabel(xlabel)\n",
    "                axes[0].set_ylabel(ylabel)\n",
    "                axes[0].set_title('Psi Angles')\n",
    "\n",
    "                roi.plot(kind='line', x='gen_pos1', y='psi', \n",
    "                        ax = axes[1], subplots = True, color = cmap(c), \n",
    "                        xticks = xticks, label=cat)\n",
    "                if legend:\n",
    "                    axes[1].legend(bbox_to_anchor=(1.0, 1.0))\n",
    "                axes[1].set_xlabel(xlabel)\n",
    "                axes[1].set_ylabel(ylabel)\n",
    "                axes[1].set_title('Phi Angles')\n",
    "        plt.show()\n",
    "        \n",
    "    def get_family():\n",
    "        pass"
   ]
  },
  {
   "cell_type": "code",
   "execution_count": 214,
   "id": "cognitive-facing",
   "metadata": {},
   "outputs": [
    {
     "name": "stdout",
     "output_type": "stream",
     "text": [
      "0\n"
     ]
    },
    {
     "name": "stderr",
     "output_type": "stream",
     "text": [
      "1it [00:00,  4.48it/s]"
     ]
    },
    {
     "name": "stdout",
     "output_type": "stream",
     "text": [
      "Loading cif file of 4BVN\n",
      "data/mmcif/4BVN.cif\n",
      "Loading cif file of 5DSG\n",
      "data/mmcif/5DSG.cif\n"
     ]
    },
    {
     "name": "stderr",
     "output_type": "stream",
     "text": [
      "\r",
      "2it [00:00,  2.69it/s]"
     ]
    },
    {
     "name": "stdout",
     "output_type": "stream",
     "text": [
      "Loading cif file of 7BR3\n",
      "data/mmcif/7BR3.cif\n"
     ]
    },
    {
     "name": "stderr",
     "output_type": "stream",
     "text": [
      "\r",
      "3it [00:01,  2.90it/s]"
     ]
    },
    {
     "name": "stdout",
     "output_type": "stream",
     "text": [
      "Loading cif file of 6ME6\n",
      "data/mmcif/6ME6.cif\n"
     ]
    },
    {
     "name": "stderr",
     "output_type": "stream",
     "text": [
      "5it [00:01,  2.84it/s]"
     ]
    },
    {
     "name": "stdout",
     "output_type": "stream",
     "text": [
      "Loading cif file of 2YDO\n",
      "data/mmcif/2YDO.cif\n",
      "Loading cif file of 2RH1\n",
      "data/mmcif/2RH1.cif\n"
     ]
    },
    {
     "name": "stderr",
     "output_type": "stream",
     "text": [
      "\r",
      "6it [00:02,  2.92it/s]"
     ]
    },
    {
     "name": "stdout",
     "output_type": "stream",
     "text": [
      "Loading cif file of 6KNM\n",
      "data/mmcif/6KNM.cif\n"
     ]
    },
    {
     "name": "stderr",
     "output_type": "stream",
     "text": [
      "\r",
      "7it [00:02,  2.95it/s]"
     ]
    },
    {
     "name": "stdout",
     "output_type": "stream",
     "text": [
      "Loading cif file of 6OIJ\n",
      "data/mmcif/6OIJ.cif\n"
     ]
    },
    {
     "name": "stderr",
     "output_type": "stream",
     "text": [
      "\r",
      "8it [00:03,  2.26it/s]"
     ]
    },
    {
     "name": "stdout",
     "output_type": "stream",
     "text": [
      "Loading cif file of 5EN0\n",
      "data/mmcif/5EN0.cif\n"
     ]
    },
    {
     "name": "stderr",
     "output_type": "stream",
     "text": [
      "\r",
      "9it [00:03,  2.51it/s]"
     ]
    },
    {
     "name": "stdout",
     "output_type": "stream",
     "text": [
      "Loading cif file of 7D77\n",
      "data/mmcif/7D77.cif\n"
     ]
    },
    {
     "name": "stderr",
     "output_type": "stream",
     "text": [
      "\r",
      "10it [00:04,  2.12it/s]"
     ]
    },
    {
     "name": "stdout",
     "output_type": "stream",
     "text": [
      "Loading cif file of 7D7M\n",
      "data/mmcif/7D7M.cif\n"
     ]
    },
    {
     "name": "stderr",
     "output_type": "stream",
     "text": [
      "12it [00:04,  2.28it/s]"
     ]
    },
    {
     "name": "stdout",
     "output_type": "stream",
     "text": [
      "Loading cif file of 3REY\n",
      "data/mmcif/3REY.cif\n",
      "Loading cif file of 4QKX\n",
      "data/mmcif/4QKX.cif\n"
     ]
    },
    {
     "name": "stderr",
     "output_type": "stream",
     "text": [
      "\r",
      "13it [00:05,  2.32it/s]"
     ]
    },
    {
     "name": "stdout",
     "output_type": "stream",
     "text": [
      "Loading cif file of 5IU4\n",
      "data/mmcif/5IU4.cif\n"
     ]
    },
    {
     "name": "stderr",
     "output_type": "stream",
     "text": [
      "\r",
      "14it [00:05,  2.42it/s]"
     ]
    },
    {
     "name": "stdout",
     "output_type": "stream",
     "text": [
      "Loading cif file of 5W0P\n",
      "data/mmcif/5W0P.cif\n"
     ]
    },
    {
     "name": "stderr",
     "output_type": "stream",
     "text": [
      "\r",
      "15it [00:07,  1.21it/s]"
     ]
    },
    {
     "name": "stdout",
     "output_type": "stream",
     "text": [
      "Loading cif file of 6TQ6\n",
      "data/mmcif/6TQ6.cif\n"
     ]
    },
    {
     "name": "stderr",
     "output_type": "stream",
     "text": [
      "\r",
      "16it [00:07,  1.38it/s]"
     ]
    },
    {
     "name": "stdout",
     "output_type": "stream",
     "text": [
      "Loading cif file of 6XBK\n",
      "data/mmcif/6XBK.cif\n"
     ]
    },
    {
     "name": "stderr",
     "output_type": "stream",
     "text": [
      "\r",
      "17it [00:08,  1.35it/s]"
     ]
    },
    {
     "name": "stdout",
     "output_type": "stream",
     "text": [
      "Loading cif file of 5UZ7\n",
      "data/mmcif/5UZ7.cif\n"
     ]
    },
    {
     "name": "stderr",
     "output_type": "stream",
     "text": [
      "\r",
      "18it [00:09,  1.42it/s]"
     ]
    },
    {
     "name": "stdout",
     "output_type": "stream",
     "text": [
      "Loading cif file of 5VRA\n",
      "data/mmcif/5VRA.cif\n"
     ]
    },
    {
     "name": "stderr",
     "output_type": "stream",
     "text": [
      "\r",
      "19it [00:09,  1.49it/s]"
     ]
    },
    {
     "name": "stdout",
     "output_type": "stream",
     "text": [
      "Loading cif file of 3QAK\n",
      "data/mmcif/3QAK.cif\n"
     ]
    },
    {
     "name": "stderr",
     "output_type": "stream",
     "text": [
      "20it [00:10,  1.93it/s]\n"
     ]
    },
    {
     "name": "stdout",
     "output_type": "stream",
     "text": [
      "trying to assign generic nubmers to 4BVN\n",
      "loaded data to assign gen. numbers from data/raw/4BVN.pkl\n",
      "Index(['author_residue_number', 'author_insertion_code', 'residue_number'], dtype='object')\n",
      "Found correct uniprot map: ADRB1_MELGA ADRB1_MELGA\n",
      "trying to assign generic nubmers to 5DSG\n",
      "loaded data to assign gen. numbers from data/raw/5DSG.pkl\n",
      "Index(['author_residue_number', 'author_insertion_code', 'residue_number',\n",
      "       'author_residue_number', 'author_insertion_code', 'residue_number',\n",
      "       'author_residue_number', 'author_insertion_code', 'residue_number'],\n",
      "      dtype='object')\n",
      "Found correct uniprot map: ACM4_HUMAN ACM4_HUMAN\n",
      "Found correct uniprot map: ACM4_HUMAN ACM4_HUMAN\n",
      "trying to assign generic nubmers to 7BR3\n",
      "loaded data to assign gen. numbers from data/raw/7BR3.pkl\n",
      "Index(['author_residue_number', 'author_insertion_code', 'residue_number',\n",
      "       'author_residue_number', 'author_insertion_code', 'residue_number',\n",
      "       'author_residue_number', 'author_insertion_code', 'residue_number'],\n",
      "      dtype='object')\n",
      "Found correct uniprot map: GNRHR_HUMAN GNRHR_HUMAN\n",
      "Found correct uniprot map: GNRHR_HUMAN GNRHR_HUMAN\n",
      "trying to assign generic nubmers to 6ME6\n",
      "loaded data to assign gen. numbers from data/raw/6ME6.pkl\n",
      "Index(['author_residue_number', 'author_insertion_code', 'residue_number',\n",
      "       'author_residue_number', 'author_insertion_code', 'residue_number',\n",
      "       'author_residue_number', 'author_insertion_code', 'residue_number',\n",
      "       'author_residue_number', 'author_insertion_code', 'residue_number'],\n",
      "      dtype='object')\n",
      "Found correct uniprot map: MTR1B_HUMAN MTR1B_HUMAN\n",
      "Found correct uniprot map: MTR1B_HUMAN MTR1B_HUMAN\n",
      "trying to assign generic nubmers to 2YDO\n",
      "loaded data to assign gen. numbers from data/raw/2YDO.pkl\n",
      "Index(['author_residue_number', 'author_insertion_code', 'residue_number'], dtype='object')\n",
      "Found correct uniprot map: AA2AR_HUMAN AA2AR_HUMAN\n",
      "trying to assign generic nubmers to 2RH1\n",
      "loaded data to assign gen. numbers from data/raw/2RH1.pkl\n",
      "Index(['author_residue_number', 'author_insertion_code', 'residue_number',\n",
      "       'author_residue_number', 'author_insertion_code', 'residue_number',\n",
      "       'author_residue_number', 'author_insertion_code', 'residue_number'],\n",
      "      dtype='object')\n",
      "Found correct uniprot map: ADRB2_HUMAN ADRB2_HUMAN\n",
      "Found correct uniprot map: ADRB2_HUMAN ADRB2_HUMAN\n",
      "trying to assign generic nubmers to 6KNM\n",
      "loaded data to assign gen. numbers from data/raw/6KNM.pkl\n",
      "Index(['author_residue_number', 'author_insertion_code', 'residue_number',\n",
      "       'author_residue_number', 'author_insertion_code', 'residue_number',\n",
      "       'author_residue_number', 'author_insertion_code', 'residue_number'],\n",
      "      dtype='object')\n",
      "Found correct uniprot map: APJ_HUMAN APJ_HUMAN\n",
      "Found correct uniprot map: APJ_HUMAN APJ_HUMAN\n",
      "trying to assign generic nubmers to 6OIJ\n",
      "loaded data to assign gen. numbers from data/raw/6OIJ.pkl\n",
      "Index(['author_residue_number', 'author_insertion_code', 'residue_number'], dtype='object')\n",
      "Found correct uniprot map: ACM1_HUMAN ACM1_HUMAN\n",
      "trying to assign generic nubmers to 5EN0\n",
      "loaded data to assign gen. numbers from data/raw/5EN0.pkl\n",
      "Index(['author_residue_number', 'author_insertion_code', 'residue_number'], dtype='object')\n",
      "Found correct uniprot map: OPSD_BOVIN OPSD_BOVIN\n",
      "trying to assign generic nubmers to 7D77\n",
      "loaded data to assign gen. numbers from data/raw/7D77.pkl\n",
      "Index([], dtype='object')\n",
      "trying to assign generic nubmers to 7D7M\n",
      "loaded data to assign gen. numbers from data/raw/7D7M.pkl\n",
      "Index(['author_residue_number', 'author_insertion_code', 'residue_number'], dtype='object')\n",
      "Found correct uniprot map: PE2R4_HUMAN PE2R4_HUMAN\n",
      "trying to assign generic nubmers to 3REY\n",
      "loaded data to assign gen. numbers from data/raw/3REY.pkl\n",
      "Index(['author_residue_number', 'author_insertion_code', 'residue_number'], dtype='object')\n",
      "Found correct uniprot map: AA2AR_HUMAN AA2AR_HUMAN\n",
      "trying to assign generic nubmers to 4QKX\n",
      "loaded data to assign gen. numbers from data/raw/4QKX.pkl\n",
      "Index(['author_residue_number', 'author_insertion_code', 'residue_number',\n",
      "       'author_residue_number', 'author_insertion_code', 'residue_number'],\n",
      "      dtype='object')\n",
      "Found correct uniprot map: ADRB2_HUMAN ADRB2_HUMAN\n",
      "trying to assign generic nubmers to 5IU4\n",
      "loaded data to assign gen. numbers from data/raw/5IU4.pkl\n",
      "Index(['author_residue_number', 'author_insertion_code', 'residue_number',\n",
      "       'author_residue_number', 'author_insertion_code', 'residue_number',\n",
      "       'author_residue_number', 'author_insertion_code', 'residue_number'],\n",
      "      dtype='object')\n",
      "Found correct uniprot map: AA2AR_HUMAN AA2AR_HUMAN\n",
      "Found correct uniprot map: AA2AR_HUMAN AA2AR_HUMAN\n",
      "trying to assign generic nubmers to 5W0P\n",
      "loaded data to assign gen. numbers from data/raw/5W0P.pkl\n",
      "Index(['author_residue_number', 'author_insertion_code', 'residue_number',\n",
      "       'author_residue_number', 'author_insertion_code', 'residue_number',\n",
      "       'author_residue_number', 'author_insertion_code', 'residue_number'],\n",
      "      dtype='object')\n",
      "Found correct uniprot map: OPSD_HUMAN OPSD_HUMAN\n",
      "trying to assign generic nubmers to 6TQ6\n",
      "loaded data to assign gen. numbers from data/raw/6TQ6.pkl\n",
      "Index(['author_residue_number', 'author_insertion_code', 'residue_number'], dtype='object')\n",
      "Found correct uniprot map: OX1R_HUMAN OX1R_HUMAN\n",
      "trying to assign generic nubmers to 6XBK\n",
      "loaded data to assign gen. numbers from data/raw/6XBK.pkl\n",
      "Index(['author_residue_number', 'author_insertion_code', 'residue_number'], dtype='object')\n",
      "Found correct uniprot map: SMO_HUMAN SMO_HUMAN\n",
      "trying to assign generic nubmers to 5UZ7\n",
      "loaded data to assign gen. numbers from data/raw/5UZ7.pkl\n",
      "Index(['author_residue_number', 'author_insertion_code', 'residue_number'], dtype='object')\n",
      "Found correct uniprot map: CALCR_HUMAN CALCR_HUMAN\n",
      "trying to assign generic nubmers to 5VRA\n",
      "loaded data to assign gen. numbers from data/raw/5VRA.pkl\n",
      "Index(['author_residue_number', 'author_insertion_code', 'residue_number',\n",
      "       'author_residue_number', 'author_insertion_code', 'residue_number',\n",
      "       'author_residue_number', 'author_insertion_code', 'residue_number'],\n",
      "      dtype='object')\n",
      "Found correct uniprot map: AA2AR_HUMAN AA2AR_HUMAN\n",
      "Found correct uniprot map: AA2AR_HUMAN AA2AR_HUMAN\n",
      "trying to assign generic nubmers to 3QAK\n",
      "loaded data to assign gen. numbers from data/raw/3QAK.pkl\n",
      "Index(['author_residue_number', 'author_insertion_code', 'residue_number',\n",
      "       'author_residue_number', 'author_insertion_code', 'residue_number',\n",
      "       'author_residue_number', 'author_insertion_code', 'residue_number'],\n",
      "      dtype='object')\n",
      "Found correct uniprot map: AA2AR_HUMAN AA2AR_HUMAN\n",
      "Found correct uniprot map: AA2AR_HUMAN AA2AR_HUMAN\n",
      "writing to file: data/processed/6KNM.pkl\n",
      "writing to file: data/processed/7D77.pkl\n",
      "writing to file: data/processed/6XBK.pkl\n",
      "writing to file: data/processed/5UZ7.pkl\n",
      "1\n"
     ]
    },
    {
     "name": "stderr",
     "output_type": "stream",
     "text": [
      "\r",
      "0it [00:00, ?it/s]"
     ]
    },
    {
     "name": "stdout",
     "output_type": "stream",
     "text": [
      "Loading cif file of 6ME8\n",
      "data/mmcif/6ME8.cif\n"
     ]
    },
    {
     "name": "stderr",
     "output_type": "stream",
     "text": [
      "2it [00:00,  3.21it/s]"
     ]
    },
    {
     "name": "stdout",
     "output_type": "stream",
     "text": [
      "Loading cif file of 2YDV\n",
      "data/mmcif/2YDV.cif\n"
     ]
    },
    {
     "name": "stderr",
     "output_type": "stream",
     "text": [
      "\r",
      "3it [00:00,  3.44it/s]"
     ]
    },
    {
     "name": "stdout",
     "output_type": "stream",
     "text": [
      "Loading cif file of 4YAY\n",
      "data/mmcif/4YAY.cif\n",
      "Loading cif file of 4S0V\n",
      "data/mmcif/4S0V.cif\n"
     ]
    },
    {
     "name": "stderr",
     "output_type": "stream",
     "text": [
      "\r",
      "4it [00:01,  3.32it/s]"
     ]
    },
    {
     "name": "stdout",
     "output_type": "stream",
     "text": [
      "Loading cif file of 6IGL\n",
      "data/mmcif/6IGL.cif\n"
     ]
    },
    {
     "name": "stderr",
     "output_type": "stream",
     "text": [
      "6it [00:01,  3.36it/s]"
     ]
    },
    {
     "name": "stdout",
     "output_type": "stream",
     "text": [
      "Loading cif file of 2ZIY\n",
      "data/mmcif/2ZIY.cif\n",
      "Loading cif file of 6KJV\n",
      "data/mmcif/6KJV.cif\n"
     ]
    },
    {
     "name": "stderr",
     "output_type": "stream",
     "text": [
      "\r",
      "7it [00:02,  2.70it/s]"
     ]
    },
    {
     "name": "stdout",
     "output_type": "stream",
     "text": [
      "Loading cif file of 6FFH\n",
      "data/mmcif/6FFH.cif\n"
     ]
    },
    {
     "name": "stderr",
     "output_type": "stream",
     "text": [
      "\r",
      "8it [00:02,  2.85it/s]"
     ]
    },
    {
     "name": "stdout",
     "output_type": "stream",
     "text": [
      "Loading cif file of 7K15\n",
      "data/mmcif/7K15.cif\n"
     ]
    },
    {
     "name": "stderr",
     "output_type": "stream",
     "text": [
      "\r",
      "9it [00:02,  2.92it/s]"
     ]
    },
    {
     "name": "stdout",
     "output_type": "stream",
     "text": [
      "Loading cif file of 5T1A\n",
      "data/mmcif/5T1A.cif\n"
     ]
    },
    {
     "name": "stderr",
     "output_type": "stream",
     "text": [
      "\r",
      "10it [00:03,  2.95it/s]"
     ]
    },
    {
     "name": "stdout",
     "output_type": "stream",
     "text": [
      "Loading cif file of 2PED\n",
      "data/mmcif/2PED.cif\n"
     ]
    },
    {
     "name": "stderr",
     "output_type": "stream",
     "text": [
      "\r",
      "11it [00:03,  2.68it/s]"
     ]
    },
    {
     "name": "stdout",
     "output_type": "stream",
     "text": [
      "Loading cif file of 6AKX\n",
      "data/mmcif/6AKX.cif\n"
     ]
    },
    {
     "name": "stderr",
     "output_type": "stream",
     "text": [
      "\r",
      "12it [00:04,  2.54it/s]"
     ]
    },
    {
     "name": "stdout",
     "output_type": "stream",
     "text": [
      "Loading cif file of 5OLH\n",
      "data/mmcif/5OLH.cif\n"
     ]
    },
    {
     "name": "stderr",
     "output_type": "stream",
     "text": [
      "\r",
      "13it [00:04,  2.67it/s]"
     ]
    },
    {
     "name": "stdout",
     "output_type": "stream",
     "text": [
      "Loading cif file of 6WI9\n",
      "data/mmcif/6WI9.cif\n"
     ]
    },
    {
     "name": "stderr",
     "output_type": "stream",
     "text": [
      "\r",
      "14it [00:05,  2.22it/s]"
     ]
    },
    {
     "name": "stdout",
     "output_type": "stream",
     "text": [
      "Loading cif file of 7CA5\n",
      "data/mmcif/7CA5.cif\n"
     ]
    },
    {
     "name": "stderr",
     "output_type": "stream",
     "text": [
      "\r",
      "15it [00:05,  2.11it/s]"
     ]
    },
    {
     "name": "stdout",
     "output_type": "stream",
     "text": [
      "Loading cif file of 2I35\n",
      "data/mmcif/2I35.cif\n"
     ]
    },
    {
     "name": "stderr",
     "output_type": "stream",
     "text": [
      "\r",
      "16it [00:05,  2.38it/s]"
     ]
    },
    {
     "name": "stdout",
     "output_type": "stream",
     "text": [
      "Loading cif file of 6D9H\n",
      "data/mmcif/6D9H.cif\n"
     ]
    },
    {
     "name": "stderr",
     "output_type": "stream",
     "text": [
      "\r",
      "17it [00:06,  2.17it/s]"
     ]
    },
    {
     "name": "stdout",
     "output_type": "stream",
     "text": [
      "Loading cif file of 6AK3\n",
      "data/mmcif/6AK3.cif\n"
     ]
    },
    {
     "name": "stderr",
     "output_type": "stream",
     "text": [
      "\r",
      "18it [00:06,  2.24it/s]"
     ]
    },
    {
     "name": "stdout",
     "output_type": "stream",
     "text": [
      "Loading cif file of 3PXO\n",
      "data/mmcif/3PXO.cif\n"
     ]
    },
    {
     "name": "stderr",
     "output_type": "stream",
     "text": [
      "\r",
      "19it [00:07,  2.41it/s]"
     ]
    },
    {
     "name": "stdout",
     "output_type": "stream",
     "text": [
      "Loading cif file of 5JQH\n",
      "data/mmcif/5JQH.cif\n"
     ]
    },
    {
     "name": "stderr",
     "output_type": "stream",
     "text": [
      "20it [00:07,  2.52it/s]\n"
     ]
    },
    {
     "name": "stdout",
     "output_type": "stream",
     "text": [
      "trying to assign generic nubmers to 6ME8\n",
      "loaded data to assign gen. numbers from data/raw/6ME8.pkl\n",
      "Index(['author_residue_number', 'author_insertion_code', 'residue_number',\n",
      "       'author_residue_number', 'author_insertion_code', 'residue_number',\n",
      "       'author_residue_number', 'author_insertion_code', 'residue_number',\n",
      "       'author_residue_number', 'author_insertion_code', 'residue_number'],\n",
      "      dtype='object')\n",
      "Found correct uniprot map: MTR1B_HUMAN MTR1B_HUMAN\n",
      "Found correct uniprot map: MTR1B_HUMAN MTR1B_HUMAN\n",
      "trying to assign generic nubmers to 2YDV\n",
      "loaded data to assign gen. numbers from data/raw/2YDV.pkl\n",
      "Index(['author_residue_number', 'author_insertion_code', 'residue_number'], dtype='object')\n",
      "Found correct uniprot map: AA2AR_HUMAN AA2AR_HUMAN\n",
      "trying to assign generic nubmers to 4YAY\n",
      "loaded data to assign gen. numbers from data/raw/4YAY.pkl\n",
      "Index(['author_residue_number', 'author_insertion_code', 'residue_number',\n",
      "       'author_residue_number', 'author_insertion_code', 'residue_number'],\n",
      "      dtype='object')\n",
      "Found correct uniprot map: AGTR1_HUMAN AGTR1_HUMAN\n",
      "trying to assign generic nubmers to 4S0V\n",
      "loaded data to assign gen. numbers from data/raw/4S0V.pkl\n",
      "Index(['author_residue_number', 'author_insertion_code', 'residue_number',\n",
      "       'author_residue_number', 'author_insertion_code', 'residue_number',\n",
      "       'author_residue_number', 'author_insertion_code', 'residue_number'],\n",
      "      dtype='object')\n",
      "Found correct uniprot map: OX2R_HUMAN OX2R_HUMAN\n",
      "Found correct uniprot map: OX2R_HUMAN OX2R_HUMAN\n",
      "trying to assign generic nubmers to 6IGL\n",
      "loaded data to assign gen. numbers from data/raw/6IGL.pkl\n",
      "Index(['author_residue_number', 'author_insertion_code', 'residue_number',\n",
      "       'author_residue_number', 'author_insertion_code', 'residue_number',\n",
      "       'author_residue_number', 'author_insertion_code', 'residue_number'],\n",
      "      dtype='object')\n",
      "Found correct uniprot map: EDNRB_HUMAN EDNRB_HUMAN\n",
      "Found correct uniprot map: EDNRB_HUMAN EDNRB_HUMAN\n",
      "Found correct uniprot map: EDNRB_HUMAN EDNRB_HUMAN\n",
      "trying to assign generic nubmers to 2ZIY\n",
      "loaded data to assign gen. numbers from data/raw/2ZIY.pkl\n",
      "Index(['author_residue_number', 'author_insertion_code', 'residue_number'], dtype='object')\n",
      "Found correct uniprot map: OPSD_TODPA OPSD_TODPA\n",
      "trying to assign generic nubmers to 6KJV\n",
      "loaded data to assign gen. numbers from data/raw/6KJV.pkl\n",
      "Index(['author_residue_number', 'author_insertion_code', 'residue_number',\n",
      "       'author_residue_number', 'author_insertion_code', 'residue_number',\n",
      "       'author_residue_number', 'author_insertion_code', 'residue_number',\n",
      "       'author_residue_number', 'author_insertion_code', 'residue_number'],\n",
      "      dtype='object')\n",
      "Found correct uniprot map: GLP1R_HUMAN GLP1R_HUMAN\n",
      "Found correct uniprot map: GLP1R_HUMAN GLP1R_HUMAN\n",
      "Found correct uniprot map: GLP1R_HUMAN GLP1R_HUMAN\n",
      "trying to assign generic nubmers to 6FFH\n",
      "loaded data to assign gen. numbers from data/raw/6FFH.pkl\n",
      "Index(['author_residue_number', 'author_insertion_code', 'residue_number',\n",
      "       'author_residue_number', 'author_insertion_code', 'residue_number',\n",
      "       'author_residue_number', 'author_insertion_code', 'residue_number'],\n",
      "      dtype='object')\n",
      "Found correct uniprot map: GRM5_HUMAN GRM5_HUMAN\n",
      "Found correct uniprot map: GRM5_HUMAN GRM5_HUMAN\n",
      "trying to assign generic nubmers to 7K15\n",
      "loaded data to assign gen. numbers from data/raw/7K15.pkl\n",
      "Index(['author_residue_number', 'author_insertion_code', 'residue_number',\n",
      "       'author_residue_number', 'author_insertion_code', 'residue_number',\n",
      "       'author_residue_number', 'author_insertion_code', 'residue_number'],\n",
      "      dtype='object')\n",
      "Found correct uniprot map: LT4R1_HUMAN LT4R1_HUMAN\n",
      "Found correct uniprot map: LT4R1_HUMAN LT4R1_HUMAN\n",
      "trying to assign generic nubmers to 5T1A\n",
      "loaded data to assign gen. numbers from data/raw/5T1A.pkl\n",
      "Index(['author_residue_number', 'author_insertion_code', 'residue_number',\n",
      "       'author_residue_number', 'author_insertion_code', 'residue_number',\n",
      "       'author_residue_number', 'author_insertion_code', 'residue_number'],\n",
      "      dtype='object')\n",
      "Found correct uniprot map: CCR2_HUMAN CCR2_HUMAN\n",
      "Found correct uniprot map: CCR2_HUMAN CCR2_HUMAN\n",
      "trying to assign generic nubmers to 2PED\n",
      "loaded data to assign gen. numbers from data/raw/2PED.pkl\n",
      "Index(['author_residue_number', 'author_insertion_code', 'residue_number'], dtype='object')\n",
      "Found correct uniprot map: OPSD_BOVIN OPSD_BOVIN\n",
      "trying to assign generic nubmers to 6AKX\n",
      "loaded data to assign gen. numbers from data/raw/6AKX.pkl\n",
      "Index(['author_residue_number', 'author_insertion_code', 'residue_number',\n",
      "       'author_residue_number', 'author_insertion_code', 'residue_number',\n",
      "       'author_residue_number', 'author_insertion_code', 'residue_number'],\n",
      "      dtype='object')\n",
      "Found correct uniprot map: CCR5_HUMAN CCR5_HUMAN\n",
      "Found correct uniprot map: CCR5_HUMAN CCR5_HUMAN\n",
      "trying to assign generic nubmers to 5OLH\n",
      "loaded data to assign gen. numbers from data/raw/5OLH.pkl\n",
      "Index(['author_residue_number', 'author_insertion_code', 'residue_number',\n",
      "       'author_residue_number', 'author_insertion_code', 'residue_number',\n",
      "       'author_residue_number', 'author_insertion_code', 'residue_number'],\n",
      "      dtype='object')\n",
      "Found correct uniprot map: AA2AR_HUMAN AA2AR_HUMAN\n",
      "Found correct uniprot map: AA2AR_HUMAN AA2AR_HUMAN\n",
      "trying to assign generic nubmers to 6WI9\n",
      "loaded data to assign gen. numbers from data/raw/6WI9.pkl\n",
      "Index(['author_residue_number', 'author_insertion_code', 'residue_number'], dtype='object')\n",
      "Found correct uniprot map: SCTR_HUMAN SCTR_HUMAN\n",
      "trying to assign generic nubmers to 7CA5\n",
      "loaded data to assign gen. numbers from data/raw/7CA5.pkl\n",
      "Index(['author_residue_number', 'author_insertion_code', 'residue_number'], dtype='object')\n",
      "Found correct uniprot map: GABR2_HUMAN GABR2_HUMAN\n",
      "trying to assign generic nubmers to 2I35\n",
      "loaded data to assign gen. numbers from data/raw/2I35.pkl\n",
      "Index(['author_residue_number', 'author_insertion_code', 'residue_number'], dtype='object')\n",
      "Found correct uniprot map: OPSD_BOVIN OPSD_BOVIN\n",
      "trying to assign generic nubmers to 6D9H\n",
      "loaded data to assign gen. numbers from data/raw/6D9H.pkl\n",
      "Index(['author_residue_number', 'author_insertion_code', 'residue_number',\n",
      "       'author_residue_number', 'author_insertion_code', 'residue_number'],\n",
      "      dtype='object')\n",
      "Found correct uniprot map: AA1R_HUMAN AA1R_HUMAN\n",
      "trying to assign generic nubmers to 6AK3\n",
      "loaded data to assign gen. numbers from data/raw/6AK3.pkl\n",
      "Index(['author_residue_number', 'author_insertion_code', 'residue_number',\n",
      "       'author_residue_number', 'author_insertion_code', 'residue_number',\n",
      "       'author_residue_number', 'author_insertion_code', 'residue_number'],\n",
      "      dtype='object')\n",
      "Found correct uniprot map: PE2R3_HUMAN PE2R3_HUMAN\n",
      "trying to assign generic nubmers to 3PXO\n",
      "loaded data to assign gen. numbers from data/raw/3PXO.pkl\n",
      "Index(['author_residue_number', 'author_insertion_code', 'residue_number'], dtype='object')\n",
      "Found correct uniprot map: OPSD_BOVIN OPSD_BOVIN\n",
      "trying to assign generic nubmers to 5JQH\n",
      "loaded data to assign gen. numbers from data/raw/5JQH.pkl\n",
      "Index(['author_residue_number', 'author_insertion_code', 'residue_number',\n",
      "       'author_residue_number', 'author_insertion_code', 'residue_number'],\n",
      "      dtype='object')\n",
      "Found correct uniprot map: ADRB2_HUMAN ADRB2_HUMAN\n",
      "writing to file: data/processed/4S0V.pkl\n",
      "writing to file: data/processed/2ZIY.pkl\n",
      "writing to file: data/processed/6FFH.pkl\n",
      "writing to file: data/processed/5OLH.pkl\n",
      "writing to file: data/processed/6AK3.pkl\n",
      "2\n"
     ]
    },
    {
     "name": "stderr",
     "output_type": "stream",
     "text": [
      "\r",
      "0it [00:00, ?it/s]"
     ]
    },
    {
     "name": "stdout",
     "output_type": "stream",
     "text": [
      "Loading cif file of 6WGT\n",
      "data/mmcif/6WGT.cif\n"
     ]
    },
    {
     "name": "stderr",
     "output_type": "stream",
     "text": [
      "\r",
      "1it [00:00,  1.85it/s]"
     ]
    },
    {
     "name": "stdout",
     "output_type": "stream",
     "text": [
      "Loading cif file of 7CFN\n",
      "data/mmcif/7CFN.cif\n"
     ]
    },
    {
     "name": "stderr",
     "output_type": "stream",
     "text": [
      "\r",
      "2it [00:01,  1.81it/s]"
     ]
    },
    {
     "name": "stdout",
     "output_type": "stream",
     "text": [
      "Loading cif file of 6PS0\n",
      "data/mmcif/6PS0.cif\n"
     ]
    },
    {
     "name": "stderr",
     "output_type": "stream",
     "text": [
      "\r",
      "3it [00:01,  2.27it/s]"
     ]
    },
    {
     "name": "stdout",
     "output_type": "stream",
     "text": [
      "Loading cif file of 6IBL\n",
      "data/mmcif/6IBL.cif\n"
     ]
    },
    {
     "name": "stderr",
     "output_type": "stream",
     "text": [
      "\r",
      "4it [00:01,  2.04it/s]"
     ]
    },
    {
     "name": "stdout",
     "output_type": "stream",
     "text": [
      "Loading cif file of 6TP4\n",
      "data/mmcif/6TP4.cif\n"
     ]
    },
    {
     "name": "stderr",
     "output_type": "stream",
     "text": [
      "\r",
      "5it [00:02,  2.16it/s]"
     ]
    },
    {
     "name": "stdout",
     "output_type": "stream",
     "text": [
      "Loading cif file of 6LI3\n",
      "data/mmcif/6LI3.cif\n"
     ]
    },
    {
     "name": "stderr",
     "output_type": "stream",
     "text": [
      "\r",
      "6it [00:02,  1.98it/s]"
     ]
    },
    {
     "name": "stdout",
     "output_type": "stream",
     "text": [
      "Loading cif file of 6NBI\n",
      "data/mmcif/6NBI.cif\n"
     ]
    },
    {
     "name": "stderr",
     "output_type": "stream",
     "text": [
      "\r",
      "7it [00:03,  1.81it/s]"
     ]
    },
    {
     "name": "stdout",
     "output_type": "stream",
     "text": [
      "Loading cif file of 6OSA\n",
      "data/mmcif/6OSA.cif\n"
     ]
    },
    {
     "name": "stderr",
     "output_type": "stream",
     "text": [
      "\r",
      "8it [00:04,  1.80it/s]"
     ]
    },
    {
     "name": "stdout",
     "output_type": "stream",
     "text": [
      "Loading cif file of 6K41\n",
      "data/mmcif/6K41.cif\n"
     ]
    },
    {
     "name": "stderr",
     "output_type": "stream",
     "text": [
      "\r",
      "9it [00:04,  1.73it/s]"
     ]
    },
    {
     "name": "stdout",
     "output_type": "stream",
     "text": [
      "Loading cif file of 6QNO\n",
      "data/mmcif/6QNO.cif\n"
     ]
    },
    {
     "name": "stderr",
     "output_type": "stream",
     "text": [
      "\r",
      "10it [00:05,  1.59it/s]"
     ]
    },
    {
     "name": "stdout",
     "output_type": "stream",
     "text": [
      "Loading cif file of 5ZKQ\n",
      "data/mmcif/5ZKQ.cif\n"
     ]
    },
    {
     "name": "stderr",
     "output_type": "stream",
     "text": [
      "\r",
      "11it [00:06,  1.72it/s]"
     ]
    },
    {
     "name": "stdout",
     "output_type": "stream",
     "text": [
      "Loading cif file of 5IUB\n",
      "data/mmcif/5IUB.cif\n"
     ]
    },
    {
     "name": "stderr",
     "output_type": "stream",
     "text": [
      "\r",
      "12it [00:06,  1.94it/s]"
     ]
    },
    {
     "name": "stdout",
     "output_type": "stream",
     "text": [
      "Loading cif file of 3RZE\n",
      "data/mmcif/3RZE.cif\n"
     ]
    },
    {
     "name": "stderr",
     "output_type": "stream",
     "text": [
      "\r",
      "13it [00:06,  2.11it/s]"
     ]
    },
    {
     "name": "stdout",
     "output_type": "stream",
     "text": [
      "Loading cif file of 7JVQ\n",
      "data/mmcif/7JVQ.cif\n"
     ]
    },
    {
     "name": "stderr",
     "output_type": "stream",
     "text": [
      "\r",
      "14it [00:07,  1.90it/s]"
     ]
    },
    {
     "name": "stdout",
     "output_type": "stream",
     "text": [
      "Loading cif file of 2Y00\n",
      "data/mmcif/2Y00.cif\n"
     ]
    },
    {
     "name": "stderr",
     "output_type": "stream",
     "text": [
      "\r",
      "15it [00:07,  1.98it/s]"
     ]
    },
    {
     "name": "stdout",
     "output_type": "stream",
     "text": [
      "Loading cif file of 6WWZ\n",
      "data/mmcif/6WWZ.cif\n"
     ]
    },
    {
     "name": "stderr",
     "output_type": "stream",
     "text": [
      "\r",
      "16it [00:08,  1.75it/s]"
     ]
    },
    {
     "name": "stdout",
     "output_type": "stream",
     "text": [
      "Loading cif file of 5X93\n",
      "data/mmcif/5X93.cif\n"
     ]
    },
    {
     "name": "stderr",
     "output_type": "stream",
     "text": [
      "\r",
      "17it [00:09,  1.92it/s]"
     ]
    },
    {
     "name": "stdout",
     "output_type": "stream",
     "text": [
      "Loading cif file of 6LW5\n",
      "data/mmcif/6LW5.cif\n"
     ]
    },
    {
     "name": "stderr",
     "output_type": "stream",
     "text": [
      "\r",
      "18it [00:09,  2.09it/s]"
     ]
    },
    {
     "name": "stdout",
     "output_type": "stream",
     "text": [
      "Loading cif file of 6RZ8\n",
      "data/mmcif/6RZ8.cif\n"
     ]
    },
    {
     "name": "stderr",
     "output_type": "stream",
     "text": [
      "\r",
      "19it [00:09,  2.25it/s]"
     ]
    },
    {
     "name": "stdout",
     "output_type": "stream",
     "text": [
      "Loading cif file of 5X7D\n",
      "data/mmcif/5X7D.cif\n"
     ]
    },
    {
     "name": "stderr",
     "output_type": "stream",
     "text": [
      "20it [00:10,  1.97it/s]\n"
     ]
    },
    {
     "name": "stdout",
     "output_type": "stream",
     "text": [
      "trying to assign generic nubmers to 6WGT\n",
      "loaded data to assign gen. numbers from data/raw/6WGT.pkl\n",
      "Index(['author_residue_number', 'author_insertion_code', 'residue_number',\n",
      "       'author_residue_number', 'author_insertion_code', 'residue_number',\n",
      "       'author_residue_number', 'author_insertion_code', 'residue_number'],\n",
      "      dtype='object')\n",
      "Found correct uniprot map: 5HT2A_HUMAN 5HT2A_HUMAN\n",
      "Found correct uniprot map: 5HT2A_HUMAN 5HT2A_HUMAN\n",
      "trying to assign generic nubmers to 7CFN\n",
      "loaded data to assign gen. numbers from data/raw/7CFN.pkl\n",
      "Index(['author_residue_number', 'author_insertion_code', 'residue_number'], dtype='object')\n",
      "Found correct uniprot map: GPBAR_HUMAN GPBAR_HUMAN\n",
      "trying to assign generic nubmers to 6PS0\n",
      "loaded data to assign gen. numbers from data/raw/6PS0.pkl\n",
      "Index(['author_residue_number', 'author_insertion_code', 'residue_number',\n",
      "       'author_residue_number', 'author_insertion_code', 'residue_number',\n",
      "       'author_residue_number', 'author_insertion_code', 'residue_number'],\n",
      "      dtype='object')\n",
      "Found correct uniprot map: ADRB2_HUMAN ADRB2_HUMAN\n",
      "Found correct uniprot map: ADRB2_HUMAN ADRB2_HUMAN\n",
      "trying to assign generic nubmers to 6IBL\n",
      "loaded data to assign gen. numbers from data/raw/6IBL.pkl\n",
      "Index(['author_residue_number', 'author_insertion_code', 'residue_number',\n",
      "       'author_residue_number', 'author_insertion_code', 'residue_number'],\n",
      "      dtype='object')\n",
      "Found correct uniprot map: ADRB1_MELGA ADRB1_MELGA\n",
      "trying to assign generic nubmers to 6TP4\n",
      "loaded data to assign gen. numbers from data/raw/6TP4.pkl\n",
      "Index(['author_residue_number', 'author_insertion_code', 'residue_number'], dtype='object')\n",
      "Found correct uniprot map: OX1R_HUMAN OX1R_HUMAN\n",
      "trying to assign generic nubmers to 6LI3\n",
      "loaded data to assign gen. numbers from data/raw/6LI3.pkl\n",
      "Index(['author_residue_number', 'author_insertion_code', 'residue_number'], dtype='object')\n",
      "Found correct uniprot map: GPR52_HUMAN GPR52_HUMAN\n",
      "trying to assign generic nubmers to 6NBI\n",
      "loaded data to assign gen. numbers from data/raw/6NBI.pkl\n",
      "Index(['author_residue_number', 'author_insertion_code', 'residue_number'], dtype='object')\n",
      "Found correct uniprot map: PTH1R_HUMAN PTH1R_HUMAN\n",
      "trying to assign generic nubmers to 6OSA\n",
      "loaded data to assign gen. numbers from data/raw/6OSA.pkl\n",
      "Index(['author_residue_number', 'author_insertion_code', 'residue_number'], dtype='object')\n",
      "Found correct uniprot map: NTR1_HUMAN NTR1_HUMAN\n",
      "trying to assign generic nubmers to 6K41\n",
      "loaded data to assign gen. numbers from data/raw/6K41.pkl\n",
      "Index(['author_residue_number', 'author_insertion_code', 'residue_number',\n",
      "       'author_residue_number', 'author_insertion_code', 'residue_number'],\n",
      "      dtype='object')\n",
      "Found correct uniprot map: ADA2B_HUMAN ADA2B_HUMAN\n",
      "trying to assign generic nubmers to 6QNO\n",
      "loaded data to assign gen. numbers from data/raw/6QNO.pkl\n",
      "Index(['author_residue_number', 'author_insertion_code', 'residue_number'], dtype='object')\n",
      "Found correct uniprot map: OPSD_BOVIN OPSD_BOVIN\n",
      "trying to assign generic nubmers to 5ZKQ\n",
      "loaded data to assign gen. numbers from data/raw/5ZKQ.pkl\n",
      "Index(['author_residue_number', 'author_insertion_code', 'residue_number',\n",
      "       'author_residue_number', 'author_insertion_code', 'residue_number',\n",
      "       'author_residue_number', 'author_insertion_code', 'residue_number'],\n",
      "      dtype='object')\n",
      "Found correct uniprot map: PTAFR_HUMAN PTAFR_HUMAN\n",
      "Found correct uniprot map: PTAFR_HUMAN PTAFR_HUMAN\n",
      "trying to assign generic nubmers to 5IUB\n",
      "loaded data to assign gen. numbers from data/raw/5IUB.pkl\n",
      "Index(['author_residue_number', 'author_insertion_code', 'residue_number',\n",
      "       'author_residue_number', 'author_insertion_code', 'residue_number',\n",
      "       'author_residue_number', 'author_insertion_code', 'residue_number'],\n",
      "      dtype='object')\n",
      "Found correct uniprot map: AA2AR_HUMAN AA2AR_HUMAN\n",
      "Found correct uniprot map: AA2AR_HUMAN AA2AR_HUMAN\n",
      "trying to assign generic nubmers to 3RZE\n",
      "loaded data to assign gen. numbers from data/raw/3RZE.pkl\n",
      "Index(['author_residue_number', 'author_insertion_code', 'residue_number',\n",
      "       'author_residue_number', 'author_insertion_code', 'residue_number',\n",
      "       'author_residue_number', 'author_insertion_code', 'residue_number',\n",
      "       'author_residue_number', 'author_insertion_code', 'residue_number',\n",
      "       'author_residue_number', 'author_insertion_code', 'residue_number'],\n",
      "      dtype='object')\n",
      "Found correct uniprot map: HRH1_HUMAN HRH1_HUMAN\n",
      "Found correct uniprot map: HRH1_HUMAN HRH1_HUMAN\n",
      "Found correct uniprot map: HRH1_HUMAN HRH1_HUMAN\n",
      "trying to assign generic nubmers to 7JVQ\n",
      "loaded data to assign gen. numbers from data/raw/7JVQ.pkl\n",
      "Index(['author_residue_number', 'author_insertion_code', 'residue_number'], dtype='object')\n",
      "Found correct uniprot map: DRD1_HUMAN DRD1_HUMAN\n",
      "trying to assign generic nubmers to 2Y00\n",
      "loaded data to assign gen. numbers from data/raw/2Y00.pkl\n",
      "Index(['author_residue_number', 'author_insertion_code', 'residue_number'], dtype='object')\n",
      "Found correct uniprot map: ADRB1_MELGA ADRB1_MELGA\n",
      "trying to assign generic nubmers to 6WWZ\n",
      "loaded data to assign gen. numbers from data/raw/6WWZ.pkl\n",
      "Index(['author_residue_number', 'author_insertion_code', 'residue_number',\n",
      "       'author_residue_number', 'author_insertion_code', 'residue_number'],\n",
      "      dtype='object')\n",
      "Found correct uniprot map: CCR6_HUMAN CCR6_HUMAN\n",
      "trying to assign generic nubmers to 5X93\n",
      "loaded data to assign gen. numbers from data/raw/5X93.pkl\n",
      "Index(['author_residue_number', 'author_insertion_code', 'residue_number',\n",
      "       'author_residue_number', 'author_insertion_code', 'residue_number',\n",
      "       'author_residue_number', 'author_insertion_code', 'residue_number'],\n",
      "      dtype='object')\n",
      "Found correct uniprot map: EDNRB_HUMAN EDNRB_HUMAN\n",
      "Found correct uniprot map: EDNRB_HUMAN EDNRB_HUMAN\n",
      "trying to assign generic nubmers to 6LW5\n",
      "loaded data to assign gen. numbers from data/raw/6LW5.pkl\n",
      "Index(['author_residue_number', 'author_insertion_code', 'residue_number',\n",
      "       'author_residue_number', 'author_insertion_code', 'residue_number'],\n",
      "      dtype='object')\n",
      "Found correct uniprot map: FPR2_HUMAN FPR2_HUMAN\n",
      "trying to assign generic nubmers to 6RZ8\n",
      "loaded data to assign gen. numbers from data/raw/6RZ8.pkl\n",
      "Index(['author_residue_number', 'author_insertion_code', 'residue_number',\n",
      "       'author_residue_number', 'author_insertion_code', 'residue_number',\n",
      "       'author_residue_number', 'author_insertion_code', 'residue_number'],\n",
      "      dtype='object')\n",
      "Found correct uniprot map: CLTR2_HUMAN CLTR2_HUMAN\n",
      "Found correct uniprot map: CLTR2_HUMAN CLTR2_HUMAN\n",
      "trying to assign generic nubmers to 5X7D\n",
      "loaded data to assign gen. numbers from data/raw/5X7D.pkl\n",
      "Index(['author_residue_number', 'author_insertion_code', 'residue_number',\n",
      "       'author_residue_number', 'author_insertion_code', 'residue_number',\n",
      "       'author_residue_number', 'author_insertion_code', 'residue_number'],\n",
      "      dtype='object')\n",
      "Found correct uniprot map: ADRB2_HUMAN ADRB2_HUMAN\n",
      "Found correct uniprot map: ADRB2_HUMAN ADRB2_HUMAN\n",
      "writing to file: data/processed/6PS0.pkl\n",
      "writing to file: data/processed/6QNO.pkl\n",
      "writing to file: data/processed/6RZ8.pkl\n",
      "3\n"
     ]
    },
    {
     "name": "stderr",
     "output_type": "stream",
     "text": [
      "1it [00:00,  4.15it/s]"
     ]
    },
    {
     "name": "stdout",
     "output_type": "stream",
     "text": [
      "Loading cif file of 6PEL\n",
      "data/mmcif/6PEL.cif\n",
      "Loading cif file of 6LN2\n",
      "data/mmcif/6LN2.cif\n"
     ]
    },
    {
     "name": "stderr",
     "output_type": "stream",
     "text": [
      "\r",
      "2it [00:00,  2.63it/s]"
     ]
    },
    {
     "name": "stdout",
     "output_type": "stream",
     "text": [
      "Loading cif file of 6OT0\n",
      "data/mmcif/6OT0.cif\n"
     ]
    },
    {
     "name": "stderr",
     "output_type": "stream",
     "text": [
      "\r",
      "3it [00:01,  1.89it/s]"
     ]
    },
    {
     "name": "stdout",
     "output_type": "stream",
     "text": [
      "Loading cif file of 7BZ2\n",
      "data/mmcif/7BZ2.cif\n"
     ]
    },
    {
     "name": "stderr",
     "output_type": "stream",
     "text": [
      "\r",
      "4it [00:01,  1.89it/s]"
     ]
    },
    {
     "name": "stdout",
     "output_type": "stream",
     "text": [
      "Loading cif file of 4LDE\n",
      "data/mmcif/4LDE.cif\n"
     ]
    },
    {
     "name": "stderr",
     "output_type": "stream",
     "text": [
      "\r",
      "5it [00:02,  2.10it/s]"
     ]
    },
    {
     "name": "stdout",
     "output_type": "stream",
     "text": [
      "Loading cif file of 6MEO\n",
      "data/mmcif/6MEO.cif\n"
     ]
    },
    {
     "name": "stderr",
     "output_type": "stream",
     "text": [
      "\r",
      "6it [00:02,  2.00it/s]"
     ]
    },
    {
     "name": "stdout",
     "output_type": "stream",
     "text": [
      "Loading cif file of 2G87\n",
      "data/mmcif/2G87.cif\n"
     ]
    },
    {
     "name": "stderr",
     "output_type": "stream",
     "text": [
      "\r",
      "7it [00:03,  2.06it/s]"
     ]
    },
    {
     "name": "stdout",
     "output_type": "stream",
     "text": [
      "Loading cif file of 4Z34\n",
      "data/mmcif/4Z34.cif\n"
     ]
    },
    {
     "name": "stderr",
     "output_type": "stream",
     "text": [
      "\r",
      "8it [00:03,  2.33it/s]"
     ]
    },
    {
     "name": "stdout",
     "output_type": "stream",
     "text": [
      "Loading cif file of 6WHC\n",
      "data/mmcif/6WHC.cif\n"
     ]
    },
    {
     "name": "stderr",
     "output_type": "stream",
     "text": [
      "\r",
      "9it [00:04,  2.03it/s]"
     ]
    },
    {
     "name": "stdout",
     "output_type": "stream",
     "text": [
      "Loading cif file of 2Z73\n",
      "data/mmcif/2Z73.cif\n"
     ]
    },
    {
     "name": "stderr",
     "output_type": "stream",
     "text": [
      "\r",
      "10it [00:04,  2.05it/s]"
     ]
    },
    {
     "name": "stdout",
     "output_type": "stream",
     "text": [
      "Loading cif file of 2HPY\n",
      "data/mmcif/2HPY.cif\n"
     ]
    },
    {
     "name": "stderr",
     "output_type": "stream",
     "text": [
      "\r",
      "11it [00:05,  2.07it/s]"
     ]
    },
    {
     "name": "stdout",
     "output_type": "stream",
     "text": [
      "Loading cif file of 6C1R\n",
      "data/mmcif/6C1R.cif\n"
     ]
    },
    {
     "name": "stderr",
     "output_type": "stream",
     "text": [
      "\r",
      "12it [00:05,  2.29it/s]"
     ]
    },
    {
     "name": "stdout",
     "output_type": "stream",
     "text": [
      "Loading cif file of 7CKY\n",
      "data/mmcif/7CKY.cif\n"
     ]
    },
    {
     "name": "stderr",
     "output_type": "stream",
     "text": [
      "\r",
      "13it [00:06,  2.02it/s]"
     ]
    },
    {
     "name": "stdout",
     "output_type": "stream",
     "text": [
      "Loading cif file of 6UUN\n",
      "data/mmcif/6UUN.cif\n"
     ]
    },
    {
     "name": "stderr",
     "output_type": "stream",
     "text": [
      "\r",
      "14it [00:06,  1.82it/s]"
     ]
    },
    {
     "name": "stdout",
     "output_type": "stream",
     "text": [
      "Loading cif file of 7CKX\n",
      "data/mmcif/7CKX.cif\n"
     ]
    },
    {
     "name": "stderr",
     "output_type": "stream",
     "text": [
      "\r",
      "15it [00:07,  1.72it/s]"
     ]
    },
    {
     "name": "stdout",
     "output_type": "stream",
     "text": [
      "Loading cif file of 6LMK\n",
      "data/mmcif/6LMK.cif\n"
     ]
    },
    {
     "name": "stderr",
     "output_type": "stream",
     "text": [
      "\r",
      "16it [00:08,  1.61it/s]"
     ]
    },
    {
     "name": "stdout",
     "output_type": "stream",
     "text": [
      "Loading cif file of 5IU7\n",
      "data/mmcif/5IU7.cif\n"
     ]
    },
    {
     "name": "stderr",
     "output_type": "stream",
     "text": [
      "\r",
      "17it [00:08,  1.79it/s]"
     ]
    },
    {
     "name": "stdout",
     "output_type": "stream",
     "text": [
      "Loading cif file of 4GPO\n",
      "data/mmcif/4GPO.cif\n"
     ]
    },
    {
     "name": "stderr",
     "output_type": "stream",
     "text": [
      "\r",
      "18it [00:09,  1.91it/s]"
     ]
    },
    {
     "name": "stdout",
     "output_type": "stream",
     "text": [
      "Loading cif file of 1f88\n",
      "data/mmcif/1f88.cif\n"
     ]
    },
    {
     "name": "stderr",
     "output_type": "stream",
     "text": [
      "\r",
      "19it [00:09,  1.95it/s]"
     ]
    },
    {
     "name": "stdout",
     "output_type": "stream",
     "text": [
      "Loading cif file of 4BUO\n",
      "data/mmcif/4BUO.cif\n"
     ]
    },
    {
     "name": "stderr",
     "output_type": "stream",
     "text": [
      "20it [00:10,  1.99it/s]\n"
     ]
    },
    {
     "name": "stdout",
     "output_type": "stream",
     "text": [
      "trying to assign generic nubmers to 6PEL\n",
      "loaded data to assign gen. numbers from data/raw/6PEL.pkl\n",
      "Index(['author_residue_number', 'author_insertion_code', 'residue_number'], dtype='object')\n",
      "Found correct uniprot map: OPSD_BOVIN OPSD_BOVIN\n",
      "trying to assign generic nubmers to 6LN2\n",
      "loaded data to assign gen. numbers from data/raw/6LN2.pkl\n",
      "Index(['author_residue_number', 'author_insertion_code', 'residue_number',\n",
      "       'author_residue_number', 'author_insertion_code', 'residue_number',\n",
      "       'author_residue_number', 'author_insertion_code', 'residue_number'],\n",
      "      dtype='object')\n",
      "Found correct uniprot map: GLP1R_HUMAN GLP1R_HUMAN\n",
      "Found correct uniprot map: GLP1R_HUMAN GLP1R_HUMAN\n",
      "trying to assign generic nubmers to 6OT0\n",
      "loaded data to assign gen. numbers from data/raw/6OT0.pkl\n",
      "Index(['author_residue_number', 'author_insertion_code', 'residue_number'], dtype='object')\n",
      "Found correct uniprot map: SMO_HUMAN SMO_HUMAN\n",
      "trying to assign generic nubmers to 7BZ2\n",
      "loaded data to assign gen. numbers from data/raw/7BZ2.pkl\n",
      "Index(['author_residue_number', 'author_insertion_code', 'residue_number'], dtype='object')\n",
      "Found correct uniprot map: ADRB2_HUMAN ADRB2_HUMAN\n",
      "trying to assign generic nubmers to 4LDE\n",
      "loaded data to assign gen. numbers from data/raw/4LDE.pkl\n",
      "Index(['author_residue_number', 'author_insertion_code', 'residue_number',\n",
      "       'author_residue_number', 'author_insertion_code', 'residue_number'],\n",
      "      dtype='object')\n",
      "Found correct uniprot map: ADRB2_HUMAN ADRB2_HUMAN\n",
      "trying to assign generic nubmers to 6MEO\n",
      "loaded data to assign gen. numbers from data/raw/6MEO.pkl\n",
      "Index(['author_residue_number', 'author_insertion_code', 'residue_number'], dtype='object')\n",
      "Found correct uniprot map: CCR5_HUMAN CCR5_HUMAN\n",
      "trying to assign generic nubmers to 2G87\n",
      "loaded data to assign gen. numbers from data/raw/2G87.pkl\n",
      "Index(['author_residue_number', 'author_insertion_code', 'residue_number'], dtype='object')\n",
      "Found correct uniprot map: OPSD_BOVIN OPSD_BOVIN\n",
      "trying to assign generic nubmers to 4Z34\n",
      "loaded data to assign gen. numbers from data/raw/4Z34.pkl\n",
      "Index(['author_residue_number', 'author_insertion_code', 'residue_number',\n",
      "       'author_residue_number', 'author_insertion_code', 'residue_number',\n",
      "       'author_residue_number', 'author_insertion_code', 'residue_number',\n",
      "       'author_residue_number', 'author_insertion_code', 'residue_number'],\n",
      "      dtype='object')\n",
      "Found correct uniprot map: LPAR1_HUMAN LPAR1_HUMAN\n",
      "Found correct uniprot map: LPAR1_HUMAN LPAR1_HUMAN\n",
      "trying to assign generic nubmers to 6WHC\n",
      "loaded data to assign gen. numbers from data/raw/6WHC.pkl\n",
      "Index(['author_residue_number', 'author_insertion_code', 'residue_number'], dtype='object')\n",
      "Found correct uniprot map: GLR_HUMAN GLR_HUMAN\n",
      "trying to assign generic nubmers to 2Z73\n",
      "loaded data to assign gen. numbers from data/raw/2Z73.pkl\n",
      "Index(['author_residue_number', 'author_insertion_code', 'residue_number'], dtype='object')\n",
      "Found correct uniprot map: OPSD_TODPA OPSD_TODPA\n",
      "trying to assign generic nubmers to 2HPY\n",
      "loaded data to assign gen. numbers from data/raw/2HPY.pkl\n",
      "Index(['author_residue_number', 'author_insertion_code', 'residue_number'], dtype='object')\n",
      "Found correct uniprot map: OPSD_BOVIN OPSD_BOVIN\n",
      "trying to assign generic nubmers to 6C1R\n",
      "loaded data to assign gen. numbers from data/raw/6C1R.pkl\n",
      "Index(['author_residue_number', 'author_insertion_code', 'residue_number',\n",
      "       'author_residue_number', 'author_insertion_code', 'residue_number'],\n",
      "      dtype='object')\n",
      "Found correct uniprot map: C5AR1_HUMAN C5AR1_HUMAN\n",
      "trying to assign generic nubmers to 7CKY\n",
      "loaded data to assign gen. numbers from data/raw/7CKY.pkl\n",
      "Index(['author_residue_number', 'author_insertion_code', 'residue_number'], dtype='object')\n",
      "Found correct uniprot map: DRD1_HUMAN DRD1_HUMAN\n",
      "trying to assign generic nubmers to 6UUN\n",
      "loaded data to assign gen. numbers from data/raw/6UUN.pkl\n",
      "Index(['author_residue_number', 'author_insertion_code', 'residue_number'], dtype='object')\n",
      "Found correct uniprot map: CALRL_HUMAN CALRL_HUMAN\n",
      "trying to assign generic nubmers to 7CKX\n",
      "loaded data to assign gen. numbers from data/raw/7CKX.pkl\n",
      "Index(['author_residue_number', 'author_insertion_code', 'residue_number'], dtype='object')\n",
      "Found correct uniprot map: DRD1_HUMAN DRD1_HUMAN\n",
      "trying to assign generic nubmers to 6LMK\n",
      "loaded data to assign gen. numbers from data/raw/6LMK.pkl\n",
      "Index(['author_residue_number', 'author_insertion_code', 'residue_number'], dtype='object')\n",
      "Found correct uniprot map: GLR_HUMAN GLR_HUMAN\n",
      "trying to assign generic nubmers to 5IU7\n",
      "loaded data to assign gen. numbers from data/raw/5IU7.pkl\n",
      "Index(['author_residue_number', 'author_insertion_code', 'residue_number',\n",
      "       'author_residue_number', 'author_insertion_code', 'residue_number',\n",
      "       'author_residue_number', 'author_insertion_code', 'residue_number'],\n",
      "      dtype='object')\n",
      "Found correct uniprot map: AA2AR_HUMAN AA2AR_HUMAN\n",
      "Found correct uniprot map: AA2AR_HUMAN AA2AR_HUMAN\n",
      "trying to assign generic nubmers to 4GPO\n",
      "loaded data to assign gen. numbers from data/raw/4GPO.pkl\n",
      "Index(['author_residue_number', 'author_insertion_code', 'residue_number'], dtype='object')\n",
      "Found correct uniprot map: ADRB1_MELGA ADRB1_MELGA\n",
      "trying to assign generic nubmers to 1f88\n",
      "loaded data to assign gen. numbers from data/raw/1f88.pkl\n",
      "Index(['author_residue_number', 'author_insertion_code', 'residue_number'], dtype='object')\n",
      "Found correct uniprot map: OPSD_BOVIN OPSD_BOVIN\n",
      "trying to assign generic nubmers to 4BUO\n",
      "loaded data to assign gen. numbers from data/raw/4BUO.pkl\n",
      "Index(['author_residue_number', 'author_insertion_code', 'residue_number'], dtype='object')\n",
      "Found correct uniprot map: NTR1_RAT NTR1_RAT\n",
      "writing to file: data/processed/6LN2.pkl\n",
      "writing to file: data/processed/6OT0.pkl\n",
      "writing to file: data/processed/6C1R.pkl\n",
      "writing to file: data/processed/7CKY.pkl\n",
      "writing to file: data/processed/6UUN.pkl\n",
      "4\n"
     ]
    },
    {
     "name": "stderr",
     "output_type": "stream",
     "text": [
      "\r",
      "0it [00:00, ?it/s]"
     ]
    },
    {
     "name": "stdout",
     "output_type": "stream",
     "text": [
      "Loading cif file of 4GRV\n",
      "data/mmcif/4GRV.cif\n"
     ]
    },
    {
     "name": "stderr",
     "output_type": "stream",
     "text": [
      "\r",
      "1it [00:00,  3.53it/s]"
     ]
    },
    {
     "name": "stdout",
     "output_type": "stream",
     "text": [
      "Loading cif file of 6N51\n",
      "data/mmcif/6N51.cif\n"
     ]
    },
    {
     "name": "stderr",
     "output_type": "stream",
     "text": [
      "3it [00:01,  1.87it/s]"
     ]
    },
    {
     "name": "stdout",
     "output_type": "stream",
     "text": [
      "Loading cif file of 4MQT\n",
      "data/mmcif/4MQT.cif\n"
     ]
    },
    {
     "name": "stderr",
     "output_type": "stream",
     "text": [
      "\r",
      "4it [00:01,  2.30it/s]"
     ]
    },
    {
     "name": "stdout",
     "output_type": "stream",
     "text": [
      "Loading cif file of 5ZKB\n",
      "data/mmcif/5ZKB.cif\n",
      "Loading cif file of 2Y03\n",
      "data/mmcif/2Y03.cif\n"
     ]
    },
    {
     "name": "stderr",
     "output_type": "stream",
     "text": [
      "\r",
      "5it [00:02,  2.42it/s]"
     ]
    },
    {
     "name": "stdout",
     "output_type": "stream",
     "text": [
      "Loading cif file of 4AMI\n",
      "data/mmcif/4AMI.cif\n"
     ]
    },
    {
     "name": "stderr",
     "output_type": "stream",
     "text": [
      "\r",
      "6it [00:02,  2.51it/s]"
     ]
    },
    {
     "name": "stdout",
     "output_type": "stream",
     "text": [
      "Loading cif file of 4RWS\n",
      "data/mmcif/4RWS.cif\n"
     ]
    },
    {
     "name": "stderr",
     "output_type": "stream",
     "text": [
      "\r",
      "7it [00:02,  2.61it/s]"
     ]
    },
    {
     "name": "stdout",
     "output_type": "stream",
     "text": [
      "Loading cif file of 7CUM\n",
      "data/mmcif/7CUM.cif\n"
     ]
    },
    {
     "name": "stderr",
     "output_type": "stream",
     "text": [
      "9it [00:04,  1.71it/s]"
     ]
    },
    {
     "name": "stdout",
     "output_type": "stream",
     "text": [
      "Loading cif file of 4BEZ\n",
      "data/mmcif/4BEZ.cif\n",
      "Loading cif file of 4OO9\n",
      "data/mmcif/4OO9.cif\n"
     ]
    },
    {
     "name": "stderr",
     "output_type": "stream",
     "text": [
      "\r",
      "10it [00:05,  1.97it/s]"
     ]
    },
    {
     "name": "stdout",
     "output_type": "stream",
     "text": [
      "Loading cif file of 5WIU\n",
      "data/mmcif/5WIU.cif\n"
     ]
    },
    {
     "name": "stderr",
     "output_type": "stream",
     "text": [
      "\r",
      "11it [00:05,  2.22it/s]"
     ]
    },
    {
     "name": "stdout",
     "output_type": "stream",
     "text": [
      "Loading cif file of 6PH7\n",
      "data/mmcif/6PH7.cif\n"
     ]
    },
    {
     "name": "stderr",
     "output_type": "stream",
     "text": [
      "\r",
      "12it [00:05,  2.46it/s]"
     ]
    },
    {
     "name": "stdout",
     "output_type": "stream",
     "text": [
      "Loading cif file of 7DFP\n",
      "data/mmcif/7DFP.cif\n"
     ]
    },
    {
     "name": "stderr",
     "output_type": "stream",
     "text": [
      "\r",
      "13it [00:06,  2.29it/s]"
     ]
    },
    {
     "name": "stdout",
     "output_type": "stream",
     "text": [
      "Loading cif file of 3C9L\n",
      "data/mmcif/3C9L.cif\n"
     ]
    },
    {
     "name": "stderr",
     "output_type": "stream",
     "text": [
      "\r",
      "14it [00:06,  2.50it/s]"
     ]
    },
    {
     "name": "stdout",
     "output_type": "stream",
     "text": [
      "Loading cif file of 7JVP\n",
      "data/mmcif/7JVP.cif\n"
     ]
    },
    {
     "name": "stderr",
     "output_type": "stream",
     "text": [
      "\r",
      "15it [00:07,  2.12it/s]"
     ]
    },
    {
     "name": "stdout",
     "output_type": "stream",
     "text": [
      "Loading cif file of 6WJC\n",
      "data/mmcif/6WJC.cif\n"
     ]
    },
    {
     "name": "stderr",
     "output_type": "stream",
     "text": [
      "\r",
      "16it [00:07,  2.18it/s]"
     ]
    },
    {
     "name": "stdout",
     "output_type": "stream",
     "text": [
      "Loading cif file of 5NM4\n",
      "data/mmcif/5NM4.cif\n"
     ]
    },
    {
     "name": "stderr",
     "output_type": "stream",
     "text": [
      "\r",
      "17it [00:08,  2.08it/s]"
     ]
    },
    {
     "name": "stdout",
     "output_type": "stream",
     "text": [
      "Loading cif file of 5V56\n",
      "data/mmcif/5V56.cif\n"
     ]
    },
    {
     "name": "stderr",
     "output_type": "stream",
     "text": [
      "\r",
      "18it [00:08,  1.77it/s]"
     ]
    },
    {
     "name": "stdout",
     "output_type": "stream",
     "text": [
      "Loading cif file of 6BQH\n",
      "data/mmcif/6BQH.cif\n"
     ]
    },
    {
     "name": "stderr",
     "output_type": "stream",
     "text": [
      "\r",
      "19it [00:09,  1.99it/s]"
     ]
    },
    {
     "name": "stdout",
     "output_type": "stream",
     "text": [
      "Loading cif file of 5WF6\n",
      "data/mmcif/5WF6.cif\n"
     ]
    },
    {
     "name": "stderr",
     "output_type": "stream",
     "text": [
      "20it [00:09,  2.09it/s]\n"
     ]
    },
    {
     "name": "stdout",
     "output_type": "stream",
     "text": [
      "trying to assign generic nubmers to 4GRV\n",
      "loaded data to assign gen. numbers from data/raw/4GRV.pkl\n",
      "Index(['author_residue_number', 'author_insertion_code', 'residue_number',\n",
      "       'author_residue_number', 'author_insertion_code', 'residue_number',\n",
      "       'author_residue_number', 'author_insertion_code', 'residue_number'],\n",
      "      dtype='object')\n",
      "Found correct uniprot map: NTR1_RAT NTR1_RAT\n",
      "Found correct uniprot map: NTR1_RAT NTR1_RAT\n",
      "trying to assign generic nubmers to 6N51\n",
      "loaded data to assign gen. numbers from data/raw/6N51.pkl\n",
      "Index(['author_residue_number', 'author_insertion_code', 'residue_number'], dtype='object')\n",
      "Found correct uniprot map: GRM5_HUMAN GRM5_HUMAN\n",
      "trying to assign generic nubmers to 4MQT\n",
      "loaded data to assign gen. numbers from data/raw/4MQT.pkl\n",
      "Index(['author_residue_number', 'author_insertion_code', 'residue_number',\n",
      "       'author_residue_number', 'author_insertion_code', 'residue_number'],\n",
      "      dtype='object')\n",
      "Found correct uniprot map: ACM2_HUMAN ACM2_HUMAN\n",
      "Found correct uniprot map: ACM2_HUMAN ACM2_HUMAN\n",
      "trying to assign generic nubmers to 5ZKB\n",
      "loaded data to assign gen. numbers from data/raw/5ZKB.pkl\n",
      "Index(['author_residue_number', 'author_insertion_code', 'residue_number',\n",
      "       'author_residue_number', 'author_insertion_code', 'residue_number',\n",
      "       'author_residue_number', 'author_insertion_code', 'residue_number'],\n",
      "      dtype='object')\n",
      "Found correct uniprot map: ACM2_HUMAN ACM2_HUMAN\n",
      "Found correct uniprot map: ACM2_HUMAN ACM2_HUMAN\n",
      "trying to assign generic nubmers to 2Y03\n",
      "loaded data to assign gen. numbers from data/raw/2Y03.pkl\n",
      "Index(['author_residue_number', 'author_insertion_code', 'residue_number'], dtype='object')\n",
      "Found correct uniprot map: ADRB1_MELGA ADRB1_MELGA\n",
      "trying to assign generic nubmers to 4AMI\n",
      "loaded data to assign gen. numbers from data/raw/4AMI.pkl\n",
      "Index(['author_residue_number', 'author_insertion_code', 'residue_number'], dtype='object')\n",
      "Found correct uniprot map: ADRB1_MELGA ADRB1_MELGA\n",
      "trying to assign generic nubmers to 4RWS\n",
      "loaded data to assign gen. numbers from data/raw/4RWS.pkl\n",
      "Index(['author_residue_number', 'author_insertion_code', 'residue_number',\n",
      "       'author_residue_number', 'author_insertion_code', 'residue_number',\n",
      "       'author_residue_number', 'author_insertion_code', 'residue_number'],\n",
      "      dtype='object')\n",
      "Found correct uniprot map: CXCR4_HUMAN CXCR4_HUMAN\n",
      "Found correct uniprot map: CXCR4_HUMAN CXCR4_HUMAN\n",
      "trying to assign generic nubmers to 7CUM\n",
      "loaded data to assign gen. numbers from data/raw/7CUM.pkl\n",
      "Index(['author_residue_number', 'author_insertion_code', 'residue_number'], dtype='object')\n",
      "Found correct uniprot map: GABR2_HUMAN GABR2_HUMAN\n",
      "trying to assign generic nubmers to 4BEZ\n",
      "loaded data to assign gen. numbers from data/raw/4BEZ.pkl\n",
      "Index(['author_residue_number', 'author_insertion_code', 'residue_number'], dtype='object')\n",
      "Found correct uniprot map: OPSD_BOVIN OPSD_BOVIN\n",
      "trying to assign generic nubmers to 4OO9\n",
      "loaded data to assign gen. numbers from data/raw/4OO9.pkl\n",
      "Index(['author_residue_number', 'author_insertion_code', 'residue_number',\n",
      "       'author_residue_number', 'author_insertion_code', 'residue_number',\n",
      "       'author_residue_number', 'author_insertion_code', 'residue_number'],\n",
      "      dtype='object')\n",
      "Found correct uniprot map: GRM5_HUMAN GRM5_HUMAN\n",
      "Found correct uniprot map: GRM5_HUMAN GRM5_HUMAN\n",
      "trying to assign generic nubmers to 5WIU\n",
      "loaded data to assign gen. numbers from data/raw/5WIU.pkl\n",
      "Index(['author_residue_number', 'author_insertion_code', 'residue_number',\n",
      "       'author_residue_number', 'author_insertion_code', 'residue_number',\n",
      "       'author_residue_number', 'author_insertion_code', 'residue_number'],\n",
      "      dtype='object')\n",
      "Found correct uniprot map: DRD4_HUMAN DRD4_HUMAN\n",
      "Found correct uniprot map: DRD4_HUMAN DRD4_HUMAN\n",
      "trying to assign generic nubmers to 6PH7\n",
      "loaded data to assign gen. numbers from data/raw/6PH7.pkl\n",
      "Index(['author_residue_number', 'author_insertion_code', 'residue_number'], dtype='object')\n",
      "Found correct uniprot map: OPSD_BOVIN OPSD_BOVIN\n",
      "trying to assign generic nubmers to 7DFP\n",
      "loaded data to assign gen. numbers from data/raw/7DFP.pkl\n",
      "Index(['author_residue_number', 'author_insertion_code', 'residue_number',\n",
      "       'author_residue_number', 'author_insertion_code', 'residue_number',\n",
      "       'author_residue_number', 'author_insertion_code', 'residue_number',\n",
      "       'author_residue_number', 'author_insertion_code', 'residue_number',\n",
      "       'author_residue_number', 'author_insertion_code', 'residue_number'],\n",
      "      dtype='object')\n",
      "Found correct uniprot map: DRD2_HUMAN DRD2_HUMAN\n",
      "Found correct uniprot map: DRD2_HUMAN DRD2_HUMAN\n",
      "Found correct uniprot map: DRD2_HUMAN DRD2_HUMAN\n",
      "trying to assign generic nubmers to 3C9L\n",
      "loaded data to assign gen. numbers from data/raw/3C9L.pkl\n",
      "Index(['author_residue_number', 'author_insertion_code', 'residue_number'], dtype='object')\n",
      "Found correct uniprot map: OPSD_BOVIN OPSD_BOVIN\n",
      "trying to assign generic nubmers to 7JVP\n",
      "loaded data to assign gen. numbers from data/raw/7JVP.pkl\n",
      "Index(['author_residue_number', 'author_insertion_code', 'residue_number'], dtype='object')\n",
      "Found correct uniprot map: DRD1_HUMAN DRD1_HUMAN\n",
      "trying to assign generic nubmers to 6WJC\n",
      "loaded data to assign gen. numbers from data/raw/6WJC.pkl\n",
      "Index(['author_residue_number', 'author_insertion_code', 'residue_number',\n",
      "       'author_residue_number', 'author_insertion_code', 'residue_number',\n",
      "       'author_residue_number', 'author_insertion_code', 'residue_number'],\n",
      "      dtype='object')\n",
      "Found correct uniprot map: ACM1_HUMAN ACM1_HUMAN\n",
      "Found correct uniprot map: ACM1_HUMAN ACM1_HUMAN\n",
      "trying to assign generic nubmers to 5NM4\n",
      "loaded data to assign gen. numbers from data/raw/5NM4.pkl\n",
      "Index(['author_residue_number', 'author_insertion_code', 'residue_number',\n",
      "       'author_residue_number', 'author_insertion_code', 'residue_number',\n",
      "       'author_residue_number', 'author_insertion_code', 'residue_number'],\n",
      "      dtype='object')\n",
      "Found correct uniprot map: AA2AR_HUMAN AA2AR_HUMAN\n",
      "Found correct uniprot map: AA2AR_HUMAN AA2AR_HUMAN\n",
      "trying to assign generic nubmers to 5V56\n",
      "loaded data to assign gen. numbers from data/raw/5V56.pkl\n",
      "Index(['author_residue_number', 'author_insertion_code', 'residue_number',\n",
      "       'author_residue_number', 'author_insertion_code', 'residue_number',\n",
      "       'author_residue_number', 'author_insertion_code', 'residue_number'],\n",
      "      dtype='object')\n",
      "Found correct uniprot map: SMO_HUMAN SMO_HUMAN\n",
      "Found correct uniprot map: SMO_HUMAN SMO_HUMAN\n",
      "trying to assign generic nubmers to 6BQH\n",
      "loaded data to assign gen. numbers from data/raw/6BQH.pkl\n",
      "Index(['author_residue_number', 'author_insertion_code', 'residue_number',\n",
      "       'author_residue_number', 'author_insertion_code', 'residue_number',\n",
      "       'author_residue_number', 'author_insertion_code', 'residue_number'],\n",
      "      dtype='object')\n",
      "Found correct uniprot map: 5HT2C_HUMAN 5HT2C_HUMAN\n",
      "Found correct uniprot map: 5HT2C_HUMAN 5HT2C_HUMAN\n",
      "trying to assign generic nubmers to 5WF6\n",
      "loaded data to assign gen. numbers from data/raw/5WF6.pkl\n",
      "Index(['author_residue_number', 'author_insertion_code', 'residue_number',\n",
      "       'author_residue_number', 'author_insertion_code', 'residue_number',\n",
      "       'author_residue_number', 'author_insertion_code', 'residue_number'],\n",
      "      dtype='object')\n",
      "Found correct uniprot map: AA2AR_HUMAN AA2AR_HUMAN\n",
      "Found correct uniprot map: AA2AR_HUMAN AA2AR_HUMAN\n",
      "writing to file: data/processed/6N51.pkl\n",
      "writing to file: data/processed/5ZKB.pkl\n",
      "writing to file: data/processed/4OO9.pkl\n",
      "writing to file: data/processed/6WJC.pkl\n",
      "5\n"
     ]
    },
    {
     "name": "stderr",
     "output_type": "stream",
     "text": [
      "\r",
      "0it [00:00, ?it/s]"
     ]
    },
    {
     "name": "stdout",
     "output_type": "stream",
     "text": [
      "Loading cif file of 5MZJ\n",
      "data/mmcif/5MZJ.cif\n"
     ]
    },
    {
     "name": "stderr",
     "output_type": "stream",
     "text": [
      "\r",
      "1it [00:00,  3.36it/s]"
     ]
    },
    {
     "name": "stdout",
     "output_type": "stream",
     "text": [
      "Loading cif file of 7CKW\n",
      "data/mmcif/7CKW.cif\n"
     ]
    },
    {
     "name": "stderr",
     "output_type": "stream",
     "text": [
      "3it [00:01,  2.66it/s]"
     ]
    },
    {
     "name": "stdout",
     "output_type": "stream",
     "text": [
      "Loading cif file of 6J21\n",
      "data/mmcif/6J21.cif\n"
     ]
    },
    {
     "name": "stderr",
     "output_type": "stream",
     "text": [
      "\r",
      "4it [00:01,  3.06it/s]"
     ]
    },
    {
     "name": "stdout",
     "output_type": "stream",
     "text": [
      "Loading cif file of 4A4M\n",
      "data/mmcif/4A4M.cif\n",
      "Loading cif file of 5O9H\n",
      "data/mmcif/5O9H.cif\n"
     ]
    },
    {
     "name": "stderr",
     "output_type": "stream",
     "text": [
      "\r",
      "5it [00:01,  2.82it/s]"
     ]
    },
    {
     "name": "stdout",
     "output_type": "stream",
     "text": [
      "Loading cif file of 2YCZ\n",
      "data/mmcif/2YCZ.cif\n"
     ]
    },
    {
     "name": "stderr",
     "output_type": "stream",
     "text": [
      "\r",
      "6it [00:02,  2.77it/s]"
     ]
    },
    {
     "name": "stdout",
     "output_type": "stream",
     "text": [
      "Loading cif file of 6FUF\n",
      "data/mmcif/6FUF.cif\n"
     ]
    },
    {
     "name": "stderr",
     "output_type": "stream",
     "text": [
      "\r",
      "7it [00:02,  2.83it/s]"
     ]
    },
    {
     "name": "stdout",
     "output_type": "stream",
     "text": [
      "Loading cif file of 6LFM\n",
      "data/mmcif/6LFM.cif\n"
     ]
    },
    {
     "name": "stderr",
     "output_type": "stream",
     "text": [
      "\r",
      "8it [00:03,  2.14it/s]"
     ]
    },
    {
     "name": "stdout",
     "output_type": "stream",
     "text": [
      "Loading cif file of 3V2Y\n",
      "data/mmcif/3V2Y.cif\n"
     ]
    },
    {
     "name": "stderr",
     "output_type": "stream",
     "text": [
      "\r",
      "9it [00:03,  2.35it/s]"
     ]
    },
    {
     "name": "stdout",
     "output_type": "stream",
     "text": [
      "Loading cif file of 6X18\n",
      "data/mmcif/6X18.cif\n"
     ]
    },
    {
     "name": "stderr",
     "output_type": "stream",
     "text": [
      "\r",
      "10it [00:04,  1.93it/s]"
     ]
    },
    {
     "name": "stdout",
     "output_type": "stream",
     "text": [
      "Loading cif file of 7DDZ\n",
      "data/mmcif/7DDZ.cif\n"
     ]
    },
    {
     "name": "stderr",
     "output_type": "stream",
     "text": [
      "\r",
      "11it [00:04,  2.15it/s]"
     ]
    },
    {
     "name": "stdout",
     "output_type": "stream",
     "text": [
      "Loading cif file of 6V9S\n",
      "data/mmcif/6V9S.cif\n"
     ]
    },
    {
     "name": "stderr",
     "output_type": "stream",
     "text": [
      "\r",
      "12it [00:05,  2.27it/s]"
     ]
    },
    {
     "name": "stdout",
     "output_type": "stream",
     "text": [
      "Loading cif file of 5LWE\n",
      "data/mmcif/5LWE.cif\n"
     ]
    },
    {
     "name": "stderr",
     "output_type": "stream",
     "text": [
      "\r",
      "13it [00:05,  2.29it/s]"
     ]
    },
    {
     "name": "stdout",
     "output_type": "stream",
     "text": [
      "Loading cif file of 6UUS\n",
      "data/mmcif/6UUS.cif\n"
     ]
    },
    {
     "name": "stderr",
     "output_type": "stream",
     "text": [
      "\r",
      "14it [00:06,  1.96it/s]"
     ]
    },
    {
     "name": "stdout",
     "output_type": "stream",
     "text": [
      "Loading cif file of 5WS3\n",
      "data/mmcif/5WS3.cif\n"
     ]
    },
    {
     "name": "stderr",
     "output_type": "stream",
     "text": [
      "\r",
      "15it [00:06,  2.08it/s]"
     ]
    },
    {
     "name": "stdout",
     "output_type": "stream",
     "text": [
      "Loading cif file of 3NY8\n",
      "data/mmcif/3NY8.cif\n"
     ]
    },
    {
     "name": "stderr",
     "output_type": "stream",
     "text": [
      "\r",
      "16it [00:06,  2.25it/s]"
     ]
    },
    {
     "name": "stdout",
     "output_type": "stream",
     "text": [
      "Loading cif file of 6KK7\n",
      "data/mmcif/6KK7.cif\n"
     ]
    },
    {
     "name": "stderr",
     "output_type": "stream",
     "text": [
      "\r",
      "17it [00:07,  2.09it/s]"
     ]
    },
    {
     "name": "stdout",
     "output_type": "stream",
     "text": [
      "Loading cif file of 6DS0\n",
      "data/mmcif/6DS0.cif\n"
     ]
    },
    {
     "name": "stderr",
     "output_type": "stream",
     "text": [
      "\r",
      "18it [00:07,  2.30it/s]"
     ]
    },
    {
     "name": "stdout",
     "output_type": "stream",
     "text": [
      "Loading cif file of 6I9K\n",
      "data/mmcif/6I9K.cif\n"
     ]
    },
    {
     "name": "stderr",
     "output_type": "stream",
     "text": [
      "\r",
      "19it [00:08,  2.51it/s]"
     ]
    },
    {
     "name": "stdout",
     "output_type": "stream",
     "text": [
      "Loading cif file of 3EML\n",
      "data/mmcif/3EML.cif\n"
     ]
    },
    {
     "name": "stderr",
     "output_type": "stream",
     "text": [
      "20it [00:08,  2.35it/s]\n"
     ]
    },
    {
     "name": "stdout",
     "output_type": "stream",
     "text": [
      "trying to assign generic nubmers to 5MZJ\n",
      "loaded data to assign gen. numbers from data/raw/5MZJ.pkl\n",
      "Index(['author_residue_number', 'author_insertion_code', 'residue_number',\n",
      "       'author_residue_number', 'author_insertion_code', 'residue_number',\n",
      "       'author_residue_number', 'author_insertion_code', 'residue_number'],\n",
      "      dtype='object')\n",
      "Found correct uniprot map: AA2AR_HUMAN AA2AR_HUMAN\n",
      "Found correct uniprot map: AA2AR_HUMAN AA2AR_HUMAN\n",
      "trying to assign generic nubmers to 7CKW\n",
      "loaded data to assign gen. numbers from data/raw/7CKW.pkl\n",
      "Index(['author_residue_number', 'author_insertion_code', 'residue_number'], dtype='object')\n",
      "Found correct uniprot map: DRD1_HUMAN DRD1_HUMAN\n",
      "trying to assign generic nubmers to 6J21\n",
      "loaded data to assign gen. numbers from data/raw/6J21.pkl\n",
      "Index(['author_residue_number', 'author_insertion_code', 'residue_number',\n",
      "       'author_residue_number', 'author_insertion_code', 'residue_number',\n",
      "       'author_residue_number', 'author_insertion_code', 'residue_number'],\n",
      "      dtype='object')\n",
      "Found correct uniprot map: NK1R_HUMAN NK1R_HUMAN\n",
      "Found correct uniprot map: NK1R_HUMAN NK1R_HUMAN\n",
      "trying to assign generic nubmers to 4A4M\n",
      "loaded data to assign gen. numbers from data/raw/4A4M.pkl\n",
      "Index(['author_residue_number', 'author_insertion_code', 'residue_number'], dtype='object')\n",
      "Found correct uniprot map: OPSD_BOVIN OPSD_BOVIN\n",
      "trying to assign generic nubmers to 5O9H\n",
      "loaded data to assign gen. numbers from data/raw/5O9H.pkl\n",
      "Index(['author_residue_number', 'author_insertion_code', 'residue_number'], dtype='object')\n",
      "Found correct uniprot map: C5AR1_HUMAN C5AR1_HUMAN\n",
      "trying to assign generic nubmers to 2YCZ\n",
      "loaded data to assign gen. numbers from data/raw/2YCZ.pkl\n",
      "Index(['author_residue_number', 'author_insertion_code', 'residue_number'], dtype='object')\n",
      "Found correct uniprot map: ADRB1_MELGA ADRB1_MELGA\n",
      "trying to assign generic nubmers to 6FUF\n",
      "loaded data to assign gen. numbers from data/raw/6FUF.pkl\n",
      "Index(['author_residue_number', 'author_insertion_code', 'residue_number'], dtype='object')\n",
      "Found correct uniprot map: OPSD_BOVIN OPSD_BOVIN\n",
      "trying to assign generic nubmers to 6LFM\n",
      "loaded data to assign gen. numbers from data/raw/6LFM.pkl\n",
      "Index(['author_residue_number', 'author_insertion_code', 'residue_number'], dtype='object')\n",
      "Found correct uniprot map: CXCR2_HUMAN CXCR2_HUMAN\n",
      "trying to assign generic nubmers to 3V2Y\n",
      "loaded data to assign gen. numbers from data/raw/3V2Y.pkl\n",
      "Index(['author_residue_number', 'author_insertion_code', 'residue_number',\n",
      "       'author_residue_number', 'author_insertion_code', 'residue_number',\n",
      "       'author_residue_number', 'author_insertion_code', 'residue_number'],\n",
      "      dtype='object')\n",
      "Found correct uniprot map: S1PR1_HUMAN S1PR1_HUMAN\n",
      "Found correct uniprot map: S1PR1_HUMAN S1PR1_HUMAN\n",
      "trying to assign generic nubmers to 6X18\n",
      "loaded data to assign gen. numbers from data/raw/6X18.pkl\n",
      "Index(['author_residue_number', 'author_insertion_code', 'residue_number'], dtype='object')\n",
      "Found correct uniprot map: GLP1R_HUMAN GLP1R_HUMAN\n",
      "trying to assign generic nubmers to 7DDZ\n",
      "loaded data to assign gen. numbers from data/raw/7DDZ.pkl\n",
      "Index(['author_residue_number', 'author_insertion_code', 'residue_number',\n",
      "       'author_residue_number', 'author_insertion_code', 'residue_number',\n",
      "       'author_residue_number', 'author_insertion_code', 'residue_number',\n",
      "       'author_residue_number', 'author_insertion_code', 'residue_number'],\n",
      "      dtype='object')\n",
      "Found correct uniprot map: NPY2R_HUMAN NPY2R_HUMAN\n",
      "Found correct uniprot map: NPY2R_HUMAN NPY2R_HUMAN\n",
      "trying to assign generic nubmers to 6V9S\n",
      "loaded data to assign gen. numbers from data/raw/6V9S.pkl\n",
      "Index(['author_residue_number', 'author_insertion_code', 'residue_number',\n",
      "       'author_residue_number', 'author_insertion_code', 'residue_number',\n",
      "       'author_residue_number', 'author_insertion_code', 'residue_number'],\n",
      "      dtype='object')\n",
      "Found correct uniprot map: OX1R_HUMAN OX1R_HUMAN\n",
      "Found correct uniprot map: OX1R_HUMAN OX1R_HUMAN\n",
      "trying to assign generic nubmers to 5LWE\n",
      "loaded data to assign gen. numbers from data/raw/5LWE.pkl\n",
      "Index(['author_residue_number', 'author_insertion_code', 'residue_number'], dtype='object')\n",
      "Found correct uniprot map: CCR9_HUMAN CCR9_HUMAN\n",
      "trying to assign generic nubmers to 6UUS\n",
      "loaded data to assign gen. numbers from data/raw/6UUS.pkl\n",
      "Index(['author_residue_number', 'author_insertion_code', 'residue_number'], dtype='object')\n",
      "Found correct uniprot map: CALRL_HUMAN CALRL_HUMAN\n",
      "trying to assign generic nubmers to 5WS3\n",
      "loaded data to assign gen. numbers from data/raw/5WS3.pkl\n",
      "Index(['author_residue_number', 'author_insertion_code', 'residue_number',\n",
      "       'author_residue_number', 'author_insertion_code', 'residue_number',\n",
      "       'author_residue_number', 'author_insertion_code', 'residue_number'],\n",
      "      dtype='object')\n",
      "Found correct uniprot map: OX2R_HUMAN OX2R_HUMAN\n",
      "Found correct uniprot map: OX2R_HUMAN OX2R_HUMAN\n",
      "trying to assign generic nubmers to 3NY8\n",
      "loaded data to assign gen. numbers from data/raw/3NY8.pkl\n",
      "Index(['author_residue_number', 'author_insertion_code', 'residue_number',\n",
      "       'author_residue_number', 'author_insertion_code', 'residue_number',\n",
      "       'author_residue_number', 'author_insertion_code', 'residue_number'],\n",
      "      dtype='object')\n",
      "Found correct uniprot map: ADRB2_HUMAN ADRB2_HUMAN\n",
      "Found correct uniprot map: ADRB2_HUMAN ADRB2_HUMAN\n",
      "trying to assign generic nubmers to 6KK7\n",
      "loaded data to assign gen. numbers from data/raw/6KK7.pkl\n",
      "Index(['author_residue_number', 'author_insertion_code', 'residue_number',\n",
      "       'author_residue_number', 'author_insertion_code', 'residue_number',\n",
      "       'author_residue_number', 'author_insertion_code', 'residue_number',\n",
      "       'author_residue_number', 'author_insertion_code', 'residue_number'],\n",
      "      dtype='object')\n",
      "Found correct uniprot map: GLP1R_HUMAN GLP1R_HUMAN\n",
      "Found correct uniprot map: GLP1R_HUMAN GLP1R_HUMAN\n",
      "Found correct uniprot map: GLP1R_HUMAN GLP1R_HUMAN\n",
      "trying to assign generic nubmers to 6DS0\n",
      "loaded data to assign gen. numbers from data/raw/6DS0.pkl\n",
      "Index(['author_residue_number', 'author_insertion_code', 'residue_number',\n",
      "       'author_residue_number', 'author_insertion_code', 'residue_number',\n",
      "       'author_residue_number', 'author_insertion_code', 'residue_number'],\n",
      "      dtype='object')\n",
      "Found correct uniprot map: 5HT2B_HUMAN 5HT2B_HUMAN\n",
      "Found correct uniprot map: 5HT2B_HUMAN 5HT2B_HUMAN\n",
      "trying to assign generic nubmers to 6I9K\n",
      "loaded data to assign gen. numbers from data/raw/6I9K.pkl\n",
      "Index(['author_residue_number', 'author_insertion_code', 'residue_number'], dtype='object')\n",
      "Found correct uniprot map: B1B1U5_9ARAC B1B1U5_9ARAC\n",
      "trying to assign generic nubmers to 3EML\n",
      "loaded data to assign gen. numbers from data/raw/3EML.pkl\n",
      "Index(['author_residue_number', 'author_insertion_code', 'residue_number',\n",
      "       'author_residue_number', 'author_insertion_code', 'residue_number',\n",
      "       'author_residue_number', 'author_insertion_code', 'residue_number'],\n",
      "      dtype='object')\n",
      "Found correct uniprot map: AA2AR_HUMAN AA2AR_HUMAN\n",
      "Found correct uniprot map: AA2AR_HUMAN AA2AR_HUMAN\n",
      "writing to file: data/processed/7CKW.pkl\n",
      "writing to file: data/processed/4A4M.pkl\n",
      "writing to file: data/processed/6DS0.pkl\n",
      "6\n"
     ]
    },
    {
     "name": "stderr",
     "output_type": "stream",
     "text": [
      "\r",
      "0it [00:00, ?it/s]"
     ]
    },
    {
     "name": "stdout",
     "output_type": "stream",
     "text": [
      "Loading cif file of 6B73\n",
      "data/mmcif/6B73.cif\n"
     ]
    },
    {
     "name": "stderr",
     "output_type": "stream",
     "text": [
      "\r",
      "1it [00:00,  2.25it/s]"
     ]
    },
    {
     "name": "stdout",
     "output_type": "stream",
     "text": [
      "Loading cif file of 6VI4\n",
      "data/mmcif/6VI4.cif\n"
     ]
    },
    {
     "name": "stderr",
     "output_type": "stream",
     "text": [
      "3it [00:01,  2.76it/s]"
     ]
    },
    {
     "name": "stdout",
     "output_type": "stream",
     "text": [
      "Loading cif file of 5N2S\n",
      "data/mmcif/5N2S.cif\n",
      "Loading cif file of 4DJH\n",
      "data/mmcif/4DJH.cif\n"
     ]
    },
    {
     "name": "stderr",
     "output_type": "stream",
     "text": [
      "\r",
      "4it [00:01,  2.35it/s]"
     ]
    },
    {
     "name": "stdout",
     "output_type": "stream",
     "text": [
      "Loading cif file of 5L7D\n",
      "data/mmcif/5L7D.cif\n"
     ]
    },
    {
     "name": "stderr",
     "output_type": "stream",
     "text": [
      "\r",
      "5it [00:02,  1.95it/s]"
     ]
    },
    {
     "name": "stdout",
     "output_type": "stream",
     "text": [
      "Loading cif file of 3OE9\n",
      "data/mmcif/3OE9.cif\n"
     ]
    },
    {
     "name": "stderr",
     "output_type": "stream",
     "text": [
      "7it [00:03,  2.25it/s]"
     ]
    },
    {
     "name": "stdout",
     "output_type": "stream",
     "text": [
      "Loading cif file of 6KUX\n",
      "data/mmcif/6KUX.cif\n",
      "Loading cif file of 4DAJ\n",
      "data/mmcif/4DAJ.cif\n"
     ]
    },
    {
     "name": "stderr",
     "output_type": "stream",
     "text": [
      "\r",
      "8it [00:04,  1.69it/s]"
     ]
    },
    {
     "name": "stdout",
     "output_type": "stream",
     "text": [
      "Loading cif file of 7C61\n",
      "data/mmcif/7C61.cif\n"
     ]
    },
    {
     "name": "stderr",
     "output_type": "stream",
     "text": [
      "\r",
      "9it [00:04,  1.76it/s]"
     ]
    },
    {
     "name": "stdout",
     "output_type": "stream",
     "text": [
      "Loading cif file of 6D26\n",
      "data/mmcif/6D26.cif\n"
     ]
    },
    {
     "name": "stderr",
     "output_type": "stream",
     "text": [
      "\r",
      "10it [00:04,  1.99it/s]"
     ]
    },
    {
     "name": "stdout",
     "output_type": "stream",
     "text": [
      "Loading cif file of 6FK6\n",
      "data/mmcif/6FK6.cif\n"
     ]
    },
    {
     "name": "stderr",
     "output_type": "stream",
     "text": [
      "\r",
      "11it [00:05,  2.26it/s]"
     ]
    },
    {
     "name": "stdout",
     "output_type": "stream",
     "text": [
      "Loading cif file of 6ZDV\n",
      "data/mmcif/6ZDV.cif\n"
     ]
    },
    {
     "name": "stderr",
     "output_type": "stream",
     "text": [
      "\r",
      "12it [00:05,  2.43it/s]"
     ]
    },
    {
     "name": "stdout",
     "output_type": "stream",
     "text": [
      "Loading cif file of 3ZPQ\n",
      "data/mmcif/3ZPQ.cif\n"
     ]
    },
    {
     "name": "stderr",
     "output_type": "stream",
     "text": [
      "\r",
      "13it [00:06,  2.40it/s]"
     ]
    },
    {
     "name": "stdout",
     "output_type": "stream",
     "text": [
      "Loading cif file of 3RFM\n",
      "data/mmcif/3RFM.cif\n"
     ]
    },
    {
     "name": "stderr",
     "output_type": "stream",
     "text": [
      "\r",
      "14it [00:06,  2.66it/s]"
     ]
    },
    {
     "name": "stdout",
     "output_type": "stream",
     "text": [
      "Loading cif file of 5N2R\n",
      "data/mmcif/5N2R.cif\n"
     ]
    },
    {
     "name": "stderr",
     "output_type": "stream",
     "text": [
      "\r",
      "15it [00:06,  2.71it/s]"
     ]
    },
    {
     "name": "stdout",
     "output_type": "stream",
     "text": [
      "Loading cif file of 4Z36\n",
      "data/mmcif/4Z36.cif\n"
     ]
    },
    {
     "name": "stderr",
     "output_type": "stream",
     "text": [
      "\r",
      "16it [00:06,  2.76it/s]"
     ]
    },
    {
     "name": "stdout",
     "output_type": "stream",
     "text": [
      "Loading cif file of 5YQZ\n",
      "data/mmcif/5YQZ.cif\n"
     ]
    },
    {
     "name": "stderr",
     "output_type": "stream",
     "text": [
      "\r",
      "17it [00:07,  2.61it/s]"
     ]
    },
    {
     "name": "stdout",
     "output_type": "stream",
     "text": [
      "Loading cif file of 3DQB\n",
      "data/mmcif/3DQB.cif\n"
     ]
    },
    {
     "name": "stderr",
     "output_type": "stream",
     "text": [
      "\r",
      "18it [00:07,  2.73it/s]"
     ]
    },
    {
     "name": "stdout",
     "output_type": "stream",
     "text": [
      "Loading cif file of 6LPL\n",
      "data/mmcif/6LPL.cif\n"
     ]
    },
    {
     "name": "stderr",
     "output_type": "stream",
     "text": [
      "\r",
      "19it [00:08,  2.73it/s]"
     ]
    },
    {
     "name": "stdout",
     "output_type": "stream",
     "text": [
      "Loading cif file of 6LFO\n",
      "data/mmcif/6LFO.cif\n"
     ]
    },
    {
     "name": "stderr",
     "output_type": "stream",
     "text": [
      "20it [00:08,  2.25it/s]\n"
     ]
    },
    {
     "name": "stdout",
     "output_type": "stream",
     "text": [
      "trying to assign generic nubmers to 6B73\n",
      "loaded data to assign gen. numbers from data/raw/6B73.pkl\n",
      "Index(['author_residue_number', 'author_insertion_code', 'residue_number',\n",
      "       'author_residue_number', 'author_insertion_code', 'residue_number'],\n",
      "      dtype='object')\n",
      "Found correct uniprot map: OPRK_HUMAN OPRK_HUMAN\n",
      "trying to assign generic nubmers to 6VI4\n",
      "loaded data to assign gen. numbers from data/raw/6VI4.pkl\n",
      "Index(['author_residue_number', 'author_insertion_code', 'residue_number'], dtype='object')\n",
      "Found correct uniprot map: OPRK_HUMAN OPRK_HUMAN\n",
      "trying to assign generic nubmers to 5N2S\n",
      "loaded data to assign gen. numbers from data/raw/5N2S.pkl\n",
      "Index(['author_residue_number', 'author_insertion_code', 'residue_number',\n",
      "       'author_residue_number', 'author_insertion_code', 'residue_number'],\n",
      "      dtype='object')\n",
      "Found correct uniprot map: AA1R_HUMAN AA1R_HUMAN\n",
      "trying to assign generic nubmers to 4DJH\n",
      "loaded data to assign gen. numbers from data/raw/4DJH.pkl\n",
      "Index(['author_residue_number', 'author_insertion_code', 'residue_number',\n",
      "       'author_residue_number', 'author_insertion_code', 'residue_number',\n",
      "       'author_residue_number', 'author_insertion_code', 'residue_number'],\n",
      "      dtype='object')\n",
      "Found correct uniprot map: OPRK_HUMAN OPRK_HUMAN\n",
      "Found correct uniprot map: OPRK_HUMAN OPRK_HUMAN\n",
      "trying to assign generic nubmers to 5L7D\n",
      "loaded data to assign gen. numbers from data/raw/5L7D.pkl\n",
      "Index(['author_residue_number', 'author_insertion_code', 'residue_number',\n",
      "       'author_residue_number', 'author_insertion_code', 'residue_number',\n",
      "       'author_residue_number', 'author_insertion_code', 'residue_number'],\n",
      "      dtype='object')\n",
      "Found correct uniprot map: SMO_HUMAN SMO_HUMAN\n",
      "Found correct uniprot map: SMO_HUMAN SMO_HUMAN\n",
      "trying to assign generic nubmers to 3OE9\n",
      "loaded data to assign gen. numbers from data/raw/3OE9.pkl\n",
      "Index(['author_residue_number', 'author_insertion_code', 'residue_number',\n",
      "       'author_residue_number', 'author_insertion_code', 'residue_number',\n",
      "       'author_residue_number', 'author_insertion_code', 'residue_number'],\n",
      "      dtype='object')\n",
      "Found correct uniprot map: CXCR4_HUMAN CXCR4_HUMAN\n",
      "Found correct uniprot map: CXCR4_HUMAN CXCR4_HUMAN\n",
      "trying to assign generic nubmers to 6KUX\n",
      "loaded data to assign gen. numbers from data/raw/6KUX.pkl\n",
      "Index(['author_residue_number', 'author_insertion_code', 'residue_number',\n",
      "       'author_residue_number', 'author_insertion_code', 'residue_number',\n",
      "       'author_residue_number', 'author_insertion_code', 'residue_number'],\n",
      "      dtype='object')\n",
      "Found correct uniprot map: ADA2A_HUMAN ADA2A_HUMAN\n",
      "Found correct uniprot map: ADA2A_HUMAN ADA2A_HUMAN\n",
      "Found correct uniprot map: ADA2A_HUMAN ADA2A_HUMAN\n",
      "trying to assign generic nubmers to 4DAJ\n",
      "loaded data to assign gen. numbers from data/raw/4DAJ.pkl\n",
      "Index(['author_residue_number', 'author_insertion_code', 'residue_number',\n",
      "       'author_residue_number', 'author_insertion_code', 'residue_number',\n",
      "       'author_residue_number', 'author_insertion_code', 'residue_number'],\n",
      "      dtype='object')\n",
      "Found correct uniprot map: ACM3_RAT ACM3_RAT\n",
      "Found correct uniprot map: ACM3_RAT ACM3_RAT\n",
      "trying to assign generic nubmers to 7C61\n",
      "loaded data to assign gen. numbers from data/raw/7C61.pkl\n",
      "Index(['author_residue_number', 'author_insertion_code', 'residue_number',\n",
      "       'author_residue_number', 'author_insertion_code', 'residue_number',\n",
      "       'author_residue_number', 'author_insertion_code', 'residue_number'],\n",
      "      dtype='object')\n",
      "Found correct uniprot map: 5HT1B_HUMAN 5HT1B_HUMAN\n",
      "Found correct uniprot map: 5HT1B_HUMAN 5HT1B_HUMAN\n",
      "trying to assign generic nubmers to 6D26\n",
      "loaded data to assign gen. numbers from data/raw/6D26.pkl\n",
      "Index(['author_residue_number', 'author_insertion_code', 'residue_number',\n",
      "       'author_residue_number', 'author_insertion_code', 'residue_number',\n",
      "       'author_residue_number', 'author_insertion_code', 'residue_number',\n",
      "       'author_residue_number', 'author_insertion_code', 'residue_number'],\n",
      "      dtype='object')\n",
      "Found correct uniprot map: PD2R2_HUMAN PD2R2_HUMAN\n",
      "Found correct uniprot map: PD2R2_HUMAN PD2R2_HUMAN\n",
      "Found correct uniprot map: PD2R2_HUMAN PD2R2_HUMAN\n",
      "trying to assign generic nubmers to 6FK6\n",
      "loaded data to assign gen. numbers from data/raw/6FK6.pkl\n",
      "Index(['author_residue_number', 'author_insertion_code', 'residue_number'], dtype='object')\n",
      "Found correct uniprot map: OPSD_BOVIN OPSD_BOVIN\n",
      "trying to assign generic nubmers to 6ZDV\n",
      "loaded data to assign gen. numbers from data/raw/6ZDV.pkl\n",
      "Index(['author_residue_number', 'author_insertion_code', 'residue_number',\n",
      "       'author_residue_number', 'author_insertion_code', 'residue_number',\n",
      "       'author_residue_number', 'author_insertion_code', 'residue_number'],\n",
      "      dtype='object')\n",
      "Found correct uniprot map: AA2AR_HUMAN AA2AR_HUMAN\n",
      "Found correct uniprot map: AA2AR_HUMAN AA2AR_HUMAN\n",
      "trying to assign generic nubmers to 3ZPQ\n",
      "loaded data to assign gen. numbers from data/raw/3ZPQ.pkl\n",
      "Index(['author_residue_number', 'author_insertion_code', 'residue_number'], dtype='object')\n",
      "Found correct uniprot map: ADRB1_MELGA ADRB1_MELGA\n",
      "trying to assign generic nubmers to 3RFM\n",
      "loaded data to assign gen. numbers from data/raw/3RFM.pkl\n",
      "Index(['author_residue_number', 'author_insertion_code', 'residue_number'], dtype='object')\n",
      "Found correct uniprot map: AA2AR_HUMAN AA2AR_HUMAN\n",
      "trying to assign generic nubmers to 5N2R\n",
      "loaded data to assign gen. numbers from data/raw/5N2R.pkl\n",
      "Index(['author_residue_number', 'author_insertion_code', 'residue_number',\n",
      "       'author_residue_number', 'author_insertion_code', 'residue_number',\n",
      "       'author_residue_number', 'author_insertion_code', 'residue_number'],\n",
      "      dtype='object')\n",
      "Found correct uniprot map: AA2AR_HUMAN AA2AR_HUMAN\n",
      "Found correct uniprot map: AA2AR_HUMAN AA2AR_HUMAN\n",
      "trying to assign generic nubmers to 4Z36\n",
      "loaded data to assign gen. numbers from data/raw/4Z36.pkl\n",
      "Index(['author_residue_number', 'author_insertion_code', 'residue_number',\n",
      "       'author_residue_number', 'author_insertion_code', 'residue_number',\n",
      "       'author_residue_number', 'author_insertion_code', 'residue_number',\n",
      "       'author_residue_number', 'author_insertion_code', 'residue_number'],\n",
      "      dtype='object')\n",
      "Found correct uniprot map: LPAR1_HUMAN LPAR1_HUMAN\n",
      "Found correct uniprot map: LPAR1_HUMAN LPAR1_HUMAN\n",
      "trying to assign generic nubmers to 5YQZ\n",
      "loaded data to assign gen. numbers from data/raw/5YQZ.pkl\n",
      "Index(['author_residue_number', 'author_insertion_code', 'residue_number',\n",
      "       'author_residue_number', 'author_insertion_code', 'residue_number',\n",
      "       'author_residue_number', 'author_insertion_code', 'residue_number'],\n",
      "      dtype='object')\n",
      "Found correct uniprot map: GLR_HUMAN GLR_HUMAN\n",
      "Found correct uniprot map: GLR_HUMAN GLR_HUMAN\n",
      "trying to assign generic nubmers to 3DQB\n",
      "loaded data to assign gen. numbers from data/raw/3DQB.pkl\n",
      "Index(['author_residue_number', 'author_insertion_code', 'residue_number'], dtype='object')\n",
      "Found correct uniprot map: OPSD_BOVIN OPSD_BOVIN\n",
      "trying to assign generic nubmers to 6LPL\n",
      "loaded data to assign gen. numbers from data/raw/6LPL.pkl\n",
      "Index(['author_residue_number', 'author_insertion_code', 'residue_number',\n",
      "       'author_residue_number', 'author_insertion_code', 'residue_number',\n",
      "       'author_residue_number', 'author_insertion_code', 'residue_number'],\n",
      "      dtype='object')\n",
      "Found correct uniprot map: AA2AR_HUMAN AA2AR_HUMAN\n",
      "Found correct uniprot map: AA2AR_HUMAN AA2AR_HUMAN\n",
      "trying to assign generic nubmers to 6LFO\n",
      "loaded data to assign gen. numbers from data/raw/6LFO.pkl\n",
      "Index(['author_residue_number', 'author_insertion_code', 'residue_number'], dtype='object')\n",
      "Found correct uniprot map: CXCR2_HUMAN CXCR2_HUMAN\n",
      "writing to file: data/processed/5L7D.pkl\n",
      "writing to file: data/processed/5YQZ.pkl\n",
      "7\n"
     ]
    },
    {
     "name": "stderr",
     "output_type": "stream",
     "text": [
      "1it [00:00,  3.97it/s]"
     ]
    },
    {
     "name": "stdout",
     "output_type": "stream",
     "text": [
      "Loading cif file of 4MQS\n",
      "data/mmcif/4MQS.cif\n",
      "Loading cif file of 6XBM\n",
      "data/mmcif/6XBM.cif\n"
     ]
    },
    {
     "name": "stderr",
     "output_type": "stream",
     "text": [
      "\r",
      "2it [00:00,  2.12it/s]"
     ]
    },
    {
     "name": "stdout",
     "output_type": "stream",
     "text": [
      "Loading cif file of 7LCI\n",
      "data/mmcif/7LCI.cif\n"
     ]
    },
    {
     "name": "stderr",
     "output_type": "stream",
     "text": [
      "\r",
      "3it [00:01,  1.90it/s]"
     ]
    },
    {
     "name": "stdout",
     "output_type": "stream",
     "text": [
      "Loading cif file of 6RNK\n",
      "data/mmcif/6RNK.cif\n"
     ]
    },
    {
     "name": "stderr",
     "output_type": "stream",
     "text": [
      "\r",
      "4it [00:03,  1.00it/s]"
     ]
    },
    {
     "name": "stdout",
     "output_type": "stream",
     "text": [
      "Loading cif file of 6H7J\n",
      "data/mmcif/6H7J.cif\n"
     ]
    },
    {
     "name": "stderr",
     "output_type": "stream",
     "text": [
      "\r",
      "5it [00:03,  1.18it/s]"
     ]
    },
    {
     "name": "stdout",
     "output_type": "stream",
     "text": [
      "Loading cif file of 4IB4\n",
      "data/mmcif/4IB4.cif\n"
     ]
    },
    {
     "name": "stderr",
     "output_type": "stream",
     "text": [
      "\r",
      "6it [00:04,  1.52it/s]"
     ]
    },
    {
     "name": "stdout",
     "output_type": "stream",
     "text": [
      "Loading cif file of 7D3S\n",
      "data/mmcif/7D3S.cif\n"
     ]
    },
    {
     "name": "stderr",
     "output_type": "stream",
     "text": [
      "\r",
      "7it [00:04,  1.56it/s]"
     ]
    },
    {
     "name": "stdout",
     "output_type": "stream",
     "text": [
      "Loading cif file of 6FKA\n",
      "data/mmcif/6FKA.cif\n"
     ]
    },
    {
     "name": "stderr",
     "output_type": "stream",
     "text": [
      "\r",
      "8it [00:04,  1.89it/s]"
     ]
    },
    {
     "name": "stdout",
     "output_type": "stream",
     "text": [
      "Loading cif file of 6PB0\n",
      "data/mmcif/6PB0.cif\n"
     ]
    },
    {
     "name": "stderr",
     "output_type": "stream",
     "text": [
      "\r",
      "9it [00:05,  1.78it/s]"
     ]
    },
    {
     "name": "stdout",
     "output_type": "stream",
     "text": [
      "Loading cif file of 6FK8\n",
      "data/mmcif/6FK8.cif\n"
     ]
    },
    {
     "name": "stderr",
     "output_type": "stream",
     "text": [
      "\r",
      "10it [00:05,  2.08it/s]"
     ]
    },
    {
     "name": "stdout",
     "output_type": "stream",
     "text": [
      "Loading cif file of 6UO8\n",
      "data/mmcif/6UO8.cif\n"
     ]
    },
    {
     "name": "stderr",
     "output_type": "stream",
     "text": [
      "\r",
      "11it [00:06,  1.74it/s]"
     ]
    },
    {
     "name": "stdout",
     "output_type": "stream",
     "text": [
      "Loading cif file of 4BEY\n",
      "data/mmcif/4BEY.cif\n"
     ]
    },
    {
     "name": "stderr",
     "output_type": "stream",
     "text": [
      "\r",
      "12it [00:06,  2.03it/s]"
     ]
    },
    {
     "name": "stdout",
     "output_type": "stream",
     "text": [
      "Loading cif file of 4Z35\n",
      "data/mmcif/4Z35.cif\n"
     ]
    },
    {
     "name": "stderr",
     "output_type": "stream",
     "text": [
      "\r",
      "13it [00:07,  2.24it/s]"
     ]
    },
    {
     "name": "stdout",
     "output_type": "stream",
     "text": [
      "Loading cif file of 6JZH\n",
      "data/mmcif/6JZH.cif\n"
     ]
    },
    {
     "name": "stderr",
     "output_type": "stream",
     "text": [
      "\r",
      "14it [00:07,  2.12it/s]"
     ]
    },
    {
     "name": "stdout",
     "output_type": "stream",
     "text": [
      "Loading cif file of 5C1M\n",
      "data/mmcif/5C1M.cif\n"
     ]
    },
    {
     "name": "stderr",
     "output_type": "stream",
     "text": [
      "\r",
      "15it [00:08,  2.27it/s]"
     ]
    },
    {
     "name": "stdout",
     "output_type": "stream",
     "text": [
      "Loading cif file of 5WF5\n",
      "data/mmcif/5WF5.cif\n"
     ]
    },
    {
     "name": "stderr",
     "output_type": "stream",
     "text": [
      "\r",
      "16it [00:08,  2.39it/s]"
     ]
    },
    {
     "name": "stdout",
     "output_type": "stream",
     "text": [
      "Loading cif file of 6PT2\n",
      "data/mmcif/6PT2.cif\n"
     ]
    },
    {
     "name": "stderr",
     "output_type": "stream",
     "text": [
      "\r",
      "17it [00:09,  2.21it/s]"
     ]
    },
    {
     "name": "stdout",
     "output_type": "stream",
     "text": [
      "Loading cif file of 5WKT\n",
      "data/mmcif/5WKT.cif\n"
     ]
    },
    {
     "name": "stderr",
     "output_type": "stream",
     "text": [
      "\r",
      "18it [00:09,  2.40it/s]"
     ]
    },
    {
     "name": "stdout",
     "output_type": "stream",
     "text": [
      "Loading cif file of 6XBJ\n",
      "data/mmcif/6XBJ.cif\n"
     ]
    },
    {
     "name": "stderr",
     "output_type": "stream",
     "text": [
      "\r",
      "19it [00:10,  1.90it/s]"
     ]
    },
    {
     "name": "stdout",
     "output_type": "stream",
     "text": [
      "Loading cif file of 6FKB\n",
      "data/mmcif/6FKB.cif\n"
     ]
    },
    {
     "name": "stderr",
     "output_type": "stream",
     "text": [
      "20it [00:10,  1.89it/s]\n"
     ]
    },
    {
     "name": "stdout",
     "output_type": "stream",
     "text": [
      "trying to assign generic nubmers to 4MQS\n",
      "loaded data to assign gen. numbers from data/raw/4MQS.pkl\n",
      "Index(['author_residue_number', 'author_insertion_code', 'residue_number',\n",
      "       'author_residue_number', 'author_insertion_code', 'residue_number'],\n",
      "      dtype='object')\n",
      "Found correct uniprot map: ACM2_HUMAN ACM2_HUMAN\n",
      "Found correct uniprot map: ACM2_HUMAN ACM2_HUMAN\n",
      "trying to assign generic nubmers to 6XBM\n",
      "loaded data to assign gen. numbers from data/raw/6XBM.pkl\n",
      "Index(['author_residue_number', 'author_insertion_code', 'residue_number'], dtype='object')\n",
      "Found correct uniprot map: SMO_HUMAN SMO_HUMAN\n",
      "trying to assign generic nubmers to 7LCI\n",
      "loaded data to assign gen. numbers from data/raw/7LCI.pkl\n",
      "Index(['author_residue_number', 'author_insertion_code', 'residue_number'], dtype='object')\n",
      "Found correct uniprot map: GLP1R_HUMAN GLP1R_HUMAN\n",
      "trying to assign generic nubmers to 6RNK\n",
      "loaded data to assign gen. numbers from data/raw/6RNK.pkl\n",
      "Index(['author_residue_number', 'author_insertion_code', 'residue_number'], dtype='object')\n",
      "Found correct uniprot map: SUCR1_RAT SUCR1_RAT\n",
      "trying to assign generic nubmers to 6H7J\n",
      "loaded data to assign gen. numbers from data/raw/6H7J.pkl\n",
      "Index(['author_residue_number', 'author_insertion_code', 'residue_number'], dtype='object')\n",
      "Found correct uniprot map: ADRB1_MELGA ADRB1_MELGA\n",
      "trying to assign generic nubmers to 4IB4\n",
      "loaded data to assign gen. numbers from data/raw/4IB4.pkl\n",
      "Index(['author_residue_number', 'author_insertion_code', 'residue_number',\n",
      "       'author_residue_number', 'author_insertion_code', 'residue_number',\n",
      "       'author_residue_number', 'author_insertion_code', 'residue_number'],\n",
      "      dtype='object')\n",
      "Found correct uniprot map: 5HT2B_HUMAN 5HT2B_HUMAN\n",
      "Found correct uniprot map: 5HT2B_HUMAN 5HT2B_HUMAN\n",
      "trying to assign generic nubmers to 7D3S\n",
      "loaded data to assign gen. numbers from data/raw/7D3S.pkl\n",
      "Index(['author_residue_number', 'author_insertion_code', 'residue_number'], dtype='object')\n",
      "Found correct uniprot map: SCTR_HUMAN SCTR_HUMAN\n",
      "trying to assign generic nubmers to 6FKA\n",
      "loaded data to assign gen. numbers from data/raw/6FKA.pkl\n",
      "Index(['author_residue_number', 'author_insertion_code', 'residue_number'], dtype='object')\n",
      "Found correct uniprot map: OPSD_BOVIN OPSD_BOVIN\n",
      "trying to assign generic nubmers to 6PB0\n",
      "loaded data to assign gen. numbers from data/raw/6PB0.pkl\n",
      "Index(['author_residue_number', 'author_insertion_code', 'residue_number'], dtype='object')\n",
      "Found correct uniprot map: CRFR1_HUMAN CRFR1_HUMAN\n",
      "trying to assign generic nubmers to 6FK8\n",
      "loaded data to assign gen. numbers from data/raw/6FK8.pkl\n",
      "Index(['author_residue_number', 'author_insertion_code', 'residue_number'], dtype='object')\n",
      "Found correct uniprot map: OPSD_BOVIN OPSD_BOVIN\n",
      "trying to assign generic nubmers to 6UO8\n",
      "loaded data to assign gen. numbers from data/raw/6UO8.pkl\n",
      "Index(['author_residue_number', 'author_insertion_code', 'residue_number'], dtype='object')\n",
      "Found correct uniprot map: GABR2_HUMAN GABR2_HUMAN\n",
      "trying to assign generic nubmers to 4BEY\n",
      "loaded data to assign gen. numbers from data/raw/4BEY.pkl\n",
      "Index(['author_residue_number', 'author_insertion_code', 'residue_number'], dtype='object')\n",
      "Found correct uniprot map: OPSD_BOVIN OPSD_BOVIN\n",
      "trying to assign generic nubmers to 4Z35\n",
      "loaded data to assign gen. numbers from data/raw/4Z35.pkl\n",
      "Index(['author_residue_number', 'author_insertion_code', 'residue_number',\n",
      "       'author_residue_number', 'author_insertion_code', 'residue_number',\n",
      "       'author_residue_number', 'author_insertion_code', 'residue_number',\n",
      "       'author_residue_number', 'author_insertion_code', 'residue_number'],\n",
      "      dtype='object')\n",
      "Found correct uniprot map: LPAR1_HUMAN LPAR1_HUMAN\n",
      "Found correct uniprot map: LPAR1_HUMAN LPAR1_HUMAN\n",
      "trying to assign generic nubmers to 6JZH\n",
      "loaded data to assign gen. numbers from data/raw/6JZH.pkl\n",
      "Index(['author_residue_number', 'author_insertion_code', 'residue_number',\n",
      "       'author_residue_number', 'author_insertion_code', 'residue_number',\n",
      "       'author_residue_number', 'author_insertion_code', 'residue_number'],\n",
      "      dtype='object')\n",
      "Found correct uniprot map: AA2AR_HUMAN AA2AR_HUMAN\n",
      "Found correct uniprot map: AA2AR_HUMAN AA2AR_HUMAN\n",
      "trying to assign generic nubmers to 5C1M\n",
      "loaded data to assign gen. numbers from data/raw/5C1M.pkl\n",
      "Index(['author_residue_number', 'author_insertion_code', 'residue_number'], dtype='object')\n",
      "Found correct uniprot map: OPRM_MOUSE OPRM_MOUSE\n",
      "trying to assign generic nubmers to 5WF5\n",
      "loaded data to assign gen. numbers from data/raw/5WF5.pkl\n",
      "Index(['author_residue_number', 'author_insertion_code', 'residue_number',\n",
      "       'author_residue_number', 'author_insertion_code', 'residue_number',\n",
      "       'author_residue_number', 'author_insertion_code', 'residue_number'],\n",
      "      dtype='object')\n",
      "Found correct uniprot map: AA2AR_HUMAN AA2AR_HUMAN\n",
      "Found correct uniprot map: AA2AR_HUMAN AA2AR_HUMAN\n",
      "trying to assign generic nubmers to 6PT2\n",
      "loaded data to assign gen. numbers from data/raw/6PT2.pkl\n",
      "Index(['author_residue_number', 'author_insertion_code', 'residue_number'], dtype='object')\n",
      "Found correct uniprot map: OPRD_HUMAN OPRD_HUMAN\n",
      "trying to assign generic nubmers to 5WKT\n",
      "loaded data to assign gen. numbers from data/raw/5WKT.pkl\n",
      "Index(['author_residue_number', 'author_insertion_code', 'residue_number'], dtype='object')\n",
      "Found correct uniprot map: OPSD_BOVIN OPSD_BOVIN\n",
      "trying to assign generic nubmers to 6XBJ\n",
      "loaded data to assign gen. numbers from data/raw/6XBJ.pkl\n",
      "Index(['author_residue_number', 'author_insertion_code', 'residue_number'], dtype='object')\n",
      "Found correct uniprot map: SMO_HUMAN SMO_HUMAN\n",
      "trying to assign generic nubmers to 6FKB\n",
      "loaded data to assign gen. numbers from data/raw/6FKB.pkl\n",
      "Index(['author_residue_number', 'author_insertion_code', 'residue_number'], dtype='object')\n",
      "Found correct uniprot map: OPSD_BOVIN OPSD_BOVIN\n",
      "writing to file: data/processed/7D3S.pkl\n",
      "writing to file: data/processed/6PB0.pkl\n",
      "writing to file: data/processed/6PT2.pkl\n",
      "8\n"
     ]
    },
    {
     "name": "stderr",
     "output_type": "stream",
     "text": [
      "\r",
      "0it [00:00, ?it/s]"
     ]
    },
    {
     "name": "stdout",
     "output_type": "stream",
     "text": [
      "Loading cif file of 5OM4\n",
      "data/mmcif/5OM4.cif\n"
     ]
    },
    {
     "name": "stderr",
     "output_type": "stream",
     "text": [
      "2it [00:00,  3.49it/s]"
     ]
    },
    {
     "name": "stdout",
     "output_type": "stream",
     "text": [
      "Loading cif file of 7LCJ\n",
      "data/mmcif/7LCJ.cif\n",
      "Loading cif file of 4K5Y\n",
      "data/mmcif/4K5Y.cif\n"
     ]
    },
    {
     "name": "stderr",
     "output_type": "stream",
     "text": [
      "\r",
      "3it [00:01,  2.35it/s]"
     ]
    },
    {
     "name": "stdout",
     "output_type": "stream",
     "text": [
      "Loading cif file of 6ME7\n",
      "data/mmcif/6ME7.cif\n"
     ]
    },
    {
     "name": "stderr",
     "output_type": "stream",
     "text": [
      "\r",
      "4it [00:01,  2.30it/s]"
     ]
    },
    {
     "name": "stdout",
     "output_type": "stream",
     "text": [
      "Loading cif file of 6PS3\n",
      "data/mmcif/6PS3.cif\n"
     ]
    },
    {
     "name": "stderr",
     "output_type": "stream",
     "text": [
      "\r",
      "5it [00:01,  2.53it/s]"
     ]
    },
    {
     "name": "stdout",
     "output_type": "stream",
     "text": [
      "Loading cif file of 2I37\n",
      "data/mmcif/2I37.cif\n"
     ]
    },
    {
     "name": "stderr",
     "output_type": "stream",
     "text": [
      "\r",
      "6it [00:02,  2.23it/s]"
     ]
    },
    {
     "name": "stdout",
     "output_type": "stream",
     "text": [
      "Loading cif file of 6FFI\n",
      "data/mmcif/6FFI.cif\n"
     ]
    },
    {
     "name": "stderr",
     "output_type": "stream",
     "text": [
      "\r",
      "7it [00:02,  2.48it/s]"
     ]
    },
    {
     "name": "stdout",
     "output_type": "stream",
     "text": [
      "Loading cif file of 7C7S\n",
      "data/mmcif/7C7S.cif\n"
     ]
    },
    {
     "name": "stderr",
     "output_type": "stream",
     "text": [
      "\r",
      "8it [00:03,  1.94it/s]"
     ]
    },
    {
     "name": "stdout",
     "output_type": "stream",
     "text": [
      "Loading cif file of 5D6L\n",
      "data/mmcif/5D6L.cif\n"
     ]
    },
    {
     "name": "stderr",
     "output_type": "stream",
     "text": [
      "\r",
      "9it [00:03,  2.16it/s]"
     ]
    },
    {
     "name": "stdout",
     "output_type": "stream",
     "text": [
      "Loading cif file of 7DHI\n",
      "data/mmcif/7DHI.cif\n"
     ]
    },
    {
     "name": "stderr",
     "output_type": "stream",
     "text": [
      "\r",
      "10it [00:04,  2.00it/s]"
     ]
    },
    {
     "name": "stdout",
     "output_type": "stream",
     "text": [
      "Loading cif file of 6OBA\n",
      "data/mmcif/6OBA.cif\n"
     ]
    },
    {
     "name": "stderr",
     "output_type": "stream",
     "text": [
      "\r",
      "11it [00:04,  2.03it/s]"
     ]
    },
    {
     "name": "stdout",
     "output_type": "stream",
     "text": [
      "Loading cif file of 6KPC\n",
      "data/mmcif/6KPC.cif\n"
     ]
    },
    {
     "name": "stderr",
     "output_type": "stream",
     "text": [
      "\r",
      "12it [00:05,  2.23it/s]"
     ]
    },
    {
     "name": "stdout",
     "output_type": "stream",
     "text": [
      "Loading cif file of 6NIY\n",
      "data/mmcif/6NIY.cif\n"
     ]
    },
    {
     "name": "stderr",
     "output_type": "stream",
     "text": [
      "\r",
      "13it [00:05,  2.03it/s]"
     ]
    },
    {
     "name": "stdout",
     "output_type": "stream",
     "text": [
      "Loading cif file of 4PXF\n",
      "data/mmcif/4PXF.cif\n"
     ]
    },
    {
     "name": "stderr",
     "output_type": "stream",
     "text": [
      "\r",
      "14it [00:06,  2.27it/s]"
     ]
    },
    {
     "name": "stdout",
     "output_type": "stream",
     "text": [
      "Loading cif file of 2X72\n",
      "data/mmcif/2X72.cif\n"
     ]
    },
    {
     "name": "stderr",
     "output_type": "stream",
     "text": [
      "\r",
      "15it [00:06,  2.48it/s]"
     ]
    },
    {
     "name": "stdout",
     "output_type": "stream",
     "text": [
      "Loading cif file of 6DDF\n",
      "data/mmcif/6DDF.cif\n"
     ]
    },
    {
     "name": "stderr",
     "output_type": "stream",
     "text": [
      "\r",
      "16it [00:07,  2.23it/s]"
     ]
    },
    {
     "name": "stdout",
     "output_type": "stream",
     "text": [
      "Loading cif file of 3UZC\n",
      "data/mmcif/3UZC.cif\n"
     ]
    },
    {
     "name": "stderr",
     "output_type": "stream",
     "text": [
      "\r",
      "17it [00:07,  2.48it/s]"
     ]
    },
    {
     "name": "stdout",
     "output_type": "stream",
     "text": [
      "Loading cif file of 5ZKC\n",
      "data/mmcif/5ZKC.cif\n"
     ]
    },
    {
     "name": "stderr",
     "output_type": "stream",
     "text": [
      "\r",
      "18it [00:07,  2.59it/s]"
     ]
    },
    {
     "name": "stdout",
     "output_type": "stream",
     "text": [
      "Loading cif file of 6NBH\n",
      "data/mmcif/6NBH.cif\n"
     ]
    },
    {
     "name": "stderr",
     "output_type": "stream",
     "text": [
      "\r",
      "19it [00:08,  2.06it/s]"
     ]
    },
    {
     "name": "stdout",
     "output_type": "stream",
     "text": [
      "Loading cif file of 5MZP\n",
      "data/mmcif/5MZP.cif\n"
     ]
    },
    {
     "name": "stderr",
     "output_type": "stream",
     "text": [
      "20it [00:08,  2.26it/s]\n"
     ]
    },
    {
     "name": "stdout",
     "output_type": "stream",
     "text": [
      "trying to assign generic nubmers to 5OM4\n",
      "loaded data to assign gen. numbers from data/raw/5OM4.pkl\n",
      "Index(['author_residue_number', 'author_insertion_code', 'residue_number',\n",
      "       'author_residue_number', 'author_insertion_code', 'residue_number',\n",
      "       'author_residue_number', 'author_insertion_code', 'residue_number'],\n",
      "      dtype='object')\n",
      "Found correct uniprot map: AA2AR_HUMAN AA2AR_HUMAN\n",
      "Found correct uniprot map: AA2AR_HUMAN AA2AR_HUMAN\n",
      "trying to assign generic nubmers to 7LCJ\n",
      "loaded data to assign gen. numbers from data/raw/7LCJ.pkl\n",
      "Index(['author_residue_number', 'author_insertion_code', 'residue_number'], dtype='object')\n",
      "Found correct uniprot map: GLP1R_HUMAN GLP1R_HUMAN\n",
      "trying to assign generic nubmers to 4K5Y\n",
      "loaded data to assign gen. numbers from data/raw/4K5Y.pkl\n",
      "Index(['author_residue_number', 'author_insertion_code', 'residue_number',\n",
      "       'author_residue_number', 'author_insertion_code', 'residue_number',\n",
      "       'author_residue_number', 'author_insertion_code', 'residue_number'],\n",
      "      dtype='object')\n",
      "Found correct uniprot map: CRFR1_HUMAN CRFR1_HUMAN\n",
      "Found correct uniprot map: CRFR1_HUMAN CRFR1_HUMAN\n",
      "trying to assign generic nubmers to 6ME7\n",
      "loaded data to assign gen. numbers from data/raw/6ME7.pkl\n",
      "Index(['author_residue_number', 'author_insertion_code', 'residue_number',\n",
      "       'author_residue_number', 'author_insertion_code', 'residue_number',\n",
      "       'author_residue_number', 'author_insertion_code', 'residue_number',\n",
      "       'author_residue_number', 'author_insertion_code', 'residue_number'],\n",
      "      dtype='object')\n",
      "Found correct uniprot map: MTR1B_HUMAN MTR1B_HUMAN\n",
      "Found correct uniprot map: MTR1B_HUMAN MTR1B_HUMAN\n",
      "trying to assign generic nubmers to 6PS3\n",
      "loaded data to assign gen. numbers from data/raw/6PS3.pkl\n",
      "Index(['author_residue_number', 'author_insertion_code', 'residue_number',\n",
      "       'author_residue_number', 'author_insertion_code', 'residue_number',\n",
      "       'author_residue_number', 'author_insertion_code', 'residue_number'],\n",
      "      dtype='object')\n",
      "Found correct uniprot map: ADRB2_HUMAN ADRB2_HUMAN\n",
      "Found correct uniprot map: ADRB2_HUMAN ADRB2_HUMAN\n",
      "trying to assign generic nubmers to 2I37\n",
      "loaded data to assign gen. numbers from data/raw/2I37.pkl\n",
      "Index(['author_residue_number', 'author_insertion_code', 'residue_number'], dtype='object')\n",
      "Found correct uniprot map: OPSD_BOVIN OPSD_BOVIN\n",
      "trying to assign generic nubmers to 6FFI\n",
      "loaded data to assign gen. numbers from data/raw/6FFI.pkl\n",
      "Index(['author_residue_number', 'author_insertion_code', 'residue_number',\n",
      "       'author_residue_number', 'author_insertion_code', 'residue_number',\n",
      "       'author_residue_number', 'author_insertion_code', 'residue_number'],\n",
      "      dtype='object')\n",
      "Found correct uniprot map: GRM5_HUMAN GRM5_HUMAN\n",
      "Found correct uniprot map: GRM5_HUMAN GRM5_HUMAN\n",
      "trying to assign generic nubmers to 7C7S\n",
      "loaded data to assign gen. numbers from data/raw/7C7S.pkl\n",
      "Index(['author_residue_number', 'author_insertion_code', 'residue_number'], dtype='object')\n",
      "Found correct uniprot map: GABR2_HUMAN GABR2_HUMAN\n",
      "trying to assign generic nubmers to 5D6L\n",
      "loaded data to assign gen. numbers from data/raw/5D6L.pkl\n",
      "Index(['author_residue_number', 'author_insertion_code', 'residue_number',\n",
      "       'author_residue_number', 'author_insertion_code', 'residue_number',\n",
      "       'author_residue_number', 'author_insertion_code', 'residue_number'],\n",
      "      dtype='object')\n",
      "Found correct uniprot map: ADRB2_HUMAN ADRB2_HUMAN\n",
      "Found correct uniprot map: ADRB2_HUMAN ADRB2_HUMAN\n",
      "trying to assign generic nubmers to 7DHI\n",
      "loaded data to assign gen. numbers from data/raw/7DHI.pkl\n",
      "Index(['author_residue_number', 'author_insertion_code', 'residue_number'], dtype='object')\n",
      "Found correct uniprot map: ADRB2_HUMAN ADRB2_HUMAN\n",
      "trying to assign generic nubmers to 6OBA\n",
      "loaded data to assign gen. numbers from data/raw/6OBA.pkl\n",
      "Index(['author_residue_number', 'author_insertion_code', 'residue_number',\n",
      "       'author_residue_number', 'author_insertion_code', 'residue_number',\n",
      "       'author_residue_number', 'author_insertion_code', 'residue_number'],\n",
      "      dtype='object')\n",
      "Found correct uniprot map: ADRB2_HUMAN ADRB2_HUMAN\n",
      "Found correct uniprot map: ADRB2_HUMAN ADRB2_HUMAN\n",
      "trying to assign generic nubmers to 6KPC\n",
      "loaded data to assign gen. numbers from data/raw/6KPC.pkl\n",
      "Index(['author_residue_number', 'author_insertion_code', 'residue_number',\n",
      "       'author_residue_number', 'author_insertion_code', 'residue_number',\n",
      "       'author_residue_number', 'author_insertion_code', 'residue_number'],\n",
      "      dtype='object')\n",
      "Found correct uniprot map: CNR2_HUMAN CNR2_HUMAN\n",
      "Found correct uniprot map: CNR2_HUMAN CNR2_HUMAN\n",
      "trying to assign generic nubmers to 6NIY\n",
      "loaded data to assign gen. numbers from data/raw/6NIY.pkl\n",
      "Index(['author_residue_number', 'author_insertion_code', 'residue_number'], dtype='object')\n",
      "Found correct uniprot map: CALCR_HUMAN CALCR_HUMAN\n",
      "trying to assign generic nubmers to 4PXF\n",
      "loaded data to assign gen. numbers from data/raw/4PXF.pkl\n",
      "Index(['author_residue_number', 'author_insertion_code', 'residue_number'], dtype='object')\n",
      "Found correct uniprot map: OPSD_BOVIN OPSD_BOVIN\n",
      "trying to assign generic nubmers to 2X72\n",
      "loaded data to assign gen. numbers from data/raw/2X72.pkl\n",
      "Index(['author_residue_number', 'author_insertion_code', 'residue_number'], dtype='object')\n",
      "Found correct uniprot map: OPSD_BOVIN OPSD_BOVIN\n",
      "trying to assign generic nubmers to 6DDF\n",
      "loaded data to assign gen. numbers from data/raw/6DDF.pkl\n",
      "Index(['author_residue_number', 'author_insertion_code', 'residue_number',\n",
      "       'author_residue_number', 'author_insertion_code', 'residue_number'],\n",
      "      dtype='object')\n",
      "Found correct uniprot map: OPRM_MOUSE OPRM_MOUSE\n",
      "Found correct uniprot map: OPRM_MOUSE OPRM_MOUSE\n",
      "trying to assign generic nubmers to 3UZC\n",
      "loaded data to assign gen. numbers from data/raw/3UZC.pkl\n",
      "Index(['author_residue_number', 'author_insertion_code', 'residue_number'], dtype='object')\n",
      "Found correct uniprot map: AA2AR_HUMAN AA2AR_HUMAN\n",
      "trying to assign generic nubmers to 5ZKC\n",
      "loaded data to assign gen. numbers from data/raw/5ZKC.pkl\n",
      "Index(['author_residue_number', 'author_insertion_code', 'residue_number',\n",
      "       'author_residue_number', 'author_insertion_code', 'residue_number',\n",
      "       'author_residue_number', 'author_insertion_code', 'residue_number'],\n",
      "      dtype='object')\n",
      "Found correct uniprot map: ACM2_HUMAN ACM2_HUMAN\n",
      "Found correct uniprot map: ACM2_HUMAN ACM2_HUMAN\n",
      "trying to assign generic nubmers to 6NBH\n",
      "loaded data to assign gen. numbers from data/raw/6NBH.pkl\n",
      "Index(['author_residue_number', 'author_insertion_code', 'residue_number'], dtype='object')\n",
      "Found correct uniprot map: PTH1R_HUMAN PTH1R_HUMAN\n",
      "trying to assign generic nubmers to 5MZP\n",
      "loaded data to assign gen. numbers from data/raw/5MZP.pkl\n",
      "Index(['author_residue_number', 'author_insertion_code', 'residue_number',\n",
      "       'author_residue_number', 'author_insertion_code', 'residue_number',\n",
      "       'author_residue_number', 'author_insertion_code', 'residue_number'],\n",
      "      dtype='object')\n",
      "Found correct uniprot map: AA2AR_HUMAN AA2AR_HUMAN\n",
      "Found correct uniprot map: AA2AR_HUMAN AA2AR_HUMAN\n",
      "writing to file: data/processed/5D6L.pkl\n",
      "9\n"
     ]
    },
    {
     "name": "stderr",
     "output_type": "stream",
     "text": [
      "\r",
      "0it [00:00, ?it/s]"
     ]
    },
    {
     "name": "stdout",
     "output_type": "stream",
     "text": [
      "Loading cif file of 6IIV\n",
      "data/mmcif/6IIV.cif\n"
     ]
    },
    {
     "name": "stderr",
     "output_type": "stream",
     "text": [
      "\r",
      "1it [00:00,  3.41it/s]"
     ]
    },
    {
     "name": "stdout",
     "output_type": "stream",
     "text": [
      "Loading cif file of 3VGA\n",
      "data/mmcif/3VGA.cif\n"
     ]
    },
    {
     "name": "stderr",
     "output_type": "stream",
     "text": [
      "\r",
      "2it [00:00,  2.65it/s]"
     ]
    },
    {
     "name": "stdout",
     "output_type": "stream",
     "text": [
      "Loading cif file of 6H7N\n",
      "data/mmcif/6H7N.cif\n"
     ]
    },
    {
     "name": "stderr",
     "output_type": "stream",
     "text": [
      "4it [00:01,  2.54it/s]"
     ]
    },
    {
     "name": "stdout",
     "output_type": "stream",
     "text": [
      "Loading cif file of 6S0Q\n",
      "data/mmcif/6S0Q.cif\n",
      "Loading cif file of 6H7M\n",
      "data/mmcif/6H7M.cif\n"
     ]
    },
    {
     "name": "stderr",
     "output_type": "stream",
     "text": [
      "\r",
      "5it [00:02,  2.18it/s]"
     ]
    },
    {
     "name": "stdout",
     "output_type": "stream",
     "text": [
      "Loading cif file of 6OS0\n",
      "data/mmcif/6OS0.cif\n"
     ]
    },
    {
     "name": "stderr",
     "output_type": "stream",
     "text": [
      "\r",
      "6it [00:02,  2.37it/s]"
     ]
    },
    {
     "name": "stdout",
     "output_type": "stream",
     "text": [
      "Loading cif file of 6TPN\n",
      "data/mmcif/6TPN.cif\n"
     ]
    },
    {
     "name": "stderr",
     "output_type": "stream",
     "text": [
      "\r",
      "7it [00:02,  2.47it/s]"
     ]
    },
    {
     "name": "stdout",
     "output_type": "stream",
     "text": [
      "Loading cif file of 6A94\n",
      "data/mmcif/6A94.cif\n"
     ]
    },
    {
     "name": "stderr",
     "output_type": "stream",
     "text": [
      "\r",
      "8it [00:03,  2.33it/s]"
     ]
    },
    {
     "name": "stdout",
     "output_type": "stream",
     "text": [
      "Loading cif file of 6OY9\n",
      "data/mmcif/6OY9.cif\n"
     ]
    },
    {
     "name": "stderr",
     "output_type": "stream",
     "text": [
      "\r",
      "9it [00:03,  2.12it/s]"
     ]
    },
    {
     "name": "stdout",
     "output_type": "stream",
     "text": [
      "Loading cif file of 5VAI\n",
      "data/mmcif/5VAI.cif\n"
     ]
    },
    {
     "name": "stderr",
     "output_type": "stream",
     "text": [
      "\r",
      "10it [00:04,  1.88it/s]"
     ]
    },
    {
     "name": "stdout",
     "output_type": "stream",
     "text": [
      "Loading cif file of 6KK1\n",
      "data/mmcif/6KK1.cif\n"
     ]
    },
    {
     "name": "stderr",
     "output_type": "stream",
     "text": [
      "\r",
      "11it [00:06,  1.06it/s]"
     ]
    },
    {
     "name": "stdout",
     "output_type": "stream",
     "text": [
      "Loading cif file of 3VG9\n",
      "data/mmcif/3VG9.cif\n"
     ]
    },
    {
     "name": "stderr",
     "output_type": "stream",
     "text": [
      "\r",
      "12it [00:06,  1.23it/s]"
     ]
    },
    {
     "name": "stdout",
     "output_type": "stream",
     "text": [
      "Loading cif file of 6H7O\n",
      "data/mmcif/6H7O.cif\n"
     ]
    },
    {
     "name": "stderr",
     "output_type": "stream",
     "text": [
      "\r",
      "13it [00:07,  1.32it/s]"
     ]
    },
    {
     "name": "stdout",
     "output_type": "stream",
     "text": [
      "Loading cif file of 6OS2\n",
      "data/mmcif/6OS2.cif\n"
     ]
    },
    {
     "name": "stderr",
     "output_type": "stream",
     "text": [
      "\r",
      "14it [00:08,  1.53it/s]"
     ]
    },
    {
     "name": "stdout",
     "output_type": "stream",
     "text": [
      "Loading cif file of 7CA3\n",
      "data/mmcif/7CA3.cif\n"
     ]
    },
    {
     "name": "stderr",
     "output_type": "stream",
     "text": [
      "\r",
      "15it [00:09,  1.16it/s]"
     ]
    },
    {
     "name": "stdout",
     "output_type": "stream",
     "text": [
      "Loading cif file of 5ZBQ\n",
      "data/mmcif/5ZBQ.cif\n"
     ]
    },
    {
     "name": "stderr",
     "output_type": "stream",
     "text": [
      "\r",
      "16it [00:09,  1.38it/s]"
     ]
    },
    {
     "name": "stdout",
     "output_type": "stream",
     "text": [
      "Loading cif file of 6VMS\n",
      "data/mmcif/6VMS.cif\n"
     ]
    },
    {
     "name": "stderr",
     "output_type": "stream",
     "text": [
      "\r",
      "17it [00:10,  1.40it/s]"
     ]
    },
    {
     "name": "stdout",
     "output_type": "stream",
     "text": [
      "Loading cif file of 4IAR\n",
      "data/mmcif/4IAR.cif\n"
     ]
    },
    {
     "name": "stderr",
     "output_type": "stream",
     "text": [
      "\r",
      "18it [00:10,  1.63it/s]"
     ]
    },
    {
     "name": "stdout",
     "output_type": "stream",
     "text": [
      "Loading cif file of 4EJ4\n",
      "data/mmcif/4EJ4.cif\n"
     ]
    },
    {
     "name": "stderr",
     "output_type": "stream",
     "text": [
      "\r",
      "19it [00:11,  1.83it/s]"
     ]
    },
    {
     "name": "stdout",
     "output_type": "stream",
     "text": [
      "Loading cif file of 2R4R\n",
      "data/mmcif/2R4R.cif\n"
     ]
    },
    {
     "name": "stderr",
     "output_type": "stream",
     "text": [
      "20it [00:11,  1.70it/s]\n"
     ]
    },
    {
     "name": "stdout",
     "output_type": "stream",
     "text": [
      "trying to assign generic nubmers to 6IIV\n",
      "loaded data to assign gen. numbers from data/raw/6IIV.pkl\n",
      "Index(['author_residue_number', 'author_insertion_code', 'residue_number',\n",
      "       'author_residue_number', 'author_insertion_code', 'residue_number',\n",
      "       'author_residue_number', 'author_insertion_code', 'residue_number',\n",
      "       'author_residue_number', 'author_insertion_code', 'residue_number'],\n",
      "      dtype='object')\n",
      "Found correct uniprot map: TA2R_HUMAN TA2R_HUMAN\n",
      "Found correct uniprot map: TA2R_HUMAN TA2R_HUMAN\n",
      "trying to assign generic nubmers to 3VGA\n",
      "loaded data to assign gen. numbers from data/raw/3VGA.pkl\n",
      "Index(['author_residue_number', 'author_insertion_code', 'residue_number'], dtype='object')\n",
      "Found correct uniprot map: AA2AR_HUMAN AA2AR_HUMAN\n",
      "trying to assign generic nubmers to 6H7N\n",
      "loaded data to assign gen. numbers from data/raw/6H7N.pkl\n",
      "Index(['author_residue_number', 'author_insertion_code', 'residue_number'], dtype='object')\n",
      "Found correct uniprot map: ADRB1_MELGA ADRB1_MELGA\n",
      "trying to assign generic nubmers to 6S0Q\n",
      "loaded data to assign gen. numbers from data/raw/6S0Q.pkl\n",
      "Index(['author_residue_number', 'author_insertion_code', 'residue_number',\n",
      "       'author_residue_number', 'author_insertion_code', 'residue_number',\n",
      "       'author_residue_number', 'author_insertion_code', 'residue_number'],\n",
      "      dtype='object')\n",
      "Found correct uniprot map: AA2AR_HUMAN AA2AR_HUMAN\n",
      "Found correct uniprot map: AA2AR_HUMAN AA2AR_HUMAN\n",
      "trying to assign generic nubmers to 6H7M\n",
      "loaded data to assign gen. numbers from data/raw/6H7M.pkl\n",
      "Index(['author_residue_number', 'author_insertion_code', 'residue_number'], dtype='object')\n",
      "Found correct uniprot map: ADRB1_MELGA ADRB1_MELGA\n",
      "trying to assign generic nubmers to 6OS0\n",
      "loaded data to assign gen. numbers from data/raw/6OS0.pkl\n",
      "Index(['author_residue_number', 'author_insertion_code', 'residue_number',\n",
      "       'author_residue_number', 'author_insertion_code', 'residue_number',\n",
      "       'author_residue_number', 'author_insertion_code', 'residue_number'],\n",
      "      dtype='object')\n",
      "Found correct uniprot map: AGTR1_HUMAN AGTR1_HUMAN\n",
      "Found correct uniprot map: AGTR1_HUMAN AGTR1_HUMAN\n",
      "trying to assign generic nubmers to 6TPN\n",
      "loaded data to assign gen. numbers from data/raw/6TPN.pkl\n",
      "Index(['author_residue_number', 'author_insertion_code', 'residue_number',\n",
      "       'author_residue_number', 'author_insertion_code', 'residue_number',\n",
      "       'author_residue_number', 'author_insertion_code', 'residue_number'],\n",
      "      dtype='object')\n",
      "Found correct uniprot map: OX2R_HUMAN OX2R_HUMAN\n",
      "Found correct uniprot map: OX2R_HUMAN OX2R_HUMAN\n",
      "trying to assign generic nubmers to 6A94\n",
      "loaded data to assign gen. numbers from data/raw/6A94.pkl\n",
      "Index(['author_residue_number', 'author_insertion_code', 'residue_number',\n",
      "       'author_residue_number', 'author_insertion_code', 'residue_number',\n",
      "       'author_residue_number', 'author_insertion_code', 'residue_number',\n",
      "       'author_residue_number', 'author_insertion_code', 'residue_number'],\n",
      "      dtype='object')\n",
      "Found correct uniprot map: 5HT2A_HUMAN 5HT2A_HUMAN\n",
      "Found correct uniprot map: 5HT2A_HUMAN 5HT2A_HUMAN\n",
      "trying to assign generic nubmers to 6OY9\n",
      "loaded data to assign gen. numbers from data/raw/6OY9.pkl\n",
      "Index(['author_residue_number', 'author_insertion_code', 'residue_number'], dtype='object')\n",
      "Found correct uniprot map: OPSD_BOVIN OPSD_BOVIN\n",
      "trying to assign generic nubmers to 5VAI\n",
      "loaded data to assign gen. numbers from data/raw/5VAI.pkl\n",
      "Index(['author_residue_number', 'author_insertion_code', 'residue_number'], dtype='object')\n",
      "Found correct uniprot map: G1SGD4_RABIT G1SGD4_RABIT\n",
      "trying to assign generic nubmers to 6KK1\n",
      "loaded data to assign gen. numbers from data/raw/6KK1.pkl\n",
      "Index(['author_residue_number', 'author_insertion_code', 'residue_number',\n",
      "       'author_residue_number', 'author_insertion_code', 'residue_number',\n",
      "       'author_residue_number', 'author_insertion_code', 'residue_number',\n",
      "       'author_residue_number', 'author_insertion_code', 'residue_number'],\n",
      "      dtype='object')\n",
      "Found correct uniprot map: GLP1R_HUMAN GLP1R_HUMAN\n",
      "Found correct uniprot map: GLP1R_HUMAN GLP1R_HUMAN\n",
      "Found correct uniprot map: GLP1R_HUMAN GLP1R_HUMAN\n",
      "trying to assign generic nubmers to 3VG9\n",
      "loaded data to assign gen. numbers from data/raw/3VG9.pkl\n",
      "Index(['author_residue_number', 'author_insertion_code', 'residue_number'], dtype='object')\n",
      "Found correct uniprot map: AA2AR_HUMAN AA2AR_HUMAN\n",
      "trying to assign generic nubmers to 6H7O\n",
      "loaded data to assign gen. numbers from data/raw/6H7O.pkl\n",
      "Index(['author_residue_number', 'author_insertion_code', 'residue_number'], dtype='object')\n",
      "Found correct uniprot map: ADRB1_MELGA ADRB1_MELGA\n",
      "trying to assign generic nubmers to 6OS2\n",
      "loaded data to assign gen. numbers from data/raw/6OS2.pkl\n",
      "Index(['author_residue_number', 'author_insertion_code', 'residue_number',\n",
      "       'author_residue_number', 'author_insertion_code', 'residue_number',\n",
      "       'author_residue_number', 'author_insertion_code', 'residue_number'],\n",
      "      dtype='object')\n",
      "Found correct uniprot map: AGTR1_HUMAN AGTR1_HUMAN\n",
      "Found correct uniprot map: AGTR1_HUMAN AGTR1_HUMAN\n",
      "trying to assign generic nubmers to 7CA3\n",
      "loaded data to assign gen. numbers from data/raw/7CA3.pkl\n",
      "Index(['author_residue_number', 'author_insertion_code', 'residue_number'], dtype='object')\n",
      "Found correct uniprot map: GABR2_HUMAN GABR2_HUMAN\n",
      "trying to assign generic nubmers to 5ZBQ\n",
      "loaded data to assign gen. numbers from data/raw/5ZBQ.pkl\n",
      "Index(['author_residue_number', 'author_insertion_code', 'residue_number',\n",
      "       'author_residue_number', 'author_insertion_code', 'residue_number'],\n",
      "      dtype='object')\n",
      "Found correct uniprot map: NPY1R_HUMAN NPY1R_HUMAN\n",
      "trying to assign generic nubmers to 6VMS\n",
      "loaded data to assign gen. numbers from data/raw/6VMS.pkl\n",
      "Index(['author_residue_number', 'author_insertion_code', 'residue_number',\n",
      "       'author_residue_number', 'author_insertion_code', 'residue_number'],\n",
      "      dtype='object')\n",
      "Found correct uniprot map: DRD2_HUMAN DRD2_HUMAN\n",
      "trying to assign generic nubmers to 4IAR\n",
      "loaded data to assign gen. numbers from data/raw/4IAR.pkl\n",
      "Index(['author_residue_number', 'author_insertion_code', 'residue_number',\n",
      "       'author_residue_number', 'author_insertion_code', 'residue_number',\n",
      "       'author_residue_number', 'author_insertion_code', 'residue_number'],\n",
      "      dtype='object')\n",
      "Found correct uniprot map: 5HT1B_HUMAN 5HT1B_HUMAN\n",
      "Found correct uniprot map: 5HT1B_HUMAN 5HT1B_HUMAN\n",
      "trying to assign generic nubmers to 4EJ4\n",
      "loaded data to assign gen. numbers from data/raw/4EJ4.pkl\n",
      "Index(['author_residue_number', 'author_insertion_code', 'residue_number',\n",
      "       'author_residue_number', 'author_insertion_code', 'residue_number',\n",
      "       'author_residue_number', 'author_insertion_code', 'residue_number'],\n",
      "      dtype='object')\n",
      "Found correct uniprot map: OPRD_MOUSE OPRD_MOUSE\n",
      "Found correct uniprot map: OPRD_MOUSE OPRD_MOUSE\n",
      "trying to assign generic nubmers to 2R4R\n",
      "loaded data to assign gen. numbers from data/raw/2R4R.pkl\n",
      "Index(['author_residue_number', 'author_insertion_code', 'residue_number'], dtype='object')\n",
      "Found correct uniprot map: ADRB2_HUMAN ADRB2_HUMAN\n",
      "writing to file: data/processed/6A94.pkl\n",
      "writing to file: data/processed/6OY9.pkl\n",
      "10\n"
     ]
    },
    {
     "name": "stderr",
     "output_type": "stream",
     "text": [
      "1it [00:00,  3.77it/s]"
     ]
    },
    {
     "name": "stdout",
     "output_type": "stream",
     "text": [
      "Loading cif file of 5YC8\n",
      "data/mmcif/5YC8.cif\n",
      "Loading cif file of 6VN7\n",
      "data/mmcif/6VN7.cif\n"
     ]
    },
    {
     "name": "stderr",
     "output_type": "stream",
     "text": [
      "\r",
      "2it [00:00,  2.26it/s]"
     ]
    },
    {
     "name": "stdout",
     "output_type": "stream",
     "text": [
      "Loading cif file of 7JJO\n",
      "data/mmcif/7JJO.cif\n"
     ]
    },
    {
     "name": "stderr",
     "output_type": "stream",
     "text": [
      "\r",
      "3it [00:01,  1.44it/s]"
     ]
    },
    {
     "name": "stdout",
     "output_type": "stream",
     "text": [
      "Loading cif file of 6MH8\n",
      "data/mmcif/6MH8.cif\n"
     ]
    },
    {
     "name": "stderr",
     "output_type": "stream",
     "text": [
      "\r",
      "4it [00:02,  1.67it/s]"
     ]
    },
    {
     "name": "stdout",
     "output_type": "stream",
     "text": [
      "Loading cif file of 3D4S\n",
      "data/mmcif/3D4S.cif\n"
     ]
    },
    {
     "name": "stderr",
     "output_type": "stream",
     "text": [
      "\r",
      "5it [00:02,  1.99it/s]"
     ]
    },
    {
     "name": "stdout",
     "output_type": "stream",
     "text": [
      "Loading cif file of 2Y01\n",
      "data/mmcif/2Y01.cif\n"
     ]
    },
    {
     "name": "stderr",
     "output_type": "stream",
     "text": [
      "\r",
      "6it [00:03,  2.14it/s]"
     ]
    },
    {
     "name": "stdout",
     "output_type": "stream",
     "text": [
      "Loading cif file of 3NY9\n",
      "data/mmcif/3NY9.cif\n"
     ]
    },
    {
     "name": "stderr",
     "output_type": "stream",
     "text": [
      "\r",
      "7it [00:03,  2.38it/s]"
     ]
    },
    {
     "name": "stdout",
     "output_type": "stream",
     "text": [
      "Loading cif file of 6FKD\n",
      "data/mmcif/6FKD.cif\n"
     ]
    },
    {
     "name": "stderr",
     "output_type": "stream",
     "text": [
      "\r",
      "8it [00:03,  2.65it/s]"
     ]
    },
    {
     "name": "stdout",
     "output_type": "stream",
     "text": [
      "Loading cif file of 4XNW\n",
      "data/mmcif/4XNW.cif\n"
     ]
    },
    {
     "name": "stderr",
     "output_type": "stream",
     "text": [
      "\r",
      "9it [00:04,  2.51it/s]"
     ]
    },
    {
     "name": "stdout",
     "output_type": "stream",
     "text": [
      "Loading cif file of 6MET\n",
      "data/mmcif/6MET.cif\n"
     ]
    },
    {
     "name": "stderr",
     "output_type": "stream",
     "text": [
      "\r",
      "10it [00:04,  2.11it/s]"
     ]
    },
    {
     "name": "stdout",
     "output_type": "stream",
     "text": [
      "Loading cif file of 6P9Y\n",
      "data/mmcif/6P9Y.cif\n"
     ]
    },
    {
     "name": "stderr",
     "output_type": "stream",
     "text": [
      "\r",
      "11it [00:05,  1.96it/s]"
     ]
    },
    {
     "name": "stdout",
     "output_type": "stream",
     "text": [
      "Loading cif file of 2YCW\n",
      "data/mmcif/2YCW.cif\n"
     ]
    },
    {
     "name": "stderr",
     "output_type": "stream",
     "text": [
      "\r",
      "12it [00:05,  2.07it/s]"
     ]
    },
    {
     "name": "stdout",
     "output_type": "stream",
     "text": [
      "Loading cif file of 3AYN\n",
      "data/mmcif/3AYN.cif\n"
     ]
    },
    {
     "name": "stderr",
     "output_type": "stream",
     "text": [
      "\r",
      "13it [00:06,  2.07it/s]"
     ]
    },
    {
     "name": "stdout",
     "output_type": "stream",
     "text": [
      "Loading cif file of 4NTJ\n",
      "data/mmcif/4NTJ.cif\n"
     ]
    },
    {
     "name": "stderr",
     "output_type": "stream",
     "text": [
      "\r",
      "14it [00:06,  2.27it/s]"
     ]
    },
    {
     "name": "stdout",
     "output_type": "stream",
     "text": [
      "Loading cif file of 4U16\n",
      "data/mmcif/4U16.cif\n"
     ]
    },
    {
     "name": "stderr",
     "output_type": "stream",
     "text": [
      "\r",
      "15it [00:07,  2.18it/s]"
     ]
    },
    {
     "name": "stdout",
     "output_type": "stream",
     "text": [
      "Loading cif file of 4PY0\n",
      "data/mmcif/4PY0.cif\n"
     ]
    },
    {
     "name": "stderr",
     "output_type": "stream",
     "text": [
      "\r",
      "16it [00:07,  2.34it/s]"
     ]
    },
    {
     "name": "stdout",
     "output_type": "stream",
     "text": [
      "Loading cif file of 6LFL\n",
      "data/mmcif/6LFL.cif\n"
     ]
    },
    {
     "name": "stderr",
     "output_type": "stream",
     "text": [
      "\r",
      "17it [00:07,  2.40it/s]"
     ]
    },
    {
     "name": "stdout",
     "output_type": "stream",
     "text": [
      "Loading cif file of 5K2D\n",
      "data/mmcif/5K2D.cif\n"
     ]
    },
    {
     "name": "stderr",
     "output_type": "stream",
     "text": [
      "\r",
      "18it [00:08,  2.48it/s]"
     ]
    },
    {
     "name": "stdout",
     "output_type": "stream",
     "text": [
      "Loading cif file of 6WIV\n",
      "data/mmcif/6WIV.cif\n"
     ]
    },
    {
     "name": "stderr",
     "output_type": "stream",
     "text": [
      "\r",
      "19it [00:08,  1.89it/s]"
     ]
    },
    {
     "name": "stdout",
     "output_type": "stream",
     "text": [
      "Loading cif file of 4U14\n",
      "data/mmcif/4U14.cif\n"
     ]
    },
    {
     "name": "stderr",
     "output_type": "stream",
     "text": [
      "20it [00:09,  2.13it/s]\n"
     ]
    },
    {
     "name": "stdout",
     "output_type": "stream",
     "text": [
      "trying to assign generic nubmers to 5YC8\n",
      "loaded data to assign gen. numbers from data/raw/5YC8.pkl\n",
      "Index(['author_residue_number', 'author_insertion_code', 'residue_number',\n",
      "       'author_residue_number', 'author_insertion_code', 'residue_number',\n",
      "       'author_residue_number', 'author_insertion_code', 'residue_number'],\n",
      "      dtype='object')\n",
      "Found correct uniprot map: ACM2_HUMAN ACM2_HUMAN\n",
      "Found correct uniprot map: ACM2_HUMAN ACM2_HUMAN\n",
      "trying to assign generic nubmers to 6VN7\n",
      "loaded data to assign gen. numbers from data/raw/6VN7.pkl\n",
      "Index(['author_residue_number', 'author_insertion_code', 'residue_number'], dtype='object')\n",
      "Found correct uniprot map: VIPR1_HUMAN VIPR1_HUMAN\n",
      "trying to assign generic nubmers to 7JJO\n",
      "loaded data to assign gen. numbers from data/raw/7JJO.pkl\n",
      "Index(['author_residue_number', 'author_insertion_code', 'residue_number'], dtype='object')\n",
      "Found correct uniprot map: ADRB1_MELGA ADRB1_MELGA\n",
      "trying to assign generic nubmers to 6MH8\n",
      "loaded data to assign gen. numbers from data/raw/6MH8.pkl\n",
      "Index(['author_residue_number', 'author_insertion_code', 'residue_number',\n",
      "       'author_residue_number', 'author_insertion_code', 'residue_number',\n",
      "       'author_residue_number', 'author_insertion_code', 'residue_number'],\n",
      "      dtype='object')\n",
      "Found correct uniprot map: AA2AR_HUMAN AA2AR_HUMAN\n",
      "Found correct uniprot map: AA2AR_HUMAN AA2AR_HUMAN\n",
      "trying to assign generic nubmers to 3D4S\n",
      "loaded data to assign gen. numbers from data/raw/3D4S.pkl\n",
      "Index(['author_residue_number', 'author_insertion_code', 'residue_number',\n",
      "       'author_residue_number', 'author_insertion_code', 'residue_number',\n",
      "       'author_residue_number', 'author_insertion_code', 'residue_number'],\n",
      "      dtype='object')\n",
      "Found correct uniprot map: ADRB2_HUMAN ADRB2_HUMAN\n",
      "Found correct uniprot map: ADRB2_HUMAN ADRB2_HUMAN\n",
      "trying to assign generic nubmers to 2Y01\n",
      "loaded data to assign gen. numbers from data/raw/2Y01.pkl\n",
      "Index(['author_residue_number', 'author_insertion_code', 'residue_number'], dtype='object')\n",
      "Found correct uniprot map: ADRB1_MELGA ADRB1_MELGA\n",
      "trying to assign generic nubmers to 3NY9\n",
      "loaded data to assign gen. numbers from data/raw/3NY9.pkl\n",
      "Index(['author_residue_number', 'author_insertion_code', 'residue_number',\n",
      "       'author_residue_number', 'author_insertion_code', 'residue_number',\n",
      "       'author_residue_number', 'author_insertion_code', 'residue_number'],\n",
      "      dtype='object')\n",
      "Found correct uniprot map: ADRB2_HUMAN ADRB2_HUMAN\n",
      "Found correct uniprot map: ADRB2_HUMAN ADRB2_HUMAN\n",
      "trying to assign generic nubmers to 6FKD\n",
      "loaded data to assign gen. numbers from data/raw/6FKD.pkl\n",
      "Index(['author_residue_number', 'author_insertion_code', 'residue_number'], dtype='object')\n",
      "Found correct uniprot map: OPSD_BOVIN OPSD_BOVIN\n",
      "trying to assign generic nubmers to 4XNW\n",
      "loaded data to assign gen. numbers from data/raw/4XNW.pkl\n",
      "Index(['author_residue_number', 'author_insertion_code', 'residue_number',\n",
      "       'author_residue_number', 'author_insertion_code', 'residue_number',\n",
      "       'author_residue_number', 'author_insertion_code', 'residue_number'],\n",
      "      dtype='object')\n",
      "Found correct uniprot map: P2RY1_HUMAN P2RY1_HUMAN\n",
      "Found correct uniprot map: P2RY1_HUMAN P2RY1_HUMAN\n",
      "trying to assign generic nubmers to 6MET\n",
      "loaded data to assign gen. numbers from data/raw/6MET.pkl\n",
      "Index(['author_residue_number', 'author_insertion_code', 'residue_number'], dtype='object')\n",
      "Found correct uniprot map: CCR5_HUMAN CCR5_HUMAN\n",
      "trying to assign generic nubmers to 6P9Y\n",
      "loaded data to assign gen. numbers from data/raw/6P9Y.pkl\n",
      "Index(['author_residue_number', 'author_insertion_code', 'residue_number'], dtype='object')\n",
      "Found correct uniprot map: PACR_HUMAN PACR_HUMAN\n",
      "trying to assign generic nubmers to 2YCW\n",
      "loaded data to assign gen. numbers from data/raw/2YCW.pkl\n",
      "Index(['author_residue_number', 'author_insertion_code', 'residue_number'], dtype='object')\n",
      "Found correct uniprot map: ADRB1_MELGA ADRB1_MELGA\n",
      "trying to assign generic nubmers to 3AYN\n",
      "loaded data to assign gen. numbers from data/raw/3AYN.pkl\n",
      "Index(['author_residue_number', 'author_insertion_code', 'residue_number'], dtype='object')\n",
      "Found correct uniprot map: OPSD_TODPA OPSD_TODPA\n",
      "trying to assign generic nubmers to 4NTJ\n",
      "loaded data to assign gen. numbers from data/raw/4NTJ.pkl\n",
      "Index(['author_residue_number', 'author_insertion_code', 'residue_number',\n",
      "       'author_residue_number', 'author_insertion_code', 'residue_number',\n",
      "       'author_residue_number', 'author_insertion_code', 'residue_number'],\n",
      "      dtype='object')\n",
      "Found correct uniprot map: P2Y12_HUMAN P2Y12_HUMAN\n",
      "Found correct uniprot map: P2Y12_HUMAN P2Y12_HUMAN\n",
      "trying to assign generic nubmers to 4U16\n",
      "loaded data to assign gen. numbers from data/raw/4U16.pkl\n",
      "Index(['author_residue_number', 'author_insertion_code', 'residue_number',\n",
      "       'author_residue_number', 'author_insertion_code', 'residue_number',\n",
      "       'author_residue_number', 'author_insertion_code', 'residue_number'],\n",
      "      dtype='object')\n",
      "Found correct uniprot map: ACM3_RAT ACM3_RAT\n",
      "Found correct uniprot map: ACM3_RAT ACM3_RAT\n",
      "trying to assign generic nubmers to 4PY0\n",
      "loaded data to assign gen. numbers from data/raw/4PY0.pkl\n",
      "Index(['author_residue_number', 'author_insertion_code', 'residue_number',\n",
      "       'author_residue_number', 'author_insertion_code', 'residue_number',\n",
      "       'author_residue_number', 'author_insertion_code', 'residue_number'],\n",
      "      dtype='object')\n",
      "Found correct uniprot map: P2Y12_HUMAN P2Y12_HUMAN\n",
      "Found correct uniprot map: P2Y12_HUMAN P2Y12_HUMAN\n",
      "trying to assign generic nubmers to 6LFL\n",
      "loaded data to assign gen. numbers from data/raw/6LFL.pkl\n",
      "Index(['author_residue_number', 'author_insertion_code', 'residue_number',\n",
      "       'author_residue_number', 'author_insertion_code', 'residue_number',\n",
      "       'author_residue_number', 'author_insertion_code', 'residue_number'],\n",
      "      dtype='object')\n",
      "Found correct uniprot map: CXCR2_HUMAN CXCR2_HUMAN\n",
      "Found correct uniprot map: CXCR2_HUMAN CXCR2_HUMAN\n",
      "trying to assign generic nubmers to 5K2D\n",
      "loaded data to assign gen. numbers from data/raw/5K2D.pkl\n",
      "Index(['author_residue_number', 'author_insertion_code', 'residue_number',\n",
      "       'author_residue_number', 'author_insertion_code', 'residue_number',\n",
      "       'author_residue_number', 'author_insertion_code', 'residue_number'],\n",
      "      dtype='object')\n",
      "Found correct uniprot map: AA2AR_HUMAN AA2AR_HUMAN\n",
      "Found correct uniprot map: AA2AR_HUMAN AA2AR_HUMAN\n",
      "trying to assign generic nubmers to 6WIV\n",
      "loaded data to assign gen. numbers from data/raw/6WIV.pkl\n",
      "Index(['author_residue_number', 'author_insertion_code', 'residue_number'], dtype='object')\n",
      "Found correct uniprot map: GABR2_HUMAN GABR2_HUMAN\n",
      "trying to assign generic nubmers to 4U14\n",
      "loaded data to assign gen. numbers from data/raw/4U14.pkl\n",
      "Index(['author_residue_number', 'author_insertion_code', 'residue_number',\n",
      "       'author_residue_number', 'author_insertion_code', 'residue_number',\n",
      "       'author_residue_number', 'author_insertion_code', 'residue_number'],\n",
      "      dtype='object')\n",
      "Found correct uniprot map: ACM3_RAT ACM3_RAT\n",
      "Found correct uniprot map: ACM3_RAT ACM3_RAT\n",
      "writing to file: data/processed/6VN7.pkl\n",
      "writing to file: data/processed/2Y01.pkl\n",
      "writing to file: data/processed/6LFL.pkl\n",
      "11\n"
     ]
    },
    {
     "name": "stderr",
     "output_type": "stream",
     "text": [
      "\r",
      "0it [00:00, ?it/s]"
     ]
    },
    {
     "name": "stdout",
     "output_type": "stream",
     "text": [
      "Loading cif file of 6D32\n",
      "data/mmcif/6D32.cif\n"
     ]
    },
    {
     "name": "stderr",
     "output_type": "stream",
     "text": [
      "\r",
      "1it [00:00,  2.94it/s]"
     ]
    },
    {
     "name": "stdout",
     "output_type": "stream",
     "text": [
      "Loading cif file of 4LDL\n",
      "data/mmcif/4LDL.cif\n"
     ]
    },
    {
     "name": "stderr",
     "output_type": "stream",
     "text": [
      "\r",
      "2it [00:00,  2.89it/s]"
     ]
    },
    {
     "name": "stdout",
     "output_type": "stream",
     "text": [
      "Loading cif file of 4ZWJ\n",
      "data/mmcif/4ZWJ.cif\n"
     ]
    },
    {
     "name": "stderr",
     "output_type": "stream",
     "text": [
      "\r",
      "3it [00:03,  1.52s/it]"
     ]
    },
    {
     "name": "stdout",
     "output_type": "stream",
     "text": [
      "Loading cif file of 7L0Q\n",
      "data/mmcif/7L0Q.cif\n"
     ]
    },
    {
     "name": "stderr",
     "output_type": "stream",
     "text": [
      "\r",
      "4it [00:04,  1.15s/it]"
     ]
    },
    {
     "name": "stdout",
     "output_type": "stream",
     "text": [
      "Loading cif file of 6H7L\n",
      "data/mmcif/6H7L.cif\n"
     ]
    },
    {
     "name": "stderr",
     "output_type": "stream",
     "text": [
      "\r",
      "5it [00:04,  1.06it/s]"
     ]
    },
    {
     "name": "stdout",
     "output_type": "stream",
     "text": [
      "Loading cif file of 7CZ5\n",
      "data/mmcif/7CZ5.cif\n"
     ]
    },
    {
     "name": "stderr",
     "output_type": "stream",
     "text": [
      "\r",
      "6it [00:05,  1.20it/s]"
     ]
    },
    {
     "name": "stdout",
     "output_type": "stream",
     "text": [
      "Loading cif file of 4J4Q\n",
      "data/mmcif/4J4Q.cif\n"
     ]
    },
    {
     "name": "stderr",
     "output_type": "stream",
     "text": [
      "\r",
      "7it [00:05,  1.52it/s]"
     ]
    },
    {
     "name": "stdout",
     "output_type": "stream",
     "text": [
      "Loading cif file of 6DO1\n",
      "data/mmcif/6DO1.cif\n"
     ]
    },
    {
     "name": "stderr",
     "output_type": "stream",
     "text": [
      "\r",
      "8it [00:06,  1.57it/s]"
     ]
    },
    {
     "name": "stdout",
     "output_type": "stream",
     "text": [
      "Loading cif file of 6IBB\n",
      "data/mmcif/6IBB.cif\n"
     ]
    },
    {
     "name": "stderr",
     "output_type": "stream",
     "text": [
      "\r",
      "9it [00:06,  1.62it/s]"
     ]
    },
    {
     "name": "stdout",
     "output_type": "stream",
     "text": [
      "Loading cif file of 6AQF\n",
      "data/mmcif/6AQF.cif\n"
     ]
    },
    {
     "name": "stderr",
     "output_type": "stream",
     "text": [
      "\r",
      "10it [00:07,  1.88it/s]"
     ]
    },
    {
     "name": "stdout",
     "output_type": "stream",
     "text": [
      "Loading cif file of 5K2C\n",
      "data/mmcif/5K2C.cif\n"
     ]
    },
    {
     "name": "stderr",
     "output_type": "stream",
     "text": [
      "\r",
      "11it [00:07,  2.08it/s]"
     ]
    },
    {
     "name": "stdout",
     "output_type": "stream",
     "text": [
      "Loading cif file of 7D76\n",
      "data/mmcif/7D76.cif\n"
     ]
    },
    {
     "name": "stderr",
     "output_type": "stream",
     "text": [
      "\r",
      "12it [00:08,  1.98it/s]"
     ]
    },
    {
     "name": "stdout",
     "output_type": "stream",
     "text": [
      "Loading cif file of 6LI0\n",
      "data/mmcif/6LI0.cif\n"
     ]
    },
    {
     "name": "stderr",
     "output_type": "stream",
     "text": [
      "\r",
      "13it [00:08,  2.14it/s]"
     ]
    },
    {
     "name": "stdout",
     "output_type": "stream",
     "text": [
      "Loading cif file of 6PS4\n",
      "data/mmcif/6PS4.cif\n"
     ]
    },
    {
     "name": "stderr",
     "output_type": "stream",
     "text": [
      "\r",
      "14it [00:08,  2.25it/s]"
     ]
    },
    {
     "name": "stdout",
     "output_type": "stream",
     "text": [
      "Loading cif file of 6N52\n",
      "data/mmcif/6N52.cif\n"
     ]
    },
    {
     "name": "stderr",
     "output_type": "stream",
     "text": [
      "\r",
      "15it [00:09,  1.80it/s]"
     ]
    },
    {
     "name": "stdout",
     "output_type": "stream",
     "text": [
      "Loading cif file of 4N6H\n",
      "data/mmcif/4N6H.cif\n"
     ]
    },
    {
     "name": "stderr",
     "output_type": "stream",
     "text": [
      "\r",
      "16it [00:10,  1.98it/s]"
     ]
    },
    {
     "name": "stdout",
     "output_type": "stream",
     "text": [
      "Loading cif file of 6LI1\n",
      "data/mmcif/6LI1.cif\n"
     ]
    },
    {
     "name": "stderr",
     "output_type": "stream",
     "text": [
      "\r",
      "17it [00:10,  2.13it/s]"
     ]
    },
    {
     "name": "stdout",
     "output_type": "stream",
     "text": [
      "Loading cif file of 5OLV\n",
      "data/mmcif/5OLV.cif\n"
     ]
    },
    {
     "name": "stderr",
     "output_type": "stream",
     "text": [
      "\r",
      "18it [00:10,  2.23it/s]"
     ]
    },
    {
     "name": "stdout",
     "output_type": "stream",
     "text": [
      "Loading cif file of 6DRX\n",
      "data/mmcif/6DRX.cif\n"
     ]
    },
    {
     "name": "stderr",
     "output_type": "stream",
     "text": [
      "\r",
      "19it [00:11,  2.38it/s]"
     ]
    },
    {
     "name": "stdout",
     "output_type": "stream",
     "text": [
      "Loading cif file of 6M1I\n",
      "data/mmcif/6M1I.cif\n"
     ]
    },
    {
     "name": "stderr",
     "output_type": "stream",
     "text": [
      "20it [00:11,  1.68it/s]\n"
     ]
    },
    {
     "name": "stdout",
     "output_type": "stream",
     "text": [
      "trying to assign generic nubmers to 6D32\n",
      "loaded data to assign gen. numbers from data/raw/6D32.pkl\n",
      "Index(['author_residue_number', 'author_insertion_code', 'residue_number',\n",
      "       'author_residue_number', 'author_insertion_code', 'residue_number',\n",
      "       'author_residue_number', 'author_insertion_code', 'residue_number'],\n",
      "      dtype='object')\n",
      "trying to assign generic nubmers to 4LDL\n",
      "loaded data to assign gen. numbers from data/raw/4LDL.pkl\n",
      "Index(['author_residue_number', 'author_insertion_code', 'residue_number',\n",
      "       'author_residue_number', 'author_insertion_code', 'residue_number'],\n",
      "      dtype='object')\n",
      "Found correct uniprot map: ADRB2_HUMAN ADRB2_HUMAN\n",
      "trying to assign generic nubmers to 4ZWJ\n",
      "loaded data to assign gen. numbers from data/raw/4ZWJ.pkl\n",
      "Index(['author_residue_number', 'author_insertion_code', 'residue_number',\n",
      "       'author_residue_number', 'author_insertion_code', 'residue_number',\n",
      "       'author_residue_number', 'author_insertion_code', 'residue_number'],\n",
      "      dtype='object')\n",
      "Found correct uniprot map: OPSD_HUMAN OPSD_HUMAN\n",
      "trying to assign generic nubmers to 7L0Q\n",
      "loaded data to assign gen. numbers from data/raw/7L0Q.pkl\n",
      "Index(['author_residue_number', 'author_insertion_code', 'residue_number'], dtype='object')\n",
      "Found correct uniprot map: NTR1_RAT NTR1_RAT\n",
      "trying to assign generic nubmers to 6H7L\n",
      "loaded data to assign gen. numbers from data/raw/6H7L.pkl\n",
      "Index(['author_residue_number', 'author_insertion_code', 'residue_number'], dtype='object')\n",
      "Found correct uniprot map: ADRB1_MELGA ADRB1_MELGA\n",
      "trying to assign generic nubmers to 7CZ5\n",
      "loaded data to assign gen. numbers from data/raw/7CZ5.pkl\n",
      "Index(['author_residue_number', 'author_insertion_code', 'residue_number'], dtype='object')\n",
      "Found correct uniprot map: GHRHR_HUMAN GHRHR_HUMAN\n",
      "trying to assign generic nubmers to 4J4Q\n",
      "loaded data to assign gen. numbers from data/raw/4J4Q.pkl\n",
      "Index(['author_residue_number', 'author_insertion_code', 'residue_number'], dtype='object')\n",
      "Found correct uniprot map: OPSD_BOVIN OPSD_BOVIN\n",
      "trying to assign generic nubmers to 6DO1\n",
      "loaded data to assign gen. numbers from data/raw/6DO1.pkl\n",
      "Index(['author_residue_number', 'author_insertion_code', 'residue_number',\n",
      "       'author_residue_number', 'author_insertion_code', 'residue_number',\n",
      "       'author_residue_number', 'author_insertion_code', 'residue_number'],\n",
      "      dtype='object')\n",
      "Found correct uniprot map: AGTR1_HUMAN AGTR1_HUMAN\n",
      "Found correct uniprot map: AGTR1_HUMAN AGTR1_HUMAN\n",
      "trying to assign generic nubmers to 6IBB\n",
      "loaded data to assign gen. numbers from data/raw/6IBB.pkl\n",
      "Index(['author_residue_number', 'author_insertion_code', 'residue_number'], dtype='object')\n",
      "Found correct uniprot map: SUCR1_RAT SUCR1_RAT\n",
      "trying to assign generic nubmers to 6AQF\n",
      "loaded data to assign gen. numbers from data/raw/6AQF.pkl\n",
      "Index(['author_residue_number', 'author_insertion_code', 'residue_number',\n",
      "       'author_residue_number', 'author_insertion_code', 'residue_number',\n",
      "       'author_residue_number', 'author_insertion_code', 'residue_number'],\n",
      "      dtype='object')\n",
      "Found correct uniprot map: AA2AR_HUMAN AA2AR_HUMAN\n",
      "Found correct uniprot map: AA2AR_HUMAN AA2AR_HUMAN\n",
      "trying to assign generic nubmers to 5K2C\n",
      "loaded data to assign gen. numbers from data/raw/5K2C.pkl\n",
      "Index(['author_residue_number', 'author_insertion_code', 'residue_number',\n",
      "       'author_residue_number', 'author_insertion_code', 'residue_number',\n",
      "       'author_residue_number', 'author_insertion_code', 'residue_number'],\n",
      "      dtype='object')\n",
      "Found correct uniprot map: AA2AR_HUMAN AA2AR_HUMAN\n",
      "Found correct uniprot map: AA2AR_HUMAN AA2AR_HUMAN\n",
      "trying to assign generic nubmers to 7D76\n",
      "loaded data to assign gen. numbers from data/raw/7D76.pkl\n",
      "Index([], dtype='object')\n",
      "trying to assign generic nubmers to 6LI0\n",
      "loaded data to assign gen. numbers from data/raw/6LI0.pkl\n",
      "Index(['author_residue_number', 'author_insertion_code', 'residue_number',\n",
      "       'author_residue_number', 'author_insertion_code', 'residue_number',\n",
      "       'author_residue_number', 'author_insertion_code', 'residue_number'],\n",
      "      dtype='object')\n",
      "Found correct uniprot map: GPR52_HUMAN GPR52_HUMAN\n",
      "Found correct uniprot map: GPR52_HUMAN GPR52_HUMAN\n",
      "trying to assign generic nubmers to 6PS4\n",
      "loaded data to assign gen. numbers from data/raw/6PS4.pkl\n",
      "Index(['author_residue_number', 'author_insertion_code', 'residue_number',\n",
      "       'author_residue_number', 'author_insertion_code', 'residue_number',\n",
      "       'author_residue_number', 'author_insertion_code', 'residue_number'],\n",
      "      dtype='object')\n",
      "Found correct uniprot map: ADRB2_HUMAN ADRB2_HUMAN\n",
      "Found correct uniprot map: ADRB2_HUMAN ADRB2_HUMAN\n",
      "trying to assign generic nubmers to 6N52\n",
      "loaded data to assign gen. numbers from data/raw/6N52.pkl\n",
      "Index(['author_residue_number', 'author_insertion_code', 'residue_number'], dtype='object')\n",
      "Found correct uniprot map: GRM5_HUMAN GRM5_HUMAN\n",
      "trying to assign generic nubmers to 4N6H\n",
      "loaded data to assign gen. numbers from data/raw/4N6H.pkl\n",
      "Index(['author_residue_number', 'author_insertion_code', 'residue_number',\n",
      "       'author_residue_number', 'author_insertion_code', 'residue_number'],\n",
      "      dtype='object')\n",
      "Found correct uniprot map: OPRD_HUMAN OPRD_HUMAN\n",
      "trying to assign generic nubmers to 6LI1\n",
      "loaded data to assign gen. numbers from data/raw/6LI1.pkl\n",
      "Index(['author_residue_number', 'author_insertion_code', 'residue_number',\n",
      "       'author_residue_number', 'author_insertion_code', 'residue_number',\n",
      "       'author_residue_number', 'author_insertion_code', 'residue_number'],\n",
      "      dtype='object')\n",
      "Found correct uniprot map: GPR52_HUMAN GPR52_HUMAN\n",
      "Found correct uniprot map: GPR52_HUMAN GPR52_HUMAN\n",
      "trying to assign generic nubmers to 5OLV\n",
      "loaded data to assign gen. numbers from data/raw/5OLV.pkl\n",
      "Index(['author_residue_number', 'author_insertion_code', 'residue_number',\n",
      "       'author_residue_number', 'author_insertion_code', 'residue_number',\n",
      "       'author_residue_number', 'author_insertion_code', 'residue_number'],\n",
      "      dtype='object')\n",
      "Found correct uniprot map: AA2AR_HUMAN AA2AR_HUMAN\n",
      "Found correct uniprot map: AA2AR_HUMAN AA2AR_HUMAN\n",
      "trying to assign generic nubmers to 6DRX\n",
      "loaded data to assign gen. numbers from data/raw/6DRX.pkl\n",
      "Index(['author_residue_number', 'author_insertion_code', 'residue_number',\n",
      "       'author_residue_number', 'author_insertion_code', 'residue_number',\n",
      "       'author_residue_number', 'author_insertion_code', 'residue_number'],\n",
      "      dtype='object')\n",
      "Found correct uniprot map: 5HT2B_HUMAN 5HT2B_HUMAN\n",
      "Found correct uniprot map: 5HT2B_HUMAN 5HT2B_HUMAN\n",
      "trying to assign generic nubmers to 6M1I\n",
      "loaded data to assign gen. numbers from data/raw/6M1I.pkl\n",
      "Index(['author_residue_number', 'author_insertion_code', 'residue_number'], dtype='object')\n",
      "Found correct uniprot map: PACR_HUMAN PACR_HUMAN\n",
      "writing to file: data/processed/6D32.pkl\n",
      "writing to file: data/processed/4LDL.pkl\n",
      "writing to file: data/processed/6H7L.pkl\n",
      "writing to file: data/processed/7CZ5.pkl\n",
      "writing to file: data/processed/7D76.pkl\n",
      "writing to file: data/processed/6LI1.pkl\n",
      "writing to file: data/processed/6DRX.pkl\n",
      "writing to file: data/processed/6M1I.pkl\n",
      "12\n"
     ]
    },
    {
     "name": "stderr",
     "output_type": "stream",
     "text": [
      "\r",
      "0it [00:00, ?it/s]"
     ]
    },
    {
     "name": "stdout",
     "output_type": "stream",
     "text": [
      "Loading cif file of 5UEN\n",
      "data/mmcif/5UEN.cif\n"
     ]
    },
    {
     "name": "stderr",
     "output_type": "stream",
     "text": [
      "\r",
      "1it [00:00,  2.20it/s]"
     ]
    },
    {
     "name": "stdout",
     "output_type": "stream",
     "text": [
      "Loading cif file of 6W2X\n",
      "data/mmcif/6W2X.cif\n"
     ]
    },
    {
     "name": "stderr",
     "output_type": "stream",
     "text": [
      "\r",
      "2it [00:01,  1.75it/s]"
     ]
    },
    {
     "name": "stdout",
     "output_type": "stream",
     "text": [
      "Loading cif file of 3OE8\n",
      "data/mmcif/3OE8.cif\n"
     ]
    },
    {
     "name": "stderr",
     "output_type": "stream",
     "text": [
      "\r",
      "3it [00:01,  1.55it/s]"
     ]
    },
    {
     "name": "stdout",
     "output_type": "stream",
     "text": [
      "Loading cif file of 6GPS\n",
      "data/mmcif/6GPS.cif\n"
     ]
    },
    {
     "name": "stderr",
     "output_type": "stream",
     "text": [
      "\r",
      "4it [00:02,  1.79it/s]"
     ]
    },
    {
     "name": "stdout",
     "output_type": "stream",
     "text": [
      "Loading cif file of 5X33\n",
      "data/mmcif/5X33.cif\n"
     ]
    },
    {
     "name": "stderr",
     "output_type": "stream",
     "text": [
      "\r",
      "5it [00:02,  2.12it/s]"
     ]
    },
    {
     "name": "stdout",
     "output_type": "stream",
     "text": [
      "Loading cif file of 6UVA\n",
      "data/mmcif/6UVA.cif\n"
     ]
    },
    {
     "name": "stderr",
     "output_type": "stream",
     "text": [
      "\r",
      "6it [00:03,  1.85it/s]"
     ]
    },
    {
     "name": "stdout",
     "output_type": "stream",
     "text": [
      "Loading cif file of 5T04\n",
      "data/mmcif/5T04.cif\n"
     ]
    },
    {
     "name": "stderr",
     "output_type": "stream",
     "text": [
      "\r",
      "7it [00:03,  2.09it/s]"
     ]
    },
    {
     "name": "stdout",
     "output_type": "stream",
     "text": [
      "Loading cif file of 5V57\n",
      "data/mmcif/5V57.cif\n"
     ]
    },
    {
     "name": "stderr",
     "output_type": "stream",
     "text": [
      "\r",
      "8it [00:04,  1.78it/s]"
     ]
    },
    {
     "name": "stdout",
     "output_type": "stream",
     "text": [
      "Loading cif file of 6WH4\n",
      "data/mmcif/6WH4.cif\n"
     ]
    },
    {
     "name": "stderr",
     "output_type": "stream",
     "text": [
      "\r",
      "9it [00:04,  1.74it/s]"
     ]
    },
    {
     "name": "stdout",
     "output_type": "stream",
     "text": [
      "Loading cif file of 4XT3\n",
      "data/mmcif/4XT3.cif\n"
     ]
    },
    {
     "name": "stderr",
     "output_type": "stream",
     "text": [
      "\r",
      "10it [00:05,  2.05it/s]"
     ]
    },
    {
     "name": "stdout",
     "output_type": "stream",
     "text": [
      "Loading cif file of 7C6A\n",
      "data/mmcif/7C6A.cif\n"
     ]
    },
    {
     "name": "stderr",
     "output_type": "stream",
     "text": [
      "\r",
      "11it [00:05,  2.00it/s]"
     ]
    },
    {
     "name": "stdout",
     "output_type": "stream",
     "text": [
      "Loading cif file of 1GZM\n",
      "data/mmcif/1GZM.cif\n"
     ]
    },
    {
     "name": "stderr",
     "output_type": "stream",
     "text": [
      "\r",
      "12it [00:06,  2.04it/s]"
     ]
    },
    {
     "name": "stdout",
     "output_type": "stream",
     "text": [
      "Loading cif file of 5GLI\n",
      "data/mmcif/5GLI.cif\n"
     ]
    },
    {
     "name": "stderr",
     "output_type": "stream",
     "text": [
      "\r",
      "13it [00:06,  2.11it/s]"
     ]
    },
    {
     "name": "stdout",
     "output_type": "stream",
     "text": [
      "Loading cif file of 6ORV\n",
      "data/mmcif/6ORV.cif\n"
     ]
    },
    {
     "name": "stderr",
     "output_type": "stream",
     "text": [
      "\r",
      "14it [00:07,  1.93it/s]"
     ]
    },
    {
     "name": "stdout",
     "output_type": "stream",
     "text": [
      "Loading cif file of 5OLZ\n",
      "data/mmcif/5OLZ.cif\n"
     ]
    },
    {
     "name": "stderr",
     "output_type": "stream",
     "text": [
      "\r",
      "15it [00:07,  2.10it/s]"
     ]
    },
    {
     "name": "stdout",
     "output_type": "stream",
     "text": [
      "Loading cif file of 5VEX\n",
      "data/mmcif/5VEX.cif\n"
     ]
    },
    {
     "name": "stderr",
     "output_type": "stream",
     "text": [
      "\r",
      "16it [00:08,  1.98it/s]"
     ]
    },
    {
     "name": "stdout",
     "output_type": "stream",
     "text": [
      "Loading cif file of 3ZPR\n",
      "data/mmcif/3ZPR.cif\n"
     ]
    },
    {
     "name": "stderr",
     "output_type": "stream",
     "text": [
      "\r",
      "17it [00:08,  2.02it/s]"
     ]
    },
    {
     "name": "stdout",
     "output_type": "stream",
     "text": [
      "Loading cif file of 6KQI\n",
      "data/mmcif/6KQI.cif\n"
     ]
    },
    {
     "name": "stderr",
     "output_type": "stream",
     "text": [
      "\r",
      "18it [00:09,  2.14it/s]"
     ]
    },
    {
     "name": "stdout",
     "output_type": "stream",
     "text": [
      "Loading cif file of 6OFJ\n",
      "data/mmcif/6OFJ.cif\n"
     ]
    },
    {
     "name": "stderr",
     "output_type": "stream",
     "text": [
      "\r",
      "19it [00:09,  1.77it/s]"
     ]
    },
    {
     "name": "stdout",
     "output_type": "stream",
     "text": [
      "Loading cif file of 6PS5\n",
      "data/mmcif/6PS5.cif\n"
     ]
    },
    {
     "name": "stderr",
     "output_type": "stream",
     "text": [
      "20it [00:10,  1.93it/s]\n"
     ]
    },
    {
     "name": "stdout",
     "output_type": "stream",
     "text": [
      "trying to assign generic nubmers to 5UEN\n",
      "loaded data to assign gen. numbers from data/raw/5UEN.pkl\n",
      "Index(['author_residue_number', 'author_insertion_code', 'residue_number',\n",
      "       'author_residue_number', 'author_insertion_code', 'residue_number',\n",
      "       'author_residue_number', 'author_insertion_code', 'residue_number'],\n",
      "      dtype='object')\n",
      "Found correct uniprot map: AA1R_HUMAN AA1R_HUMAN\n",
      "Found correct uniprot map: AA1R_HUMAN AA1R_HUMAN\n",
      "trying to assign generic nubmers to 6W2X\n",
      "loaded data to assign gen. numbers from data/raw/6W2X.pkl\n",
      "Index(['author_residue_number', 'author_insertion_code', 'residue_number'], dtype='object')\n",
      "Found correct uniprot map: GABR2_HUMAN GABR2_HUMAN\n",
      "trying to assign generic nubmers to 3OE8\n",
      "loaded data to assign gen. numbers from data/raw/3OE8.pkl\n",
      "Index(['author_residue_number', 'author_insertion_code', 'residue_number',\n",
      "       'author_residue_number', 'author_insertion_code', 'residue_number',\n",
      "       'author_residue_number', 'author_insertion_code', 'residue_number'],\n",
      "      dtype='object')\n",
      "Found correct uniprot map: CXCR4_HUMAN CXCR4_HUMAN\n",
      "Found correct uniprot map: CXCR4_HUMAN CXCR4_HUMAN\n",
      "trying to assign generic nubmers to 6GPS\n",
      "loaded data to assign gen. numbers from data/raw/6GPS.pkl\n",
      "Index(['author_residue_number', 'author_insertion_code', 'residue_number',\n",
      "       'author_residue_number', 'author_insertion_code', 'residue_number',\n",
      "       'author_residue_number', 'author_insertion_code', 'residue_number'],\n",
      "      dtype='object')\n",
      "Found correct uniprot map: CCR2_HUMAN CCR2_HUMAN\n",
      "Found correct uniprot map: CCR2_HUMAN CCR2_HUMAN\n",
      "trying to assign generic nubmers to 5X33\n",
      "loaded data to assign gen. numbers from data/raw/5X33.pkl\n",
      "Index(['author_residue_number', 'author_insertion_code', 'residue_number',\n",
      "       'author_residue_number', 'author_insertion_code', 'residue_number',\n",
      "       'author_residue_number', 'author_insertion_code', 'residue_number'],\n",
      "      dtype='object')\n",
      "Found correct uniprot map: Q9WTK1_CAVPO Q9WTK1_CAVPO\n",
      "Found correct uniprot map: Q9WTK1_CAVPO Q9WTK1_CAVPO\n",
      "trying to assign generic nubmers to 6UVA\n",
      "loaded data to assign gen. numbers from data/raw/6UVA.pkl\n",
      "Index(['author_residue_number', 'author_insertion_code', 'residue_number'], dtype='object')\n",
      "Found correct uniprot map: CALRL_HUMAN CALRL_HUMAN\n",
      "trying to assign generic nubmers to 5T04\n",
      "loaded data to assign gen. numbers from data/raw/5T04.pkl\n",
      "Index(['author_residue_number', 'author_insertion_code', 'residue_number',\n",
      "       'author_residue_number', 'author_insertion_code', 'residue_number',\n",
      "       'author_residue_number', 'author_insertion_code', 'residue_number'],\n",
      "      dtype='object')\n",
      "Found correct uniprot map: NTR1_RAT NTR1_RAT\n",
      "Found correct uniprot map: NTR1_RAT NTR1_RAT\n",
      "trying to assign generic nubmers to 5V57\n",
      "loaded data to assign gen. numbers from data/raw/5V57.pkl\n",
      "Index(['author_residue_number', 'author_insertion_code', 'residue_number',\n",
      "       'author_residue_number', 'author_insertion_code', 'residue_number',\n",
      "       'author_residue_number', 'author_insertion_code', 'residue_number'],\n",
      "      dtype='object')\n",
      "Found correct uniprot map: SMO_HUMAN SMO_HUMAN\n",
      "Found correct uniprot map: SMO_HUMAN SMO_HUMAN\n",
      "trying to assign generic nubmers to 6WH4\n",
      "loaded data to assign gen. numbers from data/raw/6WH4.pkl\n",
      "Index(['author_residue_number', 'author_insertion_code', 'residue_number',\n",
      "       'author_residue_number', 'author_insertion_code', 'residue_number',\n",
      "       'author_residue_number', 'author_insertion_code', 'residue_number'],\n",
      "      dtype='object')\n",
      "Found correct uniprot map: 5HT2A_HUMAN 5HT2A_HUMAN\n",
      "Found correct uniprot map: 5HT2A_HUMAN 5HT2A_HUMAN\n",
      "trying to assign generic nubmers to 4XT3\n",
      "loaded data to assign gen. numbers from data/raw/4XT3.pkl\n",
      "Index(['author_residue_number', 'author_insertion_code', 'residue_number'], dtype='object')\n",
      "Found correct uniprot map: US28_HCMVA US28_HCMVA\n",
      "trying to assign generic nubmers to 7C6A\n",
      "loaded data to assign gen. numbers from data/raw/7C6A.pkl\n",
      "Index(['author_residue_number', 'author_insertion_code', 'residue_number',\n",
      "       'author_residue_number', 'author_insertion_code', 'residue_number',\n",
      "       'author_residue_number', 'author_insertion_code', 'residue_number'],\n",
      "      dtype='object')\n",
      "Found correct uniprot map: AGTR2_HUMAN AGTR2_HUMAN\n",
      "Found correct uniprot map: AGTR2_HUMAN AGTR2_HUMAN\n",
      "trying to assign generic nubmers to 1GZM\n",
      "loaded data to assign gen. numbers from data/raw/1GZM.pkl\n",
      "Index(['author_residue_number', 'author_insertion_code', 'residue_number'], dtype='object')\n",
      "Found correct uniprot map: OPSD_BOVIN OPSD_BOVIN\n",
      "trying to assign generic nubmers to 5GLI\n",
      "loaded data to assign gen. numbers from data/raw/5GLI.pkl\n",
      "Index(['author_residue_number', 'author_insertion_code', 'residue_number',\n",
      "       'author_residue_number', 'author_insertion_code', 'residue_number',\n",
      "       'author_residue_number', 'author_insertion_code', 'residue_number',\n",
      "       'author_residue_number', 'author_insertion_code', 'residue_number'],\n",
      "      dtype='object')\n",
      "Found correct uniprot map: EDNRB_HUMAN EDNRB_HUMAN\n",
      "Found correct uniprot map: EDNRB_HUMAN EDNRB_HUMAN\n",
      "Found correct uniprot map: EDNRB_HUMAN EDNRB_HUMAN\n",
      "trying to assign generic nubmers to 6ORV\n",
      "loaded data to assign gen. numbers from data/raw/6ORV.pkl\n",
      "Index([], dtype='object')\n",
      "trying to assign generic nubmers to 5OLZ\n",
      "loaded data to assign gen. numbers from data/raw/5OLZ.pkl\n",
      "Index(['author_residue_number', 'author_insertion_code', 'residue_number',\n",
      "       'author_residue_number', 'author_insertion_code', 'residue_number',\n",
      "       'author_residue_number', 'author_insertion_code', 'residue_number'],\n",
      "      dtype='object')\n",
      "Found correct uniprot map: AA2AR_HUMAN AA2AR_HUMAN\n",
      "Found correct uniprot map: AA2AR_HUMAN AA2AR_HUMAN\n",
      "trying to assign generic nubmers to 5VEX\n",
      "loaded data to assign gen. numbers from data/raw/5VEX.pkl\n",
      "Index(['author_residue_number', 'author_insertion_code', 'residue_number',\n",
      "       'author_residue_number', 'author_insertion_code', 'residue_number',\n",
      "       'author_residue_number', 'author_insertion_code', 'residue_number',\n",
      "       'author_residue_number', 'author_insertion_code', 'residue_number',\n",
      "       'author_residue_number', 'author_insertion_code', 'residue_number'],\n",
      "      dtype='object')\n",
      "Found correct uniprot map: GLP1R_HUMAN GLP1R_HUMAN\n",
      "Found correct uniprot map: GLP1R_HUMAN GLP1R_HUMAN\n",
      "Found correct uniprot map: GLP1R_HUMAN GLP1R_HUMAN\n",
      "Found correct uniprot map: GLP1R_HUMAN GLP1R_HUMAN\n",
      "trying to assign generic nubmers to 3ZPR\n",
      "loaded data to assign gen. numbers from data/raw/3ZPR.pkl\n",
      "Index(['author_residue_number', 'author_insertion_code', 'residue_number'], dtype='object')\n",
      "Found correct uniprot map: ADRB1_MELGA ADRB1_MELGA\n",
      "trying to assign generic nubmers to 6KQI\n",
      "loaded data to assign gen. numbers from data/raw/6KQI.pkl\n",
      "Index(['author_residue_number', 'author_insertion_code', 'residue_number',\n",
      "       'author_residue_number', 'author_insertion_code', 'residue_number',\n",
      "       'author_residue_number', 'author_insertion_code', 'residue_number'],\n",
      "      dtype='object')\n",
      "Found correct uniprot map: CNR1_HUMAN CNR1_HUMAN\n",
      "Found correct uniprot map: CNR1_HUMAN CNR1_HUMAN\n",
      "trying to assign generic nubmers to 6OFJ\n",
      "loaded data to assign gen. numbers from data/raw/6OFJ.pkl\n",
      "Index(['author_residue_number', 'author_insertion_code', 'residue_number'], dtype='object')\n",
      "Found correct uniprot map: OPSD_BOVIN OPSD_BOVIN\n",
      "trying to assign generic nubmers to 6PS5\n",
      "loaded data to assign gen. numbers from data/raw/6PS5.pkl\n",
      "Index(['author_residue_number', 'author_insertion_code', 'residue_number',\n",
      "       'author_residue_number', 'author_insertion_code', 'residue_number',\n",
      "       'author_residue_number', 'author_insertion_code', 'residue_number'],\n",
      "      dtype='object')\n",
      "Found correct uniprot map: ADRB2_HUMAN ADRB2_HUMAN\n",
      "Found correct uniprot map: ADRB2_HUMAN ADRB2_HUMAN\n",
      "writing to file: data/processed/5UEN.pkl\n",
      "writing to file: data/processed/3OE8.pkl\n",
      "writing to file: data/processed/6UVA.pkl\n",
      "writing to file: data/processed/4XT3.pkl\n",
      "writing to file: data/processed/7C6A.pkl\n",
      "writing to file: data/processed/6ORV.pkl\n",
      "13\n"
     ]
    },
    {
     "name": "stderr",
     "output_type": "stream",
     "text": [
      "\r",
      "0it [00:00, ?it/s]"
     ]
    },
    {
     "name": "stdout",
     "output_type": "stream",
     "text": [
      "Loading cif file of 6WPW\n",
      "data/mmcif/6WPW.cif\n"
     ]
    },
    {
     "name": "stderr",
     "output_type": "stream",
     "text": [
      "\r",
      "1it [00:00,  1.65it/s]"
     ]
    },
    {
     "name": "stdout",
     "output_type": "stream",
     "text": [
      "Loading cif file of 5NLX\n",
      "data/mmcif/5NLX.cif\n"
     ]
    },
    {
     "name": "stderr",
     "output_type": "stream",
     "text": [
      "\r",
      "2it [00:01,  1.95it/s]"
     ]
    },
    {
     "name": "stdout",
     "output_type": "stream",
     "text": [
      "Loading cif file of 5NM2\n",
      "data/mmcif/5NM2.cif\n"
     ]
    },
    {
     "name": "stderr",
     "output_type": "stream",
     "text": [
      "4it [00:03,  1.29it/s]"
     ]
    },
    {
     "name": "stdout",
     "output_type": "stream",
     "text": [
      "Loading cif file of 6FK9\n",
      "data/mmcif/6FK9.cif\n",
      "Loading cif file of 5V54\n",
      "data/mmcif/5V54.cif\n"
     ]
    },
    {
     "name": "stderr",
     "output_type": "stream",
     "text": [
      "6it [00:03,  1.90it/s]"
     ]
    },
    {
     "name": "stdout",
     "output_type": "stream",
     "text": [
      "Loading cif file of 6DRZ\n",
      "data/mmcif/6DRZ.cif\n",
      "Loading cif file of 5L7I\n",
      "data/mmcif/5L7I.cif\n"
     ]
    },
    {
     "name": "stderr",
     "output_type": "stream",
     "text": [
      "8it [00:04,  2.12it/s]"
     ]
    },
    {
     "name": "stdout",
     "output_type": "stream",
     "text": [
      "Loading cif file of 5A8E\n",
      "data/mmcif/5A8E.cif\n",
      "Loading cif file of 6HLL\n",
      "data/mmcif/6HLL.cif\n"
     ]
    },
    {
     "name": "stderr",
     "output_type": "stream",
     "text": [
      "\r",
      "9it [00:05,  2.31it/s]"
     ]
    },
    {
     "name": "stdout",
     "output_type": "stream",
     "text": [
      "Loading cif file of 3NYA\n",
      "data/mmcif/3NYA.cif\n"
     ]
    },
    {
     "name": "stderr",
     "output_type": "stream",
     "text": [
      "\r",
      "10it [00:05,  2.50it/s]"
     ]
    },
    {
     "name": "stdout",
     "output_type": "stream",
     "text": [
      "Loading cif file of 6GT3\n",
      "data/mmcif/6GT3.cif\n"
     ]
    },
    {
     "name": "stderr",
     "output_type": "stream",
     "text": [
      "\r",
      "11it [00:05,  2.61it/s]"
     ]
    },
    {
     "name": "stdout",
     "output_type": "stream",
     "text": [
      "Loading cif file of 6OL9\n",
      "data/mmcif/6OL9.cif\n"
     ]
    },
    {
     "name": "stderr",
     "output_type": "stream",
     "text": [
      "\r",
      "12it [00:06,  2.73it/s]"
     ]
    },
    {
     "name": "stdout",
     "output_type": "stream",
     "text": [
      "Loading cif file of 5ZK3\n",
      "data/mmcif/5ZK3.cif\n"
     ]
    },
    {
     "name": "stderr",
     "output_type": "stream",
     "text": [
      "\r",
      "13it [00:06,  2.85it/s]"
     ]
    },
    {
     "name": "stdout",
     "output_type": "stream",
     "text": [
      "Loading cif file of 5XJM\n",
      "data/mmcif/5XJM.cif\n"
     ]
    },
    {
     "name": "stderr",
     "output_type": "stream",
     "text": [
      "\r",
      "14it [00:06,  2.50it/s]"
     ]
    },
    {
     "name": "stdout",
     "output_type": "stream",
     "text": [
      "Loading cif file of 5UIW\n",
      "data/mmcif/5UIW.cif\n"
     ]
    },
    {
     "name": "stderr",
     "output_type": "stream",
     "text": [
      "\r",
      "15it [00:07,  2.60it/s]"
     ]
    },
    {
     "name": "stdout",
     "output_type": "stream",
     "text": [
      "Loading cif file of 5DHG\n",
      "data/mmcif/5DHG.cif\n"
     ]
    },
    {
     "name": "stderr",
     "output_type": "stream",
     "text": [
      "\r",
      "16it [00:07,  2.48it/s]"
     ]
    },
    {
     "name": "stdout",
     "output_type": "stream",
     "text": [
      "Loading cif file of 2J4Y\n",
      "data/mmcif/2J4Y.cif\n"
     ]
    },
    {
     "name": "stderr",
     "output_type": "stream",
     "text": [
      "\r",
      "17it [00:08,  2.39it/s]"
     ]
    },
    {
     "name": "stdout",
     "output_type": "stream",
     "text": [
      "Loading cif file of 7LCK\n",
      "data/mmcif/7LCK.cif\n"
     ]
    },
    {
     "name": "stderr",
     "output_type": "stream",
     "text": [
      "\r",
      "18it [00:08,  2.54it/s]"
     ]
    },
    {
     "name": "stdout",
     "output_type": "stream",
     "text": [
      "Loading cif file of 6WHA\n",
      "data/mmcif/6WHA.cif\n"
     ]
    },
    {
     "name": "stderr",
     "output_type": "stream",
     "text": [
      "\r",
      "19it [00:09,  2.18it/s]"
     ]
    },
    {
     "name": "stdout",
     "output_type": "stream",
     "text": [
      "Loading cif file of 3ODU\n",
      "data/mmcif/3ODU.cif\n"
     ]
    },
    {
     "name": "stderr",
     "output_type": "stream",
     "text": [
      "20it [00:09,  2.05it/s]\n"
     ]
    },
    {
     "name": "stdout",
     "output_type": "stream",
     "text": [
      "trying to assign generic nubmers to 6WPW\n",
      "loaded data to assign gen. numbers from data/raw/6WPW.pkl\n",
      "Index(['author_residue_number', 'author_insertion_code', 'residue_number'], dtype='object')\n",
      "Found correct uniprot map: GLR_HUMAN GLR_HUMAN\n",
      "trying to assign generic nubmers to 5NLX\n",
      "loaded data to assign gen. numbers from data/raw/5NLX.pkl\n",
      "Index(['author_residue_number', 'author_insertion_code', 'residue_number',\n",
      "       'author_residue_number', 'author_insertion_code', 'residue_number',\n",
      "       'author_residue_number', 'author_insertion_code', 'residue_number'],\n",
      "      dtype='object')\n",
      "Found correct uniprot map: AA2AR_HUMAN AA2AR_HUMAN\n",
      "Found correct uniprot map: AA2AR_HUMAN AA2AR_HUMAN\n",
      "trying to assign generic nubmers to 5NM2\n",
      "loaded data to assign gen. numbers from data/raw/5NM2.pkl\n",
      "Index(['author_residue_number', 'author_insertion_code', 'residue_number',\n",
      "       'author_residue_number', 'author_insertion_code', 'residue_number',\n",
      "       'author_residue_number', 'author_insertion_code', 'residue_number'],\n",
      "      dtype='object')\n",
      "Found correct uniprot map: AA2AR_HUMAN AA2AR_HUMAN\n",
      "Found correct uniprot map: AA2AR_HUMAN AA2AR_HUMAN\n",
      "trying to assign generic nubmers to 6FK9\n",
      "loaded data to assign gen. numbers from data/raw/6FK9.pkl\n",
      "Index(['author_residue_number', 'author_insertion_code', 'residue_number'], dtype='object')\n",
      "Found correct uniprot map: OPSD_BOVIN OPSD_BOVIN\n",
      "trying to assign generic nubmers to 5V54\n",
      "loaded data to assign gen. numbers from data/raw/5V54.pkl\n",
      "Index(['author_residue_number', 'author_insertion_code', 'residue_number',\n",
      "       'author_residue_number', 'author_insertion_code', 'residue_number',\n",
      "       'author_residue_number', 'author_insertion_code', 'residue_number',\n",
      "       'author_residue_number', 'author_insertion_code', 'residue_number',\n",
      "       'author_residue_number', 'author_insertion_code', 'residue_number',\n",
      "       'author_residue_number', 'author_insertion_code', 'residue_number',\n",
      "       'author_residue_number', 'author_insertion_code', 'residue_number'],\n",
      "      dtype='object')\n",
      "Found correct uniprot map: 5HT1B_HUMAN 5HT1B_HUMAN\n",
      "Found correct uniprot map: 5HT1B_HUMAN 5HT1B_HUMAN\n",
      "Found correct uniprot map: 5HT1B_HUMAN 5HT1B_HUMAN\n",
      "Found correct uniprot map: 5HT1B_HUMAN 5HT1B_HUMAN\n",
      "Found correct uniprot map: 5HT1B_HUMAN 5HT1B_HUMAN\n",
      "Found correct uniprot map: 5HT1B_HUMAN 5HT1B_HUMAN\n",
      "Found correct uniprot map: 5HT1B_HUMAN 5HT1B_HUMAN\n",
      "trying to assign generic nubmers to 6DRZ\n",
      "loaded data to assign gen. numbers from data/raw/6DRZ.pkl\n",
      "Index(['author_residue_number', 'author_insertion_code', 'residue_number',\n",
      "       'author_residue_number', 'author_insertion_code', 'residue_number',\n",
      "       'author_residue_number', 'author_insertion_code', 'residue_number'],\n",
      "      dtype='object')\n",
      "Found correct uniprot map: 5HT2B_HUMAN 5HT2B_HUMAN\n",
      "Found correct uniprot map: 5HT2B_HUMAN 5HT2B_HUMAN\n",
      "trying to assign generic nubmers to 5L7I\n",
      "loaded data to assign gen. numbers from data/raw/5L7I.pkl\n",
      "Index(['author_residue_number', 'author_insertion_code', 'residue_number',\n",
      "       'author_residue_number', 'author_insertion_code', 'residue_number',\n",
      "       'author_residue_number', 'author_insertion_code', 'residue_number'],\n",
      "      dtype='object')\n",
      "Found correct uniprot map: SMO_HUMAN SMO_HUMAN\n",
      "Found correct uniprot map: SMO_HUMAN SMO_HUMAN\n",
      "trying to assign generic nubmers to 5A8E\n",
      "loaded data to assign gen. numbers from data/raw/5A8E.pkl\n",
      "Index(['author_residue_number', 'author_insertion_code', 'residue_number'], dtype='object')\n",
      "Found correct uniprot map: ADRB1_MELGA ADRB1_MELGA\n",
      "trying to assign generic nubmers to 6HLL\n",
      "loaded data to assign gen. numbers from data/raw/6HLL.pkl\n",
      "Index(['author_residue_number', 'author_insertion_code', 'residue_number',\n",
      "       'author_residue_number', 'author_insertion_code', 'residue_number',\n",
      "       'author_residue_number', 'author_insertion_code', 'residue_number'],\n",
      "      dtype='object')\n",
      "Found correct uniprot map: NK1R_HUMAN NK1R_HUMAN\n",
      "Found correct uniprot map: NK1R_HUMAN NK1R_HUMAN\n",
      "trying to assign generic nubmers to 3NYA\n",
      "loaded data to assign gen. numbers from data/raw/3NYA.pkl\n",
      "Index(['author_residue_number', 'author_insertion_code', 'residue_number',\n",
      "       'author_residue_number', 'author_insertion_code', 'residue_number',\n",
      "       'author_residue_number', 'author_insertion_code', 'residue_number'],\n",
      "      dtype='object')\n",
      "Found correct uniprot map: ADRB2_HUMAN ADRB2_HUMAN\n",
      "Found correct uniprot map: ADRB2_HUMAN ADRB2_HUMAN\n",
      "trying to assign generic nubmers to 6GT3\n",
      "loaded data to assign gen. numbers from data/raw/6GT3.pkl\n",
      "Index(['author_residue_number', 'author_insertion_code', 'residue_number',\n",
      "       'author_residue_number', 'author_insertion_code', 'residue_number',\n",
      "       'author_residue_number', 'author_insertion_code', 'residue_number'],\n",
      "      dtype='object')\n",
      "Found correct uniprot map: AA2AR_HUMAN AA2AR_HUMAN\n",
      "Found correct uniprot map: AA2AR_HUMAN AA2AR_HUMAN\n",
      "trying to assign generic nubmers to 6OL9\n",
      "loaded data to assign gen. numbers from data/raw/6OL9.pkl\n",
      "Index(['author_residue_number', 'author_insertion_code', 'residue_number',\n",
      "       'author_residue_number', 'author_insertion_code', 'residue_number',\n",
      "       'author_residue_number', 'author_insertion_code', 'residue_number'],\n",
      "      dtype='object')\n",
      "Found correct uniprot map: ACM5_HUMAN ACM5_HUMAN\n",
      "Found correct uniprot map: ACM5_HUMAN ACM5_HUMAN\n",
      "trying to assign generic nubmers to 5ZK3\n",
      "loaded data to assign gen. numbers from data/raw/5ZK3.pkl\n",
      "Index(['author_residue_number', 'author_insertion_code', 'residue_number',\n",
      "       'author_residue_number', 'author_insertion_code', 'residue_number',\n",
      "       'author_residue_number', 'author_insertion_code', 'residue_number'],\n",
      "      dtype='object')\n",
      "Found correct uniprot map: ACM2_HUMAN ACM2_HUMAN\n",
      "Found correct uniprot map: ACM2_HUMAN ACM2_HUMAN\n",
      "trying to assign generic nubmers to 5XJM\n",
      "loaded data to assign gen. numbers from data/raw/5XJM.pkl\n",
      "Index(['author_residue_number', 'author_insertion_code', 'residue_number',\n",
      "       'author_residue_number', 'author_insertion_code', 'residue_number',\n",
      "       'author_residue_number', 'author_insertion_code', 'residue_number'],\n",
      "      dtype='object')\n",
      "Found correct uniprot map: AGTR2_HUMAN AGTR2_HUMAN\n",
      "Found correct uniprot map: AGTR2_HUMAN AGTR2_HUMAN\n",
      "trying to assign generic nubmers to 5UIW\n",
      "loaded data to assign gen. numbers from data/raw/5UIW.pkl\n",
      "Index(['author_residue_number', 'author_insertion_code', 'residue_number',\n",
      "       'author_residue_number', 'author_insertion_code', 'residue_number',\n",
      "       'author_residue_number', 'author_insertion_code', 'residue_number'],\n",
      "      dtype='object')\n",
      "Found correct uniprot map: CCR5_HUMAN CCR5_HUMAN\n",
      "Found correct uniprot map: CCR5_HUMAN CCR5_HUMAN\n",
      "trying to assign generic nubmers to 5DHG\n",
      "loaded data to assign gen. numbers from data/raw/5DHG.pkl\n",
      "Index(['author_residue_number', 'author_insertion_code', 'residue_number',\n",
      "       'author_residue_number', 'author_insertion_code', 'residue_number'],\n",
      "      dtype='object')\n",
      "Found correct uniprot map: OPRX_HUMAN OPRX_HUMAN\n",
      "trying to assign generic nubmers to 2J4Y\n",
      "loaded data to assign gen. numbers from data/raw/2J4Y.pkl\n",
      "Index(['author_residue_number', 'author_insertion_code', 'residue_number'], dtype='object')\n",
      "Found correct uniprot map: OPSD_BOVIN OPSD_BOVIN\n",
      "trying to assign generic nubmers to 7LCK\n",
      "loaded data to assign gen. numbers from data/raw/7LCK.pkl\n",
      "Index(['author_residue_number', 'author_insertion_code', 'residue_number'], dtype='object')\n",
      "Found correct uniprot map: GLP1R_HUMAN GLP1R_HUMAN\n",
      "trying to assign generic nubmers to 6WHA\n",
      "loaded data to assign gen. numbers from data/raw/6WHA.pkl\n",
      "Index(['author_residue_number', 'author_insertion_code', 'residue_number',\n",
      "       'author_residue_number', 'author_insertion_code', 'residue_number'],\n",
      "      dtype='object')\n",
      "Found correct uniprot map: 5HT2A_HUMAN 5HT2A_HUMAN\n",
      "trying to assign generic nubmers to 3ODU\n",
      "loaded data to assign gen. numbers from data/raw/3ODU.pkl\n",
      "Index(['author_residue_number', 'author_insertion_code', 'residue_number',\n",
      "       'author_residue_number', 'author_insertion_code', 'residue_number',\n",
      "       'author_residue_number', 'author_insertion_code', 'residue_number'],\n",
      "      dtype='object')\n",
      "Found correct uniprot map: CXCR4_HUMAN CXCR4_HUMAN\n",
      "Found correct uniprot map: CXCR4_HUMAN CXCR4_HUMAN\n"
     ]
    },
    {
     "name": "stdout",
     "output_type": "stream",
     "text": [
      "writing to file: data/processed/5NM2.pkl\n",
      "writing to file: data/processed/3NYA.pkl\n",
      "writing to file: data/processed/2J4Y.pkl\n",
      "writing to file: data/processed/6WHA.pkl\n",
      "14\n"
     ]
    },
    {
     "name": "stderr",
     "output_type": "stream",
     "text": [
      "\r",
      "0it [00:00, ?it/s]"
     ]
    },
    {
     "name": "stdout",
     "output_type": "stream",
     "text": [
      "Loading cif file of 6TKO\n",
      "data/mmcif/6TKO.cif\n"
     ]
    },
    {
     "name": "stderr",
     "output_type": "stream",
     "text": [
      "\r",
      "1it [00:00,  1.84it/s]"
     ]
    },
    {
     "name": "stdout",
     "output_type": "stream",
     "text": [
      "Loading cif file of 4Z9G\n",
      "data/mmcif/4Z9G.cif\n"
     ]
    },
    {
     "name": "stderr",
     "output_type": "stream",
     "text": [
      "3it [00:01,  2.08it/s]"
     ]
    },
    {
     "name": "stdout",
     "output_type": "stream",
     "text": [
      "Loading cif file of 3V2W\n",
      "data/mmcif/3V2W.cif\n"
     ]
    },
    {
     "name": "stderr",
     "output_type": "stream",
     "text": [
      "\r",
      "4it [00:01,  2.50it/s]"
     ]
    },
    {
     "name": "stdout",
     "output_type": "stream",
     "text": [
      "Loading cif file of 4NC3\n",
      "data/mmcif/4NC3.cif\n",
      "Loading cif file of 5GLH\n",
      "data/mmcif/5GLH.cif\n"
     ]
    },
    {
     "name": "stderr",
     "output_type": "stream",
     "text": [
      "\r",
      "5it [00:02,  2.73it/s]"
     ]
    },
    {
     "name": "stdout",
     "output_type": "stream",
     "text": [
      "Loading cif file of 4WW3\n",
      "data/mmcif/4WW3.cif\n"
     ]
    },
    {
     "name": "stderr",
     "output_type": "stream",
     "text": [
      "\r",
      "6it [00:02,  2.57it/s]"
     ]
    },
    {
     "name": "stdout",
     "output_type": "stream",
     "text": [
      "Loading cif file of 5VEW\n",
      "data/mmcif/5VEW.cif\n"
     ]
    },
    {
     "name": "stderr",
     "output_type": "stream",
     "text": [
      "\r",
      "7it [00:03,  2.31it/s]"
     ]
    },
    {
     "name": "stdout",
     "output_type": "stream",
     "text": [
      "Loading cif file of 6KUW\n",
      "data/mmcif/6KUW.cif\n"
     ]
    },
    {
     "name": "stderr",
     "output_type": "stream",
     "text": [
      "\r",
      "8it [00:03,  2.09it/s]"
     ]
    },
    {
     "name": "stdout",
     "output_type": "stream",
     "text": [
      "Loading cif file of 3OAX\n",
      "data/mmcif/3OAX.cif\n"
     ]
    },
    {
     "name": "stderr",
     "output_type": "stream",
     "text": [
      "\r",
      "9it [00:04,  2.11it/s]"
     ]
    },
    {
     "name": "stdout",
     "output_type": "stream",
     "text": [
      "Loading cif file of 5CXV\n",
      "data/mmcif/5CXV.cif\n"
     ]
    },
    {
     "name": "stderr",
     "output_type": "stream",
     "text": [
      "\r",
      "10it [00:04,  2.31it/s]"
     ]
    },
    {
     "name": "stdout",
     "output_type": "stream",
     "text": [
      "Loading cif file of 5UVI\n",
      "data/mmcif/5UVI.cif\n"
     ]
    },
    {
     "name": "stderr",
     "output_type": "stream",
     "text": [
      "\r",
      "11it [00:04,  2.54it/s]"
     ]
    },
    {
     "name": "stdout",
     "output_type": "stream",
     "text": [
      "Loading cif file of 3PBL\n",
      "data/mmcif/3PBL.cif\n"
     ]
    },
    {
     "name": "stderr",
     "output_type": "stream",
     "text": [
      "\r",
      "12it [00:05,  2.28it/s]"
     ]
    },
    {
     "name": "stdout",
     "output_type": "stream",
     "text": [
      "Loading cif file of 5D5A\n",
      "data/mmcif/5D5A.cif\n"
     ]
    },
    {
     "name": "stderr",
     "output_type": "stream",
     "text": [
      "\r",
      "13it [00:05,  2.40it/s]"
     ]
    },
    {
     "name": "stdout",
     "output_type": "stream",
     "text": [
      "Loading cif file of 6LPK\n",
      "data/mmcif/6LPK.cif\n"
     ]
    },
    {
     "name": "stderr",
     "output_type": "stream",
     "text": [
      "\r",
      "14it [00:06,  2.54it/s]"
     ]
    },
    {
     "name": "stdout",
     "output_type": "stream",
     "text": [
      "Loading cif file of 6RZ5\n",
      "data/mmcif/6RZ5.cif\n"
     ]
    },
    {
     "name": "stderr",
     "output_type": "stream",
     "text": [
      "\r",
      "15it [00:06,  2.34it/s]"
     ]
    },
    {
     "name": "stdout",
     "output_type": "stream",
     "text": [
      "Loading cif file of 7C7Q\n",
      "data/mmcif/7C7Q.cif\n"
     ]
    },
    {
     "name": "stderr",
     "output_type": "stream",
     "text": [
      "\r",
      "16it [00:07,  1.86it/s]"
     ]
    },
    {
     "name": "stdout",
     "output_type": "stream",
     "text": [
      "Loading cif file of 4O9R\n",
      "data/mmcif/4O9R.cif\n"
     ]
    },
    {
     "name": "stderr",
     "output_type": "stream",
     "text": [
      "\r",
      "17it [00:07,  2.06it/s]"
     ]
    },
    {
     "name": "stdout",
     "output_type": "stream",
     "text": [
      "Loading cif file of 6OMM\n",
      "data/mmcif/6OMM.cif\n"
     ]
    },
    {
     "name": "stderr",
     "output_type": "stream",
     "text": [
      "\r",
      "18it [00:08,  1.82it/s]"
     ]
    },
    {
     "name": "stdout",
     "output_type": "stream",
     "text": [
      "Loading cif file of 5XRA\n",
      "data/mmcif/5XRA.cif\n"
     ]
    },
    {
     "name": "stderr",
     "output_type": "stream",
     "text": [
      "\r",
      "19it [00:08,  2.01it/s]"
     ]
    },
    {
     "name": "stdout",
     "output_type": "stream",
     "text": [
      "Loading cif file of 5NDZ\n",
      "data/mmcif/5NDZ.cif\n"
     ]
    },
    {
     "name": "stderr",
     "output_type": "stream",
     "text": [
      "20it [00:09,  2.18it/s]\n"
     ]
    },
    {
     "name": "stdout",
     "output_type": "stream",
     "text": [
      "trying to assign generic nubmers to 6TKO\n",
      "loaded data to assign gen. numbers from data/raw/6TKO.pkl\n",
      "Index(['author_residue_number', 'author_insertion_code', 'residue_number'], dtype='object')\n",
      "Found correct uniprot map: ADRB1_MELGA ADRB1_MELGA\n",
      "trying to assign generic nubmers to 4Z9G\n",
      "loaded data to assign gen. numbers from data/raw/4Z9G.pkl\n",
      "Index(['author_residue_number', 'author_insertion_code', 'residue_number',\n",
      "       'author_residue_number', 'author_insertion_code', 'residue_number',\n",
      "       'author_residue_number', 'author_insertion_code', 'residue_number'],\n",
      "      dtype='object')\n",
      "Found correct uniprot map: CRFR1_HUMAN CRFR1_HUMAN\n",
      "Found correct uniprot map: CRFR1_HUMAN CRFR1_HUMAN\n",
      "trying to assign generic nubmers to 3V2W\n",
      "loaded data to assign gen. numbers from data/raw/3V2W.pkl\n",
      "Index(['author_residue_number', 'author_insertion_code', 'residue_number',\n",
      "       'author_residue_number', 'author_insertion_code', 'residue_number',\n",
      "       'author_residue_number', 'author_insertion_code', 'residue_number'],\n",
      "      dtype='object')\n",
      "Found correct uniprot map: S1PR1_HUMAN S1PR1_HUMAN\n",
      "Found correct uniprot map: S1PR1_HUMAN S1PR1_HUMAN\n",
      "trying to assign generic nubmers to 4NC3\n",
      "loaded data to assign gen. numbers from data/raw/4NC3.pkl\n",
      "Index(['author_residue_number', 'author_insertion_code', 'residue_number',\n",
      "       'author_residue_number', 'author_insertion_code', 'residue_number',\n",
      "       'author_residue_number', 'author_insertion_code', 'residue_number'],\n",
      "      dtype='object')\n",
      "Found correct uniprot map: 5HT2B_HUMAN 5HT2B_HUMAN\n",
      "Found correct uniprot map: 5HT2B_HUMAN 5HT2B_HUMAN\n",
      "trying to assign generic nubmers to 5GLH\n",
      "loaded data to assign gen. numbers from data/raw/5GLH.pkl\n",
      "Index(['author_residue_number', 'author_insertion_code', 'residue_number',\n",
      "       'author_residue_number', 'author_insertion_code', 'residue_number',\n",
      "       'author_residue_number', 'author_insertion_code', 'residue_number'],\n",
      "      dtype='object')\n",
      "Found correct uniprot map: EDNRB_HUMAN EDNRB_HUMAN\n",
      "Found correct uniprot map: EDNRB_HUMAN EDNRB_HUMAN\n",
      "trying to assign generic nubmers to 4WW3\n",
      "loaded data to assign gen. numbers from data/raw/4WW3.pkl\n",
      "Index(['author_residue_number', 'author_insertion_code', 'residue_number'], dtype='object')\n",
      "Found correct uniprot map: OPSD_TODPA OPSD_TODPA\n",
      "trying to assign generic nubmers to 5VEW\n",
      "loaded data to assign gen. numbers from data/raw/5VEW.pkl\n",
      "Index(['author_residue_number', 'author_insertion_code', 'residue_number',\n",
      "       'author_residue_number', 'author_insertion_code', 'residue_number',\n",
      "       'author_residue_number', 'author_insertion_code', 'residue_number',\n",
      "       'author_residue_number', 'author_insertion_code', 'residue_number',\n",
      "       'author_residue_number', 'author_insertion_code', 'residue_number'],\n",
      "      dtype='object')\n",
      "Found correct uniprot map: GLP1R_HUMAN GLP1R_HUMAN\n",
      "Found correct uniprot map: GLP1R_HUMAN GLP1R_HUMAN\n",
      "Found correct uniprot map: GLP1R_HUMAN GLP1R_HUMAN\n",
      "Found correct uniprot map: GLP1R_HUMAN GLP1R_HUMAN\n",
      "trying to assign generic nubmers to 6KUW\n",
      "loaded data to assign gen. numbers from data/raw/6KUW.pkl\n",
      "Index(['author_residue_number', 'author_insertion_code', 'residue_number',\n",
      "       'author_residue_number', 'author_insertion_code', 'residue_number',\n",
      "       'author_residue_number', 'author_insertion_code', 'residue_number'],\n",
      "      dtype='object')\n",
      "Found correct uniprot map: ADA2C_HUMAN ADA2C_HUMAN\n",
      "Found correct uniprot map: ADA2C_HUMAN ADA2C_HUMAN\n",
      "trying to assign generic nubmers to 3OAX\n",
      "loaded data to assign gen. numbers from data/raw/3OAX.pkl\n",
      "Index(['author_residue_number', 'author_insertion_code', 'residue_number'], dtype='object')\n",
      "Found correct uniprot map: OPSD_BOVIN OPSD_BOVIN\n",
      "trying to assign generic nubmers to 5CXV\n",
      "loaded data to assign gen. numbers from data/raw/5CXV.pkl\n",
      "Index(['author_residue_number', 'author_insertion_code', 'residue_number',\n",
      "       'author_residue_number', 'author_insertion_code', 'residue_number',\n",
      "       'author_residue_number', 'author_insertion_code', 'residue_number',\n",
      "       'author_residue_number', 'author_insertion_code', 'residue_number',\n",
      "       'author_residue_number', 'author_insertion_code', 'residue_number'],\n",
      "      dtype='object')\n",
      "Found correct uniprot map: ACM1_HUMAN ACM1_HUMAN\n",
      "Found correct uniprot map: ACM1_HUMAN ACM1_HUMAN\n",
      "Found correct uniprot map: ACM1_HUMAN ACM1_HUMAN\n",
      "trying to assign generic nubmers to 5UVI\n",
      "loaded data to assign gen. numbers from data/raw/5UVI.pkl\n",
      "Index(['author_residue_number', 'author_insertion_code', 'residue_number',\n",
      "       'author_residue_number', 'author_insertion_code', 'residue_number',\n",
      "       'author_residue_number', 'author_insertion_code', 'residue_number'],\n",
      "      dtype='object')\n",
      "Found correct uniprot map: AA2AR_HUMAN AA2AR_HUMAN\n",
      "Found correct uniprot map: AA2AR_HUMAN AA2AR_HUMAN\n",
      "trying to assign generic nubmers to 3PBL\n",
      "loaded data to assign gen. numbers from data/raw/3PBL.pkl\n",
      "Index(['author_residue_number', 'author_insertion_code', 'residue_number',\n",
      "       'author_residue_number', 'author_insertion_code', 'residue_number',\n",
      "       'author_residue_number', 'author_insertion_code', 'residue_number'],\n",
      "      dtype='object')\n",
      "Found correct uniprot map: DRD3_HUMAN DRD3_HUMAN\n",
      "Found correct uniprot map: DRD3_HUMAN DRD3_HUMAN\n",
      "trying to assign generic nubmers to 5D5A\n",
      "loaded data to assign gen. numbers from data/raw/5D5A.pkl\n",
      "Index(['author_residue_number', 'author_insertion_code', 'residue_number',\n",
      "       'author_residue_number', 'author_insertion_code', 'residue_number',\n",
      "       'author_residue_number', 'author_insertion_code', 'residue_number'],\n",
      "      dtype='object')\n",
      "Found correct uniprot map: ADRB2_HUMAN ADRB2_HUMAN\n",
      "Found correct uniprot map: ADRB2_HUMAN ADRB2_HUMAN\n",
      "trying to assign generic nubmers to 6LPK\n",
      "loaded data to assign gen. numbers from data/raw/6LPK.pkl\n",
      "Index(['author_residue_number', 'author_insertion_code', 'residue_number',\n",
      "       'author_residue_number', 'author_insertion_code', 'residue_number',\n",
      "       'author_residue_number', 'author_insertion_code', 'residue_number'],\n",
      "      dtype='object')\n",
      "Found correct uniprot map: AA2AR_HUMAN AA2AR_HUMAN\n",
      "Found correct uniprot map: AA2AR_HUMAN AA2AR_HUMAN\n",
      "trying to assign generic nubmers to 6RZ5\n",
      "loaded data to assign gen. numbers from data/raw/6RZ5.pkl\n",
      "Index(['author_residue_number', 'author_insertion_code', 'residue_number',\n",
      "       'author_residue_number', 'author_insertion_code', 'residue_number',\n",
      "       'author_residue_number', 'author_insertion_code', 'residue_number'],\n",
      "      dtype='object')\n",
      "Found correct uniprot map: CLTR1_HUMAN CLTR1_HUMAN\n",
      "Found correct uniprot map: CLTR1_HUMAN CLTR1_HUMAN\n",
      "trying to assign generic nubmers to 7C7Q\n",
      "loaded data to assign gen. numbers from data/raw/7C7Q.pkl\n",
      "Index(['author_residue_number', 'author_insertion_code', 'residue_number'], dtype='object')\n",
      "Found correct uniprot map: GABR2_HUMAN GABR2_HUMAN\n",
      "trying to assign generic nubmers to 4O9R\n",
      "loaded data to assign gen. numbers from data/raw/4O9R.pkl\n",
      "Index(['author_residue_number', 'author_insertion_code', 'residue_number',\n",
      "       'author_residue_number', 'author_insertion_code', 'residue_number',\n",
      "       'author_residue_number', 'author_insertion_code', 'residue_number'],\n",
      "      dtype='object')\n",
      "Found correct uniprot map: SMO_HUMAN SMO_HUMAN\n",
      "Found correct uniprot map: SMO_HUMAN SMO_HUMAN\n",
      "trying to assign generic nubmers to 6OMM\n",
      "loaded data to assign gen. numbers from data/raw/6OMM.pkl\n",
      "Index(['author_residue_number', 'author_insertion_code', 'residue_number'], dtype='object')\n",
      "Found correct uniprot map: FPR2_HUMAN FPR2_HUMAN\n",
      "trying to assign generic nubmers to 5XRA\n",
      "loaded data to assign gen. numbers from data/raw/5XRA.pkl\n",
      "Index(['author_residue_number', 'author_insertion_code', 'residue_number',\n",
      "       'author_residue_number', 'author_insertion_code', 'residue_number',\n",
      "       'author_residue_number', 'author_insertion_code', 'residue_number'],\n",
      "      dtype='object')\n",
      "Found correct uniprot map: CNR1_HUMAN CNR1_HUMAN\n",
      "Found correct uniprot map: CNR1_HUMAN CNR1_HUMAN\n",
      "trying to assign generic nubmers to 5NDZ\n",
      "loaded data to assign gen. numbers from data/raw/5NDZ.pkl\n",
      "Index(['author_residue_number', 'author_insertion_code', 'residue_number',\n",
      "       'author_residue_number', 'author_insertion_code', 'residue_number',\n",
      "       'author_residue_number', 'author_insertion_code', 'residue_number',\n",
      "       'author_residue_number', 'author_insertion_code', 'residue_number'],\n",
      "      dtype='object')\n",
      "Found correct uniprot map: PAR2_HUMAN PAR2_HUMAN\n"
     ]
    },
    {
     "name": "stdout",
     "output_type": "stream",
     "text": [
      "Found correct uniprot map: PAR2_HUMAN PAR2_HUMAN\n",
      "writing to file: data/processed/4Z9G.pkl\n",
      "writing to file: data/processed/4NC3.pkl\n",
      "writing to file: data/processed/5UVI.pkl\n",
      "writing to file: data/processed/3PBL.pkl\n",
      "writing to file: data/processed/7C7Q.pkl\n",
      "15\n"
     ]
    },
    {
     "name": "stderr",
     "output_type": "stream",
     "text": [
      "\r",
      "0it [00:00, ?it/s]"
     ]
    },
    {
     "name": "stdout",
     "output_type": "stream",
     "text": [
      "Loading cif file of 6LML\n",
      "data/mmcif/6LML.cif\n"
     ]
    },
    {
     "name": "stderr",
     "output_type": "stream",
     "text": [
      "2it [00:00,  2.56it/s]"
     ]
    },
    {
     "name": "stdout",
     "output_type": "stream",
     "text": [
      "Loading cif file of 3C9M\n",
      "data/mmcif/3C9M.cif\n",
      "Loading cif file of 6OYA\n",
      "data/mmcif/6OYA.cif\n"
     ]
    },
    {
     "name": "stderr",
     "output_type": "stream",
     "text": [
      "\r",
      "3it [00:01,  2.13it/s]"
     ]
    },
    {
     "name": "stdout",
     "output_type": "stream",
     "text": [
      "Loading cif file of 5DHH\n",
      "data/mmcif/5DHH.cif\n"
     ]
    },
    {
     "name": "stderr",
     "output_type": "stream",
     "text": [
      "\r",
      "4it [00:01,  2.26it/s]"
     ]
    },
    {
     "name": "stdout",
     "output_type": "stream",
     "text": [
      "Loading cif file of 6BQG\n",
      "data/mmcif/6BQG.cif\n"
     ]
    },
    {
     "name": "stderr",
     "output_type": "stream",
     "text": [
      "\r",
      "5it [00:02,  2.61it/s]"
     ]
    },
    {
     "name": "stdout",
     "output_type": "stream",
     "text": [
      "Loading cif file of 6WZG\n",
      "data/mmcif/6WZG.cif\n"
     ]
    },
    {
     "name": "stderr",
     "output_type": "stream",
     "text": [
      "\r",
      "6it [00:02,  2.16it/s]"
     ]
    },
    {
     "name": "stdout",
     "output_type": "stream",
     "text": [
      "Loading cif file of 6PS2\n",
      "data/mmcif/6PS2.cif\n"
     ]
    },
    {
     "name": "stderr",
     "output_type": "stream",
     "text": [
      "\r",
      "7it [00:03,  2.36it/s]"
     ]
    },
    {
     "name": "stdout",
     "output_type": "stream",
     "text": [
      "Loading cif file of 5DGY\n",
      "data/mmcif/5DGY.cif\n"
     ]
    },
    {
     "name": "stderr",
     "output_type": "stream",
     "text": [
      "\r",
      "8it [00:06,  1.24s/it]"
     ]
    },
    {
     "name": "stdout",
     "output_type": "stream",
     "text": [
      "Loading cif file of 4LDO\n",
      "data/mmcif/4LDO.cif\n"
     ]
    },
    {
     "name": "stderr",
     "output_type": "stream",
     "text": [
      "\r",
      "9it [00:06,  1.02it/s]"
     ]
    },
    {
     "name": "stdout",
     "output_type": "stream",
     "text": [
      "Loading cif file of 4XES\n",
      "data/mmcif/4XES.cif\n"
     ]
    },
    {
     "name": "stderr",
     "output_type": "stream",
     "text": [
      "\r",
      "10it [00:06,  1.26it/s]"
     ]
    },
    {
     "name": "stdout",
     "output_type": "stream",
     "text": [
      "Loading cif file of 6PS1\n",
      "data/mmcif/6PS1.cif\n"
     ]
    },
    {
     "name": "stderr",
     "output_type": "stream",
     "text": [
      "\r",
      "11it [00:07,  1.52it/s]"
     ]
    },
    {
     "name": "stdout",
     "output_type": "stream",
     "text": [
      "Loading cif file of 6A93\n",
      "data/mmcif/6A93.cif\n"
     ]
    },
    {
     "name": "stderr",
     "output_type": "stream",
     "text": [
      "\r",
      "12it [00:07,  1.63it/s]"
     ]
    },
    {
     "name": "stdout",
     "output_type": "stream",
     "text": [
      "Loading cif file of 3P0G\n",
      "data/mmcif/3P0G.cif\n"
     ]
    },
    {
     "name": "stderr",
     "output_type": "stream",
     "text": [
      "\r",
      "13it [00:08,  1.88it/s]"
     ]
    },
    {
     "name": "stdout",
     "output_type": "stream",
     "text": [
      "Loading cif file of 7CFM\n",
      "data/mmcif/7CFM.cif\n"
     ]
    },
    {
     "name": "stderr",
     "output_type": "stream",
     "text": [
      "\r",
      "14it [00:08,  1.78it/s]"
     ]
    },
    {
     "name": "stdout",
     "output_type": "stream",
     "text": [
      "Loading cif file of 6TQ4\n",
      "data/mmcif/6TQ4.cif\n"
     ]
    },
    {
     "name": "stderr",
     "output_type": "stream",
     "text": [
      "\r",
      "15it [00:09,  1.87it/s]"
     ]
    },
    {
     "name": "stdout",
     "output_type": "stream",
     "text": [
      "Loading cif file of 6Z10\n",
      "data/mmcif/6Z10.cif\n"
     ]
    },
    {
     "name": "stderr",
     "output_type": "stream",
     "text": [
      "\r",
      "16it [00:09,  2.02it/s]"
     ]
    },
    {
     "name": "stdout",
     "output_type": "stream",
     "text": [
      "Loading cif file of 6RZ4\n",
      "data/mmcif/6RZ4.cif\n"
     ]
    },
    {
     "name": "stderr",
     "output_type": "stream",
     "text": [
      "\r",
      "17it [00:09,  2.20it/s]"
     ]
    },
    {
     "name": "stdout",
     "output_type": "stream",
     "text": [
      "Loading cif file of 4UHR\n",
      "data/mmcif/4UHR.cif\n"
     ]
    },
    {
     "name": "stderr",
     "output_type": "stream",
     "text": [
      "\r",
      "18it [00:10,  2.41it/s]"
     ]
    },
    {
     "name": "stdout",
     "output_type": "stream",
     "text": [
      "Loading cif file of 5UIG\n",
      "data/mmcif/5UIG.cif\n"
     ]
    },
    {
     "name": "stderr",
     "output_type": "stream",
     "text": [
      "\r",
      "19it [00:10,  2.53it/s]"
     ]
    },
    {
     "name": "stdout",
     "output_type": "stream",
     "text": [
      "Loading cif file of 5IUA\n",
      "data/mmcif/5IUA.cif\n"
     ]
    },
    {
     "name": "stderr",
     "output_type": "stream",
     "text": [
      "20it [00:10,  1.82it/s]\n"
     ]
    },
    {
     "name": "stdout",
     "output_type": "stream",
     "text": [
      "trying to assign generic nubmers to 6LML\n",
      "loaded data to assign gen. numbers from data/raw/6LML.pkl\n",
      "Index(['author_residue_number', 'author_insertion_code', 'residue_number'], dtype='object')\n",
      "Found correct uniprot map: GLR_HUMAN GLR_HUMAN\n",
      "trying to assign generic nubmers to 3C9M\n",
      "loaded data to assign gen. numbers from data/raw/3C9M.pkl\n",
      "Index(['author_residue_number', 'author_insertion_code', 'residue_number'], dtype='object')\n",
      "Found correct uniprot map: OPSD_BOVIN OPSD_BOVIN\n",
      "trying to assign generic nubmers to 6OYA\n",
      "loaded data to assign gen. numbers from data/raw/6OYA.pkl\n",
      "Index(['author_residue_number', 'author_insertion_code', 'residue_number'], dtype='object')\n",
      "Found correct uniprot map: OPSD_BOVIN OPSD_BOVIN\n",
      "trying to assign generic nubmers to 5DHH\n",
      "loaded data to assign gen. numbers from data/raw/5DHH.pkl\n",
      "Index(['author_residue_number', 'author_insertion_code', 'residue_number',\n",
      "       'author_residue_number', 'author_insertion_code', 'residue_number'],\n",
      "      dtype='object')\n",
      "Found correct uniprot map: OPRX_HUMAN OPRX_HUMAN\n",
      "trying to assign generic nubmers to 6BQG\n",
      "loaded data to assign gen. numbers from data/raw/6BQG.pkl\n",
      "Index(['author_residue_number', 'author_insertion_code', 'residue_number',\n",
      "       'author_residue_number', 'author_insertion_code', 'residue_number',\n",
      "       'author_residue_number', 'author_insertion_code', 'residue_number'],\n",
      "      dtype='object')\n",
      "Found correct uniprot map: 5HT2C_HUMAN 5HT2C_HUMAN\n",
      "Found correct uniprot map: 5HT2C_HUMAN 5HT2C_HUMAN\n",
      "trying to assign generic nubmers to 6WZG\n",
      "loaded data to assign gen. numbers from data/raw/6WZG.pkl\n",
      "Index(['author_residue_number', 'author_insertion_code', 'residue_number'], dtype='object')\n",
      "Found correct uniprot map: SCTR_HUMAN SCTR_HUMAN\n",
      "trying to assign generic nubmers to 6PS2\n",
      "loaded data to assign gen. numbers from data/raw/6PS2.pkl\n",
      "Index(['author_residue_number', 'author_insertion_code', 'residue_number',\n",
      "       'author_residue_number', 'author_insertion_code', 'residue_number',\n",
      "       'author_residue_number', 'author_insertion_code', 'residue_number'],\n",
      "      dtype='object')\n",
      "Found correct uniprot map: ADRB2_HUMAN ADRB2_HUMAN\n",
      "Found correct uniprot map: ADRB2_HUMAN ADRB2_HUMAN\n",
      "trying to assign generic nubmers to 5DGY\n",
      "loaded data to assign gen. numbers from data/raw/5DGY.pkl\n",
      "Index(['author_residue_number', 'author_insertion_code', 'residue_number',\n",
      "       'author_residue_number', 'author_insertion_code', 'residue_number',\n",
      "       'author_residue_number', 'author_insertion_code', 'residue_number'],\n",
      "      dtype='object')\n",
      "Found correct uniprot map: OPSD_HUMAN OPSD_HUMAN\n",
      "trying to assign generic nubmers to 4LDO\n",
      "loaded data to assign gen. numbers from data/raw/4LDO.pkl\n",
      "Index(['author_residue_number', 'author_insertion_code', 'residue_number',\n",
      "       'author_residue_number', 'author_insertion_code', 'residue_number'],\n",
      "      dtype='object')\n",
      "Found correct uniprot map: ADRB2_HUMAN ADRB2_HUMAN\n",
      "trying to assign generic nubmers to 4XES\n",
      "loaded data to assign gen. numbers from data/raw/4XES.pkl\n",
      "Index(['author_residue_number', 'author_insertion_code', 'residue_number',\n",
      "       'author_residue_number', 'author_insertion_code', 'residue_number'],\n",
      "      dtype='object')\n",
      "Found correct uniprot map: NTR1_RAT NTR1_RAT\n",
      "trying to assign generic nubmers to 6PS1\n",
      "loaded data to assign gen. numbers from data/raw/6PS1.pkl\n",
      "Index(['author_residue_number', 'author_insertion_code', 'residue_number',\n",
      "       'author_residue_number', 'author_insertion_code', 'residue_number',\n",
      "       'author_residue_number', 'author_insertion_code', 'residue_number'],\n",
      "      dtype='object')\n",
      "Found correct uniprot map: ADRB2_HUMAN ADRB2_HUMAN\n",
      "Found correct uniprot map: ADRB2_HUMAN ADRB2_HUMAN\n",
      "trying to assign generic nubmers to 6A93\n",
      "loaded data to assign gen. numbers from data/raw/6A93.pkl\n",
      "Index(['author_residue_number', 'author_insertion_code', 'residue_number',\n",
      "       'author_residue_number', 'author_insertion_code', 'residue_number',\n",
      "       'author_residue_number', 'author_insertion_code', 'residue_number',\n",
      "       'author_residue_number', 'author_insertion_code', 'residue_number'],\n",
      "      dtype='object')\n",
      "Found correct uniprot map: 5HT2A_HUMAN 5HT2A_HUMAN\n",
      "Found correct uniprot map: 5HT2A_HUMAN 5HT2A_HUMAN\n",
      "trying to assign generic nubmers to 3P0G\n",
      "loaded data to assign gen. numbers from data/raw/3P0G.pkl\n",
      "Index(['author_residue_number', 'author_insertion_code', 'residue_number',\n",
      "       'author_residue_number', 'author_insertion_code', 'residue_number',\n",
      "       'author_residue_number', 'author_insertion_code', 'residue_number'],\n",
      "      dtype='object')\n",
      "Found correct uniprot map: ADRB2_HUMAN ADRB2_HUMAN\n",
      "Found correct uniprot map: ADRB2_HUMAN ADRB2_HUMAN\n",
      "trying to assign generic nubmers to 7CFM\n",
      "loaded data to assign gen. numbers from data/raw/7CFM.pkl\n",
      "Index(['author_residue_number', 'author_insertion_code', 'residue_number'], dtype='object')\n",
      "Found correct uniprot map: GPBAR_HUMAN GPBAR_HUMAN\n",
      "trying to assign generic nubmers to 6TQ4\n",
      "loaded data to assign gen. numbers from data/raw/6TQ4.pkl\n",
      "Index(['author_residue_number', 'author_insertion_code', 'residue_number'], dtype='object')\n",
      "Found correct uniprot map: OX1R_HUMAN OX1R_HUMAN\n",
      "trying to assign generic nubmers to 6Z10\n",
      "loaded data to assign gen. numbers from data/raw/6Z10.pkl\n",
      "Index(['author_residue_number', 'author_insertion_code', 'residue_number'], dtype='object')\n",
      "Found correct uniprot map: SUCR1_RAT SUCR1_RAT\n",
      "trying to assign generic nubmers to 6RZ4\n",
      "loaded data to assign gen. numbers from data/raw/6RZ4.pkl\n",
      "Index(['author_residue_number', 'author_insertion_code', 'residue_number',\n",
      "       'author_residue_number', 'author_insertion_code', 'residue_number',\n",
      "       'author_residue_number', 'author_insertion_code', 'residue_number'],\n",
      "      dtype='object')\n",
      "Found correct uniprot map: CLTR1_HUMAN CLTR1_HUMAN\n",
      "Found correct uniprot map: CLTR1_HUMAN CLTR1_HUMAN\n",
      "trying to assign generic nubmers to 4UHR\n",
      "loaded data to assign gen. numbers from data/raw/4UHR.pkl\n",
      "Index(['author_residue_number', 'author_insertion_code', 'residue_number'], dtype='object')\n",
      "Found correct uniprot map: AA2AR_HUMAN AA2AR_HUMAN\n",
      "trying to assign generic nubmers to 5UIG\n",
      "loaded data to assign gen. numbers from data/raw/5UIG.pkl\n",
      "Index(['author_residue_number', 'author_insertion_code', 'residue_number',\n",
      "       'author_residue_number', 'author_insertion_code', 'residue_number',\n",
      "       'author_residue_number', 'author_insertion_code', 'residue_number'],\n",
      "      dtype='object')\n",
      "Found correct uniprot map: AA2AR_HUMAN AA2AR_HUMAN\n",
      "Found correct uniprot map: AA2AR_HUMAN AA2AR_HUMAN\n",
      "trying to assign generic nubmers to 5IUA\n",
      "loaded data to assign gen. numbers from data/raw/5IUA.pkl\n",
      "Index(['author_residue_number', 'author_insertion_code', 'residue_number',\n",
      "       'author_residue_number', 'author_insertion_code', 'residue_number',\n",
      "       'author_residue_number', 'author_insertion_code', 'residue_number'],\n",
      "      dtype='object')\n",
      "Found correct uniprot map: AA2AR_HUMAN AA2AR_HUMAN\n",
      "Found correct uniprot map: AA2AR_HUMAN AA2AR_HUMAN\n",
      "writing to file: data/processed/6PS1.pkl\n",
      "writing to file: data/processed/4UHR.pkl\n",
      "writing to file: data/processed/5UIG.pkl\n",
      "16\n"
     ]
    },
    {
     "name": "stderr",
     "output_type": "stream",
     "text": [
      "\r",
      "0it [00:00, ?it/s]"
     ]
    },
    {
     "name": "stdout",
     "output_type": "stream",
     "text": [
      "Loading cif file of 6NI3\n",
      "data/mmcif/6NI3.cif\n"
     ]
    },
    {
     "name": "stderr",
     "output_type": "stream",
     "text": [
      "\r",
      "1it [00:00,  1.77it/s]"
     ]
    },
    {
     "name": "stdout",
     "output_type": "stream",
     "text": [
      "Loading cif file of 2I36\n",
      "data/mmcif/2I36.cif\n"
     ]
    },
    {
     "name": "stderr",
     "output_type": "stream",
     "text": [
      "\r",
      "2it [00:01,  1.77it/s]"
     ]
    },
    {
     "name": "stdout",
     "output_type": "stream",
     "text": [
      "Loading cif file of 6PS6\n",
      "data/mmcif/6PS6.cif\n"
     ]
    },
    {
     "name": "stderr",
     "output_type": "stream",
     "text": [
      "\r",
      "3it [00:01,  2.21it/s]"
     ]
    },
    {
     "name": "stdout",
     "output_type": "stream",
     "text": [
      "Loading cif file of 7BW0\n",
      "data/mmcif/7BW0.cif\n"
     ]
    },
    {
     "name": "stderr",
     "output_type": "stream",
     "text": [
      "\r",
      "4it [00:02,  2.01it/s]"
     ]
    },
    {
     "name": "stdout",
     "output_type": "stream",
     "text": [
      "Loading cif file of 6DRY\n",
      "data/mmcif/6DRY.cif\n"
     ]
    },
    {
     "name": "stderr",
     "output_type": "stream",
     "text": [
      "6it [00:02,  2.58it/s]"
     ]
    },
    {
     "name": "stdout",
     "output_type": "stream",
     "text": [
      "Loading cif file of 5ZK8\n",
      "data/mmcif/5ZK8.cif\n"
     ]
    },
    {
     "name": "stderr",
     "output_type": "stream",
     "text": [
      "\r",
      "7it [00:02,  2.83it/s]"
     ]
    },
    {
     "name": "stdout",
     "output_type": "stream",
     "text": [
      "Loading cif file of 6C1Q\n",
      "data/mmcif/6C1Q.cif\n",
      "Loading cif file of 5NX2\n",
      "data/mmcif/5NX2.cif\n"
     ]
    },
    {
     "name": "stderr",
     "output_type": "stream",
     "text": [
      "\r",
      "8it [00:03,  2.93it/s]"
     ]
    },
    {
     "name": "stdout",
     "output_type": "stream",
     "text": [
      "Loading cif file of 6N48\n",
      "data/mmcif/6N48.cif\n"
     ]
    },
    {
     "name": "stderr",
     "output_type": "stream",
     "text": [
      "\r",
      "9it [00:03,  2.83it/s]"
     ]
    },
    {
     "name": "stdout",
     "output_type": "stream",
     "text": [
      "Loading cif file of 4L6R\n",
      "data/mmcif/4L6R.cif\n"
     ]
    },
    {
     "name": "stderr",
     "output_type": "stream",
     "text": [
      "\r",
      "10it [00:03,  2.93it/s]"
     ]
    },
    {
     "name": "stdout",
     "output_type": "stream",
     "text": [
      "Loading cif file of 2Y04\n",
      "data/mmcif/2Y04.cif\n"
     ]
    },
    {
     "name": "stderr",
     "output_type": "stream",
     "text": [
      "\r",
      "11it [00:04,  2.75it/s]"
     ]
    },
    {
     "name": "stdout",
     "output_type": "stream",
     "text": [
      "Loading cif file of 6G79\n",
      "data/mmcif/6G79.cif\n"
     ]
    },
    {
     "name": "stderr",
     "output_type": "stream",
     "text": [
      "\r",
      "12it [00:04,  2.48it/s]"
     ]
    },
    {
     "name": "stdout",
     "output_type": "stream",
     "text": [
      "Loading cif file of 4MBS\n",
      "data/mmcif/4MBS.cif\n"
     ]
    },
    {
     "name": "stderr",
     "output_type": "stream",
     "text": [
      "\r",
      "13it [00:05,  2.32it/s]"
     ]
    },
    {
     "name": "stdout",
     "output_type": "stream",
     "text": [
      "Loading cif file of 6LPB\n",
      "data/mmcif/6LPB.cif\n"
     ]
    },
    {
     "name": "stderr",
     "output_type": "stream",
     "text": [
      "\r",
      "14it [00:05,  1.99it/s]"
     ]
    },
    {
     "name": "stdout",
     "output_type": "stream",
     "text": [
      "Loading cif file of 6J20\n",
      "data/mmcif/6J20.cif\n"
     ]
    },
    {
     "name": "stderr",
     "output_type": "stream",
     "text": [
      "\r",
      "15it [00:06,  2.21it/s]"
     ]
    },
    {
     "name": "stdout",
     "output_type": "stream",
     "text": [
      "Loading cif file of 6ME4\n",
      "data/mmcif/6ME4.cif\n"
     ]
    },
    {
     "name": "stderr",
     "output_type": "stream",
     "text": [
      "\r",
      "16it [00:06,  2.32it/s]"
     ]
    },
    {
     "name": "stdout",
     "output_type": "stream",
     "text": [
      "Loading cif file of 5XR8\n",
      "data/mmcif/5XR8.cif\n"
     ]
    },
    {
     "name": "stderr",
     "output_type": "stream",
     "text": [
      "\r",
      "17it [00:07,  2.44it/s]"
     ]
    },
    {
     "name": "stdout",
     "output_type": "stream",
     "text": [
      "Loading cif file of 4AMJ\n",
      "data/mmcif/4AMJ.cif\n"
     ]
    },
    {
     "name": "stderr",
     "output_type": "stream",
     "text": [
      "\r",
      "18it [00:07,  2.39it/s]"
     ]
    },
    {
     "name": "stdout",
     "output_type": "stream",
     "text": [
      "Loading cif file of 7CRH\n",
      "data/mmcif/7CRH.cif\n"
     ]
    },
    {
     "name": "stderr",
     "output_type": "stream",
     "text": [
      "\r",
      "19it [00:08,  2.05it/s]"
     ]
    },
    {
     "name": "stdout",
     "output_type": "stream",
     "text": [
      "Loading cif file of 6O3C\n",
      "data/mmcif/6O3C.cif\n"
     ]
    },
    {
     "name": "stderr",
     "output_type": "stream",
     "text": [
      "20it [00:08,  2.32it/s]\n"
     ]
    },
    {
     "name": "stdout",
     "output_type": "stream",
     "text": [
      "trying to assign generic nubmers to 6NI3\n",
      "loaded data to assign gen. numbers from data/raw/6NI3.pkl\n",
      "Index(['author_residue_number', 'author_insertion_code', 'residue_number',\n",
      "       'author_residue_number', 'author_insertion_code', 'residue_number'],\n",
      "      dtype='object')\n",
      "Found correct uniprot map: ADRB2_HUMAN ADRB2_HUMAN\n",
      "trying to assign generic nubmers to 2I36\n",
      "loaded data to assign gen. numbers from data/raw/2I36.pkl\n",
      "Index(['author_residue_number', 'author_insertion_code', 'residue_number'], dtype='object')\n",
      "Found correct uniprot map: OPSD_BOVIN OPSD_BOVIN\n",
      "trying to assign generic nubmers to 6PS6\n",
      "loaded data to assign gen. numbers from data/raw/6PS6.pkl\n",
      "Index(['author_residue_number', 'author_insertion_code', 'residue_number',\n",
      "       'author_residue_number', 'author_insertion_code', 'residue_number',\n",
      "       'author_residue_number', 'author_insertion_code', 'residue_number'],\n",
      "      dtype='object')\n",
      "Found correct uniprot map: ADRB2_HUMAN ADRB2_HUMAN\n",
      "Found correct uniprot map: ADRB2_HUMAN ADRB2_HUMAN\n",
      "trying to assign generic nubmers to 7BW0\n",
      "loaded data to assign gen. numbers from data/raw/7BW0.pkl\n",
      "Index(['author_residue_number', 'author_insertion_code', 'residue_number',\n",
      "       'author_residue_number', 'author_insertion_code', 'residue_number'],\n",
      "      dtype='object')\n",
      "Found correct uniprot map: GPBAR_HUMAN GPBAR_HUMAN\n",
      "trying to assign generic nubmers to 6DRY\n",
      "loaded data to assign gen. numbers from data/raw/6DRY.pkl\n",
      "Index(['author_residue_number', 'author_insertion_code', 'residue_number',\n",
      "       'author_residue_number', 'author_insertion_code', 'residue_number',\n",
      "       'author_residue_number', 'author_insertion_code', 'residue_number'],\n",
      "      dtype='object')\n",
      "Found correct uniprot map: 5HT2B_HUMAN 5HT2B_HUMAN\n",
      "Found correct uniprot map: 5HT2B_HUMAN 5HT2B_HUMAN\n",
      "trying to assign generic nubmers to 5ZK8\n",
      "loaded data to assign gen. numbers from data/raw/5ZK8.pkl\n",
      "Index(['author_residue_number', 'author_insertion_code', 'residue_number',\n",
      "       'author_residue_number', 'author_insertion_code', 'residue_number',\n",
      "       'author_residue_number', 'author_insertion_code', 'residue_number'],\n",
      "      dtype='object')\n",
      "Found correct uniprot map: ACM2_HUMAN ACM2_HUMAN\n",
      "Found correct uniprot map: ACM2_HUMAN ACM2_HUMAN\n",
      "trying to assign generic nubmers to 6C1Q\n",
      "loaded data to assign gen. numbers from data/raw/6C1Q.pkl\n",
      "Index(['author_residue_number', 'author_insertion_code', 'residue_number',\n",
      "       'author_residue_number', 'author_insertion_code', 'residue_number'],\n",
      "      dtype='object')\n",
      "Found correct uniprot map: C5AR1_HUMAN C5AR1_HUMAN\n",
      "trying to assign generic nubmers to 5NX2\n",
      "loaded data to assign gen. numbers from data/raw/5NX2.pkl\n",
      "Index(['author_residue_number', 'author_insertion_code', 'residue_number'], dtype='object')\n",
      "Found correct uniprot map: GLP1R_HUMAN GLP1R_HUMAN\n",
      "trying to assign generic nubmers to 6N48\n",
      "loaded data to assign gen. numbers from data/raw/6N48.pkl\n",
      "Index(['author_residue_number', 'author_insertion_code', 'residue_number'], dtype='object')\n",
      "Found correct uniprot map: ADRB2_HUMAN ADRB2_HUMAN\n",
      "trying to assign generic nubmers to 4L6R\n",
      "loaded data to assign gen. numbers from data/raw/4L6R.pkl\n",
      "Index(['author_residue_number', 'author_insertion_code', 'residue_number',\n",
      "       'author_residue_number', 'author_insertion_code', 'residue_number'],\n",
      "      dtype='object')\n",
      "Found correct uniprot map: GLR_HUMAN GLR_HUMAN\n",
      "trying to assign generic nubmers to 2Y04\n",
      "loaded data to assign gen. numbers from data/raw/2Y04.pkl\n",
      "Index(['author_residue_number', 'author_insertion_code', 'residue_number'], dtype='object')\n",
      "Found correct uniprot map: ADRB1_MELGA ADRB1_MELGA\n",
      "trying to assign generic nubmers to 6G79\n",
      "loaded data to assign gen. numbers from data/raw/6G79.pkl\n",
      "Index(['author_residue_number', 'author_insertion_code', 'residue_number'], dtype='object')\n",
      "Found correct uniprot map: 5HT1B_HUMAN 5HT1B_HUMAN\n",
      "trying to assign generic nubmers to 4MBS\n",
      "loaded data to assign gen. numbers from data/raw/4MBS.pkl\n",
      "Index(['author_residue_number', 'author_insertion_code', 'residue_number',\n",
      "       'author_residue_number', 'author_insertion_code', 'residue_number',\n",
      "       'author_residue_number', 'author_insertion_code', 'residue_number'],\n",
      "      dtype='object')\n",
      "Found correct uniprot map: CCR5_HUMAN CCR5_HUMAN\n",
      "Found correct uniprot map: CCR5_HUMAN CCR5_HUMAN\n",
      "trying to assign generic nubmers to 6LPB\n",
      "loaded data to assign gen. numbers from data/raw/6LPB.pkl\n",
      "Index(['author_residue_number', 'author_insertion_code', 'residue_number'], dtype='object')\n",
      "Found correct uniprot map: PACR_HUMAN PACR_HUMAN\n",
      "trying to assign generic nubmers to 6J20\n",
      "loaded data to assign gen. numbers from data/raw/6J20.pkl\n",
      "Index(['author_residue_number', 'author_insertion_code', 'residue_number',\n",
      "       'author_residue_number', 'author_insertion_code', 'residue_number',\n",
      "       'author_residue_number', 'author_insertion_code', 'residue_number'],\n",
      "      dtype='object')\n",
      "Found correct uniprot map: NK1R_HUMAN NK1R_HUMAN\n",
      "Found correct uniprot map: NK1R_HUMAN NK1R_HUMAN\n",
      "trying to assign generic nubmers to 6ME4\n",
      "loaded data to assign gen. numbers from data/raw/6ME4.pkl\n",
      "Index(['author_residue_number', 'author_insertion_code', 'residue_number',\n",
      "       'author_residue_number', 'author_insertion_code', 'residue_number',\n",
      "       'author_residue_number', 'author_insertion_code', 'residue_number'],\n",
      "      dtype='object')\n",
      "Found correct uniprot map: MTR1A_HUMAN MTR1A_HUMAN\n",
      "Found correct uniprot map: MTR1A_HUMAN MTR1A_HUMAN\n",
      "trying to assign generic nubmers to 5XR8\n",
      "loaded data to assign gen. numbers from data/raw/5XR8.pkl\n",
      "Index(['author_residue_number', 'author_insertion_code', 'residue_number',\n",
      "       'author_residue_number', 'author_insertion_code', 'residue_number',\n",
      "       'author_residue_number', 'author_insertion_code', 'residue_number'],\n",
      "      dtype='object')\n",
      "Found correct uniprot map: CNR1_HUMAN CNR1_HUMAN\n",
      "Found correct uniprot map: CNR1_HUMAN CNR1_HUMAN\n",
      "trying to assign generic nubmers to 4AMJ\n",
      "loaded data to assign gen. numbers from data/raw/4AMJ.pkl\n",
      "Index(['author_residue_number', 'author_insertion_code', 'residue_number'], dtype='object')\n",
      "Found correct uniprot map: ADRB1_MELGA ADRB1_MELGA\n",
      "trying to assign generic nubmers to 7CRH\n",
      "loaded data to assign gen. numbers from data/raw/7CRH.pkl\n",
      "Index(['author_residue_number', 'author_insertion_code', 'residue_number'], dtype='object')\n",
      "Found correct uniprot map: DRD1_HUMAN DRD1_HUMAN\n",
      "trying to assign generic nubmers to 6O3C\n",
      "loaded data to assign gen. numbers from data/raw/6O3C.pkl\n",
      "Index(['author_residue_number', 'author_insertion_code', 'residue_number'], dtype='object')\n",
      "Found correct uniprot map: SMO_MOUSE SMO_MOUSE\n",
      "writing to file: data/processed/7BW0.pkl\n",
      "writing to file: data/processed/6DRY.pkl\n",
      "writing to file: data/processed/4L6R.pkl\n",
      "writing to file: data/processed/6O3C.pkl\n",
      "17\n"
     ]
    },
    {
     "name": "stderr",
     "output_type": "stream",
     "text": [
      "\r",
      "0it [00:00, ?it/s]"
     ]
    },
    {
     "name": "stdout",
     "output_type": "stream",
     "text": [
      "Loading cif file of 6HLO\n",
      "data/mmcif/6HLO.cif\n"
     ]
    },
    {
     "name": "stderr",
     "output_type": "stream",
     "text": [
      "\r",
      "1it [00:00,  3.09it/s]"
     ]
    },
    {
     "name": "stdout",
     "output_type": "stream",
     "text": [
      "Loading cif file of 6TQ9\n",
      "data/mmcif/6TQ9.cif\n"
     ]
    },
    {
     "name": "stderr",
     "output_type": "stream",
     "text": [
      "\r",
      "2it [00:00,  2.73it/s]"
     ]
    },
    {
     "name": "stdout",
     "output_type": "stream",
     "text": [
      "Loading cif file of 2R4S\n",
      "data/mmcif/2R4S.cif\n"
     ]
    },
    {
     "name": "stderr",
     "output_type": "stream",
     "text": [
      "4it [00:01,  3.05it/s]"
     ]
    },
    {
     "name": "stdout",
     "output_type": "stream",
     "text": [
      "Loading cif file of 5TZY\n",
      "data/mmcif/5TZY.cif\n"
     ]
    },
    {
     "name": "stderr",
     "output_type": "stream",
     "text": [
      "\r",
      "5it [00:01,  3.28it/s]"
     ]
    },
    {
     "name": "stdout",
     "output_type": "stream",
     "text": [
      "Loading cif file of 4X1H\n",
      "data/mmcif/4X1H.cif\n",
      "Loading cif file of 6TQ7\n",
      "data/mmcif/6TQ7.cif\n"
     ]
    },
    {
     "name": "stderr",
     "output_type": "stream",
     "text": [
      "\r",
      "6it [00:02,  2.93it/s]"
     ]
    },
    {
     "name": "stdout",
     "output_type": "stream",
     "text": [
      "Loading cif file of 6PRZ\n",
      "data/mmcif/6PRZ.cif\n"
     ]
    },
    {
     "name": "stderr",
     "output_type": "stream",
     "text": [
      "\r",
      "7it [00:02,  2.98it/s]"
     ]
    },
    {
     "name": "stdout",
     "output_type": "stream",
     "text": [
      "Loading cif file of 1U19\n",
      "data/mmcif/1U19.cif\n"
     ]
    },
    {
     "name": "stderr",
     "output_type": "stream",
     "text": [
      "\r",
      "8it [00:02,  2.71it/s]"
     ]
    },
    {
     "name": "stdout",
     "output_type": "stream",
     "text": [
      "Loading cif file of 6RZ6\n",
      "data/mmcif/6RZ6.cif\n"
     ]
    },
    {
     "name": "stderr",
     "output_type": "stream",
     "text": [
      "\r",
      "9it [00:03,  2.86it/s]"
     ]
    },
    {
     "name": "stdout",
     "output_type": "stream",
     "text": [
      "Loading cif file of 6D27\n",
      "data/mmcif/6D27.cif\n"
     ]
    },
    {
     "name": "stderr",
     "output_type": "stream",
     "text": [
      "\r",
      "10it [00:03,  2.91it/s]"
     ]
    },
    {
     "name": "stdout",
     "output_type": "stream",
     "text": [
      "Loading cif file of 5WB2\n",
      "data/mmcif/5WB2.cif\n"
     ]
    },
    {
     "name": "stderr",
     "output_type": "stream",
     "text": [
      "\r",
      "11it [00:03,  2.78it/s]"
     ]
    },
    {
     "name": "stdout",
     "output_type": "stream",
     "text": [
      "Loading cif file of 6KPF\n",
      "data/mmcif/6KPF.cif\n"
     ]
    },
    {
     "name": "stderr",
     "output_type": "stream",
     "text": [
      "\r",
      "12it [00:04,  2.27it/s]"
     ]
    },
    {
     "name": "stdout",
     "output_type": "stream",
     "text": [
      "Loading cif file of 6TPK\n",
      "data/mmcif/6TPK.cif\n"
     ]
    },
    {
     "name": "stderr",
     "output_type": "stream",
     "text": [
      "\r",
      "13it [00:04,  2.40it/s]"
     ]
    },
    {
     "name": "stdout",
     "output_type": "stream",
     "text": [
      "Loading cif file of 5TVN\n",
      "data/mmcif/5TVN.cif\n"
     ]
    },
    {
     "name": "stderr",
     "output_type": "stream",
     "text": [
      "\r",
      "14it [00:05,  2.60it/s]"
     ]
    },
    {
     "name": "stdout",
     "output_type": "stream",
     "text": [
      "Loading cif file of 5JTB\n",
      "data/mmcif/5JTB.cif\n"
     ]
    },
    {
     "name": "stderr",
     "output_type": "stream",
     "text": [
      "\r",
      "15it [00:05,  2.71it/s]"
     ]
    },
    {
     "name": "stdout",
     "output_type": "stream",
     "text": [
      "Loading cif file of 5EE7\n",
      "data/mmcif/5EE7.cif\n"
     ]
    },
    {
     "name": "stderr",
     "output_type": "stream",
     "text": [
      "\r",
      "16it [00:05,  2.75it/s]"
     ]
    },
    {
     "name": "stdout",
     "output_type": "stream",
     "text": [
      "Loading cif file of 6FK7\n",
      "data/mmcif/6FK7.cif\n"
     ]
    },
    {
     "name": "stderr",
     "output_type": "stream",
     "text": [
      "\r",
      "17it [00:06,  2.88it/s]"
     ]
    },
    {
     "name": "stdout",
     "output_type": "stream",
     "text": [
      "Loading cif file of 4BWB\n",
      "data/mmcif/4BWB.cif\n"
     ]
    },
    {
     "name": "stderr",
     "output_type": "stream",
     "text": [
      "\r",
      "18it [00:06,  2.70it/s]"
     ]
    },
    {
     "name": "stdout",
     "output_type": "stream",
     "text": [
      "Loading cif file of 4N4W\n",
      "data/mmcif/4N4W.cif\n"
     ]
    },
    {
     "name": "stderr",
     "output_type": "stream",
     "text": [
      "\r",
      "19it [00:06,  2.69it/s]"
     ]
    },
    {
     "name": "stdout",
     "output_type": "stream",
     "text": [
      "Loading cif file of 4EIY\n",
      "data/mmcif/4EIY.cif\n"
     ]
    },
    {
     "name": "stderr",
     "output_type": "stream",
     "text": [
      "20it [00:07,  2.74it/s]\n"
     ]
    },
    {
     "name": "stdout",
     "output_type": "stream",
     "text": [
      "trying to assign generic nubmers to 6HLO\n",
      "loaded data to assign gen. numbers from data/raw/6HLO.pkl\n",
      "Index(['author_residue_number', 'author_insertion_code', 'residue_number',\n",
      "       'author_residue_number', 'author_insertion_code', 'residue_number',\n",
      "       'author_residue_number', 'author_insertion_code', 'residue_number'],\n",
      "      dtype='object')\n",
      "Found correct uniprot map: NK1R_HUMAN NK1R_HUMAN\n",
      "Found correct uniprot map: NK1R_HUMAN NK1R_HUMAN\n",
      "trying to assign generic nubmers to 6TQ9\n",
      "loaded data to assign gen. numbers from data/raw/6TQ9.pkl\n",
      "Index(['author_residue_number', 'author_insertion_code', 'residue_number'], dtype='object')\n",
      "Found correct uniprot map: OX1R_HUMAN OX1R_HUMAN\n",
      "trying to assign generic nubmers to 2R4S\n",
      "loaded data to assign gen. numbers from data/raw/2R4S.pkl\n",
      "Index(['author_residue_number', 'author_insertion_code', 'residue_number'], dtype='object')\n",
      "Found correct uniprot map: ADRB2_HUMAN ADRB2_HUMAN\n",
      "trying to assign generic nubmers to 5TZY\n",
      "loaded data to assign gen. numbers from data/raw/5TZY.pkl\n",
      "Index(['author_residue_number', 'author_insertion_code', 'residue_number',\n",
      "       'author_residue_number', 'author_insertion_code', 'residue_number',\n",
      "       'author_residue_number', 'author_insertion_code', 'residue_number'],\n",
      "      dtype='object')\n",
      "Found correct uniprot map: FFAR1_HUMAN FFAR1_HUMAN\n",
      "Found correct uniprot map: FFAR1_HUMAN FFAR1_HUMAN\n",
      "trying to assign generic nubmers to 4X1H\n",
      "loaded data to assign gen. numbers from data/raw/4X1H.pkl\n",
      "Index(['author_residue_number', 'author_insertion_code', 'residue_number'], dtype='object')\n",
      "Found correct uniprot map: OPSD_BOVIN OPSD_BOVIN\n",
      "trying to assign generic nubmers to 6TQ7\n",
      "loaded data to assign gen. numbers from data/raw/6TQ7.pkl\n",
      "Index(['author_residue_number', 'author_insertion_code', 'residue_number'], dtype='object')\n",
      "Found correct uniprot map: OX1R_HUMAN OX1R_HUMAN\n",
      "trying to assign generic nubmers to 6PRZ\n",
      "loaded data to assign gen. numbers from data/raw/6PRZ.pkl\n",
      "Index(['author_residue_number', 'author_insertion_code', 'residue_number',\n",
      "       'author_residue_number', 'author_insertion_code', 'residue_number',\n",
      "       'author_residue_number', 'author_insertion_code', 'residue_number'],\n",
      "      dtype='object')\n",
      "Found correct uniprot map: ADRB2_HUMAN ADRB2_HUMAN\n",
      "Found correct uniprot map: ADRB2_HUMAN ADRB2_HUMAN\n",
      "trying to assign generic nubmers to 1U19\n",
      "loaded data to assign gen. numbers from data/raw/1U19.pkl\n",
      "Index(['author_residue_number', 'author_insertion_code', 'residue_number'], dtype='object')\n",
      "Found correct uniprot map: OPSD_BOVIN OPSD_BOVIN\n",
      "trying to assign generic nubmers to 6RZ6\n",
      "loaded data to assign gen. numbers from data/raw/6RZ6.pkl\n",
      "Index(['author_residue_number', 'author_insertion_code', 'residue_number',\n",
      "       'author_residue_number', 'author_insertion_code', 'residue_number',\n",
      "       'author_residue_number', 'author_insertion_code', 'residue_number'],\n",
      "      dtype='object')\n",
      "Found correct uniprot map: CLTR2_HUMAN CLTR2_HUMAN\n",
      "Found correct uniprot map: CLTR2_HUMAN CLTR2_HUMAN\n",
      "trying to assign generic nubmers to 6D27\n",
      "loaded data to assign gen. numbers from data/raw/6D27.pkl\n",
      "Index(['author_residue_number', 'author_insertion_code', 'residue_number',\n",
      "       'author_residue_number', 'author_insertion_code', 'residue_number',\n",
      "       'author_residue_number', 'author_insertion_code', 'residue_number',\n",
      "       'author_residue_number', 'author_insertion_code', 'residue_number'],\n",
      "      dtype='object')\n",
      "Found correct uniprot map: PD2R2_HUMAN PD2R2_HUMAN\n",
      "Found correct uniprot map: PD2R2_HUMAN PD2R2_HUMAN\n",
      "Found correct uniprot map: PD2R2_HUMAN PD2R2_HUMAN\n",
      "trying to assign generic nubmers to 5WB2\n",
      "loaded data to assign gen. numbers from data/raw/5WB2.pkl\n",
      "Index(['author_residue_number', 'author_insertion_code', 'residue_number'], dtype='object')\n",
      "trying to assign generic nubmers to 6KPF\n",
      "loaded data to assign gen. numbers from data/raw/6KPF.pkl\n",
      "Index(['author_residue_number', 'author_insertion_code', 'residue_number'], dtype='object')\n",
      "Found correct uniprot map: CNR2_HUMAN CNR2_HUMAN\n",
      "trying to assign generic nubmers to 6TPK\n",
      "loaded data to assign gen. numbers from data/raw/6TPK.pkl\n",
      "Index(['author_residue_number', 'author_insertion_code', 'residue_number'], dtype='object')\n",
      "Found correct uniprot map: OXYR_HUMAN OXYR_HUMAN\n",
      "trying to assign generic nubmers to 5TVN\n",
      "loaded data to assign gen. numbers from data/raw/5TVN.pkl\n",
      "Index(['author_residue_number', 'author_insertion_code', 'residue_number',\n",
      "       'author_residue_number', 'author_insertion_code', 'residue_number',\n",
      "       'author_residue_number', 'author_insertion_code', 'residue_number',\n",
      "       'author_residue_number', 'author_insertion_code', 'residue_number',\n",
      "       'author_residue_number', 'author_insertion_code', 'residue_number'],\n",
      "      dtype='object')\n",
      "Found correct uniprot map: 5HT2B_HUMAN 5HT2B_HUMAN\n",
      "Found correct uniprot map: 5HT2B_HUMAN 5HT2B_HUMAN\n",
      "Found correct uniprot map: 5HT2B_HUMAN 5HT2B_HUMAN\n",
      "trying to assign generic nubmers to 5JTB\n",
      "loaded data to assign gen. numbers from data/raw/5JTB.pkl\n",
      "Index(['author_residue_number', 'author_insertion_code', 'residue_number',\n",
      "       'author_residue_number', 'author_insertion_code', 'residue_number',\n",
      "       'author_residue_number', 'author_insertion_code', 'residue_number'],\n",
      "      dtype='object')\n",
      "Found correct uniprot map: AA2AR_HUMAN AA2AR_HUMAN\n",
      "Found correct uniprot map: AA2AR_HUMAN AA2AR_HUMAN\n",
      "trying to assign generic nubmers to 5EE7\n",
      "loaded data to assign gen. numbers from data/raw/5EE7.pkl\n",
      "Index(['author_residue_number', 'author_insertion_code', 'residue_number',\n",
      "       'author_residue_number', 'author_insertion_code', 'residue_number',\n",
      "       'author_residue_number', 'author_insertion_code', 'residue_number'],\n",
      "      dtype='object')\n",
      "Found correct uniprot map: GLR_HUMAN GLR_HUMAN\n",
      "Found correct uniprot map: GLR_HUMAN GLR_HUMAN\n",
      "trying to assign generic nubmers to 6FK7\n",
      "loaded data to assign gen. numbers from data/raw/6FK7.pkl\n",
      "Index(['author_residue_number', 'author_insertion_code', 'residue_number'], dtype='object')\n",
      "Found correct uniprot map: OPSD_BOVIN OPSD_BOVIN\n",
      "trying to assign generic nubmers to 4BWB\n",
      "loaded data to assign gen. numbers from data/raw/4BWB.pkl\n",
      "Index(['author_residue_number', 'author_insertion_code', 'residue_number'], dtype='object')\n",
      "Found correct uniprot map: NTR1_RAT NTR1_RAT\n",
      "trying to assign generic nubmers to 4N4W\n",
      "loaded data to assign gen. numbers from data/raw/4N4W.pkl\n",
      "Index(['author_residue_number', 'author_insertion_code', 'residue_number',\n",
      "       'author_residue_number', 'author_insertion_code', 'residue_number'],\n",
      "      dtype='object')\n",
      "Found correct uniprot map: SMO_HUMAN SMO_HUMAN\n",
      "trying to assign generic nubmers to 4EIY\n",
      "loaded data to assign gen. numbers from data/raw/4EIY.pkl\n",
      "Index(['author_residue_number', 'author_insertion_code', 'residue_number',\n",
      "       'author_residue_number', 'author_insertion_code', 'residue_number',\n",
      "       'author_residue_number', 'author_insertion_code', 'residue_number'],\n",
      "      dtype='object')\n",
      "Found correct uniprot map: AA2AR_HUMAN AA2AR_HUMAN\n",
      "Found correct uniprot map: AA2AR_HUMAN AA2AR_HUMAN\n",
      "writing to file: data/processed/5TZY.pkl\n",
      "writing to file: data/processed/6RZ6.pkl\n",
      "writing to file: data/processed/5WB2.pkl\n",
      "writing to file: data/processed/5EE7.pkl\n",
      "writing to file: data/processed/6FK7.pkl\n",
      "writing to file: data/processed/4EIY.pkl\n",
      "18\n"
     ]
    },
    {
     "name": "stderr",
     "output_type": "stream",
     "text": [
      "\r",
      "0it [00:00, ?it/s]"
     ]
    },
    {
     "name": "stdout",
     "output_type": "stream",
     "text": [
      "Loading cif file of 6MXT\n",
      "data/mmcif/6MXT.cif\n"
     ]
    },
    {
     "name": "stderr",
     "output_type": "stream",
     "text": [
      "\r",
      "1it [00:00,  2.80it/s]"
     ]
    },
    {
     "name": "stdout",
     "output_type": "stream",
     "text": [
      "Loading cif file of 6U1N\n",
      "data/mmcif/6U1N.cif\n"
     ]
    },
    {
     "name": "stderr",
     "output_type": "stream",
     "text": [
      "\r",
      "2it [00:00,  2.53it/s]"
     ]
    },
    {
     "name": "stdout",
     "output_type": "stream",
     "text": [
      "Loading cif file of 6PT0\n",
      "data/mmcif/6PT0.cif\n"
     ]
    },
    {
     "name": "stderr",
     "output_type": "stream",
     "text": [
      "\r",
      "3it [00:01,  1.91it/s]"
     ]
    },
    {
     "name": "stdout",
     "output_type": "stream",
     "text": [
      "Loading cif file of 5IU8\n",
      "data/mmcif/5IU8.cif\n"
     ]
    },
    {
     "name": "stderr",
     "output_type": "stream",
     "text": [
      "\r",
      "4it [00:01,  2.26it/s]"
     ]
    },
    {
     "name": "stdout",
     "output_type": "stream",
     "text": [
      "Loading cif file of 6W25\n",
      "data/mmcif/6W25.cif\n"
     ]
    },
    {
     "name": "stderr",
     "output_type": "stream",
     "text": [
      "\r",
      "5it [00:02,  2.49it/s]"
     ]
    },
    {
     "name": "stdout",
     "output_type": "stream",
     "text": [
      "Loading cif file of 4BV0\n",
      "data/mmcif/4BV0.cif\n"
     ]
    },
    {
     "name": "stderr",
     "output_type": "stream",
     "text": [
      "\r",
      "6it [00:02,  2.51it/s]"
     ]
    },
    {
     "name": "stdout",
     "output_type": "stream",
     "text": [
      "Loading cif file of 4PXZ\n",
      "data/mmcif/4PXZ.cif\n"
     ]
    },
    {
     "name": "stderr",
     "output_type": "stream",
     "text": [
      "\r",
      "7it [00:02,  2.72it/s]"
     ]
    },
    {
     "name": "stdout",
     "output_type": "stream",
     "text": [
      "Loading cif file of 6M1H\n",
      "data/mmcif/6M1H.cif\n"
     ]
    },
    {
     "name": "stderr",
     "output_type": "stream",
     "text": [
      "\r",
      "8it [00:03,  2.21it/s]"
     ]
    },
    {
     "name": "stdout",
     "output_type": "stream",
     "text": [
      "Loading cif file of 6HLP\n",
      "data/mmcif/6HLP.cif\n"
     ]
    },
    {
     "name": "stderr",
     "output_type": "stream",
     "text": [
      "\r",
      "9it [00:03,  2.33it/s]"
     ]
    },
    {
     "name": "stdout",
     "output_type": "stream",
     "text": [
      "Loading cif file of 5ZBH\n",
      "data/mmcif/5ZBH.cif\n"
     ]
    },
    {
     "name": "stderr",
     "output_type": "stream",
     "text": [
      "\r",
      "10it [00:04,  2.48it/s]"
     ]
    },
    {
     "name": "stdout",
     "output_type": "stream",
     "text": [
      "Loading cif file of 7L0P\n",
      "data/mmcif/7L0P.cif\n"
     ]
    },
    {
     "name": "stderr",
     "output_type": "stream",
     "text": [
      "\r",
      "11it [00:04,  2.27it/s]"
     ]
    },
    {
     "name": "stdout",
     "output_type": "stream",
     "text": [
      "Loading cif file of 3AYM\n",
      "data/mmcif/3AYM.cif\n"
     ]
    },
    {
     "name": "stderr",
     "output_type": "stream",
     "text": [
      "\r",
      "12it [00:05,  2.24it/s]"
     ]
    },
    {
     "name": "stdout",
     "output_type": "stream",
     "text": [
      "Loading cif file of 6X1A\n",
      "data/mmcif/6X1A.cif\n"
     ]
    },
    {
     "name": "stderr",
     "output_type": "stream",
     "text": [
      "\r",
      "13it [00:05,  1.88it/s]"
     ]
    },
    {
     "name": "stdout",
     "output_type": "stream",
     "text": [
      "Loading cif file of 6OS9\n",
      "data/mmcif/6OS9.cif\n"
     ]
    },
    {
     "name": "stderr",
     "output_type": "stream",
     "text": [
      "\r",
      "14it [00:06,  1.74it/s]"
     ]
    },
    {
     "name": "stdout",
     "output_type": "stream",
     "text": [
      "Loading cif file of 4XT1\n",
      "data/mmcif/4XT1.cif\n"
     ]
    },
    {
     "name": "stderr",
     "output_type": "stream",
     "text": [
      "\r",
      "15it [00:06,  1.93it/s]"
     ]
    },
    {
     "name": "stdout",
     "output_type": "stream",
     "text": [
      "Loading cif file of 6VCB\n",
      "data/mmcif/6VCB.cif\n"
     ]
    },
    {
     "name": "stderr",
     "output_type": "stream",
     "text": [
      "\r",
      "16it [00:07,  1.76it/s]"
     ]
    },
    {
     "name": "stdout",
     "output_type": "stream",
     "text": [
      "Loading cif file of 7L0R\n",
      "data/mmcif/7L0R.cif\n"
     ]
    },
    {
     "name": "stderr",
     "output_type": "stream",
     "text": [
      "\r",
      "17it [00:08,  1.75it/s]"
     ]
    },
    {
     "name": "stdout",
     "output_type": "stream",
     "text": [
      "Loading cif file of 5WB1\n",
      "data/mmcif/5WB1.cif\n"
     ]
    },
    {
     "name": "stderr",
     "output_type": "stream",
     "text": [
      "\r",
      "18it [00:08,  1.98it/s]"
     ]
    },
    {
     "name": "stdout",
     "output_type": "stream",
     "text": [
      "Loading cif file of 6ME9\n",
      "data/mmcif/6ME9.cif\n"
     ]
    },
    {
     "name": "stderr",
     "output_type": "stream",
     "text": [
      "\r",
      "19it [00:09,  1.95it/s]"
     ]
    },
    {
     "name": "stdout",
     "output_type": "stream",
     "text": [
      "Loading cif file of 6ME5\n",
      "data/mmcif/6ME5.cif\n"
     ]
    },
    {
     "name": "stderr",
     "output_type": "stream",
     "text": [
      "20it [00:09,  2.09it/s]\n"
     ]
    },
    {
     "name": "stdout",
     "output_type": "stream",
     "text": [
      "trying to assign generic nubmers to 6MXT\n",
      "loaded data to assign gen. numbers from data/raw/6MXT.pkl\n",
      "Index(['author_residue_number', 'author_insertion_code', 'residue_number',\n",
      "       'author_residue_number', 'author_insertion_code', 'residue_number'],\n",
      "      dtype='object')\n",
      "Found correct uniprot map: ADRB2_HUMAN ADRB2_HUMAN\n",
      "trying to assign generic nubmers to 6U1N\n",
      "loaded data to assign gen. numbers from data/raw/6U1N.pkl\n",
      "Index(['author_residue_number', 'author_insertion_code', 'residue_number',\n",
      "       'author_residue_number', 'author_insertion_code', 'residue_number'],\n",
      "      dtype='object')\n",
      "Found correct uniprot map: ACM2_HUMAN ACM2_HUMAN\n",
      "trying to assign generic nubmers to 6PT0\n",
      "loaded data to assign gen. numbers from data/raw/6PT0.pkl\n",
      "Index(['author_residue_number', 'author_insertion_code', 'residue_number'], dtype='object')\n",
      "Found correct uniprot map: CNR2_HUMAN CNR2_HUMAN\n",
      "trying to assign generic nubmers to 5IU8\n",
      "loaded data to assign gen. numbers from data/raw/5IU8.pkl\n",
      "Index(['author_residue_number', 'author_insertion_code', 'residue_number',\n",
      "       'author_residue_number', 'author_insertion_code', 'residue_number',\n",
      "       'author_residue_number', 'author_insertion_code', 'residue_number'],\n",
      "      dtype='object')\n",
      "Found correct uniprot map: AA2AR_HUMAN AA2AR_HUMAN\n",
      "Found correct uniprot map: AA2AR_HUMAN AA2AR_HUMAN\n",
      "trying to assign generic nubmers to 6W25\n",
      "loaded data to assign gen. numbers from data/raw/6W25.pkl\n",
      "Index(['author_residue_number', 'author_insertion_code', 'residue_number',\n",
      "       'author_residue_number', 'author_insertion_code', 'residue_number',\n",
      "       'author_residue_number', 'author_insertion_code', 'residue_number'],\n",
      "      dtype='object')\n",
      "Found correct uniprot map: MC4R_HUMAN MC4R_HUMAN\n",
      "Found correct uniprot map: MC4R_HUMAN MC4R_HUMAN\n",
      "trying to assign generic nubmers to 4BV0\n",
      "loaded data to assign gen. numbers from data/raw/4BV0.pkl\n",
      "Index(['author_residue_number', 'author_insertion_code', 'residue_number'], dtype='object')\n",
      "Found correct uniprot map: NTR1_RAT NTR1_RAT\n",
      "trying to assign generic nubmers to 4PXZ\n",
      "loaded data to assign gen. numbers from data/raw/4PXZ.pkl\n",
      "Index(['author_residue_number', 'author_insertion_code', 'residue_number',\n",
      "       'author_residue_number', 'author_insertion_code', 'residue_number',\n",
      "       'author_residue_number', 'author_insertion_code', 'residue_number'],\n",
      "      dtype='object')\n",
      "Found correct uniprot map: P2Y12_HUMAN P2Y12_HUMAN\n",
      "Found correct uniprot map: P2Y12_HUMAN P2Y12_HUMAN\n",
      "trying to assign generic nubmers to 6M1H\n",
      "loaded data to assign gen. numbers from data/raw/6M1H.pkl\n",
      "Index(['author_residue_number', 'author_insertion_code', 'residue_number'], dtype='object')\n",
      "Found correct uniprot map: PACR_HUMAN PACR_HUMAN\n",
      "trying to assign generic nubmers to 6HLP\n",
      "loaded data to assign gen. numbers from data/raw/6HLP.pkl\n",
      "Index(['author_residue_number', 'author_insertion_code', 'residue_number',\n",
      "       'author_residue_number', 'author_insertion_code', 'residue_number',\n",
      "       'author_residue_number', 'author_insertion_code', 'residue_number'],\n",
      "      dtype='object')\n",
      "Found correct uniprot map: NK1R_HUMAN NK1R_HUMAN\n",
      "Found correct uniprot map: NK1R_HUMAN NK1R_HUMAN\n",
      "trying to assign generic nubmers to 5ZBH\n",
      "loaded data to assign gen. numbers from data/raw/5ZBH.pkl\n",
      "Index(['author_residue_number', 'author_insertion_code', 'residue_number',\n",
      "       'author_residue_number', 'author_insertion_code', 'residue_number',\n",
      "       'author_residue_number', 'author_insertion_code', 'residue_number'],\n",
      "      dtype='object')\n",
      "Found correct uniprot map: NPY1R_HUMAN NPY1R_HUMAN\n",
      "Found correct uniprot map: NPY1R_HUMAN NPY1R_HUMAN\n",
      "trying to assign generic nubmers to 7L0P\n",
      "loaded data to assign gen. numbers from data/raw/7L0P.pkl\n",
      "Index(['author_residue_number', 'author_insertion_code', 'residue_number'], dtype='object')\n",
      "Found correct uniprot map: NTR1_RAT NTR1_RAT\n",
      "trying to assign generic nubmers to 3AYM\n",
      "loaded data to assign gen. numbers from data/raw/3AYM.pkl\n",
      "Index(['author_residue_number', 'author_insertion_code', 'residue_number'], dtype='object')\n",
      "Found correct uniprot map: OPSD_TODPA OPSD_TODPA\n",
      "trying to assign generic nubmers to 6X1A\n",
      "loaded data to assign gen. numbers from data/raw/6X1A.pkl\n",
      "Index(['author_residue_number', 'author_insertion_code', 'residue_number'], dtype='object')\n",
      "Found correct uniprot map: GLP1R_HUMAN GLP1R_HUMAN\n",
      "trying to assign generic nubmers to 6OS9\n",
      "loaded data to assign gen. numbers from data/raw/6OS9.pkl\n",
      "Index(['author_residue_number', 'author_insertion_code', 'residue_number'], dtype='object')\n",
      "Found correct uniprot map: NTR1_HUMAN NTR1_HUMAN\n",
      "trying to assign generic nubmers to 4XT1\n",
      "loaded data to assign gen. numbers from data/raw/4XT1.pkl\n",
      "Index(['author_residue_number', 'author_insertion_code', 'residue_number'], dtype='object')\n",
      "Found correct uniprot map: US28_HCMVA US28_HCMVA\n",
      "trying to assign generic nubmers to 6VCB\n",
      "loaded data to assign gen. numbers from data/raw/6VCB.pkl\n",
      "Index(['author_residue_number', 'author_insertion_code', 'residue_number'], dtype='object')\n",
      "Found correct uniprot map: GLP1R_HUMAN GLP1R_HUMAN\n",
      "trying to assign generic nubmers to 7L0R\n",
      "loaded data to assign gen. numbers from data/raw/7L0R.pkl\n",
      "Index(['author_residue_number', 'author_insertion_code', 'residue_number'], dtype='object')\n",
      "Found correct uniprot map: NTR1_RAT NTR1_RAT\n",
      "trying to assign generic nubmers to 5WB1\n",
      "loaded data to assign gen. numbers from data/raw/5WB1.pkl\n",
      "Index(['author_residue_number', 'author_insertion_code', 'residue_number'], dtype='object')\n",
      "trying to assign generic nubmers to 6ME9\n",
      "loaded data to assign gen. numbers from data/raw/6ME9.pkl\n",
      "Index(['author_residue_number', 'author_insertion_code', 'residue_number',\n",
      "       'author_residue_number', 'author_insertion_code', 'residue_number',\n",
      "       'author_residue_number', 'author_insertion_code', 'residue_number',\n",
      "       'author_residue_number', 'author_insertion_code', 'residue_number'],\n",
      "      dtype='object')\n",
      "Found correct uniprot map: MTR1B_HUMAN MTR1B_HUMAN\n",
      "Found correct uniprot map: MTR1B_HUMAN MTR1B_HUMAN\n",
      "trying to assign generic nubmers to 6ME5\n",
      "loaded data to assign gen. numbers from data/raw/6ME5.pkl\n",
      "Index(['author_residue_number', 'author_insertion_code', 'residue_number',\n",
      "       'author_residue_number', 'author_insertion_code', 'residue_number',\n",
      "       'author_residue_number', 'author_insertion_code', 'residue_number'],\n",
      "      dtype='object')\n",
      "Found correct uniprot map: MTR1A_HUMAN MTR1A_HUMAN\n",
      "Found correct uniprot map: MTR1A_HUMAN MTR1A_HUMAN\n",
      "writing to file: data/processed/5IU8.pkl\n",
      "writing to file: data/processed/6X1A.pkl\n",
      "writing to file: data/processed/7L0R.pkl\n",
      "writing to file: data/processed/5WB1.pkl\n",
      "19\n"
     ]
    },
    {
     "name": "stderr",
     "output_type": "stream",
     "text": [
      "1it [00:00,  3.75it/s]"
     ]
    },
    {
     "name": "stdout",
     "output_type": "stream",
     "text": [
      "Loading cif file of 5K2B\n",
      "data/mmcif/5K2B.cif\n",
      "Loading cif file of 7JV5\n",
      "data/mmcif/7JV5.cif\n"
     ]
    },
    {
     "name": "stderr",
     "output_type": "stream",
     "text": [
      "\r",
      "2it [00:00,  2.27it/s]"
     ]
    },
    {
     "name": "stdout",
     "output_type": "stream",
     "text": [
      "Loading cif file of 6M9T\n",
      "data/mmcif/6M9T.cif\n"
     ]
    },
    {
     "name": "stderr",
     "output_type": "stream",
     "text": [
      "\r",
      "3it [00:01,  2.66it/s]"
     ]
    },
    {
     "name": "stdout",
     "output_type": "stream",
     "text": [
      "Loading cif file of 7L0S\n",
      "data/mmcif/7L0S.cif\n"
     ]
    },
    {
     "name": "stderr",
     "output_type": "stream",
     "text": [
      "\r",
      "4it [00:01,  2.27it/s]"
     ]
    },
    {
     "name": "stdout",
     "output_type": "stream",
     "text": [
      "Loading cif file of 4UG2\n",
      "data/mmcif/4UG2.cif\n"
     ]
    },
    {
     "name": "stderr",
     "output_type": "stream",
     "text": [
      "\r",
      "5it [00:02,  2.43it/s]"
     ]
    },
    {
     "name": "stdout",
     "output_type": "stream",
     "text": [
      "Loading cif file of 6KPG\n",
      "data/mmcif/6KPG.cif\n"
     ]
    },
    {
     "name": "stderr",
     "output_type": "stream",
     "text": [
      "\r",
      "6it [00:02,  2.09it/s]"
     ]
    },
    {
     "name": "stdout",
     "output_type": "stream",
     "text": [
      "Loading cif file of 6LPJ\n",
      "data/mmcif/6LPJ.cif\n"
     ]
    },
    {
     "name": "stderr",
     "output_type": "stream",
     "text": [
      "\r",
      "7it [00:02,  2.36it/s]"
     ]
    },
    {
     "name": "stdout",
     "output_type": "stream",
     "text": [
      "Loading cif file of 6RZ7\n",
      "data/mmcif/6RZ7.cif\n"
     ]
    },
    {
     "name": "stderr",
     "output_type": "stream",
     "text": [
      "8it [00:03,  2.47it/s]\n"
     ]
    },
    {
     "name": "stdout",
     "output_type": "stream",
     "text": [
      "trying to assign generic nubmers to 5K2B\n",
      "loaded data to assign gen. numbers from data/raw/5K2B.pkl\n",
      "Index(['author_residue_number', 'author_insertion_code', 'residue_number',\n",
      "       'author_residue_number', 'author_insertion_code', 'residue_number',\n",
      "       'author_residue_number', 'author_insertion_code', 'residue_number'],\n",
      "      dtype='object')\n",
      "Found correct uniprot map: AA2AR_HUMAN AA2AR_HUMAN\n",
      "Found correct uniprot map: AA2AR_HUMAN AA2AR_HUMAN\n",
      "trying to assign generic nubmers to 7JV5\n",
      "loaded data to assign gen. numbers from data/raw/7JV5.pkl\n",
      "Index(['author_residue_number', 'author_insertion_code', 'residue_number'], dtype='object')\n",
      "Found correct uniprot map: DRD1_HUMAN DRD1_HUMAN\n",
      "trying to assign generic nubmers to 6M9T\n",
      "loaded data to assign gen. numbers from data/raw/6M9T.pkl\n",
      "Index(['author_residue_number', 'author_insertion_code', 'residue_number',\n",
      "       'author_residue_number', 'author_insertion_code', 'residue_number',\n",
      "       'author_residue_number', 'author_insertion_code', 'residue_number'],\n",
      "      dtype='object')\n",
      "Found correct uniprot map: PE2R3_HUMAN PE2R3_HUMAN\n",
      "Found correct uniprot map: PE2R3_HUMAN PE2R3_HUMAN\n",
      "trying to assign generic nubmers to 7L0S\n",
      "loaded data to assign gen. numbers from data/raw/7L0S.pkl\n",
      "Index(['author_residue_number', 'author_insertion_code', 'residue_number'], dtype='object')\n",
      "Found correct uniprot map: NTR1_RAT NTR1_RAT\n",
      "trying to assign generic nubmers to 4UG2\n",
      "loaded data to assign gen. numbers from data/raw/4UG2.pkl\n",
      "Index(['author_residue_number', 'author_insertion_code', 'residue_number'], dtype='object')\n",
      "Found correct uniprot map: AA2AR_HUMAN AA2AR_HUMAN\n",
      "trying to assign generic nubmers to 6KPG\n",
      "loaded data to assign gen. numbers from data/raw/6KPG.pkl\n",
      "Index(['author_residue_number', 'author_insertion_code', 'residue_number'], dtype='object')\n",
      "Found correct uniprot map: CNR1_HUMAN CNR1_HUMAN\n",
      "trying to assign generic nubmers to 6LPJ\n",
      "loaded data to assign gen. numbers from data/raw/6LPJ.pkl\n",
      "Index(['author_residue_number', 'author_insertion_code', 'residue_number',\n",
      "       'author_residue_number', 'author_insertion_code', 'residue_number',\n",
      "       'author_residue_number', 'author_insertion_code', 'residue_number'],\n",
      "      dtype='object')\n",
      "Found correct uniprot map: AA2AR_HUMAN AA2AR_HUMAN\n",
      "Found correct uniprot map: AA2AR_HUMAN AA2AR_HUMAN\n",
      "trying to assign generic nubmers to 6RZ7\n",
      "loaded data to assign gen. numbers from data/raw/6RZ7.pkl\n",
      "Index(['author_residue_number', 'author_insertion_code', 'residue_number',\n",
      "       'author_residue_number', 'author_insertion_code', 'residue_number',\n",
      "       'author_residue_number', 'author_insertion_code', 'residue_number'],\n",
      "      dtype='object')\n",
      "Found correct uniprot map: CLTR2_HUMAN CLTR2_HUMAN\n",
      "Found correct uniprot map: CLTR2_HUMAN CLTR2_HUMAN\n",
      "20\n"
     ]
    },
    {
     "name": "stderr",
     "output_type": "stream",
     "text": [
      "0it [00:00, ?it/s]\n"
     ]
    },
    {
     "name": "stdout",
     "output_type": "stream",
     "text": [
      "21\n"
     ]
    },
    {
     "name": "stderr",
     "output_type": "stream",
     "text": [
      "0it [00:00, ?it/s]\n"
     ]
    },
    {
     "name": "stdout",
     "output_type": "stream",
     "text": [
      "22\n"
     ]
    },
    {
     "name": "stderr",
     "output_type": "stream",
     "text": [
      "0it [00:00, ?it/s]\n"
     ]
    },
    {
     "name": "stdout",
     "output_type": "stream",
     "text": [
      "23\n"
     ]
    },
    {
     "name": "stderr",
     "output_type": "stream",
     "text": [
      "0it [00:00, ?it/s]\n"
     ]
    },
    {
     "name": "stdout",
     "output_type": "stream",
     "text": [
      "24\n"
     ]
    },
    {
     "name": "stderr",
     "output_type": "stream",
     "text": [
      "0it [00:00, ?it/s]\n"
     ]
    },
    {
     "name": "stdout",
     "output_type": "stream",
     "text": [
      "25\n"
     ]
    },
    {
     "name": "stderr",
     "output_type": "stream",
     "text": [
      "0it [00:00, ?it/s]\n"
     ]
    },
    {
     "name": "stdout",
     "output_type": "stream",
     "text": [
      "26\n"
     ]
    },
    {
     "name": "stderr",
     "output_type": "stream",
     "text": [
      "0it [00:00, ?it/s]\n"
     ]
    },
    {
     "name": "stdout",
     "output_type": "stream",
     "text": [
      "27\n"
     ]
    },
    {
     "name": "stderr",
     "output_type": "stream",
     "text": [
      "0it [00:00, ?it/s]\n"
     ]
    },
    {
     "name": "stdout",
     "output_type": "stream",
     "text": [
      "28\n"
     ]
    },
    {
     "name": "stderr",
     "output_type": "stream",
     "text": [
      "0it [00:00, ?it/s]\n"
     ]
    },
    {
     "name": "stdout",
     "output_type": "stream",
     "text": [
      "29\n"
     ]
    },
    {
     "name": "stderr",
     "output_type": "stream",
     "text": [
      "0it [00:00, ?it/s]\n"
     ]
    },
    {
     "name": "stdout",
     "output_type": "stream",
     "text": [
      "30\n"
     ]
    },
    {
     "name": "stderr",
     "output_type": "stream",
     "text": [
      "0it [00:00, ?it/s]\n"
     ]
    },
    {
     "name": "stdout",
     "output_type": "stream",
     "text": [
      "31\n"
     ]
    },
    {
     "name": "stderr",
     "output_type": "stream",
     "text": [
      "0it [00:00, ?it/s]\n"
     ]
    },
    {
     "name": "stdout",
     "output_type": "stream",
     "text": [
      "32\n"
     ]
    },
    {
     "name": "stderr",
     "output_type": "stream",
     "text": [
      "0it [00:00, ?it/s]\n"
     ]
    },
    {
     "name": "stdout",
     "output_type": "stream",
     "text": [
      "33\n"
     ]
    },
    {
     "name": "stderr",
     "output_type": "stream",
     "text": [
      "0it [00:00, ?it/s]\n"
     ]
    },
    {
     "name": "stdout",
     "output_type": "stream",
     "text": [
      "34\n"
     ]
    },
    {
     "name": "stderr",
     "output_type": "stream",
     "text": [
      "0it [00:00, ?it/s]\n"
     ]
    },
    {
     "name": "stdout",
     "output_type": "stream",
     "text": [
      "35\n"
     ]
    },
    {
     "name": "stderr",
     "output_type": "stream",
     "text": [
      "0it [00:00, ?it/s]\n"
     ]
    },
    {
     "name": "stdout",
     "output_type": "stream",
     "text": [
      "36\n"
     ]
    },
    {
     "name": "stderr",
     "output_type": "stream",
     "text": [
      "0it [00:00, ?it/s]\n"
     ]
    },
    {
     "name": "stdout",
     "output_type": "stream",
     "text": [
      "37\n"
     ]
    },
    {
     "name": "stderr",
     "output_type": "stream",
     "text": [
      "0it [00:00, ?it/s]\n"
     ]
    },
    {
     "name": "stdout",
     "output_type": "stream",
     "text": [
      "38\n"
     ]
    },
    {
     "name": "stderr",
     "output_type": "stream",
     "text": [
      "0it [00:00, ?it/s]\n"
     ]
    },
    {
     "name": "stdout",
     "output_type": "stream",
     "text": [
      "39\n"
     ]
    },
    {
     "name": "stderr",
     "output_type": "stream",
     "text": [
      "0it [00:00, ?it/s]\n"
     ]
    },
    {
     "name": "stdout",
     "output_type": "stream",
     "text": [
      "40\n"
     ]
    },
    {
     "name": "stderr",
     "output_type": "stream",
     "text": [
      "0it [00:00, ?it/s]\n"
     ]
    },
    {
     "name": "stdout",
     "output_type": "stream",
     "text": [
      "41\n"
     ]
    },
    {
     "name": "stderr",
     "output_type": "stream",
     "text": [
      "0it [00:00, ?it/s]\n"
     ]
    },
    {
     "name": "stdout",
     "output_type": "stream",
     "text": [
      "42\n"
     ]
    },
    {
     "name": "stderr",
     "output_type": "stream",
     "text": [
      "0it [00:00, ?it/s]\n"
     ]
    },
    {
     "name": "stdout",
     "output_type": "stream",
     "text": [
      "43\n"
     ]
    },
    {
     "name": "stderr",
     "output_type": "stream",
     "text": [
      "0it [00:00, ?it/s]\n"
     ]
    },
    {
     "name": "stdout",
     "output_type": "stream",
     "text": [
      "44\n"
     ]
    },
    {
     "name": "stderr",
     "output_type": "stream",
     "text": [
      "0it [00:00, ?it/s]\n"
     ]
    },
    {
     "name": "stdout",
     "output_type": "stream",
     "text": [
      "45\n"
     ]
    },
    {
     "name": "stderr",
     "output_type": "stream",
     "text": [
      "0it [00:00, ?it/s]\n"
     ]
    },
    {
     "name": "stdout",
     "output_type": "stream",
     "text": [
      "46\n"
     ]
    },
    {
     "name": "stderr",
     "output_type": "stream",
     "text": [
      "0it [00:00, ?it/s]\n"
     ]
    },
    {
     "name": "stdout",
     "output_type": "stream",
     "text": [
      "47\n"
     ]
    },
    {
     "name": "stderr",
     "output_type": "stream",
     "text": [
      "0it [00:00, ?it/s]\n"
     ]
    },
    {
     "name": "stdout",
     "output_type": "stream",
     "text": [
      "48\n"
     ]
    },
    {
     "name": "stderr",
     "output_type": "stream",
     "text": [
      "0it [00:00, ?it/s]\n"
     ]
    },
    {
     "name": "stdout",
     "output_type": "stream",
     "text": [
      "49\n"
     ]
    },
    {
     "name": "stderr",
     "output_type": "stream",
     "text": [
      "0it [00:00, ?it/s]\n"
     ]
    },
    {
     "name": "stdout",
     "output_type": "stream",
     "text": [
      "50\n"
     ]
    },
    {
     "name": "stderr",
     "output_type": "stream",
     "text": [
      "0it [00:00, ?it/s]\n"
     ]
    },
    {
     "name": "stdout",
     "output_type": "stream",
     "text": [
      "51\n"
     ]
    },
    {
     "name": "stderr",
     "output_type": "stream",
     "text": [
      "0it [00:00, ?it/s]\n"
     ]
    },
    {
     "name": "stdout",
     "output_type": "stream",
     "text": [
      "52\n"
     ]
    },
    {
     "name": "stderr",
     "output_type": "stream",
     "text": [
      "0it [00:00, ?it/s]\n"
     ]
    },
    {
     "name": "stdout",
     "output_type": "stream",
     "text": [
      "53\n"
     ]
    },
    {
     "name": "stderr",
     "output_type": "stream",
     "text": [
      "0it [00:00, ?it/s]\n"
     ]
    },
    {
     "name": "stdout",
     "output_type": "stream",
     "text": [
      "54\n"
     ]
    },
    {
     "name": "stderr",
     "output_type": "stream",
     "text": [
      "0it [00:00, ?it/s]\n"
     ]
    },
    {
     "name": "stdout",
     "output_type": "stream",
     "text": [
      "55\n"
     ]
    },
    {
     "name": "stderr",
     "output_type": "stream",
     "text": [
      "0it [00:00, ?it/s]\n"
     ]
    },
    {
     "name": "stdout",
     "output_type": "stream",
     "text": [
      "56\n"
     ]
    },
    {
     "name": "stderr",
     "output_type": "stream",
     "text": [
      "0it [00:00, ?it/s]\n"
     ]
    },
    {
     "name": "stdout",
     "output_type": "stream",
     "text": [
      "57\n"
     ]
    },
    {
     "name": "stderr",
     "output_type": "stream",
     "text": [
      "0it [00:00, ?it/s]\n"
     ]
    },
    {
     "name": "stdout",
     "output_type": "stream",
     "text": [
      "58\n"
     ]
    },
    {
     "name": "stderr",
     "output_type": "stream",
     "text": [
      "0it [00:00, ?it/s]\n"
     ]
    },
    {
     "name": "stdout",
     "output_type": "stream",
     "text": [
      "59\n"
     ]
    },
    {
     "name": "stderr",
     "output_type": "stream",
     "text": [
      "0it [00:00, ?it/s]\n"
     ]
    },
    {
     "name": "stdout",
     "output_type": "stream",
     "text": [
      "60\n"
     ]
    },
    {
     "name": "stderr",
     "output_type": "stream",
     "text": [
      "0it [00:00, ?it/s]\n"
     ]
    },
    {
     "name": "stdout",
     "output_type": "stream",
     "text": [
      "61\n"
     ]
    },
    {
     "name": "stderr",
     "output_type": "stream",
     "text": [
      "0it [00:00, ?it/s]\n"
     ]
    },
    {
     "name": "stdout",
     "output_type": "stream",
     "text": [
      "62\n"
     ]
    },
    {
     "name": "stderr",
     "output_type": "stream",
     "text": [
      "0it [00:00, ?it/s]\n"
     ]
    },
    {
     "name": "stdout",
     "output_type": "stream",
     "text": [
      "63\n"
     ]
    },
    {
     "name": "stderr",
     "output_type": "stream",
     "text": [
      "0it [00:00, ?it/s]\n"
     ]
    },
    {
     "name": "stdout",
     "output_type": "stream",
     "text": [
      "64\n"
     ]
    },
    {
     "name": "stderr",
     "output_type": "stream",
     "text": [
      "0it [00:00, ?it/s]\n"
     ]
    },
    {
     "name": "stdout",
     "output_type": "stream",
     "text": [
      "65\n"
     ]
    },
    {
     "name": "stderr",
     "output_type": "stream",
     "text": [
      "0it [00:00, ?it/s]\n"
     ]
    },
    {
     "name": "stdout",
     "output_type": "stream",
     "text": [
      "66\n"
     ]
    },
    {
     "name": "stderr",
     "output_type": "stream",
     "text": [
      "0it [00:00, ?it/s]\n"
     ]
    },
    {
     "name": "stdout",
     "output_type": "stream",
     "text": [
      "67\n"
     ]
    },
    {
     "name": "stderr",
     "output_type": "stream",
     "text": [
      "0it [00:00, ?it/s]\n"
     ]
    },
    {
     "name": "stdout",
     "output_type": "stream",
     "text": [
      "68\n"
     ]
    },
    {
     "name": "stderr",
     "output_type": "stream",
     "text": [
      "0it [00:00, ?it/s]\n"
     ]
    },
    {
     "name": "stdout",
     "output_type": "stream",
     "text": [
      "69\n"
     ]
    },
    {
     "name": "stderr",
     "output_type": "stream",
     "text": [
      "0it [00:00, ?it/s]\n"
     ]
    },
    {
     "name": "stdout",
     "output_type": "stream",
     "text": [
      "70\n"
     ]
    },
    {
     "name": "stderr",
     "output_type": "stream",
     "text": [
      "0it [00:00, ?it/s]\n"
     ]
    },
    {
     "name": "stdout",
     "output_type": "stream",
     "text": [
      "71\n"
     ]
    },
    {
     "name": "stderr",
     "output_type": "stream",
     "text": [
      "0it [00:00, ?it/s]\n"
     ]
    },
    {
     "name": "stdout",
     "output_type": "stream",
     "text": [
      "72\n"
     ]
    },
    {
     "name": "stderr",
     "output_type": "stream",
     "text": [
      "0it [00:00, ?it/s]\n"
     ]
    },
    {
     "name": "stdout",
     "output_type": "stream",
     "text": [
      "73\n"
     ]
    },
    {
     "name": "stderr",
     "output_type": "stream",
     "text": [
      "0it [00:00, ?it/s]\n"
     ]
    },
    {
     "name": "stdout",
     "output_type": "stream",
     "text": [
      "74\n"
     ]
    },
    {
     "name": "stderr",
     "output_type": "stream",
     "text": [
      "0it [00:00, ?it/s]\n"
     ]
    },
    {
     "name": "stdout",
     "output_type": "stream",
     "text": [
      "75\n"
     ]
    },
    {
     "name": "stderr",
     "output_type": "stream",
     "text": [
      "0it [00:00, ?it/s]\n"
     ]
    },
    {
     "name": "stdout",
     "output_type": "stream",
     "text": [
      "76\n"
     ]
    },
    {
     "name": "stderr",
     "output_type": "stream",
     "text": [
      "0it [00:00, ?it/s]\n"
     ]
    },
    {
     "name": "stdout",
     "output_type": "stream",
     "text": [
      "77\n"
     ]
    },
    {
     "name": "stderr",
     "output_type": "stream",
     "text": [
      "0it [00:00, ?it/s]\n"
     ]
    },
    {
     "name": "stdout",
     "output_type": "stream",
     "text": [
      "78\n"
     ]
    },
    {
     "name": "stderr",
     "output_type": "stream",
     "text": [
      "0it [00:00, ?it/s]\n"
     ]
    },
    {
     "name": "stdout",
     "output_type": "stream",
     "text": [
      "79\n"
     ]
    },
    {
     "name": "stderr",
     "output_type": "stream",
     "text": [
      "0it [00:00, ?it/s]\n"
     ]
    },
    {
     "name": "stdout",
     "output_type": "stream",
     "text": [
      "80\n"
     ]
    },
    {
     "name": "stderr",
     "output_type": "stream",
     "text": [
      "0it [00:00, ?it/s]\n"
     ]
    },
    {
     "name": "stdout",
     "output_type": "stream",
     "text": [
      "81\n"
     ]
    },
    {
     "name": "stderr",
     "output_type": "stream",
     "text": [
      "0it [00:00, ?it/s]\n"
     ]
    },
    {
     "name": "stdout",
     "output_type": "stream",
     "text": [
      "82\n"
     ]
    },
    {
     "name": "stderr",
     "output_type": "stream",
     "text": [
      "0it [00:00, ?it/s]\n"
     ]
    },
    {
     "name": "stdout",
     "output_type": "stream",
     "text": [
      "83\n"
     ]
    },
    {
     "name": "stderr",
     "output_type": "stream",
     "text": [
      "0it [00:00, ?it/s]\n"
     ]
    },
    {
     "name": "stdout",
     "output_type": "stream",
     "text": [
      "84\n"
     ]
    },
    {
     "name": "stderr",
     "output_type": "stream",
     "text": [
      "0it [00:00, ?it/s]\n"
     ]
    },
    {
     "name": "stdout",
     "output_type": "stream",
     "text": [
      "85\n"
     ]
    },
    {
     "name": "stderr",
     "output_type": "stream",
     "text": [
      "0it [00:00, ?it/s]\n"
     ]
    },
    {
     "name": "stdout",
     "output_type": "stream",
     "text": [
      "86\n"
     ]
    },
    {
     "name": "stderr",
     "output_type": "stream",
     "text": [
      "0it [00:00, ?it/s]\n"
     ]
    },
    {
     "name": "stdout",
     "output_type": "stream",
     "text": [
      "87\n"
     ]
    },
    {
     "name": "stderr",
     "output_type": "stream",
     "text": [
      "0it [00:00, ?it/s]\n"
     ]
    },
    {
     "name": "stdout",
     "output_type": "stream",
     "text": [
      "88\n"
     ]
    },
    {
     "name": "stderr",
     "output_type": "stream",
     "text": [
      "0it [00:00, ?it/s]\n"
     ]
    },
    {
     "name": "stdout",
     "output_type": "stream",
     "text": [
      "89\n"
     ]
    },
    {
     "name": "stderr",
     "output_type": "stream",
     "text": [
      "0it [00:00, ?it/s]\n"
     ]
    },
    {
     "name": "stdout",
     "output_type": "stream",
     "text": [
      "90\n"
     ]
    },
    {
     "name": "stderr",
     "output_type": "stream",
     "text": [
      "0it [00:00, ?it/s]\n"
     ]
    },
    {
     "name": "stdout",
     "output_type": "stream",
     "text": [
      "91\n"
     ]
    },
    {
     "name": "stderr",
     "output_type": "stream",
     "text": [
      "0it [00:00, ?it/s]\n"
     ]
    },
    {
     "name": "stdout",
     "output_type": "stream",
     "text": [
      "92\n"
     ]
    },
    {
     "name": "stderr",
     "output_type": "stream",
     "text": [
      "0it [00:00, ?it/s]\n"
     ]
    },
    {
     "name": "stdout",
     "output_type": "stream",
     "text": [
      "93\n"
     ]
    },
    {
     "name": "stderr",
     "output_type": "stream",
     "text": [
      "0it [00:00, ?it/s]\n"
     ]
    },
    {
     "name": "stdout",
     "output_type": "stream",
     "text": [
      "94\n"
     ]
    },
    {
     "name": "stderr",
     "output_type": "stream",
     "text": [
      "0it [00:00, ?it/s]\n"
     ]
    },
    {
     "name": "stdout",
     "output_type": "stream",
     "text": [
      "95\n"
     ]
    },
    {
     "name": "stderr",
     "output_type": "stream",
     "text": [
      "0it [00:00, ?it/s]\n"
     ]
    },
    {
     "name": "stdout",
     "output_type": "stream",
     "text": [
      "96\n"
     ]
    },
    {
     "name": "stderr",
     "output_type": "stream",
     "text": [
      "0it [00:00, ?it/s]\n"
     ]
    },
    {
     "name": "stdout",
     "output_type": "stream",
     "text": [
      "97\n"
     ]
    },
    {
     "name": "stderr",
     "output_type": "stream",
     "text": [
      "0it [00:00, ?it/s]\n"
     ]
    },
    {
     "name": "stdout",
     "output_type": "stream",
     "text": [
      "98\n"
     ]
    },
    {
     "name": "stderr",
     "output_type": "stream",
     "text": [
      "0it [00:00, ?it/s]\n"
     ]
    },
    {
     "name": "stdout",
     "output_type": "stream",
     "text": [
      "99\n"
     ]
    },
    {
     "name": "stderr",
     "output_type": "stream",
     "text": [
      "0it [00:00, ?it/s]\n"
     ]
    }
   ],
   "source": [
    "for i in range(100):\n",
    "    start = (i+7) * 20\n",
    "    print(i)\n",
    "    data = CifProcessor(starting_idx = start, limit = 20, allow_exception=False)\n",
    "    data.read_pkl_metainfo()\n",
    "    data.make_raws()\n",
    "    data.to_pkl_raw(overwrite=False)\n",
    "    data.assign_generic_numbers(overwrite=False)\n",
    "    data.to_pkl_processed()"
   ]
  },
  {
   "cell_type": "code",
   "execution_count": 215,
   "id": "daily-teach",
   "metadata": {},
   "outputs": [],
   "source": [
    "data = CifProcessor()"
   ]
  },
  {
   "cell_type": "code",
   "execution_count": null,
   "id": "japanese-agent",
   "metadata": {},
   "outputs": [],
   "source": []
  },
  {
   "cell_type": "code",
   "execution_count": 216,
   "id": "federal-biology",
   "metadata": {},
   "outputs": [],
   "source": [
    "# tbd include "
   ]
  },
  {
   "cell_type": "code",
   "execution_count": null,
   "id": "loose-jamaica",
   "metadata": {},
   "outputs": [],
   "source": []
  },
  {
   "cell_type": "code",
   "execution_count": 217,
   "id": "partial-instruction",
   "metadata": {},
   "outputs": [],
   "source": [
    "data.read_pkl_processed()"
   ]
  },
  {
   "cell_type": "code",
   "execution_count": 218,
   "id": "breathing-reflection",
   "metadata": {},
   "outputs": [],
   "source": [
    "# data.to_pkl_metainfo()"
   ]
  },
  {
   "cell_type": "code",
   "execution_count": 219,
   "id": "medium-bradley",
   "metadata": {},
   "outputs": [],
   "source": [
    "# data.make_metainfo()"
   ]
  },
  {
   "cell_type": "code",
   "execution_count": 220,
   "id": "decimal-knight",
   "metadata": {},
   "outputs": [],
   "source": [
    "data.read_pkl_metainfo()"
   ]
  },
  {
   "cell_type": "code",
   "execution_count": 221,
   "id": "demanding-princess",
   "metadata": {},
   "outputs": [
    {
     "data": {
      "text/html": [
       "<div>\n",
       "<style scoped>\n",
       "    .dataframe tbody tr th:only-of-type {\n",
       "        vertical-align: middle;\n",
       "    }\n",
       "\n",
       "    .dataframe tbody tr th {\n",
       "        vertical-align: top;\n",
       "    }\n",
       "\n",
       "    .dataframe thead th {\n",
       "        text-align: right;\n",
       "    }\n",
       "</style>\n",
       "<table border=\"1\" class=\"dataframe\">\n",
       "  <thead>\n",
       "    <tr style=\"text-align: right;\">\n",
       "      <th></th>\n",
       "      <th>PDB</th>\n",
       "      <th>identifier</th>\n",
       "      <th>family</th>\n",
       "      <th>numbering</th>\n",
       "    </tr>\n",
       "  </thead>\n",
       "  <tbody>\n",
       "    <tr>\n",
       "      <th>0</th>\n",
       "      <td>6FJ3</td>\n",
       "      <td>pth1r_human</td>\n",
       "      <td>002_001_004_001</td>\n",
       "      <td>[{'sequence_number': 1, 'amino_acid': 'M', 'pr...</td>\n",
       "    </tr>\n",
       "    <tr>\n",
       "      <th>1</th>\n",
       "      <td>5WS3</td>\n",
       "      <td>ox2r_human</td>\n",
       "      <td>001_002_023_002</td>\n",
       "      <td>[{'sequence_number': 1, 'amino_acid': 'M', 'pr...</td>\n",
       "    </tr>\n",
       "    <tr>\n",
       "      <th>2</th>\n",
       "      <td>6FKD</td>\n",
       "      <td>opsd_bovin</td>\n",
       "      <td>001_009_001_001</td>\n",
       "      <td>[{'sequence_number': 1, 'amino_acid': 'M', 'pr...</td>\n",
       "    </tr>\n",
       "    <tr>\n",
       "      <th>3</th>\n",
       "      <td>6TP4</td>\n",
       "      <td>ox1r_human</td>\n",
       "      <td>001_002_023_001</td>\n",
       "      <td>[{'sequence_number': 1, 'amino_acid': 'M', 'pr...</td>\n",
       "    </tr>\n",
       "    <tr>\n",
       "      <th>4</th>\n",
       "      <td>4JKV</td>\n",
       "      <td>smo_human</td>\n",
       "      <td>006_001_001_011</td>\n",
       "      <td>[{'sequence_number': 1, 'amino_acid': 'M', 'pr...</td>\n",
       "    </tr>\n",
       "    <tr>\n",
       "      <th>...</th>\n",
       "      <td>...</td>\n",
       "      <td>...</td>\n",
       "      <td>...</td>\n",
       "      <td>...</td>\n",
       "    </tr>\n",
       "    <tr>\n",
       "      <th>523</th>\n",
       "      <td>6ME6</td>\n",
       "      <td>mtr1b_human</td>\n",
       "      <td>001_005_001_002</td>\n",
       "      <td>[{'sequence_number': 1, 'amino_acid': 'M', 'pr...</td>\n",
       "    </tr>\n",
       "    <tr>\n",
       "      <th>524</th>\n",
       "      <td>4UG2</td>\n",
       "      <td>aa2ar_human</td>\n",
       "      <td>001_006_001_002</td>\n",
       "      <td>[{'sequence_number': 1, 'amino_acid': 'M', 'pr...</td>\n",
       "    </tr>\n",
       "    <tr>\n",
       "      <th>525</th>\n",
       "      <td>6NWE</td>\n",
       "      <td>opsd_bovin</td>\n",
       "      <td>001_009_001_001</td>\n",
       "      <td>[{'sequence_number': 1, 'amino_acid': 'M', 'pr...</td>\n",
       "    </tr>\n",
       "    <tr>\n",
       "      <th>526</th>\n",
       "      <td>1U19</td>\n",
       "      <td>opsd_bovin</td>\n",
       "      <td>001_009_001_001</td>\n",
       "      <td>[{'sequence_number': 1, 'amino_acid': 'M', 'pr...</td>\n",
       "    </tr>\n",
       "    <tr>\n",
       "      <th>527</th>\n",
       "      <td>4S0V</td>\n",
       "      <td>ox2r_human</td>\n",
       "      <td>001_002_023_002</td>\n",
       "      <td>[{'sequence_number': 1, 'amino_acid': 'M', 'pr...</td>\n",
       "    </tr>\n",
       "  </tbody>\n",
       "</table>\n",
       "<p>528 rows × 4 columns</p>\n",
       "</div>"
      ],
      "text/plain": [
       "      PDB   identifier           family  \\\n",
       "0    6FJ3  pth1r_human  002_001_004_001   \n",
       "1    5WS3   ox2r_human  001_002_023_002   \n",
       "2    6FKD   opsd_bovin  001_009_001_001   \n",
       "3    6TP4   ox1r_human  001_002_023_001   \n",
       "4    4JKV    smo_human  006_001_001_011   \n",
       "..    ...          ...              ...   \n",
       "523  6ME6  mtr1b_human  001_005_001_002   \n",
       "524  4UG2  aa2ar_human  001_006_001_002   \n",
       "525  6NWE   opsd_bovin  001_009_001_001   \n",
       "526  1U19   opsd_bovin  001_009_001_001   \n",
       "527  4S0V   ox2r_human  001_002_023_002   \n",
       "\n",
       "                                             numbering  \n",
       "0    [{'sequence_number': 1, 'amino_acid': 'M', 'pr...  \n",
       "1    [{'sequence_number': 1, 'amino_acid': 'M', 'pr...  \n",
       "2    [{'sequence_number': 1, 'amino_acid': 'M', 'pr...  \n",
       "3    [{'sequence_number': 1, 'amino_acid': 'M', 'pr...  \n",
       "4    [{'sequence_number': 1, 'amino_acid': 'M', 'pr...  \n",
       "..                                                 ...  \n",
       "523  [{'sequence_number': 1, 'amino_acid': 'M', 'pr...  \n",
       "524  [{'sequence_number': 1, 'amino_acid': 'M', 'pr...  \n",
       "525  [{'sequence_number': 1, 'amino_acid': 'M', 'pr...  \n",
       "526  [{'sequence_number': 1, 'amino_acid': 'M', 'pr...  \n",
       "527  [{'sequence_number': 1, 'amino_acid': 'M', 'pr...  \n",
       "\n",
       "[528 rows x 4 columns]"
      ]
     },
     "execution_count": 221,
     "metadata": {},
     "output_type": "execute_result"
    }
   ],
   "source": [
    "data.numbering"
   ]
  },
  {
   "cell_type": "code",
   "execution_count": 222,
   "id": "digital-photography",
   "metadata": {},
   "outputs": [
    {
     "data": {
      "text/plain": [
       "528"
      ]
     },
     "execution_count": 222,
     "metadata": {},
     "output_type": "execute_result"
    }
   ],
   "source": [
    "len(data.dfl)"
   ]
  },
  {
   "cell_type": "code",
   "execution_count": 223,
   "id": "environmental-assessment",
   "metadata": {},
   "outputs": [
    {
     "data": {
      "text/html": [
       "<div>\n",
       "<style scoped>\n",
       "    .dataframe tbody tr th:only-of-type {\n",
       "        vertical-align: middle;\n",
       "    }\n",
       "\n",
       "    .dataframe tbody tr th {\n",
       "        vertical-align: top;\n",
       "    }\n",
       "\n",
       "    .dataframe thead th {\n",
       "        text-align: right;\n",
       "    }\n",
       "</style>\n",
       "<table border=\"1\" class=\"dataframe\">\n",
       "  <thead>\n",
       "    <tr style=\"text-align: right;\">\n",
       "      <th></th>\n",
       "      <th>uniprot(gene)</th>\n",
       "      <th>Cl.</th>\n",
       "      <th>PDB</th>\n",
       "      <th>Resolution</th>\n",
       "      <th>Preferred Chain</th>\n",
       "      <th>State</th>\n",
       "      <th>Function</th>\n",
       "    </tr>\n",
       "  </thead>\n",
       "  <tbody>\n",
       "    <tr>\n",
       "      <th>0</th>\n",
       "      <td>STE2</td>\n",
       "      <td>D1(Ste2-likefungalpheromone)</td>\n",
       "      <td>7AD3</td>\n",
       "      <td>3.5</td>\n",
       "      <td>A</td>\n",
       "      <td>Active</td>\n",
       "      <td>Agonist</td>\n",
       "    </tr>\n",
       "    <tr>\n",
       "      <th>1</th>\n",
       "      <td>CCR2</td>\n",
       "      <td>A(Rhodopsin)</td>\n",
       "      <td>5T1A</td>\n",
       "      <td>2.8</td>\n",
       "      <td>A</td>\n",
       "      <td>Inactive</td>\n",
       "      <td>AntagonistNAM</td>\n",
       "    </tr>\n",
       "    <tr>\n",
       "      <th>2</th>\n",
       "      <td>OPRM</td>\n",
       "      <td>A(Rhodopsin)</td>\n",
       "      <td>4DKL</td>\n",
       "      <td>2.8</td>\n",
       "      <td>A</td>\n",
       "      <td>Inactive</td>\n",
       "      <td>Antagonist</td>\n",
       "    </tr>\n",
       "    <tr>\n",
       "      <th>3</th>\n",
       "      <td>CNR2</td>\n",
       "      <td>A(Rhodopsin)</td>\n",
       "      <td>5ZTY</td>\n",
       "      <td>2.8</td>\n",
       "      <td>A</td>\n",
       "      <td>Inactive</td>\n",
       "      <td>Antagonist</td>\n",
       "    </tr>\n",
       "    <tr>\n",
       "      <th>4</th>\n",
       "      <td>5HT1B</td>\n",
       "      <td>A(Rhodopsin)</td>\n",
       "      <td>6G79</td>\n",
       "      <td>3.8</td>\n",
       "      <td>S</td>\n",
       "      <td>Active</td>\n",
       "      <td>Agonist</td>\n",
       "    </tr>\n",
       "    <tr>\n",
       "      <th>...</th>\n",
       "      <td>...</td>\n",
       "      <td>...</td>\n",
       "      <td>...</td>\n",
       "      <td>...</td>\n",
       "      <td>...</td>\n",
       "      <td>...</td>\n",
       "      <td>...</td>\n",
       "    </tr>\n",
       "    <tr>\n",
       "      <th>523</th>\n",
       "      <td>OPSD</td>\n",
       "      <td>A(Rhodopsin)</td>\n",
       "      <td>6PH7</td>\n",
       "      <td>2.9</td>\n",
       "      <td>A</td>\n",
       "      <td>Active</td>\n",
       "      <td>unknown</td>\n",
       "    </tr>\n",
       "    <tr>\n",
       "      <th>524</th>\n",
       "      <td>NTR1</td>\n",
       "      <td>A(Rhodopsin)</td>\n",
       "      <td>7L0S</td>\n",
       "      <td>4.5</td>\n",
       "      <td>C</td>\n",
       "      <td>Active</td>\n",
       "      <td>Agonist</td>\n",
       "    </tr>\n",
       "    <tr>\n",
       "      <th>525</th>\n",
       "      <td>AA2AR</td>\n",
       "      <td>A(Rhodopsin)</td>\n",
       "      <td>6S0Q</td>\n",
       "      <td>2.7</td>\n",
       "      <td>A</td>\n",
       "      <td>Inactive</td>\n",
       "      <td>Antagonist</td>\n",
       "    </tr>\n",
       "    <tr>\n",
       "      <th>526</th>\n",
       "      <td>GLP1R</td>\n",
       "      <td>B1(Secretin)</td>\n",
       "      <td>7LCJ</td>\n",
       "      <td>2.8</td>\n",
       "      <td>R</td>\n",
       "      <td>Active</td>\n",
       "      <td>Agonist</td>\n",
       "    </tr>\n",
       "    <tr>\n",
       "      <th>527</th>\n",
       "      <td>NTR1</td>\n",
       "      <td>A(Rhodopsin)</td>\n",
       "      <td>7L0Q</td>\n",
       "      <td>4.3</td>\n",
       "      <td>C</td>\n",
       "      <td>Active</td>\n",
       "      <td>Agonist</td>\n",
       "    </tr>\n",
       "  </tbody>\n",
       "</table>\n",
       "<p>528 rows × 7 columns</p>\n",
       "</div>"
      ],
      "text/plain": [
       "    uniprot(gene)                           Cl.   PDB  Resolution  \\\n",
       "0            STE2  D1(Ste2-likefungalpheromone)  7AD3         3.5   \n",
       "1            CCR2                  A(Rhodopsin)  5T1A         2.8   \n",
       "2            OPRM                  A(Rhodopsin)  4DKL         2.8   \n",
       "3            CNR2                  A(Rhodopsin)  5ZTY         2.8   \n",
       "4           5HT1B                  A(Rhodopsin)  6G79         3.8   \n",
       "..            ...                           ...   ...         ...   \n",
       "523          OPSD                  A(Rhodopsin)  6PH7         2.9   \n",
       "524          NTR1                  A(Rhodopsin)  7L0S         4.5   \n",
       "525         AA2AR                  A(Rhodopsin)  6S0Q         2.7   \n",
       "526         GLP1R                  B1(Secretin)  7LCJ         2.8   \n",
       "527          NTR1                  A(Rhodopsin)  7L0Q         4.3   \n",
       "\n",
       "    Preferred Chain     State       Function  \n",
       "0                 A    Active        Agonist  \n",
       "1                 A  Inactive  AntagonistNAM  \n",
       "2                 A  Inactive     Antagonist  \n",
       "3                 A  Inactive     Antagonist  \n",
       "4                 S    Active        Agonist  \n",
       "..              ...       ...            ...  \n",
       "523               A    Active        unknown  \n",
       "524               C    Active        Agonist  \n",
       "525               A  Inactive     Antagonist  \n",
       "526               R    Active        Agonist  \n",
       "527               C    Active        Agonist  \n",
       "\n",
       "[528 rows x 7 columns]"
      ]
     },
     "execution_count": 223,
     "metadata": {},
     "output_type": "execute_result"
    }
   ],
   "source": [
    "data.table"
   ]
  },
  {
   "cell_type": "code",
   "execution_count": 224,
   "id": "applied-choice",
   "metadata": {},
   "outputs": [],
   "source": [
    "df = data.dfl[0]"
   ]
  },
  {
   "cell_type": "code",
   "execution_count": 225,
   "id": "simple-reasoning",
   "metadata": {},
   "outputs": [],
   "source": [
    "def split_family(family):\n",
    "    return family.split('_')"
   ]
  },
  {
   "cell_type": "code",
   "execution_count": 226,
   "id": "liked-easter",
   "metadata": {},
   "outputs": [],
   "source": [
    "split = ['001', '009', '001', '001']"
   ]
  },
  {
   "cell_type": "code",
   "execution_count": null,
   "id": "grand-apparel",
   "metadata": {},
   "outputs": [],
   "source": []
  },
  {
   "cell_type": "code",
   "execution_count": 227,
   "id": "major-loading",
   "metadata": {},
   "outputs": [],
   "source": [
    "def fam_id_to_name(fam_id:str):\n",
    "    return None"
   ]
  },
  {
   "cell_type": "code",
   "execution_count": null,
   "id": "excess-rover",
   "metadata": {},
   "outputs": [],
   "source": []
  },
  {
   "cell_type": "code",
   "execution_count": 228,
   "id": "touched-cardiff",
   "metadata": {},
   "outputs": [],
   "source": [
    "def group_by_family(numbering, family):\n",
    "    \"\"\"\n",
    "    family: a length = 4 list with 4 identifiers\n",
    "    \"\"\"\n",
    "    numbering[['f1', 'f2', 'f3', 'f4']] = numbering.apply(lambda x: x.family.split('_'), axis = 1, result_type='expand')\n",
    "    for i, f in enumerate(family):\n",
    "        if f != '':\n",
    "            col = 'f'+ str(i+1)\n",
    "            numbering = numbering[numbering[col] == family[i]]\n",
    "    return list(numbering['PDB'].unique())"
   ]
  },
  {
   "cell_type": "code",
   "execution_count": 229,
   "id": "phantom-pricing",
   "metadata": {},
   "outputs": [],
   "source": [
    "group = group_by_family(data.numbering, split)"
   ]
  },
  {
   "cell_type": "code",
   "execution_count": 230,
   "id": "deluxe-canyon",
   "metadata": {},
   "outputs": [
    {
     "data": {
      "text/html": [
       "<div>\n",
       "<style scoped>\n",
       "    .dataframe tbody tr th:only-of-type {\n",
       "        vertical-align: middle;\n",
       "    }\n",
       "\n",
       "    .dataframe tbody tr th {\n",
       "        vertical-align: top;\n",
       "    }\n",
       "\n",
       "    .dataframe thead th {\n",
       "        text-align: right;\n",
       "    }\n",
       "</style>\n",
       "<table border=\"1\" class=\"dataframe\">\n",
       "  <thead>\n",
       "    <tr style=\"text-align: right;\">\n",
       "      <th></th>\n",
       "      <th>PDB</th>\n",
       "      <th>identifier</th>\n",
       "      <th>family</th>\n",
       "      <th>numbering</th>\n",
       "      <th>f1</th>\n",
       "      <th>f2</th>\n",
       "      <th>f3</th>\n",
       "      <th>f4</th>\n",
       "    </tr>\n",
       "  </thead>\n",
       "  <tbody>\n",
       "    <tr>\n",
       "      <th>2</th>\n",
       "      <td>6FKD</td>\n",
       "      <td>opsd_bovin</td>\n",
       "      <td>001_009_001_001</td>\n",
       "      <td>[{'sequence_number': 1, 'amino_acid': 'M', 'pr...</td>\n",
       "      <td>001</td>\n",
       "      <td>009</td>\n",
       "      <td>001</td>\n",
       "      <td>001</td>\n",
       "    </tr>\n",
       "  </tbody>\n",
       "</table>\n",
       "</div>"
      ],
      "text/plain": [
       "    PDB  identifier           family  \\\n",
       "2  6FKD  opsd_bovin  001_009_001_001   \n",
       "\n",
       "                                           numbering   f1   f2   f3   f4  \n",
       "2  [{'sequence_number': 1, 'amino_acid': 'M', 'pr...  001  009  001  001  "
      ]
     },
     "execution_count": 230,
     "metadata": {},
     "output_type": "execute_result"
    }
   ],
   "source": [
    "data.numbering[data.numbering['PDB'] == '6FKD']"
   ]
  },
  {
   "cell_type": "code",
   "execution_count": 231,
   "id": "delayed-platinum",
   "metadata": {},
   "outputs": [],
   "source": [
    "def get_group_from_dfl(dfl, pdb_ids):\n",
    "    selection = []\n",
    "    sel_pdbs = []\n",
    "    for df in dfl:\n",
    "        if df['PDB'].unique()[0] in pdb_ids:\n",
    "            selection.append(df)\n",
    "            sel_pdbs.append(df['PDB'].unique()[0])\n",
    "    return selection, sel_pdbs"
   ]
  },
  {
   "cell_type": "code",
   "execution_count": 232,
   "id": "headed-connection",
   "metadata": {},
   "outputs": [],
   "source": [
    "selection, sel_pdbs = get_group_from_dfl(data.dfl, group)"
   ]
  },
  {
   "cell_type": "code",
   "execution_count": 233,
   "id": "studied-battle",
   "metadata": {},
   "outputs": [
    {
     "data": {
      "text/plain": [
       "58"
      ]
     },
     "execution_count": 233,
     "metadata": {},
     "output_type": "execute_result"
    }
   ],
   "source": [
    "len(selection)"
   ]
  },
  {
   "cell_type": "code",
   "execution_count": 234,
   "id": "surgical-support",
   "metadata": {},
   "outputs": [
    {
     "data": {
      "text/plain": [
       "58"
      ]
     },
     "execution_count": 234,
     "metadata": {},
     "output_type": "execute_result"
    }
   ],
   "source": [
    "len(group)"
   ]
  },
  {
   "cell_type": "code",
   "execution_count": 235,
   "id": "fitted-whale",
   "metadata": {},
   "outputs": [
    {
     "data": {
      "text/plain": [
       "528"
      ]
     },
     "execution_count": 235,
     "metadata": {},
     "output_type": "execute_result"
    }
   ],
   "source": [
    "len(data.dfl)"
   ]
  },
  {
   "cell_type": "code",
   "execution_count": 236,
   "id": "bridal-magazine",
   "metadata": {},
   "outputs": [
    {
     "name": "stdout",
     "output_type": "stream",
     "text": [
      "['6FKD', '5EN0', '6OFJ', '2G87', '1GZM', '6I9K', '3OAX', '6FUF', '6FK6', '4ZWJ', '6FKB', '4PXF', '5W0P', '6FKA', '4BEY', '5TE3', '4BEZ', '1L9H', '4A4M', '2I35', '2X72', '2PED', '2Z73', '6FK9', '6OY9', '6QNO', '2J4Y', '6CMO', '5DGY', '2I37', '5WKT', '6FKC', '3CAP', '6PEL', '5TE5', '1f88', '4X1H', '6PGS', '3C9M', '6OYA', '5DYS', '3C9L', '6FK8', '2I36', '4WW3', '3PXO', '3PQR', '3AYN', '3AYM', '2HPY', '6FK7', '3DQB', '2ZIY', '1HZX', '4J4Q', '6PH7', '6NWE', '1U19']\n"
     ]
    }
   ],
   "source": [
    "print(group)"
   ]
  },
  {
   "cell_type": "code",
   "execution_count": 237,
   "id": "flush-designer",
   "metadata": {},
   "outputs": [
    {
     "name": "stdout",
     "output_type": "stream",
     "text": [
      "['1f88', '1GZM', '1HZX', '1L9H', '1U19', '2G87', '2HPY', '2I35', '2I36', '2I37', '2J4Y', '2PED', '2X72', '2Z73', '2ZIY', '3AYM', '3AYN', '3C9L', '3C9M', '3CAP', '3DQB', '3OAX', '3PQR', '3PXO', '4A4M', '4BEY', '4BEZ', '4J4Q', '4PXF', '4WW3', '4X1H', '4ZWJ', '5DGY', '5DYS', '5EN0', '5TE3', '5TE5', '5W0P', '5WKT', '6CMO', '6FK6', '6FK7', '6FK8', '6FK9', '6FKA', '6FKB', '6FKC', '6FKD', '6FUF', '6I9K', '6NWE', '6OFJ', '6OY9', '6OYA', '6PEL', '6PGS', '6PH7', '6QNO']\n"
     ]
    }
   ],
   "source": [
    "print(sel_pdbs)"
   ]
  },
  {
   "cell_type": "code",
   "execution_count": 238,
   "id": "central-quantity",
   "metadata": {},
   "outputs": [],
   "source": [
    "def get_activity(table, sel_pdbs):\n",
    "    activity_dict = {}\n",
    "    actives = []\n",
    "    inactives = []\n",
    "    for pdb in sel_pdbs:\n",
    "        act = table[table['PDB']==pdb.upper()]['State'].iloc[0]\n",
    "        activity_dict.update({pdb: act})\n",
    "        if act == 'Active':\n",
    "            actives.append(pdb)\n",
    "        elif act == 'Inactive':\n",
    "            inactives.append(pdb)\n",
    "    return activity_dict, actives, inactives"
   ]
  },
  {
   "cell_type": "code",
   "execution_count": 239,
   "id": "included-prevention",
   "metadata": {},
   "outputs": [],
   "source": [
    "filter_dict, actives, inactives = get_activity(data.table, sel_pdbs)"
   ]
  },
  {
   "cell_type": "code",
   "execution_count": 240,
   "id": "smart-accommodation",
   "metadata": {},
   "outputs": [],
   "source": [
    "active_dfl = get_group_from_dfl(data.dfl, actives)[0]"
   ]
  },
  {
   "cell_type": "code",
   "execution_count": 241,
   "id": "objective-balloon",
   "metadata": {},
   "outputs": [
    {
     "data": {
      "text/plain": [
       "35"
      ]
     },
     "execution_count": 241,
     "metadata": {},
     "output_type": "execute_result"
    }
   ],
   "source": [
    "len(actives)"
   ]
  },
  {
   "cell_type": "code",
   "execution_count": 242,
   "id": "fuzzy-radio",
   "metadata": {},
   "outputs": [
    {
     "data": {
      "text/plain": [
       "23"
      ]
     },
     "execution_count": 242,
     "metadata": {},
     "output_type": "execute_result"
    }
   ],
   "source": [
    "len(inactives)"
   ]
  },
  {
   "cell_type": "code",
   "execution_count": 243,
   "id": "charitable-enclosure",
   "metadata": {},
   "outputs": [],
   "source": [
    "inactive_dfl = get_group_from_dfl(data.dfl, inactives)[0]"
   ]
  },
  {
   "cell_type": "markdown",
   "id": "marked-rubber",
   "metadata": {},
   "source": [
    "# PLOTTING"
   ]
  },
  {
   "cell_type": "code",
   "execution_count": 245,
   "id": "extreme-improvement",
   "metadata": {},
   "outputs": [],
   "source": [
    "def plot_angles_for_gen_pos(dfl, region=[7.40, 7.60], legend=True, title=''):\n",
    "    categories = []\n",
    "    for df in dfl:\n",
    "        category = np.unique(df['PDB'])[0]\n",
    "        categories.append(category.upper())\n",
    "\n",
    "    cmap = plt.cm.get_cmap('RdYlGn', len(categories))\n",
    "    colors = np.linspace(0, len(categories)-1, len(categories))\n",
    "    colordict = dict(zip(categories,colors))\n",
    "\n",
    "    fig, axes = plt.subplots(nrows=1, ncols=2, figsize=(24,12))\n",
    "\n",
    "    xlabel = 'generic position numbers'\n",
    "    ylabel = 'degrees'\n",
    "    \n",
    "    start_regions = [x for _, x in enumerate(region) if _ % 2 == 0]\n",
    "    end_regions = [x for _, x in enumerate(region) if _ % 2 == 1]\n",
    "    \n",
    "    for i in range(len(start_regions)):\n",
    "        xtick_min = start_regions[i]\n",
    "        xtick_max = end_regions[i]\n",
    "        nsteps = int(round(xtick_max - xtick_min, 2) / 0.01)\n",
    "        if i == 0:\n",
    "            xticks = np.linspace(start_regions[i], end_regions[i], nsteps+1)\n",
    "        else:\n",
    "            xticks = np.hstack([xticks, np.linspace(start_regions[i], end_regions[i], nsteps+1)])\n",
    "    xticks = [round(x, 2) for x in xticks]\n",
    "    xticks_ = [i for i in range(len(xticks))]\n",
    "    xtick_dict = dict(zip(xticks, xticks_))\n",
    "    \n",
    "    for i, cat in enumerate(categories):\n",
    "        c = int(colordict[cat])\n",
    "        df = dfl[i]\n",
    "        roi = pd.concat([df.loc[(df['gen_pos1'] > start_regions[i]) &\n",
    "                                (df['gen_pos1'] < end_regions[i]) &\n",
    "                                (df['label_atom_id']=='CA')] for i in range(len(start_regions))], join='outer')\n",
    "        roi['xticks'] = roi.apply(lambda x: xtick_dict[x.gen_pos1], axis=1)\n",
    "        roi['phi'] = roi.apply(lambda x: float(x.phi), axis=1)\n",
    "        roi['omega'] = roi.apply(lambda x: float(x.omega), axis=1)\n",
    "        roi['psi'] = roi.apply(lambda x: float(x.psi), axis=1)\n",
    "        tot_len = len(roi['phi'].to_list())+len(roi['omega'].to_list())+len(roi['psi'].to_list())\n",
    "        if tot_len > 0:\n",
    "            roi.plot(kind='line', x='xticks', y='phi', \n",
    "                    ax = axes[0], subplots = True, color = cmap(c), label=cat)\n",
    "            if legend:\n",
    "                axes[0].legend(bbox_to_anchor=(1.0, 1.0))\n",
    "            else:\n",
    "                axes[0].get_legend().remove()\n",
    "            axes[0].set_xticks(xticks_)\n",
    "            axes[0].set_xticklabels([str(x) for x in xticks], minor=False)\n",
    "            axes[0].set_xlabel(xlabel)\n",
    "            axes[0].set_ylabel(ylabel)\n",
    "            axes[0].set_title('Phi Angles')\n",
    "\n",
    "            roi.plot(kind='line', x='xticks', y='psi', \n",
    "                    ax = axes[1], subplots = True, color = cmap(c), label=cat)\n",
    "            if legend:\n",
    "                axes[1].legend(bbox_to_anchor=(1.0, 1.0))\n",
    "            else:\n",
    "                axes[1].get_legend().remove()\n",
    "            axes[1].set_xticks(xticks_)\n",
    "            axes[1].set_xticklabels([str(x) for x in xticks], minor=False)\n",
    "            axes[1].set_xlabel(xlabel)\n",
    "            axes[1].set_ylabel(ylabel)\n",
    "            axes[1].set_title('Psi Angles')\n",
    "    fig.suptitle(title, fontsize=12)\n",
    "\n",
    "    mplcursors.cursor(hover=True)\n",
    "\n",
    "    plt.show()"
   ]
  },
  {
   "cell_type": "code",
   "execution_count": 247,
   "id": "accessible-boards",
   "metadata": {},
   "outputs": [
    {
     "name": "stdout",
     "output_type": "stream",
     "text": [
      "Using matplotlib backend: Qt5Agg\n",
      "Populating the interactive namespace from numpy and matplotlib\n"
     ]
    }
   ],
   "source": [
    "%pylab\n",
    "plot_angles_for_gen_pos(active_dfl, region=[7.44, 7.55, 8.51, 8.54], legend=False, title='Active GPCRs (Complexes)')\n",
    "plot_angles_for_gen_pos(inactive_dfl, region=[7.44, 7.55, 8.51, 8.54], legend=False, title='Inactive GPCRs')"
   ]
  },
  {
   "cell_type": "code",
   "execution_count": null,
   "id": "loose-former",
   "metadata": {},
   "outputs": [],
   "source": []
  },
  {
   "cell_type": "code",
   "execution_count": null,
   "id": "portuguese-batch",
   "metadata": {},
   "outputs": [],
   "source": []
  },
  {
   "cell_type": "code",
   "execution_count": null,
   "id": "vietnamese-relation",
   "metadata": {},
   "outputs": [],
   "source": []
  },
  {
   "cell_type": "code",
   "execution_count": 153,
   "id": "beneficial-lease",
   "metadata": {},
   "outputs": [],
   "source": [
    "# download gproteins structures?  ==> where do i get regions"
   ]
  },
  {
   "cell_type": "code",
   "execution_count": 154,
   "id": "internal-domestic",
   "metadata": {},
   "outputs": [],
   "source": [
    "# predict contact maps"
   ]
  },
  {
   "cell_type": "code",
   "execution_count": 155,
   "id": "scenic-beauty",
   "metadata": {},
   "outputs": [],
   "source": [
    "# predict activity based on contact maps"
   ]
  },
  {
   "cell_type": "code",
   "execution_count": null,
   "id": "specified-rabbit",
   "metadata": {},
   "outputs": [],
   "source": []
  },
  {
   "cell_type": "code",
   "execution_count": null,
   "id": "virtual-cookie",
   "metadata": {},
   "outputs": [],
   "source": []
  },
  {
   "cell_type": "markdown",
   "id": "incident-prospect",
   "metadata": {},
   "source": [
    "# StructLoader"
   ]
  },
  {
   "cell_type": "code",
   "execution_count": 319,
   "id": "improved-turning",
   "metadata": {},
   "outputs": [],
   "source": [
    "# 8  load structs (structs dataloader) and table\n",
    "# btw how do i get the affinities?"
   ]
  },
  {
   "cell_type": "code",
   "execution_count": 320,
   "id": "medical-invention",
   "metadata": {},
   "outputs": [],
   "source": [
    "# 9  plot structs"
   ]
  },
  {
   "cell_type": "code",
   "execution_count": 321,
   "id": "electronic-portland",
   "metadata": {},
   "outputs": [],
   "source": [
    "# 10 plot deltas (make interaction map based on genes)"
   ]
  },
  {
   "cell_type": "code",
   "execution_count": 322,
   "id": "interior-fireplace",
   "metadata": {},
   "outputs": [],
   "source": [
    "# 11 input features"
   ]
  },
  {
   "cell_type": "code",
   "execution_count": null,
   "id": "three-reviewer",
   "metadata": {},
   "outputs": [],
   "source": []
  },
  {
   "cell_type": "code",
   "execution_count": null,
   "id": "artificial-lender",
   "metadata": {},
   "outputs": [],
   "source": []
  },
  {
   "cell_type": "code",
   "execution_count": null,
   "id": "large-devon",
   "metadata": {},
   "outputs": [],
   "source": []
  },
  {
   "cell_type": "markdown",
   "id": "latter-container",
   "metadata": {},
   "source": [
    "# GPROTEINS"
   ]
  },
  {
   "cell_type": "code",
   "execution_count": 161,
   "id": "third-proposal",
   "metadata": {},
   "outputs": [],
   "source": [
    "path = 'data/gproteins'"
   ]
  },
  {
   "cell_type": "code",
   "execution_count": null,
   "id": "magnetic-humanity",
   "metadata": {},
   "outputs": [],
   "source": [
    "gproteins_table = 'data/gproteins.'"
   ]
  },
  {
   "cell_type": "code",
   "execution_count": null,
   "id": "cutting-basketball",
   "metadata": {},
   "outputs": [],
   "source": [
    "request = ''"
   ]
  },
  {
   "cell_type": "code",
   "execution_count": null,
   "id": "underlying-crazy",
   "metadata": {},
   "outputs": [],
   "source": []
  },
  {
   "cell_type": "markdown",
   "id": "adaptive-branch",
   "metadata": {},
   "source": [
    "# AFFINITIES"
   ]
  },
  {
   "cell_type": "code",
   "execution_count": null,
   "id": "collective-intention",
   "metadata": {},
   "outputs": [],
   "source": [
    "affinities_table = 'data/affinities.'"
   ]
  },
  {
   "cell_type": "code",
   "execution_count": null,
   "id": "addressed-particle",
   "metadata": {},
   "outputs": [],
   "source": []
  },
  {
   "cell_type": "code",
   "execution_count": null,
   "id": "widespread-afternoon",
   "metadata": {},
   "outputs": [],
   "source": []
  },
  {
   "cell_type": "code",
   "execution_count": null,
   "id": "paperback-beads",
   "metadata": {},
   "outputs": [],
   "source": []
  }
 ],
 "metadata": {
  "kernelspec": {
   "display_name": "Python 3",
   "language": "python",
   "name": "python3"
  },
  "language_info": {
   "codemirror_mode": {
    "name": "ipython",
    "version": 3
   },
   "file_extension": ".py",
   "mimetype": "text/x-python",
   "name": "python",
   "nbconvert_exporter": "python",
   "pygments_lexer": "ipython3",
   "version": "3.8.5"
  }
 },
 "nbformat": 4,
 "nbformat_minor": 5
}
