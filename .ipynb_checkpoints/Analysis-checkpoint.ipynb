{
 "cells": [
  {
   "cell_type": "markdown",
   "id": "vanilla-backing",
   "metadata": {},
   "source": [
    "# Adding Helical Features"
   ]
  },
  {
   "cell_type": "code",
   "execution_count": 1,
   "id": "discrete-tobago",
   "metadata": {},
   "outputs": [],
   "source": [
    "import MDAnalysis"
   ]
  },
  {
   "cell_type": "code",
   "execution_count": 10,
   "id": "virgin-effort",
   "metadata": {},
   "outputs": [],
   "source": [
    "import MDAnalysis.analysis"
   ]
  },
  {
   "cell_type": "code",
   "execution_count": 11,
   "id": "suitable-copper",
   "metadata": {},
   "outputs": [
    {
     "name": "stderr",
     "output_type": "stream",
     "text": [
      "C:\\Users\\Sideadmin\\.conda\\envs\\mt\\lib\\site-packages\\MDAnalysis\\analysis\\helanal.py:141: DeprecationWarning: This module is deprecated as of MDAnalysis version 1.0. It will be removed in MDAnalysis version 2.0.Please use (available in 2.0.0) MDAnalysis.analysis.helix_analysis instead.\n",
      "  warnings.warn(\"This module is deprecated as of MDAnalysis version 1.0. \"\n"
     ]
    }
   ],
   "source": [
    "import MDAnalysis.analysis.helanal"
   ]
  },
  {
   "cell_type": "code",
   "execution_count": 14,
   "id": "african-samoa",
   "metadata": {},
   "outputs": [],
   "source": [
    "import MDAnalysis.analysis.helanal as hel"
   ]
  },
  {
   "cell_type": "code",
   "execution_count": 22,
   "id": "portable-substitute",
   "metadata": {},
   "outputs": [],
   "source": [
    "path = 'data/pdb/'"
   ]
  },
  {
   "cell_type": "code",
   "execution_count": 23,
   "id": "nervous-chancellor",
   "metadata": {},
   "outputs": [
    {
     "name": "stderr",
     "output_type": "stream",
     "text": [
      "<ipython-input-23-78efe2057999>:1: DeprecationWarning: `helanal_main` is deprecated!\n",
      "`helanal_main` will be removed in release 2.0.\n",
      "In 2.0 use the upcoming helix_analysis module\n",
      "  hel.helanal_main(path+\"2R4S.pdb\", select=\"name CA and resnum 161-187\")\n",
      "MDAnalysis.analysis.helanal: INFO     Analysing 58/647 residues\n",
      "MDAnalysis.analysis.helanal: INFO     Height: -1.42445  SD: 2.27757  ABDEV: 1.95182  (Angstroem)\n",
      "MDAnalysis.analysis.helanal: INFO     Twist: 134.771  SD: 33.0822  ABDEV: 28.075\n",
      "MDAnalysis.analysis.helanal: INFO     Residues/turn: 2.90501  SD: 1.07856  ABDEV: 0.731776\n",
      "MDAnalysis.analysis.helanal: INFO     Local bending angles:     36.4\t    103.0\t     64.1\t     54.8\t     26.4\t     48.9\t     43.5\t     97.7\t     97.4\t    158.2\t     76.4\t     48.8\t     69.0\t    112.5\t      3.1\t     22.5\t     71.4\t     42.2\t     15.0\t    135.7\t     70.4\t     51.7\t    115.4\t     92.9\t    121.2\t     96.6\t    164.8\t     98.7\t     63.0\t    116.3\t    119.3\t    152.7\t     12.8\t      6.6\t     41.9\t     25.4\t    152.2\t     96.2\t     92.1\t    155.5\t     74.4\t    164.8\t     76.3\t      6.8\t     56.6\t    167.2\t     23.7\t     36.3\t    164.2\t     40.1\t     42.6\t     82.8\t\n",
      "MDAnalysis.analysis.helanal: INFO     Unit twist angles:    103.1\t     42.1\t    176.4\t    145.4\t    161.5\t    130.1\t    118.5\t     83.2\t    130.4\t    134.7\t     77.7\t     88.6\t    159.5\t    129.4\t    112.9\t    174.8\t    162.9\t    155.4\t    177.0\t    177.4\t    158.9\t    153.6\t    155.7\t    105.8\t    120.8\t     95.3\t     99.7\t     95.6\t    163.9\t    174.2\t    105.5\t    136.1\t    172.0\t    171.0\t    144.8\t    106.3\t    116.9\t    161.7\t    131.4\t    174.2\t     69.0\t     97.7\t    108.0\t    127.1\t    177.0\t    154.9\t    157.8\t    147.9\t    165.6\t    161.1\t    157.2\t    157.0\t     86.2\t    145.6\t    116.3\t\n",
      "MDAnalysis.analysis.helanal: INFO     Best fit tilt: 1.15589\n",
      "MDAnalysis.analysis.helanal: INFO     Rotation Angles from 1 to n-1 (local screw angles): 93.2 -47.1 83.5 -100.0 97.0 -88.9 67.4 -110.5 -73.6 107.6 80.5 23.2 89.8 -79.7 -70.3 -126.4 52.6 -122.9 69.7 -110.3 68.1 -112.1 80.2 -107.3 170.8 45.7 148.6 -122.4 -22.6 165.5 -9.1 -89.4 90.6 -90.2 88.8 -106.3 -78.7 89.2 -86.2 97.5 -80.1 173.0 -116.1 98.8 -60.1 122.8 -72.1 113.4 55.2 -123.4 68.1 -95.7 75.2 -15.5 -175.5 -2.4\n"
     ]
    },
    {
     "data": {
      "text/plain": [
       "{'Height': array([-1.4244547,  2.2775743,  1.9518204], dtype=float32),\n",
       " 'Twist': array([134.77084 ,  33.082184,  28.074993], dtype=float32),\n",
       " 'Residues/turn': array([2.9050125 , 1.07856323, 0.73177576]),\n",
       " 'Local bending angles': array([ 36.40739  , 102.964806 ,  64.08051  ,  54.813034 ,  26.419083 ,\n",
       "         48.895893 ,  43.46824  ,  97.673134 ,  97.44454  , 158.23326  ,\n",
       "         76.35705  ,  48.829453 ,  68.980835 , 112.45406  ,   3.0638824,\n",
       "         22.544333 ,  71.43332  ,  42.22477  ,  14.9756775, 135.66368  ,\n",
       "         70.37681  ,  51.66235  , 115.42976  ,  92.91324  , 121.16953  ,\n",
       "         96.5613   , 164.83185  ,  98.721344 ,  62.972115 , 116.262314 ,\n",
       "        119.31701  , 152.65489  ,  12.8427105,   6.6213126,  41.87391  ,\n",
       "         25.394875 , 152.21997  ,  96.22209  ,  92.13695  , 155.45003  ,\n",
       "         74.39193  , 164.84276  ,  76.280945 ,   6.7708006,  56.6172   ,\n",
       "        167.1705   ,  23.677483 ,  36.3038   , 164.24893  ,  40.145294 ,\n",
       "         42.571823 ,  82.82425  ], dtype=float32),\n",
       " 'Unit twist angles': array([103.05418 ,  42.138634, 176.41476 , 145.4021  , 161.50415 ,\n",
       "        130.13802 , 118.466934,  83.17898 , 130.44733 , 134.6829  ,\n",
       "         77.65954 ,  88.55558 , 159.47638 , 129.38454 , 112.8999  ,\n",
       "        174.78522 , 162.85143 , 155.42964 , 177.0446  , 177.37848 ,\n",
       "        158.88681 , 153.5506  , 155.73439 , 105.75292 , 120.77132 ,\n",
       "         95.28333 ,  99.661896,  95.60158 , 163.85724 , 174.17892 ,\n",
       "        105.516815, 136.07733 , 171.9669  , 171.03622 , 144.79309 ,\n",
       "        106.271355, 116.91196 , 161.74222 , 131.40688 , 174.17569 ,\n",
       "         68.95699 ,  97.7097  , 107.969   , 127.08446 , 176.99782 ,\n",
       "        154.90396 , 157.8481  , 147.87755 , 165.56181 , 161.08086 ,\n",
       "        157.23384 , 156.99123 ,  86.20979 , 145.63504 , 116.26465 ],\n",
       "       dtype=float32),\n",
       " 'Best fit tilt': 1.15588518731575,\n",
       " 'Rotation Angles': array([  93.16955616,  -47.06135942,   83.5088337 , -100.04382518,\n",
       "          96.95838234,  -88.8751915 ,   67.42305067, -110.54163916,\n",
       "         -73.58507746,  107.63276057,   80.49445759,   23.21232186,\n",
       "          89.81137092,  -79.66039728,  -70.31411564, -126.37862642,\n",
       "          52.58728241, -122.85490904,   69.65744613, -110.32019466,\n",
       "          68.07800125, -112.07739133,   80.23088271, -107.31448506,\n",
       "         170.82133542,   45.69740138,  148.63143398, -122.43459835,\n",
       "         -22.62951763,  165.50797335,   -9.10961235,  -89.39497818,\n",
       "          90.55575192,  -90.22090597,   88.76900666, -106.30340622,\n",
       "         -78.68559105,   89.23217948,  -86.17627504,   97.52268025,\n",
       "         -80.07950143,  172.96447709, -116.10972795,   98.80149979,\n",
       "         -60.14674141,  122.84695881,  -72.11864822,  113.36668666,\n",
       "          55.15165035, -123.41392646,   68.08823627,  -95.70308739,\n",
       "          75.20260384,  -15.45632804, -175.51352392,   -2.39263122])}"
      ]
     },
     "execution_count": 23,
     "metadata": {},
     "output_type": "execute_result"
    }
   ],
   "source": [
    "hel.helanal_main(path+\"2R4S.pdb\", select=\"name CA and resnum 161-187\")"
   ]
  },
  {
   "cell_type": "markdown",
   "id": "better-measurement",
   "metadata": {},
   "source": [
    "# Adding other features (residue wise)"
   ]
  },
  {
   "cell_type": "code",
   "execution_count": 28,
   "id": "adjusted-advocate",
   "metadata": {},
   "outputs": [],
   "source": [
    "tsv_path = 'data/gauss.tsv'"
   ]
  },
  {
   "cell_type": "code",
   "execution_count": 25,
   "id": "inside-fantasy",
   "metadata": {},
   "outputs": [],
   "source": [
    "def read_tsv(path):\n",
    "    tsv_file = open(path)\n",
    "    read_tsv = csv.reader(tsv_file, delimiter=\"\\t\")\n",
    "\n",
    "    for row in read_tsv:\n",
    "        print(row)"
   ]
  },
  {
   "cell_type": "code",
   "execution_count": 27,
   "id": "anonymous-intermediate",
   "metadata": {},
   "outputs": [
    {
     "name": "stdout",
     "output_type": "stream",
     "text": [
      "['name', 'lambda', 'mu1', 'mu2', 'sigma1', 'sigma2', 'sigma3', 'sigma4']\n",
      "['alpha', '0.3647574894801666', '297.61576315933524', '-40.58567040455446', '21.60327526214181', '-8.526550657622467', '-8.526550657622467', '43.102062848602984']\n",
      "['beta', '0.24401588205844646', '233.28573477229165', '137.35381309008005', '379.2693676120664', '-242.4631534829163', '-242.4631534829163', '472.90244261585514']\n",
      "['delta', '0.20257930337817134', '274.2675708989392', '-14.768732963735703', '394.2772687945463', '-189.41815948538473', '-189.41815948538473', '464.2947059927305']\n",
      "['delta~\"\\'\"', '0.051545648935406585', '75.58293609636182', '15.905626191703469', '309.5576733062913', '-307.8326184481008', '-307.8326184481008', '552.1217107954874']\n",
      "['P[II]', '0.11137751721755791', '278.84201860815205', '138.15497776074636', '330.9390752766129', '20.116695134288957', '20.116695134288957', '212.34719109396855']\n",
      "['P[II]~\"\\'\"', '0.025724158930251078', '153.65336784343813', '190.43636665745018', '5737.390402395822', '-871.3772009029135', '-871.3772009029135', '1257.3662909490629']\n"
     ]
    }
   ],
   "source": [
    "import csv\n",
    "\n",
    "read_tsv(tsv_path)"
   ]
  },
  {
   "cell_type": "code",
   "execution_count": null,
   "id": "harmful-dispute",
   "metadata": {},
   "outputs": [],
   "source": []
  }
 ],
 "metadata": {
  "kernelspec": {
   "display_name": "Python 3",
   "language": "python",
   "name": "python3"
  },
  "language_info": {
   "codemirror_mode": {
    "name": "ipython",
    "version": 3
   },
   "file_extension": ".py",
   "mimetype": "text/x-python",
   "name": "python",
   "nbconvert_exporter": "python",
   "pygments_lexer": "ipython3",
   "version": "3.8.5"
  }
 },
 "nbformat": 4,
 "nbformat_minor": 5
}
