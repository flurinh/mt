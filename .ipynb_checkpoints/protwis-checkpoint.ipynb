{
 "cells": [
  {
   "cell_type": "code",
   "execution_count": 132,
   "id": "incredible-editor",
   "metadata": {},
   "outputs": [],
   "source": [
    "from protwis import *\n",
    "import os"
   ]
  },
  {
   "cell_type": "code",
   "execution_count": 133,
   "id": "portable-cameroon",
   "metadata": {},
   "outputs": [],
   "source": [
    "def correct_imports():\n",
    "    filenames =  [os.path.join(path, name) for path, subdirs, files in os.walk('protwis') for name in files if '.py' in name]\n",
    "    directories = [dirs for path, subdirs, files in os.walk('protwis') for dirs in subdirs]\n",
    "    directories = list(set(directories))\n",
    "    directories.remove('tags')\n",
    "    directories.remove('protwis')\n",
    "    for f in filenames:\n",
    "        with open(f, 'r') as file:\n",
    "            # read a list of lines into data\n",
    "            try:\n",
    "                data = file.readlines()\n",
    "            except:\n",
    "                continue\n",
    "        new_data = []\n",
    "        for line in data:\n",
    "            flag = False\n",
    "            if (('from' in line) or ('as' in line)) and ('import ' in line) and ('django' not in line) and ('protwis' not in line):\n",
    "                for d in directories:\n",
    "                    if d in line:\n",
    "                        pos = line.find(d)\n",
    "                        flag = True\n",
    "                        new_line = line[:pos] + 'protwis.' + line[pos:]\n",
    "            if flag == False:\n",
    "                new_data.append(line)\n",
    "            else:\n",
    "                new_data.append(new_line)\n",
    "                flag = False\n",
    "        with open(f, 'w') as file:\n",
    "            file.writelines(new_data)"
   ]
  },
  {
   "cell_type": "code",
   "execution_count": 134,
   "id": "macro-netherlands",
   "metadata": {},
   "outputs": [],
   "source": [
    "correct_imports()"
   ]
  },
  {
   "cell_type": "code",
   "execution_count": 135,
   "id": "illegal-hypothesis",
   "metadata": {},
   "outputs": [
    {
     "ename": "SyntaxError",
     "evalue": "invalid syntax (models.py, line 2)",
     "output_type": "error",
     "traceback": [
      "Traceback \u001b[1;36m(most recent call last)\u001b[0m:\n",
      "  File \u001b[0;32m\"C:\\Users\\Sideadmin\\.conda\\envs\\mt\\lib\\site-packages\\IPython\\core\\interactiveshell.py\"\u001b[0m, line \u001b[0;32m3427\u001b[0m, in \u001b[0;35mrun_code\u001b[0m\n    exec(code_obj, self.user_global_ns, self.user_ns)\n",
      "  File \u001b[0;32m\"<ipython-input-135-b8bc5fa944db>\"\u001b[0m, line \u001b[0;32m1\u001b[0m, in \u001b[0;35m<module>\u001b[0m\n    from protwis.structure.assign_generic_numbers_gpcr import GenericNumbering\n",
      "  File \u001b[0;32m\"C:\\Users\\Sideadmin\\PycharmProjects\\mt\\protwis\\structure\\assign_generic_numbers_gpcr.py\"\u001b[0m, line \u001b[0;32m8\u001b[0m, in \u001b[0;35m<module>\u001b[0m\n    from protwis.protein.models import Protein, ProteinSegment\n",
      "  File \u001b[0;32m\"C:\\Users\\Sideadmin\\PycharmProjects\\mt\\protwis\\protein\\models.py\"\u001b[0m, line \u001b[0;32m1\u001b[0m, in \u001b[0;35m<module>\u001b[0m\n    from protwis.common.diagrams_arrestin import DrawArrestinPlot\n",
      "\u001b[1;36m  File \u001b[1;32m\"C:\\Users\\Sideadmin\\PycharmProjects\\mt\\protwis\\common\\diagrams_arrestin.py\"\u001b[1;36m, line \u001b[1;32m4\u001b[1;36m, in \u001b[1;35m<module>\u001b[1;36m\u001b[0m\n\u001b[1;33m    from protwis.residue.models import Residue\u001b[0m\n",
      "\u001b[1;36m  File \u001b[1;32m\"C:\\Users\\Sideadmin\\PycharmProjects\\mt\\protwis\\residue\\models.py\"\u001b[1;36m, line \u001b[1;32m2\u001b[0m\n\u001b[1;33m    impoprotwis.rt common.definitions as definitions\u001b[0m\n\u001b[1;37m                   ^\u001b[0m\n\u001b[1;31mSyntaxError\u001b[0m\u001b[1;31m:\u001b[0m invalid syntax\n"
     ]
    }
   ],
   "source": [
    "from protwis.structure.assign_generic_numbers_gpcr import GenericNumbering"
   ]
  },
  {
   "cell_type": "code",
   "execution_count": null,
   "id": "conventional-gothic",
   "metadata": {},
   "outputs": [],
   "source": []
  }
 ],
 "metadata": {
  "kernelspec": {
   "display_name": "Python 3",
   "language": "python",
   "name": "python3"
  },
  "language_info": {
   "codemirror_mode": {
    "name": "ipython",
    "version": 3
   },
   "file_extension": ".py",
   "mimetype": "text/x-python",
   "name": "python",
   "nbconvert_exporter": "python",
   "pygments_lexer": "ipython3",
   "version": "3.8.5"
  }
 },
 "nbformat": 4,
 "nbformat_minor": 5
}
