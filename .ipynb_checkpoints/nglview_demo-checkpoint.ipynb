{
 "cells": [
  {
   "cell_type": "markdown",
   "id": "altered-nightmare",
   "metadata": {},
   "source": [
    "# NGL View Demo\n",
    "\n",
    "This shows techniques for using nglview with BioPython"
   ]
  },
  {
   "cell_type": "code",
   "execution_count": 1,
   "id": "heavy-insert",
   "metadata": {},
   "outputs": [
    {
     "data": {
      "application/vnd.jupyter.widget-view+json": {
       "model_id": "3081f45319354acf9ead0c3e3b4847a3",
       "version_major": 2,
       "version_minor": 0
      },
      "text/plain": []
     },
     "metadata": {},
     "output_type": "display_data"
    }
   ],
   "source": [
    "import nglview\n",
    "from Bio.PDB.mmtf import MMTFParser, MMTFIO\n",
    "from Bio.PDB.MMCIFParser import MMCIFParser\n",
    "from Bio.PDB.mmcifio import MMCIFIO\n",
    "from Bio.PDB.PDBParser import PDBParser\n",
    "from Bio.PDB.PDBIO import PDBIO\n",
    "from Bio.PDB import Dice\n",
    "from io import BytesIO, StringIO"
   ]
  },
  {
   "cell_type": "code",
   "execution_count": 2,
   "id": "spare-resort",
   "metadata": {},
   "outputs": [],
   "source": [
    "import logging\n",
    "logging.basicConfig(format='%(levelname)s: %(message)s', level=logging.DEBUG)"
   ]
  },
  {
   "cell_type": "code",
   "execution_count": 3,
   "id": "current-christopher",
   "metadata": {},
   "outputs": [
    {
     "data": {
      "application/vnd.jupyter.widget-view+json": {
       "model_id": "b26bd8537db04fc390c8684de05c00f9",
       "version_major": 2,
       "version_minor": 0
      },
      "text/plain": [
       "NGLWidget()"
      ]
     },
     "metadata": {},
     "output_type": "display_data"
    }
   ],
   "source": [
    "# Show a structure directly\n",
    "nglview.show_pdbid(\"3pqr\")"
   ]
  },
  {
   "cell_type": "code",
   "execution_count": 4,
   "id": "scheduled-tension",
   "metadata": {},
   "outputs": [
    {
     "name": "stderr",
     "output_type": "stream",
     "text": [
      "C:\\Users\\Sideadmin\\.conda\\envs\\mt\\lib\\site-packages\\Bio\\PDB\\StructureBuilder.py:89: PDBConstructionWarning: WARNING: Chain R is discontinuous at line 0.\n",
      "  warnings.warn(\n",
      "C:\\Users\\Sideadmin\\.conda\\envs\\mt\\lib\\site-packages\\Bio\\PDB\\StructureBuilder.py:89: PDBConstructionWarning: WARNING: Chain A is discontinuous at line 0.\n",
      "  warnings.warn(\n"
     ]
    },
    {
     "data": {
      "text/plain": [
       "['<Chain id=A>',\n",
       " '<Chain id=B>',\n",
       " '<Chain id=G>',\n",
       " '<Chain id=N>',\n",
       " '<Chain id=R>']"
      ]
     },
     "execution_count": 4,
     "metadata": {},
     "output_type": "execute_result"
    }
   ],
   "source": [
    "# Load structure in Biopython\n",
    "structure = MMTFParser.get_structure_from_url(\"7DHI\")\n",
    "[str(c) for c in structure.get_chains()]"
   ]
  },
  {
   "cell_type": "code",
   "execution_count": 5,
   "id": "material-prime",
   "metadata": {},
   "outputs": [
    {
     "data": {
      "application/vnd.jupyter.widget-view+json": {
       "model_id": "d003d89232694ee78ad059423ebd73ba",
       "version_major": 2,
       "version_minor": 0
      },
      "text/plain": [
       "NGLWidget()"
      ]
     },
     "metadata": {},
     "output_type": "display_data"
    }
   ],
   "source": [
    "nglview.show_biopython(structure)"
   ]
  },
  {
   "cell_type": "code",
   "execution_count": 6,
   "id": "hairy-reduction",
   "metadata": {},
   "outputs": [
    {
     "data": {
      "application/vnd.jupyter.widget-view+json": {
       "model_id": "a10de2d2331e4452882fce9ab42c8bde",
       "version_major": 2,
       "version_minor": 0
      },
      "text/plain": [
       "NGLWidget()"
      ]
     },
     "metadata": {},
     "output_type": "display_data"
    }
   ],
   "source": [
    "def extract_structure_pdb(structure, chain, start, end):\n",
    "    \"\"\"Reduce to a substructure using temp PDB file\"\"\"\n",
    "    pdb = StringIO()\n",
    "    Dice.extract(structure, chain, start, end, pdb)\n",
    "    pdb.seek(0)\n",
    "    parser = PDBParser()\n",
    "    return parser.get_structure(structure.id, pdb)\n",
    "substructure = extract_structure_pdb(structure, 'R', 303, 341)\n",
    "nglview.show_biopython(substructure)"
   ]
  },
  {
   "cell_type": "code",
   "execution_count": 7,
   "id": "nuclear-stream",
   "metadata": {},
   "outputs": [
    {
     "data": {
      "application/vnd.jupyter.widget-view+json": {
       "model_id": "6f1b76f69fca4df8928f9faad8b88860",
       "version_major": 2,
       "version_minor": 0
      },
      "text/plain": [
       "NGLWidget()"
      ]
     },
     "metadata": {},
     "output_type": "display_data"
    }
   ],
   "source": [
    "def extract_structure_mmcif(structure, chain, start, end):\n",
    "    \"\"\"Alternate way to extract substructures\n",
    "    \n",
    "    Uses MMCIFIO, so it avoids problems with the PDB format.\n",
    "    \"\"\"\n",
    "    # This could be easily adapted to use a custom selector class if needed\n",
    "    sel = Dice.ChainSelector(chain, start, end)\n",
    "    io = MMCIFIO()\n",
    "    io.set_structure(structure)\n",
    "    mmcif = StringIO()\n",
    "    io.save(mmcif, select=sel)\n",
    "    mmcif.seek(0)\n",
    "    parser = MMCIFParser()\n",
    "    return parser.get_structure(structure.id, mmcif)\n",
    "substructure = extract_structure_mmcif(structure, 'R', 303, 341)\n",
    "nglview.show_biopython(substructure)"
   ]
  },
  {
   "cell_type": "markdown",
   "id": "engaged-dietary",
   "metadata": {},
   "source": [
    "## Showing multiple structures\n",
    "\n",
    "Aligned structures can be represented by different models of the same structure. This is kind of an abuse (models are intended for NMR structures where all models have the same atoms), but it works with most tools.\n",
    "\n",
    "Unfortunately, nglview seems to only show the first model so this isn't useful for visualization.  "
   ]
  },
  {
   "cell_type": "code",
   "execution_count": 8,
   "id": "impaired-ukraine",
   "metadata": {},
   "outputs": [
    {
     "name": "stderr",
     "output_type": "stream",
     "text": [
      "/usr/local/miniconda/envs/science/lib/python3.9/site-packages/Bio/PDB/StructureBuilder.py:89: PDBConstructionWarning: WARNING: Chain A is discontinuous at line 0.\n",
      "  warnings.warn(\n"
     ]
    },
    {
     "data": {
      "text/plain": [
       "['<Chain id=A>']"
      ]
     },
     "execution_count": 8,
     "metadata": {},
     "output_type": "execute_result"
    }
   ],
   "source": [
    "structure2 = MMTFParser.get_structure_from_url(\"6PS1\")\n",
    "[str(c) for c in structure2.get_chains()]"
   ]
  },
  {
   "cell_type": "code",
   "execution_count": 9,
   "id": "authentic-chemical",
   "metadata": {},
   "outputs": [],
   "source": [
    "def merge_structures(a,b):\n",
    "    \"Destructively merges models of two structures\"\n",
    "    for model in b.get_models():\n",
    "        model.id = len(a)\n",
    "        a.add(model)\n",
    "    for i, model in enumerate(a.get_models()):\n",
    "        model.serial_num = i+1\n",
    "    return a"
   ]
  },
  {
   "cell_type": "code",
   "execution_count": 10,
   "id": "married-impression",
   "metadata": {},
   "outputs": [
    {
     "data": {
      "text/plain": [
       "2"
      ]
     },
     "execution_count": 10,
     "metadata": {},
     "output_type": "execute_result"
    }
   ],
   "source": [
    "substructure = extract_structure_mmcif(structure, 'R', 303, 341)\n",
    "substructure2 = extract_structure_mmcif(structure2, 'A', 303, 341)\n",
    "# For practiacal use, align substructures first\n",
    "merged = merge_structures(substructure2, substructure)\n",
    "len(merged)"
   ]
  },
  {
   "cell_type": "code",
   "execution_count": 11,
   "id": "backed-vatican",
   "metadata": {},
   "outputs": [
    {
     "data": {
      "application/vnd.jupyter.widget-view+json": {
       "model_id": "42c7a999d61544d09fe8aa2f37acb230",
       "version_major": 2,
       "version_minor": 0
      },
      "text/plain": [
       "NGLWidget()"
      ]
     },
     "metadata": {},
     "output_type": "display_data"
    }
   ],
   "source": [
    "view = nglview.show_biopython(merged)\n",
    "view"
   ]
  },
  {
   "cell_type": "code",
   "execution_count": 12,
   "id": "instructional-eight",
   "metadata": {
    "scrolled": true
   },
   "outputs": [
    {
     "name": "stdout",
     "output_type": "stream",
     "text": [
      "MODEL      1\n",
      "ENDMDL\n",
      "MODEL      2\n",
      "ENDMDL\n",
      "\n"
     ]
    }
   ],
   "source": [
    "# Check that the merged model really had 2 \n",
    "io_pdb = PDBIO()\n",
    "io_pdb.set_structure(merged)\n",
    "io_str = StringIO()\n",
    "io_pdb.save(io_str)\n",
    "io_str.seek(0)\n",
    "print(\"\".join(l for l in io_str.readlines() if \"MODEL\" in l or \"ENDMDL\" in l))"
   ]
  },
  {
   "cell_type": "code",
   "execution_count": 13,
   "id": "alternative-sociology",
   "metadata": {},
   "outputs": [],
   "source": [
    "# If this looks weird in python, try 'set retain_order, 0'\n",
    "#io_pdb.save(\"merged.pdb\")"
   ]
  }
 ],
 "metadata": {
  "kernelspec": {
   "display_name": "Python 3",
   "language": "python",
   "name": "python3"
  },
  "language_info": {
   "codemirror_mode": {
    "name": "ipython",
    "version": 3
   },
   "file_extension": ".py",
   "mimetype": "text/x-python",
   "name": "python",
   "nbconvert_exporter": "python",
   "pygments_lexer": "ipython3",
   "version": "3.8.5"
  }
 },
 "nbformat": 4,
 "nbformat_minor": 5
}
