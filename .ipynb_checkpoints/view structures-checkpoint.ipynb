{
 "cells": [
  {
   "cell_type": "code",
   "execution_count": 42,
   "id": "dying-footwear",
   "metadata": {},
   "outputs": [
    {
     "data": {
      "application/vnd.jupyter.widget-view+json": {
       "model_id": "ec20c90ee0884b7ca38b1c6e2b7ac80f",
       "version_major": 2,
       "version_minor": 0
      },
      "text/plain": [
       "NGLWidget()"
      ]
     },
     "metadata": {},
     "output_type": "display_data"
    }
   ],
   "source": [
    "import nglview as nv\n",
    "view = nv.show_pdbid(\"3pqr\")  # load \"3pqr\" from RCSB PDB and display viewer widget\n",
    "view"
   ]
  },
  {
   "cell_type": "code",
   "execution_count": 2,
   "id": "floral-conjunction",
   "metadata": {},
   "outputs": [
    {
     "name": "stdout",
     "output_type": "stream",
     "text": [
      "/home/flurin\n"
     ]
    }
   ],
   "source": [
    "cd ~"
   ]
  },
  {
   "cell_type": "code",
   "execution_count": 3,
   "id": "cloudy-animal",
   "metadata": {},
   "outputs": [
    {
     "name": "stdout",
     "output_type": "stream",
     "text": [
      "/home/flurin/master/data/structures/pdb_structures\n"
     ]
    }
   ],
   "source": [
    "cd master/data/structures/pdb_structures"
   ]
  },
  {
   "cell_type": "code",
   "execution_count": 4,
   "id": "collective-detail",
   "metadata": {},
   "outputs": [
    {
     "name": "stdout",
     "output_type": "stream",
     "text": [
      "aa2ar_human_5G53.pdb  adrb2_human_6NI3.pdb  gpbar_human_7CFM.pdb\r\n",
      "aa2ar_human_6GDG.pdb  adrb2_human_7BZ2.pdb  gpbar_human_7CFN.pdb\r\n",
      "adrb1_melga_7JJO.pdb  adrb2_human_7DHI.pdb  gpr52_human_6LI3.pdb\r\n",
      "adrb2_human_3SN6.pdb  adrb2_human_7DHR.pdb  pe2r4_human_7D7M.pdb\r\n",
      "adrb2_human_6E67.pdb  gpbar_human_7BW0.pdb\r\n"
     ]
    }
   ],
   "source": [
    "ls"
   ]
  },
  {
   "cell_type": "code",
   "execution_count": 32,
   "id": "instant-biotechnology",
   "metadata": {},
   "outputs": [
    {
     "name": "stdout",
     "output_type": "stream",
     "text": [
      "['adrb2_human_7DHR.pdb', 'adrb1_melga_7JJO.pdb', 'pe2r4_human_7D7M.pdb', 'adrb2_human_6E67.pdb', 'adrb2_human_7BZ2.pdb', 'adrb2_human_3SN6.pdb', 'aa2ar_human_5G53.pdb', 'adrb2_human_7DHI.pdb', 'gpbar_human_7CFM.pdb', 'gpr52_human_6LI3.pdb', 'gpbar_human_7CFN.pdb', 'aa2ar_human_6GDG.pdb', 'gpbar_human_7BW0.pdb', 'adrb2_human_6NI3.pdb']\n"
     ]
    }
   ],
   "source": [
    "import os\n",
    "from os import walk\n",
    "\n",
    "(_, _, filenames) = next(os.walk(os.getcwd()))\n",
    "print(filenames)"
   ]
  },
  {
   "cell_type": "code",
   "execution_count": 45,
   "id": "rocky-abraham",
   "metadata": {},
   "outputs": [],
   "source": [
    "eg = filenames[2]"
   ]
  },
  {
   "cell_type": "code",
   "execution_count": 46,
   "id": "suffering-nerve",
   "metadata": {},
   "outputs": [],
   "source": [
    "view.add_representation('cartoon', selection='protein')\n",
    "\n",
    "# or shorter\n",
    "view.add_cartoon(selection=\"protein\")\n",
    "view.add_surface(selection=\"protein\", opacity=0.3)\n",
    "\n",
    "# specify color\n",
    "view.add_cartoon(selection=\"protein\", color='blue')\n",
    "\n",
    "# specify residue\n",
    "view.add_licorice('ALA, GLU')\n",
    "\n",
    "# clear representations\n",
    "view.clear_representations()"
   ]
  },
  {
   "cell_type": "code",
   "execution_count": 6,
   "id": "charming-wesley",
   "metadata": {},
   "outputs": [
    {
     "name": "stdout",
     "output_type": "stream",
     "text": [
      "NGLWidget()\n"
     ]
    }
   ],
   "source": [
    "import nglview as nv\n",
    "view = nv.show_file(\"adrb1_melga_7JJO.pdb\")\n",
    "print(view)"
   ]
  },
  {
   "cell_type": "code",
   "execution_count": 40,
   "id": "permanent-local",
   "metadata": {},
   "outputs": [],
   "source": [
    "# Not using default representation\n",
    "\n",
    "view = nv.show_file(eg, default=False)\n",
    "view.center()\n",
    "view.add_rope()"
   ]
  },
  {
   "cell_type": "code",
   "execution_count": 41,
   "id": "theoretical-strain",
   "metadata": {},
   "outputs": [
    {
     "name": "stdout",
     "output_type": "stream",
     "text": [
      "Viewing adrb2_human_7DHR.pdb:\n"
     ]
    },
    {
     "data": {
      "application/vnd.jupyter.widget-view+json": {
       "model_id": "bae41c9a51f1450292b603dadb7f2eb5",
       "version_major": 2,
       "version_minor": 0
      },
      "text/plain": [
       "NGLWidget()"
      ]
     },
     "metadata": {},
     "output_type": "display_data"
    }
   ],
   "source": [
    "print(\"Viewing {}:\".format(eg))\n",
    "view"
   ]
  },
  {
   "cell_type": "code",
   "execution_count": null,
   "id": "technical-romania",
   "metadata": {},
   "outputs": [],
   "source": []
  }
 ],
 "metadata": {
  "kernelspec": {
   "display_name": "Python 3",
   "language": "python",
   "name": "python3"
  }
 },
 "nbformat": 4,
 "nbformat_minor": 5
}
