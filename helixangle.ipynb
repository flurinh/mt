{
 "cells": [
  {
   "cell_type": "code",
   "execution_count": 1,
   "id": "f70b4c3d",
   "metadata": {},
   "outputs": [],
   "source": [
    "from processing.processor import *\n",
    "from analysis.analysis import *\n",
    "import numpy as np\n",
    "from scipy.spatial.distance import cdist, pdist\n",
    "import seaborn as sns\n",
    "from matplotlib import rcParams\n",
    "import matplotlib.pyplot as plt\n",
    "from mpl_toolkits.mplot3d import Axes3D"
   ]
  },
  {
   "cell_type": "markdown",
   "id": "ef18704b",
   "metadata": {},
   "source": [
    "# Data"
   ]
  },
  {
   "cell_type": "code",
   "execution_count": 2,
   "id": "e7ab90d4",
   "metadata": {},
   "outputs": [
    {
     "name": "stderr",
     "output_type": "stream",
     "text": [
      "  3%|█▋                                                                | 14/557 [00:00<00:03, 136.30it/s]"
     ]
    },
    {
     "name": "stdout",
     "output_type": "stream",
     "text": [
      "Reading files with generic numbers on receptors and gproteins.\n"
     ]
    },
    {
     "name": "stderr",
     "output_type": "stream",
     "text": [
      "100%|█████████████████████████████████████████████████████████████████| 557/557 [00:04<00:00, 113.83it/s]\n"
     ]
    }
   ],
   "source": [
    "p = CifProcessor()\n",
    "p.read_pkl_metainfo()\n",
    "p.read_pkl(mode='rg', folder='data/processed/')"
   ]
  },
  {
   "cell_type": "code",
   "execution_count": 3,
   "id": "5f7d69b5",
   "metadata": {},
   "outputs": [],
   "source": [
    "ATOM_LIST=['CA']"
   ]
  },
  {
   "cell_type": "code",
   "execution_count": 4,
   "id": "21a75399",
   "metadata": {},
   "outputs": [],
   "source": [
    "f_act = p.make_filter(State='Active', Cl='Rhodopsin', gprotein=True)\n",
    "# f_act = f_act[f_act['Method']=='cryo-EM']"
   ]
  },
  {
   "cell_type": "code",
   "execution_count": 5,
   "id": "e7731962",
   "metadata": {},
   "outputs": [
    {
     "data": {
      "text/plain": [
       "83"
      ]
     },
     "execution_count": 5,
     "metadata": {},
     "output_type": "execute_result"
    }
   ],
   "source": [
    "len(f_act)"
   ]
  },
  {
   "cell_type": "code",
   "execution_count": 6,
   "id": "f891b803",
   "metadata": {},
   "outputs": [
    {
     "data": {
      "text/html": [
       "<div>\n",
       "<style scoped>\n",
       "    .dataframe tbody tr th:only-of-type {\n",
       "        vertical-align: middle;\n",
       "    }\n",
       "\n",
       "    .dataframe tbody tr th {\n",
       "        vertical-align: top;\n",
       "    }\n",
       "\n",
       "    .dataframe thead th {\n",
       "        text-align: right;\n",
       "    }\n",
       "</style>\n",
       "<table border=\"1\" class=\"dataframe\">\n",
       "  <thead>\n",
       "    <tr style=\"text-align: right;\">\n",
       "      <th></th>\n",
       "      <th>uniprot(gene)</th>\n",
       "      <th>receptor family</th>\n",
       "      <th>Cl.</th>\n",
       "      <th>Species</th>\n",
       "      <th>Method</th>\n",
       "      <th>PDB</th>\n",
       "      <th>Resolution</th>\n",
       "      <th>Preferred Chain</th>\n",
       "      <th>State</th>\n",
       "      <th>Degree active %</th>\n",
       "      <th>Family</th>\n",
       "      <th>Subtype</th>\n",
       "      <th>Function</th>\n",
       "    </tr>\n",
       "  </thead>\n",
       "  <tbody>\n",
       "    <tr>\n",
       "      <th>16</th>\n",
       "      <td>ACM1</td>\n",
       "      <td>Acetylcholine(muscarinic)</td>\n",
       "      <td>A(Rhodopsin)</td>\n",
       "      <td>Human</td>\n",
       "      <td>cryo-EM</td>\n",
       "      <td>6OIJ</td>\n",
       "      <td>3.3</td>\n",
       "      <td>R</td>\n",
       "      <td>Active</td>\n",
       "      <td>100</td>\n",
       "      <td>Gq/11</td>\n",
       "      <td>α11</td>\n",
       "      <td>Agonist</td>\n",
       "    </tr>\n",
       "    <tr>\n",
       "      <th>32</th>\n",
       "      <td>5HT2A</td>\n",
       "      <td>5-Hydroxytryptamine</td>\n",
       "      <td>A(Rhodopsin)</td>\n",
       "      <td>Human</td>\n",
       "      <td>cryo-EM</td>\n",
       "      <td>6WHA</td>\n",
       "      <td>3.4</td>\n",
       "      <td>A</td>\n",
       "      <td>Active</td>\n",
       "      <td>100</td>\n",
       "      <td>Gq/11</td>\n",
       "      <td>αq</td>\n",
       "      <td>Agonist</td>\n",
       "    </tr>\n",
       "    <tr>\n",
       "      <th>71</th>\n",
       "      <td>HRH1</td>\n",
       "      <td>Histamine</td>\n",
       "      <td>A(Rhodopsin)</td>\n",
       "      <td>Human</td>\n",
       "      <td>cryo-EM</td>\n",
       "      <td>7DFL</td>\n",
       "      <td>3.3</td>\n",
       "      <td>R</td>\n",
       "      <td>Active</td>\n",
       "      <td>100</td>\n",
       "      <td>Gq/11</td>\n",
       "      <td>αq</td>\n",
       "      <td>Agonist</td>\n",
       "    </tr>\n",
       "    <tr>\n",
       "      <th>76</th>\n",
       "      <td>CCKAR</td>\n",
       "      <td>Cholecystokinin</td>\n",
       "      <td>A(Rhodopsin)</td>\n",
       "      <td>Human</td>\n",
       "      <td>cryo-EM</td>\n",
       "      <td>7MBY</td>\n",
       "      <td>2.4</td>\n",
       "      <td>R</td>\n",
       "      <td>Active</td>\n",
       "      <td>100</td>\n",
       "      <td>Gq/11</td>\n",
       "      <td>αq</td>\n",
       "      <td>Agonist</td>\n",
       "    </tr>\n",
       "  </tbody>\n",
       "</table>\n",
       "</div>"
      ],
      "text/plain": [
       "   uniprot(gene)            receptor family           Cl. Species   Method  \\\n",
       "16          ACM1  Acetylcholine(muscarinic)  A(Rhodopsin)   Human  cryo-EM   \n",
       "32         5HT2A        5-Hydroxytryptamine  A(Rhodopsin)   Human  cryo-EM   \n",
       "71          HRH1                  Histamine  A(Rhodopsin)   Human  cryo-EM   \n",
       "76         CCKAR            Cholecystokinin  A(Rhodopsin)   Human  cryo-EM   \n",
       "\n",
       "     PDB  Resolution Preferred Chain   State Degree active % Family Subtype  \\\n",
       "16  6OIJ         3.3               R  Active             100  Gq/11     α11   \n",
       "32  6WHA         3.4               A  Active             100  Gq/11      αq   \n",
       "71  7DFL         3.3               R  Active             100  Gq/11      αq   \n",
       "76  7MBY         2.4               R  Active             100  Gq/11      αq   \n",
       "\n",
       "   Function  \n",
       "16  Agonist  \n",
       "32  Agonist  \n",
       "71  Agonist  \n",
       "76  Agonist  "
      ]
     },
     "execution_count": 6,
     "metadata": {},
     "output_type": "execute_result"
    }
   ],
   "source": [
    "f_act[f_act['Family'].str.contains('q')]"
   ]
  },
  {
   "cell_type": "code",
   "execution_count": 7,
   "id": "51b553bc",
   "metadata": {},
   "outputs": [],
   "source": [
    "p.apply_filter(f_act)"
   ]
  },
  {
   "cell_type": "code",
   "execution_count": 8,
   "id": "02d9ea9b",
   "metadata": {},
   "outputs": [
    {
     "data": {
      "text/plain": [
       "83"
      ]
     },
     "execution_count": 8,
     "metadata": {},
     "output_type": "execute_result"
    }
   ],
   "source": [
    "len(p.dfl_list)"
   ]
  },
  {
   "cell_type": "code",
   "execution_count": 9,
   "id": "stainless-affiliation",
   "metadata": {},
   "outputs": [
    {
     "data": {
      "text/plain": [
       "82"
      ]
     },
     "execution_count": 9,
     "metadata": {},
     "output_type": "execute_result"
    }
   ],
   "source": [
    "p.dfl_list.index('7MBY')"
   ]
  },
  {
   "cell_type": "code",
   "execution_count": 10,
   "id": "711e324a",
   "metadata": {},
   "outputs": [],
   "source": [
    "df = p.dfl[66]"
   ]
  },
  {
   "cell_type": "code",
   "execution_count": 11,
   "id": "6e9f6685",
   "metadata": {},
   "outputs": [
    {
     "data": {
      "text/html": [
       "<div>\n",
       "<style scoped>\n",
       "    .dataframe tbody tr th:only-of-type {\n",
       "        vertical-align: middle;\n",
       "    }\n",
       "\n",
       "    .dataframe tbody tr th {\n",
       "        vertical-align: top;\n",
       "    }\n",
       "\n",
       "    .dataframe thead th {\n",
       "        text-align: right;\n",
       "    }\n",
       "</style>\n",
       "<table border=\"1\" class=\"dataframe\">\n",
       "  <thead>\n",
       "    <tr style=\"text-align: right;\">\n",
       "      <th></th>\n",
       "      <th>PDB</th>\n",
       "      <th>group_PDB</th>\n",
       "      <th>auth_asym_id</th>\n",
       "      <th>label_asym_id</th>\n",
       "      <th>label_seq_id</th>\n",
       "      <th>auth_seq_id</th>\n",
       "      <th>label_comp_id</th>\n",
       "      <th>id</th>\n",
       "      <th>label_atom_id</th>\n",
       "      <th>type_symbol</th>\n",
       "      <th>...</th>\n",
       "      <th>identifier</th>\n",
       "      <th>label_comp_sid</th>\n",
       "      <th>label_2_uni</th>\n",
       "      <th>gen_pos</th>\n",
       "      <th>gen_pos1</th>\n",
       "      <th>gen_pos2</th>\n",
       "      <th>uniprot_comp_sid</th>\n",
       "      <th>gprot_pos</th>\n",
       "      <th>uniprot_comp_id</th>\n",
       "      <th>fam_comp_id</th>\n",
       "    </tr>\n",
       "  </thead>\n",
       "  <tbody>\n",
       "    <tr>\n",
       "      <th>7016</th>\n",
       "      <td>7JJO</td>\n",
       "      <td>ATOM</td>\n",
       "      <td>A</td>\n",
       "      <td>C</td>\n",
       "      <td>19</td>\n",
       "      <td>15</td>\n",
       "      <td>GLU</td>\n",
       "      <td>7017</td>\n",
       "      <td>CA</td>\n",
       "      <td>C</td>\n",
       "      <td>...</td>\n",
       "      <td>ADRB1_MELGA</td>\n",
       "      <td>E</td>\n",
       "      <td>14</td>\n",
       "      <td></td>\n",
       "      <td>0.0</td>\n",
       "      <td>0.0</td>\n",
       "      <td></td>\n",
       "      <td>G.HN.32</td>\n",
       "      <td>E</td>\n",
       "      <td>E</td>\n",
       "    </tr>\n",
       "    <tr>\n",
       "      <th>7023</th>\n",
       "      <td>7JJO</td>\n",
       "      <td>ATOM</td>\n",
       "      <td>A</td>\n",
       "      <td>C</td>\n",
       "      <td>20</td>\n",
       "      <td>16</td>\n",
       "      <td>GLU</td>\n",
       "      <td>7024</td>\n",
       "      <td>CA</td>\n",
       "      <td>C</td>\n",
       "      <td>...</td>\n",
       "      <td>ADRB1_MELGA</td>\n",
       "      <td>E</td>\n",
       "      <td>15</td>\n",
       "      <td></td>\n",
       "      <td>0.0</td>\n",
       "      <td>0.0</td>\n",
       "      <td></td>\n",
       "      <td>G.HN.33</td>\n",
       "      <td>E</td>\n",
       "      <td>E</td>\n",
       "    </tr>\n",
       "    <tr>\n",
       "      <th>7030</th>\n",
       "      <td>7JJO</td>\n",
       "      <td>ATOM</td>\n",
       "      <td>A</td>\n",
       "      <td>C</td>\n",
       "      <td>21</td>\n",
       "      <td>17</td>\n",
       "      <td>LYS</td>\n",
       "      <td>7031</td>\n",
       "      <td>CA</td>\n",
       "      <td>C</td>\n",
       "      <td>...</td>\n",
       "      <td>ADRB1_MELGA</td>\n",
       "      <td>K</td>\n",
       "      <td>16</td>\n",
       "      <td></td>\n",
       "      <td>0.0</td>\n",
       "      <td>0.0</td>\n",
       "      <td></td>\n",
       "      <td>G.HN.34</td>\n",
       "      <td>K</td>\n",
       "      <td>K</td>\n",
       "    </tr>\n",
       "    <tr>\n",
       "      <th>7037</th>\n",
       "      <td>7JJO</td>\n",
       "      <td>ATOM</td>\n",
       "      <td>A</td>\n",
       "      <td>C</td>\n",
       "      <td>22</td>\n",
       "      <td>18</td>\n",
       "      <td>GLY</td>\n",
       "      <td>7038</td>\n",
       "      <td>CA</td>\n",
       "      <td>C</td>\n",
       "      <td>...</td>\n",
       "      <td>ADRB1_MELGA</td>\n",
       "      <td>G</td>\n",
       "      <td>17</td>\n",
       "      <td></td>\n",
       "      <td>0.0</td>\n",
       "      <td>0.0</td>\n",
       "      <td></td>\n",
       "      <td>G.HN.35</td>\n",
       "      <td>A</td>\n",
       "      <td>A</td>\n",
       "    </tr>\n",
       "    <tr>\n",
       "      <th>7044</th>\n",
       "      <td>7JJO</td>\n",
       "      <td>ATOM</td>\n",
       "      <td>A</td>\n",
       "      <td>C</td>\n",
       "      <td>23</td>\n",
       "      <td>19</td>\n",
       "      <td>GLN</td>\n",
       "      <td>7045</td>\n",
       "      <td>CA</td>\n",
       "      <td>C</td>\n",
       "      <td>...</td>\n",
       "      <td>ADRB1_MELGA</td>\n",
       "      <td>Q</td>\n",
       "      <td>18</td>\n",
       "      <td></td>\n",
       "      <td>0.0</td>\n",
       "      <td>0.0</td>\n",
       "      <td></td>\n",
       "      <td>G.HN.36</td>\n",
       "      <td>Q</td>\n",
       "      <td>Q</td>\n",
       "    </tr>\n",
       "    <tr>\n",
       "      <th>...</th>\n",
       "      <td>...</td>\n",
       "      <td>...</td>\n",
       "      <td>...</td>\n",
       "      <td>...</td>\n",
       "      <td>...</td>\n",
       "      <td>...</td>\n",
       "      <td>...</td>\n",
       "      <td>...</td>\n",
       "      <td>...</td>\n",
       "      <td>...</td>\n",
       "      <td>...</td>\n",
       "      <td>...</td>\n",
       "      <td>...</td>\n",
       "      <td>...</td>\n",
       "      <td>...</td>\n",
       "      <td>...</td>\n",
       "      <td>...</td>\n",
       "      <td>...</td>\n",
       "      <td>...</td>\n",
       "      <td>...</td>\n",
       "      <td>...</td>\n",
       "    </tr>\n",
       "    <tr>\n",
       "      <th>10234</th>\n",
       "      <td>7JJO</td>\n",
       "      <td>ATOM</td>\n",
       "      <td>A</td>\n",
       "      <td>C</td>\n",
       "      <td>380</td>\n",
       "      <td>376</td>\n",
       "      <td>GLN</td>\n",
       "      <td>10235</td>\n",
       "      <td>CA</td>\n",
       "      <td>C</td>\n",
       "      <td>...</td>\n",
       "      <td>ADRB1_MELGA</td>\n",
       "      <td>Q</td>\n",
       "      <td>375</td>\n",
       "      <td></td>\n",
       "      <td>0.0</td>\n",
       "      <td>0.0</td>\n",
       "      <td></td>\n",
       "      <td>G.H5.08</td>\n",
       "      <td>F</td>\n",
       "      <td>F</td>\n",
       "    </tr>\n",
       "    <tr>\n",
       "      <th>10251</th>\n",
       "      <td>7JJO</td>\n",
       "      <td>ATOM</td>\n",
       "      <td>A</td>\n",
       "      <td>C</td>\n",
       "      <td>381</td>\n",
       "      <td>377</td>\n",
       "      <td>TYR</td>\n",
       "      <td>10252</td>\n",
       "      <td>CA</td>\n",
       "      <td>C</td>\n",
       "      <td>...</td>\n",
       "      <td>ADRB1_MELGA</td>\n",
       "      <td>Y</td>\n",
       "      <td>376</td>\n",
       "      <td></td>\n",
       "      <td>0.0</td>\n",
       "      <td>0.0</td>\n",
       "      <td></td>\n",
       "      <td>G.H5.09</td>\n",
       "      <td>N</td>\n",
       "      <td>N</td>\n",
       "    </tr>\n",
       "    <tr>\n",
       "      <th>10272</th>\n",
       "      <td>7JJO</td>\n",
       "      <td>ATOM</td>\n",
       "      <td>A</td>\n",
       "      <td>C</td>\n",
       "      <td>382</td>\n",
       "      <td>378</td>\n",
       "      <td>GLU</td>\n",
       "      <td>10273</td>\n",
       "      <td>CA</td>\n",
       "      <td>C</td>\n",
       "      <td>...</td>\n",
       "      <td>ADRB1_MELGA</td>\n",
       "      <td>E</td>\n",
       "      <td>377</td>\n",
       "      <td></td>\n",
       "      <td>0.0</td>\n",
       "      <td>0.0</td>\n",
       "      <td></td>\n",
       "      <td>G.H5.10</td>\n",
       "      <td>D</td>\n",
       "      <td>D</td>\n",
       "    </tr>\n",
       "    <tr>\n",
       "      <th>10287</th>\n",
       "      <td>7JJO</td>\n",
       "      <td>ATOM</td>\n",
       "      <td>A</td>\n",
       "      <td>C</td>\n",
       "      <td>383</td>\n",
       "      <td>379</td>\n",
       "      <td>LEU</td>\n",
       "      <td>10288</td>\n",
       "      <td>CA</td>\n",
       "      <td>C</td>\n",
       "      <td>...</td>\n",
       "      <td>ADRB1_MELGA</td>\n",
       "      <td>L</td>\n",
       "      <td>378</td>\n",
       "      <td></td>\n",
       "      <td>0.0</td>\n",
       "      <td>0.0</td>\n",
       "      <td></td>\n",
       "      <td>G.H5.11</td>\n",
       "      <td>C</td>\n",
       "      <td>C</td>\n",
       "    </tr>\n",
       "    <tr>\n",
       "      <th>10306</th>\n",
       "      <td>7JJO</td>\n",
       "      <td>ATOM</td>\n",
       "      <td>A</td>\n",
       "      <td>C</td>\n",
       "      <td>384</td>\n",
       "      <td>380</td>\n",
       "      <td>LEU</td>\n",
       "      <td>10307</td>\n",
       "      <td>CA</td>\n",
       "      <td>C</td>\n",
       "      <td>...</td>\n",
       "      <td>ADRB1_MELGA</td>\n",
       "      <td>L</td>\n",
       "      <td>379</td>\n",
       "      <td></td>\n",
       "      <td>0.0</td>\n",
       "      <td>0.0</td>\n",
       "      <td></td>\n",
       "      <td>G.H5.12</td>\n",
       "      <td>R</td>\n",
       "      <td>R</td>\n",
       "    </tr>\n",
       "  </tbody>\n",
       "</table>\n",
       "<p>200 rows × 26 columns</p>\n",
       "</div>"
      ],
      "text/plain": [
       "        PDB group_PDB auth_asym_id label_asym_id  label_seq_id auth_seq_id  \\\n",
       "7016   7JJO      ATOM            A             C            19          15   \n",
       "7023   7JJO      ATOM            A             C            20          16   \n",
       "7030   7JJO      ATOM            A             C            21          17   \n",
       "7037   7JJO      ATOM            A             C            22          18   \n",
       "7044   7JJO      ATOM            A             C            23          19   \n",
       "...     ...       ...          ...           ...           ...         ...   \n",
       "10234  7JJO      ATOM            A             C           380         376   \n",
       "10251  7JJO      ATOM            A             C           381         377   \n",
       "10272  7JJO      ATOM            A             C           382         378   \n",
       "10287  7JJO      ATOM            A             C           383         379   \n",
       "10306  7JJO      ATOM            A             C           384         380   \n",
       "\n",
       "      label_comp_id     id label_atom_id type_symbol  ...   identifier  \\\n",
       "7016            GLU   7017            CA           C  ...  ADRB1_MELGA   \n",
       "7023            GLU   7024            CA           C  ...  ADRB1_MELGA   \n",
       "7030            LYS   7031            CA           C  ...  ADRB1_MELGA   \n",
       "7037            GLY   7038            CA           C  ...  ADRB1_MELGA   \n",
       "7044            GLN   7045            CA           C  ...  ADRB1_MELGA   \n",
       "...             ...    ...           ...         ...  ...          ...   \n",
       "10234           GLN  10235            CA           C  ...  ADRB1_MELGA   \n",
       "10251           TYR  10252            CA           C  ...  ADRB1_MELGA   \n",
       "10272           GLU  10273            CA           C  ...  ADRB1_MELGA   \n",
       "10287           LEU  10288            CA           C  ...  ADRB1_MELGA   \n",
       "10306           LEU  10307            CA           C  ...  ADRB1_MELGA   \n",
       "\n",
       "      label_comp_sid label_2_uni  gen_pos  gen_pos1  gen_pos2  \\\n",
       "7016               E          14                0.0       0.0   \n",
       "7023               E          15                0.0       0.0   \n",
       "7030               K          16                0.0       0.0   \n",
       "7037               G          17                0.0       0.0   \n",
       "7044               Q          18                0.0       0.0   \n",
       "...              ...         ...      ...       ...       ...   \n",
       "10234              Q         375                0.0       0.0   \n",
       "10251              Y         376                0.0       0.0   \n",
       "10272              E         377                0.0       0.0   \n",
       "10287              L         378                0.0       0.0   \n",
       "10306              L         379                0.0       0.0   \n",
       "\n",
       "      uniprot_comp_sid gprot_pos  uniprot_comp_id fam_comp_id  \n",
       "7016                     G.HN.32                E           E  \n",
       "7023                     G.HN.33                E           E  \n",
       "7030                     G.HN.34                K           K  \n",
       "7037                     G.HN.35                A           A  \n",
       "7044                     G.HN.36                Q           Q  \n",
       "...                ...       ...              ...         ...  \n",
       "10234                    G.H5.08                F           F  \n",
       "10251                    G.H5.09                N           N  \n",
       "10272                    G.H5.10                D           D  \n",
       "10287                    G.H5.11                C           C  \n",
       "10306                    G.H5.12                R           R  \n",
       "\n",
       "[200 rows x 26 columns]"
      ]
     },
     "execution_count": 11,
     "metadata": {},
     "output_type": "execute_result"
    }
   ],
   "source": [
    "df[df['gprot_pos'] != '']"
   ]
  },
  {
   "cell_type": "code",
   "execution_count": null,
   "id": "a0f11bef",
   "metadata": {},
   "outputs": [],
   "source": []
  },
  {
   "cell_type": "code",
   "execution_count": 12,
   "id": "innovative-camel",
   "metadata": {},
   "outputs": [],
   "source": [
    "eg = 47"
   ]
  },
  {
   "cell_type": "code",
   "execution_count": 13,
   "id": "69eba3b4",
   "metadata": {},
   "outputs": [],
   "source": [
    "def run_angle_analysis(p, col_name='angle', start=3.40, end=3.53, gprot_region='H5', gstart=3, gend=15):\n",
    "    p.table[col_name] = 0.000\n",
    "    for pdb in p.dfl_list: #p.dfl_list\n",
    "        i = p.dfl_list.index(pdb)\n",
    "        if pdb != p.dfl[i]['PDB'].iloc[0]:\n",
    "            print(\"dfl list and df in dfl at corr index do not match!\")\n",
    "        if 'gen_pos' and 'gprot_pos' in list(p.dfl[i].columns):\n",
    "            pass\n",
    "        else:\n",
    "            continue\n",
    "\n",
    "        df_r = section_filter(p.dfl[i].copy(), chain='r', start=start, end=end)\n",
    "        df_g = section_filter(p.dfl[i].copy(), chain='g', gprot_region=gprot_region, start=gstart, end=gend)\n",
    "        if len(df_r) > 0:\n",
    "            if len(df_r[df_r['gen_pos'].str.contains('\\?')])>30:\n",
    "                df_r = df_r[~df_r['gen_pos'].str.contains('\\?')]\n",
    "                pass\n",
    "        xyz_r, mean_r = get_coords(df_r, False)\n",
    "        xyz_g, mean_g = get_coords(df_g, False)\n",
    "\n",
    "        if (xyz_r.shape[0]>6) & (xyz_g.shape[0]>6):\n",
    "            v_r = get_helix(xyz_r-np.asarray(mean_r))\n",
    "            v_g = get_helix(xyz_g-np.asarray(mean_g))\n",
    "            vector_r = v_r * np.mgrid[-10:10:2j][:, np.newaxis]\n",
    "            vector_g = v_g * np.mgrid[-10:10:2j][:, np.newaxis]\n",
    "            angle_ = angle(v_r, v_g)\n",
    "            if angle_ < 0:\n",
    "                angle_ = -angle_\n",
    "            if angle_ > 180:\n",
    "                angle_ = angle_ - 180\n",
    "            if angle_ > 90:\n",
    "                angle_ = 180 - angle_\n",
    "            p.table.loc[p.table['PDB']==pdb, col_name] = angle_"
   ]
  },
  {
   "cell_type": "code",
   "execution_count": 14,
   "id": "b9d50da0",
   "metadata": {},
   "outputs": [],
   "source": [
    "run_angle_analysis(p, '3.5vsH5.3_15', start=3.40, end=3.53, gstart=3, gend=15)\n",
    "run_angle_analysis(p, '3.5vsH5.16_26', start=3.40, end=3.53, gstart=16, gend=26)\n",
    "run_angle_analysis(p, '8.5vsH5.3_15', start=8.53, end=8.63, gstart=3, gend=15)\n",
    "run_angle_analysis(p, '8.5vsH5.16_26', start=8.53, end=8.63, gstart=16, gend=26)\n",
    "run_angle_analysis(p, '3.5vsHN.30_53', start=3.40, end=3.53, gprot_region='HN', gstart=30, gend=53)\n",
    "run_angle_analysis(p, '8.5vsHN.30_53', start=8.53, end=8.63, gprot_region='HN', gstart=30, gend=53)"
   ]
  },
  {
   "cell_type": "code",
   "execution_count": 35,
   "id": "36a9654e",
   "metadata": {},
   "outputs": [],
   "source": [
    "import pandas as pd\n",
    "import numpy as np\n",
    "import matplotlib.pyplot as plt\n",
    "import matplotlib\n",
    "import seaborn as sns\n",
    "\n",
    "def make_plot(data, col='3.5vsH5.3_15', save=True):\n",
    "\n",
    "    a4_dims = (11.7, 8.27)\n",
    "    fontsize = 20\n",
    "\n",
    "    fig, axes = plt.subplots(figsize=a4_dims)\n",
    "    sns.violinplot('Family', col, data=data[data[col]>0], ax = axes)\n",
    "\n",
    "    axes.yaxis.grid(False)\n",
    "    axes.set_xlabel('G protein family')\n",
    "    axes.set_ylabel('Angle (°)')\n",
    "    matplotlib.rcParams.update({'font.size': fontsize})\n",
    "\n",
    "    if save:\n",
    "        plt.rcParams['savefig.dpi'] = 300\n",
    "        name = 'plots/mt/'+col.replace('.', '_')+'.png'\n",
    "        plt.savefig(name)\n",
    "    else:\n",
    "        plt.show()"
   ]
  },
  {
   "cell_type": "code",
   "execution_count": 36,
   "id": "396ffb73",
   "metadata": {},
   "outputs": [
    {
     "name": "stderr",
     "output_type": "stream",
     "text": [
      "C:\\Users\\Sideadmin\\.conda\\envs\\mt\\lib\\site-packages\\seaborn\\_decorators.py:36: FutureWarning: Pass the following variables as keyword args: x, y. From version 0.12, the only valid positional argument will be `data`, and passing other arguments without an explicit keyword will result in an error or misinterpretation.\n",
      "  warnings.warn(\n"
     ]
    },
    {
     "data": {
      "image/png": "[encoded data removed]",
      "text/plain": [
       "<Figure size 842.4x595.44 with 1 Axes>"
      ]
     },
     "metadata": {
      "needs_background": "light"
     },
     "output_type": "display_data"
    }
   ],
   "source": [
    "make_plot(p.table, col='3.5vsH5.3_15')"
   ]
  },
  {
   "cell_type": "code",
   "execution_count": 37,
   "id": "feb1c3c5",
   "metadata": {},
   "outputs": [
    {
     "name": "stderr",
     "output_type": "stream",
     "text": [
      "C:\\Users\\Sideadmin\\.conda\\envs\\mt\\lib\\site-packages\\seaborn\\_decorators.py:36: FutureWarning: Pass the following variables as keyword args: x, y. From version 0.12, the only valid positional argument will be `data`, and passing other arguments without an explicit keyword will result in an error or misinterpretation.\n",
      "  warnings.warn(\n"
     ]
    },
    {
     "data": {
      "image/png": "[encoded data removed]",
      "text/plain": [
       "<Figure size 842.4x595.44 with 1 Axes>"
      ]
     },
     "metadata": {
      "needs_background": "light"
     },
     "output_type": "display_data"
    }
   ],
   "source": [
    "make_plot(p.table, col='3.5vsH5.16_26')"
   ]
  },
  {
   "cell_type": "code",
   "execution_count": 38,
   "id": "91d08fb6",
   "metadata": {},
   "outputs": [
    {
     "name": "stderr",
     "output_type": "stream",
     "text": [
      "C:\\Users\\Sideadmin\\.conda\\envs\\mt\\lib\\site-packages\\seaborn\\_decorators.py:36: FutureWarning: Pass the following variables as keyword args: x, y. From version 0.12, the only valid positional argument will be `data`, and passing other arguments without an explicit keyword will result in an error or misinterpretation.\n",
      "  warnings.warn(\n"
     ]
    },
    {
     "data": {
      "image/png": "[encoded data removed]",
      "text/plain": [
       "<Figure size 842.4x595.44 with 1 Axes>"
      ]
     },
     "metadata": {
      "needs_background": "light"
     },
     "output_type": "display_data"
    }
   ],
   "source": [
    "make_plot(p.table, col='8.5vsH5.3_15')"
   ]
  },
  {
   "cell_type": "code",
   "execution_count": 39,
   "id": "6b70d5af",
   "metadata": {},
   "outputs": [
    {
     "name": "stderr",
     "output_type": "stream",
     "text": [
      "C:\\Users\\Sideadmin\\.conda\\envs\\mt\\lib\\site-packages\\seaborn\\_decorators.py:36: FutureWarning: Pass the following variables as keyword args: x, y. From version 0.12, the only valid positional argument will be `data`, and passing other arguments without an explicit keyword will result in an error or misinterpretation.\n",
      "  warnings.warn(\n"
     ]
    },
    {
     "data": {
      "image/png": "[encoded data removed]",
      "text/plain": [
       "<Figure size 842.4x595.44 with 1 Axes>"
      ]
     },
     "metadata": {
      "needs_background": "light"
     },
     "output_type": "display_data"
    }
   ],
   "source": [
    "make_plot(p.table, col='8.5vsH5.16_26')"
   ]
  },
  {
   "cell_type": "code",
   "execution_count": 40,
   "id": "6178cbed",
   "metadata": {},
   "outputs": [
    {
     "name": "stderr",
     "output_type": "stream",
     "text": [
      "C:\\Users\\Sideadmin\\.conda\\envs\\mt\\lib\\site-packages\\seaborn\\_decorators.py:36: FutureWarning: Pass the following variables as keyword args: x, y. From version 0.12, the only valid positional argument will be `data`, and passing other arguments without an explicit keyword will result in an error or misinterpretation.\n",
      "  warnings.warn(\n"
     ]
    },
    {
     "data": {
      "image/png": "[encoded data removed]",
      "text/plain": [
       "<Figure size 842.4x595.44 with 1 Axes>"
      ]
     },
     "metadata": {
      "needs_background": "light"
     },
     "output_type": "display_data"
    }
   ],
   "source": [
    "make_plot(p.table, col='3.5vsHN.30_53')"
   ]
  },
  {
   "cell_type": "code",
   "execution_count": 41,
   "id": "e49c8222",
   "metadata": {},
   "outputs": [
    {
     "name": "stderr",
     "output_type": "stream",
     "text": [
      "C:\\Users\\Sideadmin\\.conda\\envs\\mt\\lib\\site-packages\\seaborn\\_decorators.py:36: FutureWarning: Pass the following variables as keyword args: x, y. From version 0.12, the only valid positional argument will be `data`, and passing other arguments without an explicit keyword will result in an error or misinterpretation.\n",
      "  warnings.warn(\n"
     ]
    },
    {
     "data": {
      "image/png": "[encoded data removed]",
      "text/plain": [
       "<Figure size 842.4x595.44 with 1 Axes>"
      ]
     },
     "metadata": {
      "needs_background": "light"
     },
     "output_type": "display_data"
    }
   ],
   "source": [
    "make_plot(p.table, col='8.5vsHN.30_53')"
   ]
  },
  {
   "cell_type": "code",
   "execution_count": 42,
   "id": "small-sampling",
   "metadata": {},
   "outputs": [
    {
     "ename": "NameError",
     "evalue": "name 'small' is not defined",
     "output_type": "error",
     "traceback": [
      "\u001b[1;31m---------------------------------------------------------------------------\u001b[0m",
      "\u001b[1;31mNameError\u001b[0m                                 Traceback (most recent call last)",
      "\u001b[1;32m<ipython-input-42-40733ad17d0e>\u001b[0m in \u001b[0;36m<module>\u001b[1;34m\u001b[0m\n\u001b[1;32m----> 1\u001b[1;33m \u001b[0msmall\u001b[0m\u001b[1;33m[\u001b[0m\u001b[1;33m(\u001b[0m\u001b[0mp\u001b[0m\u001b[1;33m.\u001b[0m\u001b[0mtable\u001b[0m\u001b[1;33m[\u001b[0m\u001b[1;34m'angle'\u001b[0m\u001b[1;33m]\u001b[0m\u001b[1;33m>\u001b[0m\u001b[1;36m0\u001b[0m\u001b[1;33m)\u001b[0m\u001b[1;33m&\u001b[0m\u001b[1;33m(\u001b[0m\u001b[0msmall\u001b[0m\u001b[1;33m[\u001b[0m\u001b[1;34m'Family'\u001b[0m\u001b[1;33m]\u001b[0m\u001b[1;33m==\u001b[0m\u001b[1;34m'Gs'\u001b[0m\u001b[1;33m)\u001b[0m\u001b[1;33m]\u001b[0m\u001b[1;33m.\u001b[0m\u001b[0msort_values\u001b[0m\u001b[1;33m(\u001b[0m\u001b[1;34m'uniprot(gene)'\u001b[0m\u001b[1;33m)\u001b[0m\u001b[1;33m.\u001b[0m\u001b[0mreset_index\u001b[0m\u001b[1;33m(\u001b[0m\u001b[0mdrop\u001b[0m\u001b[1;33m=\u001b[0m\u001b[1;32mTrue\u001b[0m\u001b[1;33m)\u001b[0m\u001b[1;33m\u001b[0m\u001b[1;33m\u001b[0m\u001b[0m\n\u001b[0m",
      "\u001b[1;31mNameError\u001b[0m: name 'small' is not defined"
     ]
    }
   ],
   "source": [
    "small[(p.table['angle']>0)&(small['Family']=='Gs')].sort_values('uniprot(gene)').reset_index(drop=True)"
   ]
  },
  {
   "cell_type": "code",
   "execution_count": null,
   "id": "bright-shelf",
   "metadata": {},
   "outputs": [],
   "source": [
    "small = p.table[['PDB', 'uniprot(gene)', 'Family', 'angle']].copy()\n",
    "small[(p.table['angle']>0)&(small['Family']=='Gi/o')].sort_values('uniprot(gene)').reset_index(drop=True)#.to_csv('gio_angle_tm3_h5.csv')"
   ]
  },
  {
   "cell_type": "code",
   "execution_count": null,
   "id": "oriented-devil",
   "metadata": {},
   "outputs": [],
   "source": [
    "small[(p.table['angle']>0)&(small['Family']=='Gq/11')].sort_values('uniprot(gene)').reset_index(drop=True)"
   ]
  },
  {
   "cell_type": "code",
   "execution_count": null,
   "id": "killing-roberts",
   "metadata": {},
   "outputs": [],
   "source": [
    "df = p.dfl[p.dfl_list.index('7CFM')]"
   ]
  },
  {
   "cell_type": "code",
   "execution_count": null,
   "id": "willing-branch",
   "metadata": {},
   "outputs": [],
   "source": [
    "df[df['gprot_pos'].str.contains('HN')]"
   ]
  },
  {
   "cell_type": "code",
   "execution_count": null,
   "id": "concrete-variable",
   "metadata": {},
   "outputs": [],
   "source": [
    "df[(df['gen_pos1']>=8.5)&(df['gen_pos1']<=9)&(df['label_atom_id']=='CA')]"
   ]
  },
  {
   "cell_type": "code",
   "execution_count": null,
   "id": "hundred-instrumentation",
   "metadata": {},
   "outputs": [],
   "source": [
    "small[small['Family']=='Gs'].reset_index(drop=True).sort_values('uniprot(gene)') #.to_csv('gs_angle_tm3_h5.csv')"
   ]
  },
  {
   "cell_type": "code",
   "execution_count": null,
   "id": "funky-nothing",
   "metadata": {},
   "outputs": [],
   "source": [
    "small[small['Family']=='Gq/11'].reset_index(drop=True).sort_values('uniprot(gene)')#.to_csv('gq_angle_tm3_h5.csv')"
   ]
  },
  {
   "cell_type": "code",
   "execution_count": null,
   "id": "048b0a52",
   "metadata": {},
   "outputs": [],
   "source": [
    "pdb = '6N4B'\n",
    "i = p.dfl_list.index(pdb)\n",
    "if pdb != p.dfl[i]['PDB'].iloc[0]:\n",
    "    print(\"dfl list and df in dfl at corr index do not match!\")\n",
    "\n",
    "df_rh8 = section_filter(p.dfl[i].copy(), chain='r', start=8.50, end=8.60)\n",
    "df_rtm7 = section_filter(p.dfl[i].copy(), chain='r', start=7.40, end=7.53)\n",
    "df_g = section_filter(p.dfl[i].copy(), chain='g', gprot_region='H5', start=1, end=27)\n",
    "if len(df_r) > 0:\n",
    "    if len(df_r[df_r['gen_pos'].str.contains('\\?')])>3:\n",
    "        df_r = df_r[~df_r['gen_pos'].str.contains('\\?')]\n",
    "        pass\n",
    "xyz_r1, mean_r1 = get_coords(df_rh8, False)\n",
    "xyz_r2, mean_r2 = get_coords(df_rtm7, False)\n",
    "\n",
    "print(xyz_r1.shape)\n",
    "print(xyz_r2.shape)\n",
    "xyz_g, mean_g = get_coords(df_g, False)\n",
    "\n",
    "if (xyz_r1.shape[0]>6) & (xyz_r2.shape[0]>6) & (xyz_g.shape[0]>6):\n",
    "    v_r1 = get_helix(xyz_r1-np.asarray(mean_r1))\n",
    "    v_r2 = get_helix(xyz_r2-np.asarray(mean_r2))\n",
    "    v_g = get_helix(xyz_g-np.asarray(mean_g))\n",
    "    vector_r1 = v_r1 * np.mgrid[-10:10:2j][:, np.newaxis]\n",
    "    vector_r2 = v_r2 * np.mgrid[-10:10:2j][:, np.newaxis]\n",
    "    vector_g = v_g * np.mgrid[-10:10:2j][:, np.newaxis]\n",
    "\n",
    "    angle_ = angle(v_r1, v_g)\n",
    "    if angle_ < 90:\n",
    "        angle_ = 180 - angle_\n",
    "print(angle_)"
   ]
  },
  {
   "cell_type": "code",
   "execution_count": null,
   "id": "c345eeeb",
   "metadata": {},
   "outputs": [],
   "source": [
    "vector_r1"
   ]
  },
  {
   "cell_type": "markdown",
   "id": "590a2d56",
   "metadata": {},
   "source": [
    "# Plotting helices"
   ]
  },
  {
   "cell_type": "code",
   "execution_count": null,
   "id": "municipal-hamburg",
   "metadata": {},
   "outputs": [],
   "source": [
    "plot_helices([[xyz_r1, vector_r1, mean_r1, 'Receptor'],\n",
    "              [xyz_r2, vector_r2, mean_r2, 'Receptor'], \n",
    "              [xyz_g, vector_g, mean_g, 'Gprotein']])"
   ]
  },
  {
   "cell_type": "code",
   "execution_count": null,
   "id": "aboriginal-dealer",
   "metadata": {},
   "outputs": [],
   "source": [
    "plot_helices([[xyz_r, vector_r, mean_r, 'Receptor'], [xyz_g, vector_g, mean_g, 'Gprotein']]) # \t7E2X"
   ]
  },
  {
   "cell_type": "code",
   "execution_count": null,
   "id": "reliable-closing",
   "metadata": {},
   "outputs": [],
   "source": [
    "plot_helices([[xyz_r, vector_r, mean_r, 'Receptor'], [xyz_g, vector_g, mean_g, 'Gprotein']]) # \t7E2Y"
   ]
  },
  {
   "cell_type": "code",
   "execution_count": null,
   "id": "closing-torture",
   "metadata": {},
   "outputs": [],
   "source": [
    "# full interaction table"
   ]
  },
  {
   "cell_type": "code",
   "execution_count": null,
   "id": "82bed0df",
   "metadata": {},
   "outputs": [],
   "source": []
  },
  {
   "cell_type": "code",
   "execution_count": null,
   "id": "07b1bd49",
   "metadata": {},
   "outputs": [],
   "source": [
    "pdb = '6N4B'\n",
    "i = p.dfl_list.index(pdb)\n",
    "if pdb != p.dfl[i]['PDB'].iloc[0]:\n",
    "    print(\"dfl list and df in dfl at corr index do not match!\")\n",
    "\n",
    "df_r = section_filter(p.dfl[i].copy(), chain='r', start=3.40, end=3.53)\n",
    "df_g = section_filter(p.dfl[i].copy(), chain='g', gprot_region='H5', start=3, end=22)\n",
    "if len(df_r) > 0:\n",
    "    if len(df_r[df_r['gen_pos'].str.contains('\\?')])>3:\n",
    "        df_r = df_r[~df_r['gen_pos'].str.contains('\\?')]\n",
    "        pass\n",
    "xyz_r, mean_r = get_coords(df_r, False)\n",
    "xyz_g, mean_g = get_coords(df_g, False)\n",
    "\n",
    "if (xyz_r.shape[0]>6) & (xyz_g.shape[0]>6):\n",
    "    v_r = get_helix(xyz_r-np.asarray(mean_r))\n",
    "    v_g = get_helix(xyz_g-np.asarray(mean_g))\n",
    "    vector_r = v_r * np.mgrid[-10:10:2j][:, np.newaxis]\n",
    "    vector_g = v_g * np.mgrid[-10:10:2j][:, np.newaxis]\n",
    "\n",
    "    angle_ = angle(v_r, v_g)\n",
    "    if angle_ < 90:\n",
    "        angle_ = 180 - angle_"
   ]
  },
  {
   "cell_type": "code",
   "execution_count": null,
   "id": "following-perry",
   "metadata": {},
   "outputs": [],
   "source": []
  },
  {
   "cell_type": "code",
   "execution_count": null,
   "id": "optical-alloy",
   "metadata": {},
   "outputs": [],
   "source": []
  },
  {
   "cell_type": "markdown",
   "id": "quantitative-advocate",
   "metadata": {},
   "source": [
    "# Full Helices Table"
   ]
  },
  {
   "cell_type": "code",
   "execution_count": null,
   "id": "37d4420b",
   "metadata": {},
   "outputs": [],
   "source": [
    "G_SECTION_DICT = {}\n",
    "R_SECTION_DICT = {'TM1': (1.45, 1.55),\n",
    "                  'TM2': (2.45, 2.55),\n",
    "                  'TM3': (3.40, 3.53),\n",
    "                  'TM4': (4.45, 4.55),\n",
    "                  'TM5': (5.45, 5.55),\n",
    "                  'TM6': (6.45, 6.55),\n",
    "                  'TM7': (7.4, 7.53),\n",
    "                  'H8':  (8.5, 8.6),}"
   ]
  },
  {
   "cell_type": "code",
   "execution_count": null,
   "id": "dc883921",
   "metadata": {},
   "outputs": [],
   "source": [
    "def count_g_positions(data):\n",
    "    cols = [x for x in range(100)]\n",
    "    gs_count_df = pd.DataFrame(columns=cols)\n",
    "    g_section_list = list(G_SECTION_DICT.keys())\n",
    "    for i in range(len(data)):\n",
    "        df = data[i]\n",
    "        if 'gprot_pos' in list(df.columns):\n",
    "            new_g_section_list = list(set([x.split('.')[1] for x in df.gprot_pos.unique() if len(x.split('.'))==3]))\n",
    "            g_section_list += new_g_section_list\n",
    "            for gs in new_g_section_list:\n",
    "                if gs not in list(gs_count_df.index):\n",
    "                    gs_count_df.loc[gs,:] = 0\n",
    "                posis = [int(x.split('.')[-1]) for x in df.gprot_pos.unique() if (gs in x) & (len(x.split('.'))==3)]\n",
    "                for pos in posis:\n",
    "                    gs_count_df.loc[gs, pos] += 1\n",
    "    return gs_count_df.sort_index()"
   ]
  },
  {
   "cell_type": "code",
   "execution_count": null,
   "id": "04d44fb4",
   "metadata": {},
   "outputs": [],
   "source": [
    "def find_cont_sections_g(gs_count_df, min_count=40, min_length=8):\n",
    "    def find_sections(nums, min_length):\n",
    "        nums.sort()\n",
    "        nums.append(1e9)\n",
    "        ans=[]\n",
    "        l=nums[0]\n",
    "        for i in range(1,len(nums)):\n",
    "            if nums[i] != nums[i-1] + 1:\n",
    "                if (nums[i-1] - l) >= min_length:\n",
    "                    ans.append((l, nums[i-1]))\n",
    "                l=nums[i]\n",
    "        return ans\n",
    "    g_section_dict = {}\n",
    "    for section in list(gs_count_df.index):\n",
    "        sec = gs_count_df.loc[section, (gs_count_df > 0).any(axis=0)]\n",
    "        sec = sec.to_dict()\n",
    "        sec_keys = [x for x in list(sec.keys()) if sec[x] >= min_count]\n",
    "        g_section_dict[section] = find_sections(sec_keys, min_length)\n",
    "    return g_section_dict"
   ]
  },
  {
   "cell_type": "code",
   "execution_count": null,
   "id": "0ca6dcc1",
   "metadata": {},
   "outputs": [],
   "source": [
    "def make_cont_section_dict_g(cont_sec_g):\n",
    "    cont_sec_g_dict = {}\n",
    "    for key in list(cont_sec_g.keys()):\n",
    "        sections = cont_sec_g[key]\n",
    "        for s, sec in enumerate(sections):\n",
    "            cont_sec_g_dict[key+'_'+str(s)] = sec\n",
    "    return cont_sec_g_dict"
   ]
  },
  {
   "cell_type": "code",
   "execution_count": null,
   "id": "synthetic-python",
   "metadata": {},
   "outputs": [],
   "source": [
    "gs_count_df = count_g_positions(p.dfl)"
   ]
  },
  {
   "cell_type": "code",
   "execution_count": null,
   "id": "expressed-remainder",
   "metadata": {},
   "outputs": [],
   "source": [
    "gs_count_df"
   ]
  },
  {
   "cell_type": "code",
   "execution_count": null,
   "id": "d86f31ff",
   "metadata": {},
   "outputs": [],
   "source": [
    "# list(set(list(g_section_list)))"
   ]
  },
  {
   "cell_type": "code",
   "execution_count": null,
   "id": "c31c0285",
   "metadata": {},
   "outputs": [],
   "source": [
    "cont_sec_g = find_cont_sections_g(gs_count_df, min_count=30, min_length=6)"
   ]
  },
  {
   "cell_type": "code",
   "execution_count": null,
   "id": "97457b0a",
   "metadata": {},
   "outputs": [],
   "source": [
    "G_SECTION_DICT = make_cont_section_dict_g(cont_sec_g)"
   ]
  },
  {
   "cell_type": "code",
   "execution_count": null,
   "id": "authorized-batch",
   "metadata": {},
   "outputs": [],
   "source": [
    "G_SECTION_DICT['H5_1'] = (13, 23)\n",
    "G_SECTION_DICT['H4_0'] = (3, 15)"
   ]
  },
  {
   "cell_type": "code",
   "execution_count": null,
   "id": "4ef134b7",
   "metadata": {},
   "outputs": [],
   "source": [
    "G_SECTION_DICT"
   ]
  },
  {
   "cell_type": "code",
   "execution_count": null,
   "id": "3d9cde24",
   "metadata": {},
   "outputs": [],
   "source": []
  },
  {
   "cell_type": "code",
   "execution_count": null,
   "id": "751cb9b3",
   "metadata": {},
   "outputs": [],
   "source": [
    "def calculate_section_helices(data):\n",
    "    g_section_list = list(G_SECTION_DICT.keys())\n",
    "    r_section_list = list(R_SECTION_DICT.keys())\n",
    "    columns = g_section_list + r_section_list\n",
    "    section_diff_df = pd.DataFrame(columns=columns)\n",
    "    for i in range(len(data)):\n",
    "        pdb = data[i].iloc[0]['PDB']\n",
    "        if 'gen_pos' and 'gprot_pos' in list(data[i].columns):\n",
    "            for c in columns:\n",
    "                if c in r_section_list:\n",
    "                    df_r = section_filter(data[i].copy(), chain='r', start=R_SECTION_DICT[c][0], end=R_SECTION_DICT[c][1])\n",
    "                    if len(df_r) > 0:\n",
    "                        if len(df_r[df_r['gen_pos'].str.contains('\\?')])>3:\n",
    "                            df_r = df_r[~df_r['gen_pos'].str.contains('\\?')]\n",
    "                    xyz_r, mean_r = get_coords(df_r, False)\n",
    "                    if (xyz_r.shape[0]>6):\n",
    "                        v_r = get_helix(xyz_r-np.asarray(mean_r))\n",
    "                        section_diff_df.loc[pdb, c] = v_r\n",
    "                elif (c in g_section_list):\n",
    "                    c_, c_idx = c.split('_')\n",
    "                    if c_ in [x.split('.')[1] for x in list(data[i].gprot_pos.unique()) if len(x.split('.'))==3]:\n",
    "                        df_g = section_filter(data[i].copy(), chain='g', gprot_region=c_, \n",
    "                                              start=G_SECTION_DICT[c][0], end=G_SECTION_DICT[c][1])\n",
    "                        xyz_g, mean_g = get_coords(df_g, False)\n",
    "                        if (xyz_g.shape[0]>6):\n",
    "                            v_g = get_helix(xyz_g-np.asarray(mean_g))\n",
    "                            section_diff_df.loc[pdb, c] = v_g\n",
    "    return section_diff_df"
   ]
  },
  {
   "cell_type": "code",
   "execution_count": null,
   "id": "0585e431",
   "metadata": {},
   "outputs": [],
   "source": [
    "p.dfl[0]"
   ]
  },
  {
   "cell_type": "code",
   "execution_count": null,
   "id": "40dfb32b",
   "metadata": {},
   "outputs": [],
   "source": [
    "R_SECTION_DICT['TM6']"
   ]
  },
  {
   "cell_type": "code",
   "execution_count": null,
   "id": "473d41b3",
   "metadata": {},
   "outputs": [],
   "source": [
    "section_helices = calculate_section_helices(p.dfl)"
   ]
  },
  {
   "cell_type": "code",
   "execution_count": null,
   "id": "0ac49703",
   "metadata": {},
   "outputs": [],
   "source": [
    "section_helices.reset_index()['H4_0'].iloc[2]"
   ]
  },
  {
   "cell_type": "code",
   "execution_count": null,
   "id": "693d7add",
   "metadata": {},
   "outputs": [],
   "source": [
    "section_helices.loc['3SN6', 'H1_0']"
   ]
  },
  {
   "cell_type": "code",
   "execution_count": null,
   "id": "8c523b2d",
   "metadata": {},
   "outputs": [],
   "source": [
    "rois = list(section_helices.columns)"
   ]
  },
  {
   "cell_type": "code",
   "execution_count": null,
   "id": "47bf77cf",
   "metadata": {},
   "outputs": [],
   "source": [
    "def calc_angles_between_helices(section_helices, idx):\n",
    "    cols = list(section_helices.columns)\n",
    "    section_angles_df = pd.DataFrame(columns=cols)\n",
    "    for i, c1 in enumerate(cols):\n",
    "        for j, c2 in enumerate(cols):\n",
    "            if i != j:\n",
    "                section_helix1 = section_helices[c1].iloc[idx]\n",
    "                section_helix2 = section_helices[c2].iloc[idx]\n",
    "                if not (isinstance(section_helix1, float) | isinstance(section_helix2, float)):\n",
    "                    angle_ = angle(section_helix1, section_helix2)\n",
    "                    if angle_ > 90:\n",
    "                        angle_ = 180 - angle_\n",
    "                    section_angles_df.loc[c1, c2] = angle_\n",
    "                else:\n",
    "                    section_angles_df.loc[c1, c2] = np.nan\n",
    "            else:\n",
    "                section_angles_df.loc[c1, c2] = 0.000000\n",
    "    return section_angles_df.T"
   ]
  },
  {
   "cell_type": "code",
   "execution_count": null,
   "id": "cf57c778",
   "metadata": {},
   "outputs": [],
   "source": [
    "calc_angles_between_helices(section_helices, 2)"
   ]
  },
  {
   "cell_type": "code",
   "execution_count": null,
   "id": "614a05cd",
   "metadata": {},
   "outputs": [],
   "source": [
    "ang_helices = []\n",
    "for i in range(len(section_helices)):\n",
    "    ang_helices.append(calc_angles_between_helices(section_helices, i))"
   ]
  },
  {
   "cell_type": "code",
   "execution_count": null,
   "id": "eb8c6606",
   "metadata": {},
   "outputs": [],
   "source": [
    "std_df = pd.DataFrame(columns=rois)\n",
    "mean_df = pd.DataFrame(columns=rois)\n",
    "for r1, roi1 in enumerate(rois):\n",
    "    for r2, roi2 in enumerate(rois):\n",
    "        l_r1r2 = []\n",
    "        for df in ang_helices:\n",
    "            cell = df.loc[roi1, roi2]\n",
    "            if cell > 0:\n",
    "                l_r1r2.append(cell)\n",
    "        if len(l_r1r2) > 0:\n",
    "            mean_r1r2 = np.mean(l_r1r2)\n",
    "            std_r1r2 = np.std(l_r1r2)\n",
    "            std_df.loc[roi1, roi2] = std_r1r2\n",
    "            mean_df.loc[roi1, roi2] = mean_r1r2"
   ]
  },
  {
   "cell_type": "markdown",
   "id": "46846470",
   "metadata": {},
   "source": [
    "# Plotting STD for helix angles"
   ]
  },
  {
   "cell_type": "code",
   "execution_count": null,
   "id": "productive-dividend",
   "metadata": {},
   "outputs": [],
   "source": [
    "std_df"
   ]
  },
  {
   "cell_type": "code",
   "execution_count": null,
   "id": "4200d202",
   "metadata": {},
   "outputs": [],
   "source": [
    "std_df_interaction = std_df.loc[list(G_SECTION_DICT.keys()), list(R_SECTION_DICT)].copy()"
   ]
  },
  {
   "cell_type": "code",
   "execution_count": null,
   "id": "handed-confidence",
   "metadata": {},
   "outputs": [],
   "source": [
    "std_df_gprot = std_df.loc[list(G_SECTION_DICT.keys()), list(G_SECTION_DICT)].copy()"
   ]
  },
  {
   "cell_type": "code",
   "execution_count": null,
   "id": "confident-senior",
   "metadata": {},
   "outputs": [],
   "source": [
    "std_df_receptor = std_df.loc[[x for x in list(R_SECTION_DICT.keys()) if x!='H8'],list(R_SECTION_DICT.keys())].copy()"
   ]
  },
  {
   "cell_type": "code",
   "execution_count": null,
   "id": "4759e50a",
   "metadata": {},
   "outputs": [],
   "source": [
    "name = 'Standard deviation in helices directional angles'\n",
    "rcParams['figure.figsize'] = 20, 15\n",
    "low_section = 50\n",
    "high_section = 180\n",
    "dense_map = std_df_interaction[(std_df_interaction < low_section) | (std_df_interaction > high_section)]\\\n",
    "    .dropna(axis=0, how='all').dropna(axis=1, how='all')\n",
    "ax = sns.heatmap(dense_map.astype(float), cmap='RdYlGn_r', linewidths=.1)\n",
    "ax.set_title(name)\n",
    "ax.plot()"
   ]
  },
  {
   "cell_type": "code",
   "execution_count": null,
   "id": "substantial-gospel",
   "metadata": {},
   "outputs": [],
   "source": [
    "name = 'Standard deviation in helices directional angles'\n",
    "rcParams['figure.figsize'] = 20, 15\n",
    "low_section = 20\n",
    "high_section = 60\n",
    "dense_map = std_df_gprot[(std_df_gprot < low_section) | (std_df_gprot > high_section)]\\\n",
    "    .dropna(axis=0, how='all').dropna(axis=1, how='all')\n",
    "ax = sns.heatmap(dense_map.astype(float), cmap='RdYlGn_r', linewidths=.1)\n",
    "ax.set_title(name)\n",
    "ax.plot()"
   ]
  },
  {
   "cell_type": "code",
   "execution_count": null,
   "id": "latin-peter",
   "metadata": {},
   "outputs": [],
   "source": [
    "name = 'Standard deviation in helices directional angles'\n",
    "rcParams['figure.figsize'] = 20, 15\n",
    "low_section = 50\n",
    "high_section = 100\n",
    "dense_map = std_df_receptor[(std_df_receptor < low_section) | (std_df_receptor > high_section)]\\\n",
    "    .dropna(axis=0, how='all').dropna(axis=1, how='all')\n",
    "ax = sns.heatmap(dense_map.astype(float), cmap='RdYlGn_r', linewidths=.1)\n",
    "ax.set_title(name)\n",
    "ax.plot()"
   ]
  },
  {
   "cell_type": "code",
   "execution_count": null,
   "id": "serial-murray",
   "metadata": {},
   "outputs": [],
   "source": [
    "name = 'Standard deviation in helices directional angles'\n",
    "rcParams['figure.figsize'] = 20, 15\n",
    "low_section = 6\n",
    "high_section = 180\n",
    "dense_map = std_df[(std_df < low_section) | (std_df > high_section)]\\\n",
    "    .dropna(axis=0, how='all').dropna(axis=1, how='all')\n",
    "ax = sns.heatmap(dense_map.astype(float), cmap='RdYlGn_r', linewidths=.1)\n",
    "ax.set_title(name)\n",
    "ax.plot()"
   ]
  },
  {
   "cell_type": "code",
   "execution_count": null,
   "id": "f2d5d4cb",
   "metadata": {},
   "outputs": [],
   "source": [
    "name = 'Mean in helices directional angles'\n",
    "rcParams['figure.figsize'] = 20, 15\n",
    "ax = sns.heatmap(mean_df.astype(float), cmap='RdYlGn_r', linewidths=.1)\n",
    "ax.set_title(name)\n",
    "ax.plot()"
   ]
  },
  {
   "cell_type": "code",
   "execution_count": null,
   "id": "b5ab2f17",
   "metadata": {},
   "outputs": [],
   "source": []
  },
  {
   "cell_type": "markdown",
   "id": "bdf2e59d",
   "metadata": {},
   "source": [
    "# H5, HN"
   ]
  },
  {
   "cell_type": "code",
   "execution_count": null,
   "id": "4fe165c0",
   "metadata": {},
   "outputs": [],
   "source": [
    "p.table['angle'] = 0.000\n",
    "for pdb in p.dfl_list: #p.dfl_list\n",
    "    i = p.dfl_list.index(pdb)\n",
    "    if 'gprot_pos' in list(p.dfl[i]):\n",
    "        if pdb != p.dfl[i]['PDB'].iloc[0]:\n",
    "            print(\"dfl list and df in dfl at corr index do not match!\")\n",
    "\n",
    "        df_g1 = section_filter(p.dfl[i].copy(), chain='g', gprot_region='HN', start=30, end=53)\n",
    "        df_g2 = section_filter(p.dfl[i].copy(), chain='g', gprot_region='H5', start=3, end=23)\n",
    "\n",
    "        if len(df_r) > 0:\n",
    "            if len(df_r[df_r['gen_pos'].str.contains('\\?')])>3:\n",
    "                df_r = df_r[~df_r['gen_pos'].str.contains('\\?')]\n",
    "\n",
    "        xyz_1, mean_1 = get_coords(df_g1, False)\n",
    "        xyz_2, mean_2 = get_coords(df_g2, False)\n",
    "\n",
    "        if (xyz_1.shape[0]>6) & (xyz_2.shape[0]>6):\n",
    "            v_1 = get_helix(xyz_1-np.asarray(mean_1))  # UNDIRECTED\n",
    "            v_2 = get_helix(xyz_2-np.asarray(mean_2))\n",
    "            angle_ = angle(v_1, v_2)\n",
    "            if angle_ > 90:\n",
    "                angle_ = 180 - angle_\n",
    "            print(pdb, angle_, p.table[p.table['PDB']==pdb]['Family'].iloc[0])\n",
    "            p.table.loc[p.table['PDB']==pdb, 'angle'] = angle_"
   ]
  },
  {
   "cell_type": "code",
   "execution_count": null,
   "id": "9f8ea735",
   "metadata": {},
   "outputs": [],
   "source": [
    "small = p.table[['PDB', 'uniprot(gene)', 'Family', 'angle']].copy()\n",
    "small[(p.table['angle']>0)&(small['Family']=='Gi/o')].sort_values('uniprot(gene)').reset_index(drop=True)\\\n",
    "    .to_csv('gio_angle_hn_h5.csv')"
   ]
  },
  {
   "cell_type": "code",
   "execution_count": null,
   "id": "7a1a474b",
   "metadata": {},
   "outputs": [],
   "source": [
    "small[(p.table['angle']>0)&(small['Family']=='Gs')].sort_values('uniprot(gene)').reset_index(drop=True)\\\n",
    "    .to_csv('gs_angle_hn_h5.csv')"
   ]
  },
  {
   "cell_type": "code",
   "execution_count": null,
   "id": "efd15929",
   "metadata": {},
   "outputs": [],
   "source": [
    "small[(p.table['angle']>0)&(small['Family']=='Gq/11')].sort_values('uniprot(gene)').reset_index(drop=True)\\\n",
    "    .to_csv('gs_angle_hn_h5.csv')"
   ]
  },
  {
   "cell_type": "code",
   "execution_count": null,
   "id": "8d60c4c5",
   "metadata": {},
   "outputs": [],
   "source": [
    "p.table[p.table['angle']>0].groupby('Family').std()['angle']"
   ]
  },
  {
   "cell_type": "markdown",
   "id": "5101ee65",
   "metadata": {},
   "source": [
    "# H5 - H5 "
   ]
  },
  {
   "cell_type": "code",
   "execution_count": null,
   "id": "07f0f486",
   "metadata": {},
   "outputs": [],
   "source": [
    "p.table['angle'] = 0.000\n",
    "for pdb in p.dfl_list: #p.dfl_list\n",
    "    i = p.dfl_list.index(pdb)\n",
    "    if 'gprot_pos' in list(p.dfl[i]):\n",
    "        if pdb != p.dfl[i]['PDB'].iloc[0]:\n",
    "            print(\"dfl list and df in dfl at corr index do not match!\")\n",
    "\n",
    "        df_g1 = section_filter(p.dfl[i].copy(), chain='g', gprot_region='H5', start=3, end=13)\n",
    "        df_g2 = section_filter(p.dfl[i].copy(), chain='g', gprot_region='H5', start=13, end=24)\n",
    "        if len(df_r) > 0:\n",
    "            if len(df_r[df_r['gen_pos'].str.contains('\\?')])>3:\n",
    "                df_r = df_r[~df_r['gen_pos'].str.contains('\\?')]\n",
    "                pass\n",
    "        xyz_1, mean_1 = get_coords(df_g1, False)\n",
    "        xyz_2, mean_2 = get_coords(df_g2, False)\n",
    "\n",
    "        if (xyz_1.shape[0]>6) & (xyz_2.shape[0]>6):\n",
    "            v_1 = get_helix(xyz_1-np.asarray(mean_1))  # UNDIRECTED\n",
    "            v_2 = get_helix(xyz_2-np.asarray(mean_2))\n",
    "            angle_ = angle(v_1, v_2)\n",
    "            if angle_ > 90:\n",
    "                angle_ = 180 - angle_\n",
    "            print(pdb, angle_, p.table[p.table['PDB']==pdb]['Family'].iloc[0])\n",
    "            p.table.loc[p.table['PDB']==pdb, 'angle'] = angle_"
   ]
  },
  {
   "cell_type": "code",
   "execution_count": null,
   "id": "951c8c27",
   "metadata": {},
   "outputs": [],
   "source": [
    "small = p.table[['PDB', 'uniprot(gene)', 'Family', 'angle']].copy()\n",
    "small[(p.table['angle']>0)&(small['Family']=='Gi/o')].sort_values('uniprot(gene)').reset_index(drop=True)\\\n",
    "    .to_csv('gio_angle_h5_h5.csv')"
   ]
  },
  {
   "cell_type": "code",
   "execution_count": null,
   "id": "52021ca0",
   "metadata": {},
   "outputs": [],
   "source": [
    "small[(p.table['angle']>0)&(small['Family']=='Gs')].sort_values('uniprot(gene)').reset_index(drop=True)\\\n",
    "    .to_csv('gs_angle_h5_h5.csv')"
   ]
  },
  {
   "cell_type": "code",
   "execution_count": null,
   "id": "e604baff",
   "metadata": {},
   "outputs": [],
   "source": [
    "small[(p.table['angle']>0)&(small['Family']=='Gq/11')].sort_values('uniprot(gene)').reset_index(drop=True)\\\n",
    "    .to_csv('gq11_angle_h5_h5.csv')"
   ]
  },
  {
   "cell_type": "code",
   "execution_count": null,
   "id": "e375bcbd",
   "metadata": {},
   "outputs": [],
   "source": [
    "p.table[p.table['angle']>0].groupby('Family').std()['angle']"
   ]
  },
  {
   "cell_type": "code",
   "execution_count": null,
   "id": "e06223bb",
   "metadata": {},
   "outputs": [],
   "source": []
  },
  {
   "cell_type": "markdown",
   "id": "0ac142ba",
   "metadata": {},
   "source": [
    "# TM3 H5"
   ]
  },
  {
   "cell_type": "code",
   "execution_count": null,
   "id": "29295721",
   "metadata": {},
   "outputs": [],
   "source": [
    "p.table['angle'] = 0.000\n",
    "for pdb in p.dfl_list: #p.dfl_list\n",
    "    if 'gprot_pos' in list(p.dfl[i].columns):\n",
    "        i = p.dfl_list.index(pdb)\n",
    "        if pdb != p.dfl[i]['PDB'].iloc[0]:\n",
    "            print(\"dfl list and df in dfl at corr index do not match!\")\n",
    "\n",
    "        df_r = section_filter(p.dfl[i].copy(), chain='r', start=3.40, end=3.53)\n",
    "        df_g = section_filter(p.dfl[i].copy(), chain='g', gprot_region='H5', start=3, end=22)\n",
    "        if len(df_r) > 0:\n",
    "            if len(df_r[df_r['gen_pos'].str.contains('\\?')])>3:\n",
    "                df_r = df_r[~df_r['gen_pos'].str.contains('\\?')]\n",
    "                pass\n",
    "        xyz_r, mean_r = get_coords(df_r, False)\n",
    "        xyz_g, mean_g = get_coords(df_g, False)\n",
    "\n",
    "        if (xyz_r.shape[0]>6) & (xyz_g.shape[0]>6):\n",
    "            v_r = get_helix(xyz_r-np.asarray(mean_r))\n",
    "            v_g = get_helix(xyz_g-np.asarray(mean_g))\n",
    "            vector_r = v_r * np.mgrid[-10:10:2j][:, np.newaxis]\n",
    "            vector_g = v_g * np.mgrid[-10:10:2j][:, np.newaxis]\n",
    "\n",
    "            angle_ = angle(v_r, v_g)\n",
    "            if angle_ > 90:\n",
    "                angle_ = 180 - angle_\n",
    "            print(pdb, angle_, p.table[p.table['PDB']==pdb]['Family'].iloc[0])\n",
    "            p.table.loc[p.table['PDB']==pdb, 'angle'] = angle_"
   ]
  },
  {
   "cell_type": "code",
   "execution_count": null,
   "id": "518cf3b1",
   "metadata": {},
   "outputs": [],
   "source": [
    "small = p.table[['PDB', 'uniprot(gene)', 'Family', 'angle']].copy()\n",
    "small[(p.table['angle']>0)&(small['Family']=='Gi/o')].sort_values('uniprot(gene)').reset_index(drop=True)\\\n",
    "    .to_csv('gio_angle_tm3_h5.csv')"
   ]
  },
  {
   "cell_type": "code",
   "execution_count": null,
   "id": "46a4f8c0",
   "metadata": {},
   "outputs": [],
   "source": [
    "small[(p.table['angle']>0)&(small['Family']=='Gs')].sort_values('uniprot(gene)').reset_index(drop=True)\\\n",
    "    .to_csv('gio_angle_tm3_h5.csv')"
   ]
  },
  {
   "cell_type": "code",
   "execution_count": null,
   "id": "96a347d6",
   "metadata": {},
   "outputs": [],
   "source": [
    "small[(p.table['angle']>0)&(small['Family']=='Gq/11')].sort_values('uniprot(gene)').reset_index(drop=True)\\\n",
    "    .to_csv('gq11_angle_tm3_h5.csv')"
   ]
  },
  {
   "cell_type": "code",
   "execution_count": null,
   "id": "67f74a83",
   "metadata": {},
   "outputs": [],
   "source": [
    "p.table[p.table['angle']>0].groupby('Family').std()['angle']"
   ]
  },
  {
   "cell_type": "markdown",
   "id": "5ecbed02",
   "metadata": {},
   "source": [
    "# Comparing families"
   ]
  },
  {
   "cell_type": "markdown",
   "id": "dbe9ea3c",
   "metadata": {},
   "source": [
    "Look at differences in STDs/Means in angles and distances (or Hbonds etc)!"
   ]
  },
  {
   "cell_type": "code",
   "execution_count": null,
   "id": "e417b8cf",
   "metadata": {},
   "outputs": [],
   "source": []
  },
  {
   "cell_type": "code",
   "execution_count": null,
   "id": "14335ea6",
   "metadata": {},
   "outputs": [],
   "source": []
  },
  {
   "cell_type": "markdown",
   "id": "3f1c8798",
   "metadata": {},
   "source": [
    "# Cluster similar groups"
   ]
  },
  {
   "cell_type": "markdown",
   "id": "323a3969",
   "metadata": {},
   "source": [
    "Do (unsupervised) clusterings resemble the families? What subgroups within families could we find?"
   ]
  },
  {
   "cell_type": "code",
   "execution_count": null,
   "id": "6340baca",
   "metadata": {},
   "outputs": [],
   "source": []
  },
  {
   "cell_type": "code",
   "execution_count": null,
   "id": "23c64696",
   "metadata": {},
   "outputs": [],
   "source": []
  },
  {
   "cell_type": "code",
   "execution_count": null,
   "id": "fitted-capitol",
   "metadata": {},
   "outputs": [],
   "source": []
  },
  {
   "cell_type": "code",
   "execution_count": null,
   "id": "becoming-beauty",
   "metadata": {},
   "outputs": [],
   "source": []
  },
  {
   "cell_type": "code",
   "execution_count": null,
   "id": "turned-steam",
   "metadata": {},
   "outputs": [],
   "source": []
  }
 ],
 "metadata": {
  "kernelspec": {
   "display_name": "Python 3",
   "language": "python",
   "name": "python3"
  },
  "language_info": {
   "codemirror_mode": {
    "name": "ipython",
    "version": 3
   },
   "file_extension": ".py",
   "mimetype": "text/x-python",
   "name": "python",
   "nbconvert_exporter": "python",
   "pygments_lexer": "ipython3",
   "version": "3.8.5"
  }
 },
 "nbformat": 4,
 "nbformat_minor": 5
}
