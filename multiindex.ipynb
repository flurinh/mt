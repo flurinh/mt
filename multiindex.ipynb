{
 "cells": [
  {
   "cell_type": "code",
   "execution_count": 1,
   "id": "changing-garage",
   "metadata": {},
   "outputs": [],
   "source": [
    "import pandas as pd"
   ]
  },
  {
   "cell_type": "code",
   "execution_count": 2,
   "id": "creative-bulletin",
   "metadata": {},
   "outputs": [],
   "source": [
    "import numpy as np"
   ]
  },
  {
   "cell_type": "code",
   "execution_count": 4,
   "id": "oriented-mozambique",
   "metadata": {},
   "outputs": [],
   "source": [
    "import random"
   ]
  },
  {
   "cell_type": "code",
   "execution_count": 3,
   "id": "valid-christopher",
   "metadata": {},
   "outputs": [],
   "source": [
    "res_list = []\n",
    "atom_list = []"
   ]
  },
  {
   "cell_type": "code",
   "execution_count": 9,
   "id": "fewer-belly",
   "metadata": {},
   "outputs": [],
   "source": [
    "for i in range(3):\n",
    "    n_res = random.randint(2, 4)\n",
    "    np_res = np.random.rand(n_res, 2)\n",
    "    atom_list_ = []\n",
    "    for j in range(n_res):\n",
    "        n_atoms = random.randint(2, 4)\n",
    "        np_atoms = np.random.rand(n_atoms, 3)\n",
    "        atom_list_.append(np_atoms)\n",
    "    atom_list.append(atom_list_)\n",
    "    res_list.append(np_res)"
   ]
  },
  {
   "cell_type": "code",
   "execution_count": 11,
   "id": "furnished-investing",
   "metadata": {},
   "outputs": [
    {
     "data": {
      "text/plain": [
       "[array([[0.71758917, 0.36141282],\n",
       "        [0.00404394, 0.7486973 ],\n",
       "        [0.53978751, 0.80562807],\n",
       "        [0.02589516, 0.66498191]]),\n",
       " array([[0.02811045, 0.40084099],\n",
       "        [0.46255669, 0.1255683 ]]),\n",
       " array([[0.63510565, 0.24047437],\n",
       "        [0.6368421 , 0.31417212],\n",
       "        [0.55450334, 0.26848159]])]"
      ]
     },
     "execution_count": 11,
     "metadata": {},
     "output_type": "execute_result"
    }
   ],
   "source": [
    "res_list"
   ]
  },
  {
   "cell_type": "code",
   "execution_count": null,
   "id": "amended-princeton",
   "metadata": {},
   "outputs": [],
   "source": [
    "row = "
   ]
  }
 ],
 "metadata": {
  "kernelspec": {
   "display_name": "Python 3",
   "language": "python",
   "name": "python3"
  },
  "language_info": {
   "codemirror_mode": {
    "name": "ipython",
    "version": 3
   },
   "file_extension": ".py",
   "mimetype": "text/x-python",
   "name": "python",
   "nbconvert_exporter": "python",
   "pygments_lexer": "ipython3",
   "version": "3.7.7"
  }
 },
 "nbformat": 4,
 "nbformat_minor": 5
}
