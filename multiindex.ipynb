{
 "cells": [
  {
   "cell_type": "code",
   "execution_count": 4,
   "id": "changing-garage",
   "metadata": {},
   "outputs": [],
   "source": [
    "import pandas as pd"
   ]
  },
  {
   "cell_type": "code",
   "execution_count": 5,
   "id": "creative-bulletin",
   "metadata": {},
   "outputs": [],
   "source": [
    "import numpy as np"
   ]
  },
  {
   "cell_type": "code",
   "execution_count": 6,
   "id": "oriented-mozambique",
   "metadata": {},
   "outputs": [],
   "source": [
    "import random"
   ]
  },
  {
   "cell_type": "code",
   "execution_count": 7,
   "id": "valid-christopher",
   "metadata": {},
   "outputs": [],
   "source": [
    "res_list = []\n",
    "atom_list = []"
   ]
  },
  {
   "cell_type": "code",
   "execution_count": 8,
   "id": "fewer-belly",
   "metadata": {},
   "outputs": [],
   "source": [
    "for i in range(3):\n",
    "    n_res = random.randint(2, 4)\n",
    "    np_res = np.random.rand(n_res, 2)\n",
    "    atom_list_ = []\n",
    "    for j in range(n_res):\n",
    "        n_atoms = random.randint(2, 4)\n",
    "        np_atoms = np.random.rand(n_atoms, 3)\n",
    "        atom_list_.append(np_atoms)\n",
    "    atom_list.append(atom_list_)\n",
    "    res_list.append(np_res)"
   ]
  },
  {
   "cell_type": "code",
   "execution_count": 9,
   "id": "furnished-investing",
   "metadata": {},
   "outputs": [
    {
     "data": {
      "text/plain": [
       "[array([[0.73716146, 0.63913424],\n",
       "        [0.52313399, 0.56958927],\n",
       "        [0.25740389, 0.7682976 ]]),\n",
       " array([[0.08896128, 0.51785106],\n",
       "        [0.43245243, 0.05529543]]),\n",
       " array([[0.0187959 , 0.34609067],\n",
       "        [0.72824266, 0.35685156],\n",
       "        [0.60808002, 0.86232583]])]"
      ]
     },
     "execution_count": 9,
     "metadata": {},
     "output_type": "execute_result"
    }
   ],
   "source": [
    "res_list"
   ]
  },
  {
   "cell_type": "code",
   "execution_count": 81,
   "id": "forty-rwanda",
   "metadata": {},
   "outputs": [],
   "source": [
    "multicol1 = pd.MultiIndex.from_tuples([('Atoms', 'type'),\n",
    "                                       ('Atoms', 'x'),\n",
    "                                       ('Atoms', 'y'),\n",
    "                                       ('Atoms', 'z')])"
   ]
  },
  {
   "cell_type": "code",
   "execution_count": 82,
   "id": "temporal-riding",
   "metadata": {},
   "outputs": [],
   "source": [
    "data = [[[1, 2, 3, 4],[1, 2, 3, 4]], [[2, 4, 6, 8]]]"
   ]
  },
  {
   "cell_type": "code",
   "execution_count": 83,
   "id": "interpreted-yield",
   "metadata": {},
   "outputs": [],
   "source": [
    "for g, group in enumerate(data):\n",
    "    for r, row in enumerate(group):\n",
    "        if g+r==0:\n",
    "            np_data = np.asarray(row)\n",
    "        else:\n",
    "            np_data = np.vstack([np_data, row])"
   ]
  },
  {
   "cell_type": "code",
   "execution_count": 84,
   "id": "vietnamese-malaysia",
   "metadata": {},
   "outputs": [
    {
     "data": {
      "text/plain": [
       "array([[1, 2, 3, 4],\n",
       "       [1, 2, 3, 4],\n",
       "       [2, 4, 6, 8]])"
      ]
     },
     "execution_count": 84,
     "metadata": {},
     "output_type": "execute_result"
    }
   ],
   "source": [
    "np_data"
   ]
  },
  {
   "cell_type": "code",
   "execution_count": 209,
   "id": "sized-berlin",
   "metadata": {},
   "outputs": [],
   "source": [
    "col_names = ['A', 'B', 'C', 'D']\n",
    "multirows = [(col_names[i], j) for i, d in enumerate(data) for j, _ in enumerate(d)]"
   ]
  },
  {
   "cell_type": "code",
   "execution_count": 210,
   "id": "heavy-phoenix",
   "metadata": {},
   "outputs": [
    {
     "data": {
      "text/plain": [
       "[('A', 0), ('A', 1), ('B', 0)]"
      ]
     },
     "execution_count": 210,
     "metadata": {},
     "output_type": "execute_result"
    }
   ],
   "source": [
    "multirows"
   ]
  },
  {
   "cell_type": "code",
   "execution_count": 211,
   "id": "greek-imaging",
   "metadata": {},
   "outputs": [],
   "source": [
    "multiindx = pd.MultiIndex.from_tuples(multirows)"
   ]
  },
  {
   "cell_type": "code",
   "execution_count": 212,
   "id": "angry-metro",
   "metadata": {},
   "outputs": [
    {
     "data": {
      "text/plain": [
       "MultiIndex([('A', 0),\n",
       "            ('A', 1),\n",
       "            ('B', 0)],\n",
       "           )"
      ]
     },
     "execution_count": 212,
     "metadata": {},
     "output_type": "execute_result"
    }
   ],
   "source": [
    "multiindx"
   ]
  },
  {
   "cell_type": "code",
   "execution_count": 213,
   "id": "million-midwest",
   "metadata": {},
   "outputs": [],
   "source": [
    "df_multi = pd.DataFrame(np_data,\n",
    "                        index=multiindx,\n",
    "                        columns=multicol1)"
   ]
  },
  {
   "cell_type": "code",
   "execution_count": 214,
   "id": "ignored-distribution",
   "metadata": {},
   "outputs": [
    {
     "data": {
      "text/html": [
       "<div>\n",
       "<style scoped>\n",
       "    .dataframe tbody tr th:only-of-type {\n",
       "        vertical-align: middle;\n",
       "    }\n",
       "\n",
       "    .dataframe tbody tr th {\n",
       "        vertical-align: top;\n",
       "    }\n",
       "\n",
       "    .dataframe thead tr th {\n",
       "        text-align: left;\n",
       "    }\n",
       "</style>\n",
       "<table border=\"1\" class=\"dataframe\">\n",
       "  <thead>\n",
       "    <tr>\n",
       "      <th></th>\n",
       "      <th></th>\n",
       "      <th colspan=\"4\" halign=\"left\">Atoms</th>\n",
       "    </tr>\n",
       "    <tr>\n",
       "      <th></th>\n",
       "      <th></th>\n",
       "      <th>type</th>\n",
       "      <th>x</th>\n",
       "      <th>y</th>\n",
       "      <th>z</th>\n",
       "    </tr>\n",
       "  </thead>\n",
       "  <tbody>\n",
       "    <tr>\n",
       "      <th rowspan=\"2\" valign=\"top\">A</th>\n",
       "      <th>0</th>\n",
       "      <td>1</td>\n",
       "      <td>2</td>\n",
       "      <td>3</td>\n",
       "      <td>4</td>\n",
       "    </tr>\n",
       "    <tr>\n",
       "      <th>1</th>\n",
       "      <td>1</td>\n",
       "      <td>2</td>\n",
       "      <td>3</td>\n",
       "      <td>4</td>\n",
       "    </tr>\n",
       "    <tr>\n",
       "      <th>B</th>\n",
       "      <th>0</th>\n",
       "      <td>2</td>\n",
       "      <td>4</td>\n",
       "      <td>6</td>\n",
       "      <td>8</td>\n",
       "    </tr>\n",
       "  </tbody>\n",
       "</table>\n",
       "</div>"
      ],
      "text/plain": [
       "    Atoms         \n",
       "     type  x  y  z\n",
       "A 0     1  2  3  4\n",
       "  1     1  2  3  4\n",
       "B 0     2  4  6  8"
      ]
     },
     "execution_count": 214,
     "metadata": {},
     "output_type": "execute_result"
    }
   ],
   "source": [
    "df_multi"
   ]
  },
  {
   "cell_type": "code",
   "execution_count": 215,
   "id": "assisted-proposition",
   "metadata": {},
   "outputs": [],
   "source": [
    "import numpy as np\n",
    "import pandas as pd\n",
    "df = pd.DataFrame(np.random.randint(0,100,size=(2, 4)), columns=list('ABCD'))"
   ]
  },
  {
   "cell_type": "code",
   "execution_count": 216,
   "id": "israeli-flower",
   "metadata": {},
   "outputs": [
    {
     "data": {
      "text/html": [
       "<div>\n",
       "<style scoped>\n",
       "    .dataframe tbody tr th:only-of-type {\n",
       "        vertical-align: middle;\n",
       "    }\n",
       "\n",
       "    .dataframe tbody tr th {\n",
       "        vertical-align: top;\n",
       "    }\n",
       "\n",
       "    .dataframe thead th {\n",
       "        text-align: right;\n",
       "    }\n",
       "</style>\n",
       "<table border=\"1\" class=\"dataframe\">\n",
       "  <thead>\n",
       "    <tr style=\"text-align: right;\">\n",
       "      <th></th>\n",
       "      <th>A</th>\n",
       "      <th>B</th>\n",
       "      <th>C</th>\n",
       "      <th>D</th>\n",
       "    </tr>\n",
       "  </thead>\n",
       "  <tbody>\n",
       "    <tr>\n",
       "      <th>0</th>\n",
       "      <td>47</td>\n",
       "      <td>13</td>\n",
       "      <td>28</td>\n",
       "      <td>63</td>\n",
       "    </tr>\n",
       "    <tr>\n",
       "      <th>1</th>\n",
       "      <td>1</td>\n",
       "      <td>71</td>\n",
       "      <td>56</td>\n",
       "      <td>55</td>\n",
       "    </tr>\n",
       "  </tbody>\n",
       "</table>\n",
       "</div>"
      ],
      "text/plain": [
       "    A   B   C   D\n",
       "0  47  13  28  63\n",
       "1   1  71  56  55"
      ]
     },
     "execution_count": 216,
     "metadata": {},
     "output_type": "execute_result"
    }
   ],
   "source": [
    "df"
   ]
  },
  {
   "cell_type": "code",
   "execution_count": 219,
   "id": "selected-hollywood",
   "metadata": {},
   "outputs": [],
   "source": [
    "for i in range(len(df)):\n",
    "    A = df.iloc[i]['A']\n",
    "    df_multi.loc[(col_names[i], 0), column] = A"
   ]
  },
  {
   "cell_type": "code",
   "execution_count": 220,
   "id": "average-medication",
   "metadata": {},
   "outputs": [
    {
     "data": {
      "text/html": [
       "<div>\n",
       "<style scoped>\n",
       "    .dataframe tbody tr th:only-of-type {\n",
       "        vertical-align: middle;\n",
       "    }\n",
       "\n",
       "    .dataframe tbody tr th {\n",
       "        vertical-align: top;\n",
       "    }\n",
       "\n",
       "    .dataframe thead tr th {\n",
       "        text-align: left;\n",
       "    }\n",
       "</style>\n",
       "<table border=\"1\" class=\"dataframe\">\n",
       "  <thead>\n",
       "    <tr>\n",
       "      <th></th>\n",
       "      <th></th>\n",
       "      <th colspan=\"4\" halign=\"left\">Atoms</th>\n",
       "      <th>D</th>\n",
       "    </tr>\n",
       "    <tr>\n",
       "      <th></th>\n",
       "      <th></th>\n",
       "      <th>type</th>\n",
       "      <th>x</th>\n",
       "      <th>y</th>\n",
       "      <th>z</th>\n",
       "      <th></th>\n",
       "    </tr>\n",
       "  </thead>\n",
       "  <tbody>\n",
       "    <tr>\n",
       "      <th rowspan=\"2\" valign=\"top\">A</th>\n",
       "      <th>0</th>\n",
       "      <td>1</td>\n",
       "      <td>2</td>\n",
       "      <td>3</td>\n",
       "      <td>4</td>\n",
       "      <td>47.0</td>\n",
       "    </tr>\n",
       "    <tr>\n",
       "      <th>1</th>\n",
       "      <td>1</td>\n",
       "      <td>2</td>\n",
       "      <td>3</td>\n",
       "      <td>4</td>\n",
       "      <td>NaN</td>\n",
       "    </tr>\n",
       "    <tr>\n",
       "      <th>B</th>\n",
       "      <th>0</th>\n",
       "      <td>2</td>\n",
       "      <td>4</td>\n",
       "      <td>6</td>\n",
       "      <td>8</td>\n",
       "      <td>1.0</td>\n",
       "    </tr>\n",
       "  </tbody>\n",
       "</table>\n",
       "</div>"
      ],
      "text/plain": [
       "    Atoms              D\n",
       "     type  x  y  z      \n",
       "A 0     1  2  3  4  47.0\n",
       "  1     1  2  3  4   NaN\n",
       "B 0     2  4  6  8   1.0"
      ]
     },
     "execution_count": 220,
     "metadata": {},
     "output_type": "execute_result"
    }
   ],
   "source": [
    "df_multi"
   ]
  },
  {
   "cell_type": "code",
   "execution_count": 197,
   "id": "mathematical-scholarship",
   "metadata": {},
   "outputs": [
    {
     "data": {
      "text/html": [
       "<div>\n",
       "<style scoped>\n",
       "    .dataframe tbody tr th:only-of-type {\n",
       "        vertical-align: middle;\n",
       "    }\n",
       "\n",
       "    .dataframe tbody tr th {\n",
       "        vertical-align: top;\n",
       "    }\n",
       "\n",
       "    .dataframe thead tr th {\n",
       "        text-align: left;\n",
       "    }\n",
       "</style>\n",
       "<table border=\"1\" class=\"dataframe\">\n",
       "  <thead>\n",
       "    <tr>\n",
       "      <th></th>\n",
       "      <th>level_0</th>\n",
       "      <th>level_1</th>\n",
       "      <th colspan=\"4\" halign=\"left\">Atoms</th>\n",
       "      <th>D</th>\n",
       "    </tr>\n",
       "    <tr>\n",
       "      <th></th>\n",
       "      <th></th>\n",
       "      <th></th>\n",
       "      <th>type</th>\n",
       "      <th>x</th>\n",
       "      <th>y</th>\n",
       "      <th>z</th>\n",
       "      <th></th>\n",
       "    </tr>\n",
       "  </thead>\n",
       "  <tbody>\n",
       "    <tr>\n",
       "      <th>0</th>\n",
       "      <td>0</td>\n",
       "      <td>0</td>\n",
       "      <td>1</td>\n",
       "      <td>2</td>\n",
       "      <td>3</td>\n",
       "      <td>4</td>\n",
       "      <td>30.0</td>\n",
       "    </tr>\n",
       "    <tr>\n",
       "      <th>1</th>\n",
       "      <td>0</td>\n",
       "      <td>1</td>\n",
       "      <td>1</td>\n",
       "      <td>2</td>\n",
       "      <td>3</td>\n",
       "      <td>4</td>\n",
       "      <td>NaN</td>\n",
       "    </tr>\n",
       "    <tr>\n",
       "      <th>2</th>\n",
       "      <td>1</td>\n",
       "      <td>0</td>\n",
       "      <td>2</td>\n",
       "      <td>4</td>\n",
       "      <td>6</td>\n",
       "      <td>8</td>\n",
       "      <td>39.0</td>\n",
       "    </tr>\n",
       "  </tbody>\n",
       "</table>\n",
       "</div>"
      ],
      "text/plain": [
       "  level_0 level_1 Atoms              D\n",
       "                   type  x  y  z      \n",
       "0       0       0     1  2  3  4  30.0\n",
       "1       0       1     1  2  3  4   NaN\n",
       "2       1       0     2  4  6  8  39.0"
      ]
     },
     "execution_count": 197,
     "metadata": {},
     "output_type": "execute_result"
    }
   ],
   "source": [
    "df_multi.reset_index()"
   ]
  },
  {
   "cell_type": "code",
   "execution_count": null,
   "id": "signed-mapping",
   "metadata": {},
   "outputs": [],
   "source": []
  }
 ],
 "metadata": {
  "kernelspec": {
   "display_name": "Python 3",
   "language": "python",
   "name": "python3"
  },
  "language_info": {
   "codemirror_mode": {
    "name": "ipython",
    "version": 3
   },
   "file_extension": ".py",
   "mimetype": "text/x-python",
   "name": "python",
   "nbconvert_exporter": "python",
   "pygments_lexer": "ipython3",
   "version": "3.8.5"
  }
 },
 "nbformat": 4,
 "nbformat_minor": 5
}
