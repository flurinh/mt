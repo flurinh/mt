{
 "cells": [
  {
   "cell_type": "code",
   "execution_count": 1,
   "id": "74dbb30a",
   "metadata": {},
   "outputs": [],
   "source": [
    "from processing.utils import *\n",
    "from processing.utils2 import *\n",
    "from processing.utils3 import *\n",
    "from processing.gpcrdb_soup import *\n",
    "from processing.download import *\n",
    "from processing.processor import *\n",
    "from processing.df_to_cif import *\n",
    "from processing.bondtypes import *\n",
    "from processing.affinities import *\n",
    "from analysis.analysis import *\n",
    "from neuralnet.delta_net import *\n",
    "from neuralnet.egnn_sparse import *\n",
    "from neuralnet.net_utils import *\n",
    "from neuralnet.h5_net import *\n",
    "\n",
    "\n",
    "from torch_geometric.data import Data\n",
    "from torch.utils.data import Dataset, DataLoader\n",
    "import numpy as np\n",
    "import torch\n",
    "from scipy.spatial.distance import cdist, pdist\n",
    "from tqdm import trange"
   ]
  },
  {
   "cell_type": "code",
   "execution_count": null,
   "id": "7bddcbca",
   "metadata": {},
   "outputs": [],
   "source": []
  },
  {
   "cell_type": "code",
   "execution_count": null,
   "id": "746e3944",
   "metadata": {},
   "outputs": [],
   "source": []
  },
  {
   "cell_type": "code",
   "execution_count": 2,
   "id": "1644f51f",
   "metadata": {},
   "outputs": [],
   "source": [
    "# Filtering etc is done with the processor!"
   ]
  },
  {
   "cell_type": "code",
   "execution_count": 3,
   "id": "d9f7bb6c",
   "metadata": {},
   "outputs": [],
   "source": [
    "p = CifProcessor()"
   ]
  },
  {
   "cell_type": "code",
   "execution_count": 4,
   "id": "b67d17c5",
   "metadata": {},
   "outputs": [],
   "source": [
    "p.read_pkl_metainfo()"
   ]
  },
  {
   "cell_type": "code",
   "execution_count": 5,
   "id": "077bf011",
   "metadata": {},
   "outputs": [
    {
     "data": {
      "text/html": [
       "<div>\n",
       "<style scoped>\n",
       "    .dataframe tbody tr th:only-of-type {\n",
       "        vertical-align: middle;\n",
       "    }\n",
       "\n",
       "    .dataframe tbody tr th {\n",
       "        vertical-align: top;\n",
       "    }\n",
       "\n",
       "    .dataframe thead th {\n",
       "        text-align: right;\n",
       "    }\n",
       "</style>\n",
       "<table border=\"1\" class=\"dataframe\">\n",
       "  <thead>\n",
       "    <tr style=\"text-align: right;\">\n",
       "      <th></th>\n",
       "      <th>uniprot(gene)</th>\n",
       "      <th>receptor family</th>\n",
       "      <th>Cl.</th>\n",
       "      <th>Species</th>\n",
       "      <th>Method</th>\n",
       "      <th>PDB</th>\n",
       "      <th>Resolution</th>\n",
       "      <th>Preferred Chain</th>\n",
       "      <th>State</th>\n",
       "      <th>Degree active %</th>\n",
       "      <th>Family</th>\n",
       "      <th>Subtype</th>\n",
       "      <th>Function</th>\n",
       "    </tr>\n",
       "  </thead>\n",
       "  <tbody>\n",
       "    <tr>\n",
       "      <th>0</th>\n",
       "      <td>STE2</td>\n",
       "      <td>STE2</td>\n",
       "      <td>D1(Ste2-likefungalpheromone)</td>\n",
       "      <td>strainATCC204508/S288c</td>\n",
       "      <td>cryo-EM</td>\n",
       "      <td>7AD3</td>\n",
       "      <td>3.5</td>\n",
       "      <td>A</td>\n",
       "      <td>Active</td>\n",
       "      <td>-</td>\n",
       "      <td>GPa1family</td>\n",
       "      <td>αPa1</td>\n",
       "      <td>Agonist</td>\n",
       "    </tr>\n",
       "    <tr>\n",
       "      <th>1</th>\n",
       "      <td>5HT1B</td>\n",
       "      <td>5-Hydroxytryptamine</td>\n",
       "      <td>A(Rhodopsin)</td>\n",
       "      <td>Human</td>\n",
       "      <td>cryo-EM</td>\n",
       "      <td>6G79</td>\n",
       "      <td>3.8</td>\n",
       "      <td>S</td>\n",
       "      <td>Active</td>\n",
       "      <td>100</td>\n",
       "      <td>Gi/o</td>\n",
       "      <td>αo</td>\n",
       "      <td>Agonist</td>\n",
       "    </tr>\n",
       "    <tr>\n",
       "      <th>2</th>\n",
       "      <td>CCR2</td>\n",
       "      <td>Chemokine</td>\n",
       "      <td>A(Rhodopsin)</td>\n",
       "      <td>Human</td>\n",
       "      <td>X-ray</td>\n",
       "      <td>5T1A</td>\n",
       "      <td>2.8</td>\n",
       "      <td>A</td>\n",
       "      <td>Inactive</td>\n",
       "      <td>31</td>\n",
       "      <td>-</td>\n",
       "      <td>-</td>\n",
       "      <td>AllostericantagonistAntagonist</td>\n",
       "    </tr>\n",
       "    <tr>\n",
       "      <th>3</th>\n",
       "      <td>OPRM</td>\n",
       "      <td>Opioid</td>\n",
       "      <td>A(Rhodopsin)</td>\n",
       "      <td>Mouse</td>\n",
       "      <td>X-ray</td>\n",
       "      <td>4DKL</td>\n",
       "      <td>2.8</td>\n",
       "      <td>A</td>\n",
       "      <td>Inactive</td>\n",
       "      <td>7</td>\n",
       "      <td>-</td>\n",
       "      <td>-</td>\n",
       "      <td>Antagonist</td>\n",
       "    </tr>\n",
       "    <tr>\n",
       "      <th>4</th>\n",
       "      <td>CALRL</td>\n",
       "      <td>Calcitonin</td>\n",
       "      <td>B1(Secretin)</td>\n",
       "      <td>Human</td>\n",
       "      <td>cryo-EM</td>\n",
       "      <td>7KNT</td>\n",
       "      <td>3.2</td>\n",
       "      <td>R</td>\n",
       "      <td>Inactive</td>\n",
       "      <td>10</td>\n",
       "      <td>-</td>\n",
       "      <td>-</td>\n",
       "      <td>Apo(noligand)</td>\n",
       "    </tr>\n",
       "    <tr>\n",
       "      <th>...</th>\n",
       "      <td>...</td>\n",
       "      <td>...</td>\n",
       "      <td>...</td>\n",
       "      <td>...</td>\n",
       "      <td>...</td>\n",
       "      <td>...</td>\n",
       "      <td>...</td>\n",
       "      <td>...</td>\n",
       "      <td>...</td>\n",
       "      <td>...</td>\n",
       "      <td>...</td>\n",
       "      <td>...</td>\n",
       "      <td>...</td>\n",
       "    </tr>\n",
       "    <tr>\n",
       "      <th>540</th>\n",
       "      <td>PE2R4</td>\n",
       "      <td>Prostanoid</td>\n",
       "      <td>A(Rhodopsin)</td>\n",
       "      <td>Human</td>\n",
       "      <td>cryo-EM</td>\n",
       "      <td>7D7M</td>\n",
       "      <td>3.3</td>\n",
       "      <td>A</td>\n",
       "      <td>Active</td>\n",
       "      <td>100</td>\n",
       "      <td>Gs</td>\n",
       "      <td>αs</td>\n",
       "      <td>Agonist</td>\n",
       "    </tr>\n",
       "    <tr>\n",
       "      <th>541</th>\n",
       "      <td>5HT1B</td>\n",
       "      <td>5-Hydroxytryptamine</td>\n",
       "      <td>A(Rhodopsin)</td>\n",
       "      <td>Human</td>\n",
       "      <td>X-ray</td>\n",
       "      <td>5V54</td>\n",
       "      <td>3.9</td>\n",
       "      <td>A</td>\n",
       "      <td>Inactive</td>\n",
       "      <td>24</td>\n",
       "      <td>-</td>\n",
       "      <td>-</td>\n",
       "      <td>Antagonist</td>\n",
       "    </tr>\n",
       "    <tr>\n",
       "      <th>542</th>\n",
       "      <td>NTR1</td>\n",
       "      <td>Neurotensin</td>\n",
       "      <td>A(Rhodopsin)</td>\n",
       "      <td>Rat</td>\n",
       "      <td>cryo-EM</td>\n",
       "      <td>7L0S</td>\n",
       "      <td>4.5</td>\n",
       "      <td>C</td>\n",
       "      <td>Active</td>\n",
       "      <td>100</td>\n",
       "      <td>Gi/o</td>\n",
       "      <td>αi1</td>\n",
       "      <td>Agonist</td>\n",
       "    </tr>\n",
       "    <tr>\n",
       "      <th>543</th>\n",
       "      <td>AA2AR</td>\n",
       "      <td>Adenosine</td>\n",
       "      <td>A(Rhodopsin)</td>\n",
       "      <td>Human</td>\n",
       "      <td>X-ray</td>\n",
       "      <td>6S0Q</td>\n",
       "      <td>2.7</td>\n",
       "      <td>A</td>\n",
       "      <td>Inactive</td>\n",
       "      <td>0</td>\n",
       "      <td>-</td>\n",
       "      <td>-</td>\n",
       "      <td>Antagonist</td>\n",
       "    </tr>\n",
       "    <tr>\n",
       "      <th>544</th>\n",
       "      <td>NTR1</td>\n",
       "      <td>Neurotensin</td>\n",
       "      <td>A(Rhodopsin)</td>\n",
       "      <td>Rat</td>\n",
       "      <td>cryo-EM</td>\n",
       "      <td>7L0Q</td>\n",
       "      <td>4.3</td>\n",
       "      <td>C</td>\n",
       "      <td>Active</td>\n",
       "      <td>100</td>\n",
       "      <td>Gi/o</td>\n",
       "      <td>αi1</td>\n",
       "      <td>Agonist</td>\n",
       "    </tr>\n",
       "  </tbody>\n",
       "</table>\n",
       "<p>545 rows × 13 columns</p>\n",
       "</div>"
      ],
      "text/plain": [
       "    uniprot(gene)      receptor family                           Cl.  \\\n",
       "0            STE2                 STE2  D1(Ste2-likefungalpheromone)   \n",
       "1           5HT1B  5-Hydroxytryptamine                  A(Rhodopsin)   \n",
       "2            CCR2            Chemokine                  A(Rhodopsin)   \n",
       "3            OPRM               Opioid                  A(Rhodopsin)   \n",
       "4           CALRL           Calcitonin                  B1(Secretin)   \n",
       "..            ...                  ...                           ...   \n",
       "540         PE2R4           Prostanoid                  A(Rhodopsin)   \n",
       "541         5HT1B  5-Hydroxytryptamine                  A(Rhodopsin)   \n",
       "542          NTR1          Neurotensin                  A(Rhodopsin)   \n",
       "543         AA2AR            Adenosine                  A(Rhodopsin)   \n",
       "544          NTR1          Neurotensin                  A(Rhodopsin)   \n",
       "\n",
       "                    Species   Method   PDB  Resolution Preferred Chain  \\\n",
       "0    strainATCC204508/S288c  cryo-EM  7AD3         3.5               A   \n",
       "1                     Human  cryo-EM  6G79         3.8               S   \n",
       "2                     Human    X-ray  5T1A         2.8               A   \n",
       "3                     Mouse    X-ray  4DKL         2.8               A   \n",
       "4                     Human  cryo-EM  7KNT         3.2               R   \n",
       "..                      ...      ...   ...         ...             ...   \n",
       "540                   Human  cryo-EM  7D7M         3.3               A   \n",
       "541                   Human    X-ray  5V54         3.9               A   \n",
       "542                     Rat  cryo-EM  7L0S         4.5               C   \n",
       "543                   Human    X-ray  6S0Q         2.7               A   \n",
       "544                     Rat  cryo-EM  7L0Q         4.3               C   \n",
       "\n",
       "        State Degree active %      Family Subtype  \\\n",
       "0      Active               -  GPa1family    αPa1   \n",
       "1      Active             100        Gi/o      αo   \n",
       "2    Inactive              31           -       -   \n",
       "3    Inactive               7           -       -   \n",
       "4    Inactive              10           -       -   \n",
       "..        ...             ...         ...     ...   \n",
       "540    Active             100          Gs      αs   \n",
       "541  Inactive              24           -       -   \n",
       "542    Active             100        Gi/o     αi1   \n",
       "543  Inactive               0           -       -   \n",
       "544    Active             100        Gi/o     αi1   \n",
       "\n",
       "                           Function  \n",
       "0                           Agonist  \n",
       "1                           Agonist  \n",
       "2    AllostericantagonistAntagonist  \n",
       "3                        Antagonist  \n",
       "4                     Apo(noligand)  \n",
       "..                              ...  \n",
       "540                         Agonist  \n",
       "541                      Antagonist  \n",
       "542                         Agonist  \n",
       "543                      Antagonist  \n",
       "544                         Agonist  \n",
       "\n",
       "[545 rows x 13 columns]"
      ]
     },
     "execution_count": 5,
     "metadata": {},
     "output_type": "execute_result"
    }
   ],
   "source": [
    "p.table"
   ]
  },
  {
   "cell_type": "code",
   "execution_count": 6,
   "id": "018af590",
   "metadata": {},
   "outputs": [
    {
     "name": "stderr",
     "output_type": "stream",
     "text": [
      "\r",
      "  0%|                                                                                                                                                                                                             | 0/545 [00:00<?, ?it/s]"
     ]
    },
    {
     "name": "stdout",
     "output_type": "stream",
     "text": [
      "Reading files with generic numbers on receptors.\n"
     ]
    },
    {
     "name": "stderr",
     "output_type": "stream",
     "text": [
      "100%|███████████████████████████████████████████████████████████████████████████████████████████████████████████████████████████████████████████████████████████████████████████████████████████████████| 545/545 [01:51<00:00,  4.87it/s]\n"
     ]
    }
   ],
   "source": [
    "p.read_pkl(mode='r', folder='data/processed/')"
   ]
  },
  {
   "cell_type": "code",
   "execution_count": 7,
   "id": "8945205f",
   "metadata": {},
   "outputs": [
    {
     "data": {
      "text/html": [
       "<div>\n",
       "<style scoped>\n",
       "    .dataframe tbody tr th:only-of-type {\n",
       "        vertical-align: middle;\n",
       "    }\n",
       "\n",
       "    .dataframe tbody tr th {\n",
       "        vertical-align: top;\n",
       "    }\n",
       "\n",
       "    .dataframe thead th {\n",
       "        text-align: right;\n",
       "    }\n",
       "</style>\n",
       "<table border=\"1\" class=\"dataframe\">\n",
       "  <thead>\n",
       "    <tr style=\"text-align: right;\">\n",
       "      <th></th>\n",
       "      <th>PDB</th>\n",
       "      <th>group_PDB</th>\n",
       "      <th>auth_asym_id</th>\n",
       "      <th>label_asym_id</th>\n",
       "      <th>label_seq_id</th>\n",
       "      <th>auth_seq_id</th>\n",
       "      <th>label_comp_id</th>\n",
       "      <th>id</th>\n",
       "      <th>label_atom_id</th>\n",
       "      <th>type_symbol</th>\n",
       "      <th>Cartn_x</th>\n",
       "      <th>Cartn_y</th>\n",
       "      <th>Cartn_z</th>\n",
       "      <th>phi</th>\n",
       "      <th>omega</th>\n",
       "      <th>psi</th>\n",
       "      <th>identifier</th>\n",
       "      <th>label_comp_sid</th>\n",
       "    </tr>\n",
       "  </thead>\n",
       "  <tbody>\n",
       "    <tr>\n",
       "      <th>0</th>\n",
       "      <td>1F88</td>\n",
       "      <td>ATOM</td>\n",
       "      <td>A</td>\n",
       "      <td>A</td>\n",
       "      <td>1</td>\n",
       "      <td>1</td>\n",
       "      <td>MET</td>\n",
       "      <td>1</td>\n",
       "      <td>N</td>\n",
       "      <td>N</td>\n",
       "      <td>43.958</td>\n",
       "      <td>-5.980</td>\n",
       "      <td>-27.758</td>\n",
       "      <td>NaN</td>\n",
       "      <td>-179.718577</td>\n",
       "      <td>133.146625</td>\n",
       "      <td>OPSD_BOVIN</td>\n",
       "      <td>M</td>\n",
       "    </tr>\n",
       "    <tr>\n",
       "      <th>1</th>\n",
       "      <td>1F88</td>\n",
       "      <td>ATOM</td>\n",
       "      <td>A</td>\n",
       "      <td>A</td>\n",
       "      <td>1</td>\n",
       "      <td>1</td>\n",
       "      <td>MET</td>\n",
       "      <td>2</td>\n",
       "      <td>CA</td>\n",
       "      <td>C</td>\n",
       "      <td>44.718</td>\n",
       "      <td>-5.054</td>\n",
       "      <td>-26.911</td>\n",
       "      <td>NaN</td>\n",
       "      <td>-179.718577</td>\n",
       "      <td>133.146625</td>\n",
       "      <td>OPSD_BOVIN</td>\n",
       "      <td>M</td>\n",
       "    </tr>\n",
       "    <tr>\n",
       "      <th>2</th>\n",
       "      <td>1F88</td>\n",
       "      <td>ATOM</td>\n",
       "      <td>A</td>\n",
       "      <td>A</td>\n",
       "      <td>1</td>\n",
       "      <td>1</td>\n",
       "      <td>MET</td>\n",
       "      <td>3</td>\n",
       "      <td>C</td>\n",
       "      <td>C</td>\n",
       "      <td>44.069</td>\n",
       "      <td>-4.848</td>\n",
       "      <td>-25.543</td>\n",
       "      <td>NaN</td>\n",
       "      <td>-179.718577</td>\n",
       "      <td>133.146625</td>\n",
       "      <td>OPSD_BOVIN</td>\n",
       "      <td>M</td>\n",
       "    </tr>\n",
       "    <tr>\n",
       "      <th>3</th>\n",
       "      <td>1F88</td>\n",
       "      <td>ATOM</td>\n",
       "      <td>A</td>\n",
       "      <td>A</td>\n",
       "      <td>1</td>\n",
       "      <td>1</td>\n",
       "      <td>MET</td>\n",
       "      <td>4</td>\n",
       "      <td>O</td>\n",
       "      <td>O</td>\n",
       "      <td>42.854</td>\n",
       "      <td>-4.618</td>\n",
       "      <td>-25.451</td>\n",
       "      <td>NaN</td>\n",
       "      <td>-179.718577</td>\n",
       "      <td>133.146625</td>\n",
       "      <td>OPSD_BOVIN</td>\n",
       "      <td>M</td>\n",
       "    </tr>\n",
       "    <tr>\n",
       "      <th>4</th>\n",
       "      <td>1F88</td>\n",
       "      <td>ATOM</td>\n",
       "      <td>A</td>\n",
       "      <td>A</td>\n",
       "      <td>1</td>\n",
       "      <td>1</td>\n",
       "      <td>MET</td>\n",
       "      <td>5</td>\n",
       "      <td>CB</td>\n",
       "      <td>C</td>\n",
       "      <td>44.868</td>\n",
       "      <td>-3.699</td>\n",
       "      <td>-27.610</td>\n",
       "      <td>NaN</td>\n",
       "      <td>-179.718577</td>\n",
       "      <td>133.146625</td>\n",
       "      <td>OPSD_BOVIN</td>\n",
       "      <td>M</td>\n",
       "    </tr>\n",
       "    <tr>\n",
       "      <th>...</th>\n",
       "      <td>...</td>\n",
       "      <td>...</td>\n",
       "      <td>...</td>\n",
       "      <td>...</td>\n",
       "      <td>...</td>\n",
       "      <td>...</td>\n",
       "      <td>...</td>\n",
       "      <td>...</td>\n",
       "      <td>...</td>\n",
       "      <td>...</td>\n",
       "      <td>...</td>\n",
       "      <td>...</td>\n",
       "      <td>...</td>\n",
       "      <td>...</td>\n",
       "      <td>...</td>\n",
       "      <td>...</td>\n",
       "      <td>...</td>\n",
       "      <td>...</td>\n",
       "    </tr>\n",
       "    <tr>\n",
       "      <th>5062</th>\n",
       "      <td>1F88</td>\n",
       "      <td>ATOM</td>\n",
       "      <td>B</td>\n",
       "      <td>B</td>\n",
       "      <td>326</td>\n",
       "      <td>326</td>\n",
       "      <td>ASN</td>\n",
       "      <td>5063</td>\n",
       "      <td>O</td>\n",
       "      <td>O</td>\n",
       "      <td>33.779</td>\n",
       "      <td>28.612</td>\n",
       "      <td>-8.893</td>\n",
       "      <td>-55.581159</td>\n",
       "      <td>NaN</td>\n",
       "      <td>NaN</td>\n",
       "      <td>OPSD_BOVIN</td>\n",
       "      <td>N</td>\n",
       "    </tr>\n",
       "    <tr>\n",
       "      <th>5063</th>\n",
       "      <td>1F88</td>\n",
       "      <td>ATOM</td>\n",
       "      <td>B</td>\n",
       "      <td>B</td>\n",
       "      <td>326</td>\n",
       "      <td>326</td>\n",
       "      <td>ASN</td>\n",
       "      <td>5064</td>\n",
       "      <td>CB</td>\n",
       "      <td>C</td>\n",
       "      <td>31.698</td>\n",
       "      <td>31.250</td>\n",
       "      <td>-9.128</td>\n",
       "      <td>-55.581159</td>\n",
       "      <td>NaN</td>\n",
       "      <td>NaN</td>\n",
       "      <td>OPSD_BOVIN</td>\n",
       "      <td>N</td>\n",
       "    </tr>\n",
       "    <tr>\n",
       "      <th>5064</th>\n",
       "      <td>1F88</td>\n",
       "      <td>ATOM</td>\n",
       "      <td>B</td>\n",
       "      <td>B</td>\n",
       "      <td>326</td>\n",
       "      <td>326</td>\n",
       "      <td>ASN</td>\n",
       "      <td>5065</td>\n",
       "      <td>CG</td>\n",
       "      <td>C</td>\n",
       "      <td>31.032</td>\n",
       "      <td>32.204</td>\n",
       "      <td>-8.133</td>\n",
       "      <td>-55.581159</td>\n",
       "      <td>NaN</td>\n",
       "      <td>NaN</td>\n",
       "      <td>OPSD_BOVIN</td>\n",
       "      <td>N</td>\n",
       "    </tr>\n",
       "    <tr>\n",
       "      <th>5065</th>\n",
       "      <td>1F88</td>\n",
       "      <td>ATOM</td>\n",
       "      <td>B</td>\n",
       "      <td>B</td>\n",
       "      <td>326</td>\n",
       "      <td>326</td>\n",
       "      <td>ASN</td>\n",
       "      <td>5066</td>\n",
       "      <td>OD1</td>\n",
       "      <td>O</td>\n",
       "      <td>30.599</td>\n",
       "      <td>31.795</td>\n",
       "      <td>-7.049</td>\n",
       "      <td>-55.581159</td>\n",
       "      <td>NaN</td>\n",
       "      <td>NaN</td>\n",
       "      <td>OPSD_BOVIN</td>\n",
       "      <td>N</td>\n",
       "    </tr>\n",
       "    <tr>\n",
       "      <th>5066</th>\n",
       "      <td>1F88</td>\n",
       "      <td>ATOM</td>\n",
       "      <td>B</td>\n",
       "      <td>B</td>\n",
       "      <td>326</td>\n",
       "      <td>326</td>\n",
       "      <td>ASN</td>\n",
       "      <td>5067</td>\n",
       "      <td>ND2</td>\n",
       "      <td>N</td>\n",
       "      <td>30.914</td>\n",
       "      <td>33.473</td>\n",
       "      <td>-8.519</td>\n",
       "      <td>-55.581159</td>\n",
       "      <td>NaN</td>\n",
       "      <td>NaN</td>\n",
       "      <td>OPSD_BOVIN</td>\n",
       "      <td>N</td>\n",
       "    </tr>\n",
       "  </tbody>\n",
       "</table>\n",
       "<p>5067 rows × 18 columns</p>\n",
       "</div>"
      ],
      "text/plain": [
       "       PDB group_PDB auth_asym_id label_asym_id  label_seq_id auth_seq_id  \\\n",
       "0     1F88      ATOM            A             A             1           1   \n",
       "1     1F88      ATOM            A             A             1           1   \n",
       "2     1F88      ATOM            A             A             1           1   \n",
       "3     1F88      ATOM            A             A             1           1   \n",
       "4     1F88      ATOM            A             A             1           1   \n",
       "...    ...       ...          ...           ...           ...         ...   \n",
       "5062  1F88      ATOM            B             B           326         326   \n",
       "5063  1F88      ATOM            B             B           326         326   \n",
       "5064  1F88      ATOM            B             B           326         326   \n",
       "5065  1F88      ATOM            B             B           326         326   \n",
       "5066  1F88      ATOM            B             B           326         326   \n",
       "\n",
       "     label_comp_id    id label_atom_id type_symbol Cartn_x Cartn_y  Cartn_z  \\\n",
       "0              MET     1             N           N  43.958  -5.980  -27.758   \n",
       "1              MET     2            CA           C  44.718  -5.054  -26.911   \n",
       "2              MET     3             C           C  44.069  -4.848  -25.543   \n",
       "3              MET     4             O           O  42.854  -4.618  -25.451   \n",
       "4              MET     5            CB           C  44.868  -3.699  -27.610   \n",
       "...            ...   ...           ...         ...     ...     ...      ...   \n",
       "5062           ASN  5063             O           O  33.779  28.612   -8.893   \n",
       "5063           ASN  5064            CB           C  31.698  31.250   -9.128   \n",
       "5064           ASN  5065            CG           C  31.032  32.204   -8.133   \n",
       "5065           ASN  5066           OD1           O  30.599  31.795   -7.049   \n",
       "5066           ASN  5067           ND2           N  30.914  33.473   -8.519   \n",
       "\n",
       "            phi       omega         psi  identifier label_comp_sid  \n",
       "0           NaN -179.718577  133.146625  OPSD_BOVIN              M  \n",
       "1           NaN -179.718577  133.146625  OPSD_BOVIN              M  \n",
       "2           NaN -179.718577  133.146625  OPSD_BOVIN              M  \n",
       "3           NaN -179.718577  133.146625  OPSD_BOVIN              M  \n",
       "4           NaN -179.718577  133.146625  OPSD_BOVIN              M  \n",
       "...         ...         ...         ...         ...            ...  \n",
       "5062 -55.581159         NaN         NaN  OPSD_BOVIN              N  \n",
       "5063 -55.581159         NaN         NaN  OPSD_BOVIN              N  \n",
       "5064 -55.581159         NaN         NaN  OPSD_BOVIN              N  \n",
       "5065 -55.581159         NaN         NaN  OPSD_BOVIN              N  \n",
       "5066 -55.581159         NaN         NaN  OPSD_BOVIN              N  \n",
       "\n",
       "[5067 rows x 18 columns]"
      ]
     },
     "execution_count": 7,
     "metadata": {},
     "output_type": "execute_result"
    }
   ],
   "source": [
    "p.dfl[0]"
   ]
  },
  {
   "cell_type": "code",
   "execution_count": null,
   "id": "6693afed",
   "metadata": {},
   "outputs": [],
   "source": []
  },
  {
   "cell_type": "code",
   "execution_count": null,
   "id": "d114da9a",
   "metadata": {},
   "outputs": [],
   "source": []
  },
  {
   "cell_type": "code",
   "execution_count": null,
   "id": "3081216f",
   "metadata": {},
   "outputs": [],
   "source": []
  },
  {
   "cell_type": "code",
   "execution_count": 8,
   "id": "3abf6fc6",
   "metadata": {},
   "outputs": [
    {
     "data": {
      "text/html": [
       "<div>\n",
       "<style scoped>\n",
       "    .dataframe tbody tr th:only-of-type {\n",
       "        vertical-align: middle;\n",
       "    }\n",
       "\n",
       "    .dataframe tbody tr th {\n",
       "        vertical-align: top;\n",
       "    }\n",
       "\n",
       "    .dataframe thead th {\n",
       "        text-align: right;\n",
       "    }\n",
       "</style>\n",
       "<table border=\"1\" class=\"dataframe\">\n",
       "  <thead>\n",
       "    <tr style=\"text-align: right;\">\n",
       "      <th></th>\n",
       "      <th>H</th>\n",
       "      <th>N</th>\n",
       "      <th>C</th>\n",
       "      <th>O</th>\n",
       "      <th>S</th>\n",
       "    </tr>\n",
       "  </thead>\n",
       "  <tbody>\n",
       "    <tr>\n",
       "      <th>H</th>\n",
       "      <td>0</td>\n",
       "      <td>1</td>\n",
       "      <td>2</td>\n",
       "      <td>3</td>\n",
       "      <td>4</td>\n",
       "    </tr>\n",
       "    <tr>\n",
       "      <th>N</th>\n",
       "      <td>1</td>\n",
       "      <td>5</td>\n",
       "      <td>6</td>\n",
       "      <td>7</td>\n",
       "      <td>8</td>\n",
       "    </tr>\n",
       "    <tr>\n",
       "      <th>C</th>\n",
       "      <td>2</td>\n",
       "      <td>6</td>\n",
       "      <td>9</td>\n",
       "      <td>10</td>\n",
       "      <td>11</td>\n",
       "    </tr>\n",
       "    <tr>\n",
       "      <th>O</th>\n",
       "      <td>3</td>\n",
       "      <td>7</td>\n",
       "      <td>10</td>\n",
       "      <td>12</td>\n",
       "      <td>13</td>\n",
       "    </tr>\n",
       "    <tr>\n",
       "      <th>S</th>\n",
       "      <td>4</td>\n",
       "      <td>8</td>\n",
       "      <td>11</td>\n",
       "      <td>13</td>\n",
       "      <td>14</td>\n",
       "    </tr>\n",
       "  </tbody>\n",
       "</table>\n",
       "</div>"
      ],
      "text/plain": [
       "   H  N   C   O   S\n",
       "H  0  1   2   3   4\n",
       "N  1  5   6   7   8\n",
       "C  2  6   9  10  11\n",
       "O  3  7  10  12  13\n",
       "S  4  8  11  13  14"
      ]
     },
     "execution_count": 8,
     "metadata": {},
     "output_type": "execute_result"
    }
   ],
   "source": [
    "BOND_TYPE_DF"
   ]
  },
  {
   "cell_type": "code",
   "execution_count": 9,
   "id": "f3416000",
   "metadata": {},
   "outputs": [],
   "source": [
    "FULL_ATOM_LIST = list(p.dfl[0]['label_atom_id'].unique())"
   ]
  },
  {
   "cell_type": "code",
   "execution_count": 10,
   "id": "6212b0a9",
   "metadata": {
    "code_folding": [
     37
    ]
   },
   "outputs": [],
   "source": [
    "class GraphProcessor(Dataset):\n",
    "    def __init__(self,\n",
    "                 d: list,\n",
    "                 p: CifProcessor,\n",
    "                 label_type = 'Log(Emax/EC50)'):\n",
    "        self.d = d\n",
    "        self.p = p\n",
    "        self.allow_exception=False\n",
    "        \n",
    "        self.simplified = False\n",
    "        if 'generic_position' in list(p.dfl[0].columns):\n",
    "            self.simplified=True\n",
    "        \n",
    "        self.atom_list = FULL_ATOM_LIST\n",
    "        self.edge_criteria = ['self', 'distance']\n",
    "        self.edge_features = ['unitary', 'distance', 'EM']\n",
    "        self.node_criteria = ['H5']\n",
    "        \n",
    "        self.assign_labels(label_type=label_type)\n",
    "    \n",
    "    # ================================================================================================================\n",
    "    \n",
    "    def simplify(self):\n",
    "        if not self.simplified:\n",
    "            for i in trange(len(self.p.dfl)):\n",
    "                if self.allow_exception:\n",
    "                    try:\n",
    "                        df = self.p.dfl[i]\n",
    "                        self.p.dfl[i] = pd.DataFrame()\n",
    "                        self.p.dfl[i] = self._simplify_gen_pos(df).reset_index()\n",
    "                    except:\n",
    "                        pass\n",
    "                else:\n",
    "                    df = self.p.dfl[i]\n",
    "                    self.p.dfl[i] = pd.DataFrame()\n",
    "                    self.p.dfl[i] = self._simplify_gen_pos(df).reset_index()\n",
    "                self.simplified = True\n",
    "        else:\n",
    "            pass\n",
    "        \n",
    "    def _simplify_gen_pos(self, df):\n",
    "        def sgp(gen_pos='', gprot_pos=''):\n",
    "            if gprot_pos != '':\n",
    "                return gprot_pos\n",
    "            else:\n",
    "                return gen_pos.split('x')[0]\n",
    "        cols = list(df.columns)\n",
    "        if ('gen_pos' in cols) and ('gprot_pos' in cols):\n",
    "            df['generic_position'] = df.apply(lambda x: sgp(x.gen_pos, x.gprot_pos), axis=1)\n",
    "            df.drop(['group_PDB', 'label_seq_id', 'label_asym_id',\n",
    "                    'auth_seq_id', 'id',\n",
    "                    'phi', 'omega', 'psi', 'label_comp_id',\n",
    "                    'label_2_uni', 'gen_pos', 'gen_pos1', 'gen_pos2', 'gprot_pos',\n",
    "                    'uniprot_comp_id', 'fam_comp_id', 'uniprot_comp_sid'], axis=1, inplace=True)\n",
    "            return df\n",
    "        elif 'gen_pos' in cols:\n",
    "            df['generic_position'] = df.apply(lambda x: sgp(x.gen_pos), axis=1)\n",
    "            df.drop(['group_PDB', 'label_seq_id','label_asym_id',\n",
    "                   'auth_seq_id', 'id',\n",
    "                   'phi', 'omega', 'psi','label_comp_id',\n",
    "                   'label_2_uni', 'gen_pos', 'gen_pos1', 'gen_pos2',\n",
    "                   'uniprot_comp_sid'], axis=1, inplace=True)\n",
    "            return df\n",
    "        else:\n",
    "            df['generic_position'] = ''\n",
    "            df.drop(['group_PDB', 'label_seq_id','label_asym_id',\n",
    "                   'auth_seq_id', 'id','label_comp_id',\n",
    "                   'phi', 'omega', 'psi'], axis=1, inplace=True)   \n",
    "            return df\n",
    "        \n",
    "    # ================================================================================================================\n",
    "    \n",
    "    def assign_labels(self, label_type = 'Log(Emax/EC50)'):\n",
    "        A = AffinityProcessor(setting='families')\n",
    "        A.set_label_type(label_type)\n",
    "        A.set_group()\n",
    "        prev_len = len(self.p.table)\n",
    "        print(\"Filtering out samples with no associated affinity value...\")\n",
    "        self.p = filter_valid_pdbs_with_affinities(self.p, A)\n",
    "        print(\"Retaining {} / {} samples!\".format(len(self.p.table), prev_len))\n",
    "        label_df = make_label_df(self.p, A, label_type)\n",
    "        self.p.table = pd.merge(self.p.table, label_df, on='PDB')\n",
    "    \n",
    "    # ================================================================================================================\n",
    "    \n",
    "    def set_atom_list(self, filtered_atom_list=['CA']):\n",
    "        self.atom_list = filtered_atom_list\n",
    "        print(\"Set atom_list to {}.\".format(self.atom_list))\n",
    "    \n",
    "    def apply_atom_list_filter(self):\n",
    "        for i in range(len(self.p.dfl)):\n",
    "            p.dfl[i] = p.dfl[i][p.dfl[i]['label_atom_id'].isin(self.atom_list)]\n",
    "        print(\"Filtered p by atom_list.\")\n",
    "        \n",
    "    # ================================================================================================================\n",
    "    \n",
    "    def create_graph(self, \n",
    "                     filter_by_chain=True,\n",
    "                     gpcr=True,\n",
    "                     gprotein=True,\n",
    "                     auxilary=True,\n",
    "                     node_criteria='H5', \n",
    "                     edge_criteria='radius',\n",
    "                     h5start=13,\n",
    "                     cons_r_res=['1.50', '3.50', '7.53'],\n",
    "                     radius=12,\n",
    "                     max_edge_dist=7):\n",
    "        if node_criteria!=None:\n",
    "            self.node_criteria = node_criteria\n",
    "        self.selection = []\n",
    "        self.edges = []\n",
    "        self.edge_attrs = []\n",
    "        self.d = []\n",
    "        self.dl = []\n",
    "        for i in trange(len(self.p.dfl)):\n",
    "            # INITIALIZATION\n",
    "            df = self.p.dfl[i]\n",
    "            self._select_edge_criterion()\n",
    "            self._select_edge_features()\n",
    "            self._select_node_criterion()\n",
    "            # NODE SELECTION\n",
    "            df_idxs = self._get_selection(df,\n",
    "                                          filter_by_chain=filter_by_chain,\n",
    "                                          gpcr=gpcr,\n",
    "                                          gprotein=gprotein,\n",
    "                                          auxilary=auxilary,\n",
    "                                          h5start=h5start,\n",
    "                                          cons_r_res=cons_r_res,\n",
    "                                          radius=radius)\n",
    "            df_sele = self._filter_by_index_list(df, df_idxs)\n",
    "            if len(df_sele) > 0:\n",
    "                self.selection.append(df_sele)\n",
    "                # EDGES: LIST\n",
    "                edges = self._create_edge_list(df=df_sele, max_edge_dist=max_edge_dist)\n",
    "                self.edges.append(edges)\n",
    "                # EDGES: ATTRIBUTES\n",
    "                edge_attr = self._get_edge_features(df_sele, edges, max_edge_dist)\n",
    "                self.edge_attrs.append(edge_attr)\n",
    "                y = self._get_label(df['PDB'].iloc[0])\n",
    "                # Todo: get the node features (Z or atom-label (or both))\n",
    "                x = df_sele.apply(lambda x: RES_DICT[x.label_comp_sid], axis=1).to_numpy().astype(np.int8)\n",
    "                pos = df_sele[['Cartn_x', 'Cartn_y', 'Cartn_z']].to_numpy().astype(float)\n",
    "                self.d.append(self._get_data_object(x, edges, edge_attr, y, pos))\n",
    "                self.dl.append(df['PDB'].iloc[0])\n",
    "                print('\\n\\n\\n')\n",
    "            \n",
    "            \n",
    "    # ----------------------------------------------------------------------------------------------------------------\n",
    "    \n",
    "    def _select_edge_criterion(self, edge_criteria=[], edge_crit_dist=5):\n",
    "        if not isinstance(edge_criteria, list):\n",
    "            edge_criteria = [edge_criteria]\n",
    "        if len(edge_criteria) > 0:\n",
    "            self.edge_criteria = edge_criteria\n",
    "        print(\"Selected edge criterion:\", self.edge_criteria)\n",
    "    \n",
    "    def _select_edge_features(self, edge_features=[]):\n",
    "        if not isinstance(edge_features, list):\n",
    "            edge_features = [edge_features]\n",
    "        if len(edge_features) > 0:\n",
    "            self.edge_features = edge_features\n",
    "        print(\"Selected edge features:\", self.edge_features)\n",
    "        \n",
    "    def _select_node_criterion(self, node_criteria=[]):\n",
    "        if not isinstance(node_criteria, list):\n",
    "            node_criteria = [node_criteria]\n",
    "        if len(node_criteria) > 0:\n",
    "            self.node_criteria = node_criteria\n",
    "        print(\"Selected criterion for node selection:\", self.node_criteria)\n",
    "              \n",
    "    # ----------------------------------------------------------------------------------------------------------------\n",
    "    \n",
    "    def _get_selection(self, \n",
    "                       df: pd.DataFrame,\n",
    "                       filter_by_chain,\n",
    "                       gpcr,\n",
    "                       gprotein,\n",
    "                       auxilary,\n",
    "                       h5start,\n",
    "                       cons_r_res,\n",
    "                       radius):\n",
    "        # get a list of nodes (you can have multiple criterions met at the same time...)\n",
    "        df.reset_index(inplace=True, drop=True)\n",
    "        valid = []  # indices filtered by chain\n",
    "        idxs = []  # list of selected nodes\n",
    "        df_idxs = []  # list of selected nodes filtered by chain\n",
    "        \n",
    "        if filter_by_chain:\n",
    "            print(\"Filtering by chain!\")\n",
    "            if gpcr:\n",
    "                print(\"Adding gpcr to selection!\")\n",
    "                a = len(valid)\n",
    "                valid += self._get_gpcr(df)\n",
    "                print(\"Number valid gpcr atoms:\", len(valid)-a)\n",
    "            if gprotein:\n",
    "                print(\"Adding gprotein to selection!\")\n",
    "                a = len(valid)\n",
    "                valid += self._get_gprotein(df)\n",
    "                print(\"Number valid gprotein atoms:\", len(valid)-a)\n",
    "            if auxilary:\n",
    "                print(\"Adding auxilary chains to selection!\")\n",
    "                a = len(valid)\n",
    "                valid += self._get_auxilary(df)\n",
    "                print(\"Number valid auxilary atoms:\", len(valid)-a)\n",
    "        else:\n",
    "            valid = list(df.index)\n",
    "        valid = list(set(valid))\n",
    "        print(\"In total using {} valid atoms!\".format(len(valid)))\n",
    "        \n",
    "        if len(valid) >= 0:\n",
    "            if 'H5' in self.node_criteria:\n",
    "                print(\"Searching nodes meeting H5 criterion...\")\n",
    "                idxs += self._get_h5(df, h5start, radius)\n",
    "            if 'Interaction Surface' in self.node_criteria:\n",
    "                print(\"Searching nodes in the interaction surface...\")\n",
    "                idxs += self._get_interaction_surface(df)\n",
    "            if 'Interaction Site' in self.node_criteria:\n",
    "                print(\"Searching nodes in the interaction site...\")\n",
    "                idxs += self._get_interaction_site(df, cons_r_res=['1.50', '3.50', '7.53'], radius=radius)\n",
    "            for idx in idxs:\n",
    "                if idx in valid:\n",
    "                    df_idxs.append(idx)\n",
    "            return df_idxs\n",
    "        else:\n",
    "            print(\"No valid nodes found!\")\n",
    "            return []\n",
    "    \n",
    "    def _get_gpcr(self, df):\n",
    "        # list(df.index)\n",
    "        some_gen_pos = ['3.50', '6.50', '7.50']\n",
    "        df_sgp = df[df['generic_position'].isin(some_gen_pos)]\n",
    "        if len(df_sgp) > 0:\n",
    "            gpcr_chain = df_sgp.iloc[0]['auth_asym_id']\n",
    "            return list(df[df['auth_asym_id'].str.contains(gpcr_chain)].index)\n",
    "        else:\n",
    "            return []\n",
    "    \n",
    "    def _get_gprotein(self, df):\n",
    "        # any chain with labels that mark it as a gprotein ~ i.e. generic residue number of said chain contains 'G.'\n",
    "        df_gp = df[df['generic_position'].str.contains('G.')]\n",
    "        if len(df_gp) > 0:\n",
    "            gprot_chain = df_gp.iloc[0]['auth_asym_id']\n",
    "            return list(df[df['auth_asym_id'].str.contains(gpcr_chain)].index)\n",
    "        else:\n",
    "            return []\n",
    "        \n",
    "    def _get_auxilary(self, df):\n",
    "        # any chain with labels that mark it as a gprotein ~ i.e. generic residue number of said chain contains 'G.'\n",
    "        chain_df = df.groupby('auth_asym_id')['generic_position'].nunique()\n",
    "        chains = list(chain_df[chain_df==1].index)\n",
    "        if len(chains) > 0:\n",
    "            auxilary_df = df[df['auth_asym_id'].isin(chains)]\n",
    "            return list(auxilary_df.index)\n",
    "        else:\n",
    "            return []\n",
    "    \n",
    "    def _get_h5(self, df, h5start, h5radius):\n",
    "        # any chain with \n",
    "        print(\"Checking for nodes within H5 radius:\", h5radius)\n",
    "        strs = ['G.H5.' + str(x) for x in range(27) if ((x >= h5start) & (x <= 26))]\n",
    "        df_h5 = df[df['generic_position'].isin(strs)]\n",
    "        xyz_h5 = df_h5[['Cartn_x', 'Cartn_y', 'Cartn_z']].to_numpy().astype(float)\n",
    "        if len(xyz_h5) > 0:\n",
    "            xyz_full = df[['Cartn_x', 'Cartn_y', 'Cartn_z']].to_numpy().astype(float)\n",
    "            D = cdist(xyz_full, xyz_h5).T\n",
    "            h5_list = []\n",
    "            for p in range(D.shape[1]):\n",
    "                if np.any(D[:, p] < h5radius):\n",
    "                    h5_list.append(p)\n",
    "            return h5_list\n",
    "        else:\n",
    "            return []\n",
    "    \n",
    "    def _get_interaction_surface(self, df, max_dist=7, n_neighbor_res=2):\n",
    "        pass\n",
    "    \n",
    "    def _get_interaction_site(self, df, cons_r_res, radius):\n",
    "        print(\"getting interaction site\")\n",
    "        int_site_corners = df[df['generic_position'].isin(cons_r_res)]\n",
    "        if len(int_site_corners) == len(cons_r_res):\n",
    "            xyz_corners = int_site_corners[['Cartn_x', 'Cartn_y', 'Cartn_z']].astype(float).to_numpy().mean(axis=1)\n",
    "            xyz_full = df[['Cartn_x', 'Cartn_y', 'Cartn_z']].to_numpy().astype(float)\n",
    "            D = cdist(xyz_full, xyz_corners[None,:]).T\n",
    "            h5_list = []\n",
    "            for p in range(D.shape[1]):\n",
    "                if np.any(D[:, p] < radius):\n",
    "                    h5_list.append(p)\n",
    "            return h5_list\n",
    "        else:\n",
    "            return []\n",
    "    \n",
    "    def _filter_by_index_list(self, df, df_idxs):\n",
    "        if len(df_idxs) > 0:\n",
    "            filtered = df.loc[df.index[df_idxs]].reset_index(drop=True)\n",
    "            return filtered\n",
    "        else:\n",
    "            return pd.DataFrame()\n",
    "    \n",
    "    # ----------------------------------------------------------------------------------------------------------------\n",
    "    \n",
    "    def _create_edge_list(self, \n",
    "                          df: pd.DataFrame,\n",
    "                          max_edge_dist=7,\n",
    "                          ):\n",
    "        \"\"\"\n",
    "        Return a list of shape (2, number_of_edges)\n",
    "        \"\"\"\n",
    "        edge_list = []\n",
    "        if 'residual' in self.edge_criteria:\n",
    "            # add connection between all atoms within the same residue\n",
    "            pass\n",
    "        if 'EM' in self.edge_criteria:\n",
    "            pass\n",
    "        if 'distance' in self.edge_criteria:\n",
    "            xyz = df[['Cartn_x', 'Cartn_y', 'Cartn_z']].to_numpy().astype(float)\n",
    "            D = cdist(xyz, xyz, 'euclidean')\n",
    "            edge_dist_list = []\n",
    "            for pi in range(D.shape[0]):\n",
    "                if 'self' not in self.edge_criteria:\n",
    "                    for pj in range(D.shape[1]):\n",
    "                        D[i, i] = max_edge_dist + 1  # this removes all self interactions\n",
    "                edges = np.where(D[:, pi] <= max_edge_dist)[0].tolist()\n",
    "                for e in edges:\n",
    "                    edge_dist_list.append((pi, e))\n",
    "            edge_list += edge_dist_list\n",
    "        elif 'self' in self.edge_criteria:\n",
    "            # each node interacts with itself\n",
    "            idxs = list(df.index)\n",
    "            self_interactions = [(x, x) for x in idxs]\n",
    "            edge_list += self_interactions\n",
    "        return edge_list\n",
    "        \n",
    "        \n",
    "    def _get_em_dist(self,\n",
    "                     xyz1,\n",
    "                     z1,\n",
    "                     xyz2,\n",
    "                     z2\n",
    "                    ):\n",
    "        em_dists = []\n",
    "        # z1 * z2 / (dist^6)\n",
    "        return em_dists\n",
    "        \n",
    "    # ----------------------------------------------------------------------------------------------------------------\n",
    "        \n",
    "    def _get_edge_features(self, df, edge_list, max_edge_dist):\n",
    "        # unitary? --> 1 (for every edge)\n",
    "        edge_features = []\n",
    "        for _, (i, j) in enumerate(edge_list):\n",
    "            features = []\n",
    "            xyzi = df.iloc[i][['Cartn_x', 'Cartn_y', 'Cartn_z']].to_numpy().astype(float)\n",
    "            xyzj = df.iloc[j][['Cartn_x', 'Cartn_y', 'Cartn_z']].to_numpy().astype(float)\n",
    "            if 'unitary' in self.edge_features:\n",
    "                features += [1]\n",
    "            # distance? --> (euclidean distance)\n",
    "            if 'distance' in self.edge_features:\n",
    "                dist = np.linalg.norm(xyzi-xyzj)\n",
    "                features += [dist / max_edge_dist]\n",
    "            # EM?  --> z1 * z2 / r^6\n",
    "            if 'em' in self.edge_features:\n",
    "                # xyzi = df.iloc[i][]\n",
    "                # xyzj = df.iloc[j][]\n",
    "                features +=  [0]\n",
    "            # atom-atom-interaction as a class (that we can embed)?\n",
    "            if 'bond_embedding' in self.edge_features:\n",
    "                features += [0]\n",
    "            edge_features.append(features)\n",
    "        return edge_features\n",
    "              \n",
    "    # ----------------------------------------------------------------------------------------------------------------\n",
    "\n",
    "    def _get_label(self, pdb_id):\n",
    "        return self.p.table[self.p.table['PDB']==pdb_id].iloc[0][['Gs','Gi/o','Gq/11','G12/13']]\n",
    "              \n",
    "    # ----------------------------------------------------------------------------------------------------------------\n",
    "    \n",
    "    def __getitem__(self, idx):\n",
    "        return self.d[idx]\n",
    "    \n",
    "    def _get_data_object(self, x, edge_index, edge_attr, y, pos):\n",
    "        \"\"\"\n",
    "        Input:\n",
    "        data.x: Node feature matrix with shape [num_nodes, num_node_features]\n",
    "        data.edge_index: Graph connectivity in COO format with shape [2, num_edges] and type torch.long\n",
    "        data.edge_attr: Edge feature matrix with shape [num_edges, num_edge_features]\n",
    "        data.y: Target to train against (may have arbitrary shape), e.g., node-level targets of shape [num_nodes, *] or graph-level targets of shape [1, *]\n",
    "        data.pos: Node position matrix with shape [num_nodes, num_dimensions]\n",
    "        \"\"\"\n",
    "        x = torch.tensor(x, dtype=torch.long)\n",
    "        edge_index = torch.tensor(edge_index, dtype=torch.long)\n",
    "        edge_attr = torch.tensor(edge_attr, dtype=torch.float)\n",
    "        y = torch.tensor(y, dtype=torch.float)\n",
    "        pos = torch.tensor(pos, dtype=torch.float)\n",
    "        return Data(x=x, edge_index=edge_index.T, edge_attr=edge_attr, y=y, pos=pos)\n",
    "    \n",
    "    \n",
    "    def __getitem__(self, idx):\n",
    "        return self.d[idx]\n",
    "    \n",
    "    def __len__(self):\n",
    "        return len(self.d)\n",
    "    \n",
    "    # ================================================================================================================"
   ]
  },
  {
   "cell_type": "code",
   "execution_count": 11,
   "id": "7aa0ab4b",
   "metadata": {},
   "outputs": [],
   "source": [
    "# add gpcr/gprteotein as label"
   ]
  },
  {
   "cell_type": "code",
   "execution_count": 12,
   "id": "0c76ac65",
   "metadata": {},
   "outputs": [],
   "source": [
    "# del gp"
   ]
  },
  {
   "cell_type": "code",
   "execution_count": 13,
   "id": "8e376410",
   "metadata": {},
   "outputs": [
    {
     "name": "stdout",
     "output_type": "stream",
     "text": [
      "Reading data from data/couplings/families_coupling.xls!\n"
     ]
    },
    {
     "name": "stderr",
     "output_type": "stream",
     "text": [
      "C:\\Users\\Flurin Hidber\\Anaconda3\\envs\\mt\\lib\\site-packages\\pandas\\core\\generic.py:4147: PerformanceWarning: dropping on a non-lexsorted multi-index without a level parameter may impact performance.\n",
      "  obj = obj._drop_axis(labels, axis, level=level, errors=errors)\n"
     ]
    },
    {
     "name": "stdout",
     "output_type": "stream",
     "text": [
      "Initialized Affinity Processor!\n",
      "Please set a group --------------  ['GPCRdb', 'Inoue', 'Bouvier'].\n",
      "please set label type -----------  ['Guide to Pharmacology', 'Log(Emax/EC50)', 'pEC50', 'Emax'].\n",
      "\n",
      "Selected label type 'Log(Emax/EC50)'.\n",
      "\n",
      "\n",
      "Selected data of group 'GPCRdb'.\n",
      "\n",
      "Filtering out samples with no associated affinity value...\n",
      "Retaining 357 / 545 samples!\n"
     ]
    }
   ],
   "source": [
    "gp = GraphProcessor(d=[], p=p)"
   ]
  },
  {
   "cell_type": "code",
   "execution_count": 14,
   "id": "e09a3cdd",
   "metadata": {},
   "outputs": [
    {
     "data": {
      "text/html": [
       "<div>\n",
       "<style scoped>\n",
       "    .dataframe tbody tr th:only-of-type {\n",
       "        vertical-align: middle;\n",
       "    }\n",
       "\n",
       "    .dataframe tbody tr th {\n",
       "        vertical-align: top;\n",
       "    }\n",
       "\n",
       "    .dataframe thead th {\n",
       "        text-align: right;\n",
       "    }\n",
       "</style>\n",
       "<table border=\"1\" class=\"dataframe\">\n",
       "  <thead>\n",
       "    <tr style=\"text-align: right;\">\n",
       "      <th></th>\n",
       "      <th>uniprot(gene)</th>\n",
       "      <th>receptor family</th>\n",
       "      <th>Cl.</th>\n",
       "      <th>Species</th>\n",
       "      <th>Method</th>\n",
       "      <th>PDB</th>\n",
       "      <th>Resolution</th>\n",
       "      <th>Preferred Chain</th>\n",
       "      <th>State</th>\n",
       "      <th>Degree active %</th>\n",
       "      <th>Family</th>\n",
       "      <th>Subtype</th>\n",
       "      <th>Function</th>\n",
       "      <th>Gs</th>\n",
       "      <th>Gi/o</th>\n",
       "      <th>Gq/11</th>\n",
       "      <th>G12/13</th>\n",
       "    </tr>\n",
       "  </thead>\n",
       "  <tbody>\n",
       "    <tr>\n",
       "      <th>0</th>\n",
       "      <td>5HT1B</td>\n",
       "      <td>5-Hydroxytryptamine</td>\n",
       "      <td>A(Rhodopsin)</td>\n",
       "      <td>Human</td>\n",
       "      <td>cryo-EM</td>\n",
       "      <td>6G79</td>\n",
       "      <td>3.8</td>\n",
       "      <td>S</td>\n",
       "      <td>Active</td>\n",
       "      <td>100</td>\n",
       "      <td>Gi/o</td>\n",
       "      <td>αo</td>\n",
       "      <td>Agonist</td>\n",
       "      <td>0.0</td>\n",
       "      <td>8.9</td>\n",
       "      <td>6.7</td>\n",
       "      <td>0.0</td>\n",
       "    </tr>\n",
       "    <tr>\n",
       "      <th>1</th>\n",
       "      <td>CNR2</td>\n",
       "      <td>Cannabinoid</td>\n",
       "      <td>A(Rhodopsin)</td>\n",
       "      <td>Human</td>\n",
       "      <td>X-ray</td>\n",
       "      <td>5ZTY</td>\n",
       "      <td>2.8</td>\n",
       "      <td>A</td>\n",
       "      <td>Inactive</td>\n",
       "      <td>6</td>\n",
       "      <td>-</td>\n",
       "      <td>-</td>\n",
       "      <td>Antagonist</td>\n",
       "      <td>0.0</td>\n",
       "      <td>8.9</td>\n",
       "      <td>0.0</td>\n",
       "      <td>0.0</td>\n",
       "    </tr>\n",
       "    <tr>\n",
       "      <th>2</th>\n",
       "      <td>CXCR2</td>\n",
       "      <td>Chemokine</td>\n",
       "      <td>A(Rhodopsin)</td>\n",
       "      <td>Human</td>\n",
       "      <td>cryo-EM</td>\n",
       "      <td>6LFO</td>\n",
       "      <td>3.4</td>\n",
       "      <td>R</td>\n",
       "      <td>Active</td>\n",
       "      <td>100</td>\n",
       "      <td>Gi/o</td>\n",
       "      <td>αi1</td>\n",
       "      <td>Agonist</td>\n",
       "      <td>0.0</td>\n",
       "      <td>9.5</td>\n",
       "      <td>0.0</td>\n",
       "      <td>0.0</td>\n",
       "    </tr>\n",
       "    <tr>\n",
       "      <th>3</th>\n",
       "      <td>CXCR2</td>\n",
       "      <td>Chemokine</td>\n",
       "      <td>A(Rhodopsin)</td>\n",
       "      <td>Human</td>\n",
       "      <td>cryo-EM</td>\n",
       "      <td>6LFM</td>\n",
       "      <td>3.5</td>\n",
       "      <td>R</td>\n",
       "      <td>Active</td>\n",
       "      <td>100</td>\n",
       "      <td>Gi/o</td>\n",
       "      <td>αi1</td>\n",
       "      <td>Agonist</td>\n",
       "      <td>0.0</td>\n",
       "      <td>9.5</td>\n",
       "      <td>0.0</td>\n",
       "      <td>0.0</td>\n",
       "    </tr>\n",
       "    <tr>\n",
       "      <th>4</th>\n",
       "      <td>CXCR2</td>\n",
       "      <td>Chemokine</td>\n",
       "      <td>A(Rhodopsin)</td>\n",
       "      <td>Human</td>\n",
       "      <td>X-ray</td>\n",
       "      <td>6LFL</td>\n",
       "      <td>3.2</td>\n",
       "      <td>A</td>\n",
       "      <td>Inactive</td>\n",
       "      <td>7</td>\n",
       "      <td>-</td>\n",
       "      <td>-</td>\n",
       "      <td>Allostericantagonist</td>\n",
       "      <td>0.0</td>\n",
       "      <td>9.5</td>\n",
       "      <td>0.0</td>\n",
       "      <td>0.0</td>\n",
       "    </tr>\n",
       "    <tr>\n",
       "      <th>...</th>\n",
       "      <td>...</td>\n",
       "      <td>...</td>\n",
       "      <td>...</td>\n",
       "      <td>...</td>\n",
       "      <td>...</td>\n",
       "      <td>...</td>\n",
       "      <td>...</td>\n",
       "      <td>...</td>\n",
       "      <td>...</td>\n",
       "      <td>...</td>\n",
       "      <td>...</td>\n",
       "      <td>...</td>\n",
       "      <td>...</td>\n",
       "      <td>...</td>\n",
       "      <td>...</td>\n",
       "      <td>...</td>\n",
       "      <td>...</td>\n",
       "    </tr>\n",
       "    <tr>\n",
       "      <th>351</th>\n",
       "      <td>GNRHR</td>\n",
       "      <td>Gonadotrophin-releasinghormone</td>\n",
       "      <td>A(Rhodopsin)</td>\n",
       "      <td>Human</td>\n",
       "      <td>X-ray</td>\n",
       "      <td>7BR3</td>\n",
       "      <td>2.8</td>\n",
       "      <td>A</td>\n",
       "      <td>Inactive</td>\n",
       "      <td>24</td>\n",
       "      <td>-</td>\n",
       "      <td>-</td>\n",
       "      <td>Antagonist</td>\n",
       "      <td>0.0</td>\n",
       "      <td>8.9</td>\n",
       "      <td>9.4</td>\n",
       "      <td>0.0</td>\n",
       "    </tr>\n",
       "    <tr>\n",
       "      <th>352</th>\n",
       "      <td>GLP1R</td>\n",
       "      <td>Glucagon</td>\n",
       "      <td>B1(Secretin)</td>\n",
       "      <td>Human</td>\n",
       "      <td>cryo-EM</td>\n",
       "      <td>7LCK</td>\n",
       "      <td>3.2</td>\n",
       "      <td>R</td>\n",
       "      <td>Active</td>\n",
       "      <td>100</td>\n",
       "      <td>-</td>\n",
       "      <td>-</td>\n",
       "      <td>Agonist</td>\n",
       "      <td>10.6</td>\n",
       "      <td>0.0</td>\n",
       "      <td>0.0</td>\n",
       "      <td>0.0</td>\n",
       "    </tr>\n",
       "    <tr>\n",
       "      <th>353</th>\n",
       "      <td>PE2R4</td>\n",
       "      <td>Prostanoid</td>\n",
       "      <td>A(Rhodopsin)</td>\n",
       "      <td>Human</td>\n",
       "      <td>cryo-EM</td>\n",
       "      <td>7D7M</td>\n",
       "      <td>3.3</td>\n",
       "      <td>A</td>\n",
       "      <td>Active</td>\n",
       "      <td>100</td>\n",
       "      <td>Gs</td>\n",
       "      <td>αs</td>\n",
       "      <td>Agonist</td>\n",
       "      <td>10.4</td>\n",
       "      <td>8.9</td>\n",
       "      <td>8.7</td>\n",
       "      <td>7.4</td>\n",
       "    </tr>\n",
       "    <tr>\n",
       "      <th>354</th>\n",
       "      <td>5HT1B</td>\n",
       "      <td>5-Hydroxytryptamine</td>\n",
       "      <td>A(Rhodopsin)</td>\n",
       "      <td>Human</td>\n",
       "      <td>X-ray</td>\n",
       "      <td>5V54</td>\n",
       "      <td>3.9</td>\n",
       "      <td>A</td>\n",
       "      <td>Inactive</td>\n",
       "      <td>24</td>\n",
       "      <td>-</td>\n",
       "      <td>-</td>\n",
       "      <td>Antagonist</td>\n",
       "      <td>0.0</td>\n",
       "      <td>8.9</td>\n",
       "      <td>6.7</td>\n",
       "      <td>0.0</td>\n",
       "    </tr>\n",
       "    <tr>\n",
       "      <th>355</th>\n",
       "      <td>AA2AR</td>\n",
       "      <td>Adenosine</td>\n",
       "      <td>A(Rhodopsin)</td>\n",
       "      <td>Human</td>\n",
       "      <td>X-ray</td>\n",
       "      <td>6S0Q</td>\n",
       "      <td>2.7</td>\n",
       "      <td>A</td>\n",
       "      <td>Inactive</td>\n",
       "      <td>0</td>\n",
       "      <td>-</td>\n",
       "      <td>-</td>\n",
       "      <td>Antagonist</td>\n",
       "      <td>5.7</td>\n",
       "      <td>0.0</td>\n",
       "      <td>5.6</td>\n",
       "      <td>0.0</td>\n",
       "    </tr>\n",
       "  </tbody>\n",
       "</table>\n",
       "<p>356 rows × 17 columns</p>\n",
       "</div>"
      ],
      "text/plain": [
       "    uniprot(gene)                 receptor family           Cl. Species  \\\n",
       "0           5HT1B             5-Hydroxytryptamine  A(Rhodopsin)   Human   \n",
       "1            CNR2                     Cannabinoid  A(Rhodopsin)   Human   \n",
       "2           CXCR2                       Chemokine  A(Rhodopsin)   Human   \n",
       "3           CXCR2                       Chemokine  A(Rhodopsin)   Human   \n",
       "4           CXCR2                       Chemokine  A(Rhodopsin)   Human   \n",
       "..            ...                             ...           ...     ...   \n",
       "351         GNRHR  Gonadotrophin-releasinghormone  A(Rhodopsin)   Human   \n",
       "352         GLP1R                        Glucagon  B1(Secretin)   Human   \n",
       "353         PE2R4                      Prostanoid  A(Rhodopsin)   Human   \n",
       "354         5HT1B             5-Hydroxytryptamine  A(Rhodopsin)   Human   \n",
       "355         AA2AR                       Adenosine  A(Rhodopsin)   Human   \n",
       "\n",
       "      Method   PDB  Resolution Preferred Chain     State Degree active %  \\\n",
       "0    cryo-EM  6G79         3.8               S    Active             100   \n",
       "1      X-ray  5ZTY         2.8               A  Inactive               6   \n",
       "2    cryo-EM  6LFO         3.4               R    Active             100   \n",
       "3    cryo-EM  6LFM         3.5               R    Active             100   \n",
       "4      X-ray  6LFL         3.2               A  Inactive               7   \n",
       "..       ...   ...         ...             ...       ...             ...   \n",
       "351    X-ray  7BR3         2.8               A  Inactive              24   \n",
       "352  cryo-EM  7LCK         3.2               R    Active             100   \n",
       "353  cryo-EM  7D7M         3.3               A    Active             100   \n",
       "354    X-ray  5V54         3.9               A  Inactive              24   \n",
       "355    X-ray  6S0Q         2.7               A  Inactive               0   \n",
       "\n",
       "    Family Subtype              Function    Gs  Gi/o  Gq/11  G12/13  \n",
       "0     Gi/o      αo               Agonist   0.0   8.9    6.7     0.0  \n",
       "1        -       -            Antagonist   0.0   8.9    0.0     0.0  \n",
       "2     Gi/o     αi1               Agonist   0.0   9.5    0.0     0.0  \n",
       "3     Gi/o     αi1               Agonist   0.0   9.5    0.0     0.0  \n",
       "4        -       -  Allostericantagonist   0.0   9.5    0.0     0.0  \n",
       "..     ...     ...                   ...   ...   ...    ...     ...  \n",
       "351      -       -            Antagonist   0.0   8.9    9.4     0.0  \n",
       "352      -       -               Agonist  10.6   0.0    0.0     0.0  \n",
       "353     Gs      αs               Agonist  10.4   8.9    8.7     7.4  \n",
       "354      -       -            Antagonist   0.0   8.9    6.7     0.0  \n",
       "355      -       -            Antagonist   5.7   0.0    5.6     0.0  \n",
       "\n",
       "[356 rows x 17 columns]"
      ]
     },
     "execution_count": 14,
     "metadata": {},
     "output_type": "execute_result"
    }
   ],
   "source": [
    "gp.p.table"
   ]
  },
  {
   "cell_type": "code",
   "execution_count": 15,
   "id": "42bdde38",
   "metadata": {},
   "outputs": [
    {
     "data": {
      "text/html": [
       "<div>\n",
       "<style scoped>\n",
       "    .dataframe tbody tr th:only-of-type {\n",
       "        vertical-align: middle;\n",
       "    }\n",
       "\n",
       "    .dataframe tbody tr th {\n",
       "        vertical-align: top;\n",
       "    }\n",
       "\n",
       "    .dataframe thead th {\n",
       "        text-align: right;\n",
       "    }\n",
       "</style>\n",
       "<table border=\"1\" class=\"dataframe\">\n",
       "  <thead>\n",
       "    <tr style=\"text-align: right;\">\n",
       "      <th></th>\n",
       "      <th>PDB</th>\n",
       "      <th>group_PDB</th>\n",
       "      <th>auth_asym_id</th>\n",
       "      <th>label_asym_id</th>\n",
       "      <th>label_seq_id</th>\n",
       "      <th>auth_seq_id</th>\n",
       "      <th>label_comp_id</th>\n",
       "      <th>id</th>\n",
       "      <th>label_atom_id</th>\n",
       "      <th>type_symbol</th>\n",
       "      <th>Cartn_x</th>\n",
       "      <th>Cartn_y</th>\n",
       "      <th>Cartn_z</th>\n",
       "      <th>phi</th>\n",
       "      <th>omega</th>\n",
       "      <th>psi</th>\n",
       "      <th>identifier</th>\n",
       "      <th>label_comp_sid</th>\n",
       "    </tr>\n",
       "  </thead>\n",
       "  <tbody>\n",
       "    <tr>\n",
       "      <th>0</th>\n",
       "      <td>2R4R</td>\n",
       "      <td>ATOM</td>\n",
       "      <td>A</td>\n",
       "      <td>A</td>\n",
       "      <td>37</td>\n",
       "      <td>37</td>\n",
       "      <td>GLY</td>\n",
       "      <td>1</td>\n",
       "      <td>N</td>\n",
       "      <td>N</td>\n",
       "      <td>12.352</td>\n",
       "      <td>38.788</td>\n",
       "      <td>28.880</td>\n",
       "      <td>NaN</td>\n",
       "      <td>179.541452</td>\n",
       "      <td>-103.545862</td>\n",
       "      <td>ADRB2_HUMAN</td>\n",
       "      <td>G</td>\n",
       "    </tr>\n",
       "    <tr>\n",
       "      <th>1</th>\n",
       "      <td>2R4R</td>\n",
       "      <td>ATOM</td>\n",
       "      <td>A</td>\n",
       "      <td>A</td>\n",
       "      <td>37</td>\n",
       "      <td>37</td>\n",
       "      <td>GLY</td>\n",
       "      <td>2</td>\n",
       "      <td>CA</td>\n",
       "      <td>C</td>\n",
       "      <td>11.554</td>\n",
       "      <td>38.126</td>\n",
       "      <td>29.950</td>\n",
       "      <td>NaN</td>\n",
       "      <td>179.541452</td>\n",
       "      <td>-103.545862</td>\n",
       "      <td>ADRB2_HUMAN</td>\n",
       "      <td>G</td>\n",
       "    </tr>\n",
       "    <tr>\n",
       "      <th>2</th>\n",
       "      <td>2R4R</td>\n",
       "      <td>ATOM</td>\n",
       "      <td>A</td>\n",
       "      <td>A</td>\n",
       "      <td>37</td>\n",
       "      <td>37</td>\n",
       "      <td>GLY</td>\n",
       "      <td>3</td>\n",
       "      <td>C</td>\n",
       "      <td>C</td>\n",
       "      <td>12.267</td>\n",
       "      <td>36.922</td>\n",
       "      <td>30.533</td>\n",
       "      <td>NaN</td>\n",
       "      <td>179.541452</td>\n",
       "      <td>-103.545862</td>\n",
       "      <td>ADRB2_HUMAN</td>\n",
       "      <td>G</td>\n",
       "    </tr>\n",
       "    <tr>\n",
       "      <th>3</th>\n",
       "      <td>2R4R</td>\n",
       "      <td>ATOM</td>\n",
       "      <td>A</td>\n",
       "      <td>A</td>\n",
       "      <td>37</td>\n",
       "      <td>37</td>\n",
       "      <td>GLY</td>\n",
       "      <td>4</td>\n",
       "      <td>O</td>\n",
       "      <td>O</td>\n",
       "      <td>13.195</td>\n",
       "      <td>37.070</td>\n",
       "      <td>31.329</td>\n",
       "      <td>NaN</td>\n",
       "      <td>179.541452</td>\n",
       "      <td>-103.545862</td>\n",
       "      <td>ADRB2_HUMAN</td>\n",
       "      <td>G</td>\n",
       "    </tr>\n",
       "    <tr>\n",
       "      <th>4</th>\n",
       "      <td>2R4R</td>\n",
       "      <td>ATOM</td>\n",
       "      <td>A</td>\n",
       "      <td>A</td>\n",
       "      <td>38</td>\n",
       "      <td>38</td>\n",
       "      <td>ILE</td>\n",
       "      <td>5</td>\n",
       "      <td>N</td>\n",
       "      <td>N</td>\n",
       "      <td>11.831</td>\n",
       "      <td>35.728</td>\n",
       "      <td>30.140</td>\n",
       "      <td>-60.266431</td>\n",
       "      <td>179.295701</td>\n",
       "      <td>-9.736188</td>\n",
       "      <td>ADRB2_HUMAN</td>\n",
       "      <td>I</td>\n",
       "    </tr>\n",
       "    <tr>\n",
       "      <th>...</th>\n",
       "      <td>...</td>\n",
       "      <td>...</td>\n",
       "      <td>...</td>\n",
       "      <td>...</td>\n",
       "      <td>...</td>\n",
       "      <td>...</td>\n",
       "      <td>...</td>\n",
       "      <td>...</td>\n",
       "      <td>...</td>\n",
       "      <td>...</td>\n",
       "      <td>...</td>\n",
       "      <td>...</td>\n",
       "      <td>...</td>\n",
       "      <td>...</td>\n",
       "      <td>...</td>\n",
       "      <td>...</td>\n",
       "      <td>...</td>\n",
       "      <td>...</td>\n",
       "    </tr>\n",
       "    <tr>\n",
       "      <th>4920</th>\n",
       "      <td>2R4R</td>\n",
       "      <td>ATOM</td>\n",
       "      <td>H</td>\n",
       "      <td>C</td>\n",
       "      <td>217</td>\n",
       "      <td>217</td>\n",
       "      <td>CYS</td>\n",
       "      <td>4921</td>\n",
       "      <td>C</td>\n",
       "      <td>C</td>\n",
       "      <td>104.061</td>\n",
       "      <td>29.901</td>\n",
       "      <td>4.040</td>\n",
       "      <td>-63.407305</td>\n",
       "      <td>NaN</td>\n",
       "      <td>NaN</td>\n",
       "      <td>ADRB2_HUMAN</td>\n",
       "      <td>C</td>\n",
       "    </tr>\n",
       "    <tr>\n",
       "      <th>4921</th>\n",
       "      <td>2R4R</td>\n",
       "      <td>ATOM</td>\n",
       "      <td>H</td>\n",
       "      <td>C</td>\n",
       "      <td>217</td>\n",
       "      <td>217</td>\n",
       "      <td>CYS</td>\n",
       "      <td>4922</td>\n",
       "      <td>O</td>\n",
       "      <td>O</td>\n",
       "      <td>105.059</td>\n",
       "      <td>30.517</td>\n",
       "      <td>3.612</td>\n",
       "      <td>-63.407305</td>\n",
       "      <td>NaN</td>\n",
       "      <td>NaN</td>\n",
       "      <td>ADRB2_HUMAN</td>\n",
       "      <td>C</td>\n",
       "    </tr>\n",
       "    <tr>\n",
       "      <th>4922</th>\n",
       "      <td>2R4R</td>\n",
       "      <td>ATOM</td>\n",
       "      <td>H</td>\n",
       "      <td>C</td>\n",
       "      <td>217</td>\n",
       "      <td>217</td>\n",
       "      <td>CYS</td>\n",
       "      <td>4923</td>\n",
       "      <td>CB</td>\n",
       "      <td>C</td>\n",
       "      <td>101.677</td>\n",
       "      <td>29.803</td>\n",
       "      <td>3.295</td>\n",
       "      <td>-63.407305</td>\n",
       "      <td>NaN</td>\n",
       "      <td>NaN</td>\n",
       "      <td>ADRB2_HUMAN</td>\n",
       "      <td>C</td>\n",
       "    </tr>\n",
       "    <tr>\n",
       "      <th>4923</th>\n",
       "      <td>2R4R</td>\n",
       "      <td>ATOM</td>\n",
       "      <td>H</td>\n",
       "      <td>C</td>\n",
       "      <td>217</td>\n",
       "      <td>217</td>\n",
       "      <td>CYS</td>\n",
       "      <td>4924</td>\n",
       "      <td>SG</td>\n",
       "      <td>S</td>\n",
       "      <td>101.375</td>\n",
       "      <td>31.524</td>\n",
       "      <td>2.779</td>\n",
       "      <td>-63.407305</td>\n",
       "      <td>NaN</td>\n",
       "      <td>NaN</td>\n",
       "      <td>ADRB2_HUMAN</td>\n",
       "      <td>C</td>\n",
       "    </tr>\n",
       "    <tr>\n",
       "      <th>4924</th>\n",
       "      <td>2R4R</td>\n",
       "      <td>ATOM</td>\n",
       "      <td>H</td>\n",
       "      <td>C</td>\n",
       "      <td>217</td>\n",
       "      <td>217</td>\n",
       "      <td>CYS</td>\n",
       "      <td>4925</td>\n",
       "      <td>OXT</td>\n",
       "      <td>O</td>\n",
       "      <td>103.813</td>\n",
       "      <td>29.740</td>\n",
       "      <td>5.254</td>\n",
       "      <td>-63.407305</td>\n",
       "      <td>NaN</td>\n",
       "      <td>NaN</td>\n",
       "      <td>ADRB2_HUMAN</td>\n",
       "      <td>C</td>\n",
       "    </tr>\n",
       "  </tbody>\n",
       "</table>\n",
       "<p>4925 rows × 18 columns</p>\n",
       "</div>"
      ],
      "text/plain": [
       "       PDB group_PDB auth_asym_id label_asym_id  label_seq_id auth_seq_id  \\\n",
       "0     2R4R      ATOM            A             A            37          37   \n",
       "1     2R4R      ATOM            A             A            37          37   \n",
       "2     2R4R      ATOM            A             A            37          37   \n",
       "3     2R4R      ATOM            A             A            37          37   \n",
       "4     2R4R      ATOM            A             A            38          38   \n",
       "...    ...       ...          ...           ...           ...         ...   \n",
       "4920  2R4R      ATOM            H             C           217         217   \n",
       "4921  2R4R      ATOM            H             C           217         217   \n",
       "4922  2R4R      ATOM            H             C           217         217   \n",
       "4923  2R4R      ATOM            H             C           217         217   \n",
       "4924  2R4R      ATOM            H             C           217         217   \n",
       "\n",
       "     label_comp_id    id label_atom_id type_symbol  Cartn_x Cartn_y Cartn_z  \\\n",
       "0              GLY     1             N           N   12.352  38.788  28.880   \n",
       "1              GLY     2            CA           C   11.554  38.126  29.950   \n",
       "2              GLY     3             C           C   12.267  36.922  30.533   \n",
       "3              GLY     4             O           O   13.195  37.070  31.329   \n",
       "4              ILE     5             N           N   11.831  35.728  30.140   \n",
       "...            ...   ...           ...         ...      ...     ...     ...   \n",
       "4920           CYS  4921             C           C  104.061  29.901   4.040   \n",
       "4921           CYS  4922             O           O  105.059  30.517   3.612   \n",
       "4922           CYS  4923            CB           C  101.677  29.803   3.295   \n",
       "4923           CYS  4924            SG           S  101.375  31.524   2.779   \n",
       "4924           CYS  4925           OXT           O  103.813  29.740   5.254   \n",
       "\n",
       "            phi       omega         psi   identifier label_comp_sid  \n",
       "0           NaN  179.541452 -103.545862  ADRB2_HUMAN              G  \n",
       "1           NaN  179.541452 -103.545862  ADRB2_HUMAN              G  \n",
       "2           NaN  179.541452 -103.545862  ADRB2_HUMAN              G  \n",
       "3           NaN  179.541452 -103.545862  ADRB2_HUMAN              G  \n",
       "4    -60.266431  179.295701   -9.736188  ADRB2_HUMAN              I  \n",
       "...         ...         ...         ...          ...            ...  \n",
       "4920 -63.407305         NaN         NaN  ADRB2_HUMAN              C  \n",
       "4921 -63.407305         NaN         NaN  ADRB2_HUMAN              C  \n",
       "4922 -63.407305         NaN         NaN  ADRB2_HUMAN              C  \n",
       "4923 -63.407305         NaN         NaN  ADRB2_HUMAN              C  \n",
       "4924 -63.407305         NaN         NaN  ADRB2_HUMAN              C  \n",
       "\n",
       "[4925 rows x 18 columns]"
      ]
     },
     "execution_count": 15,
     "metadata": {},
     "output_type": "execute_result"
    }
   ],
   "source": [
    "gp.p.dfl[0]"
   ]
  },
  {
   "cell_type": "code",
   "execution_count": 16,
   "id": "579f36b3",
   "metadata": {},
   "outputs": [
    {
     "name": "stdout",
     "output_type": "stream",
     "text": [
      "Set atom_list to ['CA'].\n",
      "Filtered p by atom_list.\n"
     ]
    }
   ],
   "source": [
    "gp.set_atom_list()\n",
    "gp.apply_atom_list_filter()"
   ]
  },
  {
   "cell_type": "code",
   "execution_count": 17,
   "id": "06086960",
   "metadata": {},
   "outputs": [
    {
     "name": "stderr",
     "output_type": "stream",
     "text": [
      "  0%|                                                                                                                                                                                                             | 0/356 [00:00<?, ?it/s]C:\\Users\\Flurin Hidber\\Anaconda3\\envs\\mt\\lib\\site-packages\\pandas\\core\\frame.py:3607: SettingWithCopyWarning: \n",
      "A value is trying to be set on a copy of a slice from a DataFrame.\n",
      "Try using .loc[row_indexer,col_indexer] = value instead\n",
      "\n",
      "See the caveats in the documentation: https://pandas.pydata.org/pandas-docs/stable/user_guide/indexing.html#returning-a-view-versus-a-copy\n",
      "  self._set_item(key, value)\n",
      "C:\\Users\\Flurin Hidber\\Anaconda3\\envs\\mt\\lib\\site-packages\\pandas\\core\\frame.py:4901: SettingWithCopyWarning: \n",
      "A value is trying to be set on a copy of a slice from a DataFrame\n",
      "\n",
      "See the caveats in the documentation: https://pandas.pydata.org/pandas-docs/stable/user_guide/indexing.html#returning-a-view-versus-a-copy\n",
      "  return super().drop(\n",
      "100%|██████████████████████████████████████████████████████████████████████████████████████████████████████████████████████████████████████████████████████████████████████████████████████████████████| 356/356 [00:02<00:00, 129.38it/s]\n"
     ]
    }
   ],
   "source": [
    "gp.simplify()"
   ]
  },
  {
   "cell_type": "code",
   "execution_count": 264,
   "id": "d5c43275",
   "metadata": {},
   "outputs": [
    {
     "name": "stderr",
     "output_type": "stream",
     "text": [
      "  4%|████████▊                                                                                                                                                                                          | 16/356 [00:00<00:02, 133.83it/s]"
     ]
    },
    {
     "name": "stdout",
     "output_type": "stream",
     "text": [
      "Selected edge criterion: ['self', 'distance']\n",
      "Selected edge features: ['unitary', 'distance', 'EM']\n",
      "Selected criterion for node selection: Interaction Site\n",
      "Filtering by chain!\n",
      "Adding gpcr to selection!\n",
      "Number valid gpcr atoms: 0\n",
      "In total using 0 valid atoms!\n",
      "Searching nodes in the interaction site...\n",
      "getting interaction site\n",
      "Selected edge criterion: ['self', 'distance']\n",
      "Selected edge features: ['unitary', 'distance', 'EM']\n",
      "Selected criterion for node selection: Interaction Site\n",
      "Filtering by chain!\n",
      "Adding gpcr to selection!\n",
      "Number valid gpcr atoms: 0\n",
      "In total using 0 valid atoms!\n",
      "Searching nodes in the interaction site...\n",
      "getting interaction site\n",
      "Selected edge criterion: ['self', 'distance']\n",
      "Selected edge features: ['unitary', 'distance', 'EM']\n",
      "Selected criterion for node selection: Interaction Site\n",
      "Filtering by chain!\n",
      "Adding gpcr to selection!\n",
      "Number valid gpcr atoms: 309\n",
      "In total using 309 valid atoms!\n",
      "Searching nodes in the interaction site...\n",
      "getting interaction site\n",
      "Selected edge criterion: ['self', 'distance']\n",
      "Selected edge features: ['unitary', 'distance', 'EM']\n",
      "Selected criterion for node selection: Interaction Site\n",
      "Filtering by chain!\n",
      "Adding gpcr to selection!\n",
      "Number valid gpcr atoms: 315\n",
      "In total using 315 valid atoms!\n",
      "Searching nodes in the interaction site...\n",
      "getting interaction site\n",
      "\n",
      "\n",
      "\n",
      "\n",
      "Selected edge criterion: ['self', 'distance']\n",
      "Selected edge features: ['unitary', 'distance', 'EM']\n",
      "Selected criterion for node selection: Interaction Site\n",
      "Filtering by chain!\n",
      "Adding gpcr to selection!\n",
      "Number valid gpcr atoms: 0\n",
      "In total using 0 valid atoms!\n",
      "Searching nodes in the interaction site...\n",
      "getting interaction site\n",
      "Selected edge criterion: ['self', 'distance']\n",
      "Selected edge features: ['unitary', 'distance', 'EM']\n",
      "Selected criterion for node selection: Interaction Site\n",
      "Filtering by chain!\n",
      "Adding gpcr to selection!\n",
      "Number valid gpcr atoms: 0\n",
      "In total using 0 valid atoms!\n",
      "Searching nodes in the interaction site...\n",
      "getting interaction site\n",
      "Selected edge criterion: ['self', 'distance']\n",
      "Selected edge features: ['unitary', 'distance', 'EM']\n",
      "Selected criterion for node selection: Interaction Site\n",
      "Filtering by chain!\n",
      "Adding gpcr to selection!\n",
      "Number valid gpcr atoms: 0\n",
      "In total using 0 valid atoms!\n",
      "Searching nodes in the interaction site...\n",
      "getting interaction site\n",
      "Selected edge criterion: ['self', 'distance']\n",
      "Selected edge features: ['unitary', 'distance', 'EM']\n",
      "Selected criterion for node selection: Interaction Site\n",
      "Filtering by chain!\n",
      "Adding gpcr to selection!\n",
      "Number valid gpcr atoms: 0\n",
      "In total using 0 valid atoms!\n",
      "Searching nodes in the interaction site...\n",
      "getting interaction site\n",
      "Selected edge criterion: ['self', 'distance']\n",
      "Selected edge features: ['unitary', 'distance', 'EM']\n",
      "Selected criterion for node selection: Interaction Site\n",
      "Filtering by chain!\n",
      "Adding gpcr to selection!\n",
      "Number valid gpcr atoms: 0\n",
      "In total using 0 valid atoms!\n",
      "Searching nodes in the interaction site...\n",
      "getting interaction site\n",
      "Selected edge criterion: ['self', 'distance']\n",
      "Selected edge features: ['unitary', 'distance', 'EM']\n",
      "Selected criterion for node selection: Interaction Site\n",
      "Filtering by chain!\n",
      "Adding gpcr to selection!\n",
      "Number valid gpcr atoms: 0\n",
      "In total using 0 valid atoms!\n",
      "Searching nodes in the interaction site...\n",
      "getting interaction site\n",
      "Selected edge criterion: ['self', 'distance']\n",
      "Selected edge features: ['unitary', 'distance', 'EM']\n",
      "Selected criterion for node selection: Interaction Site\n",
      "Filtering by chain!\n",
      "Adding gpcr to selection!\n",
      "Number valid gpcr atoms: 0\n",
      "In total using 0 valid atoms!\n",
      "Searching nodes in the interaction site...\n",
      "getting interaction site\n",
      "Selected edge criterion: ['self', 'distance']\n",
      "Selected edge features: ['unitary', 'distance', 'EM']\n",
      "Selected criterion for node selection: Interaction Site\n",
      "Filtering by chain!\n",
      "Adding gpcr to selection!\n",
      "Number valid gpcr atoms: 0\n",
      "In total using 0 valid atoms!\n",
      "Searching nodes in the interaction site...\n",
      "getting interaction site\n",
      "Selected edge criterion: ['self', 'distance']\n",
      "Selected edge features: ['unitary', 'distance', 'EM']\n",
      "Selected criterion for node selection: Interaction Site\n",
      "Filtering by chain!\n",
      "Adding gpcr to selection!\n",
      "Number valid gpcr atoms: 0\n",
      "In total using 0 valid atoms!\n",
      "Searching nodes in the interaction site...\n",
      "getting interaction site\n",
      "Selected edge criterion: ['self', 'distance']\n",
      "Selected edge features: ['unitary', 'distance', 'EM']\n",
      "Selected criterion for node selection: Interaction Site\n",
      "Filtering by chain!\n",
      "Adding gpcr to selection!\n",
      "Number valid gpcr atoms: 0\n",
      "In total using 0 valid atoms!\n",
      "Searching nodes in the interaction site...\n",
      "getting interaction site\n",
      "Selected edge criterion: ['self', 'distance']\n",
      "Selected edge features: ['unitary', 'distance', 'EM']\n",
      "Selected criterion for node selection: Interaction Site\n",
      "Filtering by chain!\n",
      "Adding gpcr to selection!\n",
      "Number valid gpcr atoms: 0\n",
      "In total using 0 valid atoms!\n",
      "Searching nodes in the interaction site...\n",
      "getting interaction site\n",
      "Selected edge criterion: ['self', 'distance']\n",
      "Selected edge features: ['unitary', 'distance', 'EM']\n",
      "Selected criterion for node selection: Interaction Site\n",
      "Filtering by chain!\n",
      "Adding gpcr to selection!\n",
      "Number valid gpcr atoms: 284\n",
      "In total using 284 valid atoms!\n",
      "Searching nodes in the interaction site...\n",
      "getting interaction site\n",
      "\n",
      "\n",
      "\n",
      "\n",
      "Selected edge criterion: ['self', 'distance']\n",
      "Selected edge features: ['unitary', 'distance', 'EM']\n",
      "Selected criterion for node selection: Interaction Site\n",
      "Filtering by chain!\n",
      "Adding gpcr to selection!\n",
      "Number valid gpcr atoms: 0\n",
      "In total using 0 valid atoms!\n",
      "Searching nodes in the interaction site...\n",
      "getting interaction site\n",
      "Selected edge criterion: ['self', 'distance']\n",
      "Selected edge features: ['unitary', 'distance', 'EM']\n",
      "Selected criterion for node selection: Interaction Site\n",
      "Filtering by chain!\n",
      "Adding gpcr to selection!\n",
      "Number valid gpcr atoms: 0\n",
      "In total using 0 valid atoms!\n",
      "Searching nodes in the interaction site...\n",
      "getting interaction site\n",
      "Selected edge criterion: ['self', 'distance']\n",
      "Selected edge features: ['unitary', 'distance', 'EM']\n",
      "Selected criterion for node selection: Interaction Site\n",
      "Filtering by chain!\n",
      "Adding gpcr to selection!\n",
      "Number valid gpcr atoms: 0\n",
      "In total using 0 valid atoms!\n",
      "Searching nodes in the interaction site...\n",
      "getting interaction site\n",
      "Selected edge criterion: ['self', 'distance']\n",
      "Selected edge features: ['unitary', 'distance', 'EM']\n",
      "Selected criterion for node selection: Interaction Site\n",
      "Filtering by chain!\n",
      "Adding gpcr to selection!\n",
      "Number valid gpcr atoms: 444\n",
      "In total using 444 valid atoms!\n",
      "Searching nodes in the interaction site...\n",
      "getting interaction site\n",
      "\n",
      "\n",
      "\n",
      "\n",
      "Selected edge criterion: ['self', 'distance']\n",
      "Selected edge features: ['unitary', 'distance', 'EM']\n",
      "Selected criterion for node selection: Interaction Site\n",
      "Filtering by chain!\n",
      "Adding gpcr to selection!\n",
      "Number valid gpcr atoms: 0\n",
      "In total using 0 valid atoms!\n",
      "Searching nodes in the interaction site...\n",
      "getting interaction site\n",
      "Selected edge criterion: ['self', 'distance']\n",
      "Selected edge features: ['unitary', 'distance', 'EM']\n",
      "Selected criterion for node selection: Interaction Site\n",
      "Filtering by chain!\n",
      "Adding gpcr to selection!\n",
      "Number valid gpcr atoms: 0\n",
      "In total using 0 valid atoms!\n",
      "Searching nodes in the interaction site...\n",
      "getting interaction site\n",
      "Selected edge criterion: ['self', 'distance']\n",
      "Selected edge features: ['unitary', 'distance', 'EM']\n",
      "Selected criterion for node selection: Interaction Site\n",
      "Filtering by chain!\n",
      "Adding gpcr to selection!\n",
      "Number valid gpcr atoms: 0\n",
      "In total using 0 valid atoms!\n",
      "Searching nodes in the interaction site...\n",
      "getting interaction site\n",
      "Selected edge criterion: ['self', 'distance']\n",
      "Selected edge features: ['unitary', 'distance', 'EM']\n",
      "Selected criterion for node selection: Interaction Site\n",
      "Filtering by chain!\n",
      "Adding gpcr to selection!\n",
      "Number valid gpcr atoms: 443\n",
      "In total using 443 valid atoms!\n",
      "Searching nodes in the interaction site...\n",
      "getting interaction site\n",
      "\n",
      "\n",
      "\n",
      "\n",
      "Selected edge criterion: ['self', 'distance']\n",
      "Selected edge features: ['unitary', 'distance', 'EM']\n",
      "Selected criterion for node selection: Interaction Site\n",
      "Filtering by chain!\n",
      "Adding gpcr to selection!\n",
      "Number valid gpcr atoms: 0\n",
      "In total using 0 valid atoms!\n",
      "Searching nodes in the interaction site...\n",
      "getting interaction site\n",
      "Selected edge criterion: ['self', 'distance']\n",
      "Selected edge features: ['unitary', 'distance', 'EM']\n",
      "Selected criterion for node selection: Interaction Site\n",
      "Filtering by chain!\n",
      "Adding gpcr to selection!\n",
      "Number valid gpcr atoms: 0\n",
      "In total using 0 valid atoms!\n",
      "Searching nodes in the interaction site...\n",
      "getting interaction site\n",
      "Selected edge criterion: ['self', 'distance']\n",
      "Selected edge features: ['unitary', 'distance', 'EM']\n",
      "Selected criterion for node selection: Interaction Site\n",
      "Filtering by chain!\n",
      "Adding gpcr to selection!\n",
      "Number valid gpcr atoms: 0\n",
      "In total using 0 valid atoms!\n",
      "Searching nodes in the interaction site...\n",
      "getting interaction site\n",
      "Selected edge criterion:"
     ]
    },
    {
     "name": "stderr",
     "output_type": "stream",
     "text": [
      " 12%|███████████████████████                                                                                                                                                                             | 42/356 [00:00<00:05, 56.77it/s]"
     ]
    },
    {
     "name": "stdout",
     "output_type": "stream",
     "text": [
      " ['self', 'distance']\n",
      "Selected edge features: ['unitary', 'distance', 'EM']\n",
      "Selected criterion for node selection: Interaction Site\n",
      "Filtering by chain!\n",
      "Adding gpcr to selection!\n",
      "Number valid gpcr atoms: 0\n",
      "In total using 0 valid atoms!\n",
      "Searching nodes in the interaction site...\n",
      "getting interaction site\n",
      "Selected edge criterion: ['self', 'distance']\n",
      "Selected edge features: ['unitary', 'distance', 'EM']\n",
      "Selected criterion for node selection: Interaction Site\n",
      "Filtering by chain!\n",
      "Adding gpcr to selection!\n",
      "Number valid gpcr atoms: 0\n",
      "In total using 0 valid atoms!\n",
      "Searching nodes in the interaction site...\n",
      "getting interaction site\n",
      "Selected edge criterion: ['self', 'distance']\n",
      "Selected edge features: ['unitary', 'distance', 'EM']\n",
      "Selected criterion for node selection: Interaction Site\n",
      "Filtering by chain!\n",
      "Adding gpcr to selection!\n",
      "Number valid gpcr atoms: 0\n",
      "In total using 0 valid atoms!\n",
      "Searching nodes in the interaction site...\n",
      "getting interaction site\n",
      "Selected edge criterion: ['self', 'distance']\n",
      "Selected edge features: ['unitary', 'distance', 'EM']\n",
      "Selected criterion for node selection: Interaction Site\n",
      "Filtering by chain!\n",
      "Adding gpcr to selection!\n",
      "Number valid gpcr atoms: 0\n",
      "In total using 0 valid atoms!\n",
      "Searching nodes in the interaction site...\n",
      "getting interaction site\n",
      "Selected edge criterion: ['self', 'distance']\n",
      "Selected edge features: ['unitary', 'distance', 'EM']\n",
      "Selected criterion for node selection: Interaction Site\n",
      "Filtering by chain!\n",
      "Adding gpcr to selection!\n",
      "Number valid gpcr atoms: 0\n",
      "In total using 0 valid atoms!\n",
      "Searching nodes in the interaction site...\n",
      "getting interaction site\n",
      "Selected edge criterion: ['self', 'distance']\n",
      "Selected edge features: ['unitary', 'distance', 'EM']\n",
      "Selected criterion for node selection: Interaction Site\n",
      "Filtering by chain!\n",
      "Adding gpcr to selection!\n",
      "Number valid gpcr atoms: 0\n",
      "In total using 0 valid atoms!\n",
      "Searching nodes in the interaction site...\n",
      "getting interaction site\n",
      "Selected edge criterion: ['self', 'distance']\n",
      "Selected edge features: ['unitary', 'distance', 'EM']\n",
      "Selected criterion for node selection: Interaction Site\n",
      "Filtering by chain!\n",
      "Adding gpcr to selection!\n",
      "Number valid gpcr atoms: 0\n",
      "In total using 0 valid atoms!\n",
      "Searching nodes in the interaction site...\n",
      "getting interaction site\n",
      "Selected edge criterion: ['self', 'distance']\n",
      "Selected edge features: ['unitary', 'distance', 'EM']\n",
      "Selected criterion for node selection: Interaction Site\n",
      "Filtering by chain!\n",
      "Adding gpcr to selection!\n",
      "Number valid gpcr atoms: 0\n",
      "In total using 0 valid atoms!\n",
      "Searching nodes in the interaction site...\n",
      "getting interaction site\n",
      "Selected edge criterion: ['self', 'distance']\n",
      "Selected edge features: ['unitary', 'distance', 'EM']\n",
      "Selected criterion for node selection: Interaction Site\n",
      "Filtering by chain!\n",
      "Adding gpcr to selection!\n",
      "Number valid gpcr atoms: 0\n",
      "In total using 0 valid atoms!\n",
      "Searching nodes in the interaction site...\n",
      "getting interaction site\n",
      "Selected edge criterion: ['self', 'distance']\n",
      "Selected edge features: ['unitary', 'distance', 'EM']\n",
      "Selected criterion for node selection: Interaction Site\n",
      "Filtering by chain!\n",
      "Adding gpcr to selection!\n",
      "Number valid gpcr atoms: 0\n",
      "In total using 0 valid atoms!\n",
      "Searching nodes in the interaction site...\n",
      "getting interaction site\n",
      "Selected edge criterion: ['self', 'distance']\n",
      "Selected edge features: ['unitary', 'distance', 'EM']\n",
      "Selected criterion for node selection: Interaction Site\n",
      "Filtering by chain!\n",
      "Adding gpcr to selection!\n",
      "Number valid gpcr atoms: 0\n",
      "In total using 0 valid atoms!\n",
      "Searching nodes in the interaction site...\n",
      "getting interaction site\n",
      "Selected edge criterion: ['self', 'distance']\n",
      "Selected edge features: ['unitary', 'distance', 'EM']\n",
      "Selected criterion for node selection: Interaction Site\n",
      "Filtering by chain!\n",
      "Adding gpcr to selection!\n",
      "Number valid gpcr atoms: 0\n",
      "In total using 0 valid atoms!\n",
      "Searching nodes in the interaction site...\n",
      "getting interaction site\n",
      "Selected edge criterion: ['self', 'distance']\n",
      "Selected edge features: ['unitary', 'distance', 'EM']\n",
      "Selected criterion for node selection: Interaction Site\n",
      "Filtering by chain!\n",
      "Adding gpcr to selection!\n",
      "Number valid gpcr atoms: 0\n",
      "In total using 0 valid atoms!\n",
      "Searching nodes in the interaction site...\n",
      "getting interaction site\n",
      "Selected edge criterion: ['self', 'distance']\n",
      "Selected edge features: ['unitary', 'distance', 'EM']\n",
      "Selected criterion for node selection: Interaction Site\n",
      "Filtering by chain!\n",
      "Adding gpcr to selection!\n",
      "Number valid gpcr atoms: 0\n",
      "In total using 0 valid atoms!\n",
      "Searching nodes in the interaction site...\n",
      "getting interaction site\n",
      "Selected edge criterion: ['self', 'distance']\n",
      "Selected edge features: ['unitary', 'distance', 'EM']\n",
      "Selected criterion for node selection: Interaction Site\n",
      "Filtering by chain!\n",
      "Adding gpcr to selection!\n",
      "Number valid gpcr atoms: 454\n",
      "In total using 454 valid atoms!\n",
      "Searching nodes in the interaction site...\n",
      "getting interaction site\n",
      "\n",
      "\n",
      "\n",
      "\n",
      "Selected edge criterion: ['self', 'distance']\n",
      "Selected edge features: ['unitary', 'distance', 'EM']\n",
      "Selected criterion for node selection: Interaction Site\n",
      "Filtering by chain!\n",
      "Adding gpcr to selection!\n",
      "Number valid gpcr atoms: 454\n",
      "In total using 454 valid atoms!\n",
      "Searching nodes in the interaction site...\n",
      "getting interaction site\n",
      "\n",
      "\n",
      "\n",
      "\n",
      "Selected edge criterion: ['self', 'distance']\n",
      "Selected edge features: ['unitary', 'distance', 'EM']\n",
      "Selected criterion for node selection: Interaction Site\n",
      "Filtering by chain!\n",
      "Adding gpcr to selection!\n",
      "Number valid gpcr atoms: 454\n",
      "In total using 454 valid atoms!\n",
      "Searching nodes in the interaction site...\n",
      "getting interaction site\n",
      "\n",
      "\n",
      "\n",
      "\n",
      "Selected edge criterion: ['self', 'distance']\n",
      "Selected edge features: ['unitary', 'distance', 'EM']\n",
      "Selected criterion for node selection: Interaction Site\n",
      "Filtering by chain!\n",
      "Adding gpcr to selection!\n",
      "Number valid gpcr atoms: 0\n",
      "In total using 0 valid atoms!\n",
      "Searching nodes in the interaction site...\n",
      "getting interaction site\n",
      "Selected edge criterion: ['self', 'distance']\n",
      "Selected edge features: ['unitary', 'distance', 'EM']\n",
      "Selected criterion for node selection: Interaction Site\n",
      "Filtering by chain!\n",
      "Adding gpcr to selection!\n",
      "Number valid gpcr atoms: 277\n",
      "In total using 277 valid atoms!\n",
      "Searching nodes in the interaction site...\n",
      "getting interaction site\n",
      "\n",
      "\n",
      "\n",
      "\n",
      "Selected edge criterion: ['self', 'distance']\n",
      "Selected edge features: ['unitary', 'distance', 'EM']\n",
      "Selected criterion for node selection: Interaction Site\n",
      "Filtering by chain!\n",
      "Adding gpcr to selection!\n",
      "Number valid gpcr atoms: 275\n",
      "In total using 275 valid atoms!\n",
      "Searching nodes in the interaction site...\n",
      "getting interaction site\n",
      "\n",
      "\n",
      "\n",
      "\n",
      "Selected edge criterion: ['self', 'distance']\n",
      "Selected edge features: ['unitary', 'distance', 'EM']\n",
      "Selected criterion for node selection: Interaction Site\n",
      "Filtering by chain!\n",
      "Adding gpcr to selection!\n",
      "Number valid gpcr atoms: 0\n",
      "In total using 0 valid atoms!\n",
      "Searching nodes in the interaction site...\n",
      "getting interaction site\n",
      "Selected edge criterion:"
     ]
    },
    {
     "name": "stderr",
     "output_type": "stream",
     "text": [
      " 15%|██████████████████████████████▎                                                                                                                                                                     | 55/356 [00:01<00:09, 33.09it/s]"
     ]
    },
    {
     "name": "stdout",
     "output_type": "stream",
     "text": [
      " ['self', 'distance']\n",
      "Selected edge features: ['unitary', 'distance', 'EM']\n",
      "Selected criterion for node selection: Interaction Site\n",
      "Filtering by chain!\n",
      "Adding gpcr to selection!\n",
      "Number valid gpcr atoms: 0\n",
      "In total using 0 valid atoms!\n",
      "Searching nodes in the interaction site...\n",
      "getting interaction site\n",
      "Selected edge criterion: ['self', 'distance']\n",
      "Selected edge features: ['unitary', 'distance', 'EM']\n",
      "Selected criterion for node selection: Interaction Site\n",
      "Filtering by chain!\n",
      "Adding gpcr to selection!\n",
      "Number valid gpcr atoms: 0\n",
      "In total using 0 valid atoms!\n",
      "Searching nodes in the interaction site...\n",
      "getting interaction site\n",
      "Selected edge criterion: ['self', 'distance']\n",
      "Selected edge features: ['unitary', 'distance', 'EM']\n",
      "Selected criterion for node selection: Interaction Site\n",
      "Filtering by chain!\n",
      "Adding gpcr to selection!\n",
      "Number valid gpcr atoms: 0\n",
      "In total using 0 valid atoms!\n",
      "Searching nodes in the interaction site...\n",
      "getting interaction site\n",
      "Selected edge criterion: ['self', 'distance']\n",
      "Selected edge features: ['unitary', 'distance', 'EM']\n",
      "Selected criterion for node selection: Interaction Site\n",
      "Filtering by chain!\n",
      "Adding gpcr to selection!\n",
      "Number valid gpcr atoms: 0\n",
      "In total using 0 valid atoms!\n",
      "Searching nodes in the interaction site...\n",
      "getting interaction site\n",
      "Selected edge criterion: ['self', 'distance']\n",
      "Selected edge features: ['unitary', 'distance', 'EM']\n",
      "Selected criterion for node selection: Interaction Site\n",
      "Filtering by chain!\n",
      "Adding gpcr to selection!\n",
      "Number valid gpcr atoms: 0\n",
      "In total using 0 valid atoms!\n",
      "Searching nodes in the interaction site...\n",
      "getting interaction site\n",
      "Selected edge criterion: ['self', 'distance']\n",
      "Selected edge features: ['unitary', 'distance', 'EM']\n",
      "Selected criterion for node selection: Interaction Site\n",
      "Filtering by chain!\n",
      "Adding gpcr to selection!\n",
      "Number valid gpcr atoms: 0\n",
      "In total using 0 valid atoms!\n",
      "Searching nodes in the interaction site...\n",
      "getting interaction site\n",
      "Selected edge criterion: ['self', 'distance']\n",
      "Selected edge features: ['unitary', 'distance', 'EM']\n",
      "Selected criterion for node selection: Interaction Site\n",
      "Filtering by chain!\n",
      "Adding gpcr to selection!\n",
      "Number valid gpcr atoms: 454\n",
      "In total using 454 valid atoms!\n",
      "Searching nodes in the interaction site...\n",
      "getting interaction site\n",
      "\n",
      "\n",
      "\n",
      "\n",
      "Selected edge criterion: ['self', 'distance']\n",
      "Selected edge features: ['unitary', 'distance', 'EM']\n",
      "Selected criterion for node selection: Interaction Site\n",
      "Filtering by chain!\n",
      "Adding gpcr to selection!\n",
      "Number valid gpcr atoms: 0\n",
      "In total using 0 valid atoms!\n",
      "Searching nodes in the interaction site...\n",
      "getting interaction site\n",
      "Selected edge criterion: ['self', 'distance']\n",
      "Selected edge features: ['unitary', 'distance', 'EM']\n",
      "Selected criterion for node selection: Interaction Site\n",
      "Filtering by chain!\n",
      "Adding gpcr to selection!\n",
      "Number valid gpcr atoms: 0\n",
      "In total using 0 valid atoms!\n",
      "Searching nodes in the interaction site...\n",
      "getting interaction site\n",
      "Selected edge criterion: ['self', 'distance']\n",
      "Selected edge features: ['unitary', 'distance', 'EM']\n",
      "Selected criterion for node selection: Interaction Site\n",
      "Filtering by chain!\n",
      "Adding gpcr to selection!\n",
      "Number valid gpcr atoms: 0\n",
      "In total using 0 valid atoms!\n",
      "Searching nodes in the interaction site...\n",
      "getting interaction site\n",
      "Selected edge criterion: ['self', 'distance']\n",
      "Selected edge features: ['unitary', 'distance', 'EM']\n",
      "Selected criterion for node selection: Interaction Site\n",
      "Filtering by chain!\n",
      "Adding gpcr to selection!\n",
      "Number valid gpcr atoms: 0\n",
      "In total using 0 valid atoms!\n",
      "Searching nodes in the interaction site...\n",
      "getting interaction site\n",
      "Selected edge criterion: ['self', 'distance']\n",
      "Selected edge features: ['unitary', 'distance', 'EM']\n",
      "Selected criterion for node selection: Interaction Site\n",
      "Filtering by chain!\n",
      "Adding gpcr to selection!\n",
      "Number valid gpcr atoms: 292\n",
      "In total using 292 valid atoms!\n",
      "Searching nodes in the interaction site...\n",
      "getting interaction site\n",
      "Selected edge criterion: ['self', 'distance']\n",
      "Selected edge features: ['unitary', 'distance', 'EM']\n",
      "Selected criterion for node selection: Interaction Site\n",
      "Filtering by chain!\n",
      "Adding gpcr to selection!\n",
      "Number valid gpcr atoms: 310\n",
      "In total using 310 valid atoms!\n",
      "Searching nodes in the interaction site...\n",
      "getting interaction site\n",
      "\n",
      "\n",
      "\n"
     ]
    },
    {
     "name": "stderr",
     "output_type": "stream",
     "text": [
      " 26%|██████████████████████████████████████████████████                                                                                                                                                  | 91/356 [00:01<00:03, 79.08it/s]"
     ]
    },
    {
     "name": "stdout",
     "output_type": "stream",
     "text": [
      "\n",
      "Selected edge criterion: ['self', 'distance']\n",
      "Selected edge features: ['unitary', 'distance', 'EM']\n",
      "Selected criterion for node selection: Interaction Site\n",
      "Filtering by chain!\n",
      "Adding gpcr to selection!\n",
      "Number valid gpcr atoms: 0\n",
      "In total using 0 valid atoms!\n",
      "Searching nodes in the interaction site...\n",
      "getting interaction site\n",
      "Selected edge criterion: ['self', 'distance']\n",
      "Selected edge features: ['unitary', 'distance', 'EM']\n",
      "Selected criterion for node selection: Interaction Site\n",
      "Filtering by chain!\n",
      "Adding gpcr to selection!\n",
      "Number valid gpcr atoms: 0\n",
      "In total using 0 valid atoms!\n",
      "Searching nodes in the interaction site...\n",
      "getting interaction site\n",
      "Selected edge criterion: ['self', 'distance']\n",
      "Selected edge features: ['unitary', 'distance', 'EM']\n",
      "Selected criterion for node selection: Interaction Site\n",
      "Filtering by chain!\n",
      "Adding gpcr to selection!\n",
      "Number valid gpcr atoms: 0\n",
      "In total using 0 valid atoms!\n",
      "Searching nodes in the interaction site...\n",
      "getting interaction site\n",
      "Selected edge criterion: ['self', 'distance']\n",
      "Selected edge features: ['unitary', 'distance', 'EM']\n",
      "Selected criterion for node selection: Interaction Site\n",
      "Filtering by chain!\n",
      "Adding gpcr to selection!\n",
      "Number valid gpcr atoms: 0\n",
      "In total using 0 valid atoms!\n",
      "Searching nodes in the interaction site...\n",
      "getting interaction site\n",
      "Selected edge criterion: ['self', 'distance']\n",
      "Selected edge features: ['unitary', 'distance', 'EM']\n",
      "Selected criterion for node selection: Interaction Site\n",
      "Filtering by chain!\n",
      "Adding gpcr to selection!\n",
      "Number valid gpcr atoms: 0\n",
      "In total using 0 valid atoms!\n",
      "Searching nodes in the interaction site...\n",
      "getting interaction site\n",
      "Selected edge criterion: ['self', 'distance']\n",
      "Selected edge features: ['unitary', 'distance', 'EM']\n",
      "Selected criterion for node selection: Interaction Site\n",
      "Filtering by chain!\n",
      "Adding gpcr to selection!\n",
      "Number valid gpcr atoms: 0\n",
      "In total using 0 valid atoms!\n",
      "Searching nodes in the interaction site...\n",
      "getting interaction site\n",
      "Selected edge criterion: ['self', 'distance']\n",
      "Selected edge features: ['unitary', 'distance', 'EM']\n",
      "Selected criterion for node selection: Interaction Site\n",
      "Filtering by chain!\n",
      "Adding gpcr to selection!\n",
      "Number valid gpcr atoms: 0\n",
      "In total using 0 valid atoms!\n",
      "Searching nodes in the interaction site...\n",
      "getting interaction site\n",
      "Selected edge criterion: ['self', 'distance']\n",
      "Selected edge features: ['unitary', 'distance', 'EM']\n",
      "Selected criterion for node selection: Interaction Site\n",
      "Filtering by chain!\n",
      "Adding gpcr to selection!\n",
      "Number valid gpcr atoms: 0\n",
      "In total using 0 valid atoms!\n",
      "Searching nodes in the interaction site...\n",
      "getting interaction site\n",
      "Selected edge criterion: ['self', 'distance']\n",
      "Selected edge features: ['unitary', 'distance', 'EM']\n",
      "Selected criterion for node selection: Interaction Site\n",
      "Filtering by chain!\n",
      "Adding gpcr to selection!\n",
      "Number valid gpcr atoms: 0\n",
      "In total using 0 valid atoms!\n",
      "Searching nodes in the interaction site...\n",
      "getting interaction site\n",
      "Selected edge criterion: ['self', 'distance']\n",
      "Selected edge features: ['unitary', 'distance', 'EM']\n",
      "Selected criterion for node selection: Interaction Site\n",
      "Filtering by chain!\n",
      "Adding gpcr to selection!\n",
      "Number valid gpcr atoms: 0\n",
      "In total using 0 valid atoms!\n",
      "Searching nodes in the interaction site...\n",
      "getting interaction site\n",
      "Selected edge criterion: ['self', 'distance']\n",
      "Selected edge features: ['unitary', 'distance', 'EM']\n",
      "Selected criterion for node selection: Interaction Site\n",
      "Filtering by chain!\n",
      "Adding gpcr to selection!\n",
      "Number valid gpcr atoms: 0\n",
      "In total using 0 valid atoms!\n",
      "Searching nodes in the interaction site...\n",
      "getting interaction site\n",
      "Selected edge criterion: ['self', 'distance']\n",
      "Selected edge features: ['unitary', 'distance', 'EM']\n",
      "Selected criterion for node selection: Interaction Site\n",
      "Filtering by chain!\n",
      "Adding gpcr to selection!\n",
      "Number valid gpcr atoms: 0\n",
      "In total using 0 valid atoms!\n",
      "Searching nodes in the interaction site...\n",
      "getting interaction site\n",
      "Selected edge criterion: ['self', 'distance']\n",
      "Selected edge features: ['unitary', 'distance', 'EM']\n",
      "Selected criterion for node selection: Interaction Site\n",
      "Filtering by chain!\n",
      "Adding gpcr to selection!\n",
      "Number valid gpcr atoms: 0\n",
      "In total using 0 valid atoms!\n",
      "Searching nodes in the interaction site...\n",
      "getting interaction site\n",
      "Selected edge criterion: ['self', 'distance']\n",
      "Selected edge features: ['unitary', 'distance', 'EM']\n",
      "Selected criterion for node selection: Interaction Site\n",
      "Filtering by chain!\n",
      "Adding gpcr to selection!\n",
      "Number valid gpcr atoms: 0\n",
      "In total using 0 valid atoms!\n",
      "Searching nodes in the interaction site...\n",
      "getting interaction site\n",
      "Selected edge criterion: ['self', 'distance']\n",
      "Selected edge features: ['unitary', 'distance', 'EM']\n",
      "Selected criterion for node selection: Interaction Site\n",
      "Filtering by chain!\n",
      "Adding gpcr to selection!\n",
      "Number valid gpcr atoms: 0\n",
      "In total using 0 valid atoms!\n",
      "Searching nodes in the interaction site...\n",
      "getting interaction site\n",
      "Selected edge criterion: ['self', 'distance']\n",
      "Selected edge features: ['unitary', 'distance', 'EM']\n",
      "Selected criterion for node selection: Interaction Site\n",
      "Filtering by chain!\n",
      "Adding gpcr to selection!\n",
      "Number valid gpcr atoms: 0\n",
      "In total using 0 valid atoms!\n",
      "Searching nodes in the interaction site...\n",
      "getting interaction site\n",
      "Selected edge criterion: ['self', 'distance']\n",
      "Selected edge features: ['unitary', 'distance', 'EM']\n",
      "Selected criterion for node selection: Interaction Site\n",
      "Filtering by chain!\n",
      "Adding gpcr to selection!\n",
      "Number valid gpcr atoms: 0\n",
      "In total using 0 valid atoms!\n",
      "Searching nodes in the interaction site...\n",
      "getting interaction site\n",
      "Selected edge criterion: ['self', 'distance']\n",
      "Selected edge features: ['unitary', 'distance', 'EM']\n",
      "Selected criterion for node selection: Interaction Site\n",
      "Filtering by chain!\n",
      "Adding gpcr to selection!\n",
      "Number valid gpcr atoms: 0\n",
      "In total using 0 valid atoms!\n",
      "Searching nodes in the interaction site...\n",
      "getting interaction site\n",
      "Selected edge criterion: ['self', 'distance']\n",
      "Selected edge features: ['unitary', 'distance', 'EM']\n",
      "Selected criterion for node selection: Interaction Site\n",
      "Filtering by chain!\n",
      "Adding gpcr to selection!\n",
      "Number valid gpcr atoms: 0\n",
      "In total using 0 valid atoms!\n",
      "Searching nodes in the interaction site...\n",
      "getting interaction site\n",
      "Selected edge criterion: ['self', 'distance']\n",
      "Selected edge features: ['unitary', 'distance', 'EM']\n",
      "Selected criterion for node selection: Interaction Site\n",
      "Filtering by chain!\n",
      "Adding gpcr to selection!\n",
      "Number valid gpcr atoms: 0\n",
      "In total using 0 valid atoms!\n",
      "Searching nodes in the interaction site...\n",
      "getting interaction site\n",
      "Selected edge criterion: ['self', 'distance']\n",
      "Selected edge features: ['unitary', 'distance', 'EM']\n",
      "Selected criterion for node selection: Interaction Site\n",
      "Filtering by chain!\n",
      "Adding gpcr to selection!\n",
      "Number valid gpcr atoms: 283\n",
      "In total using 283 valid atoms!\n",
      "Searching nodes in the interaction site...\n",
      "getting interaction site\n",
      "\n",
      "\n",
      "\n",
      "\n",
      "Selected edge criterion: ['self', 'distance']\n",
      "Selected edge features: ['unitary', 'distance', 'EM']\n",
      "Selected criterion for node selection: Interaction Site\n",
      "Filtering by chain!\n",
      "Adding gpcr to selection!\n",
      "Number valid gpcr atoms: 0\n",
      "In total using 0 valid atoms!\n",
      "Searching nodes in the interaction site...\n",
      "getting interaction site\n",
      "Selected edge criterion: ['self', 'distance']\n",
      "Selected edge features: ['unitary', 'distance', 'EM']\n",
      "Selected criterion for node selection: Interaction Site\n",
      "Filtering by chain!\n",
      "Adding gpcr to selection!\n",
      "Number valid gpcr atoms: 0\n",
      "In total using 0 valid atoms!\n",
      "Searching nodes in the interaction site...\n",
      "getting interaction site\n",
      "Selected edge criterion: ['self', 'distance']\n",
      "Selected edge features: ['unitary', 'distance', 'EM']\n",
      "Selected criterion for node selection: Interaction Site\n",
      "Filtering by chain!\n",
      "Adding gpcr to selection!\n",
      "Number valid gpcr atoms: 0\n",
      "In total using 0 valid atoms!\n",
      "Searching nodes in the interaction site...\n",
      "getting interaction site\n",
      "Selected edge criterion: ['self', 'distance']\n",
      "Selected edge features: ['unitary', 'distance', 'EM']\n",
      "Selected criterion for node selection: Interaction Site\n",
      "Filtering by chain!\n",
      "Adding gpcr to selection!\n",
      "Number valid gpcr atoms: 0\n",
      "In total using 0 valid atoms!\n",
      "Searching nodes in the interaction site...\n",
      "getting interaction site\n",
      "Selected edge criterion: ['self', 'distance']\n",
      "Selected edge features: ['unitary', 'distance', 'EM']\n",
      "Selected criterion for node selection: Interaction Site\n",
      "Filtering by chain!\n",
      "Adding gpcr to selection!\n",
      "Number valid gpcr atoms: 0\n",
      "In total using 0 valid atoms!\n",
      "Searching nodes in the interaction site...\n",
      "getting interaction site\n",
      "Selected edge criterion: ['self', 'distance']\n",
      "Selected edge features: ['unitary', 'distance', 'EM']\n",
      "Selected criterion for node selection: Interaction Site\n",
      "Filtering by chain!\n",
      "Adding gpcr to selection!\n",
      "Number valid gpcr atoms: 0\n",
      "In total using 0 valid atoms!\n",
      "Searching nodes in the interaction site...\n",
      "getting interaction site\n",
      "Selected edge criterion: ['self', 'distance']\n",
      "Selected edge features: ['unitary', 'distance', 'EM']\n",
      "Selected criterion for node selection: Interaction Site\n",
      "Filtering by chain!\n",
      "Adding gpcr to selection!\n",
      "Number valid gpcr atoms: 0\n",
      "In total using 0 valid atoms!\n",
      "Searching nodes in the interaction site...\n",
      "getting interaction site\n",
      "Selected edge criterion: ['self', 'distance']\n",
      "Selected edge features: ['unitary', 'distance', 'EM']\n",
      "Selected criterion for node selection: Interaction Site\n",
      "Filtering by chain!\n",
      "Adding gpcr to selection!\n",
      "Number valid gpcr atoms: 0\n",
      "In total using 0 valid atoms!\n",
      "Searching nodes in the interaction site...\n",
      "getting interaction site\n",
      "Selected edge criterion: ['self', 'distance']\n",
      "Selected edge features: ['unitary', 'distance', 'EM']\n",
      "Selected criterion for node selection: Interaction Site\n",
      "Filtering by chain!\n",
      "Adding gpcr to selection!\n",
      "Number valid gpcr atoms: 0\n",
      "In total using 0 valid atoms!\n",
      "Searching nodes in the interaction site...\n",
      "getting interaction site\n",
      "Selected edge criterion: ['self', 'distance']\n",
      "Selected edge features: ['unitary', 'distance', 'EM']\n",
      "Selected criterion for node selection: Interaction Site\n",
      "Filtering by chain!\n",
      "Adding gpcr to selection!\n",
      "Number valid gpcr atoms: 0\n",
      "In total using 0 valid atoms!\n",
      "Searching nodes in the interaction site...\n",
      "getting interaction site\n",
      "Selected edge criterion: ['self', 'distance']\n",
      "Selected edge features: ['unitary', 'distance', 'EM']\n",
      "Selected criterion for node selection: Interaction Site\n",
      "Filtering by chain!\n",
      "Adding gpcr to selection!\n",
      "Number valid gpcr atoms: 0\n",
      "In total using 0 valid atoms!\n",
      "Searching nodes in the interaction site...\n",
      "getting interaction site\n",
      "Selected edge criterion: ['self', 'distance']\n",
      "Selected edge features: ['unitary', 'distance', 'EM']\n",
      "Selected criterion for node selection: Interaction Site\n",
      "Filtering by chain!\n",
      "Adding gpcr to selection!\n",
      "Number valid gpcr atoms: 0\n",
      "In total using 0 valid atoms!\n",
      "Searching nodes in the interaction site...\n",
      "getting interaction site\n",
      "Selected edge criterion: ['self', 'distance']\n",
      "Selected edge features: ['unitary', 'distance', 'EM']\n",
      "Selected criterion for node selection: Interaction Site\n",
      "Filtering by chain!\n",
      "Adding gpcr to selection!\n",
      "Number valid gpcr atoms: 0\n",
      "In total using 0 valid atoms!\n",
      "Searching nodes in the interaction site...\n",
      "getting interaction site\n",
      "Selected edge criterion: ['self', 'distance']\n",
      "Selected edge features: ['unitary', 'distance', 'EM']\n",
      "Selected criterion for node selection: Interaction Site\n",
      "Filtering by chain!\n",
      "Adding gpcr to selection!\n",
      "Number valid gpcr atoms: 0\n",
      "In total using 0 valid atoms!\n",
      "Searching nodes in the interaction site...\n",
      "getting interaction site\n",
      "Selected edge criterion: ['self', 'distance']\n",
      "Selected edge features: ['unitary', 'distance', 'EM']\n",
      "Selected criterion for node selection: Interaction Site\n",
      "Filtering by chain!\n",
      "Adding gpcr to selection!\n",
      "Number valid gpcr atoms: 0\n",
      "In total using 0 valid atoms!\n",
      "Searching nodes in the interaction site...\n",
      "getting interaction site\n",
      "Selected edge criterion: ['self', 'distance']\n",
      "Selected edge features: ['unitary', 'distance', 'EM']\n",
      "Selected criterion for node selection: Interaction Site\n",
      "Filtering by chain!\n",
      "Adding gpcr to selection!\n",
      "Number valid gpcr atoms: 0\n",
      "In total using 0 valid atoms!\n",
      "Searching nodes in the interaction site...\n",
      "getting interaction site\n",
      "Selected edge criterion: ['self', 'distance']\n",
      "Selected edge features: ['unitary', 'distance', 'EM']\n",
      "Selected criterion for node selection: Interaction Site\n",
      "Filtering by chain!\n",
      "Adding gpcr to selection!\n",
      "Number valid gpcr atoms: 0\n",
      "In total using 0 valid atoms!\n",
      "Searching nodes in the interaction site...\n",
      "getting interaction site\n",
      "Selected edge criterion: ['self', 'distance']\n",
      "Selected edge features: ['unitary', 'distance', 'EM']\n",
      "Selected criterion for node selection: Interaction Site\n",
      "Filtering by chain!\n",
      "Adding gpcr to selection!\n",
      "Number valid gpcr atoms: 0\n",
      "In total using 0 valid atoms!\n",
      "Searching nodes in the interaction site...\n",
      "getting interaction site\n",
      "Selected edge criterion: ['self', 'distance']\n",
      "Selected edge features: ['unitary', 'distance', 'EM']\n",
      "Selected criterion for node selection: Interaction Site\n",
      "Filtering by chain!\n",
      "Adding gpcr to selection!\n",
      "Number valid gpcr atoms: 0\n",
      "In total using 0 valid atoms!\n",
      "Searching nodes in the interaction site...\n",
      "getting interaction site\n",
      "Selected edge criterion: ['self', 'distance']\n",
      "Selected edge features: ['unitary', 'distance', 'EM']\n",
      "Selected criterion for node selection: Interaction Site\n",
      "Filtering by chain!\n",
      "Adding gpcr to selection!\n",
      "Number valid gpcr atoms: 0\n",
      "In total using 0 valid atoms!\n",
      "Searching nodes in the interaction site...\n",
      "getting interaction site\n",
      "Selected edge criterion: ['self', 'distance']\n",
      "Selected edge features: ['unitary', 'distance', 'EM']\n",
      "Selected criterion for node selection: Interaction Site\n",
      "Filtering by chain!\n",
      "Adding gpcr to selection!\n",
      "Number valid gpcr atoms: 0\n",
      "In total using 0 valid atoms!\n",
      "Searching nodes in the interaction site...\n",
      "getting interaction site\n",
      "Selected edge criterion: ['self', 'distance']\n",
      "Selected edge features: ['unitary', 'distance', 'EM']\n",
      "Selected criterion for node selection: Interaction Site\n",
      "Filtering by chain!\n",
      "Adding gpcr to selection!\n",
      "Number valid gpcr atoms: 0\n",
      "In total using 0 valid atoms!\n",
      "Searching nodes in the interaction site...\n",
      "getting interaction site\n",
      "Selected edge criterion: ['self', 'distance']\n",
      "Selected edge features: ['unitary', 'distance', 'EM']\n",
      "Selected criterion for node selection: Interaction Site\n",
      "Filtering by chain!\n",
      "Adding gpcr to selection!\n",
      "Number valid gpcr atoms: 0\n",
      "In total using 0 valid atoms!\n",
      "Searching nodes in the interaction site...\n",
      "getting interaction site\n",
      "Selected edge criterion: ['self', 'distance']\n",
      "Selected edge features: ['unitary', 'distance', 'EM']\n",
      "Selected criterion for node selection: Interaction Site\n",
      "Filtering by chain!\n",
      "Adding gpcr to selection!\n",
      "Number valid gpcr atoms: 0\n",
      "In total using 0 valid atoms!\n",
      "Searching nodes in the interaction site...\n",
      "getting interaction site\n",
      "Selected edge criterion: ['self', 'distance']\n",
      "Selected edge features: ['unitary', 'distance', 'EM']\n",
      "Selected criterion for node selection: Interaction Site\n",
      "Filtering by chain!\n",
      "Adding gpcr to selection!\n",
      "Number valid gpcr atoms: 0\n",
      "In total using 0 valid atoms!\n",
      "Searching nodes in the interaction site...\n",
      "getting interaction site\n",
      "Selected edge criterion: ['self', 'distance']\n",
      "Selected edge features: ['unitary', 'distance', 'EM']\n",
      "Selected criterion for node selection: Interaction Site\n",
      "Filtering by chain!\n",
      "Adding gpcr to selection!\n",
      "Number valid gpcr atoms: 0\n",
      "In total using 0 valid atoms!\n",
      "Searching nodes in the interaction site...\n",
      "getting interaction site\n",
      "Selected edge criterion: ['self', 'distance']\n",
      "Selected edge features: ['unitary', 'distance', 'EM']\n",
      "Selected criterion for node selection: Interaction Site\n",
      "Filtering by chain!\n",
      "Adding gpcr to selection!\n",
      "Number valid gpcr atoms: 0\n",
      "In total using 0 valid atoms!\n",
      "Searching nodes in the interaction site...\n",
      "getting interaction site\n",
      "Selected edge criterion: ['self', 'distance']\n",
      "Selected edge features: ['unitary', 'distance', 'EM']\n",
      "Selected criterion for node selection: Interaction Site\n",
      "Filtering by chain!\n",
      "Adding gpcr to selection!\n",
      "Number valid gpcr atoms: 0\n",
      "In total using 0 valid atoms!\n",
      "Searching nodes in the interaction site...\n",
      "getting interaction site\n",
      "Selected edge criterion: ['self', 'distance']\n",
      "Selected edge features: ['unitary', 'distance', 'EM']\n",
      "Selected criterion for node selection: Interaction Site\n",
      "Filtering by chain!\n",
      "Adding gpcr to selection!\n",
      "Number valid gpcr atoms: 0\n",
      "In total using 0 valid atoms!\n",
      "Searching nodes in the interaction site...\n",
      "getting interaction site\n",
      "Selected edge criterion: ['self', 'distance']\n",
      "Selected edge features: ['unitary', 'distance', 'EM']\n",
      "Selected criterion for node selection: Interaction Site\n",
      "Filtering by chain!\n",
      "Adding gpcr to selection!\n",
      "Number valid gpcr atoms: 0\n",
      "In total using 0 valid atoms!\n",
      "Searching nodes in the interaction site...\n",
      "getting interaction site\n",
      "Selected edge criterion: ['self', 'distance']\n",
      "Selected edge features: ['unitary', 'distance', 'EM']\n",
      "Selected criterion for node selection: Interaction Site\n",
      "Filtering by chain!\n",
      "Adding gpcr to selection!\n",
      "Number valid gpcr atoms: 0\n",
      "In total using 0 valid atoms!\n",
      "Searching nodes in the interaction site...\n",
      "getting interaction site\n",
      "Selected edge criterion: ['self', 'distance']\n",
      "Selected edge features: ['unitary', 'distance', 'EM']\n",
      "Selected criterion for node selection: Interaction Site\n",
      "Filtering by chain!\n",
      "Adding gpcr to selection!\n",
      "Number valid gpcr atoms: 0\n",
      "In total using 0 valid atoms!\n",
      "Searching nodes in the interaction site...\n",
      "getting interaction site\n",
      "Selected edge criterion: ['self', 'distance']\n",
      "Selected edge features: ['unitary', 'distance', 'EM']\n",
      "Selected criterion for node selection: Interaction Site\n",
      "Filtering by chain!\n",
      "Adding gpcr to selection!\n",
      "Number valid gpcr atoms: 0\n",
      "In total using 0 valid atoms!\n",
      "Searching nodes in the interaction site...\n",
      "getting interaction site\n",
      "Selected edge criterion: ['self', 'distance']\n",
      "Selected edge features: ['unitary', 'distance', 'EM']\n",
      "Selected criterion for node selection: Interaction Site\n",
      "Filtering by chain!\n",
      "Adding gpcr to selection!\n",
      "Number valid gpcr atoms: 0\n",
      "In total using 0 valid atoms!\n",
      "Searching nodes in the interaction site...\n",
      "getting interaction site\n",
      "Selected edge criterion: ['self', 'distance']\n",
      "Selected edge features: ['unitary', 'distance', 'EM']\n",
      "Selected criterion for node selection: Interaction Site\n",
      "Filtering by chain!\n",
      "Adding gpcr to selection!\n",
      "Number valid gpcr atoms: 371\n",
      "In total using 371 valid atoms!\n",
      "Searching nodes in the interaction site...\n",
      "getting interaction site\n",
      "Selected edge criterion: ['self', 'distance']\n",
      "Selected edge features: ['unitary', 'distance', 'EM']\n",
      "Selected criterion for node selection: Interaction Site\n",
      "Filtering by chain!\n",
      "Adding gpcr to selection!\n",
      "Number valid gpcr atoms: 0\n",
      "In total using 0 valid atoms!\n",
      "Searching nodes in the interaction site...\n",
      "getting interaction site\n",
      "Selected edge criterion: ['self', 'distance']\n",
      "Selected edge features: ['unitary', 'distance', 'EM']\n",
      "Selected criterion for node selection: Interaction Site\n",
      "Filtering by chain!\n",
      "Adding gpcr to selection!\n",
      "Number valid gpcr atoms: 0\n",
      "In total using 0 valid atoms!\n",
      "Searching nodes in the interaction site...\n",
      "getting interaction site\n",
      "Selected edge criterion: ['self', 'distance']\n",
      "Selected edge features: ['unitary', 'distance', 'EM']\n",
      "Selected criterion for node selection: Interaction Site\n",
      "Filtering by chain!\n",
      "Adding gpcr to selection!\n",
      "Number valid gpcr atoms: 0\n",
      "In total using 0 valid atoms!\n",
      "Searching nodes in the interaction site...\n",
      "getting interaction site\n",
      "Selected edge criterion: ['self', 'distance']\n",
      "Selected edge features: ['unitary', 'distance', 'EM']\n",
      "Selected criterion for node selection: Interaction Site\n",
      "Filtering by chain!\n",
      "Adding gpcr to selection!\n",
      "Number valid gpcr atoms: 0\n",
      "In total using 0 valid atoms!\n",
      "Searching nodes in the interaction site...\n",
      "getting interaction site\n",
      "Selected edge criterion: ['self', 'distance']\n",
      "Selected edge features: ['unitary', 'distance', 'EM']\n",
      "Selected criterion for node selection: Interaction Site\n",
      "Filtering by chain!\n",
      "Adding gpcr to selection!\n",
      "Number valid gpcr atoms: 0\n",
      "In total using 0 valid atoms!\n",
      "Searching nodes in the interaction site...\n",
      "getting interaction site\n",
      "Selected edge criterion: ['self', 'distance']\n",
      "Selected edge features: ['unitary', 'distance', 'EM']\n",
      "Selected criterion for node selection: Interaction Site\n",
      "Filtering by chain!\n",
      "Adding gpcr to selection!\n",
      "Number valid gpcr atoms: 0\n",
      "In total using 0 valid atoms!\n",
      "Searching nodes in the interaction site...\n",
      "getting interaction site\n",
      "Selected edge criterion: ['self', 'distance']\n",
      "Selected edge features: ['unitary', 'distance', 'EM']\n",
      "Selected criterion for node selection: Interaction Site\n",
      "Filtering by chain!\n",
      "Adding gpcr to selection!\n",
      "Number valid gpcr atoms: 0\n",
      "In total using 0 valid atoms!\n",
      "Searching nodes in the interaction site...\n",
      "getting interaction site\n",
      "Selected edge criterion: ['self', 'distance']\n",
      "Selected edge features: ['unitary', 'distance', 'EM']\n",
      "Selected criterion for node selection: Interaction Site\n",
      "Filtering by chain!\n",
      "Adding gpcr to selection!\n",
      "Number valid gpcr atoms: 0\n",
      "In total using 0 valid atoms!\n",
      "Searching nodes in the interaction site...\n",
      "getting interaction site\n",
      "Selected edge criterion: ['self', 'distance']\n",
      "Selected edge features: ['unitary', 'distance', 'EM']\n",
      "Selected criterion for node selection: Interaction Site\n",
      "Filtering by chain!\n",
      "Adding gpcr to selection!\n"
     ]
    },
    {
     "name": "stderr",
     "output_type": "stream",
     "text": [
      "\r",
      " 35%|█████████████████████████████████████████████████████████████████████                                                                                                                              | 126/356 [00:01<00:02, 96.07it/s]"
     ]
    },
    {
     "name": "stdout",
     "output_type": "stream",
     "text": [
      "Number valid gpcr atoms: 266\n",
      "In total using 266 valid atoms!\n",
      "Searching nodes in the interaction site...\n",
      "getting interaction site\n",
      "\n",
      "\n",
      "\n",
      "\n",
      "Selected edge criterion: ['self', 'distance']\n",
      "Selected edge features: ['unitary', 'distance', 'EM']\n",
      "Selected criterion for node selection: Interaction Site\n",
      "Filtering by chain!\n",
      "Adding gpcr to selection!\n",
      "Number valid gpcr atoms: 0\n",
      "In total using 0 valid atoms!\n",
      "Searching nodes in the interaction site...\n",
      "getting interaction site\n",
      "Selected edge criterion: ['self', 'distance']\n",
      "Selected edge features: ['unitary', 'distance', 'EM']\n",
      "Selected criterion for node selection: Interaction Site\n",
      "Filtering by chain!\n",
      "Adding gpcr to selection!\n",
      "Number valid gpcr atoms: 0\n",
      "In total using 0 valid atoms!\n",
      "Searching nodes in the interaction site...\n",
      "getting interaction site\n",
      "Selected edge criterion: ['self', 'distance']\n",
      "Selected edge features: ['unitary', 'distance', 'EM']\n",
      "Selected criterion for node selection: Interaction Site\n",
      "Filtering by chain!\n",
      "Adding gpcr to selection!\n",
      "Number valid gpcr atoms: 0\n",
      "In total using 0 valid atoms!\n",
      "Searching nodes in the interaction site...\n",
      "getting interaction site\n",
      "Selected edge criterion: ['self', 'distance']\n",
      "Selected edge features: ['unitary', 'distance', 'EM']\n",
      "Selected criterion for node selection: Interaction Site\n",
      "Filtering by chain!\n",
      "Adding gpcr to selection!\n",
      "Number valid gpcr atoms: 0\n",
      "In total using 0 valid atoms!\n",
      "Searching nodes in the interaction site...\n",
      "getting interaction site\n",
      "Selected edge criterion: ['self', 'distance']\n",
      "Selected edge features: ['unitary', 'distance', 'EM']\n",
      "Selected criterion for node selection: Interaction Site\n",
      "Filtering by chain!\n",
      "Adding gpcr to selection!\n",
      "Number valid gpcr atoms: 0\n",
      "In total using 0 valid atoms!\n",
      "Searching nodes in the interaction site...\n",
      "getting interaction site\n",
      "Selected edge criterion: ['self', 'distance']\n",
      "Selected edge features: ['unitary', 'distance', 'EM']\n",
      "Selected criterion for node selection: Interaction Site\n",
      "Filtering by chain!\n",
      "Adding gpcr to selection!\n",
      "Number valid gpcr atoms: 446\n",
      "In total using 446 valid atoms!\n",
      "Searching nodes in the interaction site...\n",
      "getting interaction site\n"
     ]
    },
    {
     "name": "stderr",
     "output_type": "stream",
     "text": [
      "\r",
      " 39%|████████████████████████████████████████████████████████████████████████████▏                                                                                                                      | 139/356 [00:02<00:03, 59.72it/s]"
     ]
    },
    {
     "name": "stdout",
     "output_type": "stream",
     "text": [
      "\n",
      "\n",
      "\n",
      "\n",
      "Selected edge criterion: ['self', 'distance']\n",
      "Selected edge features: ['unitary', 'distance', 'EM']\n",
      "Selected criterion for node selection: Interaction Site\n",
      "Filtering by chain!\n",
      "Adding gpcr to selection!\n",
      "Number valid gpcr atoms: 441\n",
      "In total using 441 valid atoms!\n",
      "Searching nodes in the interaction site...\n",
      "getting interaction site\n",
      "\n",
      "\n",
      "\n",
      "\n",
      "Selected edge criterion: ['self', 'distance']\n",
      "Selected edge features: ['unitary', 'distance', 'EM']\n",
      "Selected criterion for node selection: Interaction Site\n",
      "Filtering by chain!\n",
      "Adding gpcr to selection!\n",
      "Number valid gpcr atoms: 0\n",
      "In total using 0 valid atoms!\n",
      "Searching nodes in the interaction site...\n",
      "getting interaction site\n",
      "Selected edge criterion: ['self', 'distance']\n",
      "Selected edge features: ['unitary', 'distance', 'EM']\n",
      "Selected criterion for node selection: Interaction Site\n",
      "Filtering by chain!\n",
      "Adding gpcr to selection!\n",
      "Number valid gpcr atoms: 0\n",
      "In total using 0 valid atoms!\n",
      "Searching nodes in the interaction site...\n",
      "getting interaction site\n",
      "Selected edge criterion: ['self', 'distance']\n",
      "Selected edge features: ['unitary', 'distance', 'EM']\n",
      "Selected criterion for node selection: Interaction Site\n",
      "Filtering by chain!\n",
      "Adding gpcr to selection!\n",
      "Number valid gpcr atoms: 0\n",
      "In total using 0 valid atoms!\n",
      "Searching nodes in the interaction site...\n",
      "getting interaction site\n",
      "Selected edge criterion: ['self', 'distance']\n",
      "Selected edge features: ['unitary', 'distance', 'EM']\n",
      "Selected criterion for node selection: Interaction Site\n",
      "Filtering by chain!\n",
      "Adding gpcr to selection!\n",
      "Number valid gpcr atoms: 0\n",
      "In total using 0 valid atoms!\n",
      "Searching nodes in the interaction site...\n",
      "getting interaction site\n",
      "Selected edge criterion: ['self', 'distance']\n",
      "Selected edge features: ['unitary', 'distance', 'EM']\n",
      "Selected criterion for node selection: Interaction Site\n",
      "Filtering by chain!\n",
      "Adding gpcr to selection!\n",
      "Number valid gpcr atoms: 0\n",
      "In total using 0 valid atoms!\n",
      "Searching nodes in the interaction site...\n",
      "getting interaction site\n",
      "Selected edge criterion: ['self', 'distance']\n",
      "Selected edge features: ['unitary', 'distance', 'EM']\n",
      "Selected criterion for node selection: Interaction Site\n",
      "Filtering by chain!\n",
      "Adding gpcr to selection!\n",
      "Number valid gpcr atoms: 0\n",
      "In total using 0 valid atoms!\n",
      "Searching nodes in the interaction site...\n",
      "getting interaction site\n",
      "Selected edge criterion: ['self', 'distance']\n",
      "Selected edge features: ['unitary', 'distance', 'EM']\n",
      "Selected criterion for node selection: Interaction Site\n",
      "Filtering by chain!\n",
      "Adding gpcr to selection!\n",
      "Number valid gpcr atoms: 0\n",
      "In total using 0 valid atoms!\n",
      "Searching nodes in the interaction site...\n",
      "getting interaction site\n",
      "Selected edge criterion: ['self', 'distance']\n",
      "Selected edge features: ['unitary', 'distance', 'EM']\n",
      "Selected criterion for node selection: Interaction Site\n",
      "Filtering by chain!\n",
      "Adding gpcr to selection!\n",
      "Number valid gpcr atoms: 0\n",
      "In total using 0 valid atoms!\n",
      "Searching nodes in the interaction site...\n",
      "getting interaction site\n",
      "Selected edge criterion: ['self', 'distance']\n",
      "Selected edge features: ['unitary', 'distance', 'EM']\n",
      "Selected criterion for node selection: Interaction Site\n",
      "Filtering by chain!\n",
      "Adding gpcr to selection!\n",
      "Number valid gpcr atoms: 0\n",
      "In total using 0 valid atoms!\n",
      "Searching nodes in the interaction site...\n",
      "getting interaction site\n",
      "Selected edge criterion: ['self', 'distance']\n",
      "Selected edge features: ['unitary', 'distance', 'EM']\n",
      "Selected criterion for node selection: Interaction Site\n",
      "Filtering by chain!\n",
      "Adding gpcr to selection!\n",
      "Number valid gpcr atoms: 431\n",
      "In total using 431 valid atoms!\n",
      "Searching nodes in the interaction site...\n",
      "getting interaction site\n",
      "Selected edge criterion: ['self', 'distance']\n",
      "Selected edge features: ['unitary', 'distance', 'EM']\n",
      "Selected criterion for node selection: Interaction Site\n",
      "Filtering by chain!\n",
      "Adding gpcr to selection!\n",
      "Number valid gpcr atoms: 428\n",
      "In total using 428 valid atoms!\n",
      "Searching nodes in the interaction site...\n",
      "getting interaction site\n",
      "Selected edge criterion: ['self', 'distance']\n",
      "Selected edge features: ['unitary', 'distance', 'EM']\n",
      "Selected criterion for node selection: Interaction Site\n",
      "Filtering by chain!\n",
      "Adding gpcr to selection!\n",
      "Number valid gpcr atoms: 0\n",
      "In total using 0 valid atoms!\n",
      "Searching nodes in the interaction site...\n",
      "getting interaction site\n",
      "Selected edge criterion: ['self', 'distance']\n",
      "Selected edge features: ['unitary', 'distance', 'EM']\n",
      "Selected criterion for node selection: Interaction Site\n",
      "Filtering by chain!\n",
      "Adding gpcr to selection!\n",
      "Number valid gpcr atoms: 0\n",
      "In total using 0 valid atoms!\n",
      "Searching nodes in the interaction site...\n",
      "getting interaction site\n",
      "Selected edge criterion: ['self', 'distance']\n",
      "Selected edge features: ['unitary', 'distance', 'EM']\n",
      "Selected criterion for node selection: Interaction Site\n",
      "Filtering by chain!\n",
      "Adding gpcr to selection!\n",
      "Number valid gpcr atoms: 0\n",
      "In total using 0 valid atoms!\n",
      "Searching nodes in the interaction site...\n",
      "getting interaction site\n",
      "Selected edge criterion: ['self', 'distance']\n",
      "Selected edge features: ['unitary', 'distance', 'EM']\n",
      "Selected criterion for node selection: Interaction Site\n",
      "Filtering by chain!\n",
      "Adding gpcr to selection!\n",
      "Number valid gpcr atoms: 0\n",
      "In total using 0 valid atoms!\n",
      "Searching nodes in the interaction site...\n",
      "getting interaction site\n",
      "Selected edge criterion: ['self', 'distance']\n",
      "Selected edge features: ['unitary', 'distance', 'EM']\n",
      "Selected criterion for node selection: Interaction Site\n",
      "Filtering by chain!\n",
      "Adding gpcr to selection!\n",
      "Number valid gpcr atoms: 0\n",
      "In total using 0 valid atoms!\n",
      "Searching nodes in the interaction site...\n",
      "getting interaction site\n",
      "Selected edge criterion: ['self', 'distance']\n",
      "Selected edge features: ['unitary', 'distance', 'EM']\n",
      "Selected criterion for node selection: Interaction Site\n",
      "Filtering by chain!\n",
      "Adding gpcr to selection!\n",
      "Number valid gpcr atoms: 0\n",
      "In total using 0 valid atoms!\n",
      "Searching nodes in the interaction site...\n",
      "getting interaction site\n",
      "Selected edge criterion: ['self', 'distance']\n",
      "Selected edge features: ['unitary', 'distance', 'EM']\n",
      "Selected criterion for node selection: Interaction Site\n",
      "Filtering by chain!\n",
      "Adding gpcr to selection!\n",
      "Number valid gpcr atoms: 0\n",
      "In total using 0 valid atoms!\n",
      "Searching nodes in the interaction site...\n",
      "getting interaction site\n",
      "Selected edge criterion: ['self', 'distance']\n",
      "Selected edge features: ['unitary', 'distance', 'EM']\n",
      "Selected criterion for node selection: Interaction Site\n",
      "Filtering by chain!\n",
      "Adding gpcr to selection!\n",
      "Number valid gpcr atoms: 0\n",
      "In total using 0 valid atoms!\n",
      "Searching nodes in the interaction site...\n",
      "getting interaction site\n",
      "Selected edge criterion: ['self', 'distance']\n",
      "Selected edge features: ['unitary', 'distance', 'EM']\n",
      "Selected criterion for node selection: Interaction Site\n",
      "Filtering by chain!\n",
      "Adding gpcr to selection!\n",
      "Number valid gpcr atoms: 0\n",
      "In total using 0 valid atoms!\n",
      "Searching nodes in the interaction site...\n",
      "getting interaction site\n",
      "Selected edge criterion: ['self', 'distance']\n",
      "Selected edge features: ['unitary', 'distance', 'EM']\n",
      "Selected criterion for node selection: Interaction Site\n",
      "Filtering by chain!\n",
      "Adding gpcr to selection!\n",
      "Number valid gpcr atoms: 0\n",
      "In total using 0 valid atoms!\n",
      "Searching nodes in the interaction site...\n",
      "getting interaction site\n",
      "Selected edge criterion: ['self', 'distance']\n",
      "Selected edge features: ['unitary', 'distance', 'EM']\n",
      "Selected criterion for node selection: Interaction Site\n",
      "Filtering by chain!\n",
      "Adding gpcr to selection!\n",
      "Number valid gpcr atoms: 0\n",
      "In total using 0 valid atoms!\n",
      "Searching nodes in the interaction site...\n",
      "getting interaction site\n",
      "Selected edge criterion: ['self', 'distance']\n",
      "Selected edge features: ['unitary', 'distance', 'EM']\n",
      "Selected criterion for node selection: Interaction Site\n",
      "Filtering by chain!\n",
      "Adding gpcr to selection!\n",
      "Number valid gpcr atoms: 0\n",
      "In total using 0 valid atoms!\n",
      "Searching nodes in the interaction site...\n",
      "getting interaction site\n",
      "Selected edge criterion: ['self', 'distance']\n",
      "Selected edge features: ['unitary', 'distance', 'EM']\n",
      "Selected criterion for node selection: Interaction Site\n",
      "Filtering by chain!\n",
      "Adding gpcr to selection!\n",
      "Number valid gpcr atoms: 0\n",
      "In total using 0 valid atoms!\n",
      "Searching nodes in the interaction site...\n",
      "getting interaction site\n",
      "Selected edge criterion: ['self', 'distance']\n",
      "Selected edge features: ['unitary', 'distance', 'EM']\n",
      "Selected criterion for node selection: Interaction Site\n",
      "Filtering by chain!\n",
      "Adding gpcr to selection!\n",
      "Number valid gpcr atoms: 0\n",
      "In total using 0 valid atoms!\n",
      "Searching nodes in the interaction site...\n",
      "getting interaction site\n",
      "Selected edge criterion: ['self', 'distance']\n",
      "Selected edge features: ['unitary', 'distance', 'EM']\n",
      "Selected criterion for node selection: Interaction Site\n",
      "Filtering by chain!\n",
      "Adding gpcr to selection!\n",
      "Number valid gpcr atoms: 0\n",
      "In total using 0 valid atoms!\n",
      "Searching nodes in the interaction site...\n",
      "getting interaction site\n",
      "Selected edge criterion: ['self', 'distance']\n",
      "Selected edge features: ['unitary', 'distance', 'EM']\n",
      "Selected criterion for node selection: Interaction Site\n",
      "Filtering by chain!\n",
      "Adding gpcr to selection!\n",
      "Number valid gpcr atoms: 272\n",
      "In total using 272 valid atoms!\n",
      "Searching nodes in the interaction site...\n",
      "getting interaction site\n",
      "Selected edge criterion: ['self', 'distance']\n",
      "Selected edge features: ['unitary', 'distance', 'EM']\n",
      "Selected criterion for node selection: Interaction Site\n",
      "Filtering by chain!\n",
      "Adding gpcr to selection!\n",
      "Number valid gpcr atoms: 0\n",
      "In total using 0 valid atoms!\n",
      "Searching nodes in the interaction site...\n",
      "getting interaction site\n",
      "Selected edge criterion: ['self', 'distance']\n",
      "Selected edge features: ['unitary', 'distance', 'EM']\n",
      "Selected criterion for node selection: Interaction Site\n",
      "Filtering by chain!\n",
      "Adding gpcr to selection!\n",
      "Number valid gpcr atoms: 0\n",
      "In total using 0 valid atoms!\n",
      "Searching nodes in the interaction site...\n",
      "getting interaction site\n",
      "Selected edge criterion: ['self', 'distance']\n",
      "Selected edge features: ['unitary', 'distance', 'EM']\n",
      "Selected criterion for node selection: Interaction Site\n",
      "Filtering by chain!\n",
      "Adding gpcr to selection!\n",
      "Number valid gpcr atoms: 0\n",
      "In total using 0 valid atoms!\n",
      "Searching nodes in the interaction site...\n",
      "getting interaction site\n",
      "Selected edge criterion: ['self', 'distance']\n",
      "Selected edge features: ['unitary', 'distance', 'EM']\n",
      "Selected criterion for node selection: Interaction Site\n",
      "Filtering by chain!\n",
      "Adding gpcr to selection!\n",
      "Number valid gpcr atoms: 380\n",
      "In total using 380 valid atoms!\n",
      "Searching nodes in the interaction site...\n",
      "getting interaction site\n"
     ]
    },
    {
     "name": "stderr",
     "output_type": "stream",
     "text": [
      "\r",
      " 46%|█████████████████████████████████████████████████████████████████████████████████████████▊                                                                                                         | 164/356 [00:02<00:02, 71.63it/s]"
     ]
    },
    {
     "name": "stdout",
     "output_type": "stream",
     "text": [
      "\n",
      "\n",
      "\n",
      "\n",
      "Selected edge criterion: ['self', 'distance']\n",
      "Selected edge features: ['unitary', 'distance', 'EM']\n",
      "Selected criterion for node selection: Interaction Site\n",
      "Filtering by chain!\n",
      "Adding gpcr to selection!\n",
      "Number valid gpcr atoms: 281\n",
      "In total using 281 valid atoms!\n",
      "Searching nodes in the interaction site...\n",
      "getting interaction site\n",
      "Selected edge criterion: ['self', 'distance']\n",
      "Selected edge features: ['unitary', 'distance', 'EM']\n",
      "Selected criterion for node selection: Interaction Site\n",
      "Filtering by chain!\n",
      "Adding gpcr to selection!\n",
      "Number valid gpcr atoms: 378\n",
      "In total using 378 valid atoms!\n",
      "Searching nodes in the interaction site...\n",
      "getting interaction site\n",
      "\n",
      "\n",
      "\n",
      "\n",
      "Selected edge criterion: ['self', 'distance']\n",
      "Selected edge features: ['unitary', 'distance', 'EM']\n",
      "Selected criterion for node selection: Interaction Site\n",
      "Filtering by chain!\n",
      "Adding gpcr to selection!\n",
      "Number valid gpcr atoms: 0\n",
      "In total using 0 valid atoms!\n",
      "Searching nodes in the interaction site...\n",
      "getting interaction site\n",
      "Selected edge criterion: ['self', 'distance']\n",
      "Selected edge features: ['unitary', 'distance', 'EM']\n",
      "Selected criterion for node selection: Interaction Site\n",
      "Filtering by chain!\n",
      "Adding gpcr to selection!\n",
      "Number valid gpcr atoms: 0\n",
      "In total using 0 valid atoms!\n",
      "Searching nodes in the interaction site...\n",
      "getting interaction site\n",
      "Selected edge criterion: ['self', 'distance']\n",
      "Selected edge features: ['unitary', 'distance', 'EM']\n",
      "Selected criterion for node selection: Interaction Site\n",
      "Filtering by chain!\n",
      "Adding gpcr to selection!\n",
      "Number valid gpcr atoms: 0\n",
      "In total using 0 valid atoms!\n",
      "Searching nodes in the interaction site...\n",
      "getting interaction site\n",
      "Selected edge criterion: ['self', 'distance']\n",
      "Selected edge features: ['unitary', 'distance', 'EM']\n",
      "Selected criterion for node selection: Interaction Site\n",
      "Filtering by chain!\n",
      "Adding gpcr to selection!\n",
      "Number valid gpcr atoms: 0\n",
      "In total using 0 valid atoms!\n",
      "Searching nodes in the interaction site...\n",
      "getting interaction site\n",
      "Selected edge criterion: ['self', 'distance']\n",
      "Selected edge features: ['unitary', 'distance', 'EM']\n",
      "Selected criterion for node selection: Interaction Site\n",
      "Filtering by chain!\n",
      "Adding gpcr to selection!\n",
      "Number valid gpcr atoms: 288\n",
      "In total using 288 valid atoms!\n",
      "Searching nodes in the interaction site...\n",
      "getting interaction site\n"
     ]
    },
    {
     "name": "stderr",
     "output_type": "stream",
     "text": [
      "\r",
      " 49%|███████████████████████████████████████████████████████████████████████████████████████████████▎                                                                                                   | 174/356 [00:03<00:03, 47.34it/s]"
     ]
    },
    {
     "name": "stdout",
     "output_type": "stream",
     "text": [
      "\n",
      "\n",
      "\n",
      "\n",
      "Selected edge criterion: ['self', 'distance']\n",
      "Selected edge features: ['unitary', 'distance', 'EM']\n",
      "Selected criterion for node selection: Interaction Site\n",
      "Filtering by chain!\n",
      "Adding gpcr to selection!\n",
      "Number valid gpcr atoms: 304\n",
      "In total using 304 valid atoms!\n",
      "Searching nodes in the interaction site...\n",
      "getting interaction site\n",
      "Selected edge criterion: ['self', 'distance']\n",
      "Selected edge features: ['unitary', 'distance', 'EM']\n",
      "Selected criterion for node selection: Interaction Site\n",
      "Filtering by chain!\n",
      "Adding gpcr to selection!\n",
      "Number valid gpcr atoms: 0\n",
      "In total using 0 valid atoms!\n",
      "Searching nodes in the interaction site...\n",
      "getting interaction site\n",
      "Selected edge criterion: ['self', 'distance']\n",
      "Selected edge features: ['unitary', 'distance', 'EM']\n",
      "Selected criterion for node selection: Interaction Site\n",
      "Filtering by chain!\n",
      "Adding gpcr to selection!\n",
      "Number valid gpcr atoms: 0\n",
      "In total using 0 valid atoms!\n",
      "Searching nodes in the interaction site...\n",
      "getting interaction site\n",
      "Selected edge criterion: ['self', 'distance']\n",
      "Selected edge features: ['unitary', 'distance', 'EM']\n",
      "Selected criterion for node selection: Interaction Site\n",
      "Filtering by chain!\n",
      "Adding gpcr to selection!\n",
      "Number valid gpcr atoms: 0\n",
      "In total using 0 valid atoms!\n",
      "Searching nodes in the interaction site...\n",
      "getting interaction site\n",
      "Selected edge criterion: ['self', 'distance']\n",
      "Selected edge features: ['unitary', 'distance', 'EM']\n",
      "Selected criterion for node selection: Interaction Site\n",
      "Filtering by chain!\n",
      "Adding gpcr to selection!\n",
      "Number valid gpcr atoms: 0\n",
      "In total using 0 valid atoms!\n",
      "Searching nodes in the interaction site...\n",
      "getting interaction site\n",
      "Selected edge criterion: ['self', 'distance']\n",
      "Selected edge features: ['unitary', 'distance', 'EM']\n",
      "Selected criterion for node selection: Interaction Site\n",
      "Filtering by chain!\n",
      "Adding gpcr to selection!\n",
      "Number valid gpcr atoms: 0\n",
      "In total using 0 valid atoms!\n",
      "Searching nodes in the interaction site...\n",
      "getting interaction site\n",
      "Selected edge criterion: ['self', 'distance']\n",
      "Selected edge features: ['unitary', 'distance', 'EM']\n",
      "Selected criterion for node selection: Interaction Site\n",
      "Filtering by chain!\n",
      "Adding gpcr to selection!\n",
      "Number valid gpcr atoms: 476\n",
      "In total using 476 valid atoms!\n",
      "Searching nodes in the interaction site...\n",
      "getting interaction site\n",
      "Selected edge criterion: ['self', 'distance']\n",
      "Selected edge features: ['unitary', 'distance', 'EM']\n",
      "Selected criterion for node selection: Interaction Site\n",
      "Filtering by chain!\n",
      "Adding gpcr to selection!\n",
      "Number valid gpcr atoms: 0\n",
      "In total using 0 valid atoms!\n",
      "Searching nodes in the interaction site...\n",
      "getting interaction site\n",
      "Selected edge criterion: ['self', 'distance']\n",
      "Selected edge features: ['unitary', 'distance', 'EM']\n",
      "Selected criterion for node selection: Interaction Site\n",
      "Filtering by chain!\n",
      "Adding gpcr to selection!\n",
      "Number valid gpcr atoms: 0\n",
      "In total using 0 valid atoms!\n",
      "Searching nodes in the interaction site...\n",
      "getting interaction site\n",
      "Selected edge criterion: ['self', 'distance']\n",
      "Selected edge features: ['unitary', 'distance', 'EM']\n",
      "Selected criterion for node selection: Interaction Site\n",
      "Filtering by chain!\n",
      "Adding gpcr to selection!\n",
      "Number valid gpcr atoms: 0\n",
      "In total using 0 valid atoms!\n",
      "Searching nodes in the interaction site...\n",
      "getting interaction site\n",
      "Selected edge criterion: ['self', 'distance']\n",
      "Selected edge features: ['unitary', 'distance', 'EM']\n",
      "Selected criterion for node selection: Interaction Site\n",
      "Filtering by chain!\n",
      "Adding gpcr to selection!\n",
      "Number valid gpcr atoms: 262\n",
      "In total using 262 valid atoms!\n",
      "Searching nodes in the interaction site...\n",
      "getting interaction site\n"
     ]
    },
    {
     "name": "stderr",
     "output_type": "stream",
     "text": [
      "\r",
      " 51%|███████████████████████████████████████████████████████████████████████████████████████████████████▋                                                                                               | 182/356 [00:03<00:03, 47.16it/s]"
     ]
    },
    {
     "name": "stdout",
     "output_type": "stream",
     "text": [
      "\n",
      "\n",
      "\n",
      "\n",
      "Selected edge criterion: ['self', 'distance']\n",
      "Selected edge features: ['unitary', 'distance', 'EM']\n",
      "Selected criterion for node selection: Interaction Site\n",
      "Filtering by chain!\n",
      "Adding gpcr to selection!\n",
      "Number valid gpcr atoms: 264\n",
      "In total using 264 valid atoms!\n",
      "Searching nodes in the interaction site...\n",
      "getting interaction site\n"
     ]
    },
    {
     "name": "stderr",
     "output_type": "stream",
     "text": [
      " 55%|███████████████████████████████████████████████████████████████████████████████████████████████████████████▎                                                                                       | 196/356 [00:04<00:04, 34.85it/s]"
     ]
    },
    {
     "name": "stdout",
     "output_type": "stream",
     "text": [
      "\n",
      "\n",
      "\n",
      "\n",
      "Selected edge criterion: ['self', 'distance']\n",
      "Selected edge features: ['unitary', 'distance', 'EM']\n",
      "Selected criterion for node selection: Interaction Site\n",
      "Filtering by chain!\n",
      "Adding gpcr to selection!\n",
      "Number valid gpcr atoms: 0\n",
      "In total using 0 valid atoms!\n",
      "Searching nodes in the interaction site...\n",
      "getting interaction site\n",
      "Selected edge criterion: ['self', 'distance']\n",
      "Selected edge features: ['unitary', 'distance', 'EM']\n",
      "Selected criterion for node selection: Interaction Site\n",
      "Filtering by chain!\n",
      "Adding gpcr to selection!\n",
      "Number valid gpcr atoms: 0\n",
      "In total using 0 valid atoms!\n",
      "Searching nodes in the interaction site...\n",
      "getting interaction site\n",
      "Selected edge criterion: ['self', 'distance']\n",
      "Selected edge features: ['unitary', 'distance', 'EM']\n",
      "Selected criterion for node selection: Interaction Site\n",
      "Filtering by chain!\n",
      "Adding gpcr to selection!\n",
      "Number valid gpcr atoms: 0\n",
      "In total using 0 valid atoms!\n",
      "Searching nodes in the interaction site...\n",
      "getting interaction site\n",
      "Selected edge criterion: ['self', 'distance']\n",
      "Selected edge features: ['unitary', 'distance', 'EM']\n",
      "Selected criterion for node selection: Interaction Site\n",
      "Filtering by chain!\n",
      "Adding gpcr to selection!\n",
      "Number valid gpcr atoms: 0\n",
      "In total using 0 valid atoms!\n",
      "Searching nodes in the interaction site...\n",
      "getting interaction site\n",
      "Selected edge criterion: ['self', 'distance']\n",
      "Selected edge features: ['unitary', 'distance', 'EM']\n",
      "Selected criterion for node selection: Interaction Site\n",
      "Filtering by chain!\n",
      "Adding gpcr to selection!\n",
      "Number valid gpcr atoms: 0\n",
      "In total using 0 valid atoms!\n",
      "Searching nodes in the interaction site...\n",
      "getting interaction site\n",
      "Selected edge criterion: ['self', 'distance']\n",
      "Selected edge features: ['unitary', 'distance', 'EM']\n",
      "Selected criterion for node selection: Interaction Site\n",
      "Filtering by chain!\n",
      "Adding gpcr to selection!\n",
      "Number valid gpcr atoms: 0\n",
      "In total using 0 valid atoms!\n",
      "Searching nodes in the interaction site...\n",
      "getting interaction site\n",
      "Selected edge criterion: ['self', 'distance']\n",
      "Selected edge features: ['unitary', 'distance', 'EM']\n",
      "Selected criterion for node selection: Interaction Site\n",
      "Filtering by chain!\n",
      "Adding gpcr to selection!\n",
      "Number valid gpcr atoms: 0\n",
      "In total using 0 valid atoms!\n",
      "Searching nodes in the interaction site...\n",
      "getting interaction site\n",
      "Selected edge criterion: ['self', 'distance']\n",
      "Selected edge features: ['unitary', 'distance', 'EM']\n",
      "Selected criterion for node selection: Interaction Site\n",
      "Filtering by chain!\n",
      "Adding gpcr to selection!\n",
      "Number valid gpcr atoms: 0\n",
      "In total using 0 valid atoms!\n",
      "Searching nodes in the interaction site...\n",
      "getting interaction site\n",
      "Selected edge criterion: ['self', 'distance']\n",
      "Selected edge features: ['unitary', 'distance', 'EM']\n",
      "Selected criterion for node selection: Interaction Site\n",
      "Filtering by chain!\n",
      "Adding gpcr to selection!\n",
      "Number valid gpcr atoms: 0\n",
      "In total using 0 valid atoms!\n",
      "Searching nodes in the interaction site...\n",
      "getting interaction site\n",
      "Selected edge criterion: ['self', 'distance']\n",
      "Selected edge features: ['unitary', 'distance', 'EM']\n",
      "Selected criterion for node selection: Interaction Site\n",
      "Filtering by chain!\n",
      "Adding gpcr to selection!\n",
      "Number valid gpcr atoms: 0\n",
      "In total using 0 valid atoms!\n",
      "Searching nodes in the interaction site...\n",
      "getting interaction site\n",
      "Selected edge criterion: ['self', 'distance']\n",
      "Selected edge features: ['unitary', 'distance', 'EM']\n",
      "Selected criterion for node selection: Interaction Site\n",
      "Filtering by chain!\n",
      "Adding gpcr to selection!\n",
      "Number valid gpcr atoms: 0\n",
      "In total using 0 valid atoms!\n",
      "Searching nodes in the interaction site...\n",
      "getting interaction site\n",
      "Selected edge criterion: ['self', 'distance']\n",
      "Selected edge features: ['unitary', 'distance', 'EM']\n",
      "Selected criterion for node selection: Interaction Site\n",
      "Filtering by chain!\n",
      "Adding gpcr to selection!\n",
      "Number valid gpcr atoms: 0\n",
      "In total using 0 valid atoms!\n",
      "Searching nodes in the interaction site...\n",
      "getting interaction site\n",
      "Selected edge criterion: ['self', 'distance']\n",
      "Selected edge features: ['unitary', 'distance', 'EM']\n",
      "Selected criterion for node selection: Interaction Site\n",
      "Filtering by chain!\n",
      "Adding gpcr to selection!\n",
      "Number valid gpcr atoms: 243\n",
      "In total using 243 valid atoms!\n",
      "Searching nodes in the interaction site...\n",
      "getting interaction site\n",
      "\n",
      "\n",
      "\n",
      "\n"
     ]
    },
    {
     "name": "stderr",
     "output_type": "stream",
     "text": [
      " 58%|████████████████████████████████████████████████████████████████████████████████████████████████████████████████▎                                                                                  | 205/356 [00:04<00:06, 24.90it/s]"
     ]
    },
    {
     "name": "stdout",
     "output_type": "stream",
     "text": [
      "Selected edge criterion: ['self', 'distance']\n",
      "Selected edge features: ['unitary', 'distance', 'EM']\n",
      "Selected criterion for node selection: Interaction Site\n",
      "Filtering by chain!\n",
      "Adding gpcr to selection!\n",
      "Number valid gpcr atoms: 270\n",
      "In total using 270 valid atoms!\n",
      "Searching nodes in the interaction site...\n",
      "getting interaction site\n",
      "\n",
      "\n",
      "\n",
      "\n",
      "Selected edge criterion: ['self', 'distance']\n",
      "Selected edge features: ['unitary', 'distance', 'EM']\n",
      "Selected criterion for node selection: Interaction Site\n",
      "Filtering by chain!\n",
      "Adding gpcr to selection!\n",
      "Number valid gpcr atoms: 0\n",
      "In total using 0 valid atoms!\n",
      "Searching nodes in the interaction site...\n",
      "getting interaction site\n",
      "Selected edge criterion: ['self', 'distance']\n",
      "Selected edge features: ['unitary', 'distance', 'EM']\n",
      "Selected criterion for node selection: Interaction Site\n",
      "Filtering by chain!\n",
      "Adding gpcr to selection!\n",
      "Number valid gpcr atoms: 0\n",
      "In total using 0 valid atoms!\n",
      "Searching nodes in the interaction site...\n",
      "getting interaction site\n",
      "Selected edge criterion: ['self', 'distance']\n",
      "Selected edge features: ['unitary', 'distance', 'EM']\n",
      "Selected criterion for node selection: Interaction Site\n",
      "Filtering by chain!\n",
      "Adding gpcr to selection!\n",
      "Number valid gpcr atoms: 0\n",
      "In total using 0 valid atoms!\n",
      "Searching nodes in the interaction site...\n",
      "getting interaction site\n",
      "Selected edge criterion: ['self', 'distance']\n",
      "Selected edge features: ['unitary', 'distance', 'EM']\n",
      "Selected criterion for node selection: Interaction Site\n",
      "Filtering by chain!\n",
      "Adding gpcr to selection!\n",
      "Number valid gpcr atoms: 0\n",
      "In total using 0 valid atoms!\n",
      "Searching nodes in the interaction site...\n",
      "getting interaction site\n",
      "Selected edge criterion: ['self', 'distance']\n",
      "Selected edge features: ['unitary', 'distance', 'EM']\n",
      "Selected criterion for node selection: Interaction Site\n",
      "Filtering by chain!\n",
      "Adding gpcr to selection!\n",
      "Number valid gpcr atoms: 0\n",
      "In total using 0 valid atoms!\n",
      "Searching nodes in the interaction site...\n",
      "getting interaction site\n",
      "Selected edge criterion: ['self', 'distance']\n",
      "Selected edge features: ['unitary', 'distance', 'EM']\n",
      "Selected criterion for node selection: Interaction Site\n",
      "Filtering by chain!\n",
      "Adding gpcr to selection!\n",
      "Number valid gpcr atoms: 0\n",
      "In total using 0 valid atoms!\n",
      "Searching nodes in the interaction site...\n",
      "getting interaction site\n",
      "Selected edge criterion: ['self', 'distance']\n",
      "Selected edge features: ['unitary', 'distance', 'EM']\n",
      "Selected criterion for node selection: Interaction Site\n",
      "Filtering by chain!\n",
      "Adding gpcr to selection!\n",
      "Number valid gpcr atoms: 0\n",
      "In total using 0 valid atoms!\n",
      "Searching nodes in the interaction site...\n",
      "getting interaction site\n",
      "Selected edge criterion: ['self', 'distance']\n",
      "Selected edge features: ['unitary', 'distance', 'EM']\n",
      "Selected criterion for node selection: Interaction Site\n",
      "Filtering by chain!\n",
      "Adding gpcr to selection!\n",
      "Number valid gpcr atoms: 290\n",
      "In total using 290 valid atoms!\n",
      "Searching nodes in the interaction site...\n",
      "getting interaction site\n",
      "\n",
      "\n",
      "\n",
      "\n"
     ]
    },
    {
     "name": "stderr",
     "output_type": "stream",
     "text": [
      "\r",
      " 58%|█████████████████████████████████████████████████████████████████████████████████████████████████████████████████▉                                                                                 | 208/356 [00:04<00:06, 23.48it/s]"
     ]
    },
    {
     "name": "stdout",
     "output_type": "stream",
     "text": [
      "Selected edge criterion: ['self', 'distance']\n",
      "Selected edge features: ['unitary', 'distance', 'EM']\n",
      "Selected criterion for node selection: Interaction Site\n",
      "Filtering by chain!\n",
      "Adding gpcr to selection!\n",
      "Number valid gpcr atoms: 285\n",
      "In total using 285 valid atoms!\n",
      "Searching nodes in the interaction site...\n",
      "getting interaction site\n",
      "\n",
      "\n",
      "\n",
      "\n",
      "Selected edge criterion: ['self', 'distance']\n",
      "Selected edge features: ['unitary', 'distance', 'EM']\n",
      "Selected criterion for node selection: Interaction Site\n",
      "Filtering by chain!\n",
      "Adding gpcr to selection!\n",
      "Number valid gpcr atoms: 0\n",
      "In total using 0 valid atoms!\n",
      "Searching nodes in the interaction site...\n",
      "getting interaction site\n",
      "Selected edge criterion: ['self', 'distance']\n",
      "Selected edge features: ['unitary', 'distance', 'EM']\n",
      "Selected criterion for node selection: Interaction Site\n",
      "Filtering by chain!\n",
      "Adding gpcr to selection!\n",
      "Number valid gpcr atoms: 0\n",
      "In total using 0 valid atoms!\n",
      "Searching nodes in the interaction site...\n",
      "getting interaction site\n",
      "Selected edge criterion: ['self', 'distance']\n",
      "Selected edge features: ['unitary', 'distance', 'EM']\n",
      "Selected criterion for node selection: Interaction Site\n",
      "Filtering by chain!\n",
      "Adding gpcr to selection!\n",
      "Number valid gpcr atoms: 0\n",
      "In total using 0 valid atoms!\n",
      "Searching nodes in the interaction site...\n",
      "getting interaction site\n",
      "Selected edge criterion: ['self', 'distance']\n",
      "Selected edge features: ['unitary', 'distance', 'EM']\n",
      "Selected criterion for node selection: Interaction Site\n",
      "Filtering by chain!\n",
      "Adding gpcr to selection!\n",
      "Number valid gpcr atoms: 0\n",
      "In total using 0 valid atoms!\n",
      "Searching nodes in the interaction site...\n",
      "getting interaction site\n",
      "Selected edge criterion: ['self', 'distance']\n",
      "Selected edge features: ['unitary', 'distance', 'EM']\n",
      "Selected criterion for node selection: Interaction Site\n",
      "Filtering by chain!\n",
      "Adding gpcr to selection!\n",
      "Number valid gpcr atoms: 0\n",
      "In total using 0 valid atoms!\n",
      "Searching nodes in the interaction site...\n",
      "getting interaction site\n",
      "Selected edge criterion: ['self', 'distance']\n",
      "Selected edge features: ['unitary', 'distance', 'EM']\n",
      "Selected criterion for node selection: Interaction Site\n",
      "Filtering by chain!\n",
      "Adding gpcr to selection!\n",
      "Number valid gpcr atoms: 307\n",
      "In total using 307 valid atoms!\n",
      "Searching nodes in the interaction site...\n",
      "getting interaction site\n"
     ]
    },
    {
     "name": "stderr",
     "output_type": "stream",
     "text": [
      "\r",
      " 60%|████████████████████████████████████████████████████████████████████████████████████████████████████████████████████                                                                               | 212/356 [00:05<00:06, 21.28it/s]"
     ]
    },
    {
     "name": "stdout",
     "output_type": "stream",
     "text": [
      "\n",
      "\n",
      "\n",
      "\n",
      "Selected edge criterion: ['self', 'distance']\n",
      "Selected edge features: ['unitary', 'distance', 'EM']\n",
      "Selected criterion for node selection: Interaction Site\n",
      "Filtering by chain!\n",
      "Adding gpcr to selection!\n",
      "Number valid gpcr atoms: 307\n",
      "In total using 307 valid atoms!\n",
      "Searching nodes in the interaction site...\n",
      "getting interaction site\n",
      "\n",
      "\n",
      "\n",
      "\n",
      "Selected edge criterion: ['self', 'distance']\n",
      "Selected edge features: ['unitary', 'distance', 'EM']\n",
      "Selected criterion for node selection: Interaction Site\n",
      "Filtering by chain!\n",
      "Adding gpcr to selection!\n",
      "Number valid gpcr atoms: 395\n",
      "In total using 395 valid atoms!\n",
      "Searching nodes in the interaction site...\n",
      "getting interaction site\n",
      "\n",
      "\n",
      "\n",
      "\n",
      "Selected edge criterion: ['self', 'distance']\n",
      "Selected edge features: ['unitary', 'distance', 'EM']\n",
      "Selected criterion for node selection: Interaction Site\n",
      "Filtering by chain!\n",
      "Adding gpcr to selection!\n",
      "Number valid gpcr atoms: 395\n",
      "In total using 395 valid atoms!\n",
      "Searching nodes in the interaction site...\n",
      "getting interaction site\n"
     ]
    },
    {
     "name": "stderr",
     "output_type": "stream",
     "text": [
      "\r",
      " 60%|█████████████████████████████████████████████████████████████████████████████████████████████████████████████████████▊                                                                             | 215/356 [00:05<00:10, 13.05it/s]"
     ]
    },
    {
     "name": "stdout",
     "output_type": "stream",
     "text": [
      "\n",
      "\n",
      "\n",
      "\n",
      "Selected edge criterion: ['self', 'distance']\n",
      "Selected edge features: ['unitary', 'distance', 'EM']\n",
      "Selected criterion for node selection: Interaction Site\n",
      "Filtering by chain!\n",
      "Adding gpcr to selection!\n",
      "Number valid gpcr atoms: 0\n",
      "In total using 0 valid atoms!\n",
      "Searching nodes in the interaction site...\n",
      "getting interaction site\n",
      "Selected edge criterion: ['self', 'distance']\n",
      "Selected edge features: ['unitary', 'distance', 'EM']\n",
      "Selected criterion for node selection: Interaction Site\n",
      "Filtering by chain!\n",
      "Adding gpcr to selection!\n",
      "Number valid gpcr atoms: 331\n",
      "In total using 331 valid atoms!\n",
      "Searching nodes in the interaction site...\n",
      "getting interaction site\n"
     ]
    },
    {
     "name": "stderr",
     "output_type": "stream",
     "text": [
      "\r",
      " 61%|██████████████████████████████████████████████████████████████████████████████████████████████████████████████████████▊                                                                            | 217/356 [00:05<00:10, 12.66it/s]"
     ]
    },
    {
     "name": "stdout",
     "output_type": "stream",
     "text": [
      "\n",
      "\n",
      "\n",
      "\n",
      "Selected edge criterion: ['self', 'distance']\n",
      "Selected edge features: ['unitary', 'distance', 'EM']\n",
      "Selected criterion for node selection: Interaction Site\n",
      "Filtering by chain!\n",
      "Adding gpcr to selection!\n",
      "Number valid gpcr atoms: 0\n",
      "In total using 0 valid atoms!\n",
      "Searching nodes in the interaction site...\n",
      "getting interaction site\n",
      "Selected edge criterion: ['self', 'distance']\n",
      "Selected edge features: ['unitary', 'distance', 'EM']\n",
      "Selected criterion for node selection: Interaction Site\n",
      "Filtering by chain!\n",
      "Adding gpcr to selection!\n",
      "Number valid gpcr atoms: 0\n",
      "In total using 0 valid atoms!\n",
      "Searching nodes in the interaction site...\n",
      "getting interaction site\n",
      "Selected edge criterion: ['self', 'distance']\n",
      "Selected edge features: ['unitary', 'distance', 'EM']\n",
      "Selected criterion for node selection: Interaction Site\n",
      "Filtering by chain!\n",
      "Adding gpcr to selection!\n",
      "Number valid gpcr atoms: 0\n",
      "In total using 0 valid atoms!\n",
      "Searching nodes in the interaction site...\n",
      "getting interaction site\n",
      "Selected edge criterion: ['self', 'distance']\n",
      "Selected edge features: ['unitary', 'distance', 'EM']\n",
      "Selected criterion for node selection: Interaction Site\n",
      "Filtering by chain!\n",
      "Adding gpcr to selection!\n",
      "Number valid gpcr atoms: 0\n",
      "In total using 0 valid atoms!\n",
      "Searching nodes in the interaction site...\n",
      "getting interaction site\n",
      "Selected edge criterion: ['self', 'distance']\n",
      "Selected edge features: ['unitary', 'distance', 'EM']\n",
      "Selected criterion for node selection: Interaction Site\n",
      "Filtering by chain!\n",
      "Adding gpcr to selection!\n",
      "Number valid gpcr atoms: 0\n",
      "In total using 0 valid atoms!\n",
      "Searching nodes in the interaction site...\n",
      "getting interaction site\n",
      "Selected edge criterion: ['self', 'distance']\n",
      "Selected edge features: ['unitary', 'distance', 'EM']\n",
      "Selected criterion for node selection: Interaction Site\n",
      "Filtering by chain!\n",
      "Adding gpcr to selection!\n",
      "Number valid gpcr atoms: 427\n",
      "In total using 427 valid atoms!\n",
      "Searching nodes in the interaction site...\n",
      "getting interaction site\n",
      "Selected edge criterion: ['self', 'distance']\n",
      "Selected edge features: ['unitary', 'distance', 'EM']\n",
      "Selected criterion for node selection: Interaction Site\n",
      "Filtering by chain!\n",
      "Adding gpcr to selection!\n",
      "Number valid gpcr atoms: 341\n",
      "In total using 341 valid atoms!\n",
      "Searching nodes in the interaction site...\n",
      "getting interaction site\n"
     ]
    },
    {
     "name": "stderr",
     "output_type": "stream",
     "text": [
      "\r",
      " 63%|██████████████████████████████████████████████████████████████████████████████████████████████████████████████████████████▋                                                                        | 224/356 [00:06<00:08, 16.34it/s]"
     ]
    },
    {
     "name": "stdout",
     "output_type": "stream",
     "text": [
      "\n",
      "\n",
      "\n",
      "\n",
      "Selected edge criterion: ['self', 'distance']\n",
      "Selected edge features: ['unitary', 'distance', 'EM']\n",
      "Selected criterion for node selection: Interaction Site\n",
      "Filtering by chain!\n",
      "Adding gpcr to selection!\n",
      "Number valid gpcr atoms: 353\n",
      "In total using 353 valid atoms!\n",
      "Searching nodes in the interaction site...\n",
      "getting interaction site\n"
     ]
    },
    {
     "name": "stderr",
     "output_type": "stream",
     "text": [
      "\r",
      " 63%|███████████████████████████████████████████████████████████████████████████████████████████████████████████████████████████▊                                                                       | 226/356 [00:06<00:08, 14.66it/s]"
     ]
    },
    {
     "name": "stdout",
     "output_type": "stream",
     "text": [
      "\n",
      "\n",
      "\n",
      "\n",
      "Selected edge criterion: ['self', 'distance']\n",
      "Selected edge features: ['unitary', 'distance', 'EM']\n",
      "Selected criterion for node selection: Interaction Site\n",
      "Filtering by chain!\n",
      "Adding gpcr to selection!\n",
      "Number valid gpcr atoms: 446\n",
      "In total using 446 valid atoms!\n",
      "Searching nodes in the interaction site...\n",
      "getting interaction site\n",
      "Selected edge criterion: ['self', 'distance']\n",
      "Selected edge features: ['unitary', 'distance', 'EM']\n",
      "Selected criterion for node selection: Interaction Site\n",
      "Filtering by chain!\n",
      "Adding gpcr to selection!\n",
      "Number valid gpcr atoms: 0\n",
      "In total using 0 valid atoms!\n",
      "Searching nodes in the interaction site...\n",
      "getting interaction site\n",
      "Selected edge criterion: ['self', 'distance']\n",
      "Selected edge features: ['unitary', 'distance', 'EM']\n",
      "Selected criterion for node selection: Interaction Site\n",
      "Filtering by chain!\n",
      "Adding gpcr to selection!\n",
      "Number valid gpcr atoms: 0\n",
      "In total using 0 valid atoms!\n",
      "Searching nodes in the interaction site...\n",
      "getting interaction site\n",
      "Selected edge criterion: ['self', 'distance']\n",
      "Selected edge features: ['unitary', 'distance', 'EM']\n",
      "Selected criterion for node selection: Interaction Site\n",
      "Filtering by chain!\n",
      "Adding gpcr to selection!\n",
      "Number valid gpcr atoms: 0\n",
      "In total using 0 valid atoms!\n",
      "Searching nodes in the interaction site...\n",
      "getting interaction site\n",
      "Selected edge criterion: ['self', 'distance']\n",
      "Selected edge features: ['unitary', 'distance', 'EM']\n",
      "Selected criterion for node selection: Interaction Site\n",
      "Filtering by chain!\n",
      "Adding gpcr to selection!\n",
      "Number valid gpcr atoms: 0\n",
      "In total using 0 valid atoms!\n",
      "Searching nodes in the interaction site...\n",
      "getting interaction site\n",
      "Selected edge criterion: ['self', 'distance']\n",
      "Selected edge features: ['unitary', 'distance', 'EM']\n",
      "Selected criterion for node selection: Interaction Site\n",
      "Filtering by chain!\n",
      "Adding gpcr to selection!\n",
      "Number valid gpcr atoms: 0\n",
      "In total using 0 valid atoms!\n",
      "Searching nodes in the interaction site...\n",
      "getting interaction site\n",
      "Selected edge criterion: ['self', 'distance']\n",
      "Selected edge features: ['unitary', 'distance', 'EM']\n",
      "Selected criterion for node selection: Interaction Site\n",
      "Filtering by chain!\n",
      "Adding gpcr to selection!\n",
      "Number valid gpcr atoms: 0\n",
      "In total using 0 valid atoms!\n",
      "Searching nodes in the interaction site...\n",
      "getting interaction site\n",
      "Selected edge criterion: ['self', 'distance']\n",
      "Selected edge features: ['unitary', 'distance', 'EM']\n",
      "Selected criterion for node selection: Interaction Site\n",
      "Filtering by chain!\n",
      "Adding gpcr to selection!\n",
      "Number valid gpcr atoms: 0\n",
      "In total using 0 valid atoms!\n",
      "Searching nodes in the interaction site...\n",
      "getting interaction site\n",
      "Selected edge criterion: ['self', 'distance']\n",
      "Selected edge features: ['unitary', 'distance', 'EM']\n",
      "Selected criterion for node selection: Interaction Site\n",
      "Filtering by chain!\n",
      "Adding gpcr to selection!\n",
      "Number valid gpcr atoms: 0\n",
      "In total using 0 valid atoms!\n",
      "Searching nodes in the interaction site...\n",
      "getting interaction site\n",
      "Selected edge criterion: ['self', 'distance']\n",
      "Selected edge features: ['unitary', 'distance', 'EM']\n",
      "Selected criterion for node selection: Interaction Site\n",
      "Filtering by chain!\n",
      "Adding gpcr to selection!\n",
      "Number valid gpcr atoms: 0\n",
      "In total using 0 valid atoms!\n",
      "Searching nodes in the interaction site...\n",
      "getting interaction site\n",
      "Selected edge criterion: ['self', 'distance']\n",
      "Selected edge features: ['unitary', 'distance', 'EM']\n",
      "Selected criterion for node selection: Interaction Site\n",
      "Filtering by chain!\n",
      "Adding gpcr to selection!\n",
      "Number valid gpcr atoms: 0\n",
      "In total using 0 valid atoms!\n",
      "Searching nodes in the interaction site...\n",
      "getting interaction site\n",
      "Selected edge criterion: ['self', 'distance']\n",
      "Selected edge features: ['unitary', 'distance', 'EM']\n",
      "Selected criterion for node selection: Interaction Site\n",
      "Filtering by chain!\n",
      "Adding gpcr to selection!\n",
      "Number valid gpcr atoms: 0\n",
      "In total using 0 valid atoms!\n",
      "Searching nodes in the interaction site...\n",
      "getting interaction site\n",
      "Selected edge criterion: ['self', 'distance']\n",
      "Selected edge features: ['unitary', 'distance', 'EM']\n",
      "Selected criterion for node selection: Interaction Site\n",
      "Filtering by chain!\n",
      "Adding gpcr to selection!\n",
      "Number valid gpcr atoms: 448\n",
      "In total using 448 valid atoms!\n",
      "Searching nodes in the interaction site...\n",
      "getting interaction site\n",
      "Selected edge criterion: ['self', 'distance']\n",
      "Selected edge features: ['unitary', 'distance', 'EM']\n",
      "Selected criterion for node selection: Interaction Site\n",
      "Filtering by chain!\n",
      "Adding gpcr to selection!\n",
      "Number valid gpcr atoms: 454\n",
      "In total using 454 valid atoms!\n",
      "Searching nodes in the interaction site...\n",
      "getting interaction site\n"
     ]
    },
    {
     "name": "stderr",
     "output_type": "stream",
     "text": [
      "\r",
      " 67%|██████████████████████████████████████████████████████████████████████████████████████████████████████████████████████████████████▉                                                                | 239/356 [00:06<00:04, 26.81it/s]"
     ]
    },
    {
     "name": "stdout",
     "output_type": "stream",
     "text": [
      "\n",
      "\n",
      "\n",
      "\n",
      "Selected edge criterion: ['self', 'distance']\n",
      "Selected edge features: ['unitary', 'distance', 'EM']\n",
      "Selected criterion for node selection: Interaction Site\n",
      "Filtering by chain!\n",
      "Adding gpcr to selection!\n",
      "Number valid gpcr atoms: 276\n",
      "In total using 276 valid atoms!\n",
      "Searching nodes in the interaction site...\n",
      "getting interaction site\n",
      "\n",
      "\n",
      "\n",
      "\n",
      "Selected edge criterion: ['self', 'distance']\n",
      "Selected edge features: ['unitary', 'distance', 'EM']\n",
      "Selected criterion for node selection: Interaction Site\n",
      "Filtering by chain!\n",
      "Adding gpcr to selection!\n",
      "Number valid gpcr atoms: 0\n",
      "In total using 0 valid atoms!\n",
      "Searching nodes in the interaction site...\n",
      "getting interaction site\n",
      "Selected edge criterion: ['self', 'distance']\n",
      "Selected edge features: ['unitary', 'distance', 'EM']\n",
      "Selected criterion for node selection: Interaction Site\n",
      "Filtering by chain!\n",
      "Adding gpcr to selection!\n",
      "Number valid gpcr atoms: 0\n",
      "In total using 0 valid atoms!\n",
      "Searching nodes in the interaction site...\n",
      "getting interaction site\n",
      "Selected edge criterion: ['self', 'distance']\n",
      "Selected edge features: ['unitary', 'distance', 'EM']\n",
      "Selected criterion for node selection: Interaction Site\n",
      "Filtering by chain!\n",
      "Adding gpcr to selection!\n",
      "Number valid gpcr atoms: 368\n",
      "In total using 368 valid atoms!\n",
      "Searching nodes in the interaction site...\n",
      "getting interaction site\n"
     ]
    },
    {
     "name": "stderr",
     "output_type": "stream",
     "text": [
      "\r",
      " 68%|█████████████████████████████████████████████████████████████████████████████████████████████████████████████████████████████████████                                                              | 243/356 [00:06<00:05, 19.19it/s]"
     ]
    },
    {
     "name": "stdout",
     "output_type": "stream",
     "text": [
      "\n",
      "\n",
      "\n",
      "\n",
      "Selected edge criterion: ['self', 'distance']\n",
      "Selected edge features: ['unitary', 'distance', 'EM']\n",
      "Selected criterion for node selection: Interaction Site\n",
      "Filtering by chain!\n",
      "Adding gpcr to selection!\n",
      "Number valid gpcr atoms: 379\n",
      "In total using 379 valid atoms!\n",
      "Searching nodes in the interaction site...\n",
      "getting interaction site\n",
      "\n",
      "\n",
      "\n",
      "\n",
      "Selected edge criterion:"
     ]
    },
    {
     "name": "stderr",
     "output_type": "stream",
     "text": [
      " 70%|███████████████████████████████████████████████████████████████████████████████████████████████████████████████████████████████████████▊                                                           | 248/356 [00:07<00:09, 10.88it/s]"
     ]
    },
    {
     "name": "stdout",
     "output_type": "stream",
     "text": [
      " ['self', 'distance']\n",
      "Selected edge features: ['unitary', 'distance', 'EM']\n",
      "Selected criterion for node selection: Interaction Site\n",
      "Filtering by chain!\n",
      "Adding gpcr to selection!\n",
      "Number valid gpcr atoms: 369\n",
      "In total using 369 valid atoms!\n",
      "Searching nodes in the interaction site...\n",
      "getting interaction site\n",
      "\n",
      "\n",
      "\n",
      "\n",
      "Selected edge criterion: ['self', 'distance']\n",
      "Selected edge features: ['unitary', 'distance', 'EM']\n",
      "Selected criterion for node selection: Interaction Site\n",
      "Filtering by chain!\n",
      "Adding gpcr to selection!\n",
      "Number valid gpcr atoms: 284\n",
      "In total using 284 valid atoms!\n",
      "Searching nodes in the interaction site...\n",
      "getting interaction site\n",
      "\n",
      "\n",
      "\n",
      "\n",
      "Selected edge criterion: ['self', 'distance']\n",
      "Selected edge features: ['unitary', 'distance', 'EM']\n",
      "Selected criterion for node selection: Interaction Site\n",
      "Filtering by chain!\n",
      "Adding gpcr to selection!\n",
      "Number valid gpcr atoms: 261\n",
      "In total using 261 valid atoms!\n",
      "Searching nodes in the interaction site...\n",
      "getting interaction site\n",
      "\n",
      "\n",
      "\n",
      "\n",
      "Selected edge criterion: ['self', 'distance']\n",
      "Selected edge features: ['unitary', 'distance', 'EM']\n",
      "Selected criterion for node selection: Interaction Site\n",
      "Filtering by chain!\n",
      "Adding gpcr to selection!\n",
      "Number valid gpcr atoms: 0\n",
      "In total using 0 valid atoms!\n",
      "Searching nodes in the interaction site...\n",
      "getting interaction site\n",
      "Selected edge criterion: ['self', 'distance']\n",
      "Selected edge features: ['unitary', 'distance', 'EM']\n",
      "Selected criterion for node selection: Interaction Site\n",
      "Filtering by chain!\n",
      "Adding gpcr to selection!\n",
      "Number valid gpcr atoms: 293\n",
      "In total using 293 valid atoms!\n",
      "Searching nodes in the interaction site...\n",
      "getting interaction site\n",
      "\n",
      "\n",
      "\n",
      "\n",
      "Selected edge criterion: ['self', 'distance']\n",
      "Selected edge features: ['unitary', 'distance', 'EM']\n",
      "Selected criterion for node selection: Interaction Site\n",
      "Filtering by chain!\n",
      "Adding gpcr to selection!\n",
      "Number valid gpcr atoms: 278\n",
      "In total using 278 valid atoms!\n",
      "Searching nodes in the interaction site...\n",
      "getting interaction site\n"
     ]
    },
    {
     "name": "stderr",
     "output_type": "stream",
     "text": [
      "\r",
      " 70%|████████████████████████████████████████████████████████████████████████████████████████████████████████████████████████████████████████▉                                                          | 250/356 [00:08<00:11,  8.98it/s]"
     ]
    },
    {
     "name": "stdout",
     "output_type": "stream",
     "text": [
      "\n",
      "\n",
      "\n",
      "\n",
      "Selected edge criterion: ['self', 'distance']\n",
      "Selected edge features: ['unitary', 'distance', 'EM']\n",
      "Selected criterion for node selection: Interaction Site\n",
      "Filtering by chain!\n",
      "Adding gpcr to selection!\n",
      "Number valid gpcr atoms: 0\n",
      "In total using 0 valid atoms!\n",
      "Searching nodes in the interaction site...\n",
      "getting interaction site\n",
      "Selected edge criterion: ['self', 'distance']\n",
      "Selected edge features: ['unitary', 'distance', 'EM']\n",
      "Selected criterion for node selection: Interaction Site\n",
      "Filtering by chain!\n",
      "Adding gpcr to selection!\n",
      "Number valid gpcr atoms: 297\n",
      "In total using 297 valid atoms!\n",
      "Searching nodes in the interaction site...\n",
      "getting interaction site\n"
     ]
    },
    {
     "name": "stderr",
     "output_type": "stream",
     "text": [
      " 71%|███████████████████████████████████████████████████████████████████████████████████████████████████████████████████████████████████████████▏                                                       | 254/356 [00:08<00:11,  9.20it/s]"
     ]
    },
    {
     "name": "stdout",
     "output_type": "stream",
     "text": [
      "\n",
      "\n",
      "\n",
      "\n",
      "Selected edge criterion: ['self', 'distance']\n",
      "Selected edge features: ['unitary', 'distance', 'EM']\n",
      "Selected criterion for node selection: Interaction Site\n",
      "Filtering by chain!\n",
      "Adding gpcr to selection!\n",
      "Number valid gpcr atoms: 0\n",
      "In total using 0 valid atoms!\n",
      "Searching nodes in the interaction site...\n",
      "getting interaction site\n",
      "Selected edge criterion: ['self', 'distance']\n",
      "Selected edge features: ['unitary', 'distance', 'EM']\n",
      "Selected criterion for node selection: Interaction Site\n",
      "Filtering by chain!\n",
      "Adding gpcr to selection!\n",
      "Number valid gpcr atoms: 395\n",
      "In total using 395 valid atoms!\n",
      "Searching nodes in the interaction site...\n",
      "getting interaction site\n",
      "\n",
      "\n",
      "\n",
      "\n",
      "Selected edge criterion: ['self', 'distance']\n",
      "Selected edge features: ['unitary', 'distance', 'EM']\n",
      "Selected criterion for node selection: Interaction Site\n",
      "Filtering by chain!\n",
      "Adding gpcr to selection!\n",
      "Number valid gpcr atoms: 383\n",
      "In total using 383 valid atoms!\n",
      "Searching nodes in the interaction site...\n",
      "getting interaction site\n",
      "\n",
      "\n",
      "\n",
      "\n",
      "Selected edge criterion: ['self', 'distance']\n",
      "Selected edge features: ['unitary', 'distance', 'EM']\n",
      "Selected criterion for node selection: Interaction Site\n",
      "Filtering by chain!\n",
      "Adding gpcr to selection!\n",
      "Number valid gpcr atoms: 380\n",
      "In total using 380 valid atoms!\n",
      "Searching nodes in the interaction site...\n",
      "getting interaction site\n"
     ]
    },
    {
     "name": "stderr",
     "output_type": "stream",
     "text": [
      "\r",
      " 72%|████████████████████████████████████████████████████████████████████████████████████████████████████████████████████████████████████████████▏                                                      | 256/356 [00:08<00:09, 10.45it/s]"
     ]
    },
    {
     "name": "stdout",
     "output_type": "stream",
     "text": [
      "\n",
      "\n",
      "\n",
      "\n",
      "Selected edge criterion: ['self', 'distance']\n",
      "Selected edge features: ['unitary', 'distance', 'EM']\n",
      "Selected criterion for node selection: Interaction Site\n",
      "Filtering by chain!\n",
      "Adding gpcr to selection!\n",
      "Number valid gpcr atoms: 271\n",
      "In total using 271 valid atoms!\n",
      "Searching nodes in the interaction site...\n",
      "getting interaction site\n"
     ]
    },
    {
     "name": "stderr",
     "output_type": "stream",
     "text": [
      "\r",
      " 72%|█████████████████████████████████████████████████████████████████████████████████████████████████████████████████████████████████████████████▎                                                     | 258/356 [00:09<00:14,  6.91it/s]"
     ]
    },
    {
     "name": "stdout",
     "output_type": "stream",
     "text": [
      "\n",
      "\n",
      "\n",
      "\n",
      "Selected edge criterion: ['self', 'distance']\n",
      "Selected edge features: ['unitary', 'distance', 'EM']\n",
      "Selected criterion for node selection: Interaction Site\n",
      "Filtering by chain!\n",
      "Adding gpcr to selection!\n",
      "Number valid gpcr atoms: 258\n",
      "In total using 258 valid atoms!\n",
      "Searching nodes in the interaction site...\n",
      "getting interaction site\n",
      "\n",
      "\n",
      "\n",
      "\n",
      "Selected edge criterion: ['self', 'distance']\n",
      "Selected edge features: ['unitary', 'distance', 'EM']\n",
      "Selected criterion for node selection: Interaction Site\n",
      "Filtering by chain!\n",
      "Adding gpcr to selection!\n",
      "Number valid gpcr atoms: 281\n",
      "In total using 281 valid atoms!\n",
      "Searching nodes in the interaction site...\n",
      "getting interaction site\n",
      "\n",
      "\n",
      "\n",
      "\n",
      "Selected edge criterion: ['self', 'distance']\n",
      "Selected edge features: ['unitary', 'distance', 'EM']\n",
      "Selected criterion for node selection: Interaction Site\n",
      "Filtering by chain!\n",
      "Adding gpcr to selection!\n",
      "Number valid gpcr atoms: 281\n",
      "In total using 281 valid atoms!\n",
      "Searching nodes in the interaction site...\n",
      "getting interaction site\n"
     ]
    },
    {
     "name": "stderr",
     "output_type": "stream",
     "text": [
      " 76%|████████████████████████████████████████████████████████████████████████████████████████████████████████████████████████████████████████████████████▍                                              | 271/356 [00:10<00:06, 13.74it/s]"
     ]
    },
    {
     "name": "stdout",
     "output_type": "stream",
     "text": [
      "\n",
      "\n",
      "\n",
      "\n",
      "Selected edge criterion: ['self', 'distance']\n",
      "Selected edge features: ['unitary', 'distance', 'EM']\n",
      "Selected criterion for node selection: Interaction Site\n",
      "Filtering by chain!\n",
      "Adding gpcr to selection!\n",
      "Number valid gpcr atoms: 0\n",
      "In total using 0 valid atoms!\n",
      "Searching nodes in the interaction site...\n",
      "getting interaction site\n",
      "Selected edge criterion: ['self', 'distance']\n",
      "Selected edge features: ['unitary', 'distance', 'EM']\n",
      "Selected criterion for node selection: Interaction Site\n",
      "Filtering by chain!\n",
      "Adding gpcr to selection!\n",
      "Number valid gpcr atoms: 0\n",
      "In total using 0 valid atoms!\n",
      "Searching nodes in the interaction site...\n",
      "getting interaction site\n",
      "Selected edge criterion: ['self', 'distance']\n",
      "Selected edge features: ['unitary', 'distance', 'EM']\n",
      "Selected criterion for node selection: Interaction Site\n",
      "Filtering by chain!\n",
      "Adding gpcr to selection!\n",
      "Number valid gpcr atoms: 0\n",
      "In total using 0 valid atoms!\n",
      "Searching nodes in the interaction site...\n",
      "getting interaction site\n",
      "Selected edge criterion: ['self', 'distance']\n",
      "Selected edge features: ['unitary', 'distance', 'EM']\n",
      "Selected criterion for node selection: Interaction Site\n",
      "Filtering by chain!\n",
      "Adding gpcr to selection!\n",
      "Number valid gpcr atoms: 0\n",
      "In total using 0 valid atoms!\n",
      "Searching nodes in the interaction site...\n",
      "getting interaction site\n",
      "Selected edge criterion: ['self', 'distance']\n",
      "Selected edge features: ['unitary', 'distance', 'EM']\n",
      "Selected criterion for node selection: Interaction Site\n",
      "Filtering by chain!\n",
      "Adding gpcr to selection!\n",
      "Number valid gpcr atoms: 0\n",
      "In total using 0 valid atoms!\n",
      "Searching nodes in the interaction site...\n",
      "getting interaction site\n",
      "Selected edge criterion: ['self', 'distance']\n",
      "Selected edge features: ['unitary', 'distance', 'EM']\n",
      "Selected criterion for node selection: Interaction Site\n",
      "Filtering by chain!\n",
      "Adding gpcr to selection!\n",
      "Number valid gpcr atoms: 0\n",
      "In total using 0 valid atoms!\n",
      "Searching nodes in the interaction site...\n",
      "getting interaction site\n",
      "Selected edge criterion: ['self', 'distance']\n",
      "Selected edge features: ['unitary', 'distance', 'EM']\n",
      "Selected criterion for node selection: Interaction Site\n",
      "Filtering by chain!\n",
      "Adding gpcr to selection!\n",
      "Number valid gpcr atoms: 0\n",
      "In total using 0 valid atoms!\n",
      "Searching nodes in the interaction site...\n",
      "getting interaction site\n",
      "Selected edge criterion: ['self', 'distance']\n",
      "Selected edge features: ['unitary', 'distance', 'EM']\n",
      "Selected criterion for node selection: Interaction Site\n",
      "Filtering by chain!\n",
      "Adding gpcr to selection!\n",
      "Number valid gpcr atoms: 0\n",
      "In total using 0 valid atoms!\n",
      "Searching nodes in the interaction site...\n",
      "getting interaction site\n",
      "Selected edge criterion: ['self', 'distance']\n",
      "Selected edge features: ['unitary', 'distance', 'EM']\n",
      "Selected criterion for node selection: Interaction Site\n",
      "Filtering by chain!\n",
      "Adding gpcr to selection!\n",
      "Number valid gpcr atoms: 0\n",
      "In total using 0 valid atoms!\n",
      "Searching nodes in the interaction site...\n",
      "getting interaction site\n",
      "Selected edge criterion: ['self', 'distance']\n",
      "Selected edge features: ['unitary', 'distance', 'EM']\n",
      "Selected criterion for node selection: Interaction Site\n",
      "Filtering by chain!\n",
      "Adding gpcr to selection!\n",
      "Number valid gpcr atoms: 0\n",
      "In total using 0 valid atoms!\n",
      "Searching nodes in the interaction site...\n",
      "getting interaction site\n",
      "Selected edge criterion: ['self', 'distance']\n",
      "Selected edge features: ['unitary', 'distance', 'EM']\n",
      "Selected criterion for node selection: Interaction Site\n",
      "Filtering by chain!\n",
      "Adding gpcr to selection!\n",
      "Number valid gpcr atoms: 298\n",
      "In total using 298 valid atoms!\n",
      "Searching nodes in the interaction site...\n",
      "getting interaction site\n",
      "\n",
      "\n",
      "\n",
      "\n",
      "Selected edge criterion: ['self', 'distance']\n",
      "Selected edge features: ['unitary', 'distance', 'EM']\n",
      "Selected criterion for node selection: Interaction Site\n",
      "Filtering by chain!\n",
      "Adding gpcr to selection!\n",
      "Number valid gpcr atoms: 397\n",
      "In total using 397 valid atoms!\n",
      "Searching nodes in the interaction site...\n"
     ]
    },
    {
     "name": "stderr",
     "output_type": "stream",
     "text": [
      "\r",
      " 83%|██████████████████████████████████████████████████████████████████████████████████████████████████████████████████████████████████████████████████████████████████▋                                | 297/356 [00:10<00:01, 34.33it/s]"
     ]
    },
    {
     "name": "stdout",
     "output_type": "stream",
     "text": [
      "getting interaction site\n",
      "Selected edge criterion: ['self', 'distance']\n",
      "Selected edge features: ['unitary', 'distance', 'EM']\n",
      "Selected criterion for node selection: Interaction Site\n",
      "Filtering by chain!\n",
      "Adding gpcr to selection!\n",
      "Number valid gpcr atoms: 397\n",
      "In total using 397 valid atoms!\n",
      "Searching nodes in the interaction site...\n",
      "getting interaction site\n",
      "Selected edge criterion: ['self', 'distance']\n",
      "Selected edge features: ['unitary', 'distance', 'EM']\n",
      "Selected criterion for node selection: Interaction Site\n",
      "Filtering by chain!\n",
      "Adding gpcr to selection!\n",
      "Number valid gpcr atoms: 0\n",
      "In total using 0 valid atoms!\n",
      "Searching nodes in the interaction site...\n",
      "getting interaction site\n",
      "Selected edge criterion: ['self', 'distance']\n",
      "Selected edge features: ['unitary', 'distance', 'EM']\n",
      "Selected criterion for node selection: Interaction Site\n",
      "Filtering by chain!\n",
      "Adding gpcr to selection!\n",
      "Number valid gpcr atoms: 0\n",
      "In total using 0 valid atoms!\n",
      "Searching nodes in the interaction site...\n",
      "getting interaction site\n",
      "Selected edge criterion: ['self', 'distance']\n",
      "Selected edge features: ['unitary', 'distance', 'EM']\n",
      "Selected criterion for node selection: Interaction Site\n",
      "Filtering by chain!\n",
      "Adding gpcr to selection!\n",
      "Number valid gpcr atoms: 0\n",
      "In total using 0 valid atoms!\n",
      "Searching nodes in the interaction site...\n",
      "getting interaction site\n",
      "Selected edge criterion: ['self', 'distance']\n",
      "Selected edge features: ['unitary', 'distance', 'EM']\n",
      "Selected criterion for node selection: Interaction Site\n",
      "Filtering by chain!\n",
      "Adding gpcr to selection!\n",
      "Number valid gpcr atoms: 0\n",
      "In total using 0 valid atoms!\n",
      "Searching nodes in the interaction site...\n",
      "getting interaction site\n",
      "Selected edge criterion: ['self', 'distance']\n",
      "Selected edge features: ['unitary', 'distance', 'EM']\n",
      "Selected criterion for node selection: Interaction Site\n",
      "Filtering by chain!\n",
      "Adding gpcr to selection!\n",
      "Number valid gpcr atoms: 0\n",
      "In total using 0 valid atoms!\n",
      "Searching nodes in the interaction site...\n",
      "getting interaction site\n",
      "Selected edge criterion: ['self', 'distance']\n",
      "Selected edge features: ['unitary', 'distance', 'EM']\n",
      "Selected criterion for node selection: Interaction Site\n",
      "Filtering by chain!\n",
      "Adding gpcr to selection!\n",
      "Number valid gpcr atoms: 0\n",
      "In total using 0 valid atoms!\n",
      "Searching nodes in the interaction site...\n",
      "getting interaction site\n",
      "Selected edge criterion: ['self', 'distance']\n",
      "Selected edge features: ['unitary', 'distance', 'EM']\n",
      "Selected criterion for node selection: Interaction Site\n",
      "Filtering by chain!\n",
      "Adding gpcr to selection!\n",
      "Number valid gpcr atoms: 0\n",
      "In total using 0 valid atoms!\n",
      "Searching nodes in the interaction site...\n",
      "getting interaction site\n",
      "Selected edge criterion: ['self', 'distance']\n",
      "Selected edge features: ['unitary', 'distance', 'EM']\n",
      "Selected criterion for node selection: Interaction Site\n",
      "Filtering by chain!\n",
      "Adding gpcr to selection!\n",
      "Number valid gpcr atoms: 0\n",
      "In total using 0 valid atoms!\n",
      "Searching nodes in the interaction site...\n",
      "getting interaction site\n",
      "Selected edge criterion: ['self', 'distance']\n",
      "Selected edge features: ['unitary', 'distance', 'EM']\n",
      "Selected criterion for node selection: Interaction Site\n",
      "Filtering by chain!\n",
      "Adding gpcr to selection!\n",
      "Number valid gpcr atoms: 0\n",
      "In total using 0 valid atoms!\n",
      "Searching nodes in the interaction site...\n",
      "getting interaction site\n",
      "Selected edge criterion: ['self', 'distance']\n",
      "Selected edge features: ['unitary', 'distance', 'EM']\n",
      "Selected criterion for node selection: Interaction Site\n",
      "Filtering by chain!\n",
      "Adding gpcr to selection!\n",
      "Number valid gpcr atoms: 0\n",
      "In total using 0 valid atoms!\n",
      "Searching nodes in the interaction site...\n",
      "getting interaction site\n",
      "Selected edge criterion: ['self', 'distance']\n",
      "Selected edge features: ['unitary', 'distance', 'EM']\n",
      "Selected criterion for node selection: Interaction Site\n",
      "Filtering by chain!\n",
      "Adding gpcr to selection!\n",
      "Number valid gpcr atoms: 0\n",
      "In total using 0 valid atoms!\n",
      "Searching nodes in the interaction site...\n",
      "getting interaction site\n",
      "Selected edge criterion: ['self', 'distance']\n",
      "Selected edge features: ['unitary', 'distance', 'EM']\n",
      "Selected criterion for node selection: Interaction Site\n",
      "Filtering by chain!\n",
      "Adding gpcr to selection!\n",
      "Number valid gpcr atoms: 0\n",
      "In total using 0 valid atoms!\n",
      "Searching nodes in the interaction site...\n",
      "getting interaction site\n",
      "Selected edge criterion: ['self', 'distance']\n",
      "Selected edge features: ['unitary', 'distance', 'EM']\n",
      "Selected criterion for node selection: Interaction Site\n",
      "Filtering by chain!\n",
      "Adding gpcr to selection!\n",
      "Number valid gpcr atoms: 0\n",
      "In total using 0 valid atoms!\n",
      "Searching nodes in the interaction site...\n",
      "getting interaction site\n",
      "Selected edge criterion: ['self', 'distance']\n",
      "Selected edge features: ['unitary', 'distance', 'EM']\n",
      "Selected criterion for node selection: Interaction Site\n",
      "Filtering by chain!\n",
      "Adding gpcr to selection!\n",
      "Number valid gpcr atoms: 0\n",
      "In total using 0 valid atoms!\n",
      "Searching nodes in the interaction site...\n",
      "getting interaction site\n",
      "Selected edge criterion: ['self', 'distance']\n",
      "Selected edge features: ['unitary', 'distance', 'EM']\n",
      "Selected criterion for node selection: Interaction Site\n",
      "Filtering by chain!\n",
      "Adding gpcr to selection!\n",
      "Number valid gpcr atoms: 0\n",
      "In total using 0 valid atoms!\n",
      "Searching nodes in the interaction site...\n",
      "getting interaction site\n",
      "Selected edge criterion: ['self', 'distance']\n",
      "Selected edge features: ['unitary', 'distance', 'EM']\n",
      "Selected criterion for node selection: Interaction Site\n",
      "Filtering by chain!\n",
      "Adding gpcr to selection!\n",
      "Number valid gpcr atoms: 0\n",
      "In total using 0 valid atoms!\n",
      "Searching nodes in the interaction site...\n",
      "getting interaction site\n",
      "Selected edge criterion: ['self', 'distance']\n",
      "Selected edge features: ['unitary', 'distance', 'EM']\n",
      "Selected criterion for node selection: Interaction Site\n",
      "Filtering by chain!\n",
      "Adding gpcr to selection!\n",
      "Number valid gpcr atoms: 0\n",
      "In total using 0 valid atoms!\n",
      "Searching nodes in the interaction site...\n",
      "getting interaction site\n",
      "Selected edge criterion: ['self', 'distance']\n",
      "Selected edge features: ['unitary', 'distance', 'EM']\n",
      "Selected criterion for node selection: Interaction Site\n",
      "Filtering by chain!\n",
      "Adding gpcr to selection!\n",
      "Number valid gpcr atoms: 0\n",
      "In total using 0 valid atoms!\n",
      "Searching nodes in the interaction site...\n",
      "getting interaction site\n",
      "Selected edge criterion: ['self', 'distance']\n",
      "Selected edge features: ['unitary', 'distance', 'EM']\n",
      "Selected criterion for node selection: Interaction Site\n",
      "Filtering by chain!\n",
      "Adding gpcr to selection!\n",
      "Number valid gpcr atoms: 0\n",
      "In total using 0 valid atoms!\n",
      "Searching nodes in the interaction site...\n",
      "getting interaction site\n",
      "Selected edge criterion: ['self', 'distance']\n",
      "Selected edge features: ['unitary', 'distance', 'EM']\n",
      "Selected criterion for node selection: Interaction Site\n",
      "Filtering by chain!\n",
      "Adding gpcr to selection!\n",
      "Number valid gpcr atoms: 0\n",
      "In total using 0 valid atoms!\n",
      "Searching nodes in the interaction site...\n",
      "getting interaction site\n",
      "Selected edge criterion: ['self', 'distance']\n",
      "Selected edge features: ['unitary', 'distance', 'EM']\n",
      "Selected criterion for node selection: Interaction Site\n",
      "Filtering by chain!\n",
      "Adding gpcr to selection!\n",
      "Number valid gpcr atoms: 0\n",
      "In total using 0 valid atoms!\n",
      "Searching nodes in the interaction site...\n",
      "getting interaction site\n",
      "Selected edge criterion: ['self', 'distance']\n",
      "Selected edge features: ['unitary', 'distance', 'EM']\n",
      "Selected criterion for node selection: Interaction Site\n",
      "Filtering by chain!\n",
      "Adding gpcr to selection!\n",
      "Number valid gpcr atoms: 0\n",
      "In total using 0 valid atoms!\n",
      "Searching nodes in the interaction site...\n",
      "getting interaction site\n",
      "Selected edge criterion: ['self', 'distance']\n",
      "Selected edge features: ['unitary', 'distance', 'EM']\n",
      "Selected criterion for node selection: Interaction Site\n",
      "Filtering by chain!\n",
      "Adding gpcr to selection!\n",
      "Number valid gpcr atoms: 0\n",
      "In total using 0 valid atoms!\n",
      "Searching nodes in the interaction site...\n",
      "getting interaction site\n",
      "Selected edge criterion: ['self', 'distance']\n",
      "Selected edge features: ['unitary', 'distance', 'EM']\n",
      "Selected criterion for node selection: Interaction Site\n",
      "Filtering by chain!\n",
      "Adding gpcr to selection!\n",
      "Number valid gpcr atoms: 272\n",
      "In total using 272 valid atoms!\n",
      "Searching nodes in the interaction site...\n",
      "getting interaction site\n",
      "\n",
      "\n",
      "\n",
      "\n"
     ]
    },
    {
     "name": "stdout",
     "output_type": "stream",
     "text": [
      "Selected edge criterion: ['self', 'distance']\n",
      "Selected edge features: ['unitary', 'distance', 'EM']\n",
      "Selected criterion for node selection: Interaction Site\n",
      "Filtering by chain!\n",
      "Adding gpcr to selection!\n",
      "Number valid gpcr atoms: 0\n",
      "In total using 0 valid atoms!\n",
      "Searching nodes in the interaction site...\n",
      "getting interaction site\n",
      "Selected edge criterion: ['self', 'distance']\n",
      "Selected edge features: ['unitary', 'distance', 'EM']\n",
      "Selected criterion for node selection: Interaction Site\n",
      "Filtering by chain!\n",
      "Adding gpcr to selection!\n",
      "Number valid gpcr atoms: 378\n",
      "In total using 378 valid atoms!\n",
      "Searching nodes in the interaction site...\n",
      "getting interaction site\n",
      "\n",
      "\n",
      "\n",
      "\n",
      "Selected edge criterion: ['self', 'distance']\n",
      "Selected edge features: ['unitary', 'distance', 'EM']\n",
      "Selected criterion for node selection: Interaction Site\n",
      "Filtering by chain!\n",
      "Adding gpcr to selection!\n",
      "Number valid gpcr atoms: 0\n",
      "In total using 0 valid atoms!\n",
      "Searching nodes in the interaction site...\n",
      "getting interaction site\n",
      "Selected edge criterion: ['self', 'distance']\n",
      "Selected edge features: ['unitary', 'distance', 'EM']\n",
      "Selected criterion for node selection: Interaction Site\n",
      "Filtering by chain!\n",
      "Adding gpcr to selection!\n",
      "Number valid gpcr atoms: 278\n",
      "In total using 278 valid atoms!\n",
      "Searching nodes in the interaction site...\n",
      "getting interaction site\n",
      "\n",
      "\n",
      "\n",
      "\n",
      "Selected edge criterion: ['self', 'distance']\n",
      "Selected edge features: ['unitary', 'distance', 'EM']\n",
      "Selected criterion for node selection: Interaction Site\n",
      "Filtering by chain!\n",
      "Adding gpcr to selection!\n",
      "Number valid gpcr atoms: 263\n",
      "In total using 263 valid atoms!\n",
      "Searching nodes in the interaction site...\n",
      "getting interaction site\n"
     ]
    },
    {
     "name": "stderr",
     "output_type": "stream",
     "text": [
      "\r",
      " 85%|█████████████████████████████████████████████████████████████████████████████████████████████████████████████████████████████████████████████████████████████████████▍                             | 302/356 [00:11<00:02, 21.02it/s]"
     ]
    },
    {
     "name": "stdout",
     "output_type": "stream",
     "text": [
      "\n",
      "\n",
      "\n",
      "\n",
      "Selected edge criterion: ['self', 'distance']\n",
      "Selected edge features: ['unitary', 'distance', 'EM']\n",
      "Selected criterion for node selection: Interaction Site\n",
      "Filtering by chain!\n",
      "Adding gpcr to selection!\n",
      "Number valid gpcr atoms: 0\n",
      "In total using 0 valid atoms!\n",
      "Searching nodes in the interaction site...\n",
      "getting interaction site\n",
      "Selected edge criterion: ['self', 'distance']\n",
      "Selected edge features: ['unitary', 'distance', 'EM']\n",
      "Selected criterion for node selection: Interaction Site\n",
      "Filtering by chain!\n",
      "Adding gpcr to selection!\n",
      "Number valid gpcr atoms: 0\n",
      "In total using 0 valid atoms!\n",
      "Searching nodes in the interaction site...\n",
      "getting interaction site\n",
      "Selected edge criterion: ['self', 'distance']\n",
      "Selected edge features: ['unitary', 'distance', 'EM']\n",
      "Selected criterion for node selection: Interaction Site\n",
      "Filtering by chain!\n",
      "Adding gpcr to selection!\n",
      "Number valid gpcr atoms: 0\n",
      "In total using 0 valid atoms!\n",
      "Searching nodes in the interaction site...\n",
      "getting interaction site\n",
      "Selected edge criterion: ['self', 'distance']\n",
      "Selected edge features: ['unitary', 'distance', 'EM']\n",
      "Selected criterion for node selection: Interaction Site\n",
      "Filtering by chain!\n",
      "Adding gpcr to selection!\n",
      "Number valid gpcr atoms: 244\n",
      "In total using 244 valid atoms!\n",
      "Searching nodes in the interaction site...\n",
      "getting interaction site\n"
     ]
    },
    {
     "name": "stderr",
     "output_type": "stream",
     "text": [
      "\r",
      " 86%|███████████████████████████████████████████████████████████████████████████████████████████████████████████████████████████████████████████████████████████████████████▌                           | 306/356 [00:11<00:02, 19.21it/s]"
     ]
    },
    {
     "name": "stdout",
     "output_type": "stream",
     "text": [
      "\n",
      "\n",
      "\n",
      "\n",
      "Selected edge criterion: ['self', 'distance']\n",
      "Selected edge features: ['unitary', 'distance', 'EM']\n",
      "Selected criterion for node selection: Interaction Site\n",
      "Filtering by chain!\n",
      "Adding gpcr to selection!\n",
      "Number valid gpcr atoms: 371\n",
      "In total using 371 valid atoms!\n",
      "Searching nodes in the interaction site...\n",
      "getting interaction site\n",
      "\n",
      "\n",
      "\n",
      "\n",
      "Selected edge criterion: ['self', 'distance']\n",
      "Selected edge features: ['unitary', 'distance', 'EM']\n",
      "Selected criterion for node selection: Interaction Site\n",
      "Filtering by chain!\n",
      "Adding gpcr to selection!\n",
      "Number valid gpcr atoms: 0\n",
      "In total using 0 valid atoms!\n",
      "Searching nodes in the interaction site...\n",
      "getting interaction site\n",
      "Selected edge criterion: ['self', 'distance']\n",
      "Selected edge features: ['unitary', 'distance', 'EM']\n",
      "Selected criterion for node selection: Interaction Site\n",
      "Filtering by chain!\n",
      "Adding gpcr to selection!\n",
      "Number valid gpcr atoms: 398\n",
      "In total using 398 valid atoms!\n",
      "Searching nodes in the interaction site...\n",
      "getting interaction site\n"
     ]
    },
    {
     "name": "stderr",
     "output_type": "stream",
     "text": [
      "\r",
      " 87%|█████████████████████████████████████████████████████████████████████████████████████████████████████████████████████████████████████████████████████████████████████████▎                         | 309/356 [00:12<00:03, 13.42it/s]"
     ]
    },
    {
     "name": "stdout",
     "output_type": "stream",
     "text": [
      "\n",
      "\n",
      "\n",
      "\n",
      "Selected edge criterion: ['self', 'distance']\n",
      "Selected edge features: ['unitary', 'distance', 'EM']\n",
      "Selected criterion for node selection: Interaction Site\n",
      "Filtering by chain!\n",
      "Adding gpcr to selection!\n",
      "Number valid gpcr atoms: 0\n",
      "In total using 0 valid atoms!\n",
      "Searching nodes in the interaction site...\n",
      "getting interaction site\n",
      "Selected edge criterion: ['self', 'distance']\n",
      "Selected edge features: ['unitary', 'distance', 'EM']\n",
      "Selected criterion for node selection: Interaction Site\n",
      "Filtering by chain!\n",
      "Adding gpcr to selection!\n",
      "Number valid gpcr atoms: 310\n",
      "In total using 310 valid atoms!\n",
      "Searching nodes in the interaction site...\n",
      "getting interaction site\n"
     ]
    },
    {
     "name": "stderr",
     "output_type": "stream",
     "text": [
      "\r",
      " 87%|██████████████████████████████████████████████████████████████████████████████████████████████████████████████████████████████████████████████████████████████████████████▎                        | 311/356 [00:12<00:03, 12.88it/s]"
     ]
    },
    {
     "name": "stdout",
     "output_type": "stream",
     "text": [
      "\n",
      "\n",
      "\n",
      "\n",
      "Selected edge criterion: ['self', 'distance']\n",
      "Selected edge features: ['unitary', 'distance', 'EM']\n",
      "Selected criterion for node selection: Interaction Site\n",
      "Filtering by chain!\n",
      "Adding gpcr to selection!\n",
      "Number valid gpcr atoms: 384\n",
      "In total using 384 valid atoms!\n",
      "Searching nodes in the interaction site...\n",
      "getting interaction site\n",
      "\n",
      "\n",
      "\n",
      "\n",
      "Selected edge criterion: ['self', 'distance']\n",
      "Selected edge features: ['unitary', 'distance', 'EM']\n",
      "Selected criterion for node selection: Interaction Site\n",
      "Filtering by chain!\n",
      "Adding gpcr to selection!\n",
      "Number valid gpcr atoms: 387\n",
      "In total using 387 valid atoms!\n",
      "Searching nodes in the interaction site...\n",
      "getting interaction site\n"
     ]
    },
    {
     "name": "stderr",
     "output_type": "stream",
     "text": [
      "\r",
      " 88%|███████████████████████████████████████████████████████████████████████████████████████████████████████████████████████████████████████████████████████████████████████████▍                       | 313/356 [00:13<00:05,  8.32it/s]"
     ]
    },
    {
     "name": "stdout",
     "output_type": "stream",
     "text": [
      "\n",
      "\n",
      "\n",
      "\n",
      "Selected edge criterion: ['self', 'distance']\n",
      "Selected edge features: ['unitary', 'distance', 'EM']\n",
      "Selected criterion for node selection: Interaction Site\n",
      "Filtering by chain!\n",
      "Adding gpcr to selection!\n",
      "Number valid gpcr atoms: 390\n",
      "In total using 390 valid atoms!\n",
      "Searching nodes in the interaction site...\n",
      "getting interaction site\n"
     ]
    },
    {
     "name": "stderr",
     "output_type": "stream",
     "text": [
      "\r",
      " 88%|████████████████████████████████████████████████████████████████████████████████████████████████████████████████████████████████████████████████████████████████████████████▌                      | 315/356 [00:13<00:06,  6.76it/s]"
     ]
    },
    {
     "name": "stdout",
     "output_type": "stream",
     "text": [
      "\n",
      "\n",
      "\n",
      "\n",
      "Selected edge criterion: ['self', 'distance']\n",
      "Selected edge features: ['unitary', 'distance', 'EM']\n",
      "Selected criterion for node selection: Interaction Site\n",
      "Filtering by chain!\n",
      "Adding gpcr to selection!\n",
      "Number valid gpcr atoms: 380\n",
      "In total using 380 valid atoms!\n",
      "Searching nodes in the interaction site...\n",
      "getting interaction site\n",
      "\n",
      "\n",
      "\n",
      "\n",
      "Selected edge criterion: ['self', 'distance']\n",
      "Selected edge features: ['unitary', 'distance', 'EM']\n",
      "Selected criterion for node selection: Interaction Site\n",
      "Filtering by chain!\n",
      "Adding gpcr to selection!\n",
      "Number valid gpcr atoms: 0\n",
      "In total using 0 valid atoms!\n",
      "Searching nodes in the interaction site...\n",
      "getting interaction site\n",
      "Selected edge criterion: ['self', 'distance']\n",
      "Selected edge features: ['unitary', 'distance', 'EM']\n",
      "Selected criterion for node selection: Interaction Site\n",
      "Filtering by chain!\n",
      "Adding gpcr to selection!\n",
      "Number valid gpcr atoms: 0\n",
      "In total using 0 valid atoms!\n",
      "Searching nodes in the interaction site...\n",
      "getting interaction site\n",
      "Selected edge criterion: ['self', 'distance']\n",
      "Selected edge features: ['unitary', 'distance', 'EM']\n",
      "Selected criterion for node selection: Interaction Site\n",
      "Filtering by chain!\n",
      "Adding gpcr to selection!\n",
      "Number valid gpcr atoms: 0\n",
      "In total using 0 valid atoms!\n",
      "Searching nodes in the interaction site...\n",
      "getting interaction site\n",
      "Selected edge criterion: ['self', 'distance']\n",
      "Selected edge features: ['unitary', 'distance', 'EM']\n",
      "Selected criterion for node selection: Interaction Site\n",
      "Filtering by chain!\n",
      "Adding gpcr to selection!\n",
      "Number valid gpcr atoms: 263\n",
      "In total using 263 valid atoms!\n",
      "Searching nodes in the interaction site...\n",
      "getting interaction site\n"
     ]
    },
    {
     "name": "stderr",
     "output_type": "stream",
     "text": [
      "\r",
      " 90%|██████████████████████████████████████████████████████████████████████████████████████████████████████████████████████████████████████████████████████████████████████████████▋                    | 319/356 [00:13<00:04,  8.62it/s]"
     ]
    },
    {
     "name": "stdout",
     "output_type": "stream",
     "text": [
      "\n",
      "\n",
      "\n",
      "\n",
      "Selected edge criterion: ['self', 'distance']\n",
      "Selected edge features: ['unitary', 'distance', 'EM']\n",
      "Selected criterion for node selection: Interaction Site\n",
      "Filtering by chain!\n",
      "Adding gpcr to selection!\n",
      "Number valid gpcr atoms: 0\n",
      "In total using 0 valid atoms!\n",
      "Searching nodes in the interaction site...\n",
      "getting interaction site\n",
      "Selected edge criterion: ['self', 'distance']\n",
      "Selected edge features: ['unitary', 'distance', 'EM']\n",
      "Selected criterion for node selection: Interaction Site\n",
      "Filtering by chain!\n",
      "Adding gpcr to selection!\n",
      "Number valid gpcr atoms: 280\n",
      "In total using 280 valid atoms!\n",
      "Searching nodes in the interaction site...\n",
      "getting interaction site\n"
     ]
    },
    {
     "name": "stderr",
     "output_type": "stream",
     "text": [
      "\r",
      " 90%|███████████████████████████████████████████████████████████████████████████████████████████████████████████████████████████████████████████████████████████████████████████████▊                   | 321/356 [00:14<00:04,  8.35it/s]"
     ]
    },
    {
     "name": "stdout",
     "output_type": "stream",
     "text": [
      "\n",
      "\n",
      "\n",
      "\n",
      "Selected edge criterion: ['self', 'distance']\n",
      "Selected edge features: ['unitary', 'distance', 'EM']\n",
      "Selected criterion for node selection: Interaction Site\n",
      "Filtering by chain!\n",
      "Adding gpcr to selection!\n",
      "Number valid gpcr atoms: 285\n",
      "In total using 285 valid atoms!\n",
      "Searching nodes in the interaction site...\n",
      "getting interaction site\n",
      "\n",
      "\n",
      "\n",
      "\n",
      "Selected edge criterion: ['self', 'distance']\n",
      "Selected edge features: ['unitary', 'distance', 'EM']\n",
      "Selected criterion for node selection: Interaction Site\n",
      "Filtering by chain!\n",
      "Adding gpcr to selection!\n",
      "Number valid gpcr atoms: 380\n",
      "In total using 380 valid atoms!\n",
      "Searching nodes in the interaction site...\n",
      "getting interaction site\n"
     ]
    },
    {
     "name": "stderr",
     "output_type": "stream",
     "text": [
      "\r",
      " 91%|████████████████████████████████████████████████████████████████████████████████████████████████████████████████████████████████████████████████████████████████████████████████▉                  | 323/356 [00:14<00:04,  7.52it/s]"
     ]
    },
    {
     "name": "stdout",
     "output_type": "stream",
     "text": [
      "\n",
      "\n",
      "\n",
      "\n",
      "Selected edge criterion: ['self', 'distance']\n",
      "Selected edge features: ['unitary', 'distance', 'EM']\n",
      "Selected criterion for node selection: Interaction Site\n",
      "Filtering by chain!\n",
      "Adding gpcr to selection!\n",
      "Number valid gpcr atoms: 0\n",
      "In total using 0 valid atoms!\n",
      "Searching nodes in the interaction site...\n",
      "getting interaction site\n",
      "Selected edge criterion: ['self', 'distance']\n",
      "Selected edge features: ['unitary', 'distance', 'EM']\n",
      "Selected criterion for node selection: Interaction Site\n",
      "Filtering by chain!\n",
      "Adding gpcr to selection!\n",
      "Number valid gpcr atoms: 273\n",
      "In total using 273 valid atoms!\n",
      "Searching nodes in the interaction site...\n",
      "getting interaction site\n"
     ]
    },
    {
     "name": "stderr",
     "output_type": "stream",
     "text": [
      "\r",
      " 91%|██████████████████████████████████████████████████████████████████████████████████████████████████████████████████████████████████████████████████████████████████████████████████                 | 325/356 [00:14<00:04,  7.27it/s]"
     ]
    },
    {
     "name": "stdout",
     "output_type": "stream",
     "text": [
      "\n",
      "\n",
      "\n",
      "\n",
      "Selected edge criterion: ['self', 'distance']\n",
      "Selected edge features: ['unitary', 'distance', 'EM']\n",
      "Selected criterion for node selection: Interaction Site\n",
      "Filtering by chain!\n",
      "Adding gpcr to selection!\n",
      "Number valid gpcr atoms: 275\n",
      "In total using 275 valid atoms!\n",
      "Searching nodes in the interaction site...\n",
      "getting interaction site\n"
     ]
    },
    {
     "name": "stderr",
     "output_type": "stream",
     "text": [
      "\r",
      " 92%|██████████████████████████████████████████████████████████████████████████████████████████████████████████████████████████████████████████████████████████████████████████████████▌                | 326/356 [00:15<00:04,  6.20it/s]"
     ]
    },
    {
     "name": "stdout",
     "output_type": "stream",
     "text": [
      "\n",
      "\n",
      "\n",
      "\n",
      "Selected edge criterion: ['self', 'distance']\n",
      "Selected edge features: ['unitary', 'distance', 'EM']\n",
      "Selected criterion for node selection: Interaction Site\n",
      "Filtering by chain!\n",
      "Adding gpcr to selection!\n",
      "Number valid gpcr atoms: 273\n",
      "In total using 273 valid atoms!\n",
      "Searching nodes in the interaction site...\n",
      "getting interaction site\n"
     ]
    },
    {
     "name": "stderr",
     "output_type": "stream",
     "text": [
      "\r",
      " 92%|███████████████████████████████████████████████████████████████████████████████████████████████████████████████████████████████████████████████████████████████████████████████████                | 327/356 [00:15<00:05,  5.73it/s]"
     ]
    },
    {
     "name": "stdout",
     "output_type": "stream",
     "text": [
      "\n",
      "\n",
      "\n",
      "\n",
      "Selected edge criterion: ['self', 'distance']\n",
      "Selected edge features: ['unitary', 'distance', 'EM']\n",
      "Selected criterion for node selection: Interaction Site\n",
      "Filtering by chain!\n",
      "Adding gpcr to selection!\n",
      "Number valid gpcr atoms: 273\n",
      "In total using 273 valid atoms!\n",
      "Searching nodes in the interaction site...\n",
      "getting interaction site\n"
     ]
    },
    {
     "name": "stderr",
     "output_type": "stream",
     "text": [
      "\r",
      " 92%|███████████████████████████████████████████████████████████████████████████████████████████████████████████████████████████████████████████████████████████████████████████████████▋               | 328/356 [00:15<00:06,  4.59it/s]"
     ]
    },
    {
     "name": "stdout",
     "output_type": "stream",
     "text": [
      "\n",
      "\n",
      "\n",
      "\n",
      "Selected edge criterion: ['self', 'distance']\n",
      "Selected edge features: ['unitary', 'distance', 'EM']\n",
      "Selected criterion for node selection: Interaction Site\n",
      "Filtering by chain!\n",
      "Adding gpcr to selection!\n",
      "Number valid gpcr atoms: 276\n",
      "In total using 276 valid atoms!\n",
      "Searching nodes in the interaction site...\n",
      "getting interaction site\n"
     ]
    },
    {
     "name": "stderr",
     "output_type": "stream",
     "text": [
      "\r",
      " 92%|████████████████████████████████████████████████████████████████████████████████████████████████████████████████████████████████████████████████████████████████████████████████████▏              | 329/356 [00:15<00:06,  4.19it/s]"
     ]
    },
    {
     "name": "stdout",
     "output_type": "stream",
     "text": [
      "\n",
      "\n",
      "\n",
      "\n",
      "Selected edge criterion: ['self', 'distance']\n",
      "Selected edge features: ['unitary', 'distance', 'EM']\n",
      "Selected criterion for node selection: Interaction Site\n",
      "Filtering by chain!\n",
      "Adding gpcr to selection!\n",
      "Number valid gpcr atoms: 275\n",
      "In total using 275 valid atoms!\n",
      "Searching nodes in the interaction site...\n",
      "getting interaction site\n"
     ]
    },
    {
     "name": "stderr",
     "output_type": "stream",
     "text": [
      "\r",
      " 93%|████████████████████████████████████████████████████████████████████████████████████████████████████████████████████████████████████████████████████████████████████████████████████▊              | 330/356 [00:16<00:06,  3.85it/s]"
     ]
    },
    {
     "name": "stdout",
     "output_type": "stream",
     "text": [
      "\n",
      "\n",
      "\n",
      "\n",
      "Selected edge criterion: ['self', 'distance']\n",
      "Selected edge features: ['unitary', 'distance', 'EM']\n",
      "Selected criterion for node selection: Interaction Site\n",
      "Filtering by chain!\n",
      "Adding gpcr to selection!\n",
      "Number valid gpcr atoms: 272\n",
      "In total using 272 valid atoms!\n",
      "Searching nodes in the interaction site...\n",
      "getting interaction site\n"
     ]
    },
    {
     "name": "stderr",
     "output_type": "stream",
     "text": [
      "\r",
      " 93%|█████████████████████████████████████████████████████████████████████████████████████████████████████████████████████████████████████████████████████████████████████████████████████▎             | 331/356 [00:16<00:06,  3.72it/s]"
     ]
    },
    {
     "name": "stdout",
     "output_type": "stream",
     "text": [
      "\n",
      "\n",
      "\n",
      "\n",
      "Selected edge criterion: ['self', 'distance']\n",
      "Selected edge features: ['unitary', 'distance', 'EM']\n",
      "Selected criterion for node selection: Interaction Site\n",
      "Filtering by chain!\n",
      "Adding gpcr to selection!\n",
      "Number valid gpcr atoms: 272\n",
      "In total using 272 valid atoms!\n",
      "Searching nodes in the interaction site...\n",
      "getting interaction site\n"
     ]
    },
    {
     "name": "stderr",
     "output_type": "stream",
     "text": [
      " 94%|██████████████████████████████████████████████████████████████████████████████████████████████████████████████████████████████████████████████████████████████████████████████████████▍            | 333/356 [00:17<00:05,  4.13it/s]"
     ]
    },
    {
     "name": "stdout",
     "output_type": "stream",
     "text": [
      "\n",
      "\n",
      "\n",
      "\n",
      "Selected edge criterion: ['self', 'distance']\n",
      "Selected edge features: ['unitary', 'distance', 'EM']\n",
      "Selected criterion for node selection: Interaction Site\n",
      "Filtering by chain!\n",
      "Adding gpcr to selection!\n",
      "Number valid gpcr atoms: 273\n",
      "In total using 273 valid atoms!\n",
      "Searching nodes in the interaction site...\n",
      "getting interaction site\n",
      "\n",
      "\n",
      "\n",
      "\n",
      "Selected edge criterion: ['self', 'distance']\n",
      "Selected edge features: ['unitary', 'distance', 'EM']\n",
      "Selected criterion for node selection: Interaction Site\n",
      "Filtering by chain!\n",
      "Adding gpcr to selection!\n",
      "Number valid gpcr atoms: 285\n",
      "In total using 285 valid atoms!\n",
      "Searching nodes in the interaction site...\n",
      "getting interaction site\n",
      "\n",
      "\n",
      "\n"
     ]
    },
    {
     "name": "stderr",
     "output_type": "stream",
     "text": [
      "\r",
      " 94%|██████████████████████████████████████████████████████████████████████████████████████████████████████████████████████████████████████████████████████████████████████████████████████▉            | 334/356 [00:17<00:05,  4.39it/s]"
     ]
    },
    {
     "name": "stdout",
     "output_type": "stream",
     "text": [
      "\n",
      "Selected edge criterion: ['self', 'distance']\n",
      "Selected edge features: ['unitary', 'distance', 'EM']\n",
      "Selected criterion for node selection: Interaction Site\n",
      "Filtering by chain!\n",
      "Adding gpcr to selection!\n",
      "Number valid gpcr atoms: 275\n",
      "In total using 275 valid atoms!\n",
      "Searching nodes in the interaction site...\n",
      "getting interaction site\n"
     ]
    },
    {
     "name": "stderr",
     "output_type": "stream",
     "text": [
      " 95%|████████████████████████████████████████████████████████████████████████████████████████████████████████████████████████████████████████████████████████████████████████████████████████▌          | 337/356 [00:17<00:03,  5.40it/s]"
     ]
    },
    {
     "name": "stdout",
     "output_type": "stream",
     "text": [
      "\n",
      "\n",
      "\n",
      "\n",
      "Selected edge criterion: ['self', 'distance']\n",
      "Selected edge features: ['unitary', 'distance', 'EM']\n",
      "Selected criterion for node selection: Interaction Site\n",
      "Filtering by chain!\n",
      "Adding gpcr to selection!\n",
      "Number valid gpcr atoms: 0\n",
      "In total using 0 valid atoms!\n",
      "Searching nodes in the interaction site...\n",
      "getting interaction site\n",
      "Selected edge criterion: ['self', 'distance']\n",
      "Selected edge features: ['unitary', 'distance', 'EM']\n",
      "Selected criterion for node selection: Interaction Site\n",
      "Filtering by chain!\n",
      "Adding gpcr to selection!\n",
      "Number valid gpcr atoms: 290\n",
      "In total using 290 valid atoms!\n",
      "Searching nodes in the interaction site...\n",
      "getting interaction site\n",
      "\n",
      "\n",
      "\n",
      "\n",
      "Selected edge criterion: ['self', 'distance']\n",
      "Selected edge features: ['unitary', 'distance', 'EM']\n",
      "Selected criterion for node selection: Interaction Site\n",
      "Filtering by chain!\n",
      "Adding gpcr to selection!\n",
      "Number valid gpcr atoms: 284\n",
      "In total using 284 valid atoms!\n",
      "Searching nodes in the interaction site...\n",
      "getting interaction site\n",
      "\n",
      "\n",
      "\n",
      "\n",
      "Selected edge criterion: ['self', 'distance']\n",
      "Selected edge features: ['unitary', 'distance', 'EM']\n",
      "Selected criterion for node selection: Interaction Site\n",
      "Filtering by chain!\n",
      "Adding gpcr to selection!\n",
      "Number valid gpcr atoms: 278\n",
      "In total using 278 valid atoms!\n",
      "Searching nodes in the interaction site...\n",
      "getting interaction site\n"
     ]
    },
    {
     "name": "stderr",
     "output_type": "stream",
     "text": [
      " 96%|██████████████████████████████████████████████████████████████████████████████████████████████████████████████████████████████████████████████████████████████████████████████████████████▏        | 340/356 [00:18<00:03,  4.29it/s]"
     ]
    },
    {
     "name": "stdout",
     "output_type": "stream",
     "text": [
      "\n",
      "\n",
      "\n",
      "\n",
      "Selected edge criterion: ['self', 'distance']\n",
      "Selected edge features: ['unitary', 'distance', 'EM']\n",
      "Selected criterion for node selection: Interaction Site\n",
      "Filtering by chain!\n",
      "Adding gpcr to selection!\n",
      "Number valid gpcr atoms: 276\n",
      "In total using 276 valid atoms!\n",
      "Searching nodes in the interaction site...\n",
      "getting interaction site\n",
      "\n",
      "\n",
      "\n",
      "\n"
     ]
    },
    {
     "name": "stderr",
     "output_type": "stream",
     "text": [
      "\r",
      " 96%|██████████████████████████████████████████████████████████████████████████████████████████████████████████████████████████████████████████████████████████████████████████████████████████▊        | 341/356 [00:18<00:03,  3.88it/s]"
     ]
    },
    {
     "name": "stdout",
     "output_type": "stream",
     "text": [
      "Selected edge criterion: ['self', 'distance']\n",
      "Selected edge features: ['unitary', 'distance', 'EM']\n",
      "Selected criterion for node selection: Interaction Site\n",
      "Filtering by chain!\n",
      "Adding gpcr to selection!\n",
      "Number valid gpcr atoms: 278\n",
      "In total using 278 valid atoms!\n",
      "Searching nodes in the interaction site...\n",
      "getting interaction site\n",
      "\n",
      "\n",
      "\n",
      "\n",
      "Selected edge criterion: ['self', 'distance']\n",
      "Selected edge features: ['unitary', 'distance', 'EM']\n",
      "Selected criterion for node selection: Interaction Site\n",
      "Filtering by chain!\n",
      "Adding gpcr to selection!\n",
      "Number valid gpcr atoms: 285\n",
      "In total using 285 valid atoms!\n",
      "Searching nodes in the interaction site...\n",
      "getting interaction site\n"
     ]
    },
    {
     "name": "stderr",
     "output_type": "stream",
     "text": [
      "\r",
      " 96%|███████████████████████████████████████████████████████████████████████████████████████████████████████████████████████████████████████████████████████████████████████████████████████████▎       | 342/356 [00:19<00:03,  3.77it/s]"
     ]
    },
    {
     "name": "stdout",
     "output_type": "stream",
     "text": [
      "\n",
      "\n",
      "\n",
      "\n",
      "Selected edge criterion: ['self', 'distance']\n",
      "Selected edge features: ['unitary', 'distance', 'EM']\n",
      "Selected criterion for node selection: Interaction Site\n",
      "Filtering by chain!\n",
      "Adding gpcr to selection!\n",
      "Number valid gpcr atoms: 257\n",
      "In total using 257 valid atoms!\n",
      "Searching nodes in the interaction site...\n",
      "getting interaction site\n"
     ]
    },
    {
     "name": "stderr",
     "output_type": "stream",
     "text": [
      "\r",
      " 96%|███████████████████████████████████████████████████████████████████████████████████████████████████████████████████████████████████████████████████████████████████████████████████████████▉       | 343/356 [00:19<00:03,  3.83it/s]"
     ]
    },
    {
     "name": "stdout",
     "output_type": "stream",
     "text": [
      "\n",
      "\n",
      "\n",
      "\n",
      "Selected edge criterion: ['self', 'distance']\n",
      "Selected edge features: ['unitary', 'distance', 'EM']\n",
      "Selected criterion for node selection: Interaction Site\n",
      "Filtering by chain!\n",
      "Adding gpcr to selection!\n",
      "Number valid gpcr atoms: 446\n",
      "In total using 446 valid atoms!\n",
      "Searching nodes in the interaction site...\n",
      "getting interaction site\n",
      "Selected edge criterion: ['self', 'distance']\n",
      "Selected edge features: ['unitary', 'distance', 'EM']\n",
      "Selected criterion for node selection: Interaction Site\n",
      "Filtering by chain!\n",
      "Adding gpcr to selection!\n",
      "Number valid gpcr atoms: 282\n",
      "In total using 282 valid atoms!\n",
      "Searching nodes in the interaction site...\n",
      "getting interaction site\n"
     ]
    },
    {
     "name": "stderr",
     "output_type": "stream",
     "text": [
      "\r",
      " 97%|████████████████████████████████████████████████████████████████████████████████████████████████████████████████████████████████████████████████████████████████████████████████████████████▉      | 345/356 [00:19<00:02,  4.64it/s]"
     ]
    },
    {
     "name": "stdout",
     "output_type": "stream",
     "text": [
      "\n",
      "\n",
      "\n",
      "\n",
      "Selected edge criterion: ['self', 'distance']\n",
      "Selected edge features: ['unitary', 'distance', 'EM']\n",
      "Selected criterion for node selection: Interaction Site\n",
      "Filtering by chain!\n",
      "Adding gpcr to selection!\n",
      "Number valid gpcr atoms: 280\n",
      "In total using 280 valid atoms!\n",
      "Searching nodes in the interaction site...\n",
      "getting interaction site\n"
     ]
    },
    {
     "name": "stderr",
     "output_type": "stream",
     "text": [
      " 97%|██████████████████████████████████████████████████████████████████████████████████████████████████████████████████████████████████████████████████████████████████████████████████████████████     | 347/356 [00:20<00:02,  3.79it/s]"
     ]
    },
    {
     "name": "stdout",
     "output_type": "stream",
     "text": [
      "\n",
      "\n",
      "\n",
      "\n",
      "Selected edge criterion: ['self', 'distance']\n",
      "Selected edge features: ['unitary', 'distance', 'EM']\n",
      "Selected criterion for node selection: Interaction Site\n",
      "Filtering by chain!\n",
      "Adding gpcr to selection!\n",
      "Number valid gpcr atoms: 286\n",
      "In total using 286 valid atoms!\n",
      "Searching nodes in the interaction site...\n",
      "getting interaction site\n",
      "\n",
      "\n",
      "\n",
      "\n",
      "Selected edge criterion: ['self', 'distance']\n",
      "Selected edge features: ['unitary', 'distance', 'EM']\n",
      "Selected criterion for node selection: Interaction Site\n",
      "Filtering by chain!\n",
      "Adding gpcr to selection!\n",
      "Number valid gpcr atoms: 269\n",
      "In total using 269 valid atoms!\n",
      "Searching nodes in the interaction site...\n",
      "getting interaction site\n"
     ]
    },
    {
     "name": "stderr",
     "output_type": "stream",
     "text": [
      "\r",
      " 98%|██████████████████████████████████████████████████████████████████████████████████████████████████████████████████████████████████████████████████████████████████████████████████████████████▌    | 348/356 [00:20<00:02,  3.69it/s]"
     ]
    },
    {
     "name": "stdout",
     "output_type": "stream",
     "text": [
      "\n",
      "\n",
      "\n",
      "\n",
      "Selected edge criterion: ['self', 'distance']\n",
      "Selected edge features: ['unitary', 'distance', 'EM']\n",
      "Selected criterion for node selection: Interaction Site\n",
      "Filtering by chain!\n",
      "Adding gpcr to selection!\n",
      "Number valid gpcr atoms: 0\n",
      "In total using 0 valid atoms!\n",
      "Searching nodes in the interaction site...\n",
      "getting interaction site\n",
      "Selected edge criterion: ['self', 'distance']\n",
      "Selected edge features: ['unitary', 'distance', 'EM']\n",
      "Selected criterion for node selection: Interaction Site\n",
      "Filtering by chain!\n",
      "Adding gpcr to selection!\n",
      "Number valid gpcr atoms: 0\n",
      "In total using 0 valid atoms!\n",
      "Searching nodes in the interaction site...\n",
      "getting interaction site\n",
      "Selected edge criterion: ['self', 'distance']\n",
      "Selected edge features: ['unitary', 'distance', 'EM']\n",
      "Selected criterion for node selection: Interaction Site\n",
      "Filtering by chain!\n",
      "Adding gpcr to selection!\n",
      "Number valid gpcr atoms: 0\n",
      "In total using 0 valid atoms!\n",
      "Searching nodes in the interaction site...\n",
      "getting interaction site\n",
      "Selected edge criterion: ['self', 'distance']\n",
      "Selected edge features: ['unitary', 'distance', 'EM']\n",
      "Selected criterion for node selection: Interaction Site\n",
      "Filtering by chain!\n",
      "Adding gpcr to selection!\n",
      "Number valid gpcr atoms: 393\n",
      "In total using 393 valid atoms!\n",
      "Searching nodes in the interaction site...\n",
      "getting interaction site\n"
     ]
    },
    {
     "name": "stderr",
     "output_type": "stream",
     "text": [
      " 99%|█████████████████████████████████████████████████████████████████████████████████████████████████████████████████████████████████████████████████████████████████████████████████████████████████▎ | 353/356 [00:21<00:00,  5.12it/s]"
     ]
    },
    {
     "name": "stdout",
     "output_type": "stream",
     "text": [
      "\n",
      "\n",
      "\n",
      "\n",
      "Selected edge criterion: ['self', 'distance']\n",
      "Selected edge features: ['unitary', 'distance', 'EM']\n",
      "Selected criterion for node selection: Interaction Site\n",
      "Filtering by chain!\n",
      "Adding gpcr to selection!\n",
      "Number valid gpcr atoms: 390\n",
      "In total using 390 valid atoms!\n",
      "Searching nodes in the interaction site...\n",
      "getting interaction site\n",
      "\n",
      "\n",
      "\n",
      "\n",
      "Selected edge criterion: ['self', 'distance']\n",
      "Selected edge features: ['unitary', 'distance', 'EM']\n",
      "Selected criterion for node selection: Interaction Site\n",
      "Filtering by chain!\n",
      "Adding gpcr to selection!\n",
      "Number valid gpcr atoms: 390\n",
      "In total using 390 valid atoms!\n",
      "Searching nodes in the interaction site...\n",
      "getting interaction site\n"
     ]
    },
    {
     "name": "stderr",
     "output_type": "stream",
     "text": [
      "100%|██████████████████████████████████████████████████████████████████████████████████████████████████████████████████████████████████████████████████████████████████████████████████████████████████▍| 355/356 [00:22<00:00,  3.92it/s]"
     ]
    },
    {
     "name": "stdout",
     "output_type": "stream",
     "text": [
      "\n",
      "\n",
      "\n",
      "\n",
      "Selected edge criterion: ['self', 'distance']\n",
      "Selected edge features: ['unitary', 'distance', 'EM']\n",
      "Selected criterion for node selection: Interaction Site\n",
      "Filtering by chain!\n",
      "Adding gpcr to selection!\n",
      "Number valid gpcr atoms: 280\n",
      "In total using 280 valid atoms!\n",
      "Searching nodes in the interaction site...\n",
      "getting interaction site\n",
      "\n",
      "\n",
      "\n",
      "\n",
      "Selected edge criterion: ['self', 'distance']\n",
      "Selected edge features: ['unitary', 'distance', 'EM']\n",
      "Selected criterion for node selection: Interaction Site\n",
      "Filtering by chain!\n",
      "Adding gpcr to selection!\n",
      "Number valid gpcr atoms: 285\n",
      "In total using 285 valid atoms!\n",
      "Searching nodes in the interaction site...\n",
      "getting interaction site\n"
     ]
    },
    {
     "name": "stderr",
     "output_type": "stream",
     "text": [
      "100%|███████████████████████████████████████████████████████████████████████████████████████████████████████████████████████████████████████████████████████████████████████████████████████████████████| 356/356 [00:22<00:00, 15.86it/s]"
     ]
    },
    {
     "name": "stdout",
     "output_type": "stream",
     "text": [
      "\n",
      "\n",
      "\n",
      "\n"
     ]
    },
    {
     "name": "stderr",
     "output_type": "stream",
     "text": [
      "\n"
     ]
    }
   ],
   "source": [
    "gp.create_graph(filter_by_chain=True,\n",
    "                gpcr=True,\n",
    "                gprotein=False,\n",
    "                auxilary=False,\n",
    "                node_criteria='Interaction Site', \n",
    "                edge_criteria='radius',\n",
    "                h5start=13,\n",
    "                cons_r_res=['3.50', '6.33'], \n",
    "                radius=12,\n",
    "                max_edge_dist=7)"
   ]
  },
  {
   "cell_type": "code",
   "execution_count": 265,
   "id": "5bc6144a",
   "metadata": {},
   "outputs": [
    {
     "data": {
      "text/plain": [
       "92"
      ]
     },
     "execution_count": 265,
     "metadata": {},
     "output_type": "execute_result"
    }
   ],
   "source": [
    "len(gp)"
   ]
  },
  {
   "cell_type": "code",
   "execution_count": 266,
   "id": "20416177",
   "metadata": {},
   "outputs": [],
   "source": [
    "ex = 10"
   ]
  },
  {
   "cell_type": "code",
   "execution_count": 267,
   "id": "de7ae0e4",
   "metadata": {},
   "outputs": [],
   "source": [
    "egd = gp.d[10]"
   ]
  },
  {
   "cell_type": "code",
   "execution_count": 268,
   "id": "b8a32a3f",
   "metadata": {},
   "outputs": [],
   "source": [
    "pdb_id = gp.dl[10]"
   ]
  },
  {
   "cell_type": "code",
   "execution_count": 269,
   "id": "bb164db2",
   "metadata": {},
   "outputs": [],
   "source": [
    "eg = gp.p.dfl[gp.p.dfl_list.index(pdb_id)]"
   ]
  },
  {
   "cell_type": "code",
   "execution_count": 270,
   "id": "ab7ea24a",
   "metadata": {},
   "outputs": [],
   "source": [
    "x = eg.groupby('auth_asym_id')['generic_position'].nunique()"
   ]
  },
  {
   "cell_type": "code",
   "execution_count": 271,
   "id": "deba47a2",
   "metadata": {},
   "outputs": [
    {
     "data": {
      "text/plain": [
       "'4UHR'"
      ]
     },
     "execution_count": 271,
     "metadata": {},
     "output_type": "execute_result"
    }
   ],
   "source": [
    "pdb_id"
   ]
  },
  {
   "cell_type": "code",
   "execution_count": 272,
   "id": "cfc2c472",
   "metadata": {},
   "outputs": [
    {
     "data": {
      "text/html": [
       "<div>\n",
       "<style scoped>\n",
       "    .dataframe tbody tr th:only-of-type {\n",
       "        vertical-align: middle;\n",
       "    }\n",
       "\n",
       "    .dataframe tbody tr th {\n",
       "        vertical-align: top;\n",
       "    }\n",
       "\n",
       "    .dataframe thead th {\n",
       "        text-align: right;\n",
       "    }\n",
       "</style>\n",
       "<table border=\"1\" class=\"dataframe\">\n",
       "  <thead>\n",
       "    <tr style=\"text-align: right;\">\n",
       "      <th></th>\n",
       "      <th>index</th>\n",
       "      <th>PDB</th>\n",
       "      <th>auth_asym_id</th>\n",
       "      <th>label_atom_id</th>\n",
       "      <th>type_symbol</th>\n",
       "      <th>Cartn_x</th>\n",
       "      <th>Cartn_y</th>\n",
       "      <th>Cartn_z</th>\n",
       "      <th>identifier</th>\n",
       "      <th>label_comp_sid</th>\n",
       "      <th>generic_position</th>\n",
       "    </tr>\n",
       "  </thead>\n",
       "  <tbody>\n",
       "    <tr>\n",
       "      <th>285</th>\n",
       "      <td>2190</td>\n",
       "      <td>4UHR</td>\n",
       "      <td>A</td>\n",
       "      <td>CA</td>\n",
       "      <td>C</td>\n",
       "      <td>-25.273</td>\n",
       "      <td>2.584</td>\n",
       "      <td>-8.817</td>\n",
       "      <td>AA2AR_HUMAN</td>\n",
       "      <td>F</td>\n",
       "      <td>8.50</td>\n",
       "    </tr>\n",
       "    <tr>\n",
       "      <th>286</th>\n",
       "      <td>2201</td>\n",
       "      <td>4UHR</td>\n",
       "      <td>A</td>\n",
       "      <td>CA</td>\n",
       "      <td>C</td>\n",
       "      <td>-26.355</td>\n",
       "      <td>-1.063</td>\n",
       "      <td>-9.109</td>\n",
       "      <td>AA2AR_HUMAN</td>\n",
       "      <td>R</td>\n",
       "      <td>8.51</td>\n",
       "    </tr>\n",
       "    <tr>\n",
       "      <th>287</th>\n",
       "      <td>2212</td>\n",
       "      <td>4UHR</td>\n",
       "      <td>A</td>\n",
       "      <td>CA</td>\n",
       "      <td>C</td>\n",
       "      <td>-28.759</td>\n",
       "      <td>-0.896</td>\n",
       "      <td>-6.136</td>\n",
       "      <td>AA2AR_HUMAN</td>\n",
       "      <td>Q</td>\n",
       "      <td>8.52</td>\n",
       "    </tr>\n",
       "    <tr>\n",
       "      <th>288</th>\n",
       "      <td>2221</td>\n",
       "      <td>4UHR</td>\n",
       "      <td>A</td>\n",
       "      <td>CA</td>\n",
       "      <td>C</td>\n",
       "      <td>-30.279</td>\n",
       "      <td>2.361</td>\n",
       "      <td>-7.407</td>\n",
       "      <td>AA2AR_HUMAN</td>\n",
       "      <td>T</td>\n",
       "      <td>8.53</td>\n",
       "    </tr>\n",
       "    <tr>\n",
       "      <th>289</th>\n",
       "      <td>2228</td>\n",
       "      <td>4UHR</td>\n",
       "      <td>A</td>\n",
       "      <td>CA</td>\n",
       "      <td>C</td>\n",
       "      <td>-30.748</td>\n",
       "      <td>0.700</td>\n",
       "      <td>-10.812</td>\n",
       "      <td>AA2AR_HUMAN</td>\n",
       "      <td>F</td>\n",
       "      <td>8.54</td>\n",
       "    </tr>\n",
       "    <tr>\n",
       "      <th>290</th>\n",
       "      <td>2239</td>\n",
       "      <td>4UHR</td>\n",
       "      <td>A</td>\n",
       "      <td>CA</td>\n",
       "      <td>C</td>\n",
       "      <td>-32.606</td>\n",
       "      <td>-2.165</td>\n",
       "      <td>-9.106</td>\n",
       "      <td>AA2AR_HUMAN</td>\n",
       "      <td>R</td>\n",
       "      <td>8.55</td>\n",
       "    </tr>\n",
       "    <tr>\n",
       "      <th>291</th>\n",
       "      <td>2250</td>\n",
       "      <td>4UHR</td>\n",
       "      <td>A</td>\n",
       "      <td>CA</td>\n",
       "      <td>C</td>\n",
       "      <td>-34.907</td>\n",
       "      <td>0.221</td>\n",
       "      <td>-7.169</td>\n",
       "      <td>AA2AR_HUMAN</td>\n",
       "      <td>K</td>\n",
       "      <td>8.56</td>\n",
       "    </tr>\n",
       "    <tr>\n",
       "      <th>292</th>\n",
       "      <td>2259</td>\n",
       "      <td>4UHR</td>\n",
       "      <td>A</td>\n",
       "      <td>CA</td>\n",
       "      <td>C</td>\n",
       "      <td>-35.813</td>\n",
       "      <td>2.308</td>\n",
       "      <td>-10.254</td>\n",
       "      <td>AA2AR_HUMAN</td>\n",
       "      <td>I</td>\n",
       "      <td>8.57</td>\n",
       "    </tr>\n",
       "    <tr>\n",
       "      <th>293</th>\n",
       "      <td>2267</td>\n",
       "      <td>4UHR</td>\n",
       "      <td>A</td>\n",
       "      <td>CA</td>\n",
       "      <td>C</td>\n",
       "      <td>-36.443</td>\n",
       "      <td>-0.777</td>\n",
       "      <td>-12.417</td>\n",
       "      <td>AA2AR_HUMAN</td>\n",
       "      <td>I</td>\n",
       "      <td>8.58</td>\n",
       "    </tr>\n",
       "    <tr>\n",
       "      <th>294</th>\n",
       "      <td>2275</td>\n",
       "      <td>4UHR</td>\n",
       "      <td>A</td>\n",
       "      <td>CA</td>\n",
       "      <td>C</td>\n",
       "      <td>-38.423</td>\n",
       "      <td>-2.773</td>\n",
       "      <td>-9.812</td>\n",
       "      <td>AA2AR_HUMAN</td>\n",
       "      <td>R</td>\n",
       "      <td>8.59</td>\n",
       "    </tr>\n",
       "    <tr>\n",
       "      <th>295</th>\n",
       "      <td>2286</td>\n",
       "      <td>4UHR</td>\n",
       "      <td>A</td>\n",
       "      <td>CA</td>\n",
       "      <td>C</td>\n",
       "      <td>-40.471</td>\n",
       "      <td>0.325</td>\n",
       "      <td>-8.875</td>\n",
       "      <td>AA2AR_HUMAN</td>\n",
       "      <td>S</td>\n",
       "      <td>8.60</td>\n",
       "    </tr>\n",
       "    <tr>\n",
       "      <th>296</th>\n",
       "      <td>2292</td>\n",
       "      <td>4UHR</td>\n",
       "      <td>A</td>\n",
       "      <td>CA</td>\n",
       "      <td>C</td>\n",
       "      <td>-41.285</td>\n",
       "      <td>0.922</td>\n",
       "      <td>-12.563</td>\n",
       "      <td>AA2AR_HUMAN</td>\n",
       "      <td>H</td>\n",
       "      <td>8.61</td>\n",
       "    </tr>\n",
       "    <tr>\n",
       "      <th>297</th>\n",
       "      <td>2302</td>\n",
       "      <td>4UHR</td>\n",
       "      <td>A</td>\n",
       "      <td>CA</td>\n",
       "      <td>C</td>\n",
       "      <td>-42.328</td>\n",
       "      <td>-2.691</td>\n",
       "      <td>-13.137</td>\n",
       "      <td>AA2AR_HUMAN</td>\n",
       "      <td>V</td>\n",
       "      <td>8.62</td>\n",
       "    </tr>\n",
       "    <tr>\n",
       "      <th>298</th>\n",
       "      <td>2309</td>\n",
       "      <td>4UHR</td>\n",
       "      <td>A</td>\n",
       "      <td>CA</td>\n",
       "      <td>C</td>\n",
       "      <td>-44.535</td>\n",
       "      <td>-2.765</td>\n",
       "      <td>-10.018</td>\n",
       "      <td>AA2AR_HUMAN</td>\n",
       "      <td>L</td>\n",
       "      <td>8.63</td>\n",
       "    </tr>\n",
       "    <tr>\n",
       "      <th>299</th>\n",
       "      <td>2317</td>\n",
       "      <td>4UHR</td>\n",
       "      <td>A</td>\n",
       "      <td>CA</td>\n",
       "      <td>C</td>\n",
       "      <td>-46.259</td>\n",
       "      <td>0.561</td>\n",
       "      <td>-10.798</td>\n",
       "      <td>AA2AR_HUMAN</td>\n",
       "      <td>R</td>\n",
       "      <td>8.64</td>\n",
       "    </tr>\n",
       "    <tr>\n",
       "      <th>300</th>\n",
       "      <td>2328</td>\n",
       "      <td>4UHR</td>\n",
       "      <td>A</td>\n",
       "      <td>CA</td>\n",
       "      <td>C</td>\n",
       "      <td>-46.933</td>\n",
       "      <td>-0.742</td>\n",
       "      <td>-14.332</td>\n",
       "      <td>AA2AR_HUMAN</td>\n",
       "      <td>Q</td>\n",
       "      <td>8.65</td>\n",
       "    </tr>\n",
       "    <tr>\n",
       "      <th>301</th>\n",
       "      <td>2337</td>\n",
       "      <td>4UHR</td>\n",
       "      <td>A</td>\n",
       "      <td>CA</td>\n",
       "      <td>C</td>\n",
       "      <td>-48.222</td>\n",
       "      <td>-4.212</td>\n",
       "      <td>-13.390</td>\n",
       "      <td>AA2AR_HUMAN</td>\n",
       "      <td>Q</td>\n",
       "      <td>8.66</td>\n",
       "    </tr>\n",
       "    <tr>\n",
       "      <th>302</th>\n",
       "      <td>2346</td>\n",
       "      <td>4UHR</td>\n",
       "      <td>A</td>\n",
       "      <td>CA</td>\n",
       "      <td>C</td>\n",
       "      <td>-50.423</td>\n",
       "      <td>-3.265</td>\n",
       "      <td>-10.390</td>\n",
       "      <td>AA2AR_HUMAN</td>\n",
       "      <td>E</td>\n",
       "      <td>8.67</td>\n",
       "    </tr>\n",
       "    <tr>\n",
       "      <th>303</th>\n",
       "      <td>2355</td>\n",
       "      <td>4UHR</td>\n",
       "      <td>A</td>\n",
       "      <td>CA</td>\n",
       "      <td>C</td>\n",
       "      <td>-53.604</td>\n",
       "      <td>-2.306</td>\n",
       "      <td>-12.325</td>\n",
       "      <td>AA2AR_HUMAN</td>\n",
       "      <td>P</td>\n",
       "      <td>8.68</td>\n",
       "    </tr>\n",
       "    <tr>\n",
       "      <th>304</th>\n",
       "      <td>2362</td>\n",
       "      <td>4UHR</td>\n",
       "      <td>A</td>\n",
       "      <td>CA</td>\n",
       "      <td>C</td>\n",
       "      <td>-53.523</td>\n",
       "      <td>-5.779</td>\n",
       "      <td>-13.923</td>\n",
       "      <td>AA2AR_HUMAN</td>\n",
       "      <td>F</td>\n",
       "      <td>8.69</td>\n",
       "    </tr>\n",
       "  </tbody>\n",
       "</table>\n",
       "</div>"
      ],
      "text/plain": [
       "     index   PDB auth_asym_id label_atom_id type_symbol  Cartn_x Cartn_y  \\\n",
       "285   2190  4UHR            A            CA           C  -25.273   2.584   \n",
       "286   2201  4UHR            A            CA           C  -26.355  -1.063   \n",
       "287   2212  4UHR            A            CA           C  -28.759  -0.896   \n",
       "288   2221  4UHR            A            CA           C  -30.279   2.361   \n",
       "289   2228  4UHR            A            CA           C  -30.748   0.700   \n",
       "290   2239  4UHR            A            CA           C  -32.606  -2.165   \n",
       "291   2250  4UHR            A            CA           C  -34.907   0.221   \n",
       "292   2259  4UHR            A            CA           C  -35.813   2.308   \n",
       "293   2267  4UHR            A            CA           C  -36.443  -0.777   \n",
       "294   2275  4UHR            A            CA           C  -38.423  -2.773   \n",
       "295   2286  4UHR            A            CA           C  -40.471   0.325   \n",
       "296   2292  4UHR            A            CA           C  -41.285   0.922   \n",
       "297   2302  4UHR            A            CA           C  -42.328  -2.691   \n",
       "298   2309  4UHR            A            CA           C  -44.535  -2.765   \n",
       "299   2317  4UHR            A            CA           C  -46.259   0.561   \n",
       "300   2328  4UHR            A            CA           C  -46.933  -0.742   \n",
       "301   2337  4UHR            A            CA           C  -48.222  -4.212   \n",
       "302   2346  4UHR            A            CA           C  -50.423  -3.265   \n",
       "303   2355  4UHR            A            CA           C  -53.604  -2.306   \n",
       "304   2362  4UHR            A            CA           C  -53.523  -5.779   \n",
       "\n",
       "     Cartn_z   identifier label_comp_sid generic_position  \n",
       "285   -8.817  AA2AR_HUMAN              F             8.50  \n",
       "286   -9.109  AA2AR_HUMAN              R             8.51  \n",
       "287   -6.136  AA2AR_HUMAN              Q             8.52  \n",
       "288   -7.407  AA2AR_HUMAN              T             8.53  \n",
       "289  -10.812  AA2AR_HUMAN              F             8.54  \n",
       "290   -9.106  AA2AR_HUMAN              R             8.55  \n",
       "291   -7.169  AA2AR_HUMAN              K             8.56  \n",
       "292  -10.254  AA2AR_HUMAN              I             8.57  \n",
       "293  -12.417  AA2AR_HUMAN              I             8.58  \n",
       "294   -9.812  AA2AR_HUMAN              R             8.59  \n",
       "295   -8.875  AA2AR_HUMAN              S             8.60  \n",
       "296  -12.563  AA2AR_HUMAN              H             8.61  \n",
       "297  -13.137  AA2AR_HUMAN              V             8.62  \n",
       "298  -10.018  AA2AR_HUMAN              L             8.63  \n",
       "299  -10.798  AA2AR_HUMAN              R             8.64  \n",
       "300  -14.332  AA2AR_HUMAN              Q             8.65  \n",
       "301  -13.390  AA2AR_HUMAN              Q             8.66  \n",
       "302  -10.390  AA2AR_HUMAN              E             8.67  \n",
       "303  -12.325  AA2AR_HUMAN              P             8.68  \n",
       "304  -13.923  AA2AR_HUMAN              F             8.69  "
      ]
     },
     "execution_count": 272,
     "metadata": {},
     "output_type": "execute_result"
    }
   ],
   "source": [
    "eg[eg['generic_position'] != ''].tail(20)"
   ]
  },
  {
   "cell_type": "code",
   "execution_count": 273,
   "id": "dfe60be9",
   "metadata": {},
   "outputs": [
    {
     "data": {
      "text/plain": [
       "tensor([ 4, 13,  8,  3, 17,  6,  0,  0,  8, 15,  9,  0,  7,  7,  7, 19,  0, 19,\n",
       "        14,  7, 14])"
      ]
     },
     "execution_count": 273,
     "metadata": {},
     "output_type": "execute_result"
    }
   ],
   "source": [
    "egd.x"
   ]
  },
  {
   "cell_type": "code",
   "execution_count": 274,
   "id": "e637c36f",
   "metadata": {
    "pycharm": {
     "name": "#%%\n"
    }
   },
   "outputs": [
    {
     "data": {
      "text/html": [
       "<div>\n",
       "<style scoped>\n",
       "    .dataframe tbody tr th:only-of-type {\n",
       "        vertical-align: middle;\n",
       "    }\n",
       "\n",
       "    .dataframe tbody tr th {\n",
       "        vertical-align: top;\n",
       "    }\n",
       "\n",
       "    .dataframe thead th {\n",
       "        text-align: right;\n",
       "    }\n",
       "</style>\n",
       "<table border=\"1\" class=\"dataframe\">\n",
       "  <thead>\n",
       "    <tr style=\"text-align: right;\">\n",
       "      <th></th>\n",
       "      <th>index</th>\n",
       "      <th>PDB</th>\n",
       "      <th>auth_asym_id</th>\n",
       "      <th>label_atom_id</th>\n",
       "      <th>type_symbol</th>\n",
       "      <th>Cartn_x</th>\n",
       "      <th>Cartn_y</th>\n",
       "      <th>Cartn_z</th>\n",
       "      <th>identifier</th>\n",
       "      <th>label_comp_sid</th>\n",
       "      <th>generic_position</th>\n",
       "    </tr>\n",
       "  </thead>\n",
       "  <tbody>\n",
       "    <tr>\n",
       "      <th>0</th>\n",
       "      <td>1439</td>\n",
       "      <td>2YDV</td>\n",
       "      <td>A</td>\n",
       "      <td>CA</td>\n",
       "      <td>C</td>\n",
       "      <td>17.962</td>\n",
       "      <td>18.088</td>\n",
       "      <td>2.537</td>\n",
       "      <td>AA2AR_HUMAN</td>\n",
       "      <td>G</td>\n",
       "      <td>5.56</td>\n",
       "    </tr>\n",
       "    <tr>\n",
       "      <th>1</th>\n",
       "      <td>1462</td>\n",
       "      <td>2YDV</td>\n",
       "      <td>A</td>\n",
       "      <td>CA</td>\n",
       "      <td>C</td>\n",
       "      <td>13.057</td>\n",
       "      <td>19.473</td>\n",
       "      <td>2.389</td>\n",
       "      <td>AA2AR_HUMAN</td>\n",
       "      <td>L</td>\n",
       "      <td>5.59</td>\n",
       "    </tr>\n",
       "    <tr>\n",
       "      <th>2</th>\n",
       "      <td>1470</td>\n",
       "      <td>2YDV</td>\n",
       "      <td>A</td>\n",
       "      <td>CA</td>\n",
       "      <td>C</td>\n",
       "      <td>13.834</td>\n",
       "      <td>22.435</td>\n",
       "      <td>4.670</td>\n",
       "      <td>AA2AR_HUMAN</td>\n",
       "      <td>R</td>\n",
       "      <td>5.60</td>\n",
       "    </tr>\n",
       "    <tr>\n",
       "      <th>3</th>\n",
       "      <td>1489</td>\n",
       "      <td>2YDV</td>\n",
       "      <td>A</td>\n",
       "      <td>CA</td>\n",
       "      <td>C</td>\n",
       "      <td>9.367</td>\n",
       "      <td>22.825</td>\n",
       "      <td>1.700</td>\n",
       "      <td>AA2AR_HUMAN</td>\n",
       "      <td>F</td>\n",
       "      <td>5.62</td>\n",
       "    </tr>\n",
       "    <tr>\n",
       "      <th>4</th>\n",
       "      <td>1500</td>\n",
       "      <td>2YDV</td>\n",
       "      <td>A</td>\n",
       "      <td>CA</td>\n",
       "      <td>C</td>\n",
       "      <td>8.793</td>\n",
       "      <td>22.643</td>\n",
       "      <td>5.482</td>\n",
       "      <td>AA2AR_HUMAN</td>\n",
       "      <td>L</td>\n",
       "      <td>5.63</td>\n",
       "    </tr>\n",
       "    <tr>\n",
       "      <th>5</th>\n",
       "      <td>1508</td>\n",
       "      <td>2YDV</td>\n",
       "      <td>A</td>\n",
       "      <td>CA</td>\n",
       "      <td>C</td>\n",
       "      <td>9.081</td>\n",
       "      <td>26.437</td>\n",
       "      <td>5.681</td>\n",
       "      <td>AA2AR_HUMAN</td>\n",
       "      <td>A</td>\n",
       "      <td>5.64</td>\n",
       "    </tr>\n",
       "  </tbody>\n",
       "</table>\n",
       "</div>"
      ],
      "text/plain": [
       "   index   PDB auth_asym_id label_atom_id type_symbol Cartn_x Cartn_y Cartn_z  \\\n",
       "0   1439  2YDV            A            CA           C  17.962  18.088   2.537   \n",
       "1   1462  2YDV            A            CA           C  13.057  19.473   2.389   \n",
       "2   1470  2YDV            A            CA           C  13.834  22.435   4.670   \n",
       "3   1489  2YDV            A            CA           C   9.367  22.825   1.700   \n",
       "4   1500  2YDV            A            CA           C   8.793  22.643   5.482   \n",
       "5   1508  2YDV            A            CA           C   9.081  26.437   5.681   \n",
       "\n",
       "    identifier label_comp_sid generic_position  \n",
       "0  AA2AR_HUMAN              G             5.56  \n",
       "1  AA2AR_HUMAN              L             5.59  \n",
       "2  AA2AR_HUMAN              R             5.60  \n",
       "3  AA2AR_HUMAN              F             5.62  \n",
       "4  AA2AR_HUMAN              L             5.63  \n",
       "5  AA2AR_HUMAN              A             5.64  "
      ]
     },
     "execution_count": 274,
     "metadata": {},
     "output_type": "execute_result"
    }
   ],
   "source": [
    "gp.selection[0].tail(25)"
   ]
  },
  {
   "cell_type": "code",
   "execution_count": 275,
   "id": "d4e314f5",
   "metadata": {
    "pycharm": {
     "name": "#%%\n"
    }
   },
   "outputs": [
    {
     "data": {
      "text/plain": [
       "28"
      ]
     },
     "execution_count": 275,
     "metadata": {},
     "output_type": "execute_result"
    }
   ],
   "source": [
    "len(gp.edges[0])"
   ]
  },
  {
   "cell_type": "code",
   "execution_count": 276,
   "id": "1afd2f0f",
   "metadata": {
    "pycharm": {
     "name": "#%%\n"
    }
   },
   "outputs": [
    {
     "data": {
      "text/plain": [
       "Data(edge_attr=[28, 2], edge_index=[2, 28], pos=[6, 3], x=[6], y=[4])"
      ]
     },
     "execution_count": 276,
     "metadata": {},
     "output_type": "execute_result"
    }
   ],
   "source": [
    "gp.d[0]"
   ]
  },
  {
   "cell_type": "code",
   "execution_count": 277,
   "id": "36d50c73",
   "metadata": {},
   "outputs": [
    {
     "data": {
      "text/plain": [
       "Data(edge_attr=[28, 2], edge_index=[2, 28], pos=[6, 3], x=[6], y=[4])"
      ]
     },
     "execution_count": 277,
     "metadata": {},
     "output_type": "execute_result"
    }
   ],
   "source": [
    "gp.__getitem__(0)"
   ]
  },
  {
   "cell_type": "code",
   "execution_count": 278,
   "id": "0d61b710",
   "metadata": {
    "pycharm": {
     "name": "#%%\n"
    }
   },
   "outputs": [],
   "source": [
    "import networkx as nx\n",
    "from torch_geometric.utils.convert import to_networkx"
   ]
  },
  {
   "cell_type": "code",
   "execution_count": 279,
   "id": "58bfa21b",
   "metadata": {
    "pycharm": {
     "name": "#%%\n"
    }
   },
   "outputs": [
    {
     "data": {
      "image/png": "[encoded data removed]",
      "text/plain": [
       "<Figure size 432x288 with 1 Axes>"
      ]
     },
     "metadata": {},
     "output_type": "display_data"
    }
   ],
   "source": [
    "g = to_networkx(gp.d[0], to_undirected=True)\n",
    "nx.draw(g)"
   ]
  },
  {
   "cell_type": "code",
   "execution_count": 280,
   "id": "ae855c80",
   "metadata": {
    "pycharm": {
     "name": "#%%\n"
    }
   },
   "outputs": [
    {
     "data": {
      "text/plain": [
       "92"
      ]
     },
     "execution_count": 280,
     "metadata": {},
     "output_type": "execute_result"
    }
   ],
   "source": [
    "len(gp.d)"
   ]
  },
  {
   "cell_type": "code",
   "execution_count": 281,
   "id": "279e4799",
   "metadata": {
    "pycharm": {
     "name": "#%%\n"
    }
   },
   "outputs": [
    {
     "data": {
      "image/png": "[encoded data removed]",
      "text/plain": [
       "<Figure size 432x288 with 1 Axes>"
      ]
     },
     "metadata": {},
     "output_type": "display_data"
    }
   ],
   "source": [
    "g = to_networkx(gp.d[0], to_undirected=True)\n",
    "nx.draw(g)"
   ]
  },
  {
   "cell_type": "code",
   "execution_count": 282,
   "id": "7ec9c143",
   "metadata": {
    "pycharm": {
     "name": "#%%\n"
    }
   },
   "outputs": [
    {
     "data": {
      "text/plain": [
       "92"
      ]
     },
     "execution_count": 282,
     "metadata": {},
     "output_type": "execute_result"
    }
   ],
   "source": [
    "len(gp.d)"
   ]
  },
  {
   "cell_type": "code",
   "execution_count": 283,
   "id": "b86134d9",
   "metadata": {
    "pycharm": {
     "name": "#%%\n"
    }
   },
   "outputs": [
    {
     "data": {
      "text/plain": [
       "92"
      ]
     },
     "execution_count": 283,
     "metadata": {},
     "output_type": "execute_result"
    }
   ],
   "source": [
    "len(gp.selection)"
   ]
  },
  {
   "cell_type": "code",
   "execution_count": 284,
   "id": "2dfba7a6",
   "metadata": {
    "pycharm": {
     "name": "#%%\n"
    }
   },
   "outputs": [
    {
     "data": {
      "text/plain": [
       "'4UHR'"
      ]
     },
     "execution_count": 284,
     "metadata": {},
     "output_type": "execute_result"
    }
   ],
   "source": [
    "gp.selection[10]['PDB'].iloc[0]"
   ]
  },
  {
   "cell_type": "code",
   "execution_count": 285,
   "id": "79b040e8",
   "metadata": {},
   "outputs": [
    {
     "data": {
      "text/plain": [
       "tensor([ 5,  9, 14,  4,  9,  0])"
      ]
     },
     "execution_count": 285,
     "metadata": {},
     "output_type": "execute_result"
    }
   ],
   "source": [
    "gp.d[0].x"
   ]
  },
  {
   "cell_type": "code",
   "execution_count": 286,
   "id": "4dbe04fb",
   "metadata": {},
   "outputs": [
    {
     "data": {
      "text/plain": [
       "28"
      ]
     },
     "execution_count": 286,
     "metadata": {},
     "output_type": "execute_result"
    }
   ],
   "source": [
    "len(gp.edges[0])"
   ]
  },
  {
   "cell_type": "code",
   "execution_count": 287,
   "id": "7fb3c536",
   "metadata": {},
   "outputs": [
    {
     "data": {
      "text/plain": [
       "Data(edge_attr=[28, 2], edge_index=[2, 28], pos=[6, 3], x=[6], y=[4])"
      ]
     },
     "execution_count": 287,
     "metadata": {},
     "output_type": "execute_result"
    }
   ],
   "source": [
    "gp.d[0]"
   ]
  },
  {
   "cell_type": "code",
   "execution_count": 288,
   "id": "862ea4ea",
   "metadata": {
    "pycharm": {
     "name": "#%%\n"
    }
   },
   "outputs": [],
   "source": [
    "import networkx as nx\n",
    "from torch_geometric.utils.convert import to_networkx"
   ]
  },
  {
   "cell_type": "code",
   "execution_count": 289,
   "id": "d29f6882",
   "metadata": {
    "pycharm": {
     "name": "#%%\n"
    }
   },
   "outputs": [
    {
     "data": {
      "image/png": "[encoded data removed]",
      "text/plain": [
       "<Figure size 432x288 with 1 Axes>"
      ]
     },
     "metadata": {},
     "output_type": "display_data"
    }
   ],
   "source": [
    "g = to_networkx(gp.d[10], to_undirected=True)\n",
    "nx.draw(g)"
   ]
  },
  {
   "cell_type": "code",
   "execution_count": null,
   "id": "66e84c13",
   "metadata": {},
   "outputs": [],
   "source": []
  },
  {
   "cell_type": "code",
   "execution_count": null,
   "id": "5d7eb289",
   "metadata": {},
   "outputs": [],
   "source": []
  },
  {
   "cell_type": "code",
   "execution_count": 290,
   "id": "1d865e77",
   "metadata": {
    "pycharm": {
     "name": "#%%\n"
    }
   },
   "outputs": [
    {
     "data": {
      "text/html": [
       "<div>\n",
       "<style scoped>\n",
       "    .dataframe tbody tr th:only-of-type {\n",
       "        vertical-align: middle;\n",
       "    }\n",
       "\n",
       "    .dataframe tbody tr th {\n",
       "        vertical-align: top;\n",
       "    }\n",
       "\n",
       "    .dataframe thead th {\n",
       "        text-align: right;\n",
       "    }\n",
       "</style>\n",
       "<table border=\"1\" class=\"dataframe\">\n",
       "  <thead>\n",
       "    <tr style=\"text-align: right;\">\n",
       "      <th></th>\n",
       "      <th>uniprot(gene)</th>\n",
       "      <th>receptor family</th>\n",
       "      <th>Cl.</th>\n",
       "      <th>Species</th>\n",
       "      <th>Method</th>\n",
       "      <th>PDB</th>\n",
       "      <th>Resolution</th>\n",
       "      <th>Preferred Chain</th>\n",
       "      <th>State</th>\n",
       "      <th>Degree active %</th>\n",
       "      <th>Family</th>\n",
       "      <th>Subtype</th>\n",
       "      <th>Function</th>\n",
       "      <th>Gs</th>\n",
       "      <th>Gi/o</th>\n",
       "      <th>Gq/11</th>\n",
       "      <th>G12/13</th>\n",
       "    </tr>\n",
       "  </thead>\n",
       "  <tbody>\n",
       "    <tr>\n",
       "      <th>0</th>\n",
       "      <td>5HT1B</td>\n",
       "      <td>5-Hydroxytryptamine</td>\n",
       "      <td>A(Rhodopsin)</td>\n",
       "      <td>Human</td>\n",
       "      <td>cryo-EM</td>\n",
       "      <td>6G79</td>\n",
       "      <td>3.8</td>\n",
       "      <td>S</td>\n",
       "      <td>Active</td>\n",
       "      <td>100</td>\n",
       "      <td>Gi/o</td>\n",
       "      <td>αo</td>\n",
       "      <td>Agonist</td>\n",
       "      <td>0.0</td>\n",
       "      <td>8.9</td>\n",
       "      <td>6.7</td>\n",
       "      <td>0.0</td>\n",
       "    </tr>\n",
       "    <tr>\n",
       "      <th>1</th>\n",
       "      <td>CNR2</td>\n",
       "      <td>Cannabinoid</td>\n",
       "      <td>A(Rhodopsin)</td>\n",
       "      <td>Human</td>\n",
       "      <td>X-ray</td>\n",
       "      <td>5ZTY</td>\n",
       "      <td>2.8</td>\n",
       "      <td>A</td>\n",
       "      <td>Inactive</td>\n",
       "      <td>6</td>\n",
       "      <td>-</td>\n",
       "      <td>-</td>\n",
       "      <td>Antagonist</td>\n",
       "      <td>0.0</td>\n",
       "      <td>8.9</td>\n",
       "      <td>0.0</td>\n",
       "      <td>0.0</td>\n",
       "    </tr>\n",
       "    <tr>\n",
       "      <th>2</th>\n",
       "      <td>CXCR2</td>\n",
       "      <td>Chemokine</td>\n",
       "      <td>A(Rhodopsin)</td>\n",
       "      <td>Human</td>\n",
       "      <td>cryo-EM</td>\n",
       "      <td>6LFO</td>\n",
       "      <td>3.4</td>\n",
       "      <td>R</td>\n",
       "      <td>Active</td>\n",
       "      <td>100</td>\n",
       "      <td>Gi/o</td>\n",
       "      <td>αi1</td>\n",
       "      <td>Agonist</td>\n",
       "      <td>0.0</td>\n",
       "      <td>9.5</td>\n",
       "      <td>0.0</td>\n",
       "      <td>0.0</td>\n",
       "    </tr>\n",
       "    <tr>\n",
       "      <th>3</th>\n",
       "      <td>CXCR2</td>\n",
       "      <td>Chemokine</td>\n",
       "      <td>A(Rhodopsin)</td>\n",
       "      <td>Human</td>\n",
       "      <td>cryo-EM</td>\n",
       "      <td>6LFM</td>\n",
       "      <td>3.5</td>\n",
       "      <td>R</td>\n",
       "      <td>Active</td>\n",
       "      <td>100</td>\n",
       "      <td>Gi/o</td>\n",
       "      <td>αi1</td>\n",
       "      <td>Agonist</td>\n",
       "      <td>0.0</td>\n",
       "      <td>9.5</td>\n",
       "      <td>0.0</td>\n",
       "      <td>0.0</td>\n",
       "    </tr>\n",
       "    <tr>\n",
       "      <th>4</th>\n",
       "      <td>CXCR2</td>\n",
       "      <td>Chemokine</td>\n",
       "      <td>A(Rhodopsin)</td>\n",
       "      <td>Human</td>\n",
       "      <td>X-ray</td>\n",
       "      <td>6LFL</td>\n",
       "      <td>3.2</td>\n",
       "      <td>A</td>\n",
       "      <td>Inactive</td>\n",
       "      <td>7</td>\n",
       "      <td>-</td>\n",
       "      <td>-</td>\n",
       "      <td>Allostericantagonist</td>\n",
       "      <td>0.0</td>\n",
       "      <td>9.5</td>\n",
       "      <td>0.0</td>\n",
       "      <td>0.0</td>\n",
       "    </tr>\n",
       "    <tr>\n",
       "      <th>...</th>\n",
       "      <td>...</td>\n",
       "      <td>...</td>\n",
       "      <td>...</td>\n",
       "      <td>...</td>\n",
       "      <td>...</td>\n",
       "      <td>...</td>\n",
       "      <td>...</td>\n",
       "      <td>...</td>\n",
       "      <td>...</td>\n",
       "      <td>...</td>\n",
       "      <td>...</td>\n",
       "      <td>...</td>\n",
       "      <td>...</td>\n",
       "      <td>...</td>\n",
       "      <td>...</td>\n",
       "      <td>...</td>\n",
       "      <td>...</td>\n",
       "    </tr>\n",
       "    <tr>\n",
       "      <th>351</th>\n",
       "      <td>GNRHR</td>\n",
       "      <td>Gonadotrophin-releasinghormone</td>\n",
       "      <td>A(Rhodopsin)</td>\n",
       "      <td>Human</td>\n",
       "      <td>X-ray</td>\n",
       "      <td>7BR3</td>\n",
       "      <td>2.8</td>\n",
       "      <td>A</td>\n",
       "      <td>Inactive</td>\n",
       "      <td>24</td>\n",
       "      <td>-</td>\n",
       "      <td>-</td>\n",
       "      <td>Antagonist</td>\n",
       "      <td>0.0</td>\n",
       "      <td>8.9</td>\n",
       "      <td>9.4</td>\n",
       "      <td>0.0</td>\n",
       "    </tr>\n",
       "    <tr>\n",
       "      <th>352</th>\n",
       "      <td>GLP1R</td>\n",
       "      <td>Glucagon</td>\n",
       "      <td>B1(Secretin)</td>\n",
       "      <td>Human</td>\n",
       "      <td>cryo-EM</td>\n",
       "      <td>7LCK</td>\n",
       "      <td>3.2</td>\n",
       "      <td>R</td>\n",
       "      <td>Active</td>\n",
       "      <td>100</td>\n",
       "      <td>-</td>\n",
       "      <td>-</td>\n",
       "      <td>Agonist</td>\n",
       "      <td>10.6</td>\n",
       "      <td>0.0</td>\n",
       "      <td>0.0</td>\n",
       "      <td>0.0</td>\n",
       "    </tr>\n",
       "    <tr>\n",
       "      <th>353</th>\n",
       "      <td>PE2R4</td>\n",
       "      <td>Prostanoid</td>\n",
       "      <td>A(Rhodopsin)</td>\n",
       "      <td>Human</td>\n",
       "      <td>cryo-EM</td>\n",
       "      <td>7D7M</td>\n",
       "      <td>3.3</td>\n",
       "      <td>A</td>\n",
       "      <td>Active</td>\n",
       "      <td>100</td>\n",
       "      <td>Gs</td>\n",
       "      <td>αs</td>\n",
       "      <td>Agonist</td>\n",
       "      <td>10.4</td>\n",
       "      <td>8.9</td>\n",
       "      <td>8.7</td>\n",
       "      <td>7.4</td>\n",
       "    </tr>\n",
       "    <tr>\n",
       "      <th>354</th>\n",
       "      <td>5HT1B</td>\n",
       "      <td>5-Hydroxytryptamine</td>\n",
       "      <td>A(Rhodopsin)</td>\n",
       "      <td>Human</td>\n",
       "      <td>X-ray</td>\n",
       "      <td>5V54</td>\n",
       "      <td>3.9</td>\n",
       "      <td>A</td>\n",
       "      <td>Inactive</td>\n",
       "      <td>24</td>\n",
       "      <td>-</td>\n",
       "      <td>-</td>\n",
       "      <td>Antagonist</td>\n",
       "      <td>0.0</td>\n",
       "      <td>8.9</td>\n",
       "      <td>6.7</td>\n",
       "      <td>0.0</td>\n",
       "    </tr>\n",
       "    <tr>\n",
       "      <th>355</th>\n",
       "      <td>AA2AR</td>\n",
       "      <td>Adenosine</td>\n",
       "      <td>A(Rhodopsin)</td>\n",
       "      <td>Human</td>\n",
       "      <td>X-ray</td>\n",
       "      <td>6S0Q</td>\n",
       "      <td>2.7</td>\n",
       "      <td>A</td>\n",
       "      <td>Inactive</td>\n",
       "      <td>0</td>\n",
       "      <td>-</td>\n",
       "      <td>-</td>\n",
       "      <td>Antagonist</td>\n",
       "      <td>5.7</td>\n",
       "      <td>0.0</td>\n",
       "      <td>5.6</td>\n",
       "      <td>0.0</td>\n",
       "    </tr>\n",
       "  </tbody>\n",
       "</table>\n",
       "<p>356 rows × 17 columns</p>\n",
       "</div>"
      ],
      "text/plain": [
       "    uniprot(gene)                 receptor family           Cl. Species  \\\n",
       "0           5HT1B             5-Hydroxytryptamine  A(Rhodopsin)   Human   \n",
       "1            CNR2                     Cannabinoid  A(Rhodopsin)   Human   \n",
       "2           CXCR2                       Chemokine  A(Rhodopsin)   Human   \n",
       "3           CXCR2                       Chemokine  A(Rhodopsin)   Human   \n",
       "4           CXCR2                       Chemokine  A(Rhodopsin)   Human   \n",
       "..            ...                             ...           ...     ...   \n",
       "351         GNRHR  Gonadotrophin-releasinghormone  A(Rhodopsin)   Human   \n",
       "352         GLP1R                        Glucagon  B1(Secretin)   Human   \n",
       "353         PE2R4                      Prostanoid  A(Rhodopsin)   Human   \n",
       "354         5HT1B             5-Hydroxytryptamine  A(Rhodopsin)   Human   \n",
       "355         AA2AR                       Adenosine  A(Rhodopsin)   Human   \n",
       "\n",
       "      Method   PDB  Resolution Preferred Chain     State Degree active %  \\\n",
       "0    cryo-EM  6G79         3.8               S    Active             100   \n",
       "1      X-ray  5ZTY         2.8               A  Inactive               6   \n",
       "2    cryo-EM  6LFO         3.4               R    Active             100   \n",
       "3    cryo-EM  6LFM         3.5               R    Active             100   \n",
       "4      X-ray  6LFL         3.2               A  Inactive               7   \n",
       "..       ...   ...         ...             ...       ...             ...   \n",
       "351    X-ray  7BR3         2.8               A  Inactive              24   \n",
       "352  cryo-EM  7LCK         3.2               R    Active             100   \n",
       "353  cryo-EM  7D7M         3.3               A    Active             100   \n",
       "354    X-ray  5V54         3.9               A  Inactive              24   \n",
       "355    X-ray  6S0Q         2.7               A  Inactive               0   \n",
       "\n",
       "    Family Subtype              Function    Gs  Gi/o  Gq/11  G12/13  \n",
       "0     Gi/o      αo               Agonist   0.0   8.9    6.7     0.0  \n",
       "1        -       -            Antagonist   0.0   8.9    0.0     0.0  \n",
       "2     Gi/o     αi1               Agonist   0.0   9.5    0.0     0.0  \n",
       "3     Gi/o     αi1               Agonist   0.0   9.5    0.0     0.0  \n",
       "4        -       -  Allostericantagonist   0.0   9.5    0.0     0.0  \n",
       "..     ...     ...                   ...   ...   ...    ...     ...  \n",
       "351      -       -            Antagonist   0.0   8.9    9.4     0.0  \n",
       "352      -       -               Agonist  10.6   0.0    0.0     0.0  \n",
       "353     Gs      αs               Agonist  10.4   8.9    8.7     7.4  \n",
       "354      -       -            Antagonist   0.0   8.9    6.7     0.0  \n",
       "355      -       -            Antagonist   5.7   0.0    5.6     0.0  \n",
       "\n",
       "[356 rows x 17 columns]"
      ]
     },
     "execution_count": 290,
     "metadata": {},
     "output_type": "execute_result"
    }
   ],
   "source": [
    "gp.p.table"
   ]
  },
  {
   "cell_type": "code",
   "execution_count": 291,
   "id": "5e81dd10",
   "metadata": {
    "pycharm": {
     "name": "#%%\n"
    }
   },
   "outputs": [
    {
     "data": {
      "text/plain": [
       "Data(edge_attr=[139, 2], edge_index=[2, 139], pos=[21, 3], x=[21], y=[4])"
      ]
     },
     "execution_count": 291,
     "metadata": {},
     "output_type": "execute_result"
    }
   ],
   "source": [
    "gp.d[10]"
   ]
  },
  {
   "cell_type": "code",
   "execution_count": 292,
   "id": "37ff6822",
   "metadata": {
    "pycharm": {
     "name": "#%%\n"
    }
   },
   "outputs": [
    {
     "data": {
      "text/plain": [
       "92"
      ]
     },
     "execution_count": 292,
     "metadata": {},
     "output_type": "execute_result"
    }
   ],
   "source": [
    "len(gp.d)"
   ]
  },
  {
   "cell_type": "code",
   "execution_count": 386,
   "id": "37ec169b",
   "metadata": {},
   "outputs": [
    {
     "data": {
      "text/plain": [
       "array([0, 0, 0, 1, 1, 1, 1, 1, 2, 2, 2, 2, 2, 2, 3, 3, 3, 3, 3, 4, 4, 4,\n",
       "       4, 4, 5, 5, 5, 5], dtype=int64)"
      ]
     },
     "execution_count": 386,
     "metadata": {},
     "output_type": "execute_result"
    }
   ],
   "source": [
    "gp.d[0].edge_index.numpy()[0]"
   ]
  },
  {
   "cell_type": "code",
   "execution_count": 433,
   "id": "2287d24a",
   "metadata": {},
   "outputs": [
    {
     "data": {
      "text/plain": [
       "[array([17.962, 18.088,  2.537], dtype=float32),\n",
       " array([13.057, 19.473,  2.389], dtype=float32),\n",
       " array([13.834, 22.435,  4.67 ], dtype=float32),\n",
       " array([ 9.367, 22.825,  1.7  ], dtype=float32),\n",
       " array([ 8.793, 22.643,  5.482], dtype=float32),\n",
       " array([ 9.081, 26.437,  5.681], dtype=float32)]"
      ]
     },
     "execution_count": 433,
     "metadata": {},
     "output_type": "execute_result"
    }
   ],
   "source": [
    "list(gp.d[0].pos.numpy())"
   ]
  },
  {
   "cell_type": "code",
   "execution_count": 334,
   "id": "54271a8e",
   "metadata": {},
   "outputs": [
    {
     "name": "stdout",
     "output_type": "stream",
     "text": [
      "{0: 'A', 1: 'C', 2: 'D', 3: 'E', 4: 'F', 5: 'G', 6: 'H', 7: 'I', 8: 'K', 9: 'L', 10: 'M', 11: 'N', 12: 'P', 13: 'Q', 14: 'R', 15: 'S', 16: 'T', 17: 'V', 18: 'W', 19: 'Y'}\n"
     ]
    }
   ],
   "source": [
    "label_dict = {v: k for k, v in RES_DICT.items()}\n",
    "print(label_dict)"
   ]
  },
  {
   "cell_type": "code",
   "execution_count": null,
   "id": "b6b02ca9",
   "metadata": {},
   "outputs": [],
   "source": []
  },
  {
   "cell_type": "code",
   "execution_count": 394,
   "id": "b27e2eb2",
   "metadata": {},
   "outputs": [],
   "source": [
    "import igraph as ig"
   ]
  },
  {
   "cell_type": "code",
   "execution_count": 404,
   "id": "76a47cfa",
   "metadata": {},
   "outputs": [],
   "source": [
    "G=ig.Graph(gp.d[0].edge_index.numpy().T, directed=False)"
   ]
  },
  {
   "cell_type": "code",
   "execution_count": 406,
   "id": "43d32148",
   "metadata": {},
   "outputs": [],
   "source": [
    "layt=G.layout('kk', dim=3)"
   ]
  },
  {
   "cell_type": "code",
   "execution_count": 435,
   "id": "850d06fa",
   "metadata": {},
   "outputs": [],
   "source": [
    "N = 6"
   ]
  },
  {
   "cell_type": "code",
   "execution_count": 436,
   "id": "50c3b286",
   "metadata": {},
   "outputs": [],
   "source": [
    "Xn = [layt[k][0] for k in range(N)]# x-coordinates of nodes\n",
    "Yn = [layt[k][1] for k in range(N)]# y-coordinates\n",
    "Zn = [layt[k][2] for k in range(N)]# z-coordinates"
   ]
  },
  {
   "cell_type": "code",
   "execution_count": 510,
   "id": "978ee457",
   "metadata": {},
   "outputs": [],
   "source": [
    "def get_edge_vecs(pos, edges):\n",
    "    Xe=[]\n",
    "    Ye=[]\n",
    "    Ze=[]\n",
    "    for e in edges:\n",
    "        if e[0] != e[1]:\n",
    "            Xe += [pos[e[0]][0], pos[e[1]][0], None]\n",
    "            Ye += [pos[e[0]][1], pos[e[1]][1], None]\n",
    "            Ze += [pos[e[0]][2], pos[e[1]][2], None]\n",
    "    return Xe, Ye, Ze"
   ]
  },
  {
   "cell_type": "code",
   "execution_count": 511,
   "id": "33c32eb0",
   "metadata": {},
   "outputs": [
    {
     "data": {
      "text/plain": [
       "(21, 3)"
      ]
     },
     "execution_count": 511,
     "metadata": {},
     "output_type": "execute_result"
    }
   ],
   "source": [
    "gp.d[10].pos.numpy().shape"
   ]
  },
  {
   "cell_type": "code",
   "execution_count": 512,
   "id": "d2ba6d14",
   "metadata": {},
   "outputs": [
    {
     "data": {
      "text/plain": [
       "array([[ 0,  0,  1,  1,  1,  1,  1,  2,  2,  2,  2,  2,  2,  3,  3,  3,\n",
       "         3,  3,  3,  3,  4,  4,  4,  4,  4,  4,  4,  4,  5,  5,  5,  5,\n",
       "         5,  5,  5,  5,  5,  6,  6,  6,  6,  6,  6,  6,  6,  6,  7,  7,\n",
       "         7,  7,  7,  7,  7,  7,  7,  7,  8,  8,  8,  8,  8,  8,  8,  8,\n",
       "         8,  9,  9,  9,  9,  9,  9,  9,  9,  9,  9, 10, 10, 10, 10, 10,\n",
       "        10, 10, 10, 11, 11, 11, 11, 11, 11, 11, 12, 12, 12, 12, 12, 12,\n",
       "        13, 13, 13, 13, 13, 14, 14, 14, 14, 14, 15, 15, 15, 15, 15, 15,\n",
       "        16, 16, 16, 16, 16, 16, 17, 17, 17, 17, 17, 17, 18, 18, 18, 18,\n",
       "        18, 18, 18, 19, 19, 19, 19, 19, 20, 20, 20],\n",
       "       [ 0,  7,  1,  2,  3,  4,  5,  1,  2,  3,  4,  5,  6,  1,  2,  3,\n",
       "         4,  5,  6,  7,  1,  2,  3,  4,  5,  6,  7,  8,  1,  2,  3,  4,\n",
       "         5,  6,  7,  8,  9,  2,  3,  4,  5,  6,  7,  8,  9, 10,  0,  3,\n",
       "         4,  5,  6,  7,  8,  9, 10, 11,  4,  5,  6,  7,  8,  9, 10, 11,\n",
       "        12,  5,  6,  7,  8,  9, 10, 11, 12, 13, 15,  6,  7,  8,  9, 10,\n",
       "        11, 12, 13,  7,  8,  9, 10, 11, 12, 13,  8,  9, 10, 11, 12, 13,\n",
       "         9, 10, 11, 12, 13, 14, 15, 16, 17, 18,  9, 14, 15, 16, 17, 18,\n",
       "        14, 15, 16, 17, 18, 19, 14, 15, 16, 17, 18, 19, 14, 15, 16, 17,\n",
       "        18, 19, 20, 16, 17, 18, 19, 20, 18, 19, 20]], dtype=int64)"
      ]
     },
     "execution_count": 512,
     "metadata": {},
     "output_type": "execute_result"
    }
   ],
   "source": [
    "gp.d[10].edge_index.numpy()"
   ]
  },
  {
   "cell_type": "code",
   "execution_count": 513,
   "id": "2b7d3a1b",
   "metadata": {},
   "outputs": [
    {
     "data": {
      "text/plain": [
       "([17.962,\n",
       "  13.057,\n",
       "  None,\n",
       "  17.962,\n",
       "  13.834,\n",
       "  None,\n",
       "  13.057,\n",
       "  17.962,\n",
       "  None,\n",
       "  13.057,\n",
       "  13.834,\n",
       "  None,\n",
       "  13.057,\n",
       "  9.367,\n",
       "  None,\n",
       "  13.057,\n",
       "  8.793,\n",
       "  None,\n",
       "  13.834,\n",
       "  17.962,\n",
       "  None,\n",
       "  13.834,\n",
       "  13.057,\n",
       "  None,\n",
       "  13.834,\n",
       "  9.367,\n",
       "  None,\n",
       "  13.834,\n",
       "  8.793,\n",
       "  None,\n",
       "  13.834,\n",
       "  9.081,\n",
       "  None,\n",
       "  9.367,\n",
       "  13.057,\n",
       "  None,\n",
       "  9.367,\n",
       "  13.834,\n",
       "  None,\n",
       "  9.367,\n",
       "  8.793,\n",
       "  None,\n",
       "  9.367,\n",
       "  9.081,\n",
       "  None,\n",
       "  8.793,\n",
       "  13.057,\n",
       "  None,\n",
       "  8.793,\n",
       "  13.834,\n",
       "  None,\n",
       "  8.793,\n",
       "  9.367,\n",
       "  None,\n",
       "  8.793,\n",
       "  9.081,\n",
       "  None,\n",
       "  9.081,\n",
       "  13.834,\n",
       "  None,\n",
       "  9.081,\n",
       "  9.367,\n",
       "  None,\n",
       "  9.081,\n",
       "  8.793,\n",
       "  None],\n",
       " [18.088,\n",
       "  19.473,\n",
       "  None,\n",
       "  18.088,\n",
       "  22.435,\n",
       "  None,\n",
       "  19.473,\n",
       "  18.088,\n",
       "  None,\n",
       "  19.473,\n",
       "  22.435,\n",
       "  None,\n",
       "  19.473,\n",
       "  22.825,\n",
       "  None,\n",
       "  19.473,\n",
       "  22.643,\n",
       "  None,\n",
       "  22.435,\n",
       "  18.088,\n",
       "  None,\n",
       "  22.435,\n",
       "  19.473,\n",
       "  None,\n",
       "  22.435,\n",
       "  22.825,\n",
       "  None,\n",
       "  22.435,\n",
       "  22.643,\n",
       "  None,\n",
       "  22.435,\n",
       "  26.437,\n",
       "  None,\n",
       "  22.825,\n",
       "  19.473,\n",
       "  None,\n",
       "  22.825,\n",
       "  22.435,\n",
       "  None,\n",
       "  22.825,\n",
       "  22.643,\n",
       "  None,\n",
       "  22.825,\n",
       "  26.437,\n",
       "  None,\n",
       "  22.643,\n",
       "  19.473,\n",
       "  None,\n",
       "  22.643,\n",
       "  22.435,\n",
       "  None,\n",
       "  22.643,\n",
       "  22.825,\n",
       "  None,\n",
       "  22.643,\n",
       "  26.437,\n",
       "  None,\n",
       "  26.437,\n",
       "  22.435,\n",
       "  None,\n",
       "  26.437,\n",
       "  22.825,\n",
       "  None,\n",
       "  26.437,\n",
       "  22.643,\n",
       "  None],\n",
       " [2.537,\n",
       "  2.389,\n",
       "  None,\n",
       "  2.537,\n",
       "  4.67,\n",
       "  None,\n",
       "  2.389,\n",
       "  2.537,\n",
       "  None,\n",
       "  2.389,\n",
       "  4.67,\n",
       "  None,\n",
       "  2.389,\n",
       "  1.7,\n",
       "  None,\n",
       "  2.389,\n",
       "  5.482,\n",
       "  None,\n",
       "  4.67,\n",
       "  2.537,\n",
       "  None,\n",
       "  4.67,\n",
       "  2.389,\n",
       "  None,\n",
       "  4.67,\n",
       "  1.7,\n",
       "  None,\n",
       "  4.67,\n",
       "  5.482,\n",
       "  None,\n",
       "  4.67,\n",
       "  5.681,\n",
       "  None,\n",
       "  1.7,\n",
       "  2.389,\n",
       "  None,\n",
       "  1.7,\n",
       "  4.67,\n",
       "  None,\n",
       "  1.7,\n",
       "  5.482,\n",
       "  None,\n",
       "  1.7,\n",
       "  5.681,\n",
       "  None,\n",
       "  5.482,\n",
       "  2.389,\n",
       "  None,\n",
       "  5.482,\n",
       "  4.67,\n",
       "  None,\n",
       "  5.482,\n",
       "  1.7,\n",
       "  None,\n",
       "  5.482,\n",
       "  5.681,\n",
       "  None,\n",
       "  5.681,\n",
       "  4.67,\n",
       "  None,\n",
       "  5.681,\n",
       "  1.7,\n",
       "  None,\n",
       "  5.681,\n",
       "  5.482,\n",
       "  None])"
      ]
     },
     "execution_count": 513,
     "metadata": {},
     "output_type": "execute_result"
    }
   ],
   "source": [
    "get_edge_vecs(gp.d[0].pos.numpy(), gp.d[0].edge_index.numpy().T)"
   ]
  },
  {
   "cell_type": "code",
   "execution_count": 525,
   "id": "1840dc1b",
   "metadata": {},
   "outputs": [],
   "source": [
    "def plot_graph(gp, idx, weights=None):\n",
    "    data = gp.d[idx]\n",
    "    selection = gp.selection[idx]\n",
    "    points = data.pos.numpy()\n",
    "    edges = data.edge_index.numpy().T\n",
    "    Xe, Ye, Ze = get_edge_vecs(points, edges)\n",
    "    if weights==None:\n",
    "        weights=selection['generic_position'].astype(float)\n",
    "        \n",
    "    E = go.Scatter3d(\n",
    "        x=Xe,\n",
    "        y=Ye,\n",
    "        z=Ze,\n",
    "        mode='lines',\n",
    "        line=dict(color='rgb(125,125,125)', width=3),\n",
    "        hoverinfo='none',\n",
    "        name='Edges',\n",
    "        )\n",
    "    \n",
    "    P = go.Scatter3d(\n",
    "        x=points[:, 0],\n",
    "        y=points[:, 1],\n",
    "        z=points[:, 2],\n",
    "        text=selection['generic_position'].astype(float),\n",
    "        hoverinfo='text',\n",
    "        mode='markers',\n",
    "        name=selection['PDB'].iloc[0],\n",
    "        marker={\n",
    "            'size': 7,\n",
    "            'opacity': 0.8,\n",
    "            'color': weights,\n",
    "        }\n",
    "    )\n",
    "    \n",
    "    \n",
    "    \n",
    "    # Configure the layout.\n",
    "    layout = go.Layout(\n",
    "        margin={'l': 0, 'r': 0, 'b': 0, 't': 0}\n",
    "    )\n",
    "    data = [E, P]\n",
    "    plot_figure = go.Figure(data=data, layout=layout)\n",
    "    plot_figure.update_traces(textposition='top center')\n",
    "    plot_figure.show()    "
   ]
  },
  {
   "cell_type": "code",
   "execution_count": 526,
   "id": "0bb8cb43",
   "metadata": {},
   "outputs": [
    {
     "data": {
      "text/plain": [
       "'4UHR'"
      ]
     },
     "execution_count": 526,
     "metadata": {},
     "output_type": "execute_result"
    }
   ],
   "source": [
    "gp.selection[10]['PDB'].iloc[0]"
   ]
  },
  {
   "cell_type": "code",
   "execution_count": 530,
   "id": "166b54b5",
   "metadata": {},
   "outputs": [
    {
     "data": {
      "application/vnd.plotly.v1+json": {
       "config": {
        "plotlyServerURL": "https://plot.ly"
       },
       "data": [
        {
         "hoverinfo": "none",
         "line": {
          "color": "rgb(125,125,125)",
          "width": 3
         },
         "mode": "lines",
         "name": "Edges",
         "textposition": "top center",
         "type": "scatter3d",
         "x": [
          17.961999893188477,
          13.057000160217285,
          null,
          17.961999893188477,
          13.833999633789062,
          null,
          13.057000160217285,
          17.961999893188477,
          null,
          13.057000160217285,
          13.833999633789062,
          null,
          13.057000160217285,
          9.366999626159668,
          null,
          13.057000160217285,
          8.793000221252441,
          null,
          13.833999633789062,
          17.961999893188477,
          null,
          13.833999633789062,
          13.057000160217285,
          null,
          13.833999633789062,
          9.366999626159668,
          null,
          13.833999633789062,
          8.793000221252441,
          null,
          13.833999633789062,
          9.081000328063965,
          null,
          9.366999626159668,
          13.057000160217285,
          null,
          9.366999626159668,
          13.833999633789062,
          null,
          9.366999626159668,
          8.793000221252441,
          null,
          9.366999626159668,
          9.081000328063965,
          null,
          8.793000221252441,
          13.057000160217285,
          null,
          8.793000221252441,
          13.833999633789062,
          null,
          8.793000221252441,
          9.366999626159668,
          null,
          8.793000221252441,
          9.081000328063965,
          null,
          9.081000328063965,
          13.833999633789062,
          null,
          9.081000328063965,
          9.366999626159668,
          null,
          9.081000328063965,
          8.793000221252441,
          null
         ],
         "y": [
          18.08799934387207,
          19.472999572753906,
          null,
          18.08799934387207,
          22.434999465942383,
          null,
          19.472999572753906,
          18.08799934387207,
          null,
          19.472999572753906,
          22.434999465942383,
          null,
          19.472999572753906,
          22.825000762939453,
          null,
          19.472999572753906,
          22.64299964904785,
          null,
          22.434999465942383,
          18.08799934387207,
          null,
          22.434999465942383,
          19.472999572753906,
          null,
          22.434999465942383,
          22.825000762939453,
          null,
          22.434999465942383,
          22.64299964904785,
          null,
          22.434999465942383,
          26.437000274658203,
          null,
          22.825000762939453,
          19.472999572753906,
          null,
          22.825000762939453,
          22.434999465942383,
          null,
          22.825000762939453,
          22.64299964904785,
          null,
          22.825000762939453,
          26.437000274658203,
          null,
          22.64299964904785,
          19.472999572753906,
          null,
          22.64299964904785,
          22.434999465942383,
          null,
          22.64299964904785,
          22.825000762939453,
          null,
          22.64299964904785,
          26.437000274658203,
          null,
          26.437000274658203,
          22.434999465942383,
          null,
          26.437000274658203,
          22.825000762939453,
          null,
          26.437000274658203,
          22.64299964904785,
          null
         ],
         "z": [
          2.5369999408721924,
          2.3889999389648438,
          null,
          2.5369999408721924,
          4.670000076293945,
          null,
          2.3889999389648438,
          2.5369999408721924,
          null,
          2.3889999389648438,
          4.670000076293945,
          null,
          2.3889999389648438,
          1.7000000476837158,
          null,
          2.3889999389648438,
          5.48199987411499,
          null,
          4.670000076293945,
          2.5369999408721924,
          null,
          4.670000076293945,
          2.3889999389648438,
          null,
          4.670000076293945,
          1.7000000476837158,
          null,
          4.670000076293945,
          5.48199987411499,
          null,
          4.670000076293945,
          5.681000232696533,
          null,
          1.7000000476837158,
          2.3889999389648438,
          null,
          1.7000000476837158,
          4.670000076293945,
          null,
          1.7000000476837158,
          5.48199987411499,
          null,
          1.7000000476837158,
          5.681000232696533,
          null,
          5.48199987411499,
          2.3889999389648438,
          null,
          5.48199987411499,
          4.670000076293945,
          null,
          5.48199987411499,
          1.7000000476837158,
          null,
          5.48199987411499,
          5.681000232696533,
          null,
          5.681000232696533,
          4.670000076293945,
          null,
          5.681000232696533,
          1.7000000476837158,
          null,
          5.681000232696533,
          5.48199987411499,
          null
         ]
        },
        {
         "hoverinfo": "text",
         "marker": {
          "color": [
           5.56,
           5.59,
           5.6,
           5.62,
           5.63,
           5.64
          ],
          "opacity": 0.8,
          "size": 7
         },
         "mode": "markers",
         "name": "2YDV",
         "text": [
          "5.56",
          "5.59",
          "5.6",
          "5.62",
          "5.63",
          "5.64"
         ],
         "textposition": "top center",
         "type": "scatter3d",
         "x": [
          17.961999893188477,
          13.057000160217285,
          13.833999633789062,
          9.366999626159668,
          8.793000221252441,
          9.081000328063965
         ],
         "y": [
          18.08799934387207,
          19.472999572753906,
          22.434999465942383,
          22.825000762939453,
          22.64299964904785,
          26.437000274658203
         ],
         "z": [
          2.5369999408721924,
          2.3889999389648438,
          4.670000076293945,
          1.7000000476837158,
          5.48199987411499,
          5.681000232696533
         ]
        }
       ],
       "layout": {
        "margin": {
         "b": 0,
         "l": 0,
         "r": 0,
         "t": 0
        },
        "template": {
         "data": {
          "bar": [
           {
            "error_x": {
             "color": "#2a3f5f"
            },
            "error_y": {
             "color": "#2a3f5f"
            },
            "marker": {
             "line": {
              "color": "#E5ECF6",
              "width": 0.5
             },
             "pattern": {
              "fillmode": "overlay",
              "size": 10,
              "solidity": 0.2
             }
            },
            "type": "bar"
           }
          ],
          "barpolar": [
           {
            "marker": {
             "line": {
              "color": "#E5ECF6",
              "width": 0.5
             },
             "pattern": {
              "fillmode": "overlay",
              "size": 10,
              "solidity": 0.2
             }
            },
            "type": "barpolar"
           }
          ],
          "carpet": [
           {
            "aaxis": {
             "endlinecolor": "#2a3f5f",
             "gridcolor": "white",
             "linecolor": "white",
             "minorgridcolor": "white",
             "startlinecolor": "#2a3f5f"
            },
            "baxis": {
             "endlinecolor": "#2a3f5f",
             "gridcolor": "white",
             "linecolor": "white",
             "minorgridcolor": "white",
             "startlinecolor": "#2a3f5f"
            },
            "type": "carpet"
           }
          ],
          "choropleth": [
           {
            "colorbar": {
             "outlinewidth": 0,
             "ticks": ""
            },
            "type": "choropleth"
           }
          ],
          "contour": [
           {
            "colorbar": {
             "outlinewidth": 0,
             "ticks": ""
            },
            "colorscale": [
             [
              0,
              "#0d0887"
             ],
             [
              0.1111111111111111,
              "#46039f"
             ],
             [
              0.2222222222222222,
              "#7201a8"
             ],
             [
              0.3333333333333333,
              "#9c179e"
             ],
             [
              0.4444444444444444,
              "#bd3786"
             ],
             [
              0.5555555555555556,
              "#d8576b"
             ],
             [
              0.6666666666666666,
              "#ed7953"
             ],
             [
              0.7777777777777778,
              "#fb9f3a"
             ],
             [
              0.8888888888888888,
              "#fdca26"
             ],
             [
              1,
              "#f0f921"
             ]
            ],
            "type": "contour"
           }
          ],
          "contourcarpet": [
           {
            "colorbar": {
             "outlinewidth": 0,
             "ticks": ""
            },
            "type": "contourcarpet"
           }
          ],
          "heatmap": [
           {
            "colorbar": {
             "outlinewidth": 0,
             "ticks": ""
            },
            "colorscale": [
             [
              0,
              "#0d0887"
             ],
             [
              0.1111111111111111,
              "#46039f"
             ],
             [
              0.2222222222222222,
              "#7201a8"
             ],
             [
              0.3333333333333333,
              "#9c179e"
             ],
             [
              0.4444444444444444,
              "#bd3786"
             ],
             [
              0.5555555555555556,
              "#d8576b"
             ],
             [
              0.6666666666666666,
              "#ed7953"
             ],
             [
              0.7777777777777778,
              "#fb9f3a"
             ],
             [
              0.8888888888888888,
              "#fdca26"
             ],
             [
              1,
              "#f0f921"
             ]
            ],
            "type": "heatmap"
           }
          ],
          "heatmapgl": [
           {
            "colorbar": {
             "outlinewidth": 0,
             "ticks": ""
            },
            "colorscale": [
             [
              0,
              "#0d0887"
             ],
             [
              0.1111111111111111,
              "#46039f"
             ],
             [
              0.2222222222222222,
              "#7201a8"
             ],
             [
              0.3333333333333333,
              "#9c179e"
             ],
             [
              0.4444444444444444,
              "#bd3786"
             ],
             [
              0.5555555555555556,
              "#d8576b"
             ],
             [
              0.6666666666666666,
              "#ed7953"
             ],
             [
              0.7777777777777778,
              "#fb9f3a"
             ],
             [
              0.8888888888888888,
              "#fdca26"
             ],
             [
              1,
              "#f0f921"
             ]
            ],
            "type": "heatmapgl"
           }
          ],
          "histogram": [
           {
            "marker": {
             "pattern": {
              "fillmode": "overlay",
              "size": 10,
              "solidity": 0.2
             }
            },
            "type": "histogram"
           }
          ],
          "histogram2d": [
           {
            "colorbar": {
             "outlinewidth": 0,
             "ticks": ""
            },
            "colorscale": [
             [
              0,
              "#0d0887"
             ],
             [
              0.1111111111111111,
              "#46039f"
             ],
             [
              0.2222222222222222,
              "#7201a8"
             ],
             [
              0.3333333333333333,
              "#9c179e"
             ],
             [
              0.4444444444444444,
              "#bd3786"
             ],
             [
              0.5555555555555556,
              "#d8576b"
             ],
             [
              0.6666666666666666,
              "#ed7953"
             ],
             [
              0.7777777777777778,
              "#fb9f3a"
             ],
             [
              0.8888888888888888,
              "#fdca26"
             ],
             [
              1,
              "#f0f921"
             ]
            ],
            "type": "histogram2d"
           }
          ],
          "histogram2dcontour": [
           {
            "colorbar": {
             "outlinewidth": 0,
             "ticks": ""
            },
            "colorscale": [
             [
              0,
              "#0d0887"
             ],
             [
              0.1111111111111111,
              "#46039f"
             ],
             [
              0.2222222222222222,
              "#7201a8"
             ],
             [
              0.3333333333333333,
              "#9c179e"
             ],
             [
              0.4444444444444444,
              "#bd3786"
             ],
             [
              0.5555555555555556,
              "#d8576b"
             ],
             [
              0.6666666666666666,
              "#ed7953"
             ],
             [
              0.7777777777777778,
              "#fb9f3a"
             ],
             [
              0.8888888888888888,
              "#fdca26"
             ],
             [
              1,
              "#f0f921"
             ]
            ],
            "type": "histogram2dcontour"
           }
          ],
          "mesh3d": [
           {
            "colorbar": {
             "outlinewidth": 0,
             "ticks": ""
            },
            "type": "mesh3d"
           }
          ],
          "parcoords": [
           {
            "line": {
             "colorbar": {
              "outlinewidth": 0,
              "ticks": ""
             }
            },
            "type": "parcoords"
           }
          ],
          "pie": [
           {
            "automargin": true,
            "type": "pie"
           }
          ],
          "scatter": [
           {
            "marker": {
             "colorbar": {
              "outlinewidth": 0,
              "ticks": ""
             }
            },
            "type": "scatter"
           }
          ],
          "scatter3d": [
           {
            "line": {
             "colorbar": {
              "outlinewidth": 0,
              "ticks": ""
             }
            },
            "marker": {
             "colorbar": {
              "outlinewidth": 0,
              "ticks": ""
             }
            },
            "type": "scatter3d"
           }
          ],
          "scattercarpet": [
           {
            "marker": {
             "colorbar": {
              "outlinewidth": 0,
              "ticks": ""
             }
            },
            "type": "scattercarpet"
           }
          ],
          "scattergeo": [
           {
            "marker": {
             "colorbar": {
              "outlinewidth": 0,
              "ticks": ""
             }
            },
            "type": "scattergeo"
           }
          ],
          "scattergl": [
           {
            "marker": {
             "colorbar": {
              "outlinewidth": 0,
              "ticks": ""
             }
            },
            "type": "scattergl"
           }
          ],
          "scattermapbox": [
           {
            "marker": {
             "colorbar": {
              "outlinewidth": 0,
              "ticks": ""
             }
            },
            "type": "scattermapbox"
           }
          ],
          "scatterpolar": [
           {
            "marker": {
             "colorbar": {
              "outlinewidth": 0,
              "ticks": ""
             }
            },
            "type": "scatterpolar"
           }
          ],
          "scatterpolargl": [
           {
            "marker": {
             "colorbar": {
              "outlinewidth": 0,
              "ticks": ""
             }
            },
            "type": "scatterpolargl"
           }
          ],
          "scatterternary": [
           {
            "marker": {
             "colorbar": {
              "outlinewidth": 0,
              "ticks": ""
             }
            },
            "type": "scatterternary"
           }
          ],
          "surface": [
           {
            "colorbar": {
             "outlinewidth": 0,
             "ticks": ""
            },
            "colorscale": [
             [
              0,
              "#0d0887"
             ],
             [
              0.1111111111111111,
              "#46039f"
             ],
             [
              0.2222222222222222,
              "#7201a8"
             ],
             [
              0.3333333333333333,
              "#9c179e"
             ],
             [
              0.4444444444444444,
              "#bd3786"
             ],
             [
              0.5555555555555556,
              "#d8576b"
             ],
             [
              0.6666666666666666,
              "#ed7953"
             ],
             [
              0.7777777777777778,
              "#fb9f3a"
             ],
             [
              0.8888888888888888,
              "#fdca26"
             ],
             [
              1,
              "#f0f921"
             ]
            ],
            "type": "surface"
           }
          ],
          "table": [
           {
            "cells": {
             "fill": {
              "color": "#EBF0F8"
             },
             "line": {
              "color": "white"
             }
            },
            "header": {
             "fill": {
              "color": "#C8D4E3"
             },
             "line": {
              "color": "white"
             }
            },
            "type": "table"
           }
          ]
         },
         "layout": {
          "annotationdefaults": {
           "arrowcolor": "#2a3f5f",
           "arrowhead": 0,
           "arrowwidth": 1
          },
          "autotypenumbers": "strict",
          "coloraxis": {
           "colorbar": {
            "outlinewidth": 0,
            "ticks": ""
           }
          },
          "colorscale": {
           "diverging": [
            [
             0,
             "#8e0152"
            ],
            [
             0.1,
             "#c51b7d"
            ],
            [
             0.2,
             "#de77ae"
            ],
            [
             0.3,
             "#f1b6da"
            ],
            [
             0.4,
             "#fde0ef"
            ],
            [
             0.5,
             "#f7f7f7"
            ],
            [
             0.6,
             "#e6f5d0"
            ],
            [
             0.7,
             "#b8e186"
            ],
            [
             0.8,
             "#7fbc41"
            ],
            [
             0.9,
             "#4d9221"
            ],
            [
             1,
             "#276419"
            ]
           ],
           "sequential": [
            [
             0,
             "#0d0887"
            ],
            [
             0.1111111111111111,
             "#46039f"
            ],
            [
             0.2222222222222222,
             "#7201a8"
            ],
            [
             0.3333333333333333,
             "#9c179e"
            ],
            [
             0.4444444444444444,
             "#bd3786"
            ],
            [
             0.5555555555555556,
             "#d8576b"
            ],
            [
             0.6666666666666666,
             "#ed7953"
            ],
            [
             0.7777777777777778,
             "#fb9f3a"
            ],
            [
             0.8888888888888888,
             "#fdca26"
            ],
            [
             1,
             "#f0f921"
            ]
           ],
           "sequentialminus": [
            [
             0,
             "#0d0887"
            ],
            [
             0.1111111111111111,
             "#46039f"
            ],
            [
             0.2222222222222222,
             "#7201a8"
            ],
            [
             0.3333333333333333,
             "#9c179e"
            ],
            [
             0.4444444444444444,
             "#bd3786"
            ],
            [
             0.5555555555555556,
             "#d8576b"
            ],
            [
             0.6666666666666666,
             "#ed7953"
            ],
            [
             0.7777777777777778,
             "#fb9f3a"
            ],
            [
             0.8888888888888888,
             "#fdca26"
            ],
            [
             1,
             "#f0f921"
            ]
           ]
          },
          "colorway": [
           "#636efa",
           "#EF553B",
           "#00cc96",
           "#ab63fa",
           "#FFA15A",
           "#19d3f3",
           "#FF6692",
           "#B6E880",
           "#FF97FF",
           "#FECB52"
          ],
          "font": {
           "color": "#2a3f5f"
          },
          "geo": {
           "bgcolor": "white",
           "lakecolor": "white",
           "landcolor": "#E5ECF6",
           "showlakes": true,
           "showland": true,
           "subunitcolor": "white"
          },
          "hoverlabel": {
           "align": "left"
          },
          "hovermode": "closest",
          "mapbox": {
           "style": "light"
          },
          "paper_bgcolor": "white",
          "plot_bgcolor": "#E5ECF6",
          "polar": {
           "angularaxis": {
            "gridcolor": "white",
            "linecolor": "white",
            "ticks": ""
           },
           "bgcolor": "#E5ECF6",
           "radialaxis": {
            "gridcolor": "white",
            "linecolor": "white",
            "ticks": ""
           }
          },
          "scene": {
           "xaxis": {
            "backgroundcolor": "#E5ECF6",
            "gridcolor": "white",
            "gridwidth": 2,
            "linecolor": "white",
            "showbackground": true,
            "ticks": "",
            "zerolinecolor": "white"
           },
           "yaxis": {
            "backgroundcolor": "#E5ECF6",
            "gridcolor": "white",
            "gridwidth": 2,
            "linecolor": "white",
            "showbackground": true,
            "ticks": "",
            "zerolinecolor": "white"
           },
           "zaxis": {
            "backgroundcolor": "#E5ECF6",
            "gridcolor": "white",
            "gridwidth": 2,
            "linecolor": "white",
            "showbackground": true,
            "ticks": "",
            "zerolinecolor": "white"
           }
          },
          "shapedefaults": {
           "line": {
            "color": "#2a3f5f"
           }
          },
          "ternary": {
           "aaxis": {
            "gridcolor": "white",
            "linecolor": "white",
            "ticks": ""
           },
           "baxis": {
            "gridcolor": "white",
            "linecolor": "white",
            "ticks": ""
           },
           "bgcolor": "#E5ECF6",
           "caxis": {
            "gridcolor": "white",
            "linecolor": "white",
            "ticks": ""
           }
          },
          "title": {
           "x": 0.05
          },
          "xaxis": {
           "automargin": true,
           "gridcolor": "white",
           "linecolor": "white",
           "ticks": "",
           "title": {
            "standoff": 15
           },
           "zerolinecolor": "white",
           "zerolinewidth": 2
          },
          "yaxis": {
           "automargin": true,
           "gridcolor": "white",
           "linecolor": "white",
           "ticks": "",
           "title": {
            "standoff": 15
           },
           "zerolinecolor": "white",
           "zerolinewidth": 2
          }
         }
        }
       }
      },
      "text/html": [
       "<div>                            <div id=\"7b2ac61d-2696-4cd3-b457-229dd6022874\" class=\"plotly-graph-div\" style=\"height:525px; width:100%;\"></div>            <script type=\"text/javascript\">                require([\"plotly\"], function(Plotly) {                    window.PLOTLYENV=window.PLOTLYENV || {};                                    if (document.getElementById(\"7b2ac61d-2696-4cd3-b457-229dd6022874\")) {                    Plotly.newPlot(                        \"7b2ac61d-2696-4cd3-b457-229dd6022874\",                        [{\"hoverinfo\":\"none\",\"line\":{\"color\":\"rgb(125,125,125)\",\"width\":3},\"mode\":\"lines\",\"name\":\"Edges\",\"textposition\":\"top center\",\"type\":\"scatter3d\",\"x\":[17.961999893188477,13.057000160217285,null,17.961999893188477,13.833999633789062,null,13.057000160217285,17.961999893188477,null,13.057000160217285,13.833999633789062,null,13.057000160217285,9.366999626159668,null,13.057000160217285,8.793000221252441,null,13.833999633789062,17.961999893188477,null,13.833999633789062,13.057000160217285,null,13.833999633789062,9.366999626159668,null,13.833999633789062,8.793000221252441,null,13.833999633789062,9.081000328063965,null,9.366999626159668,13.057000160217285,null,9.366999626159668,13.833999633789062,null,9.366999626159668,8.793000221252441,null,9.366999626159668,9.081000328063965,null,8.793000221252441,13.057000160217285,null,8.793000221252441,13.833999633789062,null,8.793000221252441,9.366999626159668,null,8.793000221252441,9.081000328063965,null,9.081000328063965,13.833999633789062,null,9.081000328063965,9.366999626159668,null,9.081000328063965,8.793000221252441,null],\"y\":[18.08799934387207,19.472999572753906,null,18.08799934387207,22.434999465942383,null,19.472999572753906,18.08799934387207,null,19.472999572753906,22.434999465942383,null,19.472999572753906,22.825000762939453,null,19.472999572753906,22.64299964904785,null,22.434999465942383,18.08799934387207,null,22.434999465942383,19.472999572753906,null,22.434999465942383,22.825000762939453,null,22.434999465942383,22.64299964904785,null,22.434999465942383,26.437000274658203,null,22.825000762939453,19.472999572753906,null,22.825000762939453,22.434999465942383,null,22.825000762939453,22.64299964904785,null,22.825000762939453,26.437000274658203,null,22.64299964904785,19.472999572753906,null,22.64299964904785,22.434999465942383,null,22.64299964904785,22.825000762939453,null,22.64299964904785,26.437000274658203,null,26.437000274658203,22.434999465942383,null,26.437000274658203,22.825000762939453,null,26.437000274658203,22.64299964904785,null],\"z\":[2.5369999408721924,2.3889999389648438,null,2.5369999408721924,4.670000076293945,null,2.3889999389648438,2.5369999408721924,null,2.3889999389648438,4.670000076293945,null,2.3889999389648438,1.7000000476837158,null,2.3889999389648438,5.48199987411499,null,4.670000076293945,2.5369999408721924,null,4.670000076293945,2.3889999389648438,null,4.670000076293945,1.7000000476837158,null,4.670000076293945,5.48199987411499,null,4.670000076293945,5.681000232696533,null,1.7000000476837158,2.3889999389648438,null,1.7000000476837158,4.670000076293945,null,1.7000000476837158,5.48199987411499,null,1.7000000476837158,5.681000232696533,null,5.48199987411499,2.3889999389648438,null,5.48199987411499,4.670000076293945,null,5.48199987411499,1.7000000476837158,null,5.48199987411499,5.681000232696533,null,5.681000232696533,4.670000076293945,null,5.681000232696533,1.7000000476837158,null,5.681000232696533,5.48199987411499,null]},{\"hoverinfo\":\"text\",\"marker\":{\"color\":[5.56,5.59,5.6,5.62,5.63,5.64],\"opacity\":0.8,\"size\":7},\"mode\":\"markers\",\"name\":\"2YDV\",\"text\":[\"5.56\",\"5.59\",\"5.6\",\"5.62\",\"5.63\",\"5.64\"],\"textposition\":\"top center\",\"type\":\"scatter3d\",\"x\":[17.961999893188477,13.057000160217285,13.833999633789062,9.366999626159668,8.793000221252441,9.081000328063965],\"y\":[18.08799934387207,19.472999572753906,22.434999465942383,22.825000762939453,22.64299964904785,26.437000274658203],\"z\":[2.5369999408721924,2.3889999389648438,4.670000076293945,1.7000000476837158,5.48199987411499,5.681000232696533]}],                        {\"margin\":{\"b\":0,\"l\":0,\"r\":0,\"t\":0},\"template\":{\"data\":{\"bar\":[{\"error_x\":{\"color\":\"#2a3f5f\"},\"error_y\":{\"color\":\"#2a3f5f\"},\"marker\":{\"line\":{\"color\":\"#E5ECF6\",\"width\":0.5},\"pattern\":{\"fillmode\":\"overlay\",\"size\":10,\"solidity\":0.2}},\"type\":\"bar\"}],\"barpolar\":[{\"marker\":{\"line\":{\"color\":\"#E5ECF6\",\"width\":0.5},\"pattern\":{\"fillmode\":\"overlay\",\"size\":10,\"solidity\":0.2}},\"type\":\"barpolar\"}],\"carpet\":[{\"aaxis\":{\"endlinecolor\":\"#2a3f5f\",\"gridcolor\":\"white\",\"linecolor\":\"white\",\"minorgridcolor\":\"white\",\"startlinecolor\":\"#2a3f5f\"},\"baxis\":{\"endlinecolor\":\"#2a3f5f\",\"gridcolor\":\"white\",\"linecolor\":\"white\",\"minorgridcolor\":\"white\",\"startlinecolor\":\"#2a3f5f\"},\"type\":\"carpet\"}],\"choropleth\":[{\"colorbar\":{\"outlinewidth\":0,\"ticks\":\"\"},\"type\":\"choropleth\"}],\"contour\":[{\"colorbar\":{\"outlinewidth\":0,\"ticks\":\"\"},\"colorscale\":[[0.0,\"#0d0887\"],[0.1111111111111111,\"#46039f\"],[0.2222222222222222,\"#7201a8\"],[0.3333333333333333,\"#9c179e\"],[0.4444444444444444,\"#bd3786\"],[0.5555555555555556,\"#d8576b\"],[0.6666666666666666,\"#ed7953\"],[0.7777777777777778,\"#fb9f3a\"],[0.8888888888888888,\"#fdca26\"],[1.0,\"#f0f921\"]],\"type\":\"contour\"}],\"contourcarpet\":[{\"colorbar\":{\"outlinewidth\":0,\"ticks\":\"\"},\"type\":\"contourcarpet\"}],\"heatmap\":[{\"colorbar\":{\"outlinewidth\":0,\"ticks\":\"\"},\"colorscale\":[[0.0,\"#0d0887\"],[0.1111111111111111,\"#46039f\"],[0.2222222222222222,\"#7201a8\"],[0.3333333333333333,\"#9c179e\"],[0.4444444444444444,\"#bd3786\"],[0.5555555555555556,\"#d8576b\"],[0.6666666666666666,\"#ed7953\"],[0.7777777777777778,\"#fb9f3a\"],[0.8888888888888888,\"#fdca26\"],[1.0,\"#f0f921\"]],\"type\":\"heatmap\"}],\"heatmapgl\":[{\"colorbar\":{\"outlinewidth\":0,\"ticks\":\"\"},\"colorscale\":[[0.0,\"#0d0887\"],[0.1111111111111111,\"#46039f\"],[0.2222222222222222,\"#7201a8\"],[0.3333333333333333,\"#9c179e\"],[0.4444444444444444,\"#bd3786\"],[0.5555555555555556,\"#d8576b\"],[0.6666666666666666,\"#ed7953\"],[0.7777777777777778,\"#fb9f3a\"],[0.8888888888888888,\"#fdca26\"],[1.0,\"#f0f921\"]],\"type\":\"heatmapgl\"}],\"histogram\":[{\"marker\":{\"pattern\":{\"fillmode\":\"overlay\",\"size\":10,\"solidity\":0.2}},\"type\":\"histogram\"}],\"histogram2d\":[{\"colorbar\":{\"outlinewidth\":0,\"ticks\":\"\"},\"colorscale\":[[0.0,\"#0d0887\"],[0.1111111111111111,\"#46039f\"],[0.2222222222222222,\"#7201a8\"],[0.3333333333333333,\"#9c179e\"],[0.4444444444444444,\"#bd3786\"],[0.5555555555555556,\"#d8576b\"],[0.6666666666666666,\"#ed7953\"],[0.7777777777777778,\"#fb9f3a\"],[0.8888888888888888,\"#fdca26\"],[1.0,\"#f0f921\"]],\"type\":\"histogram2d\"}],\"histogram2dcontour\":[{\"colorbar\":{\"outlinewidth\":0,\"ticks\":\"\"},\"colorscale\":[[0.0,\"#0d0887\"],[0.1111111111111111,\"#46039f\"],[0.2222222222222222,\"#7201a8\"],[0.3333333333333333,\"#9c179e\"],[0.4444444444444444,\"#bd3786\"],[0.5555555555555556,\"#d8576b\"],[0.6666666666666666,\"#ed7953\"],[0.7777777777777778,\"#fb9f3a\"],[0.8888888888888888,\"#fdca26\"],[1.0,\"#f0f921\"]],\"type\":\"histogram2dcontour\"}],\"mesh3d\":[{\"colorbar\":{\"outlinewidth\":0,\"ticks\":\"\"},\"type\":\"mesh3d\"}],\"parcoords\":[{\"line\":{\"colorbar\":{\"outlinewidth\":0,\"ticks\":\"\"}},\"type\":\"parcoords\"}],\"pie\":[{\"automargin\":true,\"type\":\"pie\"}],\"scatter\":[{\"marker\":{\"colorbar\":{\"outlinewidth\":0,\"ticks\":\"\"}},\"type\":\"scatter\"}],\"scatter3d\":[{\"line\":{\"colorbar\":{\"outlinewidth\":0,\"ticks\":\"\"}},\"marker\":{\"colorbar\":{\"outlinewidth\":0,\"ticks\":\"\"}},\"type\":\"scatter3d\"}],\"scattercarpet\":[{\"marker\":{\"colorbar\":{\"outlinewidth\":0,\"ticks\":\"\"}},\"type\":\"scattercarpet\"}],\"scattergeo\":[{\"marker\":{\"colorbar\":{\"outlinewidth\":0,\"ticks\":\"\"}},\"type\":\"scattergeo\"}],\"scattergl\":[{\"marker\":{\"colorbar\":{\"outlinewidth\":0,\"ticks\":\"\"}},\"type\":\"scattergl\"}],\"scattermapbox\":[{\"marker\":{\"colorbar\":{\"outlinewidth\":0,\"ticks\":\"\"}},\"type\":\"scattermapbox\"}],\"scatterpolar\":[{\"marker\":{\"colorbar\":{\"outlinewidth\":0,\"ticks\":\"\"}},\"type\":\"scatterpolar\"}],\"scatterpolargl\":[{\"marker\":{\"colorbar\":{\"outlinewidth\":0,\"ticks\":\"\"}},\"type\":\"scatterpolargl\"}],\"scatterternary\":[{\"marker\":{\"colorbar\":{\"outlinewidth\":0,\"ticks\":\"\"}},\"type\":\"scatterternary\"}],\"surface\":[{\"colorbar\":{\"outlinewidth\":0,\"ticks\":\"\"},\"colorscale\":[[0.0,\"#0d0887\"],[0.1111111111111111,\"#46039f\"],[0.2222222222222222,\"#7201a8\"],[0.3333333333333333,\"#9c179e\"],[0.4444444444444444,\"#bd3786\"],[0.5555555555555556,\"#d8576b\"],[0.6666666666666666,\"#ed7953\"],[0.7777777777777778,\"#fb9f3a\"],[0.8888888888888888,\"#fdca26\"],[1.0,\"#f0f921\"]],\"type\":\"surface\"}],\"table\":[{\"cells\":{\"fill\":{\"color\":\"#EBF0F8\"},\"line\":{\"color\":\"white\"}},\"header\":{\"fill\":{\"color\":\"#C8D4E3\"},\"line\":{\"color\":\"white\"}},\"type\":\"table\"}]},\"layout\":{\"annotationdefaults\":{\"arrowcolor\":\"#2a3f5f\",\"arrowhead\":0,\"arrowwidth\":1},\"autotypenumbers\":\"strict\",\"coloraxis\":{\"colorbar\":{\"outlinewidth\":0,\"ticks\":\"\"}},\"colorscale\":{\"diverging\":[[0,\"#8e0152\"],[0.1,\"#c51b7d\"],[0.2,\"#de77ae\"],[0.3,\"#f1b6da\"],[0.4,\"#fde0ef\"],[0.5,\"#f7f7f7\"],[0.6,\"#e6f5d0\"],[0.7,\"#b8e186\"],[0.8,\"#7fbc41\"],[0.9,\"#4d9221\"],[1,\"#276419\"]],\"sequential\":[[0.0,\"#0d0887\"],[0.1111111111111111,\"#46039f\"],[0.2222222222222222,\"#7201a8\"],[0.3333333333333333,\"#9c179e\"],[0.4444444444444444,\"#bd3786\"],[0.5555555555555556,\"#d8576b\"],[0.6666666666666666,\"#ed7953\"],[0.7777777777777778,\"#fb9f3a\"],[0.8888888888888888,\"#fdca26\"],[1.0,\"#f0f921\"]],\"sequentialminus\":[[0.0,\"#0d0887\"],[0.1111111111111111,\"#46039f\"],[0.2222222222222222,\"#7201a8\"],[0.3333333333333333,\"#9c179e\"],[0.4444444444444444,\"#bd3786\"],[0.5555555555555556,\"#d8576b\"],[0.6666666666666666,\"#ed7953\"],[0.7777777777777778,\"#fb9f3a\"],[0.8888888888888888,\"#fdca26\"],[1.0,\"#f0f921\"]]},\"colorway\":[\"#636efa\",\"#EF553B\",\"#00cc96\",\"#ab63fa\",\"#FFA15A\",\"#19d3f3\",\"#FF6692\",\"#B6E880\",\"#FF97FF\",\"#FECB52\"],\"font\":{\"color\":\"#2a3f5f\"},\"geo\":{\"bgcolor\":\"white\",\"lakecolor\":\"white\",\"landcolor\":\"#E5ECF6\",\"showlakes\":true,\"showland\":true,\"subunitcolor\":\"white\"},\"hoverlabel\":{\"align\":\"left\"},\"hovermode\":\"closest\",\"mapbox\":{\"style\":\"light\"},\"paper_bgcolor\":\"white\",\"plot_bgcolor\":\"#E5ECF6\",\"polar\":{\"angularaxis\":{\"gridcolor\":\"white\",\"linecolor\":\"white\",\"ticks\":\"\"},\"bgcolor\":\"#E5ECF6\",\"radialaxis\":{\"gridcolor\":\"white\",\"linecolor\":\"white\",\"ticks\":\"\"}},\"scene\":{\"xaxis\":{\"backgroundcolor\":\"#E5ECF6\",\"gridcolor\":\"white\",\"gridwidth\":2,\"linecolor\":\"white\",\"showbackground\":true,\"ticks\":\"\",\"zerolinecolor\":\"white\"},\"yaxis\":{\"backgroundcolor\":\"#E5ECF6\",\"gridcolor\":\"white\",\"gridwidth\":2,\"linecolor\":\"white\",\"showbackground\":true,\"ticks\":\"\",\"zerolinecolor\":\"white\"},\"zaxis\":{\"backgroundcolor\":\"#E5ECF6\",\"gridcolor\":\"white\",\"gridwidth\":2,\"linecolor\":\"white\",\"showbackground\":true,\"ticks\":\"\",\"zerolinecolor\":\"white\"}},\"shapedefaults\":{\"line\":{\"color\":\"#2a3f5f\"}},\"ternary\":{\"aaxis\":{\"gridcolor\":\"white\",\"linecolor\":\"white\",\"ticks\":\"\"},\"baxis\":{\"gridcolor\":\"white\",\"linecolor\":\"white\",\"ticks\":\"\"},\"bgcolor\":\"#E5ECF6\",\"caxis\":{\"gridcolor\":\"white\",\"linecolor\":\"white\",\"ticks\":\"\"}},\"title\":{\"x\":0.05},\"xaxis\":{\"automargin\":true,\"gridcolor\":\"white\",\"linecolor\":\"white\",\"ticks\":\"\",\"title\":{\"standoff\":15},\"zerolinecolor\":\"white\",\"zerolinewidth\":2},\"yaxis\":{\"automargin\":true,\"gridcolor\":\"white\",\"linecolor\":\"white\",\"ticks\":\"\",\"title\":{\"standoff\":15},\"zerolinecolor\":\"white\",\"zerolinewidth\":2}}}},                        {\"responsive\": true}                    ).then(function(){\n",
       "                            \n",
       "var gd = document.getElementById('7b2ac61d-2696-4cd3-b457-229dd6022874');\n",
       "var x = new MutationObserver(function (mutations, observer) {{\n",
       "        var display = window.getComputedStyle(gd).display;\n",
       "        if (!display || display === 'none') {{\n",
       "            console.log([gd, 'removed!']);\n",
       "            Plotly.purge(gd);\n",
       "            observer.disconnect();\n",
       "        }}\n",
       "}});\n",
       "\n",
       "// Listen for the removal of the full notebook cells\n",
       "var notebookContainer = gd.closest('#notebook-container');\n",
       "if (notebookContainer) {{\n",
       "    x.observe(notebookContainer, {childList: true});\n",
       "}}\n",
       "\n",
       "// Listen for the clearing of the current output cell\n",
       "var outputEl = gd.closest('.output');\n",
       "if (outputEl) {{\n",
       "    x.observe(outputEl, {childList: true});\n",
       "}}\n",
       "\n",
       "                        })                };                });            </script>        </div>"
      ]
     },
     "metadata": {},
     "output_type": "display_data"
    }
   ],
   "source": [
    "plot_graph(gp, 0)"
   ]
  },
  {
   "cell_type": "code",
   "execution_count": 534,
   "id": "c972a844",
   "metadata": {},
   "outputs": [],
   "source": [
    "df = gp.p.dfl[gp.p.dfl_list.index('2YDV')]"
   ]
  },
  {
   "cell_type": "code",
   "execution_count": 535,
   "id": "28898054",
   "metadata": {},
   "outputs": [
    {
     "data": {
      "text/html": [
       "<div>\n",
       "<style scoped>\n",
       "    .dataframe tbody tr th:only-of-type {\n",
       "        vertical-align: middle;\n",
       "    }\n",
       "\n",
       "    .dataframe tbody tr th {\n",
       "        vertical-align: top;\n",
       "    }\n",
       "\n",
       "    .dataframe thead th {\n",
       "        text-align: right;\n",
       "    }\n",
       "</style>\n",
       "<table border=\"1\" class=\"dataframe\">\n",
       "  <thead>\n",
       "    <tr style=\"text-align: right;\">\n",
       "      <th></th>\n",
       "      <th>index</th>\n",
       "      <th>PDB</th>\n",
       "      <th>auth_asym_id</th>\n",
       "      <th>label_atom_id</th>\n",
       "      <th>type_symbol</th>\n",
       "      <th>Cartn_x</th>\n",
       "      <th>Cartn_y</th>\n",
       "      <th>Cartn_z</th>\n",
       "      <th>identifier</th>\n",
       "      <th>label_comp_sid</th>\n",
       "      <th>generic_position</th>\n",
       "    </tr>\n",
       "  </thead>\n",
       "  <tbody>\n",
       "    <tr>\n",
       "      <th>0</th>\n",
       "      <td>1</td>\n",
       "      <td>2YDV</td>\n",
       "      <td>A</td>\n",
       "      <td>CA</td>\n",
       "      <td>C</td>\n",
       "      <td>36.094</td>\n",
       "      <td>-0.818</td>\n",
       "      <td>-29.646</td>\n",
       "      <td>AA2AR_HUMAN</td>\n",
       "      <td>I</td>\n",
       "      <td>1.29</td>\n",
       "    </tr>\n",
       "    <tr>\n",
       "      <th>1</th>\n",
       "      <td>9</td>\n",
       "      <td>2YDV</td>\n",
       "      <td>A</td>\n",
       "      <td>CA</td>\n",
       "      <td>C</td>\n",
       "      <td>35.353</td>\n",
       "      <td>0.879</td>\n",
       "      <td>-33.020</td>\n",
       "      <td>AA2AR_HUMAN</td>\n",
       "      <td>M</td>\n",
       "      <td>1.30</td>\n",
       "    </tr>\n",
       "    <tr>\n",
       "      <th>2</th>\n",
       "      <td>17</td>\n",
       "      <td>2YDV</td>\n",
       "      <td>A</td>\n",
       "      <td>CA</td>\n",
       "      <td>C</td>\n",
       "      <td>32.622</td>\n",
       "      <td>3.022</td>\n",
       "      <td>-31.402</td>\n",
       "      <td>AA2AR_HUMAN</td>\n",
       "      <td>G</td>\n",
       "      <td>1.31</td>\n",
       "    </tr>\n",
       "    <tr>\n",
       "      <th>3</th>\n",
       "      <td>21</td>\n",
       "      <td>2YDV</td>\n",
       "      <td>A</td>\n",
       "      <td>CA</td>\n",
       "      <td>C</td>\n",
       "      <td>29.057</td>\n",
       "      <td>4.148</td>\n",
       "      <td>-32.116</td>\n",
       "      <td>AA2AR_HUMAN</td>\n",
       "      <td>S</td>\n",
       "      <td>1.32</td>\n",
       "    </tr>\n",
       "    <tr>\n",
       "      <th>4</th>\n",
       "      <td>27</td>\n",
       "      <td>2YDV</td>\n",
       "      <td>A</td>\n",
       "      <td>CA</td>\n",
       "      <td>C</td>\n",
       "      <td>28.404</td>\n",
       "      <td>7.126</td>\n",
       "      <td>-34.428</td>\n",
       "      <td>AA2AR_HUMAN</td>\n",
       "      <td>S</td>\n",
       "      <td>1.33</td>\n",
       "    </tr>\n",
       "    <tr>\n",
       "      <th>...</th>\n",
       "      <td>...</td>\n",
       "      <td>...</td>\n",
       "      <td>...</td>\n",
       "      <td>...</td>\n",
       "      <td>...</td>\n",
       "      <td>...</td>\n",
       "      <td>...</td>\n",
       "      <td>...</td>\n",
       "      <td>...</td>\n",
       "      <td>...</td>\n",
       "      <td>...</td>\n",
       "    </tr>\n",
       "    <tr>\n",
       "      <th>310</th>\n",
       "      <td>2407</td>\n",
       "      <td>2YDV</td>\n",
       "      <td>A</td>\n",
       "      <td>CA</td>\n",
       "      <td>C</td>\n",
       "      <td>10.271</td>\n",
       "      <td>41.062</td>\n",
       "      <td>-54.024</td>\n",
       "      <td>AA2AR_HUMAN</td>\n",
       "      <td>N</td>\n",
       "      <td></td>\n",
       "    </tr>\n",
       "    <tr>\n",
       "      <th>311</th>\n",
       "      <td>2415</td>\n",
       "      <td>2YDV</td>\n",
       "      <td>A</td>\n",
       "      <td>CA</td>\n",
       "      <td>C</td>\n",
       "      <td>6.877</td>\n",
       "      <td>42.480</td>\n",
       "      <td>-53.006</td>\n",
       "      <td>AA2AR_HUMAN</td>\n",
       "      <td>L</td>\n",
       "      <td></td>\n",
       "    </tr>\n",
       "    <tr>\n",
       "      <th>312</th>\n",
       "      <td>2423</td>\n",
       "      <td>2YDV</td>\n",
       "      <td>A</td>\n",
       "      <td>CA</td>\n",
       "      <td>C</td>\n",
       "      <td>7.789</td>\n",
       "      <td>46.011</td>\n",
       "      <td>-54.133</td>\n",
       "      <td>AA2AR_HUMAN</td>\n",
       "      <td>Y</td>\n",
       "      <td></td>\n",
       "    </tr>\n",
       "    <tr>\n",
       "      <th>313</th>\n",
       "      <td>2435</td>\n",
       "      <td>2YDV</td>\n",
       "      <td>A</td>\n",
       "      <td>CA</td>\n",
       "      <td>C</td>\n",
       "      <td>8.352</td>\n",
       "      <td>45.003</td>\n",
       "      <td>-57.796</td>\n",
       "      <td>AA2AR_HUMAN</td>\n",
       "      <td>F</td>\n",
       "      <td></td>\n",
       "    </tr>\n",
       "    <tr>\n",
       "      <th>314</th>\n",
       "      <td>2446</td>\n",
       "      <td>2YDV</td>\n",
       "      <td>A</td>\n",
       "      <td>CA</td>\n",
       "      <td>C</td>\n",
       "      <td>5.659</td>\n",
       "      <td>42.303</td>\n",
       "      <td>-57.633</td>\n",
       "      <td>AA2AR_HUMAN</td>\n",
       "      <td>Q</td>\n",
       "      <td></td>\n",
       "    </tr>\n",
       "  </tbody>\n",
       "</table>\n",
       "<p>315 rows × 11 columns</p>\n",
       "</div>"
      ],
      "text/plain": [
       "     index   PDB auth_asym_id label_atom_id type_symbol Cartn_x Cartn_y  \\\n",
       "0        1  2YDV            A            CA           C  36.094  -0.818   \n",
       "1        9  2YDV            A            CA           C  35.353   0.879   \n",
       "2       17  2YDV            A            CA           C  32.622   3.022   \n",
       "3       21  2YDV            A            CA           C  29.057   4.148   \n",
       "4       27  2YDV            A            CA           C  28.404   7.126   \n",
       "..     ...   ...          ...           ...         ...     ...     ...   \n",
       "310   2407  2YDV            A            CA           C  10.271  41.062   \n",
       "311   2415  2YDV            A            CA           C   6.877  42.480   \n",
       "312   2423  2YDV            A            CA           C   7.789  46.011   \n",
       "313   2435  2YDV            A            CA           C   8.352  45.003   \n",
       "314   2446  2YDV            A            CA           C   5.659  42.303   \n",
       "\n",
       "     Cartn_z   identifier label_comp_sid generic_position  \n",
       "0    -29.646  AA2AR_HUMAN              I             1.29  \n",
       "1    -33.020  AA2AR_HUMAN              M             1.30  \n",
       "2    -31.402  AA2AR_HUMAN              G             1.31  \n",
       "3    -32.116  AA2AR_HUMAN              S             1.32  \n",
       "4    -34.428  AA2AR_HUMAN              S             1.33  \n",
       "..       ...          ...            ...              ...  \n",
       "310  -54.024  AA2AR_HUMAN              N                   \n",
       "311  -53.006  AA2AR_HUMAN              L                   \n",
       "312  -54.133  AA2AR_HUMAN              Y                   \n",
       "313  -57.796  AA2AR_HUMAN              F                   \n",
       "314  -57.633  AA2AR_HUMAN              Q                   \n",
       "\n",
       "[315 rows x 11 columns]"
      ]
     },
     "execution_count": 535,
     "metadata": {},
     "output_type": "execute_result"
    }
   ],
   "source": [
    "df"
   ]
  },
  {
   "cell_type": "code",
   "execution_count": 536,
   "id": "ce40206c",
   "metadata": {},
   "outputs": [
    {
     "data": {
      "text/html": [
       "<div>\n",
       "<style scoped>\n",
       "    .dataframe tbody tr th:only-of-type {\n",
       "        vertical-align: middle;\n",
       "    }\n",
       "\n",
       "    .dataframe tbody tr th {\n",
       "        vertical-align: top;\n",
       "    }\n",
       "\n",
       "    .dataframe thead th {\n",
       "        text-align: right;\n",
       "    }\n",
       "</style>\n",
       "<table border=\"1\" class=\"dataframe\">\n",
       "  <thead>\n",
       "    <tr style=\"text-align: right;\">\n",
       "      <th></th>\n",
       "      <th>index</th>\n",
       "      <th>PDB</th>\n",
       "      <th>auth_asym_id</th>\n",
       "      <th>label_atom_id</th>\n",
       "      <th>type_symbol</th>\n",
       "      <th>Cartn_x</th>\n",
       "      <th>Cartn_y</th>\n",
       "      <th>Cartn_z</th>\n",
       "      <th>identifier</th>\n",
       "      <th>label_comp_sid</th>\n",
       "      <th>generic_position</th>\n",
       "    </tr>\n",
       "  </thead>\n",
       "  <tbody>\n",
       "    <tr>\n",
       "      <th>0</th>\n",
       "      <td>1</td>\n",
       "      <td>2YDV</td>\n",
       "      <td>A</td>\n",
       "      <td>CA</td>\n",
       "      <td>C</td>\n",
       "      <td>36.094</td>\n",
       "      <td>-0.818</td>\n",
       "      <td>-29.646</td>\n",
       "      <td>AA2AR_HUMAN</td>\n",
       "      <td>I</td>\n",
       "      <td>1.29</td>\n",
       "    </tr>\n",
       "    <tr>\n",
       "      <th>1</th>\n",
       "      <td>9</td>\n",
       "      <td>2YDV</td>\n",
       "      <td>A</td>\n",
       "      <td>CA</td>\n",
       "      <td>C</td>\n",
       "      <td>35.353</td>\n",
       "      <td>0.879</td>\n",
       "      <td>-33.020</td>\n",
       "      <td>AA2AR_HUMAN</td>\n",
       "      <td>M</td>\n",
       "      <td>1.30</td>\n",
       "    </tr>\n",
       "    <tr>\n",
       "      <th>2</th>\n",
       "      <td>17</td>\n",
       "      <td>2YDV</td>\n",
       "      <td>A</td>\n",
       "      <td>CA</td>\n",
       "      <td>C</td>\n",
       "      <td>32.622</td>\n",
       "      <td>3.022</td>\n",
       "      <td>-31.402</td>\n",
       "      <td>AA2AR_HUMAN</td>\n",
       "      <td>G</td>\n",
       "      <td>1.31</td>\n",
       "    </tr>\n",
       "    <tr>\n",
       "      <th>3</th>\n",
       "      <td>21</td>\n",
       "      <td>2YDV</td>\n",
       "      <td>A</td>\n",
       "      <td>CA</td>\n",
       "      <td>C</td>\n",
       "      <td>29.057</td>\n",
       "      <td>4.148</td>\n",
       "      <td>-32.116</td>\n",
       "      <td>AA2AR_HUMAN</td>\n",
       "      <td>S</td>\n",
       "      <td>1.32</td>\n",
       "    </tr>\n",
       "    <tr>\n",
       "      <th>4</th>\n",
       "      <td>27</td>\n",
       "      <td>2YDV</td>\n",
       "      <td>A</td>\n",
       "      <td>CA</td>\n",
       "      <td>C</td>\n",
       "      <td>28.404</td>\n",
       "      <td>7.126</td>\n",
       "      <td>-34.428</td>\n",
       "      <td>AA2AR_HUMAN</td>\n",
       "      <td>S</td>\n",
       "      <td>1.33</td>\n",
       "    </tr>\n",
       "    <tr>\n",
       "      <th>...</th>\n",
       "      <td>...</td>\n",
       "      <td>...</td>\n",
       "      <td>...</td>\n",
       "      <td>...</td>\n",
       "      <td>...</td>\n",
       "      <td>...</td>\n",
       "      <td>...</td>\n",
       "      <td>...</td>\n",
       "      <td>...</td>\n",
       "      <td>...</td>\n",
       "      <td>...</td>\n",
       "    </tr>\n",
       "    <tr>\n",
       "      <th>299</th>\n",
       "      <td>2324</td>\n",
       "      <td>2YDV</td>\n",
       "      <td>A</td>\n",
       "      <td>CA</td>\n",
       "      <td>C</td>\n",
       "      <td>19.898</td>\n",
       "      <td>37.079</td>\n",
       "      <td>-38.868</td>\n",
       "      <td>AA2AR_HUMAN</td>\n",
       "      <td>Q</td>\n",
       "      <td>8.65</td>\n",
       "    </tr>\n",
       "    <tr>\n",
       "      <th>300</th>\n",
       "      <td>2333</td>\n",
       "      <td>2YDV</td>\n",
       "      <td>A</td>\n",
       "      <td>CA</td>\n",
       "      <td>C</td>\n",
       "      <td>16.572</td>\n",
       "      <td>37.262</td>\n",
       "      <td>-40.714</td>\n",
       "      <td>AA2AR_HUMAN</td>\n",
       "      <td>Q</td>\n",
       "      <td>8.66</td>\n",
       "    </tr>\n",
       "    <tr>\n",
       "      <th>301</th>\n",
       "      <td>2342</td>\n",
       "      <td>2YDV</td>\n",
       "      <td>A</td>\n",
       "      <td>CA</td>\n",
       "      <td>C</td>\n",
       "      <td>17.554</td>\n",
       "      <td>40.631</td>\n",
       "      <td>-42.252</td>\n",
       "      <td>AA2AR_HUMAN</td>\n",
       "      <td>E</td>\n",
       "      <td>8.67</td>\n",
       "    </tr>\n",
       "    <tr>\n",
       "      <th>302</th>\n",
       "      <td>2351</td>\n",
       "      <td>2YDV</td>\n",
       "      <td>A</td>\n",
       "      <td>CA</td>\n",
       "      <td>C</td>\n",
       "      <td>18.974</td>\n",
       "      <td>39.243</td>\n",
       "      <td>-45.550</td>\n",
       "      <td>AA2AR_HUMAN</td>\n",
       "      <td>P</td>\n",
       "      <td>8.68</td>\n",
       "    </tr>\n",
       "    <tr>\n",
       "      <th>303</th>\n",
       "      <td>2358</td>\n",
       "      <td>2YDV</td>\n",
       "      <td>A</td>\n",
       "      <td>CA</td>\n",
       "      <td>C</td>\n",
       "      <td>15.715</td>\n",
       "      <td>37.315</td>\n",
       "      <td>-46.124</td>\n",
       "      <td>AA2AR_HUMAN</td>\n",
       "      <td>F</td>\n",
       "      <td>8.69</td>\n",
       "    </tr>\n",
       "  </tbody>\n",
       "</table>\n",
       "<p>270 rows × 11 columns</p>\n",
       "</div>"
      ],
      "text/plain": [
       "     index   PDB auth_asym_id label_atom_id type_symbol Cartn_x Cartn_y  \\\n",
       "0        1  2YDV            A            CA           C  36.094  -0.818   \n",
       "1        9  2YDV            A            CA           C  35.353   0.879   \n",
       "2       17  2YDV            A            CA           C  32.622   3.022   \n",
       "3       21  2YDV            A            CA           C  29.057   4.148   \n",
       "4       27  2YDV            A            CA           C  28.404   7.126   \n",
       "..     ...   ...          ...           ...         ...     ...     ...   \n",
       "299   2324  2YDV            A            CA           C  19.898  37.079   \n",
       "300   2333  2YDV            A            CA           C  16.572  37.262   \n",
       "301   2342  2YDV            A            CA           C  17.554  40.631   \n",
       "302   2351  2YDV            A            CA           C  18.974  39.243   \n",
       "303   2358  2YDV            A            CA           C  15.715  37.315   \n",
       "\n",
       "     Cartn_z   identifier label_comp_sid generic_position  \n",
       "0    -29.646  AA2AR_HUMAN              I             1.29  \n",
       "1    -33.020  AA2AR_HUMAN              M             1.30  \n",
       "2    -31.402  AA2AR_HUMAN              G             1.31  \n",
       "3    -32.116  AA2AR_HUMAN              S             1.32  \n",
       "4    -34.428  AA2AR_HUMAN              S             1.33  \n",
       "..       ...          ...            ...              ...  \n",
       "299  -38.868  AA2AR_HUMAN              Q             8.65  \n",
       "300  -40.714  AA2AR_HUMAN              Q             8.66  \n",
       "301  -42.252  AA2AR_HUMAN              E             8.67  \n",
       "302  -45.550  AA2AR_HUMAN              P             8.68  \n",
       "303  -46.124  AA2AR_HUMAN              F             8.69  \n",
       "\n",
       "[270 rows x 11 columns]"
      ]
     },
     "execution_count": 536,
     "metadata": {},
     "output_type": "execute_result"
    }
   ],
   "source": [
    "df[df['generic_position']!='']"
   ]
  },
  {
   "cell_type": "code",
   "execution_count": 504,
   "id": "c2033afc",
   "metadata": {
    "pycharm": {
     "name": "#%%\n"
    }
   },
   "outputs": [
    {
     "data": {
      "image/png": "[encoded data removed]",
      "text/plain": [
       "<Figure size 432x288 with 1 Axes>"
      ]
     },
     "metadata": {},
     "output_type": "display_data"
    }
   ],
   "source": [
    "g = to_networkx(gp.d[10], to_undirected=True)\n",
    "nx.draw(g, labels=label_dict, with_labels = True)"
   ]
  },
  {
   "cell_type": "code",
   "execution_count": 294,
   "id": "548a4b00",
   "metadata": {
    "pycharm": {
     "name": "#%%\n"
    }
   },
   "outputs": [],
   "source": [
    "from torch_geometric.data import DataLoader\n",
    "from torch.utils.data.sampler import SubsetRandomSampler"
   ]
  },
  {
   "cell_type": "code",
   "execution_count": 295,
   "id": "4efaf470",
   "metadata": {
    "pycharm": {
     "name": "#%%\n"
    }
   },
   "outputs": [],
   "source": [
    "validation_split = .2\n",
    "shuffle_dataset = True\n",
    "random_seed = 42\n",
    "batch_size  = 4\n",
    "\n",
    "# Creating data indices for training and validation splits\n",
    "dataset_size = len(gp)\n",
    "indices = list(range(dataset_size))\n",
    "split = int(np.floor(validation_split * dataset_size))\n",
    "if shuffle_dataset :\n",
    "    np.random.seed(random_seed)\n",
    "    np.random.shuffle(indices)\n",
    "train_indices, val_indices = indices[split:], indices[:split]\n",
    "\n",
    "# Creating PT data samplers and loaders\n",
    "train_sampler = SubsetRandomSampler(train_indices)\n",
    "valid_sampler = SubsetRandomSampler(val_indices)\n",
    "\n",
    "train_loader = DataLoader(gp, batch_size=batch_size, sampler=train_sampler)\n",
    "validation_loader = DataLoader(gp, batch_size=batch_size, sampler=valid_sampler)"
   ]
  },
  {
   "cell_type": "code",
   "execution_count": 296,
   "id": "540a1e34",
   "metadata": {
    "pycharm": {
     "name": "#%%\n"
    }
   },
   "outputs": [
    {
     "data": {
      "text/plain": [
       "Data(edge_attr=[28, 2], edge_index=[2, 28], pos=[6, 3], x=[6], y=[4])"
      ]
     },
     "execution_count": 296,
     "metadata": {},
     "output_type": "execute_result"
    }
   ],
   "source": [
    "gp.__getitem__(0)"
   ]
  },
  {
   "cell_type": "code",
   "execution_count": 297,
   "id": "f5b892f8",
   "metadata": {
    "pycharm": {
     "name": "#%%\n"
    }
   },
   "outputs": [],
   "source": [
    "model_path = 'models/'"
   ]
  },
  {
   "cell_type": "code",
   "execution_count": 298,
   "id": "ce8a48cb",
   "metadata": {},
   "outputs": [],
   "source": [
    "n_outputs=4\n",
    "h5n = H5Net(n_outputs=n_outputs, aggr='add')"
   ]
  },
  {
   "cell_type": "code",
   "execution_count": 299,
   "id": "534cab58",
   "metadata": {},
   "outputs": [],
   "source": [
    "# h5n.to('cuda')"
   ]
  },
  {
   "cell_type": "code",
   "execution_count": null,
   "id": "942666d1",
   "metadata": {},
   "outputs": [],
   "source": []
  },
  {
   "cell_type": "code",
   "execution_count": 319,
   "id": "a63dd417",
   "metadata": {
    "pycharm": {
     "name": "#%%\n"
    }
   },
   "outputs": [
    {
     "name": "stderr",
     "output_type": "stream",
     "text": [
      "TRAINING: mean epoch loss = 0.136418: : 5it [00:00, 40.61it/s]"
     ]
    },
    {
     "name": "stdout",
     "output_type": "stream",
     "text": [
      "EPOCH 0\n"
     ]
    },
    {
     "name": "stderr",
     "output_type": "stream",
     "text": [
      "TRAINING: mean epoch loss = 0.134123: : 19it [00:00, 40.26it/s]\n",
      "VALIDATION: mean epoch loss = 0.088358: : 5it [00:00, 115.33it/s]\n",
      "TRAINING: mean epoch loss = 0.103963: : 4it [00:00, 37.46it/s]"
     ]
    },
    {
     "name": "stdout",
     "output_type": "stream",
     "text": [
      "target: [10.8  0.   9.   0. ] <> prediction: [7.89 4.46 6.74 0.86]\n",
      "EPOCH 1\n"
     ]
    },
    {
     "name": "stderr",
     "output_type": "stream",
     "text": [
      "TRAINING: mean epoch loss = 0.125119: : 19it [00:00, 40.70it/s]\n",
      "VALIDATION: mean epoch loss = 0.053605: : 5it [00:00, 97.30it/s]\n",
      "TRAINING: mean epoch loss = 0.153443: : 5it [00:00, 44.16it/s]"
     ]
    },
    {
     "name": "stdout",
     "output_type": "stream",
     "text": [
      "target: [0.  7.2 7.4 0. ] <> prediction: [7.87 4.46 6.71 0.88]\n",
      "EPOCH 2\n"
     ]
    },
    {
     "name": "stderr",
     "output_type": "stream",
     "text": [
      "TRAINING: mean epoch loss = 0.137909: : 19it [00:00, 42.47it/s]\n",
      "VALIDATION: mean epoch loss = 0.063881: : 5it [00:00, 87.78it/s]\n",
      "TRAINING: mean epoch loss = 0.132991: : 5it [00:00, 47.70it/s]"
     ]
    },
    {
     "name": "stdout",
     "output_type": "stream",
     "text": [
      "target: [8.5 5.7 7.4 0. ] <> prediction: [7.87 4.46 6.75 0.86]\n",
      "EPOCH 3\n"
     ]
    },
    {
     "name": "stderr",
     "output_type": "stream",
     "text": [
      "TRAINING: mean epoch loss = 0.128876: : 19it [00:00, 42.30it/s]\n",
      "VALIDATION: mean epoch loss = 0.0789: : 5it [00:00, 97.76it/s]\n",
      "TRAINING: mean epoch loss = 0.075259: : 4it [00:00, 33.83it/s]"
     ]
    },
    {
     "name": "stdout",
     "output_type": "stream",
     "text": [
      "target: [0.  7.2 7.4 0. ] <> prediction: [7.99 4.36 6.74 0.74]\n",
      "EPOCH 4\n"
     ]
    },
    {
     "name": "stderr",
     "output_type": "stream",
     "text": [
      "TRAINING: mean epoch loss = 0.123464: : 19it [00:00, 37.83it/s]\n",
      "VALIDATION: mean epoch loss = 0.060279: : 5it [00:00, 102.12it/s]\n",
      "TRAINING: mean epoch loss = 0.126186: : 4it [00:00, 39.17it/s]"
     ]
    },
    {
     "name": "stdout",
     "output_type": "stream",
     "text": [
      "target: [8.3 0.  8.4 0. ] <> prediction: [7.98 4.4  6.75 0.77]\n",
      "EPOCH 5\n"
     ]
    },
    {
     "name": "stderr",
     "output_type": "stream",
     "text": [
      "TRAINING: mean epoch loss = 0.125101: : 19it [00:00, 40.17it/s]\n",
      "VALIDATION: mean epoch loss = 0.085305: : 5it [00:00, 90.87it/s]\n",
      "TRAINING: mean epoch loss = 0.117704: : 5it [00:00, 43.14it/s]"
     ]
    },
    {
     "name": "stdout",
     "output_type": "stream",
     "text": [
      "target: [5.9 0.  0.  0. ] <> prediction: [8.   4.36 6.77 0.75]\n",
      "EPOCH 6\n"
     ]
    },
    {
     "name": "stderr",
     "output_type": "stream",
     "text": [
      "TRAINING: mean epoch loss = 0.134955: : 19it [00:00, 37.85it/s]\n",
      "VALIDATION: mean epoch loss = 0.074826: : 5it [00:00, 69.55it/s]\n",
      "TRAINING: mean epoch loss = 0.240227: : 3it [00:00, 28.52it/s]"
     ]
    },
    {
     "name": "stdout",
     "output_type": "stream",
     "text": [
      "target: [5.9 0.  0.  0. ] <> prediction: [8.03 4.36 6.78 0.73]\n",
      "EPOCH 7\n"
     ]
    },
    {
     "name": "stderr",
     "output_type": "stream",
     "text": [
      "TRAINING: mean epoch loss = 0.129733: : 19it [00:00, 29.50it/s]\n",
      "VALIDATION: mean epoch loss = 0.088086: : 5it [00:00, 70.39it/s]\n",
      "TRAINING: mean epoch loss = 0.156294: : 3it [00:00, 29.79it/s]"
     ]
    },
    {
     "name": "stdout",
     "output_type": "stream",
     "text": [
      "target: [5.  8.4 7.4 0. ] <> prediction: [7.94 4.38 6.74 0.78]\n",
      "EPOCH 8\n"
     ]
    },
    {
     "name": "stderr",
     "output_type": "stream",
     "text": [
      "TRAINING: mean epoch loss = 0.136188: : 19it [00:00, 31.22it/s]\n",
      "VALIDATION: mean epoch loss = 0.104811: : 5it [00:00, 81.17it/s]\n",
      "TRAINING: mean epoch loss = 0.067435: : 4it [00:00, 32.01it/s]"
     ]
    },
    {
     "name": "stdout",
     "output_type": "stream",
     "text": [
      "target: [8.2 0.  7.  0. ] <> prediction: [7.92 4.42 6.78 0.78]\n",
      "EPOCH 9\n"
     ]
    },
    {
     "name": "stderr",
     "output_type": "stream",
     "text": [
      "TRAINING: mean epoch loss = 0.127396: : 19it [00:00, 34.07it/s]\n",
      "VALIDATION: mean epoch loss = 0.072231: : 5it [00:00, 81.40it/s]\n",
      "TRAINING: mean epoch loss = 0.104599: : 3it [00:00, 29.74it/s]"
     ]
    },
    {
     "name": "stdout",
     "output_type": "stream",
     "text": [
      "target: [8.5 5.7 7.4 0. ] <> prediction: [7.96 4.37 6.77 0.75]\n",
      "EPOCH 10\n"
     ]
    },
    {
     "name": "stderr",
     "output_type": "stream",
     "text": [
      "TRAINING: mean epoch loss = 0.135978: : 19it [00:00, 29.93it/s]\n",
      "VALIDATION: mean epoch loss = 0.144481: : 5it [00:00, 67.85it/s]\n",
      "TRAINING: mean epoch loss = 0.13165: : 3it [00:00, 25.11it/s]"
     ]
    },
    {
     "name": "stdout",
     "output_type": "stream",
     "text": [
      "target: [11.6  0.  10.4  0. ] <> prediction: [8.02 4.34 6.74 0.71]\n",
      "EPOCH 11\n"
     ]
    },
    {
     "name": "stderr",
     "output_type": "stream",
     "text": [
      "TRAINING: mean epoch loss = 0.129225: : 19it [00:00, 29.61it/s]\n",
      "VALIDATION: mean epoch loss = 0.071117: : 5it [00:00, 84.96it/s]\n",
      "TRAINING: mean epoch loss = 0.161916: : 3it [00:00, 27.44it/s]"
     ]
    },
    {
     "name": "stdout",
     "output_type": "stream",
     "text": [
      "target: [8.5 5.7 7.4 0. ] <> prediction: [8.   4.33 6.79 0.68]\n",
      "EPOCH 12\n"
     ]
    },
    {
     "name": "stderr",
     "output_type": "stream",
     "text": [
      "TRAINING: mean epoch loss = 0.127652: : 19it [00:00, 32.13it/s]\n",
      "VALIDATION: mean epoch loss = 0.087602: : 5it [00:00, 77.47it/s]\n",
      "TRAINING: mean epoch loss = 0.129658: : 4it [00:00, 34.56it/s]"
     ]
    },
    {
     "name": "stdout",
     "output_type": "stream",
     "text": [
      "target: [10.8  0.   9.   0. ] <> prediction: [8.04 4.32 6.76 0.68]\n",
      "EPOCH 13\n"
     ]
    },
    {
     "name": "stderr",
     "output_type": "stream",
     "text": [
      "TRAINING: mean epoch loss = 0.126894: : 19it [00:00, 35.90it/s]\n",
      "VALIDATION: mean epoch loss = 0.055346: : 5it [00:00, 77.63it/s]\n",
      "TRAINING: mean epoch loss = 0.242916: : 0it [00:00, ?it/s]"
     ]
    },
    {
     "name": "stdout",
     "output_type": "stream",
     "text": [
      "target: [7.  0.  6.2 0. ] <> prediction: [8.1  4.29 6.74 0.63]\n",
      "EPOCH 14\n"
     ]
    },
    {
     "name": "stderr",
     "output_type": "stream",
     "text": [
      "TRAINING: mean epoch loss = 0.129566: : 19it [00:00, 30.86it/s]\n",
      "VALIDATION: mean epoch loss = 0.063331: : 5it [00:00, 78.88it/s]\n",
      "TRAINING: mean epoch loss = 0.178545: : 0it [00:00, ?it/s]"
     ]
    },
    {
     "name": "stdout",
     "output_type": "stream",
     "text": [
      "target: [10.8  0.   9.   0. ] <> prediction: [8.07 4.3  6.76 0.65]\n",
      "EPOCH 15\n"
     ]
    },
    {
     "name": "stderr",
     "output_type": "stream",
     "text": [
      "TRAINING: mean epoch loss = 0.133091: : 19it [00:00, 26.43it/s]\n",
      "VALIDATION: mean epoch loss = 0.099311: : 5it [00:00, 69.10it/s]\n",
      "TRAINING: mean epoch loss = 0.098046: : 4it [00:00, 33.67it/s]"
     ]
    },
    {
     "name": "stdout",
     "output_type": "stream",
     "text": [
      "target: [8.3 0.  8.4 0. ] <> prediction: [8.12 4.3  6.79 0.62]\n",
      "EPOCH 16\n"
     ]
    },
    {
     "name": "stderr",
     "output_type": "stream",
     "text": [
      "TRAINING: mean epoch loss = 0.136798: : 19it [00:00, 29.85it/s]\n",
      "VALIDATION: mean epoch loss = 0.05175: : 5it [00:00, 77.15it/s]\n",
      "TRAINING: mean epoch loss = 0.175681: : 0it [00:00, ?it/s]"
     ]
    },
    {
     "name": "stdout",
     "output_type": "stream",
     "text": [
      "target: [8.5 5.7 7.4 0. ] <> prediction: [7.96 4.36 6.75 0.69]\n",
      "EPOCH 17\n"
     ]
    },
    {
     "name": "stderr",
     "output_type": "stream",
     "text": [
      "TRAINING: mean epoch loss = 0.129638: : 19it [00:00, 31.46it/s]\n",
      "VALIDATION: mean epoch loss = 0.109692: : 5it [00:00, 75.89it/s]\n",
      "TRAINING: mean epoch loss = 0.070503: : 0it [00:00, ?it/s]"
     ]
    },
    {
     "name": "stdout",
     "output_type": "stream",
     "text": [
      "target: [8.3 0.  8.4 0. ] <> prediction: [8.12 4.28 6.73 0.62]\n",
      "EPOCH 18\n"
     ]
    },
    {
     "name": "stderr",
     "output_type": "stream",
     "text": [
      "TRAINING: mean epoch loss = 0.133096: : 19it [00:00, 29.68it/s]\n",
      "VALIDATION: mean epoch loss = 0.100143: : 5it [00:00, 84.50it/s]\n",
      "TRAINING: mean epoch loss = 0.126312: : 3it [00:00, 27.39it/s]"
     ]
    },
    {
     "name": "stdout",
     "output_type": "stream",
     "text": [
      "target: [5.9 0.  0.  0. ] <> prediction: [8.11 4.27 6.72 0.61]\n",
      "EPOCH 19\n"
     ]
    },
    {
     "name": "stderr",
     "output_type": "stream",
     "text": [
      "TRAINING: mean epoch loss = 0.122949: : 19it [00:00, 31.74it/s]\n",
      "VALIDATION: mean epoch loss = 0.087233: : 5it [00:00, 79.76it/s]\n",
      "TRAINING: mean epoch loss = 0.053846: : 4it [00:00, 31.36it/s]"
     ]
    },
    {
     "name": "stdout",
     "output_type": "stream",
     "text": [
      "target: [10.9  0.   0.   0. ] <> prediction: [8.09 4.3  6.71 0.62]\n",
      "EPOCH 20\n"
     ]
    },
    {
     "name": "stderr",
     "output_type": "stream",
     "text": [
      "TRAINING: mean epoch loss = 0.134826: : 19it [00:00, 31.53it/s]\n",
      "VALIDATION: mean epoch loss = 0.048726: : 5it [00:00, 80.64it/s]\n",
      "TRAINING: mean epoch loss = 0.120061: : 3it [00:00, 29.39it/s]"
     ]
    },
    {
     "name": "stdout",
     "output_type": "stream",
     "text": [
      "target: [8.2 0.  7.  0. ] <> prediction: [8.04 4.31 6.69 0.62]\n",
      "EPOCH 21\n"
     ]
    },
    {
     "name": "stderr",
     "output_type": "stream",
     "text": [
      "TRAINING: mean epoch loss = 0.129286: : 19it [00:00, 29.76it/s]\n",
      "VALIDATION: mean epoch loss = 0.109346: : 5it [00:00, 63.35it/s]\n",
      "TRAINING: mean epoch loss = 0.076984: : 3it [00:00, 25.83it/s]"
     ]
    },
    {
     "name": "stdout",
     "output_type": "stream",
     "text": [
      "target: [10.6  0.   0.   0. ] <> prediction: [8.1  4.28 6.69 0.59]\n",
      "EPOCH 22\n"
     ]
    },
    {
     "name": "stderr",
     "output_type": "stream",
     "text": [
      "TRAINING: mean epoch loss = 0.136757: : 19it [00:00, 29.87it/s]\n",
      "VALIDATION: mean epoch loss = 0.095821: : 5it [00:00, 74.43it/s]\n",
      "TRAINING: mean epoch loss = 0.18351: : 3it [00:00, 28.76it/s]"
     ]
    },
    {
     "name": "stdout",
     "output_type": "stream",
     "text": [
      "target: [0.  7.2 7.4 0. ] <> prediction: [8.18 4.22 6.68 0.53]\n",
      "EPOCH 23\n"
     ]
    },
    {
     "name": "stderr",
     "output_type": "stream",
     "text": [
      "TRAINING: mean epoch loss = 0.123275: : 19it [00:00, 30.75it/s]\n",
      "VALIDATION: mean epoch loss = 0.092035: : 5it [00:00, 75.16it/s]\n",
      "TRAINING: mean epoch loss = 0.069399: : 3it [00:00, 26.34it/s]"
     ]
    },
    {
     "name": "stdout",
     "output_type": "stream",
     "text": [
      "target: [5.7 0.  5.6 0. ] <> prediction: [8.26 4.18 6.72 0.5 ]\n",
      "EPOCH 24\n"
     ]
    },
    {
     "name": "stderr",
     "output_type": "stream",
     "text": [
      "TRAINING: mean epoch loss = 0.122685: : 19it [00:00, 30.21it/s]\n",
      "VALIDATION: mean epoch loss = 0.127741: : 5it [00:00, 67.11it/s]\n",
      "TRAINING: mean epoch loss = 0.12881: : 3it [00:00, 29.65it/s]"
     ]
    },
    {
     "name": "stdout",
     "output_type": "stream",
     "text": [
      "target: [10.6  0.   0.   0. ] <> prediction: [8.09 4.3  6.65 0.59]\n",
      "EPOCH 25\n"
     ]
    },
    {
     "name": "stderr",
     "output_type": "stream",
     "text": [
      "TRAINING: mean epoch loss = 0.127494: : 19it [00:00, 27.77it/s]\n",
      "VALIDATION: mean epoch loss = 0.13008: : 5it [00:00, 73.68it/s]\n",
      "TRAINING: mean epoch loss = 0.204707: : 3it [00:00, 27.14it/s]"
     ]
    },
    {
     "name": "stdout",
     "output_type": "stream",
     "text": [
      "target: [10.9  0.   0.   0. ] <> prediction: [8.11 4.29 6.61 0.55]\n",
      "EPOCH 26\n"
     ]
    },
    {
     "name": "stderr",
     "output_type": "stream",
     "text": [
      "TRAINING: mean epoch loss = 0.128296: : 19it [00:00, 30.34it/s]\n",
      "VALIDATION: mean epoch loss = 0.079327: : 5it [00:00, 77.73it/s]\n",
      "TRAINING: mean epoch loss = 0.128843: : 4it [00:00, 31.96it/s]"
     ]
    },
    {
     "name": "stdout",
     "output_type": "stream",
     "text": [
      "target: [5.  8.4 7.4 0. ] <> prediction: [8.06 4.3  6.66 0.56]\n",
      "EPOCH 27\n"
     ]
    },
    {
     "name": "stderr",
     "output_type": "stream",
     "text": [
      "TRAINING: mean epoch loss = 0.127476: : 19it [00:00, 32.88it/s]\n",
      "VALIDATION: mean epoch loss = 0.081803: : 5it [00:00, 73.60it/s]\n",
      "TRAINING: mean epoch loss = 0.210967: : 3it [00:00, 28.57it/s]"
     ]
    },
    {
     "name": "stdout",
     "output_type": "stream",
     "text": [
      "target: [10.6  0.   0.   0. ] <> prediction: [8.11 4.3  6.59 0.57]\n",
      "EPOCH 28\n"
     ]
    },
    {
     "name": "stderr",
     "output_type": "stream",
     "text": [
      "TRAINING: mean epoch loss = 0.135701: : 19it [00:00, 33.61it/s]\n",
      "VALIDATION: mean epoch loss = 0.099: : 5it [00:00, 76.53it/s]\n",
      "TRAINING: mean epoch loss = 0.07335: : 4it [00:00, 35.33it/s]"
     ]
    },
    {
     "name": "stdout",
     "output_type": "stream",
     "text": [
      "target: [0.  8.9 0.  0. ] <> prediction: [8.13 4.24 6.62 0.51]\n",
      "EPOCH 29\n"
     ]
    },
    {
     "name": "stderr",
     "output_type": "stream",
     "text": [
      "TRAINING: mean epoch loss = 0.136944: : 19it [00:00, 33.33it/s]\n",
      "VALIDATION: mean epoch loss = 0.085527: : 5it [00:00, 80.61it/s]\n",
      "TRAINING: mean epoch loss = 0.150564: : 4it [00:00, 31.26it/s]"
     ]
    },
    {
     "name": "stdout",
     "output_type": "stream",
     "text": [
      "target: [8.2 0.  7.  0. ] <> prediction: [8.13 4.27 6.64 0.51]\n",
      "EPOCH 30\n"
     ]
    },
    {
     "name": "stderr",
     "output_type": "stream",
     "text": [
      "TRAINING: mean epoch loss = 0.121301: : 19it [00:00, 32.87it/s]\n",
      "VALIDATION: mean epoch loss = 0.071269: : 5it [00:00, 75.91it/s]\n",
      "TRAINING: mean epoch loss = 0.131326: : 3it [00:00, 26.85it/s]"
     ]
    },
    {
     "name": "stdout",
     "output_type": "stream",
     "text": [
      "target: [5.7 0.  5.6 0. ] <> prediction: [8.02 4.28 6.65 0.52]\n",
      "EPOCH 31\n"
     ]
    },
    {
     "name": "stderr",
     "output_type": "stream",
     "text": [
      "TRAINING: mean epoch loss = 0.130155: : 19it [00:00, 32.42it/s]\n",
      "VALIDATION: mean epoch loss = 0.117721: : 5it [00:00, 72.75it/s]\n",
      "TRAINING: mean epoch loss = 0.212575: : 4it [00:00, 37.73it/s]"
     ]
    },
    {
     "name": "stdout",
     "output_type": "stream",
     "text": [
      "target: [0.  7.7 0.  0. ] <> prediction: [8.14 4.26 6.58 0.5 ]\n",
      "EPOCH 32\n"
     ]
    },
    {
     "name": "stderr",
     "output_type": "stream",
     "text": [
      "TRAINING: mean epoch loss = 0.128873: : 19it [00:00, 33.28it/s]\n",
      "VALIDATION: mean epoch loss = 0.071472: : 5it [00:00, 83.67it/s]\n",
      "TRAINING: mean epoch loss = 0.083306: : 4it [00:00, 33.47it/s]"
     ]
    },
    {
     "name": "stdout",
     "output_type": "stream",
     "text": [
      "target: [5.7 0.  5.6 0. ] <> prediction: [8.01 4.34 6.53 0.56]\n",
      "EPOCH 33\n"
     ]
    },
    {
     "name": "stderr",
     "output_type": "stream",
     "text": [
      "TRAINING: mean epoch loss = 0.132137: : 19it [00:00, 35.08it/s]\n",
      "VALIDATION: mean epoch loss = 0.089829: : 5it [00:00, 95.46it/s]\n",
      "TRAINING: mean epoch loss = 0.084053: : 4it [00:00, 32.74it/s]"
     ]
    },
    {
     "name": "stdout",
     "output_type": "stream",
     "text": [
      "target: [0.  8.9 0.  0. ] <> prediction: [8.14 4.23 6.59 0.45]\n",
      "EPOCH 34\n"
     ]
    },
    {
     "name": "stderr",
     "output_type": "stream",
     "text": [
      "TRAINING: mean epoch loss = 0.135119: : 19it [00:00, 33.02it/s]\n",
      "VALIDATION: mean epoch loss = 0.058587: : 5it [00:00, 74.76it/s]\n",
      "TRAINING: mean epoch loss = 0.106748: : 3it [00:00, 27.05it/s]"
     ]
    },
    {
     "name": "stdout",
     "output_type": "stream",
     "text": [
      "target: [8.3 0.  8.4 0. ] <> prediction: [8.18 4.22 6.6  0.45]\n",
      "EPOCH 35\n"
     ]
    },
    {
     "name": "stderr",
     "output_type": "stream",
     "text": [
      "TRAINING: mean epoch loss = 0.129508: : 19it [00:00, 30.74it/s]\n",
      "VALIDATION: mean epoch loss = 0.074497: : 5it [00:00, 85.67it/s]\n",
      "TRAINING: mean epoch loss = 0.109091: : 4it [00:00, 33.21it/s]"
     ]
    },
    {
     "name": "stdout",
     "output_type": "stream",
     "text": [
      "target: [10.9  0.   0.   0. ] <> prediction: [8.15 4.27 6.54 0.48]\n",
      "EPOCH 36\n"
     ]
    },
    {
     "name": "stderr",
     "output_type": "stream",
     "text": [
      "TRAINING: mean epoch loss = 0.137506: : 19it [00:00, 32.50it/s]\n",
      "VALIDATION: mean epoch loss = 0.103176: : 5it [00:00, 77.59it/s]\n",
      "TRAINING: mean epoch loss = 0.233569: : 0it [00:00, ?it/s]"
     ]
    },
    {
     "name": "stdout",
     "output_type": "stream",
     "text": [
      "target: [10.9  0.   0.   0. ] <> prediction: [8.19 4.22 6.5  0.43]\n",
      "EPOCH 37\n"
     ]
    },
    {
     "name": "stderr",
     "output_type": "stream",
     "text": [
      "TRAINING: mean epoch loss = 0.137287: : 19it [00:00, 33.26it/s]\n",
      "VALIDATION: mean epoch loss = 0.064457: : 5it [00:00, 85.00it/s]\n",
      "TRAINING: mean epoch loss = 0.183749: : 3it [00:00, 26.72it/s]"
     ]
    },
    {
     "name": "stdout",
     "output_type": "stream",
     "text": [
      "target: [10.8  0.   9.   0. ] <> prediction: [8.13 4.3  6.5  0.46]\n",
      "EPOCH 38\n"
     ]
    },
    {
     "name": "stderr",
     "output_type": "stream",
     "text": [
      "TRAINING: mean epoch loss = 0.124057: : 19it [00:00, 32.33it/s]\n",
      "VALIDATION: mean epoch loss = 0.105799: : 5it [00:00, 92.78it/s]\n",
      "TRAINING: mean epoch loss = 0.140162: : 3it [00:00, 28.71it/s]"
     ]
    },
    {
     "name": "stdout",
     "output_type": "stream",
     "text": [
      "target: [5.7 0.  5.6 0. ] <> prediction: [8.06 4.24 6.54 0.44]\n",
      "EPOCH 39\n"
     ]
    },
    {
     "name": "stderr",
     "output_type": "stream",
     "text": [
      "TRAINING: mean epoch loss = 0.127512: : 19it [00:00, 29.95it/s]\n",
      "VALIDATION: mean epoch loss = 0.063072: : 5it [00:00, 72.80it/s]\n",
      "TRAINING: mean epoch loss = 0.135872: : 3it [00:00, 27.46it/s]"
     ]
    },
    {
     "name": "stdout",
     "output_type": "stream",
     "text": [
      "target: [10.8  0.   9.   0. ] <> prediction: [8.14 4.25 6.49 0.43]\n",
      "EPOCH 40\n"
     ]
    },
    {
     "name": "stderr",
     "output_type": "stream",
     "text": [
      "TRAINING: mean epoch loss = 0.131353: : 19it [00:00, 27.86it/s]\n",
      "VALIDATION: mean epoch loss = 0.072303: : 5it [00:00, 60.67it/s]\n",
      "TRAINING: mean epoch loss = 0.193566: : 3it [00:00, 27.47it/s]"
     ]
    },
    {
     "name": "stdout",
     "output_type": "stream",
     "text": [
      "target: [5.7 0.  5.6 0. ] <> prediction: [7.95 4.35 6.49 0.5 ]\n",
      "EPOCH 41\n"
     ]
    },
    {
     "name": "stderr",
     "output_type": "stream",
     "text": [
      "TRAINING: mean epoch loss = 0.123436: : 19it [00:00, 28.43it/s]\n",
      "VALIDATION: mean epoch loss = 0.086801: : 5it [00:00, 69.81it/s]\n",
      "TRAINING: mean epoch loss = 0.089487: : 3it [00:00, 26.85it/s]"
     ]
    },
    {
     "name": "stdout",
     "output_type": "stream",
     "text": [
      "target: [8.3 0.  8.4 0. ] <> prediction: [8.14 4.29 6.49 0.42]\n",
      "EPOCH 42\n"
     ]
    },
    {
     "name": "stderr",
     "output_type": "stream",
     "text": [
      "TRAINING: mean epoch loss = 0.125437: : 19it [00:00, 27.25it/s]\n",
      "VALIDATION: mean epoch loss = 0.111367: : 5it [00:00, 74.96it/s]\n",
      "TRAINING: mean epoch loss = 0.099324: : 3it [00:00, 28.99it/s]"
     ]
    },
    {
     "name": "stdout",
     "output_type": "stream",
     "text": [
      "target: [11.6  0.  10.4  0. ] <> prediction: [8.08 4.33 6.43 0.46]\n",
      "EPOCH 43\n"
     ]
    },
    {
     "name": "stderr",
     "output_type": "stream",
     "text": [
      "TRAINING: mean epoch loss = 0.131461: : 19it [00:00, 33.26it/s]\n",
      "VALIDATION: mean epoch loss = 0.100159: : 5it [00:00, 76.91it/s]\n",
      "TRAINING: mean epoch loss = 0.173048: : 4it [00:00, 32.87it/s]"
     ]
    },
    {
     "name": "stdout",
     "output_type": "stream",
     "text": [
      "target: [8.5 5.7 7.4 0. ] <> prediction: [8.07 4.28 6.45 0.43]\n",
      "EPOCH 44\n"
     ]
    },
    {
     "name": "stderr",
     "output_type": "stream",
     "text": [
      "TRAINING: mean epoch loss = 0.133921: : 19it [00:00, 33.66it/s]\n",
      "VALIDATION: mean epoch loss = 0.09842: : 5it [00:00, 79.48it/s]\n",
      "TRAINING: mean epoch loss = 0.16888: : 4it [00:00, 33.70it/s]"
     ]
    },
    {
     "name": "stdout",
     "output_type": "stream",
     "text": [
      "target: [8.5 5.7 7.4 0. ] <> prediction: [8.09 4.31 6.44 0.42]\n",
      "EPOCH 45\n"
     ]
    },
    {
     "name": "stderr",
     "output_type": "stream",
     "text": [
      "TRAINING: mean epoch loss = 0.130025: : 19it [00:00, 30.93it/s]\n",
      "VALIDATION: mean epoch loss = 0.104112: : 5it [00:00, 84.05it/s]\n",
      "TRAINING: mean epoch loss = 0.10589: : 3it [00:00, 29.63it/s]"
     ]
    },
    {
     "name": "stdout",
     "output_type": "stream",
     "text": [
      "target: [0.  7.7 0.  0. ] <> prediction: [8.11 4.31 6.39 0.41]\n",
      "EPOCH 46\n"
     ]
    },
    {
     "name": "stderr",
     "output_type": "stream",
     "text": [
      "TRAINING: mean epoch loss = 0.128543: : 19it [00:00, 31.84it/s]\n",
      "VALIDATION: mean epoch loss = 0.031606: : 5it [00:00, 79.45it/s]\n",
      "TRAINING: mean epoch loss = 0.218721: : 3it [00:00, 29.00it/s]"
     ]
    },
    {
     "name": "stdout",
     "output_type": "stream",
     "text": [
      "target: [7.  0.  6.2 0. ] <> prediction: [8.12 4.29 6.37 0.39]\n",
      "EPOCH 47\n"
     ]
    },
    {
     "name": "stderr",
     "output_type": "stream",
     "text": [
      "TRAINING: mean epoch loss = 0.128215: : 19it [00:00, 31.71it/s]\n",
      "VALIDATION: mean epoch loss = 0.049719: : 5it [00:00, 87.73it/s]\n",
      "TRAINING: mean epoch loss = 0.140538: : 4it [00:00, 33.12it/s]"
     ]
    },
    {
     "name": "stdout",
     "output_type": "stream",
     "text": [
      "target: [8.5 5.7 7.4 0. ] <> prediction: [8.05 4.3  6.4  0.4 ]\n",
      "EPOCH 48\n"
     ]
    },
    {
     "name": "stderr",
     "output_type": "stream",
     "text": [
      "TRAINING: mean epoch loss = 0.134002: : 19it [00:00, 32.50it/s]\n",
      "VALIDATION: mean epoch loss = 0.083844: : 5it [00:00, 90.77it/s]\n",
      "TRAINING: mean epoch loss = 0.101079: : 4it [00:00, 39.50it/s]"
     ]
    },
    {
     "name": "stdout",
     "output_type": "stream",
     "text": [
      "target: [5.7 0.  5.6 0. ] <> prediction: [8.14 4.28 6.39 0.35]\n",
      "EPOCH 49\n"
     ]
    },
    {
     "name": "stderr",
     "output_type": "stream",
     "text": [
      "TRAINING: mean epoch loss = 0.126614: : 19it [00:00, 33.72it/s]\n",
      "VALIDATION: mean epoch loss = 0.08292: : 5it [00:00, 77.00it/s]\n",
      "TRAINING: mean epoch loss = 0.130622: : 4it [00:00, 35.45it/s]"
     ]
    },
    {
     "name": "stdout",
     "output_type": "stream",
     "text": [
      "target: [8.3 0.  8.4 0. ] <> prediction: [8.06 4.34 6.38 0.4 ]\n",
      "EPOCH 50\n"
     ]
    },
    {
     "name": "stderr",
     "output_type": "stream",
     "text": [
      "TRAINING: mean epoch loss = 0.122462: : 19it [00:00, 32.44it/s]\n",
      "VALIDATION: mean epoch loss = 0.108998: : 5it [00:00, 90.19it/s]\n",
      "TRAINING: mean epoch loss = 0.120426: : 4it [00:00, 34.57it/s]"
     ]
    },
    {
     "name": "stdout",
     "output_type": "stream",
     "text": [
      "target: [0.  8.9 6.7 0. ] <> prediction: [8.   4.29 6.32 0.38]\n",
      "EPOCH 51\n"
     ]
    },
    {
     "name": "stderr",
     "output_type": "stream",
     "text": [
      "TRAINING: mean epoch loss = 0.126742: : 19it [00:00, 33.09it/s]\n",
      "VALIDATION: mean epoch loss = 0.053466: : 5it [00:00, 77.26it/s]\n",
      "TRAINING: mean epoch loss = 0.042442: : 4it [00:00, 32.92it/s]"
     ]
    },
    {
     "name": "stdout",
     "output_type": "stream",
     "text": [
      "target: [11.6  0.  10.4  0. ] <> prediction: [8.02 4.39 6.3  0.41]\n",
      "EPOCH 52\n"
     ]
    },
    {
     "name": "stderr",
     "output_type": "stream",
     "text": [
      "TRAINING: mean epoch loss = 0.135241: : 19it [00:00, 34.05it/s]\n",
      "VALIDATION: mean epoch loss = 0.063263: : 5it [00:00, 86.53it/s]\n",
      "TRAINING: mean epoch loss = 0.131133: : 3it [00:00, 29.40it/s]"
     ]
    },
    {
     "name": "stdout",
     "output_type": "stream",
     "text": [
      "target: [8.3 0.  8.4 0. ] <> prediction: [8.11 4.3  6.34 0.34]\n",
      "EPOCH 53\n"
     ]
    },
    {
     "name": "stderr",
     "output_type": "stream",
     "text": [
      "TRAINING: mean epoch loss = 0.132029: : 19it [00:00, 31.61it/s]\n",
      "VALIDATION: mean epoch loss = 0.121305: : 5it [00:00, 80.48it/s]\n",
      "TRAINING: mean epoch loss = 0.13397: : 4it [00:00, 30.25it/s]"
     ]
    },
    {
     "name": "stdout",
     "output_type": "stream",
     "text": [
      "target: [10.9  0.   0.   0. ] <> prediction: [8.04 4.37 6.25 0.38]\n",
      "EPOCH 54\n"
     ]
    },
    {
     "name": "stderr",
     "output_type": "stream",
     "text": [
      "TRAINING: mean epoch loss = 0.122749: : 19it [00:00, 31.57it/s]\n",
      "VALIDATION: mean epoch loss = 0.11852: : 5it [00:00, 72.44it/s]\n",
      "TRAINING: mean epoch loss = 0.092885: : 3it [00:00, 27.81it/s]"
     ]
    },
    {
     "name": "stdout",
     "output_type": "stream",
     "text": [
      "target: [0.  8.9 6.7 0. ] <> prediction: [8.   4.33 6.28 0.36]\n",
      "EPOCH 55\n"
     ]
    },
    {
     "name": "stderr",
     "output_type": "stream",
     "text": [
      "TRAINING: mean epoch loss = 0.133802: : 19it [00:00, 30.15it/s]\n",
      "VALIDATION: mean epoch loss = 0.101927: : 5it [00:00, 87.29it/s]\n",
      "TRAINING: mean epoch loss = 0.281966: : 4it [00:00, 32.97it/s]"
     ]
    },
    {
     "name": "stdout",
     "output_type": "stream",
     "text": [
      "target: [8.5 5.7 7.4 0. ] <> prediction: [7.99 4.37 6.27 0.37]\n",
      "EPOCH 56\n"
     ]
    },
    {
     "name": "stderr",
     "output_type": "stream",
     "text": [
      "TRAINING: mean epoch loss = 0.139669: : 19it [00:00, 32.15it/s]\n",
      "VALIDATION: mean epoch loss = 0.070647: : 5it [00:00, 79.97it/s]\n",
      "TRAINING: mean epoch loss = 0.062617: : 4it [00:00, 30.69it/s]"
     ]
    },
    {
     "name": "stdout",
     "output_type": "stream",
     "text": [
      "target: [8.3 0.  8.4 0. ] <> prediction: [8.04 4.32 6.3  0.33]\n",
      "EPOCH 57\n"
     ]
    },
    {
     "name": "stderr",
     "output_type": "stream",
     "text": [
      "TRAINING: mean epoch loss = 0.128543: : 19it [00:00, 29.16it/s]\n",
      "VALIDATION: mean epoch loss = 0.083394: : 5it [00:00, 76.76it/s]\n",
      "TRAINING: mean epoch loss = 0.096317: : 3it [00:00, 28.77it/s]"
     ]
    },
    {
     "name": "stdout",
     "output_type": "stream",
     "text": [
      "target: [10.9  0.   0.   0. ] <> prediction: [8.   4.38 6.25 0.36]\n",
      "EPOCH 58\n"
     ]
    },
    {
     "name": "stderr",
     "output_type": "stream",
     "text": [
      "TRAINING: mean epoch loss = 0.132149: : 19it [00:00, 25.16it/s]\n",
      "VALIDATION: mean epoch loss = 0.106199: : 5it [00:00, 82.69it/s]\n",
      "TRAINING: mean epoch loss = 0.116686: : 3it [00:00, 26.15it/s]"
     ]
    },
    {
     "name": "stdout",
     "output_type": "stream",
     "text": [
      "target: [11.6  0.  10.4  0. ] <> prediction: [8.   4.38 6.24 0.34]\n",
      "EPOCH 59\n"
     ]
    },
    {
     "name": "stderr",
     "output_type": "stream",
     "text": [
      "TRAINING: mean epoch loss = 0.130981: : 19it [00:00, 29.74it/s]\n",
      "VALIDATION: mean epoch loss = 0.149841: : 5it [00:00, 74.54it/s]\n",
      "TRAINING: mean epoch loss = 0.166196: : 3it [00:00, 29.00it/s]"
     ]
    },
    {
     "name": "stdout",
     "output_type": "stream",
     "text": [
      "target: [10.9  0.   0.   0. ] <> prediction: [7.99 4.44 6.24 0.35]\n",
      "EPOCH 60\n"
     ]
    },
    {
     "name": "stderr",
     "output_type": "stream",
     "text": [
      "TRAINING: mean epoch loss = 0.133975: : 19it [00:00, 28.64it/s]\n",
      "VALIDATION: mean epoch loss = 0.100458: : 5it [00:00, 84.01it/s]\n",
      "TRAINING: mean epoch loss = 0.124678: : 3it [00:00, 25.50it/s]"
     ]
    },
    {
     "name": "stdout",
     "output_type": "stream",
     "text": [
      "target: [0.  8.9 0.  0. ] <> prediction: [7.88 4.43 6.22 0.37]\n",
      "EPOCH 61\n"
     ]
    },
    {
     "name": "stderr",
     "output_type": "stream",
     "text": [
      "TRAINING: mean epoch loss = 0.133622: : 19it [00:00, 30.12it/s]\n",
      "VALIDATION: mean epoch loss = 0.067349: : 5it [00:00, 83.71it/s]\n",
      "TRAINING: mean epoch loss = 0.080049: : 3it [00:00, 29.21it/s]"
     ]
    },
    {
     "name": "stdout",
     "output_type": "stream",
     "text": [
      "target: [11.6  0.  10.4  0. ] <> prediction: [7.99 4.38 6.25 0.31]\n",
      "EPOCH 62\n"
     ]
    },
    {
     "name": "stderr",
     "output_type": "stream",
     "text": [
      "TRAINING: mean epoch loss = 0.13345: : 19it [00:00, 29.76it/s] \n",
      "VALIDATION: mean epoch loss = 0.081313: : 5it [00:00, 80.40it/s]\n",
      "TRAINING: mean epoch loss = 0.198617: : 3it [00:00, 29.09it/s]"
     ]
    },
    {
     "name": "stdout",
     "output_type": "stream",
     "text": [
      "target: [10.9  0.   0.   0. ] <> prediction: [7.91 4.43 6.18 0.34]\n",
      "EPOCH 63\n"
     ]
    },
    {
     "name": "stderr",
     "output_type": "stream",
     "text": [
      "TRAINING: mean epoch loss = 0.12793: : 19it [00:00, 30.02it/s] \n",
      "VALIDATION: mean epoch loss = 0.075262: : 5it [00:00, 69.52it/s]\n",
      "TRAINING: mean epoch loss = 0.084588: : 4it [00:00, 32.06it/s]"
     ]
    },
    {
     "name": "stdout",
     "output_type": "stream",
     "text": [
      "target: [8.2 0.  7.  0. ] <> prediction: [7.84 4.46 6.2  0.35]\n",
      "EPOCH 64\n"
     ]
    },
    {
     "name": "stderr",
     "output_type": "stream",
     "text": [
      "TRAINING: mean epoch loss = 0.131684: : 19it [00:00, 32.26it/s]\n",
      "VALIDATION: mean epoch loss = 0.140391: : 5it [00:00, 74.09it/s]\n",
      "TRAINING: mean epoch loss = 0.131962: : 3it [00:00, 29.83it/s]"
     ]
    },
    {
     "name": "stdout",
     "output_type": "stream",
     "text": [
      "target: [0.  8.9 6.7 0. ] <> prediction: [7.81 4.47 6.16 0.36]\n",
      "EPOCH 65\n"
     ]
    },
    {
     "name": "stderr",
     "output_type": "stream",
     "text": [
      "TRAINING: mean epoch loss = 0.140533: : 19it [00:00, 30.90it/s]\n",
      "VALIDATION: mean epoch loss = 0.098099: : 5it [00:00, 76.30it/s]\n",
      "TRAINING: mean epoch loss = 0.315164: : 3it [00:00, 29.36it/s]"
     ]
    },
    {
     "name": "stdout",
     "output_type": "stream",
     "text": [
      "target: [8.3 0.  8.4 0. ] <> prediction: [7.93 4.43 6.2  0.29]\n",
      "EPOCH 66\n"
     ]
    },
    {
     "name": "stderr",
     "output_type": "stream",
     "text": [
      "TRAINING: mean epoch loss = 0.138364: : 19it [00:00, 30.83it/s]\n",
      "VALIDATION: mean epoch loss = 0.070121: : 5it [00:00, 69.17it/s]\n",
      "TRAINING: mean epoch loss = 0.16803: : 3it [00:00, 29.71it/s]"
     ]
    },
    {
     "name": "stdout",
     "output_type": "stream",
     "text": [
      "target: [11.6  0.  10.4  0. ] <> prediction: [7.86 4.48 6.16 0.33]\n",
      "EPOCH 67\n"
     ]
    },
    {
     "name": "stderr",
     "output_type": "stream",
     "text": [
      "TRAINING: mean epoch loss = 0.130318: : 19it [00:00, 31.72it/s]\n",
      "VALIDATION: mean epoch loss = 0.101779: : 5it [00:00, 70.71it/s]\n",
      "TRAINING: mean epoch loss = 0.046772: : 4it [00:00, 34.28it/s]"
     ]
    },
    {
     "name": "stdout",
     "output_type": "stream",
     "text": [
      "target: [8.2 0.  7.  0. ] <> prediction: [7.9  4.4  6.2  0.28]\n",
      "EPOCH 68\n"
     ]
    },
    {
     "name": "stderr",
     "output_type": "stream",
     "text": [
      "TRAINING: mean epoch loss = 0.131638: : 19it [00:00, 31.75it/s]\n",
      "VALIDATION: mean epoch loss = 0.110626: : 5it [00:00, 89.53it/s]\n",
      "TRAINING: mean epoch loss = 0.111431: : 4it [00:00, 33.98it/s]"
     ]
    },
    {
     "name": "stdout",
     "output_type": "stream",
     "text": [
      "target: [0.  8.9 0.  0. ] <> prediction: [7.79 4.52 6.17 0.33]\n",
      "EPOCH 69\n"
     ]
    },
    {
     "name": "stderr",
     "output_type": "stream",
     "text": [
      "TRAINING: mean epoch loss = 0.130762: : 19it [00:00, 33.86it/s]\n",
      "VALIDATION: mean epoch loss = 0.085277: : 5it [00:00, 77.92it/s]\n",
      "TRAINING: mean epoch loss = 0.097381: : 4it [00:00, 36.88it/s]"
     ]
    },
    {
     "name": "stdout",
     "output_type": "stream",
     "text": [
      "target: [10.8  0.   9.   0. ] <> prediction: [7.83 4.52 6.16 0.31]\n",
      "EPOCH 70\n"
     ]
    },
    {
     "name": "stderr",
     "output_type": "stream",
     "text": [
      "TRAINING: mean epoch loss = 0.130234: : 19it [00:00, 34.54it/s]\n",
      "VALIDATION: mean epoch loss = 0.13064: : 5it [00:00, 61.45it/s]\n",
      "TRAINING: mean epoch loss = 0.288044: : 0it [00:00, ?it/s]"
     ]
    },
    {
     "name": "stdout",
     "output_type": "stream",
     "text": [
      "target: [5.  8.4 7.4 0. ] <> prediction: [7.74 4.54 6.16 0.33]\n",
      "EPOCH 71\n"
     ]
    },
    {
     "name": "stderr",
     "output_type": "stream",
     "text": [
      "TRAINING: mean epoch loss = 0.136967: : 19it [00:00, 31.90it/s]\n",
      "VALIDATION: mean epoch loss = 0.073884: : 5it [00:00, 80.39it/s]\n",
      "TRAINING: mean epoch loss = 0.105233: : 4it [00:00, 32.07it/s]"
     ]
    },
    {
     "name": "stdout",
     "output_type": "stream",
     "text": [
      "target: [10.8  0.   9.   0. ] <> prediction: [7.78 4.52 6.15 0.31]\n",
      "EPOCH 72\n"
     ]
    },
    {
     "name": "stderr",
     "output_type": "stream",
     "text": [
      "TRAINING: mean epoch loss = 0.129853: : 19it [00:00, 30.48it/s]\n",
      "VALIDATION: mean epoch loss = 0.07741: : 5it [00:00, 68.17it/s]\n",
      "TRAINING: mean epoch loss = 0.064076: : 0it [00:00, ?it/s]"
     ]
    },
    {
     "name": "stdout",
     "output_type": "stream",
     "text": [
      "target: [0.  7.2 7.4 0. ] <> prediction: [7.72 4.59 6.08 0.34]\n",
      "EPOCH 73\n"
     ]
    },
    {
     "name": "stderr",
     "output_type": "stream",
     "text": [
      "TRAINING: mean epoch loss = 0.128889: : 19it [00:00, 31.31it/s]\n",
      "VALIDATION: mean epoch loss = 0.116767: : 5it [00:00, 77.01it/s]\n",
      "TRAINING: mean epoch loss = 0.100086: : 4it [00:00, 31.03it/s]"
     ]
    },
    {
     "name": "stdout",
     "output_type": "stream",
     "text": [
      "target: [0.  7.7 0.  0. ] <> prediction: [7.71 4.59 6.09 0.33]\n",
      "EPOCH 74\n"
     ]
    },
    {
     "name": "stderr",
     "output_type": "stream",
     "text": [
      "TRAINING: mean epoch loss = 0.133264: : 19it [00:00, 29.65it/s]\n",
      "VALIDATION: mean epoch loss = 0.118672: : 5it [00:00, 68.63it/s]\n",
      "TRAINING: mean epoch loss = 0.164672: : 3it [00:00, 23.16it/s]"
     ]
    },
    {
     "name": "stdout",
     "output_type": "stream",
     "text": [
      "target: [5.9 0.  0.  0. ] <> prediction: [7.7  4.6  6.08 0.32]\n",
      "EPOCH 75\n"
     ]
    },
    {
     "name": "stderr",
     "output_type": "stream",
     "text": [
      "TRAINING: mean epoch loss = 0.136732: : 19it [00:00, 28.80it/s]\n",
      "VALIDATION: mean epoch loss = 0.049963: : 5it [00:00, 67.07it/s]\n",
      "TRAINING: mean epoch loss = 0.194101: : 0it [00:00, ?it/s]"
     ]
    },
    {
     "name": "stdout",
     "output_type": "stream",
     "text": [
      "target: [10.9  0.   0.   0. ] <> prediction: [7.74 4.55 6.07 0.28]\n",
      "EPOCH 76\n"
     ]
    },
    {
     "name": "stderr",
     "output_type": "stream",
     "text": [
      "TRAINING: mean epoch loss = 0.132435: : 19it [00:00, 30.74it/s]\n",
      "VALIDATION: mean epoch loss = 0.068846: : 5it [00:00, 80.69it/s]\n",
      "TRAINING: mean epoch loss = 0.244387: : 0it [00:00, ?it/s]"
     ]
    },
    {
     "name": "stdout",
     "output_type": "stream",
     "text": [
      "target: [0.  8.9 6.7 0. ] <> prediction: [7.58 4.64 6.12 0.35]\n",
      "EPOCH 77\n"
     ]
    },
    {
     "name": "stderr",
     "output_type": "stream",
     "text": [
      "TRAINING: mean epoch loss = 0.136617: : 19it [00:00, 31.42it/s]\n",
      "VALIDATION: mean epoch loss = 0.105741: : 5it [00:00, 88.18it/s]\n",
      "TRAINING: mean epoch loss = 0.126324: : 4it [00:00, 33.03it/s]"
     ]
    },
    {
     "name": "stdout",
     "output_type": "stream",
     "text": [
      "target: [10.6  0.   0.   0. ] <> prediction: [7.68 4.61 6.1  0.31]\n",
      "EPOCH 78\n"
     ]
    },
    {
     "name": "stderr",
     "output_type": "stream",
     "text": [
      "TRAINING: mean epoch loss = 0.126671: : 19it [00:00, 30.65it/s]\n",
      "VALIDATION: mean epoch loss = 0.083161: : 5it [00:00, 78.57it/s]\n",
      "TRAINING: mean epoch loss = 0.169034: : 3it [00:00, 29.47it/s]"
     ]
    },
    {
     "name": "stdout",
     "output_type": "stream",
     "text": [
      "target: [8.5 5.7 7.4 0. ] <> prediction: [7.66 4.6  6.11 0.29]\n",
      "EPOCH 79\n"
     ]
    },
    {
     "name": "stderr",
     "output_type": "stream",
     "text": [
      "TRAINING: mean epoch loss = 0.119286: : 19it [00:00, 30.04it/s]\n",
      "VALIDATION: mean epoch loss = 0.085211: : 5it [00:00, 67.91it/s]\n",
      "TRAINING: mean epoch loss = 0.068852: : 0it [00:00, ?it/s]"
     ]
    },
    {
     "name": "stdout",
     "output_type": "stream",
     "text": [
      "target: [0.  8.9 6.7 0. ] <> prediction: [7.51 4.69 6.07 0.36]\n",
      "EPOCH 80\n"
     ]
    },
    {
     "name": "stderr",
     "output_type": "stream",
     "text": [
      "TRAINING: mean epoch loss = 0.136161: : 19it [00:00, 29.40it/s]\n",
      "VALIDATION: mean epoch loss = 0.075327: : 5it [00:00, 75.96it/s]\n",
      "TRAINING: mean epoch loss = 0.156284: : 3it [00:00, 26.67it/s]"
     ]
    },
    {
     "name": "stdout",
     "output_type": "stream",
     "text": [
      "target: [8.5 5.7 7.4 0. ] <> prediction: [7.6  4.66 6.1  0.3 ]\n",
      "EPOCH 81\n"
     ]
    },
    {
     "name": "stderr",
     "output_type": "stream",
     "text": [
      "TRAINING: mean epoch loss = 0.125999: : 19it [00:00, 31.95it/s]\n",
      "VALIDATION: mean epoch loss = 0.133353: : 5it [00:00, 87.03it/s]\n",
      "TRAINING: mean epoch loss = 0.156106: : 4it [00:00, 34.88it/s]"
     ]
    },
    {
     "name": "stdout",
     "output_type": "stream",
     "text": [
      "target: [0.  7.7 0.  0. ] <> prediction: [7.59 4.64 6.08 0.29]\n",
      "EPOCH 82\n"
     ]
    },
    {
     "name": "stderr",
     "output_type": "stream",
     "text": [
      "TRAINING: mean epoch loss = 0.129588: : 19it [00:00, 33.30it/s]\n",
      "VALIDATION: mean epoch loss = 0.072679: : 5it [00:00, 73.35it/s]\n",
      "TRAINING: mean epoch loss = 0.1798: : 3it [00:00, 28.27it/s]"
     ]
    },
    {
     "name": "stdout",
     "output_type": "stream",
     "text": [
      "target: [10.6  0.   0.   0. ] <> prediction: [7.65 4.63 6.08 0.27]\n",
      "EPOCH 83\n"
     ]
    },
    {
     "name": "stderr",
     "output_type": "stream",
     "text": [
      "TRAINING: mean epoch loss = 0.136976: : 19it [00:00, 32.74it/s]\n",
      "VALIDATION: mean epoch loss = 0.098655: : 5it [00:00, 82.06it/s]\n",
      "TRAINING: mean epoch loss = 0.082945: : 3it [00:00, 29.76it/s]"
     ]
    },
    {
     "name": "stdout",
     "output_type": "stream",
     "text": [
      "target: [0.  8.9 0.  0. ] <> prediction: [7.54 4.67 6.1  0.29]\n",
      "EPOCH 84\n"
     ]
    },
    {
     "name": "stderr",
     "output_type": "stream",
     "text": [
      "TRAINING: mean epoch loss = 0.124855: : 19it [00:00, 32.20it/s]\n",
      "VALIDATION: mean epoch loss = 0.054946: : 5it [00:00, 76.37it/s]\n",
      "TRAINING: mean epoch loss = 0.107093: : 3it [00:00, 29.80it/s]"
     ]
    },
    {
     "name": "stdout",
     "output_type": "stream",
     "text": [
      "target: [8.3 0.  8.4 0. ] <> prediction: [7.57 4.67 6.13 0.27]\n",
      "EPOCH 85\n"
     ]
    },
    {
     "name": "stderr",
     "output_type": "stream",
     "text": [
      "TRAINING: mean epoch loss = 0.126281: : 19it [00:00, 31.56it/s]\n",
      "VALIDATION: mean epoch loss = 0.044395: : 5it [00:00, 86.34it/s]\n",
      "TRAINING: mean epoch loss = 0.117882: : 3it [00:00, 29.95it/s]"
     ]
    },
    {
     "name": "stdout",
     "output_type": "stream",
     "text": [
      "target: [8.5 5.7 7.4 0. ] <> prediction: [7.53 4.71 6.07 0.29]\n",
      "EPOCH 86\n"
     ]
    },
    {
     "name": "stderr",
     "output_type": "stream",
     "text": [
      "TRAINING: mean epoch loss = 0.13783: : 19it [00:00, 34.35it/s] \n",
      "VALIDATION: mean epoch loss = 0.050885: : 5it [00:00, 91.94it/s]\n",
      "TRAINING: mean epoch loss = 0.199413: : 4it [00:00, 35.96it/s]"
     ]
    },
    {
     "name": "stdout",
     "output_type": "stream",
     "text": [
      "target: [8.2 0.  7.  0. ] <> prediction: [7.48 4.73 6.16 0.31]\n",
      "EPOCH 87\n"
     ]
    },
    {
     "name": "stderr",
     "output_type": "stream",
     "text": [
      "TRAINING: mean epoch loss = 0.132589: : 19it [00:00, 34.19it/s]\n",
      "VALIDATION: mean epoch loss = 0.087309: : 5it [00:00, 76.63it/s]\n",
      "TRAINING: mean epoch loss = 0.089591: : 4it [00:00, 34.58it/s]"
     ]
    },
    {
     "name": "stdout",
     "output_type": "stream",
     "text": [
      "target: [10.9  0.   0.   0. ] <> prediction: [7.51 4.7  6.06 0.27]\n",
      "EPOCH 88\n"
     ]
    },
    {
     "name": "stderr",
     "output_type": "stream",
     "text": [
      "TRAINING: mean epoch loss = 0.131778: : 19it [00:00, 33.49it/s]\n",
      "VALIDATION: mean epoch loss = 0.100978: : 5it [00:00, 74.60it/s]\n",
      "TRAINING: mean epoch loss = 0.076357: : 4it [00:00, 30.93it/s]"
     ]
    },
    {
     "name": "stdout",
     "output_type": "stream",
     "text": [
      "target: [5.  8.4 7.4 0. ] <> prediction: [7.43 4.75 6.1  0.3 ]\n",
      "EPOCH 89\n"
     ]
    },
    {
     "name": "stderr",
     "output_type": "stream",
     "text": [
      "TRAINING: mean epoch loss = 0.124982: : 19it [00:00, 32.34it/s]\n",
      "VALIDATION: mean epoch loss = 0.095963: : 5it [00:00, 73.62it/s]\n",
      "TRAINING: mean epoch loss = 0.183792: : 3it [00:00, 29.42it/s]"
     ]
    },
    {
     "name": "stdout",
     "output_type": "stream",
     "text": [
      "target: [5.7 0.  5.6 0. ] <> prediction: [7.52 4.75 6.15 0.28]\n",
      "EPOCH 90\n"
     ]
    },
    {
     "name": "stderr",
     "output_type": "stream",
     "text": [
      "TRAINING: mean epoch loss = 0.12723: : 19it [00:00, 32.58it/s] \n",
      "VALIDATION: mean epoch loss = 0.095229: : 5it [00:00, 77.54it/s]\n",
      "TRAINING: mean epoch loss = 0.071623: : 3it [00:00, 29.20it/s]"
     ]
    },
    {
     "name": "stdout",
     "output_type": "stream",
     "text": [
      "target: [0.  7.7 0.  0. ] <> prediction: [7.44 4.75 6.09 0.28]\n",
      "EPOCH 91\n"
     ]
    },
    {
     "name": "stderr",
     "output_type": "stream",
     "text": [
      "TRAINING: mean epoch loss = 0.130791: : 19it [00:00, 31.15it/s]\n",
      "VALIDATION: mean epoch loss = 0.097535: : 5it [00:00, 80.99it/s]\n",
      "TRAINING: mean epoch loss = 0.081113: : 4it [00:00, 34.42it/s]"
     ]
    },
    {
     "name": "stdout",
     "output_type": "stream",
     "text": [
      "target: [5.7 0.  5.6 0. ] <> prediction: [7.34 4.74 6.15 0.28]\n",
      "EPOCH 92\n"
     ]
    },
    {
     "name": "stderr",
     "output_type": "stream",
     "text": [
      "TRAINING: mean epoch loss = 0.135258: : 19it [00:00, 33.74it/s]\n",
      "VALIDATION: mean epoch loss = 0.11648: : 5it [00:00, 80.37it/s]\n",
      "TRAINING: mean epoch loss = 0.149313: : 0it [00:00, ?it/s]"
     ]
    },
    {
     "name": "stdout",
     "output_type": "stream",
     "text": [
      "target: [8.2 0.  7.  0. ] <> prediction: [7.35 4.84 6.09 0.32]\n",
      "EPOCH 93\n"
     ]
    },
    {
     "name": "stderr",
     "output_type": "stream",
     "text": [
      "TRAINING: mean epoch loss = 0.128659: : 19it [00:00, 33.45it/s]\n",
      "VALIDATION: mean epoch loss = 0.107055: : 5it [00:00, 75.87it/s]\n",
      "TRAINING: mean epoch loss = 0.080166: : 4it [00:00, 33.54it/s]"
     ]
    },
    {
     "name": "stdout",
     "output_type": "stream",
     "text": [
      "target: [8.5 5.7 7.4 0. ] <> prediction: [7.36 4.81 6.12 0.3 ]\n",
      "EPOCH 94\n"
     ]
    },
    {
     "name": "stderr",
     "output_type": "stream",
     "text": [
      "TRAINING: mean epoch loss = 0.129115: : 19it [00:00, 31.14it/s]\n",
      "VALIDATION: mean epoch loss = 0.064848: : 5it [00:00, 85.59it/s]\n",
      "TRAINING: mean epoch loss = 0.122852: : 4it [00:00, 36.66it/s]"
     ]
    },
    {
     "name": "stdout",
     "output_type": "stream",
     "text": [
      "target: [8.5 5.7 7.4 0. ] <> prediction: [7.37 4.77 6.12 0.27]\n",
      "EPOCH 95\n"
     ]
    },
    {
     "name": "stderr",
     "output_type": "stream",
     "text": [
      "TRAINING: mean epoch loss = 0.132491: : 19it [00:00, 33.19it/s]\n",
      "VALIDATION: mean epoch loss = 0.050941: : 5it [00:00, 87.94it/s]\n",
      "TRAINING: mean epoch loss = 0.132338: : 4it [00:00, 33.05it/s]"
     ]
    },
    {
     "name": "stdout",
     "output_type": "stream",
     "text": [
      "target: [5.7 0.  5.6 0. ] <> prediction: [7.39 4.84 6.14 0.27]\n",
      "EPOCH 96\n"
     ]
    },
    {
     "name": "stderr",
     "output_type": "stream",
     "text": [
      "TRAINING: mean epoch loss = 0.131184: : 19it [00:00, 34.35it/s]\n",
      "VALIDATION: mean epoch loss = 0.114409: : 5it [00:00, 76.35it/s]\n",
      "TRAINING: mean epoch loss = 0.099105: : 4it [00:00, 34.12it/s]"
     ]
    },
    {
     "name": "stdout",
     "output_type": "stream",
     "text": [
      "target: [10.9  0.   0.   0. ] <> prediction: [7.38 4.79 6.11 0.27]\n",
      "EPOCH 97\n"
     ]
    },
    {
     "name": "stderr",
     "output_type": "stream",
     "text": [
      "TRAINING: mean epoch loss = 0.128049: : 19it [00:00, 29.14it/s]\n",
      "VALIDATION: mean epoch loss = 0.053504: : 5it [00:00, 71.08it/s]\n",
      "TRAINING: mean epoch loss = 0.229313: : 0it [00:00, ?it/s]"
     ]
    },
    {
     "name": "stdout",
     "output_type": "stream",
     "text": [
      "target: [10.9  0.   0.   0. ] <> prediction: [7.33 4.9  6.09 0.3 ]\n",
      "EPOCH 98\n"
     ]
    },
    {
     "name": "stderr",
     "output_type": "stream",
     "text": [
      "TRAINING: mean epoch loss = 0.132679: : 19it [00:00, 28.98it/s]\n",
      "VALIDATION: mean epoch loss = 0.115964: : 5it [00:00, 66.13it/s]\n",
      "TRAINING: mean epoch loss = 0.126747: : 0it [00:00, ?it/s]"
     ]
    },
    {
     "name": "stdout",
     "output_type": "stream",
     "text": [
      "target: [5.  8.4 7.4 0. ] <> prediction: [7.22 4.89 6.12 0.32]\n",
      "EPOCH 99\n"
     ]
    },
    {
     "name": "stderr",
     "output_type": "stream",
     "text": [
      "TRAINING: mean epoch loss = 0.124066: : 19it [00:00, 29.31it/s]\n",
      "VALIDATION: mean epoch loss = 0.07582: : 5it [00:00, 71.61it/s]\n",
      "TRAINING: mean epoch loss = 0.06746: : 0it [00:00, ?it/s]"
     ]
    },
    {
     "name": "stdout",
     "output_type": "stream",
     "text": [
      "target: [5.7 0.  5.6 0. ] <> prediction: [7.39 4.71 6.24 0.2 ]\n",
      "EPOCH 100\n"
     ]
    },
    {
     "name": "stderr",
     "output_type": "stream",
     "text": [
      "TRAINING: mean epoch loss = 0.118594: : 19it [00:00, 29.72it/s]\n",
      "VALIDATION: mean epoch loss = 0.05279: : 5it [00:00, 60.95it/s]\n",
      "TRAINING: mean epoch loss = 0.211497: : 0it [00:00, ?it/s]"
     ]
    },
    {
     "name": "stdout",
     "output_type": "stream",
     "text": [
      "target: [8.5 5.7 7.4 0. ] <> prediction: [7.25 4.84 6.16 0.27]\n",
      "EPOCH 101\n"
     ]
    },
    {
     "name": "stderr",
     "output_type": "stream",
     "text": [
      "TRAINING: mean epoch loss = 0.134746: : 19it [00:00, 29.42it/s]\n",
      "VALIDATION: mean epoch loss = 0.098358: : 5it [00:00, 82.31it/s]\n",
      "TRAINING: mean epoch loss = 0.079362: : 0it [00:00, ?it/s]"
     ]
    },
    {
     "name": "stdout",
     "output_type": "stream",
     "text": [
      "target: [0.  8.9 6.7 0. ] <> prediction: [7.24 4.81 6.15 0.25]\n",
      "EPOCH 102\n"
     ]
    },
    {
     "name": "stderr",
     "output_type": "stream",
     "text": [
      "TRAINING: mean epoch loss = 0.136048: : 19it [00:00, 27.48it/s]\n",
      "VALIDATION: mean epoch loss = 0.08613: : 5it [00:00, 79.58it/s]\n",
      "TRAINING: mean epoch loss = 0.146482: : 4it [00:00, 32.61it/s]"
     ]
    },
    {
     "name": "stdout",
     "output_type": "stream",
     "text": [
      "target: [0.  7.7 0.  0. ] <> prediction: [7.23 4.9  6.12 0.28]\n",
      "EPOCH 103\n"
     ]
    },
    {
     "name": "stderr",
     "output_type": "stream",
     "text": [
      "TRAINING: mean epoch loss = 0.126432: : 19it [00:00, 30.64it/s]\n",
      "VALIDATION: mean epoch loss = 0.058418: : 5it [00:00, 87.40it/s]\n",
      "TRAINING: mean epoch loss = 0.148994: : 4it [00:00, 36.12it/s]"
     ]
    },
    {
     "name": "stdout",
     "output_type": "stream",
     "text": [
      "target: [5.  8.4 7.4 0. ] <> prediction: [7.18 4.95 6.12 0.32]\n",
      "EPOCH 104\n"
     ]
    },
    {
     "name": "stderr",
     "output_type": "stream",
     "text": [
      "TRAINING: mean epoch loss = 0.131799: : 19it [00:00, 32.89it/s]\n",
      "VALIDATION: mean epoch loss = 0.03922: : 5it [00:00, 87.83it/s]\n",
      "TRAINING: mean epoch loss = 0.070854: : 4it [00:00, 30.85it/s]"
     ]
    },
    {
     "name": "stdout",
     "output_type": "stream",
     "text": [
      "target: [10.8  0.   9.   0. ] <> prediction: [7.28 4.81 6.2  0.22]\n",
      "EPOCH 105\n"
     ]
    },
    {
     "name": "stderr",
     "output_type": "stream",
     "text": [
      "TRAINING: mean epoch loss = 0.124944: : 19it [00:00, 32.87it/s]\n",
      "VALIDATION: mean epoch loss = 0.132947: : 5it [00:00, 79.13it/s]\n",
      "TRAINING: mean epoch loss = 0.148139: : 3it [00:00, 29.49it/s]"
     ]
    },
    {
     "name": "stdout",
     "output_type": "stream",
     "text": [
      "target: [10.6  0.   0.   0. ] <> prediction: [7.25 4.84 6.17 0.24]\n",
      "EPOCH 106\n"
     ]
    },
    {
     "name": "stderr",
     "output_type": "stream",
     "text": [
      "TRAINING: mean epoch loss = 0.134104: : 19it [00:00, 31.15it/s]\n",
      "VALIDATION: mean epoch loss = 0.139707: : 5it [00:00, 82.15it/s]\n",
      "TRAINING: mean epoch loss = 0.108597: : 4it [00:00, 30.90it/s]"
     ]
    },
    {
     "name": "stdout",
     "output_type": "stream",
     "text": [
      "target: [0.  8.9 6.7 0. ] <> prediction: [7.12 4.93 6.18 0.3 ]\n",
      "EPOCH 107\n"
     ]
    },
    {
     "name": "stderr",
     "output_type": "stream",
     "text": [
      "TRAINING: mean epoch loss = 0.129616: : 19it [00:00, 33.43it/s]\n",
      "VALIDATION: mean epoch loss = 0.084477: : 5it [00:00, 90.87it/s]\n",
      "TRAINING: mean epoch loss = 0.155195: : 4it [00:00, 35.61it/s]"
     ]
    },
    {
     "name": "stdout",
     "output_type": "stream",
     "text": [
      "target: [10.9  0.   0.   0. ] <> prediction: [7.2  4.87 6.14 0.25]\n",
      "EPOCH 108\n"
     ]
    },
    {
     "name": "stderr",
     "output_type": "stream",
     "text": [
      "TRAINING: mean epoch loss = 0.13297: : 19it [00:00, 34.54it/s] \n",
      "VALIDATION: mean epoch loss = 0.072231: : 5it [00:00, 81.85it/s]\n",
      "TRAINING: mean epoch loss = 0.073088: : 3it [00:00, 26.92it/s]"
     ]
    },
    {
     "name": "stdout",
     "output_type": "stream",
     "text": [
      "target: [8.2 0.  7.  0. ] <> prediction: [7.16 4.9  6.22 0.26]\n",
      "EPOCH 109\n"
     ]
    },
    {
     "name": "stderr",
     "output_type": "stream",
     "text": [
      "TRAINING: mean epoch loss = 0.122043: : 19it [00:00, 32.71it/s]\n",
      "VALIDATION: mean epoch loss = 0.077846: : 5it [00:00, 86.62it/s]\n",
      "TRAINING: mean epoch loss = 0.108101: : 4it [00:00, 34.11it/s]"
     ]
    },
    {
     "name": "stdout",
     "output_type": "stream",
     "text": [
      "target: [8.2 0.  7.  0. ] <> prediction: [7.16 4.84 6.25 0.23]\n",
      "EPOCH 110\n"
     ]
    },
    {
     "name": "stderr",
     "output_type": "stream",
     "text": [
      "TRAINING: mean epoch loss = 0.130844: : 19it [00:00, 33.48it/s]\n",
      "VALIDATION: mean epoch loss = 0.106868: : 5it [00:00, 83.37it/s]\n",
      "TRAINING: mean epoch loss = 0.279091: : 4it [00:00, 37.96it/s]"
     ]
    },
    {
     "name": "stdout",
     "output_type": "stream",
     "text": [
      "target: [0.  7.7 0.  0. ] <> prediction: [7.08 4.92 6.21 0.27]\n",
      "EPOCH 111\n"
     ]
    },
    {
     "name": "stderr",
     "output_type": "stream",
     "text": [
      "TRAINING: mean epoch loss = 0.139386: : 19it [00:00, 34.25it/s]\n",
      "VALIDATION: mean epoch loss = 0.071523: : 5it [00:00, 83.70it/s]\n",
      "TRAINING: mean epoch loss = 0.138813: : 4it [00:00, 32.60it/s]"
     ]
    },
    {
     "name": "stdout",
     "output_type": "stream",
     "text": [
      "target: [8.5 5.7 7.4 0. ] <> prediction: [7.09 4.96 6.22 0.29]\n",
      "EPOCH 112\n"
     ]
    },
    {
     "name": "stderr",
     "output_type": "stream",
     "text": [
      "TRAINING: mean epoch loss = 0.132267: : 19it [00:00, 34.37it/s]\n",
      "VALIDATION: mean epoch loss = 0.110072: : 5it [00:00, 85.69it/s]\n",
      "TRAINING: mean epoch loss = 0.176658: : 0it [00:00, ?it/s]"
     ]
    },
    {
     "name": "stdout",
     "output_type": "stream",
     "text": [
      "target: [0.  8.9 0.  0. ] <> prediction: [7.1  4.94 6.22 0.27]\n",
      "EPOCH 113\n"
     ]
    },
    {
     "name": "stderr",
     "output_type": "stream",
     "text": [
      "TRAINING: mean epoch loss = 0.122328: : 19it [00:00, 31.72it/s]\n",
      "VALIDATION: mean epoch loss = 0.134224: : 5it [00:00, 90.40it/s]\n",
      "TRAINING: mean epoch loss = 0.089105: : 3it [00:00, 28.04it/s]"
     ]
    },
    {
     "name": "stdout",
     "output_type": "stream",
     "text": [
      "target: [0.  8.9 0.  0. ] <> prediction: [7.14 4.86 6.23 0.22]\n",
      "EPOCH 114\n"
     ]
    },
    {
     "name": "stderr",
     "output_type": "stream",
     "text": [
      "TRAINING: mean epoch loss = 0.134392: : 19it [00:00, 28.24it/s]\n",
      "VALIDATION: mean epoch loss = 0.113618: : 5it [00:00, 71.83it/s]\n",
      "TRAINING: mean epoch loss = 0.080037: : 0it [00:00, ?it/s]"
     ]
    },
    {
     "name": "stdout",
     "output_type": "stream",
     "text": [
      "target: [0.  7.2 7.4 0. ] <> prediction: [7.16 4.92 6.21 0.24]\n",
      "EPOCH 115\n"
     ]
    },
    {
     "name": "stderr",
     "output_type": "stream",
     "text": [
      "TRAINING: mean epoch loss = 0.130649: : 19it [00:00, 31.07it/s]\n",
      "VALIDATION: mean epoch loss = 0.067322: : 5it [00:00, 80.49it/s]\n",
      "TRAINING: mean epoch loss = 0.069847: : 0it [00:00, ?it/s]"
     ]
    },
    {
     "name": "stdout",
     "output_type": "stream",
     "text": [
      "target: [5.  8.4 7.4 0. ] <> prediction: [7.03 5.01 6.24 0.31]\n",
      "EPOCH 116\n"
     ]
    },
    {
     "name": "stderr",
     "output_type": "stream",
     "text": [
      "TRAINING: mean epoch loss = 0.124117: : 19it [00:00, 30.67it/s]\n",
      "VALIDATION: mean epoch loss = 0.074936: : 5it [00:00, 76.93it/s]\n",
      "TRAINING: mean epoch loss = 0.100123: : 3it [00:00, 28.98it/s]"
     ]
    },
    {
     "name": "stdout",
     "output_type": "stream",
     "text": [
      "target: [8.2 0.  7.  0. ] <> prediction: [7.07 4.89 6.28 0.23]\n",
      "EPOCH 117\n"
     ]
    },
    {
     "name": "stderr",
     "output_type": "stream",
     "text": [
      "TRAINING: mean epoch loss = 0.13337: : 19it [00:00, 28.97it/s] \n",
      "VALIDATION: mean epoch loss = 0.112521: : 5it [00:00, 79.74it/s]\n",
      "TRAINING: mean epoch loss = 0.130593: : 3it [00:00, 27.96it/s]"
     ]
    },
    {
     "name": "stdout",
     "output_type": "stream",
     "text": [
      "target: [8.3 0.  8.4 0. ] <> prediction: [7.13 4.89 6.29 0.21]\n",
      "EPOCH 118\n"
     ]
    },
    {
     "name": "stderr",
     "output_type": "stream",
     "text": [
      "TRAINING: mean epoch loss = 0.126105: : 19it [00:00, 30.72it/s]\n",
      "VALIDATION: mean epoch loss = 0.049491: : 5it [00:00, 71.06it/s]\n",
      "TRAINING: mean epoch loss = 0.168477: : 3it [00:00, 29.67it/s]"
     ]
    },
    {
     "name": "stdout",
     "output_type": "stream",
     "text": [
      "target: [8.5 5.7 7.4 0. ] <> prediction: [7.09 4.9  6.28 0.23]\n",
      "EPOCH 119\n"
     ]
    },
    {
     "name": "stderr",
     "output_type": "stream",
     "text": [
      "TRAINING: mean epoch loss = 0.130846: : 19it [00:00, 29.43it/s]\n",
      "VALIDATION: mean epoch loss = 0.09854: : 5it [00:00, 70.12it/s]\n",
      "TRAINING: mean epoch loss = 0.093569: : 3it [00:00, 26.87it/s]"
     ]
    },
    {
     "name": "stdout",
     "output_type": "stream",
     "text": [
      "target: [5.7 0.  5.6 0. ] <> prediction: [6.93 4.98 6.32 0.29]\n",
      "EPOCH 120\n"
     ]
    },
    {
     "name": "stderr",
     "output_type": "stream",
     "text": [
      "TRAINING: mean epoch loss = 0.136168: : 19it [00:00, 28.38it/s]\n",
      "VALIDATION: mean epoch loss = 0.067004: : 5it [00:00, 77.67it/s]\n",
      "TRAINING: mean epoch loss = 0.084873: : 3it [00:00, 26.63it/s]"
     ]
    },
    {
     "name": "stdout",
     "output_type": "stream",
     "text": [
      "target: [8.5 5.7 7.4 0. ] <> prediction: [7.04 4.92 6.33 0.23]\n",
      "EPOCH 121\n"
     ]
    },
    {
     "name": "stderr",
     "output_type": "stream",
     "text": [
      "TRAINING: mean epoch loss = 0.129122: : 19it [00:00, 29.65it/s]\n",
      "VALIDATION: mean epoch loss = 0.138047: : 5it [00:00, 72.63it/s]\n",
      "TRAINING: mean epoch loss = 0.089847: : 3it [00:00, 28.47it/s]"
     ]
    },
    {
     "name": "stdout",
     "output_type": "stream",
     "text": [
      "target: [10.9  0.   0.   0. ] <> prediction: [7.04 5.01 6.34 0.28]\n",
      "EPOCH 122\n"
     ]
    },
    {
     "name": "stderr",
     "output_type": "stream",
     "text": [
      "TRAINING: mean epoch loss = 0.135881: : 19it [00:00, 27.93it/s]\n",
      "VALIDATION: mean epoch loss = 0.086918: : 5it [00:00, 71.48it/s]\n",
      "TRAINING: mean epoch loss = 0.198685: : 3it [00:00, 27.78it/s]"
     ]
    },
    {
     "name": "stdout",
     "output_type": "stream",
     "text": [
      "target: [0.  7.2 7.4 0. ] <> prediction: [7.08 4.89 6.29 0.21]\n",
      "EPOCH 123\n"
     ]
    },
    {
     "name": "stderr",
     "output_type": "stream",
     "text": [
      "TRAINING: mean epoch loss = 0.128261: : 19it [00:00, 29.58it/s]\n",
      "VALIDATION: mean epoch loss = 0.034368: : 5it [00:00, 78.26it/s]\n",
      "TRAINING: mean epoch loss = 0.135137: : 3it [00:00, 27.46it/s]"
     ]
    },
    {
     "name": "stdout",
     "output_type": "stream",
     "text": [
      "target: [8.3 0.  8.4 0. ] <> prediction: [7.02 4.95 6.33 0.24]\n",
      "EPOCH 124\n"
     ]
    },
    {
     "name": "stderr",
     "output_type": "stream",
     "text": [
      "TRAINING: mean epoch loss = 0.122423: : 19it [00:00, 29.29it/s]\n",
      "VALIDATION: mean epoch loss = 0.092098: : 5it [00:00, 77.35it/s]\n",
      "TRAINING: mean epoch loss = 0.097156: : 4it [00:00, 31.87it/s]"
     ]
    },
    {
     "name": "stdout",
     "output_type": "stream",
     "text": [
      "target: [10.6  0.   0.   0. ] <> prediction: [7.   4.97 6.34 0.25]\n",
      "EPOCH 125\n"
     ]
    },
    {
     "name": "stderr",
     "output_type": "stream",
     "text": [
      "TRAINING: mean epoch loss = 0.093305: : 7it [00:00, 25.67it/s]\n"
     ]
    },
    {
     "ename": "KeyboardInterrupt",
     "evalue": "",
     "output_type": "error",
     "traceback": [
      "\u001b[1;31m---------------------------------------------------------------------------\u001b[0m",
      "\u001b[1;31mKeyboardInterrupt\u001b[0m                         Traceback (most recent call last)",
      "\u001b[1;32mC:\\Users\\FLURIN~1\\AppData\\Local\\Temp/ipykernel_7108/517586052.py\u001b[0m in \u001b[0;36m<module>\u001b[1;34m\u001b[0m\n\u001b[0;32m     15\u001b[0m         \u001b[0mtarget\u001b[0m \u001b[1;33m=\u001b[0m \u001b[0mtarget\u001b[0m\u001b[1;33m.\u001b[0m\u001b[0mreshape\u001b[0m\u001b[1;33m(\u001b[0m\u001b[1;33m-\u001b[0m\u001b[1;36m1\u001b[0m\u001b[1;33m,\u001b[0m \u001b[0mn_outputs\u001b[0m\u001b[1;33m)\u001b[0m\u001b[1;33m\u001b[0m\u001b[1;33m\u001b[0m\u001b[0m\n\u001b[0;32m     16\u001b[0m         \u001b[0mloss\u001b[0m \u001b[1;33m=\u001b[0m \u001b[0mcriterion\u001b[0m\u001b[1;33m(\u001b[0m\u001b[0mpred\u001b[0m\u001b[1;33m,\u001b[0m \u001b[0mtarget\u001b[0m\u001b[1;33m)\u001b[0m\u001b[1;33m\u001b[0m\u001b[1;33m\u001b[0m\u001b[0m\n\u001b[1;32m---> 17\u001b[1;33m         \u001b[0mloss\u001b[0m\u001b[1;33m.\u001b[0m\u001b[0mbackward\u001b[0m\u001b[1;33m(\u001b[0m\u001b[1;33m)\u001b[0m\u001b[1;33m\u001b[0m\u001b[1;33m\u001b[0m\u001b[0m\n\u001b[0m\u001b[0;32m     18\u001b[0m         \u001b[0moptimizer\u001b[0m\u001b[1;33m.\u001b[0m\u001b[0mstep\u001b[0m\u001b[1;33m(\u001b[0m\u001b[1;33m)\u001b[0m\u001b[1;33m\u001b[0m\u001b[1;33m\u001b[0m\u001b[0m\n\u001b[0;32m     19\u001b[0m         \u001b[0mtraining_loss\u001b[0m \u001b[1;33m=\u001b[0m \u001b[1;33m(\u001b[0m\u001b[0mtraining_loss\u001b[0m \u001b[1;33m*\u001b[0m \u001b[0mb\u001b[0m \u001b[1;33m+\u001b[0m \u001b[0mloss\u001b[0m\u001b[1;33m)\u001b[0m \u001b[1;33m/\u001b[0m \u001b[1;33m(\u001b[0m\u001b[0mb\u001b[0m \u001b[1;33m+\u001b[0m \u001b[1;36m1\u001b[0m\u001b[1;33m)\u001b[0m\u001b[1;33m\u001b[0m\u001b[1;33m\u001b[0m\u001b[0m\n",
      "\u001b[1;32m~\\Anaconda3\\envs\\mt\\lib\\site-packages\\torch\\_tensor.py\u001b[0m in \u001b[0;36mbackward\u001b[1;34m(self, gradient, retain_graph, create_graph, inputs)\u001b[0m\n\u001b[0;32m    253\u001b[0m                 \u001b[0mcreate_graph\u001b[0m\u001b[1;33m=\u001b[0m\u001b[0mcreate_graph\u001b[0m\u001b[1;33m,\u001b[0m\u001b[1;33m\u001b[0m\u001b[1;33m\u001b[0m\u001b[0m\n\u001b[0;32m    254\u001b[0m                 inputs=inputs)\n\u001b[1;32m--> 255\u001b[1;33m         \u001b[0mtorch\u001b[0m\u001b[1;33m.\u001b[0m\u001b[0mautograd\u001b[0m\u001b[1;33m.\u001b[0m\u001b[0mbackward\u001b[0m\u001b[1;33m(\u001b[0m\u001b[0mself\u001b[0m\u001b[1;33m,\u001b[0m \u001b[0mgradient\u001b[0m\u001b[1;33m,\u001b[0m \u001b[0mretain_graph\u001b[0m\u001b[1;33m,\u001b[0m \u001b[0mcreate_graph\u001b[0m\u001b[1;33m,\u001b[0m \u001b[0minputs\u001b[0m\u001b[1;33m=\u001b[0m\u001b[0minputs\u001b[0m\u001b[1;33m)\u001b[0m\u001b[1;33m\u001b[0m\u001b[1;33m\u001b[0m\u001b[0m\n\u001b[0m\u001b[0;32m    256\u001b[0m \u001b[1;33m\u001b[0m\u001b[0m\n\u001b[0;32m    257\u001b[0m     \u001b[1;32mdef\u001b[0m \u001b[0mregister_hook\u001b[0m\u001b[1;33m(\u001b[0m\u001b[0mself\u001b[0m\u001b[1;33m,\u001b[0m \u001b[0mhook\u001b[0m\u001b[1;33m)\u001b[0m\u001b[1;33m:\u001b[0m\u001b[1;33m\u001b[0m\u001b[1;33m\u001b[0m\u001b[0m\n",
      "\u001b[1;32m~\\Anaconda3\\envs\\mt\\lib\\site-packages\\torch\\autograd\\__init__.py\u001b[0m in \u001b[0;36mbackward\u001b[1;34m(tensors, grad_tensors, retain_graph, create_graph, grad_variables, inputs)\u001b[0m\n\u001b[0;32m    145\u001b[0m         \u001b[0mretain_graph\u001b[0m \u001b[1;33m=\u001b[0m \u001b[0mcreate_graph\u001b[0m\u001b[1;33m\u001b[0m\u001b[1;33m\u001b[0m\u001b[0m\n\u001b[0;32m    146\u001b[0m \u001b[1;33m\u001b[0m\u001b[0m\n\u001b[1;32m--> 147\u001b[1;33m     Variable._execution_engine.run_backward(\n\u001b[0m\u001b[0;32m    148\u001b[0m         \u001b[0mtensors\u001b[0m\u001b[1;33m,\u001b[0m \u001b[0mgrad_tensors_\u001b[0m\u001b[1;33m,\u001b[0m \u001b[0mretain_graph\u001b[0m\u001b[1;33m,\u001b[0m \u001b[0mcreate_graph\u001b[0m\u001b[1;33m,\u001b[0m \u001b[0minputs\u001b[0m\u001b[1;33m,\u001b[0m\u001b[1;33m\u001b[0m\u001b[1;33m\u001b[0m\u001b[0m\n\u001b[0;32m    149\u001b[0m         allow_unreachable=True, accumulate_grad=True)  # allow_unreachable flag\n",
      "\u001b[1;31mKeyboardInterrupt\u001b[0m: "
     ]
    }
   ],
   "source": [
    "criterion = torch.nn.MSELoss()\n",
    "optimizer = torch.optim.Adam(h5n.parameters(), lr=0.000001)\n",
    "n_epochs = 1000\n",
    "\n",
    "\n",
    "for e in range(n_epochs):\n",
    "    print(\"EPOCH\", e)\n",
    "    training_loss = 0\n",
    "    t_bar = tqdm(enumerate(train_loader), desc='TRAINING')\n",
    "    for b,  batch in t_bar:\n",
    "        batch.z = batch.x\n",
    "        # batch.to('cuda')\n",
    "        pred = h5n(batch)\n",
    "        target = batch.y / 10  # very crude normalization! (should substract upper & lower limit etc)\n",
    "        target = target.reshape(-1, n_outputs)\n",
    "        loss = criterion(pred, target)\n",
    "        loss.backward()\n",
    "        optimizer.step()\n",
    "        training_loss = (training_loss * b + loss) / (b + 1)\n",
    "        if b % 5 == 0:\n",
    "            \"\"\"print(\"target: {} <> prediction: {}\".format(np.round_(target[0].cpu().detach().numpy(), 3), \n",
    "                                                        np.round_(pred[0].cpu().detach().numpy(), 3)))\"\"\"\n",
    "            t_bar.set_description('TRAINING: mean epoch loss = '+str(round(float(training_loss), 6)))\n",
    "    \n",
    "    with torch.no_grad():\n",
    "        validation_loss = 0\n",
    "        t_bar = tqdm(enumerate(validation_loader), desc='VALIDATION')\n",
    "        for b,  batch in t_bar:\n",
    "            batch.z = batch.x\n",
    "            #batch.to('cuda')\n",
    "            pred = h5n(batch)\n",
    "            target = batch.y / 12\n",
    "            target = target.reshape(-1, n_outputs)\n",
    "            loss = criterion(pred, target)\n",
    "            validation_loss = (validation_loss * b + loss) / (b + 1)\n",
    "            if b % 5 == 0:\n",
    "                t_bar.set_description('VALIDATION: mean epoch loss = '+str(round(float(validation_loss), 6)))\n",
    "            if b % 5 == 0:\n",
    "                target_ = np.round_(target[0].cpu().detach().numpy() * 12, 2)\n",
    "                pred_ = np.round_(pred[0].cpu().detach().numpy() * 12, 2)\n",
    "                print(\"target: {} <> prediction: {}\".format(target_, \n",
    "                                                            pred_))"
   ]
  },
  {
   "cell_type": "code",
   "execution_count": 320,
   "id": "bc7b7b13",
   "metadata": {},
   "outputs": [],
   "source": [
    "def analyse_single_residue_variation(model, sample):\n",
    "    aas = [x for x in range(20)]\n",
    "    with torch.no_grad():\n",
    "        sample.z = sample.x\n",
    "        residues = [int(x) for x in list(sample.x)]\n",
    "        columns = [[str(x)+'_gs', str(x)+'_gi/o', str(x)+'_gq/11', str(x)+'_g12/13'] for x in residues]\n",
    "        cols = [item for sublist in columns for item in sublist]\n",
    "        df = pd.DataFrame(columns=cols, index=aas)\n",
    "        affinities = list(model(sample)[0].numpy()*12)\n",
    "        print(residues)\n",
    "        for r, res in enumerate(residues):\n",
    "            for i, aa in enumerate(aas):\n",
    "                if res == aa:\n",
    "                    for a, aff in enumerate(affinities):\n",
    "                        df.at[aa, cols[r*4+a]] = aff\n",
    "                else:\n",
    "                    sample_ = sample\n",
    "                    sample_.z[r] = aa\n",
    "                    affinities_ = list(model(sample_)[0].numpy()*12)\n",
    "                    for a, aff in enumerate(affinities_):\n",
    "                        df.at[aa, cols[r*4+a]] = aff\n",
    "    return df"
   ]
  },
  {
   "cell_type": "code",
   "execution_count": 321,
   "id": "46fcde08",
   "metadata": {},
   "outputs": [],
   "source": [
    "batch_size  = 1\n",
    "\n",
    "# Creating data indices for training and validation splits\n",
    "dataset_size = len(gp)\n",
    "\n",
    "analyse_loader = DataLoader(gp, batch_size=batch_size, shuffle=True)"
   ]
  },
  {
   "cell_type": "code",
   "execution_count": 322,
   "id": "442b4351",
   "metadata": {},
   "outputs": [],
   "source": [
    "sample = next(iter(analyse_loader))"
   ]
  },
  {
   "cell_type": "code",
   "execution_count": 323,
   "id": "34c0821b",
   "metadata": {},
   "outputs": [
    {
     "name": "stdout",
     "output_type": "stream",
     "text": [
      "[11, 17, 9, 17, 1, 18, 0, 17, 18, 9, 13, 11, 17, 16, 11, 19, 4, 17, 17, 15, 9, 0, 0, 0, 11, 7, 15, 15, 9, 0, 7, 2, 5, 0, 8, 7, 12, 4, 19, 0]\n"
     ]
    }
   ],
   "source": [
    "df = analyse_single_residue_variation(h5n, sample)"
   ]
  },
  {
   "cell_type": "code",
   "execution_count": 324,
   "id": "0601e82c",
   "metadata": {},
   "outputs": [
    {
     "data": {
      "text/plain": [
       "37"
      ]
     },
     "execution_count": 324,
     "metadata": {},
     "output_type": "execute_result"
    }
   ],
   "source": [
    "len([17, 17, 9, 16, 17, 5, 11, 9, 19, 7, 17, 15, 9, 15, 17, 15, 15, 17, 4, 7, 9, 1, 7, 2, 14, 7, 7, 11, 12, 9, 7, 19, 12, 9, 1, 11, 3])"
   ]
  },
  {
   "cell_type": "code",
   "execution_count": 325,
   "id": "6ee2cb09",
   "metadata": {},
   "outputs": [],
   "source": [
    "gs_cols = [x for x in list(df.columns) if 's' in x]"
   ]
  },
  {
   "cell_type": "code",
   "execution_count": 328,
   "id": "230533c9",
   "metadata": {},
   "outputs": [
    {
     "data": {
      "text/plain": [
       "0.03853908775188973"
      ]
     },
     "execution_count": 328,
     "metadata": {},
     "output_type": "execute_result"
    }
   ],
   "source": [
    "df.T.std(axis=1).max()"
   ]
  },
  {
   "cell_type": "code",
   "execution_count": 330,
   "id": "0996c095",
   "metadata": {},
   "outputs": [
    {
     "data": {
      "text/html": [
       "<div>\n",
       "<style scoped>\n",
       "    .dataframe tbody tr th:only-of-type {\n",
       "        vertical-align: middle;\n",
       "    }\n",
       "\n",
       "    .dataframe tbody tr th {\n",
       "        vertical-align: top;\n",
       "    }\n",
       "\n",
       "    .dataframe thead th {\n",
       "        text-align: right;\n",
       "    }\n",
       "</style>\n",
       "<table border=\"1\" class=\"dataframe\">\n",
       "  <thead>\n",
       "    <tr style=\"text-align: right;\">\n",
       "      <th></th>\n",
       "      <th>2_gi/o</th>\n",
       "    </tr>\n",
       "  </thead>\n",
       "  <tbody>\n",
       "    <tr>\n",
       "      <th>0</th>\n",
       "      <td>5.010034</td>\n",
       "    </tr>\n",
       "    <tr>\n",
       "      <th>1</th>\n",
       "      <td>5.053737</td>\n",
       "    </tr>\n",
       "    <tr>\n",
       "      <th>2</th>\n",
       "      <td>4.929415</td>\n",
       "    </tr>\n",
       "    <tr>\n",
       "      <th>3</th>\n",
       "      <td>4.958961</td>\n",
       "    </tr>\n",
       "    <tr>\n",
       "      <th>4</th>\n",
       "      <td>4.976821</td>\n",
       "    </tr>\n",
       "    <tr>\n",
       "      <th>5</th>\n",
       "      <td>4.984027</td>\n",
       "    </tr>\n",
       "    <tr>\n",
       "      <th>6</th>\n",
       "      <td>5.004538</td>\n",
       "    </tr>\n",
       "    <tr>\n",
       "      <th>7</th>\n",
       "      <td>4.902027</td>\n",
       "    </tr>\n",
       "    <tr>\n",
       "      <th>8</th>\n",
       "      <td>4.998849</td>\n",
       "    </tr>\n",
       "    <tr>\n",
       "      <th>9</th>\n",
       "      <td>4.967833</td>\n",
       "    </tr>\n",
       "    <tr>\n",
       "      <th>10</th>\n",
       "      <td>4.96392</td>\n",
       "    </tr>\n",
       "    <tr>\n",
       "      <th>11</th>\n",
       "      <td>4.958912</td>\n",
       "    </tr>\n",
       "    <tr>\n",
       "      <th>12</th>\n",
       "      <td>4.966414</td>\n",
       "    </tr>\n",
       "    <tr>\n",
       "      <th>13</th>\n",
       "      <td>4.926533</td>\n",
       "    </tr>\n",
       "    <tr>\n",
       "      <th>14</th>\n",
       "      <td>4.957266</td>\n",
       "    </tr>\n",
       "    <tr>\n",
       "      <th>15</th>\n",
       "      <td>4.982035</td>\n",
       "    </tr>\n",
       "    <tr>\n",
       "      <th>16</th>\n",
       "      <td>4.877853</td>\n",
       "    </tr>\n",
       "    <tr>\n",
       "      <th>17</th>\n",
       "      <td>4.949349</td>\n",
       "    </tr>\n",
       "    <tr>\n",
       "      <th>18</th>\n",
       "      <td>4.95825</td>\n",
       "    </tr>\n",
       "    <tr>\n",
       "      <th>19</th>\n",
       "      <td>4.973698</td>\n",
       "    </tr>\n",
       "  </tbody>\n",
       "</table>\n",
       "</div>"
      ],
      "text/plain": [
       "      2_gi/o\n",
       "0   5.010034\n",
       "1   5.053737\n",
       "2   4.929415\n",
       "3   4.958961\n",
       "4   4.976821\n",
       "5   4.984027\n",
       "6   5.004538\n",
       "7   4.902027\n",
       "8   4.998849\n",
       "9   4.967833\n",
       "10   4.96392\n",
       "11  4.958912\n",
       "12  4.966414\n",
       "13  4.926533\n",
       "14  4.957266\n",
       "15  4.982035\n",
       "16  4.877853\n",
       "17  4.949349\n",
       "18   4.95825\n",
       "19  4.973698"
      ]
     },
     "execution_count": 330,
     "metadata": {},
     "output_type": "execute_result"
    }
   ],
   "source": [
    "df.iloc[:, [125]]"
   ]
  },
  {
   "cell_type": "code",
   "execution_count": 329,
   "id": "8a7c7059",
   "metadata": {},
   "outputs": [
    {
     "name": "stdout",
     "output_type": "stream",
     "text": [
      "True 125\n"
     ]
    }
   ],
   "source": [
    "for _, i in enumerate(df.T.std(axis=1)==0.03853908775188973):\n",
    "    if i:\n",
    "        print(i, _)"
   ]
  },
  {
   "cell_type": "code",
   "execution_count": 240,
   "id": "1314559b",
   "metadata": {},
   "outputs": [
    {
     "data": {
      "text/plain": [
       "{'A': 0,\n",
       " 'C': 1,\n",
       " 'D': 2,\n",
       " 'E': 3,\n",
       " 'F': 4,\n",
       " 'G': 5,\n",
       " 'H': 6,\n",
       " 'I': 7,\n",
       " 'K': 8,\n",
       " 'L': 9,\n",
       " 'M': 10,\n",
       " 'N': 11,\n",
       " 'P': 12,\n",
       " 'Q': 13,\n",
       " 'R': 14,\n",
       " 'S': 15,\n",
       " 'T': 16,\n",
       " 'V': 17,\n",
       " 'W': 18,\n",
       " 'Y': 19}"
      ]
     },
     "execution_count": 240,
     "metadata": {},
     "output_type": "execute_result"
    }
   ],
   "source": [
    "RES_DICT"
   ]
  },
  {
   "cell_type": "code",
   "execution_count": null,
   "id": "da05fd4d",
   "metadata": {},
   "outputs": [],
   "source": []
  }
 ],
 "metadata": {
  "kernelspec": {
   "display_name": "Python 3 (ipykernel)",
   "language": "python",
   "name": "python3"
  },
  "language_info": {
   "codemirror_mode": {
    "name": "ipython",
    "version": 3
   },
   "file_extension": ".py",
   "mimetype": "text/x-python",
   "name": "python",
   "nbconvert_exporter": "python",
   "pygments_lexer": "ipython3",
   "version": "3.8.10"
  }
 },
 "nbformat": 4,
 "nbformat_minor": 5
}
