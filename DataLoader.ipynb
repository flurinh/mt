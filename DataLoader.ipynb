{
 "cells": [
  {
   "cell_type": "code",
   "execution_count": 1,
   "id": "guilty-limitation",
   "metadata": {},
   "outputs": [],
   "source": [
    "from utils import *\n",
    "from utils2 import *\n",
    "from utils3 import *\n",
    "from plotting import *\n",
    "from gpcrdb_soup import *"
   ]
  },
  {
   "cell_type": "code",
   "execution_count": 28,
   "id": "worth-rhythm",
   "metadata": {},
   "outputs": [],
   "source": [
    "import pandas as pd\n",
    "from tqdm import tqdm\n",
    "from os import walk\n",
    "\n",
    "from Bio.PDB.Polypeptide import *\n",
    "from Bio.PDB import PDBParser"
   ]
  },
  {
   "cell_type": "code",
   "execution_count": 3,
   "id": "scenic-credits",
   "metadata": {},
   "outputs": [],
   "source": [
    "PATH = 'data/pdb/active/'"
   ]
  },
  {
   "cell_type": "code",
   "execution_count": 4,
   "id": "nervous-orleans",
   "metadata": {},
   "outputs": [],
   "source": [
    "def get_pdb_files(path=PATH):\n",
    "    _, _, filenames = next(walk(path))\n",
    "    return [x for x in filenames if '.pdb' in x]"
   ]
  },
  {
   "cell_type": "code",
   "execution_count": 10,
   "id": "federal-maryland",
   "metadata": {},
   "outputs": [],
   "source": [
    "class Download():\n",
    "    def __init__(self, \n",
    "                 path='data/',\n",
    "                 fileformat='pdb'):\n",
    "        self.path_pdb = path + 'pdb/'\n",
    "        self.path_alignment = path + 'alignments/'\n",
    "        self.path_table = 'gpcrdb/'\n",
    "        \n",
    "        self.fileformat = fileformat\n",
    "        \n",
    "        self.table = None\n",
    "        self.filenames, self.pdb_ids = get_pdb_files(path=self.path_pdb)\n",
    "    \n",
    "    # ======================================================================================================================\n",
    "        \n",
    "    def download_alignment(self):\n",
    "        print(\"Not Implemented! TBD manually.\")\n",
    "    \n",
    "    def download_pdbs(self, reload=False, update=False):\n",
    "        pdb_table_ids = self.table['PDB'].tolist()\n",
    "        missing = [x for x in pdb_table_ids if x not in self.pdb_ids]\n",
    "        if reload or (len(missing)>0):\n",
    "            print(\"Reloading pdb files...\")\n",
    "            print(\"Missing pdbs:\", missing)\n",
    "            for pdb in tqdm(missing):\n",
    "                url = get_rcsb_download(pdb, self.fileformat)\n",
    "                download_pdb(url, folder=self.path_pdb, fileformat=self.fileformat)\n",
    "        elif update:\n",
    "            self.update_pdbs()\n",
    "        self.filenames, self.pdb_ids = get_pdb_files(path=self.path_pdb)\n",
    "                \n",
    "    def download_table(self, reload=True, filename='structure.pkl'):\n",
    "        table_path = self.path_table + filename\n",
    "        if reload or (not os.path.isfile(self.path_table+filename)):\n",
    "            self. table = get_table(reload=True, uniprot=False)\n",
    "        else:\n",
    "            self.table = get_table(reload=False, uniprot=False)\n",
    "            self.table = self.table[self.table['Species'].str.contains('Human')]\n",
    "        self.table = self.table.drop(columns=['filler', 'filler2', 'receptor family', \n",
    "                                              'Species', 'Method', 'Refined Structure', 'Degree active %', \n",
    "                                              '% of Seq1', 'Family', 'Subtype', 'Name2', 'Fusion', 'Note', \n",
    "                                              '% of Seq2', 'Antibodies', 'Name1', 'Type1', 'Type2', \n",
    "                                              'D2x50 - S3x39', 'Sodium in structure', 'Authors', 'Reference', \n",
    "                                              'PDB date', 'Annotated', 'pdb_link'])\n",
    "        \n",
    "    # ======================================================================================================================\n",
    "    \n",
    "    def update_pdbs(self):\n",
    "        updatepdbs(self.path_pdb)\n",
    "    \n",
    "    # ======================================================================================================================\n",
    "    \n",
    "    "
   ]
  },
  {
   "cell_type": "code",
   "execution_count": 11,
   "id": "communist-money",
   "metadata": {},
   "outputs": [
    {
     "name": "stdout",
     "output_type": "stream",
     "text": [
      "Not Implemented! TBD manually.\n"
     ]
    },
    {
     "name": "stderr",
     "output_type": "stream",
     "text": [
      "0it [00:00, ?it/s]"
     ]
    },
    {
     "name": "stdout",
     "output_type": "stream",
     "text": [
      "Reloading pdb files...\n",
      "Missing pdbs: []\n"
     ]
    },
    {
     "name": "stderr",
     "output_type": "stream",
     "text": [
      "\n"
     ]
    }
   ],
   "source": [
    "D = Download()\n",
    "D.download_alignment()\n",
    "D.download_table(reload=False)\n",
    "D.download_pdbs(reload=True)"
   ]
  },
  {
   "cell_type": "code",
   "execution_count": null,
   "id": "coordinate-canal",
   "metadata": {},
   "outputs": [],
   "source": []
  },
  {
   "cell_type": "code",
   "execution_count": null,
   "id": "exposed-personality",
   "metadata": {},
   "outputs": [],
   "source": []
  },
  {
   "cell_type": "code",
   "execution_count": null,
   "id": "requested-rebound",
   "metadata": {},
   "outputs": [],
   "source": []
  },
  {
   "cell_type": "code",
   "execution_count": null,
   "id": "numerical-governor",
   "metadata": {},
   "outputs": [],
   "source": []
  },
  {
   "cell_type": "code",
   "execution_count": null,
   "id": "instrumental-found",
   "metadata": {},
   "outputs": [],
   "source": []
  },
  {
   "cell_type": "code",
   "execution_count": null,
   "id": "civic-gabriel",
   "metadata": {},
   "outputs": [],
   "source": []
  },
  {
   "cell_type": "code",
   "execution_count": null,
   "id": "chicken-advice",
   "metadata": {},
   "outputs": [],
   "source": []
  },
  {
   "cell_type": "code",
   "execution_count": null,
   "id": "continuous-fashion",
   "metadata": {},
   "outputs": [],
   "source": []
  },
  {
   "cell_type": "code",
   "execution_count": 14,
   "id": "healthy-function",
   "metadata": {},
   "outputs": [],
   "source": [
    "# A.alignment"
   ]
  },
  {
   "cell_type": "code",
   "execution_count": 148,
   "id": "statutory-vertex",
   "metadata": {},
   "outputs": [],
   "source": [
    "class PDBProcessor():\n",
    "    def __init__(self,\n",
    "                 path='data/',\n",
    "                 chain_id=0,\n",
    "                 limit=5,\n",
    "                 verbose=1):\n",
    "        \n",
    "        self.verbose = verbose\n",
    "        self.limit = limit\n",
    "        \n",
    "        columns = ['Name',\n",
    "                   'Uniprot', 'Uniprot_Sequence', \n",
    "                   'PDB', 'PDB_Sequence', 'PDB_Sequence_padded'\n",
    "                   'n_residues', 'Gaps'\n",
    "                   'Structure', 'Ca','CaC','Psi','Phi','Omega']\n",
    "        self.data = pd.DataFrame(columns=columns)\n",
    "        self.path_pdb = path + 'pdb/'\n",
    "        self.chain_id = chain_id\n",
    "        \n",
    "        # Filter settings\n",
    "        self.setting_explained = {0: \"Only C-alphas - labelled according to their residue\",\n",
    "                         1: \"Hetero-representation - Backbone atoms are labelled according to their element,\"\\\n",
    "                             \" except C-alpha, which is labelled according to its AA\",\n",
    "                         2: \"Hetero-representation - Backbone atoms are labelled according to their element,\"\\\n",
    "                             \"C-beta is labelled according to its AA\",\n",
    "                         3: \"Hetero-representation 3, we include H atoms\",\n",
    "                         4: \"Hetero-representation 4, we include H atoms\",\n",
    "                         5: \"Full Protein is represented as element-wise pointcloud \"\\\n",
    "                             \"(drastically reduces embedding space)\"}\n",
    "        \n",
    "        self.settings = {0: ['CA'],\n",
    "                         1: ATOM_LIST,\n",
    "                         2: ATOM_LIST+['CB'],\n",
    "                         3: ATOM_LIST+['HN'],\n",
    "                         4: ATOM_LIST+['CB']+['HN'],\n",
    "                         5: None}\n",
    "    \n",
    "    def load_pdbs(self):\n",
    "        files = self.get_pdb_files()\n",
    "        p = PDBParser()\n",
    "        \n",
    "        for _, file in enumerate(tqdm(files)):\n",
    "            structure = p.get_structure(file[-8:-4], file)\n",
    "            uniprot = None\n",
    "            sequence, name = None, None\n",
    "            for _, model in enumerate(structure):\n",
    "                if _ == 0:\n",
    "                    res_names, res_ids, psi, phi, omega, atoms, seq, res_chain = self.parsing_pdb(model)\n",
    "            if self.chain_id != None:\n",
    "                res_names, res_ids, psi, phi, omega, atoms, seq, res_chain = self.filter_by_chain(res_names, res_ids, \n",
    "                                                                                             psi, phi, omega, \n",
    "                                                                                             atoms, seq, res_chain,\n",
    "                                                                                             chain_id = self.chain_id)\n",
    "            seq = ''.join(seq)\n",
    "            if res_names == None:\n",
    "                pass\n",
    "            else:\n",
    "                try:\n",
    "                    uniprot = pdbtouniprot(file[-8:-4].lower())\n",
    "                    sequence, name = get_sequence_name(uniprot)\n",
    "                except:\n",
    "                    print(\"Error when looking up uniprot information for\", file[-8:-4])\n",
    "                gaps = self.map_gaps(res_ids)\n",
    "                row = {'Name': name, \n",
    "                       'Uniprot': uniprot, 'Uniprot_Sequence': sequence,\n",
    "                       'PDB': file[-8:-4], 'PDB_Sequence': seq, 'PDB_Sequence_padded': pad_gaps(gaps, seq),\n",
    "                       'Res_names': res_names, 'Res_ids': res_ids,\n",
    "                       'n_residues':len(res_ids), 'Gaps': gaps, 'Gapsum': self.gap_sum(gaps),\n",
    "                       'Psi': psi, 'Phi': phi, 'Omega': omega,\n",
    "                       'Structure': atoms}\n",
    "                self.data = self.data.append(row, ignore_index=True)\n",
    "\n",
    "    # ======================================================================================================================\n",
    "    \n",
    "    def get_pdb_files(self):\n",
    "        files = [os.path.join(self.path_pdb, f) for f in os.listdir(self.path_pdb) \\\n",
    "                 if (os.path.isfile(os.path.join(self.path_pdb, f)) and 'pdb' in f)]\n",
    "        if self.limit != None:\n",
    "            if self.verbose==1:\n",
    "                print(\"Found {} files. Using {} files.\".format(len(files), self.limit))\n",
    "            return files[:self.limit]\n",
    "        else:\n",
    "            if self.verbose==1:\n",
    "                print(\"Found {} files.\".format(len(files)))\n",
    "            return files\n",
    "        \n",
    "    def filter_by_chain(self, res_names, res_ids, psi, phi, omega, atoms, seq, res_chain, chain_id):\n",
    "        chain_mask = [True if rc == chain_id else False for rc in res_chain]\n",
    "        res_names = [b for a, b in zip(chain_mask, res_names) if a]\n",
    "        res_ids = [b for a, b in zip(chain_mask, res_ids) if a]\n",
    "        psi = [b for a, b in zip(chain_mask, psi) if a]\n",
    "        phi = [b for a, b in zip(chain_mask, phi) if a]\n",
    "        omega = [b for a, b in zip(chain_mask, omega) if a]\n",
    "        atoms = [b for a, b in zip(chain_mask, atoms) if a]\n",
    "        seq = [b for a, b in zip(chain_mask, seq) if a]\n",
    "        atoms = [b for a, b in zip(chain_mask, atoms) if a]\n",
    "        res_chain = [b for a, b in zip(chain_mask, res_chain) if a]\n",
    "        return res_names, res_ids, psi, phi, omega, atoms, seq, res_chain\n",
    "        \n",
    "    def map_gaps(self, res_ids):\n",
    "        min_num = -100\n",
    "        gaps = []\n",
    "        for i, z in enumerate(res_ids):\n",
    "            new_num = int(z)\n",
    "            if not abs(new_num - min_num) <= 1:\n",
    "                gaps.append((i, min_num, new_num))\n",
    "                min_num = new_num\n",
    "            else:\n",
    "                min_num += 1\n",
    "        return gaps[1:]\n",
    "    \n",
    "    def gap_sum(self, gaps):\n",
    "        sum = 0\n",
    "        for gap in gaps:\n",
    "            diff = gap[2] - gap[1]\n",
    "            if diff > 0:\n",
    "                sum += diff\n",
    "        return sum\n",
    "    \n",
    "    def pad_gaps(self, gaps, seq):\n",
    "        _ = 0\n",
    "        for gap in gaps:\n",
    "            start = gap[1]+_\n",
    "            end = gap[2]+_\n",
    "            length = end-start\n",
    "            gap_str = (length-1) * '_'\n",
    "            seq = seq[_:start] + gap_str + seq[start:]\n",
    "            end = _\n",
    "            return seq\n",
    "            \n",
    "    \n",
    "    def parsing_pdb(self, model, water=False):\n",
    "        \"\"\"\n",
    "        parse the pdb structure information into our dataframe columns\n",
    "        model: first structure in the pdb file (since model 2 etc may not be formatted correctly)\n",
    "        water: boolean to specify if water should be included\n",
    "        \"\"\"\n",
    "        # Todo: implement a check of whether water is included\n",
    "        try:\n",
    "            model.atom_to_internal_coordinates()\n",
    "            res_names = []\n",
    "            res_ids = []\n",
    "            psi = []\n",
    "            phi = []\n",
    "            omega = []\n",
    "            atoms = []\n",
    "            seq = []\n",
    "            res_chain=[]\n",
    "            chain = 0\n",
    "            prev_resseq = -1\n",
    "            for _, res in enumerate(model.get_residues()):\n",
    "                name = res.get_resname()\n",
    "                id_ = str(res.get_id()[1]).zfill(3)\n",
    "                resseq = int(res.get_full_id()[3][1])\n",
    "                if resseq < prev_resseq:\n",
    "                    chain += 1\n",
    "                prev_resseq = resseq\n",
    "                if name in RESIDUE_LIST:\n",
    "                    for atom in res:\n",
    "                        if atom.get_id() in ATOM_LIST:\n",
    "                            atoms.append([chain, id_, atom.get_coord(), atom.get_id()])\n",
    "                    seq.append(three_to_one(name))\n",
    "                    res_names.append(name)\n",
    "                    res_ids.append(id_)\n",
    "                    res_chain.append(chain)\n",
    "                    try:\n",
    "                        psi.append(res.internal_coord.get_angle(\"psi\"))\n",
    "                    except:\n",
    "                        psi.append(None)\n",
    "                    try:\n",
    "                        phi.append(res.internal_coord.get_angle(\"phi\"))\n",
    "                    except:\n",
    "                        phi.append(None)\n",
    "                    try:\n",
    "                        omega.append(res.internal_coord.get_angle(\"omega\"))\n",
    "                    except:\n",
    "                        omega.append(None)\n",
    "            return res_names, res_ids, psi, phi, omega, atoms, seq, res_chain\n",
    "        except:\n",
    "            return None, None, None, None, None, None, None, None\n",
    "        \n",
    "        \n",
    "    def plot_distr(self, mode='len', idx=None, save=False):\n",
    "        \"\"\"\n",
    "        plot different data visualizations\n",
    "        modes: - 'len': plot distribution of amino sequence lengths\n",
    "               - 'residues': plot occurances of residues overall\n",
    "        \"\"\"\n",
    "        assert mode in ['len', 'residues'], print(\"make sure mode is either 'len' or 'residues'\")\n",
    "        if mode == 'len':\n",
    "            plot_len_hist(self.data, save)\n",
    "        else:\n",
    "            plot_res_hist(self.data, idx, save)\n",
    "\n",
    "            \n",
    "    def get_res_list(self):\n",
    "        \"\"\"\n",
    "        Run this on your dataset, and copypaste the list to utils: \"RES_LIST\"\n",
    "        \"\"\"\n",
    "        flatten = lambda l: [item for sublist in l for item in sublist]\n",
    "        l = self.data['PDB_Sequence'].tolist()\n",
    "        return sorted(list(set(flatten(l))))\n",
    "    \n",
    "    \n",
    "    def rl_remove_variants(self, n_aa=20):\n",
    "        \"\"\"\n",
    "        {'LEU': 13034, 'GLU': 9023, ' Ca': 5, ..} --> Remove proteins where rare variants occur,\n",
    "        use a cutoff of n_aa = 20 to remove all rare variants by only selecting (the normal) 20 aminoacids.\n",
    "        \"\"\"\n",
    "        d = Counter(flat_l(self.data['PDB_Sequence'].tolist()))\n",
    "        v, k = zip(*sorted(zip(d.values(), d.keys())))\n",
    "        self.res_list = dict(zip(k[-n_aa:], v[-n_aa:]))\n",
    "        return k[:-n_aa], k[-n_aa:]  # return k[-n_aa] just so I can copy it to utils.py as an initialization array\n",
    "    \n",
    "    \n",
    "    def remove_variants(self):\n",
    "        c_tot = self.data.count().len\n",
    "        k, _ = self.rl_remove_variants()\n",
    "        new = self.data\n",
    "        for key in k:\n",
    "            new = new[new['PDB_Sequence'].apply(lambda x: key not in x)]\n",
    "        self.data = new.reset_index()\n",
    "        c_red = self.data.count().len\n",
    "        print(\"After removing {} variants our data contains {} proteins.\".format(c_tot-c_red, c_red))\n",
    "        self.res_list = _\n",
    "        \n",
    "    \n",
    "    def remove_outliers(self, min_len=100, max_len=6000):\n",
    "        c_tot = self.data.count().len\n",
    "        new = self.data[(min_len < self.data['n_residues']) & (self.data['n_residues'] < max_len)]\n",
    "        self.data = new.reset_index()\n",
    "        c_red = self.data.count().len\n",
    "        print(\"After removing {} outliers with {} > length > {} our data contains {} proteins.\"\\\n",
    "              .format(c_tot-c_red, min_len, max_len, c_red))\n",
    "        del new\n",
    "        return\n",
    "    \n",
    "    \n",
    "    def label_ca(self):\n",
    "        def mkdict(rl):\n",
    "            d = {}\n",
    "            for i, l in enumerate(reversed(rl)):\n",
    "                d.update({l:i})\n",
    "            return d\n",
    "        def mapaa(aas, d):\n",
    "            y = []\n",
    "            for aa in aas:\n",
    "                y.append(d[aa])\n",
    "            return np.asarray(y)\n",
    "        ltodict = mkdict(self.get_common_aas())\n",
    "        temp = self.data.copy()\n",
    "        self.data['y'] = temp[['res']].applymap(lambda x: mapaa(x, ltodict))\n",
    "        del temp\n",
    "        return"
   ]
  },
  {
   "cell_type": "code",
   "execution_count": null,
   "id": "conditional-cleveland",
   "metadata": {},
   "outputs": [],
   "source": []
  },
  {
   "cell_type": "code",
   "execution_count": 196,
   "id": "successful-underwear",
   "metadata": {},
   "outputs": [],
   "source": [
    "pdb = PDBProcessor(chain_id=0, limit=None)"
   ]
  },
  {
   "cell_type": "code",
   "execution_count": 197,
   "id": "demonstrated-monday",
   "metadata": {},
   "outputs": [
    {
     "name": "stderr",
     "output_type": "stream",
     "text": [
      "\r",
      "  0%|                                                                                                                                                                                                                                                                                          | 0/528 [00:00<?, ?it/s]"
     ]
    },
    {
     "name": "stdout",
     "output_type": "stream",
     "text": [
      "Found 528 files.\n"
     ]
    },
    {
     "name": "stderr",
     "output_type": "stream",
     "text": [
      "  6%|███████████████▌                                                                                                                                                                                                                                                                 | 30/528 [00:52<12:47,  1.54s/it]"
     ]
    },
    {
     "name": "stdout",
     "output_type": "stream",
     "text": [
      "Error when looking up uniprot information for 2ZIY\n"
     ]
    },
    {
     "name": "stderr",
     "output_type": "stream",
     "text": [
      "  7%|███████████████████▏                                                                                                                                                                                                                                                             | 37/528 [01:03<12:49,  1.57s/it]"
     ]
    },
    {
     "name": "stdout",
     "output_type": "stream",
     "text": [
      "Error when looking up uniprot information for 3DQB\n"
     ]
    },
    {
     "name": "stderr",
     "output_type": "stream",
     "text": [
      " 10%|██████████████████████████▉                                                                                                                                                                                                                                                      | 52/528 [01:30<13:44,  1.73s/it]"
     ]
    },
    {
     "name": "stdout",
     "output_type": "stream",
     "text": [
      "Error when looking up uniprot information for 3PQR\n"
     ]
    },
    {
     "name": "stderr",
     "output_type": "stream",
     "text": [
      " 11%|███████████████████████████████                                                                                                                                                                                                                                                  | 60/528 [01:44<14:15,  1.83s/it]"
     ]
    },
    {
     "name": "stdout",
     "output_type": "stream",
     "text": [
      "Error when looking up uniprot information for 3UON\n"
     ]
    },
    {
     "name": "stderr",
     "output_type": "stream",
     "text": [
      " 12%|█████████████████████████████████▌                                                                                                                                                                                                                                               | 65/528 [01:52<13:37,  1.76s/it]"
     ]
    },
    {
     "name": "stdout",
     "output_type": "stream",
     "text": [
      "Error when looking up uniprot information for 3VG9\n"
     ]
    },
    {
     "name": "stderr",
     "output_type": "stream",
     "text": [
      "\r",
      " 12%|██████████████████████████████████▏                                                                                                                                                                                                                                              | 66/528 [01:54<13:59,  1.82s/it]"
     ]
    },
    {
     "name": "stdout",
     "output_type": "stream",
     "text": [
      "Error when looking up uniprot information for 3VGA\n"
     ]
    },
    {
     "name": "stderr",
     "output_type": "stream",
     "text": [
      " 16%|████████████████████████████████████████████▍                                                                                                                                                                                                                                    | 86/528 [02:30<12:44,  1.73s/it]"
     ]
    },
    {
     "name": "stdout",
     "output_type": "stream",
     "text": [
      "Error when looking up uniprot information for 4GBR\n"
     ]
    },
    {
     "name": "stderr",
     "output_type": "stream",
     "text": [
      " 17%|███████████████████████████████████████████████▌                                                                                                                                                                                                                                 | 92/528 [02:39<10:59,  1.51s/it]"
     ]
    },
    {
     "name": "stdout",
     "output_type": "stream",
     "text": [
      "Error when looking up uniprot information for 4J4Q\n"
     ]
    },
    {
     "name": "stderr",
     "output_type": "stream",
     "text": [
      " 18%|█████████████████████████████████████████████████                                                                                                                                                                                                                                | 95/528 [02:45<12:52,  1.78s/it]"
     ]
    },
    {
     "name": "stdout",
     "output_type": "stream",
     "text": [
      "Error when looking up uniprot information for 4L6R\n"
     ]
    },
    {
     "name": "stderr",
     "output_type": "stream",
     "text": [
      "\r",
      " 18%|█████████████████████████████████████████████████▋                                                                                                                                                                                                                               | 96/528 [02:47<13:04,  1.82s/it]"
     ]
    },
    {
     "name": "stdout",
     "output_type": "stream",
     "text": [
      "Error when looking up uniprot information for 4LDE\n"
     ]
    },
    {
     "name": "stderr",
     "output_type": "stream",
     "text": [
      " 19%|███████████████████████████████████████████████████▌                                                                                                                                                                                                                            | 100/528 [02:54<12:41,  1.78s/it]"
     ]
    },
    {
     "name": "stdout",
     "output_type": "stream",
     "text": [
      "Error when looking up uniprot information for 4MQS\n"
     ]
    },
    {
     "name": "stderr",
     "output_type": "stream",
     "text": [
      "\r",
      " 19%|████████████████████████████████████████████████████                                                                                                                                                                                                                            | 101/528 [02:56<12:04,  1.70s/it]"
     ]
    },
    {
     "name": "stdout",
     "output_type": "stream",
     "text": [
      "Error when looking up uniprot information for 4MQT\n"
     ]
    },
    {
     "name": "stderr",
     "output_type": "stream",
     "text": [
      " 24%|████████████████████████████████████████████████████████████████▍                                                                                                                                                                                                               | 125/528 [03:38<12:05,  1.80s/it]"
     ]
    },
    {
     "name": "stdout",
     "output_type": "stream",
     "text": [
      "Error when looking up uniprot information for 4WW3\n"
     ]
    },
    {
     "name": "stderr",
     "output_type": "stream",
     "text": [
      " 24%|█████████████████████████████████████████████████████████████████▍                                                                                                                                                                                                              | 127/528 [03:41<11:46,  1.76s/it]"
     ]
    },
    {
     "name": "stdout",
     "output_type": "stream",
     "text": [
      "Error when looking up uniprot information for 4XEE\n"
     ]
    },
    {
     "name": "stderr",
     "output_type": "stream",
     "text": [
      "\r",
      " 24%|█████████████████████████████████████████████████████████████████▉                                                                                                                                                                                                              | 128/528 [03:43<11:39,  1.75s/it]"
     ]
    },
    {
     "name": "stdout",
     "output_type": "stream",
     "text": [
      "Error when looking up uniprot information for 4XES\n"
     ]
    },
    {
     "name": "stderr",
     "output_type": "stream",
     "text": [
      " 25%|███████████████████████████████████████████████████████████████████▍                                                                                                                                                                                                            | 131/528 [03:48<11:12,  1.69s/it]"
     ]
    },
    {
     "name": "stdout",
     "output_type": "stream",
     "text": [
      "Error when looking up uniprot information for 4XT1\n"
     ]
    },
    {
     "name": "stderr",
     "output_type": "stream",
     "text": [
      "\r",
      " 25%|████████████████████████████████████████████████████████████████████                                                                                                                                                                                                            | 132/528 [03:49<10:40,  1.62s/it]"
     ]
    },
    {
     "name": "stdout",
     "output_type": "stream",
     "text": [
      "Error when looking up uniprot information for 4XT3\n"
     ]
    },
    {
     "name": "stderr",
     "output_type": "stream",
     "text": [
      " 25%|█████████████████████████████████████████████████████████████████████                                                                                                                                                                                                           | 134/528 [03:53<10:30,  1.60s/it]"
     ]
    },
    {
     "name": "stdout",
     "output_type": "stream",
     "text": [
      "Error when looking up uniprot information for 4Z34\n"
     ]
    },
    {
     "name": "stderr",
     "output_type": "stream",
     "text": [
      " 26%|██████████████████████████████████████████████████████████████████████                                                                                                                                                                                                          | 136/528 [03:56<10:16,  1.57s/it]"
     ]
    },
    {
     "name": "stdout",
     "output_type": "stream",
     "text": [
      "Error when looking up uniprot information for 4Z36\n"
     ]
    },
    {
     "name": "stderr",
     "output_type": "stream",
     "text": [
      " 30%|████████████████████████████████████████████████████████████████████████████████▎                                                                                                                                                                                               | 156/528 [04:36<10:46,  1.74s/it]"
     ]
    },
    {
     "name": "stdout",
     "output_type": "stream",
     "text": [
      "Error when looking up uniprot information for 5EN0\n"
     ]
    },
    {
     "name": "stderr",
     "output_type": "stream",
     "text": [
      " 30%|██████████████████████████████████████████████████████████████████████████████████▍                                                                                                                                                                                             | 160/528 [04:43<09:57,  1.62s/it]"
     ]
    },
    {
     "name": "stdout",
     "output_type": "stream",
     "text": [
      "Error when looking up uniprot information for 5GLI\n"
     ]
    },
    {
     "name": "stderr",
     "output_type": "stream",
     "text": [
      " 31%|█████████████████████████████████████████████████████████████████████████████████████▌                                                                                                                                                                                          | 166/528 [04:54<11:22,  1.89s/it]"
     ]
    },
    {
     "name": "stdout",
     "output_type": "stream",
     "text": [
      "Error when looking up uniprot information for 5JQH\n"
     ]
    },
    {
     "name": "stderr",
     "output_type": "stream",
     "text": [
      "\r",
      " 32%|██████████████████████████████████████████████████████████████████████████████████████                                                                                                                                                                                          | 167/528 [04:56<11:19,  1.88s/it]"
     ]
    },
    {
     "name": "stdout",
     "output_type": "stream",
     "text": [
      "Error when looking up uniprot information for 5JTB\n"
     ]
    },
    {
     "name": "stderr",
     "output_type": "stream",
     "text": [
      " 33%|█████████████████████████████████████████████████████████████████████████████████████████                                                                                                                                                                                       | 173/528 [05:06<11:11,  1.89s/it]"
     ]
    },
    {
     "name": "stdout",
     "output_type": "stream",
     "text": [
      "Error when looking up uniprot information for 5L7D\n"
     ]
    },
    {
     "name": "stderr",
     "output_type": "stream",
     "text": [
      " 35%|███████████████████████████████████████████████████████████████████████████████████████████████▊                                                                                                                                                                                | 186/528 [05:30<10:33,  1.85s/it]"
     ]
    },
    {
     "name": "stdout",
     "output_type": "stream",
     "text": [
      "Error when looking up uniprot information for 5NX2\n"
     ]
    },
    {
     "name": "stderr",
     "output_type": "stream",
     "text": [
      " 37%|████████████████████████████████████████████████████████████████████████████████████████████████████▍                                                                                                                                                                           | 195/528 [05:46<09:22,  1.69s/it]"
     ]
    },
    {
     "name": "stdout",
     "output_type": "stream",
     "text": [
      "Error when looking up uniprot information for 5T04\n"
     ]
    },
    {
     "name": "stderr",
     "output_type": "stream",
     "text": [
      " 38%|██████████████████████████████████████████████████████████████████████████████████████████████████████▌                                                                                                                                                                         | 199/528 [05:52<08:56,  1.63s/it]"
     ]
    },
    {
     "name": "stdout",
     "output_type": "stream",
     "text": [
      "Error when looking up uniprot information for 5TGZ\n"
     ]
    },
    {
     "name": "stderr",
     "output_type": "stream",
     "text": [
      " 40%|█████████████████████████████████████████████████████████████████████████████████████████████████████████████▋                                                                                                                                                                  | 213/528 [06:19<10:05,  1.92s/it]"
     ]
    },
    {
     "name": "stdout",
     "output_type": "stream",
     "text": [
      "Error when looking up uniprot information for 5V54\n"
     ]
    },
    {
     "name": "stderr",
     "output_type": "stream",
     "text": [
      "\r",
      " 41%|██████████████████████████████████████████████████████████████████████████████████████████████████████████████▏                                                                                                                                                                 | 214/528 [06:21<10:53,  2.08s/it]"
     ]
    },
    {
     "name": "stdout",
     "output_type": "stream",
     "text": [
      "Error when looking up uniprot information for 5V56\n"
     ]
    },
    {
     "name": "stderr",
     "output_type": "stream",
     "text": [
      "\r",
      " 41%|██████████████████████████████████████████████████████████████████████████████████████████████████████████████▊                                                                                                                                                                 | 215/528 [06:24<11:47,  2.26s/it]"
     ]
    },
    {
     "name": "stdout",
     "output_type": "stream",
     "text": [
      "Error when looking up uniprot information for 5V57\n"
     ]
    },
    {
     "name": "stderr",
     "output_type": "stream",
     "text": [
      "\r",
      " 41%|███████████████████████████████████████████████████████████████████████████████████████████████████████████████▎                                                                                                                                                                | 216/528 [06:26<12:05,  2.33s/it]"
     ]
    },
    {
     "name": "stdout",
     "output_type": "stream",
     "text": [
      "Error when looking up uniprot information for 5VAI\n"
     ]
    },
    {
     "name": "stderr",
     "output_type": "stream",
     "text": [
      "\r",
      " 41%|███████████████████████████████████████████████████████████████████████████████████████████████████████████████▊                                                                                                                                                                | 217/528 [06:28<10:55,  2.11s/it]"
     ]
    },
    {
     "name": "stdout",
     "output_type": "stream",
     "text": [
      "Error when looking up uniprot information for 5VBL\n"
     ]
    },
    {
     "name": "stderr",
     "output_type": "stream",
     "text": [
      " 43%|█████████████████████████████████████████████████████████████████████████████████████████████████████████████████████▉                                                                                                                                                          | 229/528 [06:53<08:32,  1.71s/it]"
     ]
    },
    {
     "name": "stdout",
     "output_type": "stream",
     "text": [
      "Error when looking up uniprot information for 5WQC\n"
     ]
    },
    {
     "name": "stderr",
     "output_type": "stream",
     "text": [
      "\r",
      " 44%|██████████████████████████████████████████████████████████████████████████████████████████████████████████████████████▍                                                                                                                                                         | 230/528 [06:54<08:35,  1.73s/it]"
     ]
    },
    {
     "name": "stdout",
     "output_type": "stream",
     "text": [
      "Error when looking up uniprot information for 5WS3\n"
     ]
    },
    {
     "name": "stderr",
     "output_type": "stream",
     "text": [
      "\r",
      " 44%|███████████████████████████████████████████████████████████████████████████████████████████████████████████████████████                                                                                                                                                         | 231/528 [06:56<08:28,  1.71s/it]"
     ]
    },
    {
     "name": "stdout",
     "output_type": "stream",
     "text": [
      "Error when looking up uniprot information for 5X33\n"
     ]
    },
    {
     "name": "stderr",
     "output_type": "stream",
     "text": [
      " 44%|████████████████████████████████████████████████████████████████████████████████████████████████████████████████████████▌                                                                                                                                                       | 234/528 [07:03<10:41,  2.18s/it]"
     ]
    },
    {
     "name": "stdout",
     "output_type": "stream",
     "text": [
      "Error when looking up uniprot information for 5XEZ\n"
     ]
    },
    {
     "name": "stderr",
     "output_type": "stream",
     "text": [
      "\r",
      " 45%|█████████████████████████████████████████████████████████████████████████████████████████████████████████████████████████                                                                                                                                                       | 235/528 [07:06<12:34,  2.58s/it]"
     ]
    },
    {
     "name": "stdout",
     "output_type": "stream",
     "text": [
      "Error when looking up uniprot information for 5XF1\n"
     ]
    },
    {
     "name": "stderr",
     "output_type": "stream",
     "text": [
      "\r",
      " 45%|█████████████████████████████████████████████████████████████████████████████████████████████████████████████████████████▌                                                                                                                                                      | 236/528 [07:08<11:59,  2.46s/it]"
     ]
    },
    {
     "name": "stdout",
     "output_type": "stream",
     "text": [
      "Error when looking up uniprot information for 5XJM\n"
     ]
    },
    {
     "name": "stderr",
     "output_type": "stream",
     "text": [
      " 45%|██████████████████████████████████████████████████████████████████████████████████████████████████████████████████████████▌                                                                                                                                                     | 238/528 [07:11<09:45,  2.02s/it]"
     ]
    },
    {
     "name": "stdout",
     "output_type": "stream",
     "text": [
      "Error when looking up uniprot information for 5XR8\n"
     ]
    },
    {
     "name": "stderr",
     "output_type": "stream",
     "text": [
      "\r",
      " 45%|███████████████████████████████████████████████████████████████████████████████████████████████████████████████████████████                                                                                                                                                     | 239/528 [07:13<09:13,  1.92s/it]"
     ]
    },
    {
     "name": "stdout",
     "output_type": "stream",
     "text": [
      "Error when looking up uniprot information for 5XRA\n"
     ]
    },
    {
     "name": "stderr",
     "output_type": "stream",
     "text": [
      "\r",
      " 45%|███████████████████████████████████████████████████████████████████████████████████████████████████████████████████████████▋                                                                                                                                                    | 240/528 [07:15<08:36,  1.79s/it]"
     ]
    },
    {
     "name": "stdout",
     "output_type": "stream",
     "text": [
      "Error when looking up uniprot information for 5XSZ\n"
     ]
    },
    {
     "name": "stderr",
     "output_type": "stream",
     "text": [
      "\r",
      " 46%|████████████████████████████████████████████████████████████████████████████████████████████████████████████████████████████▏                                                                                                                                                   | 241/528 [07:16<08:17,  1.73s/it]"
     ]
    },
    {
     "name": "stdout",
     "output_type": "stream",
     "text": [
      "Error when looking up uniprot information for 5YC8\n"
     ]
    },
    {
     "name": "stderr",
     "output_type": "stream",
     "text": [
      "\r",
      " 46%|████████████████████████████████████████████████████████████████████████████████████████████████████████████████████████████▋                                                                                                                                                   | 242/528 [07:18<08:23,  1.76s/it]"
     ]
    },
    {
     "name": "stdout",
     "output_type": "stream",
     "text": [
      "Error when looking up uniprot information for 5YHL\n"
     ]
    },
    {
     "name": "stderr",
     "output_type": "stream",
     "text": [
      " 46%|██████████████████████████████████████████████████████████████████████████████████████████████████████████████████████████████▏                                                                                                                                                 | 245/528 [07:24<08:37,  1.83s/it]"
     ]
    },
    {
     "name": "stdout",
     "output_type": "stream",
     "text": [
      "Error when looking up uniprot information for 5ZBH\n"
     ]
    },
    {
     "name": "stderr",
     "output_type": "stream",
     "text": [
      "\r",
      " 47%|██████████████████████████████████████████████████████████████████████████████████████████████████████████████████████████████▋                                                                                                                                                 | 246/528 [07:26<08:29,  1.81s/it]"
     ]
    },
    {
     "name": "stdout",
     "output_type": "stream",
     "text": [
      "Error when looking up uniprot information for 5ZBQ\n"
     ]
    },
    {
     "name": "stderr",
     "output_type": "stream",
     "text": [
      " 47%|███████████████████████████████████████████████████████████████████████████████████████████████████████████████████████████████▊                                                                                                                                                | 248/528 [07:29<08:08,  1.75s/it]"
     ]
    },
    {
     "name": "stdout",
     "output_type": "stream",
     "text": [
      "Error when looking up uniprot information for 5ZK3\n"
     ]
    },
    {
     "name": "stderr",
     "output_type": "stream",
     "text": [
      "\r",
      " 47%|████████████████████████████████████████████████████████████████████████████████████████████████████████████████████████████████▎                                                                                                                                               | 249/528 [07:31<08:00,  1.72s/it]"
     ]
    },
    {
     "name": "stdout",
     "output_type": "stream",
     "text": [
      "Error when looking up uniprot information for 5ZK8\n"
     ]
    },
    {
     "name": "stderr",
     "output_type": "stream",
     "text": [
      "\r",
      " 47%|████████████████████████████████████████████████████████████████████████████████████████████████████████████████████████████████▊                                                                                                                                               | 250/528 [07:32<07:48,  1.69s/it]"
     ]
    },
    {
     "name": "stdout",
     "output_type": "stream",
     "text": [
      "Error when looking up uniprot information for 5ZKB\n"
     ]
    },
    {
     "name": "stderr",
     "output_type": "stream",
     "text": [
      "\r",
      " 48%|█████████████████████████████████████████████████████████████████████████████████████████████████████████████████████████████████▎                                                                                                                                              | 251/528 [07:34<07:38,  1.65s/it]"
     ]
    },
    {
     "name": "stdout",
     "output_type": "stream",
     "text": [
      "Error when looking up uniprot information for 5ZKC\n"
     ]
    },
    {
     "name": "stderr",
     "output_type": "stream",
     "text": [
      "\r",
      " 48%|█████████████████████████████████████████████████████████████████████████████████████████████████████████████████████████████████▊                                                                                                                                              | 252/528 [07:35<07:38,  1.66s/it]"
     ]
    },
    {
     "name": "stdout",
     "output_type": "stream",
     "text": [
      "Error when looking up uniprot information for 5ZKP\n"
     ]
    },
    {
     "name": "stderr",
     "output_type": "stream",
     "text": [
      " 48%|██████████████████████████████████████████████████████████████████████████████████████████████████████████████████████████████████▊                                                                                                                                             | 254/528 [07:39<07:55,  1.74s/it]"
     ]
    },
    {
     "name": "stdout",
     "output_type": "stream",
     "text": [
      "Error when looking up uniprot information for 5ZTY\n"
     ]
    },
    {
     "name": "stderr",
     "output_type": "stream",
     "text": [
      " 50%|██████████████████████████████████████████████████████████████████████████████████████████████████████████████████████████████████████▉                                                                                                                                         | 262/528 [07:55<08:52,  2.00s/it]"
     ]
    },
    {
     "name": "stdout",
     "output_type": "stream",
     "text": [
      "Error when looking up uniprot information for 6B73\n"
     ]
    },
    {
     "name": "stderr",
     "output_type": "stream",
     "text": [
      " 50%|█████████████████████████████████████████████████████████████████████████████████████████████████████████████████████████████████████████                                                                                                                                       | 266/528 [08:01<07:16,  1.67s/it]"
     ]
    },
    {
     "name": "stdout",
     "output_type": "stream",
     "text": [
      "Error when looking up uniprot information for 6C1Q\n"
     ]
    },
    {
     "name": "stderr",
     "output_type": "stream",
     "text": [
      "\r",
      " 51%|█████████████████████████████████████████████████████████████████████████████████████████████████████████████████████████████████████████▌                                                                                                                                      | 267/528 [08:03<07:13,  1.66s/it]"
     ]
    },
    {
     "name": "stdout",
     "output_type": "stream",
     "text": [
      "Error when looking up uniprot information for 6C1R\n"
     ]
    },
    {
     "name": "stderr",
     "output_type": "stream",
     "text": [
      " 51%|███████████████████████████████████████████████████████████████████████████████████████████████████████████████████████████████████████████                                                                                                                                     | 270/528 [08:08<07:59,  1.86s/it]"
     ]
    },
    {
     "name": "stdout",
     "output_type": "stream",
     "text": [
      "Error when looking up uniprot information for 6D26\n"
     ]
    },
    {
     "name": "stderr",
     "output_type": "stream",
     "text": [
      "\r",
      " 51%|███████████████████████████████████████████████████████████████████████████████████████████████████████████████████████████████████████████▌                                                                                                                                    | 271/528 [08:10<07:57,  1.86s/it]"
     ]
    },
    {
     "name": "stdout",
     "output_type": "stream",
     "text": [
      "Error when looking up uniprot information for 6D27\n"
     ]
    },
    {
     "name": "stderr",
     "output_type": "stream",
     "text": [
      " 54%|█████████████████████████████████████████████████████████████████████████████████████████████████████████████████████████████████████████████████▊                                                                                                                              | 283/528 [08:33<07:39,  1.88s/it]"
     ]
    },
    {
     "name": "stdout",
     "output_type": "stream",
     "text": [
      "Error when looking up uniprot information for 6E59\n"
     ]
    },
    {
     "name": "stderr",
     "output_type": "stream",
     "text": [
      "\r",
      " 54%|██████████████████████████████████████████████████████████████████████████████████████████████████████████████████████████████████████████████████▎                                                                                                                             | 284/528 [08:35<07:59,  1.96s/it]"
     ]
    },
    {
     "name": "stdout",
     "output_type": "stream",
     "text": [
      "Error when looking up uniprot information for 6E67\n"
     ]
    },
    {
     "name": "stderr",
     "output_type": "stream",
     "text": [
      " 56%|█████████████████████████████████████████████████████████████████████████████████████████████████████████████████████████████████████████████████████████▌                                                                                                                      | 298/528 [08:58<06:52,  1.79s/it]"
     ]
    },
    {
     "name": "stdout",
     "output_type": "stream",
     "text": [
      "Error when looking up uniprot information for 6GDG\n"
     ]
    },
    {
     "name": "stderr",
     "output_type": "stream",
     "text": [
      " 63%|████████████████████████████████████████████████████████████████████████████████████████████████████████████████████████████████████████████████████████████████████████████                                                                                                    | 334/528 [10:11<06:25,  1.99s/it]"
     ]
    },
    {
     "name": "stdout",
     "output_type": "stream",
     "text": [
      "Error when looking up uniprot information for 6KQI\n"
     ]
    },
    {
     "name": "stderr",
     "output_type": "stream",
     "text": [
      "\r",
      " 63%|████████████████████████████████████████████████████████████████████████████████████████████████████████████████████████████████████████████████████████████████████████████▌                                                                                                   | 335/528 [10:13<06:34,  2.04s/it]"
     ]
    },
    {
     "name": "stdout",
     "output_type": "stream",
     "text": [
      "Error when looking up uniprot information for 6KUW\n"
     ]
    },
    {
     "name": "stderr",
     "output_type": "stream",
     "text": [
      "\r",
      " 64%|█████████████████████████████████████████████████████████████████████████████████████████████████████████████████████████████████████████████████████████████████████████████                                                                                                   | 336/528 [10:14<05:48,  1.81s/it]"
     ]
    },
    {
     "name": "stdout",
     "output_type": "stream",
     "text": [
      "Error when looking up uniprot information for 6KUX\n"
     ]
    },
    {
     "name": "stderr",
     "output_type": "stream",
     "text": [
      "\r",
      " 64%|█████████████████████████████████████████████████████████████████████████████████████████████████████████████████████████████████████████████████████████████████████████████▌                                                                                                  | 337/528 [10:15<05:27,  1.72s/it]"
     ]
    },
    {
     "name": "stdout",
     "output_type": "stream",
     "text": [
      "Error when looking up uniprot information for 6KUY\n"
     ]
    },
    {
     "name": "stderr",
     "output_type": "stream",
     "text": [
      " 66%|██████████████████████████████████████████████████████████████████████████████████████████████████████████████████████████████████████████████████████████████████████████████████▊                                                                                             | 347/528 [10:36<06:36,  2.19s/it]"
     ]
    },
    {
     "name": "stdout",
     "output_type": "stream",
     "text": [
      "Error when looking up uniprot information for 6LN2\n"
     ]
    },
    {
     "name": "stderr",
     "output_type": "stream",
     "text": [
      " 68%|███████████████████████████████████████████████████████████████████████████████████████████████████████████████████████████████████████████████████████████████████████████████████████▉                                                                                        | 357/528 [10:55<05:40,  1.99s/it]"
     ]
    },
    {
     "name": "stdout",
     "output_type": "stream",
     "text": [
      "Error when looking up uniprot information for 6M9T\n"
     ]
    },
    {
     "name": "stderr",
     "output_type": "stream",
     "text": [
      " 70%|██████████████████████████████████████████████████████████████████████████████████████████████████████████████████████████████████████████████████████████████████████████████████████████████                                                                                  | 369/528 [11:18<05:16,  1.99s/it]"
     ]
    },
    {
     "name": "stdout",
     "output_type": "stream",
     "text": [
      "Error when looking up uniprot information for 6MXT\n"
     ]
    },
    {
     "name": "stderr",
     "output_type": "stream",
     "text": [
      "\r",
      " 70%|██████████████████████████████████████████████████████████████████████████████████████████████████████████████████████████████████████████████████████████████████████████████████████████████▌                                                                                 | 370/528 [11:20<05:07,  1.94s/it]"
     ]
    },
    {
     "name": "stdout",
     "output_type": "stream",
     "text": [
      "Error when looking up uniprot information for 6N48\n"
     ]
    },
    {
     "name": "stderr",
     "output_type": "stream",
     "text": [
      " 72%|████████████████████████████████████████████████████████████████████████████████████████████████████████████████████████████████████████████████████████████████████████████████████████████████████▎                                                                           | 381/528 [11:46<04:50,  1.98s/it]"
     ]
    },
    {
     "name": "stdout",
     "output_type": "stream",
     "text": [
      "Error when looking up uniprot information for 6OBA\n"
     ]
    },
    {
     "name": "stderr",
     "output_type": "stream",
     "text": [
      " 73%|███████████████████████████████████████████████████████████████████████████████████████████████████████████████████████████████████████████████████████████████████████████████████████████████████████▎                                                                        | 387/528 [11:58<04:06,  1.75s/it]"
     ]
    },
    {
     "name": "stdout",
     "output_type": "stream",
     "text": [
      "Error when looking up uniprot information for 6ORV\n"
     ]
    },
    {
     "name": "stderr",
     "output_type": "stream",
     "text": [
      " 78%|█████████████████████████████████████████████████████████████████████████████████████████████████████████████████████████████████████████████████████████████████████████████████████████████████████████████████████▎                                                          | 414/528 [12:51<03:40,  1.93s/it]"
     ]
    },
    {
     "name": "stdout",
     "output_type": "stream",
     "text": [
      "Error when looking up uniprot information for 6PT2\n"
     ]
    },
    {
     "name": "stderr",
     "output_type": "stream",
     "text": [
      "\r",
      " 79%|█████████████████████████████████████████████████████████████████████████████████████████████████████████████████████████████████████████████████████████████████████████████████████████████████████████████████████▊                                                          | 415/528 [12:53<03:45,  1.99s/it]"
     ]
    },
    {
     "name": "stdout",
     "output_type": "stream",
     "text": [
      "Error when looking up uniprot information for 6PT3\n"
     ]
    },
    {
     "name": "stderr",
     "output_type": "stream",
     "text": [
      " 81%|███████████████████████████████████████████████████████████████████████████████████████████████████████████████████████████████████████████████████████████████████████████████████████████████████████████████████████████▍                                                    | 426/528 [13:13<02:44,  1.61s/it]"
     ]
    },
    {
     "name": "stdout",
     "output_type": "stream",
     "text": [
      "Error when looking up uniprot information for 6S0L\n"
     ]
    },
    {
     "name": "stderr",
     "output_type": "stream",
     "text": [
      " 84%|████████████████████████████████████████████████████████████████████████████████████████████████████████████████████████████████████████████████████████████████████████████████████████████████████████████████████████████████████▋                                           | 444/528 [13:49<03:15,  2.33s/it]"
     ]
    },
    {
     "name": "stdout",
     "output_type": "stream",
     "text": [
      "Error when looking up uniprot information for 6U1N\n"
     ]
    },
    {
     "name": "stderr",
     "output_type": "stream",
     "text": [
      " 87%|████████████████████████████████████████████████████████████████████████████████████████████████████████████████████████████████████████████████████████████████████████████████████████████████████████████████████████████████████████████▍                                   | 459/528 [14:24<02:36,  2.27s/it]"
     ]
    },
    {
     "name": "stdout",
     "output_type": "stream",
     "text": [
      "Error when looking up uniprot information for 6W2X\n"
     ]
    },
    {
     "name": "stderr",
     "output_type": "stream",
     "text": [
      "\r",
      " 87%|████████████████████████████████████████████████████████████████████████████████████████████████████████████████████████████████████████████████████████████████████████████████████████████████████████████████████████████████████████████▉                                   | 460/528 [14:27<02:40,  2.36s/it]"
     ]
    },
    {
     "name": "stdout",
     "output_type": "stream",
     "text": [
      "Error when looking up uniprot information for 6W2Y\n"
     ]
    },
    {
     "name": "stderr",
     "output_type": "stream",
     "text": [
      " 88%|██████████████████████████████████████████████████████████████████████████████████████████████████████████████████████████████████████████████████████████████████████████████████████████████████████████████████████████████████████████████▌                                 | 463/528 [14:34<02:35,  2.39s/it]"
     ]
    },
    {
     "name": "stdout",
     "output_type": "stream",
     "text": [
      "Error when looking up uniprot information for 6WHA\n"
     ]
    },
    {
     "name": "stderr",
     "output_type": "stream",
     "text": [
      " 92%|█████████████████████████████████████████████████████████████████████████████████████████████████████████████████████████████████████████████████████████████████████████████████████████████████████████████████████████████████████████████████████████▊                      | 485/528 [15:25<01:27,  2.04s/it]"
     ]
    },
    {
     "name": "stdout",
     "output_type": "stream",
     "text": [
      "Error when looking up uniprot information for 7BR3\n"
     ]
    },
    {
     "name": "stderr",
     "output_type": "stream",
     "text": [
      "100%|████████████████████████████████████████████████████████████████████████████████████████████████████████████████████████████████████████████████████████████████████████████████████████████████████████████████████████████████████████████████████████████████████████████████| 528/528 [17:05<00:00,  1.94s/it]\n"
     ]
    }
   ],
   "source": [
    "pdb.load_pdbs()"
   ]
  },
  {
   "cell_type": "code",
   "execution_count": 198,
   "id": "fuzzy-income",
   "metadata": {},
   "outputs": [
    {
     "data": {
      "image/png": "[encoded data removed]",
      "text/plain": [
       "<Figure size 720x576 with 1 Axes>"
      ]
     },
     "metadata": {
      "needs_background": "light"
     },
     "output_type": "display_data"
    }
   ],
   "source": [
    "pdb.plot_distr(mode='len')"
   ]
  },
  {
   "cell_type": "code",
   "execution_count": 199,
   "id": "inner-water",
   "metadata": {},
   "outputs": [
    {
     "data": {
      "image/png": "[encoded data removed]",
      "text/plain": [
       "<Figure size 1008x576 with 1 Axes>"
      ]
     },
     "metadata": {
      "needs_background": "light"
     },
     "output_type": "display_data"
    }
   ],
   "source": [
    "pdb.plot_distr(mode='residues')"
   ]
  },
  {
   "cell_type": "code",
   "execution_count": 200,
   "id": "fundamental-isaac",
   "metadata": {},
   "outputs": [
    {
     "data": {
      "text/plain": [
       "[[0, '001', array([ 43.958,  -5.98 , -27.758], dtype=float32), 'N'],\n",
       " [0, '001', array([ 44.718,  -5.054, -26.911], dtype=float32), 'CA'],\n",
       " [0, '001', array([ 44.069,  -4.848, -25.543], dtype=float32), 'C'],\n",
       " [0, '001', array([ 42.854,  -4.618, -25.451], dtype=float32), 'O'],\n",
       " [0, '002', array([ 44.895,  -4.928, -24.496], dtype=float32), 'N'],\n",
       " [0, '002', array([ 44.449,  -4.763, -23.103], dtype=float32), 'CA'],\n",
       " [0, '002', array([ 44.474,  -3.296, -22.697], dtype=float32), 'C'],\n",
       " [0, '002', array([ 44.065,  -2.934, -21.591], dtype=float32), 'O'],\n",
       " [0, '003', array([ 44.982,  -2.466, -23.598], dtype=float32), 'N'],\n",
       " [0, '003', array([ 45.06 ,  -1.05 , -23.332], dtype=float32), 'CA'],\n",
       " [0, '003', array([ 44.975,  -0.193, -24.576], dtype=float32), 'C'],\n",
       " [0, '003', array([ 45.481,  -0.545, -25.645], dtype=float32), 'O'],\n",
       " [0, '004', array([ 44.321,   0.946, -24.419], dtype=float32), 'N'],\n",
       " [0, '004', array([ 44.165,   1.892, -25.494], dtype=float32), 'CA'],\n",
       " [0, '004', array([ 45.409,   2.775, -25.508], dtype=float32), 'C'],\n",
       " [0, '004', array([ 45.662,   3.492, -24.545], dtype=float32), 'O'],\n",
       " [0, '005', array([ 46.225,   2.647, -26.555], dtype=float32), 'N'],\n",
       " [0, '005', array([ 47.438,   3.458, -26.71 ], dtype=float32), 'CA'],\n",
       " [0, '005', array([ 47.146,   4.651, -27.612], dtype=float32), 'C'],\n",
       " [0, '005', array([ 46.687,   4.48 , -28.742], dtype=float32), 'O'],\n",
       " [0, '006', array([ 47.387,   5.855, -27.102], dtype=float32), 'N'],\n",
       " [0, '006', array([ 47.169,   7.053, -27.891], dtype=float32), 'CA'],\n",
       " [0, '006', array([ 48.52 ,   7.63 , -28.257], dtype=float32), 'C'],\n",
       " [0, '006', array([ 49.553,   7.1  , -27.841], dtype=float32), 'O'],\n",
       " [0, '007', array([ 48.559,   8.716, -29.038], dtype=float32), 'N'],\n",
       " [0, '007', array([ 49.839,   9.324, -29.428], dtype=float32), 'CA'],\n",
       " [0, '007', array([ 50.496,  10.078, -28.271], dtype=float32), 'C'],\n",
       " [0, '007', array([ 51.663,  10.474, -28.348], dtype=float32), 'O'],\n",
       " [0, '008', array([ 49.736,  10.207, -27.185], dtype=float32), 'N'],\n",
       " [0, '008', array([ 50.129,  10.922, -25.971], dtype=float32), 'CA'],\n",
       " [0, '008', array([ 50.034,  10.095, -24.692], dtype=float32), 'C'],\n",
       " [0, '008', array([ 50.677,  10.418, -23.685], dtype=float32), 'O'],\n",
       " [0, '009', array([ 49.237,   9.031, -24.742], dtype=float32), 'N'],\n",
       " [0, '009', array([ 48.969,   8.227, -23.567], dtype=float32), 'CA'],\n",
       " [0, '009', array([ 48.875,   6.719, -23.737], dtype=float32), 'C'],\n",
       " [0, '009', array([ 49.154,   6.149, -24.787], dtype=float32), 'O'],\n",
       " [0, '010', array([ 48.441,   6.1  , -22.651], dtype=float32), 'N'],\n",
       " [0, '010', array([ 48.209,   4.681, -22.569], dtype=float32), 'CA'],\n",
       " [0, '010', array([ 47.259,   4.528, -21.393], dtype=float32), 'C'],\n",
       " [0, '010', array([ 47.651,   4.716, -20.23 ], dtype=float32), 'O'],\n",
       " [0, '011', array([ 45.98 ,   4.345, -21.71 ], dtype=float32), 'N'],\n",
       " [0, '011', array([ 44.968,   4.135, -20.678], dtype=float32), 'CA'],\n",
       " [0, '011', array([ 45.029,   2.627, -20.45 ], dtype=float32), 'C'],\n",
       " [0, '011', array([ 45.026,   1.863, -21.412], dtype=float32), 'O'],\n",
       " [0, '012', array([ 45.184,   2.188, -19.188], dtype=float32), 'N'],\n",
       " [0, '012', array([ 45.257,   0.768, -18.82 ], dtype=float32), 'CA'],\n",
       " [0, '012', array([ 43.907,   0.051, -18.958], dtype=float32), 'C'],\n",
       " [0, '012', array([ 43.658,  -0.941, -18.276], dtype=float32), 'O'],\n",
       " [0, '013', array([ 43.074,   0.547, -19.877], dtype=float32), 'N'],\n",
       " [0, '013', array([ 41.717,   0.044, -20.144], dtype=float32), 'CA'],\n",
       " [0, '013', array([ 41.555,  -0.423, -21.591], dtype=float32), 'C'],\n",
       " [0, '013', array([ 42.219,   0.087, -22.491], dtype=float32), 'O'],\n",
       " [0, '014', array([ 40.623,  -1.344, -21.819], dtype=float32), 'N'],\n",
       " [0, '014', array([ 40.376,  -1.845, -23.165], dtype=float32), 'CA'],\n",
       " [0, '014', array([ 39.303,  -1.034, -23.89 ], dtype=float32), 'C'],\n",
       " [0, '014', array([ 38.228,  -0.761, -23.34 ], dtype=float32), 'O'],\n",
       " [0, '015', array([ 39.589,  -0.666, -25.134], dtype=float32), 'N'],\n",
       " [0, '015', array([ 38.636,   0.106, -25.907], dtype=float32), 'CA'],\n",
       " [0, '015', array([ 37.77 ,  -0.734, -26.827], dtype=float32), 'C'],\n",
       " [0, '015', array([ 37.173,  -0.232, -27.784], dtype=float32), 'O'],\n",
       " [0, '016', array([ 37.687,  -2.021, -26.527], dtype=float32), 'N'],\n",
       " [0, '016', array([ 36.88 ,  -2.932, -27.325], dtype=float32), 'CA'],\n",
       " [0, '016', array([ 35.423,  -2.608, -27.016], dtype=float32), 'C'],\n",
       " [0, '016', array([ 34.516,  -3.378, -27.324], dtype=float32), 'O'],\n",
       " [0, '017', array([ 35.231,  -1.457, -26.381], dtype=float32), 'N'],\n",
       " [0, '017', array([ 33.921,  -0.942, -26.001], dtype=float32), 'CA'],\n",
       " [0, '017', array([ 33.801,   0.513, -26.482], dtype=float32), 'C'],\n",
       " [0, '017', array([ 32.733,   1.128, -26.366], dtype=float32), 'O'],\n",
       " [0, '018', array([ 34.909,   1.063, -26.989], dtype=float32), 'N'],\n",
       " [0, '018', array([ 34.923,   2.44 , -27.46 ], dtype=float32), 'CA'],\n",
       " [0, '018', array([ 34.744,   3.438, -26.326], dtype=float32), 'C'],\n",
       " [0, '018', array([ 34.778,   4.653, -26.536], dtype=float32), 'O'],\n",
       " [0, '019', array([ 34.601,   2.909, -25.112], dtype=float32), 'N'],\n",
       " [0, '019', array([ 34.381,   3.707, -23.909], dtype=float32), 'CA'],\n",
       " [0, '019', array([ 35.608,   4.492, -23.463], dtype=float32), 'C'],\n",
       " [0, '019', array([ 35.479,   5.458, -22.714], dtype=float32), 'O'],\n",
       " [0, '020', array([ 36.792,   4.085, -23.918], dtype=float32), 'N'],\n",
       " [0, '020', array([ 38.014,   4.796, -23.553], dtype=float32), 'CA'],\n",
       " [0, '020', array([ 38.014,   6.158, -24.231], dtype=float32), 'C'],\n",
       " [0, '020', array([ 37.43 ,   6.331, -25.298], dtype=float32), 'O'],\n",
       " [0, '021', array([ 38.608,   7.139, -23.564], dtype=float32), 'N'],\n",
       " [0, '021', array([ 38.697,   8.493, -24.104], dtype=float32), 'CA'],\n",
       " [0, '021', array([ 39.965,   9.192, -23.592], dtype=float32), 'C'],\n",
       " [0, '021', array([ 40.328,   9.057, -22.42 ], dtype=float32), 'O'],\n",
       " [0, '022', array([ 40.635,   9.926, -24.482], dtype=float32), 'N'],\n",
       " [0, '022', array([ 41.879,  10.627, -24.165], dtype=float32), 'CA'],\n",
       " [0, '022', array([ 41.835,  11.328, -22.818], dtype=float32), 'C'],\n",
       " [0, '022', array([ 40.884,  12.046, -22.52 ], dtype=float32), 'O'],\n",
       " [0, '023', array([ 42.843,  11.079, -21.959], dtype=float32), 'N'],\n",
       " [0, '023', array([ 42.949,  11.679, -20.624], dtype=float32), 'CA'],\n",
       " [0, '023', array([ 43.199,  13.179, -20.698], dtype=float32), 'C'],\n",
       " [0, '023', array([ 43.506,  13.808, -19.687], dtype=float32), 'O'],\n",
       " [0, '024', array([ 43.087,  13.736, -21.903], dtype=float32), 'N'],\n",
       " [0, '024', array([ 43.281,  15.163, -22.131], dtype=float32), 'CA'],\n",
       " [0, '024', array([ 42.037,  15.799, -22.753], dtype=float32), 'C'],\n",
       " [0, '024', array([ 42.042,  16.996, -23.061], dtype=float32), 'O'],\n",
       " [0, '025', array([ 40.98 ,  14.999, -22.923], dtype=float32), 'N'],\n",
       " [0, '025', array([ 39.723,  15.461, -23.523], dtype=float32), 'CA'],\n",
       " [0, '025', array([ 38.445,  15.109, -22.735], dtype=float32), 'C'],\n",
       " [0, '025', array([ 37.401,  15.736, -22.952], dtype=float32), 'O'],\n",
       " [0, '026', array([ 38.516,  14.121, -21.837], dtype=float32), 'N'],\n",
       " [0, '026', array([ 37.338,  13.697, -21.057], dtype=float32), 'CA'],\n",
       " [0, '026', array([ 37.645,  12.944, -19.747], dtype=float32), 'C'],\n",
       " [0, '026', array([ 38.664,  12.265, -19.645], dtype=float32), 'O'],\n",
       " [0, '027', array([ 36.749,  13.034, -18.739], dtype=float32), 'N'],\n",
       " [0, '027', array([ 36.954,  12.349, -17.46 ], dtype=float32), 'CA'],\n",
       " [0, '027', array([ 37.084,  10.829, -17.618], dtype=float32), 'C'],\n",
       " [0, '027', array([ 36.42 ,  10.226, -18.462], dtype=float32), 'O'],\n",
       " [0, '028', array([ 37.936,  10.221, -16.796], dtype=float32), 'N'],\n",
       " [0, '028', array([ 38.184,   8.783, -16.839], dtype=float32), 'CA'],\n",
       " [0, '028', array([ 37.296,   7.973, -15.909], dtype=float32), 'C'],\n",
       " [0, '028', array([ 37.69 ,   6.918, -15.427], dtype=float32), 'O'],\n",
       " [0, '029', array([ 36.081,   8.457, -15.692], dtype=float32), 'N'],\n",
       " [0, '029', array([ 35.12 ,   7.801, -14.81 ], dtype=float32), 'CA'],\n",
       " [0, '029', array([ 34.791,   6.398, -15.247], dtype=float32), 'C'],\n",
       " [0, '029', array([ 34.284,   5.605, -14.468], dtype=float32), 'O'],\n",
       " [0, '030', array([ 35.05 ,   6.098, -16.507], dtype=float32), 'N'],\n",
       " [0, '030', array([ 34.777,   4.764, -16.998], dtype=float32), 'CA'],\n",
       " [0, '030', array([ 35.831,   3.793, -16.442], dtype=float32), 'C'],\n",
       " [0, '030', array([ 35.62 ,   2.584, -16.429], dtype=float32), 'O'],\n",
       " [0, '031', array([ 36.946,   4.341, -15.953], dtype=float32), 'N'],\n",
       " [0, '031', array([ 38.045,   3.549, -15.385], dtype=float32), 'CA'],\n",
       " [0, '031', array([ 37.776,   3.095, -13.948], dtype=float32), 'C'],\n",
       " [0, '031', array([ 38.433,   2.179, -13.448], dtype=float32), 'O'],\n",
       " [0, '032', array([ 36.853,   3.784, -13.281], dtype=float32), 'N'],\n",
       " [0, '032', array([ 36.452,   3.504, -11.895], dtype=float32), 'CA'],\n",
       " [0, '032', array([ 35.491,   4.616, -11.434], dtype=float32), 'C'],\n",
       " [0, '032', array([ 35.488,   5.714, -11.997], dtype=float32), 'O'],\n",
       " [0, '033', array([ 34.704,   4.338, -10.397], dtype=float32), 'N'],\n",
       " [0, '033', array([33.717,  5.284, -9.859], dtype=float32), 'CA'],\n",
       " [0, '033', array([34.151,  6.743, -9.619], dtype=float32), 'C'],\n",
       " [0, '033', array([35.334,  7.031, -9.432], dtype=float32), 'O'],\n",
       " [0, '034', array([33.188,  7.69 , -9.687], dtype=float32), 'N'],\n",
       " [0, '034', array([33.44 ,  9.123, -9.474], dtype=float32), 'CA'],\n",
       " [0, '034', array([33.957,  9.465, -8.064], dtype=float32), 'C'],\n",
       " [0, '034', array([34.81 , 10.343, -7.905], dtype=float32), 'O'],\n",
       " [0, '035', array([33.451,  8.764, -7.051], dtype=float32), 'N'],\n",
       " [0, '035', array([33.865,  9.008, -5.673], dtype=float32), 'CA'],\n",
       " [0, '035', array([35.347,  8.698, -5.41 ], dtype=float32), 'C'],\n",
       " [0, '035', array([35.955,  9.26 , -4.502], dtype=float32), 'O'],\n",
       " [0, '036', array([35.919,  7.789, -6.19 ], dtype=float32), 'N'],\n",
       " [0, '036', array([37.327,  7.445, -6.041], dtype=float32), 'CA'],\n",
       " [0, '036', array([38.16 ,  8.641, -6.503], dtype=float32), 'C'],\n",
       " [0, '036', array([39.179,  8.979, -5.893], dtype=float32), 'O'],\n",
       " [0, '037', array([37.7  ,  9.29 , -7.572], dtype=float32), 'N'],\n",
       " [0, '037', array([38.354, 10.48 , -8.097], dtype=float32), 'CA'],\n",
       " [0, '037', array([38.183, 11.577, -7.053], dtype=float32), 'C'],\n",
       " [0, '037', array([39.04 , 12.444, -6.895], dtype=float32), 'O'],\n",
       " [0, '038', array([37.072, 11.513, -6.324], dtype=float32), 'N'],\n",
       " [0, '038', array([36.788, 12.483, -5.277], dtype=float32), 'CA'],\n",
       " [0, '038', array([37.757, 12.312, -4.108], dtype=float32), 'C'],\n",
       " [0, '038', array([38.15 , 13.296, -3.486], dtype=float32), 'O'],\n",
       " [0, '039', array([38.135, 11.07 , -3.807], dtype=float32), 'N'],\n",
       " [0, '039', array([39.074, 10.815, -2.721], dtype=float32), 'CA'],\n",
       " [0, '039', array([40.482, 11.301, -3.064], dtype=float32), 'C'],\n",
       " [0, '039', array([41.214, 11.781, -2.184], dtype=float32), 'O'],\n",
       " [0, '040', array([40.845, 11.203, -4.345], dtype=float32), 'N'],\n",
       " [0, '040', array([42.142, 11.682, -4.801], dtype=float32), 'CA'],\n",
       " [0, '040', array([42.13 , 13.191, -4.627], dtype=float32), 'C'],\n",
       " [0, '040', array([43.053, 13.752, -4.044], dtype=float32), 'O'],\n",
       " [0, '041', array([41.068, 13.839, -5.108], dtype=float32), 'N'],\n",
       " [0, '041', array([40.927, 15.283, -4.979], dtype=float32), 'CA'],\n",
       " [0, '041', array([40.997, 15.702, -3.495], dtype=float32), 'C'],\n",
       " [0, '041', array([41.693, 16.663, -3.152], dtype=float32), 'O'],\n",
       " [0, '042', array([40.308, 14.97 , -2.612], dtype=float32), 'N'],\n",
       " [0, '042', array([40.337, 15.271, -1.177], dtype=float32), 'CA'],\n",
       " [0, '042', array([41.774, 15.093, -0.716], dtype=float32), 'C'],\n",
       " [0, '042', array([42.407, 16.04 , -0.251], dtype=float32), 'O'],\n",
       " [0, '043', array([42.297, 13.886, -0.917], dtype=float32), 'N'],\n",
       " [0, '043', array([43.668, 13.542, -0.552], dtype=float32), 'CA'],\n",
       " [0, '043', array([44.708, 14.598, -0.954], dtype=float32), 'C'],\n",
       " [0, '043', array([45.555, 15.002, -0.145], dtype=float32), 'O'],\n",
       " [0, '044', array([44.676, 14.999, -2.221], dtype=float32), 'N'],\n",
       " [0, '044', array([45.607, 16.011, -2.726], dtype=float32), 'CA'],\n",
       " [0, '044', array([45.384, 17.343, -2.026], dtype=float32), 'C'],\n",
       " [0, '044', array([46.326, 18.065, -1.747], dtype=float32), 'O'],\n",
       " [0, '045', array([44.128, 17.644, -1.727], dtype=float32), 'N'],\n",
       " [0, '045', array([43.776, 18.87 , -1.036], dtype=float32), 'CA'],\n",
       " [0, '045', array([44.409, 18.892,  0.364], dtype=float32), 'C'],\n",
       " [0, '045', array([44.95 , 19.917,  0.79 ], dtype=float32), 'O'],\n",
       " [0, '046', array([44.363, 17.753,  1.056], dtype=float32), 'N'],\n",
       " [0, '046', array([44.943, 17.616,  2.396], dtype=float32), 'CA'],\n",
       " [0, '046', array([46.46 , 17.659,  2.359], dtype=float32), 'C'],\n",
       " [0, '046', array([47.077, 18.077,  3.331], dtype=float32), 'O'],\n",
       " [0, '047', array([47.063, 17.176,  1.269], dtype=float32), 'N'],\n",
       " [0, '047', array([48.529, 17.203,  1.129], dtype=float32), 'CA'],\n",
       " [0, '047', array([49.003, 18.626,  0.862], dtype=float32), 'C'],\n",
       " [0, '047', array([50.081, 19.039,  1.29 ], dtype=float32), 'O'],\n",
       " [0, '048', array([48.21 , 19.354,  0.09 ], dtype=float32), 'N'],\n",
       " [0, '048', array([48.531, 20.722, -0.234], dtype=float32), 'CA'],\n",
       " [0, '048', array([48.342, 21.576,  1.008], dtype=float32), 'C'],\n",
       " [0, '048', array([49.033, 22.581,  1.189], dtype=float32), 'O'],\n",
       " [0, '049', array([47.435, 21.151,  1.884], dtype=float32), 'N'],\n",
       " [0, '049', array([47.176, 21.888,  3.12 ], dtype=float32), 'CA'],\n",
       " [0, '049', array([48.28 , 21.652,  4.15 ], dtype=float32), 'C'],\n",
       " [0, '049', array([48.562, 22.525,  4.978], dtype=float32), 'O'],\n",
       " [0, '050', array([48.901, 20.476,  4.089], dtype=float32), 'N'],\n",
       " [0, '050', array([49.991, 20.129,  4.997], dtype=float32), 'CA'],\n",
       " [0, '050', array([51.367, 20.532,  4.439], dtype=float32), 'C'],\n",
       " [0, '050', array([52.142, 21.23 ,  5.102], dtype=float32), 'O'],\n",
       " [0, '051', array([51.659, 20.073,  3.221], dtype=float32), 'N'],\n",
       " [0, '051', array([52.93 , 20.35 ,  2.578], dtype=float32), 'CA'],\n",
       " [0, '051', array([53.264, 21.815,  2.481], dtype=float32), 'C'],\n",
       " [0, '051', array([54.427, 22.182,  2.472], dtype=float32), 'O'],\n",
       " [0, '052', array([52.247, 22.66 ,  2.401], dtype=float32), 'N'],\n",
       " [0, '052', array([52.513, 24.078,  2.306], dtype=float32), 'CA'],\n",
       " [0, '052', array([53.101, 24.663,  3.605], dtype=float32), 'C'],\n",
       " [0, '052', array([54.296, 25.003,  3.642], dtype=float32), 'O'],\n",
       " [0, '053', array([52.289, 24.768,  4.687], dtype=float32), 'N'],\n",
       " [0, '053', array([52.77 , 25.313,  5.962], dtype=float32), 'CA'],\n",
       " [0, '053', array([54.011, 24.593,  6.47 ], dtype=float32), 'C'],\n",
       " [0, '053', array([55.055, 25.209,  6.629], dtype=float32), 'O'],\n",
       " [0, '054', array([53.898, 23.289,  6.693], dtype=float32), 'N'],\n",
       " [0, '054', array([55.018, 22.497,  7.181], dtype=float32), 'CA'],\n",
       " [0, '054', array([56.291, 22.831,  6.439], dtype=float32), 'C'],\n",
       " [0, '054', array([57.313, 23.056,  7.05 ], dtype=float32), 'O'],\n",
       " [0, '055', array([56.208, 22.889,  5.118], dtype=float32), 'N'],\n",
       " [0, '055', array([57.37 , 23.207,  4.304], dtype=float32), 'CA'],\n",
       " [0, '055', array([57.708, 24.676,  4.335], dtype=float32), 'C'],\n",
       " [0, '055', array([58.879, 25.038,  4.311], dtype=float32), 'O'],\n",
       " [0, '056', array([56.686, 25.522,  4.394], dtype=float32), 'N'],\n",
       " [0, '056', array([56.915, 26.958,  4.447], dtype=float32), 'CA'],\n",
       " [0, '056', array([57.417, 27.473,  5.809], dtype=float32), 'C'],\n",
       " [0, '056', array([58.142, 28.462,  5.87 ], dtype=float32), 'O'],\n",
       " [0, '057', array([56.977, 26.844,  6.896], dtype=float32), 'N'],\n",
       " [0, '057', array([57.42 , 27.211,  8.239], dtype=float32), 'CA'],\n",
       " [0, '057', array([58.862, 26.746,  8.37 ], dtype=float32), 'C'],\n",
       " [0, '057', array([59.702, 27.437,  8.918], dtype=float32), 'O'],\n",
       " [0, '058', array([59.125, 25.541,  7.883], dtype=float32), 'N'],\n",
       " [0, '058', array([60.456, 24.969,  7.908], dtype=float32), 'CA'],\n",
       " [0, '058', array([61.385, 25.921,  7.178], dtype=float32), 'C'],\n",
       " [0, '058', array([62.508, 26.17 ,  7.606], dtype=float32), 'O'],\n",
       " [0, '059', array([60.897, 26.439,  6.059], dtype=float32), 'N'],\n",
       " [0, '059', array([61.649, 27.374,  5.236], dtype=float32), 'CA'],\n",
       " [0, '059', array([61.843, 28.725,  5.949], dtype=float32), 'C'],\n",
       " [0, '059', array([62.974, 29.193,  6.121], dtype=float32), 'O'],\n",
       " [0, '060', array([60.738, 29.32 ,  6.395], dtype=float32), 'N'],\n",
       " [0, '060', array([60.768, 30.6  ,  7.085], dtype=float32), 'CA'],\n",
       " [0, '060', array([61.628, 30.553,  8.35 ], dtype=float32), 'C'],\n",
       " [0, '060', array([62.245, 31.542,  8.731], dtype=float32), 'O'],\n",
       " [0, '061', array([61.684, 29.406,  9.004], dtype=float32), 'N'],\n",
       " [0, '061', array([62.48 , 29.319, 10.209], dtype=float32), 'CA'],\n",
       " [0, '061', array([63.98 , 29.393,  9.881], dtype=float32), 'C'],\n",
       " [0, '061', array([64.668, 30.285, 10.381], dtype=float32), 'O'],\n",
       " [0, '062', array([64.457, 28.551,  8.957], dtype=float32), 'N'],\n",
       " [0, '062', array([65.893, 28.504,  8.6  ], dtype=float32), 'CA'],\n",
       " [0, '062', array([66.521, 29.857,  8.19 ], dtype=float32), 'C'],\n",
       " [0, '062', array([67.661, 30.176,  8.562], dtype=float32), 'O'],\n",
       " [0, '063', array([65.756, 30.646,  7.44 ], dtype=float32), 'N'],\n",
       " [0, '063', array([66.187, 31.959,  6.948], dtype=float32), 'CA'],\n",
       " [0, '063', array([66.345, 32.984,  8.075], dtype=float32), 'C'],\n",
       " [0, '063', array([67.351, 33.704,  8.148], dtype=float32), 'O'],\n",
       " [0, '064', array([65.321, 33.043,  8.926], dtype=float32), 'N'],\n",
       " [0, '064', array([65.252, 33.959, 10.056], dtype=float32), 'CA'],\n",
       " [0, '064', array([66.316, 33.729, 11.11 ], dtype=float32), 'C'],\n",
       " [0, '064', array([66.793, 34.687, 11.725], dtype=float32), 'O'],\n",
       " [0, '065', array([66.635, 32.459, 11.356], dtype=float32), 'N'],\n",
       " [0, '065', array([67.646, 32.095, 12.343], dtype=float32), 'CA'],\n",
       " [0, '065', array([69.018, 32.018, 11.68 ], dtype=float32), 'C'],\n",
       " [0, '065', array([69.414, 30.985, 11.137], dtype=float32), 'O'],\n",
       " [0, '066', array([69.728, 33.144, 11.753], dtype=float32), 'N'],\n",
       " [0, '066', array([71.042, 33.35 , 11.144], dtype=float32), 'CA'],\n",
       " [0, '066', array([72.194, 32.371, 11.384], dtype=float32), 'C'],\n",
       " [0, '066', array([73.126, 32.33 , 10.577], dtype=float32), 'O'],\n",
       " [0, '067', array([72.136, 31.579, 12.457], dtype=float32), 'N'],\n",
       " [0, '067', array([73.201, 30.601, 12.736], dtype=float32), 'CA'],\n",
       " [0, '067', array([72.815, 29.148, 12.415], dtype=float32), 'C'],\n",
       " [0, '067', array([73.555, 28.218, 12.734], dtype=float32), 'O'],\n",
       " [0, '068', array([71.649, 28.958, 11.803], dtype=float32), 'N'],\n",
       " [0, '068', array([71.177, 27.624, 11.42 ], dtype=float32), 'CA'],\n",
       " [0, '068', array([71.717, 27.366, 10.006], dtype=float32), 'C'],\n",
       " [0, '068', array([70.957, 27.306,  9.029], dtype=float32), 'O'],\n",
       " [0, '069', array([73.035, 27.18 ,  9.915], dtype=float32), 'N'],\n",
       " [0, '069', array([73.682, 27.009,  8.627], dtype=float32), 'CA'],\n",
       " [0, '069', array([74.636, 25.834,  8.405], dtype=float32), 'C'],\n",
       " [0, '069', array([75.589, 25.953,  7.643], dtype=float32), 'O'],\n",
       " [0, '070', array([74.372, 24.691,  9.028], dtype=float32), 'N'],\n",
       " [0, '070', array([75.227, 23.511,  8.82 ], dtype=float32), 'CA'],\n",
       " [0, '070', array([74.747, 22.783,  7.55 ], dtype=float32), 'C'],\n",
       " [0, '070', array([73.62 , 23.023,  7.096], dtype=float32), 'O'],\n",
       " [0, '071', array([75.603, 21.931,  6.927], dtype=float32), 'N'],\n",
       " [0, '071', array([75.158, 21.219,  5.718], dtype=float32), 'CA'],\n",
       " [0, '071', array([73.753, 20.633,  5.894], dtype=float32), 'C'],\n",
       " [0, '071', array([72.903, 20.799,  5.024], dtype=float32), 'O'],\n",
       " [0, '072', array([73.493, 20.031,  7.054], dtype=float32), 'N'],\n",
       " [0, '072', array([72.183, 19.469,  7.348], dtype=float32), 'CA'],\n",
       " [0, '072', array([71.119, 20.558,  7.317], dtype=float32), 'C'],\n",
       " [0, '072', array([70.09 , 20.411,  6.673], dtype=float32), 'O'],\n",
       " [0, '073', array([71.371, 21.648,  8.031], dtype=float32), 'N'],\n",
       " [0, '073', array([70.435, 22.77 ,  8.095], dtype=float32), 'CA'],\n",
       " [0, '073', array([70.19 , 23.319,  6.699], dtype=float32), 'C'],\n",
       " [0, '073', array([69.098, 23.8  ,  6.409], dtype=float32), 'O'],\n",
       " [0, '074', array([71.208, 23.212,  5.843], dtype=float32), 'N'],\n",
       " [0, '074', array([71.172, 23.684,  4.457], dtype=float32), 'CA'],\n",
       " [0, '074', array([70.381, 22.779,  3.536], dtype=float32), 'C'],\n",
       " [0, '074', array([69.476, 23.217,  2.826], dtype=float32), 'O'],\n",
       " [0, '075', array([70.817, 21.526,  3.485], dtype=float32), 'N'],\n",
       " [0, '075', array([70.201, 20.497,  2.657], dtype=float32), 'CA'],\n",
       " [0, '075', array([68.722, 20.324,  3.004], dtype=float32), 'C'],\n",
       " [0, '075', array([67.949, 19.799,  2.201], dtype=float32), 'O'],\n",
       " [0, '076', array([68.321, 20.79 ,  4.185], dtype=float32), 'N'],\n",
       " [0, '076', array([66.928, 20.67 ,  4.585], dtype=float32), 'CA'],\n",
       " [0, '076', array([66.065, 21.885,  4.265], dtype=float32), 'C'],\n",
       " [0, '076', array([64.84 , 21.83 ,  4.381], dtype=float32), 'O'],\n",
       " [0, '077', array([66.704, 22.971,  3.842], dtype=float32), 'N'],\n",
       " [0, '077', array([65.986, 24.179,  3.444], dtype=float32), 'CA'],\n",
       " [0, '077', array([65.638, 23.903,  1.988], dtype=float32), 'C'],\n",
       " [0, '077', array([64.577, 24.292,  1.491], dtype=float32), 'O'],\n",
       " [0, '078', array([66.562, 23.199,  1.333], dtype=float32), 'N'],\n",
       " [0,\n",
       "  '078',\n",
       "  array([ 6.6469e+01,  2.2784e+01, -6.5000e-02], dtype=float32),\n",
       "  'CA'],\n",
       " [0, '078', array([65.209, 21.959, -0.276], dtype=float32), 'C'],\n",
       " [0, '078', array([64.478, 22.151, -1.241], dtype=float32), 'O'],\n",
       " [0, '079', array([64.947, 21.064,  0.662], dtype=float32), 'N'],\n",
       " [0, '079', array([63.791, 20.202,  0.578], dtype=float32), 'CA'],\n",
       " [0, '079', array([62.478, 20.959,  0.779], dtype=float32), 'C'],\n",
       " [0, '079', array([61.484, 20.667,  0.108], dtype=float32), 'O'],\n",
       " [0, '080', array([62.484, 21.967,  1.651], dtype=float32), 'N'],\n",
       " [0, '080', array([61.28 , 22.76 ,  1.894], dtype=float32), 'CA'],\n",
       " [0, '080', array([60.856, 23.495,  0.614], dtype=float32), 'C'],\n",
       " [0, '080', array([59.665, 23.615,  0.321], dtype=float32), 'O'],\n",
       " [0, '081', array([61.833, 23.958, -0.161], dtype=float32), 'N'],\n",
       " [0, '081', array([61.541, 24.663, -1.408], dtype=float32), 'CA'],\n",
       " [0, '081', array([61.039, 23.683, -2.473], dtype=float32), 'C'],\n",
       " [0, '081', array([60.004, 23.923, -3.1  ], dtype=float32), 'O'],\n",
       " [0, '082', array([61.781, 22.589, -2.663], dtype=float32), 'N'],\n",
       " [0, '082', array([61.428, 21.549, -3.625], dtype=float32), 'CA'],\n",
       " [0, '082', array([60.023, 21.041, -3.308], dtype=float32), 'C'],\n",
       " [0, '082', array([59.232, 20.803, -4.229], dtype=float32), 'O'],\n",
       " [0, '083', array([59.71 , 20.914, -2.012], dtype=float32), 'N'],\n",
       " [0, '083', array([58.39 , 20.469, -1.577], dtype=float32), 'CA'],\n",
       " [0, '083', array([57.348, 21.549, -1.886], dtype=float32), 'C'],\n",
       " [0, '083', array([56.261, 21.227, -2.378], dtype=float32), 'O'],\n",
       " [0, '084', array([57.683, 22.822, -1.635], dtype=float32), 'N'],\n",
       " [0, '084', array([56.769, 23.933, -1.932], dtype=float32), 'CA'],\n",
       " [0, '084', array([56.545, 23.972, -3.438], dtype=float32), 'C'],\n",
       " [0, '084', array([55.444, 24.25 , -3.903], dtype=float32), 'O'],\n",
       " [0, '085', array([57.593, 23.671, -4.198], dtype=float32), 'N'],\n",
       " [0, '085', array([57.491, 23.632, -5.655], dtype=float32), 'CA']]"
      ]
     },
     "execution_count": 200,
     "metadata": {},
     "output_type": "execute_result"
    }
   ],
   "source": [
    "pdb.data.Structure.iloc[0]"
   ]
  },
  {
   "cell_type": "code",
   "execution_count": 201,
   "id": "warming-township",
   "metadata": {},
   "outputs": [
    {
     "name": "stdout",
     "output_type": "stream",
     "text": [
      "uniprot: 348 | pdb_padded: 342 | missing tail length: 6\n",
      "uniprot: 348 | pdb_padded: 332 | missing tail length: 16\n",
      "uniprot: 348 | pdb_padded: 345 | missing tail length: 3\n",
      "uniprot: 348 | pdb_padded: 345 | missing tail length: 3\n",
      "uniprot: 348 | pdb_padded: 332 | missing tail length: 16\n",
      "uniprot: 348 | pdb_padded: 326 | missing tail length: 22\n",
      "uniprot: 413 | pdb_padded: 217 | missing tail length: 196\n",
      "uniprot: 413 | pdb_padded: 217 | missing tail length: 196\n",
      "uniprot: 413 | pdb_padded: 1133 | missing tail length: -720\n",
      "uniprot: 483 | pdb_padded: 319 | missing tail length: 164\n",
      "uniprot: 483 | pdb_padded: 326 | missing tail length: 157\n",
      "uniprot: 483 | pdb_padded: 326 | missing tail length: 157\n",
      "uniprot: 483 | pdb_padded: 326 | missing tail length: 157\n",
      "uniprot: 483 | pdb_padded: 326 | missing tail length: 157\n",
      "uniprot: 483 | pdb_padded: 326 | missing tail length: 157\n",
      "uniprot: 483 | pdb_padded: 325 | missing tail length: 158\n",
      "uniprot: 483 | pdb_padded: 314 | missing tail length: 169\n",
      "uniprot: 483 | pdb_padded: 290 | missing tail length: 193\n",
      "uniprot: 483 | pdb_padded: 319 | missing tail length: 164\n",
      "uniprot: 412 | pdb_padded: 319 | missing tail length: 93\n",
      "uniprot: 412 | pdb_padded: 323 | missing tail length: 89\n",
      "uniprot: 348 | pdb_padded: 332 | missing tail length: 16\n",
      "uniprot: 413 | pdb_padded: 1130 | missing tail length: -717\n",
      "uniprot: 412 | pdb_padded: 366 | missing tail length: 46\n",
      "uniprot: 413 | pdb_padded: 223 | missing tail length: 190\n",
      "uniprot: 413 | pdb_padded: 1130 | missing tail length: -717\n",
      "uniprot: 413 | pdb_padded: 1130 | missing tail length: -717\n",
      "uniprot: 413 | pdb_padded: 1130 | missing tail length: -717\n",
      "uniprot: 352 | pdb_padded: 1037 | missing tail length: -685\n",
      "uniprot: 352 | pdb_padded: 364 | missing tail length: -12\n",
      "uniprot: 352 | pdb_padded: 1123 | missing tail length: -771\n",
      "uniprot: 352 | pdb_padded: 365 | missing tail length: -13\n",
      "uniprot: 352 | pdb_padded: 358 | missing tail length: -6\n",
      "uniprot: 413 | pdb_padded: 322 | missing tail length: 91\n",
      "uniprot: 400 | pdb_padded: 1130 | missing tail length: -730\n",
      "uniprot: 413 | pdb_padded: 1133 | missing tail length: -720\n",
      "uniprot: 412 | pdb_padded: 299 | missing tail length: 113\n",
      "uniprot: 412 | pdb_padded: 366 | missing tail length: 46\n",
      "uniprot: 412 | pdb_padded: 299 | missing tail length: 113\n",
      "uniprot: 412 | pdb_padded: 299 | missing tail length: 113\n",
      "uniprot: 487 | pdb_padded: 354 | missing tail length: 133\n",
      "uniprot: 394 | pdb_padded: 377 | missing tail length: 17\n",
      "uniprot: 412 | pdb_padded: 299 | missing tail length: 113\n",
      "uniprot: 412 | pdb_padded: 299 | missing tail length: 113\n",
      "uniprot: 382 | pdb_padded: 368 | missing tail length: 14\n",
      "uniprot: 382 | pdb_padded: 376 | missing tail length: 6\n",
      "uniprot: 425 | pdb_padded: 371 | missing tail length: 54\n",
      "uniprot: 424 | pdb_padded: 315 | missing tail length: 109\n",
      "uniprot: 483 | pdb_padded: 327 | missing tail length: 156\n",
      "uniprot: 483 | pdb_padded: 326 | missing tail length: 157\n",
      "uniprot: 483 | pdb_padded: 326 | missing tail length: 157\n",
      "uniprot: 483 | pdb_padded: 327 | missing tail length: 156\n",
      "uniprot: 424 | pdb_padded: 315 | missing tail length: 109\n",
      "uniprot: 424 | pdb_padded: 304 | missing tail length: 120\n",
      "uniprot: 483 | pdb_padded: 323 | missing tail length: 160\n",
      "uniprot: 424 | pdb_padded: 310 | missing tail length: 114\n",
      "uniprot: 589 | pdb_padded: 1098 | missing tail length: -509\n",
      "uniprot: 380 | pdb_padded: 1107 | missing tail length: -727\n",
      "uniprot: 398 | pdb_padded: 1097 | missing tail length: -699\n",
      "uniprot: 128 | pdb_padded: 285 | missing tail length: -157\n",
      "uniprot: 412 | pdb_padded: 1093 | missing tail length: -681\n",
      "uniprot: 372 | pdb_padded: 1121 | missing tail length: -749\n",
      "uniprot: 483 | pdb_padded: 321 | missing tail length: 162\n",
      "uniprot: 424 | pdb_padded: 378 | missing tail length: 46\n",
      "uniprot: 390 | pdb_padded: 296 | missing tail length: 94\n",
      "uniprot: 390 | pdb_padded: 308 | missing tail length: 82\n",
      "uniprot: 481 | pdb_padded: 291 | missing tail length: 190\n",
      "uniprot: 128 | pdb_padded: 537 | missing tail length: -409\n",
      "uniprot: 444 | pdb_padded: 1047 | missing tail length: -603\n",
      "uniprot: 164 | pdb_padded: 485 | missing tail length: -321\n",
      "uniprot: 164 | pdb_padded: 485 | missing tail length: -321\n",
      "uniprot: 352 | pdb_padded: 1036 | missing tail length: -684\n",
      "uniprot: 481 | pdb_padded: 284 | missing tail length: 197\n",
      "uniprot: 342 | pdb_padded: 285 | missing tail length: 57\n",
      "uniprot: 787 | pdb_padded: 348 | missing tail length: 439\n",
      "uniprot: 1212 | pdb_padded: 272 | missing tail length: 940\n",
      "uniprot: 300 | pdb_padded: 442 | missing tail length: -142\n",
      "uniprot: 342 | pdb_padded: 315 | missing tail length: 27\n",
      "uniprot: 342 | pdb_padded: 309 | missing tail length: 33\n",
      "uniprot: 787 | pdb_padded: 350 | missing tail length: 437\n",
      "uniprot: 787 | pdb_padded: 915 | missing tail length: -128\n",
      "uniprot: 164 | pdb_padded: 485 | missing tail length: -321\n",
      "uniprot: 352 | pdb_padded: 369 | missing tail length: -17\n",
      "uniprot: 444 | pdb_padded: 396 | missing tail length: 48\n",
      "uniprot: 589 | pdb_padded: 1099 | missing tail length: -510\n",
      "uniprot: 589 | pdb_padded: 1056 | missing tail length: -467\n",
      "uniprot: 589 | pdb_padded: 1055 | missing tail length: -466\n",
      "uniprot: 412 | pdb_padded: 304 | missing tail length: 108\n",
      "uniprot: 412 | pdb_padded: 313 | missing tail length: 99\n",
      "uniprot: 373 | pdb_padded: 259 | missing tail length: 114\n",
      "uniprot: 373 | pdb_padded: 1017 | missing tail length: -644\n",
      "uniprot: 364 | pdb_padded: 1070 | missing tail length: -706\n",
      "uniprot: 444 | pdb_padded: 1051 | missing tail length: -607\n",
      "uniprot: 425 | pdb_padded: 1171 | missing tail length: -746\n",
      "uniprot: 425 | pdb_padded: 1171 | missing tail length: -746\n",
      "uniprot: 483 | pdb_padded: 319 | missing tail length: 164\n",
      "uniprot: 398 | pdb_padded: 296 | missing tail length: 102\n",
      "uniprot: 1212 | pdb_padded: 594 | missing tail length: 618\n",
      "uniprot: 1212 | pdb_padded: 594 | missing tail length: 618\n",
      "uniprot: 460 | pdb_padded: 1141 | missing tail length: -681\n",
      "uniprot: 413 | pdb_padded: 1133 | missing tail length: -720\n",
      "uniprot: 413 | pdb_padded: 1133 | missing tail length: -720\n",
      "uniprot: 413 | pdb_padded: 1133 | missing tail length: -720\n",
      "uniprot: 128 | pdb_padded: 285 | missing tail length: -157\n",
      "uniprot: 128 | pdb_padded: 288 | missing tail length: -160\n",
      "uniprot: 479 | pdb_padded: 1092 | missing tail length: -613\n",
      "uniprot: 477 | pdb_padded: 275 | missing tail length: 202\n",
      "uniprot: 483 | pdb_padded: 321 | missing tail length: 162\n",
      "uniprot: 412 | pdb_padded: 295 | missing tail length: 117\n",
      "uniprot: 212 | pdb_padded: 366 | missing tail length: -154\n",
      "uniprot: 412 | pdb_padded: 1093 | missing tail length: -681\n",
      "uniprot: 412 | pdb_padded: 1092 | missing tail length: -680\n",
      "uniprot: 412 | pdb_padded: 1092 | missing tail length: -680\n",
      "uniprot: 412 | pdb_padded: 1093 | missing tail length: -681\n",
      "uniprot: 300 | pdb_padded: 417 | missing tail length: -117\n",
      "uniprot: 787 | pdb_padded: 477 | missing tail length: 310\n",
      "uniprot: 369 | pdb_padded: 283 | missing tail length: 86\n",
      "uniprot: 412 | pdb_padded: 1091 | missing tail length: -679\n",
      "uniprot: 412 | pdb_padded: 1094 | missing tail length: -682\n",
      "uniprot: 412 | pdb_padded: 1093 | missing tail length: -681\n",
      "uniprot: 128 | pdb_padded: 389 | missing tail length: -261\n",
      "uniprot: 164 | pdb_padded: 159 | missing tail length: 5\n",
      "uniprot: 397 | pdb_padded: 2047 | missing tail length: -1650\n",
      "uniprot: 412 | pdb_padded: 401 | missing tail length: 11\n",
      "uniprot: 412 | pdb_padded: 1093 | missing tail length: -681\n",
      "uniprot: 412 | pdb_padded: 401 | missing tail length: 11\n",
      "uniprot: 350 | pdb_padded: 296 | missing tail length: 54\n",
      "uniprot: 412 | pdb_padded: 1095 | missing tail length: -683\n",
      "uniprot: 412 | pdb_padded: 1095 | missing tail length: -683\n",
      "uniprot: 412 | pdb_padded: 1090 | missing tail length: -678\n",
      "uniprot: 412 | pdb_padded: 1093 | missing tail length: -681\n",
      "uniprot: 412 | pdb_padded: 1092 | missing tail length: -680\n",
      "uniprot: 412 | pdb_padded: 1092 | missing tail length: -680\n",
      "uniprot: 374 | pdb_padded: 358 | missing tail length: 16\n",
      "uniprot: 481 | pdb_padded: 1041 | missing tail length: -560\n",
      "uniprot: 481 | pdb_padded: 308 | missing tail length: 173\n",
      "uniprot: 300 | pdb_padded: 445 | missing tail length: -145\n",
      "uniprot: 300 | pdb_padded: 419 | missing tail length: -119\n",
      "uniprot: 472 | pdb_padded: 1097 | missing tail length: -625\n",
      "uniprot: 326 | pdb_padded: 1076 | missing tail length: -750\n",
      "uniprot: 412 | pdb_padded: 304 | missing tail length: 108\n",
      "uniprot: 352 | pdb_padded: 1039 | missing tail length: -687\n",
      "uniprot: 394 | pdb_padded: 344 | missing tail length: 50\n",
      "uniprot: 463 | pdb_padded: 281 | missing tail length: 182\n",
      "uniprot: 463 | pdb_padded: 281 | missing tail length: 182\n",
      "uniprot: 412 | pdb_padded: 1093 | missing tail length: -681\n",
      "uniprot: 354 | pdb_padded: 1101 | missing tail length: -747\n",
      "uniprot: 354 | pdb_padded: 420 | missing tail length: -66\n",
      "uniprot: 412 | pdb_padded: 366 | missing tail length: 46\n",
      "uniprot: 412 | pdb_padded: 366 | missing tail length: 46\n",
      "uniprot: 419 | pdb_padded: 298 | missing tail length: 121\n",
      "uniprot: 419 | pdb_padded: 302 | missing tail length: 117\n",
      "uniprot: 413 | pdb_padded: 1131 | missing tail length: -718\n",
      "uniprot: 442 | pdb_padded: 1034 | missing tail length: -592\n",
      "uniprot: 442 | pdb_padded: 1017 | missing tail length: -575\n",
      "uniprot: 477 | pdb_padded: 1134 | missing tail length: -657\n",
      "uniprot: 488 | pdb_padded: 329 | missing tail length: 159\n",
      "uniprot: 589 | pdb_padded: 1056 | missing tail length: -467\n",
      "uniprot: 342 | pdb_padded: 284 | missing tail length: 58\n",
      "uniprot: 471 | pdb_padded: 1018 | missing tail length: -547\n",
      "uniprot: 471 | pdb_padded: 1018 | missing tail length: -547\n",
      "uniprot: 390 | pdb_padded: 279 | missing tail length: 111\n",
      "uniprot: 352 | pdb_padded: 1033 | missing tail length: -681\n",
      "uniprot: 352 | pdb_padded: 1035 | missing tail length: -683\n",
      "uniprot: 463 | pdb_padded: 388 | missing tail length: 75\n",
      "uniprot: 537 | pdb_padded: 874 | missing tail length: -337\n",
      "uniprot: 458 | pdb_padded: 295 | missing tail length: 163\n",
      "uniprot: 458 | pdb_padded: 1019 | missing tail length: -561\n",
      "uniprot: 443 | pdb_padded: 348 | missing tail length: 95\n",
      "uniprot: 814 | pdb_padded: 470 | missing tail length: 344\n",
      "uniprot: 814 | pdb_padded: 478 | missing tail length: 336\n",
      "uniprot: 355 | pdb_padded: 212 | missing tail length: 143\n",
      "uniprot: 354 | pdb_padded: 343 | missing tail length: 11\n",
      "uniprot: 354 | pdb_padded: 343 | missing tail length: 11\n",
      "uniprot: 359 | pdb_padded: 307 | missing tail length: 52\n",
      "uniprot: 481 | pdb_padded: 284 | missing tail length: 197\n",
      "uniprot: 481 | pdb_padded: 304 | missing tail length: 177\n",
      "uniprot: 481 | pdb_padded: 303 | missing tail length: 178\n",
      "uniprot: 481 | pdb_padded: 283 | missing tail length: 198\n",
      "uniprot: 128 | pdb_padded: 37 | missing tail length: 91\n",
      "uniprot: 1212 | pdb_padded: 414 | missing tail length: 798\n",
      "uniprot: 1212 | pdb_padded: 410 | missing tail length: 802\n",
      "uniprot: 593 | pdb_padded: 522 | missing tail length: 71\n",
      "uniprot: 340 | pdb_padded: 338 | missing tail length: 2\n",
      "uniprot: 374 | pdb_padded: 1018 | missing tail length: -644\n",
      "uniprot: 374 | pdb_padded: 332 | missing tail length: 42\n",
      "uniprot: 412 | pdb_padded: 1093 | missing tail length: -681\n",
      "uniprot: 407 | pdb_padded: 1387 | missing tail length: -980\n",
      "uniprot: 407 | pdb_padded: 1385 | missing tail length: -978\n",
      "uniprot: 407 | pdb_padded: 1386 | missing tail length: -979\n",
      "uniprot: 372 | pdb_padded: 316 | missing tail length: 56\n",
      "uniprot: 317 | pdb_padded: 308 | missing tail length: 9\n",
      "uniprot: 442 | pdb_padded: 1074 | missing tail length: -632\n",
      "uniprot: 442 | pdb_padded: 1073 | missing tail length: -631\n",
      "uniprot: 387 | pdb_padded: 274 | missing tail length: 113\n",
      "uniprot: 407 | pdb_padded: 1087 | missing tail length: -680\n",
      "uniprot: 407 | pdb_padded: 1087 | missing tail length: -680\n",
      "uniprot: 412 | pdb_padded: 1092 | missing tail length: -680\n",
      "uniprot: 442 | pdb_padded: 323 | missing tail length: 119\n",
      "uniprot: 354 | pdb_padded: 341 | missing tail length: 13\n",
      "uniprot: 354 | pdb_padded: 343 | missing tail length: 11\n",
      "uniprot: 463 | pdb_padded: 282 | missing tail length: 181\n",
      "uniprot: 463 | pdb_padded: 282 | missing tail length: 181\n",
      "uniprot: 463 | pdb_padded: 282 | missing tail length: 181\n",
      "uniprot: 380 | pdb_padded: 1037 | missing tail length: -657\n",
      "uniprot: 479 | pdb_padded: 1168 | missing tail length: -689\n",
      "uniprot: 360 | pdb_padded: 1142 | missing tail length: -782\n",
      "uniprot: 354 | pdb_padded: 345 | missing tail length: 9\n",
      "uniprot: 354 | pdb_padded: 352 | missing tail length: 2\n",
      "uniprot: 360 | pdb_padded: 392 | missing tail length: -32\n",
      "uniprot: 354 | pdb_padded: 352 | missing tail length: 2\n",
      "uniprot: 354 | pdb_padded: 352 | missing tail length: 2\n",
      "uniprot: 361 | pdb_padded: 1128 | missing tail length: -767\n",
      "uniprot: 361 | pdb_padded: 1125 | missing tail length: -764\n",
      "uniprot: 361 | pdb_padded: 267 | missing tail length: 94\n",
      "uniprot: 361 | pdb_padded: 301 | missing tail length: 60\n",
      "uniprot: 394 | pdb_padded: 379 | missing tail length: 15\n",
      "uniprot: 354 | pdb_padded: 350 | missing tail length: 4\n",
      "uniprot: 412 | pdb_padded: 1093 | missing tail length: -681\n",
      "uniprot: 412 | pdb_padded: 1093 | missing tail length: -681\n",
      "uniprot: 412 | pdb_padded: 1093 | missing tail length: -681\n",
      "uniprot: 442 | pdb_padded: 378 | missing tail length: 64\n",
      "uniprot: 443 | pdb_padded: 425 | missing tail length: 18\n",
      "uniprot: 86 | pdb_padded: 356 | missing tail length: -270\n",
      "uniprot: 176 | pdb_padded: 363 | missing tail length: -187\n",
      "uniprot: 350 | pdb_padded: 392 | missing tail length: -42\n",
      "uniprot: 350 | pdb_padded: 1173 | missing tail length: -823\n",
      "uniprot: 350 | pdb_padded: 1173 | missing tail length: -823\n",
      "uniprot: 350 | pdb_padded: 1173 | missing tail length: -823\n",
      "uniprot: 851 | pdb_padded: 453 | missing tail length: 398\n",
      "uniprot: 851 | pdb_padded: 453 | missing tail length: 398\n",
      "uniprot: 354 | pdb_padded: 345 | missing tail length: 9\n",
      "uniprot: 1212 | pdb_padded: 804 | missing tail length: 408\n",
      "uniprot: 1212 | pdb_padded: 787 | missing tail length: 425\n",
      "uniprot: 593 | pdb_padded: 417 | missing tail length: 176\n",
      "uniprot: 593 | pdb_padded: 427 | missing tail length: 166\n",
      "uniprot: 593 | pdb_padded: 421 | missing tail length: 172\n",
      "uniprot: 394 | pdb_padded: 379 | missing tail length: 15\n",
      "uniprot: 394 | pdb_padded: 327 | missing tail length: 67\n",
      "uniprot: 793 | pdb_padded: 492 | missing tail length: 301\n",
      "uniprot: 60 | pdb_padded: 231 | missing tail length: -171\n",
      "uniprot: 466 | pdb_padded: 438 | missing tail length: 28\n",
      "uniprot: 532 | pdb_padded: 1109 | missing tail length: -577\n",
      "uniprot: 359 | pdb_padded: 397 | missing tail length: -38\n",
      "uniprot: 359 | pdb_padded: 399 | missing tail length: -40\n",
      "uniprot: 359 | pdb_padded: 399 | missing tail length: -40\n",
      "uniprot: 418 | pdb_padded: 326 | missing tail length: 92\n",
      "uniprot: 418 | pdb_padded: 324 | missing tail length: 94\n",
      "uniprot: 350 | pdb_padded: 345 | missing tail length: 5\n",
      "uniprot: 350 | pdb_padded: 334 | missing tail length: 16\n",
      "uniprot: 394 | pdb_padded: 349 | missing tail length: 45\n",
      "uniprot: 394 | pdb_padded: 351 | missing tail length: 43\n",
      "uniprot: 413 | pdb_padded: 1131 | missing tail length: -718\n",
      "uniprot: 413 | pdb_padded: 1131 | missing tail length: -718\n",
      "uniprot: 413 | pdb_padded: 1133 | missing tail length: -720\n",
      "uniprot: 413 | pdb_padded: 1134 | missing tail length: -721\n",
      "uniprot: 413 | pdb_padded: 1133 | missing tail length: -720\n",
      "uniprot: 413 | pdb_padded: 1133 | missing tail length: -720\n",
      "uniprot: 413 | pdb_padded: 1133 | missing tail length: -720\n",
      "uniprot: 413 | pdb_padded: 1134 | missing tail length: -721\n",
      "uniprot: 350 | pdb_padded: 1173 | missing tail length: -823\n",
      "uniprot: 418 | pdb_padded: 346 | missing tail length: 72\n",
      "uniprot: 354 | pdb_padded: 341 | missing tail length: 13\n",
      "uniprot: 378 | pdb_padded: 672 | missing tail length: -294\n",
      "uniprot: 317 | pdb_padded: 294 | missing tail length: 23\n",
      "uniprot: 337 | pdb_padded: 1096 | missing tail length: -759\n",
      "uniprot: 337 | pdb_padded: 1071 | missing tail length: -734\n",
      "uniprot: 346 | pdb_padded: 285 | missing tail length: 61\n",
      "uniprot: 346 | pdb_padded: 282 | missing tail length: 64\n",
      "uniprot: 346 | pdb_padded: 299 | missing tail length: 47\n",
      "uniprot: 346 | pdb_padded: 283 | missing tail length: 63\n",
      "uniprot: 412 | pdb_padded: 1093 | missing tail length: -681\n",
      "uniprot: 483 | pdb_padded: 324 | missing tail length: 159\n",
      "uniprot: 425 | pdb_padded: 301 | missing tail length: 124\n",
      "uniprot: 425 | pdb_padded: 334 | missing tail length: 91\n",
      "uniprot: 425 | pdb_padded: 310 | missing tail length: 115\n",
      "uniprot: 425 | pdb_padded: 308 | missing tail length: 117\n",
      "uniprot: 425 | pdb_padded: 346 | missing tail length: 79\n",
      "uniprot: 425 | pdb_padded: 308 | missing tail length: 117\n",
      "uniprot: 425 | pdb_padded: 313 | missing tail length: 112\n",
      "uniprot: 444 | pdb_padded: 413 | missing tail length: 31\n",
      "uniprot: 444 | pdb_padded: 404 | missing tail length: 40\n",
      "uniprot: 389 | pdb_padded: 465 | missing tail length: -76\n",
      "uniprot: 444 | pdb_padded: 418 | missing tail length: 26\n",
      "uniprot: 425 | pdb_padded: 307 | missing tail length: 118\n",
      "uniprot: 425 | pdb_padded: 304 | missing tail length: 121\n",
      "uniprot: 425 | pdb_padded: 333 | missing tail length: 92\n",
      "uniprot: 425 | pdb_padded: 313 | missing tail length: 112\n",
      "uniprot: 961 | pdb_padded: 697 | missing tail length: 264\n",
      "uniprot: 961 | pdb_padded: 683 | missing tail length: 278\n",
      "uniprot: 961 | pdb_padded: 665 | missing tail length: 296\n",
      "uniprot: 394 | pdb_padded: 347 | missing tail length: 47\n",
      "uniprot: 394 | pdb_padded: 347 | missing tail length: 47\n",
      "uniprot: 394 | pdb_padded: 347 | missing tail length: 47\n",
      "uniprot: 425 | pdb_padded: 1171 | missing tail length: -746\n",
      "uniprot: 463 | pdb_padded: 382 | missing tail length: 81\n",
      "uniprot: 380 | pdb_padded: 289 | missing tail length: 91\n",
      "uniprot: 961 | pdb_padded: 692 | missing tail length: 269\n",
      "uniprot: 354 | pdb_padded: 353 | missing tail length: 1\n",
      "uniprot: 176 | pdb_padded: 273 | missing tail length: -97\n",
      "uniprot: 332 | pdb_padded: 375 | missing tail length: -43\n",
      "uniprot: 471 | pdb_padded: 290 | missing tail length: 181\n",
      "uniprot: 471 | pdb_padded: 292 | missing tail length: 179\n",
      "uniprot: 394 | pdb_padded: 376 | missing tail length: 18\n",
      "uniprot: 394 | pdb_padded: 351 | missing tail length: 43\n",
      "uniprot: 961 | pdb_padded: 689 | missing tail length: 272\n",
      "uniprot: 460 | pdb_padded: 1144 | missing tail length: -684\n",
      "uniprot: 394 | pdb_padded: 377 | missing tail length: 17\n",
      "uniprot: 121 | pdb_padded: 408 | missing tail length: -287\n",
      "uniprot: 394 | pdb_padded: 377 | missing tail length: 17\n",
      "uniprot: 394 | pdb_padded: 373 | missing tail length: 21\n",
      "uniprot: 394 | pdb_padded: 374 | missing tail length: 20\n",
      "uniprot: 787 | pdb_padded: 476 | missing tail length: 311\n",
      "uniprot: 787 | pdb_padded: 476 | missing tail length: 311\n",
      "uniprot: 787 | pdb_padded: 476 | missing tail length: 311\n",
      "uniprot: 787 | pdb_padded: 347 | missing tail length: 440\n",
      "uniprot: 380 | pdb_padded: 222 | missing tail length: 158\n",
      "uniprot: 317 | pdb_padded: 293 | missing tail length: 24\n",
      "uniprot: 412 | pdb_padded: 1088 | missing tail length: -676\n",
      "uniprot: 412 | pdb_padded: 1087 | missing tail length: -675\n",
      "uniprot: 128 | pdb_padded: 286 | missing tail length: -158\n",
      "uniprot: 394 | pdb_padded: 347 | missing tail length: 47\n",
      "uniprot: 340 | pdb_padded: 350 | missing tail length: -10\n",
      "uniprot: 961 | pdb_padded: 686 | missing tail length: 275\n",
      "uniprot: 961 | pdb_padded: 691 | missing tail length: 270\n",
      "uniprot: 961 | pdb_padded: 675 | missing tail length: 286\n",
      "uniprot: 961 | pdb_padded: 668 | missing tail length: 293\n",
      "uniprot: 394 | pdb_padded: 373 | missing tail length: 21\n",
      "uniprot: 394 | pdb_padded: 376 | missing tail length: 18\n",
      "uniprot: 394 | pdb_padded: 377 | missing tail length: 17\n",
      "uniprot: 394 | pdb_padded: 377 | missing tail length: 17\n",
      "uniprot: 394 | pdb_padded: 377 | missing tail length: 17\n",
      "uniprot: 394 | pdb_padded: 377 | missing tail length: 17\n",
      "uniprot: 394 | pdb_padded: 377 | missing tail length: 17\n",
      "uniprot: 961 | pdb_padded: 689 | missing tail length: 272\n",
      "uniprot: 423 | pdb_padded: 276 | missing tail length: 147\n",
      "uniprot: 121 | pdb_padded: 395 | missing tail length: -274\n",
      "uniprot: 340 | pdb_padded: 341 | missing tail length: -1\n",
      "uniprot: 340 | pdb_padded: 341 | missing tail length: -1\n",
      "uniprot: 488 | pdb_padded: 327 | missing tail length: 161\n",
      "uniprot: 164 | pdb_padded: 1099 | missing tail length: -935\n",
      "uniprot: 443 | pdb_padded: 263 | missing tail length: 180\n",
      "uniprot: 394 | pdb_padded: 366 | missing tail length: 28\n",
      "uniprot: 394 | pdb_padded: 354 | missing tail length: 40\n",
      "uniprot: 446 | pdb_padded: 298 | missing tail length: 148\n",
      "uniprot: 446 | pdb_padded: 296 | missing tail length: 150\n",
      "uniprot: 446 | pdb_padded: 300 | missing tail length: 146\n",
      "uniprot: 128 | pdb_padded: 408 | missing tail length: -280\n",
      "uniprot: 352 | pdb_padded: 1138 | missing tail length: -786\n",
      "uniprot: 424 | pdb_padded: 315 | missing tail length: 109\n",
      "uniprot: 424 | pdb_padded: 315 | missing tail length: 109\n",
      "uniprot: 424 | pdb_padded: 315 | missing tail length: 109\n",
      "uniprot: 424 | pdb_padded: 315 | missing tail length: 109\n",
      "uniprot: 463 | pdb_padded: 396 | missing tail length: 67\n",
      "uniprot: 463 | pdb_padded: 396 | missing tail length: 67\n",
      "uniprot: 463 | pdb_padded: 396 | missing tail length: 67\n",
      "uniprot: 446 | pdb_padded: 296 | missing tail length: 150\n",
      "uniprot: 446 | pdb_padded: 299 | missing tail length: 147\n"
     ]
    }
   ],
   "source": [
    "for i in range(len(pdb.data)):\n",
    "    try:\n",
    "        u = len(pdb.data['Uniprot_Sequence'].iloc[i])\n",
    "        p = len(pdb.data['PDB_Sequence_padded'].iloc[i])\n",
    "        print('uniprot: {} | pdb_padded: {} | missing tail length: {}'.format(u, p, u-p))\n",
    "    except:\n",
    "        pass"
   ]
  },
  {
   "cell_type": "code",
   "execution_count": 215,
   "id": "closing-colonial",
   "metadata": {},
   "outputs": [
    {
     "name": "stdout",
     "output_type": "stream",
     "text": [
      "None\n",
      "\n",
      "\n",
      "KTFEVVFIVLVAGSLSLVTIIGNILVMVSIKVNRHLQTVNNYFLFSLACADLIIGVFSMNLYTLYTVIGYWPLGPVVCDLWLALDYVVSNASVMNLLIISFDRYFCVTKPLTYPVKRTTKMAGMMIAAAWVLSFILWAPAILFWQFIVGVRTVEDGECYIQFFSNAAVTFGTAIAAFYLPVIIMTVLYWHISRASKPSREKKVTRTILAILLAF____________________________________________________________________________________________________________________________________________________________________IITWAPYNVMVLINTFCAPCIPNTVWTIGYWLCYINSTINPACYALCNATFKKTFKHLLMC\n",
      "\n",
      "\n",
      "\n",
      "\n",
      "\n",
      "\n",
      "MRKSLLAILAVSSLVFSSASFAADLEDNMETLNDNLKVIEKADNAAQVKDALTKMRAAALDAQKATPPKLEDKSPDSPEMKDFRHGFDILVGQIDDALKLANEGKVKEAQAAAEQLKTTRNAYHQKYR\n",
      "\n",
      "\n",
      "None\n",
      "\n",
      "\n",
      "\n",
      "\n",
      "\n",
      "\n",
      "MRKSLLAILAVSSLVFSSASFAADLEDNMETLNDNLKVIEKADNAAQVKDALTKMRAAALDAQKATPPKLEDKSPDSPEMKDFRHGFDILVGQIDDALKLANEGKVKEAQAAAEQLKTTRNAYHQKYR\n",
      "\n",
      "\n",
      "None\n",
      "\n",
      "\n",
      "\n",
      "\n",
      "\n",
      "\n",
      "MALSYRVSELQSTIPEHILQSTFVHVISSNWSGLQTESIPEEMKQIVEEQGNKLHWAALLILMVIIPTIGGNTLVILAVSLEKKLQYATNYFLMSLAVADLLVGLFVMPIALLTIMFEAMWPLPLVLCPAWLFLDVLFSTASIMHLCAISVDRYIAIKKPIQANQYNSRATAFIKITVVWLISIGIAIPVPIKGIETDVDNPNNITCVLTKERFGDFMLFGSLAAFFTPLAIMIVTYFLTIHALQKKAYLVKNKPPQRLTWLTVSTVFQRDETPCSSPEKVAMLDGSRKDKALPNSGDETLMRRTSTIGKKSVQTISNEQRASKVLGIVFFLFLLMWCPFFITNITLVLCDSCNQTTLQMLLEIFVWIGYVSSGVNPLVYTLFNKTFRDAFGRYITCNYRATKSVKTLRKRSSKIYFRNPMAENSKFFKKHGIRNGINPAMYQSPMRLRSSTIQSSSIILLDTLLLTENEGDKTEEQVSYV\n",
      "\n",
      "\n",
      "EEQGNKLHWAALLILMVIIPTIGGNTLVILAVSLEKKLQYATNYFLMSLAVADLLVGLFVMPIALLTIMFEAMWPLPLVLCPAWLFLDVLFSTASIWHLCAISVDRYIAIKKPIQANQYNSRATAFIKITVVWLISIGIAIPVPIKGIETVDNPNNITCVLTKERFGDFMLFGSLAAFFTPLAIMIVTYFLTIHALQ_KKAADLEDNWETLNDNLKVIEKADNAAQVKDALTKMRAKDFRHGFDILVGQIDDALKLANEGKVKEAQAAAEQLKTTRNAYIQKYL\n",
      "\n",
      "\n",
      "\n",
      "\n",
      "\n",
      "\n",
      "MQAVDNLTSAPGNTSLCTRDYKITQVLFPLLYTVLFFVGLITNGLAMRIFFQIRSKSNFIIFLKNTVISDLLMILTFPFKILSDAKLGTGPLRTFVCQVTSVIFYFTMYISISFLGLITIDRYQKTTRPFKTSNPKNLLGAKILSVVIWAFMFLLSLPNMILTNRQPRDKNVKKCSFLKSEFGLVWHEIVNYICQVIFWINFLIVIVCYTLITKELYRSYVRTRGVGKVPRKKVNVKVFIIIAVFFICFVPFHFARIPYTLSQTRDVFDCTAENTLFYVKESTLWLTSLNACLDPFIYFFLCKSFRNSLISMLKCPNSATSLSQDNRKKEQDGGDPNEETPM\n",
      "\n",
      "\n",
      "LCTRDYKITQVLFPLLYTVLFFVGLITNGLAMRIFFQIRSKSNFIIFLKNTVISDLLMILTFPFKILSDAKLLRTFVCQVTSVIFYF____TMYISISFLGLITIDRYQKTTRPFKTKNLLGAKILSVVIWAFMFLLSLPNMILKSEFGLVWHEIVNYICQVIFWINFLIVIVCYTLITKELYRSYVRTADLEDNWETLNDNLKVIEKADNAAQVKDALTKMRAAALDAQKATPPKLEDFRHGFDILVGQIDDALKLANEGKVKEAQAAAEQLKTTRNAYIQKYL\n",
      "\n",
      "\n",
      "\n",
      "\n",
      "\n",
      "\n",
      "MAAARPARGPELPLLGLLLLLLLGDPGRGAASSGNATGPGPRSAGGSARRSAAVTGPPPPLSHCGRAAPCEPLRYNVCLGSVLPYGATSTLLAGDSDSQEEAHGKLVLWSGLRNAPRCWAVIQPLLCAVYMPKCENDRVELPSRTLCQATRGPCAIVERERGWPDFLRCTPDRFPEGCTNEVQNIKFNSSGQCEVPLVRTDNPKSWYEDVEGCGIQCQNPLFTEAEHQDMHSYIAAFGAVTGLCTLFTLATFVADWRNSNRYPAVILFYVNACFFVGSIGWLAQFMDGARREIVCRADGTMRLGEPTSNETLSCVIIFVIVYYALMAGVVWFVVLTYAWHTSFKALGTTYQPLSGKTSYFHLLTWSLPFVLTVAILAVAQVDGDSVSGICFVGYKNYRYRAGFVLAPIGLVLIVGGYFLIRGVMTLFSIKSNHPGLLSEKAASKINETMLRLGIFGFLAFGFVLITFSCHFYDFFNQAEWERSFRDYVLCQANVTIGLPTKQPIPDCEIKNRPSLLVEKINLFAMFGTGIAMSTWVWTKATLLIWRRTWCRLTGQSDDEPKRIKKSKMIAKAFSKRHELLQNPGQELSFSMHTVSHDGPVAGLAFDLNEPSADVSSAWAQHVTKMVARRGAILPQDISVTPVATPVPPEEQANLWLVEAEISPELQKRLGRKKKRRKRKKEVCPLAPPPELHPPAPAPSTIPRLPQLPRQKCLVAAGAWGAGDSCRQGAWTLVSNPFCPEPSPPQDPFLPSAPAPVAWAHGRRQGLGPIHSRTNLMDTELMDADSDF\n",
      "\n",
      "\n",
      "QCEVPLVRTDNPKSWYEDVEGCGIQCQNPLFTEAEHQDMHSYIAAFGAVTGLCTLFTLATFVADWRNSNRYPAVILFYVNACFFVGSIGWLAQFMDGARREIVCRADGTMRLGEPTSNETLSCVIIFVIVYYALMAGVVWFVVLTYAWHTSFKGKTSYFHLLTWSLPFVLTVAILAVAQVDGDSVSGICFVGYKNYRYRAGFVLAPIGLVLIVGGYFLIRGVMTLFSIKSNHADLEDNWETLNDNLKVIEKADNAAQVKDALTKMRAAALDAQKATPPKLEDKSPDSPEMKDFRHGFDILVGQIDDALKLANEGKVKEAQAAAEQLKTTRNAYIQKYL__________\n",
      "\n",
      "\n",
      "\n",
      "\n",
      "\n",
      "\n",
      "MVLLLILSVLLLKEDVRGSAQSSERRVVAHMPGDIIIGALFSVHHQPTVDKVHERKCGAVREQYGIQRVEAMLHTLERINSDPTLLPNITLGCEIRDSCWHSAVALEQSIEFIRDSLISSEEEEGLVRCVDGSSSSFRSKKPIVGVIGPGSSSVAIQVQNLLQLFNIPQIAYSATSMDLSDKTLFKYFMRVVPSDAQQARAMVDIVKRYNWTYVSAVHTEGNYGESGMEAFKDMSAKEGICIAHSYKIYSNAGEQSFDKLLKKLTSHLPKARVVACFCEGMTVRGLLMAMRRLGLAGEFLLLGSDGWADRYDVTDGYQREAVGGITIKLQSPDVKWFDDYYLKLRPETNHRNPWFQEFWQHRFQCRLEGFPQENSKYNKTCNSSLTLKTHHVQDSKMGFVINAIYSMAYGLHNMQMSLCPGYAGLCDAMKPIDGRKLLESLMKTNFTGVSGDTILFDENGDSPGRYEIMNFKEMGKDYFDYINVGSWDNGELKMDDDEVWSKKSNIIRSVCSEPCEKGQIKVIRKGEVSCCWTCTPCKENEYVFDEYTCKACQLGSWPTDDLTGCDLIPVQYLRWGDPEPIAAVVFACLGLLATLFVTVVFIIYRDTPVVKSSSRELCYIILAGICLGYLCTFCLIAKPKQIYCYLQRIGIGLSPAMSYSALVTKTNRIARILAGSKKKICTKKPRFMSACAQLVIAFILICIQLGIIVALFIMEPPDIMHDYPSIREVYLICNTTNLGVVTPLGYNGLLILSCTFYAFKTRNVPANFNEAKYIAFTMYTTCIIWLAFVPIYFGSNYKIITMCFSVSLSATVALGCMFVPKVYIILAKPERNVRSAFTTSTVVRMHVGDGKSSSAASRSSSLVNLWKRRGSSGETLRYKDRRLAQHKSEIECFTPKGSMGNGGRATMSSSNGKSVTWAQNEKSSRGQHLWQRLSIHINKKENPNQTAVIKPFPKSTESRGLGAGAGAGGSAGGVGATGGAGCAGAGPGGPESPDAGPKALYDVAEAEEHFPAPARPRSPSPISTLSHRAGSASRTDDDVPSLHSEPVARSSSSQGSLMEQISSVVTRFTANISELNSMMLSTAAPSPGVGAPLCSSYLIPKEIQLPTTMTTFAEIQPLPAIEVTGGAQPAAGAQAAGDAARESPAAGPEAAAAKPDLEELVALTPPSPFRDSVDSGSTTPNSPVSESALCIPSSPKYDTLIIRDYTQSSSSL\n",
      "\n",
      "\n",
      "SPVQYLRWGDPAPIAAVVFACLGLLATLFVTVVFIIYRDTPVVKSSSRELCYIILAGICLGYLCTFLIAKPKQIYCYLQRIGIGLSPAMSYSALVTKTYRAARILAMSKKNIFEMLRIDEGLRLKIYKDTEGYYTIGIGHLLTKSPSLNAAKSELDKAIGRNTNGVITKDEAEKLFNQDVDAAVRGILRNAKLKPVYDSLDAVRRAALINMVFQMGETGVAGFTNSLRMLQQKRWDEAAVNLAKSRWYNQTPNRAKRVITTFRTGTWDAYK_\n",
      "\n",
      "\n",
      "\n",
      "\n",
      "\n",
      "\n",
      "MRKSLLAILAVSSLVFSSASFAADLEDNMETLNDNLKVIEKADNAAQVKDALTKMRAAALDAQKATPPKLEDKSPDSPEMKDFRHGFDILVGQIDDALKLANEGKVKEAQAAAEQLKTTRNAYHQKYR\n",
      "\n",
      "\n",
      "None\n",
      "\n",
      "\n",
      "\n",
      "\n",
      "\n",
      "\n",
      "MDLPPQLSFGLYVAAFALGFPLNVLAIRGATAHARLRLTPSLVYALNLGCSDLLLTVSLPLKAVEALASGAWPLPASLCPVFAVAHFFPLYAGGGFLAALSAGRYLGAAFPLGYQAFRRPCYSWGVCAAIWALVLCHLGLVFGLEAPGGWLDHSNTSLGINTPVNGSPVCLEAWDPASAGPARFSLSLLLFFLPLAITAFCYVGCLRALARSGLTHRRKLRAAWVAGGALLTLLLCVGPYNASNVASFLYPNLGGSWRKLGLITGAWSVVLNPLVTGYLGRGPGLKTVCAARTQGGKSQK\n",
      "\n",
      "\n",
      "MDLPPQLSFGLYVAAFALGFPLNVLAIRGATAHARLRLTPSAVYALNLGCSDLLLTVSLPLKAVEALASGAWPLPASLCPVFAVAHFAPLYAGGGFLAALSAARYLGAAFP________PCYSWGVCAAIWALVLCHLGLVFGLEAPGGWLDHSNTSLGINTPVNGSPVCLEAWDPASAGPARFSLSLLLFFLPLAITAFCFVGCLRALARGSNIFEMLRIDEGLRLKIYKDTEGYYTIGIGHLLTKSPSLNAAKSELDKAIGRNTNGVITKDEAEKLFNQDVDAAVRGILRNAKLKPVYDSLDAVRRAALINMVFQMGETGVAGFTNSLRMLQQKRWDEAAVNLAKSRWYNQTPNRAKRVITTFRTGTWDAYGSLTHRRKLRAAWVAGGALLTLLLCVGPYNASNVASFLYPNLGGSWRKLGLITGAWSVVLNPLVTGYLG\n",
      "\n",
      "\n",
      "\n",
      "\n",
      "\n",
      "\n",
      "MNGTEGPNFYVPFSNKTGVVRSPFEAPQYYLAEPWQFSMLAAYMFLLIMLGFPINFLTLYVTVQHKKLRTPLNYILLNLAVADLFMVFGGFTTTLYTSLHGYFVFGPTGCNLEGFFATLGGEIALWSLVVLAIERYVVVCKPMSNFRFGENHAIMGVAFTWVMALACAAPPLVGWSRYIPEGMQCSCGIDYYTPHEETNNESFVIYMFVVHFIIPLIVIFFCYGQLVFTVKEAAAQQQESATTQKAEKEVTRMVIIMVIAFLICWLPYAGVAFYIFTHQGSDFGPIFMTIPAFFAKTSAVYNPVIYIMMNKQFRNCMVTTLCCGKNPLGDDEASTTVSKTETSQVAPA\n",
      "\n",
      "\n",
      "None\n",
      "\n",
      "\n",
      "\n",
      "\n",
      "\n",
      "\n",
      "MQAVDNLTSAPGNTSLCTRDYKITQVLFPLLYTVLFFVGLITNGLAMRIFFQIRSKSNFIIFLKNTVISDLLMILTFPFKILSDAKLGTGPLRTFVCQVTSVIFYFTMYISISFLGLITIDRYQKTTRPFKTSNPKNLLGAKILSVVIWAFMFLLSLPNMILTNRQPRDKNVKKCSFLKSEFGLVWHEIVNYICQVIFWINFLIVIVCYTLITKELYRSYVRTRGVGKVPRKKVNVKVFIIIAVFFICFVPFHFARIPYTLSQTRDVFDCTAENTLFYVKESTLWLTSLNACLDPFIYFFLCKSFRNSLISMLKCPNSATSLSQDNRKKEQDGGDPNEETPM\n",
      "\n",
      "\n",
      "SLCTRDYKITQVLFPLLYTVLFFVGLITNGLAMRIFFQIRSKSNFIIFLKNTVISDLLMILTFPFKILSDAKLGTGPLRTFVCQVTSVIFYFTMYISISFLGLITIDRYQKTTRPPKNLLGAKILSVVI_____WAFMFLLSLPNMILTNRQPRDKNVKKCSFLKSEFGLVWHEIVNYICQVIFWINFLIVIVCYTLITKELYRSYVRTADLEDNWETLNDNLKVIEKADNAAQVKDALTKMRAAALDAQKATPPKLEDKSPDSPEMKDFRHGFDILVGQIDDALKLANEGKVKEAQAAAEQLKTTRNAYIQKYL\n",
      "\n",
      "\n",
      "\n",
      "\n",
      "\n",
      "\n",
      "MQAVDNLTSAPGNTSLCTRDYKITQVLFPLLYTVLFFVGLITNGLAMRIFFQIRSKSNFIIFLKNTVISDLLMILTFPFKILSDAKLGTGPLRTFVCQVTSVIFYFTMYISISFLGLITIDRYQKTTRPFKTSNPKNLLGAKILSVVIWAFMFLLSLPNMILTNRQPRDKNVKKCSFLKSEFGLVWHEIVNYICQVIFWINFLIVIVCYTLITKELYRSYVRTRGVGKVPRKKVNVKVFIIIAVFFICFVPFHFARIPYTLSQTRDVFDCTAENTLFYVKESTLWLTSLNACLDPFIYFFLCKSFRNSLISMLKCPNSATSLSQDNRKKEQDGGDPNEETPM\n",
      "\n",
      "\n",
      "SLCTRDYKITQVLFPLLYTVLFFVGLITNGLAMRIFFQIRSKSNFIIFLKNTVISDLLMILTFPFKILSDAKTGPLRTFVCQVTSV__IFYFTMYISISFLGLITIDRYQKTTRPKNLLGAKILSVVIWAFMFLLSLPNMILTNRQPRDKNVKKCSFLKSEFGLVWHEIVNYICQVIFWINFLIVIVCYTLITKELYRSYVRTADLEDNWETLNDNLKVIEKADNAAQVKDALTKMRAAALDAQKATPPKLEDKSPDSPEMKDFRHGFDILVGQIDDALKLANEGKVKEAQAAAEQLKTTRNAYIQKYL\n",
      "\n",
      "\n",
      "\n",
      "\n",
      "\n",
      "\n",
      "MAAARPARGPELPLLGLLLLLLLGDPGRGAASSGNATGPGPRSAGGSARRSAAVTGPPPPLSHCGRAAPCEPLRYNVCLGSVLPYGATSTLLAGDSDSQEEAHGKLVLWSGLRNAPRCWAVIQPLLCAVYMPKCENDRVELPSRTLCQATRGPCAIVERERGWPDFLRCTPDRFPEGCTNEVQNIKFNSSGQCEVPLVRTDNPKSWYEDVEGCGIQCQNPLFTEAEHQDMHSYIAAFGAVTGLCTLFTLATFVADWRNSNRYPAVILFYVNACFFVGSIGWLAQFMDGARREIVCRADGTMRLGEPTSNETLSCVIIFVIVYYALMAGVVWFVVLTYAWHTSFKALGTTYQPLSGKTSYFHLLTWSLPFVLTVAILAVAQVDGDSVSGICFVGYKNYRYRAGFVLAPIGLVLIVGGYFLIRGVMTLFSIKSNHPGLLSEKAASKINETMLRLGIFGFLAFGFVLITFSCHFYDFFNQAEWERSFRDYVLCQANVTIGLPTKQPIPDCEIKNRPSLLVEKINLFAMFGTGIAMSTWVWTKATLLIWRRTWCRLTGQSDDEPKRIKKSKMIAKAFSKRHELLQNPGQELSFSMHTVSHDGPVAGLAFDLNEPSADVSSAWAQHVTKMVARRGAILPQDISVTPVATPVPPEEQANLWLVEAEISPELQKRLGRKKKRRKRKKEVCPLAPPPELHPPAPAPSTIPRLPQLPRQKCLVAAGAWGAGDSCRQGAWTLVSNPFCPEPSPPQDPFLPSAPAPVAWAHGRRQGLGPIHSRTNLMDTELMDADSDF\n",
      "\n",
      "\n",
      "SGQCEVPLVRTDNPKSWYEDVEGCGIQCQNPLFTEAEHQDMHSYIAAFGAVTGLCTLFTLATFVADWRNSNRYPAVILFYVNACFFVGSIGWLAQFMDGARREIVCRADGTMRLGEPTSNETLSCVIIFVIVYYALMAGVVWFVVLTYAWHTSFKALLSGKTSYFHLLTWSLPFVLTVAILAVAQVDGDSVSGICFVGYKNYRYRAGFVLAPIGLVLIVGGYFLIRGVMTLFSIKSNHADLEDNWETLNDNLKVIEKADNAAQVKDALTKMRAAALDAQKATPPKLEDKSPDSPEMKDFRHGFDILVGQIDDALKLANEGKVKEAQAAAEQLKTTRNAYIQKYL______\n",
      "\n",
      "\n",
      "\n",
      "\n",
      "\n",
      "\n",
      "MAAARPARGPELPLLGLLLLLLLGDPGRGAASSGNATGPGPRSAGGSARRSAAVTGPPPPLSHCGRAAPCEPLRYNVCLGSVLPYGATSTLLAGDSDSQEEAHGKLVLWSGLRNAPRCWAVIQPLLCAVYMPKCENDRVELPSRTLCQATRGPCAIVERERGWPDFLRCTPDRFPEGCTNEVQNIKFNSSGQCEVPLVRTDNPKSWYEDVEGCGIQCQNPLFTEAEHQDMHSYIAAFGAVTGLCTLFTLATFVADWRNSNRYPAVILFYVNACFFVGSIGWLAQFMDGARREIVCRADGTMRLGEPTSNETLSCVIIFVIVYYALMAGVVWFVVLTYAWHTSFKALGTTYQPLSGKTSYFHLLTWSLPFVLTVAILAVAQVDGDSVSGICFVGYKNYRYRAGFVLAPIGLVLIVGGYFLIRGVMTLFSIKSNHPGLLSEKAASKINETMLRLGIFGFLAFGFVLITFSCHFYDFFNQAEWERSFRDYVLCQANVTIGLPTKQPIPDCEIKNRPSLLVEKINLFAMFGTGIAMSTWVWTKATLLIWRRTWCRLTGQSDDEPKRIKKSKMIAKAFSKRHELLQNPGQELSFSMHTVSHDGPVAGLAFDLNEPSADVSSAWAQHVTKMVARRGAILPQDISVTPVATPVPPEEQANLWLVEAEISPELQKRLGRKKKRRKRKKEVCPLAPPPELHPPAPAPSTIPRLPQLPRQKCLVAAGAWGAGDSCRQGAWTLVSNPFCPEPSPPQDPFLPSAPAPVAWAHGRRQGLGPIHSRTNLMDTELMDADSDF\n",
      "\n",
      "\n",
      "QCEVPLVRTDNPKSWYEDVEGCGIQCQNPLFTEAEHQDMHSYIAAFGAVTGLCTLFTLATFVADWRNSNRYPAVILFYVNACFFVGSIGWLAQFMDGARREIVCRADGTMRLGEPTSNETLSCVIIFVIVYYALMAGVVWFVVLTYAWHTSFKALGTTYQPLSGKTSYFHLLTWSLPFVLTVAILAVAQVDGDSVSGICFVGYKNYRYRAGFVLAPIGLVLIVGGYFLIRGVMTLFSIKSNHADLEDNWETLNDNLKVIEKADNAAQVKDALTKMRAAALDAQKATPPKLEDKSPDSPEMKDFRHGFDILVGQIDDALKLANEGKVKEAQAAAEQLKTTRNAYIQKYL_______________________________________________________________________________________________________________________________________________________________________________________________________________________________________________________________________________________________________________________________________________________________________________________________________________________________________________________________________________________________________________________________________________________________________________________\n",
      "\n",
      "\n",
      "\n",
      "\n",
      "\n",
      "\n",
      "MNIFEMLRIDEGLRLKIYKDTEGYYTIGIGHLLTKSPSLNAAKSELDKAIGRNCNGVITKDEAEKLFNQDVDAAVRGILRNAKLKPVYDSLDAVRRCALINMVFQMGETGVAGFTNSLRMLQQKRWDEAAVNLAKSRWYNQTPNRAKRVITTFRTGTWDAYKNL\n",
      "\n",
      "\n",
      "DAENLYFQGNIFEMLRIDEGLRLKIYKDTEGYYTIGIGHLLTKSPSLNAAKSELDKAIGRNTNGVITKDEAEKLFNQDVDAAVRGILRNAKLKPVYDSLDAVRRAALINMVFQMGETGVAGFTNSLRMLQQKRWDEAAVNLAKSRWYNQTPNRAKRVITTFRTGTWDAYAADEVWVVGMGIVMSLIVLAIVFGNVLVITAIAKFERLQTVTNYFITSLACADLVMGLAVVPFGAACILTKTWTFGNFWCEFWTSIDVLCVTASIETLCVIAVDRYFAITSPFKYQSLLTKNKARVIILMVWIVSGLTSFLPIQMHWYRATHQEAINCYAEETCCDFFTNQAYAIASSIVSFYVPLVIMVFVYSRVFQEAKRQLQKFALKEHKALKTLGIIMGTFTLCWLPFFIVNIVHVIQDNLIRKEVYILLNWIGYVNSGFNPLIYCRSPDFRIAFQELLCL_______________________________\n",
      "\n",
      "\n",
      "\n",
      "\n",
      "\n",
      "\n",
      "MRKSLLAILAVSSLVFSSASFAADLEDNMETLNDNLKVIEKADNAAQVKDALTKMRAAALDAQKATPPKLEDKSPDSPEMKDFRHGFDILVGQIDDALKLANEGKVKEAQAAAEQLKTTRNAYHQKYR\n",
      "\n",
      "\n",
      "None\n",
      "\n",
      "\n",
      "\n",
      "\n",
      "\n",
      "\n",
      "MRKSLLAILAVSSLVFSSASFAADLEDNMETLNDNLKVIEKADNAAQVKDALTKMRAAALDAQKATPPKLEDKSPDSPEMKDFRHGFDILVGQIDDALKLANEGKVKEAQAAAEQLKTTRNAYHQKYR\n",
      "\n",
      "\n",
      "None\n",
      "\n",
      "\n",
      "\n",
      "\n",
      "\n",
      "\n",
      "MEGISIYTSDNYTEEMGSGDYDSMKEPCFREENANFNKIFLPTIYSIIFLTGIVGNGLVILVMGYQKKLRSMTDKYRLHLSVADLLFVITLPFWAVDAVANWYFGNFLCKAVHVIYTVNLYSSVLILAFISLDRYLAIVHATNSQRPRKLLAEKVVYVGVWIPALLLTIPDFIFANVSEADDRYICDRFYPNDLWVVVFQFQHIMVGLILPGIVILSCYCIIISKLSHSKGHQKRKALKTTVILILAFFACWLPYYIGISIDSFILLEIIKQGCEFENTVHKWISITEALAFFHCCLNPILYAFLGAKFKTSAQHALTSVSRGSSLKILSKGKRGGHSSVSTESESSSFHSS\n",
      "\n",
      "\n",
      "SMKEPCFREENANFNKIFLPTIYSIIFLTGIVGNGLVILVMGYQSMTDKYRLHLSVADLLFVITLP____FWAVDAVANWYFGNFLCKAVHVIYTVNLYSSVWILAFISLDRYLAIVHATNSQRPRKLLAEKVVYVGVWIPALLLTIPDFIFANVSEADDRYICCRFYPNDLWVVVFQFQHIMVGLILPGIVILSCYCIIISKLSHNIFEMLRIDEGLRLKIYKDTEGYYTIGIGHLLTKSPSLNAAKSELDKAIGRNTNGVITKDEAEKLFNQDVDAAVRGILRNAKLKPVYDSLDAVRRAALINMVFQMGETGVAGFTNSLRMLQQKRWDEAAVNLAKSRWYNQTPNRAKRVITTFRTGTWDAYSGS\n",
      "\n",
      "\n",
      "\n",
      "\n",
      "\n",
      "\n",
      "MSGTKLEDSPPCRNWSSASELNETQEPFLNPTDYDDEEFLRYLWREYLHPKEYEWVLIAGYIIVFVVALIGNVLVCVAVWKNHHMRTVTNYFIVNLSLADVLVTITCLPATLVVDITETWFFGQSLCKVIPYLQTVSVSVSVLTLSCIALDRWYAICHPLMFKSTAKRARNSIVIIWIVSCIIMIPQAIVMECSTVFPGLANKTTLFTVCDERWGGEIYPKMYHICFFLVTYMAPLCLMVLAYLQIFRKLWCRQIPGTSSVVQRKWKPLQPVSQPRGPGQPTKSRMSAVAAEIKQIRARRKTARMLMIVLLVFAICYLPISILNVLKRVFGMFAHTEDRETVYAWFTFSHWLVYANSAANPIIYNFLSGKFREEFKAAFSCCCLGVHHRQEDRLTRGRTSTESRKSLTTQISNFDNISKLSEQVVLTSISTLPAANGAGPLQNW\n",
      "\n",
      "\n",
      "PKEYEWVLIAGYIIVFVVALIGNVLVCVAVWKNHHMRTVTNYFIVNLSLADVLVTITCLPATLVVDITETWFFGQSLCKVIPYLQTVSVSVSVLTLSCIALDRWYAICHPSTAKRARNSIVIIWIVSCIIMIPQAIVMECSTVFKTTLFTVCDERWGGE____IYPKMYHICFFLVTYMAPLCLMVLAYLQIFRKLWCRQGIDCSFWNESYLTGSRDERKKSLLSKFGMDEGVTFMFIGRFDRGQKGVDVLLKAIEILSSKKEFQEMRFIIIGKGDPELEGWARSLEEKHGNVKVITEMLSREFVRELYGSVDFVIIPSYFEPFGLVALEAMCLGAIPIASAVGGLRDIITNETGILVKAGDPGELANAILKALELSRSDLSKFRENCKKRAMSFS\n",
      "\n",
      "\n",
      "\n",
      "\n",
      "\n",
      "\n",
      "MTLHSNSTTSPLFPNISSSWVHSPSEAGLPLGTVTQLGSYNISQETGNFSSNDTSSDPLGGHTIWQVVFIAFLTGFLALVTIIGNILVIVAFKVNKQLKTVNNYFLLSLACADLIIGVISMNLFTTYIIMNRWALGNLACDLWLSIDYVASNASVMNLLVISFDRYFSITRPLTYRAKRTTKRAGVMIGLAWVISFVLWAPAILFWQYFVGKRTVPPGECFIQFLSEPTITFGTAIAAFYMPVTIMTILYWRIYKETEKRTKELAGLQASGTEAEAENFVHPTGSSRSCSSYELQQQGVKRSSRRKYGRCHFWFTTKSWKPSAEQMDQDHSSSDSWNNNDAAASLENSASSDEEDIGSETRAIYSIVLKLPGHSSILNSTKLPSSDNLQVSNEDLGTVDVERNAHKLQAQKSMGDGDNCQKDFTKLPIQLESAVDTGKTSDTNSSADKTTATLPLSFKEATLAKRFALKTRSQITKRKRMSLIKEKKAAQTLSAILLAFIITWTPYNIMVLVNTFCDSCIPKTYWNLGYWLCYINSTVNPVCYALCNKTFRTTFKTLLLCQCDKRKRRKQQYQQRQSVIFHKRVPEQAL\n",
      "\n",
      "\n",
      "TIWQVVFIAFLTGFLALVTIIGNILVIVAFKVNKQLKTVNNYFLLSLACADLIIGVISMNLFTTYIIMNRWALGNLACDLWLSIDYVASNASVMNLLVISFDRYFSITRPLTYRAKRTTKRAGVMIGLAWVISFVLWAPAILFWQYFVGKRTVPPGECFIQFLSEPTITFGTAIAAFYMPVTIMTILYWRIYKETEKMNCFEMLRIDEGLRLKIYKDCEGYYTIGIGHLLTKSPSLNAAKSELDKAIGRNTNGVITKDE_____________________________________________________________________________________________________________________________________________________________________________________________________________________________________________________________________________________________________________________________________________________________________________________________________________________________________________________________________________________________________________________________________________________________________________________________________________________________________________________________________________________________________________________________________________________________________AEKLFNQDVDAAVRGILRNAKLKPVYDSLDAVRRCALINMVFQMGETGVAGFTNSLRMLQQKRWDEAAVNLAKSRWYNQCPNRAKRVITTFRTGTWDAY\n",
      "\n",
      "\n",
      "\n",
      "\n",
      "\n",
      "\n"
     ]
    }
   ],
   "source": [
    "for i in range(20):\n",
    "    print(pdb.data['Uniprot_Sequence'].iloc[i+100])\n",
    "    print(\"\\n\")\n",
    "    print(pdb.data['PDB_Sequence_padded'].iloc[i+100])\n",
    "    print(\"\\n\\n\\n\\n\\n\")"
   ]
  },
  {
   "cell_type": "code",
   "execution_count": 216,
   "id": "demonstrated-fountain",
   "metadata": {},
   "outputs": [
    {
     "name": "stdout",
     "output_type": "stream",
     "text": [
      "QCEVPLVRTDNPKSWYEDVEGCGIQCQNPLFTEAEHQDMHSYIAAFGAVTGLCTLFTLATFVADWRNSNRYPAVILFYVNACFFVGSIGWLAQFMDGARREIVCRADGTMRLGEPTSNETLSCVIIFVIVYYALMAGVVWFVVLTYAWHTSFKGKTSYFHLLTWSLPFVLTVAILAVAQVDGDSVSGICFVGYKNYRYRAGFVLAPIGLVLIVGGYFLIRGVMTLFSIKSNHADLEDNWETLNDNLKVIEKADNAAQVKDALTKMRAAALDAQKATPPKLEDKSPDSPEMKDFRHGFDILVGQIDDALKLANEGKVKEAQAAAEQLKTTRNAYIQKYL__________\n"
     ]
    }
   ],
   "source": [
    "print(pdb.data['PDB_Sequence_padded'].iloc[105])"
   ]
  },
  {
   "cell_type": "code",
   "execution_count": 217,
   "id": "reverse-queensland",
   "metadata": {},
   "outputs": [
    {
     "data": {
      "text/plain": [
       "0           [0, 235, 323]\n",
       "1           [0, 326, 328]\n",
       "2           [0, 235, 325]\n",
       "3           [0, 235, 325]\n",
       "4                     [0]\n",
       "              ...        \n",
       "523               [0, 87]\n",
       "524              [0, 101]\n",
       "525              [0, 101]\n",
       "526    [0, 148, 204, 239]\n",
       "527    [0, 148, 208, 243]\n",
       "Length: 528, dtype: object"
      ]
     },
     "execution_count": 217,
     "metadata": {},
     "output_type": "execute_result"
    }
   ],
   "source": [
    "pdb.data.apply(lambda x: [i for i, _ in enumerate(x.Phi) if _ == None], axis=1)  \n",
    "#  this is how we can mask residues without angles"
   ]
  },
  {
   "cell_type": "code",
   "execution_count": 218,
   "id": "fancy-watch",
   "metadata": {},
   "outputs": [
    {
     "data": {
      "text/plain": [
       "0      [338, 338, 338]\n",
       "1      [329, 329, 329]\n",
       "2      [340, 340, 340]\n",
       "3      [340, 340, 340]\n",
       "4      [348, 348, 348]\n",
       "            ...       \n",
       "523    [393, 393, 393]\n",
       "524    [390, 390, 390]\n",
       "525    [390, 390, 390]\n",
       "526    [280, 280, 280]\n",
       "527    [285, 285, 285]\n",
       "Length: 528, dtype: object"
      ]
     },
     "execution_count": 218,
     "metadata": {},
     "output_type": "execute_result"
    }
   ],
   "source": [
    "pdb.data.apply(lambda x: [len(x.Res_ids), len(x.Psi), len(x.Phi)], axis=1)"
   ]
  },
  {
   "cell_type": "code",
   "execution_count": null,
   "id": "prompt-nursing",
   "metadata": {},
   "outputs": [],
   "source": []
  },
  {
   "cell_type": "code",
   "execution_count": null,
   "id": "accepting-eclipse",
   "metadata": {},
   "outputs": [],
   "source": []
  },
  {
   "cell_type": "code",
   "execution_count": null,
   "id": "innocent-resort",
   "metadata": {},
   "outputs": [],
   "source": []
  },
  {
   "cell_type": "code",
   "execution_count": null,
   "id": "peaceful-championship",
   "metadata": {},
   "outputs": [],
   "source": []
  },
  {
   "cell_type": "code",
   "execution_count": null,
   "id": "arbitrary-savings",
   "metadata": {},
   "outputs": [],
   "source": []
  },
  {
   "cell_type": "code",
   "execution_count": null,
   "id": "living-declaration",
   "metadata": {},
   "outputs": [],
   "source": []
  },
  {
   "cell_type": "code",
   "execution_count": 222,
   "id": "silver-investor",
   "metadata": {},
   "outputs": [],
   "source": [
    "class Alignment():\n",
    "    def __init__(self,\n",
    "                 path=None):\n",
    "        self.alignment=None\n",
    "        self.l4 = []\n",
    "        self.l5 = []\n",
    "        self.l6 = []\n",
    "        if path==None:\n",
    "            self.load_alignment()\n",
    "        else:\n",
    "            self.load_alignment(path=path)\n",
    "    \n",
    "    def load_alignment(self):\n",
    "        al = load_alignment_()\n",
    "        al_df, positions = clean_alignment(al)\n",
    "        self.alignment = al_df\n",
    "        genes = list(al_df['clean_id'])\n",
    "        for g in genes:\n",
    "            if len(g) == 4:\n",
    "                self.l4.append(g)\n",
    "            elif len(g) == 5:\n",
    "                self.l5.append(g)\n",
    "            elif len(g) == 6:\n",
    "                self.l6.append(g)\n",
    "            else:\n",
    "                pass\n",
    "    \n",
    "    def check_pdb(self, df):\n",
    "        found = []\n",
    "        for g in self.l4:\n",
    "            select = df[df['PDB'].str.contains(g.upper())]\n",
    "            if len(select) > 0:\n",
    "                found.append(g)\n",
    "        return found"
   ]
  },
  {
   "cell_type": "code",
   "execution_count": 223,
   "id": "dense-heath",
   "metadata": {},
   "outputs": [
    {
     "name": "stdout",
     "output_type": "stream",
     "text": [
      "cleaning alignment\n"
     ]
    }
   ],
   "source": [
    "A = Alignment()"
   ]
  },
  {
   "cell_type": "code",
   "execution_count": 225,
   "id": "improving-retirement",
   "metadata": {},
   "outputs": [],
   "source": [
    "found = A.check_pdb(pdb.data)"
   ]
  },
  {
   "cell_type": "code",
   "execution_count": 232,
   "id": "trained-expert",
   "metadata": {},
   "outputs": [
    {
     "name": "stdout",
     "output_type": "stream",
     "text": [
      "I found 308/335 protein sequences from the alignment table!\n"
     ]
    }
   ],
   "source": [
    "print(\"I found {}/{} protein sequences from the alignment table!\".format(len(found), len(A.l4)))"
   ]
  },
  {
   "cell_type": "code",
   "execution_count": null,
   "id": "appreciated-warrant",
   "metadata": {},
   "outputs": [],
   "source": []
  },
  {
   "cell_type": "code",
   "execution_count": null,
   "id": "polar-marketing",
   "metadata": {},
   "outputs": [],
   "source": []
  },
  {
   "cell_type": "code",
   "execution_count": null,
   "id": "optical-projector",
   "metadata": {},
   "outputs": [],
   "source": []
  },
  {
   "cell_type": "code",
   "execution_count": null,
   "id": "approximate-circulation",
   "metadata": {},
   "outputs": [],
   "source": []
  },
  {
   "cell_type": "code",
   "execution_count": null,
   "id": "prerequisite-indonesia",
   "metadata": {},
   "outputs": [],
   "source": []
  },
  {
   "cell_type": "code",
   "execution_count": null,
   "id": "large-census",
   "metadata": {},
   "outputs": [],
   "source": []
  },
  {
   "cell_type": "code",
   "execution_count": null,
   "id": "urban-progress",
   "metadata": {},
   "outputs": [],
   "source": []
  },
  {
   "cell_type": "code",
   "execution_count": null,
   "id": "laden-cement",
   "metadata": {},
   "outputs": [],
   "source": []
  },
  {
   "cell_type": "code",
   "execution_count": null,
   "id": "dedicated-shaft",
   "metadata": {},
   "outputs": [],
   "source": [
    "class Gproteins():\n",
    "    def __init__(self,\n",
    "                 path='data/'):\n",
    "        #https://gpcrdb.org/structure/g_protein_structure_browser\n",
    "        pass"
   ]
  },
  {
   "cell_type": "code",
   "execution_count": null,
   "id": "consolidated-writer",
   "metadata": {},
   "outputs": [],
   "source": []
  },
  {
   "cell_type": "code",
   "execution_count": null,
   "id": "quiet-hands",
   "metadata": {},
   "outputs": [],
   "source": []
  },
  {
   "cell_type": "code",
   "execution_count": null,
   "id": "regular-christian",
   "metadata": {},
   "outputs": [],
   "source": []
  },
  {
   "cell_type": "code",
   "execution_count": null,
   "id": "afraid-smith",
   "metadata": {},
   "outputs": [],
   "source": []
  },
  {
   "cell_type": "code",
   "execution_count": null,
   "id": "leading-dylan",
   "metadata": {},
   "outputs": [],
   "source": []
  },
  {
   "cell_type": "code",
   "execution_count": null,
   "id": "neural-rocket",
   "metadata": {},
   "outputs": [],
   "source": []
  },
  {
   "cell_type": "code",
   "execution_count": null,
   "id": "several-fighter",
   "metadata": {},
   "outputs": [],
   "source": []
  },
  {
   "cell_type": "code",
   "execution_count": null,
   "id": "raising-small",
   "metadata": {},
   "outputs": [],
   "source": []
  },
  {
   "cell_type": "code",
   "execution_count": 181,
   "id": "proof-fundamental",
   "metadata": {},
   "outputs": [],
   "source": [
    "class GPCR():\n",
    "    def __init__(self,\n",
    "                 path='data/',\n",
    "                 columns=['PDB', 'Name', \n",
    "                          'Uniprot', \n",
    "                          'Sequence', 'Sections', 'Gaps',\n",
    "                          'Structure', 'Ca','CaC','Psi','Phi','Omega',\n",
    "                          'State', 'G-protein'],\n",
    "                 alignment=\"GPCRdb_alignment_TM7_ICL4_H8.csv\",\n",
    "                 limit=5,\n",
    "                 verbose=1):\n",
    "        \n",
    "        \"\"\"\n",
    "        path: pdb file path\n",
    "        columns: [\n",
    "            Index:         Identifier for our data\n",
    "            Type:          G-Protein/Receptor/?\n",
    "            Function:      Agonist/Antagonist\n",
    "            Seq:           Protein sequence from PDBs\n",
    "            Uniprot_Seq:   Protein sequence from uniprot entry\n",
    "            Sections:      Polypeptides with structure (Sequence)\n",
    "            Gaps:          Indices of starts/ends in full protein sequence of the polypeptides\n",
    "            Position_idx:  GPCRdb alignment position index (if possible)\n",
    "            XYZ:           Structure Data contained in the PDB (saved as per-residue)\n",
    "            XYZ_padded:    Including NaN values for AAs in Gaps\n",
    "            Ca:            Position of the C-alphas\n",
    "            CaC:           Direction of backbone\n",
    "            Psi:           Psi angle\n",
    "            Phi:           Phi angle\n",
    "            Omega:         Omega angle\n",
    "            State:         Active/Inactive (for Receptors)\n",
    "            G-Protein:     Primary target I guess\n",
    "            Selectivities: Selectivity Values\n",
    "            References:    ???\n",
    "            ]\n",
    "        limit: maximum number of proteins loaded\n",
    "        \"\"\"\n",
    "        self.verbose = verbose\n",
    "        self.limit = limit\n",
    "        \n",
    "        self.path_pdb = path + 'pdb/'\n",
    "        self.path_alignment = path + 'alignments/' + alignment\n",
    "        self.path_table = 'gpcrdb/'\n",
    "        \n",
    "        self.alignment = None\n",
    "        self.data = pd.DataFrame(columns = columns)\n",
    "    \n",
    "    # ======================================================================================================================\n",
    "    \n",
    "    def load_pkl(self, path: str):\n",
    "        self.data = pd.read_pickle(path)\n",
    "        \n",
    "    def save_pkl(self, path: str):\n",
    "        self.data.save_pickle(path)\n",
    "    \n",
    "    # ======================================================================================================================\n",
    "    \n",
    "    def view(self, pdb=None, uniprot=None, idx=None, start=None, end=None, start_idx=None, end_idx=None):\n",
    "        # implement a view of a protein\n",
    "        # implement view of overlap of proteins\n",
    "        pass"
   ]
  },
  {
   "cell_type": "code",
   "execution_count": 182,
   "id": "descending-apache",
   "metadata": {},
   "outputs": [],
   "source": [
    "loader = GPCR()"
   ]
  },
  {
   "cell_type": "code",
   "execution_count": 183,
   "id": "better-investor",
   "metadata": {},
   "outputs": [
    {
     "data": {
      "text/html": [
       "<div>\n",
       "<style scoped>\n",
       "    .dataframe tbody tr th:only-of-type {\n",
       "        vertical-align: middle;\n",
       "    }\n",
       "\n",
       "    .dataframe tbody tr th {\n",
       "        vertical-align: top;\n",
       "    }\n",
       "\n",
       "    .dataframe thead th {\n",
       "        text-align: right;\n",
       "    }\n",
       "</style>\n",
       "<table border=\"1\" class=\"dataframe\">\n",
       "  <thead>\n",
       "    <tr style=\"text-align: right;\">\n",
       "      <th></th>\n",
       "      <th>PDB</th>\n",
       "      <th>Name</th>\n",
       "      <th>Uniprot</th>\n",
       "      <th>Sequence</th>\n",
       "      <th>Sections</th>\n",
       "      <th>Gaps</th>\n",
       "      <th>Structure</th>\n",
       "      <th>Ca</th>\n",
       "      <th>CaC</th>\n",
       "      <th>Psi</th>\n",
       "      <th>Phi</th>\n",
       "      <th>Omega</th>\n",
       "      <th>State</th>\n",
       "      <th>G-protein</th>\n",
       "    </tr>\n",
       "  </thead>\n",
       "  <tbody>\n",
       "  </tbody>\n",
       "</table>\n",
       "</div>"
      ],
      "text/plain": [
       "Empty DataFrame\n",
       "Columns: [PDB, Name, Uniprot, Sequence, Sections, Gaps, Structure, Ca, CaC, Psi, Phi, Omega, State, G-protein]\n",
       "Index: []"
      ]
     },
     "execution_count": 183,
     "metadata": {},
     "output_type": "execute_result"
    }
   ],
   "source": [
    "loader.data"
   ]
  },
  {
   "cell_type": "code",
   "execution_count": 36,
   "id": "pressing-omega",
   "metadata": {},
   "outputs": [
    {
     "name": "stderr",
     "output_type": "stream",
     "text": [
      "\r",
      "  0%|                                                                                                                                                                                                                                                                                            | 0/5 [00:00<?, ?it/s]"
     ]
    },
    {
     "name": "stdout",
     "output_type": "stream",
     "text": [
      "Found 528 files. Using 5 files.\n"
     ]
    },
    {
     "name": "stderr",
     "output_type": "stream",
     "text": [
      "100%|████████████████████████████████████████████████████████████████████████████████████████████████████████████████████████████████████████████████████████████████████████████████████████████████████████████████████████████████████████████████████████████████████████████████████| 5/5 [00:05<00:00,  1.09s/it]\n"
     ]
    }
   ],
   "source": [
    "loader.load_pdbs()"
   ]
  },
  {
   "cell_type": "code",
   "execution_count": null,
   "id": "rolled-retirement",
   "metadata": {},
   "outputs": [],
   "source": []
  },
  {
   "cell_type": "code",
   "execution_count": null,
   "id": "broad-coating",
   "metadata": {},
   "outputs": [],
   "source": []
  },
  {
   "cell_type": "code",
   "execution_count": null,
   "id": "indie-kentucky",
   "metadata": {},
   "outputs": [],
   "source": []
  },
  {
   "cell_type": "code",
   "execution_count": null,
   "id": "recent-madness",
   "metadata": {},
   "outputs": [],
   "source": []
  },
  {
   "cell_type": "code",
   "execution_count": null,
   "id": "continued-malta",
   "metadata": {},
   "outputs": [],
   "source": []
  }
 ],
 "metadata": {
  "kernelspec": {
   "display_name": "Python 3",
   "language": "python",
   "name": "python3"
  },
  "language_info": {
   "codemirror_mode": {
    "name": "ipython",
    "version": 3
   },
   "file_extension": ".py",
   "mimetype": "text/x-python",
   "name": "python",
   "nbconvert_exporter": "python",
   "pygments_lexer": "ipython3",
   "version": "3.8.5"
  }
 },
 "nbformat": 4,
 "nbformat_minor": 5
}
