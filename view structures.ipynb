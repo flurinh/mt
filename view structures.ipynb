{
 "cells": [
  {
   "cell_type": "code",
   "execution_count": 1,
   "id": "blind-startup",
   "metadata": {},
   "outputs": [],
   "source": [
    "from utils import *"
   ]
  },
  {
   "cell_type": "code",
   "execution_count": 2,
   "id": "rocky-abraham",
   "metadata": {},
   "outputs": [],
   "source": [
    "filenames = getpdbs()\n",
    "eg = filenames[3]"
   ]
  },
  {
   "cell_type": "code",
   "execution_count": 3,
   "id": "identified-noise",
   "metadata": {},
   "outputs": [
    {
     "data": {
      "text/plain": [
       "'data/structures/pdb_structures/adrb2_human_6E67.pdb'"
      ]
     },
     "execution_count": 3,
     "metadata": {},
     "output_type": "execute_result"
    }
   ],
   "source": [
    "eg"
   ]
  },
  {
   "cell_type": "code",
   "execution_count": 4,
   "id": "charming-wesley",
   "metadata": {},
   "outputs": [],
   "source": [
    "import nglview as nv\n",
    "\n",
    "view = nv.show_file(eg, default=False)"
   ]
  },
  {
   "cell_type": "code",
   "execution_count": 5,
   "id": "favorite-deviation",
   "metadata": {},
   "outputs": [
    {
     "name": "stdout",
     "output_type": "stream",
     "text": [
      "NGLWidget()\n"
     ]
    }
   ],
   "source": [
    "print(view)"
   ]
  },
  {
   "cell_type": "code",
   "execution_count": 6,
   "id": "taken-philip",
   "metadata": {},
   "outputs": [
    {
     "data": {
      "application/vnd.jupyter.widget-view+json": {
       "model_id": "8529e9f30b5f49efa17266c4f1847835",
       "version_major": 2,
       "version_minor": 0
      },
      "text/plain": [
       "NGLWidget()"
      ]
     },
     "metadata": {},
     "output_type": "display_data"
    }
   ],
   "source": [
    "import time\n",
    "import nglview as nv\n",
    "\n",
    "view = nv.demo()\n",
    "view"
   ]
  },
  {
   "cell_type": "code",
   "execution_count": 7,
   "id": "mathematical-invitation",
   "metadata": {},
   "outputs": [
    {
     "data": {
      "text/plain": [
       "''"
      ]
     },
     "execution_count": 7,
     "metadata": {},
     "output_type": "execute_result"
    }
   ],
   "source": [
    "view._ngl_version"
   ]
  },
  {
   "cell_type": "code",
   "execution_count": 11,
   "id": "permanent-local",
   "metadata": {},
   "outputs": [],
   "source": [
    "# Not using default representation\n",
    "\n",
    "view = nv.show_file(eg, default=False)\n",
    "view.center()\n",
    "view.add_rope()"
   ]
  },
  {
   "cell_type": "code",
   "execution_count": 12,
   "id": "suffering-nerve",
   "metadata": {},
   "outputs": [],
   "source": [
    "view.add_representation('cartoon', selection='protein')\n",
    "\n",
    "# or shorter\n",
    "view.add_cartoon(selection=\"protein\")\n",
    "view.add_surface(selection=\"protein\", opacity=0.3)\n",
    "\n",
    "# specify color\n",
    "view.add_cartoon(selection=\"protein\", color='blue')\n",
    "\n",
    "# specify residue\n",
    "view.add_licorice('ALA, GLU')\n",
    "\n",
    "# clear representations\n",
    "view.clear_representations()"
   ]
  },
  {
   "cell_type": "code",
   "execution_count": 13,
   "id": "theoretical-strain",
   "metadata": {},
   "outputs": [
    {
     "name": "stdout",
     "output_type": "stream",
     "text": [
      "Viewing adrb2_human_6E67.pdb:\n"
     ]
    },
    {
     "data": {
      "application/vnd.jupyter.widget-view+json": {
       "model_id": "8ef4ba479cc241948dcca10529f07314",
       "version_major": 2,
       "version_minor": 0
      },
      "text/plain": [
       "NGLWidget()"
      ]
     },
     "metadata": {},
     "output_type": "display_data"
    }
   ],
   "source": [
    "print(\"Viewing {}:\".format(eg))\n",
    "view"
   ]
  },
  {
   "cell_type": "code",
   "execution_count": null,
   "id": "technical-romania",
   "metadata": {},
   "outputs": [],
   "source": []
  }
 ],
 "metadata": {
  "kernelspec": {
   "display_name": "Python 3",
   "language": "python",
   "name": "python3"
  },
  "language_info": {
   "codemirror_mode": {
    "name": "ipython",
    "version": 3
   },
   "file_extension": ".py",
   "mimetype": "text/x-python",
   "name": "python",
   "nbconvert_exporter": "python",
   "pygments_lexer": "ipython3",
   "version": "3.8.6"
  }
 },
 "nbformat": 4,
 "nbformat_minor": 5
}
