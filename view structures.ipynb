{
 "cells": [
  {
   "cell_type": "code",
   "execution_count": 2,
   "id": "blind-startup",
   "metadata": {},
   "outputs": [],
   "source": [
    "from utils import *"
   ]
  },
  {
   "cell_type": "code",
   "execution_count": 3,
   "id": "rocky-abraham",
   "metadata": {},
   "outputs": [],
   "source": [
    "filenames = getpdbs()\n",
    "eg = filenames[3]"
   ]
  },
  {
   "cell_type": "code",
   "execution_count": 4,
   "id": "identified-noise",
   "metadata": {},
   "outputs": [
    {
     "data": {
      "text/plain": "'data/active/adrb2_human_3SN6.pdb'"
     },
     "execution_count": 4,
     "metadata": {},
     "output_type": "execute_result"
    }
   ],
   "source": [
    "eg"
   ]
  },
  {
   "cell_type": "code",
   "execution_count": 5,
   "id": "charming-wesley",
   "metadata": {},
   "outputs": [
    {
     "ename": "ModuleNotFoundError",
     "evalue": "No module named 'nglview'",
     "output_type": "error",
     "traceback": [
      "\u001B[1;31m---------------------------------------------------------------------------\u001B[0m",
      "\u001B[1;31mModuleNotFoundError\u001B[0m                       Traceback (most recent call last)",
      "\u001B[1;32m<ipython-input-5-344cf6d93abf>\u001B[0m in \u001B[0;36m<module>\u001B[1;34m\u001B[0m\n\u001B[1;32m----> 1\u001B[1;33m \u001B[1;32mimport\u001B[0m \u001B[0mnglview\u001B[0m \u001B[1;32mas\u001B[0m \u001B[0mnv\u001B[0m\u001B[1;33m\u001B[0m\u001B[1;33m\u001B[0m\u001B[0m\n\u001B[0m\u001B[0;32m      2\u001B[0m \u001B[1;33m\u001B[0m\u001B[0m\n\u001B[0;32m      3\u001B[0m \u001B[0mview\u001B[0m \u001B[1;33m=\u001B[0m \u001B[0mnv\u001B[0m\u001B[1;33m.\u001B[0m\u001B[0mshow_file\u001B[0m\u001B[1;33m(\u001B[0m\u001B[0meg\u001B[0m\u001B[1;33m,\u001B[0m \u001B[0mdefault\u001B[0m\u001B[1;33m=\u001B[0m\u001B[1;32mFalse\u001B[0m\u001B[1;33m)\u001B[0m\u001B[1;33m\u001B[0m\u001B[1;33m\u001B[0m\u001B[0m\n\u001B[0;32m      4\u001B[0m \u001B[1;33m\u001B[0m\u001B[0m\n",
      "\u001B[1;31mModuleNotFoundError\u001B[0m: No module named 'nglview'"
     ]
    }
   ],
   "source": [
    "import nglview as nv\n",
    "\n",
    "view = nv.show_file(eg, default=False)"
   ]
  },
  {
   "cell_type": "code",
   "execution_count": null,
   "id": "favorite-deviation",
   "metadata": {},
   "outputs": [],
   "source": [
    "print(view)"
   ]
  },
  {
   "cell_type": "code",
   "execution_count": null,
   "id": "taken-philip",
   "metadata": {},
   "outputs": [],
   "source": [
    "import time\n",
    "import nglview as nv\n",
    "\n",
    "view = nv.demo()\n",
    "view"
   ]
  },
  {
   "cell_type": "code",
   "execution_count": null,
   "id": "mathematical-invitation",
   "metadata": {},
   "outputs": [],
   "source": [
    "view._ngl_version"
   ]
  },
  {
   "cell_type": "code",
   "execution_count": null,
   "id": "permanent-local",
   "metadata": {},
   "outputs": [],
   "source": [
    "# Not using default representation\n",
    "\n",
    "view = nv.show_file(eg, default=False)\n",
    "view.center()\n",
    "view.add_rope()"
   ]
  },
  {
   "cell_type": "code",
   "execution_count": null,
   "id": "suffering-nerve",
   "metadata": {},
   "outputs": [],
   "source": [
    "view.add_representation('cartoon', selection='protein')\n",
    "\n",
    "# or shorter\n",
    "view.add_cartoon(selection=\"protein\")\n",
    "view.add_surface(selection=\"protein\", opacity=0.3)\n",
    "\n",
    "# specify color\n",
    "view.add_cartoon(selection=\"protein\", color='blue')\n",
    "\n",
    "# specify residue\n",
    "view.add_licorice('ALA, GLU')\n",
    "\n",
    "# clear representations\n",
    "view.clear_representations()"
   ]
  },
  {
   "cell_type": "code",
   "execution_count": null,
   "id": "theoretical-strain",
   "metadata": {},
   "outputs": [],
   "source": [
    "print(\"Viewing {}:\".format(eg))\n",
    "view"
   ]
  },
  {
   "cell_type": "code",
   "execution_count": null,
   "id": "technical-romania",
   "metadata": {},
   "outputs": [],
   "source": []
  }
 ],
 "metadata": {
  "kernelspec": {
   "display_name": "Python 3",
   "language": "python",
   "name": "python3"
  },
  "language_info": {
   "codemirror_mode": {
    "name": "ipython",
    "version": 3
   },
   "file_extension": ".py",
   "mimetype": "text/x-python",
   "name": "python",
   "nbconvert_exporter": "python",
   "pygments_lexer": "ipython3",
   "version": "3.8.6"
  }
 },
 "nbformat": 4,
 "nbformat_minor": 5
}