{
 "cells": [
  {
   "cell_type": "code",
   "execution_count": 1,
   "id": "english-sharp",
   "metadata": {
    "pycharm": {
     "name": "#%%\n"
    }
   },
   "outputs": [],
   "source": [
    "from utils import *\n",
    "from utils2 import *\n",
    "from gpcrdb_soup import *"
   ]
  },
  {
   "cell_type": "code",
   "execution_count": 2,
   "id": "effective-chain",
   "metadata": {
    "pycharm": {
     "name": "#%%\n"
    }
   },
   "outputs": [],
   "source": [
    "import Bio\n",
    "import yaml\n",
    "import os\n",
    "from functools import partial\n",
    "from operator import is_not\n",
    "from tqdm import tqdm"
   ]
  },
  {
   "cell_type": "code",
   "execution_count": 3,
   "id": "adult-envelope",
   "metadata": {},
   "outputs": [],
   "source": [
    "def disp3(df: pd.DataFrame):\n",
    "    with pd.option_context('display.max_rows', None, 'display.max_columns', None):  # more options can be specified also\n",
    "        display(df.head(3))"
   ]
  },
  {
   "cell_type": "code",
   "execution_count": 4,
   "id": "stone-relation",
   "metadata": {
    "pycharm": {
     "name": "#%%\n"
    }
   },
   "outputs": [],
   "source": [
    "uniprot = False  # specify if we want to scrape for uniprot links ~"
   ]
  },
  {
   "cell_type": "code",
   "execution_count": 5,
   "id": "preceding-observer",
   "metadata": {
    "pycharm": {
     "name": "#%%\n"
    }
   },
   "outputs": [],
   "source": [
    "# table = get_table(reload=True, save=True, uniprot=uniprot)"
   ]
  },
  {
   "cell_type": "code",
   "execution_count": 6,
   "id": "understood-patio",
   "metadata": {
    "pycharm": {
     "name": "#%%\n"
    }
   },
   "outputs": [],
   "source": [
    "table = get_table(reload=False)"
   ]
  },
  {
   "cell_type": "code",
   "execution_count": 7,
   "id": "pending-idaho",
   "metadata": {
    "pycharm": {
     "name": "#%%\n"
    }
   },
   "outputs": [],
   "source": [
    "if uniprot:\n",
    "    t = table[['PDB', 'pdb_link', 'uniprot(gene)','uniprot_id', 'uniprot_link']]\n",
    "else:\n",
    "    t = table[['PDB', 'pdb_link', 'uniprot(gene)']]"
   ]
  },
  {
   "cell_type": "code",
   "execution_count": 118,
   "id": "digital-therapist",
   "metadata": {
    "pycharm": {
     "name": "#%%\n"
    }
   },
   "outputs": [],
   "source": [
    "# t\n",
    "# Todo: https://www.ebi.ac.uk/training/online/sites/ebi.ac.uk.training.online/files/UniProt_programmatically_py3.pdf"
   ]
  },
  {
   "cell_type": "code",
   "execution_count": 9,
   "id": "solved-identification",
   "metadata": {
    "pycharm": {
     "name": "#%%\n"
    }
   },
   "outputs": [],
   "source": [
    "df = table\n",
    "\n",
    "# This is the thing we might want to specify with argparse\n",
    "filtered = df[df['Cl.'].str.contains('A')]\n",
    "filtered = filtered[filtered['Species'].str.contains('Human')]"
   ]
  },
  {
   "cell_type": "code",
   "execution_count": 117,
   "id": "processed-change",
   "metadata": {
    "pycharm": {
     "name": "#%%\n"
    }
   },
   "outputs": [],
   "source": [
    "# filtered"
   ]
  },
  {
   "cell_type": "code",
   "execution_count": 11,
   "id": "planned-classroom",
   "metadata": {
    "pycharm": {
     "name": "#%%\n"
    }
   },
   "outputs": [],
   "source": [
    "# 2.1) find active state (complex i.p.)\n",
    "filtered_complex = filtered[filtered['Family'].str.contains('Gs')]\n",
    "active = filtered_complex[filtered_complex['State'].str.contains('Active')]"
   ]
  },
  {
   "cell_type": "code",
   "execution_count": 119,
   "id": "liquid-above",
   "metadata": {
    "pycharm": {
     "name": "#%%\n"
    }
   },
   "outputs": [],
   "source": [
    "# disp3(active)"
   ]
  },
  {
   "cell_type": "code",
   "execution_count": 13,
   "id": "amateur-harrison",
   "metadata": {
    "pycharm": {
     "name": "#%%\n"
    }
   },
   "outputs": [
    {
     "data": {
      "text/plain": [
       "\"\\nfor url in tqdm(active['pdb_link']):\\n    download_pdb(url, 'active')\\n\""
      ]
     },
     "execution_count": 13,
     "metadata": {},
     "output_type": "execute_result"
    }
   ],
   "source": [
    "# todo: check if file already exists and use overwrite=True/False\n",
    "\"\"\"\n",
    "for url in tqdm(active['pdb_link']):\n",
    "    download_pdb(url, 'active')\n",
    "\"\"\""
   ]
  },
  {
   "cell_type": "code",
   "execution_count": 14,
   "id": "martial-investigation",
   "metadata": {
    "pycharm": {
     "name": "#%%\n"
    }
   },
   "outputs": [
    {
     "name": "stdout",
     "output_type": "stream",
     "text": [
      "Found 13 proteins: ['7CFN', '5G53', '7CFM', '6NI3', '6GDG', '6E67', '7BZ2', '7DHI', '7DHR', '7D7M', '3SN6', '7BW0', '6LI3'].\n"
     ]
    }
   ],
   "source": [
    "# Data loading\n",
    "files_a, prots_a = get_pdb_files(path='data/pdb/active/')  # Get all downloaded pdb files in specified path\n",
    "print(\"Found {} proteins: {}.\".format(len(prots_a), prots_a))"
   ]
  },
  {
   "cell_type": "code",
   "execution_count": 15,
   "id": "approved-kruger",
   "metadata": {
    "pycharm": {
     "name": "#%%\n"
    }
   },
   "outputs": [
    {
     "name": "stdout",
     "output_type": "stream",
     "text": [
      "['ADRB2', 'AA2AR', 'GPBAR', 'GPR52', 'PE2R4']\n"
     ]
    }
   ],
   "source": [
    "# find inactive counter parts of the active proteins ==> use gene/uniprot, Family and species to match them\n",
    "\n",
    "genes = list(set(active['uniprot(gene)'].values.tolist()))\n",
    "print(genes)\n",
    "\n",
    "inactive = filtered[(filtered['uniprot(gene)'].isin(genes))\n",
    "                    & (filtered['State'].str.contains('Inactive')) \n",
    "                    & (filtered['Species'].str.contains('Human'))]"
   ]
  },
  {
   "cell_type": "code",
   "execution_count": 16,
   "id": "resident-nevada",
   "metadata": {
    "pycharm": {
     "name": "#%%\n"
    }
   },
   "outputs": [
    {
     "data": {
      "text/plain": [
       "\"for url in tqdm(inactive['pdb_link']):\\n    download_pdb(url, 'inactive')\""
      ]
     },
     "execution_count": 16,
     "metadata": {},
     "output_type": "execute_result"
    }
   ],
   "source": [
    "\"\"\"for url in tqdm(inactive['pdb_link']):\n",
    "    download_pdb(url, 'inactive')\"\"\""
   ]
  },
  {
   "cell_type": "code",
   "execution_count": 120,
   "id": "floating-pencil",
   "metadata": {
    "pycharm": {
     "name": "#%%\n"
    }
   },
   "outputs": [],
   "source": [
    "# disp3(inactive)"
   ]
  },
  {
   "cell_type": "code",
   "execution_count": 18,
   "id": "interior-durham",
   "metadata": {
    "pycharm": {
     "name": "#%%\n"
    }
   },
   "outputs": [
    {
     "name": "stdout",
     "output_type": "stream",
     "text": [
      "Found 74 proteins: ['5OLG', '3VG9', '3D4S', '3PWH', '6ZDR', '2RH1', '6LPL', '5IU7', '6AQF', '6PS5', '3NY8', '3NY9', '5JQH', '5OLO', '6PS6', '6PS7', '5UVI', '5K2D', '5OM1', '6PS1', '6GT3', '5YWY', '5D5B', '6PS4', '5NM4', '3KJ6', '3VGA', '5OLH', '3PDS', '5IUB', '6S0Q', '5D5A', '6PS2', '5UIG', '6PRZ', '5IU4', '5OLV', '6PS3', '2R4S', '5K2B', '4GBR', '5N2R', '5JTB', '6OBA', '6WQA', '6LPK', '3NYA', '5NLX', '5VRA', '6PS0', '5MZJ', '5YHL', '6S0L', '4EIY', '5D6L', '5K2C', '5OM4', '6JZH', '6MH8', '5NM2', '2R4R', '3EML', '5OLZ', '6ZDV', '3REY', '3UZC', '5IU8', '5K2A', '3RFM', '5IUA', '5MZP', '5X7D', '3UZA', '6LPJ'].\n"
     ]
    }
   ],
   "source": [
    "# Data loading\n",
    "files_i, prots_i = get_pdb_files(path='data/pdb/inactive/')  # Get all downloaded pdb files in specified path\n",
    "print(\"Found {} proteins: {}.\".format(len(prots_i), prots_i))"
   ]
  },
  {
   "cell_type": "code",
   "execution_count": 19,
   "id": "gross-group",
   "metadata": {
    "pycharm": {
     "name": "#%%\n"
    }
   },
   "outputs": [
    {
     "name": "stdout",
     "output_type": "stream",
     "text": [
      "Searching for alignment: https://gpcrdb.org/services/alignment/protein/7CFN,5G53,7CFM,6NI3,6GDG,6E67,7BZ2,7DHI,7DHR,7D7M,3SN6,7BW0,6LI3/TM7/\n",
      "Doesnt work anymore...\n"
     ]
    }
   ],
   "source": [
    "try:\n",
    "    seg_aligns = get_alignment(prots_a)\n",
    "    print(yaml.dump(seg_aligns, default_flow_style=False))\n",
    "except:\n",
    "    print(\"Doesnt work anymore...\")"
   ]
  },
  {
   "cell_type": "code",
   "execution_count": 20,
   "id": "fossil-surfing",
   "metadata": {},
   "outputs": [],
   "source": [
    "# Solution: manual download for the entire A class"
   ]
  },
  {
   "cell_type": "code",
   "execution_count": 21,
   "id": "surgical-mouse",
   "metadata": {
    "pycharm": {
     "name": "#%%\n"
    }
   },
   "outputs": [],
   "source": [
    "al_df = clean_alignment(load_alignment_())"
   ]
  },
  {
   "cell_type": "code",
   "execution_count": 22,
   "id": "studied-divorce",
   "metadata": {
    "pycharm": {
     "name": "#%%\n"
    }
   },
   "outputs": [
    {
     "data": {
      "text/plain": [
       "598"
      ]
     },
     "execution_count": 22,
     "metadata": {},
     "output_type": "execute_result"
    }
   ],
   "source": [
    "len(al_df)  # this is the entire class A!"
   ]
  },
  {
   "cell_type": "code",
   "execution_count": 121,
   "id": "induced-bracket",
   "metadata": {
    "pycharm": {
     "name": "#%%\n"
    }
   },
   "outputs": [],
   "source": [
    "# disp3(al_df)"
   ]
  },
  {
   "cell_type": "code",
   "execution_count": 24,
   "id": "adopted-tsunami",
   "metadata": {
    "pycharm": {
     "name": "#%%\n"
    }
   },
   "outputs": [],
   "source": [
    "# since the identifiers are only human readable..."
   ]
  },
  {
   "cell_type": "code",
   "execution_count": 25,
   "id": "coupled-memory",
   "metadata": {
    "pycharm": {
     "name": "#%%\n"
    }
   },
   "outputs": [],
   "source": [
    "genes = list(al_df['clean_id'])\n",
    "\n",
    "l4=[]\n",
    "l5=[]\n",
    "l6=[]\n",
    "\n",
    "for g in genes:\n",
    "    if len(g) == 4:\n",
    "        l4.append(g)\n",
    "    elif len(g) == 5:\n",
    "        l5.append(g)\n",
    "    elif len(g) == 6:\n",
    "        l6.append(g)\n",
    "    else:\n",
    "        pass"
   ]
  },
  {
   "cell_type": "code",
   "execution_count": 26,
   "id": "loose-provision",
   "metadata": {
    "pycharm": {
     "name": "#%%\n"
    }
   },
   "outputs": [],
   "source": [
    "# print(l4)  # these are (all?) pdbs"
   ]
  },
  {
   "cell_type": "code",
   "execution_count": 27,
   "id": "exotic-columbia",
   "metadata": {
    "pycharm": {
     "name": "#%%\n"
    }
   },
   "outputs": [],
   "source": [
    "# print(l5)  # these are?"
   ]
  },
  {
   "cell_type": "code",
   "execution_count": 28,
   "id": "collaborative-grace",
   "metadata": {
    "pycharm": {
     "name": "#%%\n"
    }
   },
   "outputs": [],
   "source": [
    "# print(l6)  # another id.."
   ]
  },
  {
   "cell_type": "code",
   "execution_count": 29,
   "id": "engaging-creator",
   "metadata": {
    "pycharm": {
     "name": "#%%\n"
    }
   },
   "outputs": [
    {
     "name": "stderr",
     "output_type": "stream",
     "text": [
      "<ipython-input-29-29d6b45c2935>:2: SettingWithCopyWarning: \n",
      "A value is trying to be set on a copy of a slice from a DataFrame.\n",
      "Try using .loc[row_indexer,col_indexer] = value instead\n",
      "\n",
      "See the caveats in the documentation: https://pandas.pydata.org/pandas-docs/stable/user_guide/indexing.html#returning-a-view-versus-a-copy\n",
      "  inactive['pdb_lower'] = inactive.PDB.apply(lambda x: x.lower())\n"
     ]
    }
   ],
   "source": [
    "# This should be put into a function somewhere or just left out!\n",
    "inactive['pdb_lower'] = inactive.PDB.apply(lambda x: x.lower())\n",
    "active['pdb_lower'] = active.PDB.apply(lambda x: x.lower())"
   ]
  },
  {
   "cell_type": "code",
   "execution_count": 30,
   "id": "amber-bench",
   "metadata": {
    "pycharm": {
     "name": "#%%\n"
    }
   },
   "outputs": [],
   "source": [
    "found = []\n",
    "for g in l4:\n",
    "    select = inactive[inactive['pdb_lower'].str.contains(g.lower())]\n",
    "    if len(select) > 0:\n",
    "        found.append(g)"
   ]
  },
  {
   "cell_type": "code",
   "execution_count": 31,
   "id": "horizontal-miller",
   "metadata": {
    "pycharm": {
     "name": "#%%\n"
    }
   },
   "outputs": [
    {
     "name": "stdout",
     "output_type": "stream",
     "text": [
      "Found 74 / 74 inactive proteins.\n"
     ]
    }
   ],
   "source": [
    "print(\"Found {} / {} inactive proteins.\".format(len(found), len(inactive)))"
   ]
  },
  {
   "cell_type": "code",
   "execution_count": 32,
   "id": "viral-hormone",
   "metadata": {
    "pycharm": {
     "name": "#%%\n"
    }
   },
   "outputs": [],
   "source": [
    "# check\n",
    "# print(sorted(list(inactive['PDB'].str.lower()))[:10])\n",
    "# print(sorted(l4)[:10])"
   ]
  },
  {
   "cell_type": "code",
   "execution_count": 33,
   "id": "adult-plaza",
   "metadata": {
    "pycharm": {
     "name": "#%%\n"
    }
   },
   "outputs": [
    {
     "name": "stderr",
     "output_type": "stream",
     "text": [
      "100%|██████████████████████████████████████████████████████████████████████████████████████████████████████████████████████████████████████████████████████████████████████████████████████████████████████████████████████████████████████████████████████████████████████████████████| 13/13 [00:02<00:00,  5.02it/s]\n"
     ]
    }
   ],
   "source": [
    "structures_a = pdb_data(files_a)"
   ]
  },
  {
   "cell_type": "code",
   "execution_count": 34,
   "id": "lined-memory",
   "metadata": {
    "pycharm": {
     "name": "#%%\n"
    }
   },
   "outputs": [
    {
     "name": "stderr",
     "output_type": "stream",
     "text": [
      "100%|██████████████████████████████████████████████████████████████████████████████████████████████████████████████████████████████████████████████████████████████████████████████████████████████████████████████████████████████████████████████████████████████████████████████████| 74/74 [00:12<00:00,  5.82it/s]\n"
     ]
    }
   ],
   "source": [
    "structures_i = pdb_data(files_i)"
   ]
  },
  {
   "cell_type": "code",
   "execution_count": 35,
   "id": "extra-forth",
   "metadata": {
    "pycharm": {
     "name": "#%%\n"
    }
   },
   "outputs": [],
   "source": [
    "# disp3(structures_i) # missing segment information, segment position information, pp position information"
   ]
  },
  {
   "cell_type": "code",
   "execution_count": 36,
   "id": "economic-confidentiality",
   "metadata": {},
   "outputs": [
    {
     "data": {
      "text/plain": [
       "\"for i in range(50):\\n    print(structures_i['prot_len'].iloc[i], structures_i['pp_lens'].iloc[i])\""
      ]
     },
     "execution_count": 36,
     "metadata": {},
     "output_type": "execute_result"
    }
   ],
   "source": [
    "# somehow the sequence lengths and polypeptide lengths are of unequal lengths... HOW?!\n",
    "\"\"\"for i in range(50):\n",
    "    print(structures_i['prot_len'].iloc[i], structures_i['pp_lens'].iloc[i])\"\"\""
   ]
  },
  {
   "cell_type": "code",
   "execution_count": 37,
   "id": "duplicate-buying",
   "metadata": {
    "pycharm": {
     "name": "#%%\n"
    }
   },
   "outputs": [],
   "source": [
    "full_a = structure_to_full(active, structures_a, al_df)"
   ]
  },
  {
   "cell_type": "code",
   "execution_count": 38,
   "id": "agreed-traffic",
   "metadata": {
    "pycharm": {
     "name": "#%%\n"
    }
   },
   "outputs": [],
   "source": [
    "full_a.to_csv('full_a.csv')\n",
    "full_a = pd.read_csv('full_a.csv')"
   ]
  },
  {
   "cell_type": "code",
   "execution_count": 39,
   "id": "essential-winner",
   "metadata": {
    "pycharm": {
     "name": "#%%\n"
    }
   },
   "outputs": [],
   "source": [
    "# full_a['full_prot_seq']"
   ]
  },
  {
   "cell_type": "code",
   "execution_count": 40,
   "id": "hearing-croatia",
   "metadata": {
    "pycharm": {
     "name": "#%%\n"
    }
   },
   "outputs": [],
   "source": [
    "# full_a['TM7_combined']"
   ]
  },
  {
   "cell_type": "code",
   "execution_count": 41,
   "id": "czech-syndrome",
   "metadata": {
    "pycharm": {
     "name": "#%%\n"
    }
   },
   "outputs": [],
   "source": [
    "# full_a['H8_combined']"
   ]
  },
  {
   "cell_type": "code",
   "execution_count": 42,
   "id": "cleared-swift",
   "metadata": {
    "pycharm": {
     "name": "#%%\n"
    }
   },
   "outputs": [],
   "source": [
    "complete_a = complete_data(full_a)"
   ]
  },
  {
   "cell_type": "code",
   "execution_count": 43,
   "id": "higher-atlanta",
   "metadata": {},
   "outputs": [],
   "source": [
    "# disp3(complete_a)"
   ]
  },
  {
   "cell_type": "code",
   "execution_count": 44,
   "id": "democratic-translator",
   "metadata": {
    "pycharm": {
     "name": "#%%\n"
    }
   },
   "outputs": [],
   "source": [
    "# Filter out poorly aligned proteins\n",
    "# disp3(complete_a[complete_a['std'] < 20])"
   ]
  },
  {
   "cell_type": "code",
   "execution_count": 45,
   "id": "flush-apartment",
   "metadata": {},
   "outputs": [],
   "source": [
    "#complete_i['pp_lens']"
   ]
  },
  {
   "cell_type": "code",
   "execution_count": 46,
   "id": "amino-skill",
   "metadata": {
    "pycharm": {
     "name": "#%%\n"
    }
   },
   "outputs": [],
   "source": [
    "full_i = structure_to_full(inactive, structures_i, al_df)"
   ]
  },
  {
   "cell_type": "code",
   "execution_count": 47,
   "id": "solar-southwest",
   "metadata": {
    "pycharm": {
     "name": "#%%\n"
    }
   },
   "outputs": [],
   "source": [
    "full_i.to_csv('full_i.csv')\n",
    "full_i = pd.read_csv('full_i.csv')"
   ]
  },
  {
   "cell_type": "code",
   "execution_count": 48,
   "id": "impossible-junction",
   "metadata": {
    "pycharm": {
     "name": "#%%\n"
    }
   },
   "outputs": [],
   "source": [
    "# print(len(full_i))"
   ]
  },
  {
   "cell_type": "code",
   "execution_count": 49,
   "id": "quick-detective",
   "metadata": {},
   "outputs": [],
   "source": [
    "complete_i = complete_data(full_i)"
   ]
  },
  {
   "cell_type": "code",
   "execution_count": 50,
   "id": "regional-riverside",
   "metadata": {
    "pycharm": {
     "name": "#%%\n"
    }
   },
   "outputs": [],
   "source": [
    "# disp3(complete_i[complete_i['std'] < 10])"
   ]
  },
  {
   "cell_type": "code",
   "execution_count": 51,
   "id": "plain-convergence",
   "metadata": {},
   "outputs": [],
   "source": [
    "# disp3(complete_i['start'])"
   ]
  },
  {
   "cell_type": "code",
   "execution_count": 52,
   "id": "bored-harris",
   "metadata": {
    "pycharm": {
     "name": "#%%\n"
    }
   },
   "outputs": [],
   "source": [
    "# len(complete_i[complete_i['std'] < 10])"
   ]
  },
  {
   "cell_type": "code",
   "execution_count": 53,
   "id": "civic-brave",
   "metadata": {
    "pycharm": {
     "name": "#%%\n"
    }
   },
   "outputs": [],
   "source": [
    "# print(len(complete_i))"
   ]
  },
  {
   "cell_type": "code",
   "execution_count": 54,
   "id": "strange-blair",
   "metadata": {
    "pycharm": {
     "name": "#%%\n"
    }
   },
   "outputs": [],
   "source": [
    "# Fix that number ~ we have 73 proteins in the full datatable but end up with 87 \n",
    "# after the segments alignment is complete (unfiltered)\n",
    "# disp3(complete_i['TM7_combined'])"
   ]
  },
  {
   "cell_type": "code",
   "execution_count": 67,
   "id": "private-nylon",
   "metadata": {},
   "outputs": [
    {
     "data": {
      "text/html": [
       "<div>\n",
       "<style scoped>\n",
       "    .dataframe tbody tr th:only-of-type {\n",
       "        vertical-align: middle;\n",
       "    }\n",
       "\n",
       "    .dataframe tbody tr th {\n",
       "        vertical-align: top;\n",
       "    }\n",
       "\n",
       "    .dataframe thead th {\n",
       "        text-align: right;\n",
       "    }\n",
       "</style>\n",
       "<table border=\"1\" class=\"dataframe\">\n",
       "  <thead>\n",
       "    <tr style=\"text-align: right;\">\n",
       "      <th></th>\n",
       "      <th>PDB</th>\n",
       "      <th>TM7_combined</th>\n",
       "      <th>target_wrt_tm7</th>\n",
       "    </tr>\n",
       "  </thead>\n",
       "  <tbody>\n",
       "    <tr>\n",
       "      <th>5</th>\n",
       "      <td>6PS1</td>\n",
       "      <td>KEVYILLNWIGYVNSGFNPLIYCR</td>\n",
       "      <td>(17, 23, 19.6, 1.8547236990991407, 1.980000000...</td>\n",
       "    </tr>\n",
       "    <tr>\n",
       "      <th>6</th>\n",
       "      <td>6PS6</td>\n",
       "      <td>KEVYILLNWIGYVNSGFNPLIYCR</td>\n",
       "      <td>(17, 23, 19.6, 1.8547236990991407, 1.980000000...</td>\n",
       "    </tr>\n",
       "    <tr>\n",
       "      <th>7</th>\n",
       "      <td>6PS5</td>\n",
       "      <td>KEVYILLNWIGYVNSGFNPLIYCR</td>\n",
       "      <td>(17, 23, 19.6, 1.8547236990991407, 1.980000000...</td>\n",
       "    </tr>\n",
       "  </tbody>\n",
       "</table>\n",
       "</div>"
      ],
      "text/plain": [
       "    PDB              TM7_combined  \\\n",
       "5  6PS1  KEVYILLNWIGYVNSGFNPLIYCR   \n",
       "6  6PS6  KEVYILLNWIGYVNSGFNPLIYCR   \n",
       "7  6PS5  KEVYILLNWIGYVNSGFNPLIYCR   \n",
       "\n",
       "                                      target_wrt_tm7  \n",
       "5  (17, 23, 19.6, 1.8547236990991407, 1.980000000...  \n",
       "6  (17, 23, 19.6, 1.8547236990991407, 1.980000000...  \n",
       "7  (17, 23, 19.6, 1.8547236990991407, 1.980000000...  "
      ]
     },
     "metadata": {},
     "output_type": "display_data"
    }
   ],
   "source": [
    "disp3(complete_i[['PDB', 'TM7_combined', 'target_wrt_tm7']])"
   ]
  },
  {
   "cell_type": "code",
   "execution_count": 56,
   "id": "narrow-nickel",
   "metadata": {},
   "outputs": [],
   "source": [
    "target = 'NPFIY'"
   ]
  },
  {
   "cell_type": "code",
   "execution_count": 122,
   "id": "agreed-organization",
   "metadata": {},
   "outputs": [],
   "source": [
    "def get_target_df(complete: pd.DataFrame, target='NPXXY', valid=True):\n",
    "    def sum_start(a, b):\n",
    "        return a + b[0]\n",
    "    def sum_end(a, b):\n",
    "        return a + b[1]\n",
    "    def extend(ls):\n",
    "        is_list = isinstance(ls[0], list)\n",
    "        for i, l in enumerate(ls):\n",
    "            if is_list & i == 0:\n",
    "                out = l\n",
    "            elif is_list:\n",
    "                out.extend(l)\n",
    "            else:\n",
    "                return ls\n",
    "        return out\n",
    "    def clean_pps(x):\n",
    "        return ast.literal_eval(x.replace('Seq', '').replace('(', '').replace(')', ''))\n",
    "    target_df = complete[['PDB', 'uniprot(gene)', 'Resolution', 'PDB date', \\\n",
    "                          'TM7_combined', 'score', 'prot_len', 'full_prot_seq']].copy()\n",
    "    target_df['pp_seqs'] = complete.apply(lambda x: clean_pps(x.pp_seqs), axis=1).copy()\n",
    "    target_df['pp_seq_lens'] = target_df.apply(lambda x: [len(y) for y in x.pp_seqs], axis=1).copy()\n",
    "    target_df['start'] = complete['target_wrt_tm7'].apply(lambda x: x[0]).copy()\n",
    "    target_df['end'] = complete['target_wrt_tm7'].apply(lambda x: x[1]).copy()\n",
    "    # target_df.loc[:, 'target_seq'] = target\n",
    "    target_df['start_absolute'] = complete.apply(lambda x: sum_start(x.start, x.target_wrt_tm7), axis=1).copy()\n",
    "    target_df['end_absolute'] = complete.apply(lambda x: sum_end(x.start, x.target_wrt_tm7), axis=1).copy()\n",
    "    target_df['full_aligned_seg'] = target_df.apply(lambda x: x.full_prot_seq[x.start_absolute:x.end_absolute], axis=1)\n",
    "    target_df['TM7_aligned_seg'] = target_df.apply(lambda x: x.TM7_combined[x.start:x.end], axis=1)\n",
    "    target_df['psi_phi'] = complete.apply(lambda x: extend(ast.literal_eval(x.psi_phi)), axis=1)\n",
    "    if valid:\n",
    "        target_df['target_angles'] = target_df.apply(lambda x: x.psi_phi[x.start_absolute:x.end_absolute], axis=1)\n",
    "        target_df = target_df[target_df['full_aligned_seg']==target_df['TM7_aligned_seg']]\n",
    "        return target_df  # [len(target_df['target_angles']) >= len(target)]\n",
    "    else:\n",
    "        return target_df"
   ]
  },
  {
   "cell_type": "code",
   "execution_count": 123,
   "id": "interracial-aquatic",
   "metadata": {},
   "outputs": [],
   "source": [
    "valid_a = get_target_df(complete_a, target, valid=True)"
   ]
  },
  {
   "cell_type": "code",
   "execution_count": 124,
   "id": "sixth-connection",
   "metadata": {},
   "outputs": [],
   "source": [
    "valid_a.to_csv('valid_a.csv')"
   ]
  },
  {
   "cell_type": "code",
   "execution_count": 125,
   "id": "abroad-leonard",
   "metadata": {},
   "outputs": [],
   "source": [
    "valid_i = get_target_df(complete_i, target, valid=True)\n",
    "# Filter for proteins where the alignments match ~ indicates that angles are valid and the region is present\n",
    "# if only valids we compare if the full aligned segment withthe TM7 aligned segment\n",
    "valid_i.to_csv('valid_i.csv')"
   ]
  },
  {
   "cell_type": "code",
   "execution_count": 126,
   "id": "institutional-tattoo",
   "metadata": {},
   "outputs": [
    {
     "data": {
      "text/html": [
       "<div>\n",
       "<style scoped>\n",
       "    .dataframe tbody tr th:only-of-type {\n",
       "        vertical-align: middle;\n",
       "    }\n",
       "\n",
       "    .dataframe tbody tr th {\n",
       "        vertical-align: top;\n",
       "    }\n",
       "\n",
       "    .dataframe thead th {\n",
       "        text-align: right;\n",
       "    }\n",
       "</style>\n",
       "<table border=\"1\" class=\"dataframe\">\n",
       "  <thead>\n",
       "    <tr style=\"text-align: right;\">\n",
       "      <th></th>\n",
       "      <th>PDB</th>\n",
       "      <th>uniprot(gene)</th>\n",
       "      <th>Resolution</th>\n",
       "      <th>PDB date</th>\n",
       "      <th>TM7_combined</th>\n",
       "      <th>score</th>\n",
       "      <th>prot_len</th>\n",
       "      <th>full_prot_seq</th>\n",
       "      <th>pp_seqs</th>\n",
       "      <th>pp_seq_lens</th>\n",
       "      <th>start</th>\n",
       "      <th>end</th>\n",
       "      <th>start_absolute</th>\n",
       "      <th>end_absolute</th>\n",
       "      <th>full_aligned_seg</th>\n",
       "      <th>TM7_aligned_seg</th>\n",
       "      <th>psi_phi</th>\n",
       "      <th>target_angles</th>\n",
       "    </tr>\n",
       "  </thead>\n",
       "  <tbody>\n",
       "    <tr>\n",
       "      <th>7</th>\n",
       "      <td>6E67</td>\n",
       "      <td>ADRB2</td>\n",
       "      <td>3.7</td>\n",
       "      <td>2019-06-05</td>\n",
       "      <td>RKEVYILLNWIGYVNSGFNP</td>\n",
       "      <td>0.72</td>\n",
       "      <td>477</td>\n",
       "      <td>FLLAPNRSHAPDHDVTQQRDEVWVVGMGIVMSLIVLAIVFGNVLVI...</td>\n",
       "      <td>[FLLAPNRSHAPDHDVTQQRDEVWVVGMGIVMSLIVLAIVFGNVLV...</td>\n",
       "      <td>[60]</td>\n",
       "      <td>8</td>\n",
       "      <td>15</td>\n",
       "      <td>444</td>\n",
       "      <td>451</td>\n",
       "      <td>NWIGYVN</td>\n",
       "      <td>NWIGYVN</td>\n",
       "      <td>[(None, 0.4238732643408313), (-1.3269517941706...</td>\n",
       "      <td>[(-1.2472881356459822, -0.7438190232059247), (...</td>\n",
       "    </tr>\n",
       "  </tbody>\n",
       "</table>\n",
       "</div>"
      ],
      "text/plain": [
       "    PDB uniprot(gene)  Resolution    PDB date          TM7_combined  score  \\\n",
       "7  6E67         ADRB2         3.7  2019-06-05  RKEVYILLNWIGYVNSGFNP   0.72   \n",
       "\n",
       "   prot_len                                      full_prot_seq  \\\n",
       "7       477  FLLAPNRSHAPDHDVTQQRDEVWVVGMGIVMSLIVLAIVFGNVLVI...   \n",
       "\n",
       "                                             pp_seqs pp_seq_lens  start  end  \\\n",
       "7  [FLLAPNRSHAPDHDVTQQRDEVWVVGMGIVMSLIVLAIVFGNVLV...        [60]      8   15   \n",
       "\n",
       "   start_absolute  end_absolute full_aligned_seg TM7_aligned_seg  \\\n",
       "7             444           451          NWIGYVN         NWIGYVN   \n",
       "\n",
       "                                             psi_phi  \\\n",
       "7  [(None, 0.4238732643408313), (-1.3269517941706...   \n",
       "\n",
       "                                       target_angles  \n",
       "7  [(-1.2472881356459822, -0.7438190232059247), (...  "
      ]
     },
     "metadata": {},
     "output_type": "display_data"
    }
   ],
   "source": [
    "disp3(valid_a)"
   ]
  },
  {
   "cell_type": "code",
   "execution_count": 127,
   "id": "banner-importance",
   "metadata": {},
   "outputs": [
    {
     "data": {
      "text/html": [
       "<div>\n",
       "<style scoped>\n",
       "    .dataframe tbody tr th:only-of-type {\n",
       "        vertical-align: middle;\n",
       "    }\n",
       "\n",
       "    .dataframe tbody tr th {\n",
       "        vertical-align: top;\n",
       "    }\n",
       "\n",
       "    .dataframe thead th {\n",
       "        text-align: right;\n",
       "    }\n",
       "</style>\n",
       "<table border=\"1\" class=\"dataframe\">\n",
       "  <thead>\n",
       "    <tr style=\"text-align: right;\">\n",
       "      <th></th>\n",
       "      <th>PDB</th>\n",
       "      <th>uniprot(gene)</th>\n",
       "      <th>Resolution</th>\n",
       "      <th>PDB date</th>\n",
       "      <th>TM7_combined</th>\n",
       "      <th>score</th>\n",
       "      <th>prot_len</th>\n",
       "      <th>full_prot_seq</th>\n",
       "      <th>pp_seqs</th>\n",
       "      <th>pp_seq_lens</th>\n",
       "      <th>start</th>\n",
       "      <th>end</th>\n",
       "      <th>start_absolute</th>\n",
       "      <th>end_absolute</th>\n",
       "      <th>full_aligned_seg</th>\n",
       "      <th>TM7_aligned_seg</th>\n",
       "      <th>psi_phi</th>\n",
       "      <th>target_angles</th>\n",
       "    </tr>\n",
       "  </thead>\n",
       "  <tbody>\n",
       "    <tr>\n",
       "      <th>5</th>\n",
       "      <td>6PS1</td>\n",
       "      <td>ADRB2</td>\n",
       "      <td>3.2</td>\n",
       "      <td>2019-11-13</td>\n",
       "      <td>KEVYILLNWIGYVNSGFNPLIYCR</td>\n",
       "      <td>1.258333</td>\n",
       "      <td>450</td>\n",
       "      <td>DEVWVVGMGIVMSLIVLAIVFGNVLVITAIAKFERLQTVTNYFITS...</td>\n",
       "      <td>[DEVWVVGMGIVMSLIVLAIVFGNVLVITAIAKFERLQTVTNYFIT...</td>\n",
       "      <td>[60]</td>\n",
       "      <td>17</td>\n",
       "      <td>23</td>\n",
       "      <td>421</td>\n",
       "      <td>427</td>\n",
       "      <td>NPLIYC</td>\n",
       "      <td>NPLIYC</td>\n",
       "      <td>[(None, 2.5256872329638655), (-1.0111750694833...</td>\n",
       "      <td>[(-0.8380310981643087, -0.8003636915192417), (...</td>\n",
       "    </tr>\n",
       "    <tr>\n",
       "      <th>6</th>\n",
       "      <td>6PS6</td>\n",
       "      <td>ADRB2</td>\n",
       "      <td>2.7</td>\n",
       "      <td>2019-11-13</td>\n",
       "      <td>KEVYILLNWIGYVNSGFNPLIYCR</td>\n",
       "      <td>1.254167</td>\n",
       "      <td>470</td>\n",
       "      <td>RDEVWVVGMGIVMSLIVLAIVFGNVLVITAIAKFERLQTVTNYFIT...</td>\n",
       "      <td>[RDEVWVVGMGIVMSLIVLAIVFGNVLVITAIAKFERLQTVTNYFI...</td>\n",
       "      <td>[60]</td>\n",
       "      <td>17</td>\n",
       "      <td>23</td>\n",
       "      <td>422</td>\n",
       "      <td>428</td>\n",
       "      <td>NPLIYC</td>\n",
       "      <td>NPLIYC</td>\n",
       "      <td>[(None, 0.27689763066035566), (-0.793226952381...</td>\n",
       "      <td>[(-0.8287561614163858, -0.8590474805592928), (...</td>\n",
       "    </tr>\n",
       "    <tr>\n",
       "      <th>7</th>\n",
       "      <td>6PS5</td>\n",
       "      <td>ADRB2</td>\n",
       "      <td>2.9</td>\n",
       "      <td>2019-11-13</td>\n",
       "      <td>KEVYILLNWIGYVNSGFNPLIYCR</td>\n",
       "      <td>1.258333</td>\n",
       "      <td>454</td>\n",
       "      <td>DEVWVVGMGIVMSLIVLAIVFGNVLVITAIAKFERLQTVTNYFITS...</td>\n",
       "      <td>[DEVWVVGMGIVMSLIVLAIVFGNVLVITAIAKFERLQTVTNYFIT...</td>\n",
       "      <td>[60]</td>\n",
       "      <td>17</td>\n",
       "      <td>23</td>\n",
       "      <td>421</td>\n",
       "      <td>427</td>\n",
       "      <td>NPLIYC</td>\n",
       "      <td>NPLIYC</td>\n",
       "      <td>[(None, 2.9306733892826236), (-1.0267900603457...</td>\n",
       "      <td>[(-0.8621097350371153, -0.8237030852743529), (...</td>\n",
       "    </tr>\n",
       "  </tbody>\n",
       "</table>\n",
       "</div>"
      ],
      "text/plain": [
       "    PDB uniprot(gene)  Resolution    PDB date              TM7_combined  \\\n",
       "5  6PS1         ADRB2         3.2  2019-11-13  KEVYILLNWIGYVNSGFNPLIYCR   \n",
       "6  6PS6         ADRB2         2.7  2019-11-13  KEVYILLNWIGYVNSGFNPLIYCR   \n",
       "7  6PS5         ADRB2         2.9  2019-11-13  KEVYILLNWIGYVNSGFNPLIYCR   \n",
       "\n",
       "      score  prot_len                                      full_prot_seq  \\\n",
       "5  1.258333       450  DEVWVVGMGIVMSLIVLAIVFGNVLVITAIAKFERLQTVTNYFITS...   \n",
       "6  1.254167       470  RDEVWVVGMGIVMSLIVLAIVFGNVLVITAIAKFERLQTVTNYFIT...   \n",
       "7  1.258333       454  DEVWVVGMGIVMSLIVLAIVFGNVLVITAIAKFERLQTVTNYFITS...   \n",
       "\n",
       "                                             pp_seqs pp_seq_lens  start  end  \\\n",
       "5  [DEVWVVGMGIVMSLIVLAIVFGNVLVITAIAKFERLQTVTNYFIT...        [60]     17   23   \n",
       "6  [RDEVWVVGMGIVMSLIVLAIVFGNVLVITAIAKFERLQTVTNYFI...        [60]     17   23   \n",
       "7  [DEVWVVGMGIVMSLIVLAIVFGNVLVITAIAKFERLQTVTNYFIT...        [60]     17   23   \n",
       "\n",
       "   start_absolute  end_absolute full_aligned_seg TM7_aligned_seg  \\\n",
       "5             421           427           NPLIYC          NPLIYC   \n",
       "6             422           428           NPLIYC          NPLIYC   \n",
       "7             421           427           NPLIYC          NPLIYC   \n",
       "\n",
       "                                             psi_phi  \\\n",
       "5  [(None, 2.5256872329638655), (-1.0111750694833...   \n",
       "6  [(None, 0.27689763066035566), (-0.793226952381...   \n",
       "7  [(None, 2.9306733892826236), (-1.0267900603457...   \n",
       "\n",
       "                                       target_angles  \n",
       "5  [(-0.8380310981643087, -0.8003636915192417), (...  \n",
       "6  [(-0.8287561614163858, -0.8590474805592928), (...  \n",
       "7  [(-0.8621097350371153, -0.8237030852743529), (...  "
      ]
     },
     "metadata": {},
     "output_type": "display_data"
    }
   ],
   "source": [
    "disp3(valid_i)"
   ]
  },
  {
   "cell_type": "code",
   "execution_count": 128,
   "id": "naked-sunglasses",
   "metadata": {},
   "outputs": [
    {
     "data": {
      "text/plain": [
       "7    [(-1.2472881356459822, -0.7438190232059247), (...\n",
       "Name: target_angles, dtype: object"
      ]
     },
     "execution_count": 128,
     "metadata": {},
     "output_type": "execute_result"
    }
   ],
   "source": [
    "valid_a.target_angles"
   ]
  },
  {
   "cell_type": "code",
   "execution_count": 129,
   "id": "pregnant-capitol",
   "metadata": {},
   "outputs": [
    {
     "data": {
      "text/plain": [
       "array([[-0.8380311 , -0.80036369],\n",
       "       [-1.10427995, -0.60851755],\n",
       "       [-1.21469441, -0.48920851],\n",
       "       [-1.36171012, -0.44312874],\n",
       "       [-1.24633608, -0.13742096],\n",
       "       [-1.19782354, -0.27717333]])"
      ]
     },
     "execution_count": 129,
     "metadata": {},
     "output_type": "execute_result"
    }
   ],
   "source": [
    "np.asarray(valid_i['target_angles'].iloc[0])"
   ]
  },
  {
   "cell_type": "code",
   "execution_count": 131,
   "id": "emotional-sharp",
   "metadata": {},
   "outputs": [
    {
     "data": {
      "text/plain": [
       "array([[-1.24728814, -0.74381902],\n",
       "       [-1.07233937, -0.55704763],\n",
       "       [-1.04399194, -0.63983771],\n",
       "       [-1.17025408, -0.5595981 ],\n",
       "       [-1.07773467, -0.610312  ],\n",
       "       [-1.16985303, -0.48814673],\n",
       "       [-1.07865644, -0.54541424]])"
      ]
     },
     "execution_count": 131,
     "metadata": {},
     "output_type": "execute_result"
    }
   ],
   "source": [
    "np.asarray(valid_a['target_angles'].iloc[0])"
   ]
  },
  {
   "cell_type": "code",
   "execution_count": 130,
   "id": "institutional-despite",
   "metadata": {},
   "outputs": [],
   "source": [
    "valid_i.to_csv('valid_i.csv')"
   ]
  },
  {
   "cell_type": "code",
   "execution_count": 210,
   "id": "affecting-radiation",
   "metadata": {},
   "outputs": [],
   "source": [
    "# j, o, u and x do not code for an amino acid (sometimes used to represent ?)"
   ]
  },
  {
   "cell_type": "code",
   "execution_count": 205,
   "id": "subsequent-charger",
   "metadata": {},
   "outputs": [
    {
     "data": {
      "text/plain": [
       "60"
      ]
     },
     "execution_count": 205,
     "metadata": {},
     "output_type": "execute_result"
    }
   ],
   "source": [
    "len(target_df_i[target_df_i['full_aligned_seg']==target_df_i['TM7_aligned_seg']])"
   ]
  },
  {
   "cell_type": "code",
   "execution_count": 207,
   "id": "hydraulic-entrance",
   "metadata": {},
   "outputs": [],
   "source": [
    "x = target_df_i[['prot_len', 'psi_phi']]"
   ]
  },
  {
   "cell_type": "code",
   "execution_count": 208,
   "id": "contrary-clearance",
   "metadata": {},
   "outputs": [
    {
     "name": "stderr",
     "output_type": "stream",
     "text": [
      "<ipython-input-208-d74df7e050d0>:1: SettingWithCopyWarning: \n",
      "A value is trying to be set on a copy of a slice from a DataFrame.\n",
      "Try using .loc[row_indexer,col_indexer] = value instead\n",
      "\n",
      "See the caveats in the documentation: https://pandas.pydata.org/pandas-docs/stable/user_guide/indexing.html#returning-a-view-versus-a-copy\n",
      "  x['len_psi_phi'] = target_df_i.apply(lambda x: len(x.psi_phi), axis=1)\n"
     ]
    }
   ],
   "source": [
    "x['len_psi_phi'] = target_df_i.apply(lambda x: len(x.psi_phi), axis=1)"
   ]
  },
  {
   "cell_type": "code",
   "execution_count": 209,
   "id": "spoken-portrait",
   "metadata": {},
   "outputs": [
    {
     "data": {
      "text/html": [
       "<div>\n",
       "<style scoped>\n",
       "    .dataframe tbody tr th:only-of-type {\n",
       "        vertical-align: middle;\n",
       "    }\n",
       "\n",
       "    .dataframe tbody tr th {\n",
       "        vertical-align: top;\n",
       "    }\n",
       "\n",
       "    .dataframe thead th {\n",
       "        text-align: right;\n",
       "    }\n",
       "</style>\n",
       "<table border=\"1\" class=\"dataframe\">\n",
       "  <thead>\n",
       "    <tr style=\"text-align: right;\">\n",
       "      <th></th>\n",
       "      <th>prot_len</th>\n",
       "      <th>psi_phi</th>\n",
       "      <th>len_psi_phi</th>\n",
       "    </tr>\n",
       "  </thead>\n",
       "  <tbody>\n",
       "    <tr>\n",
       "      <th>0</th>\n",
       "      <td>263</td>\n",
       "      <td>[(None, -0.21198449177483827), (-0.98627837835...</td>\n",
       "      <td>224</td>\n",
       "    </tr>\n",
       "    <tr>\n",
       "      <th>1</th>\n",
       "      <td>227</td>\n",
       "      <td>[(None, 2.237376884279098), (-2.41453240735885...</td>\n",
       "      <td>220</td>\n",
       "    </tr>\n",
       "    <tr>\n",
       "      <th>2</th>\n",
       "      <td>120</td>\n",
       "      <td>[(None, 0.7647017437707673), (-1.5994704005879...</td>\n",
       "      <td>120</td>\n",
       "    </tr>\n",
       "    <tr>\n",
       "      <th>3</th>\n",
       "      <td>214</td>\n",
       "      <td>[(None, 2.4882132440314564), (-1.5096841734862...</td>\n",
       "      <td>214</td>\n",
       "    </tr>\n",
       "    <tr>\n",
       "      <th>4</th>\n",
       "      <td>214</td>\n",
       "      <td>[(None, 2.476242607922282), (-1.51911109054375...</td>\n",
       "      <td>214</td>\n",
       "    </tr>\n",
       "    <tr>\n",
       "      <th>...</th>\n",
       "      <td>...</td>\n",
       "      <td>...</td>\n",
       "      <td>...</td>\n",
       "    </tr>\n",
       "    <tr>\n",
       "      <th>82</th>\n",
       "      <td>403</td>\n",
       "      <td>[(None, 1.9029684965799571), (-1.0835479430442...</td>\n",
       "      <td>388</td>\n",
       "    </tr>\n",
       "    <tr>\n",
       "      <th>83</th>\n",
       "      <td>578</td>\n",
       "      <td>[(None, 1.6566621979967036), (-1.0567447797281...</td>\n",
       "      <td>389</td>\n",
       "    </tr>\n",
       "    <tr>\n",
       "      <th>84</th>\n",
       "      <td>403</td>\n",
       "      <td>[(None, 1.92407071659809), (-1.086512390112896...</td>\n",
       "      <td>388</td>\n",
       "    </tr>\n",
       "    <tr>\n",
       "      <th>85</th>\n",
       "      <td>554</td>\n",
       "      <td>[(None, 1.7258592945865587), (-1.0383658683555...</td>\n",
       "      <td>388</td>\n",
       "    </tr>\n",
       "    <tr>\n",
       "      <th>86</th>\n",
       "      <td>474</td>\n",
       "      <td>[(None, 2.876909536344257), (-0.68072723175705...</td>\n",
       "      <td>442</td>\n",
       "    </tr>\n",
       "  </tbody>\n",
       "</table>\n",
       "<p>87 rows × 3 columns</p>\n",
       "</div>"
      ],
      "text/plain": [
       "    prot_len                                            psi_phi  len_psi_phi\n",
       "0        263  [(None, -0.21198449177483827), (-0.98627837835...          224\n",
       "1        227  [(None, 2.237376884279098), (-2.41453240735885...          220\n",
       "2        120  [(None, 0.7647017437707673), (-1.5994704005879...          120\n",
       "3        214  [(None, 2.4882132440314564), (-1.5096841734862...          214\n",
       "4        214  [(None, 2.476242607922282), (-1.51911109054375...          214\n",
       "..       ...                                                ...          ...\n",
       "82       403  [(None, 1.9029684965799571), (-1.0835479430442...          388\n",
       "83       578  [(None, 1.6566621979967036), (-1.0567447797281...          389\n",
       "84       403  [(None, 1.92407071659809), (-1.086512390112896...          388\n",
       "85       554  [(None, 1.7258592945865587), (-1.0383658683555...          388\n",
       "86       474  [(None, 2.876909536344257), (-0.68072723175705...          442\n",
       "\n",
       "[87 rows x 3 columns]"
      ]
     },
     "execution_count": 209,
     "metadata": {},
     "output_type": "execute_result"
    }
   ],
   "source": [
    "x"
   ]
  },
  {
   "cell_type": "code",
   "execution_count": null,
   "id": "brown-portable",
   "metadata": {
    "pycharm": {
     "name": "#%%\n"
    }
   },
   "outputs": [],
   "source": [
    "# match each of the active complexes to all the inactive ones (based on the uniprot genes)"
   ]
  },
  {
   "cell_type": "code",
   "execution_count": 85,
   "id": "double-poker",
   "metadata": {
    "pycharm": {
     "name": "#%%\n"
    }
   },
   "outputs": [],
   "source": [
    "# interaction dataframe\n",
    "\n",
    "interaction_df = pd.DataFrame(columns=['PDB_active', 'PDB_inactive', 'phi_psi_active', 'phi_psi_inactive', 'delta_phi_psi'])\n",
    "# this should be done here..."
   ]
  },
  {
   "cell_type": "code",
   "execution_count": null,
   "id": "hungarian-prince",
   "metadata": {
    "pycharm": {
     "name": "#%%\n"
    }
   },
   "outputs": [],
   "source": []
  },
  {
   "cell_type": "code",
   "execution_count": null,
   "id": "composed-clearing",
   "metadata": {
    "pycharm": {
     "name": "#%%\n"
    }
   },
   "outputs": [],
   "source": []
  }
 ],
 "metadata": {
  "kernelspec": {
   "display_name": "Python 3",
   "language": "python",
   "name": "python3"
  },
  "language_info": {
   "codemirror_mode": {
    "name": "ipython",
    "version": 3
   },
   "file_extension": ".py",
   "mimetype": "text/x-python",
   "name": "python",
   "nbconvert_exporter": "python",
   "pygments_lexer": "ipython3",
   "version": "3.8.5"
  }
 },
 "nbformat": 4,
 "nbformat_minor": 5
}
