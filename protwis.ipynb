{
 "cells": [
  {
   "cell_type": "code",
   "execution_count": 139,
   "id": "incredible-editor",
   "metadata": {},
   "outputs": [],
   "source": [
    "from protwis import *\n",
    "import os"
   ]
  },
  {
   "cell_type": "code",
   "execution_count": 3,
   "id": "closing-professor",
   "metadata": {},
   "outputs": [],
   "source": [
    "import os\n",
    "import sys\n",
    "\n",
    "os.environ.setdefault(\"DJANGO_SETTINGS_MODULE\", \"protwis.protwis.settings\")\n",
    "\n",
    "from django.core.management import execute_from_command_line\n",
    "\n",
    "# execute_from_command_line(sys.argv)"
   ]
  },
  {
   "cell_type": "code",
   "execution_count": 4,
   "id": "expected-flesh",
   "metadata": {},
   "outputs": [],
   "source": [
    "def correct_imports():\n",
    "    filenames =  [os.path.join(path, name) for path, subdirs, files in os.walk('protwis') for name in files if '.py' in name]\n",
    "    directories = [dirs for path, subdirs, files in os.walk('protwis') for dirs in subdirs]\n",
    "    directories = list(set(directories))\n",
    "    directories.remove('tags')\n",
    "    directories.remove('protwis')\n",
    "    for f in filenames:\n",
    "        with open(f, 'r') as file:\n",
    "            # read a list of lines into data\n",
    "            try:\n",
    "                data = file.readlines()\n",
    "            except:\n",
    "                continue\n",
    "        new_data = []\n",
    "        for line in data:\n",
    "            flag = False\n",
    "            if (('from' in line) or ('as' in line)) and ('import ' in line) and ('django' not in line) and ('protwis' not in line):\n",
    "                for d in directories:\n",
    "                    if d in line:\n",
    "                        pos = line.find(d)\n",
    "                        flag = True\n",
    "                        new_line = line[:pos] + 'protwis.' + line[pos:]\n",
    "            if flag == False:\n",
    "                new_data.append(line)\n",
    "            else:\n",
    "                new_data.append(new_line)\n",
    "                flag = False\n",
    "        with open(f, 'w') as file:\n",
    "            file.writelines(new_data)"
   ]
  },
  {
   "cell_type": "code",
   "execution_count": 5,
   "id": "infectious-oklahoma",
   "metadata": {},
   "outputs": [],
   "source": [
    "correct_imports()"
   ]
  },
  {
   "cell_type": "code",
   "execution_count": 6,
   "id": "studied-kingdom",
   "metadata": {},
   "outputs": [
    {
     "ename": "AppRegistryNotReady",
     "evalue": "Apps aren't loaded yet.",
     "output_type": "error",
     "traceback": [
      "\u001b[1;31m---------------------------------------------------------------------------\u001b[0m",
      "\u001b[1;31mAppRegistryNotReady\u001b[0m                       Traceback (most recent call last)",
      "\u001b[1;32m<ipython-input-6-b8bc5fa944db>\u001b[0m in \u001b[0;36m<module>\u001b[1;34m\u001b[0m\n\u001b[1;32m----> 1\u001b[1;33m \u001b[1;32mfrom\u001b[0m \u001b[0mprotwis\u001b[0m\u001b[1;33m.\u001b[0m\u001b[0mstructure\u001b[0m\u001b[1;33m.\u001b[0m\u001b[0massign_generic_numbers_gpcr\u001b[0m \u001b[1;32mimport\u001b[0m \u001b[0mGenericNumbering\u001b[0m\u001b[1;33m\u001b[0m\u001b[1;33m\u001b[0m\u001b[0m\n\u001b[0m",
      "\u001b[1;32m~\\PycharmProjects\\mt\\protwis\\structure\\assign_generic_numbers_gpcr.py\u001b[0m in \u001b[0;36m<module>\u001b[1;34m\u001b[0m\n\u001b[0;32m      6\u001b[0m \u001b[1;32mfrom\u001b[0m \u001b[0mBio\u001b[0m\u001b[1;33m.\u001b[0m\u001b[0mPDB\u001b[0m\u001b[1;33m.\u001b[0m\u001b[0mPDBIO\u001b[0m \u001b[1;32mimport\u001b[0m \u001b[0mSelect\u001b[0m\u001b[1;33m\u001b[0m\u001b[1;33m\u001b[0m\u001b[0m\n\u001b[0;32m      7\u001b[0m \u001b[1;32mfrom\u001b[0m \u001b[0mprotwis\u001b[0m\u001b[1;33m.\u001b[0m\u001b[0mcommon\u001b[0m\u001b[1;33m.\u001b[0m\u001b[0mdefinitions\u001b[0m \u001b[1;32mimport\u001b[0m \u001b[1;33m*\u001b[0m\u001b[1;33m\u001b[0m\u001b[1;33m\u001b[0m\u001b[0m\n\u001b[1;32m----> 8\u001b[1;33m \u001b[1;32mfrom\u001b[0m \u001b[0mprotwis\u001b[0m\u001b[1;33m.\u001b[0m\u001b[0mprotein\u001b[0m\u001b[1;33m.\u001b[0m\u001b[0mmodels\u001b[0m \u001b[1;32mimport\u001b[0m \u001b[0mProtein\u001b[0m\u001b[1;33m,\u001b[0m \u001b[0mProteinSegment\u001b[0m\u001b[1;33m\u001b[0m\u001b[1;33m\u001b[0m\u001b[0m\n\u001b[0m\u001b[0;32m      9\u001b[0m \u001b[1;32mfrom\u001b[0m \u001b[0mprotwis\u001b[0m\u001b[1;33m.\u001b[0m\u001b[0mresidue\u001b[0m\u001b[1;33m.\u001b[0m\u001b[0mmodels\u001b[0m \u001b[1;32mimport\u001b[0m \u001b[0mResidue\u001b[0m\u001b[1;33m\u001b[0m\u001b[1;33m\u001b[0m\u001b[0m\n\u001b[0;32m     10\u001b[0m \u001b[1;32mfrom\u001b[0m \u001b[0mprotwis\u001b[0m\u001b[1;33m.\u001b[0m\u001b[0mstructure\u001b[0m\u001b[1;33m.\u001b[0m\u001b[0mfunctions\u001b[0m \u001b[1;32mimport\u001b[0m \u001b[0mBlastSearch\u001b[0m\u001b[1;33m,\u001b[0m \u001b[0mMappedResidue\u001b[0m\u001b[1;33m,\u001b[0m \u001b[0mStructureSeqNumOverwrite\u001b[0m\u001b[1;33m\u001b[0m\u001b[1;33m\u001b[0m\u001b[0m\n",
      "\u001b[1;32m~\\PycharmProjects\\mt\\protwis\\protein\\models.py\u001b[0m in \u001b[0;36m<module>\u001b[1;34m\u001b[0m\n\u001b[1;32m----> 1\u001b[1;33m \u001b[1;32mfrom\u001b[0m \u001b[0mprotwis\u001b[0m\u001b[1;33m.\u001b[0m\u001b[0mcommon\u001b[0m\u001b[1;33m.\u001b[0m\u001b[0mdiagrams_arrestin\u001b[0m \u001b[1;32mimport\u001b[0m \u001b[0mDrawArrestinPlot\u001b[0m\u001b[1;33m\u001b[0m\u001b[1;33m\u001b[0m\u001b[0m\n\u001b[0m\u001b[0;32m      2\u001b[0m \u001b[1;32mfrom\u001b[0m \u001b[0mcommon\u001b[0m\u001b[1;33m.\u001b[0m\u001b[0mdiagrams_protwis\u001b[0m\u001b[1;33m.\u001b[0m\u001b[0mgpcr\u001b[0m \u001b[1;32mimport\u001b[0m \u001b[0mDrawHelixBox\u001b[0m\u001b[1;33m,\u001b[0m \u001b[0mDrawSnakePlot\u001b[0m\u001b[1;33m\u001b[0m\u001b[1;33m\u001b[0m\u001b[0m\n\u001b[0;32m      3\u001b[0m \u001b[1;32mfrom\u001b[0m \u001b[0mcommon\u001b[0m\u001b[1;33m.\u001b[0m\u001b[0mdiagrams_gprotwis\u001b[0m\u001b[1;33m.\u001b[0m\u001b[0mprotein\u001b[0m \u001b[1;32mimport\u001b[0m \u001b[0mDrawGproteinPlot\u001b[0m\u001b[1;33m\u001b[0m\u001b[1;33m\u001b[0m\u001b[0m\n\u001b[0;32m      4\u001b[0m \u001b[1;32mfrom\u001b[0m \u001b[0mdjango\u001b[0m\u001b[1;33m.\u001b[0m\u001b[0mdb\u001b[0m \u001b[1;32mimport\u001b[0m \u001b[0mmodels\u001b[0m\u001b[1;33m\u001b[0m\u001b[1;33m\u001b[0m\u001b[0m\n\u001b[0;32m      5\u001b[0m from protwis.residue.models import (Residue, ResidueDataPoint, ResidueDataType,\n",
      "\u001b[1;32m~\\PycharmProjects\\mt\\protwis\\common\\diagrams_arrestin.py\u001b[0m in \u001b[0;36m<module>\u001b[1;34m\u001b[0m\n\u001b[0;32m      2\u001b[0m \u001b[1;32mfrom\u001b[0m \u001b[0mprotwis\u001b[0m\u001b[1;33m.\u001b[0m\u001b[0mcommon\u001b[0m\u001b[1;33m.\u001b[0m\u001b[0mdefinitions\u001b[0m \u001b[1;32mimport\u001b[0m \u001b[0mARRESTIN_SEGMENTS\u001b[0m\u001b[1;33m\u001b[0m\u001b[1;33m\u001b[0m\u001b[0m\n\u001b[0;32m      3\u001b[0m \u001b[1;33m\u001b[0m\u001b[0m\n\u001b[1;32m----> 4\u001b[1;33m \u001b[1;32mfrom\u001b[0m \u001b[0mprotwis\u001b[0m\u001b[1;33m.\u001b[0m\u001b[0mresidue\u001b[0m\u001b[1;33m.\u001b[0m\u001b[0mmodels\u001b[0m \u001b[1;32mimport\u001b[0m \u001b[0mResidue\u001b[0m\u001b[1;33m\u001b[0m\u001b[1;33m\u001b[0m\u001b[0m\n\u001b[0m\u001b[0;32m      5\u001b[0m \u001b[1;32mfrom\u001b[0m \u001b[0mprotwis\u001b[0m\u001b[1;33m.\u001b[0m\u001b[0mresidue\u001b[0m\u001b[1;33m.\u001b[0m\u001b[0mmodels\u001b[0m \u001b[1;32mimport\u001b[0m \u001b[0mResidueGenericNumber\u001b[0m\u001b[1;33m\u001b[0m\u001b[1;33m\u001b[0m\u001b[0m\n\u001b[0;32m      6\u001b[0m \u001b[1;32mfrom\u001b[0m \u001b[0mprotwis\u001b[0m\u001b[1;33m.\u001b[0m\u001b[0mresidue\u001b[0m\u001b[1;33m.\u001b[0m\u001b[0mmodels\u001b[0m \u001b[1;32mimport\u001b[0m \u001b[0mResidueNumberingScheme\u001b[0m\u001b[1;33m\u001b[0m\u001b[1;33m\u001b[0m\u001b[0m\n",
      "\u001b[1;32m~\\PycharmProjects\\mt\\protwis\\residue\\models.py\u001b[0m in \u001b[0;36m<module>\u001b[1;34m\u001b[0m\n\u001b[0;32m      3\u001b[0m \u001b[1;33m\u001b[0m\u001b[0m\n\u001b[0;32m      4\u001b[0m \u001b[1;33m\u001b[0m\u001b[0m\n\u001b[1;32m----> 5\u001b[1;33m \u001b[1;32mclass\u001b[0m \u001b[0mResidue\u001b[0m\u001b[1;33m(\u001b[0m\u001b[0mmodels\u001b[0m\u001b[1;33m.\u001b[0m\u001b[0mModel\u001b[0m\u001b[1;33m)\u001b[0m\u001b[1;33m:\u001b[0m\u001b[1;33m\u001b[0m\u001b[1;33m\u001b[0m\u001b[0m\n\u001b[0m\u001b[0;32m      6\u001b[0m     \u001b[0mprotein_conformation\u001b[0m \u001b[1;33m=\u001b[0m \u001b[0mmodels\u001b[0m\u001b[1;33m.\u001b[0m\u001b[0mForeignKey\u001b[0m\u001b[1;33m(\u001b[0m\u001b[1;34m'protein.ProteinConformation'\u001b[0m\u001b[1;33m,\u001b[0m \u001b[0mon_delete\u001b[0m\u001b[1;33m=\u001b[0m\u001b[0mmodels\u001b[0m\u001b[1;33m.\u001b[0m\u001b[0mCASCADE\u001b[0m\u001b[1;33m)\u001b[0m\u001b[1;33m\u001b[0m\u001b[1;33m\u001b[0m\u001b[0m\n\u001b[0;32m      7\u001b[0m     \u001b[0mprotein_segment\u001b[0m \u001b[1;33m=\u001b[0m \u001b[0mmodels\u001b[0m\u001b[1;33m.\u001b[0m\u001b[0mForeignKey\u001b[0m\u001b[1;33m(\u001b[0m\u001b[1;34m'protein.ProteinSegment'\u001b[0m\u001b[1;33m,\u001b[0m \u001b[0mnull\u001b[0m\u001b[1;33m=\u001b[0m\u001b[1;32mTrue\u001b[0m\u001b[1;33m,\u001b[0m \u001b[0mon_delete\u001b[0m\u001b[1;33m=\u001b[0m\u001b[0mmodels\u001b[0m\u001b[1;33m.\u001b[0m\u001b[0mCASCADE\u001b[0m\u001b[1;33m)\u001b[0m\u001b[1;33m\u001b[0m\u001b[1;33m\u001b[0m\u001b[0m\n",
      "\u001b[1;32m~\\.conda\\envs\\mt\\lib\\site-packages\\django\\db\\models\\base.py\u001b[0m in \u001b[0;36m__new__\u001b[1;34m(cls, name, bases, attrs, **kwargs)\u001b[0m\n\u001b[0;32m    106\u001b[0m \u001b[1;33m\u001b[0m\u001b[0m\n\u001b[0;32m    107\u001b[0m         \u001b[1;31m# Look for an application configuration to attach the model to.\u001b[0m\u001b[1;33m\u001b[0m\u001b[1;33m\u001b[0m\u001b[1;33m\u001b[0m\u001b[0m\n\u001b[1;32m--> 108\u001b[1;33m         \u001b[0mapp_config\u001b[0m \u001b[1;33m=\u001b[0m \u001b[0mapps\u001b[0m\u001b[1;33m.\u001b[0m\u001b[0mget_containing_app_config\u001b[0m\u001b[1;33m(\u001b[0m\u001b[0mmodule\u001b[0m\u001b[1;33m)\u001b[0m\u001b[1;33m\u001b[0m\u001b[1;33m\u001b[0m\u001b[0m\n\u001b[0m\u001b[0;32m    109\u001b[0m \u001b[1;33m\u001b[0m\u001b[0m\n\u001b[0;32m    110\u001b[0m         \u001b[1;32mif\u001b[0m \u001b[0mgetattr\u001b[0m\u001b[1;33m(\u001b[0m\u001b[0mmeta\u001b[0m\u001b[1;33m,\u001b[0m \u001b[1;34m'app_label'\u001b[0m\u001b[1;33m,\u001b[0m \u001b[1;32mNone\u001b[0m\u001b[1;33m)\u001b[0m \u001b[1;32mis\u001b[0m \u001b[1;32mNone\u001b[0m\u001b[1;33m:\u001b[0m\u001b[1;33m\u001b[0m\u001b[1;33m\u001b[0m\u001b[0m\n",
      "\u001b[1;32m~\\.conda\\envs\\mt\\lib\\site-packages\\django\\apps\\registry.py\u001b[0m in \u001b[0;36mget_containing_app_config\u001b[1;34m(self, object_name)\u001b[0m\n\u001b[0;32m    251\u001b[0m         \u001b[0mReturn\u001b[0m \u001b[1;32mNone\u001b[0m \u001b[1;32mif\u001b[0m \u001b[0mthe\u001b[0m \u001b[0mobject\u001b[0m \u001b[0misn\u001b[0m\u001b[0;31m'\u001b[0m\u001b[0mt\u001b[0m \u001b[1;32min\u001b[0m \u001b[0many\u001b[0m \u001b[0mregistered\u001b[0m \u001b[0mapp\u001b[0m \u001b[0mconfig\u001b[0m\u001b[1;33m.\u001b[0m\u001b[1;33m\u001b[0m\u001b[1;33m\u001b[0m\u001b[0m\n\u001b[0;32m    252\u001b[0m         \"\"\"\n\u001b[1;32m--> 253\u001b[1;33m         \u001b[0mself\u001b[0m\u001b[1;33m.\u001b[0m\u001b[0mcheck_apps_ready\u001b[0m\u001b[1;33m(\u001b[0m\u001b[1;33m)\u001b[0m\u001b[1;33m\u001b[0m\u001b[1;33m\u001b[0m\u001b[0m\n\u001b[0m\u001b[0;32m    254\u001b[0m         \u001b[0mcandidates\u001b[0m \u001b[1;33m=\u001b[0m \u001b[1;33m[\u001b[0m\u001b[1;33m]\u001b[0m\u001b[1;33m\u001b[0m\u001b[1;33m\u001b[0m\u001b[0m\n\u001b[0;32m    255\u001b[0m         \u001b[1;32mfor\u001b[0m \u001b[0mapp_config\u001b[0m \u001b[1;32min\u001b[0m \u001b[0mself\u001b[0m\u001b[1;33m.\u001b[0m\u001b[0mapp_configs\u001b[0m\u001b[1;33m.\u001b[0m\u001b[0mvalues\u001b[0m\u001b[1;33m(\u001b[0m\u001b[1;33m)\u001b[0m\u001b[1;33m:\u001b[0m\u001b[1;33m\u001b[0m\u001b[1;33m\u001b[0m\u001b[0m\n",
      "\u001b[1;32m~\\.conda\\envs\\mt\\lib\\site-packages\\django\\apps\\registry.py\u001b[0m in \u001b[0;36mcheck_apps_ready\u001b[1;34m(self)\u001b[0m\n\u001b[0;32m    134\u001b[0m             \u001b[1;31m# exception.\u001b[0m\u001b[1;33m\u001b[0m\u001b[1;33m\u001b[0m\u001b[1;33m\u001b[0m\u001b[0m\n\u001b[0;32m    135\u001b[0m             \u001b[0msettings\u001b[0m\u001b[1;33m.\u001b[0m\u001b[0mINSTALLED_APPS\u001b[0m\u001b[1;33m\u001b[0m\u001b[1;33m\u001b[0m\u001b[0m\n\u001b[1;32m--> 136\u001b[1;33m             \u001b[1;32mraise\u001b[0m \u001b[0mAppRegistryNotReady\u001b[0m\u001b[1;33m(\u001b[0m\u001b[1;34m\"Apps aren't loaded yet.\"\u001b[0m\u001b[1;33m)\u001b[0m\u001b[1;33m\u001b[0m\u001b[1;33m\u001b[0m\u001b[0m\n\u001b[0m\u001b[0;32m    137\u001b[0m \u001b[1;33m\u001b[0m\u001b[0m\n\u001b[0;32m    138\u001b[0m     \u001b[1;32mdef\u001b[0m \u001b[0mcheck_models_ready\u001b[0m\u001b[1;33m(\u001b[0m\u001b[0mself\u001b[0m\u001b[1;33m)\u001b[0m\u001b[1;33m:\u001b[0m\u001b[1;33m\u001b[0m\u001b[1;33m\u001b[0m\u001b[0m\n",
      "\u001b[1;31mAppRegistryNotReady\u001b[0m: Apps aren't loaded yet."
     ]
    }
   ],
   "source": [
    "from protwis.structure.assign_generic_numbers_gpcr import GenericNumbering"
   ]
  },
  {
   "cell_type": "code",
   "execution_count": null,
   "id": "adolescent-interference",
   "metadata": {},
   "outputs": [],
   "source": []
  }
 ],
 "metadata": {
  "kernelspec": {
   "display_name": "Python 3",
   "language": "python",
   "name": "python3"
  },
  "language_info": {
   "codemirror_mode": {
    "name": "ipython",
    "version": 3
   },
   "file_extension": ".py",
   "mimetype": "text/x-python",
   "name": "python",
   "nbconvert_exporter": "python",
   "pygments_lexer": "ipython3",
   "version": "3.8.5"
  }
 },
 "nbformat": 4,
 "nbformat_minor": 5
}
