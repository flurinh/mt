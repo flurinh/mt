{
 "cells": [
  {
   "cell_type": "code",
   "execution_count": 1,
   "id": "applied-compound",
   "metadata": {},
   "outputs": [],
   "source": [
    "# uniprot to pdb\n",
    "from gpcrdb_soup import *"
   ]
  },
  {
   "cell_type": "code",
   "execution_count": 2,
   "id": "golden-dealing",
   "metadata": {},
   "outputs": [
    {
     "data": {
      "text/plain": [
       "['1FXL', '1G2E']"
      ]
     },
     "execution_count": 2,
     "metadata": {},
     "output_type": "execute_result"
    }
   ],
   "source": [
    "uniprottopdb(\"P26378\")"
   ]
  },
  {
   "cell_type": "code",
   "execution_count": 3,
   "id": "swedish-sample",
   "metadata": {},
   "outputs": [
    {
     "name": "stdout",
     "output_type": "stream",
     "text": [
      "P26378\n"
     ]
    }
   ],
   "source": [
    "eg = \"1FXL\"\n",
    "print(pdbtouniprot(eg))"
   ]
  },
  {
   "cell_type": "code",
   "execution_count": 4,
   "id": "german-trailer",
   "metadata": {},
   "outputs": [
    {
     "name": "stdout",
     "output_type": "stream",
     "text": [
      "P26378\n"
     ]
    }
   ],
   "source": [
    "eg = \"1G2E\"\n",
    "print(pdbtouniprot(eg))"
   ]
  },
  {
   "cell_type": "code",
   "execution_count": 5,
   "id": "neural-navigator",
   "metadata": {},
   "outputs": [
    {
     "name": "stdout",
     "output_type": "stream",
     "text": [
      "P25103\n"
     ]
    }
   ],
   "source": [
    "print(pdbtouniprot('6hlo'))"
   ]
  },
  {
   "cell_type": "code",
   "execution_count": null,
   "id": "large-flooring",
   "metadata": {},
   "outputs": [],
   "source": []
  }
 ],
 "metadata": {
  "kernelspec": {
   "display_name": "Python 3",
   "language": "python",
   "name": "python3"
  },
  "language_info": {
   "codemirror_mode": {
    "name": "ipython",
    "version": 3
   },
   "file_extension": ".py",
   "mimetype": "text/x-python",
   "name": "python",
   "nbconvert_exporter": "python",
   "pygments_lexer": "ipython3",
   "version": "3.8.5"
  }
 },
 "nbformat": 4,
 "nbformat_minor": 5
}
