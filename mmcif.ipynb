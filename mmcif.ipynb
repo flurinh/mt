{
 "cells": [
  {
   "cell_type": "code",
   "execution_count": 37,
   "id": "defensive-trail",
   "metadata": {},
   "outputs": [],
   "source": [
    "from utils import *\n",
    "from utils2 import *\n",
    "from utils3 import *\n",
    "from plotting import *\n",
    "from gpcrdb_soup import *"
   ]
  },
  {
   "cell_type": "code",
   "execution_count": 38,
   "id": "atlantic-animal",
   "metadata": {},
   "outputs": [],
   "source": [
    "from tqdm import tqdm, trange"
   ]
  },
  {
   "cell_type": "code",
   "execution_count": 474,
   "id": "following-supply",
   "metadata": {},
   "outputs": [],
   "source": [
    "import sys\n",
    "import pandas\n",
    "import gemmi\n",
    "from gemmi import cif\n",
    "import random"
   ]
  },
  {
   "cell_type": "code",
   "execution_count": 740,
   "id": "adequate-mistress",
   "metadata": {},
   "outputs": [],
   "source": [
    "class CifProcessor():\n",
    "    def __init__(self, \n",
    "                 path = 'data/',\n",
    "                 structure = 'mmcif/',\n",
    "                 limit=10, \n",
    "                 reload=True,\n",
    "                 remove_hetatm=True):\n",
    "        self.path = path\n",
    "        self.structure_path = self.path + structure\n",
    "        self.path_table = path + 'gpcrdb/' + 'structures.pkl'\n",
    "        \n",
    "        self.limit = limit\n",
    "        self.reload = reload\n",
    "        self.remove_hetatm = remove_hetatm\n",
    "        \n",
    "        self.filenames, self.pdb_ids = self.get_pdb_files()\n",
    "        if self.limit == None:\n",
    "            self.limit = len(self.pdb_ids)\n",
    "        # Columns for structure dataframe\n",
    "        self.cols = ['group_PDB', 'auth_asym_id', 'label_asym_id', 'label_seq_id', 'auth_seq_id', \n",
    "                     'label_comp_id', 'id', 'label_atom_id', \n",
    "                     'type_symbol', 'Cartn_x', 'Cartn_y', 'Cartn_z']\n",
    "        self.numbering = pd.DataFrame()\n",
    "                \n",
    "    # ==============================================================================================================\n",
    "    \n",
    "    def get_pdb_files(self):\n",
    "        # just a helper function that returns all pdb files in specified path\n",
    "        (_, _, filenames) = next(os.walk(self.structure_path))\n",
    "        random.shuffle(filenames)\n",
    "        files = [path + x for x in filenames][:self.limit]\n",
    "        pdb_ids = list(set([x[-8:-4] for x in files]))\n",
    "        return files, pdb_ids\n",
    "\n",
    "    def make_raws(self):\n",
    "        self.table = pd.read_pickle(self.path_table)\n",
    "        for i, pdb_id in tqdm(enumerate(self.pdb_ids)):\n",
    "            if i < self.limit:\n",
    "                # only process if the file has not already been generated\n",
    "                # if not self.reload & \n",
    "                protein, family = self.get_prot_info(pdb_id)\n",
    "                numbering = self.get_res_nums(protein)\n",
    "                if i == 0:\n",
    "                    self.structure = self.load_cifs(pdb_id)\n",
    "                    self.structure['identifier'] = protein.upper()\n",
    "                    if self.remove_hetatm:\n",
    "                        self.structure = self.structure[self.structure['group_PDB']!='HETATM']\n",
    "                        self.structure['label_seq_id'] = self.structure['label_seq_id'].astype(np.int64)\n",
    "                    self.structure['label_comp_sid'] = self.structure.apply(lambda x:\n",
    "                                                        gemmi.find_tabulated_residue(x.label_comp_id).one_letter_code, \n",
    "                                                        axis=1)\n",
    "                    self.mappings = self.get_mapping(pdb_id)\n",
    "                    numb = [pdb_id, protein, family, numbering]\n",
    "                    # numb = [pdb_id, protein, self.entry_to_ac(protein), family, numbering]\n",
    "                    self.numbering = self.numbering.append(pd.DataFrame(numb).T)\n",
    "                else:\n",
    "                    structure = self.load_cifs(pdb_id)\n",
    "                    structure['identifier'] = protein.upper()\n",
    "                    if self.remove_hetatm:\n",
    "                        structure = self.structure[self.structure['group_PDB']!='HETATM']\n",
    "                        structure['label_seq_id'] = self.structure['label_seq_id'].astype(np.int64)\n",
    "                    structure['label_comp_sid'] = structure.apply(lambda x:\n",
    "                                                        gemmi.find_tabulated_residue(x.label_comp_id).one_letter_code, \n",
    "                                                        axis=1)\n",
    "                    self.structure = self.structure.append(structure, ignore_index=True)\n",
    "                    self.mappings = self.mappings.append(self.get_mapping(pdb_id), ignore_index=True)\n",
    "                    # self.numbering = self.numbering.append(pd.DataFrame(data=[pdb_id, protein, self.entry_to_ac(protein),\n",
    "                    #                                                           family, numbering]).T, \n",
    "                    self.numbering = self.numbering.append(pd.DataFrame(data=[pdb_id, protein, family, numbering]).T, \n",
    "                                                           ignore_index=True)\n",
    "        self.numbering.columns = ['PDB', 'identifier', 'family', 'numbering']\n",
    "        \n",
    "        if self.remove_hetatm:\n",
    "            self.structure = self.structure[self.structure['group_PDB']!='HETATM']\n",
    "            self.structure['label_seq_id'] = self.structure['label_seq_id'].astype(np.int64)\n",
    "        self.structure['label_comp_sid'] = self.structure.apply(lambda x:\n",
    "                                                    gemmi.find_tabulated_residue(x.label_comp_id).one_letter_code, \n",
    "                                                    axis=1)\n",
    "         \n",
    "    # ==============================================================================================================\n",
    "        \n",
    "    def entry_to_ac(self, entry: str):\n",
    "        query = 'https://www.uniprot.org/uniprot/'+entry+'.txt'\n",
    "        response = requests.get(query)\n",
    "        return response.text.split('\\n')[1].split('AC   ')[1][:6]\n",
    "    \n",
    "    def get_prot_info(self, pdb_id):\n",
    "        # query structure\n",
    "        query = 'https://gpcrdb.org/services/structure/'+pdb_id.upper()+'/'\n",
    "        response = requests.get(query)\n",
    "        protein = response.json()['protein']\n",
    "        family = response.json()['family']\n",
    "        return protein, family\n",
    "    \n",
    "    def get_res_nums(self, protein):\n",
    "        # query uniprot -> res num\n",
    "        query = 'https://gpcrdb.org/services/residues/extended/'+protein+'/'\n",
    "        response = requests.get(query)\n",
    "        # select res num\n",
    "        # assign res_num to structure data\n",
    "        return response.json()\n",
    "    \n",
    "    def get_mapping(self, pdb_id):\n",
    "        maps = get_mappings_data(pdb_id)[pdb_id.lower()]['UniProt']\n",
    "        uniprots = maps.keys()\n",
    "        full_table=pd.DataFrame()\n",
    "        for i, uniprot in enumerate(uniprots):\n",
    "            table = pd.DataFrame.from_dict(maps[uniprot])\n",
    "            table['PDB'] = pdb_id\n",
    "            table['uniprot'] = uniprot\n",
    "            if i == 0:\n",
    "                full_table = table\n",
    "            else:\n",
    "                full_table = full_table.append(table, ignore_index=True)\n",
    "        return full_table\n",
    "    \n",
    "    # ==============================================================================================================\n",
    "    \n",
    "    def load_cifs(self, pdb_id):\n",
    "        print(\"Loading cif file of\", pdb_id)\n",
    "        path = 'data/mmcif/' + pdb_id + '.cif'\n",
    "        print(path)\n",
    "        try:\n",
    "            doc = cif.read_file(path)  # copy all the data from mmCIF file\n",
    "            lol = []  # list of lists\n",
    "            for b, block in enumerate(doc):\n",
    "                table = block.find('_atom_site.', self.cols)\n",
    "                for row in table:\n",
    "                    lol.append([pdb_id]+list(row))\n",
    "        \n",
    "        \n",
    "        except Exception as e:\n",
    "            print(\"Oops. %s\" % e)\n",
    "            sys.exit(1)\n",
    "        cols = ['PDB']+self.cols\n",
    "        st = gemmi.read_structure(path)\n",
    "        model = st[0]\n",
    "        if len(st) > 1:\n",
    "            print(\"There are multiple models!\")\n",
    "        rol = []\n",
    "        for chain in model:\n",
    "            for r, res in enumerate(chain.get_polymer()):\n",
    "                # previous_residue() and next_residue() return previous/next\n",
    "                # residue only if the residues are bonded. Otherwise -- None.\n",
    "                prev_res = chain.previous_residue(res)\n",
    "                next_res = chain.next_residue(res)\n",
    "                try:\n",
    "                    phi, psi = gemmi.calculate_phi_psi(prev_res, res, next_res)\n",
    "                except:\n",
    "                    phi, psi = np.nan, np.nan\n",
    "                try:\n",
    "                    omega = gemmi.calculate_omega(res, next_res)\n",
    "                except:\n",
    "                    omega = np.nan\n",
    "                rol.append([res.label_seq, res.subchain, \n",
    "                            degrees(phi), degrees(omega), degrees(psi)])\n",
    "        cols2 = ['label_seq_id', 'label_asym_id', 'phi', 'omega', 'psi']\n",
    "        rol_df = pd.DataFrame(data=rol, columns=cols2)\n",
    "        rol_df['label_seq_id'] = rol_df['label_seq_id'].astype(int)\n",
    "        lol_df = pd.DataFrame(data=lol, columns=cols)\n",
    "        lol_df['label_seq_id'] = lol_df.apply(lambda x: int(x.label_seq_id) if x.label_seq_id != '.' else np.nan, axis=1)\n",
    "        return pd.merge(lol_df, rol_df, how='inner', on=['label_asym_id', 'label_seq_id'])    \n",
    "    \n",
    "    def read_dfl(self, folder='data/raw/'):\n",
    "        files = [f for f in listdir(folder) if '.pkl' in f]\n",
    "        self.dfl = []\n",
    "        for f in files:\n",
    "            self.dfl.append(pd.read_pickle(folder+f).reset_index().drop('index', axis=1))\n",
    "    \n",
    "    def del_pkl(self, folder='data/raw/'):\n",
    "        files = [f for f in listdir(folder) if '.pkl' in f]\n",
    "        for file in files:\n",
    "            os.remove(folder + file)\n",
    "    \n",
    "    def to_pkl(self, folder='data/raw/'):\n",
    "        for pdb in self.pdb_ids:\n",
    "            structure = self.structure[self.structure['PDB']==pdb]\n",
    "            if len(structure) >= 1:\n",
    "                structure.to_pickle(folder + pdb + '.pkl')\n",
    "    \n",
    "    def to_pkl_dfl(self, folder='data/processed'):\n",
    "        for df in self.dfl:\n",
    "            pdb_id = df['PDB'].unique()[0]\n",
    "            df.to_pickle(folder+pdb_id)\n",
    "            \n",
    "    def to_pkl_metainfo(self):\n",
    "        self.numbering.to_pickle(self.path + 'data_numbering.pkl')\n",
    "        self.table.to_pickle(self.path + 'data_table.pkl')\n",
    "        self.mappings.to_pickle(self.path + 'data_mappings.pkl')\n",
    "    \n",
    "    def read_pkl_metainfo(self):\n",
    "        self.numbering = pd.read_pickle(self.path + 'data_numbering.pkl')\n",
    "        self.table = pd.read_pickle(self.path + 'data_table.pkl')\n",
    "        self.mappings = pd.read_pickle(self.path + 'data_mappings.pkl')\n",
    "    \n",
    "    def del_pkl_metainfo(self):\n",
    "        os.remove(self.path + 'data_numbering.pkl')\n",
    "        os.remove(self.path + 'data_table.pkl')\n",
    "        os.remove(self.path + 'data_mappings.pkl')\n",
    "    \n",
    "    # ==============================================================================================================    \n",
    "    \n",
    "    def get_stacked_maps(self, pdb):\n",
    "        # add gene to mapping\n",
    "        mappings_ = self.mappings[self.mappings['PDB']==pdb]\n",
    "        pref_chain = self.table[self.table['PDB']==pdb]['Preferred Chain'].iloc[0]\n",
    "        map_df_list = []\n",
    "        for j in range(len(mappings_)):\n",
    "            chain = pd.DataFrame.from_dict(mappings_.iloc[j]['mappings'])['chain_id'].iloc[0]\n",
    "            identifier = mappings_.iloc[j]['name']\n",
    "            dict_ = pd.DataFrame.from_dict(mappings_.iloc[j]['mappings'])\n",
    "            dict_['identifier'] = identifier\n",
    "            map_df_list.append(pd.DataFrame.from_dict(dict_))\n",
    "        _ = pd.concat(map_df_list)\n",
    "        _ = _[_['chain_id']==pref_chain]\n",
    "        _['PDB'] = pdb\n",
    "        return _\n",
    "\n",
    "\n",
    "    def get_generic_nums(self, pdb_id):\n",
    "        sequence_numbers = []\n",
    "        amino_acids = []\n",
    "        generic_numbers = []\n",
    "        for i in self.numbering[self.numbering['PDB']==pdb_id].iloc[0]['numbering']:\n",
    "            if i['alternative_generic_numbers'] != []:\n",
    "                sequence_numbers.append(i['sequence_number'])\n",
    "                amino_acids.append(i['amino_acid'])\n",
    "                generic_numbers.append(i['display_generic_number'])\n",
    "        return list(zip(sequence_numbers, amino_acids, generic_numbers))\n",
    "\n",
    "\n",
    "    def get_generic_number(self, zipped_pos_dict, l2u, comp_sid):\n",
    "        if l2u >= 0:\n",
    "            if l2u in list(zip(*zipped_pos_dict))[0]:\n",
    "                idx = list(zip(*zipped_pos_dict))[0].index(l2u)\n",
    "                row = zipped_pos_dict[idx]\n",
    "                if row[1] == comp_sid:\n",
    "                    # print(\"found row\", row[1], float(row[2].split('x')[0]), int(row[2].split('x')[1]), comp_sid)\n",
    "                    return row[2], row[1], float(row[2].split('x')[0]), int(row[2].split('x')[1])\n",
    "                else:\n",
    "                    # print(\"found row, but residue are not the same\", row, comp_sid)\n",
    "                    return row[2]+'?', row[1], float(row[2].split('x')[0]), int(row[2].split('x')[1])\n",
    "            else:\n",
    "                return ['', '', 0, 0]\n",
    "        else:\n",
    "            return ['', '', 0, 0]\n",
    "\n",
    "\n",
    "    def assign_generic_numbers_(self, pdb_id, overwrite, folder):\n",
    "        data = pd.read_pickle(folder + pdb_id + '.pkl').reset_index().drop('index', axis=1)\n",
    "        cols = data.columns\n",
    "        columns = ['gen_pos', 'gen_pos1', 'gen_pos2', 'uniprot_comp_sid']\n",
    "        _ = [i for i in columns if i in cols]\n",
    "        if len(_) > 0:\n",
    "            if overwrite:\n",
    "                data.drop(_, axis=1, inplace=True)\n",
    "                data['label_2_uni'] = 0\n",
    "                data['gen_pos'] = ''\n",
    "                data['gen_pos1'] = 0\n",
    "                data['gen_pos2'] = 0\n",
    "                data['uniprot_comp_sid'] = ''\n",
    "            else:\n",
    "                return data\n",
    "        \n",
    "        maps_stacked = self.get_stacked_maps(pdb_id)\n",
    "        print(maps_stacked.index)\n",
    "        if type(maps_stacked[maps_stacked['PDB']==pdb_id].\\\n",
    "                loc['residue_number'][['chain_id', 'start','end','unp_start','unp_end', 'identifier', 'PDB']])\\\n",
    "                    == pandas.core.series.Series:\n",
    "            pref_mapping = maps_stacked[maps_stacked['PDB']==pdb_id].loc['residue_number']\\\n",
    "                [['chain_id', 'start','end','unp_start','unp_end', 'identifier', 'PDB']].to_frame().T\n",
    "        else:\n",
    "            pref_mapping = maps_stacked[maps_stacked['PDB']==pdb_id].\\\n",
    "                loc['residue_number'][['chain_id', 'start','end','unp_start','unp_end', 'identifier', 'PDB']]\n",
    "        print(\"got preferred mapping.. \\n\\n\")\n",
    "        pref_chain = pref_mapping['chain_id'].iloc[0]\n",
    "        pref_mapping = pref_mapping.sort_values('start')\n",
    "        uniprot_identifier_ = data[data['PDB']==pdb_id]['identifier'].unique()\n",
    "        uniprot_identifier = uniprot_identifier_[0]\n",
    "        natoms = len(data[data['PDB']==pdb_id])\n",
    "        for j in range(len(pref_mapping)):\n",
    "            row = pref_mapping.iloc[j].to_dict()\n",
    "            map_identifier = row['identifier']\n",
    "            map_pdb = row['PDB']\n",
    "            start_label_seq_id = row['start']\n",
    "            start_uniprot = row['unp_start']\n",
    "            end_label_seq_id = row['end']\n",
    "            end_uniprot = row['unp_end']\n",
    "            if map_identifier == uniprot_identifier:\n",
    "                # print('Found correct uniprot map:', uniprot_identifier, map_identifier)\n",
    "                idxs = [x for x in range(natoms+1) \\\n",
    "                        if ((x <= end_label_seq_id) & (x >= start_label_seq_id))]\n",
    "                vals = [x + start_uniprot - start_label_seq_id for x in range(natoms+1) \\\n",
    "                        if ((x <= end_label_seq_id) & (x >= start_label_seq_id))]\n",
    "\n",
    "                for k, idx in enumerate(idxs):\n",
    "                    line = data[(data['PDB'] == pdb_id) &\n",
    "                                (data['auth_asym_id'] == pref_chain) &\n",
    "                                (data['label_seq_id'] == idx) &\n",
    "                                (data['label_atom_id'] == 'CA')]\n",
    "                    lines = len(line)\n",
    "                    if lines > 0:\n",
    "                        data.at[line.index[0], 'label_2_uni'] = int(vals[k])\n",
    "            else:\n",
    "                #print('Didnt find correct uniprotmap (not a gpcr):', map_identifier)\n",
    "                pass\n",
    "        \n",
    "        # Generate generic numbers\n",
    "        zipped_pos_dict = self.get_generic_nums(pdb_id)\n",
    "        data[['gen_pos', 'uniprot_comp_sid', 'gen_pos1', 'gen_pos2']] = data.\\\n",
    "            apply(lambda x: self.get_generic_number(zipped_pos_dict, x.label_2_uni, x.label_comp_sid) if x.PDB==pdb_id\\\n",
    "                  else [x.gen_pos, x.uniprot_comp_sid, x.gen_pos1, x.gen_pos2], axis=1, result_type='expand')\n",
    "        return data\n",
    "    \n",
    "    def assign_generic_numbers(self, pdb_ids=None, overwrite=False, folder='data/raw/'):\n",
    "        dfl_ = []\n",
    "        del self.structure\n",
    "        if pdb_ids != None:\n",
    "            self.pdb_ids = pdb_ids\n",
    "        if not isinstance(self.pdb_ids, list):\n",
    "            self.pdb_ids = [self.pdb_ids]\n",
    "        for pdb_id in self.pdb_ids:\n",
    "            print(\"trying to assign generic nubmers to\", pdb_id)\n",
    "            try:\n",
    "                dfl_.append(self.assign_generic_numbers_(pdb_id, overwrite=overwrite, folder=folder))\n",
    "            except:\n",
    "                pass\n",
    "        self.dfl = dfl_\n",
    "        del dfl_\n",
    "        \n",
    "    \n",
    "    def plot_angles_for_gen_pos(self, region=[7.40, 7.60]):\n",
    "        categories = []\n",
    "        for df in self.dfl:\n",
    "            category = np.unique(df['PDB'])[0]\n",
    "            categories.append(category)\n",
    "        # categories = list(set(categories))\n",
    "\n",
    "        cmap = plt.cm.get_cmap('RdYlGn', len(categories))\n",
    "        colors = np.linspace(0, len(categories)-1, len(categories))\n",
    "        colordict = dict(zip(categories,colors))\n",
    "\n",
    "\n",
    "        fig, axes = plt.subplots(nrows=1,ncols=2,figsize=(24,12))\n",
    "\n",
    "        xlabel = 'generic position numbers'\n",
    "        ylabel = 'degrees'\n",
    "\n",
    "        xtick_min = region[0]\n",
    "        xtick_max = region[1]\n",
    "\n",
    "        nsteps = int(round(xtick_max - xtick_min, 2) / 0.01)\n",
    "        xticks = np.linspace(xtick_min, xtick_max, nsteps+1)\n",
    "\n",
    "        for i, cat in enumerate(categories):\n",
    "            c = int(colordict[cat])\n",
    "            df = self.dfl[i]\n",
    "            roi = df[(df['gen_pos1']>=region[0]) & \n",
    "                     (df['gen_pos1']<region[1]) & \n",
    "                     (df['label_atom_id']=='CA')].copy()\n",
    "            roi['phi'] = roi.apply(lambda x: float(x.phi), axis=1)\n",
    "            roi['omega'] = roi.apply(lambda x: float(x.omega), axis=1)\n",
    "            roi['psi'] = roi.apply(lambda x: float(x.psi), axis=1)\n",
    "            tot_len = len(roi['phi'].to_list())+len(roi['omega'].to_list())+len(roi['psi'].to_list())\n",
    "            if tot_len > 0:\n",
    "                roi.plot(kind='line', x='gen_pos1', y='phi', \n",
    "                        ax = axes[0], subplots = True, color = cmap(c), \n",
    "                        xticks = xticks, label=cat)\n",
    "                axes[0].legend(bbox_to_anchor=(1.0, 1.0))\n",
    "                axes[0].set_xlabel(xlabel)\n",
    "                axes[0].set_ylabel(ylabel)\n",
    "                axes[0].set_title('Psi Angles')\n",
    "\n",
    "                roi.plot(kind='line', x='gen_pos1', y='psi', \n",
    "                        ax = axes[1], subplots = True, color = cmap(c), \n",
    "                        xticks = xticks, label=cat)\n",
    "                axes[1].legend(bbox_to_anchor=(1.0, 1.0))\n",
    "                axes[1].set_xlabel(xlabel)\n",
    "                axes[1].set_ylabel(ylabel)\n",
    "                axes[1].set_title('Phi Angles')\n",
    "        plt.show()\n"
   ]
  },
  {
   "cell_type": "code",
   "execution_count": 741,
   "id": "cognitive-facing",
   "metadata": {},
   "outputs": [],
   "source": [
    "data = CifProcessor(limit=None)"
   ]
  },
  {
   "cell_type": "code",
   "execution_count": null,
   "id": "classified-drama",
   "metadata": {},
   "outputs": [
    {
     "name": "stderr",
     "output_type": "stream",
     "text": [
      "\r",
      "0it [00:00, ?it/s]"
     ]
    },
    {
     "name": "stdout",
     "output_type": "stream",
     "text": [
      "Loading cif file of 3KJ6\n",
      "data/mmcif/3KJ6.cif\n",
      "getting the mapping...\n"
     ]
    },
    {
     "name": "stderr",
     "output_type": "stream",
     "text": [
      "\r",
      "1it [00:03,  3.48s/it]"
     ]
    },
    {
     "name": "stdout",
     "output_type": "stream",
     "text": [
      "got the mapping\n",
      "Loading cif file of 6ME5\n",
      "data/mmcif/6ME5.cif\n",
      "getting the mapping...\n"
     ]
    },
    {
     "name": "stderr",
     "output_type": "stream",
     "text": [
      "\r",
      "2it [00:06,  3.35s/it]"
     ]
    },
    {
     "name": "stdout",
     "output_type": "stream",
     "text": [
      "got the mapping\n",
      "Loading cif file of 6KK1\n",
      "data/mmcif/6KK1.cif\n"
     ]
    },
    {
     "name": "stderr",
     "output_type": "stream",
     "text": [
      "\r",
      "3it [00:10,  3.44s/it]"
     ]
    },
    {
     "name": "stdout",
     "output_type": "stream",
     "text": [
      "getting the mapping...\n",
      "got the mapping\n",
      "Loading cif file of 7DDZ\n",
      "data/mmcif/7DDZ.cif\n"
     ]
    },
    {
     "name": "stderr",
     "output_type": "stream",
     "text": [
      "\r",
      "4it [00:13,  3.30s/it]"
     ]
    },
    {
     "name": "stdout",
     "output_type": "stream",
     "text": [
      "getting the mapping...\n",
      "got the mapping\n",
      "Loading cif file of 4PXF\n",
      "data/mmcif/4PXF.cif\n"
     ]
    },
    {
     "name": "stderr",
     "output_type": "stream",
     "text": [
      "\r",
      "5it [00:16,  3.17s/it]"
     ]
    },
    {
     "name": "stdout",
     "output_type": "stream",
     "text": [
      "getting the mapping...\n",
      "got the mapping\n",
      "Loading cif file of 3PWH\n",
      "data/mmcif/3PWH.cif\n"
     ]
    },
    {
     "name": "stderr",
     "output_type": "stream",
     "text": [
      "\r",
      "6it [00:18,  3.09s/it]"
     ]
    },
    {
     "name": "stdout",
     "output_type": "stream",
     "text": [
      "getting the mapping...\n",
      "got the mapping\n",
      "Loading cif file of 6N4B\n",
      "data/mmcif/6N4B.cif\n"
     ]
    },
    {
     "name": "stderr",
     "output_type": "stream",
     "text": [
      "\r",
      "7it [00:22,  3.18s/it]"
     ]
    },
    {
     "name": "stdout",
     "output_type": "stream",
     "text": [
      "getting the mapping...\n",
      "got the mapping\n",
      "Loading cif file of 5CXV\n",
      "data/mmcif/5CXV.cif\n"
     ]
    },
    {
     "name": "stderr",
     "output_type": "stream",
     "text": [
      "\r",
      "8it [00:25,  3.08s/it]"
     ]
    },
    {
     "name": "stdout",
     "output_type": "stream",
     "text": [
      "getting the mapping...\n",
      "got the mapping\n",
      "Loading cif file of 6HLP\n",
      "data/mmcif/6HLP.cif\n"
     ]
    },
    {
     "name": "stderr",
     "output_type": "stream",
     "text": [
      "\r",
      "9it [00:27,  3.00s/it]"
     ]
    },
    {
     "name": "stdout",
     "output_type": "stream",
     "text": [
      "getting the mapping...\n",
      "got the mapping\n",
      "Loading cif file of 3OE8\n",
      "data/mmcif/3OE8.cif\n",
      "getting the mapping...\n",
      "got the mapping\n"
     ]
    },
    {
     "name": "stderr",
     "output_type": "stream",
     "text": [
      "\r",
      "10it [00:31,  3.24s/it]"
     ]
    },
    {
     "name": "stdout",
     "output_type": "stream",
     "text": [
      "Loading cif file of 6MEO\n",
      "data/mmcif/6MEO.cif\n",
      "getting the mapping...\n"
     ]
    },
    {
     "name": "stderr",
     "output_type": "stream",
     "text": [
      "\r",
      "11it [00:35,  3.29s/it]"
     ]
    },
    {
     "name": "stdout",
     "output_type": "stream",
     "text": [
      "got the mapping\n",
      "Loading cif file of 6KPC\n",
      "data/mmcif/6KPC.cif\n",
      "getting the mapping...\n",
      "got the mapping\n"
     ]
    },
    {
     "name": "stderr",
     "output_type": "stream",
     "text": [
      "\r",
      "12it [00:37,  3.11s/it]"
     ]
    },
    {
     "name": "stdout",
     "output_type": "stream",
     "text": [
      "Loading cif file of 4Z35\n",
      "data/mmcif/4Z35.cif\n"
     ]
    },
    {
     "name": "stderr",
     "output_type": "stream",
     "text": [
      "\r",
      "13it [00:40,  3.07s/it]"
     ]
    },
    {
     "name": "stdout",
     "output_type": "stream",
     "text": [
      "getting the mapping...\n",
      "got the mapping\n",
      "Loading cif file of 6KPF\n",
      "data/mmcif/6KPF.cif\n"
     ]
    },
    {
     "name": "stderr",
     "output_type": "stream",
     "text": [
      "\r",
      "14it [00:44,  3.19s/it]"
     ]
    },
    {
     "name": "stdout",
     "output_type": "stream",
     "text": [
      "getting the mapping...\n",
      "got the mapping\n",
      "Loading cif file of 2YDV\n",
      "data/mmcif/2YDV.cif\n"
     ]
    },
    {
     "name": "stderr",
     "output_type": "stream",
     "text": [
      "\r",
      "15it [00:47,  3.14s/it]"
     ]
    },
    {
     "name": "stdout",
     "output_type": "stream",
     "text": [
      "getting the mapping...\n",
      "got the mapping\n",
      "Loading cif file of 6PS0\n",
      "data/mmcif/6PS0.cif\n"
     ]
    },
    {
     "name": "stderr",
     "output_type": "stream",
     "text": [
      "\r",
      "16it [00:50,  3.01s/it]"
     ]
    },
    {
     "name": "stdout",
     "output_type": "stream",
     "text": [
      "getting the mapping...\n",
      "got the mapping\n",
      "Loading cif file of 3CAP\n",
      "data/mmcif/3CAP.cif\n"
     ]
    },
    {
     "name": "stderr",
     "output_type": "stream",
     "text": [
      "\r",
      "17it [00:53,  3.14s/it]"
     ]
    },
    {
     "name": "stdout",
     "output_type": "stream",
     "text": [
      "getting the mapping...\n",
      "got the mapping\n",
      "Loading cif file of 6PRZ\n",
      "data/mmcif/6PRZ.cif\n"
     ]
    },
    {
     "name": "stderr",
     "output_type": "stream",
     "text": [
      "\r",
      "18it [00:56,  3.06s/it]"
     ]
    },
    {
     "name": "stdout",
     "output_type": "stream",
     "text": [
      "getting the mapping...\n",
      "got the mapping\n",
      "Loading cif file of 5K2B\n",
      "data/mmcif/5K2B.cif\n"
     ]
    },
    {
     "name": "stderr",
     "output_type": "stream",
     "text": [
      "\r",
      "19it [00:59,  2.97s/it]"
     ]
    },
    {
     "name": "stdout",
     "output_type": "stream",
     "text": [
      "getting the mapping...\n",
      "got the mapping\n",
      "Loading cif file of 6C1R\n",
      "data/mmcif/6C1R.cif\n"
     ]
    },
    {
     "name": "stderr",
     "output_type": "stream",
     "text": [
      "\r",
      "20it [01:01,  2.92s/it]"
     ]
    },
    {
     "name": "stdout",
     "output_type": "stream",
     "text": [
      "getting the mapping...\n",
      "got the mapping\n",
      "Loading cif file of 3P0G\n",
      "data/mmcif/3P0G.cif\n"
     ]
    },
    {
     "name": "stderr",
     "output_type": "stream",
     "text": [
      "\r",
      "21it [01:04,  2.92s/it]"
     ]
    },
    {
     "name": "stdout",
     "output_type": "stream",
     "text": [
      "getting the mapping...\n",
      "got the mapping\n",
      "Loading cif file of 6NWE\n",
      "data/mmcif/6NWE.cif\n"
     ]
    },
    {
     "name": "stderr",
     "output_type": "stream",
     "text": [
      "\r",
      "22it [01:07,  2.90s/it]"
     ]
    },
    {
     "name": "stdout",
     "output_type": "stream",
     "text": [
      "getting the mapping...\n",
      "got the mapping\n",
      "Loading cif file of 2Y01\n",
      "data/mmcif/2Y01.cif\n",
      "getting the mapping...\n"
     ]
    },
    {
     "name": "stderr",
     "output_type": "stream",
     "text": [
      "\r",
      "23it [01:10,  2.96s/it]"
     ]
    },
    {
     "name": "stdout",
     "output_type": "stream",
     "text": [
      "got the mapping\n",
      "Loading cif file of 5TGZ\n",
      "data/mmcif/5TGZ.cif\n"
     ]
    },
    {
     "name": "stderr",
     "output_type": "stream",
     "text": [
      "\r",
      "24it [01:14,  3.22s/it]"
     ]
    },
    {
     "name": "stdout",
     "output_type": "stream",
     "text": [
      "getting the mapping...\n",
      "got the mapping\n",
      "Loading cif file of 6H7L\n",
      "data/mmcif/6H7L.cif\n"
     ]
    },
    {
     "name": "stderr",
     "output_type": "stream",
     "text": [
      "\r",
      "25it [01:17,  3.27s/it]"
     ]
    },
    {
     "name": "stdout",
     "output_type": "stream",
     "text": [
      "getting the mapping...\n",
      "got the mapping\n",
      "Loading cif file of 6UP7\n",
      "data/mmcif/6UP7.cif\n"
     ]
    },
    {
     "name": "stderr",
     "output_type": "stream",
     "text": [
      "\r",
      "26it [01:21,  3.27s/it]"
     ]
    },
    {
     "name": "stdout",
     "output_type": "stream",
     "text": [
      "getting the mapping...\n",
      "got the mapping\n",
      "Loading cif file of 4JKV\n",
      "data/mmcif/4JKV.cif\n",
      "getting the mapping...\n",
      "got the mapping\n"
     ]
    },
    {
     "name": "stderr",
     "output_type": "stream",
     "text": [
      "\r",
      "27it [01:25,  3.47s/it]"
     ]
    },
    {
     "name": "stdout",
     "output_type": "stream",
     "text": [
      "Loading cif file of 7CKX\n",
      "data/mmcif/7CKX.cif\n"
     ]
    },
    {
     "name": "stderr",
     "output_type": "stream",
     "text": [
      "\r",
      "28it [01:28,  3.42s/it]"
     ]
    },
    {
     "name": "stdout",
     "output_type": "stream",
     "text": [
      "getting the mapping...\n",
      "got the mapping\n",
      "Loading cif file of 1HZX\n",
      "data/mmcif/1HZX.cif\n"
     ]
    },
    {
     "name": "stderr",
     "output_type": "stream",
     "text": [
      "\r",
      "29it [01:31,  3.35s/it]"
     ]
    },
    {
     "name": "stdout",
     "output_type": "stream",
     "text": [
      "getting the mapping...\n",
      "got the mapping\n",
      "Loading cif file of 6TP6\n",
      "data/mmcif/6TP6.cif\n",
      "getting the mapping...\n",
      "got the mapping\n"
     ]
    },
    {
     "name": "stderr",
     "output_type": "stream",
     "text": [
      "\r",
      "30it [01:35,  3.35s/it]"
     ]
    },
    {
     "name": "stdout",
     "output_type": "stream",
     "text": [
      "Loading cif file of 7DFP\n",
      "data/mmcif/7DFP.cif\n"
     ]
    },
    {
     "name": "stderr",
     "output_type": "stream",
     "text": [
      "\r",
      "31it [01:38,  3.44s/it]"
     ]
    },
    {
     "name": "stdout",
     "output_type": "stream",
     "text": [
      "getting the mapping...\n",
      "got the mapping\n",
      "Loading cif file of 5DYS\n",
      "data/mmcif/5DYS.cif\n"
     ]
    },
    {
     "name": "stderr",
     "output_type": "stream",
     "text": [
      "\r",
      "32it [01:41,  3.30s/it]"
     ]
    },
    {
     "name": "stdout",
     "output_type": "stream",
     "text": [
      "getting the mapping...\n",
      "got the mapping\n",
      "Loading cif file of 4UHR\n",
      "data/mmcif/4UHR.cif\n"
     ]
    },
    {
     "name": "stderr",
     "output_type": "stream",
     "text": [
      "\r",
      "33it [01:44,  3.20s/it]"
     ]
    },
    {
     "name": "stdout",
     "output_type": "stream",
     "text": [
      "getting the mapping...\n",
      "got the mapping\n",
      "Loading cif file of 6FK8\n",
      "data/mmcif/6FK8.cif\n"
     ]
    },
    {
     "name": "stderr",
     "output_type": "stream",
     "text": [
      "\r",
      "34it [01:47,  3.18s/it]"
     ]
    },
    {
     "name": "stdout",
     "output_type": "stream",
     "text": [
      "getting the mapping...\n",
      "got the mapping\n",
      "Loading cif file of 5WS3\n",
      "data/mmcif/5WS3.cif\n"
     ]
    },
    {
     "name": "stderr",
     "output_type": "stream",
     "text": [
      "\r",
      "35it [01:50,  3.20s/it]"
     ]
    },
    {
     "name": "stdout",
     "output_type": "stream",
     "text": [
      "getting the mapping...\n",
      "got the mapping\n",
      "Loading cif file of 6WGT\n",
      "data/mmcif/6WGT.cif\n",
      "getting the mapping...\n"
     ]
    },
    {
     "name": "stderr",
     "output_type": "stream",
     "text": [
      "\r",
      "36it [01:54,  3.37s/it]"
     ]
    },
    {
     "name": "stdout",
     "output_type": "stream",
     "text": [
      "got the mapping\n",
      "Loading cif file of 2YCW\n",
      "data/mmcif/2YCW.cif\n"
     ]
    },
    {
     "name": "stderr",
     "output_type": "stream",
     "text": [
      "\r",
      "37it [01:58,  3.35s/it]"
     ]
    },
    {
     "name": "stdout",
     "output_type": "stream",
     "text": [
      "getting the mapping...\n",
      "got the mapping\n",
      "Loading cif file of 6C1Q\n",
      "data/mmcif/6C1Q.cif\n"
     ]
    },
    {
     "name": "stderr",
     "output_type": "stream",
     "text": [
      "\r",
      "38it [02:01,  3.33s/it]"
     ]
    },
    {
     "name": "stdout",
     "output_type": "stream",
     "text": [
      "getting the mapping...\n",
      "got the mapping\n",
      "Loading cif file of 6WH4\n",
      "data/mmcif/6WH4.cif\n"
     ]
    },
    {
     "name": "stderr",
     "output_type": "stream",
     "text": [
      "\r",
      "39it [02:05,  3.50s/it]"
     ]
    },
    {
     "name": "stdout",
     "output_type": "stream",
     "text": [
      "getting the mapping...\n",
      "got the mapping\n",
      "Loading cif file of 7KNU\n",
      "data/mmcif/7KNU.cif\n"
     ]
    },
    {
     "name": "stderr",
     "output_type": "stream",
     "text": [
      "\r",
      "40it [02:08,  3.44s/it]"
     ]
    },
    {
     "name": "stdout",
     "output_type": "stream",
     "text": [
      "getting the mapping...\n",
      "got the mapping\n",
      "Loading cif file of 5D5A\n",
      "data/mmcif/5D5A.cif\n"
     ]
    },
    {
     "name": "stderr",
     "output_type": "stream",
     "text": [
      "\r",
      "41it [02:11,  3.43s/it]"
     ]
    },
    {
     "name": "stdout",
     "output_type": "stream",
     "text": [
      "getting the mapping...\n",
      "got the mapping\n",
      "Loading cif file of 6PS4\n",
      "data/mmcif/6PS4.cif\n"
     ]
    },
    {
     "name": "stderr",
     "output_type": "stream",
     "text": [
      "\r",
      "42it [02:15,  3.42s/it]"
     ]
    },
    {
     "name": "stdout",
     "output_type": "stream",
     "text": [
      "getting the mapping...\n",
      "got the mapping\n",
      "Loading cif file of 5OLO\n",
      "data/mmcif/5OLO.cif\n"
     ]
    },
    {
     "name": "stderr",
     "output_type": "stream",
     "text": [
      "\r",
      "43it [02:18,  3.33s/it]"
     ]
    },
    {
     "name": "stdout",
     "output_type": "stream",
     "text": [
      "getting the mapping...\n",
      "got the mapping\n",
      "Loading cif file of 7CFN\n",
      "data/mmcif/7CFN.cif\n"
     ]
    },
    {
     "name": "stderr",
     "output_type": "stream",
     "text": [
      "\r",
      "44it [02:21,  3.33s/it]"
     ]
    },
    {
     "name": "stdout",
     "output_type": "stream",
     "text": [
      "getting the mapping...\n",
      "got the mapping\n",
      "Loading cif file of 5X93\n",
      "data/mmcif/5X93.cif\n",
      "getting the mapping...\n",
      "got the mapping\n"
     ]
    },
    {
     "name": "stderr",
     "output_type": "stream",
     "text": [
      "\r",
      "45it [02:25,  3.34s/it]"
     ]
    },
    {
     "name": "stdout",
     "output_type": "stream",
     "text": [
      "Loading cif file of 4YAY\n",
      "data/mmcif/4YAY.cif\n",
      "getting the mapping...\n",
      "got the mapping\n"
     ]
    },
    {
     "name": "stderr",
     "output_type": "stream",
     "text": [
      "\r",
      "46it [02:28,  3.38s/it]"
     ]
    },
    {
     "name": "stdout",
     "output_type": "stream",
     "text": [
      "Loading cif file of 6UO9\n",
      "data/mmcif/6UO9.cif\n",
      "getting the mapping...\n",
      "got the mapping\n"
     ]
    },
    {
     "name": "stderr",
     "output_type": "stream",
     "text": [
      "\r",
      "47it [02:32,  3.48s/it]"
     ]
    },
    {
     "name": "stdout",
     "output_type": "stream",
     "text": [
      "Loading cif file of 3ZPR\n",
      "data/mmcif/3ZPR.cif\n"
     ]
    },
    {
     "name": "stderr",
     "output_type": "stream",
     "text": [
      "\r",
      "48it [02:35,  3.49s/it]"
     ]
    },
    {
     "name": "stdout",
     "output_type": "stream",
     "text": [
      "getting the mapping...\n",
      "got the mapping\n",
      "Loading cif file of 3OE6\n",
      "data/mmcif/3OE6.cif\n",
      "getting the mapping...\n"
     ]
    },
    {
     "name": "stderr",
     "output_type": "stream",
     "text": [
      "\r",
      "49it [02:39,  3.51s/it]"
     ]
    },
    {
     "name": "stdout",
     "output_type": "stream",
     "text": [
      "got the mapping\n",
      "Loading cif file of 4QIN\n",
      "data/mmcif/4QIN.cif\n",
      "getting the mapping...\n"
     ]
    },
    {
     "name": "stderr",
     "output_type": "stream",
     "text": [
      "\r",
      "50it [02:43,  3.69s/it]"
     ]
    },
    {
     "name": "stdout",
     "output_type": "stream",
     "text": [
      "got the mapping\n",
      "Loading cif file of 4N6H\n",
      "data/mmcif/4N6H.cif\n",
      "getting the mapping...\n",
      "got the mapping\n"
     ]
    },
    {
     "name": "stderr",
     "output_type": "stream",
     "text": [
      "\r",
      "51it [02:47,  3.64s/it]"
     ]
    },
    {
     "name": "stdout",
     "output_type": "stream",
     "text": [
      "Loading cif file of 6WHA\n",
      "data/mmcif/6WHA.cif\n",
      "getting the mapping...\n"
     ]
    },
    {
     "name": "stderr",
     "output_type": "stream",
     "text": [
      "\r",
      "52it [02:51,  3.92s/it]"
     ]
    },
    {
     "name": "stdout",
     "output_type": "stream",
     "text": [
      "got the mapping\n",
      "Loading cif file of 5CGD\n",
      "data/mmcif/5CGD.cif\n",
      "getting the mapping...\n"
     ]
    },
    {
     "name": "stderr",
     "output_type": "stream",
     "text": [
      "\r",
      "53it [02:55,  3.77s/it]"
     ]
    },
    {
     "name": "stdout",
     "output_type": "stream",
     "text": [
      "got the mapping\n",
      "Loading cif file of 6GT3\n",
      "data/mmcif/6GT3.cif\n",
      "getting the mapping...\n"
     ]
    },
    {
     "name": "stderr",
     "output_type": "stream",
     "text": [
      "\r",
      "54it [02:58,  3.76s/it]"
     ]
    },
    {
     "name": "stdout",
     "output_type": "stream",
     "text": [
      "got the mapping\n",
      "Loading cif file of 5DGY\n",
      "data/mmcif/5DGY.cif\n"
     ]
    },
    {
     "name": "stderr",
     "output_type": "stream",
     "text": [
      "\r",
      "55it [03:04,  4.27s/it]"
     ]
    },
    {
     "name": "stdout",
     "output_type": "stream",
     "text": [
      "getting the mapping...\n",
      "got the mapping\n",
      "Loading cif file of 4RWD\n",
      "data/mmcif/4RWD.cif\n"
     ]
    },
    {
     "name": "stderr",
     "output_type": "stream",
     "text": [
      "\r",
      "56it [03:08,  4.21s/it]"
     ]
    },
    {
     "name": "stdout",
     "output_type": "stream",
     "text": [
      "getting the mapping...\n",
      "got the mapping\n",
      "Loading cif file of 4LDE\n",
      "data/mmcif/4LDE.cif\n"
     ]
    },
    {
     "name": "stderr",
     "output_type": "stream",
     "text": [
      "\r",
      "57it [03:11,  4.04s/it]"
     ]
    },
    {
     "name": "stdout",
     "output_type": "stream",
     "text": [
      "getting the mapping...\n",
      "got the mapping\n",
      "Loading cif file of 5NDD\n",
      "data/mmcif/5NDD.cif\n"
     ]
    },
    {
     "name": "stderr",
     "output_type": "stream",
     "text": [
      "\r",
      "58it [03:15,  3.83s/it]"
     ]
    },
    {
     "name": "stdout",
     "output_type": "stream",
     "text": [
      "getting the mapping...\n",
      "got the mapping\n",
      "Loading cif file of 4PXZ\n",
      "data/mmcif/4PXZ.cif\n"
     ]
    },
    {
     "name": "stderr",
     "output_type": "stream",
     "text": [
      "\r",
      "59it [03:18,  3.64s/it]"
     ]
    },
    {
     "name": "stdout",
     "output_type": "stream",
     "text": [
      "getting the mapping...\n",
      "got the mapping\n",
      "Loading cif file of 6DDF\n",
      "data/mmcif/6DDF.cif\n",
      "getting the mapping...\n"
     ]
    },
    {
     "name": "stderr",
     "output_type": "stream",
     "text": [
      "\r",
      "60it [03:22,  3.67s/it]"
     ]
    },
    {
     "name": "stdout",
     "output_type": "stream",
     "text": [
      "got the mapping\n",
      "Loading cif file of 5XR8\n",
      "data/mmcif/5XR8.cif\n",
      "getting the mapping...\n"
     ]
    },
    {
     "name": "stderr",
     "output_type": "stream",
     "text": [
      "\r",
      "61it [03:25,  3.64s/it]"
     ]
    },
    {
     "name": "stdout",
     "output_type": "stream",
     "text": [
      "got the mapping\n",
      "Loading cif file of 6AKX\n",
      "data/mmcif/6AKX.cif\n"
     ]
    },
    {
     "name": "stderr",
     "output_type": "stream",
     "text": [
      "\r",
      "62it [03:29,  3.55s/it]"
     ]
    },
    {
     "name": "stdout",
     "output_type": "stream",
     "text": [
      "getting the mapping...\n",
      "got the mapping\n",
      "Loading cif file of 6IBB\n",
      "data/mmcif/6IBB.cif\n"
     ]
    },
    {
     "name": "stderr",
     "output_type": "stream",
     "text": [
      "\r",
      "63it [03:32,  3.63s/it]"
     ]
    },
    {
     "name": "stdout",
     "output_type": "stream",
     "text": [
      "getting the mapping...\n",
      "got the mapping\n",
      "Loading cif file of 6ME7\n",
      "data/mmcif/6ME7.cif\n"
     ]
    },
    {
     "name": "stderr",
     "output_type": "stream",
     "text": [
      "\r",
      "64it [03:36,  3.61s/it]"
     ]
    },
    {
     "name": "stdout",
     "output_type": "stream",
     "text": [
      "getting the mapping...\n",
      "got the mapping\n",
      "Loading cif file of 3QAK\n",
      "data/mmcif/3QAK.cif\n"
     ]
    },
    {
     "name": "stderr",
     "output_type": "stream",
     "text": [
      "\r",
      "65it [03:40,  3.61s/it]"
     ]
    },
    {
     "name": "stdout",
     "output_type": "stream",
     "text": [
      "getting the mapping...\n",
      "got the mapping\n",
      "Loading cif file of 6WWZ\n",
      "data/mmcif/6WWZ.cif\n",
      "getting the mapping...\n",
      "got the mapping\n"
     ]
    },
    {
     "name": "stderr",
     "output_type": "stream",
     "text": [
      "\r",
      "66it [03:43,  3.69s/it]"
     ]
    },
    {
     "name": "stdout",
     "output_type": "stream",
     "text": [
      "Loading cif file of 6WPW\n",
      "data/mmcif/6WPW.cif\n"
     ]
    },
    {
     "name": "stderr",
     "output_type": "stream",
     "text": [
      "\r",
      "67it [03:47,  3.78s/it]"
     ]
    },
    {
     "name": "stdout",
     "output_type": "stream",
     "text": [
      "getting the mapping...\n",
      "got the mapping\n",
      "Loading cif file of 7LCK\n",
      "data/mmcif/7LCK.cif\n",
      "getting the mapping...\n"
     ]
    },
    {
     "name": "stderr",
     "output_type": "stream",
     "text": [
      "\r",
      "68it [03:51,  3.75s/it]"
     ]
    },
    {
     "name": "stdout",
     "output_type": "stream",
     "text": [
      "got the mapping\n",
      "Loading cif file of 5DSG\n",
      "data/mmcif/5DSG.cif\n"
     ]
    },
    {
     "name": "stderr",
     "output_type": "stream",
     "text": [
      "\r",
      "69it [03:55,  3.92s/it]"
     ]
    },
    {
     "name": "stdout",
     "output_type": "stream",
     "text": [
      "getting the mapping...\n",
      "got the mapping\n",
      "Loading cif file of 7CKW\n",
      "data/mmcif/7CKW.cif\n"
     ]
    },
    {
     "name": "stderr",
     "output_type": "stream",
     "text": [
      "\r",
      "70it [03:59,  3.95s/it]"
     ]
    },
    {
     "name": "stdout",
     "output_type": "stream",
     "text": [
      "getting the mapping...\n",
      "got the mapping\n",
      "Loading cif file of 3VGA\n",
      "data/mmcif/3VGA.cif\n"
     ]
    },
    {
     "name": "stderr",
     "output_type": "stream",
     "text": [
      "\r",
      "71it [04:04,  3.97s/it]"
     ]
    },
    {
     "name": "stdout",
     "output_type": "stream",
     "text": [
      "getting the mapping...\n",
      "got the mapping\n",
      "Loading cif file of 6OT0\n",
      "data/mmcif/6OT0.cif\n"
     ]
    },
    {
     "name": "stderr",
     "output_type": "stream",
     "text": [
      "\r",
      "72it [04:08,  4.20s/it]"
     ]
    },
    {
     "name": "stdout",
     "output_type": "stream",
     "text": [
      "getting the mapping...\n",
      "got the mapping\n",
      "Loading cif file of 5YWY\n",
      "data/mmcif/5YWY.cif\n"
     ]
    },
    {
     "name": "stderr",
     "output_type": "stream",
     "text": [
      "\r",
      "73it [04:12,  4.17s/it]"
     ]
    },
    {
     "name": "stdout",
     "output_type": "stream",
     "text": [
      "getting the mapping...\n",
      "got the mapping\n",
      "Loading cif file of 4J4Q\n",
      "data/mmcif/4J4Q.cif\n",
      "getting the mapping...\n"
     ]
    },
    {
     "name": "stderr",
     "output_type": "stream",
     "text": [
      "\r",
      "74it [04:16,  4.04s/it]"
     ]
    },
    {
     "name": "stdout",
     "output_type": "stream",
     "text": [
      "got the mapping\n",
      "Loading cif file of 7C7Q\n",
      "data/mmcif/7C7Q.cif\n"
     ]
    },
    {
     "name": "stderr",
     "output_type": "stream",
     "text": [
      "\r",
      "75it [04:20,  4.10s/it]"
     ]
    },
    {
     "name": "stdout",
     "output_type": "stream",
     "text": [
      "getting the mapping...\n",
      "got the mapping\n",
      "Loading cif file of 6TOS\n",
      "data/mmcif/6TOS.cif\n"
     ]
    },
    {
     "name": "stderr",
     "output_type": "stream",
     "text": [
      "\r",
      "76it [04:24,  4.09s/it]"
     ]
    },
    {
     "name": "stdout",
     "output_type": "stream",
     "text": [
      "getting the mapping...\n",
      "got the mapping\n",
      "Loading cif file of 6KO5\n",
      "data/mmcif/6KO5.cif\n"
     ]
    },
    {
     "name": "stderr",
     "output_type": "stream",
     "text": [
      "\r",
      "77it [04:29,  4.21s/it]"
     ]
    },
    {
     "name": "stdout",
     "output_type": "stream",
     "text": [
      "getting the mapping...\n",
      "got the mapping\n",
      "Loading cif file of 4ZJ8\n",
      "data/mmcif/4ZJ8.cif\n"
     ]
    },
    {
     "name": "stderr",
     "output_type": "stream",
     "text": [
      "\r",
      "78it [04:33,  4.09s/it]"
     ]
    },
    {
     "name": "stdout",
     "output_type": "stream",
     "text": [
      "getting the mapping...\n",
      "got the mapping\n",
      "Loading cif file of 4IB4\n",
      "data/mmcif/4IB4.cif\n",
      "getting the mapping...\n",
      "got the mapping\n"
     ]
    },
    {
     "name": "stderr",
     "output_type": "stream",
     "text": [
      "\r",
      "79it [04:36,  3.96s/it]"
     ]
    },
    {
     "name": "stdout",
     "output_type": "stream",
     "text": [
      "Loading cif file of 6LFM\n",
      "data/mmcif/6LFM.cif\n"
     ]
    },
    {
     "name": "stderr",
     "output_type": "stream",
     "text": [
      "\r",
      "80it [04:41,  4.25s/it]"
     ]
    },
    {
     "name": "stdout",
     "output_type": "stream",
     "text": [
      "getting the mapping...\n",
      "got the mapping\n",
      "Loading cif file of 7LJD\n",
      "data/mmcif/7LJD.cif\n",
      "getting the mapping...\n"
     ]
    },
    {
     "name": "stderr",
     "output_type": "stream",
     "text": [
      "\r",
      "81it [04:46,  4.38s/it]"
     ]
    },
    {
     "name": "stdout",
     "output_type": "stream",
     "text": [
      "got the mapping\n",
      "Loading cif file of 5K2D\n",
      "data/mmcif/5K2D.cif\n",
      "getting the mapping...\n"
     ]
    },
    {
     "name": "stderr",
     "output_type": "stream",
     "text": [
      "\r",
      "82it [04:51,  4.43s/it]"
     ]
    },
    {
     "name": "stdout",
     "output_type": "stream",
     "text": [
      "got the mapping\n",
      "Loading cif file of 3PQR\n",
      "data/mmcif/3PQR.cif\n"
     ]
    },
    {
     "name": "stderr",
     "output_type": "stream",
     "text": [
      "\r",
      "83it [04:54,  4.29s/it]"
     ]
    },
    {
     "name": "stdout",
     "output_type": "stream",
     "text": [
      "getting the mapping...\n",
      "got the mapping\n",
      "Loading cif file of 6OMM\n",
      "data/mmcif/6OMM.cif\n"
     ]
    },
    {
     "name": "stderr",
     "output_type": "stream",
     "text": [
      "\r",
      "84it [04:59,  4.29s/it]"
     ]
    },
    {
     "name": "stdout",
     "output_type": "stream",
     "text": [
      "getting the mapping...\n",
      "got the mapping\n",
      "Loading cif file of 5EE7\n",
      "data/mmcif/5EE7.cif\n"
     ]
    },
    {
     "name": "stderr",
     "output_type": "stream",
     "text": [
      "\r",
      "85it [05:03,  4.16s/it]"
     ]
    },
    {
     "name": "stdout",
     "output_type": "stream",
     "text": [
      "getting the mapping...\n",
      "got the mapping\n",
      "Loading cif file of 7C7S\n",
      "data/mmcif/7C7S.cif\n",
      "getting the mapping...\n",
      "got the mapping\n"
     ]
    },
    {
     "name": "stderr",
     "output_type": "stream",
     "text": [
      "\r",
      "86it [05:07,  4.32s/it]"
     ]
    },
    {
     "name": "stdout",
     "output_type": "stream",
     "text": [
      "Loading cif file of 5WIU\n",
      "data/mmcif/5WIU.cif\n"
     ]
    },
    {
     "name": "stderr",
     "output_type": "stream",
     "text": [
      "\r",
      "87it [05:12,  4.29s/it]"
     ]
    },
    {
     "name": "stdout",
     "output_type": "stream",
     "text": [
      "getting the mapping...\n",
      "got the mapping\n",
      "Loading cif file of 5ZBH\n",
      "data/mmcif/5ZBH.cif\n"
     ]
    },
    {
     "name": "stderr",
     "output_type": "stream",
     "text": [
      "\r",
      "88it [05:16,  4.24s/it]"
     ]
    },
    {
     "name": "stdout",
     "output_type": "stream",
     "text": [
      "getting the mapping...\n",
      "got the mapping\n",
      "Loading cif file of 4QKX\n",
      "data/mmcif/4QKX.cif\n"
     ]
    },
    {
     "name": "stderr",
     "output_type": "stream",
     "text": [
      "\r",
      "89it [05:20,  4.25s/it]"
     ]
    },
    {
     "name": "stdout",
     "output_type": "stream",
     "text": [
      "getting the mapping...\n",
      "got the mapping\n",
      "Loading cif file of 6M1H\n",
      "data/mmcif/6M1H.cif\n"
     ]
    },
    {
     "name": "stderr",
     "output_type": "stream",
     "text": [
      "\r",
      "90it [05:25,  4.40s/it]"
     ]
    },
    {
     "name": "stdout",
     "output_type": "stream",
     "text": [
      "getting the mapping...\n",
      "got the mapping\n",
      "Loading cif file of 6OS9\n",
      "data/mmcif/6OS9.cif\n"
     ]
    },
    {
     "name": "stderr",
     "output_type": "stream",
     "text": [
      "\r",
      "91it [05:29,  4.45s/it]"
     ]
    },
    {
     "name": "stdout",
     "output_type": "stream",
     "text": [
      "getting the mapping...\n",
      "got the mapping\n",
      "Loading cif file of 6CMO\n",
      "data/mmcif/6CMO.cif\n",
      "getting the mapping...\n",
      "got the mapping\n"
     ]
    },
    {
     "name": "stderr",
     "output_type": "stream",
     "text": [
      "\r",
      "92it [05:34,  4.54s/it]"
     ]
    },
    {
     "name": "stdout",
     "output_type": "stream",
     "text": [
      "Loading cif file of 5TE5\n",
      "data/mmcif/5TE5.cif\n"
     ]
    },
    {
     "name": "stderr",
     "output_type": "stream",
     "text": [
      "\r",
      "93it [05:37,  4.20s/it]"
     ]
    },
    {
     "name": "stdout",
     "output_type": "stream",
     "text": [
      "getting the mapping...\n",
      "got the mapping\n",
      "Loading cif file of 4NTJ\n",
      "data/mmcif/4NTJ.cif\n",
      "getting the mapping...\n"
     ]
    },
    {
     "name": "stderr",
     "output_type": "stream",
     "text": [
      "\r",
      "94it [05:41,  4.16s/it]"
     ]
    },
    {
     "name": "stdout",
     "output_type": "stream",
     "text": [
      "got the mapping\n",
      "Loading cif file of 4XT1\n",
      "data/mmcif/4XT1.cif\n"
     ]
    },
    {
     "name": "stderr",
     "output_type": "stream",
     "text": [
      "\r",
      "95it [05:47,  4.59s/it]"
     ]
    },
    {
     "name": "stdout",
     "output_type": "stream",
     "text": [
      "getting the mapping...\n",
      "got the mapping\n",
      "Loading cif file of 2Y03\n",
      "data/mmcif/2Y03.cif\n",
      "getting the mapping...\n"
     ]
    },
    {
     "name": "stderr",
     "output_type": "stream",
     "text": [
      "\r",
      "96it [05:51,  4.43s/it]"
     ]
    },
    {
     "name": "stdout",
     "output_type": "stream",
     "text": [
      "got the mapping\n",
      "Loading cif file of 7K15\n",
      "data/mmcif/7K15.cif\n",
      "getting the mapping...\n"
     ]
    },
    {
     "name": "stderr",
     "output_type": "stream",
     "text": [
      "\r",
      "97it [05:55,  4.36s/it]"
     ]
    },
    {
     "name": "stdout",
     "output_type": "stream",
     "text": [
      "got the mapping\n",
      "Loading cif file of 7LCJ\n",
      "data/mmcif/7LCJ.cif\n"
     ]
    },
    {
     "name": "stderr",
     "output_type": "stream",
     "text": [
      "\r",
      "98it [05:59,  4.13s/it]"
     ]
    },
    {
     "name": "stdout",
     "output_type": "stream",
     "text": [
      "getting the mapping...\n",
      "got the mapping\n",
      "Loading cif file of 5V56\n",
      "data/mmcif/5V56.cif\n"
     ]
    },
    {
     "name": "stderr",
     "output_type": "stream",
     "text": [
      "\r",
      "99it [06:03,  4.26s/it]"
     ]
    },
    {
     "name": "stdout",
     "output_type": "stream",
     "text": [
      "getting the mapping...\n",
      "got the mapping\n",
      "Loading cif file of 6NI3\n",
      "data/mmcif/6NI3.cif\n"
     ]
    },
    {
     "name": "stderr",
     "output_type": "stream",
     "text": [
      "\r",
      "100it [06:08,  4.42s/it]"
     ]
    },
    {
     "name": "stdout",
     "output_type": "stream",
     "text": [
      "getting the mapping...\n",
      "got the mapping\n",
      "Loading cif file of 6TQ7\n",
      "data/mmcif/6TQ7.cif\n",
      "getting the mapping...\n",
      "got the mapping\n"
     ]
    },
    {
     "name": "stderr",
     "output_type": "stream",
     "text": [
      "\r",
      "101it [06:12,  4.32s/it]"
     ]
    },
    {
     "name": "stdout",
     "output_type": "stream",
     "text": [
      "Loading cif file of 2VT4\n",
      "data/mmcif/2VT4.cif\n",
      "getting the mapping...\n"
     ]
    },
    {
     "name": "stderr",
     "output_type": "stream",
     "text": [
      "\r",
      "102it [06:17,  4.40s/it]"
     ]
    },
    {
     "name": "stdout",
     "output_type": "stream",
     "text": [
      "got the mapping\n",
      "Loading cif file of 5O9H\n",
      "data/mmcif/5O9H.cif\n"
     ]
    },
    {
     "name": "stderr",
     "output_type": "stream",
     "text": [
      "\r",
      "103it [06:21,  4.31s/it]"
     ]
    },
    {
     "name": "stdout",
     "output_type": "stream",
     "text": [
      "getting the mapping...\n",
      "got the mapping\n",
      "Loading cif file of 3ZEV\n",
      "data/mmcif/3ZEV.cif\n",
      "getting the mapping...\n"
     ]
    },
    {
     "name": "stderr",
     "output_type": "stream",
     "text": [
      "\r",
      "104it [06:26,  4.37s/it]"
     ]
    },
    {
     "name": "stdout",
     "output_type": "stream",
     "text": [
      "got the mapping\n",
      "Loading cif file of 6P9X\n",
      "data/mmcif/6P9X.cif\n",
      "getting the mapping...\n"
     ]
    },
    {
     "name": "stderr",
     "output_type": "stream",
     "text": [
      "\r",
      "105it [06:30,  4.34s/it]"
     ]
    },
    {
     "name": "stdout",
     "output_type": "stream",
     "text": [
      "got the mapping\n",
      "Loading cif file of 6LUQ\n",
      "data/mmcif/6LUQ.cif\n"
     ]
    },
    {
     "name": "stderr",
     "output_type": "stream",
     "text": [
      "\r",
      "106it [06:34,  4.29s/it]"
     ]
    },
    {
     "name": "stdout",
     "output_type": "stream",
     "text": [
      "getting the mapping...\n",
      "got the mapping\n",
      "Loading cif file of 5UNF\n",
      "data/mmcif/5UNF.cif\n"
     ]
    },
    {
     "name": "stderr",
     "output_type": "stream",
     "text": [
      "\r",
      "107it [06:39,  4.44s/it]"
     ]
    },
    {
     "name": "stdout",
     "output_type": "stream",
     "text": [
      "getting the mapping...\n",
      "got the mapping\n",
      "Loading cif file of 6LN2\n",
      "data/mmcif/6LN2.cif\n",
      "getting the mapping...\n"
     ]
    },
    {
     "name": "stderr",
     "output_type": "stream",
     "text": [
      "\r",
      "108it [06:44,  4.59s/it]"
     ]
    },
    {
     "name": "stdout",
     "output_type": "stream",
     "text": [
      "got the mapping\n",
      "Loading cif file of 5D5B\n",
      "data/mmcif/5D5B.cif\n",
      "getting the mapping...\n"
     ]
    },
    {
     "name": "stderr",
     "output_type": "stream",
     "text": [
      "\r",
      "109it [06:48,  4.50s/it]"
     ]
    },
    {
     "name": "stdout",
     "output_type": "stream",
     "text": [
      "got the mapping\n",
      "Loading cif file of 3C9L\n",
      "data/mmcif/3C9L.cif\n"
     ]
    },
    {
     "name": "stderr",
     "output_type": "stream",
     "text": [
      "\r",
      "110it [06:52,  4.36s/it]"
     ]
    },
    {
     "name": "stdout",
     "output_type": "stream",
     "text": [
      "getting the mapping...\n",
      "got the mapping\n",
      "Loading cif file of 4OR2\n",
      "data/mmcif/4OR2.cif\n",
      "getting the mapping...\n",
      "got the mapping\n"
     ]
    },
    {
     "name": "stderr",
     "output_type": "stream",
     "text": [
      "\r",
      "111it [06:56,  4.28s/it]"
     ]
    },
    {
     "name": "stdout",
     "output_type": "stream",
     "text": [
      "Loading cif file of 2YCZ\n",
      "data/mmcif/2YCZ.cif\n"
     ]
    },
    {
     "name": "stderr",
     "output_type": "stream",
     "text": [
      "\r",
      "112it [07:01,  4.40s/it]"
     ]
    },
    {
     "name": "stdout",
     "output_type": "stream",
     "text": [
      "getting the mapping...\n",
      "got the mapping\n",
      "Loading cif file of 5F8U\n",
      "data/mmcif/5F8U.cif\n",
      "getting the mapping...\n"
     ]
    },
    {
     "name": "stderr",
     "output_type": "stream",
     "text": [
      "\r",
      "113it [07:06,  4.61s/it]"
     ]
    },
    {
     "name": "stdout",
     "output_type": "stream",
     "text": [
      "got the mapping\n",
      "Loading cif file of 5OM1\n",
      "data/mmcif/5OM1.cif\n"
     ]
    },
    {
     "name": "stderr",
     "output_type": "stream",
     "text": [
      "\r",
      "114it [07:11,  4.64s/it]"
     ]
    },
    {
     "name": "stdout",
     "output_type": "stream",
     "text": [
      "getting the mapping...\n",
      "got the mapping\n",
      "Loading cif file of 4OO9\n",
      "data/mmcif/4OO9.cif\n",
      "getting the mapping...\n",
      "got the mapping\n"
     ]
    },
    {
     "name": "stderr",
     "output_type": "stream",
     "text": [
      "\r",
      "115it [07:15,  4.61s/it]"
     ]
    },
    {
     "name": "stdout",
     "output_type": "stream",
     "text": [
      "Loading cif file of 6PWC\n",
      "data/mmcif/6PWC.cif\n",
      "getting the mapping...\n",
      "got the mapping\n"
     ]
    },
    {
     "name": "stderr",
     "output_type": "stream",
     "text": [
      "\r",
      "116it [07:21,  4.83s/it]"
     ]
    },
    {
     "name": "stdout",
     "output_type": "stream",
     "text": [
      "Loading cif file of 6OIK\n",
      "data/mmcif/6OIK.cif\n",
      "getting the mapping...\n"
     ]
    },
    {
     "name": "stderr",
     "output_type": "stream",
     "text": [
      "\r",
      "117it [07:26,  4.89s/it]"
     ]
    },
    {
     "name": "stdout",
     "output_type": "stream",
     "text": [
      "got the mapping\n",
      "Loading cif file of 6J21\n",
      "data/mmcif/6J21.cif\n",
      "getting the mapping...\n"
     ]
    },
    {
     "name": "stderr",
     "output_type": "stream",
     "text": [
      "\r",
      "118it [07:30,  4.87s/it]"
     ]
    },
    {
     "name": "stdout",
     "output_type": "stream",
     "text": [
      "got the mapping\n",
      "Loading cif file of 6S0L\n",
      "data/mmcif/6S0L.cif\n",
      "getting the mapping...\n"
     ]
    },
    {
     "name": "stderr",
     "output_type": "stream",
     "text": [
      "\r",
      "119it [07:35,  4.83s/it]"
     ]
    },
    {
     "name": "stdout",
     "output_type": "stream",
     "text": [
      "got the mapping\n",
      "Loading cif file of 7L0P\n",
      "data/mmcif/7L0P.cif\n"
     ]
    },
    {
     "name": "stderr",
     "output_type": "stream",
     "text": [
      "\r",
      "120it [07:40,  4.82s/it]"
     ]
    },
    {
     "name": "stdout",
     "output_type": "stream",
     "text": [
      "getting the mapping...\n",
      "got the mapping\n",
      "Loading cif file of 6G79\n",
      "data/mmcif/6G79.cif\n",
      "getting the mapping...\n",
      "got the mapping\n"
     ]
    },
    {
     "name": "stderr",
     "output_type": "stream",
     "text": [
      "\r",
      "121it [07:45,  4.84s/it]"
     ]
    },
    {
     "name": "stdout",
     "output_type": "stream",
     "text": [
      "Loading cif file of 5VEW\n",
      "data/mmcif/5VEW.cif\n",
      "getting the mapping...\n"
     ]
    },
    {
     "name": "stderr",
     "output_type": "stream",
     "text": [
      "\r",
      "122it [07:50,  4.91s/it]"
     ]
    },
    {
     "name": "stdout",
     "output_type": "stream",
     "text": [
      "got the mapping\n",
      "Loading cif file of 6P9Y\n",
      "data/mmcif/6P9Y.cif\n"
     ]
    },
    {
     "name": "stderr",
     "output_type": "stream",
     "text": [
      "\r",
      "123it [07:54,  4.75s/it]"
     ]
    },
    {
     "name": "stdout",
     "output_type": "stream",
     "text": [
      "getting the mapping...\n",
      "got the mapping\n",
      "Loading cif file of 5A8E\n",
      "data/mmcif/5A8E.cif\n",
      "getting the mapping...\n"
     ]
    },
    {
     "name": "stderr",
     "output_type": "stream",
     "text": [
      "\r",
      "124it [07:59,  4.62s/it]"
     ]
    },
    {
     "name": "stdout",
     "output_type": "stream",
     "text": [
      "got the mapping\n",
      "Loading cif file of 4LDO\n",
      "data/mmcif/4LDO.cif\n"
     ]
    },
    {
     "name": "stderr",
     "output_type": "stream",
     "text": [
      "\r",
      "125it [08:03,  4.55s/it]"
     ]
    },
    {
     "name": "stdout",
     "output_type": "stream",
     "text": [
      "getting the mapping...\n",
      "got the mapping\n",
      "Loading cif file of 6IGL\n",
      "data/mmcif/6IGL.cif\n",
      "getting the mapping...\n"
     ]
    },
    {
     "name": "stderr",
     "output_type": "stream",
     "text": [
      "\r",
      "126it [08:08,  4.56s/it]"
     ]
    },
    {
     "name": "stdout",
     "output_type": "stream",
     "text": [
      "got the mapping\n",
      "Loading cif file of 6TQ4\n",
      "data/mmcif/6TQ4.cif\n"
     ]
    },
    {
     "name": "stderr",
     "output_type": "stream",
     "text": [
      "\r",
      "127it [08:12,  4.62s/it]"
     ]
    },
    {
     "name": "stdout",
     "output_type": "stream",
     "text": [
      "getting the mapping...\n",
      "got the mapping\n",
      "Loading cif file of 3PXO\n",
      "data/mmcif/3PXO.cif\n"
     ]
    },
    {
     "name": "stderr",
     "output_type": "stream",
     "text": [
      "\r",
      "128it [08:17,  4.56s/it]"
     ]
    },
    {
     "name": "stdout",
     "output_type": "stream",
     "text": [
      "getting the mapping...\n",
      "got the mapping\n",
      "Loading cif file of 5ZTY\n",
      "data/mmcif/5ZTY.cif\n"
     ]
    },
    {
     "name": "stderr",
     "output_type": "stream",
     "text": [
      "\r",
      "129it [08:21,  4.52s/it]"
     ]
    },
    {
     "name": "stdout",
     "output_type": "stream",
     "text": [
      "getting the mapping...\n",
      "got the mapping\n",
      "Loading cif file of 2Y02\n",
      "data/mmcif/2Y02.cif\n",
      "getting the mapping...\n"
     ]
    },
    {
     "name": "stderr",
     "output_type": "stream",
     "text": [
      "\r",
      "130it [08:27,  4.84s/it]"
     ]
    },
    {
     "name": "stdout",
     "output_type": "stream",
     "text": [
      "got the mapping\n",
      "Loading cif file of 5V54\n",
      "data/mmcif/5V54.cif\n"
     ]
    },
    {
     "name": "stderr",
     "output_type": "stream",
     "text": [
      "\r",
      "131it [08:31,  4.65s/it]"
     ]
    },
    {
     "name": "stdout",
     "output_type": "stream",
     "text": [
      "getting the mapping...\n",
      "got the mapping\n",
      "Loading cif file of 7CZ5\n",
      "data/mmcif/7CZ5.cif\n",
      "getting the mapping...\n"
     ]
    },
    {
     "name": "stderr",
     "output_type": "stream",
     "text": [
      "\r",
      "132it [08:36,  4.79s/it]"
     ]
    },
    {
     "name": "stdout",
     "output_type": "stream",
     "text": [
      "got the mapping\n",
      "Loading cif file of 7AD3\n",
      "data/mmcif/7AD3.cif\n"
     ]
    },
    {
     "name": "stderr",
     "output_type": "stream",
     "text": [
      "\r",
      "133it [08:41,  4.83s/it]"
     ]
    },
    {
     "name": "stdout",
     "output_type": "stream",
     "text": [
      "getting the mapping...\n",
      "got the mapping\n",
      "Loading cif file of 5TZY\n",
      "data/mmcif/5TZY.cif\n"
     ]
    },
    {
     "name": "stderr",
     "output_type": "stream",
     "text": [
      "\r",
      "134it [08:45,  4.68s/it]"
     ]
    },
    {
     "name": "stdout",
     "output_type": "stream",
     "text": [
      "getting the mapping...\n",
      "got the mapping\n",
      "Loading cif file of 5ZK3\n",
      "data/mmcif/5ZK3.cif\n",
      "getting the mapping...\n"
     ]
    },
    {
     "name": "stderr",
     "output_type": "stream",
     "text": [
      "\r",
      "135it [08:50,  4.78s/it]"
     ]
    },
    {
     "name": "stdout",
     "output_type": "stream",
     "text": [
      "got the mapping\n",
      "Loading cif file of 7LJC\n",
      "data/mmcif/7LJC.cif\n"
     ]
    },
    {
     "name": "stderr",
     "output_type": "stream",
     "text": [
      "\r",
      "136it [08:57,  5.33s/it]"
     ]
    },
    {
     "name": "stdout",
     "output_type": "stream",
     "text": [
      "getting the mapping...\n",
      "got the mapping\n",
      "Loading cif file of 7JVQ\n",
      "data/mmcif/7JVQ.cif\n",
      "getting the mapping...\n"
     ]
    },
    {
     "name": "stderr",
     "output_type": "stream",
     "text": [
      "\r",
      "137it [09:03,  5.67s/it]"
     ]
    },
    {
     "name": "stdout",
     "output_type": "stream",
     "text": [
      "got the mapping\n",
      "Loading cif file of 3AYN\n",
      "data/mmcif/3AYN.cif\n"
     ]
    },
    {
     "name": "stderr",
     "output_type": "stream",
     "text": [
      "\r",
      "138it [09:08,  5.39s/it]"
     ]
    },
    {
     "name": "stdout",
     "output_type": "stream",
     "text": [
      "getting the mapping...\n",
      "got the mapping\n",
      "Loading cif file of 6M1I\n",
      "data/mmcif/6M1I.cif\n",
      "getting the mapping...\n",
      "got the mapping\n"
     ]
    },
    {
     "name": "stderr",
     "output_type": "stream",
     "text": [
      "\r",
      "139it [09:13,  5.25s/it]"
     ]
    },
    {
     "name": "stdout",
     "output_type": "stream",
     "text": [
      "Loading cif file of 6D9H\n",
      "data/mmcif/6D9H.cif\n"
     ]
    },
    {
     "name": "stderr",
     "output_type": "stream",
     "text": [
      "\r",
      "140it [09:18,  5.21s/it]"
     ]
    },
    {
     "name": "stdout",
     "output_type": "stream",
     "text": [
      "getting the mapping...\n",
      "got the mapping\n",
      "Loading cif file of 7L0S\n",
      "data/mmcif/7L0S.cif\n"
     ]
    },
    {
     "name": "stderr",
     "output_type": "stream",
     "text": [
      "\r",
      "141it [09:23,  5.11s/it]"
     ]
    },
    {
     "name": "stdout",
     "output_type": "stream",
     "text": [
      "getting the mapping...\n",
      "got the mapping\n",
      "Loading cif file of 6PT3\n",
      "data/mmcif/6PT3.cif\n"
     ]
    },
    {
     "name": "stderr",
     "output_type": "stream",
     "text": [
      "\r",
      "142it [09:28,  5.08s/it]"
     ]
    },
    {
     "name": "stdout",
     "output_type": "stream",
     "text": [
      "getting the mapping...\n",
      "got the mapping\n",
      "Loading cif file of 4EA3\n",
      "data/mmcif/4EA3.cif\n"
     ]
    },
    {
     "name": "stderr",
     "output_type": "stream",
     "text": [
      "\r",
      "143it [09:33,  4.99s/it]"
     ]
    },
    {
     "name": "stdout",
     "output_type": "stream",
     "text": [
      "getting the mapping...\n",
      "got the mapping\n",
      "Loading cif file of 6D32\n",
      "data/mmcif/6D32.cif\n"
     ]
    },
    {
     "name": "stderr",
     "output_type": "stream",
     "text": [
      "\r",
      "144it [09:38,  5.02s/it]"
     ]
    },
    {
     "name": "stdout",
     "output_type": "stream",
     "text": [
      "getting the mapping...\n",
      "got the mapping\n",
      "Loading cif file of 7BW0\n",
      "data/mmcif/7BW0.cif\n"
     ]
    },
    {
     "name": "stderr",
     "output_type": "stream",
     "text": [
      "\r",
      "145it [09:43,  5.00s/it]"
     ]
    },
    {
     "name": "stdout",
     "output_type": "stream",
     "text": [
      "getting the mapping...\n",
      "got the mapping\n",
      "Loading cif file of 5IU4\n",
      "data/mmcif/5IU4.cif\n",
      "getting the mapping...\n"
     ]
    },
    {
     "name": "stderr",
     "output_type": "stream",
     "text": [
      "\r",
      "146it [09:48,  4.94s/it]"
     ]
    },
    {
     "name": "stdout",
     "output_type": "stream",
     "text": [
      "got the mapping\n",
      "Loading cif file of 6PEL\n",
      "data/mmcif/6PEL.cif\n"
     ]
    },
    {
     "name": "stderr",
     "output_type": "stream",
     "text": [
      "\r",
      "147it [09:52,  4.67s/it]"
     ]
    },
    {
     "name": "stdout",
     "output_type": "stream",
     "text": [
      "getting the mapping...\n",
      "got the mapping\n",
      "Loading cif file of 6FK6\n",
      "data/mmcif/6FK6.cif\n"
     ]
    },
    {
     "name": "stderr",
     "output_type": "stream",
     "text": [
      "\r",
      "148it [09:56,  4.62s/it]"
     ]
    },
    {
     "name": "stdout",
     "output_type": "stream",
     "text": [
      "getting the mapping...\n",
      "got the mapping\n",
      "Loading cif file of 6MH8\n",
      "data/mmcif/6MH8.cif\n"
     ]
    },
    {
     "name": "stderr",
     "output_type": "stream",
     "text": [
      "\r",
      "149it [10:02,  4.94s/it]"
     ]
    },
    {
     "name": "stdout",
     "output_type": "stream",
     "text": [
      "getting the mapping...\n",
      "got the mapping\n",
      "Loading cif file of 2R4R\n",
      "data/mmcif/2R4R.cif\n"
     ]
    },
    {
     "name": "stderr",
     "output_type": "stream",
     "text": [
      "\r",
      "150it [10:07,  4.86s/it]"
     ]
    },
    {
     "name": "stdout",
     "output_type": "stream",
     "text": [
      "getting the mapping...\n",
      "got the mapping\n",
      "Loading cif file of 6LI3\n",
      "data/mmcif/6LI3.cif\n"
     ]
    },
    {
     "name": "stderr",
     "output_type": "stream",
     "text": [
      "\r",
      "151it [10:12,  4.90s/it]"
     ]
    },
    {
     "name": "stdout",
     "output_type": "stream",
     "text": [
      "getting the mapping...\n",
      "got the mapping\n",
      "Loading cif file of 2YDO\n",
      "data/mmcif/2YDO.cif\n"
     ]
    },
    {
     "name": "stderr",
     "output_type": "stream",
     "text": [
      "\r",
      "152it [10:16,  4.65s/it]"
     ]
    },
    {
     "name": "stdout",
     "output_type": "stream",
     "text": [
      "getting the mapping...\n",
      "got the mapping\n",
      "Loading cif file of 6OY9\n",
      "data/mmcif/6OY9.cif\n"
     ]
    },
    {
     "name": "stderr",
     "output_type": "stream",
     "text": [
      "\r",
      "153it [10:20,  4.64s/it]"
     ]
    },
    {
     "name": "stdout",
     "output_type": "stream",
     "text": [
      "getting the mapping...\n",
      "got the mapping\n",
      "Loading cif file of 6S0Q\n",
      "data/mmcif/6S0Q.cif\n"
     ]
    },
    {
     "name": "stderr",
     "output_type": "stream",
     "text": [
      "\r",
      "154it [10:25,  4.59s/it]"
     ]
    },
    {
     "name": "stdout",
     "output_type": "stream",
     "text": [
      "getting the mapping...\n",
      "got the mapping\n",
      "Loading cif file of 7C6A\n",
      "data/mmcif/7C6A.cif\n",
      "getting the mapping...\n"
     ]
    },
    {
     "name": "stderr",
     "output_type": "stream",
     "text": [
      "\r",
      "155it [10:29,  4.59s/it]"
     ]
    },
    {
     "name": "stdout",
     "output_type": "stream",
     "text": [
      "got the mapping\n",
      "Loading cif file of 6ME4\n",
      "data/mmcif/6ME4.cif\n"
     ]
    },
    {
     "name": "stderr",
     "output_type": "stream",
     "text": [
      "\r",
      "156it [10:34,  4.71s/it]"
     ]
    },
    {
     "name": "stdout",
     "output_type": "stream",
     "text": [
      "getting the mapping...\n",
      "got the mapping\n",
      "Loading cif file of 4QIM\n",
      "data/mmcif/4QIM.cif\n"
     ]
    },
    {
     "name": "stderr",
     "output_type": "stream",
     "text": [
      "\r",
      "157it [10:40,  4.85s/it]"
     ]
    },
    {
     "name": "stdout",
     "output_type": "stream",
     "text": [
      "getting the mapping...\n",
      "got the mapping\n",
      "Loading cif file of 3NY8\n",
      "data/mmcif/3NY8.cif\n"
     ]
    },
    {
     "name": "stderr",
     "output_type": "stream",
     "text": [
      "\r",
      "158it [10:44,  4.83s/it]"
     ]
    },
    {
     "name": "stdout",
     "output_type": "stream",
     "text": [
      "getting the mapping...\n",
      "got the mapping\n",
      "Loading cif file of 6FFH\n",
      "data/mmcif/6FFH.cif\n"
     ]
    },
    {
     "name": "stderr",
     "output_type": "stream",
     "text": [
      "\r",
      "159it [10:49,  4.69s/it]"
     ]
    },
    {
     "name": "stdout",
     "output_type": "stream",
     "text": [
      "getting the mapping...\n",
      "got the mapping\n",
      "Loading cif file of 6RZ8\n",
      "data/mmcif/6RZ8.cif\n",
      "getting the mapping...\n"
     ]
    },
    {
     "name": "stderr",
     "output_type": "stream",
     "text": [
      "\r",
      "160it [10:54,  4.75s/it]"
     ]
    },
    {
     "name": "stdout",
     "output_type": "stream",
     "text": [
      "got the mapping\n",
      "Loading cif file of 6X1A\n",
      "data/mmcif/6X1A.cif\n"
     ]
    },
    {
     "name": "stderr",
     "output_type": "stream",
     "text": [
      "\r",
      "161it [10:59,  4.83s/it]"
     ]
    },
    {
     "name": "stdout",
     "output_type": "stream",
     "text": [
      "getting the mapping...\n",
      "got the mapping\n",
      "Loading cif file of 6LML\n",
      "data/mmcif/6LML.cif\n"
     ]
    },
    {
     "name": "stderr",
     "output_type": "stream",
     "text": [
      "\r",
      "162it [11:04,  4.89s/it]"
     ]
    },
    {
     "name": "stdout",
     "output_type": "stream",
     "text": [
      "getting the mapping...\n",
      "got the mapping\n",
      "Loading cif file of 6PS7\n",
      "data/mmcif/6PS7.cif\n"
     ]
    },
    {
     "name": "stderr",
     "output_type": "stream",
     "text": [
      "\r",
      "163it [11:08,  4.88s/it]"
     ]
    },
    {
     "name": "stdout",
     "output_type": "stream",
     "text": [
      "getting the mapping...\n",
      "got the mapping\n",
      "Loading cif file of 4XNV\n",
      "data/mmcif/4XNV.cif\n",
      "getting the mapping...\n"
     ]
    },
    {
     "name": "stderr",
     "output_type": "stream",
     "text": [
      "\r",
      "164it [11:13,  4.81s/it]"
     ]
    },
    {
     "name": "stdout",
     "output_type": "stream",
     "text": [
      "got the mapping\n",
      "Loading cif file of 6OYA\n",
      "data/mmcif/6OYA.cif\n"
     ]
    },
    {
     "name": "stderr",
     "output_type": "stream",
     "text": [
      "\r",
      "165it [11:19,  5.11s/it]"
     ]
    },
    {
     "name": "stdout",
     "output_type": "stream",
     "text": [
      "getting the mapping...\n",
      "got the mapping\n",
      "Loading cif file of 6PS6\n",
      "data/mmcif/6PS6.cif\n",
      "getting the mapping...\n"
     ]
    },
    {
     "name": "stderr",
     "output_type": "stream",
     "text": [
      "\r",
      "166it [11:24,  4.97s/it]"
     ]
    },
    {
     "name": "stdout",
     "output_type": "stream",
     "text": [
      "got the mapping\n",
      "Loading cif file of 2PED\n",
      "data/mmcif/2PED.cif\n"
     ]
    },
    {
     "name": "stderr",
     "output_type": "stream",
     "text": [
      "\r",
      "167it [11:28,  4.79s/it]"
     ]
    },
    {
     "name": "stdout",
     "output_type": "stream",
     "text": [
      "getting the mapping...\n",
      "got the mapping\n",
      "Loading cif file of 5JTB\n",
      "data/mmcif/5JTB.cif\n"
     ]
    },
    {
     "name": "stderr",
     "output_type": "stream",
     "text": [
      "\r",
      "168it [11:34,  5.23s/it]"
     ]
    },
    {
     "name": "stdout",
     "output_type": "stream",
     "text": [
      "getting the mapping...\n",
      "got the mapping\n",
      "Loading cif file of 5KW2\n",
      "data/mmcif/5KW2.cif\n"
     ]
    },
    {
     "name": "stderr",
     "output_type": "stream",
     "text": [
      "\r",
      "169it [11:38,  4.89s/it]"
     ]
    },
    {
     "name": "stdout",
     "output_type": "stream",
     "text": [
      "getting the mapping...\n",
      "got the mapping\n",
      "Loading cif file of 4A4M\n",
      "data/mmcif/4A4M.cif\n"
     ]
    },
    {
     "name": "stderr",
     "output_type": "stream",
     "text": [
      "\r",
      "170it [11:42,  4.62s/it]"
     ]
    },
    {
     "name": "stdout",
     "output_type": "stream",
     "text": [
      "getting the mapping...\n",
      "got the mapping\n",
      "Loading cif file of 6LFO\n",
      "data/mmcif/6LFO.cif\n"
     ]
    },
    {
     "name": "stderr",
     "output_type": "stream",
     "text": [
      "\r",
      "171it [11:47,  4.76s/it]"
     ]
    },
    {
     "name": "stdout",
     "output_type": "stream",
     "text": [
      "getting the mapping...\n",
      "got the mapping\n",
      "Loading cif file of 6MET\n",
      "data/mmcif/6MET.cif\n"
     ]
    },
    {
     "name": "stderr",
     "output_type": "stream",
     "text": [
      "\r",
      "172it [11:53,  5.02s/it]"
     ]
    },
    {
     "name": "stdout",
     "output_type": "stream",
     "text": [
      "getting the mapping...\n",
      "got the mapping\n",
      "Loading cif file of 6IBL\n",
      "data/mmcif/6IBL.cif\n",
      "getting the mapping...\n"
     ]
    },
    {
     "name": "stderr",
     "output_type": "stream",
     "text": [
      "\r",
      "173it [11:59,  5.18s/it]"
     ]
    },
    {
     "name": "stdout",
     "output_type": "stream",
     "text": [
      "got the mapping\n",
      "Loading cif file of 5WB2\n",
      "data/mmcif/5WB2.cif\n"
     ]
    },
    {
     "name": "stderr",
     "output_type": "stream",
     "text": [
      "\r",
      "174it [12:03,  5.07s/it]"
     ]
    },
    {
     "name": "stdout",
     "output_type": "stream",
     "text": [
      "getting the mapping...\n",
      "got the mapping\n",
      "Loading cif file of 6KP6\n",
      "data/mmcif/6KP6.cif\n"
     ]
    },
    {
     "name": "stderr",
     "output_type": "stream",
     "text": [
      "\r",
      "175it [12:08,  4.91s/it]"
     ]
    },
    {
     "name": "stdout",
     "output_type": "stream",
     "text": [
      "getting the mapping...\n",
      "got the mapping\n",
      "Loading cif file of 4MQT\n",
      "data/mmcif/4MQT.cif\n",
      "getting the mapping...\n"
     ]
    },
    {
     "name": "stderr",
     "output_type": "stream",
     "text": [
      "\r",
      "176it [12:13,  4.93s/it]"
     ]
    },
    {
     "name": "stdout",
     "output_type": "stream",
     "text": [
      "got the mapping\n",
      "Loading cif file of 6TOT\n",
      "data/mmcif/6TOT.cif\n"
     ]
    },
    {
     "name": "stderr",
     "output_type": "stream",
     "text": [
      "\r",
      "177it [12:18,  5.04s/it]"
     ]
    },
    {
     "name": "stdout",
     "output_type": "stream",
     "text": [
      "getting the mapping...\n",
      "got the mapping\n",
      "Loading cif file of 6RZ6\n",
      "data/mmcif/6RZ6.cif\n",
      "getting the mapping...\n"
     ]
    },
    {
     "name": "stderr",
     "output_type": "stream",
     "text": [
      "\r",
      "178it [12:23,  5.05s/it]"
     ]
    },
    {
     "name": "stdout",
     "output_type": "stream",
     "text": [
      "got the mapping\n",
      "Loading cif file of 3OE9\n",
      "data/mmcif/3OE9.cif\n"
     ]
    },
    {
     "name": "stderr",
     "output_type": "stream",
     "text": [
      "\r",
      "179it [12:28,  5.01s/it]"
     ]
    },
    {
     "name": "stdout",
     "output_type": "stream",
     "text": [
      "getting the mapping...\n",
      "got the mapping\n",
      "Loading cif file of 5WKT\n",
      "data/mmcif/5WKT.cif\n",
      "getting the mapping...\n"
     ]
    },
    {
     "name": "stderr",
     "output_type": "stream",
     "text": [
      "\r",
      "180it [12:33,  5.02s/it]"
     ]
    },
    {
     "name": "stdout",
     "output_type": "stream",
     "text": [
      "got the mapping\n",
      "Loading cif file of 5EN0\n",
      "data/mmcif/5EN0.cif\n"
     ]
    },
    {
     "name": "stderr",
     "output_type": "stream",
     "text": [
      "\r",
      "181it [12:38,  4.99s/it]"
     ]
    },
    {
     "name": "stdout",
     "output_type": "stream",
     "text": [
      "getting the mapping...\n",
      "got the mapping\n",
      "Loading cif file of 7BR3\n",
      "data/mmcif/7BR3.cif\n"
     ]
    },
    {
     "name": "stderr",
     "output_type": "stream",
     "text": [
      "\r",
      "182it [12:43,  4.84s/it]"
     ]
    },
    {
     "name": "stdout",
     "output_type": "stream",
     "text": [
      "getting the mapping...\n",
      "got the mapping\n",
      "Loading cif file of 6FFI\n",
      "data/mmcif/6FFI.cif\n",
      "getting the mapping...\n"
     ]
    },
    {
     "name": "stderr",
     "output_type": "stream",
     "text": [
      "\r",
      "183it [12:47,  4.70s/it]"
     ]
    },
    {
     "name": "stdout",
     "output_type": "stream",
     "text": [
      "got the mapping\n",
      "Loading cif file of 5ZKP\n",
      "data/mmcif/5ZKP.cif\n",
      "getting the mapping...\n"
     ]
    },
    {
     "name": "stderr",
     "output_type": "stream",
     "text": [
      "\r",
      "184it [12:52,  4.86s/it]"
     ]
    },
    {
     "name": "stdout",
     "output_type": "stream",
     "text": [
      "got the mapping\n",
      "Loading cif file of 5JQH\n",
      "data/mmcif/5JQH.cif\n"
     ]
    },
    {
     "name": "stderr",
     "output_type": "stream",
     "text": [
      "\r",
      "185it [12:58,  5.06s/it]"
     ]
    },
    {
     "name": "stdout",
     "output_type": "stream",
     "text": [
      "getting the mapping...\n",
      "got the mapping\n",
      "Loading cif file of 4RWS\n",
      "data/mmcif/4RWS.cif\n"
     ]
    },
    {
     "name": "stderr",
     "output_type": "stream",
     "text": [
      "\r",
      "186it [13:03,  5.06s/it]"
     ]
    },
    {
     "name": "stdout",
     "output_type": "stream",
     "text": [
      "getting the mapping...\n",
      "got the mapping\n",
      "Loading cif file of 5XEZ\n",
      "data/mmcif/5XEZ.cif\n",
      "getting the mapping...\n"
     ]
    },
    {
     "name": "stderr",
     "output_type": "stream",
     "text": [
      "\r",
      "187it [13:09,  5.48s/it]"
     ]
    },
    {
     "name": "stdout",
     "output_type": "stream",
     "text": [
      "got the mapping\n",
      "Loading cif file of 6WI9\n",
      "data/mmcif/6WI9.cif\n",
      "getting the mapping...\n",
      "got the mapping\n"
     ]
    },
    {
     "name": "stderr",
     "output_type": "stream",
     "text": [
      "\r",
      "188it [13:14,  5.32s/it]"
     ]
    },
    {
     "name": "stdout",
     "output_type": "stream",
     "text": [
      "Loading cif file of 6NBH\n",
      "data/mmcif/6NBH.cif\n"
     ]
    },
    {
     "name": "stderr",
     "output_type": "stream",
     "text": [
      "\r",
      "189it [13:20,  5.35s/it]"
     ]
    },
    {
     "name": "stdout",
     "output_type": "stream",
     "text": [
      "getting the mapping...\n",
      "got the mapping\n",
      "Loading cif file of 6GPX\n",
      "data/mmcif/6GPX.cif\n",
      "getting the mapping...\n"
     ]
    },
    {
     "name": "stderr",
     "output_type": "stream",
     "text": [
      "\r",
      "190it [13:25,  5.37s/it]"
     ]
    },
    {
     "name": "stdout",
     "output_type": "stream",
     "text": [
      "got the mapping\n",
      "Loading cif file of 4U14\n",
      "data/mmcif/4U14.cif\n"
     ]
    },
    {
     "name": "stderr",
     "output_type": "stream",
     "text": [
      "\r",
      "191it [13:29,  5.07s/it]"
     ]
    },
    {
     "name": "stdout",
     "output_type": "stream",
     "text": [
      "getting the mapping...\n",
      "got the mapping\n",
      "Loading cif file of 6D27\n",
      "data/mmcif/6D27.cif\n",
      "getting the mapping...\n"
     ]
    },
    {
     "name": "stderr",
     "output_type": "stream",
     "text": [
      "\r",
      "192it [13:34,  4.95s/it]"
     ]
    },
    {
     "name": "stdout",
     "output_type": "stream",
     "text": [
      "got the mapping\n",
      "Loading cif file of 5NM2\n",
      "data/mmcif/5NM2.cif\n",
      "getting the mapping...\n"
     ]
    },
    {
     "name": "stderr",
     "output_type": "stream",
     "text": [
      "\r",
      "193it [13:39,  5.02s/it]"
     ]
    },
    {
     "name": "stdout",
     "output_type": "stream",
     "text": [
      "got the mapping\n",
      "Loading cif file of 6ORV\n",
      "data/mmcif/6ORV.cif\n",
      "getting the mapping...\n"
     ]
    },
    {
     "name": "stderr",
     "output_type": "stream",
     "text": [
      "\r",
      "194it [13:44,  5.06s/it]"
     ]
    },
    {
     "name": "stdout",
     "output_type": "stream",
     "text": [
      "got the mapping\n",
      "Loading cif file of 3V2Y\n",
      "data/mmcif/3V2Y.cif\n"
     ]
    },
    {
     "name": "stderr",
     "output_type": "stream",
     "text": [
      "\r",
      "195it [13:49,  4.90s/it]"
     ]
    },
    {
     "name": "stdout",
     "output_type": "stream",
     "text": [
      "getting the mapping...\n",
      "got the mapping\n",
      "Loading cif file of 6TP4\n",
      "data/mmcif/6TP4.cif\n"
     ]
    },
    {
     "name": "stderr",
     "output_type": "stream",
     "text": [
      "\r",
      "196it [13:53,  4.80s/it]"
     ]
    },
    {
     "name": "stdout",
     "output_type": "stream",
     "text": [
      "getting the mapping...\n",
      "got the mapping\n",
      "Loading cif file of 6AK3\n",
      "data/mmcif/6AK3.cif\n"
     ]
    },
    {
     "name": "stderr",
     "output_type": "stream",
     "text": [
      "\r",
      "197it [13:59,  4.91s/it]"
     ]
    },
    {
     "name": "stdout",
     "output_type": "stream",
     "text": [
      "getting the mapping...\n",
      "got the mapping\n",
      "Loading cif file of 7JVR\n",
      "data/mmcif/7JVR.cif\n",
      "getting the mapping...\n"
     ]
    },
    {
     "name": "stderr",
     "output_type": "stream",
     "text": [
      "\r",
      "198it [14:04,  5.14s/it]"
     ]
    },
    {
     "name": "stdout",
     "output_type": "stream",
     "text": [
      "got the mapping\n",
      "Loading cif file of 6LPJ\n",
      "data/mmcif/6LPJ.cif\n",
      "getting the mapping...\n"
     ]
    },
    {
     "name": "stderr",
     "output_type": "stream",
     "text": [
      "\r",
      "199it [14:09,  5.08s/it]"
     ]
    },
    {
     "name": "stdout",
     "output_type": "stream",
     "text": [
      "got the mapping\n",
      "Loading cif file of 2X72\n",
      "data/mmcif/2X72.cif\n"
     ]
    },
    {
     "name": "stderr",
     "output_type": "stream",
     "text": [
      "\r",
      "200it [14:14,  4.96s/it]"
     ]
    },
    {
     "name": "stdout",
     "output_type": "stream",
     "text": [
      "getting the mapping...\n",
      "got the mapping\n",
      "Loading cif file of 2J4Y\n",
      "data/mmcif/2J4Y.cif\n"
     ]
    },
    {
     "name": "stderr",
     "output_type": "stream",
     "text": [
      "\r",
      "201it [14:19,  5.01s/it]"
     ]
    },
    {
     "name": "stdout",
     "output_type": "stream",
     "text": [
      "getting the mapping...\n",
      "got the mapping\n",
      "Loading cif file of 6FKD\n",
      "data/mmcif/6FKD.cif\n",
      "getting the mapping...\n"
     ]
    },
    {
     "name": "stderr",
     "output_type": "stream",
     "text": [
      "\r",
      "202it [14:24,  4.99s/it]"
     ]
    },
    {
     "name": "stdout",
     "output_type": "stream",
     "text": [
      "got the mapping\n",
      "Loading cif file of 5VAI\n",
      "data/mmcif/5VAI.cif\n",
      "getting the mapping...\n",
      "got the mapping\n"
     ]
    },
    {
     "name": "stderr",
     "output_type": "stream",
     "text": [
      "\r",
      "203it [14:30,  5.16s/it]"
     ]
    },
    {
     "name": "stdout",
     "output_type": "stream",
     "text": [
      "Loading cif file of 6TQ9\n",
      "data/mmcif/6TQ9.cif\n",
      "getting the mapping...\n"
     ]
    },
    {
     "name": "stderr",
     "output_type": "stream",
     "text": [
      "\r",
      "204it [14:35,  5.19s/it]"
     ]
    },
    {
     "name": "stdout",
     "output_type": "stream",
     "text": [
      "got the mapping\n",
      "Loading cif file of 4GPO\n",
      "data/mmcif/4GPO.cif\n",
      "getting the mapping...\n"
     ]
    },
    {
     "name": "stderr",
     "output_type": "stream",
     "text": [
      "\r",
      "205it [14:40,  5.28s/it]"
     ]
    },
    {
     "name": "stdout",
     "output_type": "stream",
     "text": [
      "got the mapping\n",
      "Loading cif file of 4X1H\n",
      "data/mmcif/4X1H.cif\n"
     ]
    },
    {
     "name": "stderr",
     "output_type": "stream",
     "text": [
      "\r",
      "206it [14:45,  5.07s/it]"
     ]
    },
    {
     "name": "stdout",
     "output_type": "stream",
     "text": [
      "getting the mapping...\n",
      "got the mapping\n",
      "Loading cif file of 6WZG\n",
      "data/mmcif/6WZG.cif\n",
      "getting the mapping...\n"
     ]
    },
    {
     "name": "stderr",
     "output_type": "stream",
     "text": [
      "\r",
      "207it [14:51,  5.33s/it]"
     ]
    },
    {
     "name": "stdout",
     "output_type": "stream",
     "text": [
      "got the mapping\n",
      "Loading cif file of 5XRA\n",
      "data/mmcif/5XRA.cif\n",
      "getting the mapping...\n"
     ]
    },
    {
     "name": "stderr",
     "output_type": "stream",
     "text": [
      "\r",
      "208it [14:55,  5.12s/it]"
     ]
    },
    {
     "name": "stdout",
     "output_type": "stream",
     "text": [
      "got the mapping\n",
      "Loading cif file of 6J20\n",
      "data/mmcif/6J20.cif\n"
     ]
    },
    {
     "name": "stderr",
     "output_type": "stream",
     "text": [
      "\r",
      "209it [15:00,  5.03s/it]"
     ]
    },
    {
     "name": "stdout",
     "output_type": "stream",
     "text": [
      "getting the mapping...\n",
      "got the mapping\n",
      "Loading cif file of 6VMS\n",
      "data/mmcif/6VMS.cif\n",
      "getting the mapping...\n",
      "got the mapping\n"
     ]
    },
    {
     "name": "stderr",
     "output_type": "stream",
     "text": [
      "\r",
      "210it [15:06,  5.33s/it]"
     ]
    },
    {
     "name": "stdout",
     "output_type": "stream",
     "text": [
      "Loading cif file of 6MXT\n",
      "data/mmcif/6MXT.cif\n"
     ]
    },
    {
     "name": "stderr",
     "output_type": "stream",
     "text": [
      "\r",
      "211it [15:12,  5.31s/it]"
     ]
    },
    {
     "name": "stdout",
     "output_type": "stream",
     "text": [
      "getting the mapping...\n",
      "got the mapping\n",
      "Loading cif file of 5YC8\n",
      "data/mmcif/5YC8.cif\n"
     ]
    },
    {
     "name": "stderr",
     "output_type": "stream",
     "text": [
      "\r",
      "212it [15:16,  5.14s/it]"
     ]
    },
    {
     "name": "stdout",
     "output_type": "stream",
     "text": [
      "getting the mapping...\n",
      "got the mapping\n",
      "Loading cif file of 6W2Y\n",
      "data/mmcif/6W2Y.cif\n"
     ]
    },
    {
     "name": "stderr",
     "output_type": "stream",
     "text": [
      "\r",
      "213it [15:22,  5.22s/it]"
     ]
    },
    {
     "name": "stdout",
     "output_type": "stream",
     "text": [
      "getting the mapping...\n",
      "got the mapping\n",
      "Loading cif file of 2I36\n",
      "data/mmcif/2I36.cif\n"
     ]
    },
    {
     "name": "stderr",
     "output_type": "stream",
     "text": [
      "\r",
      "214it [15:27,  5.26s/it]"
     ]
    },
    {
     "name": "stdout",
     "output_type": "stream",
     "text": [
      "getting the mapping...\n",
      "got the mapping\n",
      "Loading cif file of 6TOD\n",
      "data/mmcif/6TOD.cif\n"
     ]
    },
    {
     "name": "stderr",
     "output_type": "stream",
     "text": [
      "\r",
      "215it [15:32,  5.24s/it]"
     ]
    },
    {
     "name": "stdout",
     "output_type": "stream",
     "text": [
      "getting the mapping...\n",
      "got the mapping\n",
      "Loading cif file of 5ZHP\n",
      "data/mmcif/5ZHP.cif\n",
      "getting the mapping...\n"
     ]
    },
    {
     "name": "stderr",
     "output_type": "stream",
     "text": [
      "\r",
      "216it [15:39,  5.71s/it]"
     ]
    },
    {
     "name": "stdout",
     "output_type": "stream",
     "text": [
      "got the mapping\n",
      "Loading cif file of 7JJO\n",
      "data/mmcif/7JJO.cif\n",
      "getting the mapping...\n"
     ]
    },
    {
     "name": "stderr",
     "output_type": "stream",
     "text": [
      "\r",
      "217it [15:46,  6.04s/it]"
     ]
    },
    {
     "name": "stdout",
     "output_type": "stream",
     "text": [
      "got the mapping\n",
      "Loading cif file of 6H7N\n",
      "data/mmcif/6H7N.cif\n"
     ]
    },
    {
     "name": "stderr",
     "output_type": "stream",
     "text": [
      "\r",
      "218it [15:52,  6.02s/it]"
     ]
    },
    {
     "name": "stdout",
     "output_type": "stream",
     "text": [
      "getting the mapping...\n",
      "got the mapping\n",
      "Loading cif file of 6NIY\n",
      "data/mmcif/6NIY.cif\n"
     ]
    },
    {
     "name": "stderr",
     "output_type": "stream",
     "text": [
      "\r",
      "219it [15:57,  5.83s/it]"
     ]
    },
    {
     "name": "stdout",
     "output_type": "stream",
     "text": [
      "getting the mapping...\n",
      "got the mapping\n",
      "Loading cif file of 6DRY\n",
      "data/mmcif/6DRY.cif\n"
     ]
    },
    {
     "name": "stderr",
     "output_type": "stream",
     "text": [
      "\r",
      "220it [16:02,  5.57s/it]"
     ]
    },
    {
     "name": "stdout",
     "output_type": "stream",
     "text": [
      "getting the mapping...\n",
      "got the mapping\n",
      "Loading cif file of 5NLX\n",
      "data/mmcif/5NLX.cif\n",
      "getting the mapping...\n"
     ]
    },
    {
     "name": "stderr",
     "output_type": "stream",
     "text": [
      "\r",
      "221it [16:08,  5.58s/it]"
     ]
    },
    {
     "name": "stdout",
     "output_type": "stream",
     "text": [
      "got the mapping\n",
      "Loading cif file of 6PH7\n",
      "data/mmcif/6PH7.cif\n"
     ]
    },
    {
     "name": "stderr",
     "output_type": "stream",
     "text": [
      "\r",
      "222it [16:13,  5.50s/it]"
     ]
    },
    {
     "name": "stdout",
     "output_type": "stream",
     "text": [
      "getting the mapping...\n",
      "got the mapping\n",
      "Loading cif file of 6LPK\n",
      "data/mmcif/6LPK.cif\n"
     ]
    },
    {
     "name": "stderr",
     "output_type": "stream",
     "text": [
      "\r",
      "223it [16:18,  5.34s/it]"
     ]
    },
    {
     "name": "stdout",
     "output_type": "stream",
     "text": [
      "getting the mapping...\n",
      "got the mapping\n",
      "Loading cif file of 6H7O\n",
      "data/mmcif/6H7O.cif\n"
     ]
    },
    {
     "name": "stderr",
     "output_type": "stream",
     "text": [
      "\r",
      "224it [16:23,  5.29s/it]"
     ]
    },
    {
     "name": "stdout",
     "output_type": "stream",
     "text": [
      "getting the mapping...\n",
      "got the mapping\n",
      "Loading cif file of 6ME3\n",
      "data/mmcif/6ME3.cif\n"
     ]
    },
    {
     "name": "stderr",
     "output_type": "stream",
     "text": [
      "\r",
      "225it [16:29,  5.37s/it]"
     ]
    },
    {
     "name": "stdout",
     "output_type": "stream",
     "text": [
      "getting the mapping...\n",
      "got the mapping\n",
      "Loading cif file of 3C9M\n",
      "data/mmcif/3C9M.cif\n",
      "getting the mapping...\n"
     ]
    },
    {
     "name": "stderr",
     "output_type": "stream",
     "text": [
      "\r",
      "226it [16:34,  5.27s/it]"
     ]
    },
    {
     "name": "stdout",
     "output_type": "stream",
     "text": [
      "got the mapping\n",
      "Loading cif file of 6KQI\n",
      "data/mmcif/6KQI.cif\n",
      "getting the mapping...\n"
     ]
    },
    {
     "name": "stderr",
     "output_type": "stream",
     "text": [
      "\r",
      "227it [16:39,  5.32s/it]"
     ]
    },
    {
     "name": "stdout",
     "output_type": "stream",
     "text": [
      "got the mapping\n",
      "Loading cif file of 6TPG\n",
      "data/mmcif/6TPG.cif\n"
     ]
    },
    {
     "name": "stderr",
     "output_type": "stream",
     "text": [
      "\r",
      "228it [16:44,  5.22s/it]"
     ]
    },
    {
     "name": "stdout",
     "output_type": "stream",
     "text": [
      "getting the mapping...\n",
      "got the mapping\n",
      "Loading cif file of 5YHL\n",
      "data/mmcif/5YHL.cif\n"
     ]
    },
    {
     "name": "stderr",
     "output_type": "stream",
     "text": [
      "\r",
      "229it [16:49,  5.14s/it]"
     ]
    },
    {
     "name": "stdout",
     "output_type": "stream",
     "text": [
      "getting the mapping...\n",
      "got the mapping\n",
      "Loading cif file of 5IUA\n",
      "data/mmcif/5IUA.cif\n"
     ]
    },
    {
     "name": "stderr",
     "output_type": "stream",
     "text": [
      "\r",
      "230it [16:54,  5.11s/it]"
     ]
    },
    {
     "name": "stdout",
     "output_type": "stream",
     "text": [
      "getting the mapping...\n",
      "got the mapping\n",
      "Loading cif file of 4Z9G\n",
      "data/mmcif/4Z9G.cif\n",
      "getting the mapping...\n"
     ]
    },
    {
     "name": "stderr",
     "output_type": "stream",
     "text": [
      "\r",
      "231it [17:01,  5.58s/it]"
     ]
    },
    {
     "name": "stdout",
     "output_type": "stream",
     "text": [
      "got the mapping\n",
      "Loading cif file of 6PS3\n",
      "data/mmcif/6PS3.cif\n",
      "getting the mapping...\n",
      "got the mapping\n"
     ]
    },
    {
     "name": "stderr",
     "output_type": "stream",
     "text": [
      "\r",
      "232it [17:07,  5.87s/it]"
     ]
    },
    {
     "name": "stdout",
     "output_type": "stream",
     "text": [
      "Loading cif file of 2Y00\n",
      "data/mmcif/2Y00.cif\n",
      "getting the mapping...\n"
     ]
    },
    {
     "name": "stderr",
     "output_type": "stream",
     "text": [
      "\r",
      "233it [17:13,  5.85s/it]"
     ]
    },
    {
     "name": "stdout",
     "output_type": "stream",
     "text": [
      "got the mapping\n",
      "Loading cif file of 6IGK\n",
      "data/mmcif/6IGK.cif\n",
      "getting the mapping...\n",
      "got the mapping\n"
     ]
    },
    {
     "name": "stderr",
     "output_type": "stream",
     "text": [
      "\r",
      "234it [17:20,  6.06s/it]"
     ]
    },
    {
     "name": "stdout",
     "output_type": "stream",
     "text": [
      "Loading cif file of 6X19\n",
      "data/mmcif/6X19.cif\n"
     ]
    },
    {
     "name": "stderr",
     "output_type": "stream",
     "text": [
      "\r",
      "235it [17:26,  6.21s/it]"
     ]
    },
    {
     "name": "stdout",
     "output_type": "stream",
     "text": [
      "getting the mapping...\n",
      "got the mapping\n",
      "Loading cif file of 6IIU\n",
      "data/mmcif/6IIU.cif\n",
      "getting the mapping...\n",
      "got the mapping\n"
     ]
    },
    {
     "name": "stderr",
     "output_type": "stream",
     "text": [
      "\r",
      "236it [17:32,  6.08s/it]"
     ]
    },
    {
     "name": "stdout",
     "output_type": "stream",
     "text": [
      "Loading cif file of 4U15\n",
      "data/mmcif/4U15.cif\n",
      "getting the mapping...\n"
     ]
    },
    {
     "name": "stderr",
     "output_type": "stream",
     "text": [
      "\r",
      "237it [17:38,  5.98s/it]"
     ]
    },
    {
     "name": "stdout",
     "output_type": "stream",
     "text": [
      "got the mapping\n",
      "Loading cif file of 2YCY\n",
      "data/mmcif/2YCY.cif\n"
     ]
    },
    {
     "name": "stderr",
     "output_type": "stream",
     "text": [
      "\r",
      "238it [17:44,  5.93s/it]"
     ]
    },
    {
     "name": "stdout",
     "output_type": "stream",
     "text": [
      "getting the mapping...\n",
      "got the mapping\n",
      "Loading cif file of 6B73\n",
      "data/mmcif/6B73.cif\n"
     ]
    },
    {
     "name": "stderr",
     "output_type": "stream",
     "text": [
      "\r",
      "239it [17:51,  6.18s/it]"
     ]
    },
    {
     "name": "stdout",
     "output_type": "stream",
     "text": [
      "getting the mapping...\n",
      "got the mapping\n",
      "Loading cif file of 6TPK\n",
      "data/mmcif/6TPK.cif\n"
     ]
    },
    {
     "name": "stderr",
     "output_type": "stream",
     "text": [
      "\r",
      "240it [17:57,  6.33s/it]"
     ]
    },
    {
     "name": "stdout",
     "output_type": "stream",
     "text": [
      "getting the mapping...\n",
      "got the mapping\n",
      "Loading cif file of 3NYA\n",
      "data/mmcif/3NYA.cif\n"
     ]
    },
    {
     "name": "stderr",
     "output_type": "stream",
     "text": [
      "\r",
      "241it [18:03,  6.15s/it]"
     ]
    },
    {
     "name": "stdout",
     "output_type": "stream",
     "text": [
      "getting the mapping...\n",
      "got the mapping\n",
      "Loading cif file of 5U09\n",
      "data/mmcif/5U09.cif\n",
      "getting the mapping...\n"
     ]
    },
    {
     "name": "stderr",
     "output_type": "stream",
     "text": [
      "\r",
      "242it [18:09,  6.20s/it]"
     ]
    },
    {
     "name": "stdout",
     "output_type": "stream",
     "text": [
      "got the mapping\n",
      "Loading cif file of 2rh1\n",
      "data/mmcif/2rh1.cif\n"
     ]
    },
    {
     "name": "stderr",
     "output_type": "stream",
     "text": [
      "\r",
      "243it [18:14,  5.85s/it]"
     ]
    },
    {
     "name": "stdout",
     "output_type": "stream",
     "text": [
      "getting the mapping...\n",
      "got the mapping\n",
      "Loading cif file of 1F88\n",
      "data/mmcif/1F88.cif\n"
     ]
    },
    {
     "name": "stderr",
     "output_type": "stream",
     "text": [
      "\r",
      "244it [18:20,  5.68s/it]"
     ]
    },
    {
     "name": "stdout",
     "output_type": "stream",
     "text": [
      "getting the mapping...\n",
      "got the mapping\n",
      "Loading cif file of 6XBK\n",
      "data/mmcif/6XBK.cif\n"
     ]
    },
    {
     "name": "stderr",
     "output_type": "stream",
     "text": [
      "\r",
      "245it [18:26,  5.99s/it]"
     ]
    },
    {
     "name": "stdout",
     "output_type": "stream",
     "text": [
      "getting the mapping...\n",
      "got the mapping\n",
      "Loading cif file of 3OAX\n",
      "data/mmcif/3OAX.cif\n",
      "getting the mapping...\n"
     ]
    },
    {
     "name": "stderr",
     "output_type": "stream",
     "text": [
      "\r",
      "246it [18:32,  6.02s/it]"
     ]
    },
    {
     "name": "stdout",
     "output_type": "stream",
     "text": [
      "got the mapping\n",
      "Loading cif file of 6TKO\n",
      "data/mmcif/6TKO.cif\n",
      "getting the mapping...\n"
     ]
    },
    {
     "name": "stderr",
     "output_type": "stream",
     "text": [
      "\r",
      "247it [18:38,  6.02s/it]"
     ]
    },
    {
     "name": "stdout",
     "output_type": "stream",
     "text": [
      "got the mapping\n",
      "Loading cif file of 4GRV\n",
      "data/mmcif/4GRV.cif\n"
     ]
    },
    {
     "name": "stderr",
     "output_type": "stream",
     "text": [
      "\r",
      "248it [18:44,  5.93s/it]"
     ]
    },
    {
     "name": "stdout",
     "output_type": "stream",
     "text": [
      "getting the mapping...\n",
      "got the mapping\n",
      "Loading cif file of 7C61\n",
      "data/mmcif/7C61.cif\n",
      "getting the mapping...\n"
     ]
    },
    {
     "name": "stderr",
     "output_type": "stream",
     "text": [
      "\r",
      "249it [18:50,  5.87s/it]"
     ]
    },
    {
     "name": "stdout",
     "output_type": "stream",
     "text": [
      "got the mapping\n",
      "Loading cif file of 3PBL\n",
      "data/mmcif/3PBL.cif\n"
     ]
    },
    {
     "name": "stderr",
     "output_type": "stream",
     "text": [
      "\r",
      "250it [18:55,  5.66s/it]"
     ]
    },
    {
     "name": "stdout",
     "output_type": "stream",
     "text": [
      "getting the mapping...\n",
      "got the mapping\n",
      "Loading cif file of 5DHH\n",
      "data/mmcif/5DHH.cif\n"
     ]
    },
    {
     "name": "stderr",
     "output_type": "stream",
     "text": [
      "\r",
      "251it [19:00,  5.52s/it]"
     ]
    },
    {
     "name": "stdout",
     "output_type": "stream",
     "text": [
      "getting the mapping...\n",
      "got the mapping\n",
      "Loading cif file of 4XT3\n",
      "data/mmcif/4XT3.cif\n"
     ]
    },
    {
     "name": "stderr",
     "output_type": "stream",
     "text": [
      "\r",
      "252it [19:06,  5.50s/it]"
     ]
    },
    {
     "name": "stdout",
     "output_type": "stream",
     "text": [
      "getting the mapping...\n",
      "got the mapping\n",
      "Loading cif file of 4PHU\n",
      "data/mmcif/4PHU.cif\n",
      "getting the mapping...\n"
     ]
    },
    {
     "name": "stderr",
     "output_type": "stream",
     "text": [
      "\r",
      "253it [19:11,  5.54s/it]"
     ]
    },
    {
     "name": "stdout",
     "output_type": "stream",
     "text": [
      "got the mapping\n",
      "Loading cif file of 5NX2\n",
      "data/mmcif/5NX2.cif\n"
     ]
    },
    {
     "name": "stderr",
     "output_type": "stream",
     "text": [
      "\r",
      "254it [19:17,  5.46s/it]"
     ]
    },
    {
     "name": "stdout",
     "output_type": "stream",
     "text": [
      "getting the mapping...\n",
      "got the mapping\n",
      "Loading cif file of 5X7D\n",
      "data/mmcif/5X7D.cif\n"
     ]
    },
    {
     "name": "stderr",
     "output_type": "stream",
     "text": [
      "\r",
      "255it [19:22,  5.38s/it]"
     ]
    },
    {
     "name": "stdout",
     "output_type": "stream",
     "text": [
      "getting the mapping...\n",
      "got the mapping\n",
      "Loading cif file of 5IUB\n",
      "data/mmcif/5IUB.cif\n"
     ]
    },
    {
     "name": "stderr",
     "output_type": "stream",
     "text": [
      "\r",
      "256it [19:27,  5.26s/it]"
     ]
    },
    {
     "name": "stdout",
     "output_type": "stream",
     "text": [
      "getting the mapping...\n",
      "got the mapping\n",
      "Loading cif file of 6PS8\n",
      "data/mmcif/6PS8.cif\n",
      "getting the mapping...\n"
     ]
    },
    {
     "name": "stderr",
     "output_type": "stream",
     "text": [
      "\r",
      "257it [19:32,  5.27s/it]"
     ]
    },
    {
     "name": "stdout",
     "output_type": "stream",
     "text": [
      "got the mapping\n",
      "Loading cif file of 6KUW\n",
      "data/mmcif/6KUW.cif\n"
     ]
    },
    {
     "name": "stderr",
     "output_type": "stream",
     "text": [
      "\r",
      "258it [19:38,  5.59s/it]"
     ]
    },
    {
     "name": "stdout",
     "output_type": "stream",
     "text": [
      "getting the mapping...\n",
      "got the mapping\n",
      "Loading cif file of 3VG9\n",
      "data/mmcif/3VG9.cif\n"
     ]
    },
    {
     "name": "stderr",
     "output_type": "stream",
     "text": [
      "\r",
      "259it [19:44,  5.52s/it]"
     ]
    },
    {
     "name": "stdout",
     "output_type": "stream",
     "text": [
      "getting the mapping...\n",
      "got the mapping\n",
      "Loading cif file of 4O9R\n",
      "data/mmcif/4O9R.cif\n"
     ]
    },
    {
     "name": "stderr",
     "output_type": "stream",
     "text": [
      "\r",
      "260it [19:49,  5.45s/it]"
     ]
    },
    {
     "name": "stdout",
     "output_type": "stream",
     "text": [
      "getting the mapping...\n",
      "got the mapping\n",
      "Loading cif file of 4ZJC\n",
      "data/mmcif/4ZJC.cif\n"
     ]
    },
    {
     "name": "stderr",
     "output_type": "stream",
     "text": [
      "\r",
      "261it [19:54,  5.31s/it]"
     ]
    },
    {
     "name": "stdout",
     "output_type": "stream",
     "text": [
      "getting the mapping...\n",
      "got the mapping\n",
      "Loading cif file of 5MZJ\n",
      "data/mmcif/5MZJ.cif\n"
     ]
    },
    {
     "name": "stderr",
     "output_type": "stream",
     "text": [
      "\r",
      "262it [19:59,  5.27s/it]"
     ]
    },
    {
     "name": "stdout",
     "output_type": "stream",
     "text": [
      "getting the mapping...\n",
      "got the mapping\n",
      "Loading cif file of 5G53\n",
      "data/mmcif/5G53.cif\n"
     ]
    },
    {
     "name": "stderr",
     "output_type": "stream",
     "text": [
      "\r",
      "263it [20:05,  5.37s/it]"
     ]
    },
    {
     "name": "stdout",
     "output_type": "stream",
     "text": [
      "getting the mapping...\n",
      "got the mapping\n",
      "Loading cif file of 5VEX\n",
      "data/mmcif/5VEX.cif\n"
     ]
    },
    {
     "name": "stderr",
     "output_type": "stream",
     "text": [
      "\r",
      "264it [20:10,  5.40s/it]"
     ]
    },
    {
     "name": "stdout",
     "output_type": "stream",
     "text": [
      "getting the mapping...\n",
      "got the mapping\n",
      "Loading cif file of 6KUX\n",
      "data/mmcif/6KUX.cif\n"
     ]
    },
    {
     "name": "stderr",
     "output_type": "stream",
     "text": [
      "\r",
      "265it [20:16,  5.38s/it]"
     ]
    },
    {
     "name": "stdout",
     "output_type": "stream",
     "text": [
      "getting the mapping...\n",
      "got the mapping\n",
      "Loading cif file of 6ME2\n",
      "data/mmcif/6ME2.cif\n"
     ]
    },
    {
     "name": "stderr",
     "output_type": "stream",
     "text": [
      "\r",
      "266it [20:21,  5.26s/it]"
     ]
    },
    {
     "name": "stdout",
     "output_type": "stream",
     "text": [
      "getting the mapping...\n",
      "got the mapping\n",
      "Loading cif file of 7KNT\n",
      "data/mmcif/7KNT.cif\n",
      "getting the mapping...\n"
     ]
    },
    {
     "name": "stderr",
     "output_type": "stream",
     "text": [
      "\r",
      "267it [20:26,  5.22s/it]"
     ]
    },
    {
     "name": "stdout",
     "output_type": "stream",
     "text": [
      "got the mapping\n",
      "Loading cif file of 6OS2\n",
      "data/mmcif/6OS2.cif\n",
      "getting the mapping...\n"
     ]
    },
    {
     "name": "stderr",
     "output_type": "stream",
     "text": [
      "\r",
      "268it [20:31,  5.19s/it]"
     ]
    },
    {
     "name": "stdout",
     "output_type": "stream",
     "text": [
      "got the mapping\n",
      "Loading cif file of 5NM4\n",
      "data/mmcif/5NM4.cif\n",
      "getting the mapping...\n"
     ]
    },
    {
     "name": "stderr",
     "output_type": "stream",
     "text": [
      "\r",
      "269it [20:37,  5.42s/it]"
     ]
    },
    {
     "name": "stdout",
     "output_type": "stream",
     "text": [
      "got the mapping\n",
      "Loading cif file of 5K2A\n",
      "data/mmcif/5K2A.cif\n"
     ]
    },
    {
     "name": "stderr",
     "output_type": "stream",
     "text": [
      "\r",
      "270it [20:42,  5.45s/it]"
     ]
    },
    {
     "name": "stdout",
     "output_type": "stream",
     "text": [
      "getting the mapping...\n",
      "got the mapping\n",
      "Loading cif file of 7JV5\n",
      "data/mmcif/7JV5.cif\n",
      "getting the mapping...\n"
     ]
    },
    {
     "name": "stderr",
     "output_type": "stream",
     "text": [
      "\r",
      "271it [20:49,  5.79s/it]"
     ]
    },
    {
     "name": "stdout",
     "output_type": "stream",
     "text": [
      "got the mapping\n",
      "Loading cif file of 6KK7\n",
      "data/mmcif/6KK7.cif\n",
      "getting the mapping...\n"
     ]
    },
    {
     "name": "stderr",
     "output_type": "stream",
     "text": [
      "\r",
      "272it [20:54,  5.72s/it]"
     ]
    },
    {
     "name": "stdout",
     "output_type": "stream",
     "text": [
      "got the mapping\n",
      "Loading cif file of 7D7M\n",
      "data/mmcif/7D7M.cif\n"
     ]
    },
    {
     "name": "stderr",
     "output_type": "stream",
     "text": [
      "\r",
      "273it [21:00,  5.61s/it]"
     ]
    },
    {
     "name": "stdout",
     "output_type": "stream",
     "text": [
      "getting the mapping...\n",
      "got the mapping\n",
      "Loading cif file of 6IQL\n",
      "data/mmcif/6IQL.cif\n"
     ]
    },
    {
     "name": "stderr",
     "output_type": "stream",
     "text": [
      "\r",
      "274it [21:05,  5.61s/it]"
     ]
    },
    {
     "name": "stdout",
     "output_type": "stream",
     "text": [
      "getting the mapping...\n",
      "got the mapping\n",
      "Loading cif file of 6WJC\n",
      "data/mmcif/6WJC.cif\n",
      "getting the mapping...\n"
     ]
    },
    {
     "name": "stderr",
     "output_type": "stream",
     "text": [
      "\r",
      "275it [21:12,  5.93s/it]"
     ]
    },
    {
     "name": "stdout",
     "output_type": "stream",
     "text": [
      "got the mapping\n",
      "Loading cif file of 5X33\n",
      "data/mmcif/5X33.cif\n"
     ]
    },
    {
     "name": "stderr",
     "output_type": "stream",
     "text": [
      "\r",
      "276it [21:17,  5.72s/it]"
     ]
    },
    {
     "name": "stdout",
     "output_type": "stream",
     "text": [
      "getting the mapping...\n",
      "got the mapping\n",
      "Loading cif file of 6KUY\n",
      "data/mmcif/6KUY.cif\n"
     ]
    },
    {
     "name": "stderr",
     "output_type": "stream",
     "text": [
      "\r",
      "277it [21:22,  5.48s/it]"
     ]
    },
    {
     "name": "stdout",
     "output_type": "stream",
     "text": [
      "getting the mapping...\n",
      "got the mapping\n",
      "Loading cif file of 4DJH\n",
      "data/mmcif/4DJH.cif\n"
     ]
    },
    {
     "name": "stderr",
     "output_type": "stream",
     "text": [
      "\r",
      "278it [21:28,  5.49s/it]"
     ]
    },
    {
     "name": "stdout",
     "output_type": "stream",
     "text": [
      "getting the mapping...\n",
      "got the mapping\n",
      "Loading cif file of 6OSA\n",
      "data/mmcif/6OSA.cif\n"
     ]
    },
    {
     "name": "stderr",
     "output_type": "stream",
     "text": [
      "\r",
      "279it [21:33,  5.57s/it]"
     ]
    },
    {
     "name": "stdout",
     "output_type": "stream",
     "text": [
      "getting the mapping...\n",
      "got the mapping\n",
      "Loading cif file of 6N51\n",
      "data/mmcif/6N51.cif\n"
     ]
    },
    {
     "name": "stderr",
     "output_type": "stream",
     "text": [
      "\r",
      "280it [21:40,  5.80s/it]"
     ]
    },
    {
     "name": "stdout",
     "output_type": "stream",
     "text": [
      "getting the mapping...\n",
      "got the mapping\n",
      "Loading cif file of 4EIY\n",
      "data/mmcif/4EIY.cif\n"
     ]
    },
    {
     "name": "stderr",
     "output_type": "stream",
     "text": [
      "\r",
      "281it [21:46,  5.82s/it]"
     ]
    },
    {
     "name": "stdout",
     "output_type": "stream",
     "text": [
      "getting the mapping...\n",
      "got the mapping\n",
      "Loading cif file of 7D76\n",
      "data/mmcif/7D76.cif\n"
     ]
    },
    {
     "name": "stderr",
     "output_type": "stream",
     "text": [
      "\r",
      "282it [21:51,  5.69s/it]"
     ]
    },
    {
     "name": "stdout",
     "output_type": "stream",
     "text": [
      "getting the mapping...\n",
      "got the mapping\n",
      "Loading cif file of 4DKL\n",
      "data/mmcif/4DKL.cif\n"
     ]
    },
    {
     "name": "stderr",
     "output_type": "stream",
     "text": [
      "\r",
      "283it [21:56,  5.60s/it]"
     ]
    },
    {
     "name": "stdout",
     "output_type": "stream",
     "text": [
      "getting the mapping...\n",
      "got the mapping\n",
      "Loading cif file of 6RZ7\n",
      "data/mmcif/6RZ7.cif\n",
      "getting the mapping...\n"
     ]
    },
    {
     "name": "stderr",
     "output_type": "stream",
     "text": [
      "\r",
      "284it [22:02,  5.55s/it]"
     ]
    },
    {
     "name": "stdout",
     "output_type": "stream",
     "text": [
      "got the mapping\n",
      "Loading cif file of 1GZM\n",
      "data/mmcif/1GZM.cif\n"
     ]
    },
    {
     "name": "stderr",
     "output_type": "stream",
     "text": [
      "\r",
      "285it [22:07,  5.51s/it]"
     ]
    },
    {
     "name": "stdout",
     "output_type": "stream",
     "text": [
      "getting the mapping...\n",
      "got the mapping\n",
      "Loading cif file of 6N52\n",
      "data/mmcif/6N52.cif\n",
      "getting the mapping...\n"
     ]
    },
    {
     "name": "stderr",
     "output_type": "stream",
     "text": [
      "\r",
      "286it [22:13,  5.66s/it]"
     ]
    },
    {
     "name": "stdout",
     "output_type": "stream",
     "text": [
      "got the mapping\n",
      "Loading cif file of 6IIV\n",
      "data/mmcif/6IIV.cif\n"
     ]
    },
    {
     "name": "stderr",
     "output_type": "stream",
     "text": [
      "\r",
      "287it [22:18,  5.48s/it]"
     ]
    },
    {
     "name": "stdout",
     "output_type": "stream",
     "text": [
      "getting the mapping...\n",
      "got the mapping\n",
      "Loading cif file of 5IU7\n",
      "data/mmcif/5IU7.cif\n"
     ]
    },
    {
     "name": "stderr",
     "output_type": "stream",
     "text": [
      "\r",
      "288it [22:24,  5.47s/it]"
     ]
    },
    {
     "name": "stdout",
     "output_type": "stream",
     "text": [
      "getting the mapping...\n",
      "got the mapping\n",
      "Loading cif file of 6LI0\n",
      "data/mmcif/6LI0.cif\n"
     ]
    },
    {
     "name": "stderr",
     "output_type": "stream",
     "text": [
      "\r",
      "289it [22:29,  5.44s/it]"
     ]
    },
    {
     "name": "stdout",
     "output_type": "stream",
     "text": [
      "getting the mapping...\n",
      "got the mapping\n",
      "Loading cif file of 6RZ9\n",
      "data/mmcif/6RZ9.cif\n"
     ]
    },
    {
     "name": "stderr",
     "output_type": "stream",
     "text": [
      "\r",
      "290it [22:35,  5.44s/it]"
     ]
    },
    {
     "name": "stdout",
     "output_type": "stream",
     "text": [
      "getting the mapping...\n",
      "got the mapping\n",
      "Loading cif file of 6KNM\n",
      "data/mmcif/6KNM.cif\n"
     ]
    },
    {
     "name": "stderr",
     "output_type": "stream",
     "text": [
      "\r",
      "291it [22:40,  5.42s/it]"
     ]
    },
    {
     "name": "stdout",
     "output_type": "stream",
     "text": [
      "getting the mapping...\n",
      "got the mapping\n",
      "Loading cif file of 4L6R\n",
      "data/mmcif/4L6R.cif\n"
     ]
    },
    {
     "name": "stderr",
     "output_type": "stream",
     "text": [
      "\r",
      "292it [22:45,  5.35s/it]"
     ]
    },
    {
     "name": "stdout",
     "output_type": "stream",
     "text": [
      "getting the mapping...\n",
      "got the mapping\n",
      "Loading cif file of 6TPN\n",
      "data/mmcif/6TPN.cif\n",
      "getting the mapping...\n"
     ]
    },
    {
     "name": "stderr",
     "output_type": "stream",
     "text": [
      "\r",
      "293it [22:51,  5.60s/it]"
     ]
    },
    {
     "name": "stdout",
     "output_type": "stream",
     "text": [
      "got the mapping\n",
      "Loading cif file of 6UO8\n",
      "data/mmcif/6UO8.cif\n",
      "getting the mapping...\n"
     ]
    },
    {
     "name": "stderr",
     "output_type": "stream",
     "text": [
      "\r",
      "294it [22:57,  5.69s/it]"
     ]
    },
    {
     "name": "stdout",
     "output_type": "stream",
     "text": [
      "got the mapping\n",
      "Loading cif file of 5XJM\n",
      "data/mmcif/5XJM.cif\n",
      "getting the mapping...\n"
     ]
    },
    {
     "name": "stderr",
     "output_type": "stream",
     "text": [
      "\r",
      "295it [23:03,  5.75s/it]"
     ]
    },
    {
     "name": "stdout",
     "output_type": "stream",
     "text": [
      "got the mapping\n",
      "Loading cif file of 5CGC\n",
      "data/mmcif/5CGC.cif\n"
     ]
    },
    {
     "name": "stderr",
     "output_type": "stream",
     "text": [
      "\r",
      "296it [23:08,  5.63s/it]"
     ]
    },
    {
     "name": "stdout",
     "output_type": "stream",
     "text": [
      "getting the mapping...\n",
      "got the mapping\n",
      "Loading cif file of 5N2R\n",
      "data/mmcif/5N2R.cif\n"
     ]
    },
    {
     "name": "stderr",
     "output_type": "stream",
     "text": [
      "\r",
      "297it [23:14,  5.62s/it]"
     ]
    },
    {
     "name": "stdout",
     "output_type": "stream",
     "text": [
      "getting the mapping...\n",
      "got the mapping\n",
      "Loading cif file of 5UIG\n",
      "data/mmcif/5UIG.cif\n"
     ]
    },
    {
     "name": "stderr",
     "output_type": "stream",
     "text": [
      "\r",
      "298it [23:19,  5.54s/it]"
     ]
    },
    {
     "name": "stdout",
     "output_type": "stream",
     "text": [
      "getting the mapping...\n",
      "got the mapping\n",
      "Loading cif file of 3RZE\n",
      "data/mmcif/3RZE.cif\n",
      "getting the mapping...\n",
      "got the mapping\n"
     ]
    },
    {
     "name": "stderr",
     "output_type": "stream",
     "text": [
      "\r",
      "299it [23:25,  5.58s/it]"
     ]
    },
    {
     "name": "stdout",
     "output_type": "stream",
     "text": [
      "Loading cif file of 6TPJ\n",
      "data/mmcif/6TPJ.cif\n"
     ]
    },
    {
     "name": "stderr",
     "output_type": "stream",
     "text": [
      "\r",
      "300it [23:31,  5.68s/it]"
     ]
    },
    {
     "name": "stdout",
     "output_type": "stream",
     "text": [
      "getting the mapping...\n",
      "got the mapping\n",
      "Loading cif file of 6Z10\n",
      "data/mmcif/6Z10.cif\n"
     ]
    },
    {
     "name": "stderr",
     "output_type": "stream",
     "text": [
      "\r",
      "301it [23:36,  5.61s/it]"
     ]
    },
    {
     "name": "stdout",
     "output_type": "stream",
     "text": [
      "getting the mapping...\n",
      "got the mapping\n",
      "Loading cif file of 5UVI\n",
      "data/mmcif/5UVI.cif\n",
      "getting the mapping...\n"
     ]
    },
    {
     "name": "stderr",
     "output_type": "stream",
     "text": [
      "\r",
      "302it [23:42,  5.70s/it]"
     ]
    },
    {
     "name": "stdout",
     "output_type": "stream",
     "text": [
      "got the mapping\n",
      "Loading cif file of 6RZ4\n",
      "data/mmcif/6RZ4.cif\n"
     ]
    },
    {
     "name": "stderr",
     "output_type": "stream",
     "text": [
      "\r",
      "303it [23:49,  5.86s/it]"
     ]
    },
    {
     "name": "stdout",
     "output_type": "stream",
     "text": [
      "getting the mapping...\n",
      "got the mapping\n",
      "Loading cif file of 5IU8\n",
      "data/mmcif/5IU8.cif\n"
     ]
    },
    {
     "name": "stderr",
     "output_type": "stream",
     "text": [
      "\r",
      "304it [23:54,  5.82s/it]"
     ]
    },
    {
     "name": "stdout",
     "output_type": "stream",
     "text": [
      "getting the mapping...\n",
      "got the mapping\n",
      "Loading cif file of 3OE0\n",
      "data/mmcif/3OE0.cif\n",
      "getting the mapping...\n"
     ]
    },
    {
     "name": "stderr",
     "output_type": "stream",
     "text": [
      "\r",
      "305it [24:00,  5.81s/it]"
     ]
    },
    {
     "name": "stdout",
     "output_type": "stream",
     "text": [
      "got the mapping\n",
      "Loading cif file of 6ZDR\n",
      "data/mmcif/6ZDR.cif\n"
     ]
    },
    {
     "name": "stderr",
     "output_type": "stream",
     "text": [
      "\r",
      "306it [24:06,  5.77s/it]"
     ]
    },
    {
     "name": "stdout",
     "output_type": "stream",
     "text": [
      "getting the mapping...\n",
      "got the mapping\n",
      "Loading cif file of 6LFL\n",
      "data/mmcif/6LFL.cif\n"
     ]
    },
    {
     "name": "stderr",
     "output_type": "stream",
     "text": [
      "\r",
      "307it [24:12,  5.76s/it]"
     ]
    },
    {
     "name": "stdout",
     "output_type": "stream",
     "text": [
      "getting the mapping...\n",
      "got the mapping\n",
      "Loading cif file of 6FUF\n",
      "data/mmcif/6FUF.cif\n"
     ]
    },
    {
     "name": "stderr",
     "output_type": "stream",
     "text": [
      "\r",
      "308it [24:17,  5.63s/it]"
     ]
    },
    {
     "name": "stdout",
     "output_type": "stream",
     "text": [
      "getting the mapping...\n",
      "got the mapping\n",
      "Loading cif file of 7BZ2\n",
      "data/mmcif/7BZ2.cif\n"
     ]
    },
    {
     "name": "stderr",
     "output_type": "stream",
     "text": [
      "\r",
      "309it [24:23,  5.85s/it]"
     ]
    },
    {
     "name": "stdout",
     "output_type": "stream",
     "text": [
      "getting the mapping...\n",
      "got the mapping\n",
      "Loading cif file of 4N4W\n",
      "data/mmcif/4N4W.cif\n",
      "getting the mapping...\n"
     ]
    },
    {
     "name": "stderr",
     "output_type": "stream",
     "text": [
      "\r",
      "310it [24:29,  5.88s/it]"
     ]
    },
    {
     "name": "stdout",
     "output_type": "stream",
     "text": [
      "got the mapping\n",
      "Loading cif file of 6VJM\n",
      "data/mmcif/6VJM.cif\n",
      "getting the mapping...\n"
     ]
    },
    {
     "name": "stderr",
     "output_type": "stream",
     "text": [
      "\r",
      "311it [24:36,  6.04s/it]"
     ]
    },
    {
     "name": "stdout",
     "output_type": "stream",
     "text": [
      "got the mapping\n",
      "Loading cif file of 4XNW\n",
      "data/mmcif/4XNW.cif\n"
     ]
    },
    {
     "name": "stderr",
     "output_type": "stream",
     "text": [
      "\r",
      "312it [24:41,  5.88s/it]"
     ]
    },
    {
     "name": "stdout",
     "output_type": "stream",
     "text": [
      "getting the mapping...\n",
      "got the mapping\n",
      "Loading cif file of 6WQA\n",
      "data/mmcif/6WQA.cif\n"
     ]
    },
    {
     "name": "stderr",
     "output_type": "stream",
     "text": [
      "\r",
      "313it [24:47,  5.82s/it]"
     ]
    },
    {
     "name": "stdout",
     "output_type": "stream",
     "text": [
      "getting the mapping...\n",
      "got the mapping\n",
      "Loading cif file of 4BEZ\n",
      "data/mmcif/4BEZ.cif\n"
     ]
    },
    {
     "name": "stderr",
     "output_type": "stream",
     "text": [
      "\r",
      "314it [24:52,  5.74s/it]"
     ]
    },
    {
     "name": "stdout",
     "output_type": "stream",
     "text": [
      "getting the mapping...\n",
      "got the mapping\n",
      "Loading cif file of 5OLV\n",
      "data/mmcif/5OLV.cif\n"
     ]
    },
    {
     "name": "stderr",
     "output_type": "stream",
     "text": [
      "\r",
      "315it [24:58,  5.79s/it]"
     ]
    },
    {
     "name": "stdout",
     "output_type": "stream",
     "text": [
      "getting the mapping...\n",
      "got the mapping\n",
      "Loading cif file of 4XES\n",
      "data/mmcif/4XES.cif\n"
     ]
    },
    {
     "name": "stderr",
     "output_type": "stream",
     "text": [
      "\r",
      "316it [25:04,  5.83s/it]"
     ]
    },
    {
     "name": "stdout",
     "output_type": "stream",
     "text": [
      "getting the mapping...\n",
      "got the mapping\n",
      "Loading cif file of 2ZIY\n",
      "data/mmcif/2ZIY.cif\n"
     ]
    },
    {
     "name": "stderr",
     "output_type": "stream",
     "text": [
      "\r",
      "317it [25:10,  5.91s/it]"
     ]
    },
    {
     "name": "stdout",
     "output_type": "stream",
     "text": [
      "getting the mapping...\n",
      "got the mapping\n",
      "Loading cif file of 3D4S\n",
      "data/mmcif/3D4S.cif\n"
     ]
    },
    {
     "name": "stderr",
     "output_type": "stream",
     "text": [
      "\r",
      "318it [25:16,  5.87s/it]"
     ]
    },
    {
     "name": "stdout",
     "output_type": "stream",
     "text": [
      "getting the mapping...\n",
      "got the mapping\n",
      "Loading cif file of 6BQH\n",
      "data/mmcif/6BQH.cif\n"
     ]
    },
    {
     "name": "stderr",
     "output_type": "stream",
     "text": [
      "\r",
      "319it [25:21,  5.73s/it]"
     ]
    },
    {
     "name": "stdout",
     "output_type": "stream",
     "text": [
      "getting the mapping...\n",
      "got the mapping\n",
      "Loading cif file of 3REY\n",
      "data/mmcif/3REY.cif\n"
     ]
    },
    {
     "name": "stderr",
     "output_type": "stream",
     "text": [
      "\r",
      "320it [25:27,  5.66s/it]"
     ]
    },
    {
     "name": "stdout",
     "output_type": "stream",
     "text": [
      "getting the mapping...\n",
      "got the mapping\n",
      "Loading cif file of 6DRZ\n",
      "data/mmcif/6DRZ.cif\n"
     ]
    },
    {
     "name": "stderr",
     "output_type": "stream",
     "text": [
      "\r",
      "321it [25:32,  5.57s/it]"
     ]
    },
    {
     "name": "stdout",
     "output_type": "stream",
     "text": [
      "getting the mapping...\n",
      "got the mapping\n",
      "Loading cif file of 4EJ4\n",
      "data/mmcif/4EJ4.cif\n"
     ]
    },
    {
     "name": "stderr",
     "output_type": "stream",
     "text": [
      "\r",
      "322it [25:38,  5.55s/it]"
     ]
    },
    {
     "name": "stdout",
     "output_type": "stream",
     "text": [
      "getting the mapping...\n",
      "got the mapping\n",
      "Loading cif file of 4Z36\n",
      "data/mmcif/4Z36.cif\n",
      "getting the mapping...\n"
     ]
    },
    {
     "name": "stderr",
     "output_type": "stream",
     "text": [
      "\r",
      "323it [25:44,  5.65s/it]"
     ]
    },
    {
     "name": "stdout",
     "output_type": "stream",
     "text": [
      "got the mapping\n",
      "Loading cif file of 7CFM\n",
      "data/mmcif/7CFM.cif\n"
     ]
    },
    {
     "name": "stderr",
     "output_type": "stream",
     "text": [
      "\r",
      "324it [25:50,  5.83s/it]"
     ]
    },
    {
     "name": "stdout",
     "output_type": "stream",
     "text": [
      "getting the mapping...\n",
      "got the mapping\n",
      "Loading cif file of 6JOD\n",
      "data/mmcif/6JOD.cif\n"
     ]
    },
    {
     "name": "stderr",
     "output_type": "stream",
     "text": [
      "\r",
      "325it [25:56,  6.04s/it]"
     ]
    },
    {
     "name": "stdout",
     "output_type": "stream",
     "text": [
      "getting the mapping...\n",
      "got the mapping\n",
      "Loading cif file of 3V2W\n",
      "data/mmcif/3V2W.cif\n",
      "getting the mapping...\n",
      "got the mapping\n"
     ]
    },
    {
     "name": "stderr",
     "output_type": "stream",
     "text": [
      "\r",
      "326it [26:03,  6.11s/it]"
     ]
    },
    {
     "name": "stdout",
     "output_type": "stream",
     "text": [
      "Loading cif file of 6LRY\n",
      "data/mmcif/6LRY.cif\n",
      "getting the mapping...\n"
     ]
    },
    {
     "name": "stderr",
     "output_type": "stream",
     "text": [
      "\r",
      "327it [26:10,  6.35s/it]"
     ]
    },
    {
     "name": "stdout",
     "output_type": "stream",
     "text": [
      "got the mapping\n",
      "Loading cif file of 4U16\n",
      "data/mmcif/4U16.cif\n"
     ]
    },
    {
     "name": "stderr",
     "output_type": "stream",
     "text": [
      "\r",
      "328it [26:16,  6.49s/it]"
     ]
    },
    {
     "name": "stdout",
     "output_type": "stream",
     "text": [
      "getting the mapping...\n",
      "got the mapping\n",
      "Loading cif file of 5K2C\n",
      "data/mmcif/5K2C.cif\n",
      "getting the mapping...\n"
     ]
    },
    {
     "name": "stderr",
     "output_type": "stream",
     "text": [
      "\r",
      "329it [26:23,  6.40s/it]"
     ]
    },
    {
     "name": "stdout",
     "output_type": "stream",
     "text": [
      "got the mapping\n",
      "Loading cif file of 5NDZ\n",
      "data/mmcif/5NDZ.cif\n"
     ]
    },
    {
     "name": "stderr",
     "output_type": "stream",
     "text": [
      "\r",
      "330it [26:28,  6.15s/it]"
     ]
    },
    {
     "name": "stdout",
     "output_type": "stream",
     "text": [
      "getting the mapping...\n",
      "got the mapping\n",
      "Loading cif file of 6A93\n",
      "data/mmcif/6A93.cif\n"
     ]
    },
    {
     "name": "stderr",
     "output_type": "stream",
     "text": [
      "\r",
      "331it [26:35,  6.24s/it]"
     ]
    },
    {
     "name": "stdout",
     "output_type": "stream",
     "text": [
      "getting the mapping...\n",
      "got the mapping\n",
      "Loading cif file of 3DQB\n",
      "data/mmcif/3DQB.cif\n"
     ]
    },
    {
     "name": "stderr",
     "output_type": "stream",
     "text": [
      "\r",
      "332it [26:40,  6.01s/it]"
     ]
    },
    {
     "name": "stdout",
     "output_type": "stream",
     "text": [
      "getting the mapping...\n",
      "got the mapping\n",
      "Loading cif file of 5T1A\n",
      "data/mmcif/5T1A.cif\n"
     ]
    },
    {
     "name": "stderr",
     "output_type": "stream",
     "text": [
      "\r",
      "333it [26:47,  6.11s/it]"
     ]
    },
    {
     "name": "stdout",
     "output_type": "stream",
     "text": [
      "getting the mapping...\n",
      "got the mapping\n",
      "Loading cif file of 3VW7\n",
      "data/mmcif/3VW7.cif\n"
     ]
    },
    {
     "name": "stderr",
     "output_type": "stream",
     "text": [
      "\r",
      "334it [26:52,  6.07s/it]"
     ]
    },
    {
     "name": "stdout",
     "output_type": "stream",
     "text": [
      "getting the mapping...\n",
      "got the mapping\n",
      "Loading cif file of 7JVP\n",
      "data/mmcif/7JVP.cif\n",
      "getting the mapping...\n"
     ]
    },
    {
     "name": "stderr",
     "output_type": "stream",
     "text": [
      "\r",
      "335it [27:04,  7.58s/it]"
     ]
    },
    {
     "name": "stdout",
     "output_type": "stream",
     "text": [
      "got the mapping\n",
      "Loading cif file of 6TP3\n",
      "data/mmcif/6TP3.cif\n",
      "getting the mapping...\n"
     ]
    },
    {
     "name": "stderr",
     "output_type": "stream",
     "text": [
      "\r",
      "336it [27:11,  7.55s/it]"
     ]
    },
    {
     "name": "stdout",
     "output_type": "stream",
     "text": [
      "got the mapping\n",
      "Loading cif file of 6PT0\n",
      "data/mmcif/6PT0.cif\n"
     ]
    },
    {
     "name": "stderr",
     "output_type": "stream",
     "text": [
      "\r",
      "337it [27:19,  7.61s/it]"
     ]
    },
    {
     "name": "stdout",
     "output_type": "stream",
     "text": [
      "getting the mapping...\n",
      "got the mapping\n",
      "Loading cif file of 5T04\n",
      "data/mmcif/5T04.cif\n"
     ]
    },
    {
     "name": "stderr",
     "output_type": "stream",
     "text": [
      "\r",
      "338it [27:26,  7.43s/it]"
     ]
    },
    {
     "name": "stdout",
     "output_type": "stream",
     "text": [
      "getting the mapping...\n",
      "got the mapping\n",
      "Loading cif file of 6PS2\n",
      "data/mmcif/6PS2.cif\n"
     ]
    },
    {
     "name": "stderr",
     "output_type": "stream",
     "text": [
      "\r",
      "339it [27:32,  7.16s/it]"
     ]
    },
    {
     "name": "stdout",
     "output_type": "stream",
     "text": [
      "getting the mapping...\n",
      "got the mapping\n",
      "Loading cif file of 7L0R\n",
      "data/mmcif/7L0R.cif\n",
      "getting the mapping...\n",
      "got the mapping\n"
     ]
    },
    {
     "name": "stderr",
     "output_type": "stream",
     "text": [
      "\r",
      "340it [27:39,  7.05s/it]"
     ]
    },
    {
     "name": "stdout",
     "output_type": "stream",
     "text": [
      "Loading cif file of 6WW2\n",
      "data/mmcif/6WW2.cif\n",
      "getting the mapping...\n"
     ]
    },
    {
     "name": "stderr",
     "output_type": "stream",
     "text": [
      "\r",
      "341it [27:45,  6.83s/it]"
     ]
    },
    {
     "name": "stdout",
     "output_type": "stream",
     "text": [
      "got the mapping\n",
      "Loading cif file of 6TO7\n",
      "data/mmcif/6TO7.cif\n"
     ]
    },
    {
     "name": "stderr",
     "output_type": "stream",
     "text": [
      "\r",
      "342it [27:52,  6.66s/it]"
     ]
    },
    {
     "name": "stdout",
     "output_type": "stream",
     "text": [
      "getting the mapping...\n",
      "got the mapping\n",
      "Loading cif file of 4RWA\n",
      "data/mmcif/4RWA.cif\n"
     ]
    },
    {
     "name": "stderr",
     "output_type": "stream",
     "text": [
      "\r",
      "343it [27:58,  6.55s/it]"
     ]
    },
    {
     "name": "stdout",
     "output_type": "stream",
     "text": [
      "getting the mapping...\n",
      "got the mapping\n",
      "Loading cif file of 4BVN\n",
      "data/mmcif/4BVN.cif\n"
     ]
    }
   ],
   "source": [
    "data.make_raws()"
   ]
  },
  {
   "cell_type": "code",
   "execution_count": 726,
   "id": "attractive-celtic",
   "metadata": {},
   "outputs": [],
   "source": [
    "def to_pkl_dfl(dfl, folder='data/processed'):\n",
    "    for df in dfl:\n",
    "        pdb_id = df['PDB'].unique()[0]\n",
    "        df.to_pickle(folder+pdb_id)"
   ]
  },
  {
   "cell_type": "code",
   "execution_count": 739,
   "id": "destroyed-customs",
   "metadata": {},
   "outputs": [],
   "source": [
    "to_pkl_dfl(data.dfl)"
   ]
  },
  {
   "cell_type": "code",
   "execution_count": 728,
   "id": "planned-deputy",
   "metadata": {},
   "outputs": [],
   "source": [
    "data.del_pkl()"
   ]
  },
  {
   "cell_type": "code",
   "execution_count": 729,
   "id": "suspected-reception",
   "metadata": {},
   "outputs": [
    {
     "data": {
      "text/html": [
       "<div>\n",
       "<style scoped>\n",
       "    .dataframe tbody tr th:only-of-type {\n",
       "        vertical-align: middle;\n",
       "    }\n",
       "\n",
       "    .dataframe tbody tr th {\n",
       "        vertical-align: top;\n",
       "    }\n",
       "\n",
       "    .dataframe thead th {\n",
       "        text-align: right;\n",
       "    }\n",
       "</style>\n",
       "<table border=\"1\" class=\"dataframe\">\n",
       "  <thead>\n",
       "    <tr style=\"text-align: right;\">\n",
       "      <th></th>\n",
       "      <th>PDB</th>\n",
       "      <th>group_PDB</th>\n",
       "      <th>auth_asym_id</th>\n",
       "      <th>label_asym_id</th>\n",
       "      <th>label_seq_id</th>\n",
       "      <th>auth_seq_id</th>\n",
       "      <th>label_comp_id</th>\n",
       "      <th>id</th>\n",
       "      <th>label_atom_id</th>\n",
       "      <th>type_symbol</th>\n",
       "      <th>Cartn_x</th>\n",
       "      <th>Cartn_y</th>\n",
       "      <th>Cartn_z</th>\n",
       "      <th>phi</th>\n",
       "      <th>omega</th>\n",
       "      <th>psi</th>\n",
       "      <th>identifier</th>\n",
       "      <th>label_comp_sid</th>\n",
       "    </tr>\n",
       "  </thead>\n",
       "  <tbody>\n",
       "    <tr>\n",
       "      <th>3</th>\n",
       "      <td>5TE5</td>\n",
       "      <td>ATOM</td>\n",
       "      <td>A</td>\n",
       "      <td>A</td>\n",
       "      <td>2</td>\n",
       "      <td>1</td>\n",
       "      <td>MET</td>\n",
       "      <td>4</td>\n",
       "      <td>N</td>\n",
       "      <td>N</td>\n",
       "      <td>-0.020</td>\n",
       "      <td>36.119</td>\n",
       "      <td>29.547</td>\n",
       "      <td>-67.482007</td>\n",
       "      <td>175.159865</td>\n",
       "      <td>145.357602</td>\n",
       "      <td>OPSD_BOVIN</td>\n",
       "      <td>M</td>\n",
       "    </tr>\n",
       "    <tr>\n",
       "      <th>4</th>\n",
       "      <td>5TE5</td>\n",
       "      <td>ATOM</td>\n",
       "      <td>A</td>\n",
       "      <td>A</td>\n",
       "      <td>2</td>\n",
       "      <td>1</td>\n",
       "      <td>MET</td>\n",
       "      <td>5</td>\n",
       "      <td>CA</td>\n",
       "      <td>C</td>\n",
       "      <td>-0.585</td>\n",
       "      <td>36.768</td>\n",
       "      <td>28.333</td>\n",
       "      <td>-67.482007</td>\n",
       "      <td>175.159865</td>\n",
       "      <td>145.357602</td>\n",
       "      <td>OPSD_BOVIN</td>\n",
       "      <td>M</td>\n",
       "    </tr>\n",
       "    <tr>\n",
       "      <th>5</th>\n",
       "      <td>5TE5</td>\n",
       "      <td>ATOM</td>\n",
       "      <td>A</td>\n",
       "      <td>A</td>\n",
       "      <td>2</td>\n",
       "      <td>1</td>\n",
       "      <td>MET</td>\n",
       "      <td>6</td>\n",
       "      <td>C</td>\n",
       "      <td>C</td>\n",
       "      <td>-2.023</td>\n",
       "      <td>37.266</td>\n",
       "      <td>28.635</td>\n",
       "      <td>-67.482007</td>\n",
       "      <td>175.159865</td>\n",
       "      <td>145.357602</td>\n",
       "      <td>OPSD_BOVIN</td>\n",
       "      <td>M</td>\n",
       "    </tr>\n",
       "    <tr>\n",
       "      <th>6</th>\n",
       "      <td>5TE5</td>\n",
       "      <td>ATOM</td>\n",
       "      <td>A</td>\n",
       "      <td>A</td>\n",
       "      <td>2</td>\n",
       "      <td>1</td>\n",
       "      <td>MET</td>\n",
       "      <td>7</td>\n",
       "      <td>O</td>\n",
       "      <td>O</td>\n",
       "      <td>-2.789</td>\n",
       "      <td>36.587</td>\n",
       "      <td>29.415</td>\n",
       "      <td>-67.482007</td>\n",
       "      <td>175.159865</td>\n",
       "      <td>145.357602</td>\n",
       "      <td>OPSD_BOVIN</td>\n",
       "      <td>M</td>\n",
       "    </tr>\n",
       "    <tr>\n",
       "      <th>7</th>\n",
       "      <td>5TE5</td>\n",
       "      <td>ATOM</td>\n",
       "      <td>A</td>\n",
       "      <td>A</td>\n",
       "      <td>2</td>\n",
       "      <td>1</td>\n",
       "      <td>MET</td>\n",
       "      <td>8</td>\n",
       "      <td>CB</td>\n",
       "      <td>C</td>\n",
       "      <td>-0.595</td>\n",
       "      <td>35.720</td>\n",
       "      <td>27.235</td>\n",
       "      <td>-67.482007</td>\n",
       "      <td>175.159865</td>\n",
       "      <td>145.357602</td>\n",
       "      <td>OPSD_BOVIN</td>\n",
       "      <td>M</td>\n",
       "    </tr>\n",
       "    <tr>\n",
       "      <th>...</th>\n",
       "      <td>...</td>\n",
       "      <td>...</td>\n",
       "      <td>...</td>\n",
       "      <td>...</td>\n",
       "      <td>...</td>\n",
       "      <td>...</td>\n",
       "      <td>...</td>\n",
       "      <td>...</td>\n",
       "      <td>...</td>\n",
       "      <td>...</td>\n",
       "      <td>...</td>\n",
       "      <td>...</td>\n",
       "      <td>...</td>\n",
       "      <td>...</td>\n",
       "      <td>...</td>\n",
       "      <td>...</td>\n",
       "      <td>...</td>\n",
       "      <td>...</td>\n",
       "    </tr>\n",
       "    <tr>\n",
       "      <th>267032</th>\n",
       "      <td>4PHU</td>\n",
       "      <td>ATOM</td>\n",
       "      <td>A</td>\n",
       "      <td>A</td>\n",
       "      <td>454</td>\n",
       "      <td>2279</td>\n",
       "      <td>LEU</td>\n",
       "      <td>3282</td>\n",
       "      <td>CD2</td>\n",
       "      <td>C</td>\n",
       "      <td>-34.727</td>\n",
       "      <td>12.506</td>\n",
       "      <td>38.150</td>\n",
       "      <td>-83.024219</td>\n",
       "      <td>176.035892</td>\n",
       "      <td>110.280990</td>\n",
       "      <td>FFAR1_HUMAN</td>\n",
       "      <td>L</td>\n",
       "    </tr>\n",
       "    <tr>\n",
       "      <th>267033</th>\n",
       "      <td>4PHU</td>\n",
       "      <td>ATOM</td>\n",
       "      <td>A</td>\n",
       "      <td>A</td>\n",
       "      <td>455</td>\n",
       "      <td>2280</td>\n",
       "      <td>GLY</td>\n",
       "      <td>3283</td>\n",
       "      <td>N</td>\n",
       "      <td>N</td>\n",
       "      <td>-35.154</td>\n",
       "      <td>13.822</td>\n",
       "      <td>33.435</td>\n",
       "      <td>74.031599</td>\n",
       "      <td>NaN</td>\n",
       "      <td>NaN</td>\n",
       "      <td>FFAR1_HUMAN</td>\n",
       "      <td>G</td>\n",
       "    </tr>\n",
       "    <tr>\n",
       "      <th>267034</th>\n",
       "      <td>4PHU</td>\n",
       "      <td>ATOM</td>\n",
       "      <td>A</td>\n",
       "      <td>A</td>\n",
       "      <td>455</td>\n",
       "      <td>2280</td>\n",
       "      <td>GLY</td>\n",
       "      <td>3284</td>\n",
       "      <td>CA</td>\n",
       "      <td>C</td>\n",
       "      <td>-35.119</td>\n",
       "      <td>14.707</td>\n",
       "      <td>32.263</td>\n",
       "      <td>74.031599</td>\n",
       "      <td>NaN</td>\n",
       "      <td>NaN</td>\n",
       "      <td>FFAR1_HUMAN</td>\n",
       "      <td>G</td>\n",
       "    </tr>\n",
       "    <tr>\n",
       "      <th>267035</th>\n",
       "      <td>4PHU</td>\n",
       "      <td>ATOM</td>\n",
       "      <td>A</td>\n",
       "      <td>A</td>\n",
       "      <td>455</td>\n",
       "      <td>2280</td>\n",
       "      <td>GLY</td>\n",
       "      <td>3285</td>\n",
       "      <td>C</td>\n",
       "      <td>C</td>\n",
       "      <td>-35.088</td>\n",
       "      <td>13.976</td>\n",
       "      <td>30.939</td>\n",
       "      <td>74.031599</td>\n",
       "      <td>NaN</td>\n",
       "      <td>NaN</td>\n",
       "      <td>FFAR1_HUMAN</td>\n",
       "      <td>G</td>\n",
       "    </tr>\n",
       "    <tr>\n",
       "      <th>267036</th>\n",
       "      <td>4PHU</td>\n",
       "      <td>ATOM</td>\n",
       "      <td>A</td>\n",
       "      <td>A</td>\n",
       "      <td>455</td>\n",
       "      <td>2280</td>\n",
       "      <td>GLY</td>\n",
       "      <td>3286</td>\n",
       "      <td>O</td>\n",
       "      <td>O</td>\n",
       "      <td>-34.015</td>\n",
       "      <td>13.710</td>\n",
       "      <td>30.405</td>\n",
       "      <td>74.031599</td>\n",
       "      <td>NaN</td>\n",
       "      <td>NaN</td>\n",
       "      <td>FFAR1_HUMAN</td>\n",
       "      <td>G</td>\n",
       "    </tr>\n",
       "  </tbody>\n",
       "</table>\n",
       "<p>266981 rows × 18 columns</p>\n",
       "</div>"
      ],
      "text/plain": [
       "         PDB group_PDB auth_asym_id label_asym_id  label_seq_id auth_seq_id  \\\n",
       "3       5TE5      ATOM            A             A             2           1   \n",
       "4       5TE5      ATOM            A             A             2           1   \n",
       "5       5TE5      ATOM            A             A             2           1   \n",
       "6       5TE5      ATOM            A             A             2           1   \n",
       "7       5TE5      ATOM            A             A             2           1   \n",
       "...      ...       ...          ...           ...           ...         ...   \n",
       "267032  4PHU      ATOM            A             A           454        2279   \n",
       "267033  4PHU      ATOM            A             A           455        2280   \n",
       "267034  4PHU      ATOM            A             A           455        2280   \n",
       "267035  4PHU      ATOM            A             A           455        2280   \n",
       "267036  4PHU      ATOM            A             A           455        2280   \n",
       "\n",
       "       label_comp_id    id label_atom_id type_symbol  Cartn_x Cartn_y Cartn_z  \\\n",
       "3                MET     4             N           N   -0.020  36.119  29.547   \n",
       "4                MET     5            CA           C   -0.585  36.768  28.333   \n",
       "5                MET     6             C           C   -2.023  37.266  28.635   \n",
       "6                MET     7             O           O   -2.789  36.587  29.415   \n",
       "7                MET     8            CB           C   -0.595  35.720  27.235   \n",
       "...              ...   ...           ...         ...      ...     ...     ...   \n",
       "267032           LEU  3282           CD2           C  -34.727  12.506  38.150   \n",
       "267033           GLY  3283             N           N  -35.154  13.822  33.435   \n",
       "267034           GLY  3284            CA           C  -35.119  14.707  32.263   \n",
       "267035           GLY  3285             C           C  -35.088  13.976  30.939   \n",
       "267036           GLY  3286             O           O  -34.015  13.710  30.405   \n",
       "\n",
       "              phi       omega         psi   identifier label_comp_sid  \n",
       "3      -67.482007  175.159865  145.357602   OPSD_BOVIN              M  \n",
       "4      -67.482007  175.159865  145.357602   OPSD_BOVIN              M  \n",
       "5      -67.482007  175.159865  145.357602   OPSD_BOVIN              M  \n",
       "6      -67.482007  175.159865  145.357602   OPSD_BOVIN              M  \n",
       "7      -67.482007  175.159865  145.357602   OPSD_BOVIN              M  \n",
       "...           ...         ...         ...          ...            ...  \n",
       "267032 -83.024219  176.035892  110.280990  FFAR1_HUMAN              L  \n",
       "267033  74.031599         NaN         NaN  FFAR1_HUMAN              G  \n",
       "267034  74.031599         NaN         NaN  FFAR1_HUMAN              G  \n",
       "267035  74.031599         NaN         NaN  FFAR1_HUMAN              G  \n",
       "267036  74.031599         NaN         NaN  FFAR1_HUMAN              G  \n",
       "\n",
       "[266981 rows x 18 columns]"
      ]
     },
     "execution_count": 729,
     "metadata": {},
     "output_type": "execute_result"
    }
   ],
   "source": [
    "data.structure"
   ]
  },
  {
   "cell_type": "code",
   "execution_count": 730,
   "id": "daily-teach",
   "metadata": {},
   "outputs": [],
   "source": [
    "data.to_pkl()"
   ]
  },
  {
   "cell_type": "code",
   "execution_count": 731,
   "id": "adjustable-routine",
   "metadata": {},
   "outputs": [],
   "source": [
    "data.del_pkl_metainfo()"
   ]
  },
  {
   "cell_type": "code",
   "execution_count": 732,
   "id": "extreme-certification",
   "metadata": {},
   "outputs": [],
   "source": [
    "data.to_pkl_metainfo()"
   ]
  },
  {
   "cell_type": "code",
   "execution_count": 733,
   "id": "divided-cleanup",
   "metadata": {},
   "outputs": [],
   "source": [
    "data.read_pkl_metainfo()"
   ]
  },
  {
   "cell_type": "code",
   "execution_count": 734,
   "id": "patent-graph",
   "metadata": {},
   "outputs": [],
   "source": [
    "data.read_dfl()"
   ]
  },
  {
   "cell_type": "code",
   "execution_count": 736,
   "id": "capital-project",
   "metadata": {},
   "outputs": [
    {
     "name": "stdout",
     "output_type": "stream",
     "text": [
      "trying to assign generic nubmers to 5TE5\n",
      "Index(['author_residue_number', 'author_insertion_code', 'residue_number'], dtype='object')\n",
      "trying to assign generic nubmers to 6AKX\n",
      "Index(['author_residue_number', 'author_insertion_code', 'residue_number',\n",
      "       'author_residue_number', 'author_insertion_code', 'residue_number',\n",
      "       'author_residue_number', 'author_insertion_code', 'residue_number'],\n",
      "      dtype='object')\n",
      "trying to assign generic nubmers to 5V56\n",
      "Index(['author_residue_number', 'author_insertion_code', 'residue_number',\n",
      "       'author_residue_number', 'author_insertion_code', 'residue_number',\n",
      "       'author_residue_number', 'author_insertion_code', 'residue_number'],\n",
      "      dtype='object')\n",
      "trying to assign generic nubmers to 6TPG\n",
      "Index(['author_residue_number', 'author_insertion_code', 'residue_number',\n",
      "       'author_residue_number', 'author_insertion_code', 'residue_number',\n",
      "       'author_residue_number', 'author_insertion_code', 'residue_number'],\n",
      "      dtype='object')\n",
      "trying to assign generic nubmers to 6FKB\n",
      "Index(['author_residue_number', 'author_insertion_code', 'residue_number'], dtype='object')\n",
      "trying to assign generic nubmers to 1HZX\n",
      "Index(['author_residue_number', 'author_insertion_code', 'residue_number'], dtype='object')\n",
      "trying to assign generic nubmers to 6TP4\n",
      "Index(['author_residue_number', 'author_insertion_code', 'residue_number'], dtype='object')\n",
      "trying to assign generic nubmers to 4PXF\n",
      "Index(['author_residue_number', 'author_insertion_code', 'residue_number'], dtype='object')\n",
      "trying to assign generic nubmers to 6TP6\n",
      "Index(['author_residue_number', 'author_insertion_code', 'residue_number'], dtype='object')\n",
      "trying to assign generic nubmers to 6X1A\n",
      "Index(['author_residue_number', 'author_insertion_code', 'residue_number'], dtype='object')\n",
      "trying to assign generic nubmers to 4UG2\n",
      "Index(['author_residue_number', 'author_insertion_code', 'residue_number'], dtype='object')\n",
      "trying to assign generic nubmers to 7CRH\n",
      "Index(['author_residue_number', 'author_insertion_code', 'residue_number'], dtype='object')\n",
      "trying to assign generic nubmers to 5ZKQ\n",
      "Index(['author_residue_number', 'author_insertion_code', 'residue_number',\n",
      "       'author_residue_number', 'author_insertion_code', 'residue_number',\n",
      "       'author_residue_number', 'author_insertion_code', 'residue_number'],\n",
      "      dtype='object')\n",
      "trying to assign generic nubmers to 6P9X\n",
      "Index(['author_residue_number', 'author_insertion_code', 'residue_number'], dtype='object')\n",
      "trying to assign generic nubmers to 2X72\n",
      "Index(['author_residue_number', 'author_insertion_code', 'residue_number'], dtype='object')\n",
      "trying to assign generic nubmers to 6LUQ\n",
      "Index(['author_residue_number', 'author_insertion_code', 'residue_number',\n",
      "       'author_residue_number', 'author_insertion_code', 'residue_number',\n",
      "       'author_residue_number', 'author_insertion_code', 'residue_number'],\n",
      "      dtype='object')\n",
      "trying to assign generic nubmers to 5MZJ\n",
      "Index(['author_residue_number', 'author_insertion_code', 'residue_number',\n",
      "       'author_residue_number', 'author_insertion_code', 'residue_number',\n",
      "       'author_residue_number', 'author_insertion_code', 'residue_number'],\n",
      "      dtype='object')\n",
      "trying to assign generic nubmers to 5JTB\n",
      "Index(['author_residue_number', 'author_insertion_code', 'residue_number',\n",
      "       'author_residue_number', 'author_insertion_code', 'residue_number',\n",
      "       'author_residue_number', 'author_insertion_code', 'residue_number'],\n",
      "      dtype='object')\n",
      "trying to assign generic nubmers to 3C9L\n",
      "Index(['author_residue_number', 'author_insertion_code', 'residue_number'], dtype='object')\n",
      "trying to assign generic nubmers to 6UUS\n",
      "Index(['author_residue_number', 'author_insertion_code', 'residue_number'], dtype='object')\n",
      "trying to assign generic nubmers to 6N48\n",
      "Index(['author_residue_number', 'author_insertion_code', 'residue_number'], dtype='object')\n",
      "trying to assign generic nubmers to 5VEX\n",
      "Index(['author_residue_number', 'author_insertion_code', 'residue_number',\n",
      "       'author_residue_number', 'author_insertion_code', 'residue_number',\n",
      "       'author_residue_number', 'author_insertion_code', 'residue_number',\n",
      "       'author_residue_number', 'author_insertion_code', 'residue_number',\n",
      "       'author_residue_number', 'author_insertion_code', 'residue_number'],\n",
      "      dtype='object')\n",
      "trying to assign generic nubmers to 6AKY\n",
      "Index(['author_residue_number', 'author_insertion_code', 'residue_number',\n",
      "       'author_residue_number', 'author_insertion_code', 'residue_number',\n",
      "       'author_residue_number', 'author_insertion_code', 'residue_number'],\n",
      "      dtype='object')\n",
      "trying to assign generic nubmers to 2I35\n",
      "Index(['author_residue_number', 'author_insertion_code', 'residue_number'], dtype='object')\n",
      "trying to assign generic nubmers to 4BEY\n",
      "Index(['author_residue_number', 'author_insertion_code', 'residue_number'], dtype='object')\n",
      "trying to assign generic nubmers to 2Z73\n",
      "Index(['author_residue_number', 'author_insertion_code', 'residue_number'], dtype='object')\n",
      "trying to assign generic nubmers to 3RFM\n",
      "Index(['author_residue_number', 'author_insertion_code', 'residue_number'], dtype='object')\n",
      "trying to assign generic nubmers to 6FKC\n",
      "Index(['author_residue_number', 'author_insertion_code', 'residue_number'], dtype='object')\n",
      "trying to assign generic nubmers to 3DQB\n",
      "Index(['author_residue_number', 'author_insertion_code', 'residue_number'], dtype='object')\n",
      "trying to assign generic nubmers to 2rh1\n",
      "trying to assign generic nubmers to 5GLH\n",
      "Index(['author_residue_number', 'author_insertion_code', 'residue_number',\n",
      "       'author_residue_number', 'author_insertion_code', 'residue_number',\n",
      "       'author_residue_number', 'author_insertion_code', 'residue_number'],\n",
      "      dtype='object')\n",
      "trying to assign generic nubmers to 6J20\n",
      "Index(['author_residue_number', 'author_insertion_code', 'residue_number',\n",
      "       'author_residue_number', 'author_insertion_code', 'residue_number',\n",
      "       'author_residue_number', 'author_insertion_code', 'residue_number'],\n",
      "      dtype='object')\n",
      "trying to assign generic nubmers to 7DHR\n",
      "Index(['author_residue_number', 'author_insertion_code', 'residue_number'], dtype='object')\n",
      "trying to assign generic nubmers to 5ZBQ\n",
      "Index(['author_residue_number', 'author_insertion_code', 'residue_number',\n",
      "       'author_residue_number', 'author_insertion_code', 'residue_number'],\n",
      "      dtype='object')\n",
      "trying to assign generic nubmers to 6UO9\n",
      "Index(['author_residue_number', 'author_insertion_code', 'residue_number'], dtype='object')\n",
      "trying to assign generic nubmers to 7CA3\n",
      "Index(['author_residue_number', 'author_insertion_code', 'residue_number'], dtype='object')\n",
      "trying to assign generic nubmers to 6OBA\n",
      "Index(['author_residue_number', 'author_insertion_code', 'residue_number',\n",
      "       'author_residue_number', 'author_insertion_code', 'residue_number',\n",
      "       'author_residue_number', 'author_insertion_code', 'residue_number'],\n",
      "      dtype='object')\n",
      "trying to assign generic nubmers to 6JZH\n",
      "Index(['author_residue_number', 'author_insertion_code', 'residue_number',\n",
      "       'author_residue_number', 'author_insertion_code', 'residue_number',\n",
      "       'author_residue_number', 'author_insertion_code', 'residue_number'],\n",
      "      dtype='object')\n",
      "trying to assign generic nubmers to 4BVN\n",
      "Index(['author_residue_number', 'author_insertion_code', 'residue_number'], dtype='object')\n",
      "trying to assign generic nubmers to 6P9Y\n",
      "Index(['author_residue_number', 'author_insertion_code', 'residue_number'], dtype='object')\n",
      "trying to assign generic nubmers to 1U19\n",
      "Index(['author_residue_number', 'author_insertion_code', 'residue_number'], dtype='object')\n",
      "trying to assign generic nubmers to 5ZK8\n",
      "Index(['author_residue_number', 'author_insertion_code', 'residue_number',\n",
      "       'author_residue_number', 'author_insertion_code', 'residue_number',\n",
      "       'author_residue_number', 'author_insertion_code', 'residue_number'],\n",
      "      dtype='object')\n",
      "trying to assign generic nubmers to 5DGY\n",
      "Index(['author_residue_number', 'author_insertion_code', 'residue_number',\n",
      "       'author_residue_number', 'author_insertion_code', 'residue_number',\n",
      "       'author_residue_number', 'author_insertion_code', 'residue_number'],\n",
      "      dtype='object')\n"
     ]
    },
    {
     "name": "stdout",
     "output_type": "stream",
     "text": [
      "trying to assign generic nubmers to 6ME9\n",
      "Index(['author_residue_number', 'author_insertion_code', 'residue_number',\n",
      "       'author_residue_number', 'author_insertion_code', 'residue_number',\n",
      "       'author_residue_number', 'author_insertion_code', 'residue_number',\n",
      "       'author_residue_number', 'author_insertion_code', 'residue_number'],\n",
      "      dtype='object')\n",
      "trying to assign generic nubmers to 4LDO\n",
      "Index(['author_residue_number', 'author_insertion_code', 'residue_number',\n",
      "       'author_residue_number', 'author_insertion_code', 'residue_number'],\n",
      "      dtype='object')\n",
      "trying to assign generic nubmers to 3AYM\n",
      "Index(['author_residue_number', 'author_insertion_code', 'residue_number'], dtype='object')\n",
      "trying to assign generic nubmers to 4RWS\n",
      "Index(['author_residue_number', 'author_insertion_code', 'residue_number',\n",
      "       'author_residue_number', 'author_insertion_code', 'residue_number',\n",
      "       'author_residue_number', 'author_insertion_code', 'residue_number'],\n",
      "      dtype='object')\n",
      "trying to assign generic nubmers to 6LI0\n",
      "Index(['author_residue_number', 'author_insertion_code', 'residue_number',\n",
      "       'author_residue_number', 'author_insertion_code', 'residue_number',\n",
      "       'author_residue_number', 'author_insertion_code', 'residue_number'],\n",
      "      dtype='object')\n",
      "trying to assign generic nubmers to 6S0Q\n",
      "Index(['author_residue_number', 'author_insertion_code', 'residue_number',\n",
      "       'author_residue_number', 'author_insertion_code', 'residue_number',\n",
      "       'author_residue_number', 'author_insertion_code', 'residue_number'],\n",
      "      dtype='object')\n",
      "trying to assign generic nubmers to 4PHU\n",
      "Index(['author_residue_number', 'author_insertion_code', 'residue_number',\n",
      "       'author_residue_number', 'author_insertion_code', 'residue_number',\n",
      "       'author_residue_number', 'author_insertion_code', 'residue_number'],\n",
      "      dtype='object')\n"
     ]
    }
   ],
   "source": [
    "data.assign_generic_numbers(overwrite=True)"
   ]
  },
  {
   "cell_type": "code",
   "execution_count": 738,
   "id": "competent-engagement",
   "metadata": {},
   "outputs": [
    {
     "data": {
      "image/png": "[encoded data removed]",
      "text/plain": [
       "<Figure size 1728x864 with 2 Axes>"
      ]
     },
     "metadata": {
      "needs_background": "light"
     },
     "output_type": "display_data"
    }
   ],
   "source": [
    "%matplotlib inline\n",
    "data.plot_angles_for_gen_pos(region=[8.45, 8.55])\n",
    "data.plot_angles_for_gen_pos(region=[7.40, 7.60])\n",
    "data.plot_angles_for_gen_pos(region=[8.45, 8.55])"
   ]
  },
  {
   "cell_type": "code",
   "execution_count": null,
   "id": "prompt-principal",
   "metadata": {},
   "outputs": [],
   "source": []
  },
  {
   "cell_type": "code",
   "execution_count": null,
   "id": "concerned-focus",
   "metadata": {},
   "outputs": [],
   "source": []
  },
  {
   "cell_type": "code",
   "execution_count": null,
   "id": "seeing-solomon",
   "metadata": {},
   "outputs": [],
   "source": []
  },
  {
   "cell_type": "code",
   "execution_count": null,
   "id": "pressing-calibration",
   "metadata": {},
   "outputs": [],
   "source": []
  },
  {
   "cell_type": "code",
   "execution_count": null,
   "id": "applied-joyce",
   "metadata": {},
   "outputs": [],
   "source": []
  },
  {
   "cell_type": "code",
   "execution_count": null,
   "id": "virtual-cookie",
   "metadata": {},
   "outputs": [],
   "source": []
  },
  {
   "cell_type": "markdown",
   "id": "cultural-accused",
   "metadata": {},
   "source": [
    "# CifLoader"
   ]
  },
  {
   "cell_type": "code",
   "execution_count": 312,
   "id": "selected-charity",
   "metadata": {},
   "outputs": [],
   "source": [
    "# 1 get pdb list"
   ]
  },
  {
   "cell_type": "code",
   "execution_count": 313,
   "id": "worst-drink",
   "metadata": {},
   "outputs": [],
   "source": [
    "# 2 check list of raw dataframes"
   ]
  },
  {
   "cell_type": "code",
   "execution_count": 314,
   "id": "funky-return",
   "metadata": {},
   "outputs": [],
   "source": [
    "# 3 if reload reload anyway, otw only process missing structures"
   ]
  },
  {
   "cell_type": "code",
   "execution_count": 315,
   "id": "surface-breast",
   "metadata": {},
   "outputs": [],
   "source": [
    "# 4 save as pkl"
   ]
  },
  {
   "cell_type": "code",
   "execution_count": 316,
   "id": "elementary-charm",
   "metadata": {},
   "outputs": [],
   "source": [
    "# 5 load pkl individually (and the full table, numbering and mapping dataframes)"
   ]
  },
  {
   "cell_type": "code",
   "execution_count": 317,
   "id": "funky-specification",
   "metadata": {},
   "outputs": [],
   "source": [
    "# 6 individually for each pdb generate position numbers"
   ]
  },
  {
   "cell_type": "code",
   "execution_count": 318,
   "id": "premium-election",
   "metadata": {},
   "outputs": [],
   "source": [
    "# 7 store structs"
   ]
  },
  {
   "cell_type": "markdown",
   "id": "incident-prospect",
   "metadata": {},
   "source": [
    "# StructLoader"
   ]
  },
  {
   "cell_type": "code",
   "execution_count": 319,
   "id": "improved-turning",
   "metadata": {},
   "outputs": [],
   "source": [
    "# 8 load structs (structs dataloader) and table\n",
    "# btw how do i get the affinities?"
   ]
  },
  {
   "cell_type": "code",
   "execution_count": 320,
   "id": "medical-invention",
   "metadata": {},
   "outputs": [],
   "source": [
    "# 9 plot structs"
   ]
  },
  {
   "cell_type": "code",
   "execution_count": 321,
   "id": "electronic-portland",
   "metadata": {},
   "outputs": [],
   "source": [
    "# 10plot deltas (make interaction map based on genes)"
   ]
  },
  {
   "cell_type": "code",
   "execution_count": 322,
   "id": "interior-fireplace",
   "metadata": {},
   "outputs": [],
   "source": [
    "# 11inut features"
   ]
  },
  {
   "cell_type": "code",
   "execution_count": null,
   "id": "three-reviewer",
   "metadata": {},
   "outputs": [],
   "source": []
  },
  {
   "cell_type": "code",
   "execution_count": null,
   "id": "artificial-lender",
   "metadata": {},
   "outputs": [],
   "source": []
  },
  {
   "cell_type": "code",
   "execution_count": null,
   "id": "large-devon",
   "metadata": {},
   "outputs": [],
   "source": []
  },
  {
   "cell_type": "markdown",
   "id": "latter-container",
   "metadata": {},
   "source": [
    "# GPROTEINS"
   ]
  },
  {
   "cell_type": "code",
   "execution_count": null,
   "id": "third-proposal",
   "metadata": {},
   "outputs": [],
   "source": []
  },
  {
   "cell_type": "code",
   "execution_count": null,
   "id": "cutting-basketball",
   "metadata": {},
   "outputs": [],
   "source": []
  },
  {
   "cell_type": "code",
   "execution_count": null,
   "id": "underlying-crazy",
   "metadata": {},
   "outputs": [],
   "source": []
  },
  {
   "cell_type": "markdown",
   "id": "adaptive-branch",
   "metadata": {},
   "source": [
    "# AFFINITIES"
   ]
  },
  {
   "cell_type": "code",
   "execution_count": null,
   "id": "collective-intention",
   "metadata": {},
   "outputs": [],
   "source": []
  },
  {
   "cell_type": "code",
   "execution_count": null,
   "id": "addressed-particle",
   "metadata": {},
   "outputs": [],
   "source": []
  },
  {
   "cell_type": "code",
   "execution_count": null,
   "id": "widespread-afternoon",
   "metadata": {},
   "outputs": [],
   "source": []
  },
  {
   "cell_type": "code",
   "execution_count": null,
   "id": "paperback-beads",
   "metadata": {},
   "outputs": [],
   "source": []
  }
 ],
 "metadata": {
  "kernelspec": {
   "display_name": "Python 3",
   "language": "python",
   "name": "python3"
  },
  "language_info": {
   "codemirror_mode": {
    "name": "ipython",
    "version": 3
   },
   "file_extension": ".py",
   "mimetype": "text/x-python",
   "name": "python",
   "nbconvert_exporter": "python",
   "pygments_lexer": "ipython3",
   "version": "3.7.7"
  }
 },
 "nbformat": 4,
 "nbformat_minor": 5
}
