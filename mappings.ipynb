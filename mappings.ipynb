{
 "cells": [
  {
   "cell_type": "code",
   "execution_count": 1,
   "id": "velvet-lesbian",
   "metadata": {},
   "outputs": [],
   "source": [
    "from utils3 import *"
   ]
  },
  {
   "cell_type": "code",
   "execution_count": 3,
   "id": "peripheral-tomorrow",
   "metadata": {},
   "outputs": [],
   "source": [
    "mapping = get_uniprot_pdb_residue_mapping('7DHI', chain_id='R')"
   ]
  },
  {
   "cell_type": "code",
   "execution_count": 26,
   "id": "operating-incidence",
   "metadata": {},
   "outputs": [
    {
     "data": {
      "text/plain": [
       "{'7dhi': {'UniProt': {'P07550': {'identifier': 'ADRB2_HUMAN',\n",
       "    'name': 'ADRB2_HUMAN',\n",
       "    'mappings': [{'entity_id': 5,\n",
       "      'end': {'author_residue_number': None,\n",
       "       'author_insertion_code': '',\n",
       "       'residue_number': 357},\n",
       "      'chain_id': 'R',\n",
       "      'start': {'author_residue_number': None,\n",
       "       'author_insertion_code': '',\n",
       "       'residue_number': 25},\n",
       "      'unp_end': 348,\n",
       "      'unp_start': 1,\n",
       "      'struct_asym_id': 'E'}]},\n",
       "   'P62871': {'identifier': 'GBB1_BOVIN',\n",
       "    'name': 'GBB1_BOVIN',\n",
       "    'mappings': [{'entity_id': 2,\n",
       "      'end': {'author_residue_number': 340,\n",
       "       'author_insertion_code': '',\n",
       "       'residue_number': 340},\n",
       "      'chain_id': 'B',\n",
       "      'start': {'author_residue_number': None,\n",
       "       'author_insertion_code': '',\n",
       "       'residue_number': 1},\n",
       "      'unp_end': 340,\n",
       "      'unp_start': 1,\n",
       "      'struct_asym_id': 'B'}]},\n",
       "   'P63092': {'identifier': 'GNAS2_HUMAN',\n",
       "    'name': 'GNAS2_HUMAN',\n",
       "    'mappings': [{'entity_id': 1,\n",
       "      'end': {'author_residue_number': 394,\n",
       "       'author_insertion_code': '',\n",
       "       'residue_number': 395},\n",
       "      'chain_id': 'A',\n",
       "      'start': {'author_residue_number': None,\n",
       "       'author_insertion_code': '',\n",
       "       'residue_number': 2},\n",
       "      'unp_end': 394,\n",
       "      'unp_start': 1,\n",
       "      'struct_asym_id': 'A'}]},\n",
       "   'P63212': {'identifier': 'GBG2_BOVIN',\n",
       "    'name': 'GBG2_BOVIN',\n",
       "    'mappings': [{'entity_id': 3,\n",
       "      'end': {'author_residue_number': None,\n",
       "       'author_insertion_code': '',\n",
       "       'residue_number': 78},\n",
       "      'chain_id': 'G',\n",
       "      'start': {'author_residue_number': None,\n",
       "       'author_insertion_code': '',\n",
       "       'residue_number': 8},\n",
       "      'unp_end': 71,\n",
       "      'unp_start': 1,\n",
       "      'struct_asym_id': 'C'}]}}}}"
      ]
     },
     "execution_count": 26,
     "metadata": {},
     "output_type": "execute_result"
    }
   ],
   "source": [
    "mapping"
   ]
  },
  {
   "cell_type": "code",
   "execution_count": 21,
   "id": "polished-benchmark",
   "metadata": {},
   "outputs": [
    {
     "name": "stdout",
     "output_type": "stream",
     "text": [
      "{'identifier': 'ADRB2_HUMAN', 'name': 'ADRB2_HUMAN', 'mappings': [{'entity_id': 5, 'end': {'author_residue_number': None, 'author_insertion_code': '', 'residue_number': 357}, 'chain_id': 'R', 'start': {'author_residue_number': None, 'author_insertion_code': '', 'residue_number': 25}, 'unp_end': 348, 'unp_start': 1, 'struct_asym_id': 'E'}]}\n"
     ]
    }
   ],
   "source": [
    "for _ in mapping['7DHI'.lower()]['UniProt']:\n",
    "    if mapping['7DHI'.lower()]['UniProt'][_]['mappings'][0]['chain_id'] == 'R':\n",
    "        uniprot = _\n",
    "        identifier = mapping['7DHI'.lower()]['UniProt'][_]['identifier']\n",
    "        end = mapping['7DHI'.lower()]['UniProt'][_]['mappings'][0]['end']['residue_number']\n",
    "        start = mapping['7DHI'.lower()]['UniProt'][_]['mappings'][0]['start']['residue_number']\n",
    "        unp_end = mapping['7DHI'.lower()]['UniProt'][_]['mappings'][0]['unp_end']\n",
    "        unp_start = mapping['7DHI'.lower()]['UniProt'][_]['mappings'][0]['unp_start']"
   ]
  },
  {
   "cell_type": "code",
   "execution_count": 22,
   "id": "finite-least",
   "metadata": {},
   "outputs": [
    {
     "data": {
      "text/plain": [
       "357"
      ]
     },
     "execution_count": 22,
     "metadata": {},
     "output_type": "execute_result"
    }
   ],
   "source": [
    "end"
   ]
  },
  {
   "cell_type": "code",
   "execution_count": 23,
   "id": "smart-amsterdam",
   "metadata": {},
   "outputs": [
    {
     "data": {
      "text/plain": [
       "25"
      ]
     },
     "execution_count": 23,
     "metadata": {},
     "output_type": "execute_result"
    }
   ],
   "source": [
    "start"
   ]
  },
  {
   "cell_type": "code",
   "execution_count": 24,
   "id": "invalid-boutique",
   "metadata": {},
   "outputs": [
    {
     "data": {
      "text/plain": [
       "348"
      ]
     },
     "execution_count": 24,
     "metadata": {},
     "output_type": "execute_result"
    }
   ],
   "source": [
    "unp_end"
   ]
  },
  {
   "cell_type": "code",
   "execution_count": 25,
   "id": "israeli-reconstruction",
   "metadata": {},
   "outputs": [
    {
     "data": {
      "text/plain": [
       "1"
      ]
     },
     "execution_count": 25,
     "metadata": {},
     "output_type": "execute_result"
    }
   ],
   "source": [
    "unp_start"
   ]
  },
  {
   "cell_type": "code",
   "execution_count": null,
   "id": "latter-engineer",
   "metadata": {},
   "outputs": [],
   "source": []
  }
 ],
 "metadata": {
  "kernelspec": {
   "display_name": "Python 3",
   "language": "python",
   "name": "python3"
  },
  "language_info": {
   "codemirror_mode": {
    "name": "ipython",
    "version": 3
   },
   "file_extension": ".py",
   "mimetype": "text/x-python",
   "name": "python",
   "nbconvert_exporter": "python",
   "pygments_lexer": "ipython3",
   "version": "3.7.7"
  }
 },
 "nbformat": 4,
 "nbformat_minor": 5
}
